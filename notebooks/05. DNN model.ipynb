{
 "cells": [
  {
   "cell_type": "code",
   "execution_count": 1,
   "metadata": {},
   "outputs": [],
   "source": [
    "import os\n",
    "import sys\n",
    "sys.path.append(os.path.abspath(os.path.join(os.path.dirname('src'), '..')))\n",
    "\n",
    "import wandb\n",
    "import torch\n",
    "import torch.nn as nn\n",
    "import torch.optim as optim\n",
    "from torch.utils.data import DataLoader\n",
    "import torch.optim.lr_scheduler as lr\n",
    "from src.DataLoader import TableDatasetPath, TableDatasetDF\n",
    "from functools import partial\n",
    "from sklearn.utils.class_weight import compute_class_weight\n",
    "import matplotlib.pyplot as plt\n",
    "from src.tools import *\n",
    "from src.Focal_loss import *\n",
    "from src.trainer import Trainer\n",
    "from sklearn.preprocessing import StandardScaler\n",
    "device = torch.device('cuda' if torch.cuda.is_available() else 'cpu')"
   ]
  },
  {
   "cell_type": "code",
   "execution_count": 3,
   "metadata": {},
   "outputs": [],
   "source": [
    "BATCH_SIZE = 256\n",
    "INIT_PARAM = 1024\n",
    "NUM_FEATURES = 80"
   ]
  },
  {
   "cell_type": "code",
   "execution_count": 4,
   "metadata": {},
   "outputs": [],
   "source": [
    "df = pd.read_csv('../data/data_fe.csv')\n",
    "feature_importance = pd.read_csv('../data/feature_imporstance_WS.csv')"
   ]
  },
  {
   "cell_type": "code",
   "execution_count": null,
   "metadata": {},
   "outputs": [],
   "source": [
    "features = list(feature_importance.iloc[:NUM_FEATURES]['feature_names'])\n",
    "df = df[features + ['Machine failure']]\n",
    "\n",
    "X_train,X_test,y_train,y_test = train_test_split(df.drop(columns=['Machine failure']),\n",
    "                                                 df['Machine failure'],\n",
    "                                                 shuffle=True,\n",
    "                                                 stratify=df['Machine failure'], random_state=42)"
   ]
  },
  {
   "cell_type": "code",
   "execution_count": 11,
   "metadata": {},
   "outputs": [],
   "source": [
    "X_train = pd.DataFrame(X_train).reset_index(drop = True)\n",
    "X_test = pd.DataFrame(X_test).reset_index(drop = True)\n",
    "y_train = y_train.reset_index(drop = True)\n",
    "y_test = y_test.reset_index(drop = True)"
   ]
  },
  {
   "cell_type": "code",
   "execution_count": 12,
   "metadata": {},
   "outputs": [],
   "source": [
    "df_train = pd.concat([X_train, y_train], axis=1)\n",
    "df_test = pd.concat([X_test, y_test], axis = 1)\n",
    "\n",
    "train_dataset = TableDatasetDF(df_train)\n",
    "val_dataset = TableDatasetDF(df_test)"
   ]
  },
  {
   "cell_type": "code",
   "execution_count": 13,
   "metadata": {},
   "outputs": [],
   "source": [
    "train_dl = DataLoader(\n",
    "    train_dataset, \n",
    "    batch_size=BATCH_SIZE, \n",
    "    shuffle=True\n",
    ")\n",
    "\n",
    "val_dl = DataLoader(\n",
    "    val_dataset,\n",
    "    batch_size=BATCH_SIZE, \n",
    "    shuffle=True\n",
    ")"
   ]
  },
  {
   "cell_type": "code",
   "execution_count": 2,
   "metadata": {},
   "outputs": [
    {
     "name": "stderr",
     "output_type": "stream",
     "text": [
      "Failed to detect the name of this notebook, you can set it manually with the WANDB_NOTEBOOK_NAME environment variable to enable code saving.\n",
      "wandb: Currently logged in as: dmitrii_fomin (dmitrii_fomin_uga). Use `wandb login --relogin` to force relogin\n"
     ]
    },
    {
     "data": {
      "text/html": [
       "wandb version 0.15.0 is available!  To upgrade, please run:\n",
       " $ pip install wandb --upgrade"
      ],
      "text/plain": [
       "<IPython.core.display.HTML object>"
      ]
     },
     "metadata": {},
     "output_type": "display_data"
    },
    {
     "data": {
      "text/html": [
       "Tracking run with wandb version 0.13.6"
      ],
      "text/plain": [
       "<IPython.core.display.HTML object>"
      ]
     },
     "metadata": {},
     "output_type": "display_data"
    },
    {
     "data": {
      "text/html": [
       "Run data is saved locally in <code>../logs/wandb\\run-20230424_011111-bupnq88d</code>"
      ],
      "text/plain": [
       "<IPython.core.display.HTML object>"
      ]
     },
     "metadata": {},
     "output_type": "display_data"
    },
    {
     "data": {
      "text/html": [
       "Syncing run <strong><a href=\"https://wandb.ai/dmitrii_fomin_uga/Internship_project/runs/bupnq88d\" target=\"_blank\">fe_128_1024_50</a></strong> to <a href=\"https://wandb.ai/dmitrii_fomin_uga/Internship_project\" target=\"_blank\">Weights & Biases</a> (<a href=\"https://wandb.me/run\" target=\"_blank\">docs</a>)<br/>"
      ],
      "text/plain": [
       "<IPython.core.display.HTML object>"
      ]
     },
     "metadata": {},
     "output_type": "display_data"
    },
    {
     "name": "stderr",
     "output_type": "stream",
     "text": [
      "I'm studying hard now🧐, don't disturb!: 100%|██████████| 8/8 [00:03<00:00,  2.56it/s]\n",
      "Let's see how good I am...: 100%|██████████| 3/3 [00:00<00:00,  6.10it/s]\n"
     ]
    },
    {
     "name": "stdout",
     "output_type": "stream",
     "text": [
      "Epoch: 1 of 40, 0.065 min\n"
     ]
    },
    {
     "name": "stderr",
     "output_type": "stream",
     "text": [
      "I'm studying hard now🧐, don't disturb!: 100%|██████████| 8/8 [00:01<00:00,  5.14it/s]\n",
      "Let's see how good I am...: 100%|██████████| 3/3 [00:00<00:00,  6.24it/s]\n"
     ]
    },
    {
     "name": "stdout",
     "output_type": "stream",
     "text": [
      "Epoch: 2 of 40, 0.038 min\n"
     ]
    },
    {
     "name": "stderr",
     "output_type": "stream",
     "text": [
      "I'm studying hard now🧐, don't disturb!: 100%|██████████| 8/8 [00:01<00:00,  5.31it/s]\n",
      "Let's see how good I am...: 100%|██████████| 3/3 [00:00<00:00,  6.42it/s]\n"
     ]
    },
    {
     "name": "stdout",
     "output_type": "stream",
     "text": [
      "Epoch: 3 of 40, 0.037 min\n"
     ]
    },
    {
     "name": "stderr",
     "output_type": "stream",
     "text": [
      "I'm studying hard now🧐, don't disturb!: 100%|██████████| 8/8 [00:01<00:00,  4.96it/s]\n",
      "Let's see how good I am...: 100%|██████████| 3/3 [00:00<00:00,  5.75it/s]\n"
     ]
    },
    {
     "name": "stdout",
     "output_type": "stream",
     "text": [
      "Epoch: 4 of 40, 0.040 min\n"
     ]
    },
    {
     "name": "stderr",
     "output_type": "stream",
     "text": [
      "I'm studying hard now🧐, don't disturb!: 100%|██████████| 8/8 [00:01<00:00,  5.36it/s]\n",
      "Let's see how good I am...: 100%|██████████| 3/3 [00:00<00:00,  6.26it/s]\n"
     ]
    },
    {
     "name": "stdout",
     "output_type": "stream",
     "text": [
      "Epoch: 5 of 40, 0.037 min\n"
     ]
    },
    {
     "name": "stderr",
     "output_type": "stream",
     "text": [
      "I'm studying hard now🧐, don't disturb!: 100%|██████████| 8/8 [00:01<00:00,  5.34it/s]\n",
      "Let's see how good I am...: 100%|██████████| 3/3 [00:00<00:00,  6.09it/s]\n"
     ]
    },
    {
     "name": "stdout",
     "output_type": "stream",
     "text": [
      "Epoch: 6 of 40, 0.037 min\n"
     ]
    },
    {
     "name": "stderr",
     "output_type": "stream",
     "text": [
      "I'm studying hard now🧐, don't disturb!: 100%|██████████| 8/8 [00:01<00:00,  5.28it/s]\n",
      "Let's see how good I am...: 100%|██████████| 3/3 [00:00<00:00,  6.11it/s]\n"
     ]
    },
    {
     "name": "stdout",
     "output_type": "stream",
     "text": [
      "Epoch: 7 of 40, 0.037 min\n"
     ]
    },
    {
     "name": "stderr",
     "output_type": "stream",
     "text": [
      "I'm studying hard now🧐, don't disturb!: 100%|██████████| 8/8 [00:01<00:00,  5.23it/s]\n",
      "Let's see how good I am...: 100%|██████████| 3/3 [00:00<00:00,  5.46it/s]\n"
     ]
    },
    {
     "name": "stdout",
     "output_type": "stream",
     "text": [
      "Epoch: 8 of 40, 0.039 min\n"
     ]
    },
    {
     "name": "stderr",
     "output_type": "stream",
     "text": [
      "I'm studying hard now🧐, don't disturb!: 100%|██████████| 8/8 [00:01<00:00,  4.66it/s]\n",
      "Let's see how good I am...: 100%|██████████| 3/3 [00:00<00:00,  6.13it/s]\n"
     ]
    },
    {
     "name": "stdout",
     "output_type": "stream",
     "text": [
      "Epoch: 9 of 40, 0.041 min\n"
     ]
    },
    {
     "name": "stderr",
     "output_type": "stream",
     "text": [
      "I'm studying hard now🧐, don't disturb!: 100%|██████████| 8/8 [00:01<00:00,  5.16it/s]\n",
      "Let's see how good I am...: 100%|██████████| 3/3 [00:00<00:00,  5.95it/s]\n"
     ]
    },
    {
     "name": "stdout",
     "output_type": "stream",
     "text": [
      "Epoch: 10 of 40, 0.038 min\n"
     ]
    },
    {
     "name": "stderr",
     "output_type": "stream",
     "text": [
      "I'm studying hard now🧐, don't disturb!: 100%|██████████| 8/8 [00:01<00:00,  5.33it/s]\n",
      "Let's see how good I am...: 100%|██████████| 3/3 [00:00<00:00,  6.29it/s]\n"
     ]
    },
    {
     "name": "stdout",
     "output_type": "stream",
     "text": [
      "Epoch: 11 of 40, 0.037 min\n"
     ]
    },
    {
     "name": "stderr",
     "output_type": "stream",
     "text": [
      "I'm studying hard now🧐, don't disturb!: 100%|██████████| 8/8 [00:01<00:00,  5.30it/s]\n",
      "Let's see how good I am...: 100%|██████████| 3/3 [00:00<00:00,  6.43it/s]\n"
     ]
    },
    {
     "name": "stdout",
     "output_type": "stream",
     "text": [
      "Epoch: 12 of 40, 0.037 min\n"
     ]
    },
    {
     "name": "stderr",
     "output_type": "stream",
     "text": [
      "I'm studying hard now🧐, don't disturb!: 100%|██████████| 8/8 [00:01<00:00,  5.06it/s]\n",
      "Let's see how good I am...: 100%|██████████| 3/3 [00:00<00:00,  6.03it/s]\n"
     ]
    },
    {
     "name": "stdout",
     "output_type": "stream",
     "text": [
      "Epoch: 13 of 40, 0.039 min\n"
     ]
    },
    {
     "name": "stderr",
     "output_type": "stream",
     "text": [
      "I'm studying hard now🧐, don't disturb!: 100%|██████████| 8/8 [00:01<00:00,  5.10it/s]\n",
      "Let's see how good I am...: 100%|██████████| 3/3 [00:00<00:00,  5.94it/s]\n"
     ]
    },
    {
     "name": "stdout",
     "output_type": "stream",
     "text": [
      "Epoch: 14 of 40, 0.039 min\n"
     ]
    },
    {
     "name": "stderr",
     "output_type": "stream",
     "text": [
      "I'm studying hard now🧐, don't disturb!: 100%|██████████| 8/8 [00:01<00:00,  5.35it/s]\n",
      "Let's see how good I am...: 100%|██████████| 3/3 [00:00<00:00,  6.34it/s]\n"
     ]
    },
    {
     "name": "stdout",
     "output_type": "stream",
     "text": [
      "Epoch: 15 of 40, 0.038 min\n"
     ]
    },
    {
     "name": "stderr",
     "output_type": "stream",
     "text": [
      "I'm studying hard now🧐, don't disturb!: 100%|██████████| 8/8 [00:01<00:00,  5.05it/s]\n",
      "Let's see how good I am...: 100%|██████████| 3/3 [00:00<00:00,  5.88it/s]\n"
     ]
    },
    {
     "name": "stdout",
     "output_type": "stream",
     "text": [
      "Epoch: 16 of 40, 0.039 min\n"
     ]
    },
    {
     "name": "stderr",
     "output_type": "stream",
     "text": [
      "I'm studying hard now🧐, don't disturb!: 100%|██████████| 8/8 [00:01<00:00,  5.36it/s]\n",
      "Let's see how good I am...: 100%|██████████| 3/3 [00:00<00:00,  5.73it/s]\n"
     ]
    },
    {
     "name": "stdout",
     "output_type": "stream",
     "text": [
      "Epoch: 17 of 40, 0.038 min\n"
     ]
    },
    {
     "name": "stderr",
     "output_type": "stream",
     "text": [
      "I'm studying hard now🧐, don't disturb!: 100%|██████████| 8/8 [00:01<00:00,  5.03it/s]\n",
      "Let's see how good I am...: 100%|██████████| 3/3 [00:00<00:00,  6.12it/s]\n"
     ]
    },
    {
     "name": "stdout",
     "output_type": "stream",
     "text": [
      "Epoch: 18 of 40, 0.039 min\n"
     ]
    },
    {
     "name": "stderr",
     "output_type": "stream",
     "text": [
      "I'm studying hard now🧐, don't disturb!: 100%|██████████| 8/8 [00:01<00:00,  5.43it/s]\n",
      "Let's see how good I am...: 100%|██████████| 3/3 [00:00<00:00,  6.40it/s]\n"
     ]
    },
    {
     "name": "stdout",
     "output_type": "stream",
     "text": [
      "Epoch: 19 of 40, 0.037 min\n"
     ]
    },
    {
     "name": "stderr",
     "output_type": "stream",
     "text": [
      "I'm studying hard now🧐, don't disturb!: 100%|██████████| 8/8 [00:01<00:00,  5.49it/s]\n",
      "Let's see how good I am...: 100%|██████████| 3/3 [00:00<00:00,  6.20it/s]\n"
     ]
    },
    {
     "name": "stdout",
     "output_type": "stream",
     "text": [
      "Epoch: 20 of 40, 0.037 min\n"
     ]
    },
    {
     "name": "stderr",
     "output_type": "stream",
     "text": [
      "I'm studying hard now🧐, don't disturb!: 100%|██████████| 8/8 [00:01<00:00,  4.92it/s]\n",
      "Let's see how good I am...: 100%|██████████| 3/3 [00:00<00:00,  6.03it/s]\n"
     ]
    },
    {
     "name": "stdout",
     "output_type": "stream",
     "text": [
      "Epoch: 21 of 40, 0.039 min\n"
     ]
    },
    {
     "name": "stderr",
     "output_type": "stream",
     "text": [
      "I'm studying hard now🧐, don't disturb!: 100%|██████████| 8/8 [00:01<00:00,  4.96it/s]\n",
      "Let's see how good I am...: 100%|██████████| 3/3 [00:00<00:00,  5.80it/s]\n"
     ]
    },
    {
     "name": "stdout",
     "output_type": "stream",
     "text": [
      "Epoch: 22 of 40, 0.039 min\n"
     ]
    },
    {
     "name": "stderr",
     "output_type": "stream",
     "text": [
      "I'm studying hard now🧐, don't disturb!: 100%|██████████| 8/8 [00:01<00:00,  5.12it/s]\n",
      "Let's see how good I am...: 100%|██████████| 3/3 [00:00<00:00,  6.47it/s]\n"
     ]
    },
    {
     "name": "stdout",
     "output_type": "stream",
     "text": [
      "Epoch: 23 of 40, 0.038 min\n"
     ]
    },
    {
     "name": "stderr",
     "output_type": "stream",
     "text": [
      "I'm studying hard now🧐, don't disturb!: 100%|██████████| 8/8 [00:01<00:00,  5.44it/s]\n",
      "Let's see how good I am...: 100%|██████████| 3/3 [00:00<00:00,  6.08it/s]\n"
     ]
    },
    {
     "name": "stdout",
     "output_type": "stream",
     "text": [
      "Epoch: 24 of 40, 0.037 min\n"
     ]
    },
    {
     "name": "stderr",
     "output_type": "stream",
     "text": [
      "I'm studying hard now🧐, don't disturb!: 100%|██████████| 8/8 [00:01<00:00,  5.37it/s]\n",
      "Let's see how good I am...: 100%|██████████| 3/3 [00:00<00:00,  6.19it/s]\n"
     ]
    },
    {
     "name": "stdout",
     "output_type": "stream",
     "text": [
      "Epoch: 25 of 40, 0.037 min\n"
     ]
    },
    {
     "name": "stderr",
     "output_type": "stream",
     "text": [
      "I'm studying hard now🧐, don't disturb!: 100%|██████████| 8/8 [00:01<00:00,  5.34it/s]\n",
      "Let's see how good I am...: 100%|██████████| 3/3 [00:00<00:00,  5.42it/s]\n"
     ]
    },
    {
     "name": "stdout",
     "output_type": "stream",
     "text": [
      "Epoch: 26 of 40, 0.038 min\n"
     ]
    },
    {
     "name": "stderr",
     "output_type": "stream",
     "text": [
      "I'm studying hard now🧐, don't disturb!: 100%|██████████| 8/8 [00:01<00:00,  4.64it/s]\n",
      "Let's see how good I am...: 100%|██████████| 3/3 [00:00<00:00,  5.34it/s]\n"
     ]
    },
    {
     "name": "stdout",
     "output_type": "stream",
     "text": [
      "Epoch: 27 of 40, 0.042 min\n"
     ]
    },
    {
     "name": "stderr",
     "output_type": "stream",
     "text": [
      "I'm studying hard now🧐, don't disturb!: 100%|██████████| 8/8 [00:01<00:00,  5.06it/s]\n",
      "Let's see how good I am...: 100%|██████████| 3/3 [00:00<00:00,  6.36it/s]\n"
     ]
    },
    {
     "name": "stdout",
     "output_type": "stream",
     "text": [
      "Epoch: 28 of 40, 0.038 min\n"
     ]
    },
    {
     "name": "stderr",
     "output_type": "stream",
     "text": [
      "I'm studying hard now🧐, don't disturb!: 100%|██████████| 8/8 [00:01<00:00,  5.59it/s]\n",
      "Let's see how good I am...: 100%|██████████| 3/3 [00:00<00:00,  6.48it/s]\n"
     ]
    },
    {
     "name": "stdout",
     "output_type": "stream",
     "text": [
      "Epoch: 29 of 40, 0.036 min\n"
     ]
    },
    {
     "name": "stderr",
     "output_type": "stream",
     "text": [
      "I'm studying hard now🧐, don't disturb!: 100%|██████████| 8/8 [00:01<00:00,  5.29it/s]\n",
      "Let's see how good I am...: 100%|██████████| 3/3 [00:00<00:00,  6.58it/s]\n"
     ]
    },
    {
     "name": "stdout",
     "output_type": "stream",
     "text": [
      "Epoch: 30 of 40, 0.037 min\n"
     ]
    },
    {
     "name": "stderr",
     "output_type": "stream",
     "text": [
      "I'm studying hard now🧐, don't disturb!: 100%|██████████| 8/8 [00:01<00:00,  5.40it/s]\n",
      "Let's see how good I am...: 100%|██████████| 3/3 [00:00<00:00,  5.98it/s]\n"
     ]
    },
    {
     "name": "stdout",
     "output_type": "stream",
     "text": [
      "Epoch: 31 of 40, 0.037 min\n"
     ]
    },
    {
     "name": "stderr",
     "output_type": "stream",
     "text": [
      "I'm studying hard now🧐, don't disturb!: 100%|██████████| 8/8 [00:01<00:00,  5.21it/s]\n",
      "Let's see how good I am...: 100%|██████████| 3/3 [00:00<00:00,  5.76it/s]\n"
     ]
    },
    {
     "name": "stdout",
     "output_type": "stream",
     "text": [
      "Epoch: 32 of 40, 0.039 min\n"
     ]
    },
    {
     "name": "stderr",
     "output_type": "stream",
     "text": [
      "I'm studying hard now🧐, don't disturb!: 100%|██████████| 8/8 [00:01<00:00,  4.55it/s]\n",
      "Let's see how good I am...: 100%|██████████| 3/3 [00:00<00:00,  4.95it/s]\n"
     ]
    },
    {
     "name": "stdout",
     "output_type": "stream",
     "text": [
      "Epoch: 33 of 40, 0.043 min\n"
     ]
    },
    {
     "name": "stderr",
     "output_type": "stream",
     "text": [
      "I'm studying hard now🧐, don't disturb!: 100%|██████████| 8/8 [00:01<00:00,  5.18it/s]\n",
      "Let's see how good I am...: 100%|██████████| 3/3 [00:00<00:00,  5.98it/s]\n"
     ]
    },
    {
     "name": "stdout",
     "output_type": "stream",
     "text": [
      "Epoch: 34 of 40, 0.038 min\n"
     ]
    },
    {
     "name": "stderr",
     "output_type": "stream",
     "text": [
      "I'm studying hard now🧐, don't disturb!: 100%|██████████| 8/8 [00:01<00:00,  5.15it/s]\n",
      "Let's see how good I am...: 100%|██████████| 3/3 [00:00<00:00,  5.83it/s]\n"
     ]
    },
    {
     "name": "stdout",
     "output_type": "stream",
     "text": [
      "Epoch: 35 of 40, 0.039 min\n"
     ]
    },
    {
     "name": "stderr",
     "output_type": "stream",
     "text": [
      "I'm studying hard now🧐, don't disturb!: 100%|██████████| 8/8 [00:01<00:00,  5.18it/s]\n",
      "Let's see how good I am...: 100%|██████████| 3/3 [00:00<00:00,  5.85it/s]\n"
     ]
    },
    {
     "name": "stdout",
     "output_type": "stream",
     "text": [
      "Epoch: 36 of 40, 0.038 min\n"
     ]
    },
    {
     "name": "stderr",
     "output_type": "stream",
     "text": [
      "I'm studying hard now🧐, don't disturb!: 100%|██████████| 8/8 [00:01<00:00,  5.08it/s]\n",
      "Let's see how good I am...: 100%|██████████| 3/3 [00:00<00:00,  5.81it/s]\n"
     ]
    },
    {
     "name": "stdout",
     "output_type": "stream",
     "text": [
      "Epoch: 37 of 40, 0.039 min\n"
     ]
    },
    {
     "name": "stderr",
     "output_type": "stream",
     "text": [
      "I'm studying hard now🧐, don't disturb!: 100%|██████████| 8/8 [00:01<00:00,  4.95it/s]\n",
      "Let's see how good I am...: 100%|██████████| 3/3 [00:00<00:00,  5.11it/s]\n"
     ]
    },
    {
     "name": "stdout",
     "output_type": "stream",
     "text": [
      "Epoch: 38 of 40, 0.041 min\n"
     ]
    },
    {
     "name": "stderr",
     "output_type": "stream",
     "text": [
      "I'm studying hard now🧐, don't disturb!: 100%|██████████| 8/8 [00:01<00:00,  5.00it/s]\n",
      "Let's see how good I am...: 100%|██████████| 3/3 [00:00<00:00,  5.91it/s]\n"
     ]
    },
    {
     "name": "stdout",
     "output_type": "stream",
     "text": [
      "Epoch: 39 of 40, 0.040 min\n"
     ]
    },
    {
     "name": "stderr",
     "output_type": "stream",
     "text": [
      "I'm studying hard now🧐, don't disturb!: 100%|██████████| 8/8 [00:01<00:00,  5.18it/s]\n",
      "Let's see how good I am...: 100%|██████████| 3/3 [00:00<00:00,  6.05it/s]\n"
     ]
    },
    {
     "name": "stdout",
     "output_type": "stream",
     "text": [
      "Epoch: 40 of 40, 0.038 min\n"
     ]
    },
    {
     "data": {
      "text/html": [
       "Waiting for W&B process to finish... <strong style=\"color:green\">(success).</strong>"
      ],
      "text/plain": [
       "<IPython.core.display.HTML object>"
      ]
     },
     "metadata": {},
     "output_type": "display_data"
    }
   ],
   "source": [
    "BATCH_SIZE = 1024\n",
    "\n",
    "for num_features in [50,60,80,100,120]:\n",
    "    for init_param in [128,264,512,1024]:\n",
    "        for num_layers in [5,8,16,20]:\n",
    "            if np.log2(init_param) < num_layers:\n",
    "                print(f\"it's impossible to construct NN with parameters = {init_param} and layers = {num_layers}\")\n",
    "            else:\n",
    "                model, train_dl, val_dl = create_nn_with_data(num_features, BATCH_SIZE, init_param, num_layers) # HARD CODE FOR PATHES FOR DATA!\n",
    "                make_experiments(model, train_dl, val_dl, BATCH_SIZE)\n"
   ]
  },
  {
   "cell_type": "code",
   "execution_count": 11,
   "metadata": {},
   "outputs": [],
   "source": [
    "model1 = nn.Sequential(\n",
    "    nn.Linear(NUM_FEATURES, INIT_PARAM),\n",
    "    nn.BatchNorm1d(INIT_PARAM),\n",
    "    nn.Dropout(0.1),\n",
    "    nn.ReLU(),\n",
    "    nn.Linear(INIT_PARAM, int(INIT_PARAM/2)),\n",
    "    nn.BatchNorm1d(int(INIT_PARAM/2)),\n",
    "    nn.Dropout(0.1),\n",
    "    nn.ReLU(),\n",
    "    nn.Linear(int(INIT_PARAM/2), int(INIT_PARAM/4)),\n",
    "    nn.BatchNorm1d(int(INIT_PARAM/4)),\n",
    "    nn.Dropout(0.1),\n",
    "    nn.ReLU(),\n",
    "    nn.Linear(int(INIT_PARAM/4), int(INIT_PARAM/8)),\n",
    "    nn.BatchNorm1d(int(INIT_PARAM/8)),\n",
    "    nn.Dropout(0.1),\n",
    "    nn.ReLU(),\n",
    "    nn.Linear(int(INIT_PARAM/8), int(INIT_PARAM/16)),\n",
    "    nn.BatchNorm1d(int(INIT_PARAM/16)),\n",
    "    nn.Dropout(0.1),\n",
    "    nn.ReLU(),\n",
    "    ####################\n",
    "    nn.Linear(int(INIT_PARAM/16), int(INIT_PARAM/32)),\n",
    "    nn.BatchNorm1d(int(INIT_PARAM/32)),\n",
    "    nn.Dropout(0.1),\n",
    "    nn.ReLU(),\n",
    "    nn.Linear(int(INIT_PARAM/32), int(INIT_PARAM/64)),\n",
    "    nn.BatchNorm1d(int(INIT_PARAM/64)),\n",
    "    nn.Dropout(0.1),\n",
    "    nn.ReLU(),\n",
    "    nn.Linear(int(INIT_PARAM/64), int(INIT_PARAM/128)),\n",
    "    nn.BatchNorm1d(int(INIT_PARAM/128)),\n",
    "    nn.Dropout(0.1),\n",
    "    nn.ReLU(),\n",
    "    nn.Linear(int(INIT_PARAM/128), 2)\n",
    ")\n",
    "\n",
    "model2 = nn.Sequential(\n",
    "    nn.Linear(NUM_FEATURES, INIT_PARAM),\n",
    "    nn.BatchNorm1d(INIT_PARAM),\n",
    "    nn.Dropout(0.3),\n",
    "    nn.ReLU(),\n",
    "    nn.Linear(INIT_PARAM, int(INIT_PARAM/2)),\n",
    "    nn.BatchNorm1d(int(INIT_PARAM/2)),\n",
    "    nn.Dropout(0.3),\n",
    "    nn.ReLU(),\n",
    "    nn.Linear(int(INIT_PARAM/2), int(INIT_PARAM/4)),\n",
    "    nn.BatchNorm1d(int(INIT_PARAM/4)),\n",
    "    nn.Dropout(0.3),\n",
    "    nn.ReLU(),\n",
    "    nn.Linear(int(INIT_PARAM/4), int(INIT_PARAM/8)),\n",
    "    nn.BatchNorm1d(int(INIT_PARAM/8)),\n",
    "    nn.Dropout(0.3),\n",
    "    nn.ReLU(),\n",
    "    nn.Linear(int(INIT_PARAM/8), int(INIT_PARAM/16)),\n",
    "    nn.BatchNorm1d(int(INIT_PARAM/16)),\n",
    "    nn.Dropout(0.3),\n",
    "    nn.ReLU(),\n",
    "    nn.Linear(int(INIT_PARAM/16), 2)\n",
    ")\n",
    "\n",
    "models = [model1,model2]"
   ]
  },
  {
   "cell_type": "code",
   "execution_count": 8,
   "metadata": {},
   "outputs": [],
   "source": [
    "loss = Loss_class(FocalLoss(gamma=3))\n",
    "model_factory = partial(Model_class)\n",
    "optimizer_factory = partial(torch.optim.AdamW)\n",
    "scheduler_factory = partial(lr.ExponentialLR)\n",
    "\n",
    "model_params = dict(model=model1,\n",
    "                    device=device)\n",
    "optimizer_params = dict(weight_decay=1e-3, lr=1e-2)\n",
    "scheduler_params = dict(gamma=0.95)\n",
    "\n",
    "learning_params = dict(batch_size=BATCH_SIZE, num_epoch=40)\n",
    "\n",
    "wandb_init_params = dict(\n",
    "    name=f'fe_{INIT_PARAM}_{BATCH_SIZE}_{NUM_FEATURES}',\n",
    "    project=\"Internship_project\",\n",
    "    dir = '../logs/'\n",
    ")"
   ]
  },
  {
   "cell_type": "code",
   "execution_count": 9,
   "metadata": {},
   "outputs": [
    {
     "name": "stderr",
     "output_type": "stream",
     "text": [
      "Failed to detect the name of this notebook, you can set it manually with the WANDB_NOTEBOOK_NAME environment variable to enable code saving.\n",
      "wandb: Currently logged in as: dmitrii_fomin (dmitrii_fomin_uga). Use `wandb login --relogin` to force relogin\n"
     ]
    },
    {
     "data": {
      "text/html": [
       "wandb version 0.15.0 is available!  To upgrade, please run:\n",
       " $ pip install wandb --upgrade"
      ],
      "text/plain": [
       "<IPython.core.display.HTML object>"
      ]
     },
     "metadata": {},
     "output_type": "display_data"
    },
    {
     "data": {
      "text/html": [
       "Tracking run with wandb version 0.13.6"
      ],
      "text/plain": [
       "<IPython.core.display.HTML object>"
      ]
     },
     "metadata": {},
     "output_type": "display_data"
    },
    {
     "data": {
      "text/html": [
       "Run data is saved locally in <code>../logs/wandb\\run-20230423_210329-x3k6r18a</code>"
      ],
      "text/plain": [
       "<IPython.core.display.HTML object>"
      ]
     },
     "metadata": {},
     "output_type": "display_data"
    },
    {
     "data": {
      "text/html": [
       "Syncing run <strong><a href=\"https://wandb.ai/dmitrii_fomin_uga/Internship_project/runs/x3k6r18a\" target=\"_blank\">fe_1024_256_80</a></strong> to <a href=\"https://wandb.ai/dmitrii_fomin_uga/Internship_project\" target=\"_blank\">Weights & Biases</a> (<a href=\"https://wandb.me/run\" target=\"_blank\">docs</a>)<br/>"
      ],
      "text/plain": [
       "<IPython.core.display.HTML object>"
      ]
     },
     "metadata": {},
     "output_type": "display_data"
    }
   ],
   "source": [
    "trainer = Trainer(train_dl,\n",
    "                  val_dl,\n",
    "                  loss,\n",
    "                  model_factory=model_factory,\n",
    "                  optimizer_factory=optimizer_factory,\n",
    "                  scheduler_factory=scheduler_factory,\n",
    "                  model_params=model_params,\n",
    "                  optimizer_params=optimizer_params,\n",
    "                  scheduler_params=scheduler_params,\n",
    "                  log=True,\n",
    "                  wandb_init_params=wandb_init_params,\n",
    "                  model_dir='../logs/nn_models/'\n",
    "                  )"
   ]
  },
  {
   "cell_type": "code",
   "execution_count": 10,
   "metadata": {},
   "outputs": [
    {
     "name": "stderr",
     "output_type": "stream",
     "text": [
      "I'm studying hard now🧐, don't disturb!: 100%|██████████| 30/30 [00:03<00:00,  8.32it/s]\n",
      "Let's see how good I am...: 100%|██████████| 10/10 [00:00<00:00, 15.89it/s]\n"
     ]
    },
    {
     "name": "stdout",
     "output_type": "stream",
     "text": [
      "Epoch: 1 of 40, 0.075 min\n"
     ]
    },
    {
     "name": "stderr",
     "output_type": "stream",
     "text": [
      "I'm studying hard now🧐, don't disturb!: 100%|██████████| 30/30 [00:02<00:00, 14.44it/s]\n",
      "Let's see how good I am...: 100%|██████████| 10/10 [00:00<00:00, 15.63it/s]\n"
     ]
    },
    {
     "name": "stdout",
     "output_type": "stream",
     "text": [
      "Epoch: 2 of 40, 0.053 min\n"
     ]
    },
    {
     "name": "stderr",
     "output_type": "stream",
     "text": [
      "I'm studying hard now🧐, don't disturb!: 100%|██████████| 30/30 [00:02<00:00, 13.01it/s]\n",
      "Let's see how good I am...: 100%|██████████| 10/10 [00:00<00:00, 15.71it/s]\n"
     ]
    },
    {
     "name": "stdout",
     "output_type": "stream",
     "text": [
      "Epoch: 3 of 40, 0.054 min\n"
     ]
    },
    {
     "name": "stderr",
     "output_type": "stream",
     "text": [
      "I'm studying hard now🧐, don't disturb!: 100%|██████████| 30/30 [00:02<00:00, 13.72it/s]\n",
      "Let's see how good I am...: 100%|██████████| 10/10 [00:00<00:00, 15.72it/s]\n"
     ]
    },
    {
     "name": "stdout",
     "output_type": "stream",
     "text": [
      "Epoch: 4 of 40, 0.055 min\n"
     ]
    },
    {
     "name": "stderr",
     "output_type": "stream",
     "text": [
      "I'm studying hard now🧐, don't disturb!: 100%|██████████| 30/30 [00:02<00:00, 14.01it/s]\n",
      "Let's see how good I am...: 100%|██████████| 10/10 [00:00<00:00, 15.92it/s]\n"
     ]
    },
    {
     "name": "stdout",
     "output_type": "stream",
     "text": [
      "Epoch: 5 of 40, 0.053 min\n"
     ]
    },
    {
     "name": "stderr",
     "output_type": "stream",
     "text": [
      "I'm studying hard now🧐, don't disturb!: 100%|██████████| 30/30 [00:02<00:00, 14.23it/s]\n",
      "Let's see how good I am...: 100%|██████████| 10/10 [00:00<00:00, 15.11it/s]\n"
     ]
    },
    {
     "name": "stdout",
     "output_type": "stream",
     "text": [
      "Epoch: 6 of 40, 0.055 min\n"
     ]
    },
    {
     "name": "stderr",
     "output_type": "stream",
     "text": [
      "I'm studying hard now🧐, don't disturb!: 100%|██████████| 30/30 [00:02<00:00, 14.47it/s]\n",
      "Let's see how good I am...: 100%|██████████| 10/10 [00:00<00:00, 16.00it/s]\n"
     ]
    },
    {
     "name": "stdout",
     "output_type": "stream",
     "text": [
      "Epoch: 7 of 40, 0.053 min\n"
     ]
    },
    {
     "name": "stderr",
     "output_type": "stream",
     "text": [
      "I'm studying hard now🧐, don't disturb!: 100%|██████████| 30/30 [00:02<00:00, 14.21it/s]\n",
      "Let's see how good I am...: 100%|██████████| 10/10 [00:00<00:00, 15.80it/s]\n"
     ]
    },
    {
     "name": "stdout",
     "output_type": "stream",
     "text": [
      "Epoch: 8 of 40, 0.053 min\n"
     ]
    },
    {
     "name": "stderr",
     "output_type": "stream",
     "text": [
      "I'm studying hard now🧐, don't disturb!: 100%|██████████| 30/30 [00:02<00:00, 14.16it/s]\n",
      "Let's see how good I am...: 100%|██████████| 10/10 [00:00<00:00, 15.81it/s]\n"
     ]
    },
    {
     "name": "stdout",
     "output_type": "stream",
     "text": [
      "Epoch: 9 of 40, 0.056 min\n"
     ]
    },
    {
     "name": "stderr",
     "output_type": "stream",
     "text": [
      "I'm studying hard now🧐, don't disturb!: 100%|██████████| 30/30 [00:02<00:00, 12.79it/s]\n",
      "Let's see how good I am...: 100%|██████████| 10/10 [00:00<00:00, 15.47it/s]\n"
     ]
    },
    {
     "name": "stdout",
     "output_type": "stream",
     "text": [
      "Epoch: 10 of 40, 0.055 min\n"
     ]
    },
    {
     "name": "stderr",
     "output_type": "stream",
     "text": [
      "I'm studying hard now🧐, don't disturb!: 100%|██████████| 30/30 [00:02<00:00, 13.76it/s]\n",
      "Let's see how good I am...: 100%|██████████| 10/10 [00:00<00:00, 15.82it/s]\n"
     ]
    },
    {
     "name": "stdout",
     "output_type": "stream",
     "text": [
      "Epoch: 11 of 40, 0.054 min\n"
     ]
    },
    {
     "name": "stderr",
     "output_type": "stream",
     "text": [
      "I'm studying hard now🧐, don't disturb!: 100%|██████████| 30/30 [00:02<00:00, 14.65it/s]\n",
      "Let's see how good I am...: 100%|██████████| 10/10 [00:00<00:00, 15.92it/s]\n"
     ]
    },
    {
     "name": "stdout",
     "output_type": "stream",
     "text": [
      "Epoch: 12 of 40, 0.053 min\n"
     ]
    },
    {
     "name": "stderr",
     "output_type": "stream",
     "text": [
      "I'm studying hard now🧐, don't disturb!: 100%|██████████| 30/30 [00:02<00:00, 13.19it/s]\n",
      "Let's see how good I am...: 100%|██████████| 10/10 [00:00<00:00, 15.31it/s]\n"
     ]
    },
    {
     "name": "stdout",
     "output_type": "stream",
     "text": [
      "Epoch: 13 of 40, 0.053 min\n"
     ]
    },
    {
     "name": "stderr",
     "output_type": "stream",
     "text": [
      "I'm studying hard now🧐, don't disturb!: 100%|██████████| 30/30 [00:02<00:00, 14.53it/s]\n",
      "Let's see how good I am...: 100%|██████████| 10/10 [00:00<00:00, 16.11it/s]\n"
     ]
    },
    {
     "name": "stdout",
     "output_type": "stream",
     "text": [
      "Epoch: 14 of 40, 0.052 min\n"
     ]
    },
    {
     "name": "stderr",
     "output_type": "stream",
     "text": [
      "I'm studying hard now🧐, don't disturb!: 100%|██████████| 30/30 [00:02<00:00, 14.68it/s]\n",
      "Let's see how good I am...: 100%|██████████| 10/10 [00:00<00:00, 15.62it/s]\n"
     ]
    },
    {
     "name": "stdout",
     "output_type": "stream",
     "text": [
      "Epoch: 15 of 40, 0.052 min\n"
     ]
    },
    {
     "name": "stderr",
     "output_type": "stream",
     "text": [
      "I'm studying hard now🧐, don't disturb!: 100%|██████████| 30/30 [00:02<00:00, 14.39it/s]\n",
      "Let's see how good I am...: 100%|██████████| 10/10 [00:00<00:00, 16.03it/s]\n"
     ]
    },
    {
     "name": "stdout",
     "output_type": "stream",
     "text": [
      "Epoch: 16 of 40, 0.052 min\n"
     ]
    },
    {
     "name": "stderr",
     "output_type": "stream",
     "text": [
      "I'm studying hard now🧐, don't disturb!: 100%|██████████| 30/30 [00:02<00:00, 14.19it/s]\n",
      "Let's see how good I am...: 100%|██████████| 10/10 [00:00<00:00, 14.29it/s]\n"
     ]
    },
    {
     "name": "stdout",
     "output_type": "stream",
     "text": [
      "Epoch: 17 of 40, 0.058 min\n"
     ]
    },
    {
     "name": "stderr",
     "output_type": "stream",
     "text": [
      "I'm studying hard now🧐, don't disturb!: 100%|██████████| 30/30 [00:02<00:00, 12.81it/s]\n",
      "Let's see how good I am...: 100%|██████████| 10/10 [00:00<00:00, 15.40it/s]\n"
     ]
    },
    {
     "name": "stdout",
     "output_type": "stream",
     "text": [
      "Epoch: 18 of 40, 0.055 min\n"
     ]
    },
    {
     "name": "stderr",
     "output_type": "stream",
     "text": [
      "I'm studying hard now🧐, don't disturb!: 100%|██████████| 30/30 [00:02<00:00, 13.78it/s]\n",
      "Let's see how good I am...: 100%|██████████| 10/10 [00:00<00:00, 15.66it/s]\n"
     ]
    },
    {
     "name": "stdout",
     "output_type": "stream",
     "text": [
      "Epoch: 19 of 40, 0.053 min\n"
     ]
    },
    {
     "name": "stderr",
     "output_type": "stream",
     "text": [
      "I'm studying hard now🧐, don't disturb!: 100%|██████████| 30/30 [00:02<00:00, 14.67it/s]\n",
      "Let's see how good I am...: 100%|██████████| 10/10 [00:00<00:00, 14.82it/s]\n"
     ]
    },
    {
     "name": "stdout",
     "output_type": "stream",
     "text": [
      "Epoch: 20 of 40, 0.053 min\n"
     ]
    },
    {
     "name": "stderr",
     "output_type": "stream",
     "text": [
      "I'm studying hard now🧐, don't disturb!:  93%|█████████▎| 28/30 [00:02<00:00, 13.26it/s]c:\\Users\\Dmitry\\miniconda3\\envs\\env1\\lib\\site-packages\\sklearn\\metrics\\_ranking.py:999: UndefinedMetricWarning: No positive samples in y_true, true positive value should be meaningless\n",
      "  warnings.warn(\n",
      "I'm studying hard now🧐, don't disturb!: 100%|██████████| 30/30 [00:02<00:00, 14.41it/s]\n",
      "Let's see how good I am...: 100%|██████████| 10/10 [00:00<00:00, 15.56it/s]\n"
     ]
    },
    {
     "name": "stdout",
     "output_type": "stream",
     "text": [
      "Epoch: 21 of 40, 0.053 min\n"
     ]
    },
    {
     "name": "stderr",
     "output_type": "stream",
     "text": [
      "I'm studying hard now🧐, don't disturb!: 100%|██████████| 30/30 [00:02<00:00, 14.35it/s]\n",
      "Let's see how good I am...: 100%|██████████| 10/10 [00:00<00:00, 15.79it/s]\n"
     ]
    },
    {
     "name": "stdout",
     "output_type": "stream",
     "text": [
      "Epoch: 22 of 40, 0.053 min\n"
     ]
    },
    {
     "name": "stderr",
     "output_type": "stream",
     "text": [
      "I'm studying hard now🧐, don't disturb!: 100%|██████████| 30/30 [00:02<00:00, 14.81it/s]\n",
      "Let's see how good I am...: 100%|██████████| 10/10 [00:00<00:00, 15.67it/s]\n"
     ]
    },
    {
     "name": "stdout",
     "output_type": "stream",
     "text": [
      "Epoch: 23 of 40, 0.052 min\n"
     ]
    },
    {
     "name": "stderr",
     "output_type": "stream",
     "text": [
      "I'm studying hard now🧐, don't disturb!: 100%|██████████| 30/30 [00:02<00:00, 14.51it/s]\n",
      "Let's see how good I am...: 100%|██████████| 10/10 [00:00<00:00, 16.09it/s]\n"
     ]
    },
    {
     "name": "stdout",
     "output_type": "stream",
     "text": [
      "Epoch: 24 of 40, 0.052 min\n"
     ]
    },
    {
     "name": "stderr",
     "output_type": "stream",
     "text": [
      "I'm studying hard now🧐, don't disturb!: 100%|██████████| 30/30 [00:02<00:00, 13.71it/s]\n",
      "Let's see how good I am...: 100%|██████████| 10/10 [00:00<00:00, 15.44it/s]\n"
     ]
    },
    {
     "name": "stdout",
     "output_type": "stream",
     "text": [
      "Epoch: 25 of 40, 0.054 min\n"
     ]
    },
    {
     "name": "stderr",
     "output_type": "stream",
     "text": [
      "I'm studying hard now🧐, don't disturb!: 100%|██████████| 30/30 [00:02<00:00, 13.15it/s]\n",
      "Let's see how good I am...: 100%|██████████| 10/10 [00:00<00:00, 14.73it/s]\n"
     ]
    },
    {
     "name": "stdout",
     "output_type": "stream",
     "text": [
      "Epoch: 26 of 40, 0.059 min\n"
     ]
    },
    {
     "name": "stderr",
     "output_type": "stream",
     "text": [
      "I'm studying hard now🧐, don't disturb!: 100%|██████████| 30/30 [00:02<00:00, 14.42it/s]\n",
      "Let's see how good I am...: 100%|██████████| 10/10 [00:00<00:00, 14.50it/s]\n"
     ]
    },
    {
     "name": "stdout",
     "output_type": "stream",
     "text": [
      "Epoch: 27 of 40, 0.054 min\n"
     ]
    },
    {
     "name": "stderr",
     "output_type": "stream",
     "text": [
      "I'm studying hard now🧐, don't disturb!: 100%|██████████| 30/30 [00:02<00:00, 13.42it/s]\n",
      "Let's see how good I am...: 100%|██████████| 10/10 [00:00<00:00, 15.68it/s]\n"
     ]
    },
    {
     "name": "stdout",
     "output_type": "stream",
     "text": [
      "Epoch: 28 of 40, 0.054 min\n"
     ]
    },
    {
     "name": "stderr",
     "output_type": "stream",
     "text": [
      "I'm studying hard now🧐, don't disturb!: 100%|██████████| 30/30 [00:02<00:00, 13.91it/s]\n",
      "Let's see how good I am...: 100%|██████████| 10/10 [00:00<00:00, 15.79it/s]\n"
     ]
    },
    {
     "name": "stdout",
     "output_type": "stream",
     "text": [
      "Epoch: 29 of 40, 0.052 min\n"
     ]
    },
    {
     "name": "stderr",
     "output_type": "stream",
     "text": [
      "I'm studying hard now🧐, don't disturb!: 100%|██████████| 30/30 [00:02<00:00, 14.40it/s]\n",
      "Let's see how good I am...: 100%|██████████| 10/10 [00:00<00:00, 15.88it/s]\n"
     ]
    },
    {
     "name": "stdout",
     "output_type": "stream",
     "text": [
      "Epoch: 30 of 40, 0.052 min\n"
     ]
    },
    {
     "name": "stderr",
     "output_type": "stream",
     "text": [
      "I'm studying hard now🧐, don't disturb!: 100%|██████████| 30/30 [00:02<00:00, 13.48it/s]\n",
      "Let's see how good I am...: 100%|██████████| 10/10 [00:00<00:00, 14.70it/s]\n"
     ]
    },
    {
     "name": "stdout",
     "output_type": "stream",
     "text": [
      "Epoch: 31 of 40, 0.055 min\n"
     ]
    },
    {
     "name": "stderr",
     "output_type": "stream",
     "text": [
      "I'm studying hard now🧐, don't disturb!: 100%|██████████| 30/30 [00:02<00:00, 15.14it/s]\n",
      "Let's see how good I am...: 100%|██████████| 10/10 [00:00<00:00, 16.01it/s]\n"
     ]
    },
    {
     "name": "stdout",
     "output_type": "stream",
     "text": [
      "Epoch: 32 of 40, 0.051 min\n"
     ]
    },
    {
     "name": "stderr",
     "output_type": "stream",
     "text": [
      "I'm studying hard now🧐, don't disturb!: 100%|██████████| 30/30 [00:02<00:00, 13.28it/s]\n",
      "Let's see how good I am...: 100%|██████████| 10/10 [00:00<00:00, 16.40it/s]\n"
     ]
    },
    {
     "name": "stdout",
     "output_type": "stream",
     "text": [
      "Epoch: 33 of 40, 0.052 min\n"
     ]
    },
    {
     "name": "stderr",
     "output_type": "stream",
     "text": [
      "I'm studying hard now🧐, don't disturb!: 100%|██████████| 30/30 [00:02<00:00, 14.84it/s]\n",
      "Let's see how good I am...: 100%|██████████| 10/10 [00:00<00:00, 16.38it/s]\n"
     ]
    },
    {
     "name": "stdout",
     "output_type": "stream",
     "text": [
      "Epoch: 34 of 40, 0.052 min\n"
     ]
    },
    {
     "name": "stderr",
     "output_type": "stream",
     "text": [
      "I'm studying hard now🧐, don't disturb!:  73%|███████▎  | 22/30 [00:01<00:00, 12.89it/s]"
     ]
    }
   ],
   "source": [
    "trainer.train_model(learning_params)\n",
    "wandb.finish()"
   ]
  }
 ],
 "metadata": {
  "kernelspec": {
   "display_name": "env1",
   "language": "python",
   "name": "python3"
  },
  "language_info": {
   "codemirror_mode": {
    "name": "ipython",
    "version": 3
   },
   "file_extension": ".py",
   "mimetype": "text/x-python",
   "name": "python",
   "nbconvert_exporter": "python",
   "pygments_lexer": "ipython3",
   "version": "3.10.4"
  },
  "orig_nbformat": 4
 },
 "nbformat": 4,
 "nbformat_minor": 2
}
