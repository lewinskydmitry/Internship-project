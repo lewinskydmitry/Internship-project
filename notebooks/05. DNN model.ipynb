{
 "cells": [
  {
   "cell_type": "code",
   "execution_count": 1,
   "metadata": {},
   "outputs": [],
   "source": [
    "import os\n",
    "import sys\n",
    "sys.path.append(os.path.abspath(os.path.join(os.path.dirname('src'), '..')))\n",
    "\n",
    "import wandb\n",
    "import torch\n",
    "import torch.nn as nn\n",
    "import torch.optim as optim\n",
    "from torch.utils.data import DataLoader\n",
    "from torchvision import datasets, transforms\n",
    "from src.DataLoader import TableDataset"
   ]
  },
  {
   "cell_type": "code",
   "execution_count": null,
   "metadata": {},
   "outputs": [],
   "source": []
  },
  {
   "cell_type": "code",
   "execution_count": 2,
   "metadata": {},
   "outputs": [
    {
     "name": "stderr",
     "output_type": "stream",
     "text": [
      "Failed to detect the name of this notebook, you can set it manually with the WANDB_NOTEBOOK_NAME environment variable to enable code saving.\n",
      "\u001b[34m\u001b[1mwandb\u001b[0m: Currently logged in as: \u001b[33mdmitrii_fomin\u001b[0m (\u001b[33mdmitrii_fomin_uga\u001b[0m). Use \u001b[1m`wandb login --relogin`\u001b[0m to force relogin\n"
     ]
    },
    {
     "data": {
      "text/html": [
       "wandb version 0.14.2 is available!  To upgrade, please run:\n",
       " $ pip install wandb --upgrade"
      ],
      "text/plain": [
       "<IPython.core.display.HTML object>"
      ]
     },
     "metadata": {},
     "output_type": "display_data"
    },
    {
     "data": {
      "text/html": [
       "Tracking run with wandb version 0.13.6"
      ],
      "text/plain": [
       "<IPython.core.display.HTML object>"
      ]
     },
     "metadata": {},
     "output_type": "display_data"
    },
    {
     "data": {
      "text/html": [
       "Run data is saved locally in <code>/Users/fomindmitry/Google Диск/Github/Internship_project/notebooks/wandb/run-20230413_014539-2tgjeyil</code>"
      ],
      "text/plain": [
       "<IPython.core.display.HTML object>"
      ]
     },
     "metadata": {},
     "output_type": "display_data"
    },
    {
     "data": {
      "text/html": [
       "Syncing run <strong><a href=\"https://wandb.ai/dmitrii_fomin_uga/Intenship_project/runs/2tgjeyil\" target=\"_blank\">dnn_2</a></strong> to <a href=\"https://wandb.ai/dmitrii_fomin_uga/Intenship_project\" target=\"_blank\">Weights & Biases</a> (<a href=\"https://wandb.me/run\" target=\"_blank\">docs</a>)<br/>"
      ],
      "text/plain": [
       "<IPython.core.display.HTML object>"
      ]
     },
     "metadata": {},
     "output_type": "display_data"
    },
    {
     "data": {
      "text/html": [
       "<button onClick=\"this.nextSibling.style.display='block';this.style.display='none';\">Display W&B run</button><iframe src=\"https://wandb.ai/dmitrii_fomin_uga/Intenship_project/runs/2tgjeyil?jupyter=true\" style=\"border:none;width:100%;height:420px;display:none;\"></iframe>"
      ],
      "text/plain": [
       "<wandb.sdk.wandb_run.Run at 0x7fc51b839c70>"
      ]
     },
     "execution_count": 2,
     "metadata": {},
     "output_type": "execute_result"
    }
   ],
   "source": [
    "wandb.init(project='Intenship_project', name = \"dnn_2\")"
   ]
  },
  {
   "cell_type": "code",
   "execution_count": 3,
   "metadata": {},
   "outputs": [],
   "source": [
    "train_dataset = TableDataset('../data/data_fe.csv')\n",
    "train_loader = DataLoader(train_dataset, batch_size=100, shuffle=True)"
   ]
  },
  {
   "cell_type": "code",
   "execution_count": 4,
   "metadata": {},
   "outputs": [
    {
     "name": "stdout",
     "output_type": "stream",
     "text": [
      "Epoch [1/10], Step [50/100], Loss: 162251552.0000\n",
      "Epoch [1/10], Step [100/100], Loss: 47948324.0000\n",
      "Epoch [2/10], Step [50/100], Loss: 15475521.0000\n",
      "Epoch [2/10], Step [100/100], Loss: 10452809.0000\n",
      "Epoch [3/10], Step [50/100], Loss: 4231816.5000\n",
      "Epoch [3/10], Step [100/100], Loss: 16088764.0000\n",
      "Epoch [4/10], Step [50/100], Loss: 28653644.0000\n",
      "Epoch [4/10], Step [100/100], Loss: 458897.2812\n",
      "Epoch [5/10], Step [50/100], Loss: 718482.5625\n",
      "Epoch [5/10], Step [100/100], Loss: 14404285.0000\n",
      "Epoch [6/10], Step [50/100], Loss: 19985720.0000\n",
      "Epoch [6/10], Step [100/100], Loss: 5318656.5000\n",
      "Epoch [7/10], Step [50/100], Loss: 8273751.0000\n",
      "Epoch [7/10], Step [100/100], Loss: 8113704.5000\n",
      "Epoch [8/10], Step [50/100], Loss: 61067.5195\n",
      "Epoch [8/10], Step [100/100], Loss: 12962413.0000\n",
      "Epoch [9/10], Step [50/100], Loss: 20510200.0000\n",
      "Epoch [9/10], Step [100/100], Loss: 6717367.0000\n",
      "Epoch [10/10], Step [50/100], Loss: 2791205.0000\n",
      "Epoch [10/10], Step [100/100], Loss: 680952.3125\n"
     ]
    }
   ],
   "source": [
    "\n",
    "# model = nn.Sequential(\n",
    "#     nn.Linear(120, 256),\n",
    "#     nn.ReLU(),\n",
    "#     nn.Linear(256, 512),\n",
    "#     nn.ReLU(),\n",
    "#     nn.Linear(512, 1024),\n",
    "#     nn.ReLU(),\n",
    "#     nn.Linear(1024, 512),\n",
    "#     nn.ReLU(),\n",
    "#     nn.Linear(512, 256),\n",
    "#     nn.ReLU(),\n",
    "#     nn.Linear(256, 10),\n",
    "# )\n",
    "\n",
    "model = nn.Sequential(\n",
    "    nn.Linear(120, 60),\n",
    "    nn.ReLU(),\n",
    "    nn.Linear(60, 20),\n",
    "    nn.ReLU(),\n",
    "    nn.Linear(20, 2),\n",
    ")\n",
    "\n",
    "# Define the optimizer and loss function\n",
    "optimizer = optim.Adam(model.parameters(), lr=0.00001)\n",
    "criterion = nn.CrossEntropyLoss()\n",
    "num_epochs = 10\n",
    "# Train the neural network\n",
    "for epoch in range(num_epochs):\n",
    "    for i, (inputs, targets) in enumerate(train_loader):\n",
    "        # Forward pass\n",
    "        outputs = model(inputs)\n",
    "        loss = criterion(outputs, targets)\n",
    "\n",
    "        # Backward and optimize\n",
    "        optimizer.zero_grad()\n",
    "        loss.backward()\n",
    "        optimizer.step()\n",
    "\n",
    "        # Print statistics\n",
    "        if (i+1) % 50 == 0:\n",
    "            print('Epoch [{}/{}], Step [{}/{}], Loss: {:.4f}'\n",
    "                  .format(epoch+1, num_epochs, i+1, len(train_loader), loss.item()))\n",
    "        wandb.log({\"loss\": loss})\n"
   ]
  }
 ],
 "metadata": {
  "kernelspec": {
   "display_name": "env1",
   "language": "python",
   "name": "python3"
  },
  "language_info": {
   "codemirror_mode": {
    "name": "ipython",
    "version": 3
   },
   "file_extension": ".py",
   "mimetype": "text/x-python",
   "name": "python",
   "nbconvert_exporter": "python",
   "pygments_lexer": "ipython3",
   "version": "3.9.15"
  },
  "orig_nbformat": 4
 },
 "nbformat": 4,
 "nbformat_minor": 2
}
