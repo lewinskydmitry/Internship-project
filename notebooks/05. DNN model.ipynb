{
 "cells": [
  {
   "cell_type": "code",
   "execution_count": 1,
   "metadata": {},
   "outputs": [],
   "source": [
    "import os\n",
    "import sys\n",
    "sys.path.append(os.path.abspath(os.path.join(os.path.dirname('src'), '..')))\n",
    "\n",
    "import wandb\n",
    "import torch\n",
    "import torch.nn as nn\n",
    "import torch.optim as optim\n",
    "from torch.utils.data import DataLoader\n",
    "import torch.optim.lr_scheduler as lr\n",
    "from src.DataLoader import TableDatasetPath, TableDatasetDF\n",
    "from functools import partial\n",
    "from sklearn.utils.class_weight import compute_class_weight\n",
    "import matplotlib.pyplot as plt\n",
    "from src.tools import *\n",
    "from src.Focal_loss import *\n",
    "from src.trainer import Trainer\n",
    "from sklearn.preprocessing import StandardScaler\n",
    "device = torch.device('cuda' if torch.cuda.is_available() else 'cpu')"
   ]
  },
  {
   "cell_type": "code",
   "execution_count": 2,
   "metadata": {},
   "outputs": [],
   "source": [
    "BATCH_SIZE = 256\n",
    "INIT_PARAM = 1024\n",
    "NUM_FEATURES = 80"
   ]
  },
  {
   "cell_type": "code",
   "execution_count": 3,
   "metadata": {},
   "outputs": [],
   "source": [
    "df = pd.read_csv('../data/data_fe.csv')\n",
    "\n",
    "feature_importance = pd.read_csv('../data/feature_imporstance_WS.csv')\n",
    "\n",
    "features = list(feature_importance.iloc[:NUM_FEATURES]['feature_names'])\n",
    "df = df[features + ['Machine failure']]\n",
    "\n",
    "X_train,X_test,y_train,y_test = train_test_split(df.drop(columns=['Machine failure']),\n",
    "                                                 df['Machine failure'],\n",
    "                                                 shuffle=True,\n",
    "                                                 stratify=df['Machine failure'])"
   ]
  },
  {
   "cell_type": "code",
   "execution_count": 4,
   "metadata": {},
   "outputs": [],
   "source": [
    "X_train = pd.DataFrame(X_train).reset_index(drop = True)\n",
    "X_test = pd.DataFrame(X_test).reset_index(drop = True)\n",
    "y_train = y_train.reset_index(drop = True)\n",
    "y_test = y_test.reset_index(drop = True)"
   ]
  },
  {
   "cell_type": "code",
   "execution_count": 5,
   "metadata": {},
   "outputs": [],
   "source": [
    "df_train = pd.concat([X_train, y_train], axis=1)\n",
    "df_test = pd.concat([X_test, y_test], axis = 1)\n",
    "\n",
    "train_dataset = TableDatasetDF(df_train)\n",
    "val_dataset = TableDatasetDF(df_test)"
   ]
  },
  {
   "cell_type": "code",
   "execution_count": 6,
   "metadata": {},
   "outputs": [],
   "source": [
    "train_dl = DataLoader(\n",
    "    train_dataset, \n",
    "    batch_size=BATCH_SIZE, \n",
    "    shuffle=True\n",
    ")\n",
    "\n",
    "val_dl = DataLoader(\n",
    "    val_dataset,\n",
    "    batch_size=BATCH_SIZE, \n",
    "    shuffle=True\n",
    ")"
   ]
  },
  {
   "cell_type": "code",
   "execution_count": 7,
   "metadata": {},
   "outputs": [],
   "source": [
    "model1 = nn.Sequential(\n",
    "    nn.Linear(NUM_FEATURES, INIT_PARAM),\n",
    "    nn.BatchNorm1d(INIT_PARAM),\n",
    "    nn.Dropout(0.1),\n",
    "    nn.ReLU(),\n",
    "    nn.Linear(INIT_PARAM, int(INIT_PARAM/2)),\n",
    "    nn.BatchNorm1d(int(INIT_PARAM/2)),\n",
    "    nn.Dropout(0.1),\n",
    "    nn.ReLU(),\n",
    "    nn.Linear(int(INIT_PARAM/2), int(INIT_PARAM/4)),\n",
    "    nn.BatchNorm1d(int(INIT_PARAM/4)),\n",
    "    nn.Dropout(0.1),\n",
    "    nn.ReLU(),\n",
    "    nn.Linear(int(INIT_PARAM/4), int(INIT_PARAM/8)),\n",
    "    nn.BatchNorm1d(int(INIT_PARAM/8)),\n",
    "    nn.Dropout(0.1),\n",
    "    nn.ReLU(),\n",
    "    nn.Linear(int(INIT_PARAM/8), int(INIT_PARAM/16)),\n",
    "    nn.BatchNorm1d(int(INIT_PARAM/16)),\n",
    "    nn.Dropout(0.1),\n",
    "    nn.ReLU(),\n",
    "    ####################\n",
    "    nn.Linear(int(INIT_PARAM/16), int(INIT_PARAM/32)),\n",
    "    nn.BatchNorm1d(int(INIT_PARAM/32)),\n",
    "    nn.Dropout(0.1),\n",
    "    nn.ReLU(),\n",
    "    nn.Linear(int(INIT_PARAM/32), int(INIT_PARAM/64)),\n",
    "    nn.BatchNorm1d(int(INIT_PARAM/64)),\n",
    "    nn.Dropout(0.1),\n",
    "    nn.ReLU(),\n",
    "    nn.Linear(int(INIT_PARAM/64), int(INIT_PARAM/128)),\n",
    "    nn.BatchNorm1d(int(INIT_PARAM/128)),\n",
    "    nn.Dropout(0.1),\n",
    "    nn.ReLU(),\n",
    "    nn.Linear(int(INIT_PARAM/128), 2)\n",
    ")\n",
    "\n",
    "model2 = nn.Sequential(\n",
    "    nn.Linear(NUM_FEATURES, INIT_PARAM),\n",
    "    nn.BatchNorm1d(INIT_PARAM),\n",
    "    nn.Dropout(0.3),\n",
    "    nn.ReLU(),\n",
    "    nn.Linear(INIT_PARAM, int(INIT_PARAM/2)),\n",
    "    nn.BatchNorm1d(int(INIT_PARAM/2)),\n",
    "    nn.Dropout(0.3),\n",
    "    nn.ReLU(),\n",
    "    nn.Linear(int(INIT_PARAM/2), int(INIT_PARAM/4)),\n",
    "    nn.BatchNorm1d(int(INIT_PARAM/4)),\n",
    "    nn.Dropout(0.3),\n",
    "    nn.ReLU(),\n",
    "    nn.Linear(int(INIT_PARAM/4), int(INIT_PARAM/8)),\n",
    "    nn.BatchNorm1d(int(INIT_PARAM/8)),\n",
    "    nn.Dropout(0.3),\n",
    "    nn.ReLU(),\n",
    "    nn.Linear(int(INIT_PARAM/8), int(INIT_PARAM/16)),\n",
    "    nn.BatchNorm1d(int(INIT_PARAM/16)),\n",
    "    nn.Dropout(0.3),\n",
    "    nn.ReLU(),\n",
    "    nn.Linear(int(INIT_PARAM/16), 2)\n",
    ")\n",
    "\n",
    "models = [model1,model2]"
   ]
  },
  {
   "cell_type": "code",
   "execution_count": 8,
   "metadata": {},
   "outputs": [
    {
     "name": "stderr",
     "output_type": "stream",
     "text": [
      "Failed to detect the name of this notebook, you can set it manually with the WANDB_NOTEBOOK_NAME environment variable to enable code saving.\n",
      "wandb: Currently logged in as: dmitrii_fomin (dmitrii_fomin_uga). Use `wandb login --relogin` to force relogin\n"
     ]
    },
    {
     "data": {
      "text/html": [
       "wandb version 0.15.0 is available!  To upgrade, please run:\n",
       " $ pip install wandb --upgrade"
      ],
      "text/plain": [
       "<IPython.core.display.HTML object>"
      ]
     },
     "metadata": {},
     "output_type": "display_data"
    },
    {
     "data": {
      "text/html": [
       "Tracking run with wandb version 0.13.6"
      ],
      "text/plain": [
       "<IPython.core.display.HTML object>"
      ]
     },
     "metadata": {},
     "output_type": "display_data"
    },
    {
     "data": {
      "text/html": [
       "Run data is saved locally in <code>../logs/wandb\\run-20230423_205224-22zmh2m2</code>"
      ],
      "text/plain": [
       "<IPython.core.display.HTML object>"
      ]
     },
     "metadata": {},
     "output_type": "display_data"
    },
    {
     "data": {
      "text/html": [
       "Syncing run <strong><a href=\"https://wandb.ai/dmitrii_fomin_uga/Internship_project/runs/22zmh2m2\" target=\"_blank\">fe_1024_128_80</a></strong> to <a href=\"https://wandb.ai/dmitrii_fomin_uga/Internship_project\" target=\"_blank\">Weights & Biases</a> (<a href=\"https://wandb.me/run\" target=\"_blank\">docs</a>)<br/>"
      ],
      "text/plain": [
       "<IPython.core.display.HTML object>"
      ]
     },
     "metadata": {},
     "output_type": "display_data"
    },
    {
     "name": "stderr",
     "output_type": "stream",
     "text": [
      "I'm studying hard now🧐, don't disturb!: 100%|██████████| 30/30 [00:03<00:00,  7.95it/s]\n",
      "Let's see how good I am...: 100%|██████████| 10/10 [00:00<00:00, 15.97it/s]\n"
     ]
    },
    {
     "ename": "OSError",
     "evalue": "[WinError 1314] Клиент не обладает требуемыми правами: 'd:\\\\Dmitry\\\\Documents\\\\GitHub\\\\Internship-project\\\\logs\\\\nn_models\\\\fe_1024_128_80.pth' -> '../logs/wandb\\\\run-20230423_205224-22zmh2m2\\\\files\\\\nn_models\\\\fe_1024_128_80.pth'",
     "output_type": "error",
     "traceback": [
      "\u001b[1;31m---------------------------------------------------------------------------\u001b[0m",
      "\u001b[1;31mOSError\u001b[0m                                   Traceback (most recent call last)",
      "\u001b[1;32md:\\Dmitry\\Documents\\GitHub\\Internship-project\\notebooks\\05. DNN model.ipynb Cell 8\u001b[0m in \u001b[0;36m<cell line: 1>\u001b[1;34m()\u001b[0m\n\u001b[1;32m----> <a href='vscode-notebook-cell:/d%3A/Dmitry/Documents/GitHub/Internship-project/notebooks/05.%20DNN%20model.ipynb#X14sZmlsZQ%3D%3D?line=0'>1</a>\u001b[0m make_experiments(train_dl, val_dl, models, [\u001b[39m128\u001b[39;49m])\n",
      "File \u001b[1;32md:\\Dmitry\\Documents\\GitHub\\Internship-project\\src\\tools.py:174\u001b[0m, in \u001b[0;36mmake_experiments\u001b[1;34m(train_dl, val_dl, models, batch_sizes, device)\u001b[0m\n\u001b[0;32m    155\u001b[0m wandb_init_params \u001b[39m=\u001b[39m \u001b[39mdict\u001b[39m(\n\u001b[0;32m    156\u001b[0m     name\u001b[39m=\u001b[39m\u001b[39mf\u001b[39m\u001b[39m'\u001b[39m\u001b[39mfe_\u001b[39m\u001b[39m{\u001b[39;00mmodel[\u001b[39m0\u001b[39m]\u001b[39m.\u001b[39mweight\u001b[39m.\u001b[39mshape[\u001b[39m0\u001b[39m]\u001b[39m}\u001b[39;00m\u001b[39m_\u001b[39m\u001b[39m{\u001b[39;00mbatch_size\u001b[39m}\u001b[39;00m\u001b[39m_\u001b[39m\u001b[39m{\u001b[39;00mtrain_dl\u001b[39m.\u001b[39mdataset\u001b[39m.\u001b[39mdata\u001b[39m.\u001b[39mshape[\u001b[39m1\u001b[39m] \u001b[39m-\u001b[39m \u001b[39m1\u001b[39m\u001b[39m}\u001b[39;00m\u001b[39m'\u001b[39m,\n\u001b[0;32m    157\u001b[0m     project\u001b[39m=\u001b[39m\u001b[39m\"\u001b[39m\u001b[39mInternship_project\u001b[39m\u001b[39m\"\u001b[39m,\n\u001b[0;32m    158\u001b[0m     \u001b[39mdir\u001b[39m \u001b[39m=\u001b[39m \u001b[39m'\u001b[39m\u001b[39m../logs/\u001b[39m\u001b[39m'\u001b[39m\n\u001b[0;32m    159\u001b[0m )\n\u001b[0;32m    161\u001b[0m trainer \u001b[39m=\u001b[39m Trainer(train_dl,\n\u001b[0;32m    162\u001b[0m         val_dl,\n\u001b[0;32m    163\u001b[0m         loss,\n\u001b[1;32m   (...)\u001b[0m\n\u001b[0;32m    172\u001b[0m         model_dir\u001b[39m=\u001b[39m\u001b[39m'\u001b[39m\u001b[39m../logs/nn_models/\u001b[39m\u001b[39m'\u001b[39m\n\u001b[0;32m    173\u001b[0m         )\n\u001b[1;32m--> 174\u001b[0m trainer\u001b[39m.\u001b[39;49mtrain_model(learning_params)\n\u001b[0;32m    175\u001b[0m wandb\u001b[39m.\u001b[39mfinish()\n",
      "File \u001b[1;32md:\\Dmitry\\Documents\\GitHub\\Internship-project\\src\\trainer.py:101\u001b[0m, in \u001b[0;36mTrainer.train_model\u001b[1;34m(self, learning_params)\u001b[0m\n\u001b[0;32m     99\u001b[0m     torch\u001b[39m.\u001b[39msave(\u001b[39mself\u001b[39m\u001b[39m.\u001b[39mmodel\u001b[39m.\u001b[39mstate_dict(), log_path)\n\u001b[0;32m    100\u001b[0m     model_artifact\u001b[39m.\u001b[39madd_file(log_path)\n\u001b[1;32m--> 101\u001b[0m     wandb\u001b[39m.\u001b[39;49msave(log_path, base_path \u001b[39m=\u001b[39;49m \u001b[39mself\u001b[39;49m\u001b[39m.\u001b[39;49mwandb_init_params[\u001b[39m'\u001b[39;49m\u001b[39mdir\u001b[39;49m\u001b[39m'\u001b[39;49m])\n\u001b[0;32m    103\u001b[0m     \u001b[39mself\u001b[39m\u001b[39m.\u001b[39mrun\u001b[39m.\u001b[39mlog_artifact(model_artifact)\n\u001b[0;32m    104\u001b[0m \u001b[39mself\u001b[39m\u001b[39m.\u001b[39mupdate_metrics(epoch\u001b[39m=\u001b[39mepoch, \n\u001b[0;32m    105\u001b[0m                     \u001b[39m*\u001b[39m\u001b[39m*\u001b[39mtrain_to_update, \n\u001b[0;32m    106\u001b[0m                     \u001b[39m*\u001b[39m\u001b[39m*\u001b[39mval_to_update, \n\u001b[0;32m    107\u001b[0m                     lr\u001b[39m=\u001b[39m\u001b[39mself\u001b[39m\u001b[39m.\u001b[39mscheduler\u001b[39m.\u001b[39mget_last_lr()[\u001b[39m0\u001b[39m]\n\u001b[0;32m    108\u001b[0m                    )\n",
      "File \u001b[1;32mc:\\Users\\Dmitry\\miniconda3\\envs\\env1\\lib\\site-packages\\wandb\\sdk\\wandb_run.py:255\u001b[0m, in \u001b[0;36m_run_decorator._attach.<locals>.wrapper\u001b[1;34m(self, *args, **kwargs)\u001b[0m\n\u001b[0;32m    253\u001b[0m         \u001b[39mraise\u001b[39;00m e\n\u001b[0;32m    254\u001b[0m     \u001b[39mcls\u001b[39m\u001b[39m.\u001b[39m_is_attaching \u001b[39m=\u001b[39m \u001b[39m\"\u001b[39m\u001b[39m\"\u001b[39m\n\u001b[1;32m--> 255\u001b[0m \u001b[39mreturn\u001b[39;00m func(\u001b[39mself\u001b[39m, \u001b[39m*\u001b[39margs, \u001b[39m*\u001b[39m\u001b[39m*\u001b[39mkwargs)\n",
      "File \u001b[1;32mc:\\Users\\Dmitry\\miniconda3\\envs\\env1\\lib\\site-packages\\wandb\\sdk\\wandb_run.py:1643\u001b[0m, in \u001b[0;36mRun.save\u001b[1;34m(self, glob_str, base_path, policy)\u001b[0m\n\u001b[0;32m   1634\u001b[0m     deprecate\u001b[39m.\u001b[39mdeprecate(\n\u001b[0;32m   1635\u001b[0m         field_name\u001b[39m=\u001b[39mdeprecate\u001b[39m.\u001b[39mDeprecated\u001b[39m.\u001b[39mrun__save_no_args,\n\u001b[0;32m   1636\u001b[0m         warning_message\u001b[39m=\u001b[39m(\n\u001b[1;32m   (...)\u001b[0m\n\u001b[0;32m   1639\u001b[0m         ),\n\u001b[0;32m   1640\u001b[0m     )\n\u001b[0;32m   1641\u001b[0m     \u001b[39mreturn\u001b[39;00m \u001b[39mTrue\u001b[39;00m\n\u001b[1;32m-> 1643\u001b[0m \u001b[39mreturn\u001b[39;00m \u001b[39mself\u001b[39;49m\u001b[39m.\u001b[39;49m_save(glob_str, base_path, policy)\n",
      "File \u001b[1;32mc:\\Users\\Dmitry\\miniconda3\\envs\\env1\\lib\\site-packages\\wandb\\sdk\\wandb_run.py:1697\u001b[0m, in \u001b[0;36mRun._save\u001b[1;34m(self, glob_str, base_path, policy)\u001b[0m\n\u001b[0;32m   1695\u001b[0m         os\u001b[39m.\u001b[39msymlink(abs_path, wandb_path)\n\u001b[0;32m   1696\u001b[0m     \u001b[39melif\u001b[39;00m \u001b[39mnot\u001b[39;00m os\u001b[39m.\u001b[39mpath\u001b[39m.\u001b[39mexists(wandb_path):\n\u001b[1;32m-> 1697\u001b[0m         os\u001b[39m.\u001b[39;49msymlink(abs_path, wandb_path)\n\u001b[0;32m   1698\u001b[0m     files\u001b[39m.\u001b[39mappend(wandb_path)\n\u001b[0;32m   1699\u001b[0m \u001b[39mif\u001b[39;00m warn:\n",
      "\u001b[1;31mOSError\u001b[0m: [WinError 1314] Клиент не обладает требуемыми правами: 'd:\\\\Dmitry\\\\Documents\\\\GitHub\\\\Internship-project\\\\logs\\\\nn_models\\\\fe_1024_128_80.pth' -> '../logs/wandb\\\\run-20230423_205224-22zmh2m2\\\\files\\\\nn_models\\\\fe_1024_128_80.pth'"
     ]
    }
   ],
   "source": [
    "make_experiments(train_dl, val_dl, models, [128])"
   ]
  },
  {
   "cell_type": "code",
   "execution_count": 13,
   "metadata": {},
   "outputs": [],
   "source": [
    "loss = Loss_class(FocalLoss(gamma=3))\n",
    "model_factory = partial(Model_class)\n",
    "optimizer_factory = partial(torch.optim.AdamW)\n",
    "scheduler_factory = partial(lr.ExponentialLR)\n",
    "\n",
    "model_params = dict(model=model,\n",
    "                    device=device)\n",
    "optimizer_params = dict(weight_decay=1e-3, lr=1e-2)\n",
    "scheduler_params = dict(gamma=0.95)\n",
    "\n",
    "learning_params = dict(batch_size=BATCH_SIZE, num_epoch=40)\n",
    "\n",
    "wandb_init_params = dict(\n",
    "    name=f'fe_{INIT_PARAM}_{BATCH_SIZE}_{NUM_FEATURES}',\n",
    "    project=\"Internship_project\",\n",
    "    dir = '../logs/'\n",
    ")"
   ]
  },
  {
   "cell_type": "code",
   "execution_count": 14,
   "metadata": {},
   "outputs": [
    {
     "name": "stderr",
     "output_type": "stream",
     "text": [
      "Failed to detect the name of this notebook, you can set it manually with the WANDB_NOTEBOOK_NAME environment variable to enable code saving.\n",
      "wandb: Currently logged in as: dmitrii_fomin (dmitrii_fomin_uga). Use `wandb login --relogin` to force relogin\n"
     ]
    },
    {
     "data": {
      "text/html": [
       "wandb version 0.15.0 is available!  To upgrade, please run:\n",
       " $ pip install wandb --upgrade"
      ],
      "text/plain": [
       "<IPython.core.display.HTML object>"
      ]
     },
     "metadata": {},
     "output_type": "display_data"
    },
    {
     "data": {
      "text/html": [
       "Tracking run with wandb version 0.13.6"
      ],
      "text/plain": [
       "<IPython.core.display.HTML object>"
      ]
     },
     "metadata": {},
     "output_type": "display_data"
    },
    {
     "data": {
      "text/html": [
       "Run data is saved locally in <code>../logs/wandb\\run-20230423_202741-2p9jl7up</code>"
      ],
      "text/plain": [
       "<IPython.core.display.HTML object>"
      ]
     },
     "metadata": {},
     "output_type": "display_data"
    },
    {
     "data": {
      "text/html": [
       "Syncing run <strong><a href=\"https://wandb.ai/dmitrii_fomin_uga/Internship_project/runs/2p9jl7up\" target=\"_blank\">fe_1024_256_80</a></strong> to <a href=\"https://wandb.ai/dmitrii_fomin_uga/Internship_project\" target=\"_blank\">Weights & Biases</a> (<a href=\"https://wandb.me/run\" target=\"_blank\">docs</a>)<br/>"
      ],
      "text/plain": [
       "<IPython.core.display.HTML object>"
      ]
     },
     "metadata": {},
     "output_type": "display_data"
    }
   ],
   "source": [
    "trainer = Trainer(train_dl,\n",
    "                  val_dl,\n",
    "                  loss,\n",
    "                  model_factory=model_factory,\n",
    "                  optimizer_factory=optimizer_factory,\n",
    "                  scheduler_factory=scheduler_factory,\n",
    "                  model_params=model_params,\n",
    "                  optimizer_params=optimizer_params,\n",
    "                  scheduler_params=scheduler_params,\n",
    "                  log=True,\n",
    "                  wandb_init_params=wandb_init_params,\n",
    "                  model_dir='../logs/nn_models/'\n",
    "                  )"
   ]
  },
  {
   "cell_type": "code",
   "execution_count": 15,
   "metadata": {},
   "outputs": [
    {
     "name": "stderr",
     "output_type": "stream",
     "text": [
      "I'm studying hard now🧐, don't disturb!:  97%|█████████▋| 29/30 [00:03<00:00, 13.69it/s]c:\\Users\\Dmitry\\miniconda3\\envs\\env1\\lib\\site-packages\\sklearn\\metrics\\_ranking.py:999: UndefinedMetricWarning: No positive samples in y_true, true positive value should be meaningless\n",
      "  warnings.warn(\n",
      "I'm studying hard now🧐, don't disturb!: 100%|██████████| 30/30 [00:03<00:00,  9.06it/s]\n",
      "Let's see how good I am...: 100%|██████████| 10/10 [00:00<00:00, 18.81it/s]\n"
     ]
    },
    {
     "name": "stdout",
     "output_type": "stream",
     "text": [
      "Epoch: 1 of 40, 0.069 min\n"
     ]
    },
    {
     "name": "stderr",
     "output_type": "stream",
     "text": [
      "I'm studying hard now🧐, don't disturb!: 100%|██████████| 30/30 [00:01<00:00, 15.50it/s]\n",
      "Let's see how good I am...: 100%|██████████| 10/10 [00:00<00:00, 18.42it/s]\n"
     ]
    },
    {
     "name": "stdout",
     "output_type": "stream",
     "text": [
      "Epoch: 2 of 40, 0.046 min\n"
     ]
    },
    {
     "name": "stderr",
     "output_type": "stream",
     "text": [
      "I'm studying hard now🧐, don't disturb!: 100%|██████████| 30/30 [00:01<00:00, 15.25it/s]\n",
      "Let's see how good I am...: 100%|██████████| 10/10 [00:00<00:00, 18.29it/s]\n"
     ]
    },
    {
     "name": "stdout",
     "output_type": "stream",
     "text": [
      "Epoch: 3 of 40, 0.047 min\n"
     ]
    },
    {
     "name": "stderr",
     "output_type": "stream",
     "text": [
      "I'm studying hard now🧐, don't disturb!: 100%|██████████| 30/30 [00:01<00:00, 15.49it/s]\n",
      "Let's see how good I am...: 100%|██████████| 10/10 [00:00<00:00, 18.57it/s]\n"
     ]
    },
    {
     "name": "stdout",
     "output_type": "stream",
     "text": [
      "Epoch: 4 of 40, 0.047 min\n"
     ]
    },
    {
     "name": "stderr",
     "output_type": "stream",
     "text": [
      "I'm studying hard now🧐, don't disturb!: 100%|██████████| 30/30 [00:01<00:00, 15.63it/s]\n",
      "Let's see how good I am...: 100%|██████████| 10/10 [00:00<00:00, 18.49it/s]\n"
     ]
    },
    {
     "name": "stdout",
     "output_type": "stream",
     "text": [
      "Epoch: 5 of 40, 0.046 min\n"
     ]
    },
    {
     "name": "stderr",
     "output_type": "stream",
     "text": [
      "I'm studying hard now🧐, don't disturb!: 100%|██████████| 30/30 [00:01<00:00, 15.59it/s]\n",
      "Let's see how good I am...: 100%|██████████| 10/10 [00:00<00:00, 18.14it/s]\n"
     ]
    },
    {
     "name": "stdout",
     "output_type": "stream",
     "text": [
      "Epoch: 6 of 40, 0.048 min\n"
     ]
    },
    {
     "name": "stderr",
     "output_type": "stream",
     "text": [
      "I'm studying hard now🧐, don't disturb!: 100%|██████████| 30/30 [00:01<00:00, 15.42it/s]\n",
      "Let's see how good I am...: 100%|██████████| 10/10 [00:00<00:00, 17.92it/s]\n"
     ]
    },
    {
     "name": "stdout",
     "output_type": "stream",
     "text": [
      "Epoch: 7 of 40, 0.046 min\n"
     ]
    },
    {
     "name": "stderr",
     "output_type": "stream",
     "text": [
      "I'm studying hard now🧐, don't disturb!: 100%|██████████| 30/30 [00:02<00:00, 15.17it/s]\n",
      "Let's see how good I am...: 100%|██████████| 10/10 [00:00<00:00, 17.38it/s]\n"
     ]
    },
    {
     "name": "stdout",
     "output_type": "stream",
     "text": [
      "Epoch: 8 of 40, 0.051 min\n"
     ]
    },
    {
     "name": "stderr",
     "output_type": "stream",
     "text": [
      "I'm studying hard now🧐, don't disturb!: 100%|██████████| 30/30 [00:02<00:00, 14.61it/s]\n",
      "Let's see how good I am...: 100%|██████████| 10/10 [00:00<00:00, 17.46it/s]\n"
     ]
    },
    {
     "name": "stdout",
     "output_type": "stream",
     "text": [
      "Epoch: 9 of 40, 0.048 min\n"
     ]
    },
    {
     "name": "stderr",
     "output_type": "stream",
     "text": [
      "I'm studying hard now🧐, don't disturb!: 100%|██████████| 30/30 [00:02<00:00, 15.37it/s]\n",
      "Let's see how good I am...: 100%|██████████| 10/10 [00:00<00:00, 17.73it/s]\n"
     ]
    },
    {
     "name": "stdout",
     "output_type": "stream",
     "text": [
      "Epoch: 10 of 40, 0.049 min\n"
     ]
    },
    {
     "name": "stderr",
     "output_type": "stream",
     "text": [
      "I'm studying hard now🧐, don't disturb!:  93%|█████████▎| 28/30 [00:01<00:00, 14.61it/s]c:\\Users\\Dmitry\\miniconda3\\envs\\env1\\lib\\site-packages\\sklearn\\metrics\\_ranking.py:999: UndefinedMetricWarning: No positive samples in y_true, true positive value should be meaningless\n",
      "  warnings.warn(\n",
      "I'm studying hard now🧐, don't disturb!: 100%|██████████| 30/30 [00:02<00:00, 14.71it/s]\n",
      "Let's see how good I am...: 100%|██████████| 10/10 [00:00<00:00, 16.86it/s]\n"
     ]
    },
    {
     "name": "stdout",
     "output_type": "stream",
     "text": [
      "Epoch: 11 of 40, 0.048 min\n"
     ]
    },
    {
     "name": "stderr",
     "output_type": "stream",
     "text": [
      "I'm studying hard now🧐, don't disturb!: 100%|██████████| 30/30 [00:02<00:00, 16.16it/s]\n",
      "Let's see how good I am...: 100%|██████████| 10/10 [00:00<00:00, 17.64it/s]\n"
     ]
    },
    {
     "name": "stdout",
     "output_type": "stream",
     "text": [
      "Epoch: 12 of 40, 0.050 min\n"
     ]
    },
    {
     "name": "stderr",
     "output_type": "stream",
     "text": [
      "I'm studying hard now🧐, don't disturb!: 100%|██████████| 30/30 [00:02<00:00, 14.47it/s]\n",
      "Let's see how good I am...: 100%|██████████| 10/10 [00:00<00:00, 16.05it/s]\n"
     ]
    },
    {
     "name": "stdout",
     "output_type": "stream",
     "text": [
      "Epoch: 13 of 40, 0.050 min\n"
     ]
    },
    {
     "name": "stderr",
     "output_type": "stream",
     "text": [
      "I'm studying hard now🧐, don't disturb!: 100%|██████████| 30/30 [00:02<00:00, 14.88it/s]\n",
      "Let's see how good I am...: 100%|██████████| 10/10 [00:00<00:00, 17.97it/s]\n"
     ]
    },
    {
     "name": "stdout",
     "output_type": "stream",
     "text": [
      "Epoch: 14 of 40, 0.047 min\n"
     ]
    },
    {
     "name": "stderr",
     "output_type": "stream",
     "text": [
      "I'm studying hard now🧐, don't disturb!: 100%|██████████| 30/30 [00:02<00:00, 14.55it/s]\n",
      "Let's see how good I am...: 100%|██████████| 10/10 [00:00<00:00, 17.00it/s]\n"
     ]
    },
    {
     "name": "stdout",
     "output_type": "stream",
     "text": [
      "Epoch: 15 of 40, 0.049 min\n"
     ]
    },
    {
     "name": "stderr",
     "output_type": "stream",
     "text": [
      "I'm studying hard now🧐, don't disturb!:  73%|███████▎  | 22/30 [00:01<00:00, 14.99it/s]"
     ]
    }
   ],
   "source": [
    "trainer.train_model(learning_params)\n",
    "wandb.finish()"
   ]
  }
 ],
 "metadata": {
  "kernelspec": {
   "display_name": "env1",
   "language": "python",
   "name": "python3"
  },
  "language_info": {
   "codemirror_mode": {
    "name": "ipython",
    "version": 3
   },
   "file_extension": ".py",
   "mimetype": "text/x-python",
   "name": "python",
   "nbconvert_exporter": "python",
   "pygments_lexer": "ipython3",
   "version": "3.10.4"
  },
  "orig_nbformat": 4
 },
 "nbformat": 4,
 "nbformat_minor": 2
}
