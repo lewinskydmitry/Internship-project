{
 "cells": [
  {
   "cell_type": "code",
   "execution_count": 1,
   "metadata": {},
   "outputs": [],
   "source": [
    "import os\n",
    "import sys\n",
    "sys.path.append(os.path.abspath(os.path.join(os.path.dirname('src'), '..')))\n",
    "\n",
    "import pandas as pd\n",
    "from sklearn.model_selection import train_test_split\n",
    "import wandb\n",
    "\n",
    "import torch\n",
    "import torch.nn as nn\n",
    "from torch.utils.data import DataLoader\n",
    "import torch.optim.lr_scheduler as lr\n",
    "torch.manual_seed(42)\n",
    "generator = torch.Generator()\n",
    "generator.manual_seed(42)\n",
    "torch.backends.cudnn.deterministic = True\n",
    "\n",
    "from functools import partial\n",
    "\n",
    "from src.trainer import Trainer\n",
    "from src.Focal_loss import FocalLoss\n",
    "from src.Model_class import Model_class\n",
    "from src.Loss_class import Loss_class\n",
    "from src.DataLoader import TableDatasetDF\n",
    "\n",
    "device = torch.device('cuda' if torch.cuda.is_available() else 'cpu')"
   ]
  },
  {
   "cell_type": "code",
   "execution_count": 2,
   "metadata": {},
   "outputs": [],
   "source": [
    "BATCH_SIZE = 256\n",
    "INIT_PARAM = 1024\n",
    "NUM_FEATURES = 80"
   ]
  },
  {
   "cell_type": "code",
   "execution_count": 3,
   "metadata": {},
   "outputs": [],
   "source": [
    "df = pd.read_csv('../data/data_fe.csv')\n",
    "feature_importance = pd.read_csv('../data/feature_imporstance_WS.csv')"
   ]
  },
  {
   "cell_type": "code",
   "execution_count": 4,
   "metadata": {},
   "outputs": [],
   "source": [
    "features = list(feature_importance.iloc[:NUM_FEATURES]['feature_names'])\n",
    "df = df[features + ['Machine failure']]\n",
    "\n",
    "X_train,X_test,y_train,y_test = train_test_split(df.drop(columns=['Machine failure']),\n",
    "                                                 df['Machine failure'],\n",
    "                                                 shuffle=True,\n",
    "                                                 stratify=df['Machine failure'], random_state=42)"
   ]
  },
  {
   "cell_type": "code",
   "execution_count": 5,
   "metadata": {},
   "outputs": [],
   "source": [
    "X_train = pd.DataFrame(X_train).reset_index(drop = True)\n",
    "X_test = pd.DataFrame(X_test).reset_index(drop = True)\n",
    "y_train = y_train.reset_index(drop = True)\n",
    "y_test = y_test.reset_index(drop = True)"
   ]
  },
  {
   "cell_type": "code",
   "execution_count": 6,
   "metadata": {},
   "outputs": [],
   "source": [
    "df_train = pd.concat([X_train, y_train], axis=1)\n",
    "df_test = pd.concat([X_test, y_test], axis = 1)\n",
    "\n",
    "train_dataset = TableDatasetDF(df_train)\n",
    "val_dataset = TableDatasetDF(df_test)"
   ]
  },
  {
   "cell_type": "code",
   "execution_count": 7,
   "metadata": {},
   "outputs": [],
   "source": [
    "train_dl = DataLoader(\n",
    "    train_dataset, \n",
    "    batch_size=BATCH_SIZE, \n",
    "    shuffle=True,\n",
    "    generator=generator\n",
    ")\n",
    "\n",
    "val_dl = DataLoader(\n",
    "    val_dataset,\n",
    "    batch_size=BATCH_SIZE, \n",
    "    shuffle=True,\n",
    "    generator=generator\n",
    ")"
   ]
  },
  {
   "cell_type": "code",
   "execution_count": 8,
   "metadata": {},
   "outputs": [],
   "source": [
    "model = nn.Sequential(\n",
    "    nn.Linear(NUM_FEATURES, INIT_PARAM),\n",
    "    nn.BatchNorm1d(INIT_PARAM),\n",
    "    nn.Dropout(0.3),\n",
    "    nn.ReLU(),\n",
    "    nn.Linear(INIT_PARAM, int(INIT_PARAM/2)),\n",
    "    nn.BatchNorm1d(int(INIT_PARAM/2)),\n",
    "    nn.Dropout(0.3),\n",
    "    nn.ReLU(),\n",
    "    nn.Linear(int(INIT_PARAM/2), int(INIT_PARAM/4)),\n",
    "    nn.BatchNorm1d(int(INIT_PARAM/4)),\n",
    "    nn.Dropout(0.3),\n",
    "    nn.ReLU(),\n",
    "    nn.Linear(int(INIT_PARAM/4), int(INIT_PARAM/8)),\n",
    "    nn.BatchNorm1d(int(INIT_PARAM/8)),\n",
    "    nn.Dropout(0.3),\n",
    "    nn.ReLU(),\n",
    "    nn.Linear(int(INIT_PARAM/8), int(INIT_PARAM/16)),\n",
    "    nn.BatchNorm1d(int(INIT_PARAM/16)),\n",
    "    nn.Dropout(0.3),\n",
    "    nn.ReLU(),\n",
    "    nn.Linear(int(INIT_PARAM/16), 2)\n",
    ")"
   ]
  },
  {
   "cell_type": "code",
   "execution_count": 9,
   "metadata": {},
   "outputs": [],
   "source": [
    "loss = Loss_class(FocalLoss(gamma=3))\n",
    "model_factory = partial(Model_class)\n",
    "optimizer_factory = partial(torch.optim.AdamW)\n",
    "scheduler_factory = partial(lr.ExponentialLR)\n",
    "\n",
    "model_params = dict(model=model,\n",
    "                    device=device)\n",
    "\n",
    "optimizer_params = dict(weight_decay=1e-3, lr=1e-2)\n",
    "scheduler_params = dict(gamma=0.95)\n",
    "\n",
    "learning_params = dict(batch_size=BATCH_SIZE, num_epoch=40)\n",
    "\n",
    "wandb_init_params = dict(\n",
    "    name=f'fe_{INIT_PARAM}_{BATCH_SIZE}_{NUM_FEATURES}',\n",
    "    project=\"Internship_project\",\n",
    "    dir = '../logs/'\n",
    ")"
   ]
  },
  {
   "cell_type": "code",
   "execution_count": 10,
   "metadata": {},
   "outputs": [
    {
     "name": "stderr",
     "output_type": "stream",
     "text": [
      "Failed to detect the name of this notebook, you can set it manually with the WANDB_NOTEBOOK_NAME environment variable to enable code saving.\n",
      "\u001b[34m\u001b[1mwandb\u001b[0m: Currently logged in as: \u001b[33mdmitrii_fomin\u001b[0m (\u001b[33mdmitrii_fomin_uga\u001b[0m). Use \u001b[1m`wandb login --relogin`\u001b[0m to force relogin\n"
     ]
    },
    {
     "data": {
      "text/html": [
       "wandb version 0.15.0 is available!  To upgrade, please run:\n",
       " $ pip install wandb --upgrade"
      ],
      "text/plain": [
       "<IPython.core.display.HTML object>"
      ]
     },
     "metadata": {},
     "output_type": "display_data"
    },
    {
     "data": {
      "text/html": [
       "Tracking run with wandb version 0.13.6"
      ],
      "text/plain": [
       "<IPython.core.display.HTML object>"
      ]
     },
     "metadata": {},
     "output_type": "display_data"
    },
    {
     "data": {
      "text/html": [
       "Run data is saved locally in <code>../logs/wandb/run-20230428_202231-3tsaf635</code>"
      ],
      "text/plain": [
       "<IPython.core.display.HTML object>"
      ]
     },
     "metadata": {},
     "output_type": "display_data"
    },
    {
     "data": {
      "text/html": [
       "Syncing run <strong><a href=\"https://wandb.ai/dmitrii_fomin_uga/Internship_project/runs/3tsaf635\" target=\"_blank\">fe_1024_256_80</a></strong> to <a href=\"https://wandb.ai/dmitrii_fomin_uga/Internship_project\" target=\"_blank\">Weights & Biases</a> (<a href=\"https://wandb.me/run\" target=\"_blank\">docs</a>)<br/>"
      ],
      "text/plain": [
       "<IPython.core.display.HTML object>"
      ]
     },
     "metadata": {},
     "output_type": "display_data"
    }
   ],
   "source": [
    "trainer = Trainer(train_dl,\n",
    "                  val_dl,\n",
    "                  loss,\n",
    "                  model_factory=model_factory,\n",
    "                  optimizer_factory=optimizer_factory,\n",
    "                  scheduler_factory=scheduler_factory,\n",
    "                  model_params=model_params,\n",
    "                  optimizer_params=optimizer_params,\n",
    "                  scheduler_params=scheduler_params,\n",
    "                  log=True,\n",
    "                  wandb_init_params=wandb_init_params,\n",
    "                  model_dir='../logs/nn_models/'\n",
    "                  )"
   ]
  },
  {
   "cell_type": "code",
   "execution_count": 11,
   "metadata": {},
   "outputs": [
    {
     "name": "stderr",
     "output_type": "stream",
     "text": [
      "I'm studying hard now🧐, don't disturb!: 100%|██████████| 30/30 [00:03<00:00,  8.90it/s]\n",
      "Let's see how good I am...: 100%|██████████| 10/10 [00:00<00:00, 10.64it/s]\n"
     ]
    },
    {
     "name": "stdout",
     "output_type": "stream",
     "text": [
      "Epoch: 1 of 40, 0.085 min\n"
     ]
    },
    {
     "name": "stderr",
     "output_type": "stream",
     "text": [
      "I'm studying hard now🧐, don't disturb!: 100%|██████████| 30/30 [00:03<00:00,  9.07it/s]\n",
      "Let's see how good I am...: 100%|██████████| 10/10 [00:00<00:00, 11.20it/s]\n"
     ]
    },
    {
     "name": "stdout",
     "output_type": "stream",
     "text": [
      "Epoch: 2 of 40, 0.074 min\n"
     ]
    },
    {
     "name": "stderr",
     "output_type": "stream",
     "text": [
      "I'm studying hard now🧐, don't disturb!:  97%|█████████▋| 29/30 [00:03<00:00,  9.17it/s]/opt/miniconda3/envs/env1/lib/python3.9/site-packages/sklearn/metrics/_ranking.py:999: UndefinedMetricWarning: No positive samples in y_true, true positive value should be meaningless\n",
      "  warnings.warn(\n",
      "/Users/fomindmitry/Google Диск/Github/Internship_project/src/Loss_class.py:23: RuntimeWarning: invalid value encountered in long_scalars\n",
      "  tpr = tp / (tp + fn)\n",
      "I'm studying hard now🧐, don't disturb!: 100%|██████████| 30/30 [00:03<00:00,  8.93it/s]\n",
      "Let's see how good I am...: 100%|██████████| 10/10 [00:00<00:00, 11.65it/s]\n"
     ]
    },
    {
     "name": "stdout",
     "output_type": "stream",
     "text": [
      "Epoch: 3 of 40, 0.074 min\n"
     ]
    },
    {
     "name": "stderr",
     "output_type": "stream",
     "text": [
      "I'm studying hard now🧐, don't disturb!: 100%|██████████| 30/30 [00:03<00:00,  8.83it/s]\n",
      "Let's see how good I am...: 100%|██████████| 10/10 [00:00<00:00, 11.63it/s]\n"
     ]
    },
    {
     "name": "stdout",
     "output_type": "stream",
     "text": [
      "Epoch: 4 of 40, 0.075 min\n"
     ]
    },
    {
     "name": "stderr",
     "output_type": "stream",
     "text": [
      "I'm studying hard now🧐, don't disturb!: 100%|██████████| 30/30 [00:03<00:00,  9.22it/s]\n",
      "Let's see how good I am...: 100%|██████████| 10/10 [00:00<00:00, 11.78it/s]\n"
     ]
    },
    {
     "name": "stdout",
     "output_type": "stream",
     "text": [
      "Epoch: 5 of 40, 0.073 min\n"
     ]
    },
    {
     "name": "stderr",
     "output_type": "stream",
     "text": [
      "I'm studying hard now🧐, don't disturb!: 100%|██████████| 30/30 [00:03<00:00,  9.29it/s]\n",
      "Let's see how good I am...: 100%|██████████| 10/10 [00:00<00:00, 11.69it/s]\n"
     ]
    },
    {
     "name": "stdout",
     "output_type": "stream",
     "text": [
      "Epoch: 6 of 40, 0.074 min\n"
     ]
    },
    {
     "name": "stderr",
     "output_type": "stream",
     "text": [
      "I'm studying hard now🧐, don't disturb!: 100%|██████████| 30/30 [00:03<00:00,  9.22it/s]\n",
      "Let's see how good I am...: 100%|██████████| 10/10 [00:00<00:00, 11.84it/s]\n"
     ]
    },
    {
     "name": "stdout",
     "output_type": "stream",
     "text": [
      "Epoch: 7 of 40, 0.073 min\n"
     ]
    },
    {
     "name": "stderr",
     "output_type": "stream",
     "text": [
      "I'm studying hard now🧐, don't disturb!: 100%|██████████| 30/30 [00:03<00:00,  9.33it/s]\n",
      "Let's see how good I am...: 100%|██████████| 10/10 [00:00<00:00, 11.77it/s]\n"
     ]
    },
    {
     "name": "stdout",
     "output_type": "stream",
     "text": [
      "Epoch: 8 of 40, 0.072 min\n"
     ]
    },
    {
     "name": "stderr",
     "output_type": "stream",
     "text": [
      "I'm studying hard now🧐, don't disturb!: 100%|██████████| 30/30 [00:03<00:00,  9.39it/s]\n",
      "Let's see how good I am...: 100%|██████████| 10/10 [00:00<00:00, 11.86it/s]\n"
     ]
    },
    {
     "name": "stdout",
     "output_type": "stream",
     "text": [
      "Epoch: 9 of 40, 0.072 min\n"
     ]
    },
    {
     "name": "stderr",
     "output_type": "stream",
     "text": [
      "I'm studying hard now🧐, don't disturb!: 100%|██████████| 30/30 [00:03<00:00,  9.53it/s]\n",
      "Let's see how good I am...: 100%|██████████| 10/10 [00:00<00:00, 10.90it/s]\n"
     ]
    },
    {
     "name": "stdout",
     "output_type": "stream",
     "text": [
      "Epoch: 10 of 40, 0.072 min\n"
     ]
    },
    {
     "name": "stderr",
     "output_type": "stream",
     "text": [
      "I'm studying hard now🧐, don't disturb!: 100%|██████████| 30/30 [00:03<00:00,  9.40it/s]\n",
      "Let's see how good I am...: 100%|██████████| 10/10 [00:00<00:00, 11.48it/s]\n"
     ]
    },
    {
     "name": "stdout",
     "output_type": "stream",
     "text": [
      "Epoch: 11 of 40, 0.072 min\n"
     ]
    },
    {
     "name": "stderr",
     "output_type": "stream",
     "text": [
      "I'm studying hard now🧐, don't disturb!:  97%|█████████▋| 29/30 [00:03<00:00,  9.38it/s]/opt/miniconda3/envs/env1/lib/python3.9/site-packages/sklearn/metrics/_ranking.py:999: UndefinedMetricWarning: No positive samples in y_true, true positive value should be meaningless\n",
      "  warnings.warn(\n",
      "/Users/fomindmitry/Google Диск/Github/Internship_project/src/Loss_class.py:23: RuntimeWarning: invalid value encountered in long_scalars\n",
      "  tpr = tp / (tp + fn)\n",
      "I'm studying hard now🧐, don't disturb!: 100%|██████████| 30/30 [00:03<00:00,  9.25it/s]\n",
      "Let's see how good I am...: 100%|██████████| 10/10 [00:00<00:00, 11.41it/s]\n"
     ]
    },
    {
     "name": "stdout",
     "output_type": "stream",
     "text": [
      "Epoch: 12 of 40, 0.073 min\n"
     ]
    },
    {
     "name": "stderr",
     "output_type": "stream",
     "text": [
      "I'm studying hard now🧐, don't disturb!: 100%|██████████| 30/30 [00:03<00:00,  9.01it/s]\n",
      "Let's see how good I am...: 100%|██████████| 10/10 [00:00<00:00, 11.65it/s]\n"
     ]
    },
    {
     "name": "stdout",
     "output_type": "stream",
     "text": [
      "Epoch: 13 of 40, 0.074 min\n"
     ]
    },
    {
     "name": "stderr",
     "output_type": "stream",
     "text": [
      "I'm studying hard now🧐, don't disturb!: 100%|██████████| 30/30 [00:03<00:00,  9.30it/s]\n",
      "Let's see how good I am...: 100%|██████████| 10/10 [00:00<00:00, 11.86it/s]\n"
     ]
    },
    {
     "name": "stdout",
     "output_type": "stream",
     "text": [
      "Epoch: 14 of 40, 0.072 min\n"
     ]
    },
    {
     "name": "stderr",
     "output_type": "stream",
     "text": [
      "I'm studying hard now🧐, don't disturb!: 100%|██████████| 30/30 [00:03<00:00,  9.38it/s]\n",
      "Let's see how good I am...: 100%|██████████| 10/10 [00:00<00:00, 11.25it/s]\n"
     ]
    },
    {
     "name": "stdout",
     "output_type": "stream",
     "text": [
      "Epoch: 15 of 40, 0.072 min\n"
     ]
    },
    {
     "name": "stderr",
     "output_type": "stream",
     "text": [
      "I'm studying hard now🧐, don't disturb!: 100%|██████████| 30/30 [00:03<00:00,  9.52it/s]\n",
      "Let's see how good I am...: 100%|██████████| 10/10 [00:00<00:00, 11.83it/s]\n"
     ]
    },
    {
     "name": "stdout",
     "output_type": "stream",
     "text": [
      "Epoch: 16 of 40, 0.071 min\n"
     ]
    },
    {
     "name": "stderr",
     "output_type": "stream",
     "text": [
      "I'm studying hard now🧐, don't disturb!: 100%|██████████| 30/30 [00:03<00:00,  9.29it/s]\n",
      "Let's see how good I am...: 100%|██████████| 10/10 [00:00<00:00, 11.67it/s]\n"
     ]
    },
    {
     "name": "stdout",
     "output_type": "stream",
     "text": [
      "Epoch: 17 of 40, 0.072 min\n"
     ]
    },
    {
     "name": "stderr",
     "output_type": "stream",
     "text": [
      "I'm studying hard now🧐, don't disturb!: 100%|██████████| 30/30 [00:03<00:00,  9.43it/s]\n",
      "Let's see how good I am...: 100%|██████████| 10/10 [00:00<00:00, 11.65it/s]\n"
     ]
    },
    {
     "name": "stdout",
     "output_type": "stream",
     "text": [
      "Epoch: 18 of 40, 0.071 min\n"
     ]
    },
    {
     "name": "stderr",
     "output_type": "stream",
     "text": [
      "I'm studying hard now🧐, don't disturb!: 100%|██████████| 30/30 [00:03<00:00,  9.27it/s]\n",
      "Let's see how good I am...: 100%|██████████| 10/10 [00:00<00:00, 11.92it/s]\n"
     ]
    },
    {
     "name": "stdout",
     "output_type": "stream",
     "text": [
      "Epoch: 19 of 40, 0.072 min\n"
     ]
    },
    {
     "name": "stderr",
     "output_type": "stream",
     "text": [
      "I'm studying hard now🧐, don't disturb!: 100%|██████████| 30/30 [00:03<00:00,  9.28it/s]\n",
      "Let's see how good I am...: 100%|██████████| 10/10 [00:00<00:00, 11.89it/s]\n"
     ]
    },
    {
     "name": "stdout",
     "output_type": "stream",
     "text": [
      "Epoch: 20 of 40, 0.072 min\n"
     ]
    },
    {
     "name": "stderr",
     "output_type": "stream",
     "text": [
      "I'm studying hard now🧐, don't disturb!: 100%|██████████| 30/30 [00:03<00:00,  9.28it/s]\n",
      "Let's see how good I am...: 100%|██████████| 10/10 [00:00<00:00, 11.77it/s]\n"
     ]
    },
    {
     "name": "stdout",
     "output_type": "stream",
     "text": [
      "Epoch: 21 of 40, 0.072 min\n"
     ]
    },
    {
     "name": "stderr",
     "output_type": "stream",
     "text": [
      "I'm studying hard now🧐, don't disturb!: 100%|██████████| 30/30 [00:03<00:00,  9.20it/s]\n",
      "Let's see how good I am...: 100%|██████████| 10/10 [00:00<00:00, 11.23it/s]\n"
     ]
    },
    {
     "name": "stdout",
     "output_type": "stream",
     "text": [
      "Epoch: 22 of 40, 0.073 min\n"
     ]
    },
    {
     "name": "stderr",
     "output_type": "stream",
     "text": [
      "I'm studying hard now🧐, don't disturb!: 100%|██████████| 30/30 [00:03<00:00,  8.85it/s]\n",
      "Let's see how good I am...: 100%|██████████| 10/10 [00:00<00:00, 11.35it/s]\n"
     ]
    },
    {
     "name": "stdout",
     "output_type": "stream",
     "text": [
      "Epoch: 23 of 40, 0.075 min\n"
     ]
    },
    {
     "name": "stderr",
     "output_type": "stream",
     "text": [
      "I'm studying hard now🧐, don't disturb!: 100%|██████████| 30/30 [00:03<00:00,  9.43it/s]\n",
      "Let's see how good I am...: 100%|██████████| 10/10 [00:00<00:00, 11.85it/s]\n"
     ]
    },
    {
     "name": "stdout",
     "output_type": "stream",
     "text": [
      "Epoch: 24 of 40, 0.071 min\n"
     ]
    },
    {
     "name": "stderr",
     "output_type": "stream",
     "text": [
      "I'm studying hard now🧐, don't disturb!: 100%|██████████| 30/30 [00:03<00:00,  9.32it/s]\n",
      "Let's see how good I am...: 100%|██████████| 10/10 [00:00<00:00, 11.87it/s]\n"
     ]
    },
    {
     "name": "stdout",
     "output_type": "stream",
     "text": [
      "Epoch: 25 of 40, 0.072 min\n"
     ]
    },
    {
     "name": "stderr",
     "output_type": "stream",
     "text": [
      "I'm studying hard now🧐, don't disturb!: 100%|██████████| 30/30 [00:03<00:00,  9.52it/s]\n",
      "Let's see how good I am...: 100%|██████████| 10/10 [00:00<00:00, 11.04it/s]\n"
     ]
    },
    {
     "name": "stdout",
     "output_type": "stream",
     "text": [
      "Epoch: 26 of 40, 0.072 min\n"
     ]
    },
    {
     "name": "stderr",
     "output_type": "stream",
     "text": [
      "I'm studying hard now🧐, don't disturb!: 100%|██████████| 30/30 [00:03<00:00,  9.51it/s]\n",
      "Let's see how good I am...: 100%|██████████| 10/10 [00:00<00:00, 11.46it/s]\n"
     ]
    },
    {
     "name": "stdout",
     "output_type": "stream",
     "text": [
      "Epoch: 27 of 40, 0.071 min\n"
     ]
    },
    {
     "name": "stderr",
     "output_type": "stream",
     "text": [
      "I'm studying hard now🧐, don't disturb!: 100%|██████████| 30/30 [00:03<00:00,  9.27it/s]\n",
      "Let's see how good I am...: 100%|██████████| 10/10 [00:00<00:00, 10.80it/s]\n"
     ]
    },
    {
     "name": "stdout",
     "output_type": "stream",
     "text": [
      "Epoch: 28 of 40, 0.074 min\n"
     ]
    },
    {
     "name": "stderr",
     "output_type": "stream",
     "text": [
      "I'm studying hard now🧐, don't disturb!: 100%|██████████| 30/30 [00:03<00:00,  8.44it/s]\n",
      "Let's see how good I am...: 100%|██████████| 10/10 [00:00<00:00, 10.74it/s]\n"
     ]
    },
    {
     "name": "stdout",
     "output_type": "stream",
     "text": [
      "Epoch: 29 of 40, 0.079 min\n"
     ]
    },
    {
     "name": "stderr",
     "output_type": "stream",
     "text": [
      "I'm studying hard now🧐, don't disturb!: 100%|██████████| 30/30 [00:03<00:00,  7.94it/s]\n",
      "Let's see how good I am...: 100%|██████████| 10/10 [00:00<00:00, 10.93it/s]\n"
     ]
    },
    {
     "name": "stdout",
     "output_type": "stream",
     "text": [
      "Epoch: 30 of 40, 0.083 min\n"
     ]
    },
    {
     "name": "stderr",
     "output_type": "stream",
     "text": [
      "I'm studying hard now🧐, don't disturb!: 100%|██████████| 30/30 [00:04<00:00,  7.28it/s]\n",
      "Let's see how good I am...: 100%|██████████| 10/10 [00:01<00:00,  9.14it/s]\n"
     ]
    },
    {
     "name": "stdout",
     "output_type": "stream",
     "text": [
      "Epoch: 31 of 40, 0.092 min\n"
     ]
    },
    {
     "name": "stderr",
     "output_type": "stream",
     "text": [
      "I'm studying hard now🧐, don't disturb!: 100%|██████████| 30/30 [00:04<00:00,  7.47it/s]\n",
      "Let's see how good I am...: 100%|██████████| 10/10 [00:01<00:00,  8.95it/s]\n"
     ]
    },
    {
     "name": "stdout",
     "output_type": "stream",
     "text": [
      "Epoch: 32 of 40, 0.090 min\n"
     ]
    },
    {
     "name": "stderr",
     "output_type": "stream",
     "text": [
      "I'm studying hard now🧐, don't disturb!: 100%|██████████| 30/30 [00:03<00:00,  7.88it/s]\n",
      "Let's see how good I am...: 100%|██████████| 10/10 [00:01<00:00,  9.49it/s]\n"
     ]
    },
    {
     "name": "stdout",
     "output_type": "stream",
     "text": [
      "Epoch: 33 of 40, 0.085 min\n"
     ]
    },
    {
     "name": "stderr",
     "output_type": "stream",
     "text": [
      "I'm studying hard now🧐, don't disturb!: 100%|██████████| 30/30 [00:03<00:00,  7.54it/s]\n",
      "Let's see how good I am...: 100%|██████████| 10/10 [00:01<00:00,  9.56it/s]\n"
     ]
    },
    {
     "name": "stdout",
     "output_type": "stream",
     "text": [
      "Epoch: 34 of 40, 0.088 min\n"
     ]
    },
    {
     "name": "stderr",
     "output_type": "stream",
     "text": [
      "I'm studying hard now🧐, don't disturb!: 100%|██████████| 30/30 [00:03<00:00,  7.56it/s]\n",
      "Let's see how good I am...: 100%|██████████| 10/10 [00:01<00:00,  9.48it/s]\n"
     ]
    },
    {
     "name": "stdout",
     "output_type": "stream",
     "text": [
      "Epoch: 35 of 40, 0.088 min\n"
     ]
    },
    {
     "name": "stderr",
     "output_type": "stream",
     "text": [
      "I'm studying hard now🧐, don't disturb!: 100%|██████████| 30/30 [00:04<00:00,  7.38it/s]\n",
      "Let's see how good I am...: 100%|██████████| 10/10 [00:01<00:00,  9.97it/s]\n"
     ]
    },
    {
     "name": "stdout",
     "output_type": "stream",
     "text": [
      "Epoch: 36 of 40, 0.089 min\n"
     ]
    },
    {
     "name": "stderr",
     "output_type": "stream",
     "text": [
      "I'm studying hard now🧐, don't disturb!: 100%|██████████| 30/30 [00:03<00:00,  8.09it/s]\n",
      "Let's see how good I am...: 100%|██████████| 10/10 [00:01<00:00,  9.25it/s]\n"
     ]
    },
    {
     "name": "stdout",
     "output_type": "stream",
     "text": [
      "Epoch: 37 of 40, 0.085 min\n"
     ]
    },
    {
     "name": "stderr",
     "output_type": "stream",
     "text": [
      "I'm studying hard now🧐, don't disturb!: 100%|██████████| 30/30 [00:03<00:00,  7.78it/s]\n",
      "Let's see how good I am...: 100%|██████████| 10/10 [00:00<00:00, 10.28it/s]\n"
     ]
    },
    {
     "name": "stdout",
     "output_type": "stream",
     "text": [
      "Epoch: 38 of 40, 0.085 min\n"
     ]
    },
    {
     "name": "stderr",
     "output_type": "stream",
     "text": [
      "I'm studying hard now🧐, don't disturb!: 100%|██████████| 30/30 [00:03<00:00,  8.04it/s]\n",
      "Let's see how good I am...: 100%|██████████| 10/10 [00:00<00:00, 11.85it/s]\n"
     ]
    },
    {
     "name": "stdout",
     "output_type": "stream",
     "text": [
      "Epoch: 39 of 40, 0.081 min\n"
     ]
    },
    {
     "name": "stderr",
     "output_type": "stream",
     "text": [
      "I'm studying hard now🧐, don't disturb!: 100%|██████████| 30/30 [00:03<00:00,  8.74it/s]\n",
      "Let's see how good I am...: 100%|██████████| 10/10 [00:00<00:00, 11.04it/s]\n"
     ]
    },
    {
     "name": "stdout",
     "output_type": "stream",
     "text": [
      "Epoch: 40 of 40, 0.077 min\n"
     ]
    },
    {
     "data": {
      "text/html": [
       "Waiting for W&B process to finish... <strong style=\"color:green\">(success).</strong>"
      ],
      "text/plain": [
       "<IPython.core.display.HTML object>"
      ]
     },
     "metadata": {},
     "output_type": "display_data"
    },
    {
     "data": {
      "text/html": [
       "<style>\n",
       "    table.wandb td:nth-child(1) { padding: 0 10px; text-align: left ; width: auto;} td:nth-child(2) {text-align: left ; width: 100%}\n",
       "    .wandb-row { display: flex; flex-direction: row; flex-wrap: wrap; justify-content: flex-start; width: 100% }\n",
       "    .wandb-col { display: flex; flex-direction: column; flex-basis: 100%; flex: 1; padding: 10px; }\n",
       "    </style>\n",
       "<div class=\"wandb-row\"><div class=\"wandb-col\"><h3>Run history:</h3><br/><table class=\"wandb\"><tr><td>epoch</td><td>▁▁▁▂▂▂▂▂▂▃▃▃▃▃▄▄▄▄▄▄▅▅▅▅▅▅▆▆▆▆▆▇▇▇▇▇▇███</td></tr><tr><td>lr</td><td>██▇▇▆▆▆▆▅▅▅▅▄▄▄▄▃▃▃▃▃▃▃▂▂▂▂▂▂▂▂▂▁▁▁▁▁▁▁▁</td></tr><tr><td>test_accuracy</td><td>▇▂▁▇█▅███████▇▇█████████████████████████</td></tr><tr><td>test_auc_score</td><td>▁▄▄▅▆▅▇▅▇▆▆▆▇▆▆▇▇▇▇▇▇▇▇▇█▇▇█▇▇██████████</td></tr><tr><td>test_f1_score</td><td>▄▁▁▅▆▄▄▆▄▆▅▅▇▆▆▅▇▆▅▆▇█▆▇▄▅▇▆▄▄█▇▆▆▇▇▇▅██</td></tr><tr><td>test_fpr</td><td>▂▇█▂▁▄▁▁▁▁▁▁▁▂▂▁▁▁▁▁▁▁▁▁▁▁▁▁▁▁▁▁▁▁▁▁▁▁▁▁</td></tr><tr><td>test_loss</td><td>▄▇█▃▃▅▁▂▂▁▂▂▂▂▂▁▁▁▁▁▁▁▁▁▁▁▁▁▂▁▁▁▁▁▁▁▁▁▁▁</td></tr><tr><td>test_tpr</td><td>▅██▆▃▇▁▄▁▃▃▂▄▆▆▂▄▃▂▃▄▅▃▆▁▂▄▃▁▁▅▄▃▂▇▃▃▂▆▄</td></tr><tr><td>train_accuracy</td><td>▁▆▆▆▇▆▇▇▇▇▇▇▇▇▇▇▇▇▇▇▇▇█▇▇▇▇█████▇███████</td></tr><tr><td>train_auc_score</td><td>▁▄ ▆▆▇▇▇▇▇▇ ▇▇▇▇▇▇▇▇████████████████████</td></tr><tr><td>train_f1_score</td><td>▁▁▂▂▃▂▄▄▄▅▆▃▅▅▅▅▅▆▆▆▆▆▇▆▆▆▆▇▆▇▇▇▆█▇▇▇█▇▇</td></tr><tr><td>train_fpr</td><td>█▁▂▁▁▁▁▂▁▁▁▁▁▂▂▂▁▁▂▂▂▁▁▂▂▂▂▁▁▂▂▁▂▂▂▂▁▂▂▁</td></tr><tr><td>train_loss</td><td>█▄▃▃▃▂▂▂▂▂▂▂▂▂▂▂▂▂▂▂▂▂▂▁▂▂▁▁▁▁▁▁▁▁▁▁▁▁▁▁</td></tr><tr><td>train_tpr</td><td>▂▁ ▁▂▁▃▃▃▄▅ ▄▄▄▅▄▅▆▆▆▆▆▆▆▆▅▆▅▇▇▆▆█▇▇▆█▇▇</td></tr></table><br/></div><div class=\"wandb-col\"><h3>Run summary:</h3><br/><table class=\"wandb\"><tr><td>epoch</td><td>39</td></tr><tr><td>lr</td><td>0.00129</td></tr><tr><td>test_accuracy</td><td>0.98116</td></tr><tr><td>test_auc_score</td><td>0.97908</td></tr><tr><td>test_f1_score</td><td>0.80995</td></tr><tr><td>test_fpr</td><td>0.00203</td></tr><tr><td>test_loss</td><td>0.0082</td></tr><tr><td>test_tpr</td><td>0.49879</td></tr><tr><td>train_accuracy</td><td>0.9756</td></tr><tr><td>train_auc_score</td><td>0.97356</td></tr><tr><td>train_f1_score</td><td>0.75744</td></tr><tr><td>train_fpr</td><td>0.00469</td></tr><tr><td>train_loss</td><td>0.00915</td></tr><tr><td>train_tpr</td><td>0.45195</td></tr></table><br/></div></div>"
      ],
      "text/plain": [
       "<IPython.core.display.HTML object>"
      ]
     },
     "metadata": {},
     "output_type": "display_data"
    },
    {
     "data": {
      "text/html": [
       "Synced <strong style=\"color:#cdcd00\">fe_1024_256_80</strong>: <a href=\"https://wandb.ai/dmitrii_fomin_uga/Internship_project/runs/3tsaf635\" target=\"_blank\">https://wandb.ai/dmitrii_fomin_uga/Internship_project/runs/3tsaf635</a><br/>Synced 6 W&B file(s), 0 media file(s), 40 artifact file(s) and 1 other file(s)"
      ],
      "text/plain": [
       "<IPython.core.display.HTML object>"
      ]
     },
     "metadata": {},
     "output_type": "display_data"
    },
    {
     "data": {
      "text/html": [
       "Find logs at: <code>../logs/wandb/run-20230428_202231-3tsaf635/logs</code>"
      ],
      "text/plain": [
       "<IPython.core.display.HTML object>"
      ]
     },
     "metadata": {},
     "output_type": "display_data"
    }
   ],
   "source": [
    "trainer.train_model(learning_params)\n",
    "wandb.finish()"
   ]
  }
 ],
 "metadata": {
  "kernelspec": {
   "display_name": "env1",
   "language": "python",
   "name": "python3"
  },
  "language_info": {
   "codemirror_mode": {
    "name": "ipython",
    "version": 3
   },
   "file_extension": ".py",
   "mimetype": "text/x-python",
   "name": "python",
   "nbconvert_exporter": "python",
   "pygments_lexer": "ipython3",
   "version": "3.9.15"
  },
  "orig_nbformat": 4
 },
 "nbformat": 4,
 "nbformat_minor": 2
}
