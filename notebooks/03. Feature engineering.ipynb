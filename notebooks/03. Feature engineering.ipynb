{
  "cells": [
    {
      "attachments": {},
      "cell_type": "markdown",
      "metadata": {
        "id": "MpVxguTB17rf"
      },
      "source": [
        "# Load libraries"
      ]
    },
    {
      "cell_type": "code",
      "execution_count": 1,
      "metadata": {
        "colab": {
          "base_uri": "https://localhost:8080/"
        },
        "id": "OyGrZYE1tpAh",
        "outputId": "5b54f4a0-bd51-4447-e7f7-42e8a2e83b6c"
      },
      "outputs": [],
      "source": [
        "import pandas as pd\n",
        "import itertools\n",
        "\n",
        "import warnings\n",
        "warnings.filterwarnings(\"ignore\")"
      ]
    },
    {
      "attachments": {},
      "cell_type": "markdown",
      "metadata": {
        "id": "KJKenEct1-sQ"
      },
      "source": [
        "# Read data"
      ]
    },
    {
      "cell_type": "code",
      "execution_count": 2,
      "metadata": {
        "id": "K8WkhpSCuG8l"
      },
      "outputs": [],
      "source": [
        "df = pd.read_csv('../data/prepared_data.csv')"
      ]
    },
    {
      "attachments": {},
      "cell_type": "markdown",
      "metadata": {
        "id": "wIV5r99qbJuc"
      },
      "source": [
        "# Feature engineering"
      ]
    },
    {
      "cell_type": "code",
      "execution_count": 3,
      "metadata": {
        "id": "0_Ir3QpCu6nu"
      },
      "outputs": [],
      "source": [
        "col_pairs = list(itertools.combinations(df.drop(columns = ['Machine failure']).columns, 2))"
      ]
    },
    {
      "cell_type": "code",
      "execution_count": 4,
      "metadata": {
        "id": "6TLmg9tYtbze"
      },
      "outputs": [],
      "source": [
        "for pair in col_pairs:\n",
        "    col_name = pair[0] + '*' + pair[1]\n",
        "    df[col_name] = df[pair[0]] * df[pair[1]]\n",
        "\n",
        "for pair in col_pairs:\n",
        "    col_name = pair[0] + '-' + pair[1]\n",
        "    df[col_name] = df[pair[0]] - df[pair[1]]\n",
        "\n",
        "for pair in col_pairs:\n",
        "    col_name = pair[0] + '+' + pair[1]\n",
        "    df[col_name] = df[pair[0]] + df[pair[1]]"
      ]
    },
    {
      "cell_type": "code",
      "execution_count": 5,
      "metadata": {},
      "outputs": [],
      "source": [
        "df = df[[c for c in df if c not in ['Machine failure']] + ['Machine failure']]"
      ]
    },
    {
      "cell_type": "code",
      "execution_count": 6,
      "metadata": {},
      "outputs": [],
      "source": [
        "df.to_csv('../data/data_fe',index = False)"
      ]
    }
  ],
  "metadata": {
    "colab": {
      "collapsed_sections": [
        "bMFJW-MU1qai",
        "KJKenEct1-sQ",
        "vEj6gPGduhoF",
        "x9jA4PkX34X4",
        "wIV5r99qbJuc",
        "zXHfeSsU5nfY"
      ],
      "provenance": []
    },
    "kernelspec": {
      "display_name": "Python 3",
      "name": "python3"
    },
    "language_info": {
      "codemirror_mode": {
        "name": "ipython",
        "version": 3
      },
      "file_extension": ".py",
      "mimetype": "text/x-python",
      "name": "python",
      "nbconvert_exporter": "python",
      "pygments_lexer": "ipython3",
      "version": "3.10.4"
    }
  },
  "nbformat": 4,
  "nbformat_minor": 0
}
