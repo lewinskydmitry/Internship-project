{
  "cells": [
    {
      "cell_type": "markdown",
      "metadata": {
        "id": "MpVxguTB17rf"
      },
      "source": [
        "# Load libraries"
      ]
    },
    {
      "cell_type": "code",
      "execution_count": 6,
      "metadata": {
        "colab": {
          "base_uri": "https://localhost:8080/"
        },
        "id": "OyGrZYE1tpAh",
        "outputId": "5b54f4a0-bd51-4447-e7f7-42e8a2e83b6c"
      },
      "outputs": [],
      "source": [
        "import pandas as pd"
      ]
    },
    {
      "cell_type": "markdown",
      "metadata": {
        "id": "KJKenEct1-sQ"
      },
      "source": [
        "# Read data"
      ]
    },
    {
      "cell_type": "code",
      "execution_count": 7,
      "metadata": {
        "id": "K8WkhpSCuG8l"
      },
      "outputs": [],
      "source": [
        "df = pd.read_csv('../data/init_data.csv')\n",
        "df = df.drop(columns = ['Product ID','TWF','HDF','PWF','OSF','RNF','UDI'])"
      ]
    },
    {
      "cell_type": "markdown",
      "metadata": {
        "id": "vEj6gPGduhoF"
      },
      "source": [
        "# Data preparation"
      ]
    },
    {
      "cell_type": "code",
      "execution_count": 8,
      "metadata": {
        "id": "6D5fm--_vUSD"
      },
      "outputs": [],
      "source": [
        "dummies = pd.get_dummies(df['Type'],prefix='Type')\n",
        "df['Difference_of_temperature '] = df['Process temperature [K]'] - df['Air temperature [K]']\n",
        "df = pd.concat([df.drop(columns = ['Type']),dummies],axis = 1)"
      ]
    },
    {
      "cell_type": "code",
      "execution_count": 9,
      "metadata": {},
      "outputs": [],
      "source": [
        "df = df[[c for c in df if c not in ['Machine failure']] + ['Machine failure']]"
      ]
    },
    {
      "cell_type": "code",
      "execution_count": 10,
      "metadata": {},
      "outputs": [],
      "source": [
        "df.to_csv('../data/prepared_data.csv',index = False)"
      ]
    }
  ],
  "metadata": {
    "colab": {
      "collapsed_sections": [
        "bMFJW-MU1qai",
        "KJKenEct1-sQ",
        "vEj6gPGduhoF",
        "x9jA4PkX34X4",
        "wIV5r99qbJuc",
        "zXHfeSsU5nfY"
      ],
      "provenance": []
    },
    "kernelspec": {
      "display_name": "Python 3",
      "name": "python3"
    },
    "language_info": {
      "codemirror_mode": {
        "name": "ipython",
        "version": 3
      },
      "file_extension": ".py",
      "mimetype": "text/x-python",
      "name": "python",
      "nbconvert_exporter": "python",
      "pygments_lexer": "ipython3",
      "version": "3.9.15"
    }
  },
  "nbformat": 4,
  "nbformat_minor": 0
}
