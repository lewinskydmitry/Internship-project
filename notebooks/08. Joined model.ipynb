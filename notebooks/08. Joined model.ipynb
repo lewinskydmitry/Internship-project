{
 "cells": [
  {
   "cell_type": "code",
   "execution_count": 1,
   "metadata": {},
   "outputs": [],
   "source": [
    "import os\n",
    "import sys\n",
    "sys.path.append(os.path.abspath(os.path.join(os.path.dirname('src'), '..')))\n",
    "\n",
    "import pandas as pd\n",
    "from sklearn.model_selection import train_test_split\n",
    "import wandb\n",
    "\n",
    "import torch\n",
    "import torch.nn as nn\n",
    "from torch.utils.data import DataLoader\n",
    "import torch.optim.lr_scheduler as lr\n",
    "\n",
    "seed_value = 42\n",
    "torch.manual_seed(seed_value)\n",
    "torch.cuda.manual_seed_all(seed_value)\n",
    "generator = torch.Generator()\n",
    "generator.manual_seed(seed_value)\n",
    "torch.backends.cudnn.deterministic = True\n",
    "\n",
    "from functools import partial\n",
    "\n",
    "from src.trainer.trainer_classifier import Trainer_classifier\n",
    "from src.trainer.trainer_VAE import Trainer_VAE\n",
    "from src.models.classifiers import *\n",
    "from src.trainer.model_class import Model_class\n",
    "from src.trainer.loss_class import Loss_class\n",
    "\n",
    "from src.models.autoencoders import *\n",
    "from src.models.joinedModel import *\n",
    "\n",
    "import copy\n",
    "\n",
    "device = torch.device('cuda' if torch.cuda.is_available() else 'cpu')"
   ]
  },
  {
   "cell_type": "code",
   "execution_count": 2,
   "metadata": {},
   "outputs": [],
   "source": [
    "HIDDEN_PARAM = 512\n",
    "LATENT_REPR = 5\n",
    "\n",
    "BATCH_SIZE = 1024"
   ]
  },
  {
   "cell_type": "code",
   "execution_count": 3,
   "metadata": {},
   "outputs": [],
   "source": [
    "df = pd.read_csv('../data/df_to_enc.csv')"
   ]
  },
  {
   "cell_type": "code",
   "execution_count": 4,
   "metadata": {},
   "outputs": [],
   "source": [
    "def prepare_data_for_test(X_data, y_data, test_ratio):\n",
    "    # Prepare dataset for testing\n",
    "    X_train, X_test, y_train, y_test = train_test_split(X_data,\n",
    "                                                     y_data,\n",
    "                                                     shuffle = True,\n",
    "                                                     stratify = y_data,\n",
    "                                                     random_state = 42,\n",
    "                                                     test_size = test_ratio)\n",
    "    \n",
    "    return X_train, X_test, y_train, y_test"
   ]
  },
  {
   "cell_type": "code",
   "execution_count": 5,
   "metadata": {},
   "outputs": [],
   "source": [
    "def prepare_data_for_enc(X_data, y_data, autoenc_requared):\n",
    "\n",
    "    # Check that amount rows for enc less than length of data\n",
    "    if autoenc_requared >= len(X_data):\n",
    "        raise ValueError(\"The number of rows for autoencoder more than amount of X_train data\")\n",
    "    \n",
    "    autoenc_ratio = autoenc_requared/len(X_data)\n",
    "    \n",
    "    X_to_enc, X_to_clas,\\\n",
    "    y_to_enc, y_to_clas = train_test_split(X_data,\n",
    "                                           y_data,\n",
    "                                           shuffle = True,\n",
    "                                           stratify = y_data,\n",
    "                                           random_state = 42,\n",
    "                                           train_size = autoenc_ratio)\n",
    "    \n",
    "    X_encoder_train, X_encoder_test = train_test_split(X_to_enc,\n",
    "                                       shuffle = True,\n",
    "                                       random_state = 42,\n",
    "                                       train_size = 0.9)\n",
    "    \n",
    "    return X_encoder_train, X_encoder_test, X_to_clas, y_to_clas"
   ]
  },
  {
   "cell_type": "code",
   "execution_count": 6,
   "metadata": {},
   "outputs": [],
   "source": [
    "def prepare_data_for_classif(X_data, y_data, classif_requared):\n",
    "\n",
    "    # Prepare dataset for encoder\n",
    "    if classif_requared >= len(X_data):\n",
    "        raise ValueError(\"The number of rows for classifier more than amount of X_train data\")\n",
    "    classif_ratio = classif_requared / len(X_data)\n",
    "    \n",
    "    X_train, X_test,\\\n",
    "    y_train, y_test = train_test_split(X_data,\n",
    "                                       y_data,\n",
    "                                       shuffle = True,\n",
    "                                       stratify = y_data,\n",
    "                                       random_state = 42,\n",
    "                                       train_size = classif_ratio)\n",
    "    \n",
    "    return X_train, y_train"
   ]
  },
  {
   "cell_type": "code",
   "execution_count": 7,
   "metadata": {},
   "outputs": [],
   "source": [
    "def make_dataloader(*data, encoder_data = False):\n",
    "    \n",
    "    if len(data) > 1:\n",
    "        data_list = [data[i] for i in range(len(data))]\n",
    "        dataset = pd.concat(data_list, axis = 1)\n",
    "    else:\n",
    "        dataset = data[0]\n",
    "    if encoder_data == False:\n",
    "        dataset = TableDatasetDF(dataset)\n",
    "        dataloader = DataLoader(\n",
    "            dataset,\n",
    "            batch_size=BATCH_SIZE, \n",
    "            shuffle=True,\n",
    "            generator=generator\n",
    "        )\n",
    "    else:\n",
    "        dataset = EncoderDataset(dataset)\n",
    "        dataloader = DataLoader(\n",
    "            dataset,\n",
    "            batch_size=BATCH_SIZE, \n",
    "            shuffle=True,\n",
    "            generator=generator\n",
    "        )\n",
    "\n",
    "    return dataloader"
   ]
  },
  {
   "cell_type": "code",
   "execution_count": 8,
   "metadata": {},
   "outputs": [],
   "source": [
    "def prepare_data(X_data, y_data, test_ratio, autoenc_requared, classif_requared):\n",
    "    X_train, X_test, y_train, y_test = prepare_data_for_test(X_data, y_data, test_ratio)\n",
    "    X_encoder_train, X_encoder_test, X_to_clas, y_to_clas = prepare_data_for_enc(X_train, y_train, autoenc_requared)\n",
    "    X_train_classif, y_train_classif = prepare_data_for_classif(X_to_clas, y_to_clas, classif_requared)\n",
    "\n",
    "    test_dl = make_dataloader(X_test, y_test)\n",
    "    train_dl = make_dataloader(X_train_classif, y_train_classif)\n",
    "\n",
    "    enc_train_dl = make_dataloader(X_encoder_train, encoder_data=True)\n",
    "    enc_test_dl = make_dataloader(X_encoder_test, encoder_data=True)\n",
    "\n",
    "    return train_dl, test_dl, enc_train_dl, enc_test_dl"
   ]
  },
  {
   "cell_type": "code",
   "execution_count": 9,
   "metadata": {},
   "outputs": [],
   "source": [
    "def train_encoder(encoder, decoder, train_dl, test_ld, VAE_model = False):\n",
    "\n",
    "        if VAE_model == False:\n",
    "            autoencoder = Autoencoder(encoder, decoder)\n",
    "            loss = Encoder_loss(nn.MSELoss())\n",
    "        else:\n",
    "            autoencoder = VAE(encoder, decoder)\n",
    "            loss = vae_loss(vae_loss_function)\n",
    "\n",
    "        model_factory = partial(Model_class)\n",
    "        optimizer_factory = partial(torch.optim.AdamW)\n",
    "        scheduler_factory = partial(lr.ExponentialLR)\n",
    "\n",
    "        model_params = dict(model=autoencoder,\n",
    "                            device=device)\n",
    "\n",
    "        optimizer_params = dict(weight_decay=1e-3, lr=1e-2)\n",
    "        scheduler_params = dict(gamma=0.95)\n",
    "\n",
    "        learning_params = dict(batch_size=BATCH_SIZE, num_epoch=30)\n",
    "\n",
    "        if VAE_model == False:\n",
    "            wandb_init_params = dict(\n",
    "                name=f'Autoencoder_simple_HidParam-{HIDDEN_PARAM}_Latent-{LATENT_REPR}',\n",
    "                project=\"Internship_project\",\n",
    "                dir = '../logs/')\n",
    "            \n",
    "            trainer = Trainer_classifier(train_dl,\n",
    "                          test_ld,\n",
    "                          loss,\n",
    "                          model_factory=model_factory,\n",
    "                          optimizer_factory=optimizer_factory,\n",
    "                          scheduler_factory=scheduler_factory,\n",
    "                          model_params=model_params,\n",
    "                          optimizer_params=optimizer_params,\n",
    "                          scheduler_params=scheduler_params,\n",
    "                          log=False,\n",
    "                          wandb_init_params=wandb_init_params,\n",
    "                          model_dir='../logs/nn_models/autoencoder/',\n",
    "                          saving_model=False\n",
    "                          )\n",
    "        else:\n",
    "            wandb_init_params = dict(\n",
    "                name=f'VAE_HidParam-{HIDDEN_PARAM}_Latent-{LATENT_REPR}',\n",
    "                project=\"Internship_project\",\n",
    "                dir = '../logs/')\n",
    "            \n",
    "            trainer = Trainer_VAE(train_dl,\n",
    "                          test_ld,\n",
    "                          loss,\n",
    "                          model_factory=model_factory,\n",
    "                          optimizer_factory=optimizer_factory,\n",
    "                          scheduler_factory=scheduler_factory,\n",
    "                          model_params=model_params,\n",
    "                          optimizer_params=optimizer_params,\n",
    "                          scheduler_params=scheduler_params,\n",
    "                          log=False,\n",
    "                          wandb_init_params=wandb_init_params,\n",
    "                          model_dir='../logs/nn_models/autoencoder/',\n",
    "                          saving_model=False\n",
    "                          )\n",
    "        \n",
    "        \n",
    "        trainer.train_model(learning_params)\n",
    "        wandb.finish()\n",
    "        if VAE_model == False:\n",
    "            return trainer.model.model.encoder\n",
    "        else:\n",
    "             return trainer.model.model"
   ]
  },
  {
   "cell_type": "code",
   "execution_count": 10,
   "metadata": {},
   "outputs": [],
   "source": [
    "def train_classifier(encoder, train_dl, test_dl, labels_amount, VAE_model = False):\n",
    "\n",
    "    if VAE_model == False:\n",
    "        classifier = Simple_classifier(train_dl.dataset.data.shape[1], 50)\n",
    "        jm = JoinedModel(encoder, classifier)\n",
    "\n",
    "        wandb_init_params = dict(\n",
    "        name=f'JMenc_NumLab-{labels_amount}_LatDim-{LATENT_REPR}',\n",
    "        project=\"Internship_project\",\n",
    "        dir = '../logs/')\n",
    "\n",
    "    else:\n",
    "        classifier = Simple_classifier(train_dl.dataset.data.shape[1], 50)\n",
    "        jm = JoinedModel(encoder, classifier)\n",
    "        wandb_init_params = dict(\n",
    "        name=f'JMvae_NumLab-{labels_amount}_LatDim-{LATENT_REPR}',\n",
    "        project=\"Internship_project\",\n",
    "        dir = '../logs/')\n",
    "\n",
    "    print('!!!!!!!!!!!!!!!!!!!!!!!!',sum(p.numel() for p in jm.parameters()))\n",
    "    loss = Loss_class(FocalLoss(gamma=2))\n",
    "    model_factory = partial(Model_class)\n",
    "    optimizer_factory = partial(torch.optim.AdamW)\n",
    "    scheduler_factory = partial(lr.ExponentialLR)\n",
    "\n",
    "    model_params = dict(model=jm,\n",
    "                        device=device)\n",
    "\n",
    "    optimizer_params = dict(weight_decay=1e-3, lr=1e-2)\n",
    "    scheduler_params = dict(gamma=0.95)\n",
    "\n",
    "    learning_params = dict(batch_size=BATCH_SIZE, num_epoch=20)\n",
    "\n",
    "    trainer = Trainer_classifier(train_dl,\n",
    "                        test_dl,\n",
    "                        loss,\n",
    "                        model_factory=model_factory,\n",
    "                        optimizer_factory=optimizer_factory,\n",
    "                        scheduler_factory=scheduler_factory,\n",
    "                        model_params=model_params,\n",
    "                        optimizer_params=optimizer_params,\n",
    "                        scheduler_params=scheduler_params,\n",
    "                        log=True,\n",
    "                        wandb_init_params=wandb_init_params,\n",
    "                        model_dir='../logs/nn_models/joined_models/',\n",
    "                        saving_model=False\n",
    "                        )\n",
    "    \n",
    "    trainer.train_model(learning_params)\n",
    "    wandb.finish()"
   ]
  },
  {
   "cell_type": "code",
   "execution_count": 11,
   "metadata": {},
   "outputs": [],
   "source": [
    "def train_cycle(encoder_init, decoder_init, df, list_amount = [50, 100, 500, 1000, 1990]):\n",
    "    for labels_amount in list_amount:\n",
    "        ############################################################\n",
    "        # PREPARE DATA\n",
    "        ############################################################\n",
    "        train_dl, test_dl, enc_train_dl, enc_test_dl = prepare_data(df.drop(columns = ['Machine failure']),\n",
    "                                                                    df['Machine failure'], 0.2, 6000, labels_amount)\n",
    "        \n",
    "        ############################################################\n",
    "        # Autoenc cycle\n",
    "        ############################################################\n",
    "        # encoder = copy.deepcopy(encoder_init)\n",
    "        # decoder = copy.deepcopy(decoder_init)\n",
    "\n",
    "        # encoder_to_classif = train_encoder(encoder, decoder, enc_train_dl, enc_test_dl)\n",
    "        # train_classifier(encoder_to_classif, train_dl, test_dl,labels_amount)\n",
    "        \n",
    "        ############################################################\n",
    "        # VAE cycle\n",
    "        ############################################################\n",
    "        encoder = copy.deepcopy(encoder_init)\n",
    "        decoder = copy.deepcopy(decoder_init)\n",
    "\n",
    "        encoder_to_classif = train_encoder(encoder, decoder, enc_train_dl, enc_test_dl, VAE_model = True)\n",
    "        train_classifier(encoder_to_classif, train_dl, test_dl,labels_amount, VAE_model = True)"
   ]
  },
  {
   "cell_type": "code",
   "execution_count": 12,
   "metadata": {},
   "outputs": [],
   "source": [
    "encoder_init = nn.Sequential(\n",
    "            nn.Linear(df.shape[1]-1, int(HIDDEN_PARAM)),\n",
    "            nn.ReLU(),\n",
    "            nn.Linear(int(HIDDEN_PARAM), int(HIDDEN_PARAM/2)),\n",
    "            nn.ReLU(),\n",
    "            nn.Linear(int(HIDDEN_PARAM/2), int(HIDDEN_PARAM/4)),\n",
    "            nn.ReLU(),\n",
    "            nn.Linear(int(HIDDEN_PARAM/4), int(HIDDEN_PARAM/8)),\n",
    "            nn.ReLU(),\n",
    "            nn.Linear(int(HIDDEN_PARAM/8), int(HIDDEN_PARAM/16)),\n",
    "            nn.ReLU(),\n",
    "            nn.Linear(int(HIDDEN_PARAM/16), LATENT_REPR)\n",
    "        )\n",
    "\n",
    "decoder_init = nn.Sequential(\n",
    "            nn.Linear(LATENT_REPR, int(HIDDEN_PARAM/16)),\n",
    "            nn.ReLU(),\n",
    "            nn.Linear(int(HIDDEN_PARAM/16), int(HIDDEN_PARAM/8)),\n",
    "            nn.ReLU(),\n",
    "            nn.Linear(int(HIDDEN_PARAM/8), int(HIDDEN_PARAM/4)),\n",
    "            nn.ReLU(),\n",
    "            nn.Linear(int(HIDDEN_PARAM/4), int(HIDDEN_PARAM/2)),\n",
    "            nn.ReLU(),\n",
    "            nn.Linear(int(HIDDEN_PARAM/2), int(HIDDEN_PARAM)),\n",
    "            nn.ReLU(),\n",
    "            nn.Linear(int(HIDDEN_PARAM), df.shape[1]-1)\n",
    "        )"
   ]
  },
  {
   "cell_type": "code",
   "execution_count": 13,
   "metadata": {},
   "outputs": [
    {
     "name": "stderr",
     "output_type": "stream",
     "text": [
      "I'm studying hard now🧐, don't disturb!: 100%|██████████| 6/6 [00:00<00:00, 21.35it/s]\n",
      "Let's see how good I am...: 100%|██████████| 1/1 [00:00<00:00, 58.79it/s]\n"
     ]
    },
    {
     "name": "stdout",
     "output_type": "stream",
     "text": [
      "Epoch: 1 of 30, 0.005 min\n"
     ]
    },
    {
     "name": "stderr",
     "output_type": "stream",
     "text": [
      "I'm studying hard now🧐, don't disturb!: 100%|██████████| 6/6 [00:00<00:00, 24.55it/s]\n",
      "Let's see how good I am...: 100%|██████████| 1/1 [00:00<00:00, 61.02it/s]\n"
     ]
    },
    {
     "name": "stdout",
     "output_type": "stream",
     "text": [
      "Epoch: 2 of 30, 0.005 min\n"
     ]
    },
    {
     "name": "stderr",
     "output_type": "stream",
     "text": [
      "I'm studying hard now🧐, don't disturb!: 100%|██████████| 6/6 [00:00<00:00, 21.46it/s]\n",
      "Let's see how good I am...: 100%|██████████| 1/1 [00:00<00:00, 56.55it/s]\n"
     ]
    },
    {
     "name": "stdout",
     "output_type": "stream",
     "text": [
      "Epoch: 3 of 30, 0.005 min\n"
     ]
    },
    {
     "name": "stderr",
     "output_type": "stream",
     "text": [
      "I'm studying hard now🧐, don't disturb!: 100%|██████████| 6/6 [00:00<00:00, 19.85it/s]\n",
      "Let's see how good I am...: 100%|██████████| 1/1 [00:00<00:00, 50.42it/s]\n"
     ]
    },
    {
     "name": "stdout",
     "output_type": "stream",
     "text": [
      "Epoch: 4 of 30, 0.006 min\n"
     ]
    },
    {
     "name": "stderr",
     "output_type": "stream",
     "text": [
      "I'm studying hard now🧐, don't disturb!: 100%|██████████| 6/6 [00:00<00:00, 12.27it/s]\n",
      "Let's see how good I am...: 100%|██████████| 1/1 [00:00<00:00, 52.87it/s]\n"
     ]
    },
    {
     "name": "stdout",
     "output_type": "stream",
     "text": [
      "Epoch: 5 of 30, 0.010 min\n"
     ]
    },
    {
     "name": "stderr",
     "output_type": "stream",
     "text": [
      "I'm studying hard now🧐, don't disturb!: 100%|██████████| 6/6 [00:00<00:00, 10.74it/s]\n",
      "Let's see how good I am...: 100%|██████████| 1/1 [00:00<00:00, 45.39it/s]\n"
     ]
    },
    {
     "name": "stdout",
     "output_type": "stream",
     "text": [
      "Epoch: 6 of 30, 0.010 min\n"
     ]
    },
    {
     "name": "stderr",
     "output_type": "stream",
     "text": [
      "I'm studying hard now🧐, don't disturb!: 100%|██████████| 6/6 [00:00<00:00, 27.23it/s]\n",
      "Let's see how good I am...: 100%|██████████| 1/1 [00:00<00:00, 63.58it/s]\n"
     ]
    },
    {
     "name": "stdout",
     "output_type": "stream",
     "text": [
      "Epoch: 7 of 30, 0.004 min\n"
     ]
    },
    {
     "name": "stderr",
     "output_type": "stream",
     "text": [
      "I'm studying hard now🧐, don't disturb!: 100%|██████████| 6/6 [00:00<00:00, 30.01it/s]\n",
      "Let's see how good I am...: 100%|██████████| 1/1 [00:00<00:00, 71.44it/s]\n"
     ]
    },
    {
     "name": "stdout",
     "output_type": "stream",
     "text": [
      "Epoch: 8 of 30, 0.004 min\n"
     ]
    },
    {
     "name": "stderr",
     "output_type": "stream",
     "text": [
      "I'm studying hard now🧐, don't disturb!: 100%|██████████| 6/6 [00:00<00:00, 29.11it/s]\n",
      "Let's see how good I am...: 100%|██████████| 1/1 [00:00<00:00, 72.73it/s]\n"
     ]
    },
    {
     "name": "stdout",
     "output_type": "stream",
     "text": [
      "Epoch: 9 of 30, 0.004 min\n"
     ]
    },
    {
     "name": "stderr",
     "output_type": "stream",
     "text": [
      "I'm studying hard now🧐, don't disturb!: 100%|██████████| 6/6 [00:00<00:00, 20.36it/s]\n",
      "Let's see how good I am...: 100%|██████████| 1/1 [00:00<00:00, 64.25it/s]\n"
     ]
    },
    {
     "name": "stdout",
     "output_type": "stream",
     "text": [
      "Epoch: 10 of 30, 0.005 min\n"
     ]
    },
    {
     "name": "stderr",
     "output_type": "stream",
     "text": [
      "I'm studying hard now🧐, don't disturb!: 100%|██████████| 6/6 [00:00<00:00, 26.42it/s]\n",
      "Let's see how good I am...: 100%|██████████| 1/1 [00:00<00:00, 71.44it/s]\n"
     ]
    },
    {
     "name": "stdout",
     "output_type": "stream",
     "text": [
      "Epoch: 11 of 30, 0.004 min\n"
     ]
    },
    {
     "name": "stderr",
     "output_type": "stream",
     "text": [
      "I'm studying hard now🧐, don't disturb!: 100%|██████████| 6/6 [00:00<00:00, 24.80it/s]\n",
      "Let's see how good I am...: 100%|██████████| 1/1 [00:00<00:00, 76.29it/s]\n"
     ]
    },
    {
     "name": "stdout",
     "output_type": "stream",
     "text": [
      "Epoch: 12 of 30, 0.004 min\n"
     ]
    },
    {
     "name": "stderr",
     "output_type": "stream",
     "text": [
      "I'm studying hard now🧐, don't disturb!: 100%|██████████| 6/6 [00:00<00:00, 18.75it/s]\n",
      "Let's see how good I am...: 100%|██████████| 1/1 [00:00<00:00, 47.19it/s]\n"
     ]
    },
    {
     "name": "stdout",
     "output_type": "stream",
     "text": [
      "Epoch: 13 of 30, 0.006 min\n"
     ]
    },
    {
     "name": "stderr",
     "output_type": "stream",
     "text": [
      "I'm studying hard now🧐, don't disturb!: 100%|██████████| 6/6 [00:00<00:00, 25.41it/s]\n",
      "Let's see how good I am...: 100%|██████████| 1/1 [00:00<00:00, 79.33it/s]\n"
     ]
    },
    {
     "name": "stdout",
     "output_type": "stream",
     "text": [
      "Epoch: 14 of 30, 0.004 min\n"
     ]
    },
    {
     "name": "stderr",
     "output_type": "stream",
     "text": [
      "I'm studying hard now🧐, don't disturb!: 100%|██████████| 6/6 [00:00<00:00, 33.89it/s]\n",
      "Let's see how good I am...: 100%|██████████| 1/1 [00:00<00:00, 79.05it/s]\n"
     ]
    },
    {
     "name": "stdout",
     "output_type": "stream",
     "text": [
      "Epoch: 15 of 30, 0.003 min\n"
     ]
    },
    {
     "name": "stderr",
     "output_type": "stream",
     "text": [
      "I'm studying hard now🧐, don't disturb!: 100%|██████████| 6/6 [00:00<00:00, 25.43it/s]\n",
      "Let's see how good I am...: 100%|██████████| 1/1 [00:00<00:00, 14.09it/s]\n"
     ]
    },
    {
     "name": "stdout",
     "output_type": "stream",
     "text": [
      "Epoch: 16 of 30, 0.005 min\n"
     ]
    },
    {
     "name": "stderr",
     "output_type": "stream",
     "text": [
      "I'm studying hard now🧐, don't disturb!: 100%|██████████| 6/6 [00:00<00:00, 26.09it/s]\n",
      "Let's see how good I am...: 100%|██████████| 1/1 [00:00<00:00, 65.16it/s]\n"
     ]
    },
    {
     "name": "stdout",
     "output_type": "stream",
     "text": [
      "Epoch: 17 of 30, 0.004 min\n"
     ]
    },
    {
     "name": "stderr",
     "output_type": "stream",
     "text": [
      "I'm studying hard now🧐, don't disturb!: 100%|██████████| 6/6 [00:00<00:00, 30.67it/s]\n",
      "Let's see how good I am...: 100%|██████████| 1/1 [00:00<00:00, 63.40it/s]\n"
     ]
    },
    {
     "name": "stdout",
     "output_type": "stream",
     "text": [
      "Epoch: 18 of 30, 0.004 min\n"
     ]
    },
    {
     "name": "stderr",
     "output_type": "stream",
     "text": [
      "I'm studying hard now🧐, don't disturb!: 100%|██████████| 6/6 [00:00<00:00, 18.94it/s]\n",
      "Let's see how good I am...: 100%|██████████| 1/1 [00:00<00:00, 72.32it/s]\n"
     ]
    },
    {
     "name": "stdout",
     "output_type": "stream",
     "text": [
      "Epoch: 19 of 30, 0.006 min\n"
     ]
    },
    {
     "name": "stderr",
     "output_type": "stream",
     "text": [
      "I'm studying hard now🧐, don't disturb!: 100%|██████████| 6/6 [00:00<00:00, 30.56it/s]\n",
      "Let's see how good I am...: 100%|██████████| 1/1 [00:00<00:00, 43.37it/s]\n"
     ]
    },
    {
     "name": "stdout",
     "output_type": "stream",
     "text": [
      "Epoch: 20 of 30, 0.004 min\n"
     ]
    },
    {
     "name": "stderr",
     "output_type": "stream",
     "text": [
      "I'm studying hard now🧐, don't disturb!: 100%|██████████| 6/6 [00:00<00:00, 17.57it/s]\n",
      "Let's see how good I am...: 100%|██████████| 1/1 [00:00<00:00, 63.04it/s]\n"
     ]
    },
    {
     "name": "stdout",
     "output_type": "stream",
     "text": [
      "Epoch: 21 of 30, 0.007 min\n"
     ]
    },
    {
     "name": "stderr",
     "output_type": "stream",
     "text": [
      "I'm studying hard now🧐, don't disturb!: 100%|██████████| 6/6 [00:00<00:00, 24.02it/s]\n",
      "Let's see how good I am...: 100%|██████████| 1/1 [00:00<00:00, 45.42it/s]\n"
     ]
    },
    {
     "name": "stdout",
     "output_type": "stream",
     "text": [
      "Epoch: 22 of 30, 0.005 min\n"
     ]
    },
    {
     "name": "stderr",
     "output_type": "stream",
     "text": [
      "I'm studying hard now🧐, don't disturb!: 100%|██████████| 6/6 [00:00<00:00, 12.56it/s]\n",
      "Let's see how good I am...: 100%|██████████| 1/1 [00:00<00:00,  8.92it/s]\n"
     ]
    },
    {
     "name": "stdout",
     "output_type": "stream",
     "text": [
      "Epoch: 23 of 30, 0.010 min\n"
     ]
    },
    {
     "name": "stderr",
     "output_type": "stream",
     "text": [
      "I'm studying hard now🧐, don't disturb!: 100%|██████████| 6/6 [00:00<00:00, 15.76it/s]\n",
      "Let's see how good I am...: 100%|██████████| 1/1 [00:00<00:00, 62.79it/s]\n"
     ]
    },
    {
     "name": "stdout",
     "output_type": "stream",
     "text": [
      "Epoch: 24 of 30, 0.007 min\n"
     ]
    },
    {
     "name": "stderr",
     "output_type": "stream",
     "text": [
      "I'm studying hard now🧐, don't disturb!: 100%|██████████| 6/6 [00:00<00:00, 19.75it/s]\n",
      "Let's see how good I am...: 100%|██████████| 1/1 [00:00<00:00, 58.58it/s]\n"
     ]
    },
    {
     "name": "stdout",
     "output_type": "stream",
     "text": [
      "Epoch: 25 of 30, 0.006 min\n"
     ]
    },
    {
     "name": "stderr",
     "output_type": "stream",
     "text": [
      "I'm studying hard now🧐, don't disturb!: 100%|██████████| 6/6 [00:00<00:00, 20.89it/s]\n",
      "Let's see how good I am...: 100%|██████████| 1/1 [00:00<00:00, 53.71it/s]\n"
     ]
    },
    {
     "name": "stdout",
     "output_type": "stream",
     "text": [
      "Epoch: 26 of 30, 0.005 min\n"
     ]
    },
    {
     "name": "stderr",
     "output_type": "stream",
     "text": [
      "I'm studying hard now🧐, don't disturb!: 100%|██████████| 6/6 [00:00<00:00, 16.93it/s]\n",
      "Let's see how good I am...: 100%|██████████| 1/1 [00:00<00:00, 52.36it/s]\n"
     ]
    },
    {
     "name": "stdout",
     "output_type": "stream",
     "text": [
      "Epoch: 27 of 30, 0.007 min\n"
     ]
    },
    {
     "name": "stderr",
     "output_type": "stream",
     "text": [
      "I'm studying hard now🧐, don't disturb!: 100%|██████████| 6/6 [00:00<00:00, 21.35it/s]\n",
      "Let's see how good I am...: 100%|██████████| 1/1 [00:00<00:00, 50.46it/s]\n"
     ]
    },
    {
     "name": "stdout",
     "output_type": "stream",
     "text": [
      "Epoch: 28 of 30, 0.005 min\n"
     ]
    },
    {
     "name": "stderr",
     "output_type": "stream",
     "text": [
      "I'm studying hard now🧐, don't disturb!: 100%|██████████| 6/6 [00:00<00:00, 17.60it/s]\n",
      "Let's see how good I am...: 100%|██████████| 1/1 [00:00<00:00, 47.74it/s]\n"
     ]
    },
    {
     "name": "stdout",
     "output_type": "stream",
     "text": [
      "Epoch: 29 of 30, 0.006 min\n"
     ]
    },
    {
     "name": "stderr",
     "output_type": "stream",
     "text": [
      "I'm studying hard now🧐, don't disturb!: 100%|██████████| 6/6 [00:00<00:00, 17.20it/s]\n",
      "Let's see how good I am...: 100%|██████████| 1/1 [00:00<00:00, 80.50it/s]\n"
     ]
    },
    {
     "name": "stdout",
     "output_type": "stream",
     "text": [
      "Epoch: 30 of 30, 0.006 min\n",
      "!!!!!!!!!!!!!!!!!!!!!!!! 366511\n"
     ]
    },
    {
     "name": "stderr",
     "output_type": "stream",
     "text": [
      "Failed to detect the name of this notebook, you can set it manually with the WANDB_NOTEBOOK_NAME environment variable to enable code saving.\n",
      "\u001b[34m\u001b[1mwandb\u001b[0m: Currently logged in as: \u001b[33mdmitrii_fomin\u001b[0m (\u001b[33mdmitrii_fomin_uga\u001b[0m). Use \u001b[1m`wandb login --relogin`\u001b[0m to force relogin\n"
     ]
    },
    {
     "data": {
      "text/html": [
       "wandb version 0.15.3 is available!  To upgrade, please run:\n",
       " $ pip install wandb --upgrade"
      ],
      "text/plain": [
       "<IPython.core.display.HTML object>"
      ]
     },
     "metadata": {},
     "output_type": "display_data"
    },
    {
     "data": {
      "text/html": [
       "Tracking run with wandb version 0.13.6"
      ],
      "text/plain": [
       "<IPython.core.display.HTML object>"
      ]
     },
     "metadata": {},
     "output_type": "display_data"
    },
    {
     "data": {
      "text/html": [
       "Run data is saved locally in <code>../logs/wandb/run-20230605_110311-256h50m8</code>"
      ],
      "text/plain": [
       "<IPython.core.display.HTML object>"
      ]
     },
     "metadata": {},
     "output_type": "display_data"
    },
    {
     "data": {
      "text/html": [
       "Syncing run <strong><a href=\"https://wandb.ai/dmitrii_fomin_uga/Internship_project/runs/256h50m8\" target=\"_blank\">JMvae_NumLab-50_LatDim-5</a></strong> to <a href=\"https://wandb.ai/dmitrii_fomin_uga/Internship_project\" target=\"_blank\">Weights & Biases</a> (<a href=\"https://wandb.me/run\" target=\"_blank\">docs</a>)<br/>"
      ],
      "text/plain": [
       "<IPython.core.display.HTML object>"
      ]
     },
     "metadata": {},
     "output_type": "display_data"
    },
    {
     "name": "stderr",
     "output_type": "stream",
     "text": [
      "I'm studying hard now🧐, don't disturb!: 100%|██████████| 1/1 [00:00<00:00, 54.95it/s]\n",
      "Let's see how good I am...: 100%|██████████| 2/2 [00:00<00:00, 27.93it/s]\n"
     ]
    },
    {
     "name": "stdout",
     "output_type": "stream",
     "text": [
      "Epoch: 1 of 20, 0.005 min\n"
     ]
    },
    {
     "name": "stderr",
     "output_type": "stream",
     "text": [
      "I'm studying hard now🧐, don't disturb!: 100%|██████████| 1/1 [00:00<00:00, 59.26it/s]\n",
      "Let's see how good I am...: 100%|██████████| 2/2 [00:00<00:00, 33.30it/s]\n"
     ]
    },
    {
     "name": "stdout",
     "output_type": "stream",
     "text": [
      "Epoch: 2 of 20, 0.005 min\n"
     ]
    },
    {
     "name": "stderr",
     "output_type": "stream",
     "text": [
      "I'm studying hard now🧐, don't disturb!: 100%|██████████| 1/1 [00:00<00:00, 48.84it/s]\n",
      "Let's see how good I am...: 100%|██████████| 2/2 [00:00<00:00, 22.64it/s]\n"
     ]
    },
    {
     "name": "stdout",
     "output_type": "stream",
     "text": [
      "Epoch: 3 of 20, 0.006 min\n"
     ]
    },
    {
     "name": "stderr",
     "output_type": "stream",
     "text": [
      "I'm studying hard now🧐, don't disturb!: 100%|██████████| 1/1 [00:00<00:00, 77.38it/s]\n",
      "Let's see how good I am...: 100%|██████████| 2/2 [00:00<00:00, 32.90it/s]\n"
     ]
    },
    {
     "name": "stdout",
     "output_type": "stream",
     "text": [
      "Epoch: 4 of 20, 0.005 min\n"
     ]
    },
    {
     "name": "stderr",
     "output_type": "stream",
     "text": [
      "I'm studying hard now🧐, don't disturb!: 100%|██████████| 1/1 [00:00<00:00, 90.88it/s]\n",
      "Let's see how good I am...: 100%|██████████| 2/2 [00:00<00:00, 35.04it/s]\n"
     ]
    },
    {
     "name": "stdout",
     "output_type": "stream",
     "text": [
      "Epoch: 5 of 20, 0.005 min\n"
     ]
    },
    {
     "name": "stderr",
     "output_type": "stream",
     "text": [
      "I'm studying hard now🧐, don't disturb!: 100%|██████████| 1/1 [00:00<00:00, 91.15it/s]\n",
      "Let's see how good I am...: 100%|██████████| 2/2 [00:00<00:00, 29.34it/s]\n"
     ]
    },
    {
     "name": "stdout",
     "output_type": "stream",
     "text": [
      "Epoch: 6 of 20, 0.005 min\n"
     ]
    },
    {
     "name": "stderr",
     "output_type": "stream",
     "text": [
      "I'm studying hard now🧐, don't disturb!: 100%|██████████| 1/1 [00:00<00:00, 91.65it/s]\n",
      "Let's see how good I am...: 100%|██████████| 2/2 [00:00<00:00, 34.20it/s]\n"
     ]
    },
    {
     "name": "stdout",
     "output_type": "stream",
     "text": [
      "Epoch: 7 of 20, 0.005 min\n"
     ]
    },
    {
     "name": "stderr",
     "output_type": "stream",
     "text": [
      "I'm studying hard now🧐, don't disturb!: 100%|██████████| 1/1 [00:00<00:00, 52.35it/s]\n",
      "Let's see how good I am...: 100%|██████████| 2/2 [00:00<00:00, 33.28it/s]\n"
     ]
    },
    {
     "name": "stdout",
     "output_type": "stream",
     "text": [
      "Epoch: 8 of 20, 0.005 min\n"
     ]
    },
    {
     "name": "stderr",
     "output_type": "stream",
     "text": [
      "I'm studying hard now🧐, don't disturb!: 100%|██████████| 1/1 [00:00<00:00, 97.36it/s]\n",
      "Let's see how good I am...: 100%|██████████| 2/2 [00:00<00:00, 35.23it/s]\n"
     ]
    },
    {
     "name": "stdout",
     "output_type": "stream",
     "text": [
      "Epoch: 9 of 20, 0.005 min\n"
     ]
    },
    {
     "name": "stderr",
     "output_type": "stream",
     "text": [
      "I'm studying hard now🧐, don't disturb!: 100%|██████████| 1/1 [00:00<00:00, 82.94it/s]\n",
      "Let's see how good I am...: 100%|██████████| 2/2 [00:00<00:00, 11.37it/s]\n"
     ]
    },
    {
     "name": "stdout",
     "output_type": "stream",
     "text": [
      "Epoch: 10 of 20, 0.007 min\n"
     ]
    },
    {
     "name": "stderr",
     "output_type": "stream",
     "text": [
      "I'm studying hard now🧐, don't disturb!: 100%|██████████| 1/1 [00:00<00:00, 59.10it/s]\n",
      "Let's see how good I am...: 100%|██████████| 2/2 [00:00<00:00, 26.72it/s]\n"
     ]
    },
    {
     "name": "stdout",
     "output_type": "stream",
     "text": [
      "Epoch: 11 of 20, 0.005 min\n"
     ]
    },
    {
     "name": "stderr",
     "output_type": "stream",
     "text": [
      "I'm studying hard now🧐, don't disturb!: 100%|██████████| 1/1 [00:00<00:00, 21.20it/s]\n",
      "Let's see how good I am...: 100%|██████████| 2/2 [00:00<00:00, 23.99it/s]\n"
     ]
    },
    {
     "name": "stdout",
     "output_type": "stream",
     "text": [
      "Epoch: 12 of 20, 0.006 min\n"
     ]
    },
    {
     "name": "stderr",
     "output_type": "stream",
     "text": [
      "I'm studying hard now🧐, don't disturb!: 100%|██████████| 1/1 [00:00<00:00, 59.18it/s]\n",
      "Let's see how good I am...: 100%|██████████| 2/2 [00:00<00:00, 25.49it/s]\n"
     ]
    },
    {
     "name": "stdout",
     "output_type": "stream",
     "text": [
      "Epoch: 13 of 20, 0.007 min\n"
     ]
    },
    {
     "name": "stderr",
     "output_type": "stream",
     "text": [
      "I'm studying hard now🧐, don't disturb!: 100%|██████████| 1/1 [00:00<00:00,  7.56it/s]\n",
      "Let's see how good I am...: 100%|██████████| 2/2 [00:00<00:00, 21.57it/s]\n"
     ]
    },
    {
     "name": "stdout",
     "output_type": "stream",
     "text": [
      "Epoch: 14 of 20, 0.009 min\n"
     ]
    },
    {
     "name": "stderr",
     "output_type": "stream",
     "text": [
      "I'm studying hard now🧐, don't disturb!: 100%|██████████| 1/1 [00:00<00:00, 38.90it/s]\n",
      "Let's see how good I am...: 100%|██████████| 2/2 [00:00<00:00, 23.65it/s]\n"
     ]
    },
    {
     "name": "stdout",
     "output_type": "stream",
     "text": [
      "Epoch: 15 of 20, 0.007 min\n"
     ]
    },
    {
     "name": "stderr",
     "output_type": "stream",
     "text": [
      "I'm studying hard now🧐, don't disturb!: 100%|██████████| 1/1 [00:00<00:00, 24.24it/s]\n",
      "Let's see how good I am...: 100%|██████████| 2/2 [00:00<00:00, 17.65it/s]\n"
     ]
    },
    {
     "name": "stdout",
     "output_type": "stream",
     "text": [
      "Epoch: 16 of 20, 0.007 min\n"
     ]
    },
    {
     "name": "stderr",
     "output_type": "stream",
     "text": [
      "I'm studying hard now🧐, don't disturb!: 100%|██████████| 1/1 [00:00<00:00, 83.84it/s]\n",
      "Let's see how good I am...: 100%|██████████| 2/2 [00:00<00:00, 31.98it/s]\n"
     ]
    },
    {
     "name": "stdout",
     "output_type": "stream",
     "text": [
      "Epoch: 17 of 20, 0.005 min\n"
     ]
    },
    {
     "name": "stderr",
     "output_type": "stream",
     "text": [
      "I'm studying hard now🧐, don't disturb!: 100%|██████████| 1/1 [00:00<00:00, 83.35it/s]\n",
      "Let's see how good I am...: 100%|██████████| 2/2 [00:00<00:00, 29.92it/s]\n"
     ]
    },
    {
     "name": "stdout",
     "output_type": "stream",
     "text": [
      "Epoch: 18 of 20, 0.005 min\n"
     ]
    },
    {
     "name": "stderr",
     "output_type": "stream",
     "text": [
      "I'm studying hard now🧐, don't disturb!: 100%|██████████| 1/1 [00:00<00:00, 69.76it/s]\n",
      "Let's see how good I am...: 100%|██████████| 2/2 [00:00<00:00, 23.34it/s]\n"
     ]
    },
    {
     "name": "stdout",
     "output_type": "stream",
     "text": [
      "Epoch: 19 of 20, 0.006 min\n"
     ]
    },
    {
     "name": "stderr",
     "output_type": "stream",
     "text": [
      "I'm studying hard now🧐, don't disturb!: 100%|██████████| 1/1 [00:00<00:00, 35.41it/s]\n",
      "Let's see how good I am...: 100%|██████████| 2/2 [00:00<00:00, 22.50it/s]\n"
     ]
    },
    {
     "name": "stdout",
     "output_type": "stream",
     "text": [
      "Epoch: 20 of 20, 0.006 min\n"
     ]
    },
    {
     "data": {
      "text/html": [
       "Waiting for W&B process to finish... <strong style=\"color:green\">(success).</strong>"
      ],
      "text/plain": [
       "<IPython.core.display.HTML object>"
      ]
     },
     "metadata": {},
     "output_type": "display_data"
    },
    {
     "data": {
      "text/html": [
       "<style>\n",
       "    table.wandb td:nth-child(1) { padding: 0 10px; text-align: left ; width: auto;} td:nth-child(2) {text-align: left ; width: 100%}\n",
       "    .wandb-row { display: flex; flex-direction: row; flex-wrap: wrap; justify-content: flex-start; width: 100% }\n",
       "    .wandb-col { display: flex; flex-direction: column; flex-basis: 100%; flex: 1; padding: 10px; }\n",
       "    </style>\n",
       "<div class=\"wandb-row\"><div class=\"wandb-col\"><h3>Run history:</h3><br/><table class=\"wandb\"><tr><td>epoch</td><td>▁▁▂▂▂▃▃▄▄▄▅▅▅▆▆▇▇▇██</td></tr><tr><td>lr</td><td>█▇▇▆▆▅▅▅▄▄▃▃▃▃▂▂▂▁▁▁</td></tr><tr><td>test_accuracy</td><td>▅▄█▆▆▆▄▄▄▆▇▅█▃▆▁▆█▄▆</td></tr><tr><td>test_auc_score</td><td>▇▆▃▆▅▅▄▄▅▃▁▄█▃▃▁▄▁▄▆</td></tr><tr><td>test_f1_score</td><td>▆▅█▆▆▇▅▄▅▆▇▆█▃▇▁▆█▅▆</td></tr><tr><td>test_fpr</td><td>▁▁▁▁▁▁▁▁▁▁▁▁▁▁▁▁▁▁▁▁</td></tr><tr><td>test_loss</td><td>█▆▅▄▃▃▃▂▂▂▂▂▁▁▁▁▁▁▁▁</td></tr><tr><td>test_tpr</td><td>▁▁▁▁▁▁▁▁▁▁▁▁▁▁▁▁▁▁▁▁</td></tr><tr><td>train_accuracy</td><td>▁▂▄▇████████████████</td></tr><tr><td>train_auc_score</td><td>█▃▂▁▁▁▁▁▂▂▃▄▄▄▄▄▅▅▅▅</td></tr><tr><td>train_f1_score</td><td>▁▃▅▇████████████████</td></tr><tr><td>train_fpr</td><td>█▇▅▂▁▁▁▁▁▁▁▁▁▁▁▁▁▁▁▁</td></tr><tr><td>train_loss</td><td>█▇▆▅▅▄▄▃▃▃▂▂▂▂▁▁▁▁▁▁</td></tr><tr><td>train_tpr</td><td>█▅▅▁▁▁▁▁▁▁▁▁▁▁▁▁▁▁▁▁</td></tr></table><br/></div><div class=\"wandb-col\"><h3>Run summary:</h3><br/><table class=\"wandb\"><tr><td>epoch</td><td>19</td></tr><tr><td>lr</td><td>0.00358</td></tr><tr><td>test_accuracy</td><td>0.96605</td></tr><tr><td>test_auc_score</td><td>0.90856</td></tr><tr><td>test_f1_score</td><td>0.49137</td></tr><tr><td>test_fpr</td><td>0.0</td></tr><tr><td>test_loss</td><td>0.00943</td></tr><tr><td>test_tpr</td><td>0.0</td></tr><tr><td>train_accuracy</td><td>0.96</td></tr><tr><td>train_auc_score</td><td>0.41667</td></tr><tr><td>train_f1_score</td><td>0.4898</td></tr><tr><td>train_fpr</td><td>0.0</td></tr><tr><td>train_loss</td><td>0.01756</td></tr><tr><td>train_tpr</td><td>0.0</td></tr></table><br/></div></div>"
      ],
      "text/plain": [
       "<IPython.core.display.HTML object>"
      ]
     },
     "metadata": {},
     "output_type": "display_data"
    },
    {
     "data": {
      "text/html": [
       "Synced <strong style=\"color:#cdcd00\">JMvae_NumLab-50_LatDim-5</strong>: <a href=\"https://wandb.ai/dmitrii_fomin_uga/Internship_project/runs/256h50m8\" target=\"_blank\">https://wandb.ai/dmitrii_fomin_uga/Internship_project/runs/256h50m8</a><br/>Synced 6 W&B file(s), 0 media file(s), 20 artifact file(s) and 1 other file(s)"
      ],
      "text/plain": [
       "<IPython.core.display.HTML object>"
      ]
     },
     "metadata": {},
     "output_type": "display_data"
    },
    {
     "data": {
      "text/html": [
       "Find logs at: <code>../logs/wandb/run-20230605_110311-256h50m8/logs</code>"
      ],
      "text/plain": [
       "<IPython.core.display.HTML object>"
      ]
     },
     "metadata": {},
     "output_type": "display_data"
    },
    {
     "name": "stderr",
     "output_type": "stream",
     "text": [
      "I'm studying hard now🧐, don't disturb!: 100%|██████████| 6/6 [00:00<00:00, 25.52it/s]\n",
      "Let's see how good I am...: 100%|██████████| 1/1 [00:00<00:00, 55.99it/s]\n"
     ]
    },
    {
     "name": "stdout",
     "output_type": "stream",
     "text": [
      "Epoch: 1 of 30, 0.004 min\n"
     ]
    },
    {
     "name": "stderr",
     "output_type": "stream",
     "text": [
      "I'm studying hard now🧐, don't disturb!: 100%|██████████| 6/6 [00:00<00:00, 27.58it/s]\n",
      "Let's see how good I am...: 100%|██████████| 1/1 [00:00<00:00, 66.95it/s]\n"
     ]
    },
    {
     "name": "stdout",
     "output_type": "stream",
     "text": [
      "Epoch: 2 of 30, 0.004 min\n"
     ]
    },
    {
     "name": "stderr",
     "output_type": "stream",
     "text": [
      "I'm studying hard now🧐, don't disturb!: 100%|██████████| 6/6 [00:00<00:00, 27.32it/s]\n",
      "Let's see how good I am...: 100%|██████████| 1/1 [00:00<00:00, 69.85it/s]\n"
     ]
    },
    {
     "name": "stdout",
     "output_type": "stream",
     "text": [
      "Epoch: 3 of 30, 0.004 min\n"
     ]
    },
    {
     "name": "stderr",
     "output_type": "stream",
     "text": [
      "I'm studying hard now🧐, don't disturb!: 100%|██████████| 6/6 [00:00<00:00, 28.34it/s]\n",
      "Let's see how good I am...: 100%|██████████| 1/1 [00:00<00:00,  8.33it/s]\n"
     ]
    },
    {
     "name": "stdout",
     "output_type": "stream",
     "text": [
      "Epoch: 4 of 30, 0.006 min\n"
     ]
    },
    {
     "name": "stderr",
     "output_type": "stream",
     "text": [
      "I'm studying hard now🧐, don't disturb!: 100%|██████████| 6/6 [00:00<00:00, 25.17it/s]\n",
      "Let's see how good I am...: 100%|██████████| 1/1 [00:00<00:00, 64.29it/s]\n"
     ]
    },
    {
     "name": "stdout",
     "output_type": "stream",
     "text": [
      "Epoch: 5 of 30, 0.004 min\n"
     ]
    },
    {
     "name": "stderr",
     "output_type": "stream",
     "text": [
      "I'm studying hard now🧐, don't disturb!: 100%|██████████| 6/6 [00:00<00:00, 24.56it/s]\n",
      "Let's see how good I am...: 100%|██████████| 1/1 [00:00<00:00, 72.17it/s]\n"
     ]
    },
    {
     "name": "stdout",
     "output_type": "stream",
     "text": [
      "Epoch: 6 of 30, 0.004 min\n"
     ]
    },
    {
     "name": "stderr",
     "output_type": "stream",
     "text": [
      "I'm studying hard now🧐, don't disturb!: 100%|██████████| 6/6 [00:00<00:00, 26.64it/s]\n",
      "Let's see how good I am...: 100%|██████████| 1/1 [00:00<00:00, 55.27it/s]\n"
     ]
    },
    {
     "name": "stdout",
     "output_type": "stream",
     "text": [
      "Epoch: 7 of 30, 0.004 min\n"
     ]
    },
    {
     "name": "stderr",
     "output_type": "stream",
     "text": [
      "I'm studying hard now🧐, don't disturb!: 100%|██████████| 6/6 [00:00<00:00, 28.75it/s]\n",
      "Let's see how good I am...: 100%|██████████| 1/1 [00:00<00:00, 53.66it/s]\n"
     ]
    },
    {
     "name": "stdout",
     "output_type": "stream",
     "text": [
      "Epoch: 8 of 30, 0.004 min\n"
     ]
    },
    {
     "name": "stderr",
     "output_type": "stream",
     "text": [
      "I'm studying hard now🧐, don't disturb!: 100%|██████████| 6/6 [00:00<00:00, 28.23it/s]\n",
      "Let's see how good I am...: 100%|██████████| 1/1 [00:00<00:00, 70.94it/s]\n"
     ]
    },
    {
     "name": "stdout",
     "output_type": "stream",
     "text": [
      "Epoch: 9 of 30, 0.004 min\n"
     ]
    },
    {
     "name": "stderr",
     "output_type": "stream",
     "text": [
      "I'm studying hard now🧐, don't disturb!: 100%|██████████| 6/6 [00:00<00:00, 22.05it/s]\n",
      "Let's see how good I am...: 100%|██████████| 1/1 [00:00<00:00, 57.79it/s]\n"
     ]
    },
    {
     "name": "stdout",
     "output_type": "stream",
     "text": [
      "Epoch: 10 of 30, 0.005 min\n"
     ]
    },
    {
     "name": "stderr",
     "output_type": "stream",
     "text": [
      "I'm studying hard now🧐, don't disturb!: 100%|██████████| 6/6 [00:00<00:00, 25.94it/s]\n",
      "Let's see how good I am...: 100%|██████████| 1/1 [00:00<00:00, 63.68it/s]\n"
     ]
    },
    {
     "name": "stdout",
     "output_type": "stream",
     "text": [
      "Epoch: 11 of 30, 0.004 min\n"
     ]
    },
    {
     "name": "stderr",
     "output_type": "stream",
     "text": [
      "I'm studying hard now🧐, don't disturb!: 100%|██████████| 6/6 [00:00<00:00, 28.93it/s]\n",
      "Let's see how good I am...: 100%|██████████| 1/1 [00:00<00:00, 64.41it/s]\n"
     ]
    },
    {
     "name": "stdout",
     "output_type": "stream",
     "text": [
      "Epoch: 12 of 30, 0.004 min\n"
     ]
    },
    {
     "name": "stderr",
     "output_type": "stream",
     "text": [
      "I'm studying hard now🧐, don't disturb!: 100%|██████████| 6/6 [00:00<00:00, 20.67it/s]\n",
      "Let's see how good I am...: 100%|██████████| 1/1 [00:00<00:00, 71.95it/s]\n"
     ]
    },
    {
     "name": "stdout",
     "output_type": "stream",
     "text": [
      "Epoch: 13 of 30, 0.005 min\n"
     ]
    },
    {
     "name": "stderr",
     "output_type": "stream",
     "text": [
      "I'm studying hard now🧐, don't disturb!: 100%|██████████| 6/6 [00:00<00:00, 29.97it/s]\n",
      "Let's see how good I am...: 100%|██████████| 1/1 [00:00<00:00, 66.85it/s]\n"
     ]
    },
    {
     "name": "stdout",
     "output_type": "stream",
     "text": [
      "Epoch: 14 of 30, 0.004 min\n"
     ]
    },
    {
     "name": "stderr",
     "output_type": "stream",
     "text": [
      "I'm studying hard now🧐, don't disturb!: 100%|██████████| 6/6 [00:00<00:00, 28.81it/s]\n",
      "Let's see how good I am...: 100%|██████████| 1/1 [00:00<00:00, 70.99it/s]\n"
     ]
    },
    {
     "name": "stdout",
     "output_type": "stream",
     "text": [
      "Epoch: 15 of 30, 0.004 min\n"
     ]
    },
    {
     "name": "stderr",
     "output_type": "stream",
     "text": [
      "I'm studying hard now🧐, don't disturb!: 100%|██████████| 6/6 [00:00<00:00, 29.51it/s]\n",
      "Let's see how good I am...: 100%|██████████| 1/1 [00:00<00:00, 68.81it/s]\n"
     ]
    },
    {
     "name": "stdout",
     "output_type": "stream",
     "text": [
      "Epoch: 16 of 30, 0.004 min\n"
     ]
    },
    {
     "name": "stderr",
     "output_type": "stream",
     "text": [
      "I'm studying hard now🧐, don't disturb!: 100%|██████████| 6/6 [00:00<00:00, 30.00it/s]\n",
      "Let's see how good I am...: 100%|██████████| 1/1 [00:00<00:00, 61.15it/s]\n"
     ]
    },
    {
     "name": "stdout",
     "output_type": "stream",
     "text": [
      "Epoch: 17 of 30, 0.004 min\n"
     ]
    },
    {
     "name": "stderr",
     "output_type": "stream",
     "text": [
      "I'm studying hard now🧐, don't disturb!: 100%|██████████| 6/6 [00:00<00:00, 28.28it/s]\n",
      "Let's see how good I am...: 100%|██████████| 1/1 [00:00<00:00, 67.47it/s]\n"
     ]
    },
    {
     "name": "stdout",
     "output_type": "stream",
     "text": [
      "Epoch: 18 of 30, 0.004 min\n"
     ]
    },
    {
     "name": "stderr",
     "output_type": "stream",
     "text": [
      "I'm studying hard now🧐, don't disturb!: 100%|██████████| 6/6 [00:00<00:00, 28.48it/s]\n",
      "Let's see how good I am...: 100%|██████████| 1/1 [00:00<00:00, 64.74it/s]\n"
     ]
    },
    {
     "name": "stdout",
     "output_type": "stream",
     "text": [
      "Epoch: 19 of 30, 0.004 min\n"
     ]
    },
    {
     "name": "stderr",
     "output_type": "stream",
     "text": [
      "I'm studying hard now🧐, don't disturb!: 100%|██████████| 6/6 [00:00<00:00, 29.81it/s]\n",
      "Let's see how good I am...: 100%|██████████| 1/1 [00:00<00:00, 66.89it/s]\n"
     ]
    },
    {
     "name": "stdout",
     "output_type": "stream",
     "text": [
      "Epoch: 20 of 30, 0.004 min\n"
     ]
    },
    {
     "name": "stderr",
     "output_type": "stream",
     "text": [
      "I'm studying hard now🧐, don't disturb!: 100%|██████████| 6/6 [00:00<00:00, 27.93it/s]\n",
      "Let's see how good I am...: 100%|██████████| 1/1 [00:00<00:00, 64.94it/s]\n"
     ]
    },
    {
     "name": "stdout",
     "output_type": "stream",
     "text": [
      "Epoch: 21 of 30, 0.004 min\n"
     ]
    },
    {
     "name": "stderr",
     "output_type": "stream",
     "text": [
      "I'm studying hard now🧐, don't disturb!: 100%|██████████| 6/6 [00:00<00:00, 18.72it/s]\n",
      "Let's see how good I am...: 100%|██████████| 1/1 [00:00<00:00, 41.30it/s]\n"
     ]
    },
    {
     "name": "stdout",
     "output_type": "stream",
     "text": [
      "Epoch: 22 of 30, 0.007 min\n"
     ]
    },
    {
     "name": "stderr",
     "output_type": "stream",
     "text": [
      "I'm studying hard now🧐, don't disturb!: 100%|██████████| 6/6 [00:00<00:00, 28.17it/s]\n",
      "Let's see how good I am...: 100%|██████████| 1/1 [00:00<00:00, 70.64it/s]\n"
     ]
    },
    {
     "name": "stdout",
     "output_type": "stream",
     "text": [
      "Epoch: 23 of 30, 0.004 min\n"
     ]
    },
    {
     "name": "stderr",
     "output_type": "stream",
     "text": [
      "I'm studying hard now🧐, don't disturb!: 100%|██████████| 6/6 [00:00<00:00, 28.38it/s]\n",
      "Let's see how good I am...: 100%|██████████| 1/1 [00:00<00:00, 70.11it/s]\n"
     ]
    },
    {
     "name": "stdout",
     "output_type": "stream",
     "text": [
      "Epoch: 24 of 30, 0.004 min\n"
     ]
    },
    {
     "name": "stderr",
     "output_type": "stream",
     "text": [
      "I'm studying hard now🧐, don't disturb!: 100%|██████████| 6/6 [00:00<00:00, 23.67it/s]\n",
      "Let's see how good I am...: 100%|██████████| 1/1 [00:00<00:00, 75.61it/s]\n"
     ]
    },
    {
     "name": "stdout",
     "output_type": "stream",
     "text": [
      "Epoch: 25 of 30, 0.005 min\n"
     ]
    },
    {
     "name": "stderr",
     "output_type": "stream",
     "text": [
      "I'm studying hard now🧐, don't disturb!: 100%|██████████| 6/6 [00:00<00:00, 30.28it/s]\n",
      "Let's see how good I am...: 100%|██████████| 1/1 [00:00<00:00, 72.28it/s]\n"
     ]
    },
    {
     "name": "stdout",
     "output_type": "stream",
     "text": [
      "Epoch: 26 of 30, 0.004 min\n"
     ]
    },
    {
     "name": "stderr",
     "output_type": "stream",
     "text": [
      "I'm studying hard now🧐, don't disturb!: 100%|██████████| 6/6 [00:00<00:00, 28.77it/s]\n",
      "Let's see how good I am...: 100%|██████████| 1/1 [00:00<00:00, 67.44it/s]\n"
     ]
    },
    {
     "name": "stdout",
     "output_type": "stream",
     "text": [
      "Epoch: 27 of 30, 0.004 min\n"
     ]
    },
    {
     "name": "stderr",
     "output_type": "stream",
     "text": [
      "I'm studying hard now🧐, don't disturb!: 100%|██████████| 6/6 [00:00<00:00, 29.62it/s]\n",
      "Let's see how good I am...: 100%|██████████| 1/1 [00:00<00:00, 71.80it/s]\n"
     ]
    },
    {
     "name": "stdout",
     "output_type": "stream",
     "text": [
      "Epoch: 28 of 30, 0.004 min\n"
     ]
    },
    {
     "name": "stderr",
     "output_type": "stream",
     "text": [
      "I'm studying hard now🧐, don't disturb!: 100%|██████████| 6/6 [00:00<00:00, 28.20it/s]\n",
      "Let's see how good I am...: 100%|██████████| 1/1 [00:00<00:00, 66.76it/s]\n"
     ]
    },
    {
     "name": "stdout",
     "output_type": "stream",
     "text": [
      "Epoch: 29 of 30, 0.004 min\n"
     ]
    },
    {
     "name": "stderr",
     "output_type": "stream",
     "text": [
      "I'm studying hard now🧐, don't disturb!: 100%|██████████| 6/6 [00:00<00:00, 28.51it/s]\n",
      "Let's see how good I am...: 100%|██████████| 1/1 [00:00<00:00, 62.32it/s]\n"
     ]
    },
    {
     "name": "stdout",
     "output_type": "stream",
     "text": [
      "Epoch: 30 of 30, 0.004 min\n",
      "!!!!!!!!!!!!!!!!!!!!!!!! 366511\n"
     ]
    },
    {
     "data": {
      "text/html": [
       "wandb version 0.15.3 is available!  To upgrade, please run:\n",
       " $ pip install wandb --upgrade"
      ],
      "text/plain": [
       "<IPython.core.display.HTML object>"
      ]
     },
     "metadata": {},
     "output_type": "display_data"
    },
    {
     "data": {
      "text/html": [
       "Tracking run with wandb version 0.13.6"
      ],
      "text/plain": [
       "<IPython.core.display.HTML object>"
      ]
     },
     "metadata": {},
     "output_type": "display_data"
    },
    {
     "data": {
      "text/html": [
       "Run data is saved locally in <code>../logs/wandb/run-20230605_110438-2ta6ghtr</code>"
      ],
      "text/plain": [
       "<IPython.core.display.HTML object>"
      ]
     },
     "metadata": {},
     "output_type": "display_data"
    },
    {
     "data": {
      "text/html": [
       "Syncing run <strong><a href=\"https://wandb.ai/dmitrii_fomin_uga/Internship_project/runs/2ta6ghtr\" target=\"_blank\">JMvae_NumLab-100_LatDim-5</a></strong> to <a href=\"https://wandb.ai/dmitrii_fomin_uga/Internship_project\" target=\"_blank\">Weights & Biases</a> (<a href=\"https://wandb.me/run\" target=\"_blank\">docs</a>)<br/>"
      ],
      "text/plain": [
       "<IPython.core.display.HTML object>"
      ]
     },
     "metadata": {},
     "output_type": "display_data"
    },
    {
     "name": "stderr",
     "output_type": "stream",
     "text": [
      "I'm studying hard now🧐, don't disturb!: 100%|██████████| 1/1 [00:00<00:00, 54.84it/s]\n",
      "Let's see how good I am...: 100%|██████████| 2/2 [00:00<00:00, 23.31it/s]\n"
     ]
    },
    {
     "name": "stdout",
     "output_type": "stream",
     "text": [
      "Epoch: 1 of 20, 0.006 min\n"
     ]
    },
    {
     "name": "stderr",
     "output_type": "stream",
     "text": [
      "I'm studying hard now🧐, don't disturb!: 100%|██████████| 1/1 [00:00<00:00, 63.30it/s]\n",
      "Let's see how good I am...: 100%|██████████| 2/2 [00:00<00:00, 28.08it/s]\n"
     ]
    },
    {
     "name": "stdout",
     "output_type": "stream",
     "text": [
      "Epoch: 2 of 20, 0.005 min\n"
     ]
    },
    {
     "name": "stderr",
     "output_type": "stream",
     "text": [
      "I'm studying hard now🧐, don't disturb!: 100%|██████████| 1/1 [00:00<00:00, 76.16it/s]\n",
      "Let's see how good I am...: 100%|██████████| 2/2 [00:00<00:00, 30.07it/s]\n"
     ]
    },
    {
     "name": "stdout",
     "output_type": "stream",
     "text": [
      "Epoch: 3 of 20, 0.005 min\n"
     ]
    },
    {
     "name": "stderr",
     "output_type": "stream",
     "text": [
      "I'm studying hard now🧐, don't disturb!: 100%|██████████| 1/1 [00:00<00:00, 79.38it/s]\n",
      "Let's see how good I am...: 100%|██████████| 2/2 [00:00<00:00, 31.16it/s]\n"
     ]
    },
    {
     "name": "stdout",
     "output_type": "stream",
     "text": [
      "Epoch: 4 of 20, 0.005 min\n"
     ]
    },
    {
     "name": "stderr",
     "output_type": "stream",
     "text": [
      "I'm studying hard now🧐, don't disturb!: 100%|██████████| 1/1 [00:00<00:00, 61.17it/s]\n",
      "Let's see how good I am...: 100%|██████████| 2/2 [00:00<00:00, 27.52it/s]\n"
     ]
    },
    {
     "name": "stdout",
     "output_type": "stream",
     "text": [
      "Epoch: 5 of 20, 0.005 min\n"
     ]
    },
    {
     "name": "stderr",
     "output_type": "stream",
     "text": [
      "I'm studying hard now🧐, don't disturb!: 100%|██████████| 1/1 [00:00<00:00, 86.40it/s]\n",
      "Let's see how good I am...: 100%|██████████| 2/2 [00:00<00:00, 31.61it/s]\n"
     ]
    },
    {
     "name": "stdout",
     "output_type": "stream",
     "text": [
      "Epoch: 6 of 20, 0.005 min\n"
     ]
    },
    {
     "name": "stderr",
     "output_type": "stream",
     "text": [
      "I'm studying hard now🧐, don't disturb!: 100%|██████████| 1/1 [00:00<00:00, 81.28it/s]\n",
      "Let's see how good I am...: 100%|██████████| 2/2 [00:00<00:00, 34.17it/s]\n"
     ]
    },
    {
     "name": "stdout",
     "output_type": "stream",
     "text": [
      "Epoch: 7 of 20, 0.005 min\n"
     ]
    },
    {
     "name": "stderr",
     "output_type": "stream",
     "text": [
      "I'm studying hard now🧐, don't disturb!: 100%|██████████| 1/1 [00:00<00:00, 60.27it/s]\n",
      "Let's see how good I am...: 100%|██████████| 2/2 [00:00<00:00, 25.26it/s]\n"
     ]
    },
    {
     "name": "stdout",
     "output_type": "stream",
     "text": [
      "Epoch: 8 of 20, 0.005 min\n"
     ]
    },
    {
     "name": "stderr",
     "output_type": "stream",
     "text": [
      "I'm studying hard now🧐, don't disturb!: 100%|██████████| 1/1 [00:00<00:00, 87.20it/s]\n",
      "Let's see how good I am...: 100%|██████████| 2/2 [00:00<00:00, 31.65it/s]\n"
     ]
    },
    {
     "name": "stdout",
     "output_type": "stream",
     "text": [
      "Epoch: 9 of 20, 0.005 min\n"
     ]
    },
    {
     "name": "stderr",
     "output_type": "stream",
     "text": [
      "I'm studying hard now🧐, don't disturb!: 100%|██████████| 1/1 [00:00<00:00, 80.48it/s]\n",
      "Let's see how good I am...: 100%|██████████| 2/2 [00:00<00:00, 32.95it/s]\n"
     ]
    },
    {
     "name": "stdout",
     "output_type": "stream",
     "text": [
      "Epoch: 10 of 20, 0.005 min\n"
     ]
    },
    {
     "name": "stderr",
     "output_type": "stream",
     "text": [
      "I'm studying hard now🧐, don't disturb!: 100%|██████████| 1/1 [00:00<00:00, 75.32it/s]\n",
      "Let's see how good I am...: 100%|██████████| 2/2 [00:00<00:00, 29.57it/s]\n"
     ]
    },
    {
     "name": "stdout",
     "output_type": "stream",
     "text": [
      "Epoch: 11 of 20, 0.005 min\n"
     ]
    },
    {
     "name": "stderr",
     "output_type": "stream",
     "text": [
      "I'm studying hard now🧐, don't disturb!: 100%|██████████| 1/1 [00:00<00:00, 71.18it/s]\n",
      "Let's see how good I am...: 100%|██████████| 2/2 [00:00<00:00, 32.14it/s]\n"
     ]
    },
    {
     "name": "stdout",
     "output_type": "stream",
     "text": [
      "Epoch: 12 of 20, 0.005 min\n"
     ]
    },
    {
     "name": "stderr",
     "output_type": "stream",
     "text": [
      "I'm studying hard now🧐, don't disturb!: 100%|██████████| 1/1 [00:00<00:00, 63.40it/s]\n",
      "Let's see how good I am...: 100%|██████████| 2/2 [00:00<00:00, 27.64it/s]\n"
     ]
    },
    {
     "name": "stdout",
     "output_type": "stream",
     "text": [
      "Epoch: 13 of 20, 0.005 min\n"
     ]
    },
    {
     "name": "stderr",
     "output_type": "stream",
     "text": [
      "I'm studying hard now🧐, don't disturb!: 100%|██████████| 1/1 [00:00<00:00, 67.71it/s]\n",
      "Let's see how good I am...: 100%|██████████| 2/2 [00:00<00:00, 32.77it/s]\n"
     ]
    },
    {
     "name": "stdout",
     "output_type": "stream",
     "text": [
      "Epoch: 14 of 20, 0.005 min\n"
     ]
    },
    {
     "name": "stderr",
     "output_type": "stream",
     "text": [
      "I'm studying hard now🧐, don't disturb!: 100%|██████████| 1/1 [00:00<00:00, 65.03it/s]\n",
      "Let's see how good I am...: 100%|██████████| 2/2 [00:00<00:00, 29.84it/s]\n"
     ]
    },
    {
     "name": "stdout",
     "output_type": "stream",
     "text": [
      "Epoch: 15 of 20, 0.006 min\n"
     ]
    },
    {
     "name": "stderr",
     "output_type": "stream",
     "text": [
      "I'm studying hard now🧐, don't disturb!: 100%|██████████| 1/1 [00:00<00:00, 69.47it/s]\n",
      "Let's see how good I am...: 100%|██████████| 2/2 [00:00<00:00, 10.43it/s]\n"
     ]
    },
    {
     "name": "stdout",
     "output_type": "stream",
     "text": [
      "Epoch: 16 of 20, 0.007 min\n"
     ]
    },
    {
     "name": "stderr",
     "output_type": "stream",
     "text": [
      "I'm studying hard now🧐, don't disturb!: 100%|██████████| 1/1 [00:00<00:00, 70.05it/s]\n",
      "Let's see how good I am...: 100%|██████████| 2/2 [00:00<00:00, 32.27it/s]\n"
     ]
    },
    {
     "name": "stdout",
     "output_type": "stream",
     "text": [
      "Epoch: 17 of 20, 0.005 min\n"
     ]
    },
    {
     "name": "stderr",
     "output_type": "stream",
     "text": [
      "I'm studying hard now🧐, don't disturb!: 100%|██████████| 1/1 [00:00<00:00, 75.29it/s]\n",
      "Let's see how good I am...: 100%|██████████| 2/2 [00:00<00:00, 34.20it/s]\n"
     ]
    },
    {
     "name": "stdout",
     "output_type": "stream",
     "text": [
      "Epoch: 18 of 20, 0.005 min\n"
     ]
    },
    {
     "name": "stderr",
     "output_type": "stream",
     "text": [
      "I'm studying hard now🧐, don't disturb!: 100%|██████████| 1/1 [00:00<00:00, 78.55it/s]\n",
      "Let's see how good I am...: 100%|██████████| 2/2 [00:00<00:00, 32.71it/s]\n"
     ]
    },
    {
     "name": "stdout",
     "output_type": "stream",
     "text": [
      "Epoch: 19 of 20, 0.005 min\n"
     ]
    },
    {
     "name": "stderr",
     "output_type": "stream",
     "text": [
      "I'm studying hard now🧐, don't disturb!: 100%|██████████| 1/1 [00:00<00:00, 80.25it/s]\n",
      "Let's see how good I am...: 100%|██████████| 2/2 [00:00<00:00, 33.14it/s]\n"
     ]
    },
    {
     "name": "stdout",
     "output_type": "stream",
     "text": [
      "Epoch: 20 of 20, 0.005 min\n"
     ]
    },
    {
     "data": {
      "text/html": [
       "Waiting for W&B process to finish... <strong style=\"color:green\">(success).</strong>"
      ],
      "text/plain": [
       "<IPython.core.display.HTML object>"
      ]
     },
     "metadata": {},
     "output_type": "display_data"
    },
    {
     "data": {
      "text/html": [
       "<style>\n",
       "    table.wandb td:nth-child(1) { padding: 0 10px; text-align: left ; width: auto;} td:nth-child(2) {text-align: left ; width: 100%}\n",
       "    .wandb-row { display: flex; flex-direction: row; flex-wrap: wrap; justify-content: flex-start; width: 100% }\n",
       "    .wandb-col { display: flex; flex-direction: column; flex-basis: 100%; flex: 1; padding: 10px; }\n",
       "    </style>\n",
       "<div class=\"wandb-row\"><div class=\"wandb-col\"><h3>Run history:</h3><br/><table class=\"wandb\"><tr><td>epoch</td><td>▁▁▂▂▂▃▃▄▄▄▅▅▅▆▆▇▇▇██</td></tr><tr><td>lr</td><td>█▇▇▆▆▅▅▅▄▄▃▃▃▃▂▂▂▁▁▁</td></tr><tr><td>test_accuracy</td><td>▃▄▄▄▁▃▅█▇▅▄█▅▄▃█▅▃▁▃</td></tr><tr><td>test_auc_score</td><td>████▅▄▃▄▃▂▂▃▃▁▃▂▃▃▄▁</td></tr><tr><td>test_f1_score</td><td>▄▅▅▅▂▃▆█▇▅▅█▆▅▃█▆▃▁▃</td></tr><tr><td>test_fpr</td><td>▁▁▁▁▁▁▁▁▁▁▁▁▁▁▁▁▁▁▁▁</td></tr><tr><td>test_loss</td><td>█▇▆▅▄▄▃▃▃▂▂▂▂▂▁▁▁▁▁▁</td></tr><tr><td>test_tpr</td><td>▁▁▁▁▁▁▁▁▁▁▁▁▁▁▁▁▁▁▁▁</td></tr><tr><td>train_accuracy</td><td>▁▁▁▁▁▁▁▁▁▁▁▁▁▁▁▁▁▁▁▁</td></tr><tr><td>train_auc_score</td><td>█▅▂▁▁▁▁▂▂▂▂▂▂▃▃▃▃▃▃▃</td></tr><tr><td>train_f1_score</td><td>▁▁▁▁▁▁▁▁▁▁▁▁▁▁▁▁▁▁▁▁</td></tr><tr><td>train_fpr</td><td>▁▁▁▁▁▁▁▁▁▁▁▁▁▁▁▁▁▁▁▁</td></tr><tr><td>train_loss</td><td>█▇▆▅▅▄▄▃▃▂▂▂▂▂▁▁▁▁▁▁</td></tr><tr><td>train_tpr</td><td>▁▁▁▁▁▁▁▁▁▁▁▁▁▁▁▁▁▁▁▁</td></tr></table><br/></div><div class=\"wandb-col\"><h3>Run summary:</h3><br/><table class=\"wandb\"><tr><td>epoch</td><td>19</td></tr><tr><td>lr</td><td>0.00358</td></tr><tr><td>test_accuracy</td><td>0.96591</td></tr><tr><td>test_auc_score</td><td>0.76656</td></tr><tr><td>test_f1_score</td><td>0.49133</td></tr><tr><td>test_fpr</td><td>0.0</td></tr><tr><td>test_loss</td><td>0.01332</td></tr><tr><td>test_tpr</td><td>0.0</td></tr><tr><td>train_accuracy</td><td>0.97</td></tr><tr><td>train_auc_score</td><td>0.70103</td></tr><tr><td>train_f1_score</td><td>0.49239</td></tr><tr><td>train_fpr</td><td>0.0</td></tr><tr><td>train_loss</td><td>0.00845</td></tr><tr><td>train_tpr</td><td>0.0</td></tr></table><br/></div></div>"
      ],
      "text/plain": [
       "<IPython.core.display.HTML object>"
      ]
     },
     "metadata": {},
     "output_type": "display_data"
    },
    {
     "data": {
      "text/html": [
       "Synced <strong style=\"color:#cdcd00\">JMvae_NumLab-100_LatDim-5</strong>: <a href=\"https://wandb.ai/dmitrii_fomin_uga/Internship_project/runs/2ta6ghtr\" target=\"_blank\">https://wandb.ai/dmitrii_fomin_uga/Internship_project/runs/2ta6ghtr</a><br/>Synced 6 W&B file(s), 0 media file(s), 20 artifact file(s) and 1 other file(s)"
      ],
      "text/plain": [
       "<IPython.core.display.HTML object>"
      ]
     },
     "metadata": {},
     "output_type": "display_data"
    },
    {
     "data": {
      "text/html": [
       "Find logs at: <code>../logs/wandb/run-20230605_110438-2ta6ghtr/logs</code>"
      ],
      "text/plain": [
       "<IPython.core.display.HTML object>"
      ]
     },
     "metadata": {},
     "output_type": "display_data"
    },
    {
     "name": "stderr",
     "output_type": "stream",
     "text": [
      "I'm studying hard now🧐, don't disturb!: 100%|██████████| 6/6 [00:00<00:00, 26.25it/s]\n",
      "Let's see how good I am...: 100%|██████████| 1/1 [00:00<00:00, 66.23it/s]\n"
     ]
    },
    {
     "name": "stdout",
     "output_type": "stream",
     "text": [
      "Epoch: 1 of 30, 0.004 min\n"
     ]
    },
    {
     "name": "stderr",
     "output_type": "stream",
     "text": [
      "I'm studying hard now🧐, don't disturb!: 100%|██████████| 6/6 [00:00<00:00, 28.37it/s]\n",
      "Let's see how good I am...: 100%|██████████| 1/1 [00:00<00:00, 78.11it/s]\n"
     ]
    },
    {
     "name": "stdout",
     "output_type": "stream",
     "text": [
      "Epoch: 2 of 30, 0.004 min\n"
     ]
    },
    {
     "name": "stderr",
     "output_type": "stream",
     "text": [
      "I'm studying hard now🧐, don't disturb!: 100%|██████████| 6/6 [00:00<00:00, 30.87it/s]\n",
      "Let's see how good I am...: 100%|██████████| 1/1 [00:00<00:00, 72.53it/s]\n"
     ]
    },
    {
     "name": "stdout",
     "output_type": "stream",
     "text": [
      "Epoch: 3 of 30, 0.004 min\n"
     ]
    },
    {
     "name": "stderr",
     "output_type": "stream",
     "text": [
      "I'm studying hard now🧐, don't disturb!: 100%|██████████| 6/6 [00:00<00:00, 29.36it/s]\n",
      "Let's see how good I am...: 100%|██████████| 1/1 [00:00<00:00, 70.32it/s]\n"
     ]
    },
    {
     "name": "stdout",
     "output_type": "stream",
     "text": [
      "Epoch: 4 of 30, 0.004 min\n"
     ]
    },
    {
     "name": "stderr",
     "output_type": "stream",
     "text": [
      "I'm studying hard now🧐, don't disturb!: 100%|██████████| 6/6 [00:00<00:00, 30.96it/s]\n",
      "Let's see how good I am...: 100%|██████████| 1/1 [00:00<00:00, 72.18it/s]\n"
     ]
    },
    {
     "name": "stdout",
     "output_type": "stream",
     "text": [
      "Epoch: 5 of 30, 0.004 min\n"
     ]
    },
    {
     "name": "stderr",
     "output_type": "stream",
     "text": [
      "I'm studying hard now🧐, don't disturb!: 100%|██████████| 6/6 [00:00<00:00, 31.44it/s]\n",
      "Let's see how good I am...: 100%|██████████| 1/1 [00:00<00:00, 67.11it/s]\n"
     ]
    },
    {
     "name": "stdout",
     "output_type": "stream",
     "text": [
      "Epoch: 6 of 30, 0.004 min\n"
     ]
    },
    {
     "name": "stderr",
     "output_type": "stream",
     "text": [
      "I'm studying hard now🧐, don't disturb!: 100%|██████████| 6/6 [00:00<00:00, 31.76it/s]\n",
      "Let's see how good I am...: 100%|██████████| 1/1 [00:00<00:00, 16.83it/s]\n"
     ]
    },
    {
     "name": "stdout",
     "output_type": "stream",
     "text": [
      "Epoch: 7 of 30, 0.004 min\n"
     ]
    },
    {
     "name": "stderr",
     "output_type": "stream",
     "text": [
      "I'm studying hard now🧐, don't disturb!: 100%|██████████| 6/6 [00:00<00:00, 26.96it/s]\n",
      "Let's see how good I am...: 100%|██████████| 1/1 [00:00<00:00, 77.33it/s]\n"
     ]
    },
    {
     "name": "stdout",
     "output_type": "stream",
     "text": [
      "Epoch: 8 of 30, 0.004 min\n"
     ]
    },
    {
     "name": "stderr",
     "output_type": "stream",
     "text": [
      "I'm studying hard now🧐, don't disturb!: 100%|██████████| 6/6 [00:00<00:00, 25.41it/s]\n",
      "Let's see how good I am...: 100%|██████████| 1/1 [00:00<00:00, 68.09it/s]\n"
     ]
    },
    {
     "name": "stdout",
     "output_type": "stream",
     "text": [
      "Epoch: 9 of 30, 0.004 min\n"
     ]
    },
    {
     "name": "stderr",
     "output_type": "stream",
     "text": [
      "I'm studying hard now🧐, don't disturb!: 100%|██████████| 6/6 [00:00<00:00, 29.11it/s]\n",
      "Let's see how good I am...: 100%|██████████| 1/1 [00:00<00:00, 73.83it/s]\n"
     ]
    },
    {
     "name": "stdout",
     "output_type": "stream",
     "text": [
      "Epoch: 10 of 30, 0.004 min\n"
     ]
    },
    {
     "name": "stderr",
     "output_type": "stream",
     "text": [
      "I'm studying hard now🧐, don't disturb!: 100%|██████████| 6/6 [00:00<00:00, 29.95it/s]\n",
      "Let's see how good I am...: 100%|██████████| 1/1 [00:00<00:00, 72.92it/s]\n"
     ]
    },
    {
     "name": "stdout",
     "output_type": "stream",
     "text": [
      "Epoch: 11 of 30, 0.004 min\n"
     ]
    },
    {
     "name": "stderr",
     "output_type": "stream",
     "text": [
      "I'm studying hard now🧐, don't disturb!: 100%|██████████| 6/6 [00:00<00:00, 29.64it/s]\n",
      "Let's see how good I am...: 100%|██████████| 1/1 [00:00<00:00, 60.17it/s]\n"
     ]
    },
    {
     "name": "stdout",
     "output_type": "stream",
     "text": [
      "Epoch: 12 of 30, 0.004 min\n"
     ]
    },
    {
     "name": "stderr",
     "output_type": "stream",
     "text": [
      "I'm studying hard now🧐, don't disturb!: 100%|██████████| 6/6 [00:00<00:00, 29.38it/s]\n",
      "Let's see how good I am...: 100%|██████████| 1/1 [00:00<00:00, 63.25it/s]\n"
     ]
    },
    {
     "name": "stdout",
     "output_type": "stream",
     "text": [
      "Epoch: 13 of 30, 0.004 min\n"
     ]
    },
    {
     "name": "stderr",
     "output_type": "stream",
     "text": [
      "I'm studying hard now🧐, don't disturb!: 100%|██████████| 6/6 [00:00<00:00, 29.35it/s]\n",
      "Let's see how good I am...: 100%|██████████| 1/1 [00:00<00:00, 63.65it/s]\n"
     ]
    },
    {
     "name": "stdout",
     "output_type": "stream",
     "text": [
      "Epoch: 14 of 30, 0.004 min\n"
     ]
    },
    {
     "name": "stderr",
     "output_type": "stream",
     "text": [
      "I'm studying hard now🧐, don't disturb!: 100%|██████████| 6/6 [00:00<00:00, 29.42it/s]\n",
      "Let's see how good I am...: 100%|██████████| 1/1 [00:00<00:00, 67.02it/s]\n"
     ]
    },
    {
     "name": "stdout",
     "output_type": "stream",
     "text": [
      "Epoch: 15 of 30, 0.004 min\n"
     ]
    },
    {
     "name": "stderr",
     "output_type": "stream",
     "text": [
      "I'm studying hard now🧐, don't disturb!: 100%|██████████| 6/6 [00:00<00:00, 30.35it/s]\n",
      "Let's see how good I am...: 100%|██████████| 1/1 [00:00<00:00, 59.73it/s]\n"
     ]
    },
    {
     "name": "stdout",
     "output_type": "stream",
     "text": [
      "Epoch: 16 of 30, 0.004 min\n"
     ]
    },
    {
     "name": "stderr",
     "output_type": "stream",
     "text": [
      "I'm studying hard now🧐, don't disturb!: 100%|██████████| 6/6 [00:00<00:00, 21.00it/s]\n",
      "Let's see how good I am...: 100%|██████████| 1/1 [00:00<00:00, 71.65it/s]\n"
     ]
    },
    {
     "name": "stdout",
     "output_type": "stream",
     "text": [
      "Epoch: 17 of 30, 0.005 min\n"
     ]
    },
    {
     "name": "stderr",
     "output_type": "stream",
     "text": [
      "I'm studying hard now🧐, don't disturb!: 100%|██████████| 6/6 [00:00<00:00, 28.39it/s]\n",
      "Let's see how good I am...: 100%|██████████| 1/1 [00:00<00:00, 72.32it/s]\n"
     ]
    },
    {
     "name": "stdout",
     "output_type": "stream",
     "text": [
      "Epoch: 18 of 30, 0.004 min\n"
     ]
    },
    {
     "name": "stderr",
     "output_type": "stream",
     "text": [
      "I'm studying hard now🧐, don't disturb!: 100%|██████████| 6/6 [00:00<00:00, 30.50it/s]\n",
      "Let's see how good I am...: 100%|██████████| 1/1 [00:00<00:00, 71.45it/s]\n"
     ]
    },
    {
     "name": "stdout",
     "output_type": "stream",
     "text": [
      "Epoch: 19 of 30, 0.004 min\n"
     ]
    },
    {
     "name": "stderr",
     "output_type": "stream",
     "text": [
      "I'm studying hard now🧐, don't disturb!: 100%|██████████| 6/6 [00:00<00:00, 30.42it/s]\n",
      "Let's see how good I am...: 100%|██████████| 1/1 [00:00<00:00, 67.99it/s]\n"
     ]
    },
    {
     "name": "stdout",
     "output_type": "stream",
     "text": [
      "Epoch: 20 of 30, 0.004 min\n"
     ]
    },
    {
     "name": "stderr",
     "output_type": "stream",
     "text": [
      "I'm studying hard now🧐, don't disturb!: 100%|██████████| 6/6 [00:00<00:00, 30.66it/s]\n",
      "Let's see how good I am...: 100%|██████████| 1/1 [00:00<00:00, 68.97it/s]\n"
     ]
    },
    {
     "name": "stdout",
     "output_type": "stream",
     "text": [
      "Epoch: 21 of 30, 0.004 min\n"
     ]
    },
    {
     "name": "stderr",
     "output_type": "stream",
     "text": [
      "I'm studying hard now🧐, don't disturb!: 100%|██████████| 6/6 [00:00<00:00, 30.59it/s]\n",
      "Let's see how good I am...: 100%|██████████| 1/1 [00:00<00:00, 74.63it/s]\n"
     ]
    },
    {
     "name": "stdout",
     "output_type": "stream",
     "text": [
      "Epoch: 22 of 30, 0.004 min\n"
     ]
    },
    {
     "name": "stderr",
     "output_type": "stream",
     "text": [
      "I'm studying hard now🧐, don't disturb!: 100%|██████████| 6/6 [00:00<00:00, 25.57it/s]\n",
      "Let's see how good I am...: 100%|██████████| 1/1 [00:00<00:00, 53.23it/s]\n"
     ]
    },
    {
     "name": "stdout",
     "output_type": "stream",
     "text": [
      "Epoch: 23 of 30, 0.004 min\n"
     ]
    },
    {
     "name": "stderr",
     "output_type": "stream",
     "text": [
      "I'm studying hard now🧐, don't disturb!: 100%|██████████| 6/6 [00:00<00:00, 27.88it/s]\n",
      "Let's see how good I am...: 100%|██████████| 1/1 [00:00<00:00, 67.23it/s]\n"
     ]
    },
    {
     "name": "stdout",
     "output_type": "stream",
     "text": [
      "Epoch: 24 of 30, 0.004 min\n"
     ]
    },
    {
     "name": "stderr",
     "output_type": "stream",
     "text": [
      "I'm studying hard now🧐, don't disturb!: 100%|██████████| 6/6 [00:00<00:00, 24.86it/s]\n",
      "Let's see how good I am...: 100%|██████████| 1/1 [00:00<00:00, 70.52it/s]\n"
     ]
    },
    {
     "name": "stdout",
     "output_type": "stream",
     "text": [
      "Epoch: 25 of 30, 0.006 min\n"
     ]
    },
    {
     "name": "stderr",
     "output_type": "stream",
     "text": [
      "I'm studying hard now🧐, don't disturb!: 100%|██████████| 6/6 [00:00<00:00, 29.02it/s]\n",
      "Let's see how good I am...: 100%|██████████| 1/1 [00:00<00:00, 68.51it/s]\n"
     ]
    },
    {
     "name": "stdout",
     "output_type": "stream",
     "text": [
      "Epoch: 26 of 30, 0.004 min\n"
     ]
    },
    {
     "name": "stderr",
     "output_type": "stream",
     "text": [
      "I'm studying hard now🧐, don't disturb!: 100%|██████████| 6/6 [00:00<00:00, 28.73it/s]\n",
      "Let's see how good I am...: 100%|██████████| 1/1 [00:00<00:00, 67.61it/s]\n"
     ]
    },
    {
     "name": "stdout",
     "output_type": "stream",
     "text": [
      "Epoch: 27 of 30, 0.004 min\n"
     ]
    },
    {
     "name": "stderr",
     "output_type": "stream",
     "text": [
      "I'm studying hard now🧐, don't disturb!: 100%|██████████| 6/6 [00:00<00:00, 29.53it/s]\n",
      "Let's see how good I am...: 100%|██████████| 1/1 [00:00<00:00, 65.15it/s]\n"
     ]
    },
    {
     "name": "stdout",
     "output_type": "stream",
     "text": [
      "Epoch: 28 of 30, 0.004 min\n"
     ]
    },
    {
     "name": "stderr",
     "output_type": "stream",
     "text": [
      "I'm studying hard now🧐, don't disturb!: 100%|██████████| 6/6 [00:00<00:00, 29.58it/s]\n",
      "Let's see how good I am...: 100%|██████████| 1/1 [00:00<00:00, 71.50it/s]\n"
     ]
    },
    {
     "name": "stdout",
     "output_type": "stream",
     "text": [
      "Epoch: 29 of 30, 0.004 min\n"
     ]
    },
    {
     "name": "stderr",
     "output_type": "stream",
     "text": [
      "I'm studying hard now🧐, don't disturb!: 100%|██████████| 6/6 [00:00<00:00, 27.36it/s]\n",
      "Let's see how good I am...: 100%|██████████| 1/1 [00:00<00:00, 70.61it/s]\n"
     ]
    },
    {
     "name": "stdout",
     "output_type": "stream",
     "text": [
      "Epoch: 30 of 30, 0.004 min\n",
      "!!!!!!!!!!!!!!!!!!!!!!!! 366511\n"
     ]
    },
    {
     "data": {
      "text/html": [
       "wandb version 0.15.3 is available!  To upgrade, please run:\n",
       " $ pip install wandb --upgrade"
      ],
      "text/plain": [
       "<IPython.core.display.HTML object>"
      ]
     },
     "metadata": {},
     "output_type": "display_data"
    },
    {
     "data": {
      "text/html": [
       "Tracking run with wandb version 0.13.6"
      ],
      "text/plain": [
       "<IPython.core.display.HTML object>"
      ]
     },
     "metadata": {},
     "output_type": "display_data"
    },
    {
     "data": {
      "text/html": [
       "Run data is saved locally in <code>../logs/wandb/run-20230605_110607-9uvxrtsk</code>"
      ],
      "text/plain": [
       "<IPython.core.display.HTML object>"
      ]
     },
     "metadata": {},
     "output_type": "display_data"
    },
    {
     "data": {
      "text/html": [
       "Syncing run <strong><a href=\"https://wandb.ai/dmitrii_fomin_uga/Internship_project/runs/9uvxrtsk\" target=\"_blank\">JMvae_NumLab-500_LatDim-5</a></strong> to <a href=\"https://wandb.ai/dmitrii_fomin_uga/Internship_project\" target=\"_blank\">Weights & Biases</a> (<a href=\"https://wandb.me/run\" target=\"_blank\">docs</a>)<br/>"
      ],
      "text/plain": [
       "<IPython.core.display.HTML object>"
      ]
     },
     "metadata": {},
     "output_type": "display_data"
    },
    {
     "name": "stderr",
     "output_type": "stream",
     "text": [
      "I'm studying hard now🧐, don't disturb!: 100%|██████████| 1/1 [00:00<00:00, 29.35it/s]\n",
      "Let's see how good I am...: 100%|██████████| 2/2 [00:00<00:00, 28.86it/s]\n"
     ]
    },
    {
     "name": "stdout",
     "output_type": "stream",
     "text": [
      "Epoch: 1 of 20, 0.006 min\n"
     ]
    },
    {
     "name": "stderr",
     "output_type": "stream",
     "text": [
      "I'm studying hard now🧐, don't disturb!: 100%|██████████| 1/1 [00:00<00:00, 37.93it/s]\n",
      "Let's see how good I am...: 100%|██████████| 2/2 [00:00<00:00, 31.52it/s]\n"
     ]
    },
    {
     "name": "stdout",
     "output_type": "stream",
     "text": [
      "Epoch: 2 of 20, 0.005 min\n"
     ]
    },
    {
     "name": "stderr",
     "output_type": "stream",
     "text": [
      "I'm studying hard now🧐, don't disturb!: 100%|██████████| 1/1 [00:00<00:00, 39.58it/s]\n",
      "Let's see how good I am...: 100%|██████████| 2/2 [00:00<00:00, 28.49it/s]\n"
     ]
    },
    {
     "name": "stdout",
     "output_type": "stream",
     "text": [
      "Epoch: 3 of 20, 0.005 min\n"
     ]
    },
    {
     "name": "stderr",
     "output_type": "stream",
     "text": [
      "I'm studying hard now🧐, don't disturb!: 100%|██████████| 1/1 [00:00<00:00, 38.72it/s]\n",
      "Let's see how good I am...: 100%|██████████| 2/2 [00:00<00:00, 28.10it/s]\n"
     ]
    },
    {
     "name": "stdout",
     "output_type": "stream",
     "text": [
      "Epoch: 4 of 20, 0.005 min\n"
     ]
    },
    {
     "name": "stderr",
     "output_type": "stream",
     "text": [
      "I'm studying hard now🧐, don't disturb!: 100%|██████████| 1/1 [00:00<00:00, 43.65it/s]\n",
      "Let's see how good I am...: 100%|██████████| 2/2 [00:00<00:00, 34.68it/s]\n"
     ]
    },
    {
     "name": "stdout",
     "output_type": "stream",
     "text": [
      "Epoch: 5 of 20, 0.005 min\n"
     ]
    },
    {
     "name": "stderr",
     "output_type": "stream",
     "text": [
      "I'm studying hard now🧐, don't disturb!: 100%|██████████| 1/1 [00:00<00:00, 42.75it/s]\n",
      "Let's see how good I am...: 100%|██████████| 2/2 [00:00<00:00, 34.31it/s]\n"
     ]
    },
    {
     "name": "stdout",
     "output_type": "stream",
     "text": [
      "Epoch: 6 of 20, 0.005 min\n"
     ]
    },
    {
     "name": "stderr",
     "output_type": "stream",
     "text": [
      "I'm studying hard now🧐, don't disturb!: 100%|██████████| 1/1 [00:00<00:00, 38.87it/s]\n",
      "Let's see how good I am...: 100%|██████████| 2/2 [00:00<00:00, 13.95it/s]\n"
     ]
    },
    {
     "name": "stdout",
     "output_type": "stream",
     "text": [
      "Epoch: 7 of 20, 0.007 min\n"
     ]
    },
    {
     "name": "stderr",
     "output_type": "stream",
     "text": [
      "I'm studying hard now🧐, don't disturb!: 100%|██████████| 1/1 [00:00<00:00, 42.45it/s]\n",
      "Let's see how good I am...: 100%|██████████| 2/2 [00:00<00:00, 32.94it/s]\n"
     ]
    },
    {
     "name": "stdout",
     "output_type": "stream",
     "text": [
      "Epoch: 8 of 20, 0.005 min\n"
     ]
    },
    {
     "name": "stderr",
     "output_type": "stream",
     "text": [
      "I'm studying hard now🧐, don't disturb!: 100%|██████████| 1/1 [00:00<00:00, 41.95it/s]\n",
      "Let's see how good I am...: 100%|██████████| 2/2 [00:00<00:00, 27.29it/s]\n"
     ]
    },
    {
     "name": "stdout",
     "output_type": "stream",
     "text": [
      "Epoch: 9 of 20, 0.005 min\n"
     ]
    },
    {
     "name": "stderr",
     "output_type": "stream",
     "text": [
      "I'm studying hard now🧐, don't disturb!: 100%|██████████| 1/1 [00:00<00:00, 39.44it/s]\n",
      "Let's see how good I am...: 100%|██████████| 2/2 [00:00<00:00,  9.94it/s]\n"
     ]
    },
    {
     "name": "stdout",
     "output_type": "stream",
     "text": [
      "Epoch: 10 of 20, 0.008 min\n"
     ]
    },
    {
     "name": "stderr",
     "output_type": "stream",
     "text": [
      "I'm studying hard now🧐, don't disturb!: 100%|██████████| 1/1 [00:00<00:00, 38.75it/s]\n",
      "Let's see how good I am...: 100%|██████████| 2/2 [00:00<00:00, 29.69it/s]\n"
     ]
    },
    {
     "name": "stdout",
     "output_type": "stream",
     "text": [
      "Epoch: 11 of 20, 0.005 min\n"
     ]
    },
    {
     "name": "stderr",
     "output_type": "stream",
     "text": [
      "I'm studying hard now🧐, don't disturb!: 100%|██████████| 1/1 [00:00<00:00, 37.60it/s]\n",
      "Let's see how good I am...: 100%|██████████| 2/2 [00:00<00:00, 28.45it/s]\n"
     ]
    },
    {
     "name": "stdout",
     "output_type": "stream",
     "text": [
      "Epoch: 12 of 20, 0.006 min\n"
     ]
    },
    {
     "name": "stderr",
     "output_type": "stream",
     "text": [
      "I'm studying hard now🧐, don't disturb!: 100%|██████████| 1/1 [00:00<00:00, 36.92it/s]\n",
      "Let's see how good I am...: 100%|██████████| 2/2 [00:00<00:00, 28.02it/s]\n"
     ]
    },
    {
     "name": "stdout",
     "output_type": "stream",
     "text": [
      "Epoch: 13 of 20, 0.005 min\n"
     ]
    },
    {
     "name": "stderr",
     "output_type": "stream",
     "text": [
      "I'm studying hard now🧐, don't disturb!: 100%|██████████| 1/1 [00:00<00:00, 28.75it/s]\n",
      "Let's see how good I am...: 100%|██████████| 2/2 [00:00<00:00, 26.85it/s]\n"
     ]
    },
    {
     "name": "stdout",
     "output_type": "stream",
     "text": [
      "Epoch: 14 of 20, 0.005 min\n"
     ]
    },
    {
     "name": "stderr",
     "output_type": "stream",
     "text": [
      "I'm studying hard now🧐, don't disturb!: 100%|██████████| 1/1 [00:00<00:00, 38.61it/s]\n",
      "Let's see how good I am...: 100%|██████████| 2/2 [00:00<00:00, 30.42it/s]\n"
     ]
    },
    {
     "name": "stdout",
     "output_type": "stream",
     "text": [
      "Epoch: 15 of 20, 0.005 min\n"
     ]
    },
    {
     "name": "stderr",
     "output_type": "stream",
     "text": [
      "I'm studying hard now🧐, don't disturb!: 100%|██████████| 1/1 [00:00<00:00, 42.45it/s]\n",
      "Let's see how good I am...: 100%|██████████| 2/2 [00:00<00:00, 32.31it/s]\n"
     ]
    },
    {
     "name": "stdout",
     "output_type": "stream",
     "text": [
      "Epoch: 16 of 20, 0.005 min\n"
     ]
    },
    {
     "name": "stderr",
     "output_type": "stream",
     "text": [
      "I'm studying hard now🧐, don't disturb!: 100%|██████████| 1/1 [00:00<00:00, 39.89it/s]\n",
      "Let's see how good I am...: 100%|██████████| 2/2 [00:00<00:00, 34.05it/s]\n"
     ]
    },
    {
     "name": "stdout",
     "output_type": "stream",
     "text": [
      "Epoch: 17 of 20, 0.005 min\n"
     ]
    },
    {
     "name": "stderr",
     "output_type": "stream",
     "text": [
      "I'm studying hard now🧐, don't disturb!: 100%|██████████| 1/1 [00:00<00:00, 11.44it/s]\n",
      "Let's see how good I am...: 100%|██████████| 2/2 [00:00<00:00, 29.20it/s]\n"
     ]
    },
    {
     "name": "stdout",
     "output_type": "stream",
     "text": [
      "Epoch: 18 of 20, 0.006 min\n"
     ]
    },
    {
     "name": "stderr",
     "output_type": "stream",
     "text": [
      "I'm studying hard now🧐, don't disturb!: 100%|██████████| 1/1 [00:00<00:00, 40.52it/s]\n",
      "Let's see how good I am...: 100%|██████████| 2/2 [00:00<00:00, 33.12it/s]\n"
     ]
    },
    {
     "name": "stdout",
     "output_type": "stream",
     "text": [
      "Epoch: 19 of 20, 0.005 min\n"
     ]
    },
    {
     "name": "stderr",
     "output_type": "stream",
     "text": [
      "I'm studying hard now🧐, don't disturb!: 100%|██████████| 1/1 [00:00<00:00, 41.10it/s]\n",
      "Let's see how good I am...: 100%|██████████| 2/2 [00:00<00:00, 32.39it/s]\n"
     ]
    },
    {
     "name": "stdout",
     "output_type": "stream",
     "text": [
      "Epoch: 20 of 20, 0.005 min\n"
     ]
    },
    {
     "data": {
      "text/html": [
       "Waiting for W&B process to finish... <strong style=\"color:green\">(success).</strong>"
      ],
      "text/plain": [
       "<IPython.core.display.HTML object>"
      ]
     },
     "metadata": {},
     "output_type": "display_data"
    },
    {
     "data": {
      "text/html": [
       "<style>\n",
       "    table.wandb td:nth-child(1) { padding: 0 10px; text-align: left ; width: auto;} td:nth-child(2) {text-align: left ; width: 100%}\n",
       "    .wandb-row { display: flex; flex-direction: row; flex-wrap: wrap; justify-content: flex-start; width: 100% }\n",
       "    .wandb-col { display: flex; flex-direction: column; flex-basis: 100%; flex: 1; padding: 10px; }\n",
       "    </style>\n",
       "<div class=\"wandb-row\"><div class=\"wandb-col\"><h3>Run history:</h3><br/><table class=\"wandb\"><tr><td>epoch</td><td>▁▁▂▂▂▃▃▄▄▄▅▅▅▆▆▇▇▇██</td></tr><tr><td>lr</td><td>█▇▇▆▆▅▅▅▄▄▃▃▃▃▂▂▂▁▁▁</td></tr><tr><td>test_accuracy</td><td>▁▁▅▃▄▂▅▆▅▆█▇▃▂▂▂▇▄▆▆</td></tr><tr><td>test_auc_score</td><td>▅▄█▆▆▄█▇▇▇█▆▆▃▃▁▁▁▁▂</td></tr><tr><td>test_f1_score</td><td>▂▁▅▄▄▂▆▇▅▇█▇▃▃▃▃▇▄▆▆</td></tr><tr><td>test_fpr</td><td>▁▁▁▁▁▁▁▁▁▁▁▁▁▁▁▁▁▁▁▁</td></tr><tr><td>test_loss</td><td>█▆▅▄▄▃▃▂▂▂▂▂▂▁▁▁▁▁▁▁</td></tr><tr><td>test_tpr</td><td>▁▁▁▁▁▁▁▁▁▁▁▁▁▁▁▁▁▁▁▁</td></tr><tr><td>train_accuracy</td><td>▁▄▇█████████████████</td></tr><tr><td>train_auc_score</td><td>█▂▁▁▁▁▁▁▁▁▁▁▁▁▁▁▁▁▂▂</td></tr><tr><td>train_f1_score</td><td>▁▅▇█████████████████</td></tr><tr><td>train_fpr</td><td>█▅▂▁▁▁▁▁▁▁▁▁▁▁▁▁▁▁▁▁</td></tr><tr><td>train_loss</td><td>█▆▅▄▃▃▃▂▂▂▂▁▁▁▁▁▁▁▁▁</td></tr><tr><td>train_tpr</td><td>█▃▂▁▁▁▁▁▁▁▁▁▁▁▁▁▁▁▁▁</td></tr></table><br/></div><div class=\"wandb-col\"><h3>Run summary:</h3><br/><table class=\"wandb\"><tr><td>epoch</td><td>19</td></tr><tr><td>lr</td><td>0.00358</td></tr><tr><td>test_accuracy</td><td>0.96608</td></tr><tr><td>test_auc_score</td><td>0.85135</td></tr><tr><td>test_f1_score</td><td>0.49137</td></tr><tr><td>test_fpr</td><td>0.0</td></tr><tr><td>test_loss</td><td>0.03217</td></tr><tr><td>test_tpr</td><td>0.0</td></tr><tr><td>train_accuracy</td><td>0.966</td></tr><tr><td>train_auc_score</td><td>0.32554</td></tr><tr><td>train_f1_score</td><td>0.49135</td></tr><tr><td>train_fpr</td><td>0.0</td></tr><tr><td>train_loss</td><td>0.0182</td></tr><tr><td>train_tpr</td><td>0.0</td></tr></table><br/></div></div>"
      ],
      "text/plain": [
       "<IPython.core.display.HTML object>"
      ]
     },
     "metadata": {},
     "output_type": "display_data"
    },
    {
     "data": {
      "text/html": [
       "Synced <strong style=\"color:#cdcd00\">JMvae_NumLab-500_LatDim-5</strong>: <a href=\"https://wandb.ai/dmitrii_fomin_uga/Internship_project/runs/9uvxrtsk\" target=\"_blank\">https://wandb.ai/dmitrii_fomin_uga/Internship_project/runs/9uvxrtsk</a><br/>Synced 6 W&B file(s), 0 media file(s), 20 artifact file(s) and 1 other file(s)"
      ],
      "text/plain": [
       "<IPython.core.display.HTML object>"
      ]
     },
     "metadata": {},
     "output_type": "display_data"
    },
    {
     "data": {
      "text/html": [
       "Find logs at: <code>../logs/wandb/run-20230605_110607-9uvxrtsk/logs</code>"
      ],
      "text/plain": [
       "<IPython.core.display.HTML object>"
      ]
     },
     "metadata": {},
     "output_type": "display_data"
    },
    {
     "name": "stderr",
     "output_type": "stream",
     "text": [
      "I'm studying hard now🧐, don't disturb!: 100%|██████████| 6/6 [00:00<00:00, 29.04it/s]\n",
      "Let's see how good I am...: 100%|██████████| 1/1 [00:00<00:00, 70.58it/s]\n"
     ]
    },
    {
     "name": "stdout",
     "output_type": "stream",
     "text": [
      "Epoch: 1 of 30, 0.004 min\n"
     ]
    },
    {
     "name": "stderr",
     "output_type": "stream",
     "text": [
      "I'm studying hard now🧐, don't disturb!: 100%|██████████| 6/6 [00:00<00:00, 28.08it/s]\n",
      "Let's see how good I am...: 100%|██████████| 1/1 [00:00<00:00, 70.54it/s]\n"
     ]
    },
    {
     "name": "stdout",
     "output_type": "stream",
     "text": [
      "Epoch: 2 of 30, 0.004 min\n"
     ]
    },
    {
     "name": "stderr",
     "output_type": "stream",
     "text": [
      "I'm studying hard now🧐, don't disturb!: 100%|██████████| 6/6 [00:00<00:00, 30.49it/s]\n",
      "Let's see how good I am...: 100%|██████████| 1/1 [00:00<00:00, 73.24it/s]\n"
     ]
    },
    {
     "name": "stdout",
     "output_type": "stream",
     "text": [
      "Epoch: 3 of 30, 0.004 min\n"
     ]
    },
    {
     "name": "stderr",
     "output_type": "stream",
     "text": [
      "I'm studying hard now🧐, don't disturb!: 100%|██████████| 6/6 [00:00<00:00, 29.91it/s]\n",
      "Let's see how good I am...: 100%|██████████| 1/1 [00:00<00:00, 72.94it/s]\n"
     ]
    },
    {
     "name": "stdout",
     "output_type": "stream",
     "text": [
      "Epoch: 4 of 30, 0.004 min\n"
     ]
    },
    {
     "name": "stderr",
     "output_type": "stream",
     "text": [
      "I'm studying hard now🧐, don't disturb!: 100%|██████████| 6/6 [00:00<00:00, 21.91it/s]\n",
      "Let's see how good I am...: 100%|██████████| 1/1 [00:00<00:00, 70.61it/s]\n"
     ]
    },
    {
     "name": "stdout",
     "output_type": "stream",
     "text": [
      "Epoch: 5 of 30, 0.005 min\n"
     ]
    },
    {
     "name": "stderr",
     "output_type": "stream",
     "text": [
      "I'm studying hard now🧐, don't disturb!: 100%|██████████| 6/6 [00:00<00:00, 25.42it/s]\n",
      "Let's see how good I am...: 100%|██████████| 1/1 [00:00<00:00, 67.09it/s]\n"
     ]
    },
    {
     "name": "stdout",
     "output_type": "stream",
     "text": [
      "Epoch: 6 of 30, 0.004 min\n"
     ]
    },
    {
     "name": "stderr",
     "output_type": "stream",
     "text": [
      "I'm studying hard now🧐, don't disturb!: 100%|██████████| 6/6 [00:00<00:00, 26.99it/s]\n",
      "Let's see how good I am...: 100%|██████████| 1/1 [00:00<00:00, 65.20it/s]\n"
     ]
    },
    {
     "name": "stdout",
     "output_type": "stream",
     "text": [
      "Epoch: 7 of 30, 0.004 min\n"
     ]
    },
    {
     "name": "stderr",
     "output_type": "stream",
     "text": [
      "I'm studying hard now🧐, don't disturb!: 100%|██████████| 6/6 [00:00<00:00, 27.89it/s]\n",
      "Let's see how good I am...: 100%|██████████| 1/1 [00:00<00:00, 76.59it/s]\n"
     ]
    },
    {
     "name": "stdout",
     "output_type": "stream",
     "text": [
      "Epoch: 8 of 30, 0.004 min\n"
     ]
    },
    {
     "name": "stderr",
     "output_type": "stream",
     "text": [
      "I'm studying hard now🧐, don't disturb!: 100%|██████████| 6/6 [00:00<00:00, 25.47it/s]\n",
      "Let's see how good I am...: 100%|██████████| 1/1 [00:00<00:00, 66.45it/s]\n"
     ]
    },
    {
     "name": "stdout",
     "output_type": "stream",
     "text": [
      "Epoch: 9 of 30, 0.004 min\n"
     ]
    },
    {
     "name": "stderr",
     "output_type": "stream",
     "text": [
      "I'm studying hard now🧐, don't disturb!: 100%|██████████| 6/6 [00:00<00:00, 30.42it/s]\n",
      "Let's see how good I am...: 100%|██████████| 1/1 [00:00<00:00, 73.63it/s]\n"
     ]
    },
    {
     "name": "stdout",
     "output_type": "stream",
     "text": [
      "Epoch: 10 of 30, 0.004 min\n"
     ]
    },
    {
     "name": "stderr",
     "output_type": "stream",
     "text": [
      "I'm studying hard now🧐, don't disturb!: 100%|██████████| 6/6 [00:00<00:00, 28.68it/s]\n",
      "Let's see how good I am...: 100%|██████████| 1/1 [00:00<00:00, 65.79it/s]\n"
     ]
    },
    {
     "name": "stdout",
     "output_type": "stream",
     "text": [
      "Epoch: 11 of 30, 0.004 min\n"
     ]
    },
    {
     "name": "stderr",
     "output_type": "stream",
     "text": [
      "I'm studying hard now🧐, don't disturb!: 100%|██████████| 6/6 [00:00<00:00, 29.02it/s]\n",
      "Let's see how good I am...: 100%|██████████| 1/1 [00:00<00:00, 66.45it/s]\n"
     ]
    },
    {
     "name": "stdout",
     "output_type": "stream",
     "text": [
      "Epoch: 12 of 30, 0.004 min\n"
     ]
    },
    {
     "name": "stderr",
     "output_type": "stream",
     "text": [
      "I'm studying hard now🧐, don't disturb!: 100%|██████████| 6/6 [00:00<00:00, 21.01it/s]\n",
      "Let's see how good I am...: 100%|██████████| 1/1 [00:00<00:00, 68.96it/s]\n"
     ]
    },
    {
     "name": "stdout",
     "output_type": "stream",
     "text": [
      "Epoch: 13 of 30, 0.005 min\n"
     ]
    },
    {
     "name": "stderr",
     "output_type": "stream",
     "text": [
      "I'm studying hard now🧐, don't disturb!: 100%|██████████| 6/6 [00:00<00:00, 29.60it/s]\n",
      "Let's see how good I am...: 100%|██████████| 1/1 [00:00<00:00, 60.51it/s]\n"
     ]
    },
    {
     "name": "stdout",
     "output_type": "stream",
     "text": [
      "Epoch: 14 of 30, 0.004 min\n"
     ]
    },
    {
     "name": "stderr",
     "output_type": "stream",
     "text": [
      "I'm studying hard now🧐, don't disturb!: 100%|██████████| 6/6 [00:00<00:00, 30.19it/s]\n",
      "Let's see how good I am...: 100%|██████████| 1/1 [00:00<00:00, 69.31it/s]\n"
     ]
    },
    {
     "name": "stdout",
     "output_type": "stream",
     "text": [
      "Epoch: 15 of 30, 0.004 min\n"
     ]
    },
    {
     "name": "stderr",
     "output_type": "stream",
     "text": [
      "I'm studying hard now🧐, don't disturb!: 100%|██████████| 6/6 [00:00<00:00, 29.47it/s]\n",
      "Let's see how good I am...: 100%|██████████| 1/1 [00:00<00:00, 75.63it/s]\n"
     ]
    },
    {
     "name": "stdout",
     "output_type": "stream",
     "text": [
      "Epoch: 16 of 30, 0.004 min\n"
     ]
    },
    {
     "name": "stderr",
     "output_type": "stream",
     "text": [
      "I'm studying hard now🧐, don't disturb!: 100%|██████████| 6/6 [00:00<00:00, 28.90it/s]\n",
      "Let's see how good I am...: 100%|██████████| 1/1 [00:00<00:00, 75.96it/s]\n"
     ]
    },
    {
     "name": "stdout",
     "output_type": "stream",
     "text": [
      "Epoch: 17 of 30, 0.004 min\n"
     ]
    },
    {
     "name": "stderr",
     "output_type": "stream",
     "text": [
      "I'm studying hard now🧐, don't disturb!: 100%|██████████| 6/6 [00:00<00:00, 30.32it/s]\n",
      "Let's see how good I am...: 100%|██████████| 1/1 [00:00<00:00, 73.02it/s]\n"
     ]
    },
    {
     "name": "stdout",
     "output_type": "stream",
     "text": [
      "Epoch: 18 of 30, 0.004 min\n"
     ]
    },
    {
     "name": "stderr",
     "output_type": "stream",
     "text": [
      "I'm studying hard now🧐, don't disturb!: 100%|██████████| 6/6 [00:00<00:00, 29.82it/s]\n",
      "Let's see how good I am...: 100%|██████████| 1/1 [00:00<00:00, 73.49it/s]\n"
     ]
    },
    {
     "name": "stdout",
     "output_type": "stream",
     "text": [
      "Epoch: 19 of 30, 0.004 min\n"
     ]
    },
    {
     "name": "stderr",
     "output_type": "stream",
     "text": [
      "I'm studying hard now🧐, don't disturb!: 100%|██████████| 6/6 [00:00<00:00, 30.04it/s]\n",
      "Let's see how good I am...: 100%|██████████| 1/1 [00:00<00:00, 63.80it/s]\n"
     ]
    },
    {
     "name": "stdout",
     "output_type": "stream",
     "text": [
      "Epoch: 20 of 30, 0.004 min\n"
     ]
    },
    {
     "name": "stderr",
     "output_type": "stream",
     "text": [
      "I'm studying hard now🧐, don't disturb!: 100%|██████████| 6/6 [00:00<00:00, 20.64it/s]\n",
      "Let's see how good I am...: 100%|██████████| 1/1 [00:00<00:00, 69.88it/s]\n"
     ]
    },
    {
     "name": "stdout",
     "output_type": "stream",
     "text": [
      "Epoch: 21 of 30, 0.005 min\n"
     ]
    },
    {
     "name": "stderr",
     "output_type": "stream",
     "text": [
      "I'm studying hard now🧐, don't disturb!: 100%|██████████| 6/6 [00:00<00:00, 28.92it/s]\n",
      "Let's see how good I am...: 100%|██████████| 1/1 [00:00<00:00, 65.06it/s]\n"
     ]
    },
    {
     "name": "stdout",
     "output_type": "stream",
     "text": [
      "Epoch: 22 of 30, 0.004 min\n"
     ]
    },
    {
     "name": "stderr",
     "output_type": "stream",
     "text": [
      "I'm studying hard now🧐, don't disturb!: 100%|██████████| 6/6 [00:00<00:00, 28.25it/s]\n",
      "Let's see how good I am...: 100%|██████████| 1/1 [00:00<00:00, 66.80it/s]\n"
     ]
    },
    {
     "name": "stdout",
     "output_type": "stream",
     "text": [
      "Epoch: 23 of 30, 0.004 min\n"
     ]
    },
    {
     "name": "stderr",
     "output_type": "stream",
     "text": [
      "I'm studying hard now🧐, don't disturb!: 100%|██████████| 6/6 [00:00<00:00, 30.08it/s]\n",
      "Let's see how good I am...: 100%|██████████| 1/1 [00:00<00:00, 69.97it/s]\n"
     ]
    },
    {
     "name": "stdout",
     "output_type": "stream",
     "text": [
      "Epoch: 24 of 30, 0.004 min\n"
     ]
    },
    {
     "name": "stderr",
     "output_type": "stream",
     "text": [
      "I'm studying hard now🧐, don't disturb!: 100%|██████████| 6/6 [00:00<00:00, 30.32it/s]\n",
      "Let's see how good I am...: 100%|██████████| 1/1 [00:00<00:00, 59.27it/s]\n"
     ]
    },
    {
     "name": "stdout",
     "output_type": "stream",
     "text": [
      "Epoch: 25 of 30, 0.004 min\n"
     ]
    },
    {
     "name": "stderr",
     "output_type": "stream",
     "text": [
      "I'm studying hard now🧐, don't disturb!: 100%|██████████| 6/6 [00:00<00:00, 30.97it/s]\n",
      "Let's see how good I am...: 100%|██████████| 1/1 [00:00<00:00, 70.52it/s]\n"
     ]
    },
    {
     "name": "stdout",
     "output_type": "stream",
     "text": [
      "Epoch: 26 of 30, 0.004 min\n"
     ]
    },
    {
     "name": "stderr",
     "output_type": "stream",
     "text": [
      "I'm studying hard now🧐, don't disturb!: 100%|██████████| 6/6 [00:00<00:00, 31.19it/s]\n",
      "Let's see how good I am...: 100%|██████████| 1/1 [00:00<00:00, 70.71it/s]\n"
     ]
    },
    {
     "name": "stdout",
     "output_type": "stream",
     "text": [
      "Epoch: 27 of 30, 0.004 min\n"
     ]
    },
    {
     "name": "stderr",
     "output_type": "stream",
     "text": [
      "I'm studying hard now🧐, don't disturb!: 100%|██████████| 6/6 [00:00<00:00, 31.00it/s]\n",
      "Let's see how good I am...: 100%|██████████| 1/1 [00:00<00:00, 69.18it/s]\n"
     ]
    },
    {
     "name": "stdout",
     "output_type": "stream",
     "text": [
      "Epoch: 28 of 30, 0.004 min\n"
     ]
    },
    {
     "name": "stderr",
     "output_type": "stream",
     "text": [
      "I'm studying hard now🧐, don't disturb!: 100%|██████████| 6/6 [00:00<00:00, 30.14it/s]\n",
      "Let's see how good I am...: 100%|██████████| 1/1 [00:00<00:00, 75.56it/s]\n"
     ]
    },
    {
     "name": "stdout",
     "output_type": "stream",
     "text": [
      "Epoch: 29 of 30, 0.004 min\n"
     ]
    },
    {
     "name": "stderr",
     "output_type": "stream",
     "text": [
      "I'm studying hard now🧐, don't disturb!: 100%|██████████| 6/6 [00:00<00:00, 22.32it/s]\n",
      "Let's see how good I am...: 100%|██████████| 1/1 [00:00<00:00, 69.83it/s]\n"
     ]
    },
    {
     "name": "stdout",
     "output_type": "stream",
     "text": [
      "Epoch: 30 of 30, 0.005 min\n",
      "!!!!!!!!!!!!!!!!!!!!!!!! 366511\n"
     ]
    },
    {
     "data": {
      "text/html": [
       "wandb version 0.15.3 is available!  To upgrade, please run:\n",
       " $ pip install wandb --upgrade"
      ],
      "text/plain": [
       "<IPython.core.display.HTML object>"
      ]
     },
     "metadata": {},
     "output_type": "display_data"
    },
    {
     "data": {
      "text/html": [
       "Tracking run with wandb version 0.13.6"
      ],
      "text/plain": [
       "<IPython.core.display.HTML object>"
      ]
     },
     "metadata": {},
     "output_type": "display_data"
    },
    {
     "data": {
      "text/html": [
       "Run data is saved locally in <code>../logs/wandb/run-20230605_110747-3eaaexto</code>"
      ],
      "text/plain": [
       "<IPython.core.display.HTML object>"
      ]
     },
     "metadata": {},
     "output_type": "display_data"
    },
    {
     "data": {
      "text/html": [
       "Syncing run <strong><a href=\"https://wandb.ai/dmitrii_fomin_uga/Internship_project/runs/3eaaexto\" target=\"_blank\">JMvae_NumLab-1000_LatDim-5</a></strong> to <a href=\"https://wandb.ai/dmitrii_fomin_uga/Internship_project\" target=\"_blank\">Weights & Biases</a> (<a href=\"https://wandb.me/run\" target=\"_blank\">docs</a>)<br/>"
      ],
      "text/plain": [
       "<IPython.core.display.HTML object>"
      ]
     },
     "metadata": {},
     "output_type": "display_data"
    },
    {
     "name": "stderr",
     "output_type": "stream",
     "text": [
      "I'm studying hard now🧐, don't disturb!: 100%|██████████| 1/1 [00:00<00:00, 19.43it/s]\n",
      "Let's see how good I am...: 100%|██████████| 2/2 [00:00<00:00, 27.19it/s]\n"
     ]
    },
    {
     "name": "stdout",
     "output_type": "stream",
     "text": [
      "Epoch: 1 of 20, 0.006 min\n"
     ]
    },
    {
     "name": "stderr",
     "output_type": "stream",
     "text": [
      "I'm studying hard now🧐, don't disturb!: 100%|██████████| 1/1 [00:00<00:00, 24.13it/s]\n",
      "Let's see how good I am...: 100%|██████████| 2/2 [00:00<00:00, 16.00it/s]\n"
     ]
    },
    {
     "name": "stdout",
     "output_type": "stream",
     "text": [
      "Epoch: 2 of 20, 0.006 min\n"
     ]
    },
    {
     "name": "stderr",
     "output_type": "stream",
     "text": [
      "I'm studying hard now🧐, don't disturb!: 100%|██████████| 1/1 [00:00<00:00, 24.35it/s]\n",
      "Let's see how good I am...: 100%|██████████| 2/2 [00:00<00:00, 29.44it/s]\n"
     ]
    },
    {
     "name": "stdout",
     "output_type": "stream",
     "text": [
      "Epoch: 3 of 20, 0.006 min\n"
     ]
    },
    {
     "name": "stderr",
     "output_type": "stream",
     "text": [
      "I'm studying hard now🧐, don't disturb!: 100%|██████████| 1/1 [00:00<00:00, 26.23it/s]\n",
      "Let's see how good I am...: 100%|██████████| 2/2 [00:00<00:00, 34.54it/s]\n"
     ]
    },
    {
     "name": "stdout",
     "output_type": "stream",
     "text": [
      "Epoch: 4 of 20, 0.006 min\n"
     ]
    },
    {
     "name": "stderr",
     "output_type": "stream",
     "text": [
      "I'm studying hard now🧐, don't disturb!: 100%|██████████| 1/1 [00:00<00:00, 27.51it/s]\n",
      "Let's see how good I am...: 100%|██████████| 2/2 [00:00<00:00, 30.86it/s]\n"
     ]
    },
    {
     "name": "stdout",
     "output_type": "stream",
     "text": [
      "Epoch: 5 of 20, 0.006 min\n"
     ]
    },
    {
     "name": "stderr",
     "output_type": "stream",
     "text": [
      "I'm studying hard now🧐, don't disturb!: 100%|██████████| 1/1 [00:00<00:00, 28.77it/s]\n",
      "Let's see how good I am...: 100%|██████████| 2/2 [00:00<00:00, 29.53it/s]\n"
     ]
    },
    {
     "name": "stdout",
     "output_type": "stream",
     "text": [
      "Epoch: 6 of 20, 0.005 min\n"
     ]
    },
    {
     "name": "stderr",
     "output_type": "stream",
     "text": [
      "I'm studying hard now🧐, don't disturb!: 100%|██████████| 1/1 [00:00<00:00, 27.87it/s]\n",
      "Let's see how good I am...: 100%|██████████| 2/2 [00:00<00:00, 33.84it/s]\n"
     ]
    },
    {
     "name": "stdout",
     "output_type": "stream",
     "text": [
      "Epoch: 7 of 20, 0.005 min\n"
     ]
    },
    {
     "name": "stderr",
     "output_type": "stream",
     "text": [
      "I'm studying hard now🧐, don't disturb!: 100%|██████████| 1/1 [00:00<00:00, 24.50it/s]\n",
      "Let's see how good I am...: 100%|██████████| 2/2 [00:00<00:00, 33.34it/s]\n"
     ]
    },
    {
     "name": "stdout",
     "output_type": "stream",
     "text": [
      "Epoch: 8 of 20, 0.005 min\n"
     ]
    },
    {
     "name": "stderr",
     "output_type": "stream",
     "text": [
      "I'm studying hard now🧐, don't disturb!: 100%|██████████| 1/1 [00:00<00:00,  6.17it/s]\n",
      "Let's see how good I am...: 100%|██████████| 2/2 [00:00<00:00, 29.53it/s]\n"
     ]
    },
    {
     "name": "stdout",
     "output_type": "stream",
     "text": [
      "Epoch: 9 of 20, 0.008 min\n"
     ]
    },
    {
     "name": "stderr",
     "output_type": "stream",
     "text": [
      "I'm studying hard now🧐, don't disturb!: 100%|██████████| 1/1 [00:00<00:00, 25.99it/s]\n",
      "Let's see how good I am...: 100%|██████████| 2/2 [00:00<00:00, 32.90it/s]\n"
     ]
    },
    {
     "name": "stdout",
     "output_type": "stream",
     "text": [
      "Epoch: 10 of 20, 0.006 min\n"
     ]
    },
    {
     "name": "stderr",
     "output_type": "stream",
     "text": [
      "I'm studying hard now🧐, don't disturb!: 100%|██████████| 1/1 [00:00<00:00, 26.57it/s]\n",
      "Let's see how good I am...: 100%|██████████| 2/2 [00:00<00:00, 12.96it/s]\n"
     ]
    },
    {
     "name": "stdout",
     "output_type": "stream",
     "text": [
      "Epoch: 11 of 20, 0.007 min\n"
     ]
    },
    {
     "name": "stderr",
     "output_type": "stream",
     "text": [
      "I'm studying hard now🧐, don't disturb!: 100%|██████████| 1/1 [00:00<00:00, 27.47it/s]\n",
      "Let's see how good I am...: 100%|██████████| 2/2 [00:00<00:00, 30.08it/s]\n"
     ]
    },
    {
     "name": "stdout",
     "output_type": "stream",
     "text": [
      "Epoch: 12 of 20, 0.005 min\n"
     ]
    },
    {
     "name": "stderr",
     "output_type": "stream",
     "text": [
      "I'm studying hard now🧐, don't disturb!: 100%|██████████| 1/1 [00:00<00:00, 27.77it/s]\n",
      "Let's see how good I am...: 100%|██████████| 2/2 [00:00<00:00, 33.28it/s]\n"
     ]
    },
    {
     "name": "stdout",
     "output_type": "stream",
     "text": [
      "Epoch: 13 of 20, 0.005 min\n"
     ]
    },
    {
     "name": "stderr",
     "output_type": "stream",
     "text": [
      "I'm studying hard now🧐, don't disturb!: 100%|██████████| 1/1 [00:00<00:00, 25.22it/s]\n",
      "Let's see how good I am...: 100%|██████████| 2/2 [00:00<00:00, 31.00it/s]\n"
     ]
    },
    {
     "name": "stdout",
     "output_type": "stream",
     "text": [
      "Epoch: 14 of 20, 0.005 min\n"
     ]
    },
    {
     "name": "stderr",
     "output_type": "stream",
     "text": [
      "I'm studying hard now🧐, don't disturb!: 100%|██████████| 1/1 [00:00<00:00, 24.54it/s]\n",
      "Let's see how good I am...: 100%|██████████| 2/2 [00:00<00:00, 30.55it/s]\n"
     ]
    },
    {
     "name": "stdout",
     "output_type": "stream",
     "text": [
      "Epoch: 15 of 20, 0.007 min\n"
     ]
    },
    {
     "name": "stderr",
     "output_type": "stream",
     "text": [
      "I'm studying hard now🧐, don't disturb!: 100%|██████████| 1/1 [00:00<00:00, 27.39it/s]\n",
      "Let's see how good I am...: 100%|██████████| 2/2 [00:00<00:00, 31.51it/s]\n"
     ]
    },
    {
     "name": "stdout",
     "output_type": "stream",
     "text": [
      "Epoch: 16 of 20, 0.005 min\n"
     ]
    },
    {
     "name": "stderr",
     "output_type": "stream",
     "text": [
      "I'm studying hard now🧐, don't disturb!: 100%|██████████| 1/1 [00:00<00:00, 28.31it/s]\n",
      "Let's see how good I am...: 100%|██████████| 2/2 [00:00<00:00, 33.21it/s]\n"
     ]
    },
    {
     "name": "stdout",
     "output_type": "stream",
     "text": [
      "Epoch: 17 of 20, 0.005 min\n"
     ]
    },
    {
     "name": "stderr",
     "output_type": "stream",
     "text": [
      "I'm studying hard now🧐, don't disturb!: 100%|██████████| 1/1 [00:00<00:00, 23.19it/s]\n",
      "Let's see how good I am...: 100%|██████████| 2/2 [00:00<00:00, 32.75it/s]\n"
     ]
    },
    {
     "name": "stdout",
     "output_type": "stream",
     "text": [
      "Epoch: 18 of 20, 0.007 min\n"
     ]
    },
    {
     "name": "stderr",
     "output_type": "stream",
     "text": [
      "I'm studying hard now🧐, don't disturb!: 100%|██████████| 1/1 [00:00<00:00, 27.72it/s]\n",
      "Let's see how good I am...: 100%|██████████| 2/2 [00:00<00:00, 30.81it/s]\n"
     ]
    },
    {
     "name": "stdout",
     "output_type": "stream",
     "text": [
      "Epoch: 19 of 20, 0.005 min\n"
     ]
    },
    {
     "name": "stderr",
     "output_type": "stream",
     "text": [
      "I'm studying hard now🧐, don't disturb!: 100%|██████████| 1/1 [00:00<00:00,  7.41it/s]\n",
      "Let's see how good I am...: 100%|██████████| 2/2 [00:00<00:00, 28.81it/s]\n"
     ]
    },
    {
     "name": "stdout",
     "output_type": "stream",
     "text": [
      "Epoch: 20 of 20, 0.007 min\n"
     ]
    },
    {
     "data": {
      "text/html": [
       "Waiting for W&B process to finish... <strong style=\"color:green\">(success).</strong>"
      ],
      "text/plain": [
       "<IPython.core.display.HTML object>"
      ]
     },
     "metadata": {},
     "output_type": "display_data"
    }
   ],
   "source": [
    "train_cycle(encoder_init, decoder_init, df)"
   ]
  }
 ],
 "metadata": {
  "kernelspec": {
   "display_name": "env1",
   "language": "python",
   "name": "python3"
  },
  "language_info": {
   "codemirror_mode": {
    "name": "ipython",
    "version": 3
   },
   "file_extension": ".py",
   "mimetype": "text/x-python",
   "name": "python",
   "nbconvert_exporter": "python",
   "pygments_lexer": "ipython3",
   "version": "3.9.15"
  },
  "orig_nbformat": 4
 },
 "nbformat": 4,
 "nbformat_minor": 2
}
