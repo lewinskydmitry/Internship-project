{
 "cells": [
  {
   "cell_type": "code",
   "execution_count": 1,
   "metadata": {},
   "outputs": [],
   "source": [
    "import os\n",
    "import sys\n",
    "sys.path.append(os.path.abspath(os.path.join(os.path.dirname('src'), '..')))\n",
    "\n",
    "import pandas as pd\n",
    "import numpy as np\n",
    "from sklearn.model_selection import train_test_split\n",
    "import wandb\n",
    "\n",
    "import torch\n",
    "import torch.nn as nn\n",
    "from torch.utils.data import DataLoader\n",
    "import torch.optim.lr_scheduler as lr\n",
    "\n",
    "seed_value = 42\n",
    "torch.manual_seed(seed_value)\n",
    "torch.cuda.manual_seed_all(seed_value)\n",
    "generator = torch.Generator()\n",
    "generator.manual_seed(seed_value)\n",
    "torch.backends.cudnn.deterministic = True\n",
    "\n",
    "from functools import partial\n",
    "\n",
    "from src.Trainer.Trainer import Trainer\n",
    "from src.Losses.Focal_loss import FocalLoss\n",
    "from src.Models.Model_class import Model_class\n",
    "from src.Losses.Loss_class import Loss_class\n",
    "from src.DatasetsClasses.DatasetClass import TableDatasetDF\n",
    "\n",
    "from src.Models.Autoenc_simpl import Autoencoder\n",
    "from src.Models.Classifier import Simple_classifier\n",
    "from src.Models.JoinedModel import JoinedModel\n",
    "\n",
    "from src.DatasetsClasses.EncDataset import EncoderDataset\n",
    "from src.Losses.Loss_class_encoder import Loss_class_encoder\n",
    "\n",
    "device = torch.device('cuda' if torch.cuda.is_available() else 'cpu')"
   ]
  },
  {
   "cell_type": "code",
   "execution_count": 2,
   "metadata": {},
   "outputs": [],
   "source": [
    "HIDDEN_PARAM = 128\n",
    "LATENT_REPR = 10\n",
    "\n",
    "BATCH_SIZE = 1024"
   ]
  },
  {
   "cell_type": "code",
   "execution_count": 3,
   "metadata": {},
   "outputs": [],
   "source": [
    "df = pd.read_csv('../data/df_to_enc.csv')"
   ]
  },
  {
   "cell_type": "code",
   "execution_count": 4,
   "metadata": {},
   "outputs": [],
   "source": [
    "def prepare_data_for_test(X_data, y_data, test_ratio):\n",
    "    # Prepare dataset for testing\n",
    "    X_train, X_test, y_train, y_test = train_test_split(X_data,\n",
    "                                                     y_data,\n",
    "                                                     shuffle = True,\n",
    "                                                     stratify = y_data,\n",
    "                                                     random_state = 42,\n",
    "                                                     test_size = test_ratio)\n",
    "    \n",
    "    return X_train, X_test, y_train, y_test"
   ]
  },
  {
   "cell_type": "code",
   "execution_count": 5,
   "metadata": {},
   "outputs": [],
   "source": [
    "def prepare_data_for_enc(X_data, y_data, autoenc_requared):\n",
    "\n",
    "    # Check that amount rows for enc less than length of data\n",
    "    if autoenc_requared >= len(X_data):\n",
    "        raise ValueError(\"The number of rows for autoencoder more than amount of X_train data\")\n",
    "    \n",
    "    autoenc_ratio = autoenc_requared/len(X_data)\n",
    "    \n",
    "    X_to_enc, X_to_clas,\\\n",
    "    y_to_enc, y_to_clas = train_test_split(X_data,\n",
    "                                           y_data,\n",
    "                                           shuffle = True,\n",
    "                                           stratify = y_data,\n",
    "                                           random_state = 42,\n",
    "                                           train_size = autoenc_ratio)\n",
    "    \n",
    "    X_train, X_test = train_test_split(X_to_enc,\n",
    "                                       shuffle = True,\n",
    "                                       random_state = 42,\n",
    "                                       train_size = 0.9)\n",
    "    \n",
    "    return X_train, X_test, X_to_clas, y_to_clas"
   ]
  },
  {
   "cell_type": "code",
   "execution_count": 6,
   "metadata": {},
   "outputs": [],
   "source": [
    "def prepare_data_for_classif(X_data, y_data, classif_requared):\n",
    "\n",
    "    # Prepare dataset for encoder\n",
    "    if classif_requared >= len(X_data):\n",
    "        raise ValueError(\"The number of rows for classifier more than amount of X_train data\")\n",
    "    classif_ratio = classif_requared / len(X_data)\n",
    "    \n",
    "    X_train, X_test,\\\n",
    "    y_train, y_test = train_test_split(X_data,\n",
    "                                       y_data,\n",
    "                                       shuffle = True,\n",
    "                                       stratify = y_data,\n",
    "                                       random_state = 42,\n",
    "                                       train_size = classif_ratio)\n",
    "    \n",
    "    return X_train, y_train"
   ]
  },
  {
   "cell_type": "code",
   "execution_count": 7,
   "metadata": {},
   "outputs": [],
   "source": [
    "def make_dataloader(*data, encoder_data = False):\n",
    "    \n",
    "    if len(data) > 1:\n",
    "        data_list = [data[i] for i in range(len(data))]\n",
    "        dataset = pd.concat(data_list, axis = 1)\n",
    "    else:\n",
    "        dataset = data[0]\n",
    "    if encoder_data == False:\n",
    "        dataset = TableDatasetDF(dataset)\n",
    "        dataloader = DataLoader(\n",
    "            dataset,\n",
    "            batch_size=BATCH_SIZE, \n",
    "            shuffle=True,\n",
    "            generator=generator\n",
    "        )\n",
    "    else:\n",
    "        dataset = EncoderDataset(dataset)\n",
    "        dataloader = DataLoader(\n",
    "            dataset,\n",
    "            batch_size=BATCH_SIZE, \n",
    "            shuffle=True,\n",
    "            generator=generator\n",
    "        )\n",
    "\n",
    "    return dataloader"
   ]
  },
  {
   "cell_type": "code",
   "execution_count": 8,
   "metadata": {},
   "outputs": [],
   "source": [
    "def prepare_data(X_data, y_data, test_ratio, autoenc_requared, classif_requared):\n",
    "    X_train, X_test, y_train, y_test = prepare_data_for_test(X_data, y_data, test_ratio)\n",
    "    X_encoder_train, X_encoder_test, X_to_clas, y_to_clas = prepare_data_for_enc(X_train, y_train, autoenc_requared)\n",
    "    X_train_classif, y_train_classif = prepare_data_for_classif(X_to_clas, y_to_clas, classif_requared)\n",
    "\n",
    "    test_dl = make_dataloader(X_test, y_test)\n",
    "    train_dl = make_dataloader(X_train_classif, y_train_classif)\n",
    "\n",
    "    enc_train_dl = make_dataloader(X_encoder_train,encoder_data=True)\n",
    "    enc_test_dl = make_dataloader(X_encoder_test,encoder_data=True)\n",
    "\n",
    "    return train_dl, test_dl, enc_train_dl, enc_test_dl"
   ]
  },
  {
   "cell_type": "code",
   "execution_count": 9,
   "metadata": {},
   "outputs": [],
   "source": [
    "# train_dl,\\\n",
    "# test_dl, enc_train_dl, enc_test_dl = prepare_data(df.drop(columns = ['Machine failure']),\n",
    "#                                                   df['Machine failure'], 0.2, 6000, 300)"
   ]
  },
  {
   "cell_type": "code",
   "execution_count": 10,
   "metadata": {},
   "outputs": [],
   "source": [
    "def train_cycle(df, list_amount = [50, 100, 200, 500, 1000, 1500, 1999]):\n",
    "    for labels_amount in list_amount:\n",
    "        ############################################################\n",
    "        # PREPARE DATA\n",
    "        ############################################################\n",
    "        train_dl, test_dl, enc_train_dl, enc_test_dl = prepare_data(df.drop(columns = ['Machine failure']),\n",
    "                                                                    df['Machine failure'], 0.2, 6000, labels_amount)\n",
    "\n",
    "        ############################################################\n",
    "        # TRAIN AUTOENCODER\n",
    "        ############################################################\n",
    "        # Set training settings\n",
    "        enc_test_dl.dataset.data.shape[1]\n",
    "        autoencoder = Autoencoder(enc_train_dl.dataset.data.shape[1], HIDDEN_PARAM, LATENT_REPR)\n",
    "        loss = Loss_class_encoder(nn.MSELoss())\n",
    "        model_factory = partial(Model_class)\n",
    "        optimizer_factory = partial(torch.optim.AdamW)\n",
    "        scheduler_factory = partial(lr.ExponentialLR)\n",
    "\n",
    "        model_params = dict(model=autoencoder,\n",
    "                            device=device)\n",
    "\n",
    "        optimizer_params = dict(weight_decay=1e-3, lr=1e-2)\n",
    "        scheduler_params = dict(gamma=0.95)\n",
    "\n",
    "        learning_params = dict(batch_size=BATCH_SIZE, num_epoch=10)\n",
    "\n",
    "        wandb_init_params = dict(\n",
    "            name=f'Autoencoder_simple_HidParam-{HIDDEN_PARAM}_Latent-{LATENT_REPR}',\n",
    "            project=\"Internship_project\",\n",
    "            dir = '../logs/'\n",
    "        )\n",
    "        # Start training\n",
    "        trainer = Trainer(enc_train_dl,\n",
    "                          enc_test_dl,\n",
    "                          loss,\n",
    "                          model_factory=model_factory,\n",
    "                          optimizer_factory=optimizer_factory,\n",
    "                          scheduler_factory=scheduler_factory,\n",
    "                          model_params=model_params,\n",
    "                          optimizer_params=optimizer_params,\n",
    "                          scheduler_params=scheduler_params,\n",
    "                          log=False,\n",
    "                          wandb_init_params=wandb_init_params,\n",
    "                          model_dir='../logs/nn_models/autoencoder/',\n",
    "                          saving_model=False\n",
    "                          )\n",
    "        trainer.train_model(learning_params)\n",
    "        wandb.finish()\n",
    "\n",
    "        ############################################################\n",
    "        # TRAIN CLASSIFIER\n",
    "        ############################################################\n",
    "        \n",
    "        classifier = Simple_classifier(train_dl.dataset.data.shape[1], 10)\n",
    "        jm = JoinedModel(trainer.model.model.encoder, classifier)\n",
    "\n",
    "        loss = Loss_class(FocalLoss(gamma=2))\n",
    "        model_factory = partial(Model_class)\n",
    "        optimizer_factory = partial(torch.optim.AdamW)\n",
    "        scheduler_factory = partial(lr.ExponentialLR)\n",
    "\n",
    "        model_params = dict(model=jm,\n",
    "                            device=device)\n",
    "\n",
    "        optimizer_params = dict(weight_decay=1e-3, lr=1e-2)\n",
    "        scheduler_params = dict(gamma=0.95)\n",
    "\n",
    "        learning_params = dict(batch_size=BATCH_SIZE, num_epoch=40)\n",
    "\n",
    "        wandb_init_params = dict(\n",
    "            name=f'JM_NumLab-{labels_amount}_LatDim-{LATENT_REPR}',\n",
    "            project=\"Internship_project\",\n",
    "            dir = '../logs/'\n",
    "        )\n",
    "        \n",
    "        trainer = Trainer(train_dl,\n",
    "                          test_dl,\n",
    "                          loss,\n",
    "                          model_factory=model_factory,\n",
    "                          optimizer_factory=optimizer_factory,\n",
    "                          scheduler_factory=scheduler_factory,\n",
    "                          model_params=model_params,\n",
    "                          optimizer_params=optimizer_params,\n",
    "                          scheduler_params=scheduler_params,\n",
    "                          log=True,\n",
    "                          wandb_init_params=wandb_init_params,\n",
    "                          model_dir='../logs/nn_models/joined_models/',\n",
    "                          saving_model=False\n",
    "                          )\n",
    "        \n",
    "        trainer.train_model(learning_params)\n",
    "        wandb.finish()"
   ]
  },
  {
   "cell_type": "code",
   "execution_count": 11,
   "metadata": {},
   "outputs": [
    {
     "name": "stderr",
     "output_type": "stream",
     "text": [
      "I'm studying hard now🧐, don't disturb!: 100%|██████████| 6/6 [00:00<00:00, 52.26it/s]\n",
      "Let's see how good I am...: 100%|██████████| 1/1 [00:00<00:00, 105.92it/s]\n"
     ]
    },
    {
     "name": "stdout",
     "output_type": "stream",
     "text": [
      "Epoch: 1 of 10, 0.002 min\n"
     ]
    },
    {
     "name": "stderr",
     "output_type": "stream",
     "text": [
      "I'm studying hard now🧐, don't disturb!: 100%|██████████| 6/6 [00:00<00:00, 32.08it/s]\n",
      "Let's see how good I am...: 100%|██████████| 1/1 [00:00<00:00, 104.81it/s]\n"
     ]
    },
    {
     "name": "stdout",
     "output_type": "stream",
     "text": [
      "Epoch: 2 of 10, 0.003 min\n"
     ]
    },
    {
     "name": "stderr",
     "output_type": "stream",
     "text": [
      "I'm studying hard now🧐, don't disturb!: 100%|██████████| 6/6 [00:00<00:00, 73.79it/s]\n",
      "Let's see how good I am...: 100%|██████████| 1/1 [00:00<00:00, 103.70it/s]\n"
     ]
    },
    {
     "name": "stdout",
     "output_type": "stream",
     "text": [
      "Epoch: 3 of 10, 0.002 min\n"
     ]
    },
    {
     "name": "stderr",
     "output_type": "stream",
     "text": [
      "I'm studying hard now🧐, don't disturb!: 100%|██████████| 6/6 [00:00<00:00, 66.03it/s]\n",
      "Let's see how good I am...: 100%|██████████| 1/1 [00:00<00:00, 104.58it/s]\n"
     ]
    },
    {
     "name": "stdout",
     "output_type": "stream",
     "text": [
      "Epoch: 4 of 10, 0.002 min\n"
     ]
    },
    {
     "name": "stderr",
     "output_type": "stream",
     "text": [
      "I'm studying hard now🧐, don't disturb!: 100%|██████████| 6/6 [00:00<00:00, 71.88it/s]\n",
      "Let's see how good I am...: 100%|██████████| 1/1 [00:00<00:00, 112.55it/s]\n"
     ]
    },
    {
     "name": "stdout",
     "output_type": "stream",
     "text": [
      "Epoch: 5 of 10, 0.002 min\n"
     ]
    },
    {
     "name": "stderr",
     "output_type": "stream",
     "text": [
      "I'm studying hard now🧐, don't disturb!: 100%|██████████| 6/6 [00:00<00:00, 70.05it/s]\n",
      "Let's see how good I am...: 100%|██████████| 1/1 [00:00<00:00, 102.96it/s]\n"
     ]
    },
    {
     "name": "stdout",
     "output_type": "stream",
     "text": [
      "Epoch: 6 of 10, 0.002 min\n"
     ]
    },
    {
     "name": "stderr",
     "output_type": "stream",
     "text": [
      "I'm studying hard now🧐, don't disturb!: 100%|██████████| 6/6 [00:00<00:00, 68.56it/s]\n",
      "Let's see how good I am...: 100%|██████████| 1/1 [00:00<00:00, 121.73it/s]\n"
     ]
    },
    {
     "name": "stdout",
     "output_type": "stream",
     "text": [
      "Epoch: 7 of 10, 0.002 min\n"
     ]
    },
    {
     "name": "stderr",
     "output_type": "stream",
     "text": [
      "I'm studying hard now🧐, don't disturb!: 100%|██████████| 6/6 [00:00<00:00, 71.01it/s]\n",
      "Let's see how good I am...: 100%|██████████| 1/1 [00:00<00:00, 110.19it/s]\n"
     ]
    },
    {
     "name": "stdout",
     "output_type": "stream",
     "text": [
      "Epoch: 8 of 10, 0.002 min\n"
     ]
    },
    {
     "name": "stderr",
     "output_type": "stream",
     "text": [
      "I'm studying hard now🧐, don't disturb!: 100%|██████████| 6/6 [00:00<00:00, 34.42it/s]\n",
      "Let's see how good I am...: 100%|██████████| 1/1 [00:00<00:00, 30.54it/s]\n"
     ]
    },
    {
     "name": "stdout",
     "output_type": "stream",
     "text": [
      "Epoch: 9 of 10, 0.004 min\n"
     ]
    },
    {
     "name": "stderr",
     "output_type": "stream",
     "text": [
      "I'm studying hard now🧐, don't disturb!: 100%|██████████| 6/6 [00:00<00:00, 70.18it/s]\n",
      "Let's see how good I am...: 100%|██████████| 1/1 [00:00<00:00, 115.11it/s]\n"
     ]
    },
    {
     "name": "stdout",
     "output_type": "stream",
     "text": [
      "Epoch: 10 of 10, 0.002 min\n"
     ]
    },
    {
     "name": "stderr",
     "output_type": "stream",
     "text": [
      "Failed to detect the name of this notebook, you can set it manually with the WANDB_NOTEBOOK_NAME environment variable to enable code saving.\n",
      "\u001b[34m\u001b[1mwandb\u001b[0m: Currently logged in as: \u001b[33mdmitrii_fomin\u001b[0m (\u001b[33mdmitrii_fomin_uga\u001b[0m). Use \u001b[1m`wandb login --relogin`\u001b[0m to force relogin\n"
     ]
    },
    {
     "data": {
      "text/html": [
       "wandb version 0.15.2 is available!  To upgrade, please run:\n",
       " $ pip install wandb --upgrade"
      ],
      "text/plain": [
       "<IPython.core.display.HTML object>"
      ]
     },
     "metadata": {},
     "output_type": "display_data"
    },
    {
     "data": {
      "text/html": [
       "Tracking run with wandb version 0.13.6"
      ],
      "text/plain": [
       "<IPython.core.display.HTML object>"
      ]
     },
     "metadata": {},
     "output_type": "display_data"
    },
    {
     "data": {
      "text/html": [
       "Run data is saved locally in <code>../logs/wandb/run-20230517_210000-20f5d3ou</code>"
      ],
      "text/plain": [
       "<IPython.core.display.HTML object>"
      ]
     },
     "metadata": {},
     "output_type": "display_data"
    },
    {
     "data": {
      "text/html": [
       "Syncing run <strong><a href=\"https://wandb.ai/dmitrii_fomin_uga/Internship_project/runs/20f5d3ou\" target=\"_blank\">JM_NumLab-50_LatDim-10</a></strong> to <a href=\"https://wandb.ai/dmitrii_fomin_uga/Internship_project\" target=\"_blank\">Weights & Biases</a> (<a href=\"https://wandb.me/run\" target=\"_blank\">docs</a>)<br/>"
      ],
      "text/plain": [
       "<IPython.core.display.HTML object>"
      ]
     },
     "metadata": {},
     "output_type": "display_data"
    },
    {
     "name": "stderr",
     "output_type": "stream",
     "text": [
      "I'm studying hard now🧐, don't disturb!: 100%|██████████| 1/1 [00:00<00:00, 63.05it/s]\n",
      "Let's see how good I am...: 100%|██████████| 2/2 [00:00<00:00, 26.03it/s]\n"
     ]
    },
    {
     "name": "stdout",
     "output_type": "stream",
     "text": [
      "Epoch: 1 of 40, 0.008 min\n"
     ]
    },
    {
     "name": "stderr",
     "output_type": "stream",
     "text": [
      "I'm studying hard now🧐, don't disturb!: 100%|██████████| 1/1 [00:00<00:00, 81.42it/s]\n",
      "Let's see how good I am...: 100%|██████████| 2/2 [00:00<00:00, 28.23it/s]\n"
     ]
    },
    {
     "name": "stdout",
     "output_type": "stream",
     "text": [
      "Epoch: 2 of 40, 0.006 min\n"
     ]
    },
    {
     "name": "stderr",
     "output_type": "stream",
     "text": [
      "I'm studying hard now🧐, don't disturb!: 100%|██████████| 1/1 [00:00<00:00, 111.39it/s]\n",
      "Let's see how good I am...: 100%|██████████| 2/2 [00:00<00:00, 30.18it/s]\n"
     ]
    },
    {
     "name": "stdout",
     "output_type": "stream",
     "text": [
      "Epoch: 3 of 40, 0.008 min\n"
     ]
    },
    {
     "name": "stderr",
     "output_type": "stream",
     "text": [
      "I'm studying hard now🧐, don't disturb!: 100%|██████████| 1/1 [00:00<00:00, 116.64it/s]\n",
      "Let's see how good I am...: 100%|██████████| 2/2 [00:00<00:00, 26.66it/s]\n"
     ]
    },
    {
     "name": "stdout",
     "output_type": "stream",
     "text": [
      "Epoch: 4 of 40, 0.007 min\n"
     ]
    },
    {
     "name": "stderr",
     "output_type": "stream",
     "text": [
      "I'm studying hard now🧐, don't disturb!: 100%|██████████| 1/1 [00:00<00:00, 78.33it/s]\n",
      "Let's see how good I am...: 100%|██████████| 2/2 [00:00<00:00, 32.64it/s]\n"
     ]
    },
    {
     "name": "stdout",
     "output_type": "stream",
     "text": [
      "Epoch: 5 of 40, 0.006 min\n"
     ]
    },
    {
     "name": "stderr",
     "output_type": "stream",
     "text": [
      "I'm studying hard now🧐, don't disturb!: 100%|██████████| 1/1 [00:00<00:00, 71.66it/s]\n",
      "Let's see how good I am...: 100%|██████████| 2/2 [00:00<00:00, 31.78it/s]\n"
     ]
    },
    {
     "name": "stdout",
     "output_type": "stream",
     "text": [
      "Epoch: 6 of 40, 0.007 min\n"
     ]
    },
    {
     "name": "stderr",
     "output_type": "stream",
     "text": [
      "I'm studying hard now🧐, don't disturb!: 100%|██████████| 1/1 [00:00<00:00, 93.44it/s]\n",
      "Let's see how good I am...: 100%|██████████| 2/2 [00:00<00:00, 30.94it/s]\n"
     ]
    },
    {
     "name": "stdout",
     "output_type": "stream",
     "text": [
      "Epoch: 7 of 40, 0.005 min\n"
     ]
    },
    {
     "name": "stderr",
     "output_type": "stream",
     "text": [
      "I'm studying hard now🧐, don't disturb!: 100%|██████████| 1/1 [00:00<00:00, 113.48it/s]\n",
      "Let's see how good I am...: 100%|██████████| 2/2 [00:00<00:00, 24.46it/s]\n"
     ]
    },
    {
     "name": "stdout",
     "output_type": "stream",
     "text": [
      "Epoch: 8 of 40, 0.006 min\n"
     ]
    },
    {
     "name": "stderr",
     "output_type": "stream",
     "text": [
      "I'm studying hard now🧐, don't disturb!: 100%|██████████| 1/1 [00:00<00:00, 18.24it/s]\n",
      "Let's see how good I am...: 100%|██████████| 2/2 [00:00<00:00, 31.87it/s]\n"
     ]
    },
    {
     "name": "stdout",
     "output_type": "stream",
     "text": [
      "Epoch: 9 of 40, 0.007 min\n"
     ]
    },
    {
     "name": "stderr",
     "output_type": "stream",
     "text": [
      "I'm studying hard now🧐, don't disturb!: 100%|██████████| 1/1 [00:00<00:00, 103.34it/s]\n",
      "Let's see how good I am...: 100%|██████████| 2/2 [00:00<00:00, 28.68it/s]\n"
     ]
    },
    {
     "name": "stdout",
     "output_type": "stream",
     "text": [
      "Epoch: 10 of 40, 0.006 min\n"
     ]
    },
    {
     "name": "stderr",
     "output_type": "stream",
     "text": [
      "I'm studying hard now🧐, don't disturb!: 100%|██████████| 1/1 [00:00<00:00, 101.90it/s]\n",
      "Let's see how good I am...: 100%|██████████| 2/2 [00:00<00:00, 32.68it/s]\n"
     ]
    },
    {
     "name": "stdout",
     "output_type": "stream",
     "text": [
      "Epoch: 11 of 40, 0.006 min\n"
     ]
    },
    {
     "name": "stderr",
     "output_type": "stream",
     "text": [
      "I'm studying hard now🧐, don't disturb!: 100%|██████████| 1/1 [00:00<00:00, 121.92it/s]\n",
      "Let's see how good I am...: 100%|██████████| 2/2 [00:00<00:00, 34.86it/s]\n"
     ]
    },
    {
     "name": "stdout",
     "output_type": "stream",
     "text": [
      "Epoch: 12 of 40, 0.005 min\n"
     ]
    },
    {
     "name": "stderr",
     "output_type": "stream",
     "text": [
      "I'm studying hard now🧐, don't disturb!: 100%|██████████| 1/1 [00:00<00:00, 128.98it/s]\n",
      "Let's see how good I am...: 100%|██████████| 2/2 [00:00<00:00, 35.05it/s]\n"
     ]
    },
    {
     "name": "stdout",
     "output_type": "stream",
     "text": [
      "Epoch: 13 of 40, 0.005 min\n"
     ]
    },
    {
     "name": "stderr",
     "output_type": "stream",
     "text": [
      "I'm studying hard now🧐, don't disturb!: 100%|██████████| 1/1 [00:00<00:00, 87.37it/s]\n",
      "Let's see how good I am...: 100%|██████████| 2/2 [00:00<00:00, 34.61it/s]\n"
     ]
    },
    {
     "name": "stdout",
     "output_type": "stream",
     "text": [
      "Epoch: 14 of 40, 0.005 min\n"
     ]
    },
    {
     "name": "stderr",
     "output_type": "stream",
     "text": [
      "I'm studying hard now🧐, don't disturb!: 100%|██████████| 1/1 [00:00<00:00, 102.16it/s]\n",
      "Let's see how good I am...: 100%|██████████| 2/2 [00:00<00:00, 35.83it/s]\n"
     ]
    },
    {
     "name": "stdout",
     "output_type": "stream",
     "text": [
      "Epoch: 15 of 40, 0.005 min\n"
     ]
    },
    {
     "name": "stderr",
     "output_type": "stream",
     "text": [
      "I'm studying hard now🧐, don't disturb!: 100%|██████████| 1/1 [00:00<00:00, 100.40it/s]\n",
      "Let's see how good I am...: 100%|██████████| 2/2 [00:00<00:00, 35.41it/s]\n"
     ]
    },
    {
     "name": "stdout",
     "output_type": "stream",
     "text": [
      "Epoch: 16 of 40, 0.005 min\n"
     ]
    },
    {
     "name": "stderr",
     "output_type": "stream",
     "text": [
      "I'm studying hard now🧐, don't disturb!: 100%|██████████| 1/1 [00:00<00:00, 94.59it/s]\n",
      "Let's see how good I am...: 100%|██████████| 2/2 [00:00<00:00, 35.55it/s]\n"
     ]
    },
    {
     "name": "stdout",
     "output_type": "stream",
     "text": [
      "Epoch: 17 of 40, 0.005 min\n"
     ]
    },
    {
     "name": "stderr",
     "output_type": "stream",
     "text": [
      "I'm studying hard now🧐, don't disturb!: 100%|██████████| 1/1 [00:00<00:00, 94.99it/s]\n",
      "Let's see how good I am...: 100%|██████████| 2/2 [00:00<00:00, 12.21it/s]\n"
     ]
    },
    {
     "name": "stdout",
     "output_type": "stream",
     "text": [
      "Epoch: 18 of 40, 0.007 min\n"
     ]
    },
    {
     "name": "stderr",
     "output_type": "stream",
     "text": [
      "I'm studying hard now🧐, don't disturb!: 100%|██████████| 1/1 [00:00<00:00, 104.15it/s]\n",
      "Let's see how good I am...: 100%|██████████| 2/2 [00:00<00:00, 34.87it/s]\n"
     ]
    },
    {
     "name": "stdout",
     "output_type": "stream",
     "text": [
      "Epoch: 19 of 40, 0.005 min\n"
     ]
    },
    {
     "name": "stderr",
     "output_type": "stream",
     "text": [
      "I'm studying hard now🧐, don't disturb!: 100%|██████████| 1/1 [00:00<00:00, 139.23it/s]\n",
      "Let's see how good I am...: 100%|██████████| 2/2 [00:00<00:00, 33.55it/s]\n"
     ]
    },
    {
     "name": "stdout",
     "output_type": "stream",
     "text": [
      "Epoch: 20 of 40, 0.006 min\n"
     ]
    },
    {
     "name": "stderr",
     "output_type": "stream",
     "text": [
      "I'm studying hard now🧐, don't disturb!: 100%|██████████| 1/1 [00:00<00:00, 77.80it/s]\n",
      "Let's see how good I am...: 100%|██████████| 2/2 [00:00<00:00, 21.47it/s]\n"
     ]
    },
    {
     "name": "stdout",
     "output_type": "stream",
     "text": [
      "Epoch: 21 of 40, 0.006 min\n"
     ]
    },
    {
     "name": "stderr",
     "output_type": "stream",
     "text": [
      "I'm studying hard now🧐, don't disturb!: 100%|██████████| 1/1 [00:00<00:00, 106.30it/s]\n",
      "Let's see how good I am...: 100%|██████████| 2/2 [00:00<00:00, 35.39it/s]\n"
     ]
    },
    {
     "name": "stdout",
     "output_type": "stream",
     "text": [
      "Epoch: 22 of 40, 0.005 min\n"
     ]
    },
    {
     "name": "stderr",
     "output_type": "stream",
     "text": [
      "I'm studying hard now🧐, don't disturb!: 100%|██████████| 1/1 [00:00<00:00, 96.56it/s]\n",
      "Let's see how good I am...: 100%|██████████| 2/2 [00:00<00:00, 29.95it/s]\n"
     ]
    },
    {
     "name": "stdout",
     "output_type": "stream",
     "text": [
      "Epoch: 23 of 40, 0.006 min\n"
     ]
    },
    {
     "name": "stderr",
     "output_type": "stream",
     "text": [
      "I'm studying hard now🧐, don't disturb!: 100%|██████████| 1/1 [00:00<00:00, 124.86it/s]\n",
      "Let's see how good I am...: 100%|██████████| 2/2 [00:00<00:00,  6.27it/s]\n"
     ]
    },
    {
     "name": "stdout",
     "output_type": "stream",
     "text": [
      "Epoch: 24 of 40, 0.010 min\n"
     ]
    },
    {
     "name": "stderr",
     "output_type": "stream",
     "text": [
      "I'm studying hard now🧐, don't disturb!: 100%|██████████| 1/1 [00:00<00:00, 107.04it/s]\n",
      "Let's see how good I am...: 100%|██████████| 2/2 [00:00<00:00, 35.26it/s]\n"
     ]
    },
    {
     "name": "stdout",
     "output_type": "stream",
     "text": [
      "Epoch: 25 of 40, 0.005 min\n"
     ]
    },
    {
     "name": "stderr",
     "output_type": "stream",
     "text": [
      "I'm studying hard now🧐, don't disturb!: 100%|██████████| 1/1 [00:00<00:00, 115.05it/s]\n",
      "Let's see how good I am...: 100%|██████████| 2/2 [00:00<00:00, 29.93it/s]\n"
     ]
    },
    {
     "name": "stdout",
     "output_type": "stream",
     "text": [
      "Epoch: 26 of 40, 0.005 min\n"
     ]
    },
    {
     "name": "stderr",
     "output_type": "stream",
     "text": [
      "I'm studying hard now🧐, don't disturb!: 100%|██████████| 1/1 [00:00<00:00, 103.72it/s]\n",
      "Let's see how good I am...: 100%|██████████| 2/2 [00:00<00:00, 29.70it/s]\n"
     ]
    },
    {
     "name": "stdout",
     "output_type": "stream",
     "text": [
      "Epoch: 27 of 40, 0.006 min\n"
     ]
    },
    {
     "name": "stderr",
     "output_type": "stream",
     "text": [
      "I'm studying hard now🧐, don't disturb!: 100%|██████████| 1/1 [00:00<00:00, 120.54it/s]\n",
      "Let's see how good I am...: 100%|██████████| 2/2 [00:00<00:00, 33.93it/s]\n"
     ]
    },
    {
     "name": "stdout",
     "output_type": "stream",
     "text": [
      "Epoch: 28 of 40, 0.006 min\n"
     ]
    },
    {
     "name": "stderr",
     "output_type": "stream",
     "text": [
      "I'm studying hard now🧐, don't disturb!: 100%|██████████| 1/1 [00:00<00:00, 59.34it/s]\n",
      "Let's see how good I am...: 100%|██████████| 2/2 [00:00<00:00, 18.80it/s]\n"
     ]
    },
    {
     "name": "stdout",
     "output_type": "stream",
     "text": [
      "Epoch: 29 of 40, 0.006 min\n"
     ]
    },
    {
     "name": "stderr",
     "output_type": "stream",
     "text": [
      "I'm studying hard now🧐, don't disturb!: 100%|██████████| 1/1 [00:00<00:00, 145.88it/s]\n",
      "Let's see how good I am...: 100%|██████████| 2/2 [00:00<00:00, 27.72it/s]\n"
     ]
    },
    {
     "name": "stdout",
     "output_type": "stream",
     "text": [
      "Epoch: 30 of 40, 0.006 min\n"
     ]
    },
    {
     "name": "stderr",
     "output_type": "stream",
     "text": [
      "I'm studying hard now🧐, don't disturb!: 100%|██████████| 1/1 [00:00<00:00, 21.21it/s]\n",
      "Let's see how good I am...: 100%|██████████| 2/2 [00:00<00:00, 31.73it/s]\n"
     ]
    },
    {
     "name": "stdout",
     "output_type": "stream",
     "text": [
      "Epoch: 31 of 40, 0.006 min\n"
     ]
    },
    {
     "name": "stderr",
     "output_type": "stream",
     "text": [
      "I'm studying hard now🧐, don't disturb!: 100%|██████████| 1/1 [00:00<00:00, 123.67it/s]\n",
      "Let's see how good I am...: 100%|██████████| 2/2 [00:00<00:00, 32.42it/s]\n"
     ]
    },
    {
     "name": "stdout",
     "output_type": "stream",
     "text": [
      "Epoch: 32 of 40, 0.005 min\n"
     ]
    },
    {
     "name": "stderr",
     "output_type": "stream",
     "text": [
      "I'm studying hard now🧐, don't disturb!: 100%|██████████| 1/1 [00:00<00:00, 136.68it/s]\n",
      "Let's see how good I am...: 100%|██████████| 2/2 [00:00<00:00, 32.28it/s]\n"
     ]
    },
    {
     "name": "stdout",
     "output_type": "stream",
     "text": [
      "Epoch: 33 of 40, 0.005 min\n"
     ]
    },
    {
     "name": "stderr",
     "output_type": "stream",
     "text": [
      "I'm studying hard now🧐, don't disturb!: 100%|██████████| 1/1 [00:00<00:00, 93.23it/s]\n",
      "Let's see how good I am...: 100%|██████████| 2/2 [00:00<00:00, 28.78it/s]\n"
     ]
    },
    {
     "name": "stdout",
     "output_type": "stream",
     "text": [
      "Epoch: 34 of 40, 0.005 min\n"
     ]
    },
    {
     "name": "stderr",
     "output_type": "stream",
     "text": [
      "I'm studying hard now🧐, don't disturb!: 100%|██████████| 1/1 [00:00<00:00, 132.49it/s]\n",
      "Let's see how good I am...: 100%|██████████| 2/2 [00:00<00:00, 31.60it/s]\n"
     ]
    },
    {
     "name": "stdout",
     "output_type": "stream",
     "text": [
      "Epoch: 35 of 40, 0.005 min\n"
     ]
    },
    {
     "name": "stderr",
     "output_type": "stream",
     "text": [
      "I'm studying hard now🧐, don't disturb!: 100%|██████████| 1/1 [00:00<00:00, 100.51it/s]\n",
      "Let's see how good I am...: 100%|██████████| 2/2 [00:00<00:00, 27.91it/s]\n"
     ]
    },
    {
     "name": "stdout",
     "output_type": "stream",
     "text": [
      "Epoch: 36 of 40, 0.005 min\n"
     ]
    },
    {
     "name": "stderr",
     "output_type": "stream",
     "text": [
      "I'm studying hard now🧐, don't disturb!: 100%|██████████| 1/1 [00:00<00:00, 133.94it/s]\n",
      "Let's see how good I am...: 100%|██████████| 2/2 [00:00<00:00, 24.03it/s]\n"
     ]
    },
    {
     "name": "stdout",
     "output_type": "stream",
     "text": [
      "Epoch: 37 of 40, 0.006 min\n"
     ]
    },
    {
     "name": "stderr",
     "output_type": "stream",
     "text": [
      "I'm studying hard now🧐, don't disturb!: 100%|██████████| 1/1 [00:00<00:00, 70.32it/s]\n",
      "Let's see how good I am...: 100%|██████████| 2/2 [00:00<00:00, 25.12it/s]\n"
     ]
    },
    {
     "name": "stdout",
     "output_type": "stream",
     "text": [
      "Epoch: 38 of 40, 0.008 min\n"
     ]
    },
    {
     "name": "stderr",
     "output_type": "stream",
     "text": [
      "I'm studying hard now🧐, don't disturb!: 100%|██████████| 1/1 [00:00<00:00, 126.45it/s]\n",
      "Let's see how good I am...: 100%|██████████| 2/2 [00:00<00:00, 30.49it/s]\n"
     ]
    },
    {
     "name": "stdout",
     "output_type": "stream",
     "text": [
      "Epoch: 39 of 40, 0.005 min\n"
     ]
    },
    {
     "name": "stderr",
     "output_type": "stream",
     "text": [
      "I'm studying hard now🧐, don't disturb!: 100%|██████████| 1/1 [00:00<00:00, 87.40it/s]\n",
      "Let's see how good I am...: 100%|██████████| 2/2 [00:00<00:00, 25.09it/s]\n"
     ]
    },
    {
     "name": "stdout",
     "output_type": "stream",
     "text": [
      "Epoch: 40 of 40, 0.006 min\n"
     ]
    },
    {
     "data": {
      "text/html": [
       "Waiting for W&B process to finish... <strong style=\"color:green\">(success).</strong>"
      ],
      "text/plain": [
       "<IPython.core.display.HTML object>"
      ]
     },
     "metadata": {},
     "output_type": "display_data"
    },
    {
     "data": {
      "text/html": [
       "<style>\n",
       "    table.wandb td:nth-child(1) { padding: 0 10px; text-align: left ; width: auto;} td:nth-child(2) {text-align: left ; width: 100%}\n",
       "    .wandb-row { display: flex; flex-direction: row; flex-wrap: wrap; justify-content: flex-start; width: 100% }\n",
       "    .wandb-col { display: flex; flex-direction: column; flex-basis: 100%; flex: 1; padding: 10px; }\n",
       "    </style>\n",
       "<div class=\"wandb-row\"><div class=\"wandb-col\"><h3>Run history:</h3><br/><table class=\"wandb\"><tr><td>epoch</td><td>▁▁▁▂▂▂▂▂▂▃▃▃▃▃▄▄▄▄▄▄▅▅▅▅▅▅▆▆▆▆▆▇▇▇▇▇▇███</td></tr><tr><td>lr</td><td>██▇▇▆▆▆▆▅▅▅▅▄▄▄▄▃▃▃▃▃▃▃▂▂▂▂▂▂▂▂▂▁▁▁▁▁▁▁▁</td></tr><tr><td>test_accuracy</td><td>▁▅▇█████████████████████████████████████</td></tr><tr><td>test_auc_score</td><td>▆█▆▆▆▆▇▇▆█▇█▇▇▆▆▆▇▆▅▅▅▄▅▄▆▄▁▄▅▇▅▄▄▅▄▄▄▃▃</td></tr><tr><td>test_f1_score</td><td>▂▃▅▆▇▆▇▆▇▇▇█▇▆▆▆▆▆▄▄▃▄▂▂▁▁▁▁▁▁▁▁▁▁▁▁▁▁▁▁</td></tr><tr><td>test_fpr</td><td>█▅▂▂▂▁▁▂▂▂▂▂▂▂▂▂▁▁▁▁▁▁▁▁▁▁▁▁▁▁▁▁▁▁▁▁▁▁▁▁</td></tr><tr><td>test_loss</td><td>█▆▄▃▂▂▂▂▁▁▁▁▁▁▁▁▁▁▁▁▁▁▁▁▁▁▁▁▁▁▁▁▁▁▁▂▁▂▂▂</td></tr><tr><td>test_tpr</td><td>█▇▅▆▆▅▆▆▇▇▇█▇▆▆▆▆▅▄▄▃▃▂▂▁▁▁▁▁▁▁▁▁▁▁▁▁▁▁▁</td></tr><tr><td>train_accuracy</td><td>▁▅▆▆▆▆▆▇▇███████████████████████████████</td></tr><tr><td>train_auc_score</td><td>▁▅▆▇████████████████████████████████████</td></tr><tr><td>train_f1_score</td><td>▁▁▁▁▁▁▁▆▆███████████████████████████████</td></tr><tr><td>train_fpr</td><td>█▃▁▁▁▁▁▁▁▁▁▁▁▁▁▁▁▁▁▁▁▁▁▁▁▁▁▁▁▁▁▁▁▁▁▁▁▁▁▁</td></tr><tr><td>train_loss</td><td>█▆▅▄▄▃▃▃▂▂▂▂▂▂▂▂▂▁▁▁▁▁▁▁▁▁▁▁▁▁▁▁▁▁▁▁▁▁▁▁</td></tr><tr><td>train_tpr</td><td>▁▁▁▁▁▁▁▅▅███████████████████████████████</td></tr></table><br/></div><div class=\"wandb-col\"><h3>Run summary:</h3><br/><table class=\"wandb\"><tr><td>epoch</td><td>39</td></tr><tr><td>lr</td><td>0.00129</td></tr><tr><td>test_accuracy</td><td>0.96556</td></tr><tr><td>test_auc_score</td><td>0.70809</td></tr><tr><td>test_f1_score</td><td>0.57523</td></tr><tr><td>test_fpr</td><td>0.00418</td></tr><tr><td>test_loss</td><td>0.05056</td></tr><tr><td>test_tpr</td><td>0.10357</td></tr><tr><td>train_accuracy</td><td>1.0</td></tr><tr><td>train_auc_score</td><td>1.0</td></tr><tr><td>train_f1_score</td><td>1.0</td></tr><tr><td>train_fpr</td><td>0.0</td></tr><tr><td>train_loss</td><td>0.00746</td></tr><tr><td>train_tpr</td><td>1.0</td></tr></table><br/></div></div>"
      ],
      "text/plain": [
       "<IPython.core.display.HTML object>"
      ]
     },
     "metadata": {},
     "output_type": "display_data"
    },
    {
     "data": {
      "text/html": [
       "Synced <strong style=\"color:#cdcd00\">JM_NumLab-50_LatDim-10</strong>: <a href=\"https://wandb.ai/dmitrii_fomin_uga/Internship_project/runs/20f5d3ou\" target=\"_blank\">https://wandb.ai/dmitrii_fomin_uga/Internship_project/runs/20f5d3ou</a><br/>Synced 5 W&B file(s), 0 media file(s), 40 artifact file(s) and 1 other file(s)"
      ],
      "text/plain": [
       "<IPython.core.display.HTML object>"
      ]
     },
     "metadata": {},
     "output_type": "display_data"
    },
    {
     "data": {
      "text/html": [
       "Find logs at: <code>../logs/wandb/run-20230517_210000-20f5d3ou/logs</code>"
      ],
      "text/plain": [
       "<IPython.core.display.HTML object>"
      ]
     },
     "metadata": {},
     "output_type": "display_data"
    },
    {
     "name": "stderr",
     "output_type": "stream",
     "text": [
      "I'm studying hard now🧐, don't disturb!: 100%|██████████| 6/6 [00:00<00:00, 71.54it/s]\n",
      "Let's see how good I am...: 100%|██████████| 1/1 [00:00<00:00, 100.74it/s]\n"
     ]
    },
    {
     "name": "stdout",
     "output_type": "stream",
     "text": [
      "Epoch: 1 of 10, 0.002 min\n"
     ]
    },
    {
     "name": "stderr",
     "output_type": "stream",
     "text": [
      "I'm studying hard now🧐, don't disturb!: 100%|██████████| 6/6 [00:00<00:00, 70.17it/s]\n",
      "Let's see how good I am...: 100%|██████████| 1/1 [00:00<00:00, 106.69it/s]\n"
     ]
    },
    {
     "name": "stdout",
     "output_type": "stream",
     "text": [
      "Epoch: 2 of 10, 0.002 min\n"
     ]
    },
    {
     "name": "stderr",
     "output_type": "stream",
     "text": [
      "I'm studying hard now🧐, don't disturb!: 100%|██████████| 6/6 [00:00<00:00, 31.05it/s]\n",
      "Let's see how good I am...: 100%|██████████| 1/1 [00:00<00:00, 115.62it/s]\n"
     ]
    },
    {
     "name": "stdout",
     "output_type": "stream",
     "text": [
      "Epoch: 3 of 10, 0.004 min\n"
     ]
    },
    {
     "name": "stderr",
     "output_type": "stream",
     "text": [
      "I'm studying hard now🧐, don't disturb!: 100%|██████████| 6/6 [00:00<00:00, 58.12it/s]\n",
      "Let's see how good I am...: 100%|██████████| 1/1 [00:00<00:00, 78.65it/s]\n"
     ]
    },
    {
     "name": "stdout",
     "output_type": "stream",
     "text": [
      "Epoch: 4 of 10, 0.002 min\n"
     ]
    },
    {
     "name": "stderr",
     "output_type": "stream",
     "text": [
      "I'm studying hard now🧐, don't disturb!: 100%|██████████| 6/6 [00:00<00:00, 58.06it/s]\n",
      "Let's see how good I am...: 100%|██████████| 1/1 [00:00<00:00, 79.36it/s]\n"
     ]
    },
    {
     "name": "stdout",
     "output_type": "stream",
     "text": [
      "Epoch: 5 of 10, 0.002 min\n"
     ]
    },
    {
     "name": "stderr",
     "output_type": "stream",
     "text": [
      "I'm studying hard now🧐, don't disturb!: 100%|██████████| 6/6 [00:00<00:00, 63.47it/s]\n",
      "Let's see how good I am...: 100%|██████████| 1/1 [00:00<00:00, 114.68it/s]\n"
     ]
    },
    {
     "name": "stdout",
     "output_type": "stream",
     "text": [
      "Epoch: 6 of 10, 0.002 min\n"
     ]
    },
    {
     "name": "stderr",
     "output_type": "stream",
     "text": [
      "I'm studying hard now🧐, don't disturb!: 100%|██████████| 6/6 [00:00<00:00, 63.83it/s]\n",
      "Let's see how good I am...: 100%|██████████| 1/1 [00:00<00:00, 93.98it/s]\n"
     ]
    },
    {
     "name": "stdout",
     "output_type": "stream",
     "text": [
      "Epoch: 7 of 10, 0.002 min\n"
     ]
    },
    {
     "name": "stderr",
     "output_type": "stream",
     "text": [
      "I'm studying hard now🧐, don't disturb!: 100%|██████████| 6/6 [00:00<00:00, 66.01it/s]\n",
      "Let's see how good I am...: 100%|██████████| 1/1 [00:00<00:00, 90.31it/s]\n"
     ]
    },
    {
     "name": "stdout",
     "output_type": "stream",
     "text": [
      "Epoch: 8 of 10, 0.002 min\n"
     ]
    },
    {
     "name": "stderr",
     "output_type": "stream",
     "text": [
      "I'm studying hard now🧐, don't disturb!: 100%|██████████| 6/6 [00:00<00:00, 63.42it/s]\n",
      "Let's see how good I am...: 100%|██████████| 1/1 [00:00<00:00, 112.55it/s]\n"
     ]
    },
    {
     "name": "stdout",
     "output_type": "stream",
     "text": [
      "Epoch: 9 of 10, 0.002 min\n"
     ]
    },
    {
     "name": "stderr",
     "output_type": "stream",
     "text": [
      "I'm studying hard now🧐, don't disturb!: 100%|██████████| 6/6 [00:00<00:00, 21.63it/s]\n",
      "Let's see how good I am...: 100%|██████████| 1/1 [00:00<00:00, 99.10it/s]\n"
     ]
    },
    {
     "name": "stdout",
     "output_type": "stream",
     "text": [
      "Epoch: 10 of 10, 0.005 min\n"
     ]
    },
    {
     "data": {
      "text/html": [
       "wandb version 0.15.2 is available!  To upgrade, please run:\n",
       " $ pip install wandb --upgrade"
      ],
      "text/plain": [
       "<IPython.core.display.HTML object>"
      ]
     },
     "metadata": {},
     "output_type": "display_data"
    },
    {
     "data": {
      "text/html": [
       "Tracking run with wandb version 0.13.6"
      ],
      "text/plain": [
       "<IPython.core.display.HTML object>"
      ]
     },
     "metadata": {},
     "output_type": "display_data"
    },
    {
     "data": {
      "text/html": [
       "Run data is saved locally in <code>../logs/wandb/run-20230517_210228-bnvo36h9</code>"
      ],
      "text/plain": [
       "<IPython.core.display.HTML object>"
      ]
     },
     "metadata": {},
     "output_type": "display_data"
    },
    {
     "data": {
      "text/html": [
       "Syncing run <strong><a href=\"https://wandb.ai/dmitrii_fomin_uga/Internship_project/runs/bnvo36h9\" target=\"_blank\">JM_NumLab-100_LatDim-10</a></strong> to <a href=\"https://wandb.ai/dmitrii_fomin_uga/Internship_project\" target=\"_blank\">Weights & Biases</a> (<a href=\"https://wandb.me/run\" target=\"_blank\">docs</a>)<br/>"
      ],
      "text/plain": [
       "<IPython.core.display.HTML object>"
      ]
     },
     "metadata": {},
     "output_type": "display_data"
    },
    {
     "name": "stderr",
     "output_type": "stream",
     "text": [
      "I'm studying hard now🧐, don't disturb!: 100%|██████████| 1/1 [00:00<00:00, 31.26it/s]\n",
      "Let's see how good I am...: 100%|██████████| 2/2 [00:00<00:00, 16.51it/s]\n"
     ]
    },
    {
     "name": "stdout",
     "output_type": "stream",
     "text": [
      "Epoch: 1 of 40, 0.008 min\n"
     ]
    },
    {
     "name": "stderr",
     "output_type": "stream",
     "text": [
      "I'm studying hard now🧐, don't disturb!: 100%|██████████| 1/1 [00:00<00:00, 96.83it/s]\n",
      "Let's see how good I am...: 100%|██████████| 2/2 [00:00<00:00, 31.56it/s]\n"
     ]
    },
    {
     "name": "stdout",
     "output_type": "stream",
     "text": [
      "Epoch: 2 of 40, 0.005 min\n"
     ]
    },
    {
     "name": "stderr",
     "output_type": "stream",
     "text": [
      "I'm studying hard now🧐, don't disturb!: 100%|██████████| 1/1 [00:00<00:00, 94.35it/s]\n",
      "Let's see how good I am...: 100%|██████████| 2/2 [00:00<00:00, 33.99it/s]\n"
     ]
    },
    {
     "name": "stdout",
     "output_type": "stream",
     "text": [
      "Epoch: 3 of 40, 0.005 min\n"
     ]
    },
    {
     "name": "stderr",
     "output_type": "stream",
     "text": [
      "I'm studying hard now🧐, don't disturb!: 100%|██████████| 1/1 [00:00<00:00, 95.69it/s]\n",
      "Let's see how good I am...: 100%|██████████| 2/2 [00:00<00:00, 10.61it/s]\n"
     ]
    },
    {
     "name": "stdout",
     "output_type": "stream",
     "text": [
      "Epoch: 4 of 40, 0.008 min\n"
     ]
    },
    {
     "name": "stderr",
     "output_type": "stream",
     "text": [
      "I'm studying hard now🧐, don't disturb!: 100%|██████████| 1/1 [00:00<00:00, 115.04it/s]\n",
      "Let's see how good I am...: 100%|██████████| 2/2 [00:00<00:00, 33.99it/s]\n"
     ]
    },
    {
     "name": "stdout",
     "output_type": "stream",
     "text": [
      "Epoch: 5 of 40, 0.005 min\n"
     ]
    },
    {
     "name": "stderr",
     "output_type": "stream",
     "text": [
      "I'm studying hard now🧐, don't disturb!: 100%|██████████| 1/1 [00:00<00:00, 123.05it/s]\n",
      "Let's see how good I am...: 100%|██████████| 2/2 [00:00<00:00, 34.87it/s]\n"
     ]
    },
    {
     "name": "stdout",
     "output_type": "stream",
     "text": [
      "Epoch: 6 of 40, 0.005 min\n"
     ]
    },
    {
     "name": "stderr",
     "output_type": "stream",
     "text": [
      "I'm studying hard now🧐, don't disturb!: 100%|██████████| 1/1 [00:00<00:00, 100.65it/s]\n",
      "Let's see how good I am...: 100%|██████████| 2/2 [00:00<00:00, 29.29it/s]\n"
     ]
    },
    {
     "name": "stdout",
     "output_type": "stream",
     "text": [
      "Epoch: 7 of 40, 0.006 min\n"
     ]
    },
    {
     "name": "stderr",
     "output_type": "stream",
     "text": [
      "I'm studying hard now🧐, don't disturb!: 100%|██████████| 1/1 [00:00<00:00, 89.65it/s]\n",
      "Let's see how good I am...: 100%|██████████| 2/2 [00:00<00:00, 32.04it/s]\n"
     ]
    },
    {
     "name": "stdout",
     "output_type": "stream",
     "text": [
      "Epoch: 8 of 40, 0.005 min\n"
     ]
    },
    {
     "name": "stderr",
     "output_type": "stream",
     "text": [
      "I'm studying hard now🧐, don't disturb!: 100%|██████████| 1/1 [00:00<00:00, 92.40it/s]\n",
      "Let's see how good I am...: 100%|██████████| 2/2 [00:00<00:00, 35.18it/s]\n"
     ]
    },
    {
     "name": "stdout",
     "output_type": "stream",
     "text": [
      "Epoch: 9 of 40, 0.005 min\n"
     ]
    },
    {
     "name": "stderr",
     "output_type": "stream",
     "text": [
      "I'm studying hard now🧐, don't disturb!: 100%|██████████| 1/1 [00:00<00:00, 100.11it/s]\n",
      "Let's see how good I am...: 100%|██████████| 2/2 [00:00<00:00, 31.54it/s]\n"
     ]
    },
    {
     "name": "stdout",
     "output_type": "stream",
     "text": [
      "Epoch: 10 of 40, 0.005 min\n"
     ]
    },
    {
     "name": "stderr",
     "output_type": "stream",
     "text": [
      "I'm studying hard now🧐, don't disturb!: 100%|██████████| 1/1 [00:00<00:00, 89.48it/s]\n",
      "Let's see how good I am...: 100%|██████████| 2/2 [00:00<00:00, 21.11it/s]\n"
     ]
    },
    {
     "name": "stdout",
     "output_type": "stream",
     "text": [
      "Epoch: 11 of 40, 0.008 min\n"
     ]
    },
    {
     "name": "stderr",
     "output_type": "stream",
     "text": [
      "I'm studying hard now🧐, don't disturb!: 100%|██████████| 1/1 [00:00<00:00, 107.47it/s]\n",
      "Let's see how good I am...: 100%|██████████| 2/2 [00:00<00:00, 30.81it/s]\n"
     ]
    },
    {
     "name": "stdout",
     "output_type": "stream",
     "text": [
      "Epoch: 12 of 40, 0.005 min\n"
     ]
    },
    {
     "name": "stderr",
     "output_type": "stream",
     "text": [
      "I'm studying hard now🧐, don't disturb!: 100%|██████████| 1/1 [00:00<00:00, 48.74it/s]\n",
      "Let's see how good I am...: 100%|██████████| 2/2 [00:00<00:00, 36.99it/s]\n"
     ]
    },
    {
     "name": "stdout",
     "output_type": "stream",
     "text": [
      "Epoch: 13 of 40, 0.005 min\n"
     ]
    },
    {
     "name": "stderr",
     "output_type": "stream",
     "text": [
      "I'm studying hard now🧐, don't disturb!: 100%|██████████| 1/1 [00:00<00:00, 114.97it/s]\n",
      "Let's see how good I am...: 100%|██████████| 2/2 [00:00<00:00, 30.92it/s]\n"
     ]
    },
    {
     "name": "stdout",
     "output_type": "stream",
     "text": [
      "Epoch: 14 of 40, 0.005 min\n"
     ]
    },
    {
     "name": "stderr",
     "output_type": "stream",
     "text": [
      "I'm studying hard now🧐, don't disturb!: 100%|██████████| 1/1 [00:00<00:00, 99.72it/s]\n",
      "Let's see how good I am...: 100%|██████████| 2/2 [00:00<00:00, 36.58it/s]\n"
     ]
    },
    {
     "name": "stdout",
     "output_type": "stream",
     "text": [
      "Epoch: 15 of 40, 0.006 min\n"
     ]
    },
    {
     "name": "stderr",
     "output_type": "stream",
     "text": [
      "I'm studying hard now🧐, don't disturb!: 100%|██████████| 1/1 [00:00<00:00, 104.88it/s]\n",
      "Let's see how good I am...: 100%|██████████| 2/2 [00:00<00:00, 30.51it/s]\n"
     ]
    },
    {
     "name": "stdout",
     "output_type": "stream",
     "text": [
      "Epoch: 16 of 40, 0.005 min\n"
     ]
    },
    {
     "name": "stderr",
     "output_type": "stream",
     "text": [
      "I'm studying hard now🧐, don't disturb!: 100%|██████████| 1/1 [00:00<00:00, 101.94it/s]\n",
      "Let's see how good I am...: 100%|██████████| 2/2 [00:00<00:00, 36.27it/s]\n"
     ]
    },
    {
     "name": "stdout",
     "output_type": "stream",
     "text": [
      "Epoch: 17 of 40, 0.005 min\n"
     ]
    },
    {
     "name": "stderr",
     "output_type": "stream",
     "text": [
      "I'm studying hard now🧐, don't disturb!: 100%|██████████| 1/1 [00:00<00:00, 102.28it/s]\n",
      "Let's see how good I am...: 100%|██████████| 2/2 [00:00<00:00, 12.18it/s]\n"
     ]
    },
    {
     "name": "stdout",
     "output_type": "stream",
     "text": [
      "Epoch: 18 of 40, 0.012 min\n"
     ]
    },
    {
     "name": "stderr",
     "output_type": "stream",
     "text": [
      "I'm studying hard now🧐, don't disturb!: 100%|██████████| 1/1 [00:00<00:00, 89.93it/s]\n",
      "Let's see how good I am...: 100%|██████████| 2/2 [00:00<00:00, 33.88it/s]\n"
     ]
    },
    {
     "name": "stdout",
     "output_type": "stream",
     "text": [
      "Epoch: 19 of 40, 0.005 min\n"
     ]
    },
    {
     "name": "stderr",
     "output_type": "stream",
     "text": [
      "I'm studying hard now🧐, don't disturb!: 100%|██████████| 1/1 [00:00<00:00, 89.57it/s]\n",
      "Let's see how good I am...: 100%|██████████| 2/2 [00:00<00:00, 31.68it/s]\n"
     ]
    },
    {
     "name": "stdout",
     "output_type": "stream",
     "text": [
      "Epoch: 20 of 40, 0.006 min\n"
     ]
    },
    {
     "name": "stderr",
     "output_type": "stream",
     "text": [
      "I'm studying hard now🧐, don't disturb!: 100%|██████████| 1/1 [00:00<00:00, 107.24it/s]\n",
      "Let's see how good I am...: 100%|██████████| 2/2 [00:00<00:00, 31.41it/s]\n"
     ]
    },
    {
     "name": "stdout",
     "output_type": "stream",
     "text": [
      "Epoch: 21 of 40, 0.006 min\n"
     ]
    },
    {
     "name": "stderr",
     "output_type": "stream",
     "text": [
      "I'm studying hard now🧐, don't disturb!: 100%|██████████| 1/1 [00:00<00:00, 89.02it/s]\n",
      "Let's see how good I am...: 100%|██████████| 2/2 [00:00<00:00, 33.52it/s]\n"
     ]
    },
    {
     "name": "stdout",
     "output_type": "stream",
     "text": [
      "Epoch: 22 of 40, 0.005 min\n"
     ]
    },
    {
     "name": "stderr",
     "output_type": "stream",
     "text": [
      "I'm studying hard now🧐, don't disturb!: 100%|██████████| 1/1 [00:00<00:00, 99.15it/s]\n",
      "Let's see how good I am...: 100%|██████████| 2/2 [00:00<00:00, 32.53it/s]\n"
     ]
    },
    {
     "name": "stdout",
     "output_type": "stream",
     "text": [
      "Epoch: 23 of 40, 0.006 min\n"
     ]
    },
    {
     "name": "stderr",
     "output_type": "stream",
     "text": [
      "I'm studying hard now🧐, don't disturb!: 100%|██████████| 1/1 [00:00<00:00, 100.17it/s]\n",
      "Let's see how good I am...: 100%|██████████| 2/2 [00:00<00:00, 35.72it/s]\n"
     ]
    },
    {
     "name": "stdout",
     "output_type": "stream",
     "text": [
      "Epoch: 24 of 40, 0.006 min\n"
     ]
    },
    {
     "name": "stderr",
     "output_type": "stream",
     "text": [
      "I'm studying hard now🧐, don't disturb!: 100%|██████████| 1/1 [00:00<00:00, 100.57it/s]\n",
      "Let's see how good I am...: 100%|██████████| 2/2 [00:00<00:00, 34.89it/s]\n"
     ]
    },
    {
     "name": "stdout",
     "output_type": "stream",
     "text": [
      "Epoch: 25 of 40, 0.006 min\n"
     ]
    },
    {
     "name": "stderr",
     "output_type": "stream",
     "text": [
      "I'm studying hard now🧐, don't disturb!: 100%|██████████| 1/1 [00:00<00:00, 94.38it/s]\n",
      "Let's see how good I am...: 100%|██████████| 2/2 [00:00<00:00, 22.68it/s]\n"
     ]
    },
    {
     "name": "stdout",
     "output_type": "stream",
     "text": [
      "Epoch: 26 of 40, 0.008 min\n"
     ]
    },
    {
     "name": "stderr",
     "output_type": "stream",
     "text": [
      "I'm studying hard now🧐, don't disturb!: 100%|██████████| 1/1 [00:00<00:00, 89.88it/s]\n",
      "Let's see how good I am...: 100%|██████████| 2/2 [00:00<00:00, 27.72it/s]\n"
     ]
    },
    {
     "name": "stdout",
     "output_type": "stream",
     "text": [
      "Epoch: 27 of 40, 0.005 min\n"
     ]
    },
    {
     "name": "stderr",
     "output_type": "stream",
     "text": [
      "I'm studying hard now🧐, don't disturb!: 100%|██████████| 1/1 [00:00<00:00, 108.23it/s]\n",
      "Let's see how good I am...: 100%|██████████| 2/2 [00:00<00:00, 35.42it/s]\n"
     ]
    },
    {
     "name": "stdout",
     "output_type": "stream",
     "text": [
      "Epoch: 28 of 40, 0.005 min\n"
     ]
    },
    {
     "name": "stderr",
     "output_type": "stream",
     "text": [
      "I'm studying hard now🧐, don't disturb!: 100%|██████████| 1/1 [00:00<00:00, 104.62it/s]\n",
      "Let's see how good I am...: 100%|██████████| 2/2 [00:00<00:00, 34.03it/s]\n"
     ]
    },
    {
     "name": "stdout",
     "output_type": "stream",
     "text": [
      "Epoch: 29 of 40, 0.005 min\n"
     ]
    },
    {
     "name": "stderr",
     "output_type": "stream",
     "text": [
      "I'm studying hard now🧐, don't disturb!: 100%|██████████| 1/1 [00:00<00:00, 110.72it/s]\n",
      "Let's see how good I am...: 100%|██████████| 2/2 [00:00<00:00, 11.11it/s]\n"
     ]
    },
    {
     "name": "stdout",
     "output_type": "stream",
     "text": [
      "Epoch: 30 of 40, 0.007 min\n"
     ]
    },
    {
     "name": "stderr",
     "output_type": "stream",
     "text": [
      "I'm studying hard now🧐, don't disturb!: 100%|██████████| 1/1 [00:00<00:00, 48.25it/s]\n",
      "Let's see how good I am...: 100%|██████████| 2/2 [00:00<00:00, 32.20it/s]\n"
     ]
    },
    {
     "name": "stdout",
     "output_type": "stream",
     "text": [
      "Epoch: 31 of 40, 0.006 min\n"
     ]
    },
    {
     "name": "stderr",
     "output_type": "stream",
     "text": [
      "I'm studying hard now🧐, don't disturb!: 100%|██████████| 1/1 [00:00<00:00, 94.61it/s]\n",
      "Let's see how good I am...: 100%|██████████| 2/2 [00:00<00:00, 32.21it/s]\n"
     ]
    },
    {
     "name": "stdout",
     "output_type": "stream",
     "text": [
      "Epoch: 32 of 40, 0.005 min\n"
     ]
    },
    {
     "name": "stderr",
     "output_type": "stream",
     "text": [
      "I'm studying hard now🧐, don't disturb!: 100%|██████████| 1/1 [00:00<00:00, 102.32it/s]\n",
      "Let's see how good I am...: 100%|██████████| 2/2 [00:00<00:00, 32.46it/s]\n"
     ]
    },
    {
     "name": "stdout",
     "output_type": "stream",
     "text": [
      "Epoch: 33 of 40, 0.005 min\n"
     ]
    },
    {
     "name": "stderr",
     "output_type": "stream",
     "text": [
      "I'm studying hard now🧐, don't disturb!: 100%|██████████| 1/1 [00:00<00:00, 105.59it/s]\n",
      "Let's see how good I am...: 100%|██████████| 2/2 [00:00<00:00, 36.94it/s]\n"
     ]
    },
    {
     "name": "stdout",
     "output_type": "stream",
     "text": [
      "Epoch: 34 of 40, 0.005 min\n"
     ]
    },
    {
     "name": "stderr",
     "output_type": "stream",
     "text": [
      "I'm studying hard now🧐, don't disturb!: 100%|██████████| 1/1 [00:00<00:00, 83.28it/s]\n",
      "Let's see how good I am...: 100%|██████████| 2/2 [00:00<00:00,  9.33it/s]\n"
     ]
    },
    {
     "name": "stdout",
     "output_type": "stream",
     "text": [
      "Epoch: 35 of 40, 0.017 min\n"
     ]
    },
    {
     "name": "stderr",
     "output_type": "stream",
     "text": [
      "I'm studying hard now🧐, don't disturb!: 100%|██████████| 1/1 [00:00<00:00, 66.41it/s]\n",
      "Let's see how good I am...: 100%|██████████| 2/2 [00:00<00:00, 12.97it/s]\n"
     ]
    },
    {
     "name": "stdout",
     "output_type": "stream",
     "text": [
      "Epoch: 36 of 40, 0.007 min\n"
     ]
    },
    {
     "name": "stderr",
     "output_type": "stream",
     "text": [
      "I'm studying hard now🧐, don't disturb!: 100%|██████████| 1/1 [00:00<00:00, 40.25it/s]\n",
      "Let's see how good I am...: 100%|██████████| 2/2 [00:00<00:00, 20.23it/s]\n"
     ]
    },
    {
     "name": "stdout",
     "output_type": "stream",
     "text": [
      "Epoch: 37 of 40, 0.006 min\n"
     ]
    },
    {
     "name": "stderr",
     "output_type": "stream",
     "text": [
      "I'm studying hard now🧐, don't disturb!: 100%|██████████| 1/1 [00:00<00:00, 111.14it/s]\n",
      "Let's see how good I am...: 100%|██████████| 2/2 [00:00<00:00, 30.47it/s]\n"
     ]
    },
    {
     "name": "stdout",
     "output_type": "stream",
     "text": [
      "Epoch: 38 of 40, 0.006 min\n"
     ]
    },
    {
     "name": "stderr",
     "output_type": "stream",
     "text": [
      "I'm studying hard now🧐, don't disturb!: 100%|██████████| 1/1 [00:00<00:00, 90.75it/s]\n",
      "Let's see how good I am...: 100%|██████████| 2/2 [00:00<00:00, 31.54it/s]\n"
     ]
    },
    {
     "name": "stdout",
     "output_type": "stream",
     "text": [
      "Epoch: 39 of 40, 0.006 min\n"
     ]
    },
    {
     "name": "stderr",
     "output_type": "stream",
     "text": [
      "I'm studying hard now🧐, don't disturb!: 100%|██████████| 1/1 [00:00<00:00, 109.29it/s]\n",
      "Let's see how good I am...: 100%|██████████| 2/2 [00:00<00:00, 29.39it/s]\n"
     ]
    },
    {
     "name": "stdout",
     "output_type": "stream",
     "text": [
      "Epoch: 40 of 40, 0.006 min\n"
     ]
    },
    {
     "data": {
      "text/html": [
       "Waiting for W&B process to finish... <strong style=\"color:green\">(success).</strong>"
      ],
      "text/plain": [
       "<IPython.core.display.HTML object>"
      ]
     },
     "metadata": {},
     "output_type": "display_data"
    },
    {
     "data": {
      "text/html": [
       "<style>\n",
       "    table.wandb td:nth-child(1) { padding: 0 10px; text-align: left ; width: auto;} td:nth-child(2) {text-align: left ; width: 100%}\n",
       "    .wandb-row { display: flex; flex-direction: row; flex-wrap: wrap; justify-content: flex-start; width: 100% }\n",
       "    .wandb-col { display: flex; flex-direction: column; flex-basis: 100%; flex: 1; padding: 10px; }\n",
       "    </style>\n",
       "<div class=\"wandb-row\"><div class=\"wandb-col\"><h3>Run history:</h3><br/><table class=\"wandb\"><tr><td>epoch</td><td>▁▁▁▂▂▂▂▂▂▃▃▃▃▃▄▄▄▄▄▄▅▅▅▅▅▅▆▆▆▆▆▇▇▇▇▇▇███</td></tr><tr><td>lr</td><td>██▇▇▆▆▆▆▅▅▅▅▄▄▄▄▃▃▃▃▃▃▃▂▂▂▂▂▂▂▂▂▁▁▁▁▁▁▁▁</td></tr><tr><td>test_accuracy</td><td>▁▂▃▄▅▅▆▆▆▆▇▇▇▇██████████████████████████</td></tr><tr><td>test_auc_score</td><td>▅█▇▆▆▅▅▅▄▄▄▃▄▃▃▃▂▂▂▂▂▁▁▁▁▁▁▁▁▁▁▁▂▂▂▂▂▂▂▂</td></tr><tr><td>test_f1_score</td><td>▁▂▃▄▅▅▅▅▆▆▆▆▇▇███▇▇▇▇▆▆▆▆▆▅▅▅▅▅▅▅▅▅▅▅▅▅▅</td></tr><tr><td>test_fpr</td><td>█▇▆▅▄▄▄▃▃▃▃▂▂▂▂▁▁▁▁▁▁▁▁▁▁▁▁▁▁▁▁▁▁▁▁▁▁▁▁▁</td></tr><tr><td>test_loss</td><td>█▆▅▄▄▄▃▃▃▃▃▂▂▂▂▂▂▂▂▂▂▂▁▁▁▁▁▁▁▁▁▁▁▁▁▁▁▁▁▁</td></tr><tr><td>test_tpr</td><td>██▇▆▆▆▆▆▅▅▅▅▅▅▅▅▄▃▃▂▂▁▁▁▁▁▁▁▁▁▁▁▁▁▁▁▁▁▁▁</td></tr><tr><td>train_accuracy</td><td>▁▁▁▂▄▄▅▅▆▇▇▇▇▇██████████████████████████</td></tr><tr><td>train_auc_score</td><td>▁▂▃▄▅▆▆▇▇▇▇▇▇▇▇▇▇▇▇▇▇▇▇▇▇▇▇▇████████████</td></tr><tr><td>train_f1_score</td><td>▁▁▁▂▃▄▄▄▅▅▅▆▆▇██▇▄▄▄▄▄▄▄▄▄▄▄▄▄▄▄▄▄▄▄▄▄▄▄</td></tr><tr><td>train_fpr</td><td>███▇▅▅▄▄▃▃▂▂▂▂▁▁▁▁▁▁▁▁▁▁▁▁▁▁▁▁▁▁▁▁▁▁▁▁▁▁</td></tr><tr><td>train_loss</td><td>█▆▅▅▄▄▃▃▃▂▂▂▂▂▂▂▂▂▁▁▁▁▁▁▁▁▁▁▁▁▁▁▁▁▁▁▁▁▁▁</td></tr><tr><td>train_tpr</td><td>████████████████▅▁▁▁▁▁▁▁▁▁▁▁▁▁▁▁▁▁▁▁▁▁▁▁</td></tr></table><br/></div><div class=\"wandb-col\"><h3>Run summary:</h3><br/><table class=\"wandb\"><tr><td>epoch</td><td>39</td></tr><tr><td>lr</td><td>0.00129</td></tr><tr><td>test_accuracy</td><td>0.9661</td></tr><tr><td>test_auc_score</td><td>0.66118</td></tr><tr><td>test_f1_score</td><td>0.49138</td></tr><tr><td>test_fpr</td><td>0.0</td></tr><tr><td>test_loss</td><td>0.05511</td></tr><tr><td>test_tpr</td><td>0.0</td></tr><tr><td>train_accuracy</td><td>0.97</td></tr><tr><td>train_auc_score</td><td>0.87629</td></tr><tr><td>train_f1_score</td><td>0.49239</td></tr><tr><td>train_fpr</td><td>0.0</td></tr><tr><td>train_loss</td><td>0.0385</td></tr><tr><td>train_tpr</td><td>0.0</td></tr></table><br/></div></div>"
      ],
      "text/plain": [
       "<IPython.core.display.HTML object>"
      ]
     },
     "metadata": {},
     "output_type": "display_data"
    },
    {
     "data": {
      "text/html": [
       "Synced <strong style=\"color:#cdcd00\">JM_NumLab-100_LatDim-10</strong>: <a href=\"https://wandb.ai/dmitrii_fomin_uga/Internship_project/runs/bnvo36h9\" target=\"_blank\">https://wandb.ai/dmitrii_fomin_uga/Internship_project/runs/bnvo36h9</a><br/>Synced 6 W&B file(s), 0 media file(s), 40 artifact file(s) and 1 other file(s)"
      ],
      "text/plain": [
       "<IPython.core.display.HTML object>"
      ]
     },
     "metadata": {},
     "output_type": "display_data"
    },
    {
     "data": {
      "text/html": [
       "Find logs at: <code>../logs/wandb/run-20230517_210228-bnvo36h9/logs</code>"
      ],
      "text/plain": [
       "<IPython.core.display.HTML object>"
      ]
     },
     "metadata": {},
     "output_type": "display_data"
    },
    {
     "name": "stderr",
     "output_type": "stream",
     "text": [
      "I'm studying hard now🧐, don't disturb!: 100%|██████████| 6/6 [00:00<00:00, 59.11it/s]\n",
      "Let's see how good I am...: 100%|██████████| 1/1 [00:00<00:00, 97.03it/s]\n"
     ]
    },
    {
     "name": "stdout",
     "output_type": "stream",
     "text": [
      "Epoch: 1 of 10, 0.002 min\n"
     ]
    },
    {
     "name": "stderr",
     "output_type": "stream",
     "text": [
      "I'm studying hard now🧐, don't disturb!: 100%|██████████| 6/6 [00:00<00:00, 54.70it/s]\n",
      "Let's see how good I am...: 100%|██████████| 1/1 [00:00<00:00, 66.29it/s]\n"
     ]
    },
    {
     "name": "stdout",
     "output_type": "stream",
     "text": [
      "Epoch: 2 of 10, 0.003 min\n"
     ]
    },
    {
     "name": "stderr",
     "output_type": "stream",
     "text": [
      "I'm studying hard now🧐, don't disturb!: 100%|██████████| 6/6 [00:00<00:00, 38.79it/s]\n",
      "Let's see how good I am...: 100%|██████████| 1/1 [00:00<00:00, 75.76it/s]\n"
     ]
    },
    {
     "name": "stdout",
     "output_type": "stream",
     "text": [
      "Epoch: 3 of 10, 0.003 min\n"
     ]
    },
    {
     "name": "stderr",
     "output_type": "stream",
     "text": [
      "I'm studying hard now🧐, don't disturb!: 100%|██████████| 6/6 [00:00<00:00, 55.57it/s]\n",
      "Let's see how good I am...: 100%|██████████| 1/1 [00:00<00:00, 87.92it/s]\n"
     ]
    },
    {
     "name": "stdout",
     "output_type": "stream",
     "text": [
      "Epoch: 4 of 10, 0.002 min\n"
     ]
    },
    {
     "name": "stderr",
     "output_type": "stream",
     "text": [
      "I'm studying hard now🧐, don't disturb!: 100%|██████████| 6/6 [00:00<00:00, 61.35it/s]\n",
      "Let's see how good I am...: 100%|██████████| 1/1 [00:00<00:00, 71.33it/s]\n"
     ]
    },
    {
     "name": "stdout",
     "output_type": "stream",
     "text": [
      "Epoch: 5 of 10, 0.002 min\n"
     ]
    },
    {
     "name": "stderr",
     "output_type": "stream",
     "text": [
      "I'm studying hard now🧐, don't disturb!: 100%|██████████| 6/6 [00:00<00:00, 23.85it/s]\n",
      "Let's see how good I am...: 100%|██████████| 1/1 [00:00<00:00, 87.69it/s]\n"
     ]
    },
    {
     "name": "stdout",
     "output_type": "stream",
     "text": [
      "Epoch: 6 of 10, 0.005 min\n"
     ]
    },
    {
     "name": "stderr",
     "output_type": "stream",
     "text": [
      "I'm studying hard now🧐, don't disturb!: 100%|██████████| 6/6 [00:00<00:00, 52.68it/s]\n",
      "Let's see how good I am...: 100%|██████████| 1/1 [00:00<00:00, 89.97it/s]\n"
     ]
    },
    {
     "name": "stdout",
     "output_type": "stream",
     "text": [
      "Epoch: 7 of 10, 0.002 min\n"
     ]
    },
    {
     "name": "stderr",
     "output_type": "stream",
     "text": [
      "I'm studying hard now🧐, don't disturb!: 100%|██████████| 6/6 [00:00<00:00, 63.31it/s]\n",
      "Let's see how good I am...: 100%|██████████| 1/1 [00:00<00:00, 65.62it/s]\n"
     ]
    },
    {
     "name": "stdout",
     "output_type": "stream",
     "text": [
      "Epoch: 8 of 10, 0.002 min\n"
     ]
    },
    {
     "name": "stderr",
     "output_type": "stream",
     "text": [
      "I'm studying hard now🧐, don't disturb!: 100%|██████████| 6/6 [00:00<00:00, 49.85it/s]\n",
      "Let's see how good I am...: 100%|██████████| 1/1 [00:00<00:00, 75.98it/s]\n"
     ]
    },
    {
     "name": "stdout",
     "output_type": "stream",
     "text": [
      "Epoch: 9 of 10, 0.002 min\n"
     ]
    },
    {
     "name": "stderr",
     "output_type": "stream",
     "text": [
      "I'm studying hard now🧐, don't disturb!: 100%|██████████| 6/6 [00:00<00:00, 61.92it/s]\n",
      "Let's see how good I am...: 100%|██████████| 1/1 [00:00<00:00, 90.29it/s]\n"
     ]
    },
    {
     "name": "stdout",
     "output_type": "stream",
     "text": [
      "Epoch: 10 of 10, 0.002 min\n"
     ]
    },
    {
     "data": {
      "text/html": [
       "wandb version 0.15.2 is available!  To upgrade, please run:\n",
       " $ pip install wandb --upgrade"
      ],
      "text/plain": [
       "<IPython.core.display.HTML object>"
      ]
     },
     "metadata": {},
     "output_type": "display_data"
    },
    {
     "data": {
      "text/html": [
       "Tracking run with wandb version 0.13.6"
      ],
      "text/plain": [
       "<IPython.core.display.HTML object>"
      ]
     },
     "metadata": {},
     "output_type": "display_data"
    },
    {
     "data": {
      "text/html": [
       "Run data is saved locally in <code>../logs/wandb/run-20230517_210452-1uzjwicl</code>"
      ],
      "text/plain": [
       "<IPython.core.display.HTML object>"
      ]
     },
     "metadata": {},
     "output_type": "display_data"
    },
    {
     "data": {
      "text/html": [
       "Syncing run <strong><a href=\"https://wandb.ai/dmitrii_fomin_uga/Internship_project/runs/1uzjwicl\" target=\"_blank\">JM_NumLab-200_LatDim-10</a></strong> to <a href=\"https://wandb.ai/dmitrii_fomin_uga/Internship_project\" target=\"_blank\">Weights & Biases</a> (<a href=\"https://wandb.me/run\" target=\"_blank\">docs</a>)<br/>"
      ],
      "text/plain": [
       "<IPython.core.display.HTML object>"
      ]
     },
     "metadata": {},
     "output_type": "display_data"
    },
    {
     "name": "stderr",
     "output_type": "stream",
     "text": [
      "I'm studying hard now🧐, don't disturb!: 100%|██████████| 1/1 [00:00<00:00, 55.22it/s]\n",
      "Let's see how good I am...: 100%|██████████| 2/2 [00:00<00:00, 23.84it/s]\n"
     ]
    },
    {
     "name": "stdout",
     "output_type": "stream",
     "text": [
      "Epoch: 1 of 40, 0.006 min\n"
     ]
    },
    {
     "name": "stderr",
     "output_type": "stream",
     "text": [
      "I'm studying hard now🧐, don't disturb!: 100%|██████████| 1/1 [00:00<00:00, 75.61it/s]\n",
      "Let's see how good I am...: 100%|██████████| 2/2 [00:00<00:00, 28.71it/s]\n"
     ]
    },
    {
     "name": "stdout",
     "output_type": "stream",
     "text": [
      "Epoch: 2 of 40, 0.006 min\n"
     ]
    },
    {
     "name": "stderr",
     "output_type": "stream",
     "text": [
      "I'm studying hard now🧐, don't disturb!: 100%|██████████| 1/1 [00:00<00:00, 30.53it/s]\n",
      "Let's see how good I am...: 100%|██████████| 2/2 [00:00<00:00, 29.49it/s]\n"
     ]
    },
    {
     "name": "stdout",
     "output_type": "stream",
     "text": [
      "Epoch: 3 of 40, 0.006 min\n"
     ]
    },
    {
     "name": "stderr",
     "output_type": "stream",
     "text": [
      "I'm studying hard now🧐, don't disturb!: 100%|██████████| 1/1 [00:00<00:00, 80.85it/s]\n",
      "Let's see how good I am...: 100%|██████████| 2/2 [00:00<00:00, 30.94it/s]\n"
     ]
    },
    {
     "name": "stdout",
     "output_type": "stream",
     "text": [
      "Epoch: 4 of 40, 0.006 min\n"
     ]
    },
    {
     "name": "stderr",
     "output_type": "stream",
     "text": [
      "I'm studying hard now🧐, don't disturb!: 100%|██████████| 1/1 [00:00<00:00, 83.10it/s]\n",
      "Let's see how good I am...: 100%|██████████| 2/2 [00:00<00:00, 33.22it/s]\n"
     ]
    },
    {
     "name": "stdout",
     "output_type": "stream",
     "text": [
      "Epoch: 5 of 40, 0.006 min\n"
     ]
    },
    {
     "name": "stderr",
     "output_type": "stream",
     "text": [
      "I'm studying hard now🧐, don't disturb!: 100%|██████████| 1/1 [00:00<00:00, 74.43it/s]\n",
      "Let's see how good I am...: 100%|██████████| 2/2 [00:00<00:00, 35.54it/s]\n"
     ]
    },
    {
     "name": "stdout",
     "output_type": "stream",
     "text": [
      "Epoch: 6 of 40, 0.005 min\n"
     ]
    },
    {
     "name": "stderr",
     "output_type": "stream",
     "text": [
      "I'm studying hard now🧐, don't disturb!: 100%|██████████| 1/1 [00:00<00:00, 80.34it/s]\n",
      "Let's see how good I am...: 100%|██████████| 2/2 [00:00<00:00, 26.55it/s]\n"
     ]
    },
    {
     "name": "stdout",
     "output_type": "stream",
     "text": [
      "Epoch: 7 of 40, 0.008 min\n"
     ]
    },
    {
     "name": "stderr",
     "output_type": "stream",
     "text": [
      "I'm studying hard now🧐, don't disturb!: 100%|██████████| 1/1 [00:00<00:00, 85.76it/s]\n",
      "Let's see how good I am...: 100%|██████████| 2/2 [00:00<00:00, 37.54it/s]\n"
     ]
    },
    {
     "name": "stdout",
     "output_type": "stream",
     "text": [
      "Epoch: 8 of 40, 0.005 min\n"
     ]
    },
    {
     "name": "stderr",
     "output_type": "stream",
     "text": [
      "I'm studying hard now🧐, don't disturb!: 100%|██████████| 1/1 [00:00<00:00, 77.48it/s]\n",
      "Let's see how good I am...: 100%|██████████| 2/2 [00:00<00:00, 35.91it/s]\n"
     ]
    },
    {
     "name": "stdout",
     "output_type": "stream",
     "text": [
      "Epoch: 9 of 40, 0.006 min\n"
     ]
    },
    {
     "name": "stderr",
     "output_type": "stream",
     "text": [
      "I'm studying hard now🧐, don't disturb!: 100%|██████████| 1/1 [00:00<00:00, 90.50it/s]\n",
      "Let's see how good I am...: 100%|██████████| 2/2 [00:00<00:00, 36.01it/s]\n"
     ]
    },
    {
     "name": "stdout",
     "output_type": "stream",
     "text": [
      "Epoch: 10 of 40, 0.014 min\n"
     ]
    },
    {
     "name": "stderr",
     "output_type": "stream",
     "text": [
      "I'm studying hard now🧐, don't disturb!: 100%|██████████| 1/1 [00:00<00:00, 93.13it/s]\n",
      "Let's see how good I am...: 100%|██████████| 2/2 [00:00<00:00, 32.95it/s]\n"
     ]
    },
    {
     "name": "stdout",
     "output_type": "stream",
     "text": [
      "Epoch: 11 of 40, 0.006 min\n"
     ]
    },
    {
     "name": "stderr",
     "output_type": "stream",
     "text": [
      "I'm studying hard now🧐, don't disturb!: 100%|██████████| 1/1 [00:00<00:00, 72.92it/s]\n",
      "Let's see how good I am...: 100%|██████████| 2/2 [00:00<00:00, 33.26it/s]\n"
     ]
    },
    {
     "name": "stdout",
     "output_type": "stream",
     "text": [
      "Epoch: 12 of 40, 0.006 min\n"
     ]
    },
    {
     "name": "stderr",
     "output_type": "stream",
     "text": [
      "I'm studying hard now🧐, don't disturb!: 100%|██████████| 1/1 [00:00<00:00, 70.08it/s]\n",
      "Let's see how good I am...: 100%|██████████| 2/2 [00:00<00:00, 29.58it/s]\n"
     ]
    },
    {
     "name": "stdout",
     "output_type": "stream",
     "text": [
      "Epoch: 13 of 40, 0.007 min\n"
     ]
    },
    {
     "name": "stderr",
     "output_type": "stream",
     "text": [
      "I'm studying hard now🧐, don't disturb!: 100%|██████████| 1/1 [00:00<00:00, 66.66it/s]\n",
      "Let's see how good I am...: 100%|██████████| 2/2 [00:00<00:00, 29.66it/s]\n"
     ]
    },
    {
     "name": "stdout",
     "output_type": "stream",
     "text": [
      "Epoch: 14 of 40, 0.007 min\n"
     ]
    },
    {
     "name": "stderr",
     "output_type": "stream",
     "text": [
      "I'm studying hard now🧐, don't disturb!: 100%|██████████| 1/1 [00:00<00:00, 81.46it/s]\n",
      "Let's see how good I am...: 100%|██████████| 2/2 [00:00<00:00, 31.88it/s]\n"
     ]
    },
    {
     "name": "stdout",
     "output_type": "stream",
     "text": [
      "Epoch: 15 of 40, 0.007 min\n"
     ]
    },
    {
     "name": "stderr",
     "output_type": "stream",
     "text": [
      "I'm studying hard now🧐, don't disturb!: 100%|██████████| 1/1 [00:00<00:00, 62.70it/s]\n",
      "Let's see how good I am...: 100%|██████████| 2/2 [00:00<00:00, 32.26it/s]\n"
     ]
    },
    {
     "name": "stdout",
     "output_type": "stream",
     "text": [
      "Epoch: 16 of 40, 0.006 min\n"
     ]
    },
    {
     "name": "stderr",
     "output_type": "stream",
     "text": [
      "I'm studying hard now🧐, don't disturb!: 100%|██████████| 1/1 [00:00<00:00, 77.41it/s]\n",
      "Let's see how good I am...: 100%|██████████| 2/2 [00:00<00:00, 34.56it/s]\n"
     ]
    },
    {
     "name": "stdout",
     "output_type": "stream",
     "text": [
      "Epoch: 17 of 40, 0.006 min\n"
     ]
    },
    {
     "name": "stderr",
     "output_type": "stream",
     "text": [
      "I'm studying hard now🧐, don't disturb!: 100%|██████████| 1/1 [00:00<00:00, 72.74it/s]\n",
      "Let's see how good I am...: 100%|██████████| 2/2 [00:00<00:00, 31.54it/s]\n"
     ]
    },
    {
     "name": "stdout",
     "output_type": "stream",
     "text": [
      "Epoch: 18 of 40, 0.006 min\n"
     ]
    },
    {
     "name": "stderr",
     "output_type": "stream",
     "text": [
      "I'm studying hard now🧐, don't disturb!: 100%|██████████| 1/1 [00:00<00:00, 79.48it/s]\n",
      "Let's see how good I am...: 100%|██████████| 2/2 [00:00<00:00, 31.26it/s]\n"
     ]
    },
    {
     "name": "stdout",
     "output_type": "stream",
     "text": [
      "Epoch: 19 of 40, 0.006 min\n"
     ]
    },
    {
     "name": "stderr",
     "output_type": "stream",
     "text": [
      "I'm studying hard now🧐, don't disturb!: 100%|██████████| 1/1 [00:00<00:00, 74.06it/s]\n",
      "Let's see how good I am...: 100%|██████████| 2/2 [00:00<00:00, 11.65it/s]\n"
     ]
    },
    {
     "name": "stdout",
     "output_type": "stream",
     "text": [
      "Epoch: 20 of 40, 0.008 min\n"
     ]
    },
    {
     "name": "stderr",
     "output_type": "stream",
     "text": [
      "I'm studying hard now🧐, don't disturb!: 100%|██████████| 1/1 [00:00<00:00, 86.22it/s]\n",
      "Let's see how good I am...: 100%|██████████| 2/2 [00:00<00:00, 33.23it/s]\n"
     ]
    },
    {
     "name": "stdout",
     "output_type": "stream",
     "text": [
      "Epoch: 21 of 40, 0.006 min\n"
     ]
    },
    {
     "name": "stderr",
     "output_type": "stream",
     "text": [
      "I'm studying hard now🧐, don't disturb!: 100%|██████████| 1/1 [00:00<00:00, 95.66it/s]\n",
      "Let's see how good I am...: 100%|██████████| 2/2 [00:00<00:00, 32.01it/s]\n"
     ]
    },
    {
     "name": "stdout",
     "output_type": "stream",
     "text": [
      "Epoch: 22 of 40, 0.006 min\n"
     ]
    },
    {
     "name": "stderr",
     "output_type": "stream",
     "text": [
      "I'm studying hard now🧐, don't disturb!: 100%|██████████| 1/1 [00:00<00:00, 67.54it/s]\n",
      "Let's see how good I am...: 100%|██████████| 2/2 [00:00<00:00, 33.21it/s]\n"
     ]
    },
    {
     "name": "stdout",
     "output_type": "stream",
     "text": [
      "Epoch: 23 of 40, 0.006 min\n"
     ]
    },
    {
     "name": "stderr",
     "output_type": "stream",
     "text": [
      "I'm studying hard now🧐, don't disturb!: 100%|██████████| 1/1 [00:00<00:00, 77.98it/s]\n",
      "Let's see how good I am...: 100%|██████████| 2/2 [00:00<00:00, 32.13it/s]\n"
     ]
    },
    {
     "name": "stdout",
     "output_type": "stream",
     "text": [
      "Epoch: 24 of 40, 0.005 min\n"
     ]
    },
    {
     "name": "stderr",
     "output_type": "stream",
     "text": [
      "I'm studying hard now🧐, don't disturb!: 100%|██████████| 1/1 [00:00<00:00, 82.39it/s]\n",
      "Let's see how good I am...: 100%|██████████| 2/2 [00:00<00:00, 35.03it/s]\n"
     ]
    },
    {
     "name": "stdout",
     "output_type": "stream",
     "text": [
      "Epoch: 25 of 40, 0.005 min\n"
     ]
    },
    {
     "name": "stderr",
     "output_type": "stream",
     "text": [
      "I'm studying hard now🧐, don't disturb!: 100%|██████████| 1/1 [00:00<00:00, 84.79it/s]\n",
      "Let's see how good I am...: 100%|██████████| 2/2 [00:00<00:00, 31.82it/s]\n"
     ]
    },
    {
     "name": "stdout",
     "output_type": "stream",
     "text": [
      "Epoch: 26 of 40, 0.005 min\n"
     ]
    },
    {
     "name": "stderr",
     "output_type": "stream",
     "text": [
      "I'm studying hard now🧐, don't disturb!: 100%|██████████| 1/1 [00:00<00:00, 20.45it/s]\n",
      "Let's see how good I am...: 100%|██████████| 2/2 [00:00<00:00, 35.17it/s]\n"
     ]
    },
    {
     "name": "stdout",
     "output_type": "stream",
     "text": [
      "Epoch: 27 of 40, 0.006 min\n"
     ]
    },
    {
     "name": "stderr",
     "output_type": "stream",
     "text": [
      "I'm studying hard now🧐, don't disturb!: 100%|██████████| 1/1 [00:00<00:00, 76.98it/s]\n",
      "Let's see how good I am...: 100%|██████████| 2/2 [00:00<00:00, 34.31it/s]\n"
     ]
    },
    {
     "name": "stdout",
     "output_type": "stream",
     "text": [
      "Epoch: 28 of 40, 0.006 min\n"
     ]
    },
    {
     "name": "stderr",
     "output_type": "stream",
     "text": [
      "I'm studying hard now🧐, don't disturb!: 100%|██████████| 1/1 [00:00<00:00, 83.65it/s]\n",
      "Let's see how good I am...: 100%|██████████| 2/2 [00:00<00:00, 34.83it/s]\n"
     ]
    },
    {
     "name": "stdout",
     "output_type": "stream",
     "text": [
      "Epoch: 29 of 40, 0.005 min\n"
     ]
    },
    {
     "name": "stderr",
     "output_type": "stream",
     "text": [
      "I'm studying hard now🧐, don't disturb!: 100%|██████████| 1/1 [00:00<00:00,  7.57it/s]\n",
      "Let's see how good I am...: 100%|██████████| 2/2 [00:00<00:00, 39.47it/s]\n"
     ]
    },
    {
     "name": "stdout",
     "output_type": "stream",
     "text": [
      "Epoch: 30 of 40, 0.007 min\n"
     ]
    },
    {
     "name": "stderr",
     "output_type": "stream",
     "text": [
      "I'm studying hard now🧐, don't disturb!: 100%|██████████| 1/1 [00:00<00:00, 85.70it/s]\n",
      "Let's see how good I am...: 100%|██████████| 2/2 [00:00<00:00, 36.80it/s]\n"
     ]
    },
    {
     "name": "stdout",
     "output_type": "stream",
     "text": [
      "Epoch: 31 of 40, 0.005 min\n"
     ]
    },
    {
     "name": "stderr",
     "output_type": "stream",
     "text": [
      "I'm studying hard now🧐, don't disturb!: 100%|██████████| 1/1 [00:00<00:00, 78.67it/s]\n",
      "Let's see how good I am...: 100%|██████████| 2/2 [00:00<00:00, 32.76it/s]\n"
     ]
    },
    {
     "name": "stdout",
     "output_type": "stream",
     "text": [
      "Epoch: 32 of 40, 0.006 min\n"
     ]
    },
    {
     "name": "stderr",
     "output_type": "stream",
     "text": [
      "I'm studying hard now🧐, don't disturb!: 100%|██████████| 1/1 [00:00<00:00, 82.12it/s]\n",
      "Let's see how good I am...: 100%|██████████| 2/2 [00:00<00:00, 36.50it/s]\n"
     ]
    },
    {
     "name": "stdout",
     "output_type": "stream",
     "text": [
      "Epoch: 33 of 40, 0.006 min\n"
     ]
    },
    {
     "name": "stderr",
     "output_type": "stream",
     "text": [
      "I'm studying hard now🧐, don't disturb!: 100%|██████████| 1/1 [00:00<00:00, 81.18it/s]\n",
      "Let's see how good I am...: 100%|██████████| 2/2 [00:00<00:00, 35.50it/s]\n"
     ]
    },
    {
     "name": "stdout",
     "output_type": "stream",
     "text": [
      "Epoch: 34 of 40, 0.005 min\n"
     ]
    },
    {
     "name": "stderr",
     "output_type": "stream",
     "text": [
      "I'm studying hard now🧐, don't disturb!: 100%|██████████| 1/1 [00:00<00:00, 76.63it/s]\n",
      "Let's see how good I am...: 100%|██████████| 2/2 [00:00<00:00, 35.53it/s]\n"
     ]
    },
    {
     "name": "stdout",
     "output_type": "stream",
     "text": [
      "Epoch: 35 of 40, 0.007 min\n"
     ]
    },
    {
     "name": "stderr",
     "output_type": "stream",
     "text": [
      "I'm studying hard now🧐, don't disturb!: 100%|██████████| 1/1 [00:00<00:00, 80.23it/s]\n",
      "Let's see how good I am...: 100%|██████████| 2/2 [00:00<00:00, 36.48it/s]\n"
     ]
    },
    {
     "name": "stdout",
     "output_type": "stream",
     "text": [
      "Epoch: 36 of 40, 0.006 min\n"
     ]
    },
    {
     "name": "stderr",
     "output_type": "stream",
     "text": [
      "I'm studying hard now🧐, don't disturb!: 100%|██████████| 1/1 [00:00<00:00, 79.89it/s]\n",
      "Let's see how good I am...: 100%|██████████| 2/2 [00:00<00:00, 36.68it/s]\n"
     ]
    },
    {
     "name": "stdout",
     "output_type": "stream",
     "text": [
      "Epoch: 37 of 40, 0.009 min\n"
     ]
    },
    {
     "name": "stderr",
     "output_type": "stream",
     "text": [
      "I'm studying hard now🧐, don't disturb!: 100%|██████████| 1/1 [00:00<00:00, 76.24it/s]\n",
      "Let's see how good I am...: 100%|██████████| 2/2 [00:00<00:00, 25.95it/s]\n"
     ]
    },
    {
     "name": "stdout",
     "output_type": "stream",
     "text": [
      "Epoch: 38 of 40, 0.009 min\n"
     ]
    },
    {
     "name": "stderr",
     "output_type": "stream",
     "text": [
      "I'm studying hard now🧐, don't disturb!: 100%|██████████| 1/1 [00:00<00:00, 81.40it/s]\n",
      "Let's see how good I am...: 100%|██████████| 2/2 [00:00<00:00, 29.99it/s]\n"
     ]
    },
    {
     "name": "stdout",
     "output_type": "stream",
     "text": [
      "Epoch: 39 of 40, 0.009 min\n"
     ]
    },
    {
     "name": "stderr",
     "output_type": "stream",
     "text": [
      "I'm studying hard now🧐, don't disturb!: 100%|██████████| 1/1 [00:00<00:00, 84.01it/s]\n",
      "Let's see how good I am...: 100%|██████████| 2/2 [00:00<00:00, 13.93it/s]\n"
     ]
    },
    {
     "name": "stdout",
     "output_type": "stream",
     "text": [
      "Epoch: 40 of 40, 0.008 min\n"
     ]
    },
    {
     "data": {
      "text/html": [
       "Waiting for W&B process to finish... <strong style=\"color:green\">(success).</strong>"
      ],
      "text/plain": [
       "<IPython.core.display.HTML object>"
      ]
     },
     "metadata": {},
     "output_type": "display_data"
    },
    {
     "data": {
      "text/html": [
       "<style>\n",
       "    table.wandb td:nth-child(1) { padding: 0 10px; text-align: left ; width: auto;} td:nth-child(2) {text-align: left ; width: 100%}\n",
       "    .wandb-row { display: flex; flex-direction: row; flex-wrap: wrap; justify-content: flex-start; width: 100% }\n",
       "    .wandb-col { display: flex; flex-direction: column; flex-basis: 100%; flex: 1; padding: 10px; }\n",
       "    </style>\n",
       "<div class=\"wandb-row\"><div class=\"wandb-col\"><h3>Run history:</h3><br/><table class=\"wandb\"><tr><td>epoch</td><td>▁▁▁▂▂▂▂▂▂▃▃▃▃▃▄▄▄▄▄▄▅▅▅▅▅▅▆▆▆▆▆▇▇▇▇▇▇███</td></tr><tr><td>lr</td><td>██▇▇▆▆▆▆▅▅▅▅▄▄▄▄▃▃▃▃▃▃▃▂▂▂▂▂▂▂▂▂▁▁▁▁▁▁▁▁</td></tr><tr><td>test_accuracy</td><td>▁▇██████████████████████████████████████</td></tr><tr><td>test_auc_score</td><td>▁▁▁▁▁▂▂▃▃▄▄▅▅▆▆▆▇▇▇▇████████████████████</td></tr><tr><td>test_f1_score</td><td>▁▂▂▂▂▂▂▂▂▂▂▂▂▂▂▂▂▂▂▂▂▂▂▂▂▄▄▄▅▆▇▇███▇█▇▇█</td></tr><tr><td>test_fpr</td><td>█▂▁▁▁▁▁▁▁▁▁▁▁▁▁▁▁▁▁▁▁▁▁▁▁▁▁▁▁▁▁▁▁▁▁▁▁▁▁▁</td></tr><tr><td>test_loss</td><td>█▆▅▄▄▃▃▃▃▂▂▂▂▂▂▂▁▁▁▁▁▁▁▁▁▁▁▁▁▁▁▁▁▁▁▁▁▁▁▁</td></tr><tr><td>test_tpr</td><td>▁▁▁▁▁▁▁▁▁▁▁▁▁▁▁▁▁▁▁▁▁▁▁▁▁▂▃▃▄▅▇▆▇▇▇▇█▇▇▇</td></tr><tr><td>train_accuracy</td><td>▁▄▆▇████████████████████████████████████</td></tr><tr><td>train_auc_score</td><td>▂▁▁▁▂▃▄▅▅▅▆▆▆▇▇▇▇▇▇▇▇▇▇█████████████████</td></tr><tr><td>train_f1_score</td><td>▁▂▃▃▃▃▃▃▃▃▃▃▅▅▅▅▅▅▅▅▅▅▅▅▅▅▇▇▇▇▇▇▇▇▇█████</td></tr><tr><td>train_fpr</td><td>█▅▃▁▁▁▁▁▁▁▁▁▁▁▁▁▁▁▁▁▁▁▁▁▁▁▁▁▁▁▁▁▁▁▁▁▁▁▁▁</td></tr><tr><td>train_loss</td><td>█▆▅▄▃▃▃▂▂▂▂▂▂▂▂▂▁▁▁▁▁▁▁▁▁▁▁▁▁▁▁▁▁▁▁▁▁▁▁▁</td></tr><tr><td>train_tpr</td><td>█▃▃▁▁▁▁▁▁▁▁▁▃▃▃▃▃▃▃▃▃▃▃▃▃▃▆▆▆▆▆▆▆▆▆█████</td></tr></table><br/></div><div class=\"wandb-col\"><h3>Run summary:</h3><br/><table class=\"wandb\"><tr><td>epoch</td><td>39</td></tr><tr><td>lr</td><td>0.00129</td></tr><tr><td>test_accuracy</td><td>0.96861</td></tr><tr><td>test_auc_score</td><td>0.66744</td></tr><tr><td>test_f1_score</td><td>0.59632</td></tr><tr><td>test_fpr</td><td>0.00152</td></tr><tr><td>test_loss</td><td>0.04636</td></tr><tr><td>test_tpr</td><td>0.12119</td></tr><tr><td>train_accuracy</td><td>0.98</td></tr><tr><td>train_auc_score</td><td>0.97705</td></tr><tr><td>train_f1_score</td><td>0.79487</td></tr><tr><td>train_fpr</td><td>0.0</td></tr><tr><td>train_loss</td><td>0.02219</td></tr><tr><td>train_tpr</td><td>0.42857</td></tr></table><br/></div></div>"
      ],
      "text/plain": [
       "<IPython.core.display.HTML object>"
      ]
     },
     "metadata": {},
     "output_type": "display_data"
    },
    {
     "data": {
      "text/html": [
       "Synced <strong style=\"color:#cdcd00\">JM_NumLab-200_LatDim-10</strong>: <a href=\"https://wandb.ai/dmitrii_fomin_uga/Internship_project/runs/1uzjwicl\" target=\"_blank\">https://wandb.ai/dmitrii_fomin_uga/Internship_project/runs/1uzjwicl</a><br/>Synced 6 W&B file(s), 0 media file(s), 40 artifact file(s) and 1 other file(s)"
      ],
      "text/plain": [
       "<IPython.core.display.HTML object>"
      ]
     },
     "metadata": {},
     "output_type": "display_data"
    },
    {
     "data": {
      "text/html": [
       "Find logs at: <code>../logs/wandb/run-20230517_210452-1uzjwicl/logs</code>"
      ],
      "text/plain": [
       "<IPython.core.display.HTML object>"
      ]
     },
     "metadata": {},
     "output_type": "display_data"
    },
    {
     "name": "stderr",
     "output_type": "stream",
     "text": [
      "I'm studying hard now🧐, don't disturb!: 100%|██████████| 6/6 [00:00<00:00, 50.11it/s]\n",
      "Let's see how good I am...: 100%|██████████| 1/1 [00:00<00:00, 79.14it/s]\n"
     ]
    },
    {
     "name": "stdout",
     "output_type": "stream",
     "text": [
      "Epoch: 1 of 10, 0.002 min\n"
     ]
    },
    {
     "name": "stderr",
     "output_type": "stream",
     "text": [
      "I'm studying hard now🧐, don't disturb!: 100%|██████████| 6/6 [00:00<00:00, 50.24it/s]\n",
      "Let's see how good I am...: 100%|██████████| 1/1 [00:00<00:00, 60.85it/s]\n"
     ]
    },
    {
     "name": "stdout",
     "output_type": "stream",
     "text": [
      "Epoch: 2 of 10, 0.003 min\n"
     ]
    },
    {
     "name": "stderr",
     "output_type": "stream",
     "text": [
      "I'm studying hard now🧐, don't disturb!: 100%|██████████| 6/6 [00:00<00:00, 42.83it/s]\n",
      "Let's see how good I am...: 100%|██████████| 1/1 [00:00<00:00, 54.95it/s]\n"
     ]
    },
    {
     "name": "stdout",
     "output_type": "stream",
     "text": [
      "Epoch: 3 of 10, 0.003 min\n"
     ]
    },
    {
     "name": "stderr",
     "output_type": "stream",
     "text": [
      "I'm studying hard now🧐, don't disturb!: 100%|██████████| 6/6 [00:00<00:00, 14.77it/s]\n",
      "Let's see how good I am...: 100%|██████████| 1/1 [00:00<00:00, 17.94it/s]\n"
     ]
    },
    {
     "name": "stdout",
     "output_type": "stream",
     "text": [
      "Epoch: 4 of 10, 0.008 min\n"
     ]
    },
    {
     "name": "stderr",
     "output_type": "stream",
     "text": [
      "I'm studying hard now🧐, don't disturb!: 100%|██████████| 6/6 [00:00<00:00, 52.05it/s]\n",
      "Let's see how good I am...: 100%|██████████| 1/1 [00:00<00:00, 70.88it/s]\n"
     ]
    },
    {
     "name": "stdout",
     "output_type": "stream",
     "text": [
      "Epoch: 5 of 10, 0.002 min\n"
     ]
    },
    {
     "name": "stderr",
     "output_type": "stream",
     "text": [
      "I'm studying hard now🧐, don't disturb!: 100%|██████████| 6/6 [00:00<00:00, 18.93it/s]\n",
      "Let's see how good I am...: 100%|██████████| 1/1 [00:00<00:00, 76.92it/s]\n"
     ]
    },
    {
     "name": "stdout",
     "output_type": "stream",
     "text": [
      "Epoch: 6 of 10, 0.006 min\n"
     ]
    },
    {
     "name": "stderr",
     "output_type": "stream",
     "text": [
      "I'm studying hard now🧐, don't disturb!: 100%|██████████| 6/6 [00:00<00:00, 56.51it/s]\n",
      "Let's see how good I am...: 100%|██████████| 1/1 [00:00<00:00, 88.00it/s]\n"
     ]
    },
    {
     "name": "stdout",
     "output_type": "stream",
     "text": [
      "Epoch: 7 of 10, 0.002 min\n"
     ]
    },
    {
     "name": "stderr",
     "output_type": "stream",
     "text": [
      "I'm studying hard now🧐, don't disturb!: 100%|██████████| 6/6 [00:00<00:00, 60.48it/s]\n",
      "Let's see how good I am...: 100%|██████████| 1/1 [00:00<00:00, 95.34it/s]\n"
     ]
    },
    {
     "name": "stdout",
     "output_type": "stream",
     "text": [
      "Epoch: 8 of 10, 0.002 min\n"
     ]
    },
    {
     "name": "stderr",
     "output_type": "stream",
     "text": [
      "I'm studying hard now🧐, don't disturb!: 100%|██████████| 6/6 [00:00<00:00, 55.17it/s]\n",
      "Let's see how good I am...: 100%|██████████| 1/1 [00:00<00:00, 82.63it/s]\n"
     ]
    },
    {
     "name": "stdout",
     "output_type": "stream",
     "text": [
      "Epoch: 9 of 10, 0.002 min\n"
     ]
    },
    {
     "name": "stderr",
     "output_type": "stream",
     "text": [
      "I'm studying hard now🧐, don't disturb!: 100%|██████████| 6/6 [00:00<00:00, 55.58it/s]\n",
      "Let's see how good I am...: 100%|██████████| 1/1 [00:00<00:00, 84.05it/s]\n"
     ]
    },
    {
     "name": "stdout",
     "output_type": "stream",
     "text": [
      "Epoch: 10 of 10, 0.002 min\n"
     ]
    },
    {
     "data": {
      "text/html": [
       "wandb version 0.15.2 is available!  To upgrade, please run:\n",
       " $ pip install wandb --upgrade"
      ],
      "text/plain": [
       "<IPython.core.display.HTML object>"
      ]
     },
     "metadata": {},
     "output_type": "display_data"
    },
    {
     "data": {
      "text/html": [
       "Tracking run with wandb version 0.13.6"
      ],
      "text/plain": [
       "<IPython.core.display.HTML object>"
      ]
     },
     "metadata": {},
     "output_type": "display_data"
    },
    {
     "data": {
      "text/html": [
       "Run data is saved locally in <code>../logs/wandb/run-20230517_210722-26xxrp88</code>"
      ],
      "text/plain": [
       "<IPython.core.display.HTML object>"
      ]
     },
     "metadata": {},
     "output_type": "display_data"
    },
    {
     "data": {
      "text/html": [
       "Syncing run <strong><a href=\"https://wandb.ai/dmitrii_fomin_uga/Internship_project/runs/26xxrp88\" target=\"_blank\">JM_NumLab-500_LatDim-10</a></strong> to <a href=\"https://wandb.ai/dmitrii_fomin_uga/Internship_project\" target=\"_blank\">Weights & Biases</a> (<a href=\"https://wandb.me/run\" target=\"_blank\">docs</a>)<br/>"
      ],
      "text/plain": [
       "<IPython.core.display.HTML object>"
      ]
     },
     "metadata": {},
     "output_type": "display_data"
    },
    {
     "name": "stderr",
     "output_type": "stream",
     "text": [
      "I'm studying hard now🧐, don't disturb!: 100%|██████████| 1/1 [00:00<00:00, 23.05it/s]\n",
      "Let's see how good I am...: 100%|██████████| 2/2 [00:00<00:00, 17.78it/s]\n"
     ]
    },
    {
     "name": "stdout",
     "output_type": "stream",
     "text": [
      "Epoch: 1 of 40, 0.008 min\n"
     ]
    },
    {
     "name": "stderr",
     "output_type": "stream",
     "text": [
      "I'm studying hard now🧐, don't disturb!: 100%|██████████| 1/1 [00:00<00:00, 17.42it/s]\n",
      "Let's see how good I am...: 100%|██████████| 2/2 [00:00<00:00, 27.00it/s]\n"
     ]
    },
    {
     "name": "stdout",
     "output_type": "stream",
     "text": [
      "Epoch: 2 of 40, 0.007 min\n"
     ]
    },
    {
     "name": "stderr",
     "output_type": "stream",
     "text": [
      "I'm studying hard now🧐, don't disturb!: 100%|██████████| 1/1 [00:00<00:00, 38.47it/s]\n",
      "Let's see how good I am...: 100%|██████████| 2/2 [00:00<00:00, 26.24it/s]\n"
     ]
    },
    {
     "name": "stdout",
     "output_type": "stream",
     "text": [
      "Epoch: 3 of 40, 0.006 min\n"
     ]
    },
    {
     "name": "stderr",
     "output_type": "stream",
     "text": [
      "I'm studying hard now🧐, don't disturb!: 100%|██████████| 1/1 [00:00<00:00,  4.97it/s]\n",
      "Let's see how good I am...: 100%|██████████| 2/2 [00:00<00:00, 23.77it/s]\n"
     ]
    },
    {
     "name": "stdout",
     "output_type": "stream",
     "text": [
      "Epoch: 4 of 40, 0.011 min\n"
     ]
    },
    {
     "name": "stderr",
     "output_type": "stream",
     "text": [
      "I'm studying hard now🧐, don't disturb!: 100%|██████████| 1/1 [00:00<00:00,  8.33it/s]\n",
      "Let's see how good I am...: 100%|██████████| 2/2 [00:00<00:00, 20.77it/s]\n"
     ]
    },
    {
     "name": "stdout",
     "output_type": "stream",
     "text": [
      "Epoch: 5 of 40, 0.008 min\n"
     ]
    },
    {
     "name": "stderr",
     "output_type": "stream",
     "text": [
      "I'm studying hard now🧐, don't disturb!: 100%|██████████| 1/1 [00:00<00:00, 36.58it/s]\n",
      "Let's see how good I am...: 100%|██████████| 2/2 [00:00<00:00,  7.39it/s]\n"
     ]
    },
    {
     "name": "stdout",
     "output_type": "stream",
     "text": [
      "Epoch: 6 of 40, 0.009 min\n"
     ]
    },
    {
     "name": "stderr",
     "output_type": "stream",
     "text": [
      "I'm studying hard now🧐, don't disturb!: 100%|██████████| 1/1 [00:00<00:00, 44.16it/s]\n",
      "Let's see how good I am...: 100%|██████████| 2/2 [00:00<00:00, 30.06it/s]\n"
     ]
    },
    {
     "name": "stdout",
     "output_type": "stream",
     "text": [
      "Epoch: 7 of 40, 0.006 min\n"
     ]
    },
    {
     "name": "stderr",
     "output_type": "stream",
     "text": [
      "I'm studying hard now🧐, don't disturb!: 100%|██████████| 1/1 [00:00<00:00, 41.89it/s]\n",
      "Let's see how good I am...: 100%|██████████| 2/2 [00:00<00:00, 32.07it/s]\n"
     ]
    },
    {
     "name": "stdout",
     "output_type": "stream",
     "text": [
      "Epoch: 8 of 40, 0.006 min\n"
     ]
    },
    {
     "name": "stderr",
     "output_type": "stream",
     "text": [
      "I'm studying hard now🧐, don't disturb!: 100%|██████████| 1/1 [00:00<00:00, 40.33it/s]\n",
      "Let's see how good I am...: 100%|██████████| 2/2 [00:00<00:00, 30.52it/s]\n"
     ]
    },
    {
     "name": "stdout",
     "output_type": "stream",
     "text": [
      "Epoch: 9 of 40, 0.006 min\n"
     ]
    },
    {
     "name": "stderr",
     "output_type": "stream",
     "text": [
      "I'm studying hard now🧐, don't disturb!: 100%|██████████| 1/1 [00:00<00:00, 34.00it/s]\n",
      "Let's see how good I am...: 100%|██████████| 2/2 [00:00<00:00, 30.77it/s]\n"
     ]
    },
    {
     "name": "stdout",
     "output_type": "stream",
     "text": [
      "Epoch: 10 of 40, 0.006 min\n"
     ]
    },
    {
     "name": "stderr",
     "output_type": "stream",
     "text": [
      "I'm studying hard now🧐, don't disturb!: 100%|██████████| 1/1 [00:00<00:00, 41.26it/s]\n",
      "Let's see how good I am...: 100%|██████████| 2/2 [00:00<00:00, 27.61it/s]\n"
     ]
    },
    {
     "name": "stdout",
     "output_type": "stream",
     "text": [
      "Epoch: 11 of 40, 0.008 min\n"
     ]
    },
    {
     "name": "stderr",
     "output_type": "stream",
     "text": [
      "I'm studying hard now🧐, don't disturb!: 100%|██████████| 1/1 [00:00<00:00, 38.58it/s]\n",
      "Let's see how good I am...: 100%|██████████| 2/2 [00:00<00:00, 28.63it/s]\n"
     ]
    },
    {
     "name": "stdout",
     "output_type": "stream",
     "text": [
      "Epoch: 12 of 40, 0.007 min\n"
     ]
    },
    {
     "name": "stderr",
     "output_type": "stream",
     "text": [
      "I'm studying hard now🧐, don't disturb!: 100%|██████████| 1/1 [00:00<00:00, 45.52it/s]\n",
      "Let's see how good I am...: 100%|██████████| 2/2 [00:00<00:00, 29.55it/s]\n"
     ]
    },
    {
     "name": "stdout",
     "output_type": "stream",
     "text": [
      "Epoch: 13 of 40, 0.006 min\n"
     ]
    },
    {
     "name": "stderr",
     "output_type": "stream",
     "text": [
      "I'm studying hard now🧐, don't disturb!: 100%|██████████| 1/1 [00:00<00:00, 24.69it/s]\n",
      "Let's see how good I am...: 100%|██████████| 2/2 [00:00<00:00, 18.74it/s]\n"
     ]
    },
    {
     "name": "stdout",
     "output_type": "stream",
     "text": [
      "Epoch: 14 of 40, 0.007 min\n"
     ]
    },
    {
     "name": "stderr",
     "output_type": "stream",
     "text": [
      "I'm studying hard now🧐, don't disturb!: 100%|██████████| 1/1 [00:00<00:00, 33.80it/s]\n",
      "Let's see how good I am...: 100%|██████████| 2/2 [00:00<00:00, 31.98it/s]\n"
     ]
    },
    {
     "name": "stdout",
     "output_type": "stream",
     "text": [
      "Epoch: 15 of 40, 0.006 min\n"
     ]
    },
    {
     "name": "stderr",
     "output_type": "stream",
     "text": [
      "I'm studying hard now🧐, don't disturb!: 100%|██████████| 1/1 [00:00<00:00, 41.65it/s]\n",
      "Let's see how good I am...: 100%|██████████| 2/2 [00:00<00:00, 27.14it/s]\n"
     ]
    },
    {
     "name": "stdout",
     "output_type": "stream",
     "text": [
      "Epoch: 16 of 40, 0.006 min\n"
     ]
    },
    {
     "name": "stderr",
     "output_type": "stream",
     "text": [
      "I'm studying hard now🧐, don't disturb!: 100%|██████████| 1/1 [00:00<00:00, 31.82it/s]\n",
      "Let's see how good I am...: 100%|██████████| 2/2 [00:00<00:00, 10.22it/s]\n"
     ]
    },
    {
     "name": "stdout",
     "output_type": "stream",
     "text": [
      "Epoch: 17 of 40, 0.013 min\n"
     ]
    },
    {
     "name": "stderr",
     "output_type": "stream",
     "text": [
      "I'm studying hard now🧐, don't disturb!: 100%|██████████| 1/1 [00:00<00:00, 20.77it/s]\n",
      "Let's see how good I am...: 100%|██████████| 2/2 [00:00<00:00,  9.22it/s]\n"
     ]
    },
    {
     "name": "stdout",
     "output_type": "stream",
     "text": [
      "Epoch: 18 of 40, 0.010 min\n"
     ]
    },
    {
     "name": "stderr",
     "output_type": "stream",
     "text": [
      "I'm studying hard now🧐, don't disturb!: 100%|██████████| 1/1 [00:00<00:00,  5.40it/s]\n",
      "Let's see how good I am...: 100%|██████████| 2/2 [00:00<00:00, 18.78it/s]\n"
     ]
    },
    {
     "name": "stdout",
     "output_type": "stream",
     "text": [
      "Epoch: 19 of 40, 0.010 min\n"
     ]
    },
    {
     "name": "stderr",
     "output_type": "stream",
     "text": [
      "I'm studying hard now🧐, don't disturb!: 100%|██████████| 1/1 [00:00<00:00, 12.40it/s]\n",
      "Let's see how good I am...: 100%|██████████| 2/2 [00:00<00:00, 16.74it/s]\n"
     ]
    },
    {
     "name": "stdout",
     "output_type": "stream",
     "text": [
      "Epoch: 20 of 40, 0.008 min\n"
     ]
    },
    {
     "name": "stderr",
     "output_type": "stream",
     "text": [
      "I'm studying hard now🧐, don't disturb!: 100%|██████████| 1/1 [00:00<00:00, 32.62it/s]\n",
      "Let's see how good I am...: 100%|██████████| 2/2 [00:00<00:00, 25.09it/s]\n"
     ]
    },
    {
     "name": "stdout",
     "output_type": "stream",
     "text": [
      "Epoch: 21 of 40, 0.006 min\n"
     ]
    },
    {
     "name": "stderr",
     "output_type": "stream",
     "text": [
      "I'm studying hard now🧐, don't disturb!: 100%|██████████| 1/1 [00:00<00:00, 40.05it/s]\n",
      "Let's see how good I am...: 100%|██████████| 2/2 [00:00<00:00, 29.51it/s]\n"
     ]
    },
    {
     "name": "stdout",
     "output_type": "stream",
     "text": [
      "Epoch: 22 of 40, 0.006 min\n"
     ]
    },
    {
     "name": "stderr",
     "output_type": "stream",
     "text": [
      "I'm studying hard now🧐, don't disturb!: 100%|██████████| 1/1 [00:00<00:00, 44.00it/s]\n",
      "Let's see how good I am...: 100%|██████████| 2/2 [00:00<00:00, 19.49it/s]\n"
     ]
    },
    {
     "name": "stdout",
     "output_type": "stream",
     "text": [
      "Epoch: 23 of 40, 0.007 min\n"
     ]
    },
    {
     "name": "stderr",
     "output_type": "stream",
     "text": [
      "I'm studying hard now🧐, don't disturb!: 100%|██████████| 1/1 [00:00<00:00, 39.53it/s]\n",
      "Let's see how good I am...: 100%|██████████| 2/2 [00:00<00:00, 31.97it/s]\n"
     ]
    },
    {
     "name": "stdout",
     "output_type": "stream",
     "text": [
      "Epoch: 24 of 40, 0.006 min\n"
     ]
    },
    {
     "name": "stderr",
     "output_type": "stream",
     "text": [
      "I'm studying hard now🧐, don't disturb!: 100%|██████████| 1/1 [00:00<00:00, 30.92it/s]\n",
      "Let's see how good I am...: 100%|██████████| 2/2 [00:00<00:00, 22.79it/s]\n"
     ]
    },
    {
     "name": "stdout",
     "output_type": "stream",
     "text": [
      "Epoch: 25 of 40, 0.007 min\n"
     ]
    },
    {
     "name": "stderr",
     "output_type": "stream",
     "text": [
      "I'm studying hard now🧐, don't disturb!: 100%|██████████| 1/1 [00:00<00:00, 32.01it/s]\n",
      "Let's see how good I am...: 100%|██████████| 2/2 [00:00<00:00, 26.42it/s]\n"
     ]
    },
    {
     "name": "stdout",
     "output_type": "stream",
     "text": [
      "Epoch: 26 of 40, 0.007 min\n"
     ]
    },
    {
     "name": "stderr",
     "output_type": "stream",
     "text": [
      "I'm studying hard now🧐, don't disturb!: 100%|██████████| 1/1 [00:00<00:00, 40.30it/s]\n",
      "Let's see how good I am...: 100%|██████████| 2/2 [00:00<00:00, 23.42it/s]\n"
     ]
    },
    {
     "name": "stdout",
     "output_type": "stream",
     "text": [
      "Epoch: 27 of 40, 0.007 min\n"
     ]
    },
    {
     "name": "stderr",
     "output_type": "stream",
     "text": [
      "I'm studying hard now🧐, don't disturb!: 100%|██████████| 1/1 [00:00<00:00, 44.97it/s]\n",
      "Let's see how good I am...: 100%|██████████| 2/2 [00:00<00:00, 29.08it/s]\n"
     ]
    },
    {
     "name": "stdout",
     "output_type": "stream",
     "text": [
      "Epoch: 28 of 40, 0.006 min\n"
     ]
    },
    {
     "name": "stderr",
     "output_type": "stream",
     "text": [
      "I'm studying hard now🧐, don't disturb!: 100%|██████████| 1/1 [00:00<00:00, 34.98it/s]\n",
      "Let's see how good I am...: 100%|██████████| 2/2 [00:00<00:00, 28.16it/s]\n"
     ]
    },
    {
     "name": "stdout",
     "output_type": "stream",
     "text": [
      "Epoch: 29 of 40, 0.006 min\n"
     ]
    },
    {
     "name": "stderr",
     "output_type": "stream",
     "text": [
      "I'm studying hard now🧐, don't disturb!: 100%|██████████| 1/1 [00:00<00:00, 50.22it/s]\n",
      "Let's see how good I am...: 100%|██████████| 2/2 [00:00<00:00, 30.62it/s]\n"
     ]
    },
    {
     "name": "stdout",
     "output_type": "stream",
     "text": [
      "Epoch: 30 of 40, 0.006 min\n"
     ]
    },
    {
     "name": "stderr",
     "output_type": "stream",
     "text": [
      "I'm studying hard now🧐, don't disturb!: 100%|██████████| 1/1 [00:00<00:00, 28.41it/s]\n",
      "Let's see how good I am...: 100%|██████████| 2/2 [00:00<00:00, 29.04it/s]\n"
     ]
    },
    {
     "name": "stdout",
     "output_type": "stream",
     "text": [
      "Epoch: 31 of 40, 0.006 min\n"
     ]
    },
    {
     "name": "stderr",
     "output_type": "stream",
     "text": [
      "I'm studying hard now🧐, don't disturb!: 100%|██████████| 1/1 [00:00<00:00, 40.34it/s]\n",
      "Let's see how good I am...: 100%|██████████| 2/2 [00:00<00:00, 28.60it/s]\n"
     ]
    },
    {
     "name": "stdout",
     "output_type": "stream",
     "text": [
      "Epoch: 32 of 40, 0.006 min\n"
     ]
    },
    {
     "name": "stderr",
     "output_type": "stream",
     "text": [
      "I'm studying hard now🧐, don't disturb!: 100%|██████████| 1/1 [00:00<00:00, 49.96it/s]\n",
      "Let's see how good I am...: 100%|██████████| 2/2 [00:00<00:00,  7.12it/s]\n"
     ]
    },
    {
     "name": "stdout",
     "output_type": "stream",
     "text": [
      "Epoch: 33 of 40, 0.012 min\n"
     ]
    },
    {
     "name": "stderr",
     "output_type": "stream",
     "text": [
      "I'm studying hard now🧐, don't disturb!: 100%|██████████| 1/1 [00:00<00:00, 39.90it/s]\n",
      "Let's see how good I am...: 100%|██████████| 2/2 [00:00<00:00, 31.45it/s]\n"
     ]
    },
    {
     "name": "stdout",
     "output_type": "stream",
     "text": [
      "Epoch: 34 of 40, 0.006 min\n"
     ]
    },
    {
     "name": "stderr",
     "output_type": "stream",
     "text": [
      "I'm studying hard now🧐, don't disturb!: 100%|██████████| 1/1 [00:00<00:00, 52.52it/s]\n",
      "Let's see how good I am...: 100%|██████████| 2/2 [00:00<00:00, 36.38it/s]\n"
     ]
    },
    {
     "name": "stdout",
     "output_type": "stream",
     "text": [
      "Epoch: 35 of 40, 0.005 min\n"
     ]
    },
    {
     "name": "stderr",
     "output_type": "stream",
     "text": [
      "I'm studying hard now🧐, don't disturb!: 100%|██████████| 1/1 [00:00<00:00, 35.69it/s]\n",
      "Let's see how good I am...: 100%|██████████| 2/2 [00:00<00:00, 29.24it/s]\n"
     ]
    },
    {
     "name": "stdout",
     "output_type": "stream",
     "text": [
      "Epoch: 36 of 40, 0.006 min\n"
     ]
    },
    {
     "name": "stderr",
     "output_type": "stream",
     "text": [
      "I'm studying hard now🧐, don't disturb!: 100%|██████████| 1/1 [00:00<00:00, 43.24it/s]\n",
      "Let's see how good I am...: 100%|██████████| 2/2 [00:00<00:00, 28.93it/s]\n"
     ]
    },
    {
     "name": "stdout",
     "output_type": "stream",
     "text": [
      "Epoch: 37 of 40, 0.006 min\n"
     ]
    },
    {
     "name": "stderr",
     "output_type": "stream",
     "text": [
      "I'm studying hard now🧐, don't disturb!: 100%|██████████| 1/1 [00:00<00:00, 44.87it/s]\n",
      "Let's see how good I am...: 100%|██████████| 2/2 [00:00<00:00, 29.51it/s]\n"
     ]
    },
    {
     "name": "stdout",
     "output_type": "stream",
     "text": [
      "Epoch: 38 of 40, 0.006 min\n"
     ]
    },
    {
     "name": "stderr",
     "output_type": "stream",
     "text": [
      "I'm studying hard now🧐, don't disturb!: 100%|██████████| 1/1 [00:00<00:00, 45.40it/s]\n",
      "Let's see how good I am...: 100%|██████████| 2/2 [00:00<00:00, 29.38it/s]\n"
     ]
    },
    {
     "name": "stdout",
     "output_type": "stream",
     "text": [
      "Epoch: 39 of 40, 0.006 min\n"
     ]
    },
    {
     "name": "stderr",
     "output_type": "stream",
     "text": [
      "I'm studying hard now🧐, don't disturb!: 100%|██████████| 1/1 [00:00<00:00, 48.77it/s]\n",
      "Let's see how good I am...: 100%|██████████| 2/2 [00:00<00:00, 34.63it/s]\n"
     ]
    },
    {
     "name": "stdout",
     "output_type": "stream",
     "text": [
      "Epoch: 40 of 40, 0.009 min\n"
     ]
    },
    {
     "data": {
      "text/html": [
       "Waiting for W&B process to finish... <strong style=\"color:green\">(success).</strong>"
      ],
      "text/plain": [
       "<IPython.core.display.HTML object>"
      ]
     },
     "metadata": {},
     "output_type": "display_data"
    }
   ],
   "source": [
    "train_cycle(df)"
   ]
  }
 ],
 "metadata": {
  "kernelspec": {
   "display_name": "env1",
   "language": "python",
   "name": "python3"
  },
  "language_info": {
   "codemirror_mode": {
    "name": "ipython",
    "version": 3
   },
   "file_extension": ".py",
   "mimetype": "text/x-python",
   "name": "python",
   "nbconvert_exporter": "python",
   "pygments_lexer": "ipython3",
   "version": "3.9.15"
  },
  "orig_nbformat": 4
 },
 "nbformat": 4,
 "nbformat_minor": 2
}
