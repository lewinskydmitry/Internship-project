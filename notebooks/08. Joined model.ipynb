{
 "cells": [
  {
   "cell_type": "code",
   "execution_count": 1,
   "metadata": {},
   "outputs": [],
   "source": [
    "import os\n",
    "import sys\n",
    "sys.path.append(os.path.abspath(os.path.join(os.path.dirname('src'), '..')))\n",
    "\n",
    "import pandas as pd\n",
    "from sklearn.model_selection import train_test_split\n",
    "import wandb\n",
    "\n",
    "import torch\n",
    "import torch.nn as nn\n",
    "from torch.utils.data import DataLoader\n",
    "import torch.optim.lr_scheduler as lr\n",
    "\n",
    "seed_value = 42\n",
    "torch.manual_seed(seed_value)\n",
    "torch.cuda.manual_seed_all(seed_value)\n",
    "generator = torch.Generator()\n",
    "generator.manual_seed(seed_value)\n",
    "torch.backends.cudnn.deterministic = True\n",
    "\n",
    "from functools import partial\n",
    "\n",
    "from src.Trainer.Trainer import Trainer\n",
    "from src.Trainer.VAE_Trainer import VAE_Trainer\n",
    "from src.Models.Classifiers import *\n",
    "from src.Trainer.Model_class import Model_class\n",
    "from src.Trainer.Loss_class import Loss_class\n",
    "\n",
    "from src.Models.Autoencoders import *\n",
    "from src.Models.JoinedModel import JoinedModel\n",
    "\n",
    "device = torch.device('cuda' if torch.cuda.is_available() else 'cpu')"
   ]
  },
  {
   "cell_type": "code",
   "execution_count": 2,
   "metadata": {},
   "outputs": [],
   "source": [
    "HIDDEN_PARAM = 512\n",
    "LATENT_REPR = 5\n",
    "\n",
    "BATCH_SIZE = 1024"
   ]
  },
  {
   "cell_type": "code",
   "execution_count": 3,
   "metadata": {},
   "outputs": [],
   "source": [
    "df = pd.read_csv('../data/df_to_enc.csv')"
   ]
  },
  {
   "cell_type": "code",
   "execution_count": 4,
   "metadata": {},
   "outputs": [],
   "source": [
    "def prepare_data_for_test(X_data, y_data, test_ratio):\n",
    "    # Prepare dataset for testing\n",
    "    X_train, X_test, y_train, y_test = train_test_split(X_data,\n",
    "                                                     y_data,\n",
    "                                                     shuffle = True,\n",
    "                                                     stratify = y_data,\n",
    "                                                     random_state = 42,\n",
    "                                                     test_size = test_ratio)\n",
    "    \n",
    "    return X_train, X_test, y_train, y_test"
   ]
  },
  {
   "cell_type": "code",
   "execution_count": 5,
   "metadata": {},
   "outputs": [],
   "source": [
    "def prepare_data_for_enc(X_data, y_data, autoenc_requared):\n",
    "\n",
    "    # Check that amount rows for enc less than length of data\n",
    "    if autoenc_requared >= len(X_data):\n",
    "        raise ValueError(\"The number of rows for autoencoder more than amount of X_train data\")\n",
    "    \n",
    "    autoenc_ratio = autoenc_requared/len(X_data)\n",
    "    \n",
    "    X_to_enc, X_to_clas,\\\n",
    "    y_to_enc, y_to_clas = train_test_split(X_data,\n",
    "                                           y_data,\n",
    "                                           shuffle = True,\n",
    "                                           stratify = y_data,\n",
    "                                           random_state = 42,\n",
    "                                           train_size = autoenc_ratio)\n",
    "    \n",
    "    X_train, X_test = train_test_split(X_to_enc,\n",
    "                                       shuffle = True,\n",
    "                                       random_state = 42,\n",
    "                                       train_size = 0.9)\n",
    "    \n",
    "    return X_train, X_test, X_to_clas, y_to_clas"
   ]
  },
  {
   "cell_type": "code",
   "execution_count": 6,
   "metadata": {},
   "outputs": [],
   "source": [
    "def prepare_data_for_classif(X_data, y_data, classif_requared):\n",
    "\n",
    "    # Prepare dataset for encoder\n",
    "    if classif_requared >= len(X_data):\n",
    "        raise ValueError(\"The number of rows for classifier more than amount of X_train data\")\n",
    "    classif_ratio = classif_requared / len(X_data)\n",
    "    \n",
    "    X_train, X_test,\\\n",
    "    y_train, y_test = train_test_split(X_data,\n",
    "                                       y_data,\n",
    "                                       shuffle = True,\n",
    "                                       stratify = y_data,\n",
    "                                       random_state = 42,\n",
    "                                       train_size = classif_ratio)\n",
    "    \n",
    "    return X_train, y_train"
   ]
  },
  {
   "cell_type": "code",
   "execution_count": 7,
   "metadata": {},
   "outputs": [],
   "source": [
    "def make_dataloader(*data, encoder_data = False):\n",
    "    \n",
    "    if len(data) > 1:\n",
    "        data_list = [data[i] for i in range(len(data))]\n",
    "        dataset = pd.concat(data_list, axis = 1)\n",
    "    else:\n",
    "        dataset = data[0]\n",
    "    if encoder_data == False:\n",
    "        dataset = TableDatasetDF(dataset)\n",
    "        dataloader = DataLoader(\n",
    "            dataset,\n",
    "            batch_size=BATCH_SIZE, \n",
    "            shuffle=True,\n",
    "            generator=generator\n",
    "        )\n",
    "    else:\n",
    "        dataset = EncoderDataset(dataset)\n",
    "        dataloader = DataLoader(\n",
    "            dataset,\n",
    "            batch_size=BATCH_SIZE, \n",
    "            shuffle=True,\n",
    "            generator=generator\n",
    "        )\n",
    "\n",
    "    return dataloader"
   ]
  },
  {
   "cell_type": "code",
   "execution_count": 8,
   "metadata": {},
   "outputs": [],
   "source": [
    "def prepare_data(X_data, y_data, test_ratio, autoenc_requared, classif_requared):\n",
    "    X_train, X_test, y_train, y_test = prepare_data_for_test(X_data, y_data, test_ratio)\n",
    "    X_encoder_train, X_encoder_test, X_to_clas, y_to_clas = prepare_data_for_enc(X_train, y_train, autoenc_requared)\n",
    "    X_train_classif, y_train_classif = prepare_data_for_classif(X_to_clas, y_to_clas, classif_requared)\n",
    "\n",
    "    test_dl = make_dataloader(X_test, y_test)\n",
    "    train_dl = make_dataloader(X_train_classif, y_train_classif)\n",
    "\n",
    "    enc_train_dl = make_dataloader(X_encoder_train, encoder_data=True)\n",
    "    enc_test_dl = make_dataloader(X_encoder_test, encoder_data=True)\n",
    "\n",
    "    return train_dl, test_dl, enc_train_dl, enc_test_dl"
   ]
  },
  {
   "cell_type": "code",
   "execution_count": 9,
   "metadata": {},
   "outputs": [],
   "source": [
    "# train_dl,\\\n",
    "# test_dl, enc_train_dl, enc_test_dl = prepare_data(df.drop(columns = ['Machine failure']),\n",
    "#                                                   df['Machine failure'], 0.2, 6000, 300)"
   ]
  },
  {
   "cell_type": "code",
   "execution_count": 12,
   "metadata": {},
   "outputs": [],
   "source": [
    "def train_cycle(df, list_amount = [50, 100, 500, 1000, 1990]):\n",
    "    for labels_amount in list_amount:\n",
    "        ############################################################\n",
    "        # PREPARE DATA\n",
    "        ############################################################\n",
    "        train_dl, test_dl, enc_train_dl, enc_test_dl = prepare_data(df.drop(columns = ['Machine failure']),\n",
    "                                                                    df['Machine failure'], 0.2, 6000, labels_amount)\n",
    "\n",
    "        ############################################################\n",
    "        # TRAIN AUTOENCODER\n",
    "        ############################################################\n",
    "        # Set training settings\n",
    "        autoencoder = Autoencoder(enc_train_dl.dataset.data.shape[1], HIDDEN_PARAM, LATENT_REPR)\n",
    "        loss = Encoder_loss(nn.MSELoss())\n",
    "\n",
    "        # autoencoder = VAE(enc_train_dl.dataset.data.shape[1], HIDDEN_PARAM, LATENT_REPR)\n",
    "        # loss = vae_loss(vae_loss_function)\n",
    "\n",
    "        model_factory = partial(Model_class)\n",
    "        optimizer_factory = partial(torch.optim.AdamW)\n",
    "        scheduler_factory = partial(lr.ExponentialLR)\n",
    "\n",
    "        model_params = dict(model=autoencoder,\n",
    "                            device=device)\n",
    "\n",
    "        optimizer_params = dict(weight_decay=1e-3, lr=1e-2)\n",
    "        scheduler_params = dict(gamma=0.95)\n",
    "\n",
    "        learning_params = dict(batch_size=BATCH_SIZE, num_epoch=30)\n",
    "\n",
    "        wandb_init_params = dict(\n",
    "            name=f'Autoencoder_simple_HidParam-{HIDDEN_PARAM}_Latent-{LATENT_REPR}',\n",
    "            project=\"Internship_project\",\n",
    "            dir = '../logs/'\n",
    "        )\n",
    "        # Start training\n",
    "        trainer = Trainer(enc_train_dl,\n",
    "                          enc_test_dl,\n",
    "                          loss,\n",
    "                          model_factory=model_factory,\n",
    "                          optimizer_factory=optimizer_factory,\n",
    "                          scheduler_factory=scheduler_factory,\n",
    "                          model_params=model_params,\n",
    "                          optimizer_params=optimizer_params,\n",
    "                          scheduler_params=scheduler_params,\n",
    "                          log=False,\n",
    "                          wandb_init_params=wandb_init_params,\n",
    "                          model_dir='../logs/nn_models/autoencoder/',\n",
    "                          saving_model=False\n",
    "                          )\n",
    "        trainer.train_model(learning_params)\n",
    "        wandb.finish()\n",
    "\n",
    "        ############################################################\n",
    "        # TRAIN CLASSIFIER\n",
    "        ############################################################\n",
    "        \n",
    "        classifier = Simple_classifier(train_dl.dataset.data.shape[1], 50)\n",
    "        jm = JoinedModel(trainer.model.model.encoder, classifier)\n",
    "\n",
    "        loss = Loss_class(FocalLoss(gamma=3))\n",
    "        model_factory = partial(Model_class)\n",
    "        optimizer_factory = partial(torch.optim.AdamW)\n",
    "        scheduler_factory = partial(lr.ExponentialLR)\n",
    "\n",
    "        model_params = dict(model=jm,\n",
    "                            device=device)\n",
    "\n",
    "        optimizer_params = dict(weight_decay=1e-3, lr=1e-2)\n",
    "        scheduler_params = dict(gamma=0.95)\n",
    "\n",
    "        learning_params = dict(batch_size=BATCH_SIZE, num_epoch=20)\n",
    "\n",
    "        wandb_init_params = dict(\n",
    "            name=f'JM_NumLab-{labels_amount}_LatDim-{LATENT_REPR}',\n",
    "            project=\"Internship_project\",\n",
    "            dir = '../logs/'\n",
    "        )\n",
    "        \n",
    "        trainer = Trainer(train_dl,\n",
    "                          test_dl,\n",
    "                          loss,\n",
    "                          model_factory=model_factory,\n",
    "                          optimizer_factory=optimizer_factory,\n",
    "                          scheduler_factory=scheduler_factory,\n",
    "                          model_params=model_params,\n",
    "                          optimizer_params=optimizer_params,\n",
    "                          scheduler_params=scheduler_params,\n",
    "                          log=False,\n",
    "                          wandb_init_params=wandb_init_params,\n",
    "                          model_dir='../logs/nn_models/joined_models/',\n",
    "                          saving_model=False\n",
    "                          )\n",
    "        \n",
    "        trainer.train_model(learning_params)\n",
    "        wandb.finish()"
   ]
  },
  {
   "cell_type": "code",
   "execution_count": 11,
   "metadata": {},
   "outputs": [
    {
     "name": "stderr",
     "output_type": "stream",
     "text": [
      "Failed to detect the name of this notebook, you can set it manually with the WANDB_NOTEBOOK_NAME environment variable to enable code saving.\n",
      "\u001b[34m\u001b[1mwandb\u001b[0m: Currently logged in as: \u001b[33mdmitrii_fomin\u001b[0m (\u001b[33mdmitrii_fomin_uga\u001b[0m). Use \u001b[1m`wandb login --relogin`\u001b[0m to force relogin\n"
     ]
    },
    {
     "data": {
      "text/html": [
       "Tracking run with wandb version 0.15.3"
      ],
      "text/plain": [
       "<IPython.core.display.HTML object>"
      ]
     },
     "metadata": {},
     "output_type": "display_data"
    },
    {
     "data": {
      "text/html": [
       "Run data is saved locally in <code>../logs/wandb\\run-20230529_210756-w7kkonf7</code>"
      ],
      "text/plain": [
       "<IPython.core.display.HTML object>"
      ]
     },
     "metadata": {},
     "output_type": "display_data"
    },
    {
     "data": {
      "text/html": [
       "Syncing run <strong><a href='https://wandb.ai/dmitrii_fomin_uga/Internship_project/runs/w7kkonf7' target=\"_blank\">Autoencoder_simple_HidParam-512_Latent-5</a></strong> to <a href='https://wandb.ai/dmitrii_fomin_uga/Internship_project' target=\"_blank\">Weights & Biases</a> (<a href='https://wandb.me/run' target=\"_blank\">docs</a>)<br/>"
      ],
      "text/plain": [
       "<IPython.core.display.HTML object>"
      ]
     },
     "metadata": {},
     "output_type": "display_data"
    },
    {
     "data": {
      "text/html": [
       " View project at <a href='https://wandb.ai/dmitrii_fomin_uga/Internship_project' target=\"_blank\">https://wandb.ai/dmitrii_fomin_uga/Internship_project</a>"
      ],
      "text/plain": [
       "<IPython.core.display.HTML object>"
      ]
     },
     "metadata": {},
     "output_type": "display_data"
    },
    {
     "data": {
      "text/html": [
       " View run at <a href='https://wandb.ai/dmitrii_fomin_uga/Internship_project/runs/w7kkonf7' target=\"_blank\">https://wandb.ai/dmitrii_fomin_uga/Internship_project/runs/w7kkonf7</a>"
      ],
      "text/plain": [
       "<IPython.core.display.HTML object>"
      ]
     },
     "metadata": {},
     "output_type": "display_data"
    },
    {
     "name": "stderr",
     "output_type": "stream",
     "text": [
      "I'm studying hard now🧐, don't disturb!: 100%|██████████| 6/6 [00:02<00:00,  2.56it/s]\n",
      "Let's see how good I am...: 100%|██████████| 1/1 [00:00<00:00, 88.49it/s]\n"
     ]
    },
    {
     "name": "stdout",
     "output_type": "stream",
     "text": [
      "Epoch: 1 of 30, 0.039 min\n"
     ]
    },
    {
     "name": "stderr",
     "output_type": "stream",
     "text": [
      "I'm studying hard now🧐, don't disturb!: 100%|██████████| 6/6 [00:00<00:00, 74.50it/s]\n",
      "Let's see how good I am...: 100%|██████████| 1/1 [00:00<00:00, 98.93it/s]\n"
     ]
    },
    {
     "name": "stdout",
     "output_type": "stream",
     "text": [
      "Epoch: 2 of 30, 0.002 min\n"
     ]
    },
    {
     "name": "stderr",
     "output_type": "stream",
     "text": [
      "I'm studying hard now🧐, don't disturb!: 100%|██████████| 6/6 [00:00<00:00, 66.67it/s]\n",
      "Let's see how good I am...: 100%|██████████| 1/1 [00:00<00:00, 133.17it/s]\n"
     ]
    },
    {
     "name": "stdout",
     "output_type": "stream",
     "text": [
      "Epoch: 3 of 30, 0.002 min\n"
     ]
    },
    {
     "name": "stderr",
     "output_type": "stream",
     "text": [
      "I'm studying hard now🧐, don't disturb!: 100%|██████████| 6/6 [00:00<00:00, 82.70it/s]\n",
      "Let's see how good I am...: 100%|██████████| 1/1 [00:00<00:00, 63.28it/s]\n"
     ]
    },
    {
     "name": "stdout",
     "output_type": "stream",
     "text": [
      "Epoch: 4 of 30, 0.002 min\n"
     ]
    },
    {
     "name": "stderr",
     "output_type": "stream",
     "text": [
      "I'm studying hard now🧐, don't disturb!: 100%|██████████| 6/6 [00:00<00:00, 77.50it/s]\n",
      "Let's see how good I am...: 100%|██████████| 1/1 [00:00<?, ?it/s]\n"
     ]
    },
    {
     "name": "stdout",
     "output_type": "stream",
     "text": [
      "Epoch: 5 of 30, 0.002 min\n"
     ]
    },
    {
     "name": "stderr",
     "output_type": "stream",
     "text": [
      "I'm studying hard now🧐, don't disturb!: 100%|██████████| 6/6 [00:00<00:00, 80.60it/s]\n",
      "Let's see how good I am...: 100%|██████████| 1/1 [00:00<00:00, 126.15it/s]\n"
     ]
    },
    {
     "name": "stdout",
     "output_type": "stream",
     "text": [
      "Epoch: 6 of 30, 0.001 min\n"
     ]
    },
    {
     "name": "stderr",
     "output_type": "stream",
     "text": [
      "I'm studying hard now🧐, don't disturb!: 100%|██████████| 6/6 [00:00<00:00, 81.68it/s]\n",
      "Let's see how good I am...: 100%|██████████| 1/1 [00:00<00:00, 124.21it/s]\n"
     ]
    },
    {
     "name": "stdout",
     "output_type": "stream",
     "text": [
      "Epoch: 7 of 30, 0.001 min\n"
     ]
    },
    {
     "name": "stderr",
     "output_type": "stream",
     "text": [
      "I'm studying hard now🧐, don't disturb!: 100%|██████████| 6/6 [00:00<00:00, 82.07it/s]\n",
      "Let's see how good I am...: 100%|██████████| 1/1 [00:00<?, ?it/s]\n"
     ]
    },
    {
     "name": "stdout",
     "output_type": "stream",
     "text": [
      "Epoch: 8 of 30, 0.001 min\n"
     ]
    },
    {
     "name": "stderr",
     "output_type": "stream",
     "text": [
      "I'm studying hard now🧐, don't disturb!: 100%|██████████| 6/6 [00:00<00:00, 50.03it/s]\n",
      "Let's see how good I am...: 100%|██████████| 1/1 [00:00<00:00, 123.74it/s]\n"
     ]
    },
    {
     "name": "stdout",
     "output_type": "stream",
     "text": [
      "Epoch: 9 of 30, 0.002 min\n"
     ]
    },
    {
     "name": "stderr",
     "output_type": "stream",
     "text": [
      "I'm studying hard now🧐, don't disturb!: 100%|██████████| 6/6 [00:00<00:00, 82.32it/s]\n",
      "Let's see how good I am...: 100%|██████████| 1/1 [00:00<?, ?it/s]\n"
     ]
    },
    {
     "name": "stdout",
     "output_type": "stream",
     "text": [
      "Epoch: 10 of 30, 0.002 min\n"
     ]
    },
    {
     "name": "stderr",
     "output_type": "stream",
     "text": [
      "I'm studying hard now🧐, don't disturb!: 100%|██████████| 6/6 [00:00<00:00, 86.75it/s]\n",
      "Let's see how good I am...: 100%|██████████| 1/1 [00:00<00:00, 118.47it/s]\n"
     ]
    },
    {
     "name": "stdout",
     "output_type": "stream",
     "text": [
      "Epoch: 11 of 30, 0.002 min\n"
     ]
    },
    {
     "name": "stderr",
     "output_type": "stream",
     "text": [
      "I'm studying hard now🧐, don't disturb!: 100%|██████████| 6/6 [00:00<00:00, 76.47it/s]\n",
      "Let's see how good I am...: 100%|██████████| 1/1 [00:00<00:00, 79.04it/s]\n"
     ]
    },
    {
     "name": "stdout",
     "output_type": "stream",
     "text": [
      "Epoch: 12 of 30, 0.002 min\n"
     ]
    },
    {
     "name": "stderr",
     "output_type": "stream",
     "text": [
      "I'm studying hard now🧐, don't disturb!: 100%|██████████| 6/6 [00:00<00:00, 81.99it/s]\n",
      "Let's see how good I am...: 100%|██████████| 1/1 [00:00<?, ?it/s]\n"
     ]
    },
    {
     "name": "stdout",
     "output_type": "stream",
     "text": [
      "Epoch: 13 of 30, 0.002 min\n"
     ]
    },
    {
     "name": "stderr",
     "output_type": "stream",
     "text": [
      "I'm studying hard now🧐, don't disturb!: 100%|██████████| 6/6 [00:00<00:00, 82.46it/s]\n",
      "Let's see how good I am...: 100%|██████████| 1/1 [00:00<?, ?it/s]\n"
     ]
    },
    {
     "name": "stdout",
     "output_type": "stream",
     "text": [
      "Epoch: 14 of 30, 0.001 min\n"
     ]
    },
    {
     "name": "stderr",
     "output_type": "stream",
     "text": [
      "I'm studying hard now🧐, don't disturb!: 100%|██████████| 6/6 [00:00<00:00, 91.16it/s]\n",
      "Let's see how good I am...: 100%|██████████| 1/1 [00:00<?, ?it/s]\n"
     ]
    },
    {
     "name": "stdout",
     "output_type": "stream",
     "text": [
      "Epoch: 15 of 30, 0.001 min\n"
     ]
    },
    {
     "name": "stderr",
     "output_type": "stream",
     "text": [
      "I'm studying hard now🧐, don't disturb!: 100%|██████████| 6/6 [00:00<00:00, 95.64it/s]\n",
      "Let's see how good I am...: 100%|██████████| 1/1 [00:00<00:00, 1135.74it/s]\n"
     ]
    },
    {
     "name": "stdout",
     "output_type": "stream",
     "text": [
      "Epoch: 16 of 30, 0.001 min\n"
     ]
    },
    {
     "name": "stderr",
     "output_type": "stream",
     "text": [
      "I'm studying hard now🧐, don't disturb!: 100%|██████████| 6/6 [00:00<00:00, 89.91it/s]\n",
      "Let's see how good I am...: 100%|██████████| 1/1 [00:00<?, ?it/s]\n"
     ]
    },
    {
     "name": "stdout",
     "output_type": "stream",
     "text": [
      "Epoch: 17 of 30, 0.001 min\n"
     ]
    },
    {
     "name": "stderr",
     "output_type": "stream",
     "text": [
      "I'm studying hard now🧐, don't disturb!: 100%|██████████| 6/6 [00:00<00:00, 92.30it/s]\n",
      "Let's see how good I am...: 100%|██████████| 1/1 [00:00<00:00, 161.38it/s]\n"
     ]
    },
    {
     "name": "stdout",
     "output_type": "stream",
     "text": [
      "Epoch: 18 of 30, 0.002 min\n"
     ]
    },
    {
     "name": "stderr",
     "output_type": "stream",
     "text": [
      "I'm studying hard now🧐, don't disturb!: 100%|██████████| 6/6 [00:00<00:00, 88.91it/s]\n",
      "Let's see how good I am...: 100%|██████████| 1/1 [00:00<00:00, 120.28it/s]\n"
     ]
    },
    {
     "name": "stdout",
     "output_type": "stream",
     "text": [
      "Epoch: 19 of 30, 0.001 min\n"
     ]
    },
    {
     "name": "stderr",
     "output_type": "stream",
     "text": [
      "I'm studying hard now🧐, don't disturb!: 100%|██████████| 6/6 [00:00<00:00, 90.79it/s]\n",
      "Let's see how good I am...: 100%|██████████| 1/1 [00:00<00:00, 185.45it/s]\n"
     ]
    },
    {
     "name": "stdout",
     "output_type": "stream",
     "text": [
      "Epoch: 20 of 30, 0.002 min\n"
     ]
    },
    {
     "name": "stderr",
     "output_type": "stream",
     "text": [
      "I'm studying hard now🧐, don't disturb!: 100%|██████████| 6/6 [00:00<00:00, 81.19it/s]\n",
      "Let's see how good I am...: 100%|██████████| 1/1 [00:00<00:00, 118.97it/s]\n"
     ]
    },
    {
     "name": "stdout",
     "output_type": "stream",
     "text": [
      "Epoch: 21 of 30, 0.001 min\n"
     ]
    },
    {
     "name": "stderr",
     "output_type": "stream",
     "text": [
      "I'm studying hard now🧐, don't disturb!: 100%|██████████| 6/6 [00:00<00:00, 52.84it/s]\n",
      "Let's see how good I am...: 100%|██████████| 1/1 [00:00<00:00, 56.84it/s]\n"
     ]
    },
    {
     "name": "stdout",
     "output_type": "stream",
     "text": [
      "Epoch: 22 of 30, 0.002 min\n"
     ]
    },
    {
     "name": "stderr",
     "output_type": "stream",
     "text": [
      "I'm studying hard now🧐, don't disturb!: 100%|██████████| 6/6 [00:00<00:00, 81.91it/s]\n",
      "Let's see how good I am...: 100%|██████████| 1/1 [00:00<00:00, 99.71it/s]\n"
     ]
    },
    {
     "name": "stdout",
     "output_type": "stream",
     "text": [
      "Epoch: 23 of 30, 0.001 min\n"
     ]
    },
    {
     "name": "stderr",
     "output_type": "stream",
     "text": [
      "I'm studying hard now🧐, don't disturb!: 100%|██████████| 6/6 [00:00<00:00, 84.36it/s]\n",
      "Let's see how good I am...: 100%|██████████| 1/1 [00:00<?, ?it/s]\n"
     ]
    },
    {
     "name": "stdout",
     "output_type": "stream",
     "text": [
      "Epoch: 24 of 30, 0.001 min\n"
     ]
    },
    {
     "name": "stderr",
     "output_type": "stream",
     "text": [
      "I'm studying hard now🧐, don't disturb!: 100%|██████████| 6/6 [00:00<00:00, 91.36it/s]\n",
      "Let's see how good I am...: 100%|██████████| 1/1 [00:00<00:00, 130.85it/s]\n"
     ]
    },
    {
     "name": "stdout",
     "output_type": "stream",
     "text": [
      "Epoch: 25 of 30, 0.001 min\n"
     ]
    },
    {
     "name": "stderr",
     "output_type": "stream",
     "text": [
      "I'm studying hard now🧐, don't disturb!: 100%|██████████| 6/6 [00:00<00:00, 86.74it/s]\n",
      "Let's see how good I am...: 100%|██████████| 1/1 [00:00<?, ?it/s]\n"
     ]
    },
    {
     "name": "stdout",
     "output_type": "stream",
     "text": [
      "Epoch: 26 of 30, 0.002 min\n"
     ]
    },
    {
     "name": "stderr",
     "output_type": "stream",
     "text": [
      "I'm studying hard now🧐, don't disturb!: 100%|██████████| 6/6 [00:00<00:00, 90.97it/s]\n",
      "Let's see how good I am...: 100%|██████████| 1/1 [00:00<00:00, 137.04it/s]\n"
     ]
    },
    {
     "name": "stdout",
     "output_type": "stream",
     "text": [
      "Epoch: 27 of 30, 0.001 min\n"
     ]
    },
    {
     "name": "stderr",
     "output_type": "stream",
     "text": [
      "I'm studying hard now🧐, don't disturb!: 100%|██████████| 6/6 [00:00<00:00, 91.91it/s]\n",
      "Let's see how good I am...: 100%|██████████| 1/1 [00:00<?, ?it/s]\n"
     ]
    },
    {
     "name": "stdout",
     "output_type": "stream",
     "text": [
      "Epoch: 28 of 30, 0.001 min\n"
     ]
    },
    {
     "name": "stderr",
     "output_type": "stream",
     "text": [
      "I'm studying hard now🧐, don't disturb!: 100%|██████████| 6/6 [00:00<00:00, 81.55it/s]\n",
      "Let's see how good I am...: 100%|██████████| 1/1 [00:00<00:00, 181.14it/s]\n"
     ]
    },
    {
     "name": "stdout",
     "output_type": "stream",
     "text": [
      "Epoch: 29 of 30, 0.001 min\n"
     ]
    },
    {
     "name": "stderr",
     "output_type": "stream",
     "text": [
      "I'm studying hard now🧐, don't disturb!: 100%|██████████| 6/6 [00:00<00:00, 91.30it/s]\n",
      "Let's see how good I am...: 100%|██████████| 1/1 [00:00<00:00, 122.79it/s]"
     ]
    },
    {
     "name": "stdout",
     "output_type": "stream",
     "text": [
      "Epoch: 30 of 30, 0.001 min\n"
     ]
    },
    {
     "name": "stderr",
     "output_type": "stream",
     "text": [
      "\n"
     ]
    },
    {
     "data": {
      "text/html": [
       "Waiting for W&B process to finish... <strong style=\"color:green\">(success).</strong>"
      ],
      "text/plain": [
       "<IPython.core.display.HTML object>"
      ]
     },
     "metadata": {},
     "output_type": "display_data"
    },
    {
     "data": {
      "text/html": [
       "<style>\n",
       "    table.wandb td:nth-child(1) { padding: 0 10px; text-align: left ; width: auto;} td:nth-child(2) {text-align: left ; width: 100%}\n",
       "    .wandb-row { display: flex; flex-direction: row; flex-wrap: wrap; justify-content: flex-start; width: 100% }\n",
       "    .wandb-col { display: flex; flex-direction: column; flex-basis: 100%; flex: 1; padding: 10px; }\n",
       "    </style>\n",
       "<div class=\"wandb-row\"><div class=\"wandb-col\"><h3>Run history:</h3><br/><table class=\"wandb\"><tr><td>epoch</td><td>▁▁▁▂▂▂▂▃▃▃▃▄▄▄▄▅▅▅▅▆▆▆▆▇▇▇▇███</td></tr><tr><td>lr</td><td>██▇▇▆▆▆▅▅▅▄▄▄▄▃▃▃▃▃▂▂▂▂▂▂▁▁▁▁▁</td></tr><tr><td>test_loss</td><td>█▄▁▁▁▁▁▁▁▁▁▁▁▁▁▁▁▁▁▁▁▁▁▁▁▁▁▁▁▁</td></tr><tr><td>train_loss</td><td>█▃▂▁▁▁▁▁▁▁▁▁▁▁▁▁▁▁▁▁▁▁▁▁▁▁▁▁▁▁</td></tr></table><br/></div><div class=\"wandb-col\"><h3>Run summary:</h3><br/><table class=\"wandb\"><tr><td>epoch</td><td>29</td></tr><tr><td>lr</td><td>0.00215</td></tr><tr><td>test_loss</td><td>1.21232</td></tr><tr><td>train_loss</td><td>1.30736</td></tr></table><br/></div></div>"
      ],
      "text/plain": [
       "<IPython.core.display.HTML object>"
      ]
     },
     "metadata": {},
     "output_type": "display_data"
    },
    {
     "data": {
      "text/html": [
       " View run <strong style=\"color:#cdcd00\">Autoencoder_simple_HidParam-512_Latent-5</strong> at: <a href='https://wandb.ai/dmitrii_fomin_uga/Internship_project/runs/w7kkonf7' target=\"_blank\">https://wandb.ai/dmitrii_fomin_uga/Internship_project/runs/w7kkonf7</a><br/>Synced 5 W&B file(s), 0 media file(s), 0 artifact file(s) and 0 other file(s)"
      ],
      "text/plain": [
       "<IPython.core.display.HTML object>"
      ]
     },
     "metadata": {},
     "output_type": "display_data"
    },
    {
     "data": {
      "text/html": [
       "Find logs at: <code>../logs/wandb\\run-20230529_210756-w7kkonf7\\logs</code>"
      ],
      "text/plain": [
       "<IPython.core.display.HTML object>"
      ]
     },
     "metadata": {},
     "output_type": "display_data"
    },
    {
     "data": {
      "text/html": [
       "Tracking run with wandb version 0.15.3"
      ],
      "text/plain": [
       "<IPython.core.display.HTML object>"
      ]
     },
     "metadata": {},
     "output_type": "display_data"
    },
    {
     "data": {
      "text/html": [
       "Run data is saved locally in <code>../logs/wandb\\run-20230529_210807-l3zqgvoa</code>"
      ],
      "text/plain": [
       "<IPython.core.display.HTML object>"
      ]
     },
     "metadata": {},
     "output_type": "display_data"
    },
    {
     "data": {
      "text/html": [
       "Syncing run <strong><a href='https://wandb.ai/dmitrii_fomin_uga/Internship_project/runs/l3zqgvoa' target=\"_blank\">JMVae_NumLab-50_LatDim-5</a></strong> to <a href='https://wandb.ai/dmitrii_fomin_uga/Internship_project' target=\"_blank\">Weights & Biases</a> (<a href='https://wandb.me/run' target=\"_blank\">docs</a>)<br/>"
      ],
      "text/plain": [
       "<IPython.core.display.HTML object>"
      ]
     },
     "metadata": {},
     "output_type": "display_data"
    },
    {
     "data": {
      "text/html": [
       " View project at <a href='https://wandb.ai/dmitrii_fomin_uga/Internship_project' target=\"_blank\">https://wandb.ai/dmitrii_fomin_uga/Internship_project</a>"
      ],
      "text/plain": [
       "<IPython.core.display.HTML object>"
      ]
     },
     "metadata": {},
     "output_type": "display_data"
    },
    {
     "data": {
      "text/html": [
       " View run at <a href='https://wandb.ai/dmitrii_fomin_uga/Internship_project/runs/l3zqgvoa' target=\"_blank\">https://wandb.ai/dmitrii_fomin_uga/Internship_project/runs/l3zqgvoa</a>"
      ],
      "text/plain": [
       "<IPython.core.display.HTML object>"
      ]
     },
     "metadata": {},
     "output_type": "display_data"
    },
    {
     "name": "stderr",
     "output_type": "stream",
     "text": [
      "I'm studying hard now🧐, don't disturb!: 100%|██████████| 1/1 [00:00<00:00, 62.49it/s]\n",
      "Let's see how good I am...: 100%|██████████| 2/2 [00:00<00:00, 41.66it/s]\n"
     ]
    },
    {
     "name": "stdout",
     "output_type": "stream",
     "text": [
      "Epoch: 1 of 20, 0.001 min\n"
     ]
    },
    {
     "name": "stderr",
     "output_type": "stream",
     "text": [
      "I'm studying hard now🧐, don't disturb!: 100%|██████████| 1/1 [00:00<00:00, 107.16it/s]\n",
      "Let's see how good I am...: 100%|██████████| 2/2 [00:00<00:00, 49.84it/s]\n"
     ]
    },
    {
     "name": "stdout",
     "output_type": "stream",
     "text": [
      "Epoch: 2 of 20, 0.001 min\n"
     ]
    },
    {
     "name": "stderr",
     "output_type": "stream",
     "text": [
      "I'm studying hard now🧐, don't disturb!: 100%|██████████| 1/1 [00:00<00:00, 125.05it/s]\n",
      "Let's see how good I am...: 100%|██████████| 2/2 [00:00<00:00, 48.40it/s]\n"
     ]
    },
    {
     "name": "stdout",
     "output_type": "stream",
     "text": [
      "Epoch: 3 of 20, 0.001 min\n"
     ]
    },
    {
     "name": "stderr",
     "output_type": "stream",
     "text": [
      "I'm studying hard now🧐, don't disturb!: 100%|██████████| 1/1 [00:00<00:00, 172.53it/s]\n",
      "Let's see how good I am...: 100%|██████████| 2/2 [00:00<00:00, 41.66it/s]\n"
     ]
    },
    {
     "name": "stdout",
     "output_type": "stream",
     "text": [
      "Epoch: 4 of 20, 0.001 min\n"
     ]
    },
    {
     "name": "stderr",
     "output_type": "stream",
     "text": [
      "I'm studying hard now🧐, don't disturb!: 100%|██████████| 1/1 [00:00<00:00, 124.84it/s]\n",
      "Let's see how good I am...: 100%|██████████| 2/2 [00:00<00:00, 41.67it/s]\n"
     ]
    },
    {
     "name": "stdout",
     "output_type": "stream",
     "text": [
      "Epoch: 5 of 20, 0.001 min\n"
     ]
    },
    {
     "name": "stderr",
     "output_type": "stream",
     "text": [
      "I'm studying hard now🧐, don't disturb!: 100%|██████████| 1/1 [00:00<00:00, 81.54it/s]\n",
      "Let's see how good I am...: 100%|██████████| 2/2 [00:00<00:00, 41.66it/s]\n"
     ]
    },
    {
     "name": "stdout",
     "output_type": "stream",
     "text": [
      "Epoch: 6 of 20, 0.001 min\n"
     ]
    },
    {
     "name": "stderr",
     "output_type": "stream",
     "text": [
      "I'm studying hard now🧐, don't disturb!: 100%|██████████| 1/1 [00:00<00:00, 125.01it/s]\n",
      "Let's see how good I am...: 100%|██████████| 2/2 [00:00<00:00, 42.99it/s]\n"
     ]
    },
    {
     "name": "stdout",
     "output_type": "stream",
     "text": [
      "Epoch: 7 of 20, 0.001 min\n"
     ]
    },
    {
     "name": "stderr",
     "output_type": "stream",
     "text": [
      "I'm studying hard now🧐, don't disturb!: 100%|██████████| 1/1 [00:00<?, ?it/s]\n",
      "Let's see how good I am...: 100%|██████████| 2/2 [00:00<00:00, 41.67it/s]\n"
     ]
    },
    {
     "name": "stdout",
     "output_type": "stream",
     "text": [
      "Epoch: 8 of 20, 0.001 min\n"
     ]
    },
    {
     "name": "stderr",
     "output_type": "stream",
     "text": [
      "I'm studying hard now🧐, don't disturb!: 100%|██████████| 1/1 [00:00<00:00, 62.49it/s]\n",
      "Let's see how good I am...: 100%|██████████| 2/2 [00:00<00:00, 35.22it/s]\n"
     ]
    },
    {
     "name": "stdout",
     "output_type": "stream",
     "text": [
      "Epoch: 9 of 20, 0.001 min\n"
     ]
    },
    {
     "name": "stderr",
     "output_type": "stream",
     "text": [
      "I'm studying hard now🧐, don't disturb!: 100%|██████████| 1/1 [00:00<00:00, 124.80it/s]\n",
      "Let's see how good I am...: 100%|██████████| 2/2 [00:00<00:00, 35.71it/s]\n"
     ]
    },
    {
     "name": "stdout",
     "output_type": "stream",
     "text": [
      "Epoch: 10 of 20, 0.001 min\n"
     ]
    },
    {
     "name": "stderr",
     "output_type": "stream",
     "text": [
      "I'm studying hard now🧐, don't disturb!: 100%|██████████| 1/1 [00:00<00:00, 124.98it/s]\n",
      "Let's see how good I am...: 100%|██████████| 2/2 [00:00<00:00, 35.93it/s]\n"
     ]
    },
    {
     "name": "stdout",
     "output_type": "stream",
     "text": [
      "Epoch: 11 of 20, 0.001 min\n"
     ]
    },
    {
     "name": "stderr",
     "output_type": "stream",
     "text": [
      "I'm studying hard now🧐, don't disturb!: 100%|██████████| 1/1 [00:00<00:00, 125.02it/s]\n",
      "Let's see how good I am...: 100%|██████████| 2/2 [00:00<00:00, 22.48it/s]\n"
     ]
    },
    {
     "name": "stdout",
     "output_type": "stream",
     "text": [
      "Epoch: 12 of 20, 0.002 min\n"
     ]
    },
    {
     "name": "stderr",
     "output_type": "stream",
     "text": [
      "I'm studying hard now🧐, don't disturb!: 100%|██████████| 1/1 [00:00<00:00, 60.74it/s]\n",
      "Let's see how good I am...: 100%|██████████| 2/2 [00:00<00:00, 34.05it/s]\n"
     ]
    },
    {
     "name": "stdout",
     "output_type": "stream",
     "text": [
      "Epoch: 13 of 20, 0.001 min\n"
     ]
    },
    {
     "name": "stderr",
     "output_type": "stream",
     "text": [
      "I'm studying hard now🧐, don't disturb!: 100%|██████████| 1/1 [00:00<00:00, 122.45it/s]\n",
      "Let's see how good I am...: 100%|██████████| 2/2 [00:00<00:00, 41.03it/s]\n"
     ]
    },
    {
     "name": "stdout",
     "output_type": "stream",
     "text": [
      "Epoch: 14 of 20, 0.001 min\n"
     ]
    },
    {
     "name": "stderr",
     "output_type": "stream",
     "text": [
      "I'm studying hard now🧐, don't disturb!: 100%|██████████| 1/1 [00:00<00:00, 118.82it/s]\n",
      "Let's see how good I am...: 100%|██████████| 2/2 [00:00<00:00, 49.11it/s]\n"
     ]
    },
    {
     "name": "stdout",
     "output_type": "stream",
     "text": [
      "Epoch: 15 of 20, 0.001 min\n"
     ]
    },
    {
     "name": "stderr",
     "output_type": "stream",
     "text": [
      "I'm studying hard now🧐, don't disturb!: 100%|██████████| 1/1 [00:00<00:00, 94.90it/s]\n",
      "Let's see how good I am...: 100%|██████████| 2/2 [00:00<00:00, 41.66it/s]\n"
     ]
    },
    {
     "name": "stdout",
     "output_type": "stream",
     "text": [
      "Epoch: 16 of 20, 0.001 min\n"
     ]
    },
    {
     "name": "stderr",
     "output_type": "stream",
     "text": [
      "I'm studying hard now🧐, don't disturb!: 100%|██████████| 1/1 [00:00<00:00, 124.96it/s]\n",
      "Let's see how good I am...: 100%|██████████| 2/2 [00:00<00:00, 37.01it/s]\n"
     ]
    },
    {
     "name": "stdout",
     "output_type": "stream",
     "text": [
      "Epoch: 17 of 20, 0.001 min\n"
     ]
    },
    {
     "name": "stderr",
     "output_type": "stream",
     "text": [
      "I'm studying hard now🧐, don't disturb!: 100%|██████████| 1/1 [00:00<00:00, 124.87it/s]\n",
      "Let's see how good I am...: 100%|██████████| 2/2 [00:00<00:00, 41.55it/s]\n"
     ]
    },
    {
     "name": "stdout",
     "output_type": "stream",
     "text": [
      "Epoch: 18 of 20, 0.001 min\n"
     ]
    },
    {
     "name": "stderr",
     "output_type": "stream",
     "text": [
      "I'm studying hard now🧐, don't disturb!: 100%|██████████| 1/1 [00:00<00:00, 153.60it/s]\n",
      "Let's see how good I am...: 100%|██████████| 2/2 [00:00<00:00, 40.61it/s]\n"
     ]
    },
    {
     "name": "stdout",
     "output_type": "stream",
     "text": [
      "Epoch: 19 of 20, 0.001 min\n"
     ]
    },
    {
     "name": "stderr",
     "output_type": "stream",
     "text": [
      "I'm studying hard now🧐, don't disturb!: 100%|██████████| 1/1 [00:00<00:00, 121.97it/s]\n",
      "Let's see how good I am...: 100%|██████████| 2/2 [00:00<00:00, 49.94it/s]"
     ]
    },
    {
     "name": "stdout",
     "output_type": "stream",
     "text": [
      "Epoch: 20 of 20, 0.001 min\n"
     ]
    },
    {
     "name": "stderr",
     "output_type": "stream",
     "text": [
      "\n"
     ]
    },
    {
     "data": {
      "text/html": [
       "Waiting for W&B process to finish... <strong style=\"color:green\">(success).</strong>"
      ],
      "text/plain": [
       "<IPython.core.display.HTML object>"
      ]
     },
     "metadata": {},
     "output_type": "display_data"
    },
    {
     "data": {
      "text/html": [
       "<style>\n",
       "    table.wandb td:nth-child(1) { padding: 0 10px; text-align: left ; width: auto;} td:nth-child(2) {text-align: left ; width: 100%}\n",
       "    .wandb-row { display: flex; flex-direction: row; flex-wrap: wrap; justify-content: flex-start; width: 100% }\n",
       "    .wandb-col { display: flex; flex-direction: column; flex-basis: 100%; flex: 1; padding: 10px; }\n",
       "    </style>\n",
       "<div class=\"wandb-row\"><div class=\"wandb-col\"><h3>Run history:</h3><br/><table class=\"wandb\"><tr><td>epoch</td><td>▁▁▂▂▂▃▃▄▄▄▅▅▅▆▆▇▇▇██</td></tr><tr><td>lr</td><td>█▇▇▆▆▅▅▅▄▄▃▃▃▃▂▂▂▁▁▁</td></tr><tr><td>test_accuracy</td><td>▅▄█▆▆▆▄▄▄▆▇▅█▃▆▁▆█▄▆</td></tr><tr><td>test_auc_score</td><td>▁▂▃▂▃▄▄▄▄▅▆▆▆▆▆█▇▇▇▇</td></tr><tr><td>test_f1_score</td><td>▆▅█▆▆▇▅▄▅▆▇▆█▃▇▁▆█▅▆</td></tr><tr><td>test_fpr</td><td>▁▁▁▁▁▁▁▁▁▁▁▁▁▁▁▁▁▁▁▁</td></tr><tr><td>test_loss</td><td>█▅▃▂▂▂▁▁▁▁▁▁▁▁▁▁▁▁▁▁</td></tr><tr><td>test_tpr</td><td>▁▁▁▁▁▁▁▁▁▁▁▁▁▁▁▁▁▁▁▁</td></tr><tr><td>train_accuracy</td><td>▁▆█▇▇▇▇█████████████</td></tr><tr><td>train_auc_score</td><td>▁▁▁▁▁▁▁▁▁▁▁▁▁▁▁▁▁▁▁▁</td></tr><tr><td>train_f1_score</td><td>▁▄█▁▁▁▁▆▆▆██████████</td></tr><tr><td>train_fpr</td><td>█▃▁▁▁▁▁▁▁▁▁▁▁▁▁▁▁▁▁▁</td></tr><tr><td>train_loss</td><td>█▄▂▂▂▂▂▁▁▁▁▁▁▁▁▁▁▁▁▁</td></tr><tr><td>train_tpr</td><td>███▁▁▁▁▅▅▅██████████</td></tr></table><br/></div><div class=\"wandb-col\"><h3>Run summary:</h3><br/><table class=\"wandb\"><tr><td>epoch</td><td>19</td></tr><tr><td>lr</td><td>0.00358</td></tr><tr><td>test_accuracy</td><td>0.96605</td></tr><tr><td>test_auc_score</td><td>0.5796</td></tr><tr><td>test_f1_score</td><td>0.49137</td></tr><tr><td>test_fpr</td><td>0.0</td></tr><tr><td>test_loss</td><td>0.02516</td></tr><tr><td>test_tpr</td><td>0.0</td></tr><tr><td>train_accuracy</td><td>1.0</td></tr><tr><td>train_auc_score</td><td>1.0</td></tr><tr><td>train_f1_score</td><td>1.0</td></tr><tr><td>train_fpr</td><td>0.0</td></tr><tr><td>train_loss</td><td>0.00141</td></tr><tr><td>train_tpr</td><td>1.0</td></tr></table><br/></div></div>"
      ],
      "text/plain": [
       "<IPython.core.display.HTML object>"
      ]
     },
     "metadata": {},
     "output_type": "display_data"
    },
    {
     "data": {
      "text/html": [
       " View run <strong style=\"color:#cdcd00\">JMVae_NumLab-50_LatDim-5</strong> at: <a href='https://wandb.ai/dmitrii_fomin_uga/Internship_project/runs/l3zqgvoa' target=\"_blank\">https://wandb.ai/dmitrii_fomin_uga/Internship_project/runs/l3zqgvoa</a><br/>Synced 5 W&B file(s), 0 media file(s), 0 artifact file(s) and 0 other file(s)"
      ],
      "text/plain": [
       "<IPython.core.display.HTML object>"
      ]
     },
     "metadata": {},
     "output_type": "display_data"
    },
    {
     "data": {
      "text/html": [
       "Find logs at: <code>../logs/wandb\\run-20230529_210807-l3zqgvoa\\logs</code>"
      ],
      "text/plain": [
       "<IPython.core.display.HTML object>"
      ]
     },
     "metadata": {},
     "output_type": "display_data"
    },
    {
     "data": {
      "text/html": [
       "Tracking run with wandb version 0.15.3"
      ],
      "text/plain": [
       "<IPython.core.display.HTML object>"
      ]
     },
     "metadata": {},
     "output_type": "display_data"
    },
    {
     "data": {
      "text/html": [
       "Run data is saved locally in <code>../logs/wandb\\run-20230529_210816-a15px6wu</code>"
      ],
      "text/plain": [
       "<IPython.core.display.HTML object>"
      ]
     },
     "metadata": {},
     "output_type": "display_data"
    },
    {
     "data": {
      "text/html": [
       "Syncing run <strong><a href='https://wandb.ai/dmitrii_fomin_uga/Internship_project/runs/a15px6wu' target=\"_blank\">Autoencoder_simple_HidParam-512_Latent-5</a></strong> to <a href='https://wandb.ai/dmitrii_fomin_uga/Internship_project' target=\"_blank\">Weights & Biases</a> (<a href='https://wandb.me/run' target=\"_blank\">docs</a>)<br/>"
      ],
      "text/plain": [
       "<IPython.core.display.HTML object>"
      ]
     },
     "metadata": {},
     "output_type": "display_data"
    },
    {
     "data": {
      "text/html": [
       " View project at <a href='https://wandb.ai/dmitrii_fomin_uga/Internship_project' target=\"_blank\">https://wandb.ai/dmitrii_fomin_uga/Internship_project</a>"
      ],
      "text/plain": [
       "<IPython.core.display.HTML object>"
      ]
     },
     "metadata": {},
     "output_type": "display_data"
    },
    {
     "data": {
      "text/html": [
       " View run at <a href='https://wandb.ai/dmitrii_fomin_uga/Internship_project/runs/a15px6wu' target=\"_blank\">https://wandb.ai/dmitrii_fomin_uga/Internship_project/runs/a15px6wu</a>"
      ],
      "text/plain": [
       "<IPython.core.display.HTML object>"
      ]
     },
     "metadata": {},
     "output_type": "display_data"
    },
    {
     "name": "stderr",
     "output_type": "stream",
     "text": [
      "I'm studying hard now🧐, don't disturb!: 100%|██████████| 6/6 [00:00<00:00, 75.07it/s]\n",
      "Let's see how good I am...: 100%|██████████| 1/1 [00:00<00:00, 78.44it/s]\n"
     ]
    },
    {
     "name": "stdout",
     "output_type": "stream",
     "text": [
      "Epoch: 1 of 30, 0.002 min\n"
     ]
    },
    {
     "name": "stderr",
     "output_type": "stream",
     "text": [
      "I'm studying hard now🧐, don't disturb!: 100%|██████████| 6/6 [00:00<00:00, 77.55it/s]\n",
      "Let's see how good I am...: 100%|██████████| 1/1 [00:00<00:00, 167.77it/s]\n"
     ]
    },
    {
     "name": "stdout",
     "output_type": "stream",
     "text": [
      "Epoch: 2 of 30, 0.001 min\n"
     ]
    },
    {
     "name": "stderr",
     "output_type": "stream",
     "text": [
      "I'm studying hard now🧐, don't disturb!: 100%|██████████| 6/6 [00:00<00:00, 82.86it/s]\n",
      "Let's see how good I am...: 100%|██████████| 1/1 [00:00<00:00, 124.91it/s]\n"
     ]
    },
    {
     "name": "stdout",
     "output_type": "stream",
     "text": [
      "Epoch: 3 of 30, 0.001 min\n"
     ]
    },
    {
     "name": "stderr",
     "output_type": "stream",
     "text": [
      "I'm studying hard now🧐, don't disturb!: 100%|██████████| 6/6 [00:00<00:00, 82.63it/s]\n",
      "Let's see how good I am...: 100%|██████████| 1/1 [00:00<00:00, 88.21it/s]\n"
     ]
    },
    {
     "name": "stdout",
     "output_type": "stream",
     "text": [
      "Epoch: 4 of 30, 0.001 min\n"
     ]
    },
    {
     "name": "stderr",
     "output_type": "stream",
     "text": [
      "I'm studying hard now🧐, don't disturb!: 100%|██████████| 6/6 [00:00<00:00, 93.74it/s]\n",
      "Let's see how good I am...: 100%|██████████| 1/1 [00:00<?, ?it/s]\n"
     ]
    },
    {
     "name": "stdout",
     "output_type": "stream",
     "text": [
      "Epoch: 5 of 30, 0.001 min\n"
     ]
    },
    {
     "name": "stderr",
     "output_type": "stream",
     "text": [
      "I'm studying hard now🧐, don't disturb!: 100%|██████████| 6/6 [00:00<00:00, 93.71it/s]\n",
      "Let's see how good I am...: 100%|██████████| 1/1 [00:00<00:00, 126.73it/s]\n"
     ]
    },
    {
     "name": "stdout",
     "output_type": "stream",
     "text": [
      "Epoch: 6 of 30, 0.001 min\n"
     ]
    },
    {
     "name": "stderr",
     "output_type": "stream",
     "text": [
      "I'm studying hard now🧐, don't disturb!: 100%|██████████| 6/6 [00:00<00:00, 82.59it/s]\n",
      "Let's see how good I am...: 100%|██████████| 1/1 [00:00<00:00, 123.34it/s]\n"
     ]
    },
    {
     "name": "stdout",
     "output_type": "stream",
     "text": [
      "Epoch: 7 of 30, 0.001 min\n"
     ]
    },
    {
     "name": "stderr",
     "output_type": "stream",
     "text": [
      "I'm studying hard now🧐, don't disturb!: 100%|██████████| 6/6 [00:00<00:00, 81.87it/s]\n",
      "Let's see how good I am...: 100%|██████████| 1/1 [00:00<00:00, 124.86it/s]\n"
     ]
    },
    {
     "name": "stdout",
     "output_type": "stream",
     "text": [
      "Epoch: 8 of 30, 0.001 min\n"
     ]
    },
    {
     "name": "stderr",
     "output_type": "stream",
     "text": [
      "I'm studying hard now🧐, don't disturb!: 100%|██████████| 6/6 [00:00<00:00, 92.76it/s]\n",
      "Let's see how good I am...: 100%|██████████| 1/1 [00:00<00:00, 112.06it/s]\n"
     ]
    },
    {
     "name": "stdout",
     "output_type": "stream",
     "text": [
      "Epoch: 9 of 30, 0.001 min\n"
     ]
    },
    {
     "name": "stderr",
     "output_type": "stream",
     "text": [
      "I'm studying hard now🧐, don't disturb!: 100%|██████████| 6/6 [00:00<00:00, 91.05it/s]\n",
      "Let's see how good I am...: 100%|██████████| 1/1 [00:00<00:00, 118.26it/s]\n"
     ]
    },
    {
     "name": "stdout",
     "output_type": "stream",
     "text": [
      "Epoch: 10 of 30, 0.001 min\n"
     ]
    },
    {
     "name": "stderr",
     "output_type": "stream",
     "text": [
      "I'm studying hard now🧐, don't disturb!: 100%|██████████| 6/6 [00:00<00:00, 53.34it/s]\n",
      "Let's see how good I am...: 100%|██████████| 1/1 [00:00<00:00, 82.29it/s]\n"
     ]
    },
    {
     "name": "stdout",
     "output_type": "stream",
     "text": [
      "Epoch: 11 of 30, 0.002 min\n"
     ]
    },
    {
     "name": "stderr",
     "output_type": "stream",
     "text": [
      "I'm studying hard now🧐, don't disturb!: 100%|██████████| 6/6 [00:00<00:00, 87.70it/s]\n",
      "Let's see how good I am...: 100%|██████████| 1/1 [00:00<00:00, 158.30it/s]\n"
     ]
    },
    {
     "name": "stdout",
     "output_type": "stream",
     "text": [
      "Epoch: 12 of 30, 0.001 min\n"
     ]
    },
    {
     "name": "stderr",
     "output_type": "stream",
     "text": [
      "I'm studying hard now🧐, don't disturb!: 100%|██████████| 6/6 [00:00<00:00, 93.66it/s]\n",
      "Let's see how good I am...: 100%|██████████| 1/1 [00:00<00:00, 122.06it/s]\n"
     ]
    },
    {
     "name": "stdout",
     "output_type": "stream",
     "text": [
      "Epoch: 13 of 30, 0.001 min\n"
     ]
    },
    {
     "name": "stderr",
     "output_type": "stream",
     "text": [
      "I'm studying hard now🧐, don't disturb!: 100%|██████████| 6/6 [00:00<00:00, 93.73it/s]\n",
      "Let's see how good I am...: 100%|██████████| 1/1 [00:00<00:00, 182.11it/s]\n"
     ]
    },
    {
     "name": "stdout",
     "output_type": "stream",
     "text": [
      "Epoch: 14 of 30, 0.001 min\n"
     ]
    },
    {
     "name": "stderr",
     "output_type": "stream",
     "text": [
      "I'm studying hard now🧐, don't disturb!: 100%|██████████| 6/6 [00:00<00:00, 92.20it/s]\n",
      "Let's see how good I am...: 100%|██████████| 1/1 [00:00<00:00, 98.29it/s]\n"
     ]
    },
    {
     "name": "stdout",
     "output_type": "stream",
     "text": [
      "Epoch: 15 of 30, 0.001 min\n"
     ]
    },
    {
     "name": "stderr",
     "output_type": "stream",
     "text": [
      "I'm studying hard now🧐, don't disturb!: 100%|██████████| 6/6 [00:00<00:00, 94.27it/s]\n",
      "Let's see how good I am...: 100%|██████████| 1/1 [00:00<?, ?it/s]\n"
     ]
    },
    {
     "name": "stdout",
     "output_type": "stream",
     "text": [
      "Epoch: 16 of 30, 0.001 min\n"
     ]
    },
    {
     "name": "stderr",
     "output_type": "stream",
     "text": [
      "I'm studying hard now🧐, don't disturb!: 100%|██████████| 6/6 [00:00<00:00, 92.09it/s]\n",
      "Let's see how good I am...: 100%|██████████| 1/1 [00:00<?, ?it/s]\n"
     ]
    },
    {
     "name": "stdout",
     "output_type": "stream",
     "text": [
      "Epoch: 17 of 30, 0.001 min\n"
     ]
    },
    {
     "name": "stderr",
     "output_type": "stream",
     "text": [
      "I'm studying hard now🧐, don't disturb!: 100%|██████████| 6/6 [00:00<00:00, 91.75it/s]\n",
      "Let's see how good I am...: 100%|██████████| 1/1 [00:00<00:00, 121.39it/s]\n"
     ]
    },
    {
     "name": "stdout",
     "output_type": "stream",
     "text": [
      "Epoch: 18 of 30, 0.001 min\n"
     ]
    },
    {
     "name": "stderr",
     "output_type": "stream",
     "text": [
      "I'm studying hard now🧐, don't disturb!: 100%|██████████| 6/6 [00:00<00:00, 81.75it/s]\n",
      "Let's see how good I am...: 100%|██████████| 1/1 [00:00<00:00, 106.17it/s]\n"
     ]
    },
    {
     "name": "stdout",
     "output_type": "stream",
     "text": [
      "Epoch: 19 of 30, 0.001 min\n"
     ]
    },
    {
     "name": "stderr",
     "output_type": "stream",
     "text": [
      "I'm studying hard now🧐, don't disturb!: 100%|██████████| 6/6 [00:00<00:00, 84.49it/s]\n",
      "Let's see how good I am...: 100%|██████████| 1/1 [00:00<00:00, 124.81it/s]\n"
     ]
    },
    {
     "name": "stdout",
     "output_type": "stream",
     "text": [
      "Epoch: 20 of 30, 0.001 min\n"
     ]
    },
    {
     "name": "stderr",
     "output_type": "stream",
     "text": [
      "I'm studying hard now🧐, don't disturb!: 100%|██████████| 6/6 [00:00<00:00, 83.19it/s]\n",
      "Let's see how good I am...: 100%|██████████| 1/1 [00:00<00:00, 125.02it/s]\n"
     ]
    },
    {
     "name": "stdout",
     "output_type": "stream",
     "text": [
      "Epoch: 21 of 30, 0.001 min\n"
     ]
    },
    {
     "name": "stderr",
     "output_type": "stream",
     "text": [
      "I'm studying hard now🧐, don't disturb!: 100%|██████████| 6/6 [00:00<00:00, 82.78it/s]\n",
      "Let's see how good I am...: 100%|██████████| 1/1 [00:00<00:00, 121.68it/s]\n"
     ]
    },
    {
     "name": "stdout",
     "output_type": "stream",
     "text": [
      "Epoch: 22 of 30, 0.001 min\n"
     ]
    },
    {
     "name": "stderr",
     "output_type": "stream",
     "text": [
      "I'm studying hard now🧐, don't disturb!: 100%|██████████| 6/6 [00:00<00:00, 47.15it/s]\n",
      "Let's see how good I am...: 100%|██████████| 1/1 [00:00<?, ?it/s]\n"
     ]
    },
    {
     "name": "stdout",
     "output_type": "stream",
     "text": [
      "Epoch: 23 of 30, 0.002 min\n"
     ]
    },
    {
     "name": "stderr",
     "output_type": "stream",
     "text": [
      "I'm studying hard now🧐, don't disturb!: 100%|██████████| 6/6 [00:00<00:00, 96.98it/s]\n",
      "Let's see how good I am...: 100%|██████████| 1/1 [00:00<?, ?it/s]\n"
     ]
    },
    {
     "name": "stdout",
     "output_type": "stream",
     "text": [
      "Epoch: 24 of 30, 0.001 min\n"
     ]
    },
    {
     "name": "stderr",
     "output_type": "stream",
     "text": [
      "I'm studying hard now🧐, don't disturb!: 100%|██████████| 6/6 [00:00<00:00, 83.01it/s]\n",
      "Let's see how good I am...: 100%|██████████| 1/1 [00:00<00:00, 121.66it/s]\n"
     ]
    },
    {
     "name": "stdout",
     "output_type": "stream",
     "text": [
      "Epoch: 25 of 30, 0.001 min\n"
     ]
    },
    {
     "name": "stderr",
     "output_type": "stream",
     "text": [
      "I'm studying hard now🧐, don't disturb!: 100%|██████████| 6/6 [00:00<00:00, 82.65it/s]\n",
      "Let's see how good I am...: 100%|██████████| 1/1 [00:00<00:00, 124.76it/s]\n"
     ]
    },
    {
     "name": "stdout",
     "output_type": "stream",
     "text": [
      "Epoch: 26 of 30, 0.001 min\n"
     ]
    },
    {
     "name": "stderr",
     "output_type": "stream",
     "text": [
      "I'm studying hard now🧐, don't disturb!: 100%|██████████| 6/6 [00:00<00:00, 101.21it/s]\n",
      "Let's see how good I am...: 100%|██████████| 1/1 [00:00<?, ?it/s]\n"
     ]
    },
    {
     "name": "stdout",
     "output_type": "stream",
     "text": [
      "Epoch: 27 of 30, 0.001 min\n"
     ]
    },
    {
     "name": "stderr",
     "output_type": "stream",
     "text": [
      "I'm studying hard now🧐, don't disturb!: 100%|██████████| 6/6 [00:00<00:00, 91.33it/s]\n",
      "Let's see how good I am...: 100%|██████████| 1/1 [00:00<00:00, 651.29it/s]\n"
     ]
    },
    {
     "name": "stdout",
     "output_type": "stream",
     "text": [
      "Epoch: 28 of 30, 0.001 min\n"
     ]
    },
    {
     "name": "stderr",
     "output_type": "stream",
     "text": [
      "I'm studying hard now🧐, don't disturb!: 100%|██████████| 6/6 [00:00<00:00, 83.66it/s]\n",
      "Let's see how good I am...: 100%|██████████| 1/1 [00:00<00:00, 126.21it/s]\n"
     ]
    },
    {
     "name": "stdout",
     "output_type": "stream",
     "text": [
      "Epoch: 29 of 30, 0.001 min\n"
     ]
    },
    {
     "name": "stderr",
     "output_type": "stream",
     "text": [
      "I'm studying hard now🧐, don't disturb!: 100%|██████████| 6/6 [00:00<00:00, 39.12it/s]\n",
      "Let's see how good I am...: 100%|██████████| 1/1 [00:00<00:00, 120.60it/s]\n"
     ]
    },
    {
     "name": "stdout",
     "output_type": "stream",
     "text": [
      "Epoch: 30 of 30, 0.003 min\n"
     ]
    },
    {
     "data": {
      "text/html": [
       "Waiting for W&B process to finish... <strong style=\"color:green\">(success).</strong>"
      ],
      "text/plain": [
       "<IPython.core.display.HTML object>"
      ]
     },
     "metadata": {},
     "output_type": "display_data"
    },
    {
     "data": {
      "text/html": [
       "<style>\n",
       "    table.wandb td:nth-child(1) { padding: 0 10px; text-align: left ; width: auto;} td:nth-child(2) {text-align: left ; width: 100%}\n",
       "    .wandb-row { display: flex; flex-direction: row; flex-wrap: wrap; justify-content: flex-start; width: 100% }\n",
       "    .wandb-col { display: flex; flex-direction: column; flex-basis: 100%; flex: 1; padding: 10px; }\n",
       "    </style>\n",
       "<div class=\"wandb-row\"><div class=\"wandb-col\"><h3>Run history:</h3><br/><table class=\"wandb\"><tr><td>epoch</td><td>▁▁▁▂▂▂▂▃▃▃▃▄▄▄▄▅▅▅▅▆▆▆▆▇▇▇▇███</td></tr><tr><td>lr</td><td>██▇▇▆▆▆▅▅▅▄▄▄▄▃▃▃▃▃▂▂▂▂▂▂▁▁▁▁▁</td></tr><tr><td>test_loss</td><td>█▄▂▁▁▁▁▁▁▁▁▁▁▁▁▁▁▁▁▁▁▁▁▁▁▁▁▁▁▁</td></tr><tr><td>train_loss</td><td>█▃▂▁▁▁▁▁▁▁▁▁▁▁▁▁▁▁▁▁▁▁▁▁▁▁▁▁▁▁</td></tr></table><br/></div><div class=\"wandb-col\"><h3>Run summary:</h3><br/><table class=\"wandb\"><tr><td>epoch</td><td>29</td></tr><tr><td>lr</td><td>0.00215</td></tr><tr><td>test_loss</td><td>1.17525</td></tr><tr><td>train_loss</td><td>1.25565</td></tr></table><br/></div></div>"
      ],
      "text/plain": [
       "<IPython.core.display.HTML object>"
      ]
     },
     "metadata": {},
     "output_type": "display_data"
    },
    {
     "data": {
      "text/html": [
       " View run <strong style=\"color:#cdcd00\">Autoencoder_simple_HidParam-512_Latent-5</strong> at: <a href='https://wandb.ai/dmitrii_fomin_uga/Internship_project/runs/a15px6wu' target=\"_blank\">https://wandb.ai/dmitrii_fomin_uga/Internship_project/runs/a15px6wu</a><br/>Synced 5 W&B file(s), 0 media file(s), 0 artifact file(s) and 0 other file(s)"
      ],
      "text/plain": [
       "<IPython.core.display.HTML object>"
      ]
     },
     "metadata": {},
     "output_type": "display_data"
    },
    {
     "data": {
      "text/html": [
       "Find logs at: <code>../logs/wandb\\run-20230529_210816-a15px6wu\\logs</code>"
      ],
      "text/plain": [
       "<IPython.core.display.HTML object>"
      ]
     },
     "metadata": {},
     "output_type": "display_data"
    },
    {
     "data": {
      "text/html": [
       "Tracking run with wandb version 0.15.3"
      ],
      "text/plain": [
       "<IPython.core.display.HTML object>"
      ]
     },
     "metadata": {},
     "output_type": "display_data"
    },
    {
     "data": {
      "text/html": [
       "Run data is saved locally in <code>../logs/wandb\\run-20230529_210827-nfxn19xj</code>"
      ],
      "text/plain": [
       "<IPython.core.display.HTML object>"
      ]
     },
     "metadata": {},
     "output_type": "display_data"
    },
    {
     "data": {
      "text/html": [
       "Syncing run <strong><a href='https://wandb.ai/dmitrii_fomin_uga/Internship_project/runs/nfxn19xj' target=\"_blank\">JMVae_NumLab-100_LatDim-5</a></strong> to <a href='https://wandb.ai/dmitrii_fomin_uga/Internship_project' target=\"_blank\">Weights & Biases</a> (<a href='https://wandb.me/run' target=\"_blank\">docs</a>)<br/>"
      ],
      "text/plain": [
       "<IPython.core.display.HTML object>"
      ]
     },
     "metadata": {},
     "output_type": "display_data"
    },
    {
     "data": {
      "text/html": [
       " View project at <a href='https://wandb.ai/dmitrii_fomin_uga/Internship_project' target=\"_blank\">https://wandb.ai/dmitrii_fomin_uga/Internship_project</a>"
      ],
      "text/plain": [
       "<IPython.core.display.HTML object>"
      ]
     },
     "metadata": {},
     "output_type": "display_data"
    },
    {
     "data": {
      "text/html": [
       " View run at <a href='https://wandb.ai/dmitrii_fomin_uga/Internship_project/runs/nfxn19xj' target=\"_blank\">https://wandb.ai/dmitrii_fomin_uga/Internship_project/runs/nfxn19xj</a>"
      ],
      "text/plain": [
       "<IPython.core.display.HTML object>"
      ]
     },
     "metadata": {},
     "output_type": "display_data"
    },
    {
     "name": "stderr",
     "output_type": "stream",
     "text": [
      "I'm studying hard now🧐, don't disturb!: 100%|██████████| 1/1 [00:00<00:00, 61.14it/s]\n",
      "Let's see how good I am...: 100%|██████████| 2/2 [00:00<00:00, 40.45it/s]\n"
     ]
    },
    {
     "name": "stdout",
     "output_type": "stream",
     "text": [
      "Epoch: 1 of 20, 0.001 min\n"
     ]
    },
    {
     "name": "stderr",
     "output_type": "stream",
     "text": [
      "I'm studying hard now🧐, don't disturb!: 100%|██████████| 1/1 [00:00<00:00, 80.43it/s]\n",
      "Let's see how good I am...: 100%|██████████| 2/2 [00:00<00:00, 49.29it/s]\n"
     ]
    },
    {
     "name": "stdout",
     "output_type": "stream",
     "text": [
      "Epoch: 2 of 20, 0.001 min\n"
     ]
    },
    {
     "name": "stderr",
     "output_type": "stream",
     "text": [
      "I'm studying hard now🧐, don't disturb!: 100%|██████████| 1/1 [00:00<00:00, 59.98it/s]\n",
      "Let's see how good I am...: 100%|██████████| 2/2 [00:00<00:00, 34.81it/s]\n"
     ]
    },
    {
     "name": "stdout",
     "output_type": "stream",
     "text": [
      "Epoch: 3 of 20, 0.001 min\n"
     ]
    },
    {
     "name": "stderr",
     "output_type": "stream",
     "text": [
      "I'm studying hard now🧐, don't disturb!: 100%|██████████| 1/1 [00:00<00:00, 120.42it/s]\n",
      "Let's see how good I am...: 100%|██████████| 2/2 [00:00<00:00, 49.24it/s]\n"
     ]
    },
    {
     "name": "stdout",
     "output_type": "stream",
     "text": [
      "Epoch: 4 of 20, 0.001 min\n"
     ]
    },
    {
     "name": "stderr",
     "output_type": "stream",
     "text": [
      "I'm studying hard now🧐, don't disturb!: 100%|██████████| 1/1 [00:00<00:00, 117.94it/s]\n",
      "Let's see how good I am...: 100%|██████████| 2/2 [00:00<00:00, 60.18it/s]\n"
     ]
    },
    {
     "name": "stdout",
     "output_type": "stream",
     "text": [
      "Epoch: 5 of 20, 0.001 min\n"
     ]
    },
    {
     "name": "stderr",
     "output_type": "stream",
     "text": [
      "I'm studying hard now🧐, don't disturb!: 100%|██████████| 1/1 [00:00<00:00, 119.14it/s]\n",
      "Let's see how good I am...: 100%|██████████| 2/2 [00:00<00:00, 40.40it/s]\n"
     ]
    },
    {
     "name": "stdout",
     "output_type": "stream",
     "text": [
      "Epoch: 6 of 20, 0.001 min\n"
     ]
    },
    {
     "name": "stderr",
     "output_type": "stream",
     "text": [
      "I'm studying hard now🧐, don't disturb!: 100%|██████████| 1/1 [00:00<00:00, 60.66it/s]\n",
      "Let's see how good I am...: 100%|██████████| 2/2 [00:00<00:00, 23.48it/s]\n"
     ]
    },
    {
     "name": "stdout",
     "output_type": "stream",
     "text": [
      "Epoch: 7 of 20, 0.002 min\n"
     ]
    },
    {
     "name": "stderr",
     "output_type": "stream",
     "text": [
      "I'm studying hard now🧐, don't disturb!: 100%|██████████| 1/1 [00:00<00:00, 60.61it/s]\n",
      "Let's see how good I am...: 100%|██████████| 2/2 [00:00<00:00, 41.09it/s]\n"
     ]
    },
    {
     "name": "stdout",
     "output_type": "stream",
     "text": [
      "Epoch: 8 of 20, 0.001 min\n"
     ]
    },
    {
     "name": "stderr",
     "output_type": "stream",
     "text": [
      "I'm studying hard now🧐, don't disturb!: 100%|██████████| 1/1 [00:00<00:00, 61.59it/s]\n",
      "Let's see how good I am...: 100%|██████████| 2/2 [00:00<00:00, 41.71it/s]\n"
     ]
    },
    {
     "name": "stdout",
     "output_type": "stream",
     "text": [
      "Epoch: 9 of 20, 0.001 min\n"
     ]
    },
    {
     "name": "stderr",
     "output_type": "stream",
     "text": [
      "I'm studying hard now🧐, don't disturb!: 100%|██████████| 1/1 [00:00<00:00, 118.01it/s]\n",
      "Let's see how good I am...: 100%|██████████| 2/2 [00:00<00:00, 48.71it/s]\n"
     ]
    },
    {
     "name": "stdout",
     "output_type": "stream",
     "text": [
      "Epoch: 10 of 20, 0.001 min\n"
     ]
    },
    {
     "name": "stderr",
     "output_type": "stream",
     "text": [
      "I'm studying hard now🧐, don't disturb!: 100%|██████████| 1/1 [00:00<00:00, 118.54it/s]\n",
      "Let's see how good I am...: 100%|██████████| 2/2 [00:00<00:00, 35.46it/s]\n"
     ]
    },
    {
     "name": "stdout",
     "output_type": "stream",
     "text": [
      "Epoch: 11 of 20, 0.001 min\n"
     ]
    },
    {
     "name": "stderr",
     "output_type": "stream",
     "text": [
      "I'm studying hard now🧐, don't disturb!: 100%|██████████| 1/1 [00:00<00:00, 124.04it/s]\n",
      "Let's see how good I am...: 100%|██████████| 2/2 [00:00<00:00, 34.93it/s]\n"
     ]
    },
    {
     "name": "stdout",
     "output_type": "stream",
     "text": [
      "Epoch: 12 of 20, 0.001 min\n"
     ]
    },
    {
     "name": "stderr",
     "output_type": "stream",
     "text": [
      "I'm studying hard now🧐, don't disturb!: 100%|██████████| 1/1 [00:00<00:00, 61.81it/s]\n",
      "Let's see how good I am...: 100%|██████████| 2/2 [00:00<00:00, 41.10it/s]\n"
     ]
    },
    {
     "name": "stdout",
     "output_type": "stream",
     "text": [
      "Epoch: 13 of 20, 0.001 min\n"
     ]
    },
    {
     "name": "stderr",
     "output_type": "stream",
     "text": [
      "I'm studying hard now🧐, don't disturb!: 100%|██████████| 1/1 [00:00<00:00, 71.72it/s]\n",
      "Let's see how good I am...: 100%|██████████| 2/2 [00:00<00:00, 48.82it/s]\n"
     ]
    },
    {
     "name": "stdout",
     "output_type": "stream",
     "text": [
      "Epoch: 14 of 20, 0.001 min\n"
     ]
    },
    {
     "name": "stderr",
     "output_type": "stream",
     "text": [
      "I'm studying hard now🧐, don't disturb!: 100%|██████████| 1/1 [00:00<00:00, 83.17it/s]\n",
      "Let's see how good I am...: 100%|██████████| 2/2 [00:00<00:00, 49.36it/s]\n"
     ]
    },
    {
     "name": "stdout",
     "output_type": "stream",
     "text": [
      "Epoch: 15 of 20, 0.001 min\n"
     ]
    },
    {
     "name": "stderr",
     "output_type": "stream",
     "text": [
      "I'm studying hard now🧐, don't disturb!: 100%|██████████| 1/1 [00:00<00:00, 123.85it/s]\n",
      "Let's see how good I am...: 100%|██████████| 2/2 [00:00<00:00, 59.89it/s]\n"
     ]
    },
    {
     "name": "stdout",
     "output_type": "stream",
     "text": [
      "Epoch: 16 of 20, 0.001 min\n"
     ]
    },
    {
     "name": "stderr",
     "output_type": "stream",
     "text": [
      "I'm studying hard now🧐, don't disturb!: 100%|██████████| 1/1 [00:00<00:00, 124.45it/s]\n",
      "Let's see how good I am...: 100%|██████████| 2/2 [00:00<00:00, 61.46it/s]\n"
     ]
    },
    {
     "name": "stdout",
     "output_type": "stream",
     "text": [
      "Epoch: 17 of 20, 0.001 min\n"
     ]
    },
    {
     "name": "stderr",
     "output_type": "stream",
     "text": [
      "I'm studying hard now🧐, don't disturb!: 100%|██████████| 1/1 [00:00<00:00, 123.37it/s]\n",
      "Let's see how good I am...: 100%|██████████| 2/2 [00:00<00:00, 24.48it/s]\n"
     ]
    },
    {
     "name": "stdout",
     "output_type": "stream",
     "text": [
      "Epoch: 18 of 20, 0.002 min\n"
     ]
    },
    {
     "name": "stderr",
     "output_type": "stream",
     "text": [
      "I'm studying hard now🧐, don't disturb!: 100%|██████████| 1/1 [00:00<00:00, 123.33it/s]\n",
      "Let's see how good I am...: 100%|██████████| 2/2 [00:00<00:00, 49.06it/s]\n"
     ]
    },
    {
     "name": "stdout",
     "output_type": "stream",
     "text": [
      "Epoch: 19 of 20, 0.001 min\n"
     ]
    },
    {
     "name": "stderr",
     "output_type": "stream",
     "text": [
      "I'm studying hard now🧐, don't disturb!: 100%|██████████| 1/1 [00:00<00:00, 137.73it/s]\n",
      "Let's see how good I am...: 100%|██████████| 2/2 [00:00<00:00, 57.07it/s]"
     ]
    },
    {
     "name": "stdout",
     "output_type": "stream",
     "text": [
      "Epoch: 20 of 20, 0.001 min\n"
     ]
    },
    {
     "name": "stderr",
     "output_type": "stream",
     "text": [
      "\n"
     ]
    },
    {
     "data": {
      "text/html": [
       "Waiting for W&B process to finish... <strong style=\"color:green\">(success).</strong>"
      ],
      "text/plain": [
       "<IPython.core.display.HTML object>"
      ]
     },
     "metadata": {},
     "output_type": "display_data"
    },
    {
     "data": {
      "text/html": [
       "<style>\n",
       "    table.wandb td:nth-child(1) { padding: 0 10px; text-align: left ; width: auto;} td:nth-child(2) {text-align: left ; width: 100%}\n",
       "    .wandb-row { display: flex; flex-direction: row; flex-wrap: wrap; justify-content: flex-start; width: 100% }\n",
       "    .wandb-col { display: flex; flex-direction: column; flex-basis: 100%; flex: 1; padding: 10px; }\n",
       "    </style>\n",
       "<div class=\"wandb-row\"><div class=\"wandb-col\"><h3>Run history:</h3><br/><table class=\"wandb\"><tr><td>epoch</td><td>▁▁▂▂▂▃▃▄▄▄▅▅▅▆▆▇▇▇██</td></tr><tr><td>lr</td><td>█▇▇▆▆▅▅▅▄▄▃▃▃▃▂▂▂▁▁▁</td></tr><tr><td>test_accuracy</td><td>▃▄▄▄▁▃▅█▇▄▄█▅▄▃█▅▃▁▃</td></tr><tr><td>test_auc_score</td><td>▆▆▆▆█▇▃▂▂▁▂▁▃▃▄▅▅▅▅▅</td></tr><tr><td>test_f1_score</td><td>▄▅▅▅▂▃▆█▇▅▅█▆▅▃█▆▃▁▃</td></tr><tr><td>test_fpr</td><td>▁▁▁▁▁▁▁▁▁▁▁▁▁▁▁▁▁▁▁▁</td></tr><tr><td>test_loss</td><td>█▆▅▄▄▃▃▃▃▂▂▂▂▂▂▁▁▁▁▁</td></tr><tr><td>test_tpr</td><td>▁▁▁▁▁▁▁▁▁▁▁▁▁▁▁▁▁▁▁▁</td></tr><tr><td>train_accuracy</td><td>▁▆██████████████████</td></tr><tr><td>train_auc_score</td><td>▁▁▂▃▄▄▅▇████████████</td></tr><tr><td>train_f1_score</td><td>▁▃▃▃▃▃▃▃▃▃▆▆▆▆▆▆████</td></tr><tr><td>train_fpr</td><td>█▃▁▁▁▁▁▁▁▁▁▁▁▁▁▁▁▁▁▁</td></tr><tr><td>train_loss</td><td>█▄▃▂▂▂▂▁▁▁▁▁▁▁▁▁▁▁▁▁</td></tr><tr><td>train_tpr</td><td>█▁▁▁▁▁▁▁▁▁▅▅▅▅▅▅████</td></tr></table><br/></div><div class=\"wandb-col\"><h3>Run summary:</h3><br/><table class=\"wandb\"><tr><td>epoch</td><td>19</td></tr><tr><td>lr</td><td>0.00358</td></tr><tr><td>test_accuracy</td><td>0.96591</td></tr><tr><td>test_auc_score</td><td>0.38453</td></tr><tr><td>test_f1_score</td><td>0.49133</td></tr><tr><td>test_fpr</td><td>0.0</td></tr><tr><td>test_loss</td><td>0.03541</td></tr><tr><td>test_tpr</td><td>0.0</td></tr><tr><td>train_accuracy</td><td>0.99</td></tr><tr><td>train_auc_score</td><td>0.99313</td></tr><tr><td>train_f1_score</td><td>0.89744</td></tr><tr><td>train_fpr</td><td>0.0</td></tr><tr><td>train_loss</td><td>0.00569</td></tr><tr><td>train_tpr</td><td>0.66667</td></tr></table><br/></div></div>"
      ],
      "text/plain": [
       "<IPython.core.display.HTML object>"
      ]
     },
     "metadata": {},
     "output_type": "display_data"
    },
    {
     "data": {
      "text/html": [
       " View run <strong style=\"color:#cdcd00\">JMVae_NumLab-100_LatDim-5</strong> at: <a href='https://wandb.ai/dmitrii_fomin_uga/Internship_project/runs/nfxn19xj' target=\"_blank\">https://wandb.ai/dmitrii_fomin_uga/Internship_project/runs/nfxn19xj</a><br/>Synced 5 W&B file(s), 0 media file(s), 0 artifact file(s) and 0 other file(s)"
      ],
      "text/plain": [
       "<IPython.core.display.HTML object>"
      ]
     },
     "metadata": {},
     "output_type": "display_data"
    },
    {
     "data": {
      "text/html": [
       "Find logs at: <code>../logs/wandb\\run-20230529_210827-nfxn19xj\\logs</code>"
      ],
      "text/plain": [
       "<IPython.core.display.HTML object>"
      ]
     },
     "metadata": {},
     "output_type": "display_data"
    },
    {
     "data": {
      "text/html": [
       "Tracking run with wandb version 0.15.3"
      ],
      "text/plain": [
       "<IPython.core.display.HTML object>"
      ]
     },
     "metadata": {},
     "output_type": "display_data"
    },
    {
     "data": {
      "text/html": [
       "Run data is saved locally in <code>../logs/wandb\\run-20230529_210836-ffbcvzbd</code>"
      ],
      "text/plain": [
       "<IPython.core.display.HTML object>"
      ]
     },
     "metadata": {},
     "output_type": "display_data"
    },
    {
     "data": {
      "text/html": [
       "Syncing run <strong><a href='https://wandb.ai/dmitrii_fomin_uga/Internship_project/runs/ffbcvzbd' target=\"_blank\">Autoencoder_simple_HidParam-512_Latent-5</a></strong> to <a href='https://wandb.ai/dmitrii_fomin_uga/Internship_project' target=\"_blank\">Weights & Biases</a> (<a href='https://wandb.me/run' target=\"_blank\">docs</a>)<br/>"
      ],
      "text/plain": [
       "<IPython.core.display.HTML object>"
      ]
     },
     "metadata": {},
     "output_type": "display_data"
    },
    {
     "data": {
      "text/html": [
       " View project at <a href='https://wandb.ai/dmitrii_fomin_uga/Internship_project' target=\"_blank\">https://wandb.ai/dmitrii_fomin_uga/Internship_project</a>"
      ],
      "text/plain": [
       "<IPython.core.display.HTML object>"
      ]
     },
     "metadata": {},
     "output_type": "display_data"
    },
    {
     "data": {
      "text/html": [
       " View run at <a href='https://wandb.ai/dmitrii_fomin_uga/Internship_project/runs/ffbcvzbd' target=\"_blank\">https://wandb.ai/dmitrii_fomin_uga/Internship_project/runs/ffbcvzbd</a>"
      ],
      "text/plain": [
       "<IPython.core.display.HTML object>"
      ]
     },
     "metadata": {},
     "output_type": "display_data"
    },
    {
     "name": "stderr",
     "output_type": "stream",
     "text": [
      "I'm studying hard now🧐, don't disturb!: 100%|██████████| 6/6 [00:00<00:00, 66.68it/s]\n",
      "Let's see how good I am...: 100%|██████████| 1/1 [00:00<00:00, 117.88it/s]\n"
     ]
    },
    {
     "name": "stdout",
     "output_type": "stream",
     "text": [
      "Epoch: 1 of 30, 0.002 min\n"
     ]
    },
    {
     "name": "stderr",
     "output_type": "stream",
     "text": [
      "I'm studying hard now🧐, don't disturb!: 100%|██████████| 6/6 [00:00<00:00, 67.04it/s]\n",
      "Let's see how good I am...: 100%|██████████| 1/1 [00:00<00:00, 120.88it/s]\n"
     ]
    },
    {
     "name": "stdout",
     "output_type": "stream",
     "text": [
      "Epoch: 2 of 30, 0.002 min\n"
     ]
    },
    {
     "name": "stderr",
     "output_type": "stream",
     "text": [
      "I'm studying hard now🧐, don't disturb!: 100%|██████████| 6/6 [00:00<00:00, 66.61it/s]\n",
      "Let's see how good I am...: 100%|██████████| 1/1 [00:00<00:00, 79.78it/s]\n"
     ]
    },
    {
     "name": "stdout",
     "output_type": "stream",
     "text": [
      "Epoch: 3 of 30, 0.002 min\n"
     ]
    },
    {
     "name": "stderr",
     "output_type": "stream",
     "text": [
      "I'm studying hard now🧐, don't disturb!: 100%|██████████| 6/6 [00:00<00:00, 74.50it/s]\n",
      "Let's see how good I am...: 100%|██████████| 1/1 [00:00<00:00, 142.33it/s]\n"
     ]
    },
    {
     "name": "stdout",
     "output_type": "stream",
     "text": [
      "Epoch: 4 of 30, 0.002 min\n"
     ]
    },
    {
     "name": "stderr",
     "output_type": "stream",
     "text": [
      "I'm studying hard now🧐, don't disturb!: 100%|██████████| 6/6 [00:00<00:00, 73.30it/s]\n",
      "Let's see how good I am...: 100%|██████████| 1/1 [00:00<00:00, 76.68it/s]\n"
     ]
    },
    {
     "name": "stdout",
     "output_type": "stream",
     "text": [
      "Epoch: 5 of 30, 0.002 min\n"
     ]
    },
    {
     "name": "stderr",
     "output_type": "stream",
     "text": [
      "I'm studying hard now🧐, don't disturb!: 100%|██████████| 6/6 [00:00<00:00, 66.52it/s]\n",
      "Let's see how good I am...: 100%|██████████| 1/1 [00:00<00:00, 120.30it/s]\n"
     ]
    },
    {
     "name": "stdout",
     "output_type": "stream",
     "text": [
      "Epoch: 6 of 30, 0.002 min\n"
     ]
    },
    {
     "name": "stderr",
     "output_type": "stream",
     "text": [
      "I'm studying hard now🧐, don't disturb!: 100%|██████████| 6/6 [00:00<00:00, 80.33it/s]\n",
      "Let's see how good I am...: 100%|██████████| 1/1 [00:00<00:00, 142.63it/s]\n"
     ]
    },
    {
     "name": "stdout",
     "output_type": "stream",
     "text": [
      "Epoch: 7 of 30, 0.001 min\n"
     ]
    },
    {
     "name": "stderr",
     "output_type": "stream",
     "text": [
      "I'm studying hard now🧐, don't disturb!: 100%|██████████| 6/6 [00:00<00:00, 84.13it/s]\n",
      "Let's see how good I am...: 100%|██████████| 1/1 [00:00<00:00, 124.80it/s]\n"
     ]
    },
    {
     "name": "stdout",
     "output_type": "stream",
     "text": [
      "Epoch: 8 of 30, 0.002 min\n"
     ]
    },
    {
     "name": "stderr",
     "output_type": "stream",
     "text": [
      "I'm studying hard now🧐, don't disturb!: 100%|██████████| 6/6 [00:00<00:00, 73.15it/s]\n",
      "Let's see how good I am...: 100%|██████████| 1/1 [00:00<00:00, 122.94it/s]\n"
     ]
    },
    {
     "name": "stdout",
     "output_type": "stream",
     "text": [
      "Epoch: 9 of 30, 0.002 min\n"
     ]
    },
    {
     "name": "stderr",
     "output_type": "stream",
     "text": [
      "I'm studying hard now🧐, don't disturb!: 100%|██████████| 6/6 [00:00<00:00, 66.13it/s]\n",
      "Let's see how good I am...: 100%|██████████| 1/1 [00:00<00:00, 106.49it/s]\n"
     ]
    },
    {
     "name": "stdout",
     "output_type": "stream",
     "text": [
      "Epoch: 10 of 30, 0.002 min\n"
     ]
    },
    {
     "name": "stderr",
     "output_type": "stream",
     "text": [
      "I'm studying hard now🧐, don't disturb!: 100%|██████████| 6/6 [00:00<00:00, 70.00it/s]\n",
      "Let's see how good I am...: 100%|██████████| 1/1 [00:00<00:00, 157.31it/s]\n"
     ]
    },
    {
     "name": "stdout",
     "output_type": "stream",
     "text": [
      "Epoch: 11 of 30, 0.002 min\n"
     ]
    },
    {
     "name": "stderr",
     "output_type": "stream",
     "text": [
      "I'm studying hard now🧐, don't disturb!: 100%|██████████| 6/6 [00:00<00:00, 76.98it/s]\n",
      "Let's see how good I am...: 100%|██████████| 1/1 [00:00<00:00, 124.04it/s]\n"
     ]
    },
    {
     "name": "stdout",
     "output_type": "stream",
     "text": [
      "Epoch: 12 of 30, 0.002 min\n"
     ]
    },
    {
     "name": "stderr",
     "output_type": "stream",
     "text": [
      "I'm studying hard now🧐, don't disturb!: 100%|██████████| 6/6 [00:00<00:00, 74.21it/s]\n",
      "Let's see how good I am...: 100%|██████████| 1/1 [00:00<?, ?it/s]\n"
     ]
    },
    {
     "name": "stdout",
     "output_type": "stream",
     "text": [
      "Epoch: 13 of 30, 0.002 min\n"
     ]
    },
    {
     "name": "stderr",
     "output_type": "stream",
     "text": [
      "I'm studying hard now🧐, don't disturb!: 100%|██████████| 6/6 [00:00<00:00, 83.44it/s]\n",
      "Let's see how good I am...: 100%|██████████| 1/1 [00:00<00:00, 111.28it/s]\n"
     ]
    },
    {
     "name": "stdout",
     "output_type": "stream",
     "text": [
      "Epoch: 14 of 30, 0.001 min\n"
     ]
    },
    {
     "name": "stderr",
     "output_type": "stream",
     "text": [
      "I'm studying hard now🧐, don't disturb!: 100%|██████████| 6/6 [00:00<00:00, 81.35it/s]\n",
      "Let's see how good I am...: 100%|██████████| 1/1 [00:00<00:00, 1311.13it/s]\n"
     ]
    },
    {
     "name": "stdout",
     "output_type": "stream",
     "text": [
      "Epoch: 15 of 30, 0.002 min\n"
     ]
    },
    {
     "name": "stderr",
     "output_type": "stream",
     "text": [
      "I'm studying hard now🧐, don't disturb!: 100%|██████████| 6/6 [00:00<00:00, 52.82it/s]\n",
      "Let's see how good I am...: 100%|██████████| 1/1 [00:00<00:00, 122.38it/s]\n"
     ]
    },
    {
     "name": "stdout",
     "output_type": "stream",
     "text": [
      "Epoch: 16 of 30, 0.002 min\n"
     ]
    },
    {
     "name": "stderr",
     "output_type": "stream",
     "text": [
      "I'm studying hard now🧐, don't disturb!: 100%|██████████| 6/6 [00:00<00:00, 82.20it/s]\n",
      "Let's see how good I am...: 100%|██████████| 1/1 [00:00<00:00, 105.26it/s]\n"
     ]
    },
    {
     "name": "stdout",
     "output_type": "stream",
     "text": [
      "Epoch: 17 of 30, 0.002 min\n"
     ]
    },
    {
     "name": "stderr",
     "output_type": "stream",
     "text": [
      "I'm studying hard now🧐, don't disturb!: 100%|██████████| 6/6 [00:00<00:00, 80.53it/s]\n",
      "Let's see how good I am...: 100%|██████████| 1/1 [00:00<00:00, 124.02it/s]\n"
     ]
    },
    {
     "name": "stdout",
     "output_type": "stream",
     "text": [
      "Epoch: 18 of 30, 0.002 min\n"
     ]
    },
    {
     "name": "stderr",
     "output_type": "stream",
     "text": [
      "I'm studying hard now🧐, don't disturb!: 100%|██████████| 6/6 [00:00<00:00, 67.08it/s]\n",
      "Let's see how good I am...: 100%|██████████| 1/1 [00:00<00:00, 124.96it/s]\n"
     ]
    },
    {
     "name": "stdout",
     "output_type": "stream",
     "text": [
      "Epoch: 19 of 30, 0.002 min\n"
     ]
    },
    {
     "name": "stderr",
     "output_type": "stream",
     "text": [
      "I'm studying hard now🧐, don't disturb!: 100%|██████████| 6/6 [00:00<00:00, 66.64it/s]\n",
      "Let's see how good I am...: 100%|██████████| 1/1 [00:00<00:00, 124.30it/s]\n"
     ]
    },
    {
     "name": "stdout",
     "output_type": "stream",
     "text": [
      "Epoch: 20 of 30, 0.002 min\n"
     ]
    },
    {
     "name": "stderr",
     "output_type": "stream",
     "text": [
      "I'm studying hard now🧐, don't disturb!: 100%|██████████| 6/6 [00:00<00:00, 76.25it/s]\n",
      "Let's see how good I am...: 100%|██████████| 1/1 [00:00<00:00, 122.74it/s]\n"
     ]
    },
    {
     "name": "stdout",
     "output_type": "stream",
     "text": [
      "Epoch: 21 of 30, 0.002 min\n"
     ]
    },
    {
     "name": "stderr",
     "output_type": "stream",
     "text": [
      "I'm studying hard now🧐, don't disturb!: 100%|██████████| 6/6 [00:00<00:00, 76.99it/s]\n",
      "Let's see how good I am...: 100%|██████████| 1/1 [00:00<?, ?it/s]\n"
     ]
    },
    {
     "name": "stdout",
     "output_type": "stream",
     "text": [
      "Epoch: 22 of 30, 0.002 min\n"
     ]
    },
    {
     "name": "stderr",
     "output_type": "stream",
     "text": [
      "I'm studying hard now🧐, don't disturb!: 100%|██████████| 6/6 [00:00<00:00, 73.08it/s]\n",
      "Let's see how good I am...: 100%|██████████| 1/1 [00:00<00:00, 123.28it/s]\n"
     ]
    },
    {
     "name": "stdout",
     "output_type": "stream",
     "text": [
      "Epoch: 23 of 30, 0.002 min\n"
     ]
    },
    {
     "name": "stderr",
     "output_type": "stream",
     "text": [
      "I'm studying hard now🧐, don't disturb!: 100%|██████████| 6/6 [00:00<00:00, 72.56it/s]\n",
      "Let's see how good I am...: 100%|██████████| 1/1 [00:00<00:00, 162.64it/s]\n"
     ]
    },
    {
     "name": "stdout",
     "output_type": "stream",
     "text": [
      "Epoch: 24 of 30, 0.002 min\n"
     ]
    },
    {
     "name": "stderr",
     "output_type": "stream",
     "text": [
      "I'm studying hard now🧐, don't disturb!: 100%|██████████| 6/6 [00:00<00:00, 37.79it/s]\n",
      "Let's see how good I am...: 100%|██████████| 1/1 [00:00<00:00, 58.18it/s]\n"
     ]
    },
    {
     "name": "stdout",
     "output_type": "stream",
     "text": [
      "Epoch: 25 of 30, 0.003 min\n"
     ]
    },
    {
     "name": "stderr",
     "output_type": "stream",
     "text": [
      "I'm studying hard now🧐, don't disturb!: 100%|██████████| 6/6 [00:00<00:00, 80.51it/s]\n",
      "Let's see how good I am...: 100%|██████████| 1/1 [00:00<00:00, 153.46it/s]\n"
     ]
    },
    {
     "name": "stdout",
     "output_type": "stream",
     "text": [
      "Epoch: 26 of 30, 0.001 min\n"
     ]
    },
    {
     "name": "stderr",
     "output_type": "stream",
     "text": [
      "I'm studying hard now🧐, don't disturb!: 100%|██████████| 6/6 [00:00<00:00, 73.30it/s]\n",
      "Let's see how good I am...: 100%|██████████| 1/1 [00:00<00:00, 121.22it/s]\n"
     ]
    },
    {
     "name": "stdout",
     "output_type": "stream",
     "text": [
      "Epoch: 27 of 30, 0.002 min\n"
     ]
    },
    {
     "name": "stderr",
     "output_type": "stream",
     "text": [
      "I'm studying hard now🧐, don't disturb!: 100%|██████████| 6/6 [00:00<00:00, 73.63it/s]\n",
      "Let's see how good I am...: 100%|██████████| 1/1 [00:00<00:00, 120.28it/s]\n"
     ]
    },
    {
     "name": "stdout",
     "output_type": "stream",
     "text": [
      "Epoch: 28 of 30, 0.001 min\n"
     ]
    },
    {
     "name": "stderr",
     "output_type": "stream",
     "text": [
      "I'm studying hard now🧐, don't disturb!: 100%|██████████| 6/6 [00:00<00:00, 90.59it/s]\n",
      "Let's see how good I am...: 100%|██████████| 1/1 [00:00<00:00, 118.87it/s]\n"
     ]
    },
    {
     "name": "stdout",
     "output_type": "stream",
     "text": [
      "Epoch: 29 of 30, 0.002 min\n"
     ]
    },
    {
     "name": "stderr",
     "output_type": "stream",
     "text": [
      "I'm studying hard now🧐, don't disturb!: 100%|██████████| 6/6 [00:00<00:00, 76.42it/s]\n",
      "Let's see how good I am...: 100%|██████████| 1/1 [00:00<?, ?it/s]"
     ]
    },
    {
     "name": "stdout",
     "output_type": "stream",
     "text": [
      "Epoch: 30 of 30, 0.001 min\n"
     ]
    },
    {
     "name": "stderr",
     "output_type": "stream",
     "text": [
      "\n"
     ]
    },
    {
     "data": {
      "text/html": [
       "Waiting for W&B process to finish... <strong style=\"color:green\">(success).</strong>"
      ],
      "text/plain": [
       "<IPython.core.display.HTML object>"
      ]
     },
     "metadata": {},
     "output_type": "display_data"
    },
    {
     "data": {
      "text/html": [
       "<style>\n",
       "    table.wandb td:nth-child(1) { padding: 0 10px; text-align: left ; width: auto;} td:nth-child(2) {text-align: left ; width: 100%}\n",
       "    .wandb-row { display: flex; flex-direction: row; flex-wrap: wrap; justify-content: flex-start; width: 100% }\n",
       "    .wandb-col { display: flex; flex-direction: column; flex-basis: 100%; flex: 1; padding: 10px; }\n",
       "    </style>\n",
       "<div class=\"wandb-row\"><div class=\"wandb-col\"><h3>Run history:</h3><br/><table class=\"wandb\"><tr><td>epoch</td><td>▁▁▁▂▂▂▂▃▃▃▃▄▄▄▄▅▅▅▅▆▆▆▆▇▇▇▇███</td></tr><tr><td>lr</td><td>██▇▇▆▆▆▅▅▅▄▄▄▄▃▃▃▃▃▂▂▂▂▂▂▁▁▁▁▁</td></tr><tr><td>test_loss</td><td>█▃▂▁▁▁▁▁▁▁▁▁▁▁▁▁▁▁▁▁▁▁▁▁▁▁▁▁▁▁</td></tr><tr><td>train_loss</td><td>█▄▂▂▁▁▁▁▁▁▁▁▁▁▁▁▁▁▁▁▁▁▁▁▁▁▁▁▁▁</td></tr></table><br/></div><div class=\"wandb-col\"><h3>Run summary:</h3><br/><table class=\"wandb\"><tr><td>epoch</td><td>29</td></tr><tr><td>lr</td><td>0.00215</td></tr><tr><td>test_loss</td><td>1.26338</td></tr><tr><td>train_loss</td><td>1.36347</td></tr></table><br/></div></div>"
      ],
      "text/plain": [
       "<IPython.core.display.HTML object>"
      ]
     },
     "metadata": {},
     "output_type": "display_data"
    },
    {
     "data": {
      "text/html": [
       " View run <strong style=\"color:#cdcd00\">Autoencoder_simple_HidParam-512_Latent-5</strong> at: <a href='https://wandb.ai/dmitrii_fomin_uga/Internship_project/runs/ffbcvzbd' target=\"_blank\">https://wandb.ai/dmitrii_fomin_uga/Internship_project/runs/ffbcvzbd</a><br/>Synced 5 W&B file(s), 0 media file(s), 0 artifact file(s) and 0 other file(s)"
      ],
      "text/plain": [
       "<IPython.core.display.HTML object>"
      ]
     },
     "metadata": {},
     "output_type": "display_data"
    },
    {
     "data": {
      "text/html": [
       "Find logs at: <code>../logs/wandb\\run-20230529_210836-ffbcvzbd\\logs</code>"
      ],
      "text/plain": [
       "<IPython.core.display.HTML object>"
      ]
     },
     "metadata": {},
     "output_type": "display_data"
    },
    {
     "data": {
      "text/html": [
       "Tracking run with wandb version 0.15.3"
      ],
      "text/plain": [
       "<IPython.core.display.HTML object>"
      ]
     },
     "metadata": {},
     "output_type": "display_data"
    },
    {
     "data": {
      "text/html": [
       "Run data is saved locally in <code>../logs/wandb\\run-20230529_210847-t2gp4x2x</code>"
      ],
      "text/plain": [
       "<IPython.core.display.HTML object>"
      ]
     },
     "metadata": {},
     "output_type": "display_data"
    },
    {
     "data": {
      "text/html": [
       "Syncing run <strong><a href='https://wandb.ai/dmitrii_fomin_uga/Internship_project/runs/t2gp4x2x' target=\"_blank\">JMVae_NumLab-500_LatDim-5</a></strong> to <a href='https://wandb.ai/dmitrii_fomin_uga/Internship_project' target=\"_blank\">Weights & Biases</a> (<a href='https://wandb.me/run' target=\"_blank\">docs</a>)<br/>"
      ],
      "text/plain": [
       "<IPython.core.display.HTML object>"
      ]
     },
     "metadata": {},
     "output_type": "display_data"
    },
    {
     "data": {
      "text/html": [
       " View project at <a href='https://wandb.ai/dmitrii_fomin_uga/Internship_project' target=\"_blank\">https://wandb.ai/dmitrii_fomin_uga/Internship_project</a>"
      ],
      "text/plain": [
       "<IPython.core.display.HTML object>"
      ]
     },
     "metadata": {},
     "output_type": "display_data"
    },
    {
     "data": {
      "text/html": [
       " View run at <a href='https://wandb.ai/dmitrii_fomin_uga/Internship_project/runs/t2gp4x2x' target=\"_blank\">https://wandb.ai/dmitrii_fomin_uga/Internship_project/runs/t2gp4x2x</a>"
      ],
      "text/plain": [
       "<IPython.core.display.HTML object>"
      ]
     },
     "metadata": {},
     "output_type": "display_data"
    },
    {
     "name": "stderr",
     "output_type": "stream",
     "text": [
      "I'm studying hard now🧐, don't disturb!: 100%|██████████| 1/1 [00:00<00:00, 42.50it/s]\n",
      "Let's see how good I am...: 100%|██████████| 2/2 [00:00<00:00, 34.52it/s]\n"
     ]
    },
    {
     "name": "stdout",
     "output_type": "stream",
     "text": [
      "Epoch: 1 of 20, 0.001 min\n"
     ]
    },
    {
     "name": "stderr",
     "output_type": "stream",
     "text": [
      "I'm studying hard now🧐, don't disturb!: 100%|██████████| 1/1 [00:00<00:00, 61.11it/s]\n",
      "Let's see how good I am...: 100%|██████████| 2/2 [00:00<00:00, 34.89it/s]\n"
     ]
    },
    {
     "name": "stdout",
     "output_type": "stream",
     "text": [
      "Epoch: 2 of 20, 0.001 min\n"
     ]
    },
    {
     "name": "stderr",
     "output_type": "stream",
     "text": [
      "I'm studying hard now🧐, don't disturb!: 100%|██████████| 1/1 [00:00<00:00, 60.18it/s]\n",
      "Let's see how good I am...: 100%|██████████| 2/2 [00:00<00:00, 35.22it/s]\n"
     ]
    },
    {
     "name": "stdout",
     "output_type": "stream",
     "text": [
      "Epoch: 3 of 20, 0.001 min\n"
     ]
    },
    {
     "name": "stderr",
     "output_type": "stream",
     "text": [
      "I'm studying hard now🧐, don't disturb!: 100%|██████████| 1/1 [00:00<00:00, 72.19it/s]\n",
      "Let's see how good I am...: 100%|██████████| 2/2 [00:00<00:00, 40.67it/s]\n"
     ]
    },
    {
     "name": "stdout",
     "output_type": "stream",
     "text": [
      "Epoch: 4 of 20, 0.001 min\n"
     ]
    },
    {
     "name": "stderr",
     "output_type": "stream",
     "text": [
      "I'm studying hard now🧐, don't disturb!: 100%|██████████| 1/1 [00:00<00:00, 61.37it/s]\n",
      "Let's see how good I am...: 100%|██████████| 2/2 [00:00<00:00, 40.54it/s]\n"
     ]
    },
    {
     "name": "stdout",
     "output_type": "stream",
     "text": [
      "Epoch: 5 of 20, 0.001 min\n"
     ]
    },
    {
     "name": "stderr",
     "output_type": "stream",
     "text": [
      "I'm studying hard now🧐, don't disturb!: 100%|██████████| 1/1 [00:00<00:00, 73.75it/s]\n",
      "Let's see how good I am...: 100%|██████████| 2/2 [00:00<00:00, 39.78it/s]\n"
     ]
    },
    {
     "name": "stdout",
     "output_type": "stream",
     "text": [
      "Epoch: 6 of 20, 0.001 min\n"
     ]
    },
    {
     "name": "stderr",
     "output_type": "stream",
     "text": [
      "I'm studying hard now🧐, don't disturb!: 100%|██████████| 1/1 [00:00<00:00, 96.22it/s]\n",
      "Let's see how good I am...: 100%|██████████| 2/2 [00:00<00:00, 40.47it/s]\n"
     ]
    },
    {
     "name": "stdout",
     "output_type": "stream",
     "text": [
      "Epoch: 7 of 20, 0.001 min\n"
     ]
    },
    {
     "name": "stderr",
     "output_type": "stream",
     "text": [
      "I'm studying hard now🧐, don't disturb!: 100%|██████████| 1/1 [00:00<00:00, 124.78it/s]\n",
      "Let's see how good I am...: 100%|██████████| 2/2 [00:00<00:00, 40.41it/s]\n"
     ]
    },
    {
     "name": "stdout",
     "output_type": "stream",
     "text": [
      "Epoch: 8 of 20, 0.001 min\n"
     ]
    },
    {
     "name": "stderr",
     "output_type": "stream",
     "text": [
      "I'm studying hard now🧐, don't disturb!: 100%|██████████| 1/1 [00:00<00:00, 75.38it/s]\n",
      "Let's see how good I am...: 100%|██████████| 2/2 [00:00<00:00, 35.51it/s]\n"
     ]
    },
    {
     "name": "stdout",
     "output_type": "stream",
     "text": [
      "Epoch: 9 of 20, 0.001 min\n"
     ]
    },
    {
     "name": "stderr",
     "output_type": "stream",
     "text": [
      "I'm studying hard now🧐, don't disturb!: 100%|██████████| 1/1 [00:00<00:00, 40.94it/s]\n",
      "Let's see how good I am...: 100%|██████████| 2/2 [00:00<00:00, 48.78it/s]\n"
     ]
    },
    {
     "name": "stdout",
     "output_type": "stream",
     "text": [
      "Epoch: 10 of 20, 0.001 min\n"
     ]
    },
    {
     "name": "stderr",
     "output_type": "stream",
     "text": [
      "I'm studying hard now🧐, don't disturb!: 100%|██████████| 1/1 [00:00<00:00, 124.18it/s]\n",
      "Let's see how good I am...: 100%|██████████| 2/2 [00:00<00:00, 49.15it/s]\n"
     ]
    },
    {
     "name": "stdout",
     "output_type": "stream",
     "text": [
      "Epoch: 11 of 20, 0.001 min\n"
     ]
    },
    {
     "name": "stderr",
     "output_type": "stream",
     "text": [
      "I'm studying hard now🧐, don't disturb!: 100%|██████████| 1/1 [00:00<00:00, 105.76it/s]\n",
      "Let's see how good I am...: 100%|██████████| 2/2 [00:00<00:00, 48.53it/s]\n"
     ]
    },
    {
     "name": "stdout",
     "output_type": "stream",
     "text": [
      "Epoch: 12 of 20, 0.001 min\n"
     ]
    },
    {
     "name": "stderr",
     "output_type": "stream",
     "text": [
      "I'm studying hard now🧐, don't disturb!: 100%|██████████| 1/1 [00:00<00:00, 118.95it/s]\n",
      "Let's see how good I am...: 100%|██████████| 2/2 [00:00<00:00, 48.32it/s]\n"
     ]
    },
    {
     "name": "stdout",
     "output_type": "stream",
     "text": [
      "Epoch: 13 of 20, 0.001 min\n"
     ]
    },
    {
     "name": "stderr",
     "output_type": "stream",
     "text": [
      "I'm studying hard now🧐, don't disturb!: 100%|██████████| 1/1 [00:00<00:00, 61.70it/s]\n",
      "Let's see how good I am...: 100%|██████████| 2/2 [00:00<00:00, 48.59it/s]\n"
     ]
    },
    {
     "name": "stdout",
     "output_type": "stream",
     "text": [
      "Epoch: 14 of 20, 0.001 min\n"
     ]
    },
    {
     "name": "stderr",
     "output_type": "stream",
     "text": [
      "I'm studying hard now🧐, don't disturb!: 100%|██████████| 1/1 [00:00<00:00, 65.06it/s]\n",
      "Let's see how good I am...: 100%|██████████| 2/2 [00:00<00:00, 59.44it/s]\n"
     ]
    },
    {
     "name": "stdout",
     "output_type": "stream",
     "text": [
      "Epoch: 15 of 20, 0.001 min\n"
     ]
    },
    {
     "name": "stderr",
     "output_type": "stream",
     "text": [
      "I'm studying hard now🧐, don't disturb!: 100%|██████████| 1/1 [00:00<00:00, 47.02it/s]\n",
      "Let's see how good I am...: 100%|██████████| 2/2 [00:00<00:00, 42.92it/s]\n"
     ]
    },
    {
     "name": "stdout",
     "output_type": "stream",
     "text": [
      "Epoch: 16 of 20, 0.001 min\n"
     ]
    },
    {
     "name": "stderr",
     "output_type": "stream",
     "text": [
      "I'm studying hard now🧐, don't disturb!: 100%|██████████| 1/1 [00:00<00:00, 52.40it/s]\n",
      "Let's see how good I am...: 100%|██████████| 2/2 [00:00<00:00, 17.01it/s]\n"
     ]
    },
    {
     "name": "stdout",
     "output_type": "stream",
     "text": [
      "Epoch: 17 of 20, 0.003 min\n"
     ]
    },
    {
     "name": "stderr",
     "output_type": "stream",
     "text": [
      "I'm studying hard now🧐, don't disturb!: 100%|██████████| 1/1 [00:00<00:00, 47.61it/s]\n",
      "Let's see how good I am...: 100%|██████████| 2/2 [00:00<00:00, 36.51it/s]\n"
     ]
    },
    {
     "name": "stdout",
     "output_type": "stream",
     "text": [
      "Epoch: 18 of 20, 0.001 min\n"
     ]
    },
    {
     "name": "stderr",
     "output_type": "stream",
     "text": [
      "I'm studying hard now🧐, don't disturb!: 100%|██████████| 1/1 [00:00<00:00, 31.24it/s]\n",
      "Let's see how good I am...: 100%|██████████| 2/2 [00:00<00:00, 24.89it/s]\n"
     ]
    },
    {
     "name": "stdout",
     "output_type": "stream",
     "text": [
      "Epoch: 19 of 20, 0.002 min\n"
     ]
    },
    {
     "name": "stderr",
     "output_type": "stream",
     "text": [
      "I'm studying hard now🧐, don't disturb!: 100%|██████████| 1/1 [00:00<00:00, 36.88it/s]\n",
      "Let's see how good I am...: 100%|██████████| 2/2 [00:00<00:00, 41.29it/s]\n"
     ]
    },
    {
     "name": "stdout",
     "output_type": "stream",
     "text": [
      "Epoch: 20 of 20, 0.001 min\n"
     ]
    },
    {
     "data": {
      "text/html": [
       "Waiting for W&B process to finish... <strong style=\"color:green\">(success).</strong>"
      ],
      "text/plain": [
       "<IPython.core.display.HTML object>"
      ]
     },
     "metadata": {},
     "output_type": "display_data"
    },
    {
     "data": {
      "text/html": [
       "<style>\n",
       "    table.wandb td:nth-child(1) { padding: 0 10px; text-align: left ; width: auto;} td:nth-child(2) {text-align: left ; width: 100%}\n",
       "    .wandb-row { display: flex; flex-direction: row; flex-wrap: wrap; justify-content: flex-start; width: 100% }\n",
       "    .wandb-col { display: flex; flex-direction: column; flex-basis: 100%; flex: 1; padding: 10px; }\n",
       "    </style>\n",
       "<div class=\"wandb-row\"><div class=\"wandb-col\"><h3>Run history:</h3><br/><table class=\"wandb\"><tr><td>epoch</td><td>▁▁▂▂▂▃▃▄▄▄▅▅▅▆▆▇▇▇██</td></tr><tr><td>lr</td><td>█▇▇▆▆▅▅▅▄▄▃▃▃▃▂▂▂▁▁▁</td></tr><tr><td>test_accuracy</td><td>▁▁▅▃▄▂▅▆▅▆█▇▃▂▂▂▇▄▆▆</td></tr><tr><td>test_auc_score</td><td>▄▅▅▁▁▂▄▂▃▅▅▄▅▆▇▇█▇▇▆</td></tr><tr><td>test_f1_score</td><td>▂▁▅▄▄▂▆▇▅▇█▇▃▃▃▃▇▄▆▆</td></tr><tr><td>test_fpr</td><td>▁▁▁▁▁▁▁▁▁▁▁▁▁▁▁▁▁▁▁▁</td></tr><tr><td>test_loss</td><td>█▄▃▂▁▁▁▁▁▁▁▁▁▁▁▂▂▂▂▃</td></tr><tr><td>test_tpr</td><td>▁▁▁▁▁▁▁▁▁▁▁▁▁▁▁▁▁▁▁▁</td></tr><tr><td>train_accuracy</td><td>▁▃▇█████████████████</td></tr><tr><td>train_auc_score</td><td>█▇▆▄▂▂▁▁▁▁▂▃▃▄▄▅▅▅▆▆</td></tr><tr><td>train_f1_score</td><td>▁▄▇█▇▆▆▆▆▆▆▆▆▆▆▆▆▆██</td></tr><tr><td>train_fpr</td><td>█▆▂▁▁▁▁▁▁▁▁▁▁▁▁▁▁▁▁▁</td></tr><tr><td>train_loss</td><td>█▄▂▁▁▁▁▁▁▁▁▁▁▁▁▁▁▁▁▁</td></tr><tr><td>train_tpr</td><td>█▆▄▂▁▁▁▁▁▁▁▁▁▁▁▁▁▁▂▂</td></tr></table><br/></div><div class=\"wandb-col\"><h3>Run summary:</h3><br/><table class=\"wandb\"><tr><td>epoch</td><td>19</td></tr><tr><td>lr</td><td>0.00358</td></tr><tr><td>test_accuracy</td><td>0.96608</td></tr><tr><td>test_auc_score</td><td>0.57361</td></tr><tr><td>test_f1_score</td><td>0.49137</td></tr><tr><td>test_fpr</td><td>0.0</td></tr><tr><td>test_loss</td><td>0.02807</td></tr><tr><td>test_tpr</td><td>0.0</td></tr><tr><td>train_accuracy</td><td>0.97</td></tr><tr><td>train_auc_score</td><td>0.58714</td></tr><tr><td>train_f1_score</td><td>0.59762</td></tr><tr><td>train_fpr</td><td>0.0</td></tr><tr><td>train_loss</td><td>0.02966</td></tr><tr><td>train_tpr</td><td>0.11765</td></tr></table><br/></div></div>"
      ],
      "text/plain": [
       "<IPython.core.display.HTML object>"
      ]
     },
     "metadata": {},
     "output_type": "display_data"
    },
    {
     "data": {
      "text/html": [
       " View run <strong style=\"color:#cdcd00\">JMVae_NumLab-500_LatDim-5</strong> at: <a href='https://wandb.ai/dmitrii_fomin_uga/Internship_project/runs/t2gp4x2x' target=\"_blank\">https://wandb.ai/dmitrii_fomin_uga/Internship_project/runs/t2gp4x2x</a><br/>Synced 5 W&B file(s), 0 media file(s), 0 artifact file(s) and 0 other file(s)"
      ],
      "text/plain": [
       "<IPython.core.display.HTML object>"
      ]
     },
     "metadata": {},
     "output_type": "display_data"
    },
    {
     "data": {
      "text/html": [
       "Find logs at: <code>../logs/wandb\\run-20230529_210847-t2gp4x2x\\logs</code>"
      ],
      "text/plain": [
       "<IPython.core.display.HTML object>"
      ]
     },
     "metadata": {},
     "output_type": "display_data"
    },
    {
     "data": {
      "text/html": [
       "Tracking run with wandb version 0.15.3"
      ],
      "text/plain": [
       "<IPython.core.display.HTML object>"
      ]
     },
     "metadata": {},
     "output_type": "display_data"
    },
    {
     "data": {
      "text/html": [
       "Run data is saved locally in <code>../logs/wandb\\run-20230529_210857-tgkmjc1c</code>"
      ],
      "text/plain": [
       "<IPython.core.display.HTML object>"
      ]
     },
     "metadata": {},
     "output_type": "display_data"
    },
    {
     "data": {
      "text/html": [
       "Syncing run <strong><a href='https://wandb.ai/dmitrii_fomin_uga/Internship_project/runs/tgkmjc1c' target=\"_blank\">Autoencoder_simple_HidParam-512_Latent-5</a></strong> to <a href='https://wandb.ai/dmitrii_fomin_uga/Internship_project' target=\"_blank\">Weights & Biases</a> (<a href='https://wandb.me/run' target=\"_blank\">docs</a>)<br/>"
      ],
      "text/plain": [
       "<IPython.core.display.HTML object>"
      ]
     },
     "metadata": {},
     "output_type": "display_data"
    },
    {
     "data": {
      "text/html": [
       " View project at <a href='https://wandb.ai/dmitrii_fomin_uga/Internship_project' target=\"_blank\">https://wandb.ai/dmitrii_fomin_uga/Internship_project</a>"
      ],
      "text/plain": [
       "<IPython.core.display.HTML object>"
      ]
     },
     "metadata": {},
     "output_type": "display_data"
    },
    {
     "data": {
      "text/html": [
       " View run at <a href='https://wandb.ai/dmitrii_fomin_uga/Internship_project/runs/tgkmjc1c' target=\"_blank\">https://wandb.ai/dmitrii_fomin_uga/Internship_project/runs/tgkmjc1c</a>"
      ],
      "text/plain": [
       "<IPython.core.display.HTML object>"
      ]
     },
     "metadata": {},
     "output_type": "display_data"
    },
    {
     "name": "stderr",
     "output_type": "stream",
     "text": [
      "I'm studying hard now🧐, don't disturb!: 100%|██████████| 6/6 [00:00<00:00, 61.97it/s]\n",
      "Let's see how good I am...: 100%|██████████| 1/1 [00:00<00:00, 124.72it/s]\n"
     ]
    },
    {
     "name": "stdout",
     "output_type": "stream",
     "text": [
      "Epoch: 1 of 30, 0.002 min\n"
     ]
    },
    {
     "name": "stderr",
     "output_type": "stream",
     "text": [
      "I'm studying hard now🧐, don't disturb!: 100%|██████████| 6/6 [00:00<00:00, 67.32it/s]\n",
      "Let's see how good I am...: 100%|██████████| 1/1 [00:00<00:00, 121.11it/s]\n"
     ]
    },
    {
     "name": "stdout",
     "output_type": "stream",
     "text": [
      "Epoch: 2 of 30, 0.002 min\n"
     ]
    },
    {
     "name": "stderr",
     "output_type": "stream",
     "text": [
      "I'm studying hard now🧐, don't disturb!: 100%|██████████| 6/6 [00:00<00:00, 68.34it/s]\n",
      "Let's see how good I am...: 100%|██████████| 1/1 [00:00<00:00, 133.19it/s]\n"
     ]
    },
    {
     "name": "stdout",
     "output_type": "stream",
     "text": [
      "Epoch: 3 of 30, 0.002 min\n"
     ]
    },
    {
     "name": "stderr",
     "output_type": "stream",
     "text": [
      "I'm studying hard now🧐, don't disturb!: 100%|██████████| 6/6 [00:00<00:00, 66.40it/s]\n",
      "Let's see how good I am...: 100%|██████████| 1/1 [00:00<00:00, 119.12it/s]\n"
     ]
    },
    {
     "name": "stdout",
     "output_type": "stream",
     "text": [
      "Epoch: 4 of 30, 0.002 min\n"
     ]
    },
    {
     "name": "stderr",
     "output_type": "stream",
     "text": [
      "I'm studying hard now🧐, don't disturb!: 100%|██████████| 6/6 [00:00<00:00, 72.60it/s]\n",
      "Let's see how good I am...: 100%|██████████| 1/1 [00:00<00:00, 120.86it/s]\n"
     ]
    },
    {
     "name": "stdout",
     "output_type": "stream",
     "text": [
      "Epoch: 5 of 30, 0.002 min\n"
     ]
    },
    {
     "name": "stderr",
     "output_type": "stream",
     "text": [
      "I'm studying hard now🧐, don't disturb!: 100%|██████████| 6/6 [00:00<00:00, 65.98it/s]\n",
      "Let's see how good I am...: 100%|██████████| 1/1 [00:00<00:00, 122.75it/s]\n"
     ]
    },
    {
     "name": "stdout",
     "output_type": "stream",
     "text": [
      "Epoch: 6 of 30, 0.002 min\n"
     ]
    },
    {
     "name": "stderr",
     "output_type": "stream",
     "text": [
      "I'm studying hard now🧐, don't disturb!: 100%|██████████| 6/6 [00:00<00:00, 60.82it/s]\n",
      "Let's see how good I am...: 100%|██████████| 1/1 [00:00<00:00, 117.93it/s]\n"
     ]
    },
    {
     "name": "stdout",
     "output_type": "stream",
     "text": [
      "Epoch: 7 of 30, 0.002 min\n"
     ]
    },
    {
     "name": "stderr",
     "output_type": "stream",
     "text": [
      "I'm studying hard now🧐, don't disturb!: 100%|██████████| 6/6 [00:00<00:00, 66.33it/s]\n",
      "Let's see how good I am...: 100%|██████████| 1/1 [00:00<00:00, 135.52it/s]\n"
     ]
    },
    {
     "name": "stdout",
     "output_type": "stream",
     "text": [
      "Epoch: 8 of 30, 0.002 min\n"
     ]
    },
    {
     "name": "stderr",
     "output_type": "stream",
     "text": [
      "I'm studying hard now🧐, don't disturb!: 100%|██████████| 6/6 [00:00<00:00, 63.29it/s]\n",
      "Let's see how good I am...: 100%|██████████| 1/1 [00:00<00:00, 123.96it/s]\n"
     ]
    },
    {
     "name": "stdout",
     "output_type": "stream",
     "text": [
      "Epoch: 9 of 30, 0.002 min\n"
     ]
    },
    {
     "name": "stderr",
     "output_type": "stream",
     "text": [
      "I'm studying hard now🧐, don't disturb!: 100%|██████████| 6/6 [00:00<00:00, 41.33it/s]\n",
      "Let's see how good I am...: 100%|██████████| 1/1 [00:00<00:00, 62.29it/s]\n"
     ]
    },
    {
     "name": "stdout",
     "output_type": "stream",
     "text": [
      "Epoch: 10 of 30, 0.003 min\n"
     ]
    },
    {
     "name": "stderr",
     "output_type": "stream",
     "text": [
      "I'm studying hard now🧐, don't disturb!: 100%|██████████| 6/6 [00:00<00:00, 67.43it/s]\n",
      "Let's see how good I am...: 100%|██████████| 1/1 [00:00<00:00, 62.01it/s]\n"
     ]
    },
    {
     "name": "stdout",
     "output_type": "stream",
     "text": [
      "Epoch: 11 of 30, 0.002 min\n"
     ]
    },
    {
     "name": "stderr",
     "output_type": "stream",
     "text": [
      "I'm studying hard now🧐, don't disturb!: 100%|██████████| 6/6 [00:00<00:00, 56.64it/s]\n",
      "Let's see how good I am...: 100%|██████████| 1/1 [00:00<00:00, 123.91it/s]\n"
     ]
    },
    {
     "name": "stdout",
     "output_type": "stream",
     "text": [
      "Epoch: 12 of 30, 0.002 min\n"
     ]
    },
    {
     "name": "stderr",
     "output_type": "stream",
     "text": [
      "I'm studying hard now🧐, don't disturb!: 100%|██████████| 6/6 [00:00<00:00, 80.53it/s]\n",
      "Let's see how good I am...: 100%|██████████| 1/1 [00:00<00:00, 120.82it/s]\n"
     ]
    },
    {
     "name": "stdout",
     "output_type": "stream",
     "text": [
      "Epoch: 13 of 30, 0.002 min\n"
     ]
    },
    {
     "name": "stderr",
     "output_type": "stream",
     "text": [
      "I'm studying hard now🧐, don't disturb!: 100%|██████████| 6/6 [00:00<00:00, 73.24it/s]\n",
      "Let's see how good I am...: 100%|██████████| 1/1 [00:00<00:00, 103.84it/s]\n"
     ]
    },
    {
     "name": "stdout",
     "output_type": "stream",
     "text": [
      "Epoch: 14 of 30, 0.002 min\n"
     ]
    },
    {
     "name": "stderr",
     "output_type": "stream",
     "text": [
      "I'm studying hard now🧐, don't disturb!: 100%|██████████| 6/6 [00:00<00:00, 81.66it/s]\n",
      "Let's see how good I am...: 100%|██████████| 1/1 [00:00<00:00, 123.63it/s]\n"
     ]
    },
    {
     "name": "stdout",
     "output_type": "stream",
     "text": [
      "Epoch: 15 of 30, 0.002 min\n"
     ]
    },
    {
     "name": "stderr",
     "output_type": "stream",
     "text": [
      "I'm studying hard now🧐, don't disturb!: 100%|██████████| 6/6 [00:00<00:00, 72.63it/s]\n",
      "Let's see how good I am...: 100%|██████████| 1/1 [00:00<00:00, 122.43it/s]\n"
     ]
    },
    {
     "name": "stdout",
     "output_type": "stream",
     "text": [
      "Epoch: 16 of 30, 0.002 min\n"
     ]
    },
    {
     "name": "stderr",
     "output_type": "stream",
     "text": [
      "I'm studying hard now🧐, don't disturb!: 100%|██████████| 6/6 [00:00<00:00, 81.64it/s]\n",
      "Let's see how good I am...: 100%|██████████| 1/1 [00:00<00:00, 119.15it/s]\n"
     ]
    },
    {
     "name": "stdout",
     "output_type": "stream",
     "text": [
      "Epoch: 17 of 30, 0.001 min\n"
     ]
    },
    {
     "name": "stderr",
     "output_type": "stream",
     "text": [
      "I'm studying hard now🧐, don't disturb!: 100%|██████████| 6/6 [00:00<00:00, 81.04it/s]\n",
      "Let's see how good I am...: 100%|██████████| 1/1 [00:00<00:00, 121.05it/s]\n"
     ]
    },
    {
     "name": "stdout",
     "output_type": "stream",
     "text": [
      "Epoch: 18 of 30, 0.002 min\n"
     ]
    },
    {
     "name": "stderr",
     "output_type": "stream",
     "text": [
      "I'm studying hard now🧐, don't disturb!: 100%|██████████| 6/6 [00:00<00:00, 52.81it/s]\n",
      "Let's see how good I am...: 100%|██████████| 1/1 [00:00<00:00, 249.38it/s]\n"
     ]
    },
    {
     "name": "stdout",
     "output_type": "stream",
     "text": [
      "Epoch: 19 of 30, 0.002 min\n"
     ]
    },
    {
     "name": "stderr",
     "output_type": "stream",
     "text": [
      "I'm studying hard now🧐, don't disturb!: 100%|██████████| 6/6 [00:00<00:00, 91.30it/s]\n",
      "Let's see how good I am...: 100%|██████████| 1/1 [00:00<00:00, 122.62it/s]\n"
     ]
    },
    {
     "name": "stdout",
     "output_type": "stream",
     "text": [
      "Epoch: 20 of 30, 0.001 min\n"
     ]
    },
    {
     "name": "stderr",
     "output_type": "stream",
     "text": [
      "I'm studying hard now🧐, don't disturb!: 100%|██████████| 6/6 [00:00<00:00, 82.41it/s]\n",
      "Let's see how good I am...: 100%|██████████| 1/1 [00:00<?, ?it/s]\n"
     ]
    },
    {
     "name": "stdout",
     "output_type": "stream",
     "text": [
      "Epoch: 21 of 30, 0.001 min\n"
     ]
    },
    {
     "name": "stderr",
     "output_type": "stream",
     "text": [
      "I'm studying hard now🧐, don't disturb!: 100%|██████████| 6/6 [00:00<00:00, 72.59it/s]\n",
      "Let's see how good I am...: 100%|██████████| 1/1 [00:00<00:00, 72.60it/s]\n"
     ]
    },
    {
     "name": "stdout",
     "output_type": "stream",
     "text": [
      "Epoch: 22 of 30, 0.002 min\n"
     ]
    },
    {
     "name": "stderr",
     "output_type": "stream",
     "text": [
      "I'm studying hard now🧐, don't disturb!: 100%|██████████| 6/6 [00:00<00:00, 36.76it/s]\n",
      "Let's see how good I am...: 100%|██████████| 1/1 [00:00<00:00, 154.15it/s]\n"
     ]
    },
    {
     "name": "stdout",
     "output_type": "stream",
     "text": [
      "Epoch: 23 of 30, 0.003 min\n"
     ]
    },
    {
     "name": "stderr",
     "output_type": "stream",
     "text": [
      "I'm studying hard now🧐, don't disturb!: 100%|██████████| 6/6 [00:00<00:00, 86.06it/s]\n",
      "Let's see how good I am...: 100%|██████████| 1/1 [00:00<?, ?it/s]\n"
     ]
    },
    {
     "name": "stdout",
     "output_type": "stream",
     "text": [
      "Epoch: 24 of 30, 0.001 min\n"
     ]
    },
    {
     "name": "stderr",
     "output_type": "stream",
     "text": [
      "I'm studying hard now🧐, don't disturb!: 100%|██████████| 6/6 [00:00<00:00, 81.19it/s]\n",
      "Let's see how good I am...: 100%|██████████| 1/1 [00:00<00:00, 122.01it/s]\n"
     ]
    },
    {
     "name": "stdout",
     "output_type": "stream",
     "text": [
      "Epoch: 25 of 30, 0.002 min\n"
     ]
    },
    {
     "name": "stderr",
     "output_type": "stream",
     "text": [
      "I'm studying hard now🧐, don't disturb!: 100%|██████████| 6/6 [00:00<00:00, 81.16it/s]\n",
      "Let's see how good I am...: 100%|██████████| 1/1 [00:00<00:00, 120.54it/s]\n"
     ]
    },
    {
     "name": "stdout",
     "output_type": "stream",
     "text": [
      "Epoch: 26 of 30, 0.002 min\n"
     ]
    },
    {
     "name": "stderr",
     "output_type": "stream",
     "text": [
      "I'm studying hard now🧐, don't disturb!: 100%|██████████| 6/6 [00:00<00:00, 82.17it/s]\n",
      "Let's see how good I am...: 100%|██████████| 1/1 [00:00<?, ?it/s]\n"
     ]
    },
    {
     "name": "stdout",
     "output_type": "stream",
     "text": [
      "Epoch: 27 of 30, 0.001 min\n"
     ]
    },
    {
     "name": "stderr",
     "output_type": "stream",
     "text": [
      "I'm studying hard now🧐, don't disturb!: 100%|██████████| 6/6 [00:00<00:00, 61.32it/s]\n",
      "Let's see how good I am...: 100%|██████████| 1/1 [00:00<00:00, 121.92it/s]\n"
     ]
    },
    {
     "name": "stdout",
     "output_type": "stream",
     "text": [
      "Epoch: 28 of 30, 0.002 min\n"
     ]
    },
    {
     "name": "stderr",
     "output_type": "stream",
     "text": [
      "I'm studying hard now🧐, don't disturb!: 100%|██████████| 6/6 [00:00<00:00, 92.59it/s]\n",
      "Let's see how good I am...: 100%|██████████| 1/1 [00:00<00:00, 124.89it/s]\n"
     ]
    },
    {
     "name": "stdout",
     "output_type": "stream",
     "text": [
      "Epoch: 29 of 30, 0.001 min\n"
     ]
    },
    {
     "name": "stderr",
     "output_type": "stream",
     "text": [
      "I'm studying hard now🧐, don't disturb!: 100%|██████████| 6/6 [00:00<00:00, 92.17it/s]\n",
      "Let's see how good I am...: 100%|██████████| 1/1 [00:00<?, ?it/s]\n"
     ]
    },
    {
     "name": "stdout",
     "output_type": "stream",
     "text": [
      "Epoch: 30 of 30, 0.001 min\n"
     ]
    },
    {
     "data": {
      "text/html": [
       "Waiting for W&B process to finish... <strong style=\"color:green\">(success).</strong>"
      ],
      "text/plain": [
       "<IPython.core.display.HTML object>"
      ]
     },
     "metadata": {},
     "output_type": "display_data"
    },
    {
     "data": {
      "text/html": [
       "<style>\n",
       "    table.wandb td:nth-child(1) { padding: 0 10px; text-align: left ; width: auto;} td:nth-child(2) {text-align: left ; width: 100%}\n",
       "    .wandb-row { display: flex; flex-direction: row; flex-wrap: wrap; justify-content: flex-start; width: 100% }\n",
       "    .wandb-col { display: flex; flex-direction: column; flex-basis: 100%; flex: 1; padding: 10px; }\n",
       "    </style>\n",
       "<div class=\"wandb-row\"><div class=\"wandb-col\"><h3>Run history:</h3><br/><table class=\"wandb\"><tr><td>epoch</td><td>▁▁▁▂▂▂▂▃▃▃▃▄▄▄▄▅▅▅▅▆▆▆▆▇▇▇▇███</td></tr><tr><td>lr</td><td>██▇▇▆▆▆▅▅▅▄▄▄▄▃▃▃▃▃▂▂▂▂▂▂▁▁▁▁▁</td></tr><tr><td>test_loss</td><td>█▃▁▁▁▁▁▁▁▁▁▁▁▁▁▁▁▁▁▁▁▁▁▁▁▁▁▁▁▁</td></tr><tr><td>train_loss</td><td>█▄▂▁▁▁▁▁▁▁▁▁▁▁▁▁▁▁▁▁▁▁▁▁▁▁▁▁▁▁</td></tr></table><br/></div><div class=\"wandb-col\"><h3>Run summary:</h3><br/><table class=\"wandb\"><tr><td>epoch</td><td>29</td></tr><tr><td>lr</td><td>0.00215</td></tr><tr><td>test_loss</td><td>1.24033</td></tr><tr><td>train_loss</td><td>1.34438</td></tr></table><br/></div></div>"
      ],
      "text/plain": [
       "<IPython.core.display.HTML object>"
      ]
     },
     "metadata": {},
     "output_type": "display_data"
    },
    {
     "data": {
      "text/html": [
       " View run <strong style=\"color:#cdcd00\">Autoencoder_simple_HidParam-512_Latent-5</strong> at: <a href='https://wandb.ai/dmitrii_fomin_uga/Internship_project/runs/tgkmjc1c' target=\"_blank\">https://wandb.ai/dmitrii_fomin_uga/Internship_project/runs/tgkmjc1c</a><br/>Synced 5 W&B file(s), 0 media file(s), 0 artifact file(s) and 0 other file(s)"
      ],
      "text/plain": [
       "<IPython.core.display.HTML object>"
      ]
     },
     "metadata": {},
     "output_type": "display_data"
    },
    {
     "data": {
      "text/html": [
       "Find logs at: <code>../logs/wandb\\run-20230529_210857-tgkmjc1c\\logs</code>"
      ],
      "text/plain": [
       "<IPython.core.display.HTML object>"
      ]
     },
     "metadata": {},
     "output_type": "display_data"
    },
    {
     "data": {
      "text/html": [
       "Tracking run with wandb version 0.15.3"
      ],
      "text/plain": [
       "<IPython.core.display.HTML object>"
      ]
     },
     "metadata": {},
     "output_type": "display_data"
    },
    {
     "data": {
      "text/html": [
       "Run data is saved locally in <code>../logs/wandb\\run-20230529_210908-owo6rxbi</code>"
      ],
      "text/plain": [
       "<IPython.core.display.HTML object>"
      ]
     },
     "metadata": {},
     "output_type": "display_data"
    },
    {
     "data": {
      "text/html": [
       "Syncing run <strong><a href='https://wandb.ai/dmitrii_fomin_uga/Internship_project/runs/owo6rxbi' target=\"_blank\">JMVae_NumLab-1000_LatDim-5</a></strong> to <a href='https://wandb.ai/dmitrii_fomin_uga/Internship_project' target=\"_blank\">Weights & Biases</a> (<a href='https://wandb.me/run' target=\"_blank\">docs</a>)<br/>"
      ],
      "text/plain": [
       "<IPython.core.display.HTML object>"
      ]
     },
     "metadata": {},
     "output_type": "display_data"
    },
    {
     "data": {
      "text/html": [
       " View project at <a href='https://wandb.ai/dmitrii_fomin_uga/Internship_project' target=\"_blank\">https://wandb.ai/dmitrii_fomin_uga/Internship_project</a>"
      ],
      "text/plain": [
       "<IPython.core.display.HTML object>"
      ]
     },
     "metadata": {},
     "output_type": "display_data"
    },
    {
     "data": {
      "text/html": [
       " View run at <a href='https://wandb.ai/dmitrii_fomin_uga/Internship_project/runs/owo6rxbi' target=\"_blank\">https://wandb.ai/dmitrii_fomin_uga/Internship_project/runs/owo6rxbi</a>"
      ],
      "text/plain": [
       "<IPython.core.display.HTML object>"
      ]
     },
     "metadata": {},
     "output_type": "display_data"
    },
    {
     "name": "stderr",
     "output_type": "stream",
     "text": [
      "I'm studying hard now🧐, don't disturb!: 100%|██████████| 1/1 [00:00<00:00, 34.47it/s]\n",
      "Let's see how good I am...: 100%|██████████| 2/2 [00:00<00:00, 34.19it/s]\n"
     ]
    },
    {
     "name": "stdout",
     "output_type": "stream",
     "text": [
      "Epoch: 1 of 20, 0.001 min\n"
     ]
    },
    {
     "name": "stderr",
     "output_type": "stream",
     "text": [
      "I'm studying hard now🧐, don't disturb!: 100%|██████████| 1/1 [00:00<00:00, 40.75it/s]\n",
      "Let's see how good I am...: 100%|██████████| 2/2 [00:00<00:00, 40.94it/s]\n"
     ]
    },
    {
     "name": "stdout",
     "output_type": "stream",
     "text": [
      "Epoch: 2 of 20, 0.001 min\n"
     ]
    },
    {
     "name": "stderr",
     "output_type": "stream",
     "text": [
      "I'm studying hard now🧐, don't disturb!: 100%|██████████| 1/1 [00:00<00:00, 40.68it/s]\n",
      "Let's see how good I am...: 100%|██████████| 2/2 [00:00<00:00, 43.53it/s]\n"
     ]
    },
    {
     "name": "stdout",
     "output_type": "stream",
     "text": [
      "Epoch: 3 of 20, 0.001 min\n"
     ]
    },
    {
     "name": "stderr",
     "output_type": "stream",
     "text": [
      "I'm studying hard now🧐, don't disturb!: 100%|██████████| 1/1 [00:00<00:00, 60.80it/s]\n",
      "Let's see how good I am...: 100%|██████████| 2/2 [00:00<00:00, 46.11it/s]\n"
     ]
    },
    {
     "name": "stdout",
     "output_type": "stream",
     "text": [
      "Epoch: 4 of 20, 0.001 min\n"
     ]
    },
    {
     "name": "stderr",
     "output_type": "stream",
     "text": [
      "I'm studying hard now🧐, don't disturb!: 100%|██████████| 1/1 [00:00<00:00, 42.06it/s]\n",
      "Let's see how good I am...: 100%|██████████| 2/2 [00:00<00:00, 40.18it/s]\n"
     ]
    },
    {
     "name": "stdout",
     "output_type": "stream",
     "text": [
      "Epoch: 5 of 20, 0.001 min\n"
     ]
    },
    {
     "name": "stderr",
     "output_type": "stream",
     "text": [
      "I'm studying hard now🧐, don't disturb!: 100%|██████████| 1/1 [00:00<00:00, 62.08it/s]\n",
      "Let's see how good I am...: 100%|██████████| 2/2 [00:00<00:00, 49.71it/s]\n"
     ]
    },
    {
     "name": "stdout",
     "output_type": "stream",
     "text": [
      "Epoch: 6 of 20, 0.001 min\n"
     ]
    },
    {
     "name": "stderr",
     "output_type": "stream",
     "text": [
      "I'm studying hard now🧐, don't disturb!: 100%|██████████| 1/1 [00:00<00:00, 61.83it/s]\n",
      "Let's see how good I am...: 100%|██████████| 2/2 [00:00<00:00, 45.31it/s]\n"
     ]
    },
    {
     "name": "stdout",
     "output_type": "stream",
     "text": [
      "Epoch: 7 of 20, 0.001 min\n"
     ]
    },
    {
     "name": "stderr",
     "output_type": "stream",
     "text": [
      "I'm studying hard now🧐, don't disturb!: 100%|██████████| 1/1 [00:00<00:00, 40.72it/s]\n",
      "Let's see how good I am...: 100%|██████████| 2/2 [00:00<00:00, 33.83it/s]\n"
     ]
    },
    {
     "name": "stdout",
     "output_type": "stream",
     "text": [
      "Epoch: 8 of 20, 0.002 min\n"
     ]
    },
    {
     "name": "stderr",
     "output_type": "stream",
     "text": [
      "I'm studying hard now🧐, don't disturb!: 100%|██████████| 1/1 [00:00<00:00, 31.04it/s]\n",
      "Let's see how good I am...: 100%|██████████| 2/2 [00:00<00:00, 40.66it/s]\n"
     ]
    },
    {
     "name": "stdout",
     "output_type": "stream",
     "text": [
      "Epoch: 9 of 20, 0.002 min\n"
     ]
    },
    {
     "name": "stderr",
     "output_type": "stream",
     "text": [
      "I'm studying hard now🧐, don't disturb!: 100%|██████████| 1/1 [00:00<00:00, 60.62it/s]\n",
      "Let's see how good I am...: 100%|██████████| 2/2 [00:00<00:00, 48.15it/s]\n"
     ]
    },
    {
     "name": "stdout",
     "output_type": "stream",
     "text": [
      "Epoch: 10 of 20, 0.001 min\n"
     ]
    },
    {
     "name": "stderr",
     "output_type": "stream",
     "text": [
      "I'm studying hard now🧐, don't disturb!: 100%|██████████| 1/1 [00:00<00:00, 62.17it/s]\n",
      "Let's see how good I am...: 100%|██████████| 2/2 [00:00<00:00, 40.49it/s]\n"
     ]
    },
    {
     "name": "stdout",
     "output_type": "stream",
     "text": [
      "Epoch: 11 of 20, 0.001 min\n"
     ]
    },
    {
     "name": "stderr",
     "output_type": "stream",
     "text": [
      "I'm studying hard now🧐, don't disturb!: 100%|██████████| 1/1 [00:00<00:00, 48.65it/s]\n",
      "Let's see how good I am...: 100%|██████████| 2/2 [00:00<00:00, 34.36it/s]\n"
     ]
    },
    {
     "name": "stdout",
     "output_type": "stream",
     "text": [
      "Epoch: 12 of 20, 0.001 min\n"
     ]
    },
    {
     "name": "stderr",
     "output_type": "stream",
     "text": [
      "I'm studying hard now🧐, don't disturb!: 100%|██████████| 1/1 [00:00<00:00, 41.38it/s]\n",
      "Let's see how good I am...: 100%|██████████| 2/2 [00:00<00:00, 54.25it/s]\n"
     ]
    },
    {
     "name": "stdout",
     "output_type": "stream",
     "text": [
      "Epoch: 13 of 20, 0.002 min\n"
     ]
    },
    {
     "name": "stderr",
     "output_type": "stream",
     "text": [
      "I'm studying hard now🧐, don't disturb!: 100%|██████████| 1/1 [00:00<00:00, 41.17it/s]\n",
      "Let's see how good I am...: 100%|██████████| 2/2 [00:00<00:00, 40.40it/s]\n"
     ]
    },
    {
     "name": "stdout",
     "output_type": "stream",
     "text": [
      "Epoch: 14 of 20, 0.001 min\n"
     ]
    },
    {
     "name": "stderr",
     "output_type": "stream",
     "text": [
      "I'm studying hard now🧐, don't disturb!: 100%|██████████| 1/1 [00:00<00:00, 41.34it/s]\n",
      "Let's see how good I am...: 100%|██████████| 2/2 [00:00<00:00, 40.57it/s]\n"
     ]
    },
    {
     "name": "stdout",
     "output_type": "stream",
     "text": [
      "Epoch: 15 of 20, 0.001 min\n"
     ]
    },
    {
     "name": "stderr",
     "output_type": "stream",
     "text": [
      "I'm studying hard now🧐, don't disturb!: 100%|██████████| 1/1 [00:00<00:00, 41.19it/s]\n",
      "Let's see how good I am...: 100%|██████████| 2/2 [00:00<00:00, 40.34it/s]\n"
     ]
    },
    {
     "name": "stdout",
     "output_type": "stream",
     "text": [
      "Epoch: 16 of 20, 0.001 min\n"
     ]
    },
    {
     "name": "stderr",
     "output_type": "stream",
     "text": [
      "I'm studying hard now🧐, don't disturb!: 100%|██████████| 1/1 [00:00<00:00, 61.23it/s]\n",
      "Let's see how good I am...: 100%|██████████| 2/2 [00:00<00:00, 49.36it/s]\n"
     ]
    },
    {
     "name": "stdout",
     "output_type": "stream",
     "text": [
      "Epoch: 17 of 20, 0.001 min\n"
     ]
    },
    {
     "name": "stderr",
     "output_type": "stream",
     "text": [
      "I'm studying hard now🧐, don't disturb!: 100%|██████████| 1/1 [00:00<00:00, 61.33it/s]\n",
      "Let's see how good I am...: 100%|██████████| 2/2 [00:00<00:00, 24.72it/s]\n"
     ]
    },
    {
     "name": "stdout",
     "output_type": "stream",
     "text": [
      "Epoch: 18 of 20, 0.002 min\n"
     ]
    },
    {
     "name": "stderr",
     "output_type": "stream",
     "text": [
      "I'm studying hard now🧐, don't disturb!: 100%|██████████| 1/1 [00:00<00:00,  8.83it/s]\n",
      "Let's see how good I am...: 100%|██████████| 2/2 [00:00<00:00, 50.18it/s]\n"
     ]
    },
    {
     "name": "stdout",
     "output_type": "stream",
     "text": [
      "Epoch: 19 of 20, 0.003 min\n"
     ]
    },
    {
     "name": "stderr",
     "output_type": "stream",
     "text": [
      "I'm studying hard now🧐, don't disturb!: 100%|██████████| 1/1 [00:00<00:00, 59.25it/s]\n",
      "Let's see how good I am...: 100%|██████████| 2/2 [00:00<00:00, 48.13it/s]"
     ]
    },
    {
     "name": "stdout",
     "output_type": "stream",
     "text": [
      "Epoch: 20 of 20, 0.001 min\n"
     ]
    },
    {
     "name": "stderr",
     "output_type": "stream",
     "text": [
      "\n"
     ]
    },
    {
     "data": {
      "text/html": [
       "Waiting for W&B process to finish... <strong style=\"color:green\">(success).</strong>"
      ],
      "text/plain": [
       "<IPython.core.display.HTML object>"
      ]
     },
     "metadata": {},
     "output_type": "display_data"
    },
    {
     "data": {
      "text/html": [
       "<style>\n",
       "    table.wandb td:nth-child(1) { padding: 0 10px; text-align: left ; width: auto;} td:nth-child(2) {text-align: left ; width: 100%}\n",
       "    .wandb-row { display: flex; flex-direction: row; flex-wrap: wrap; justify-content: flex-start; width: 100% }\n",
       "    .wandb-col { display: flex; flex-direction: column; flex-basis: 100%; flex: 1; padding: 10px; }\n",
       "    </style>\n",
       "<div class=\"wandb-row\"><div class=\"wandb-col\"><h3>Run history:</h3><br/><table class=\"wandb\"><tr><td>epoch</td><td>▁▁▂▂▂▃▃▄▄▄▅▅▅▆▆▇▇▇██</td></tr><tr><td>lr</td><td>█▇▇▆▆▅▅▅▄▄▃▃▃▃▂▂▂▁▁▁</td></tr><tr><td>test_accuracy</td><td>▁███████████████████</td></tr><tr><td>test_auc_score</td><td>▃▂▁▂▄▅▅▇▆▇▇▇██▇▇████</td></tr><tr><td>test_f1_score</td><td>▁███████████████████</td></tr><tr><td>test_fpr</td><td>█▁▁▁▁▁▁▁▁▁▁▁▁▁▁▁▁▁▁▁</td></tr><tr><td>test_loss</td><td>█▅▄▂▂▁▁▁▁▁▁▁▁▁▂▂▂▂▂▂</td></tr><tr><td>test_tpr</td><td>█▁▁▁▁▁▁▁▁▁▁▁▁▁▁▁▁▁▁▁</td></tr><tr><td>train_accuracy</td><td>▁▄▇█████████████████</td></tr><tr><td>train_auc_score</td><td>▄▃▃▂▁▁▁▁▂▃▄▅▅▆▆▇▇▇██</td></tr><tr><td>train_f1_score</td><td>▁▄▆▇▆▆▆▆▆▆▆▆▆███████</td></tr><tr><td>train_fpr</td><td>█▅▂▁▁▁▁▁▁▁▁▁▁▁▁▁▁▁▁▁</td></tr><tr><td>train_loss</td><td>█▄▂▂▂▂▂▂▁▁▁▁▁▁▁▁▁▁▁▁</td></tr><tr><td>train_tpr</td><td>█▆▃▂▁▁▁▁▁▁▁▁▁▂▂▂▂▂▂▂</td></tr></table><br/></div><div class=\"wandb-col\"><h3>Run summary:</h3><br/><table class=\"wandb\"><tr><td>epoch</td><td>19</td></tr><tr><td>lr</td><td>0.00358</td></tr><tr><td>test_accuracy</td><td>0.96605</td></tr><tr><td>test_auc_score</td><td>0.56297</td></tr><tr><td>test_f1_score</td><td>0.49137</td></tr><tr><td>test_fpr</td><td>0.0</td></tr><tr><td>test_loss</td><td>0.05446</td></tr><tr><td>test_tpr</td><td>0.0</td></tr><tr><td>train_accuracy</td><td>0.964</td></tr><tr><td>train_auc_score</td><td>0.7046</td></tr><tr><td>train_f1_score</td><td>0.59948</td></tr><tr><td>train_fpr</td><td>0.00725</td></tr><tr><td>train_loss</td><td>0.02629</td></tr><tr><td>train_tpr</td><td>0.14706</td></tr></table><br/></div></div>"
      ],
      "text/plain": [
       "<IPython.core.display.HTML object>"
      ]
     },
     "metadata": {},
     "output_type": "display_data"
    },
    {
     "data": {
      "text/html": [
       " View run <strong style=\"color:#cdcd00\">JMVae_NumLab-1000_LatDim-5</strong> at: <a href='https://wandb.ai/dmitrii_fomin_uga/Internship_project/runs/owo6rxbi' target=\"_blank\">https://wandb.ai/dmitrii_fomin_uga/Internship_project/runs/owo6rxbi</a><br/>Synced 5 W&B file(s), 0 media file(s), 0 artifact file(s) and 0 other file(s)"
      ],
      "text/plain": [
       "<IPython.core.display.HTML object>"
      ]
     },
     "metadata": {},
     "output_type": "display_data"
    },
    {
     "data": {
      "text/html": [
       "Find logs at: <code>../logs/wandb\\run-20230529_210908-owo6rxbi\\logs</code>"
      ],
      "text/plain": [
       "<IPython.core.display.HTML object>"
      ]
     },
     "metadata": {},
     "output_type": "display_data"
    },
    {
     "data": {
      "text/html": [
       "Tracking run with wandb version 0.15.3"
      ],
      "text/plain": [
       "<IPython.core.display.HTML object>"
      ]
     },
     "metadata": {},
     "output_type": "display_data"
    },
    {
     "data": {
      "text/html": [
       "Run data is saved locally in <code>../logs/wandb\\run-20230529_210919-f3vzo0iq</code>"
      ],
      "text/plain": [
       "<IPython.core.display.HTML object>"
      ]
     },
     "metadata": {},
     "output_type": "display_data"
    },
    {
     "data": {
      "text/html": [
       "Syncing run <strong><a href='https://wandb.ai/dmitrii_fomin_uga/Internship_project/runs/f3vzo0iq' target=\"_blank\">Autoencoder_simple_HidParam-512_Latent-5</a></strong> to <a href='https://wandb.ai/dmitrii_fomin_uga/Internship_project' target=\"_blank\">Weights & Biases</a> (<a href='https://wandb.me/run' target=\"_blank\">docs</a>)<br/>"
      ],
      "text/plain": [
       "<IPython.core.display.HTML object>"
      ]
     },
     "metadata": {},
     "output_type": "display_data"
    },
    {
     "data": {
      "text/html": [
       " View project at <a href='https://wandb.ai/dmitrii_fomin_uga/Internship_project' target=\"_blank\">https://wandb.ai/dmitrii_fomin_uga/Internship_project</a>"
      ],
      "text/plain": [
       "<IPython.core.display.HTML object>"
      ]
     },
     "metadata": {},
     "output_type": "display_data"
    },
    {
     "data": {
      "text/html": [
       " View run at <a href='https://wandb.ai/dmitrii_fomin_uga/Internship_project/runs/f3vzo0iq' target=\"_blank\">https://wandb.ai/dmitrii_fomin_uga/Internship_project/runs/f3vzo0iq</a>"
      ],
      "text/plain": [
       "<IPython.core.display.HTML object>"
      ]
     },
     "metadata": {},
     "output_type": "display_data"
    },
    {
     "name": "stderr",
     "output_type": "stream",
     "text": [
      "I'm studying hard now🧐, don't disturb!: 100%|██████████| 6/6 [00:00<00:00, 72.84it/s]\n",
      "Let's see how good I am...: 100%|██████████| 1/1 [00:00<00:00, 120.36it/s]\n"
     ]
    },
    {
     "name": "stdout",
     "output_type": "stream",
     "text": [
      "Epoch: 1 of 30, 0.002 min\n"
     ]
    },
    {
     "name": "stderr",
     "output_type": "stream",
     "text": [
      "I'm studying hard now🧐, don't disturb!: 100%|██████████| 6/6 [00:00<00:00, 72.95it/s]\n",
      "Let's see how good I am...: 100%|██████████| 1/1 [00:00<00:00, 123.20it/s]\n"
     ]
    },
    {
     "name": "stdout",
     "output_type": "stream",
     "text": [
      "Epoch: 2 of 30, 0.002 min\n"
     ]
    },
    {
     "name": "stderr",
     "output_type": "stream",
     "text": [
      "I'm studying hard now🧐, don't disturb!: 100%|██████████| 6/6 [00:00<00:00, 81.15it/s]\n",
      "Let's see how good I am...: 100%|██████████| 1/1 [00:00<00:00, 183.76it/s]\n"
     ]
    },
    {
     "name": "stdout",
     "output_type": "stream",
     "text": [
      "Epoch: 3 of 30, 0.001 min\n"
     ]
    },
    {
     "name": "stderr",
     "output_type": "stream",
     "text": [
      "I'm studying hard now🧐, don't disturb!: 100%|██████████| 6/6 [00:00<00:00, 48.92it/s]\n",
      "Let's see how good I am...: 100%|██████████| 1/1 [00:00<00:00, 123.54it/s]\n"
     ]
    },
    {
     "name": "stdout",
     "output_type": "stream",
     "text": [
      "Epoch: 4 of 30, 0.002 min\n"
     ]
    },
    {
     "name": "stderr",
     "output_type": "stream",
     "text": [
      "I'm studying hard now🧐, don't disturb!: 100%|██████████| 6/6 [00:00<00:00, 73.19it/s]\n",
      "Let's see how good I am...: 100%|██████████| 1/1 [00:00<00:00, 121.55it/s]\n"
     ]
    },
    {
     "name": "stdout",
     "output_type": "stream",
     "text": [
      "Epoch: 5 of 30, 0.002 min\n"
     ]
    },
    {
     "name": "stderr",
     "output_type": "stream",
     "text": [
      "I'm studying hard now🧐, don't disturb!: 100%|██████████| 6/6 [00:00<00:00, 78.58it/s]\n",
      "Let's see how good I am...: 100%|██████████| 1/1 [00:00<00:00, 448.21it/s]\n"
     ]
    },
    {
     "name": "stdout",
     "output_type": "stream",
     "text": [
      "Epoch: 6 of 30, 0.002 min\n"
     ]
    },
    {
     "name": "stderr",
     "output_type": "stream",
     "text": [
      "I'm studying hard now🧐, don't disturb!: 100%|██████████| 6/6 [00:00<00:00, 81.47it/s]\n",
      "Let's see how good I am...: 100%|██████████| 1/1 [00:00<00:00, 124.81it/s]\n"
     ]
    },
    {
     "name": "stdout",
     "output_type": "stream",
     "text": [
      "Epoch: 7 of 30, 0.002 min\n"
     ]
    },
    {
     "name": "stderr",
     "output_type": "stream",
     "text": [
      "I'm studying hard now🧐, don't disturb!: 100%|██████████| 6/6 [00:00<00:00, 81.33it/s]\n",
      "Let's see how good I am...: 100%|██████████| 1/1 [00:00<00:00, 121.09it/s]\n"
     ]
    },
    {
     "name": "stdout",
     "output_type": "stream",
     "text": [
      "Epoch: 8 of 30, 0.002 min\n"
     ]
    },
    {
     "name": "stderr",
     "output_type": "stream",
     "text": [
      "I'm studying hard now🧐, don't disturb!: 100%|██████████| 6/6 [00:00<00:00, 72.23it/s]\n",
      "Let's see how good I am...: 100%|██████████| 1/1 [00:00<00:00, 121.71it/s]\n"
     ]
    },
    {
     "name": "stdout",
     "output_type": "stream",
     "text": [
      "Epoch: 9 of 30, 0.002 min\n"
     ]
    },
    {
     "name": "stderr",
     "output_type": "stream",
     "text": [
      "I'm studying hard now🧐, don't disturb!: 100%|██████████| 6/6 [00:00<00:00, 91.40it/s]\n",
      "Let's see how good I am...: 100%|██████████| 1/1 [00:00<?, ?it/s]\n"
     ]
    },
    {
     "name": "stdout",
     "output_type": "stream",
     "text": [
      "Epoch: 10 of 30, 0.002 min\n"
     ]
    },
    {
     "name": "stderr",
     "output_type": "stream",
     "text": [
      "I'm studying hard now🧐, don't disturb!: 100%|██████████| 6/6 [00:00<00:00, 101.94it/s]\n",
      "Let's see how good I am...: 100%|██████████| 1/1 [00:00<00:00, 120.56it/s]\n"
     ]
    },
    {
     "name": "stdout",
     "output_type": "stream",
     "text": [
      "Epoch: 11 of 30, 0.001 min\n"
     ]
    },
    {
     "name": "stderr",
     "output_type": "stream",
     "text": [
      "I'm studying hard now🧐, don't disturb!: 100%|██████████| 6/6 [00:00<00:00, 99.00it/s]\n",
      "Let's see how good I am...: 100%|██████████| 1/1 [00:00<00:00, 124.56it/s]\n"
     ]
    },
    {
     "name": "stdout",
     "output_type": "stream",
     "text": [
      "Epoch: 12 of 30, 0.001 min\n"
     ]
    },
    {
     "name": "stderr",
     "output_type": "stream",
     "text": [
      "I'm studying hard now🧐, don't disturb!: 100%|██████████| 6/6 [00:00<00:00, 105.05it/s]\n",
      "Let's see how good I am...: 100%|██████████| 1/1 [00:00<00:00, 123.18it/s]\n"
     ]
    },
    {
     "name": "stdout",
     "output_type": "stream",
     "text": [
      "Epoch: 13 of 30, 0.001 min\n"
     ]
    },
    {
     "name": "stderr",
     "output_type": "stream",
     "text": [
      "I'm studying hard now🧐, don't disturb!: 100%|██████████| 6/6 [00:00<00:00, 91.26it/s]\n",
      "Let's see how good I am...: 100%|██████████| 1/1 [00:00<00:00, 124.64it/s]\n"
     ]
    },
    {
     "name": "stdout",
     "output_type": "stream",
     "text": [
      "Epoch: 14 of 30, 0.001 min\n"
     ]
    },
    {
     "name": "stderr",
     "output_type": "stream",
     "text": [
      "I'm studying hard now🧐, don't disturb!: 100%|██████████| 6/6 [00:00<00:00, 81.86it/s]\n",
      "Let's see how good I am...: 100%|██████████| 1/1 [00:00<00:00, 122.83it/s]\n"
     ]
    },
    {
     "name": "stdout",
     "output_type": "stream",
     "text": [
      "Epoch: 15 of 30, 0.002 min\n"
     ]
    },
    {
     "name": "stderr",
     "output_type": "stream",
     "text": [
      "I'm studying hard now🧐, don't disturb!: 100%|██████████| 6/6 [00:00<00:00, 94.08it/s]\n",
      "Let's see how good I am...: 100%|██████████| 1/1 [00:00<00:00, 118.76it/s]\n"
     ]
    },
    {
     "name": "stdout",
     "output_type": "stream",
     "text": [
      "Epoch: 16 of 30, 0.001 min\n"
     ]
    },
    {
     "name": "stderr",
     "output_type": "stream",
     "text": [
      "I'm studying hard now🧐, don't disturb!: 100%|██████████| 6/6 [00:00<00:00, 90.69it/s]\n",
      "Let's see how good I am...: 100%|██████████| 1/1 [00:00<?, ?it/s]\n"
     ]
    },
    {
     "name": "stdout",
     "output_type": "stream",
     "text": [
      "Epoch: 17 of 30, 0.001 min\n"
     ]
    },
    {
     "name": "stderr",
     "output_type": "stream",
     "text": [
      "I'm studying hard now🧐, don't disturb!: 100%|██████████| 6/6 [00:00<00:00, 91.88it/s]\n",
      "Let's see how good I am...: 100%|██████████| 1/1 [00:00<00:00, 118.82it/s]\n"
     ]
    },
    {
     "name": "stdout",
     "output_type": "stream",
     "text": [
      "Epoch: 18 of 30, 0.001 min\n"
     ]
    },
    {
     "name": "stderr",
     "output_type": "stream",
     "text": [
      "I'm studying hard now🧐, don't disturb!: 100%|██████████| 6/6 [00:00<00:00, 91.12it/s]\n",
      "Let's see how good I am...: 100%|██████████| 1/1 [00:00<00:00, 118.53it/s]\n"
     ]
    },
    {
     "name": "stdout",
     "output_type": "stream",
     "text": [
      "Epoch: 19 of 30, 0.001 min\n"
     ]
    },
    {
     "name": "stderr",
     "output_type": "stream",
     "text": [
      "I'm studying hard now🧐, don't disturb!: 100%|██████████| 6/6 [00:00<00:00, 103.59it/s]\n",
      "Let's see how good I am...: 100%|██████████| 1/1 [00:00<00:00, 124.60it/s]\n"
     ]
    },
    {
     "name": "stdout",
     "output_type": "stream",
     "text": [
      "Epoch: 20 of 30, 0.001 min\n"
     ]
    },
    {
     "name": "stderr",
     "output_type": "stream",
     "text": [
      "I'm studying hard now🧐, don't disturb!: 100%|██████████| 6/6 [00:00<00:00, 91.38it/s]\n",
      "Let's see how good I am...: 100%|██████████| 1/1 [00:00<?, ?it/s]\n"
     ]
    },
    {
     "name": "stdout",
     "output_type": "stream",
     "text": [
      "Epoch: 21 of 30, 0.001 min\n"
     ]
    },
    {
     "name": "stderr",
     "output_type": "stream",
     "text": [
      "I'm studying hard now🧐, don't disturb!: 100%|██████████| 6/6 [00:00<00:00, 91.11it/s]\n",
      "Let's see how good I am...: 100%|██████████| 1/1 [00:00<00:00, 118.09it/s]\n"
     ]
    },
    {
     "name": "stdout",
     "output_type": "stream",
     "text": [
      "Epoch: 22 of 30, 0.001 min\n"
     ]
    },
    {
     "name": "stderr",
     "output_type": "stream",
     "text": [
      "I'm studying hard now🧐, don't disturb!: 100%|██████████| 6/6 [00:00<00:00, 94.29it/s]\n",
      "Let's see how good I am...: 100%|██████████| 1/1 [00:00<00:00, 120.04it/s]\n"
     ]
    },
    {
     "name": "stdout",
     "output_type": "stream",
     "text": [
      "Epoch: 23 of 30, 0.001 min\n"
     ]
    },
    {
     "name": "stderr",
     "output_type": "stream",
     "text": [
      "I'm studying hard now🧐, don't disturb!: 100%|██████████| 6/6 [00:00<00:00, 100.19it/s]\n",
      "Let's see how good I am...: 100%|██████████| 1/1 [00:00<00:00, 154.79it/s]\n"
     ]
    },
    {
     "name": "stdout",
     "output_type": "stream",
     "text": [
      "Epoch: 24 of 30, 0.001 min\n"
     ]
    },
    {
     "name": "stderr",
     "output_type": "stream",
     "text": [
      "I'm studying hard now🧐, don't disturb!: 100%|██████████| 6/6 [00:00<00:00, 96.18it/s]\n",
      "Let's see how good I am...: 100%|██████████| 1/1 [00:00<00:00, 108.96it/s]\n"
     ]
    },
    {
     "name": "stdout",
     "output_type": "stream",
     "text": [
      "Epoch: 25 of 30, 0.001 min\n"
     ]
    },
    {
     "name": "stderr",
     "output_type": "stream",
     "text": [
      "I'm studying hard now🧐, don't disturb!: 100%|██████████| 6/6 [00:00<00:00, 90.47it/s]\n",
      "Let's see how good I am...: 100%|██████████| 1/1 [00:00<00:00, 139.65it/s]\n"
     ]
    },
    {
     "name": "stdout",
     "output_type": "stream",
     "text": [
      "Epoch: 26 of 30, 0.001 min\n"
     ]
    },
    {
     "name": "stderr",
     "output_type": "stream",
     "text": [
      "I'm studying hard now🧐, don't disturb!: 100%|██████████| 6/6 [00:00<00:00, 106.53it/s]\n",
      "Let's see how good I am...: 100%|██████████| 1/1 [00:00<00:00, 142.53it/s]\n"
     ]
    },
    {
     "name": "stdout",
     "output_type": "stream",
     "text": [
      "Epoch: 27 of 30, 0.001 min\n"
     ]
    },
    {
     "name": "stderr",
     "output_type": "stream",
     "text": [
      "I'm studying hard now🧐, don't disturb!: 100%|██████████| 6/6 [00:00<00:00, 100.10it/s]\n",
      "Let's see how good I am...: 100%|██████████| 1/1 [00:00<00:00, 118.05it/s]\n"
     ]
    },
    {
     "name": "stdout",
     "output_type": "stream",
     "text": [
      "Epoch: 28 of 30, 0.001 min\n"
     ]
    },
    {
     "name": "stderr",
     "output_type": "stream",
     "text": [
      "I'm studying hard now🧐, don't disturb!: 100%|██████████| 6/6 [00:00<00:00, 91.33it/s]\n",
      "Let's see how good I am...: 100%|██████████| 1/1 [00:00<00:00, 104.23it/s]\n"
     ]
    },
    {
     "name": "stdout",
     "output_type": "stream",
     "text": [
      "Epoch: 29 of 30, 0.001 min\n"
     ]
    },
    {
     "name": "stderr",
     "output_type": "stream",
     "text": [
      "I'm studying hard now🧐, don't disturb!: 100%|██████████| 6/6 [00:00<00:00, 91.57it/s]\n",
      "Let's see how good I am...: 100%|██████████| 1/1 [00:00<00:00, 122.90it/s]"
     ]
    },
    {
     "name": "stdout",
     "output_type": "stream",
     "text": [
      "Epoch: 30 of 30, 0.001 min\n"
     ]
    },
    {
     "name": "stderr",
     "output_type": "stream",
     "text": [
      "\n"
     ]
    },
    {
     "data": {
      "text/html": [
       "Waiting for W&B process to finish... <strong style=\"color:green\">(success).</strong>"
      ],
      "text/plain": [
       "<IPython.core.display.HTML object>"
      ]
     },
     "metadata": {},
     "output_type": "display_data"
    },
    {
     "data": {
      "text/html": [
       "<style>\n",
       "    table.wandb td:nth-child(1) { padding: 0 10px; text-align: left ; width: auto;} td:nth-child(2) {text-align: left ; width: 100%}\n",
       "    .wandb-row { display: flex; flex-direction: row; flex-wrap: wrap; justify-content: flex-start; width: 100% }\n",
       "    .wandb-col { display: flex; flex-direction: column; flex-basis: 100%; flex: 1; padding: 10px; }\n",
       "    </style>\n",
       "<div class=\"wandb-row\"><div class=\"wandb-col\"><h3>Run history:</h3><br/><table class=\"wandb\"><tr><td>epoch</td><td>▁▁▁▂▂▂▂▃▃▃▃▄▄▄▄▅▅▅▅▆▆▆▆▇▇▇▇███</td></tr><tr><td>lr</td><td>██▇▇▆▆▆▅▅▅▄▄▄▄▃▃▃▃▃▂▂▂▂▂▂▁▁▁▁▁</td></tr><tr><td>test_loss</td><td>█▄▂▂▁▁▁▁▁▁▁▁▁▁▁▁▁▁▁▁▁▁▁▁▁▁▁▁▁▁</td></tr><tr><td>train_loss</td><td>█▅▂▂▁▁▁▁▁▁▁▁▁▁▁▁▁▁▁▁▁▁▁▁▁▁▁▁▁▁</td></tr></table><br/></div><div class=\"wandb-col\"><h3>Run summary:</h3><br/><table class=\"wandb\"><tr><td>epoch</td><td>29</td></tr><tr><td>lr</td><td>0.00215</td></tr><tr><td>test_loss</td><td>1.30206</td></tr><tr><td>train_loss</td><td>1.43567</td></tr></table><br/></div></div>"
      ],
      "text/plain": [
       "<IPython.core.display.HTML object>"
      ]
     },
     "metadata": {},
     "output_type": "display_data"
    },
    {
     "data": {
      "text/html": [
       " View run <strong style=\"color:#cdcd00\">Autoencoder_simple_HidParam-512_Latent-5</strong> at: <a href='https://wandb.ai/dmitrii_fomin_uga/Internship_project/runs/f3vzo0iq' target=\"_blank\">https://wandb.ai/dmitrii_fomin_uga/Internship_project/runs/f3vzo0iq</a><br/>Synced 5 W&B file(s), 0 media file(s), 0 artifact file(s) and 0 other file(s)"
      ],
      "text/plain": [
       "<IPython.core.display.HTML object>"
      ]
     },
     "metadata": {},
     "output_type": "display_data"
    },
    {
     "data": {
      "text/html": [
       "Find logs at: <code>../logs/wandb\\run-20230529_210919-f3vzo0iq\\logs</code>"
      ],
      "text/plain": [
       "<IPython.core.display.HTML object>"
      ]
     },
     "metadata": {},
     "output_type": "display_data"
    },
    {
     "data": {
      "text/html": [
       "Tracking run with wandb version 0.15.3"
      ],
      "text/plain": [
       "<IPython.core.display.HTML object>"
      ]
     },
     "metadata": {},
     "output_type": "display_data"
    },
    {
     "data": {
      "text/html": [
       "Run data is saved locally in <code>../logs/wandb\\run-20230529_210930-d8zw721d</code>"
      ],
      "text/plain": [
       "<IPython.core.display.HTML object>"
      ]
     },
     "metadata": {},
     "output_type": "display_data"
    },
    {
     "data": {
      "text/html": [
       "Syncing run <strong><a href='https://wandb.ai/dmitrii_fomin_uga/Internship_project/runs/d8zw721d' target=\"_blank\">JMVae_NumLab-1990_LatDim-5</a></strong> to <a href='https://wandb.ai/dmitrii_fomin_uga/Internship_project' target=\"_blank\">Weights & Biases</a> (<a href='https://wandb.me/run' target=\"_blank\">docs</a>)<br/>"
      ],
      "text/plain": [
       "<IPython.core.display.HTML object>"
      ]
     },
     "metadata": {},
     "output_type": "display_data"
    },
    {
     "data": {
      "text/html": [
       " View project at <a href='https://wandb.ai/dmitrii_fomin_uga/Internship_project' target=\"_blank\">https://wandb.ai/dmitrii_fomin_uga/Internship_project</a>"
      ],
      "text/plain": [
       "<IPython.core.display.HTML object>"
      ]
     },
     "metadata": {},
     "output_type": "display_data"
    },
    {
     "data": {
      "text/html": [
       " View run at <a href='https://wandb.ai/dmitrii_fomin_uga/Internship_project/runs/d8zw721d' target=\"_blank\">https://wandb.ai/dmitrii_fomin_uga/Internship_project/runs/d8zw721d</a>"
      ],
      "text/plain": [
       "<IPython.core.display.HTML object>"
      ]
     },
     "metadata": {},
     "output_type": "display_data"
    },
    {
     "name": "stderr",
     "output_type": "stream",
     "text": [
      "I'm studying hard now🧐, don't disturb!: 100%|██████████| 2/2 [00:00<00:00, 40.89it/s]\n",
      "Let's see how good I am...: 100%|██████████| 2/2 [00:00<00:00, 10.18it/s]\n"
     ]
    },
    {
     "name": "stdout",
     "output_type": "stream",
     "text": [
      "Epoch: 1 of 20, 0.004 min\n"
     ]
    },
    {
     "name": "stderr",
     "output_type": "stream",
     "text": [
      "I'm studying hard now🧐, don't disturb!: 100%|██████████| 2/2 [00:00<00:00, 31.95it/s]\n",
      "Let's see how good I am...: 100%|██████████| 2/2 [00:00<00:00, 49.54it/s]\n"
     ]
    },
    {
     "name": "stdout",
     "output_type": "stream",
     "text": [
      "Epoch: 2 of 20, 0.002 min\n"
     ]
    },
    {
     "name": "stderr",
     "output_type": "stream",
     "text": [
      "I'm studying hard now🧐, don't disturb!: 100%|██████████| 2/2 [00:00<00:00, 41.27it/s]\n",
      "Let's see how good I am...: 100%|██████████| 2/2 [00:00<00:00, 62.50it/s]\n"
     ]
    },
    {
     "name": "stdout",
     "output_type": "stream",
     "text": [
      "Epoch: 3 of 20, 0.002 min\n"
     ]
    },
    {
     "name": "stderr",
     "output_type": "stream",
     "text": [
      "I'm studying hard now🧐, don't disturb!: 100%|██████████| 2/2 [00:00<00:00, 41.67it/s]\n",
      "Let's see how good I am...: 100%|██████████| 2/2 [00:00<00:00, 49.28it/s]\n"
     ]
    },
    {
     "name": "stdout",
     "output_type": "stream",
     "text": [
      "Epoch: 4 of 20, 0.002 min\n"
     ]
    },
    {
     "name": "stderr",
     "output_type": "stream",
     "text": [
      "I'm studying hard now🧐, don't disturb!: 100%|██████████| 2/2 [00:00<00:00, 35.63it/s]\n",
      "Let's see how good I am...: 100%|██████████| 2/2 [00:00<00:00, 40.97it/s]\n"
     ]
    },
    {
     "name": "stdout",
     "output_type": "stream",
     "text": [
      "Epoch: 5 of 20, 0.002 min\n"
     ]
    },
    {
     "name": "stderr",
     "output_type": "stream",
     "text": [
      "I'm studying hard now🧐, don't disturb!: 100%|██████████| 2/2 [00:00<00:00, 40.23it/s]\n",
      "Let's see how good I am...: 100%|██████████| 2/2 [00:00<00:00, 47.74it/s]\n"
     ]
    },
    {
     "name": "stdout",
     "output_type": "stream",
     "text": [
      "Epoch: 6 of 20, 0.002 min\n"
     ]
    },
    {
     "name": "stderr",
     "output_type": "stream",
     "text": [
      "I'm studying hard now🧐, don't disturb!: 100%|██████████| 2/2 [00:00<00:00, 41.05it/s]\n",
      "Let's see how good I am...: 100%|██████████| 2/2 [00:00<00:00, 49.56it/s]\n"
     ]
    },
    {
     "name": "stdout",
     "output_type": "stream",
     "text": [
      "Epoch: 7 of 20, 0.002 min\n"
     ]
    },
    {
     "name": "stderr",
     "output_type": "stream",
     "text": [
      "I'm studying hard now🧐, don't disturb!: 100%|██████████| 2/2 [00:00<00:00, 36.28it/s]\n",
      "Let's see how good I am...: 100%|██████████| 2/2 [00:00<00:00, 49.33it/s]\n"
     ]
    },
    {
     "name": "stdout",
     "output_type": "stream",
     "text": [
      "Epoch: 8 of 20, 0.002 min\n"
     ]
    },
    {
     "name": "stderr",
     "output_type": "stream",
     "text": [
      "I'm studying hard now🧐, don't disturb!: 100%|██████████| 2/2 [00:00<00:00, 41.09it/s]\n",
      "Let's see how good I am...: 100%|██████████| 2/2 [00:00<00:00, 61.53it/s]\n"
     ]
    },
    {
     "name": "stdout",
     "output_type": "stream",
     "text": [
      "Epoch: 9 of 20, 0.001 min\n"
     ]
    },
    {
     "name": "stderr",
     "output_type": "stream",
     "text": [
      "I'm studying hard now🧐, don't disturb!: 100%|██████████| 2/2 [00:00<00:00, 40.31it/s]\n",
      "Let's see how good I am...: 100%|██████████| 2/2 [00:00<00:00, 61.38it/s]\n"
     ]
    },
    {
     "name": "stdout",
     "output_type": "stream",
     "text": [
      "Epoch: 10 of 20, 0.001 min\n"
     ]
    },
    {
     "name": "stderr",
     "output_type": "stream",
     "text": [
      "I'm studying hard now🧐, don't disturb!: 100%|██████████| 2/2 [00:00<00:00, 50.01it/s]\n",
      "Let's see how good I am...: 100%|██████████| 2/2 [00:00<00:00, 63.43it/s]\n"
     ]
    },
    {
     "name": "stdout",
     "output_type": "stream",
     "text": [
      "Epoch: 11 of 20, 0.001 min\n"
     ]
    },
    {
     "name": "stderr",
     "output_type": "stream",
     "text": [
      "I'm studying hard now🧐, don't disturb!: 100%|██████████| 2/2 [00:00<00:00, 51.92it/s]\n",
      "Let's see how good I am...: 100%|██████████| 2/2 [00:00<00:00, 61.25it/s]\n"
     ]
    },
    {
     "name": "stdout",
     "output_type": "stream",
     "text": [
      "Epoch: 12 of 20, 0.001 min\n"
     ]
    },
    {
     "name": "stderr",
     "output_type": "stream",
     "text": [
      "I'm studying hard now🧐, don't disturb!: 100%|██████████| 2/2 [00:00<00:00, 40.75it/s]\n",
      "Let's see how good I am...: 100%|██████████| 2/2 [00:00<00:00, 34.61it/s]\n"
     ]
    },
    {
     "name": "stdout",
     "output_type": "stream",
     "text": [
      "Epoch: 13 of 20, 0.002 min\n"
     ]
    },
    {
     "name": "stderr",
     "output_type": "stream",
     "text": [
      "I'm studying hard now🧐, don't disturb!: 100%|██████████| 2/2 [00:00<00:00, 60.64it/s]\n",
      "Let's see how good I am...: 100%|██████████| 2/2 [00:00<00:00, 60.74it/s]\n"
     ]
    },
    {
     "name": "stdout",
     "output_type": "stream",
     "text": [
      "Epoch: 14 of 20, 0.001 min\n"
     ]
    },
    {
     "name": "stderr",
     "output_type": "stream",
     "text": [
      "I'm studying hard now🧐, don't disturb!: 100%|██████████| 2/2 [00:00<00:00, 60.45it/s]\n",
      "Let's see how good I am...: 100%|██████████| 2/2 [00:00<00:00, 59.82it/s]\n"
     ]
    },
    {
     "name": "stdout",
     "output_type": "stream",
     "text": [
      "Epoch: 15 of 20, 0.001 min\n"
     ]
    },
    {
     "name": "stderr",
     "output_type": "stream",
     "text": [
      "I'm studying hard now🧐, don't disturb!: 100%|██████████| 2/2 [00:00<00:00, 48.76it/s]\n",
      "Let's see how good I am...: 100%|██████████| 2/2 [00:00<00:00, 62.10it/s]\n"
     ]
    },
    {
     "name": "stdout",
     "output_type": "stream",
     "text": [
      "Epoch: 16 of 20, 0.001 min\n"
     ]
    },
    {
     "name": "stderr",
     "output_type": "stream",
     "text": [
      "I'm studying hard now🧐, don't disturb!: 100%|██████████| 2/2 [00:00<00:00, 33.61it/s]\n",
      "Let's see how good I am...: 100%|██████████| 2/2 [00:00<00:00, 74.27it/s]\n"
     ]
    },
    {
     "name": "stdout",
     "output_type": "stream",
     "text": [
      "Epoch: 17 of 20, 0.001 min\n"
     ]
    },
    {
     "name": "stderr",
     "output_type": "stream",
     "text": [
      "I'm studying hard now🧐, don't disturb!: 100%|██████████| 2/2 [00:00<00:00, 61.08it/s]\n",
      "Let's see how good I am...: 100%|██████████| 2/2 [00:00<00:00, 18.93it/s]\n"
     ]
    },
    {
     "name": "stdout",
     "output_type": "stream",
     "text": [
      "Epoch: 18 of 20, 0.003 min\n"
     ]
    },
    {
     "name": "stderr",
     "output_type": "stream",
     "text": [
      "I'm studying hard now🧐, don't disturb!: 100%|██████████| 2/2 [00:00<00:00, 22.22it/s]\n",
      "Let's see how good I am...: 100%|██████████| 2/2 [00:00<00:00, 60.48it/s]\n"
     ]
    },
    {
     "name": "stdout",
     "output_type": "stream",
     "text": [
      "Epoch: 19 of 20, 0.002 min\n"
     ]
    },
    {
     "name": "stderr",
     "output_type": "stream",
     "text": [
      "I'm studying hard now🧐, don't disturb!: 100%|██████████| 2/2 [00:00<00:00, 65.14it/s]\n",
      "Let's see how good I am...: 100%|██████████| 2/2 [00:00<00:00, 63.09it/s]"
     ]
    },
    {
     "name": "stdout",
     "output_type": "stream",
     "text": [
      "Epoch: 20 of 20, 0.001 min\n"
     ]
    },
    {
     "name": "stderr",
     "output_type": "stream",
     "text": [
      "\n"
     ]
    },
    {
     "data": {
      "text/html": [
       "Waiting for W&B process to finish... <strong style=\"color:green\">(success).</strong>"
      ],
      "text/plain": [
       "<IPython.core.display.HTML object>"
      ]
     },
     "metadata": {},
     "output_type": "display_data"
    },
    {
     "data": {
      "text/html": [
       "<style>\n",
       "    table.wandb td:nth-child(1) { padding: 0 10px; text-align: left ; width: auto;} td:nth-child(2) {text-align: left ; width: 100%}\n",
       "    .wandb-row { display: flex; flex-direction: row; flex-wrap: wrap; justify-content: flex-start; width: 100% }\n",
       "    .wandb-col { display: flex; flex-direction: column; flex-basis: 100%; flex: 1; padding: 10px; }\n",
       "    </style>\n",
       "<div class=\"wandb-row\"><div class=\"wandb-col\"><h3>Run history:</h3><br/><table class=\"wandb\"><tr><td>epoch</td><td>▁▁▂▂▂▃▃▄▄▄▅▅▅▆▆▇▇▇██</td></tr><tr><td>lr</td><td>█▇▇▆▆▅▅▅▄▄▃▃▃▃▂▂▂▁▁▁</td></tr><tr><td>test_accuracy</td><td>▄▇▂▄▅▅▂▄▂▅▁▅█▅▅▆▇▂▁▅</td></tr><tr><td>test_auc_score</td><td>▁▄▆▆▇▇▇▇▇████▇▇▇▇▇▇▇</td></tr><tr><td>test_f1_score</td><td>▅▇▂▄▆▆▂▄▃▆▁▅█▅▅▆█▂▁▆</td></tr><tr><td>test_fpr</td><td>▁▁▁▁▁▁▁▁▁▁▁▁▁▁▁▁▁▁▁▁</td></tr><tr><td>test_loss</td><td>█▅▅▅▅▄▄▄▄▅▅▄▄▄▃▃▂▂▁▁</td></tr><tr><td>test_tpr</td><td>▁▁▁▁▁▁▁▁▁▁▁▁▁▁▁▁▁▁▁▁</td></tr><tr><td>train_accuracy</td><td>▁██▇▇▇██████████████</td></tr><tr><td>train_auc_score</td><td>▁▂▅▆▆▆▇▆▇▇▇█████████</td></tr><tr><td>train_f1_score</td><td>▁▃▃▆█▇▇▄▄▅▆▇▆▆▆▅▆▅▆▆</td></tr><tr><td>train_fpr</td><td>█▁▁▂▂▂▁▁▁▁▁▁▁▁▁▁▁▁▁▁</td></tr><tr><td>train_loss</td><td>█▄▃▃▃▂▂▂▂▂▁▁▁▁▁▁▁▁▁▁</td></tr><tr><td>train_tpr</td><td>▃▁▁▅█▆▅▂▂▃▃▄▄▄▃▃▃▃▃▄</td></tr></table><br/></div><div class=\"wandb-col\"><h3>Run summary:</h3><br/><table class=\"wandb\"><tr><td>epoch</td><td>19</td></tr><tr><td>lr</td><td>0.00358</td></tr><tr><td>test_accuracy</td><td>0.96605</td></tr><tr><td>test_auc_score</td><td>0.70743</td></tr><tr><td>test_f1_score</td><td>0.49137</td></tr><tr><td>test_fpr</td><td>0.0</td></tr><tr><td>test_loss</td><td>0.02909</td></tr><tr><td>test_tpr</td><td>0.0</td></tr><tr><td>train_accuracy</td><td>0.96925</td></tr><tr><td>train_auc_score</td><td>0.84817</td></tr><tr><td>train_f1_score</td><td>0.58618</td></tr><tr><td>train_fpr</td><td>0.0</td></tr><tr><td>train_loss</td><td>0.01705</td></tr><tr><td>train_tpr</td><td>0.10417</td></tr></table><br/></div></div>"
      ],
      "text/plain": [
       "<IPython.core.display.HTML object>"
      ]
     },
     "metadata": {},
     "output_type": "display_data"
    },
    {
     "data": {
      "text/html": [
       " View run <strong style=\"color:#cdcd00\">JMVae_NumLab-1990_LatDim-5</strong> at: <a href='https://wandb.ai/dmitrii_fomin_uga/Internship_project/runs/d8zw721d' target=\"_blank\">https://wandb.ai/dmitrii_fomin_uga/Internship_project/runs/d8zw721d</a><br/>Synced 5 W&B file(s), 0 media file(s), 0 artifact file(s) and 0 other file(s)"
      ],
      "text/plain": [
       "<IPython.core.display.HTML object>"
      ]
     },
     "metadata": {},
     "output_type": "display_data"
    },
    {
     "data": {
      "text/html": [
       "Find logs at: <code>../logs/wandb\\run-20230529_210930-d8zw721d\\logs</code>"
      ],
      "text/plain": [
       "<IPython.core.display.HTML object>"
      ]
     },
     "metadata": {},
     "output_type": "display_data"
    }
   ],
   "source": [
    "train_cycle(df)"
   ]
  }
 ],
 "metadata": {
  "kernelspec": {
   "display_name": "env1",
   "language": "python",
   "name": "python3"
  },
  "language_info": {
   "codemirror_mode": {
    "name": "ipython",
    "version": 3
   },
   "file_extension": ".py",
   "mimetype": "text/x-python",
   "name": "python",
   "nbconvert_exporter": "python",
   "pygments_lexer": "ipython3",
   "version": "3.11.3"
  },
  "orig_nbformat": 4
 },
 "nbformat": 4,
 "nbformat_minor": 2
}
