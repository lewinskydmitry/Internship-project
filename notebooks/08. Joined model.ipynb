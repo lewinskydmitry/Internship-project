{
 "cells": [
  {
   "cell_type": "code",
   "execution_count": 1,
   "metadata": {},
   "outputs": [],
   "source": [
    "import os\n",
    "import sys\n",
    "sys.path.append(os.path.abspath(os.path.join(os.path.dirname('src'), '..')))\n",
    "\n",
    "import pandas as pd\n",
    "from sklearn.model_selection import train_test_split\n",
    "import wandb\n",
    "\n",
    "import torch\n",
    "import torch.nn as nn\n",
    "from torch.utils.data import DataLoader\n",
    "import torch.optim.lr_scheduler as lr\n",
    "\n",
    "seed_value = 42\n",
    "torch.manual_seed(seed_value)\n",
    "torch.cuda.manual_seed_all(seed_value)\n",
    "generator = torch.Generator()\n",
    "generator.manual_seed(seed_value)\n",
    "torch.backends.cudnn.deterministic = True\n",
    "\n",
    "from functools import partial\n",
    "\n",
    "from src.trainer.trainer_classifier import Trainer_classifier\n",
    "from src.trainer.trainer_VAE import Trainer_VAE\n",
    "from src.models.classifiers import *\n",
    "from src.trainer.model_class import Model_class\n",
    "from src.trainer.loss_class import Loss_class\n",
    "\n",
    "from src.models.autoencoders import *\n",
    "from src.models.joinedModel import *\n",
    "\n",
    "from src.tools import upsampling\n",
    "\n",
    "import copy\n",
    "\n",
    "device = torch.device('cuda' if torch.cuda.is_available() else 'cpu')"
   ]
  },
  {
   "cell_type": "code",
   "execution_count": 2,
   "metadata": {},
   "outputs": [],
   "source": [
    "HIDDEN_PARAM = 512\n",
    "LATENT_REPR = 4\n",
    "BATCH_SIZE = 1024"
   ]
  },
  {
   "cell_type": "code",
   "execution_count": 3,
   "metadata": {},
   "outputs": [],
   "source": [
    "df = pd.read_csv('../data/df_to_enc.csv')"
   ]
  },
  {
   "cell_type": "code",
   "execution_count": 4,
   "metadata": {},
   "outputs": [],
   "source": [
    "def prepare_data_for_test(X_data, y_data, test_ratio):\n",
    "    # Prepare dataset for testing\n",
    "    X_train, X_test, y_train, y_test = train_test_split(X_data,\n",
    "                                                     y_data,\n",
    "                                                     shuffle = True,\n",
    "                                                     stratify = y_data,\n",
    "                                                     random_state = seed_value,\n",
    "                                                     test_size = test_ratio)\n",
    "    \n",
    "    return X_train, X_test, y_train, y_test"
   ]
  },
  {
   "cell_type": "code",
   "execution_count": 5,
   "metadata": {},
   "outputs": [],
   "source": [
    "def prepare_data_for_enc(X_data, y_data, autoenc_requared):\n",
    "\n",
    "    # Check that amount rows for enc less than length of data\n",
    "    if autoenc_requared >= len(X_data):\n",
    "        raise ValueError(\"The number of rows for autoencoder more than amount of X_train data\")\n",
    "    \n",
    "    autoenc_ratio = autoenc_requared/len(X_data)\n",
    "    \n",
    "    X_to_enc, X_to_clas,\\\n",
    "    y_to_enc, y_to_clas = train_test_split(X_data,\n",
    "                                           y_data,\n",
    "                                           shuffle = True,\n",
    "                                           stratify = y_data,\n",
    "                                           random_state = seed_value,\n",
    "                                           train_size = autoenc_ratio)\n",
    "    \n",
    "    X_encoder_train, X_encoder_test = train_test_split(X_to_enc,\n",
    "                                       shuffle = True,\n",
    "                                       random_state = seed_value,\n",
    "                                       train_size = 0.9)\n",
    "    \n",
    "    return X_encoder_train, X_encoder_test, X_to_clas, y_to_clas"
   ]
  },
  {
   "cell_type": "code",
   "execution_count": 6,
   "metadata": {},
   "outputs": [],
   "source": [
    "def prepare_data_for_classif(X_data, y_data, classif_requared):\n",
    "\n",
    "    # Prepare dataset for encoder\n",
    "    if classif_requared >= len(X_data):\n",
    "        raise ValueError(\"The number of rows for classifier more than amount of X_train data\")\n",
    "    classif_ratio = classif_requared / len(X_data)\n",
    "    \n",
    "    X_train, X_test,\\\n",
    "    y_train, y_test = train_test_split(X_data,\n",
    "                                       y_data,\n",
    "                                       shuffle = True,\n",
    "                                       stratify = y_data,\n",
    "                                       random_state = seed_value,\n",
    "                                       train_size = classif_ratio)\n",
    "    \n",
    "    return X_train, y_train"
   ]
  },
  {
   "cell_type": "code",
   "execution_count": 7,
   "metadata": {},
   "outputs": [],
   "source": [
    "def make_dataloader(*data, encoder_data = False):\n",
    "    \n",
    "    if len(data) > 1:\n",
    "        data_list = [data[i] for i in range(len(data))]\n",
    "        dataset = pd.concat(data_list, axis = 1)\n",
    "    else:\n",
    "        dataset = data[0]\n",
    "    if encoder_data == False:\n",
    "        dataset = TableDatasetDF(dataset)\n",
    "        dataloader = DataLoader(\n",
    "            dataset,\n",
    "            batch_size=BATCH_SIZE, \n",
    "            shuffle=True,\n",
    "            generator=generator\n",
    "        )\n",
    "    else:\n",
    "        dataset = EncoderDataset(dataset)\n",
    "        dataloader = DataLoader(\n",
    "            dataset,\n",
    "            batch_size=BATCH_SIZE, \n",
    "            shuffle=True,\n",
    "            generator=generator\n",
    "        )\n",
    "\n",
    "    return dataloader"
   ]
  },
  {
   "cell_type": "code",
   "execution_count": 8,
   "metadata": {},
   "outputs": [],
   "source": [
    "def prepare_data(X_data, y_data, test_ratio, autoenc_requared, classif_requared):\n",
    "    X_train, X_test, y_train, y_test = prepare_data_for_test(X_data, y_data, test_ratio)\n",
    "    X_encoder_train, X_encoder_test, X_to_clas, y_to_clas = prepare_data_for_enc(X_train, y_train, autoenc_requared)\n",
    "    X_train_classif, y_train_classif = prepare_data_for_classif(X_to_clas, y_to_clas, classif_requared)\n",
    "\n",
    "    X_train_classif, y_train_classif = upsampling(0.35, X_train_classif, y_train_classif)\n",
    "\n",
    "    test_dl = make_dataloader(X_test, y_test)\n",
    "    train_dl = make_dataloader(X_train_classif, y_train_classif)\n",
    "\n",
    "    enc_train_dl = make_dataloader(X_encoder_train, encoder_data=True)\n",
    "    enc_test_dl = make_dataloader(X_encoder_test, encoder_data=True)\n",
    "\n",
    "    return train_dl, test_dl, enc_train_dl, enc_test_dl"
   ]
  },
  {
   "cell_type": "code",
   "execution_count": 9,
   "metadata": {},
   "outputs": [],
   "source": [
    "def train_encoder(train_dl, test_ld, VAE_model = False):\n",
    "        \n",
    "        classifier = Baseline_classifier(train_dl.dataset.data.shape[1], HIDDEN_PARAM)\n",
    "\n",
    "        if VAE_model == False:\n",
    "            autoencoder = Autoencoder(classifier.classifier, 5)\n",
    "            loss = Encoder_loss(nn.MSELoss())\n",
    "        else:\n",
    "            autoencoder = VAE(classifier.classifier, 5)\n",
    "            loss = vae_loss(vae_loss_function)\n",
    "\n",
    "        model_factory = partial(Model_class)\n",
    "        optimizer_factory = partial(torch.optim.AdamW)\n",
    "        scheduler_factory = partial(lr.ExponentialLR)\n",
    "\n",
    "        model_params = dict(model=autoencoder,\n",
    "                            device=device)\n",
    "\n",
    "        optimizer_params = dict(weight_decay=1e-3, lr=1e-1)\n",
    "        scheduler_params = dict(gamma=0.95)\n",
    "\n",
    "        learning_params = dict(batch_size=BATCH_SIZE, num_epoch=200)\n",
    "\n",
    "        if VAE_model == False:\n",
    "            wandb_init_params = dict(\n",
    "                name=f'Autoencoder_simple_HidParam-{HIDDEN_PARAM}_Latent-{LATENT_REPR}',\n",
    "                project=\"Internship_project\",\n",
    "                dir = '../logs/')\n",
    "            \n",
    "            trainer = Trainer_classifier(train_dl,\n",
    "                          test_ld,\n",
    "                          loss,\n",
    "                          model_factory=model_factory,\n",
    "                          optimizer_factory=optimizer_factory,\n",
    "                          scheduler_factory=scheduler_factory,\n",
    "                          model_params=model_params,\n",
    "                          optimizer_params=optimizer_params,\n",
    "                          scheduler_params=scheduler_params,\n",
    "                          log=False,\n",
    "                          wandb_init_params=wandb_init_params,\n",
    "                          model_dir='../logs/nn_models/autoencoder/',\n",
    "                          saving_model=False\n",
    "                          )\n",
    "        else:\n",
    "            wandb_init_params = dict(\n",
    "                name=f'VAE_HidParam-{HIDDEN_PARAM}_Latent-{LATENT_REPR}',\n",
    "                project=\"Internship_project\",\n",
    "                dir = '../logs/')\n",
    "            \n",
    "            trainer = Trainer_VAE(train_dl,\n",
    "                          test_ld,\n",
    "                          loss,\n",
    "                          model_factory=model_factory,\n",
    "                          optimizer_factory=optimizer_factory,\n",
    "                          scheduler_factory=scheduler_factory,\n",
    "                          model_params=model_params,\n",
    "                          optimizer_params=optimizer_params,\n",
    "                          scheduler_params=scheduler_params,\n",
    "                          log=False,\n",
    "                          wandb_init_params=wandb_init_params,\n",
    "                          model_dir='../logs/nn_models/autoencoder/',\n",
    "                          saving_model=False\n",
    "                          )\n",
    "        \n",
    "        \n",
    "        trainer.train_model(learning_params)\n",
    "        wandb.finish()\n",
    "        \n",
    "        return trainer.model.model.encoder"
   ]
  },
  {
   "cell_type": "code",
   "execution_count": 10,
   "metadata": {},
   "outputs": [],
   "source": [
    "def train_classifier(encoder, train_dl, test_dl, labels_amount, VAE_model = False):\n",
    "\n",
    "    if VAE_model == False:\n",
    "        classifier = Simple_classifier(LATENT_REPR)\n",
    "        jm = JoinedModel(encoder, classifier)\n",
    "\n",
    "        wandb_init_params = dict(\n",
    "        name=f'JMenc_NumLab-{labels_amount}_LatDim-{LATENT_REPR}',\n",
    "        project=\"Internship_project\",\n",
    "        dir = '../logs/')\n",
    "\n",
    "    else:\n",
    "        classifier = Simple_classifier(LATENT_REPR)\n",
    "        jm = JoinedModel(encoder, classifier)\n",
    "        wandb_init_params = dict(\n",
    "        name=f'JMvae_NumLab-{labels_amount}_LatDim-{LATENT_REPR}',\n",
    "        project=\"Internship_project\",\n",
    "        dir = '../logs/')\n",
    "\n",
    "    loss = Loss_class(FocalLoss(gamma=2))\n",
    "    model_factory = partial(Model_class)\n",
    "    optimizer_factory = partial(torch.optim.AdamW)\n",
    "    scheduler_factory = partial(lr.ExponentialLR)\n",
    "\n",
    "    model_params = dict(model=jm,\n",
    "                        device=device)\n",
    "\n",
    "    optimizer_params = dict(weight_decay=1e-3, lr=1e-1)\n",
    "    scheduler_params = dict(gamma=0.95)\n",
    "\n",
    "    learning_params = dict(batch_size=BATCH_SIZE, num_epoch=150)\n",
    "\n",
    "    trainer = Trainer_classifier(train_dl,\n",
    "                        test_dl,\n",
    "                        loss,\n",
    "                        model_factory=model_factory,\n",
    "                        optimizer_factory=optimizer_factory,\n",
    "                        scheduler_factory=scheduler_factory,\n",
    "                        model_params=model_params,\n",
    "                        optimizer_params=optimizer_params,\n",
    "                        scheduler_params=scheduler_params,\n",
    "                        log=True,\n",
    "                        wandb_init_params=wandb_init_params,\n",
    "                        model_dir='../logs/nn_models/joined_models/',\n",
    "                        saving_model=False\n",
    "                        )\n",
    "    \n",
    "    trainer.train_model(learning_params)\n",
    "    wandb.finish()"
   ]
  },
  {
   "cell_type": "code",
   "execution_count": 11,
   "metadata": {},
   "outputs": [],
   "source": [
    "def train_cycle(df, list_amount = [50, 100, 500, 1000, 1990]):\n",
    "    for labels_amount in list_amount:\n",
    "        ############################################################\n",
    "        # PREPARE DATA\n",
    "        ############################################################a\n",
    "        train_dl, test_dl, enc_train_dl, enc_test_dl = prepare_data(df.drop(columns = ['Machine failure']),\n",
    "                                                                    df['Machine failure'], 0.2, 6000, labels_amount)\n",
    "        \n",
    "        \n",
    "        ############################################################\n",
    "        # Autoenc cycle\n",
    "        ############################################################\n",
    "        encoder_to_classif = train_encoder(enc_train_dl, enc_test_dl)\n",
    "        train_classifier(encoder_to_classif, train_dl, test_dl,labels_amount)\n",
    "        \n",
    "        ############################################################\n",
    "        # VAE cycle\n",
    "        ############################################################\n",
    "        encoder_to_classif = train_encoder(enc_train_dl, enc_test_dl, VAE_model = True)\n",
    "        train_classifier(encoder_to_classif, train_dl, test_dl,labels_amount, VAE_model = True)"
   ]
  },
  {
   "cell_type": "code",
   "execution_count": 12,
   "metadata": {},
   "outputs": [
    {
     "name": "stderr",
     "output_type": "stream",
     "text": [
      "Failed to detect the name of this notebook, you can set it manually with the WANDB_NOTEBOOK_NAME environment variable to enable code saving.\n",
      "\u001b[34m\u001b[1mwandb\u001b[0m: Currently logged in as: \u001b[33mdmitrii_fomin\u001b[0m (\u001b[33mdmitrii_fomin_uga\u001b[0m). Use \u001b[1m`wandb login --relogin`\u001b[0m to force relogin\n"
     ]
    },
    {
     "data": {
      "text/html": [
       "Tracking run with wandb version 0.15.4"
      ],
      "text/plain": [
       "<IPython.core.display.HTML object>"
      ]
     },
     "metadata": {},
     "output_type": "display_data"
    },
    {
     "data": {
      "text/html": [
       "Run data is saved locally in <code>../logs/wandb\\run-20230612_221808-l34v9imi</code>"
      ],
      "text/plain": [
       "<IPython.core.display.HTML object>"
      ]
     },
     "metadata": {},
     "output_type": "display_data"
    },
    {
     "data": {
      "text/html": [
       "Syncing run <strong><a href='https://wandb.ai/dmitrii_fomin_uga/Internship_project/runs/l34v9imi' target=\"_blank\">JMenc_NumLab-50_LatDim-5</a></strong> to <a href='https://wandb.ai/dmitrii_fomin_uga/Internship_project' target=\"_blank\">Weights & Biases</a> (<a href='https://wandb.me/run' target=\"_blank\">docs</a>)<br/>"
      ],
      "text/plain": [
       "<IPython.core.display.HTML object>"
      ]
     },
     "metadata": {},
     "output_type": "display_data"
    },
    {
     "data": {
      "text/html": [
       " View project at <a href='https://wandb.ai/dmitrii_fomin_uga/Internship_project' target=\"_blank\">https://wandb.ai/dmitrii_fomin_uga/Internship_project</a>"
      ],
      "text/plain": [
       "<IPython.core.display.HTML object>"
      ]
     },
     "metadata": {},
     "output_type": "display_data"
    },
    {
     "data": {
      "text/html": [
       " View run at <a href='https://wandb.ai/dmitrii_fomin_uga/Internship_project/runs/l34v9imi' target=\"_blank\">https://wandb.ai/dmitrii_fomin_uga/Internship_project/runs/l34v9imi</a>"
      ],
      "text/plain": [
       "<IPython.core.display.HTML object>"
      ]
     },
     "metadata": {},
     "output_type": "display_data"
    },
    {
     "data": {
      "text/html": [
       "Waiting for W&B process to finish... <strong style=\"color:green\">(success).</strong>"
      ],
      "text/plain": [
       "<IPython.core.display.HTML object>"
      ]
     },
     "metadata": {},
     "output_type": "display_data"
    },
    {
     "data": {
      "text/html": [
       "<style>\n",
       "    table.wandb td:nth-child(1) { padding: 0 10px; text-align: left ; width: auto;} td:nth-child(2) {text-align: left ; width: 100%}\n",
       "    .wandb-row { display: flex; flex-direction: row; flex-wrap: wrap; justify-content: flex-start; width: 100% }\n",
       "    .wandb-col { display: flex; flex-direction: column; flex-basis: 100%; flex: 1; padding: 10px; }\n",
       "    </style>\n",
       "<div class=\"wandb-row\"><div class=\"wandb-col\"><h3>Run history:</h3><br/><table class=\"wandb\"><tr><td>epoch</td><td>▁▁▁▁▂▂▂▂▂▃▃▃▃▃▃▄▄▄▄▄▅▅▅▅▅▅▆▆▆▆▆▆▇▇▇▇▇███</td></tr><tr><td>lr</td><td>█▇▆▅▄▄▃▃▂▂▂▂▂▂▁▁▁▁▁▁▁▁▁▁▁▁▁▁▁▁▁▁▁▁▁▁▁▁▁▁</td></tr><tr><td>test_accuracy</td><td>████████▆▅▅▄▃▂▂▂▂▁▁▁▁▁▁▁▁▁▁▁▁▁▁▁▁▁▁▁▁▁▁▁</td></tr><tr><td>test_auc_score</td><td>▅▁▁▄▅▆▇█████████████████████████████████</td></tr><tr><td>test_f1_score</td><td>▁▁▁▁▁▁▁▁▆██▇▆▆▆▆▆▆▆▆▆▆▆▆▆▆▆▆▆▆▆▆▆▆▆▆▆▆▆▆</td></tr><tr><td>test_fpr</td><td>▁▁▁▁▁▁▁▁▄▅▅▅▆▇▇▇▇███████████████████████</td></tr><tr><td>test_loss</td><td>▃▁▁▁▃▅▆▆▇▇▇▇▇▇██████████████████████████</td></tr><tr><td>test_tpr</td><td>▁▁▁▁▁▁▁▁▄▇▇▇▇▇▇▇▇▇██████████████████████</td></tr><tr><td>train_accuracy</td><td>▁▂▂▂▂▂▂▂████████████████████████████████</td></tr><tr><td>train_auc_score</td><td>▁▅▇▇▇▇██▇█▇▇▇█▇▇████████████████████████</td></tr><tr><td>train_f1_score</td><td>▁▁▁▁▁▁▁▁████████████████████████████████</td></tr><tr><td>train_fpr</td><td>█▁▁▁▁▁▁▁▅▅▅▅▅▅▅▅▅▅█▅████████████████████</td></tr><tr><td>train_loss</td><td>█▅▄▃▃▃▂▂▂▂▂▁▁▁▁▁▁▁▁▁▁▁▁▁▁▁▁▁▁▁▁▁▁▁▁▁▁▁▁▁</td></tr><tr><td>train_tpr</td><td>▁▁▁▁▁▁▁▁████████████████████████████████</td></tr></table><br/></div><div class=\"wandb-col\"><h3>Run summary:</h3><br/><table class=\"wandb\"><tr><td>epoch</td><td>149</td></tr><tr><td>lr</td><td>5e-05</td></tr><tr><td>test_accuracy</td><td>0.86523</td></tr><tr><td>test_auc_score</td><td>0.76884</td></tr><tr><td>test_f1_score</td><td>0.59814</td></tr><tr><td>test_fpr</td><td>0.13023</td></tr><tr><td>test_loss</td><td>0.05033</td></tr><tr><td>test_tpr</td><td>0.73583</td></tr><tr><td>train_accuracy</td><td>0.9697</td></tr><tr><td>train_auc_score</td><td>1.0</td></tr><tr><td>train_f1_score</td><td>0.96305</td></tr><tr><td>train_fpr</td><td>0.04167</td></tr><tr><td>train_loss</td><td>0.04573</td></tr><tr><td>train_tpr</td><td>1.0</td></tr></table><br/></div></div>"
      ],
      "text/plain": [
       "<IPython.core.display.HTML object>"
      ]
     },
     "metadata": {},
     "output_type": "display_data"
    },
    {
     "data": {
      "text/html": [
       " View run <strong style=\"color:#cdcd00\">JMenc_NumLab-50_LatDim-5</strong> at: <a href='https://wandb.ai/dmitrii_fomin_uga/Internship_project/runs/l34v9imi' target=\"_blank\">https://wandb.ai/dmitrii_fomin_uga/Internship_project/runs/l34v9imi</a><br/>Synced 5 W&B file(s), 0 media file(s), 0 artifact file(s) and 0 other file(s)"
      ],
      "text/plain": [
       "<IPython.core.display.HTML object>"
      ]
     },
     "metadata": {},
     "output_type": "display_data"
    },
    {
     "data": {
      "text/html": [
       "Find logs at: <code>../logs/wandb\\run-20230612_221808-l34v9imi\\logs</code>"
      ],
      "text/plain": [
       "<IPython.core.display.HTML object>"
      ]
     },
     "metadata": {},
     "output_type": "display_data"
    },
    {
     "name": "stdout",
     "output_type": "stream",
     "text": [
      "!!!! 10 8\n",
      "VAE(\n",
      "  (encoder): Sequential(\n",
      "    (0): Linear(in_features=50, out_features=512, bias=True)\n",
      "    (1): BatchNorm1d(512, eps=1e-05, momentum=0.1, affine=True, track_running_stats=True)\n",
      "    (2): ReLU()\n",
      "    (3): Linear(in_features=512, out_features=512, bias=True)\n",
      "    (4): BatchNorm1d(512, eps=1e-05, momentum=0.1, affine=True, track_running_stats=True)\n",
      "    (5): ReLU()\n",
      "    (6): Linear(in_features=512, out_features=512, bias=True)\n",
      "    (7): BatchNorm1d(512, eps=1e-05, momentum=0.1, affine=True, track_running_stats=True)\n",
      "    (8): ReLU()\n",
      "    (9): Linear(in_features=512, out_features=256, bias=True)\n",
      "    (10): BatchNorm1d(256, eps=1e-05, momentum=0.1, affine=True, track_running_stats=True)\n",
      "    (11): ReLU()\n",
      "    (12): Linear(in_features=256, out_features=128, bias=True)\n",
      "    (13): BatchNorm1d(128, eps=1e-05, momentum=0.1, affine=True, track_running_stats=True)\n",
      "    (14): ReLU()\n",
      "    (15): Linear(in_features=128, out_features=64, bias=True)\n",
      "    (16): BatchNorm1d(64, eps=1e-05, momentum=0.1, affine=True, track_running_stats=True)\n",
      "    (17): ReLU()\n",
      "    (18): Linear(in_features=64, out_features=32, bias=True)\n",
      "    (19): BatchNorm1d(32, eps=1e-05, momentum=0.1, affine=True, track_running_stats=True)\n",
      "    (20): ReLU()\n",
      "    (21): Linear(in_features=32, out_features=16, bias=True)\n",
      "    (22): BatchNorm1d(16, eps=1e-05, momentum=0.1, affine=True, track_running_stats=True)\n",
      "    (23): ReLU()\n",
      "    (24): Linear(in_features=16, out_features=8, bias=True)\n",
      "    (25): BatchNorm1d(8, eps=1e-05, momentum=0.1, affine=True, track_running_stats=True)\n",
      "    (26): ReLU()\n",
      "    (27): Linear(in_features=8, out_features=8, bias=True)\n",
      "    (28): BatchNorm1d(8, eps=1e-05, momentum=0.1, affine=True, track_running_stats=True)\n",
      "    (29): ReLU()\n",
      "    (30): Linear(in_features=8, out_features=10, bias=True)\n",
      "  )\n",
      "  (decoder): Sequential(\n",
      "    (0): Linear(in_features=5, out_features=8, bias=True)\n",
      "    (1): ReLU()\n",
      "    (2): BatchNorm1d(8, eps=1e-05, momentum=0.1, affine=True, track_running_stats=True)\n",
      "    (3): Linear(in_features=8, out_features=8, bias=True)\n",
      "    (4): ReLU()\n",
      "    (5): BatchNorm1d(8, eps=1e-05, momentum=0.1, affine=True, track_running_stats=True)\n",
      "    (6): Linear(in_features=8, out_features=16, bias=True)\n",
      "    (7): ReLU()\n",
      "    (8): BatchNorm1d(16, eps=1e-05, momentum=0.1, affine=True, track_running_stats=True)\n",
      "    (9): Linear(in_features=16, out_features=32, bias=True)\n",
      "    (10): ReLU()\n",
      "    (11): BatchNorm1d(32, eps=1e-05, momentum=0.1, affine=True, track_running_stats=True)\n",
      "    (12): Linear(in_features=32, out_features=64, bias=True)\n",
      "    (13): ReLU()\n",
      "    (14): BatchNorm1d(64, eps=1e-05, momentum=0.1, affine=True, track_running_stats=True)\n",
      "    (15): Linear(in_features=64, out_features=128, bias=True)\n",
      "    (16): ReLU()\n",
      "    (17): BatchNorm1d(128, eps=1e-05, momentum=0.1, affine=True, track_running_stats=True)\n",
      "    (18): Linear(in_features=128, out_features=256, bias=True)\n",
      "    (19): ReLU()\n",
      "    (20): BatchNorm1d(256, eps=1e-05, momentum=0.1, affine=True, track_running_stats=True)\n",
      "    (21): Linear(in_features=256, out_features=512, bias=True)\n",
      "    (22): ReLU()\n",
      "    (23): BatchNorm1d(512, eps=1e-05, momentum=0.1, affine=True, track_running_stats=True)\n",
      "    (24): Linear(in_features=512, out_features=512, bias=True)\n",
      "    (25): ReLU()\n",
      "    (26): BatchNorm1d(512, eps=1e-05, momentum=0.1, affine=True, track_running_stats=True)\n",
      "    (27): Linear(in_features=512, out_features=512, bias=True)\n",
      "    (28): ReLU()\n",
      "    (29): BatchNorm1d(512, eps=1e-05, momentum=0.1, affine=True, track_running_stats=True)\n",
      "    (30): Linear(in_features=512, out_features=50, bias=True)\n",
      "  )\n",
      ")\n"
     ]
    },
    {
     "data": {
      "text/html": [
       "Tracking run with wandb version 0.15.4"
      ],
      "text/plain": [
       "<IPython.core.display.HTML object>"
      ]
     },
     "metadata": {},
     "output_type": "display_data"
    },
    {
     "data": {
      "text/html": [
       "Run data is saved locally in <code>../logs/wandb\\run-20230612_221925-c0a7sxjk</code>"
      ],
      "text/plain": [
       "<IPython.core.display.HTML object>"
      ]
     },
     "metadata": {},
     "output_type": "display_data"
    },
    {
     "data": {
      "text/html": [
       "Syncing run <strong><a href='https://wandb.ai/dmitrii_fomin_uga/Internship_project/runs/c0a7sxjk' target=\"_blank\">JMvae_NumLab-50_LatDim-5</a></strong> to <a href='https://wandb.ai/dmitrii_fomin_uga/Internship_project' target=\"_blank\">Weights & Biases</a> (<a href='https://wandb.me/run' target=\"_blank\">docs</a>)<br/>"
      ],
      "text/plain": [
       "<IPython.core.display.HTML object>"
      ]
     },
     "metadata": {},
     "output_type": "display_data"
    },
    {
     "data": {
      "text/html": [
       " View project at <a href='https://wandb.ai/dmitrii_fomin_uga/Internship_project' target=\"_blank\">https://wandb.ai/dmitrii_fomin_uga/Internship_project</a>"
      ],
      "text/plain": [
       "<IPython.core.display.HTML object>"
      ]
     },
     "metadata": {},
     "output_type": "display_data"
    },
    {
     "data": {
      "text/html": [
       " View run at <a href='https://wandb.ai/dmitrii_fomin_uga/Internship_project/runs/c0a7sxjk' target=\"_blank\">https://wandb.ai/dmitrii_fomin_uga/Internship_project/runs/c0a7sxjk</a>"
      ],
      "text/plain": [
       "<IPython.core.display.HTML object>"
      ]
     },
     "metadata": {},
     "output_type": "display_data"
    },
    {
     "data": {
      "text/html": [
       "Waiting for W&B process to finish... <strong style=\"color:green\">(success).</strong>"
      ],
      "text/plain": [
       "<IPython.core.display.HTML object>"
      ]
     },
     "metadata": {},
     "output_type": "display_data"
    },
    {
     "data": {
      "text/html": [
       "<style>\n",
       "    table.wandb td:nth-child(1) { padding: 0 10px; text-align: left ; width: auto;} td:nth-child(2) {text-align: left ; width: 100%}\n",
       "    .wandb-row { display: flex; flex-direction: row; flex-wrap: wrap; justify-content: flex-start; width: 100% }\n",
       "    .wandb-col { display: flex; flex-direction: column; flex-basis: 100%; flex: 1; padding: 10px; }\n",
       "    </style>\n",
       "<div class=\"wandb-row\"><div class=\"wandb-col\"><h3>Run history:</h3><br/><table class=\"wandb\"><tr><td>epoch</td><td>▁▁▁▁▂▂▂▂▂▃▃▃▃▃▃▄▄▄▄▄▅▅▅▅▅▅▆▆▆▆▆▆▇▇▇▇▇███</td></tr><tr><td>lr</td><td>█▇▆▅▄▄▃▃▂▂▂▂▂▂▁▁▁▁▁▁▁▁▁▁▁▁▁▁▁▁▁▁▁▁▁▁▁▁▁▁</td></tr><tr><td>test_accuracy</td><td>████▆▆▆▁▁▃▄▃▄▅▅▆▆▆▆▆▆▆▇▇▇███████████████</td></tr><tr><td>test_auc_score</td><td>▆▂▁▃▃▄▅▆▆▆▆▆▇▇▇▇▇█▇█████████████████████</td></tr><tr><td>test_f1_score</td><td>▆▆▆▆▆▆▅▁▁▄▄▄▄▅▆▆▆▆▆▆▆▆▆▆▆███████████████</td></tr><tr><td>test_fpr</td><td>▁▁▁▁▃▃▃██▆▅▆▅▄▄▃▃▃▃▃▃▃▃▃▂▁▁▁▁▁▁▁▁▁▁▁▁▁▁▁</td></tr><tr><td>test_loss</td><td>▃▂▁▂▄▃▄▇█▇▆▇▆▄▄▃▃▃▂▂▂▂▂▁▁▁▁▁▁▁▁▁▁▁▁▁▁▁▁▁</td></tr><tr><td>test_tpr</td><td>▁▁▁▁▃▃▃█▇▇▇▇▇▆▆▆▆▆▆▆▅▆▅▅▅▄▃▃▃▃▃▃▃▃▃▃▃▃▃▃</td></tr><tr><td>train_accuracy</td><td>▁▅▅▅▅▅██████████████████████████████████</td></tr><tr><td>train_auc_score</td><td>▁▅▇▇▇▇██████████████████████████████████</td></tr><tr><td>train_f1_score</td><td>█▁▁▁▁▁▂▂▂▂▂▂▂▂▂▂▂▂▂▂▂▂▂▂▂▂▂▂▂▂▂▂▂▂▂▂▂▂▂▂</td></tr><tr><td>train_fpr</td><td>█▂▂▂▂▂▁▁▁▁▁▁▁▁▁▁▁▁▁▁▁▁▁▁▁▁▁▁▁▁▁▁▁▁▁▁▁▁▁▁</td></tr><tr><td>train_loss</td><td>█▃▂▂▂▂▁▁▁▁▁▁▁▁▁▁▁▁▁▁▁▁▁▁▁▁▁▁▁▁▁▁▁▁▁▁▁▁▁▁</td></tr><tr><td>train_tpr</td><td>█▁▁▁▁▁▁▁▁▁▁▁▁▁▁▁▁▁▁▁▁▁▁▁▁▁▁▁▁▁▁▁▁▁▁▁▁▁▁▁</td></tr></table><br/></div><div class=\"wandb-col\"><h3>Run summary:</h3><br/><table class=\"wandb\"><tr><td>epoch</td><td>149</td></tr><tr><td>lr</td><td>5e-05</td></tr><tr><td>test_accuracy</td><td>0.9559</td></tr><tr><td>test_auc_score</td><td>0.68852</td></tr><tr><td>test_f1_score</td><td>0.62689</td></tr><tr><td>test_fpr</td><td>0.0193</td></tr><tr><td>test_loss</td><td>0.04605</td></tr><tr><td>test_tpr</td><td>0.25152</td></tr><tr><td>train_accuracy</td><td>0.83333</td></tr><tr><td>train_auc_score</td><td>0.91725</td></tr><tr><td>train_f1_score</td><td>0.7286</td></tr><tr><td>train_fpr</td><td>0.0</td></tr><tr><td>train_loss</td><td>0.05936</td></tr><tr><td>train_tpr</td><td>0.38889</td></tr></table><br/></div></div>"
      ],
      "text/plain": [
       "<IPython.core.display.HTML object>"
      ]
     },
     "metadata": {},
     "output_type": "display_data"
    },
    {
     "data": {
      "text/html": [
       " View run <strong style=\"color:#cdcd00\">JMvae_NumLab-50_LatDim-5</strong> at: <a href='https://wandb.ai/dmitrii_fomin_uga/Internship_project/runs/c0a7sxjk' target=\"_blank\">https://wandb.ai/dmitrii_fomin_uga/Internship_project/runs/c0a7sxjk</a><br/>Synced 5 W&B file(s), 0 media file(s), 0 artifact file(s) and 0 other file(s)"
      ],
      "text/plain": [
       "<IPython.core.display.HTML object>"
      ]
     },
     "metadata": {},
     "output_type": "display_data"
    },
    {
     "data": {
      "text/html": [
       "Find logs at: <code>../logs/wandb\\run-20230612_221925-c0a7sxjk\\logs</code>"
      ],
      "text/plain": [
       "<IPython.core.display.HTML object>"
      ]
     },
     "metadata": {},
     "output_type": "display_data"
    },
    {
     "data": {
      "text/html": [
       "Tracking run with wandb version 0.15.4"
      ],
      "text/plain": [
       "<IPython.core.display.HTML object>"
      ]
     },
     "metadata": {},
     "output_type": "display_data"
    },
    {
     "data": {
      "text/html": [
       "Run data is saved locally in <code>../logs/wandb\\run-20230612_222026-jcgs5tu9</code>"
      ],
      "text/plain": [
       "<IPython.core.display.HTML object>"
      ]
     },
     "metadata": {},
     "output_type": "display_data"
    },
    {
     "data": {
      "text/html": [
       "Syncing run <strong><a href='https://wandb.ai/dmitrii_fomin_uga/Internship_project/runs/jcgs5tu9' target=\"_blank\">JMenc_NumLab-100_LatDim-5</a></strong> to <a href='https://wandb.ai/dmitrii_fomin_uga/Internship_project' target=\"_blank\">Weights & Biases</a> (<a href='https://wandb.me/run' target=\"_blank\">docs</a>)<br/>"
      ],
      "text/plain": [
       "<IPython.core.display.HTML object>"
      ]
     },
     "metadata": {},
     "output_type": "display_data"
    },
    {
     "data": {
      "text/html": [
       " View project at <a href='https://wandb.ai/dmitrii_fomin_uga/Internship_project' target=\"_blank\">https://wandb.ai/dmitrii_fomin_uga/Internship_project</a>"
      ],
      "text/plain": [
       "<IPython.core.display.HTML object>"
      ]
     },
     "metadata": {},
     "output_type": "display_data"
    },
    {
     "data": {
      "text/html": [
       " View run at <a href='https://wandb.ai/dmitrii_fomin_uga/Internship_project/runs/jcgs5tu9' target=\"_blank\">https://wandb.ai/dmitrii_fomin_uga/Internship_project/runs/jcgs5tu9</a>"
      ],
      "text/plain": [
       "<IPython.core.display.HTML object>"
      ]
     },
     "metadata": {},
     "output_type": "display_data"
    },
    {
     "data": {
      "text/html": [
       "Waiting for W&B process to finish... <strong style=\"color:green\">(success).</strong>"
      ],
      "text/plain": [
       "<IPython.core.display.HTML object>"
      ]
     },
     "metadata": {},
     "output_type": "display_data"
    },
    {
     "data": {
      "text/html": [
       "<style>\n",
       "    table.wandb td:nth-child(1) { padding: 0 10px; text-align: left ; width: auto;} td:nth-child(2) {text-align: left ; width: 100%}\n",
       "    .wandb-row { display: flex; flex-direction: row; flex-wrap: wrap; justify-content: flex-start; width: 100% }\n",
       "    .wandb-col { display: flex; flex-direction: column; flex-basis: 100%; flex: 1; padding: 10px; }\n",
       "    </style>\n",
       "<div class=\"wandb-row\"><div class=\"wandb-col\"><h3>Run history:</h3><br/><table class=\"wandb\"><tr><td>epoch</td><td>▁▁▁▁▂▂▂▂▂▃▃▃▃▃▃▄▄▄▄▄▅▅▅▅▅▅▆▆▆▆▆▆▇▇▇▇▇███</td></tr><tr><td>lr</td><td>█▇▆▅▄▄▃▃▂▂▂▂▂▂▁▁▁▁▁▁▁▁▁▁▁▁▁▁▁▁▁▁▁▁▁▁▁▁▁▁</td></tr><tr><td>test_accuracy</td><td>███████████████████▁▁▁▁▁▁▁▁▁▁▁▁▁▁▁▁▁▁▁▁▁</td></tr><tr><td>test_auc_score</td><td>█▁▆▇▆▇██▇▇▇▇▇▇▇▇▇▇▇▇▇▇▇█▇▇███▇████▇█████</td></tr><tr><td>test_f1_score</td><td>▅▅▅▅▅▅▅▅▅▅▅▅▅▅▅▅▅▅▅▂▂▃▃▁▁▄█▇▇▇▇▇▇▇▅▇▄▆▆▆</td></tr><tr><td>test_fpr</td><td>▁▁▁▁▁▁▁▁▁▁▁▁▁▁▁▁▁▁▁█████████████████████</td></tr><tr><td>test_loss</td><td>█▄▁▁▁▁▂▂▂▂▂▂▂▃▃▃▃▃▃▃▃▃▃▃▃▃▃▃▃▃▃▃▃▃▃▃▃▃▃▃</td></tr><tr><td>test_tpr</td><td>▁▁▁▁▁▁▁▁▁▁▁▁▁▁▁▁▁▁▁▆▆▆▆▆▆▇▇▇▇▇▇█▇█▇█▇█▇▇</td></tr><tr><td>train_accuracy</td><td>▃▁▁▁▁▁▁▁▁▁▁▁▁▁▁▁▁▁▁█████████████████████</td></tr><tr><td>train_auc_score</td><td>▄▆▅▇▇█▇▆▆▆▇▇▇▇▇▇▆▆▆▆▆▄▄▄▃▂▂▂▁▁▂▁▁▁▁▁▁▁▁▁</td></tr><tr><td>train_f1_score</td><td>▆▁▁▁▁▁▁▁▁▁▁▁▁▁▁▁▁▁▁█████████████████████</td></tr><tr><td>train_fpr</td><td>█▁▁▁▁▁▁▁▁▁▁▁▁▁▁▁▁▁▁▁▁▁▁▁▁▁▁▁▁▁▁▁▁▁▁▁▁▁▁▁</td></tr><tr><td>train_loss</td><td>█▅▄▄▃▃▃▃▂▂▂▂▂▁▁▁▁▁▁▁▁▁▁▁▁▁▁▁▁▁▁▁▁▁▁▁▁▁▁▁</td></tr><tr><td>train_tpr</td><td>█▁▁▁▁▁▁▁▁▁▁▁▁▁▁▁▁▁▁█████████████████████</td></tr></table><br/></div><div class=\"wandb-col\"><h3>Run summary:</h3><br/><table class=\"wandb\"><tr><td>epoch</td><td>149</td></tr><tr><td>lr</td><td>5e-05</td></tr><tr><td>test_accuracy</td><td>0.88926</td></tr><tr><td>test_auc_score</td><td>0.48443</td></tr><tr><td>test_f1_score</td><td>0.49204</td></tr><tr><td>test_fpr</td><td>0.08199</td></tr><tr><td>test_loss</td><td>0.04089</td></tr><tr><td>test_tpr</td><td>0.0728</td></tr><tr><td>train_accuracy</td><td>0.89394</td></tr><tr><td>train_auc_score</td><td>0.71591</td></tr><tr><td>train_f1_score</td><td>0.84533</td></tr><tr><td>train_fpr</td><td>0.01031</td></tr><tr><td>train_loss</td><td>0.06938</td></tr><tr><td>train_tpr</td><td>0.62857</td></tr></table><br/></div></div>"
      ],
      "text/plain": [
       "<IPython.core.display.HTML object>"
      ]
     },
     "metadata": {},
     "output_type": "display_data"
    },
    {
     "data": {
      "text/html": [
       " View run <strong style=\"color:#cdcd00\">JMenc_NumLab-100_LatDim-5</strong> at: <a href='https://wandb.ai/dmitrii_fomin_uga/Internship_project/runs/jcgs5tu9' target=\"_blank\">https://wandb.ai/dmitrii_fomin_uga/Internship_project/runs/jcgs5tu9</a><br/>Synced 5 W&B file(s), 0 media file(s), 0 artifact file(s) and 0 other file(s)"
      ],
      "text/plain": [
       "<IPython.core.display.HTML object>"
      ]
     },
     "metadata": {},
     "output_type": "display_data"
    },
    {
     "data": {
      "text/html": [
       "Find logs at: <code>../logs/wandb\\run-20230612_222026-jcgs5tu9\\logs</code>"
      ],
      "text/plain": [
       "<IPython.core.display.HTML object>"
      ]
     },
     "metadata": {},
     "output_type": "display_data"
    },
    {
     "name": "stdout",
     "output_type": "stream",
     "text": [
      "!!!! 10 8\n",
      "VAE(\n",
      "  (encoder): Sequential(\n",
      "    (0): Linear(in_features=50, out_features=512, bias=True)\n",
      "    (1): BatchNorm1d(512, eps=1e-05, momentum=0.1, affine=True, track_running_stats=True)\n",
      "    (2): ReLU()\n",
      "    (3): Linear(in_features=512, out_features=512, bias=True)\n",
      "    (4): BatchNorm1d(512, eps=1e-05, momentum=0.1, affine=True, track_running_stats=True)\n",
      "    (5): ReLU()\n",
      "    (6): Linear(in_features=512, out_features=512, bias=True)\n",
      "    (7): BatchNorm1d(512, eps=1e-05, momentum=0.1, affine=True, track_running_stats=True)\n",
      "    (8): ReLU()\n",
      "    (9): Linear(in_features=512, out_features=256, bias=True)\n",
      "    (10): BatchNorm1d(256, eps=1e-05, momentum=0.1, affine=True, track_running_stats=True)\n",
      "    (11): ReLU()\n",
      "    (12): Linear(in_features=256, out_features=128, bias=True)\n",
      "    (13): BatchNorm1d(128, eps=1e-05, momentum=0.1, affine=True, track_running_stats=True)\n",
      "    (14): ReLU()\n",
      "    (15): Linear(in_features=128, out_features=64, bias=True)\n",
      "    (16): BatchNorm1d(64, eps=1e-05, momentum=0.1, affine=True, track_running_stats=True)\n",
      "    (17): ReLU()\n",
      "    (18): Linear(in_features=64, out_features=32, bias=True)\n",
      "    (19): BatchNorm1d(32, eps=1e-05, momentum=0.1, affine=True, track_running_stats=True)\n",
      "    (20): ReLU()\n",
      "    (21): Linear(in_features=32, out_features=16, bias=True)\n",
      "    (22): BatchNorm1d(16, eps=1e-05, momentum=0.1, affine=True, track_running_stats=True)\n",
      "    (23): ReLU()\n",
      "    (24): Linear(in_features=16, out_features=8, bias=True)\n",
      "    (25): BatchNorm1d(8, eps=1e-05, momentum=0.1, affine=True, track_running_stats=True)\n",
      "    (26): ReLU()\n",
      "    (27): Linear(in_features=8, out_features=8, bias=True)\n",
      "    (28): BatchNorm1d(8, eps=1e-05, momentum=0.1, affine=True, track_running_stats=True)\n",
      "    (29): ReLU()\n",
      "    (30): Linear(in_features=8, out_features=10, bias=True)\n",
      "  )\n",
      "  (decoder): Sequential(\n",
      "    (0): Linear(in_features=5, out_features=8, bias=True)\n",
      "    (1): ReLU()\n",
      "    (2): BatchNorm1d(8, eps=1e-05, momentum=0.1, affine=True, track_running_stats=True)\n",
      "    (3): Linear(in_features=8, out_features=8, bias=True)\n",
      "    (4): ReLU()\n",
      "    (5): BatchNorm1d(8, eps=1e-05, momentum=0.1, affine=True, track_running_stats=True)\n",
      "    (6): Linear(in_features=8, out_features=16, bias=True)\n",
      "    (7): ReLU()\n",
      "    (8): BatchNorm1d(16, eps=1e-05, momentum=0.1, affine=True, track_running_stats=True)\n",
      "    (9): Linear(in_features=16, out_features=32, bias=True)\n",
      "    (10): ReLU()\n",
      "    (11): BatchNorm1d(32, eps=1e-05, momentum=0.1, affine=True, track_running_stats=True)\n",
      "    (12): Linear(in_features=32, out_features=64, bias=True)\n",
      "    (13): ReLU()\n",
      "    (14): BatchNorm1d(64, eps=1e-05, momentum=0.1, affine=True, track_running_stats=True)\n",
      "    (15): Linear(in_features=64, out_features=128, bias=True)\n",
      "    (16): ReLU()\n",
      "    (17): BatchNorm1d(128, eps=1e-05, momentum=0.1, affine=True, track_running_stats=True)\n",
      "    (18): Linear(in_features=128, out_features=256, bias=True)\n",
      "    (19): ReLU()\n",
      "    (20): BatchNorm1d(256, eps=1e-05, momentum=0.1, affine=True, track_running_stats=True)\n",
      "    (21): Linear(in_features=256, out_features=512, bias=True)\n",
      "    (22): ReLU()\n",
      "    (23): BatchNorm1d(512, eps=1e-05, momentum=0.1, affine=True, track_running_stats=True)\n",
      "    (24): Linear(in_features=512, out_features=512, bias=True)\n",
      "    (25): ReLU()\n",
      "    (26): BatchNorm1d(512, eps=1e-05, momentum=0.1, affine=True, track_running_stats=True)\n",
      "    (27): Linear(in_features=512, out_features=512, bias=True)\n",
      "    (28): ReLU()\n",
      "    (29): BatchNorm1d(512, eps=1e-05, momentum=0.1, affine=True, track_running_stats=True)\n",
      "    (30): Linear(in_features=512, out_features=50, bias=True)\n",
      "  )\n",
      ")\n"
     ]
    },
    {
     "data": {
      "text/html": [
       "Tracking run with wandb version 0.15.4"
      ],
      "text/plain": [
       "<IPython.core.display.HTML object>"
      ]
     },
     "metadata": {},
     "output_type": "display_data"
    },
    {
     "data": {
      "text/html": [
       "Run data is saved locally in <code>../logs/wandb\\run-20230612_222158-62nhw09c</code>"
      ],
      "text/plain": [
       "<IPython.core.display.HTML object>"
      ]
     },
     "metadata": {},
     "output_type": "display_data"
    },
    {
     "data": {
      "text/html": [
       "Syncing run <strong><a href='https://wandb.ai/dmitrii_fomin_uga/Internship_project/runs/62nhw09c' target=\"_blank\">JMvae_NumLab-100_LatDim-5</a></strong> to <a href='https://wandb.ai/dmitrii_fomin_uga/Internship_project' target=\"_blank\">Weights & Biases</a> (<a href='https://wandb.me/run' target=\"_blank\">docs</a>)<br/>"
      ],
      "text/plain": [
       "<IPython.core.display.HTML object>"
      ]
     },
     "metadata": {},
     "output_type": "display_data"
    },
    {
     "data": {
      "text/html": [
       " View project at <a href='https://wandb.ai/dmitrii_fomin_uga/Internship_project' target=\"_blank\">https://wandb.ai/dmitrii_fomin_uga/Internship_project</a>"
      ],
      "text/plain": [
       "<IPython.core.display.HTML object>"
      ]
     },
     "metadata": {},
     "output_type": "display_data"
    },
    {
     "data": {
      "text/html": [
       " View run at <a href='https://wandb.ai/dmitrii_fomin_uga/Internship_project/runs/62nhw09c' target=\"_blank\">https://wandb.ai/dmitrii_fomin_uga/Internship_project/runs/62nhw09c</a>"
      ],
      "text/plain": [
       "<IPython.core.display.HTML object>"
      ]
     },
     "metadata": {},
     "output_type": "display_data"
    },
    {
     "data": {
      "text/html": [
       "Waiting for W&B process to finish... <strong style=\"color:green\">(success).</strong>"
      ],
      "text/plain": [
       "<IPython.core.display.HTML object>"
      ]
     },
     "metadata": {},
     "output_type": "display_data"
    },
    {
     "data": {
      "text/html": [
       "<style>\n",
       "    table.wandb td:nth-child(1) { padding: 0 10px; text-align: left ; width: auto;} td:nth-child(2) {text-align: left ; width: 100%}\n",
       "    .wandb-row { display: flex; flex-direction: row; flex-wrap: wrap; justify-content: flex-start; width: 100% }\n",
       "    .wandb-col { display: flex; flex-direction: column; flex-basis: 100%; flex: 1; padding: 10px; }\n",
       "    </style>\n",
       "<div class=\"wandb-row\"><div class=\"wandb-col\"><h3>Run history:</h3><br/><table class=\"wandb\"><tr><td>epoch</td><td>▁▁▁▁▂▂▂▂▂▃▃▃▃▃▃▄▄▄▄▄▅▅▅▅▅▅▆▆▆▆▆▆▇▇▇▇▇███</td></tr><tr><td>lr</td><td>█▇▆▅▄▄▃▃▂▂▂▂▂▂▁▁▁▁▁▁▁▁▁▁▁▁▁▁▁▁▁▁▁▁▁▁▁▁▁▁</td></tr><tr><td>test_accuracy</td><td>███████████████████▇▇▆▆▆▄▃▃▂▂▂▂▂▂▁▁▁▁▁▁▁</td></tr><tr><td>test_auc_score</td><td>▁▁▁▂▂▃▆██▆▅▄▃▃▂▂▂▂▂▂▂▂▂▂▂▂▂▂▂▂▂▂▂▂▂▂▂▂▂▂</td></tr><tr><td>test_f1_score</td><td>██████████████████▇▆▆▆▅▄▃▁▅▄▃▃▃▃▂▃▂▂▂▂▁▁</td></tr><tr><td>test_fpr</td><td>▁▁▁▁▁▁▁▁▁▁▁▁▁▁▁▁▁▁▁▂▂▃▃▃▅▆▆▇▇▇▇▇▇███████</td></tr><tr><td>test_loss</td><td>█▃▁▁▁▁▁▁▁▁▁▁▁▁▁▁▁▁▂▂▂▂▂▃▃▃▃▃▃▄▄▄▄▄▄▄▄▄▄▄</td></tr><tr><td>test_tpr</td><td>▁▁▁▁▁▁▁▁▁▁▁▁▁▁▁▁▁▁▁▁▁▁▁▁▁▁▇▆▆▆█▇▆▇▆█▆▇▆▆</td></tr><tr><td>train_accuracy</td><td>▁▁▁▁▅▇██████████████████████████████████</td></tr><tr><td>train_auc_score</td><td>▁▇██████████████████████████████████████</td></tr><tr><td>train_f1_score</td><td>▁▁▁▁▆███████████████████████████████████</td></tr><tr><td>train_fpr</td><td>▁▁▁▁▇█▄▂▂▂▂▂▂▂▂▂▂▂▂▂▂▂▂▂▂▂▂▂▂▂▂▂▂▂▂▂▂▂▂▂</td></tr><tr><td>train_loss</td><td>█▆▅▄▃▂▂▁▁▁▁▁▁▁▁▁▁▁▁▁▁▁▁▁▁▁▁▁▁▁▁▁▁▁▁▁▁▁▁▁</td></tr><tr><td>train_tpr</td><td>▁▁▁▁▅███████████████████████████████████</td></tr></table><br/></div><div class=\"wandb-col\"><h3>Run summary:</h3><br/><table class=\"wandb\"><tr><td>epoch</td><td>149</td></tr><tr><td>lr</td><td>5e-05</td></tr><tr><td>test_accuracy</td><td>0.91181</td></tr><tr><td>test_auc_score</td><td>0.18887</td></tr><tr><td>test_f1_score</td><td>0.48212</td></tr><tr><td>test_fpr</td><td>0.05654</td></tr><tr><td>test_loss</td><td>0.04319</td></tr><tr><td>test_tpr</td><td>0.01316</td></tr><tr><td>train_accuracy</td><td>0.99242</td></tr><tr><td>train_auc_score</td><td>1.0</td></tr><tr><td>train_f1_score</td><td>0.99037</td></tr><tr><td>train_fpr</td><td>0.01031</td></tr><tr><td>train_loss</td><td>0.02669</td></tr><tr><td>train_tpr</td><td>1.0</td></tr></table><br/></div></div>"
      ],
      "text/plain": [
       "<IPython.core.display.HTML object>"
      ]
     },
     "metadata": {},
     "output_type": "display_data"
    },
    {
     "data": {
      "text/html": [
       " View run <strong style=\"color:#cdcd00\">JMvae_NumLab-100_LatDim-5</strong> at: <a href='https://wandb.ai/dmitrii_fomin_uga/Internship_project/runs/62nhw09c' target=\"_blank\">https://wandb.ai/dmitrii_fomin_uga/Internship_project/runs/62nhw09c</a><br/>Synced 5 W&B file(s), 0 media file(s), 0 artifact file(s) and 0 other file(s)"
      ],
      "text/plain": [
       "<IPython.core.display.HTML object>"
      ]
     },
     "metadata": {},
     "output_type": "display_data"
    },
    {
     "data": {
      "text/html": [
       "Find logs at: <code>../logs/wandb\\run-20230612_222158-62nhw09c\\logs</code>"
      ],
      "text/plain": [
       "<IPython.core.display.HTML object>"
      ]
     },
     "metadata": {},
     "output_type": "display_data"
    },
    {
     "data": {
      "text/html": [
       "Tracking run with wandb version 0.15.4"
      ],
      "text/plain": [
       "<IPython.core.display.HTML object>"
      ]
     },
     "metadata": {},
     "output_type": "display_data"
    },
    {
     "data": {
      "text/html": [
       "Run data is saved locally in <code>../logs/wandb\\run-20230612_222333-w4mlx0zk</code>"
      ],
      "text/plain": [
       "<IPython.core.display.HTML object>"
      ]
     },
     "metadata": {},
     "output_type": "display_data"
    },
    {
     "data": {
      "text/html": [
       "Syncing run <strong><a href='https://wandb.ai/dmitrii_fomin_uga/Internship_project/runs/w4mlx0zk' target=\"_blank\">JMenc_NumLab-500_LatDim-5</a></strong> to <a href='https://wandb.ai/dmitrii_fomin_uga/Internship_project' target=\"_blank\">Weights & Biases</a> (<a href='https://wandb.me/run' target=\"_blank\">docs</a>)<br/>"
      ],
      "text/plain": [
       "<IPython.core.display.HTML object>"
      ]
     },
     "metadata": {},
     "output_type": "display_data"
    },
    {
     "data": {
      "text/html": [
       " View project at <a href='https://wandb.ai/dmitrii_fomin_uga/Internship_project' target=\"_blank\">https://wandb.ai/dmitrii_fomin_uga/Internship_project</a>"
      ],
      "text/plain": [
       "<IPython.core.display.HTML object>"
      ]
     },
     "metadata": {},
     "output_type": "display_data"
    },
    {
     "data": {
      "text/html": [
       " View run at <a href='https://wandb.ai/dmitrii_fomin_uga/Internship_project/runs/w4mlx0zk' target=\"_blank\">https://wandb.ai/dmitrii_fomin_uga/Internship_project/runs/w4mlx0zk</a>"
      ],
      "text/plain": [
       "<IPython.core.display.HTML object>"
      ]
     },
     "metadata": {},
     "output_type": "display_data"
    },
    {
     "data": {
      "text/html": [
       "Waiting for W&B process to finish... <strong style=\"color:green\">(success).</strong>"
      ],
      "text/plain": [
       "<IPython.core.display.HTML object>"
      ]
     },
     "metadata": {},
     "output_type": "display_data"
    },
    {
     "data": {
      "text/html": [
       "<style>\n",
       "    table.wandb td:nth-child(1) { padding: 0 10px; text-align: left ; width: auto;} td:nth-child(2) {text-align: left ; width: 100%}\n",
       "    .wandb-row { display: flex; flex-direction: row; flex-wrap: wrap; justify-content: flex-start; width: 100% }\n",
       "    .wandb-col { display: flex; flex-direction: column; flex-basis: 100%; flex: 1; padding: 10px; }\n",
       "    </style>\n",
       "<div class=\"wandb-row\"><div class=\"wandb-col\"><h3>Run history:</h3><br/><table class=\"wandb\"><tr><td>epoch</td><td>▁▁▁▁▂▂▂▂▂▃▃▃▃▃▃▄▄▄▄▄▅▅▅▅▅▅▆▆▆▆▆▆▇▇▇▇▇███</td></tr><tr><td>lr</td><td>█▇▆▅▄▄▃▃▂▂▂▂▂▂▁▁▁▁▁▁▁▁▁▁▁▁▁▁▁▁▁▁▁▁▁▁▁▁▁▁</td></tr><tr><td>test_accuracy</td><td>▃▆▅▂▁▆▆▅▄▇▄▄▆▄▆▄▁▁▅▇▃▄▇▇▄▆▄▅▇▅▄▂▃▃▅▃▅█▃▄</td></tr><tr><td>test_auc_score</td><td>▁▇█▇▄▄▄▄▅▆▆▆▆▆▆▆▇▇▇▆▆▆▇▆▆▆▆▆▆▆▆▇▇▆▆▆▆▇▆▆</td></tr><tr><td>test_f1_score</td><td>▄▆▆▂▁▆▆▆▅▇▅▅▆▄▇▅▂▁▆▇▄▅▇▇▅▇▄▆▇▆▅▃▄▃▆▄▆█▃▅</td></tr><tr><td>test_fpr</td><td>▁▁▁▁▁▁▁▁▁▁▁▁▁▁▁▁▁▁▁▁▁▁▁▁▁▁▁▁▁▁▁▁▁▁▁▁▁▁▁▁</td></tr><tr><td>test_loss</td><td>█▄▂▁▁▁▁▁▁▂▂▂▂▃▃▃▃▃▄▄▄▄▄▄▄▄▄▄▄▄▄▄▄▄▄▄▄▄▄▄</td></tr><tr><td>test_tpr</td><td>▁▁▁▁▁▁▁▁▁▁▁▁▁▁▁▁▁▁▁▁▁▁▁▁▁▁▁▁▁▁▁▁▁▁▁▁▁▁▁▁</td></tr><tr><td>train_accuracy</td><td>▁▁▁▁▁▁▁▁▁▁▁▁▁▁▁▁▁▁▁▁▁▁▁▁▁▁▁▁▁▁▁▁▁▁▁▁▁▁▁▁</td></tr><tr><td>train_auc_score</td><td>▁▃▅▆▇▇▇▇▇▇▇▇▇███████████████████████████</td></tr><tr><td>train_f1_score</td><td>▁▁▁▁▁▁▁▁▁▁▁▁▁▁▁▁▁▁▁▁▁▁▁▁▁▁▁▁▁▁▁▁▁▁▁▁▁▁▁▁</td></tr><tr><td>train_fpr</td><td>▁▁▁▁▁▁▁▁▁▁▁▁▁▁▁▁▁▁▁▁▁▁▁▁▁▁▁▁▁▁▁▁▁▁▁▁▁▁▁▁</td></tr><tr><td>train_loss</td><td>█▅▄▄▃▃▃▃▂▂▂▂▂▂▁▁▁▁▁▁▁▁▁▁▁▁▁▁▁▁▁▁▁▁▁▁▁▁▁▁</td></tr><tr><td>train_tpr</td><td>▁▁▁▁▁▁▁▁▁▁▁▁▁▁▁▁▁▁▁▁▁▁▁▁▁▁▁▁▁▁▁▁▁▁▁▁▁▁▁▁</td></tr></table><br/></div><div class=\"wandb-col\"><h3>Run summary:</h3><br/><table class=\"wandb\"><tr><td>epoch</td><td>149</td></tr><tr><td>lr</td><td>5e-05</td></tr><tr><td>test_accuracy</td><td>0.966</td></tr><tr><td>test_auc_score</td><td>0.80428</td></tr><tr><td>test_f1_score</td><td>0.49135</td></tr><tr><td>test_fpr</td><td>0.0</td></tr><tr><td>test_loss</td><td>0.04297</td></tr><tr><td>test_tpr</td><td>0.0</td></tr><tr><td>train_accuracy</td><td>0.72851</td></tr><tr><td>train_auc_score</td><td>0.79276</td></tr><tr><td>train_f1_score</td><td>0.42147</td></tr><tr><td>train_fpr</td><td>0.0</td></tr><tr><td>train_loss</td><td>0.0801</td></tr><tr><td>train_tpr</td><td>0.0</td></tr></table><br/></div></div>"
      ],
      "text/plain": [
       "<IPython.core.display.HTML object>"
      ]
     },
     "metadata": {},
     "output_type": "display_data"
    },
    {
     "data": {
      "text/html": [
       " View run <strong style=\"color:#cdcd00\">JMenc_NumLab-500_LatDim-5</strong> at: <a href='https://wandb.ai/dmitrii_fomin_uga/Internship_project/runs/w4mlx0zk' target=\"_blank\">https://wandb.ai/dmitrii_fomin_uga/Internship_project/runs/w4mlx0zk</a><br/>Synced 5 W&B file(s), 0 media file(s), 0 artifact file(s) and 0 other file(s)"
      ],
      "text/plain": [
       "<IPython.core.display.HTML object>"
      ]
     },
     "metadata": {},
     "output_type": "display_data"
    },
    {
     "data": {
      "text/html": [
       "Find logs at: <code>../logs/wandb\\run-20230612_222333-w4mlx0zk\\logs</code>"
      ],
      "text/plain": [
       "<IPython.core.display.HTML object>"
      ]
     },
     "metadata": {},
     "output_type": "display_data"
    },
    {
     "name": "stdout",
     "output_type": "stream",
     "text": [
      "!!!! 10 8\n",
      "VAE(\n",
      "  (encoder): Sequential(\n",
      "    (0): Linear(in_features=50, out_features=512, bias=True)\n",
      "    (1): BatchNorm1d(512, eps=1e-05, momentum=0.1, affine=True, track_running_stats=True)\n",
      "    (2): ReLU()\n",
      "    (3): Linear(in_features=512, out_features=512, bias=True)\n",
      "    (4): BatchNorm1d(512, eps=1e-05, momentum=0.1, affine=True, track_running_stats=True)\n",
      "    (5): ReLU()\n",
      "    (6): Linear(in_features=512, out_features=512, bias=True)\n",
      "    (7): BatchNorm1d(512, eps=1e-05, momentum=0.1, affine=True, track_running_stats=True)\n",
      "    (8): ReLU()\n",
      "    (9): Linear(in_features=512, out_features=256, bias=True)\n",
      "    (10): BatchNorm1d(256, eps=1e-05, momentum=0.1, affine=True, track_running_stats=True)\n",
      "    (11): ReLU()\n",
      "    (12): Linear(in_features=256, out_features=128, bias=True)\n",
      "    (13): BatchNorm1d(128, eps=1e-05, momentum=0.1, affine=True, track_running_stats=True)\n",
      "    (14): ReLU()\n",
      "    (15): Linear(in_features=128, out_features=64, bias=True)\n",
      "    (16): BatchNorm1d(64, eps=1e-05, momentum=0.1, affine=True, track_running_stats=True)\n",
      "    (17): ReLU()\n",
      "    (18): Linear(in_features=64, out_features=32, bias=True)\n",
      "    (19): BatchNorm1d(32, eps=1e-05, momentum=0.1, affine=True, track_running_stats=True)\n",
      "    (20): ReLU()\n",
      "    (21): Linear(in_features=32, out_features=16, bias=True)\n",
      "    (22): BatchNorm1d(16, eps=1e-05, momentum=0.1, affine=True, track_running_stats=True)\n",
      "    (23): ReLU()\n",
      "    (24): Linear(in_features=16, out_features=8, bias=True)\n",
      "    (25): BatchNorm1d(8, eps=1e-05, momentum=0.1, affine=True, track_running_stats=True)\n",
      "    (26): ReLU()\n",
      "    (27): Linear(in_features=8, out_features=8, bias=True)\n",
      "    (28): BatchNorm1d(8, eps=1e-05, momentum=0.1, affine=True, track_running_stats=True)\n",
      "    (29): ReLU()\n",
      "    (30): Linear(in_features=8, out_features=10, bias=True)\n",
      "  )\n",
      "  (decoder): Sequential(\n",
      "    (0): Linear(in_features=5, out_features=8, bias=True)\n",
      "    (1): ReLU()\n",
      "    (2): BatchNorm1d(8, eps=1e-05, momentum=0.1, affine=True, track_running_stats=True)\n",
      "    (3): Linear(in_features=8, out_features=8, bias=True)\n",
      "    (4): ReLU()\n",
      "    (5): BatchNorm1d(8, eps=1e-05, momentum=0.1, affine=True, track_running_stats=True)\n",
      "    (6): Linear(in_features=8, out_features=16, bias=True)\n",
      "    (7): ReLU()\n",
      "    (8): BatchNorm1d(16, eps=1e-05, momentum=0.1, affine=True, track_running_stats=True)\n",
      "    (9): Linear(in_features=16, out_features=32, bias=True)\n",
      "    (10): ReLU()\n",
      "    (11): BatchNorm1d(32, eps=1e-05, momentum=0.1, affine=True, track_running_stats=True)\n",
      "    (12): Linear(in_features=32, out_features=64, bias=True)\n",
      "    (13): ReLU()\n",
      "    (14): BatchNorm1d(64, eps=1e-05, momentum=0.1, affine=True, track_running_stats=True)\n",
      "    (15): Linear(in_features=64, out_features=128, bias=True)\n",
      "    (16): ReLU()\n",
      "    (17): BatchNorm1d(128, eps=1e-05, momentum=0.1, affine=True, track_running_stats=True)\n",
      "    (18): Linear(in_features=128, out_features=256, bias=True)\n",
      "    (19): ReLU()\n",
      "    (20): BatchNorm1d(256, eps=1e-05, momentum=0.1, affine=True, track_running_stats=True)\n",
      "    (21): Linear(in_features=256, out_features=512, bias=True)\n",
      "    (22): ReLU()\n",
      "    (23): BatchNorm1d(512, eps=1e-05, momentum=0.1, affine=True, track_running_stats=True)\n",
      "    (24): Linear(in_features=512, out_features=512, bias=True)\n",
      "    (25): ReLU()\n",
      "    (26): BatchNorm1d(512, eps=1e-05, momentum=0.1, affine=True, track_running_stats=True)\n",
      "    (27): Linear(in_features=512, out_features=512, bias=True)\n",
      "    (28): ReLU()\n",
      "    (29): BatchNorm1d(512, eps=1e-05, momentum=0.1, affine=True, track_running_stats=True)\n",
      "    (30): Linear(in_features=512, out_features=50, bias=True)\n",
      "  )\n",
      ")\n"
     ]
    },
    {
     "data": {
      "text/html": [
       "Tracking run with wandb version 0.15.4"
      ],
      "text/plain": [
       "<IPython.core.display.HTML object>"
      ]
     },
     "metadata": {},
     "output_type": "display_data"
    },
    {
     "data": {
      "text/html": [
       "Run data is saved locally in <code>../logs/wandb\\run-20230612_222511-h575wsmg</code>"
      ],
      "text/plain": [
       "<IPython.core.display.HTML object>"
      ]
     },
     "metadata": {},
     "output_type": "display_data"
    },
    {
     "data": {
      "text/html": [
       "Syncing run <strong><a href='https://wandb.ai/dmitrii_fomin_uga/Internship_project/runs/h575wsmg' target=\"_blank\">JMvae_NumLab-500_LatDim-5</a></strong> to <a href='https://wandb.ai/dmitrii_fomin_uga/Internship_project' target=\"_blank\">Weights & Biases</a> (<a href='https://wandb.me/run' target=\"_blank\">docs</a>)<br/>"
      ],
      "text/plain": [
       "<IPython.core.display.HTML object>"
      ]
     },
     "metadata": {},
     "output_type": "display_data"
    },
    {
     "data": {
      "text/html": [
       " View project at <a href='https://wandb.ai/dmitrii_fomin_uga/Internship_project' target=\"_blank\">https://wandb.ai/dmitrii_fomin_uga/Internship_project</a>"
      ],
      "text/plain": [
       "<IPython.core.display.HTML object>"
      ]
     },
     "metadata": {},
     "output_type": "display_data"
    },
    {
     "data": {
      "text/html": [
       " View run at <a href='https://wandb.ai/dmitrii_fomin_uga/Internship_project/runs/h575wsmg' target=\"_blank\">https://wandb.ai/dmitrii_fomin_uga/Internship_project/runs/h575wsmg</a>"
      ],
      "text/plain": [
       "<IPython.core.display.HTML object>"
      ]
     },
     "metadata": {},
     "output_type": "display_data"
    },
    {
     "data": {
      "text/html": [
       "Waiting for W&B process to finish... <strong style=\"color:green\">(success).</strong>"
      ],
      "text/plain": [
       "<IPython.core.display.HTML object>"
      ]
     },
     "metadata": {},
     "output_type": "display_data"
    },
    {
     "data": {
      "text/html": [
       "<style>\n",
       "    table.wandb td:nth-child(1) { padding: 0 10px; text-align: left ; width: auto;} td:nth-child(2) {text-align: left ; width: 100%}\n",
       "    .wandb-row { display: flex; flex-direction: row; flex-wrap: wrap; justify-content: flex-start; width: 100% }\n",
       "    .wandb-col { display: flex; flex-direction: column; flex-basis: 100%; flex: 1; padding: 10px; }\n",
       "    </style>\n",
       "<div class=\"wandb-row\"><div class=\"wandb-col\"><h3>Run history:</h3><br/><table class=\"wandb\"><tr><td>epoch</td><td>▁▁▁▁▂▂▂▂▂▃▃▃▃▃▃▄▄▄▄▄▅▅▅▅▅▅▆▆▆▆▆▆▇▇▇▇▇███</td></tr><tr><td>lr</td><td>█▇▆▅▄▄▃▃▂▂▂▂▂▂▁▁▁▁▁▁▁▁▁▁▁▁▁▁▁▁▁▁▁▁▁▁▁▁▁▁</td></tr><tr><td>test_accuracy</td><td>██████████████████▅▄▄▄▃▂▂▁▁▁▁▁▁▁▁▁▁▁▁▁▁▁</td></tr><tr><td>test_auc_score</td><td>▂▂▁▁▁▂▄▆▇▇▇▇▇███████████████████████████</td></tr><tr><td>test_f1_score</td><td>▁▁▁▁▁▁▁▁▁▁▁▁▁▁▁▁▁▁████▇▇▇▇▆▆▆▆▆▆▇▆▆▆▆▆▆▆</td></tr><tr><td>test_fpr</td><td>▁▁▁▁▁▁▁▁▁▁▁▁▁▁▁▁▁▁▅▅▅▅▆▇▇███████████████</td></tr><tr><td>test_loss</td><td>█▄▂▁▁▁▁▁▁▁▁▁▁▁▁▁▁▂▂▂▂▂▂▃▃▃▃▃▃▃▃▃▃▃▃▃▃▃▃▃</td></tr><tr><td>test_tpr</td><td>▁▁▁▁▁▁▁▁▁▁▁▁▁▁▁▁▁▁▆▆▆▇▇▇█████▇██████████</td></tr><tr><td>train_accuracy</td><td>▄█▃▁▄▂▅▅▅▅▅▅▅▅▅▅▅▅▅▅▅▅▅▅▅▅▅▅▅▅▅▅▅▅▅▅▅▅▅▅</td></tr><tr><td>train_auc_score</td><td>▁█▆▂▂▂▂▂▂▂▂▂▂▂▂▂▂▂▂▂▂▂▂▂▂▂▂▂▂▂▂▂▂▂▂▂▂▂▂▂</td></tr><tr><td>train_f1_score</td><td>▂▆▇▅█▁▃▄▄▃▃▃▃▃▃▄▄▄▄▄▄▄▄▄▄▄▄▄▄▄▄▄▄▄▄▄▄▄▄▄</td></tr><tr><td>train_fpr</td><td>▄▁▇█▆▅▃▃▃▃▃▃▃▃▃▃▃▃▃▃▃▃▃▃▃▃▃▃▃▃▃▃▃▃▃▃▃▃▃▃</td></tr><tr><td>train_loss</td><td>█▅▂▂▂▁▁▁▁▁▁▁▁▁▁▁▁▁▁▁▁▁▁▁▁▁▁▁▁▁▁▁▁▁▁▁▁▁▁▁</td></tr><tr><td>train_tpr</td><td>▁▁███▁▁▁▁▁▁▁▁▁▁▁▁▁▁▁▁▁▁▁▁▁▁▁▁▁▁▁▁▁▁▁▁▁▁▁</td></tr></table><br/></div><div class=\"wandb-col\"><h3>Run summary:</h3><br/><table class=\"wandb\"><tr><td>epoch</td><td>149</td></tr><tr><td>lr</td><td>5e-05</td></tr><tr><td>test_accuracy</td><td>0.88293</td></tr><tr><td>test_auc_score</td><td>0.75794</td></tr><tr><td>test_f1_score</td><td>0.56431</td></tr><tr><td>test_fpr</td><td>0.10053</td></tr><tr><td>test_loss</td><td>0.04879</td></tr><tr><td>test_tpr</td><td>0.41392</td></tr><tr><td>train_accuracy</td><td>0.79487</td></tr><tr><td>train_auc_score</td><td>0.72035</td></tr><tr><td>train_f1_score</td><td>0.6648</td></tr><tr><td>train_fpr</td><td>0.02692</td></tr><tr><td>train_loss</td><td>0.08469</td></tr><tr><td>train_tpr</td><td>0.31667</td></tr></table><br/></div></div>"
      ],
      "text/plain": [
       "<IPython.core.display.HTML object>"
      ]
     },
     "metadata": {},
     "output_type": "display_data"
    },
    {
     "data": {
      "text/html": [
       " View run <strong style=\"color:#cdcd00\">JMvae_NumLab-500_LatDim-5</strong> at: <a href='https://wandb.ai/dmitrii_fomin_uga/Internship_project/runs/h575wsmg' target=\"_blank\">https://wandb.ai/dmitrii_fomin_uga/Internship_project/runs/h575wsmg</a><br/>Synced 5 W&B file(s), 0 media file(s), 0 artifact file(s) and 0 other file(s)"
      ],
      "text/plain": [
       "<IPython.core.display.HTML object>"
      ]
     },
     "metadata": {},
     "output_type": "display_data"
    },
    {
     "data": {
      "text/html": [
       "Find logs at: <code>../logs/wandb\\run-20230612_222511-h575wsmg\\logs</code>"
      ],
      "text/plain": [
       "<IPython.core.display.HTML object>"
      ]
     },
     "metadata": {},
     "output_type": "display_data"
    },
    {
     "data": {
      "text/html": [
       "Tracking run with wandb version 0.15.4"
      ],
      "text/plain": [
       "<IPython.core.display.HTML object>"
      ]
     },
     "metadata": {},
     "output_type": "display_data"
    },
    {
     "data": {
      "text/html": [
       "Run data is saved locally in <code>../logs/wandb\\run-20230612_222641-kbg881n5</code>"
      ],
      "text/plain": [
       "<IPython.core.display.HTML object>"
      ]
     },
     "metadata": {},
     "output_type": "display_data"
    },
    {
     "data": {
      "text/html": [
       "Syncing run <strong><a href='https://wandb.ai/dmitrii_fomin_uga/Internship_project/runs/kbg881n5' target=\"_blank\">JMenc_NumLab-1000_LatDim-5</a></strong> to <a href='https://wandb.ai/dmitrii_fomin_uga/Internship_project' target=\"_blank\">Weights & Biases</a> (<a href='https://wandb.me/run' target=\"_blank\">docs</a>)<br/>"
      ],
      "text/plain": [
       "<IPython.core.display.HTML object>"
      ]
     },
     "metadata": {},
     "output_type": "display_data"
    },
    {
     "data": {
      "text/html": [
       " View project at <a href='https://wandb.ai/dmitrii_fomin_uga/Internship_project' target=\"_blank\">https://wandb.ai/dmitrii_fomin_uga/Internship_project</a>"
      ],
      "text/plain": [
       "<IPython.core.display.HTML object>"
      ]
     },
     "metadata": {},
     "output_type": "display_data"
    },
    {
     "data": {
      "text/html": [
       " View run at <a href='https://wandb.ai/dmitrii_fomin_uga/Internship_project/runs/kbg881n5' target=\"_blank\">https://wandb.ai/dmitrii_fomin_uga/Internship_project/runs/kbg881n5</a>"
      ],
      "text/plain": [
       "<IPython.core.display.HTML object>"
      ]
     },
     "metadata": {},
     "output_type": "display_data"
    },
    {
     "data": {
      "text/html": [
       "Waiting for W&B process to finish... <strong style=\"color:green\">(success).</strong>"
      ],
      "text/plain": [
       "<IPython.core.display.HTML object>"
      ]
     },
     "metadata": {},
     "output_type": "display_data"
    },
    {
     "data": {
      "text/html": [
       "<style>\n",
       "    table.wandb td:nth-child(1) { padding: 0 10px; text-align: left ; width: auto;} td:nth-child(2) {text-align: left ; width: 100%}\n",
       "    .wandb-row { display: flex; flex-direction: row; flex-wrap: wrap; justify-content: flex-start; width: 100% }\n",
       "    .wandb-col { display: flex; flex-direction: column; flex-basis: 100%; flex: 1; padding: 10px; }\n",
       "    </style>\n",
       "<div class=\"wandb-row\"><div class=\"wandb-col\"><h3>Run history:</h3><br/><table class=\"wandb\"><tr><td>epoch</td><td>▁▁▁▁▂▂▂▂▂▃▃▃▃▃▃▄▄▄▄▄▅▅▅▅▅▅▆▆▆▆▆▆▇▇▇▇▇███</td></tr><tr><td>lr</td><td>█▇▆▅▄▄▃▃▂▂▂▂▂▂▁▁▁▁▁▁▁▁▁▁▁▁▁▁▁▁▁▁▁▁▁▁▁▁▁▁</td></tr><tr><td>test_accuracy</td><td>█▂▂▄▅█▅▄▅▁▁▂▁▂▁▁▂▁▁▂▂▂▂▂▁▁▁▁▁▁▁▂▁▁▁▁▁▁▁▁</td></tr><tr><td>test_auc_score</td><td>▂▁▄▇█▇▇▇▇▇█▇▇▇▇▇███████▇██████▇█▇██▇▇███</td></tr><tr><td>test_f1_score</td><td>▂▁▃█▆▂▅▆▅▅▅▅▅▅▅▅▅▅▅▅▅▆▅▅▅▅▅▅▅▅▅▅▅▅▅▅▅▅▅▅</td></tr><tr><td>test_fpr</td><td>▁▆▇▅▄▁▄▅▄██▇█▇██▇███▇▇██████████████████</td></tr><tr><td>test_loss</td><td>▇█▇▃▂▁▂▃▂▆▆▅▆▅▆▆▅▆▆▆▅▅▆▆▆▆▆▆▆▆▆▆▆▆▆▆▆▆▆▆</td></tr><tr><td>test_tpr</td><td>▁▁▄█▅▁▄▆▄▇▇▇█▇██▇███▇▇█▇████████████████</td></tr><tr><td>train_accuracy</td><td>▁▂▄▆▆▆█▇█▆▇▇▇▇▇▇▆▆█▆▇█▇▇▇▇▇██▇▇▇▆▇▇▇▇▆▆▆</td></tr><tr><td>train_auc_score</td><td>▅▁▆▃▄▃█▅▅▂▄▆▅▅▆▅▆▄▅▄▅▆▃▅▅▄▅▅▄▆▃▆▅▆▄▅▅▃▄▂</td></tr><tr><td>train_f1_score</td><td>▁▄▇▇▇▇███▇▇█▇███▇▇█▇▇█▇▇███████▇▇▇██▇▇▇▇</td></tr><tr><td>train_fpr</td><td>▁▂█▄▆▄▄▅▅▅▅▅▅▅▅▅▄▅▄▅▄▃▄▄▅▄▄▅▄▄▄▄▅▄▄▄▄▅▄▅</td></tr><tr><td>train_loss</td><td>█▆▄▃▃▃▁▃▂▃▂▃▂▂▂▁▃▃▂▃▃▂▃▂▂▂▂▂▂▂▂▁▃▂▂▂▂▃▃▂</td></tr><tr><td>train_tpr</td><td>▁▃█▆▇▆▇▇█▇▇▇▇▇▇█▇▇█▇▇▇▇▇▇▇▇█▇▇▇▇▇▇▇▇▇▇▇▆</td></tr></table><br/></div><div class=\"wandb-col\"><h3>Run summary:</h3><br/><table class=\"wandb\"><tr><td>epoch</td><td>149</td></tr><tr><td>lr</td><td>5e-05</td></tr><tr><td>test_accuracy</td><td>0.82384</td></tr><tr><td>test_auc_score</td><td>0.76113</td></tr><tr><td>test_f1_score</td><td>0.53811</td></tr><tr><td>test_fpr</td><td>0.16619</td></tr><tr><td>test_loss</td><td>0.06509</td></tr><tr><td>test_tpr</td><td>0.54708</td></tr><tr><td>train_accuracy</td><td>0.79316</td></tr><tr><td>train_auc_score</td><td>0.72659</td></tr><tr><td>train_f1_score</td><td>0.67948</td></tr><tr><td>train_fpr</td><td>0.08835</td></tr><tr><td>train_loss</td><td>0.08589</td></tr><tr><td>train_tpr</td><td>0.42071</td></tr></table><br/></div></div>"
      ],
      "text/plain": [
       "<IPython.core.display.HTML object>"
      ]
     },
     "metadata": {},
     "output_type": "display_data"
    },
    {
     "data": {
      "text/html": [
       " View run <strong style=\"color:#cdcd00\">JMenc_NumLab-1000_LatDim-5</strong> at: <a href='https://wandb.ai/dmitrii_fomin_uga/Internship_project/runs/kbg881n5' target=\"_blank\">https://wandb.ai/dmitrii_fomin_uga/Internship_project/runs/kbg881n5</a><br/>Synced 5 W&B file(s), 0 media file(s), 0 artifact file(s) and 0 other file(s)"
      ],
      "text/plain": [
       "<IPython.core.display.HTML object>"
      ]
     },
     "metadata": {},
     "output_type": "display_data"
    },
    {
     "data": {
      "text/html": [
       "Find logs at: <code>../logs/wandb\\run-20230612_222641-kbg881n5\\logs</code>"
      ],
      "text/plain": [
       "<IPython.core.display.HTML object>"
      ]
     },
     "metadata": {},
     "output_type": "display_data"
    },
    {
     "name": "stdout",
     "output_type": "stream",
     "text": [
      "!!!! 10 8\n",
      "VAE(\n",
      "  (encoder): Sequential(\n",
      "    (0): Linear(in_features=50, out_features=512, bias=True)\n",
      "    (1): BatchNorm1d(512, eps=1e-05, momentum=0.1, affine=True, track_running_stats=True)\n",
      "    (2): ReLU()\n",
      "    (3): Linear(in_features=512, out_features=512, bias=True)\n",
      "    (4): BatchNorm1d(512, eps=1e-05, momentum=0.1, affine=True, track_running_stats=True)\n",
      "    (5): ReLU()\n",
      "    (6): Linear(in_features=512, out_features=512, bias=True)\n",
      "    (7): BatchNorm1d(512, eps=1e-05, momentum=0.1, affine=True, track_running_stats=True)\n",
      "    (8): ReLU()\n",
      "    (9): Linear(in_features=512, out_features=256, bias=True)\n",
      "    (10): BatchNorm1d(256, eps=1e-05, momentum=0.1, affine=True, track_running_stats=True)\n",
      "    (11): ReLU()\n",
      "    (12): Linear(in_features=256, out_features=128, bias=True)\n",
      "    (13): BatchNorm1d(128, eps=1e-05, momentum=0.1, affine=True, track_running_stats=True)\n",
      "    (14): ReLU()\n",
      "    (15): Linear(in_features=128, out_features=64, bias=True)\n",
      "    (16): BatchNorm1d(64, eps=1e-05, momentum=0.1, affine=True, track_running_stats=True)\n",
      "    (17): ReLU()\n",
      "    (18): Linear(in_features=64, out_features=32, bias=True)\n",
      "    (19): BatchNorm1d(32, eps=1e-05, momentum=0.1, affine=True, track_running_stats=True)\n",
      "    (20): ReLU()\n",
      "    (21): Linear(in_features=32, out_features=16, bias=True)\n",
      "    (22): BatchNorm1d(16, eps=1e-05, momentum=0.1, affine=True, track_running_stats=True)\n",
      "    (23): ReLU()\n",
      "    (24): Linear(in_features=16, out_features=8, bias=True)\n",
      "    (25): BatchNorm1d(8, eps=1e-05, momentum=0.1, affine=True, track_running_stats=True)\n",
      "    (26): ReLU()\n",
      "    (27): Linear(in_features=8, out_features=8, bias=True)\n",
      "    (28): BatchNorm1d(8, eps=1e-05, momentum=0.1, affine=True, track_running_stats=True)\n",
      "    (29): ReLU()\n",
      "    (30): Linear(in_features=8, out_features=10, bias=True)\n",
      "  )\n",
      "  (decoder): Sequential(\n",
      "    (0): Linear(in_features=5, out_features=8, bias=True)\n",
      "    (1): ReLU()\n",
      "    (2): BatchNorm1d(8, eps=1e-05, momentum=0.1, affine=True, track_running_stats=True)\n",
      "    (3): Linear(in_features=8, out_features=8, bias=True)\n",
      "    (4): ReLU()\n",
      "    (5): BatchNorm1d(8, eps=1e-05, momentum=0.1, affine=True, track_running_stats=True)\n",
      "    (6): Linear(in_features=8, out_features=16, bias=True)\n",
      "    (7): ReLU()\n",
      "    (8): BatchNorm1d(16, eps=1e-05, momentum=0.1, affine=True, track_running_stats=True)\n",
      "    (9): Linear(in_features=16, out_features=32, bias=True)\n",
      "    (10): ReLU()\n",
      "    (11): BatchNorm1d(32, eps=1e-05, momentum=0.1, affine=True, track_running_stats=True)\n",
      "    (12): Linear(in_features=32, out_features=64, bias=True)\n",
      "    (13): ReLU()\n",
      "    (14): BatchNorm1d(64, eps=1e-05, momentum=0.1, affine=True, track_running_stats=True)\n",
      "    (15): Linear(in_features=64, out_features=128, bias=True)\n",
      "    (16): ReLU()\n",
      "    (17): BatchNorm1d(128, eps=1e-05, momentum=0.1, affine=True, track_running_stats=True)\n",
      "    (18): Linear(in_features=128, out_features=256, bias=True)\n",
      "    (19): ReLU()\n",
      "    (20): BatchNorm1d(256, eps=1e-05, momentum=0.1, affine=True, track_running_stats=True)\n",
      "    (21): Linear(in_features=256, out_features=512, bias=True)\n",
      "    (22): ReLU()\n",
      "    (23): BatchNorm1d(512, eps=1e-05, momentum=0.1, affine=True, track_running_stats=True)\n",
      "    (24): Linear(in_features=512, out_features=512, bias=True)\n",
      "    (25): ReLU()\n",
      "    (26): BatchNorm1d(512, eps=1e-05, momentum=0.1, affine=True, track_running_stats=True)\n",
      "    (27): Linear(in_features=512, out_features=512, bias=True)\n",
      "    (28): ReLU()\n",
      "    (29): BatchNorm1d(512, eps=1e-05, momentum=0.1, affine=True, track_running_stats=True)\n",
      "    (30): Linear(in_features=512, out_features=50, bias=True)\n",
      "  )\n",
      ")\n"
     ]
    },
    {
     "data": {
      "text/html": [
       "Tracking run with wandb version 0.15.4"
      ],
      "text/plain": [
       "<IPython.core.display.HTML object>"
      ]
     },
     "metadata": {},
     "output_type": "display_data"
    },
    {
     "data": {
      "text/html": [
       "Run data is saved locally in <code>../logs/wandb\\run-20230612_222824-rz6wrylw</code>"
      ],
      "text/plain": [
       "<IPython.core.display.HTML object>"
      ]
     },
     "metadata": {},
     "output_type": "display_data"
    },
    {
     "data": {
      "text/html": [
       "Syncing run <strong><a href='https://wandb.ai/dmitrii_fomin_uga/Internship_project/runs/rz6wrylw' target=\"_blank\">JMvae_NumLab-1000_LatDim-5</a></strong> to <a href='https://wandb.ai/dmitrii_fomin_uga/Internship_project' target=\"_blank\">Weights & Biases</a> (<a href='https://wandb.me/run' target=\"_blank\">docs</a>)<br/>"
      ],
      "text/plain": [
       "<IPython.core.display.HTML object>"
      ]
     },
     "metadata": {},
     "output_type": "display_data"
    },
    {
     "data": {
      "text/html": [
       " View project at <a href='https://wandb.ai/dmitrii_fomin_uga/Internship_project' target=\"_blank\">https://wandb.ai/dmitrii_fomin_uga/Internship_project</a>"
      ],
      "text/plain": [
       "<IPython.core.display.HTML object>"
      ]
     },
     "metadata": {},
     "output_type": "display_data"
    },
    {
     "data": {
      "text/html": [
       " View run at <a href='https://wandb.ai/dmitrii_fomin_uga/Internship_project/runs/rz6wrylw' target=\"_blank\">https://wandb.ai/dmitrii_fomin_uga/Internship_project/runs/rz6wrylw</a>"
      ],
      "text/plain": [
       "<IPython.core.display.HTML object>"
      ]
     },
     "metadata": {},
     "output_type": "display_data"
    },
    {
     "data": {
      "text/html": [
       "Waiting for W&B process to finish... <strong style=\"color:green\">(success).</strong>"
      ],
      "text/plain": [
       "<IPython.core.display.HTML object>"
      ]
     },
     "metadata": {},
     "output_type": "display_data"
    },
    {
     "data": {
      "text/html": [
       "<style>\n",
       "    table.wandb td:nth-child(1) { padding: 0 10px; text-align: left ; width: auto;} td:nth-child(2) {text-align: left ; width: 100%}\n",
       "    .wandb-row { display: flex; flex-direction: row; flex-wrap: wrap; justify-content: flex-start; width: 100% }\n",
       "    .wandb-col { display: flex; flex-direction: column; flex-basis: 100%; flex: 1; padding: 10px; }\n",
       "    </style>\n",
       "<div class=\"wandb-row\"><div class=\"wandb-col\"><h3>Run history:</h3><br/><table class=\"wandb\"><tr><td>epoch</td><td>▁▁▁▁▂▂▂▂▂▃▃▃▃▃▃▄▄▄▄▄▅▅▅▅▅▅▆▆▆▆▆▆▇▇▇▇▇███</td></tr><tr><td>lr</td><td>█▇▆▅▄▄▃▃▂▂▂▂▂▂▁▁▁▁▁▁▁▁▁▁▁▁▁▁▁▁▁▁▁▁▁▁▁▁▁▁</td></tr><tr><td>test_accuracy</td><td>█████████████▇▅▁▇▇▆▆▆▆▄▅▂▃▃▁▁▁▂▂▂▁▁▁▁▁▁▁</td></tr><tr><td>test_auc_score</td><td>▇█▇▆▄▄▄▃▂▂▂▁▁▁▁▁▂▁▂▁▁▁▁▁▁▂▁▁▁▁▁▁▁▂▂▁▁▂▁▁</td></tr><tr><td>test_f1_score</td><td>▁▁▁▁▁▁▁▁▁▁▁▁▁▁▆█▁▁▅▂▃▇▇▇███▆▆▆█▇█▇▇▇▆▇▇▇</td></tr><tr><td>test_fpr</td><td>▁▁▁▁▁▁▁▁▁▁▁▁▁▂▄█▂▁▃▃▃▃▅▄▇▆▆█████▇███████</td></tr><tr><td>test_loss</td><td>█▁▁▁▁▁▁▁▁▁▁▁▁▂▄▅▂▃▃▃▃▃▄▄▅▅▅▆▆▆▆▆▆▆▆▆▆▆▆▆</td></tr><tr><td>test_tpr</td><td>▁▁▁▁▁▁▁▁▁▁▁▁▁▁▄█▁▁▃▁▂▄▅▄▇▇▇▇▇▇█████▇▇███</td></tr><tr><td>train_accuracy</td><td>▂▂▂▁▂▂▄▇▆▇▅▇▆▇▇▆▇▇▆█▇▆▆▇▆▇▇▇▇▄▇▇▆▇▆▇▇▇▇▆</td></tr><tr><td>train_auc_score</td><td>▇▇▄█▄▄▄▄▁▅▅▃▁▆▅▄▆▃▂▆▆▅▄▄▃▆▃▃▇▄▄▄▃▅▄▂▃▂▅▅</td></tr><tr><td>train_f1_score</td><td>▁▁▁▁▁▁▄█▇█▇█▇▇█▇█▇▇█▇█▇▇▇██▇█▆██▇█▇████▇</td></tr><tr><td>train_fpr</td><td>▁▁▁▁▁▁▃▇▇▆▆▇██▇▇▇▇▆▆▆▆▆▇▆▇▆▇▆█▆▆▇▇▆▆▇▆▆▇</td></tr><tr><td>train_loss</td><td>█▅▆▆▅▄▃▃▂▃▄▃▃▂▂▃▂▂▃▁▂▃▃▂▃▂▃▂▂▅▂▃▂▂▃▂▂▂▂▃</td></tr><tr><td>train_tpr</td><td>▁▁▁▁▁▁▄█▇█▇█▇████▇▇█▇█▇▇▇█▇▇█▇██▇█▇▇███▇</td></tr></table><br/></div><div class=\"wandb-col\"><h3>Run summary:</h3><br/><table class=\"wandb\"><tr><td>epoch</td><td>149</td></tr><tr><td>lr</td><td>5e-05</td></tr><tr><td>test_accuracy</td><td>0.88589</td></tr><tr><td>test_auc_score</td><td>0.63417</td></tr><tr><td>test_f1_score</td><td>0.5343</td></tr><tr><td>test_fpr</td><td>0.09174</td></tr><tr><td>test_loss</td><td>0.04252</td></tr><tr><td>test_tpr</td><td>0.25</td></tr><tr><td>train_accuracy</td><td>0.7839</td></tr><tr><td>train_auc_score</td><td>0.63926</td></tr><tr><td>train_f1_score</td><td>0.67682</td></tr><tr><td>train_fpr</td><td>0.0623</td></tr><tr><td>train_loss</td><td>0.09001</td></tr><tr><td>train_tpr</td><td>0.37872</td></tr></table><br/></div></div>"
      ],
      "text/plain": [
       "<IPython.core.display.HTML object>"
      ]
     },
     "metadata": {},
     "output_type": "display_data"
    },
    {
     "data": {
      "text/html": [
       " View run <strong style=\"color:#cdcd00\">JMvae_NumLab-1000_LatDim-5</strong> at: <a href='https://wandb.ai/dmitrii_fomin_uga/Internship_project/runs/rz6wrylw' target=\"_blank\">https://wandb.ai/dmitrii_fomin_uga/Internship_project/runs/rz6wrylw</a><br/>Synced 5 W&B file(s), 0 media file(s), 0 artifact file(s) and 0 other file(s)"
      ],
      "text/plain": [
       "<IPython.core.display.HTML object>"
      ]
     },
     "metadata": {},
     "output_type": "display_data"
    },
    {
     "data": {
      "text/html": [
       "Find logs at: <code>../logs/wandb\\run-20230612_222824-rz6wrylw\\logs</code>"
      ],
      "text/plain": [
       "<IPython.core.display.HTML object>"
      ]
     },
     "metadata": {},
     "output_type": "display_data"
    },
    {
     "data": {
      "text/html": [
       "Tracking run with wandb version 0.15.4"
      ],
      "text/plain": [
       "<IPython.core.display.HTML object>"
      ]
     },
     "metadata": {},
     "output_type": "display_data"
    },
    {
     "data": {
      "text/html": [
       "Run data is saved locally in <code>../logs/wandb\\run-20230612_223005-l2ftbevr</code>"
      ],
      "text/plain": [
       "<IPython.core.display.HTML object>"
      ]
     },
     "metadata": {},
     "output_type": "display_data"
    },
    {
     "data": {
      "text/html": [
       "Syncing run <strong><a href='https://wandb.ai/dmitrii_fomin_uga/Internship_project/runs/l2ftbevr' target=\"_blank\">JMenc_NumLab-1990_LatDim-5</a></strong> to <a href='https://wandb.ai/dmitrii_fomin_uga/Internship_project' target=\"_blank\">Weights & Biases</a> (<a href='https://wandb.me/run' target=\"_blank\">docs</a>)<br/>"
      ],
      "text/plain": [
       "<IPython.core.display.HTML object>"
      ]
     },
     "metadata": {},
     "output_type": "display_data"
    },
    {
     "data": {
      "text/html": [
       " View project at <a href='https://wandb.ai/dmitrii_fomin_uga/Internship_project' target=\"_blank\">https://wandb.ai/dmitrii_fomin_uga/Internship_project</a>"
      ],
      "text/plain": [
       "<IPython.core.display.HTML object>"
      ]
     },
     "metadata": {},
     "output_type": "display_data"
    },
    {
     "data": {
      "text/html": [
       " View run at <a href='https://wandb.ai/dmitrii_fomin_uga/Internship_project/runs/l2ftbevr' target=\"_blank\">https://wandb.ai/dmitrii_fomin_uga/Internship_project/runs/l2ftbevr</a>"
      ],
      "text/plain": [
       "<IPython.core.display.HTML object>"
      ]
     },
     "metadata": {},
     "output_type": "display_data"
    },
    {
     "data": {
      "text/html": [
       "Waiting for W&B process to finish... <strong style=\"color:green\">(success).</strong>"
      ],
      "text/plain": [
       "<IPython.core.display.HTML object>"
      ]
     },
     "metadata": {},
     "output_type": "display_data"
    },
    {
     "data": {
      "text/html": [
       "<style>\n",
       "    table.wandb td:nth-child(1) { padding: 0 10px; text-align: left ; width: auto;} td:nth-child(2) {text-align: left ; width: 100%}\n",
       "    .wandb-row { display: flex; flex-direction: row; flex-wrap: wrap; justify-content: flex-start; width: 100% }\n",
       "    .wandb-col { display: flex; flex-direction: column; flex-basis: 100%; flex: 1; padding: 10px; }\n",
       "    </style>\n",
       "<div class=\"wandb-row\"><div class=\"wandb-col\"><h3>Run history:</h3><br/><table class=\"wandb\"><tr><td>epoch</td><td>▁▁▁▁▂▂▂▂▂▃▃▃▃▃▃▄▄▄▄▄▅▅▅▅▅▅▆▆▆▆▆▆▇▇▇▇▇███</td></tr><tr><td>lr</td><td>█▇▆▅▄▄▃▃▂▂▂▂▂▂▁▁▁▁▁▁▁▁▁▁▁▁▁▁▁▁▁▁▁▁▁▁▁▁▁▁</td></tr><tr><td>test_accuracy</td><td>▇▇█▅▃▅▂▄▃▁▂▄▄▄▄▂▃▄▄▄▄▄▄▄▄▄▃▄▄▄▄▄▄▄▃▄▄▄▄▄</td></tr><tr><td>test_auc_score</td><td>█▇▄▃▂▁▁▂▂▂▂▂▂▃▃▃▃▃▃▃▃▃▃▃▃▃▃▃▃▃▃▃▃▃▃▂▃▃▂▂</td></tr><tr><td>test_f1_score</td><td>▁▁█▇▇▇▇▇▇▆▆▇▇▇▇▇▆▇▇▇▇▇▇█▇▇▇▇▇▇▇▇█▇▇▇▇▇▇▇</td></tr><tr><td>test_fpr</td><td>▁▁▁▄▆▄▇▆▆█▇▆▆▅▆▇▆▆▅▆▅▅▆▅▆▅▆▅▆▆▅▆▅▅▆▅▅▆▆▆</td></tr><tr><td>test_loss</td><td>█▂▁▁▂▂▂▂▂▂▂▂▂▂▂▂▂▂▂▂▂▂▂▂▂▂▂▂▂▂▂▂▂▂▂▂▂▂▂▂</td></tr><tr><td>test_tpr</td><td>▁▁▇▇▇▇▇▇▇▇▇▇▇▇▇▇▇▇▇▇▇▇▇█▇▇▇▇▇▇▇▇█▇▇▇▇▇▇▇</td></tr><tr><td>train_accuracy</td><td>▁▅▇▇▆▇▇▇▇▅▆▆▆▇▇▇▇██▇▇▇▆▅▇▆▅▇▇▆▆▇▇▇▇▇▆▆▆█</td></tr><tr><td>train_auc_score</td><td>▁▂██▇▆▇▇▇▇▇█▇▇██████████████████████████</td></tr><tr><td>train_f1_score</td><td>▁▇█▇▇▇██▇▇█▇▇▆█▇▇█▇▇▇▇▇▆▇▇▅██▇▆██▇▆▇▇▇▇█</td></tr><tr><td>train_fpr</td><td>▄█▂▁▄▂▂▂▂▃▃▂▂▂▂▂▃▂▂▂▁▂▂▂▃▂▄▂▂▄▂▁▂▁▂▁▂▂▂▂</td></tr><tr><td>train_loss</td><td>█▃▂▂▂▁▂▂▁▃▂▂▂▂▂▁▁▁▁▂▂▂▂▃▁▂▃▂▂▂▂▂▂▁▂▂▂▂▂▁</td></tr><tr><td>train_tpr</td><td>▁▇█▇█▆▇▇▇▇█▇▇▆█▇▇█▇▇▇▇▇▆▇▇▅▇▇▇▆▇█▇▆▇▇▇▇█</td></tr></table><br/></div><div class=\"wandb-col\"><h3>Run summary:</h3><br/><table class=\"wandb\"><tr><td>epoch</td><td>149</td></tr><tr><td>lr</td><td>5e-05</td></tr><tr><td>test_accuracy</td><td>0.96035</td></tr><tr><td>test_auc_score</td><td>0.63633</td></tr><tr><td>test_f1_score</td><td>0.54558</td></tr><tr><td>test_fpr</td><td>0.00835</td></tr><tr><td>test_loss</td><td>0.03145</td></tr><tr><td>test_tpr</td><td>0.07281</td></tr><tr><td>train_accuracy</td><td>0.75882</td></tr><tr><td>train_auc_score</td><td>0.70642</td></tr><tr><td>train_f1_score</td><td>0.52882</td></tr><tr><td>train_fpr</td><td>0.0039</td></tr><tr><td>train_loss</td><td>0.10058</td></tr><tr><td>train_tpr</td><td>0.11218</td></tr></table><br/></div></div>"
      ],
      "text/plain": [
       "<IPython.core.display.HTML object>"
      ]
     },
     "metadata": {},
     "output_type": "display_data"
    },
    {
     "data": {
      "text/html": [
       " View run <strong style=\"color:#cdcd00\">JMenc_NumLab-1990_LatDim-5</strong> at: <a href='https://wandb.ai/dmitrii_fomin_uga/Internship_project/runs/l2ftbevr' target=\"_blank\">https://wandb.ai/dmitrii_fomin_uga/Internship_project/runs/l2ftbevr</a><br/>Synced 5 W&B file(s), 0 media file(s), 0 artifact file(s) and 0 other file(s)"
      ],
      "text/plain": [
       "<IPython.core.display.HTML object>"
      ]
     },
     "metadata": {},
     "output_type": "display_data"
    },
    {
     "data": {
      "text/html": [
       "Find logs at: <code>../logs/wandb\\run-20230612_223005-l2ftbevr\\logs</code>"
      ],
      "text/plain": [
       "<IPython.core.display.HTML object>"
      ]
     },
     "metadata": {},
     "output_type": "display_data"
    },
    {
     "name": "stdout",
     "output_type": "stream",
     "text": [
      "!!!! 10 8\n",
      "VAE(\n",
      "  (encoder): Sequential(\n",
      "    (0): Linear(in_features=50, out_features=512, bias=True)\n",
      "    (1): BatchNorm1d(512, eps=1e-05, momentum=0.1, affine=True, track_running_stats=True)\n",
      "    (2): ReLU()\n",
      "    (3): Linear(in_features=512, out_features=512, bias=True)\n",
      "    (4): BatchNorm1d(512, eps=1e-05, momentum=0.1, affine=True, track_running_stats=True)\n",
      "    (5): ReLU()\n",
      "    (6): Linear(in_features=512, out_features=512, bias=True)\n",
      "    (7): BatchNorm1d(512, eps=1e-05, momentum=0.1, affine=True, track_running_stats=True)\n",
      "    (8): ReLU()\n",
      "    (9): Linear(in_features=512, out_features=256, bias=True)\n",
      "    (10): BatchNorm1d(256, eps=1e-05, momentum=0.1, affine=True, track_running_stats=True)\n",
      "    (11): ReLU()\n",
      "    (12): Linear(in_features=256, out_features=128, bias=True)\n",
      "    (13): BatchNorm1d(128, eps=1e-05, momentum=0.1, affine=True, track_running_stats=True)\n",
      "    (14): ReLU()\n",
      "    (15): Linear(in_features=128, out_features=64, bias=True)\n",
      "    (16): BatchNorm1d(64, eps=1e-05, momentum=0.1, affine=True, track_running_stats=True)\n",
      "    (17): ReLU()\n",
      "    (18): Linear(in_features=64, out_features=32, bias=True)\n",
      "    (19): BatchNorm1d(32, eps=1e-05, momentum=0.1, affine=True, track_running_stats=True)\n",
      "    (20): ReLU()\n",
      "    (21): Linear(in_features=32, out_features=16, bias=True)\n",
      "    (22): BatchNorm1d(16, eps=1e-05, momentum=0.1, affine=True, track_running_stats=True)\n",
      "    (23): ReLU()\n",
      "    (24): Linear(in_features=16, out_features=8, bias=True)\n",
      "    (25): BatchNorm1d(8, eps=1e-05, momentum=0.1, affine=True, track_running_stats=True)\n",
      "    (26): ReLU()\n",
      "    (27): Linear(in_features=8, out_features=8, bias=True)\n",
      "    (28): BatchNorm1d(8, eps=1e-05, momentum=0.1, affine=True, track_running_stats=True)\n",
      "    (29): ReLU()\n",
      "    (30): Linear(in_features=8, out_features=10, bias=True)\n",
      "  )\n",
      "  (decoder): Sequential(\n",
      "    (0): Linear(in_features=5, out_features=8, bias=True)\n",
      "    (1): ReLU()\n",
      "    (2): BatchNorm1d(8, eps=1e-05, momentum=0.1, affine=True, track_running_stats=True)\n",
      "    (3): Linear(in_features=8, out_features=8, bias=True)\n",
      "    (4): ReLU()\n",
      "    (5): BatchNorm1d(8, eps=1e-05, momentum=0.1, affine=True, track_running_stats=True)\n",
      "    (6): Linear(in_features=8, out_features=16, bias=True)\n",
      "    (7): ReLU()\n",
      "    (8): BatchNorm1d(16, eps=1e-05, momentum=0.1, affine=True, track_running_stats=True)\n",
      "    (9): Linear(in_features=16, out_features=32, bias=True)\n",
      "    (10): ReLU()\n",
      "    (11): BatchNorm1d(32, eps=1e-05, momentum=0.1, affine=True, track_running_stats=True)\n",
      "    (12): Linear(in_features=32, out_features=64, bias=True)\n",
      "    (13): ReLU()\n",
      "    (14): BatchNorm1d(64, eps=1e-05, momentum=0.1, affine=True, track_running_stats=True)\n",
      "    (15): Linear(in_features=64, out_features=128, bias=True)\n",
      "    (16): ReLU()\n",
      "    (17): BatchNorm1d(128, eps=1e-05, momentum=0.1, affine=True, track_running_stats=True)\n",
      "    (18): Linear(in_features=128, out_features=256, bias=True)\n",
      "    (19): ReLU()\n",
      "    (20): BatchNorm1d(256, eps=1e-05, momentum=0.1, affine=True, track_running_stats=True)\n",
      "    (21): Linear(in_features=256, out_features=512, bias=True)\n",
      "    (22): ReLU()\n",
      "    (23): BatchNorm1d(512, eps=1e-05, momentum=0.1, affine=True, track_running_stats=True)\n",
      "    (24): Linear(in_features=512, out_features=512, bias=True)\n",
      "    (25): ReLU()\n",
      "    (26): BatchNorm1d(512, eps=1e-05, momentum=0.1, affine=True, track_running_stats=True)\n",
      "    (27): Linear(in_features=512, out_features=512, bias=True)\n",
      "    (28): ReLU()\n",
      "    (29): BatchNorm1d(512, eps=1e-05, momentum=0.1, affine=True, track_running_stats=True)\n",
      "    (30): Linear(in_features=512, out_features=50, bias=True)\n",
      "  )\n",
      ")\n"
     ]
    },
    {
     "data": {
      "text/html": [
       "Tracking run with wandb version 0.15.4"
      ],
      "text/plain": [
       "<IPython.core.display.HTML object>"
      ]
     },
     "metadata": {},
     "output_type": "display_data"
    },
    {
     "data": {
      "text/html": [
       "Run data is saved locally in <code>../logs/wandb\\run-20230612_223202-hmg6qcmv</code>"
      ],
      "text/plain": [
       "<IPython.core.display.HTML object>"
      ]
     },
     "metadata": {},
     "output_type": "display_data"
    },
    {
     "data": {
      "text/html": [
       "Syncing run <strong><a href='https://wandb.ai/dmitrii_fomin_uga/Internship_project/runs/hmg6qcmv' target=\"_blank\">JMvae_NumLab-1990_LatDim-5</a></strong> to <a href='https://wandb.ai/dmitrii_fomin_uga/Internship_project' target=\"_blank\">Weights & Biases</a> (<a href='https://wandb.me/run' target=\"_blank\">docs</a>)<br/>"
      ],
      "text/plain": [
       "<IPython.core.display.HTML object>"
      ]
     },
     "metadata": {},
     "output_type": "display_data"
    },
    {
     "data": {
      "text/html": [
       " View project at <a href='https://wandb.ai/dmitrii_fomin_uga/Internship_project' target=\"_blank\">https://wandb.ai/dmitrii_fomin_uga/Internship_project</a>"
      ],
      "text/plain": [
       "<IPython.core.display.HTML object>"
      ]
     },
     "metadata": {},
     "output_type": "display_data"
    },
    {
     "data": {
      "text/html": [
       " View run at <a href='https://wandb.ai/dmitrii_fomin_uga/Internship_project/runs/hmg6qcmv' target=\"_blank\">https://wandb.ai/dmitrii_fomin_uga/Internship_project/runs/hmg6qcmv</a>"
      ],
      "text/plain": [
       "<IPython.core.display.HTML object>"
      ]
     },
     "metadata": {},
     "output_type": "display_data"
    },
    {
     "data": {
      "text/html": [
       "Waiting for W&B process to finish... <strong style=\"color:green\">(success).</strong>"
      ],
      "text/plain": [
       "<IPython.core.display.HTML object>"
      ]
     },
     "metadata": {},
     "output_type": "display_data"
    },
    {
     "data": {
      "text/html": [
       "<style>\n",
       "    table.wandb td:nth-child(1) { padding: 0 10px; text-align: left ; width: auto;} td:nth-child(2) {text-align: left ; width: 100%}\n",
       "    .wandb-row { display: flex; flex-direction: row; flex-wrap: wrap; justify-content: flex-start; width: 100% }\n",
       "    .wandb-col { display: flex; flex-direction: column; flex-basis: 100%; flex: 1; padding: 10px; }\n",
       "    </style>\n",
       "<div class=\"wandb-row\"><div class=\"wandb-col\"><h3>Run history:</h3><br/><table class=\"wandb\"><tr><td>epoch</td><td>▁▁▁▁▂▂▂▂▂▃▃▃▃▃▃▄▄▄▄▄▅▅▅▅▅▅▆▆▆▆▆▆▇▇▇▇▇███</td></tr><tr><td>lr</td><td>█▇▆▅▄▄▃▃▂▂▂▂▂▂▁▁▁▁▁▁▁▁▁▁▁▁▁▁▁▁▁▁▁▁▁▁▁▁▁▁</td></tr><tr><td>test_accuracy</td><td>▆▆▄▅▅▂▄▃▇▃▃▁▁▆▃▅▆▃█▃▃▄▇▅▇▄▇▄▅▅▂▆▅▄▃▃▃▅▅▅</td></tr><tr><td>test_auc_score</td><td>██▇▄▂▁▁▁▁▁▁▁▁▁▁▁▁▁▁▁▁▁▁▁▁▁▁▁▁▁▁▁▁▁▁▁▁▁▁▁</td></tr><tr><td>test_f1_score</td><td>▇▆▅▆▆▂▄▄█▄▄▁▁▆▄▅▇▃█▃▃▅█▅█▅█▅▆▅▂▆▆▄▃▄▄▅▆▆</td></tr><tr><td>test_fpr</td><td>▁▁▁▁▁▁▁▁▁▁▁▁▁▁▁▁▁▁▁▁▁▁▁▁▁▁▁▁▁▁▁▁▁▁▁▁▁▁▁▁</td></tr><tr><td>test_loss</td><td>█▁▁▁▁▁▁▂▂▂▂▂▁▂▁▁▁▁▁▁▁▁▁▁▁▁▁▁▁▁▁▁▁▁▁▁▁▁▁▁</td></tr><tr><td>test_tpr</td><td>▁▁▁▁▁▁▁▁▁▁▁▁▁▁▁▁▁▁▁▁▁▁▁▁▁▁▁▁▁▁▁▁▁▁▁▁▁▁▁▁</td></tr><tr><td>train_accuracy</td><td>▃▄▆▅▅▅▅▇▅▁▅▄▄▇▄▄▅▅▇▅▅▃▅▄▅▄▇▄▁▇▅▂▃▃▆▄▅█▅▄</td></tr><tr><td>train_auc_score</td><td>▂▃▆▄█▂▅▅▅▅▅▄▁▇▃▆▅▂▅▂▅▄▃▆▅▄▅▄▄▃▃▅▄▆▄▂▅▃▂▃</td></tr><tr><td>train_f1_score</td><td>▃▄▇▅▆▅▅▇▅▁▅▄▄▇▄▄▅▆▇▅▅▃▅▄▅▄█▄▁▇▅▂▃▃▆▅▅█▅▄</td></tr><tr><td>train_fpr</td><td>▁▁▁▁▁▁▁▁▁▁▁▁▁▁▁▁▁▁▁▁▁▁▁▁▁▁▁▁▁▁▁▁▁▁▁▁▁▁▁▁</td></tr><tr><td>train_loss</td><td>█▄▂▃▂▃▃▁▃▅▃▃▄▂▄▃▃▂▂▂▃▄▃▄▃▃▁▃▅▁▃▅▄▄▂▃▃▁▃▄</td></tr><tr><td>train_tpr</td><td>▁▁▁▁▁▁▁▁▁▁▁▁▁▁▁▁▁▁▁▁▁▁▁▁▁▁▁▁▁▁▁▁▁▁▁▁▁▁▁▁</td></tr></table><br/></div><div class=\"wandb-col\"><h3>Run summary:</h3><br/><table class=\"wandb\"><tr><td>epoch</td><td>149</td></tr><tr><td>lr</td><td>5e-05</td></tr><tr><td>test_accuracy</td><td>0.96603</td></tr><tr><td>test_auc_score</td><td>0.61976</td></tr><tr><td>test_f1_score</td><td>0.49136</td></tr><tr><td>test_fpr</td><td>0.0</td></tr><tr><td>test_loss</td><td>0.03031</td></tr><tr><td>test_tpr</td><td>0.0</td></tr><tr><td>train_accuracy</td><td>0.72622</td></tr><tr><td>train_auc_score</td><td>0.60545</td></tr><tr><td>train_f1_score</td><td>0.42066</td></tr><tr><td>train_fpr</td><td>0.0</td></tr><tr><td>train_loss</td><td>0.11457</td></tr><tr><td>train_tpr</td><td>0.0</td></tr></table><br/></div></div>"
      ],
      "text/plain": [
       "<IPython.core.display.HTML object>"
      ]
     },
     "metadata": {},
     "output_type": "display_data"
    },
    {
     "data": {
      "text/html": [
       " View run <strong style=\"color:#cdcd00\">JMvae_NumLab-1990_LatDim-5</strong> at: <a href='https://wandb.ai/dmitrii_fomin_uga/Internship_project/runs/hmg6qcmv' target=\"_blank\">https://wandb.ai/dmitrii_fomin_uga/Internship_project/runs/hmg6qcmv</a><br/>Synced 5 W&B file(s), 0 media file(s), 0 artifact file(s) and 0 other file(s)"
      ],
      "text/plain": [
       "<IPython.core.display.HTML object>"
      ]
     },
     "metadata": {},
     "output_type": "display_data"
    },
    {
     "data": {
      "text/html": [
       "Find logs at: <code>../logs/wandb\\run-20230612_223202-hmg6qcmv\\logs</code>"
      ],
      "text/plain": [
       "<IPython.core.display.HTML object>"
      ]
     },
     "metadata": {},
     "output_type": "display_data"
    }
   ],
   "source": [
    "train_cycle(df)"
   ]
  }
 ],
 "metadata": {
  "kernelspec": {
   "display_name": "env1",
   "language": "python",
   "name": "python3"
  },
  "language_info": {
   "codemirror_mode": {
    "name": "ipython",
    "version": 3
   },
   "file_extension": ".py",
   "mimetype": "text/x-python",
   "name": "python",
   "nbconvert_exporter": "python",
   "pygments_lexer": "ipython3",
   "version": "3.11.3"
  },
  "orig_nbformat": 4
 },
 "nbformat": 4,
 "nbformat_minor": 2
}
