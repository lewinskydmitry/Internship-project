{
  "cells": [
    {
      "attachments": {},
      "cell_type": "markdown",
      "metadata": {
        "id": "MpVxguTB17rf"
      },
      "source": [
        "# Load libraries"
      ]
    },
    {
      "cell_type": "code",
      "execution_count": 1,
      "metadata": {
        "colab": {
          "base_uri": "https://localhost:8080/"
        },
        "id": "OyGrZYE1tpAh",
        "outputId": "5b54f4a0-bd51-4447-e7f7-42e8a2e83b6c"
      },
      "outputs": [],
      "source": [
        "import os\n",
        "import sys\n",
        "sys.path.append(os.path.abspath(os.path.join(os.path.dirname('src'), '..')))\n",
        "\n",
        "import pandas as pd\n",
        "from catboost import CatBoostClassifier\n",
        "from sklearn.model_selection import train_test_split\n",
        "from catboost import Pool\n",
        "from src.tools import *\n",
        "\n",
        "import warnings\n",
        "warnings.filterwarnings(\"ignore\")"
      ]
    },
    {
      "attachments": {},
      "cell_type": "markdown",
      "metadata": {
        "id": "KJKenEct1-sQ"
      },
      "source": [
        "# Read data"
      ]
    },
    {
      "cell_type": "code",
      "execution_count": 2,
      "metadata": {
        "id": "K8WkhpSCuG8l"
      },
      "outputs": [],
      "source": [
        "df = pd.read_csv('../data/prepared_data.csv')\n",
        "df_fe = pd.read_csv('../data/data_fe.csv')"
      ]
    },
    {
      "attachments": {},
      "cell_type": "markdown",
      "metadata": {
        "id": "BvoCOslb2KVS"
      },
      "source": [
        "# Train Catboost"
      ]
    },
    {
      "attachments": {},
      "cell_type": "markdown",
      "metadata": {
        "id": "SVeReKGR4-KB"
      },
      "source": [
        "## Test data without upsampling"
      ]
    },
    {
      "attachments": {},
      "cell_type": "markdown",
      "metadata": {
        "id": "7J4EpZN246Zw"
      },
      "source": [
        "### Find feature importance"
      ]
    },
    {
      "cell_type": "code",
      "execution_count": 3,
      "metadata": {
        "id": "NEvXf5qLxpGd"
      },
      "outputs": [],
      "source": [
        "CatBoost = CatBoostClassifier(verbose=False)"
      ]
    },
    {
      "cell_type": "code",
      "execution_count": 4,
      "metadata": {
        "id": "CHNY6qiXx4o0"
      },
      "outputs": [],
      "source": [
        "X_train, X_test, y_train, y_test = train_test_split(df_fe.drop(columns = ['Machine failure']),\n",
        "                                                    df_fe['Machine failure'],\n",
        "                                                    test_size=0.33,\n",
        "                                                    random_state=42,\n",
        "                                                    stratify = df['Machine failure'])\n",
        "\n",
        "train_pool = Pool(data=X_train, label=y_train)"
      ]
    },
    {
      "cell_type": "code",
      "execution_count": 5,
      "metadata": {
        "colab": {
          "base_uri": "https://localhost:8080/"
        },
        "id": "dSFx311OyNk3",
        "outputId": "8d8c4f4d-e45f-4018-f906-f51cc877d721"
      },
      "outputs": [
        {
          "data": {
            "text/plain": [
              "{'auc_score': 0.9048384567126725, 'f1_score': 0.9268971302323933}"
            ]
          },
          "execution_count": 5,
          "metadata": {},
          "output_type": "execute_result"
        }
      ],
      "source": [
        "CatBoost.fit(train_pool)\n",
        "\n",
        "feature_importance = pd.DataFrame({'feature_importance': CatBoost.get_feature_importance(train_pool), \n",
        "              'feature_names': X_test.columns}).sort_values(by=['feature_importance'], \n",
        "                                                       ascending=False)\n",
        "              \n",
        "check_result(CatBoost, X_test, y_test )"
      ]
    },
    {
      "cell_type": "code",
      "execution_count": 6,
      "metadata": {},
      "outputs": [],
      "source": [
        "feature_importance.to_csv('../data/feature_imporstance_WS.csv', index = False)"
      ]
    },
    {
      "attachments": {},
      "cell_type": "markdown",
      "metadata": {
        "id": "jiFj8emU5DVG"
      },
      "source": [
        "### Find best amount of features"
      ]
    },
    {
      "cell_type": "code",
      "execution_count": 7,
      "metadata": {
        "colab": {
          "base_uri": "https://localhost:8080/"
        },
        "id": "28pFLr4U5RWV",
        "outputId": "e89605b6-a90d-4c80-eaee-955792ec0de2"
      },
      "outputs": [
        {
          "name": "stderr",
          "output_type": "stream",
          "text": [
            "  0%|          | 0/24 [00:00<?, ?it/s]"
          ]
        },
        {
          "name": "stdout",
          "output_type": "stream",
          "text": [
            "F1_score - 0.6734304006608839, num_features - 0, AUC_score = 0.6151303997132103\n"
          ]
        },
        {
          "name": "stderr",
          "output_type": "stream",
          "text": [
            "  4%|▍         | 1/24 [00:02<00:59,  2.61s/it]"
          ]
        },
        {
          "name": "stdout",
          "output_type": "stream",
          "text": [
            "F1_score - 0.9053976276635861, num_features - 1, AUC_score = 0.8861971231403478\n"
          ]
        },
        {
          "name": "stderr",
          "output_type": "stream",
          "text": [
            "  8%|▊         | 2/24 [00:05<00:57,  2.62s/it]"
          ]
        },
        {
          "name": "stdout",
          "output_type": "stream",
          "text": [
            "F1_score - 0.9053976276635861, num_features - 6, AUC_score = 0.8861971231403478\n"
          ]
        },
        {
          "name": "stderr",
          "output_type": "stream",
          "text": [
            " 12%|█▎        | 3/24 [00:08<00:55,  2.66s/it]"
          ]
        },
        {
          "name": "stdout",
          "output_type": "stream",
          "text": [
            "F1_score - 0.9074030316276981, num_features - 6, AUC_score = 0.8863539612833841\n"
          ]
        },
        {
          "name": "stderr",
          "output_type": "stream",
          "text": [
            " 17%|█▋        | 4/24 [00:11<00:57,  2.89s/it]"
          ]
        },
        {
          "name": "stdout",
          "output_type": "stream",
          "text": [
            "F1_score - 0.9045308175559443, num_features - 16, AUC_score = 0.8818896755690984\n"
          ]
        },
        {
          "name": "stderr",
          "output_type": "stream",
          "text": [
            " 21%|██        | 5/24 [00:15<01:00,  3.21s/it]"
          ]
        },
        {
          "name": "stdout",
          "output_type": "stream",
          "text": [
            "F1_score - 0.9345060499209441, num_features - 16, AUC_score = 0.9139238662842804\n"
          ]
        },
        {
          "name": "stderr",
          "output_type": "stream",
          "text": [
            " 25%|██▌       | 6/24 [00:19<01:05,  3.62s/it]"
          ]
        },
        {
          "name": "stdout",
          "output_type": "stream",
          "text": [
            "F1_score - 0.9345060499209441, num_features - 26, AUC_score = 0.9139238662842804\n"
          ]
        },
        {
          "name": "stderr",
          "output_type": "stream",
          "text": [
            " 29%|██▉       | 7/24 [00:24<01:07,  3.95s/it]"
          ]
        },
        {
          "name": "stdout",
          "output_type": "stream",
          "text": [
            "F1_score - 0.9345060499209441, num_features - 26, AUC_score = 0.9139238662842804\n"
          ]
        },
        {
          "name": "stderr",
          "output_type": "stream",
          "text": [
            " 33%|███▎      | 8/24 [00:29<01:07,  4.24s/it]"
          ]
        },
        {
          "name": "stdout",
          "output_type": "stream",
          "text": [
            "F1_score - 0.9345060499209441, num_features - 26, AUC_score = 0.9139238662842804\n"
          ]
        },
        {
          "name": "stderr",
          "output_type": "stream",
          "text": [
            " 38%|███▊      | 9/24 [00:34<01:07,  4.50s/it]"
          ]
        },
        {
          "name": "stdout",
          "output_type": "stream",
          "text": [
            "F1_score - 0.9345060499209441, num_features - 26, AUC_score = 0.9139238662842804\n"
          ]
        },
        {
          "name": "stderr",
          "output_type": "stream",
          "text": [
            " 42%|████▏     | 10/24 [00:40<01:07,  4.82s/it]"
          ]
        },
        {
          "name": "stdout",
          "output_type": "stream",
          "text": [
            "F1_score - 0.9345060499209441, num_features - 26, AUC_score = 0.9139238662842804\n"
          ]
        },
        {
          "name": "stderr",
          "output_type": "stream",
          "text": [
            " 46%|████▌     | 11/24 [00:46<01:09,  5.33s/it]"
          ]
        },
        {
          "name": "stdout",
          "output_type": "stream",
          "text": [
            "F1_score - 0.9345060499209441, num_features - 26, AUC_score = 0.9139238662842804\n"
          ]
        },
        {
          "name": "stderr",
          "output_type": "stream",
          "text": [
            " 50%|█████     | 12/24 [00:54<01:11,  5.98s/it]"
          ]
        },
        {
          "name": "stdout",
          "output_type": "stream",
          "text": [
            "F1_score - 0.9345060499209441, num_features - 26, AUC_score = 0.9139238662842804\n"
          ]
        },
        {
          "name": "stderr",
          "output_type": "stream",
          "text": [
            " 54%|█████▍    | 13/24 [01:01<01:08,  6.25s/it]"
          ]
        },
        {
          "name": "stdout",
          "output_type": "stream",
          "text": [
            "F1_score - 0.9345060499209441, num_features - 26, AUC_score = 0.9139238662842804\n"
          ]
        },
        {
          "name": "stderr",
          "output_type": "stream",
          "text": [
            " 58%|█████▊    | 14/24 [01:08<01:06,  6.63s/it]"
          ]
        },
        {
          "name": "stdout",
          "output_type": "stream",
          "text": [
            "F1_score - 0.9345060499209441, num_features - 26, AUC_score = 0.9139238662842804\n"
          ]
        },
        {
          "name": "stderr",
          "output_type": "stream",
          "text": [
            " 62%|██████▎   | 15/24 [01:16<01:02,  6.95s/it]"
          ]
        },
        {
          "name": "stdout",
          "output_type": "stream",
          "text": [
            "F1_score - 0.931770654883567, num_features - 26, AUC_score = 0.9094595805699947\n"
          ]
        },
        {
          "name": "stderr",
          "output_type": "stream",
          "text": [
            " 67%|██████▋   | 16/24 [01:24<00:57,  7.15s/it]"
          ]
        },
        {
          "name": "stdout",
          "output_type": "stream",
          "text": [
            "F1_score - 0.926224010731053, num_features - 26, AUC_score = 0.9005310091414231\n"
          ]
        },
        {
          "name": "stderr",
          "output_type": "stream",
          "text": [
            " 71%|███████   | 17/24 [01:33<00:54,  7.85s/it]"
          ]
        },
        {
          "name": "stdout",
          "output_type": "stream",
          "text": [
            "F1_score - 0.931770654883567, num_features - 26, AUC_score = 0.9094595805699947\n"
          ]
        },
        {
          "name": "stderr",
          "output_type": "stream",
          "text": [
            " 75%|███████▌  | 18/24 [01:42<00:49,  8.23s/it]"
          ]
        },
        {
          "name": "stdout",
          "output_type": "stream",
          "text": [
            "F1_score - 0.931770654883567, num_features - 26, AUC_score = 0.9094595805699947\n"
          ]
        },
        {
          "name": "stderr",
          "output_type": "stream",
          "text": [
            " 79%|███████▉  | 19/24 [01:52<00:43,  8.73s/it]"
          ]
        },
        {
          "name": "stdout",
          "output_type": "stream",
          "text": [
            "F1_score - 0.9296546462113844, num_features - 26, AUC_score = 0.9093027424269583\n"
          ]
        },
        {
          "name": "stderr",
          "output_type": "stream",
          "text": [
            " 83%|████████▎ | 20/24 [02:03<00:37,  9.36s/it]"
          ]
        },
        {
          "name": "stdout",
          "output_type": "stream",
          "text": [
            "F1_score - 0.9296546462113844, num_features - 26, AUC_score = 0.9093027424269583\n"
          ]
        },
        {
          "name": "stderr",
          "output_type": "stream",
          "text": [
            " 88%|████████▊ | 21/24 [02:13<00:29,  9.69s/it]"
          ]
        },
        {
          "name": "stdout",
          "output_type": "stream",
          "text": [
            "F1_score - 0.935094971863561, num_features - 26, AUC_score = 0.9182313138555297\n"
          ]
        },
        {
          "name": "stderr",
          "output_type": "stream",
          "text": [
            " 92%|█████████▏| 22/24 [02:24<00:19,  9.87s/it]"
          ]
        },
        {
          "name": "stdout",
          "output_type": "stream",
          "text": [
            "F1_score - 0.9296546462113844, num_features - 106, AUC_score = 0.9093027424269583\n"
          ]
        },
        {
          "name": "stderr",
          "output_type": "stream",
          "text": [
            " 96%|█████████▌| 23/24 [02:35<00:10, 10.30s/it]"
          ]
        },
        {
          "name": "stdout",
          "output_type": "stream",
          "text": [
            "F1_score - 0.9268971302323933, num_features - 106, AUC_score = 0.9048384567126725\n"
          ]
        },
        {
          "name": "stderr",
          "output_type": "stream",
          "text": [
            "100%|██████████| 24/24 [02:45<00:00, 10.38s/it]\n"
          ]
        },
        {
          "name": "stdout",
          "output_type": "stream",
          "text": [
            "Best F1_score - 0.935094971863561, num_features - 106\n"
          ]
        }
      ],
      "source": [
        "search_num_features(df_fe,feature_importance, step = 5)"
      ]
    },
    {
      "attachments": {},
      "cell_type": "markdown",
      "metadata": {
        "id": "4v0YqZp9y0XF"
      },
      "source": [
        "## Test data with upsampling"
      ]
    },
    {
      "attachments": {},
      "cell_type": "markdown",
      "metadata": {
        "id": "zXHfeSsU5nfY"
      },
      "source": [
        "### Find feature importance"
      ]
    },
    {
      "cell_type": "code",
      "execution_count": 8,
      "metadata": {
        "id": "jTYyFhXH8PIu"
      },
      "outputs": [],
      "source": [
        "CatBoost = CatBoostClassifier(verbose=False)"
      ]
    },
    {
      "cell_type": "code",
      "execution_count": 9,
      "metadata": {
        "id": "qWX9VIqC8Rb5"
      },
      "outputs": [],
      "source": [
        "X_train, X_test, y_train, y_test = train_test_split(df_fe.drop(columns = ['Machine failure']),\n",
        "                                                    df_fe['Machine failure'],\n",
        "                                                    test_size=0.33,\n",
        "                                                    random_state=42,\n",
        "                                                    stratify = df['Machine failure'])\n",
        "X_train, y_train = upsampling(1,X_train, y_train)\n",
        "\n",
        "train_pool = Pool(data=X_train, label=y_train)"
      ]
    },
    {
      "cell_type": "code",
      "execution_count": 10,
      "metadata": {
        "id": "lYY2bqNe8Tf4"
      },
      "outputs": [
        {
          "data": {
            "text/plain": [
              "{'auc_score': 0.9177607994264206, 'f1_score': 0.9288423001618658}"
            ]
          },
          "execution_count": 10,
          "metadata": {},
          "output_type": "execute_result"
        }
      ],
      "source": [
        "CatBoost.fit(train_pool)\n",
        "\n",
        "feature_importance = pd.DataFrame({'feature_importance': CatBoost.get_feature_importance(train_pool), \n",
        "              'feature_names': X_test.columns}).sort_values(by=['feature_importance'], \n",
        "                                                       ascending=False)\n",
        "              \n",
        "check_result(CatBoost, X_test, y_test)"
      ]
    },
    {
      "cell_type": "code",
      "execution_count": 11,
      "metadata": {},
      "outputs": [],
      "source": [
        "feature_importance.to_csv('../data/feature_imporstance.csv',index = False)"
      ]
    },
    {
      "attachments": {},
      "cell_type": "markdown",
      "metadata": {
        "id": "855aUKja5xFF"
      },
      "source": [
        "### Find best amount of features"
      ]
    },
    {
      "cell_type": "code",
      "execution_count": 12,
      "metadata": {
        "colab": {
          "base_uri": "https://localhost:8080/"
        },
        "id": "vaIk5NsN8X16",
        "outputId": "26b0d880-74c6-49e3-9022-d7250a9e5f86"
      },
      "outputs": [
        {
          "name": "stderr",
          "output_type": "stream",
          "text": [
            "  0%|          | 0/24 [00:00<?, ?it/s]"
          ]
        },
        {
          "name": "stdout",
          "output_type": "stream",
          "text": [
            "F1_score - 0.5131137281674916, num_features - 0, AUC_score = 0.7229118121527156\n"
          ]
        },
        {
          "name": "stderr",
          "output_type": "stream",
          "text": [
            "  4%|▍         | 1/24 [00:07<02:41,  7.01s/it]"
          ]
        },
        {
          "name": "stdout",
          "output_type": "stream",
          "text": [
            "F1_score - 0.8715129252358282, num_features - 1, AUC_score = 0.8875246459939058\n"
          ]
        },
        {
          "name": "stderr",
          "output_type": "stream",
          "text": [
            "  8%|▊         | 2/24 [00:14<02:39,  7.23s/it]"
          ]
        },
        {
          "name": "stdout",
          "output_type": "stream",
          "text": [
            "F1_score - 0.9114354241353301, num_features - 6, AUC_score = 0.9078911991396308\n"
          ]
        },
        {
          "name": "stderr",
          "output_type": "stream",
          "text": [
            " 12%|█▎        | 3/24 [00:22<02:36,  7.44s/it]"
          ]
        },
        {
          "name": "stdout",
          "output_type": "stream",
          "text": [
            "F1_score - 0.9106583072100314, num_features - 11, AUC_score = 0.9035837515683814\n"
          ]
        },
        {
          "name": "stderr",
          "output_type": "stream",
          "text": [
            " 17%|█▋        | 4/24 [00:31<02:35,  7.78s/it]"
          ]
        },
        {
          "name": "stdout",
          "output_type": "stream",
          "text": [
            "F1_score - 0.9207580110684531, num_features - 11, AUC_score = 0.917133446854275\n"
          ]
        },
        {
          "name": "stderr",
          "output_type": "stream",
          "text": [
            " 21%|██        | 5/24 [00:40<02:36,  8.24s/it]"
          ]
        },
        {
          "name": "stdout",
          "output_type": "stream",
          "text": [
            "F1_score - 0.9288423001618658, num_features - 21, AUC_score = 0.9177607994264206\n"
          ]
        },
        {
          "name": "stderr",
          "output_type": "stream",
          "text": [
            " 25%|██▌       | 6/24 [00:49<02:30,  8.34s/it]"
          ]
        },
        {
          "name": "stdout",
          "output_type": "stream",
          "text": [
            "F1_score - 0.9309080644078345, num_features - 26, AUC_score = 0.9179176375694569\n"
          ]
        },
        {
          "name": "stderr",
          "output_type": "stream",
          "text": [
            " 29%|██▉       | 7/24 [00:58<02:25,  8.53s/it]"
          ]
        },
        {
          "name": "stdout",
          "output_type": "stream",
          "text": [
            "F1_score - 0.921378142257191, num_features - 31, AUC_score = 0.9086753898548127\n"
          ]
        },
        {
          "name": "stderr",
          "output_type": "stream",
          "text": [
            " 33%|███▎      | 8/24 [01:07<02:21,  8.86s/it]"
          ]
        },
        {
          "name": "stdout",
          "output_type": "stream",
          "text": [
            "F1_score - 0.9227527541941567, num_features - 31, AUC_score = 0.9172902849973114\n"
          ]
        },
        {
          "name": "stderr",
          "output_type": "stream",
          "text": [
            " 38%|███▊      | 9/24 [01:17<02:17,  9.19s/it]"
          ]
        },
        {
          "name": "stdout",
          "output_type": "stream",
          "text": [
            "F1_score - 0.9220717326480798, num_features - 31, AUC_score = 0.912982837426062\n"
          ]
        },
        {
          "name": "stderr",
          "output_type": "stream",
          "text": [
            " 42%|████▏     | 10/24 [01:27<02:12,  9.46s/it]"
          ]
        },
        {
          "name": "stdout",
          "output_type": "stream",
          "text": [
            "F1_score - 0.9288423001618658, num_features - 31, AUC_score = 0.9177607994264206\n"
          ]
        },
        {
          "name": "stderr",
          "output_type": "stream",
          "text": [
            " 46%|████▌     | 11/24 [01:38<02:06,  9.74s/it]"
          ]
        },
        {
          "name": "stdout",
          "output_type": "stream",
          "text": [
            "F1_score - 0.9261431033325127, num_features - 31, AUC_score = 0.9132965137121348\n"
          ]
        },
        {
          "name": "stderr",
          "output_type": "stream",
          "text": [
            " 50%|█████     | 12/24 [01:49<02:02, 10.18s/it]"
          ]
        },
        {
          "name": "stdout",
          "output_type": "stream",
          "text": [
            "F1_score - 0.9356730254831562, num_features - 31, AUC_score = 0.9225387614267789\n"
          ]
        },
        {
          "name": "stderr",
          "output_type": "stream",
          "text": [
            " 54%|█████▍    | 13/24 [02:01<01:56, 10.63s/it]"
          ]
        },
        {
          "name": "stdout",
          "output_type": "stream",
          "text": [
            "F1_score - 0.9240984535059902, num_features - 61, AUC_score = 0.9131396755690984\n"
          ]
        },
        {
          "name": "stderr",
          "output_type": "stream",
          "text": [
            " 58%|█████▊    | 14/24 [02:13<01:50, 11.06s/it]"
          ]
        },
        {
          "name": "stdout",
          "output_type": "stream",
          "text": [
            "F1_score - 0.9335861468177414, num_features - 61, AUC_score = 0.9223819232837426\n"
          ]
        },
        {
          "name": "stderr",
          "output_type": "stream",
          "text": [
            " 62%|██████▎   | 15/24 [02:26<01:45, 11.77s/it]"
          ]
        },
        {
          "name": "stdout",
          "output_type": "stream",
          "text": [
            "F1_score - 0.9240984535059902, num_features - 61, AUC_score = 0.9131396755690984\n"
          ]
        },
        {
          "name": "stderr",
          "output_type": "stream",
          "text": [
            " 67%|██████▋   | 16/24 [02:41<01:42, 12.83s/it]"
          ]
        },
        {
          "name": "stdout",
          "output_type": "stream",
          "text": [
            "F1_score - 0.9335861468177414, num_features - 61, AUC_score = 0.9223819232837426\n"
          ]
        },
        {
          "name": "stderr",
          "output_type": "stream",
          "text": [
            " 71%|███████   | 17/24 [02:54<01:29, 12.80s/it]"
          ]
        },
        {
          "name": "stdout",
          "output_type": "stream",
          "text": [
            "F1_score - 0.9294670846394985, num_features - 61, AUC_score = 0.9220682469976698\n"
          ]
        },
        {
          "name": "stderr",
          "output_type": "stream",
          "text": [
            " 75%|███████▌  | 18/24 [03:09<01:20, 13.40s/it]"
          ]
        },
        {
          "name": "stdout",
          "output_type": "stream",
          "text": [
            "F1_score - 0.9254193045350148, num_features - 61, AUC_score = 0.9217545707115969\n"
          ]
        },
        {
          "name": "stderr",
          "output_type": "stream",
          "text": [
            " 79%|███████▉  | 19/24 [03:21<01:05, 13.15s/it]"
          ]
        },
        {
          "name": "stdout",
          "output_type": "stream",
          "text": [
            "F1_score - 0.9356730254831562, num_features - 61, AUC_score = 0.9225387614267789\n"
          ]
        },
        {
          "name": "stderr",
          "output_type": "stream",
          "text": [
            " 83%|████████▎ | 20/24 [03:34<00:51, 12.94s/it]"
          ]
        },
        {
          "name": "stdout",
          "output_type": "stream",
          "text": [
            "F1_score - 0.9227281641206964, num_features - 61, AUC_score = 0.9045247804265998\n"
          ]
        },
        {
          "name": "stderr",
          "output_type": "stream",
          "text": [
            " 88%|████████▊ | 21/24 [03:49<00:40, 13.56s/it]"
          ]
        },
        {
          "name": "stdout",
          "output_type": "stream",
          "text": [
            "F1_score - 0.9356730254831562, num_features - 61, AUC_score = 0.9225387614267789\n"
          ]
        },
        {
          "name": "stderr",
          "output_type": "stream",
          "text": [
            " 92%|█████████▏| 22/24 [04:04<00:28, 14.01s/it]"
          ]
        },
        {
          "name": "stdout",
          "output_type": "stream",
          "text": [
            "F1_score - 0.9267946579421356, num_features - 61, AUC_score = 0.9176039612833842\n"
          ]
        },
        {
          "name": "stderr",
          "output_type": "stream",
          "text": [
            " 96%|█████████▌| 23/24 [04:18<00:13, 13.87s/it]"
          ]
        },
        {
          "name": "stdout",
          "output_type": "stream",
          "text": [
            "F1_score - 0.9220717326480798, num_features - 61, AUC_score = 0.912982837426062\n"
          ]
        },
        {
          "name": "stderr",
          "output_type": "stream",
          "text": [
            "100%|██████████| 24/24 [04:32<00:00, 14.14s/it]\n"
          ]
        },
        {
          "name": "stdout",
          "output_type": "stream",
          "text": [
            "Best F1_score - 0.9356730254831562, num_features - 61\n"
          ]
        }
      ],
      "source": [
        "search_num_features(df_fe, feature_importance, upsamp_func = True, step = 5)"
      ]
    }
  ],
  "metadata": {
    "colab": {
      "collapsed_sections": [
        "bMFJW-MU1qai",
        "KJKenEct1-sQ",
        "vEj6gPGduhoF",
        "x9jA4PkX34X4",
        "wIV5r99qbJuc",
        "zXHfeSsU5nfY"
      ],
      "provenance": []
    },
    "kernelspec": {
      "display_name": "Python 3",
      "name": "python3"
    },
    "language_info": {
      "codemirror_mode": {
        "name": "ipython",
        "version": 3
      },
      "file_extension": ".py",
      "mimetype": "text/x-python",
      "name": "python",
      "nbconvert_exporter": "python",
      "pygments_lexer": "ipython3",
      "version": "3.10.4"
    }
  },
  "nbformat": 4,
  "nbformat_minor": 0
}
