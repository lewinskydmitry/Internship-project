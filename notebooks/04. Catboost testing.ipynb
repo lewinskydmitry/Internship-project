{
  "cells": [
    {
      "attachments": {},
      "cell_type": "markdown",
      "metadata": {
        "id": "MpVxguTB17rf"
      },
      "source": [
        "# Load libraries"
      ]
    },
    {
      "cell_type": "code",
      "execution_count": 1,
      "metadata": {
        "colab": {
          "base_uri": "https://localhost:8080/"
        },
        "id": "OyGrZYE1tpAh",
        "outputId": "5b54f4a0-bd51-4447-e7f7-42e8a2e83b6c"
      },
      "outputs": [],
      "source": [
        "import os\n",
        "import sys\n",
        "sys.path.append(os.path.abspath(os.path.join(os.path.dirname('src'), '..')))\n",
        "\n",
        "import pandas as pd\n",
        "from sklearn import metrics\n",
        "from tqdm import tqdm\n",
        "from catboost import CatBoostClassifier\n",
        "from sklearn.model_selection import train_test_split\n",
        "from catboost import Pool\n",
        "from src.sampling_methods.sampler import DataSampler\n",
        "from typing import Optional, Literal\n",
        "\n",
        "import warnings\n",
        "warnings.filterwarnings(\"ignore\")"
      ]
    },
    {
      "cell_type": "code",
      "execution_count": 2,
      "metadata": {},
      "outputs": [],
      "source": [
        "def check_result(model,X_test,y_test):\n",
        "  metrics_dict = {}\n",
        "  fpr, tpr, thresholds = metrics.roc_curve(y_test, model.predict(X_test))\n",
        "  auc_score = metrics.auc(fpr, tpr)\n",
        "  f1_sc = metrics.f1_score(y_test, model.predict(X_test), average='macro')\n",
        "  metrics_dict['auc_score'] = auc_score\n",
        "  metrics_dict['f1_score'] = f1_sc\n",
        "  return metrics_dict"
      ]
    },
    {
      "cell_type": "code",
      "execution_count": 3,
      "metadata": {},
      "outputs": [],
      "source": [
        "def search_num_features(df, feature_importance, upsamp_func: Optional[Literal['ROS', 'RUS', 'SMOTE', 'OSS']] = None, p = 0.3, step = 5):\n",
        "  best_score = 0\n",
        "  best_num_features = 0\n",
        "\n",
        "  for num_col in tqdm(range(1, len(feature_importance), step)):\n",
        "    features = list(feature_importance.iloc[:num_col,:]['feature_names'])\n",
        "    data = df[features + ['Machine failure']]\n",
        "    X_train, X_test, y_train, y_test = train_test_split(data.drop(columns = ['Machine failure']),\n",
        "                                                        data['Machine failure'],\n",
        "                                                        test_size=0.33,\n",
        "                                                        random_state=42,\n",
        "                                                        stratify = df['Machine failure'])\n",
        "    \n",
        "    if upsamp_func != 'ROS':\n",
        "      X_train, y_train = DataSampler.ROS(X_train, y_train, p, separation = True)\n",
        "    elif upsamp_func != 'RUS':\n",
        "      X_train, y_train = DataSampler.RUS(X_train, y_train, p, separation = True)\n",
        "    elif upsamp_func != 'SMOTE':\n",
        "      X_train, y_train = DataSampler.SMOTE(X_train, y_train, p, separation = True)\n",
        "    elif upsamp_func != 'OSS':\n",
        "      X_train, y_train = DataSampler.OSS(X_train, y_train, separation = True)\n",
        "    \n",
        "    train_pool = Pool(data=X_train, label=y_train)\n",
        "    CatBoost = CatBoostClassifier(verbose=False,random_seed=42)\n",
        "    CatBoost.fit(train_pool)\n",
        "    metrics_dict = check_result(CatBoost, X_test, y_test)\n",
        "    print(f'F1_score - {metrics_dict[\"f1_score\"]}, num_features - {best_num_features}, AUC_score = {metrics_dict[\"auc_score\"]}')\n",
        "    if metrics_dict['f1_score'] > best_score:\n",
        "      best_score = metrics_dict['f1_score']\n",
        "      best_num_features = num_col\n",
        "  print(f'Best F1_score - {best_score}, num_features - {best_num_features}')\n"
      ]
    },
    {
      "attachments": {},
      "cell_type": "markdown",
      "metadata": {
        "id": "KJKenEct1-sQ"
      },
      "source": [
        "# Read data"
      ]
    },
    {
      "cell_type": "code",
      "execution_count": 4,
      "metadata": {
        "id": "K8WkhpSCuG8l"
      },
      "outputs": [],
      "source": [
        "df = pd.read_csv('../data/prepared_data.csv')\n",
        "df_fe = pd.read_csv('../data/data_fe.csv')"
      ]
    },
    {
      "attachments": {},
      "cell_type": "markdown",
      "metadata": {
        "id": "BvoCOslb2KVS"
      },
      "source": [
        "# Train Catboost"
      ]
    },
    {
      "attachments": {},
      "cell_type": "markdown",
      "metadata": {
        "id": "SVeReKGR4-KB"
      },
      "source": [
        "## Test data without upsampling"
      ]
    },
    {
      "attachments": {},
      "cell_type": "markdown",
      "metadata": {
        "id": "7J4EpZN246Zw"
      },
      "source": [
        "### Find feature importance"
      ]
    },
    {
      "cell_type": "code",
      "execution_count": 5,
      "metadata": {
        "id": "NEvXf5qLxpGd"
      },
      "outputs": [],
      "source": [
        "CatBoost = CatBoostClassifier(verbose=False,random_seed=42)"
      ]
    },
    {
      "cell_type": "code",
      "execution_count": 6,
      "metadata": {
        "id": "CHNY6qiXx4o0"
      },
      "outputs": [],
      "source": [
        "X_train, X_test, y_train, y_test = train_test_split(df_fe.drop(columns = ['Machine failure']),\n",
        "                                                    df_fe['Machine failure'],\n",
        "                                                    test_size=0.33,\n",
        "                                                    random_state=42,\n",
        "                                                    stratify = df['Machine failure'])\n",
        "\n",
        "train_pool = Pool(data=X_train, label=y_train)"
      ]
    },
    {
      "cell_type": "code",
      "execution_count": 7,
      "metadata": {
        "colab": {
          "base_uri": "https://localhost:8080/"
        },
        "id": "dSFx311OyNk3",
        "outputId": "8d8c4f4d-e45f-4018-f906-f51cc877d721"
      },
      "outputs": [
        {
          "data": {
            "text/plain": [
              "{'auc_score': 0.9003741709983868, 'f1_score': 0.9241142395957508}"
            ]
          },
          "execution_count": 7,
          "metadata": {},
          "output_type": "execute_result"
        }
      ],
      "source": [
        "CatBoost.fit(train_pool)\n",
        "\n",
        "feature_importance = pd.DataFrame({'feature_importance': CatBoost.get_feature_importance(train_pool), \n",
        "              'feature_names': X_test.columns}).sort_values(by=['feature_importance'], \n",
        "                                                       ascending=False)\n",
        "              \n",
        "check_result(CatBoost, X_test, y_test )"
      ]
    },
    {
      "cell_type": "code",
      "execution_count": 8,
      "metadata": {},
      "outputs": [],
      "source": [
        "feature_importance.to_csv('../data/feature_importance/feature_importance.csv', index = False)"
      ]
    },
    {
      "attachments": {},
      "cell_type": "markdown",
      "metadata": {
        "id": "jiFj8emU5DVG"
      },
      "source": [
        "### Find best amount of features"
      ]
    },
    {
      "cell_type": "code",
      "execution_count": 9,
      "metadata": {
        "colab": {
          "base_uri": "https://localhost:8080/"
        },
        "id": "28pFLr4U5RWV",
        "outputId": "e89605b6-a90d-4c80-eaee-955792ec0de2"
      },
      "outputs": [
        {
          "name": "stderr",
          "output_type": "stream",
          "text": [
            "  4%|▍         | 1/25 [00:02<00:55,  2.33s/it]"
          ]
        },
        {
          "name": "stdout",
          "output_type": "stream",
          "text": [
            "F1_score - 0.6549366900395834, num_features - 0, AUC_score = 0.6799605664097508\n"
          ]
        },
        {
          "name": "stderr",
          "output_type": "stream",
          "text": [
            "  8%|▊         | 2/25 [00:04<00:55,  2.42s/it]"
          ]
        },
        {
          "name": "stdout",
          "output_type": "stream",
          "text": [
            "F1_score - 0.790241794004729, num_features - 1, AUC_score = 0.7877419788492562\n"
          ]
        },
        {
          "name": "stderr",
          "output_type": "stream",
          "text": [
            " 12%|█▏        | 3/25 [00:07<00:55,  2.52s/it]"
          ]
        },
        {
          "name": "stdout",
          "output_type": "stream",
          "text": [
            "F1_score - 0.9098669135383634, num_features - 6, AUC_score = 0.8992763039971321\n"
          ]
        },
        {
          "name": "stderr",
          "output_type": "stream",
          "text": [
            " 16%|█▌        | 4/25 [00:10<00:55,  2.66s/it]"
          ]
        },
        {
          "name": "stdout",
          "output_type": "stream",
          "text": [
            "F1_score - 0.9227281641206964, num_features - 11, AUC_score = 0.9045247804265998\n"
          ]
        },
        {
          "name": "stderr",
          "output_type": "stream",
          "text": [
            " 20%|██        | 5/25 [00:13<00:56,  2.81s/it]"
          ]
        },
        {
          "name": "stdout",
          "output_type": "stream",
          "text": [
            "F1_score - 0.9153605015673982, num_features - 16, AUC_score = 0.9082048754257035\n"
          ]
        },
        {
          "name": "stderr",
          "output_type": "stream",
          "text": [
            " 24%|██▍       | 6/25 [00:16<00:57,  3.00s/it]"
          ]
        },
        {
          "name": "stdout",
          "output_type": "stream",
          "text": [
            "F1_score - 0.9220717326480798, num_features - 16, AUC_score = 0.912982837426062\n"
          ]
        },
        {
          "name": "stderr",
          "output_type": "stream",
          "text": [
            " 28%|██▊       | 7/25 [00:20<00:58,  3.25s/it]"
          ]
        },
        {
          "name": "stdout",
          "output_type": "stream",
          "text": [
            "F1_score - 0.9302871920016027, num_features - 16, AUC_score = 0.9136101899982075\n"
          ]
        },
        {
          "name": "stderr",
          "output_type": "stream",
          "text": [
            " 32%|███▏      | 8/25 [00:24<00:59,  3.53s/it]"
          ]
        },
        {
          "name": "stdout",
          "output_type": "stream",
          "text": [
            "F1_score - 0.9420461230905222, num_features - 31, AUC_score = 0.9230092758558881\n"
          ]
        },
        {
          "name": "stderr",
          "output_type": "stream",
          "text": [
            " 36%|███▌      | 9/25 [00:28<00:59,  3.74s/it]"
          ]
        },
        {
          "name": "stdout",
          "output_type": "stream",
          "text": [
            "F1_score - 0.9420461230905222, num_features - 36, AUC_score = 0.9230092758558881\n"
          ]
        },
        {
          "name": "stderr",
          "output_type": "stream",
          "text": [
            " 40%|████      | 10/25 [00:33<00:59,  3.97s/it]"
          ]
        },
        {
          "name": "stdout",
          "output_type": "stream",
          "text": [
            "F1_score - 0.9377784739626844, num_features - 36, AUC_score = 0.9226955995698154\n"
          ]
        },
        {
          "name": "stderr",
          "output_type": "stream",
          "text": [
            " 44%|████▍     | 11/25 [00:37<00:57,  4.14s/it]"
          ]
        },
        {
          "name": "stdout",
          "output_type": "stream",
          "text": [
            "F1_score - 0.9468756128329787, num_features - 36, AUC_score = 0.9276303997132103\n"
          ]
        },
        {
          "name": "stderr",
          "output_type": "stream",
          "text": [
            " 48%|████▊     | 12/25 [00:42<00:55,  4.28s/it]"
          ]
        },
        {
          "name": "stdout",
          "output_type": "stream",
          "text": [
            "F1_score - 0.935094971863561, num_features - 51, AUC_score = 0.9182313138555297\n"
          ]
        },
        {
          "name": "stderr",
          "output_type": "stream",
          "text": [
            " 52%|█████▏    | 13/25 [00:47<00:54,  4.52s/it]"
          ]
        },
        {
          "name": "stdout",
          "output_type": "stream",
          "text": [
            "F1_score - 0.935094971863561, num_features - 51, AUC_score = 0.9182313138555297\n"
          ]
        },
        {
          "name": "stderr",
          "output_type": "stream",
          "text": [
            " 56%|█████▌    | 14/25 [00:53<00:55,  5.01s/it]"
          ]
        },
        {
          "name": "stdout",
          "output_type": "stream",
          "text": [
            "F1_score - 0.953911664759183, num_features - 51, AUC_score = 0.9324083617135689\n"
          ]
        },
        {
          "name": "stderr",
          "output_type": "stream",
          "text": [
            " 60%|██████    | 15/25 [01:00<00:56,  5.61s/it]"
          ]
        },
        {
          "name": "stdout",
          "output_type": "stream",
          "text": [
            "F1_score - 0.9388018061256055, num_features - 66, AUC_score = 0.9142375425703531\n"
          ]
        },
        {
          "name": "stderr",
          "output_type": "stream",
          "text": [
            " 64%|██████▍   | 16/25 [01:07<00:54,  6.06s/it]"
          ]
        },
        {
          "name": "stdout",
          "output_type": "stream",
          "text": [
            "F1_score - 0.9431766711411607, num_features - 66, AUC_score = 0.9145512188564259\n"
          ]
        },
        {
          "name": "stderr",
          "output_type": "stream",
          "text": [
            " 68%|██████▊   | 17/25 [01:14<00:51,  6.38s/it]"
          ]
        },
        {
          "name": "stdout",
          "output_type": "stream",
          "text": [
            "F1_score - 0.9329922027290448, num_features - 66, AUC_score = 0.9180744757124933\n"
          ]
        },
        {
          "name": "stderr",
          "output_type": "stream",
          "text": [
            " 72%|███████▏  | 18/25 [01:22<00:47,  6.74s/it]"
          ]
        },
        {
          "name": "stdout",
          "output_type": "stream",
          "text": [
            "F1_score - 0.9323871436056093, num_features - 66, AUC_score = 0.913767028141244\n"
          ]
        },
        {
          "name": "stderr",
          "output_type": "stream",
          "text": [
            " 76%|███████▌  | 19/25 [01:29<00:41,  6.97s/it]"
          ]
        },
        {
          "name": "stdout",
          "output_type": "stream",
          "text": [
            "F1_score - 0.9388018061256055, num_features - 66, AUC_score = 0.9142375425703531\n"
          ]
        },
        {
          "name": "stderr",
          "output_type": "stream",
          "text": [
            " 80%|████████  | 20/25 [01:37<00:36,  7.23s/it]"
          ]
        },
        {
          "name": "stdout",
          "output_type": "stream",
          "text": [
            "F1_score - 0.9399027517255195, num_features - 66, AUC_score = 0.9228524377128516\n"
          ]
        },
        {
          "name": "stderr",
          "output_type": "stream",
          "text": [
            " 84%|████████▍ | 21/25 [01:45<00:29,  7.48s/it]"
          ]
        },
        {
          "name": "stdout",
          "output_type": "stream",
          "text": [
            "F1_score - 0.9399027517255195, num_features - 66, AUC_score = 0.9228524377128516\n"
          ]
        },
        {
          "name": "stderr",
          "output_type": "stream",
          "text": [
            " 88%|████████▊ | 22/25 [01:53<00:22,  7.66s/it]"
          ]
        },
        {
          "name": "stdout",
          "output_type": "stream",
          "text": [
            "F1_score - 0.9377784739626844, num_features - 66, AUC_score = 0.9226955995698154\n"
          ]
        },
        {
          "name": "stderr",
          "output_type": "stream",
          "text": [
            " 92%|█████████▏| 23/25 [02:01<00:15,  7.76s/it]"
          ]
        },
        {
          "name": "stdout",
          "output_type": "stream",
          "text": [
            "F1_score - 0.9393574536305039, num_features - 66, AUC_score = 0.9185449901416025\n"
          ]
        },
        {
          "name": "stderr",
          "output_type": "stream",
          "text": [
            " 96%|█████████▌| 24/25 [02:10<00:07,  7.98s/it]"
          ]
        },
        {
          "name": "stdout",
          "output_type": "stream",
          "text": [
            "F1_score - 0.9399027517255195, num_features - 66, AUC_score = 0.9228524377128516\n"
          ]
        },
        {
          "name": "stderr",
          "output_type": "stream",
          "text": [
            "100%|██████████| 25/25 [02:19<00:00,  5.57s/it]"
          ]
        },
        {
          "name": "stdout",
          "output_type": "stream",
          "text": [
            "F1_score - 0.9442088573400635, num_features - 66, AUC_score = 0.9231661139989245\n",
            "Best F1_score - 0.953911664759183, num_features - 66\n"
          ]
        },
        {
          "name": "stderr",
          "output_type": "stream",
          "text": [
            "\n"
          ]
        }
      ],
      "source": [
        "search_num_features(df_fe,feature_importance, step = 5)"
      ]
    },
    {
      "attachments": {},
      "cell_type": "markdown",
      "metadata": {
        "id": "4v0YqZp9y0XF"
      },
      "source": [
        "## Test data with upsampling"
      ]
    },
    {
      "attachments": {},
      "cell_type": "markdown",
      "metadata": {
        "id": "zXHfeSsU5nfY"
      },
      "source": [
        "### Find feature importance"
      ]
    },
    {
      "cell_type": "code",
      "execution_count": 10,
      "metadata": {
        "id": "jTYyFhXH8PIu"
      },
      "outputs": [],
      "source": [
        "CatBoost = CatBoostClassifier(verbose=False,random_seed=42)"
      ]
    },
    {
      "cell_type": "code",
      "execution_count": 12,
      "metadata": {
        "id": "qWX9VIqC8Rb5"
      },
      "outputs": [],
      "source": [
        "X_train, X_test, y_train, y_test = train_test_split(df_fe.drop(columns = ['Machine failure']),\n",
        "                                                    df_fe['Machine failure'],\n",
        "                                                    test_size=0.33,\n",
        "                                                    random_state=42,\n",
        "                                                    stratify = df['Machine failure'])\n",
        "X_train, y_train = DataSampler.ROS(X_train, y_train, 1, separation = True)\n",
        "\n",
        "train_pool = Pool(data=X_train, label=y_train)"
      ]
    },
    {
      "cell_type": "code",
      "execution_count": 13,
      "metadata": {
        "id": "lYY2bqNe8Tf4"
      },
      "outputs": [
        {
          "data": {
            "text/plain": [
              "{'auc_score': 0.9182313138555297, 'f1_score': 0.935094971863561}"
            ]
          },
          "execution_count": 13,
          "metadata": {},
          "output_type": "execute_result"
        }
      ],
      "source": [
        "CatBoost.fit(train_pool)\n",
        "\n",
        "feature_importance = pd.DataFrame({'feature_importance': CatBoost.get_feature_importance(train_pool), \n",
        "              'feature_names': X_test.columns}).sort_values(by=['feature_importance'], \n",
        "                                                       ascending=False)\n",
        "              \n",
        "check_result(CatBoost, X_test, y_test)"
      ]
    },
    {
      "cell_type": "code",
      "execution_count": 14,
      "metadata": {},
      "outputs": [],
      "source": [
        "feature_importance.to_csv('../data/feature_importance/feature_importance_ROS.csv', index = False)"
      ]
    },
    {
      "attachments": {},
      "cell_type": "markdown",
      "metadata": {
        "id": "855aUKja5xFF"
      },
      "source": [
        "### Find best amount of features"
      ]
    },
    {
      "cell_type": "code",
      "execution_count": 15,
      "metadata": {
        "colab": {
          "base_uri": "https://localhost:8080/"
        },
        "id": "vaIk5NsN8X16",
        "outputId": "26b0d880-74c6-49e3-9022-d7250a9e5f86"
      },
      "outputs": [
        {
          "name": "stderr",
          "output_type": "stream",
          "text": [
            "  4%|▍         | 1/25 [00:02<00:51,  2.14s/it]"
          ]
        },
        {
          "name": "stdout",
          "output_type": "stream",
          "text": [
            "F1_score - 0.6721066267795615, num_features - 0, AUC_score = 0.6149735615701739\n"
          ]
        },
        {
          "name": "stderr",
          "output_type": "stream",
          "text": [
            "  8%|▊         | 2/25 [00:04<00:54,  2.36s/it]"
          ]
        },
        {
          "name": "stdout",
          "output_type": "stream",
          "text": [
            "F1_score - 0.8975533368805821, num_features - 1, AUC_score = 0.8855697705682022\n"
          ]
        },
        {
          "name": "stderr",
          "output_type": "stream",
          "text": [
            " 12%|█▏        | 3/25 [00:07<00:58,  2.66s/it]"
          ]
        },
        {
          "name": "stdout",
          "output_type": "stream",
          "text": [
            "F1_score - 0.9016320143080707, num_features - 6, AUC_score = 0.8774253898548127\n"
          ]
        },
        {
          "name": "stderr",
          "output_type": "stream",
          "text": [
            " 16%|█▌        | 4/25 [00:10<00:55,  2.64s/it]"
          ]
        },
        {
          "name": "stdout",
          "output_type": "stream",
          "text": [
            "F1_score - 0.9007172427072301, num_features - 11, AUC_score = 0.8731179422835634\n"
          ]
        },
        {
          "name": "stderr",
          "output_type": "stream",
          "text": [
            " 20%|██        | 5/25 [00:13<00:56,  2.81s/it]"
          ]
        },
        {
          "name": "stdout",
          "output_type": "stream",
          "text": [
            "F1_score - 0.9079029567659125, num_features - 11, AUC_score = 0.8991194658540959\n"
          ]
        },
        {
          "name": "stderr",
          "output_type": "stream",
          "text": [
            " 24%|██▍       | 6/25 [00:16<00:54,  2.89s/it]"
          ]
        },
        {
          "name": "stdout",
          "output_type": "stream",
          "text": [
            "F1_score - 0.9206716322776858, num_features - 21, AUC_score = 0.9043679422835634\n"
          ]
        },
        {
          "name": "stderr",
          "output_type": "stream",
          "text": [
            " 28%|██▊       | 7/25 [00:20<00:56,  3.13s/it]"
          ]
        },
        {
          "name": "stdout",
          "output_type": "stream",
          "text": [
            "F1_score - 0.9062482926918103, num_features - 26, AUC_score = 0.890504570711597\n"
          ]
        },
        {
          "name": "stderr",
          "output_type": "stream",
          "text": [
            " 32%|███▏      | 8/25 [00:24<00:57,  3.40s/it]"
          ]
        },
        {
          "name": "stdout",
          "output_type": "stream",
          "text": [
            "F1_score - 0.9345060499209441, num_features - 26, AUC_score = 0.9139238662842804\n"
          ]
        },
        {
          "name": "stderr",
          "output_type": "stream",
          "text": [
            " 36%|███▌      | 9/25 [00:28<00:57,  3.62s/it]"
          ]
        },
        {
          "name": "stdout",
          "output_type": "stream",
          "text": [
            "F1_score - 0.9186333890281259, num_features - 36, AUC_score = 0.904211104140527\n"
          ]
        },
        {
          "name": "stderr",
          "output_type": "stream",
          "text": [
            " 40%|████      | 10/25 [00:32<00:58,  3.87s/it]"
          ]
        },
        {
          "name": "stdout",
          "output_type": "stream",
          "text": [
            "F1_score - 0.9302871920016027, num_features - 36, AUC_score = 0.9136101899982075\n"
          ]
        },
        {
          "name": "stderr",
          "output_type": "stream",
          "text": [
            " 44%|████▍     | 11/25 [00:37<00:57,  4.08s/it]"
          ]
        },
        {
          "name": "stdout",
          "output_type": "stream",
          "text": [
            "F1_score - 0.9393574536305039, num_features - 36, AUC_score = 0.9185449901416025\n"
          ]
        },
        {
          "name": "stderr",
          "output_type": "stream",
          "text": [
            " 48%|████▊     | 12/25 [00:42<00:56,  4.35s/it]"
          ]
        },
        {
          "name": "stdout",
          "output_type": "stream",
          "text": [
            "F1_score - 0.9171500809300457, num_features - 51, AUC_score = 0.8955962089980284\n"
          ]
        },
        {
          "name": "stderr",
          "output_type": "stream",
          "text": [
            " 52%|█████▏    | 13/25 [00:47<00:54,  4.58s/it]"
          ]
        },
        {
          "name": "stdout",
          "output_type": "stream",
          "text": [
            "F1_score - 0.9248032425018249, num_features - 51, AUC_score = 0.9046816185696361\n"
          ]
        },
        {
          "name": "stderr",
          "output_type": "stream",
          "text": [
            " 56%|█████▌    | 14/25 [00:52<00:51,  4.66s/it]"
          ]
        },
        {
          "name": "stdout",
          "output_type": "stream",
          "text": [
            "F1_score - 0.9309080644078345, num_features - 51, AUC_score = 0.9179176375694569\n"
          ]
        },
        {
          "name": "stderr",
          "output_type": "stream",
          "text": [
            " 60%|██████    | 15/25 [00:57<00:48,  4.82s/it]"
          ]
        },
        {
          "name": "stdout",
          "output_type": "stream",
          "text": [
            "F1_score - 0.9283531940475505, num_features - 51, AUC_score = 0.9006878472844596\n"
          ]
        },
        {
          "name": "stderr",
          "output_type": "stream",
          "text": [
            " 64%|██████▍   | 16/25 [01:02<00:44,  4.98s/it]"
          ]
        },
        {
          "name": "stdout",
          "output_type": "stream",
          "text": [
            "F1_score - 0.919951838792265, num_features - 51, AUC_score = 0.900060494712314\n"
          ]
        },
        {
          "name": "stderr",
          "output_type": "stream",
          "text": [
            " 68%|██████▊   | 17/25 [01:08<00:40,  5.12s/it]"
          ]
        },
        {
          "name": "stdout",
          "output_type": "stream",
          "text": [
            "F1_score - 0.9220236055812194, num_features - 51, AUC_score = 0.9002173328553504\n"
          ]
        },
        {
          "name": "stderr",
          "output_type": "stream",
          "text": [
            " 72%|███████▏  | 18/25 [01:13<00:36,  5.28s/it]"
          ]
        },
        {
          "name": "stdout",
          "output_type": "stream",
          "text": [
            "F1_score - 0.9409792085848425, num_features - 51, AUC_score = 0.9143943807133895\n"
          ]
        },
        {
          "name": "stderr",
          "output_type": "stream",
          "text": [
            " 76%|███████▌  | 19/25 [01:19<00:33,  5.56s/it]"
          ]
        },
        {
          "name": "stdout",
          "output_type": "stream",
          "text": [
            "F1_score - 0.9282059314954052, num_features - 86, AUC_score = 0.9134533518551712\n"
          ]
        },
        {
          "name": "stderr",
          "output_type": "stream",
          "text": [
            " 80%|████████  | 20/25 [01:27<00:31,  6.30s/it]"
          ]
        },
        {
          "name": "stdout",
          "output_type": "stream",
          "text": [
            "F1_score - 0.9302871920016027, num_features - 86, AUC_score = 0.9136101899982075\n"
          ]
        },
        {
          "name": "stderr",
          "output_type": "stream",
          "text": [
            " 84%|████████▍ | 21/25 [01:36<00:27,  6.99s/it]"
          ]
        },
        {
          "name": "stdout",
          "output_type": "stream",
          "text": [
            "F1_score - 0.9309080644078345, num_features - 86, AUC_score = 0.9179176375694569\n"
          ]
        },
        {
          "name": "stderr",
          "output_type": "stream",
          "text": [
            " 88%|████████▊ | 22/25 [01:45<00:22,  7.48s/it]"
          ]
        },
        {
          "name": "stdout",
          "output_type": "stream",
          "text": [
            "F1_score - 0.933905950615654, num_features - 86, AUC_score = 0.909616418713031\n"
          ]
        },
        {
          "name": "stderr",
          "output_type": "stream",
          "text": [
            " 92%|█████████▏| 23/25 [01:53<00:15,  7.68s/it]"
          ]
        },
        {
          "name": "stdout",
          "output_type": "stream",
          "text": [
            "F1_score - 0.9296546462113844, num_features - 86, AUC_score = 0.9093027424269583\n"
          ]
        },
        {
          "name": "stderr",
          "output_type": "stream",
          "text": [
            " 96%|█████████▌| 24/25 [02:01<00:07,  7.74s/it]"
          ]
        },
        {
          "name": "stdout",
          "output_type": "stream",
          "text": [
            "F1_score - 0.926224010731053, num_features - 86, AUC_score = 0.9005310091414231\n"
          ]
        },
        {
          "name": "stderr",
          "output_type": "stream",
          "text": [
            "100%|██████████| 25/25 [02:09<00:00,  5.17s/it]"
          ]
        },
        {
          "name": "stdout",
          "output_type": "stream",
          "text": [
            "F1_score - 0.9372166333480656, num_features - 86, AUC_score = 0.9183881519985662\n",
            "Best F1_score - 0.9409792085848425, num_features - 86\n"
          ]
        },
        {
          "name": "stderr",
          "output_type": "stream",
          "text": [
            "\n"
          ]
        }
      ],
      "source": [
        "search_num_features(df_fe, feature_importance, upsamp_func = 'ROS', step = 5)"
      ]
    }
  ],
  "metadata": {
    "colab": {
      "collapsed_sections": [
        "bMFJW-MU1qai",
        "KJKenEct1-sQ",
        "vEj6gPGduhoF",
        "x9jA4PkX34X4",
        "wIV5r99qbJuc",
        "zXHfeSsU5nfY"
      ],
      "provenance": []
    },
    "kernelspec": {
      "display_name": "Python 3",
      "name": "python3"
    },
    "language_info": {
      "codemirror_mode": {
        "name": "ipython",
        "version": 3
      },
      "file_extension": ".py",
      "mimetype": "text/x-python",
      "name": "python",
      "nbconvert_exporter": "python",
      "pygments_lexer": "ipython3",
      "version": "3.11.3"
    }
  },
  "nbformat": 4,
  "nbformat_minor": 0
}
