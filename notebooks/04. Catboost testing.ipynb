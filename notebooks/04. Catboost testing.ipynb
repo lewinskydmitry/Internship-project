{
  "cells": [
    {
      "attachments": {},
      "cell_type": "markdown",
      "metadata": {
        "id": "MpVxguTB17rf"
      },
      "source": [
        "# Load libraries"
      ]
    },
    {
      "cell_type": "code",
      "execution_count": 1,
      "metadata": {
        "colab": {
          "base_uri": "https://localhost:8080/"
        },
        "id": "OyGrZYE1tpAh",
        "outputId": "5b54f4a0-bd51-4447-e7f7-42e8a2e83b6c"
      },
      "outputs": [],
      "source": [
        "import os\n",
        "import sys\n",
        "sys.path.append(os.path.abspath(os.path.join(os.path.dirname('src'), '..')))\n",
        "\n",
        "import pandas as pd\n",
        "from catboost import CatBoostClassifier\n",
        "from sklearn.model_selection import train_test_split\n",
        "from catboost import Pool\n",
        "from src.tools import *\n",
        "\n",
        "import warnings\n",
        "warnings.filterwarnings(\"ignore\")"
      ]
    },
    {
      "attachments": {},
      "cell_type": "markdown",
      "metadata": {
        "id": "KJKenEct1-sQ"
      },
      "source": [
        "# Read data"
      ]
    },
    {
      "cell_type": "code",
      "execution_count": 2,
      "metadata": {
        "id": "K8WkhpSCuG8l"
      },
      "outputs": [],
      "source": [
        "df = pd.read_csv('../data/prepared_data.csv')\n",
        "df_fe = pd.read_csv('../data/data_fe.csv')"
      ]
    },
    {
      "attachments": {},
      "cell_type": "markdown",
      "metadata": {
        "id": "BvoCOslb2KVS"
      },
      "source": [
        "# Train Catboost"
      ]
    },
    {
      "attachments": {},
      "cell_type": "markdown",
      "metadata": {
        "id": "SVeReKGR4-KB"
      },
      "source": [
        "## Test data without upsampling"
      ]
    },
    {
      "attachments": {},
      "cell_type": "markdown",
      "metadata": {
        "id": "7J4EpZN246Zw"
      },
      "source": [
        "### Find feature importance"
      ]
    },
    {
      "cell_type": "code",
      "execution_count": 3,
      "metadata": {
        "id": "NEvXf5qLxpGd"
      },
      "outputs": [],
      "source": [
        "CatBoost = CatBoostClassifier(verbose=False)"
      ]
    },
    {
      "cell_type": "code",
      "execution_count": 4,
      "metadata": {
        "id": "CHNY6qiXx4o0"
      },
      "outputs": [],
      "source": [
        "X_train, X_test, y_train, y_test = train_test_split(df_fe.drop(columns = ['Machine failure']),\n",
        "                                                    df['Machine failure'],\n",
        "                                                    test_size=0.33,\n",
        "                                                    random_state=42,\n",
        "                                                    stratify = df['Machine failure'])\n",
        "\n",
        "train_pool = Pool(data=X_train, label=y_train)"
      ]
    },
    {
      "cell_type": "code",
      "execution_count": 5,
      "metadata": {
        "colab": {
          "base_uri": "https://localhost:8080/"
        },
        "id": "dSFx311OyNk3",
        "outputId": "8d8c4f4d-e45f-4018-f906-f51cc877d721"
      },
      "outputs": [
        {
          "data": {
            "text/plain": [
              "{'auc_score': 0.9094595805699947, 'f1_score': 0.931770654883567}"
            ]
          },
          "execution_count": 5,
          "metadata": {},
          "output_type": "execute_result"
        }
      ],
      "source": [
        "CatBoost.fit(train_pool)\n",
        "\n",
        "feature_importance = pd.DataFrame({'feature_importance': CatBoost.get_feature_importance(train_pool), \n",
        "              'feature_names': X_test.columns}).sort_values(by=['feature_importance'], \n",
        "                                                       ascending=False)\n",
        "              \n",
        "check_result(CatBoost, X_test, y_test )"
      ]
    },
    {
      "cell_type": "code",
      "execution_count": 6,
      "metadata": {},
      "outputs": [],
      "source": [
        "feature_importance.to_csv('../data/feature_imporstance_WS.csv',index = False)"
      ]
    },
    {
      "attachments": {},
      "cell_type": "markdown",
      "metadata": {
        "id": "jiFj8emU5DVG"
      },
      "source": [
        "### Find best amount of features"
      ]
    },
    {
      "cell_type": "code",
      "execution_count": 7,
      "metadata": {
        "colab": {
          "base_uri": "https://localhost:8080/"
        },
        "id": "28pFLr4U5RWV",
        "outputId": "e89605b6-a90d-4c80-eaee-955792ec0de2"
      },
      "outputs": [
        {
          "name": "stderr",
          "output_type": "stream",
          "text": [
            "  0%|          | 0/24 [00:00<?, ?it/s]"
          ]
        },
        {
          "name": "stdout",
          "output_type": "stream",
          "text": [
            "F1_score - 0.6734304006608839, num_features - 0, AUC_score = 0.6151303997132103\n"
          ]
        },
        {
          "name": "stderr",
          "output_type": "stream",
          "text": [
            "  4%|▍         | 1/24 [00:02<01:02,  2.70s/it]"
          ]
        },
        {
          "name": "stdout",
          "output_type": "stream",
          "text": [
            "F1_score - 0.8076319061320266, num_features - 1, AUC_score = 0.7482747804265998\n"
          ]
        },
        {
          "name": "stderr",
          "output_type": "stream",
          "text": [
            "  8%|▊         | 2/24 [00:05<01:00,  2.73s/it]"
          ]
        },
        {
          "name": "stdout",
          "output_type": "stream",
          "text": [
            "F1_score - 0.9110560725537689, num_features - 6, AUC_score = 0.8951256945689192\n"
          ]
        },
        {
          "name": "stderr",
          "output_type": "stream",
          "text": [
            " 12%|█▎        | 3/24 [00:08<00:58,  2.80s/it]"
          ]
        },
        {
          "name": "stdout",
          "output_type": "stream",
          "text": [
            "F1_score - 0.9102490313731457, num_features - 11, AUC_score = 0.8908182469976698\n"
          ]
        },
        {
          "name": "stderr",
          "output_type": "stream",
          "text": [
            " 17%|█▋        | 4/24 [00:11<00:59,  2.98s/it]"
          ]
        },
        {
          "name": "stdout",
          "output_type": "stream",
          "text": [
            "F1_score - 0.9045308175559443, num_features - 11, AUC_score = 0.8818896755690984\n"
          ]
        },
        {
          "name": "stderr",
          "output_type": "stream",
          "text": [
            " 21%|██        | 5/24 [00:15<00:59,  3.13s/it]"
          ]
        },
        {
          "name": "stdout",
          "output_type": "stream",
          "text": [
            "F1_score - 0.9345060499209441, num_features - 11, AUC_score = 0.9139238662842804\n"
          ]
        },
        {
          "name": "stderr",
          "output_type": "stream",
          "text": [
            " 25%|██▌       | 6/24 [00:19<01:00,  3.38s/it]"
          ]
        },
        {
          "name": "stdout",
          "output_type": "stream",
          "text": [
            "F1_score - 0.9345060499209441, num_features - 26, AUC_score = 0.9139238662842804\n"
          ]
        },
        {
          "name": "stderr",
          "output_type": "stream",
          "text": [
            " 29%|██▉       | 7/24 [00:23<01:01,  3.63s/it]"
          ]
        },
        {
          "name": "stdout",
          "output_type": "stream",
          "text": [
            "F1_score - 0.931770654883567, num_features - 26, AUC_score = 0.9094595805699947\n"
          ]
        },
        {
          "name": "stderr",
          "output_type": "stream",
          "text": [
            " 33%|███▎      | 8/24 [00:27<01:02,  3.88s/it]"
          ]
        },
        {
          "name": "stdout",
          "output_type": "stream",
          "text": [
            "F1_score - 0.9290100951057022, num_features - 26, AUC_score = 0.9049952948557088\n"
          ]
        },
        {
          "name": "stderr",
          "output_type": "stream",
          "text": [
            " 38%|███▊      | 9/24 [00:33<01:05,  4.39s/it]"
          ]
        },
        {
          "name": "stdout",
          "output_type": "stream",
          "text": [
            "F1_score - 0.931770654883567, num_features - 26, AUC_score = 0.9094595805699947\n"
          ]
        },
        {
          "name": "stderr",
          "output_type": "stream",
          "text": [
            " 42%|████▏     | 10/24 [00:39<01:08,  4.91s/it]"
          ]
        },
        {
          "name": "stdout",
          "output_type": "stream",
          "text": [
            "F1_score - 0.926224010731053, num_features - 26, AUC_score = 0.9005310091414231\n"
          ]
        },
        {
          "name": "stderr",
          "output_type": "stream",
          "text": [
            " 46%|████▌     | 11/24 [00:46<01:10,  5.39s/it]"
          ]
        },
        {
          "name": "stdout",
          "output_type": "stream",
          "text": [
            "F1_score - 0.926224010731053, num_features - 26, AUC_score = 0.9005310091414231\n"
          ]
        },
        {
          "name": "stderr",
          "output_type": "stream",
          "text": [
            " 50%|█████     | 12/24 [00:52<01:09,  5.78s/it]"
          ]
        },
        {
          "name": "stdout",
          "output_type": "stream",
          "text": [
            "F1_score - 0.9290100951057022, num_features - 26, AUC_score = 0.9049952948557088\n"
          ]
        },
        {
          "name": "stderr",
          "output_type": "stream",
          "text": [
            " 54%|█████▍    | 13/24 [00:59<01:07,  6.16s/it]"
          ]
        },
        {
          "name": "stdout",
          "output_type": "stream",
          "text": [
            "F1_score - 0.9290100951057022, num_features - 26, AUC_score = 0.9049952948557088\n"
          ]
        },
        {
          "name": "stderr",
          "output_type": "stream",
          "text": [
            " 58%|█████▊    | 14/24 [01:07<01:05,  6.56s/it]"
          ]
        },
        {
          "name": "stdout",
          "output_type": "stream",
          "text": [
            "F1_score - 0.9290100951057022, num_features - 26, AUC_score = 0.9049952948557088\n"
          ]
        },
        {
          "name": "stderr",
          "output_type": "stream",
          "text": [
            " 62%|██████▎   | 15/24 [01:14<01:01,  6.86s/it]"
          ]
        },
        {
          "name": "stdout",
          "output_type": "stream",
          "text": [
            "F1_score - 0.9290100951057022, num_features - 26, AUC_score = 0.9049952948557088\n"
          ]
        },
        {
          "name": "stderr",
          "output_type": "stream",
          "text": [
            " 67%|██████▋   | 16/24 [01:23<00:57,  7.22s/it]"
          ]
        },
        {
          "name": "stdout",
          "output_type": "stream",
          "text": [
            "F1_score - 0.931770654883567, num_features - 26, AUC_score = 0.9094595805699947\n"
          ]
        },
        {
          "name": "stderr",
          "output_type": "stream",
          "text": [
            " 71%|███████   | 17/24 [01:31<00:52,  7.53s/it]"
          ]
        },
        {
          "name": "stdout",
          "output_type": "stream",
          "text": [
            "F1_score - 0.931770654883567, num_features - 26, AUC_score = 0.9094595805699947\n"
          ]
        },
        {
          "name": "stderr",
          "output_type": "stream",
          "text": [
            " 75%|███████▌  | 18/24 [01:39<00:47,  7.84s/it]"
          ]
        },
        {
          "name": "stdout",
          "output_type": "stream",
          "text": [
            "F1_score - 0.9290100951057022, num_features - 26, AUC_score = 0.9049952948557088\n"
          ]
        },
        {
          "name": "stderr",
          "output_type": "stream",
          "text": [
            " 79%|███████▉  | 19/24 [01:48<00:40,  8.12s/it]"
          ]
        },
        {
          "name": "stdout",
          "output_type": "stream",
          "text": [
            "F1_score - 0.931770654883567, num_features - 26, AUC_score = 0.9094595805699947\n"
          ]
        },
        {
          "name": "stderr",
          "output_type": "stream",
          "text": [
            " 83%|████████▎ | 20/24 [01:58<00:34,  8.75s/it]"
          ]
        },
        {
          "name": "stdout",
          "output_type": "stream",
          "text": [
            "F1_score - 0.931770654883567, num_features - 26, AUC_score = 0.9094595805699947\n"
          ]
        },
        {
          "name": "stderr",
          "output_type": "stream",
          "text": [
            " 88%|████████▊ | 21/24 [02:08<00:27,  9.14s/it]"
          ]
        },
        {
          "name": "stdout",
          "output_type": "stream",
          "text": [
            "F1_score - 0.9296546462113844, num_features - 26, AUC_score = 0.9093027424269583\n"
          ]
        },
        {
          "name": "stderr",
          "output_type": "stream",
          "text": [
            " 92%|█████████▏| 22/24 [02:19<00:18,  9.48s/it]"
          ]
        },
        {
          "name": "stdout",
          "output_type": "stream",
          "text": [
            "F1_score - 0.9290100951057022, num_features - 26, AUC_score = 0.9049952948557088\n"
          ]
        },
        {
          "name": "stderr",
          "output_type": "stream",
          "text": [
            " 96%|█████████▌| 23/24 [02:29<00:09,  9.71s/it]"
          ]
        },
        {
          "name": "stdout",
          "output_type": "stream",
          "text": [
            "F1_score - 0.9268971302323933, num_features - 26, AUC_score = 0.9048384567126725\n"
          ]
        },
        {
          "name": "stderr",
          "output_type": "stream",
          "text": [
            "100%|██████████| 24/24 [02:39<00:00,  9.86s/it]\n"
          ]
        },
        {
          "name": "stdout",
          "output_type": "stream",
          "text": [
            "Best F1_score - 0.9345060499209441, num_features - 26\n"
          ]
        }
      ],
      "source": [
        "search_num_features(df_fe,feature_importance, step = 5)"
      ]
    },
    {
      "attachments": {},
      "cell_type": "markdown",
      "metadata": {
        "id": "4v0YqZp9y0XF"
      },
      "source": [
        "## Test data with upsampling"
      ]
    },
    {
      "attachments": {},
      "cell_type": "markdown",
      "metadata": {
        "id": "zXHfeSsU5nfY"
      },
      "source": [
        "### Find feature importance"
      ]
    },
    {
      "cell_type": "code",
      "execution_count": 8,
      "metadata": {
        "id": "jTYyFhXH8PIu"
      },
      "outputs": [],
      "source": [
        "CatBoost = CatBoostClassifier(verbose=False)"
      ]
    },
    {
      "cell_type": "code",
      "execution_count": 9,
      "metadata": {
        "id": "qWX9VIqC8Rb5"
      },
      "outputs": [],
      "source": [
        "X_train, X_test, y_train, y_test = train_test_split(df_fe.drop(columns = ['Machine failure']),\n",
        "                                                    df['Machine failure'],\n",
        "                                                    test_size=0.33,\n",
        "                                                    random_state=42,\n",
        "                                                    stratify = df['Machine failure'])\n",
        "X_train, y_train = upsampling(X_train, y_train)\n",
        "\n",
        "train_pool = Pool(data=X_train, label=y_train)"
      ]
    },
    {
      "cell_type": "code",
      "execution_count": 10,
      "metadata": {
        "id": "lYY2bqNe8Tf4"
      },
      "outputs": [
        {
          "data": {
            "text/plain": [
              "{'auc_score': 0.9128259992830255, 'f1_score': 0.9200626959247649}"
            ]
          },
          "execution_count": 10,
          "metadata": {},
          "output_type": "execute_result"
        }
      ],
      "source": [
        "CatBoost.fit(train_pool)\n",
        "\n",
        "feature_importance = pd.DataFrame({'feature_importance': CatBoost.get_feature_importance(train_pool), \n",
        "              'feature_names': X_test.columns}).sort_values(by=['feature_importance'], \n",
        "                                                       ascending=False)\n",
        "              \n",
        "check_result(CatBoost, X_test, y_test)"
      ]
    },
    {
      "cell_type": "code",
      "execution_count": 11,
      "metadata": {},
      "outputs": [],
      "source": [
        "feature_importance.to_csv('../data/feature_imporstance.csv',index = False)"
      ]
    },
    {
      "attachments": {},
      "cell_type": "markdown",
      "metadata": {
        "id": "855aUKja5xFF"
      },
      "source": [
        "### Find best amount of features"
      ]
    },
    {
      "cell_type": "code",
      "execution_count": 12,
      "metadata": {
        "colab": {
          "base_uri": "https://localhost:8080/"
        },
        "id": "vaIk5NsN8X16",
        "outputId": "26b0d880-74c6-49e3-9022-d7250a9e5f86"
      },
      "outputs": [
        {
          "name": "stderr",
          "output_type": "stream",
          "text": [
            "  0%|          | 0/12 [00:00<?, ?it/s]"
          ]
        },
        {
          "name": "stdout",
          "output_type": "stream",
          "text": [
            "F1_score - 0.5134960492124424, num_features - 0, AUC_score = 0.7089756228714823\n"
          ]
        },
        {
          "name": "stderr",
          "output_type": "stream",
          "text": [
            "  8%|▊         | 1/12 [00:06<01:11,  6.48s/it]"
          ]
        },
        {
          "name": "stdout",
          "output_type": "stream",
          "text": [
            "F1_score - 0.9260620182828463, num_features - 1, AUC_score = 0.9260620182828464\n"
          ]
        },
        {
          "name": "stderr",
          "output_type": "stream",
          "text": [
            " 17%|█▋        | 2/12 [00:13<01:06,  6.61s/it]"
          ]
        },
        {
          "name": "stdout",
          "output_type": "stream",
          "text": [
            "F1_score - 0.9160967176018916, num_features - 11, AUC_score = 0.9125123229969528\n"
          ]
        },
        {
          "name": "stderr",
          "output_type": "stream",
          "text": [
            " 25%|██▌       | 3/12 [00:21<01:02,  6.99s/it]"
          ]
        },
        {
          "name": "stdout",
          "output_type": "stream",
          "text": [
            "F1_score - 0.9254193045350148, num_features - 11, AUC_score = 0.9217545707115969\n"
          ]
        },
        {
          "name": "stderr",
          "output_type": "stream",
          "text": [
            " 33%|███▎      | 4/12 [00:29<00:59,  7.44s/it]"
          ]
        },
        {
          "name": "stdout",
          "output_type": "stream",
          "text": [
            "F1_score - 0.9356730254831562, num_features - 11, AUC_score = 0.9225387614267789\n"
          ]
        },
        {
          "name": "stderr",
          "output_type": "stream",
          "text": [
            " 42%|████▏     | 5/12 [00:39<00:57,  8.22s/it]"
          ]
        },
        {
          "name": "stdout",
          "output_type": "stream",
          "text": [
            "F1_score - 0.9207580110684531, num_features - 41, AUC_score = 0.917133446854275\n"
          ]
        },
        {
          "name": "stderr",
          "output_type": "stream",
          "text": [
            " 50%|█████     | 6/12 [00:51<00:54,  9.15s/it]"
          ]
        },
        {
          "name": "stdout",
          "output_type": "stream",
          "text": [
            "F1_score - 0.9399027517255195, num_features - 41, AUC_score = 0.9228524377128516\n"
          ]
        },
        {
          "name": "stderr",
          "output_type": "stream",
          "text": [
            " 58%|█████▊    | 7/12 [01:02<00:49,  9.95s/it]"
          ]
        },
        {
          "name": "stdout",
          "output_type": "stream",
          "text": [
            "F1_score - 0.9282059314954052, num_features - 61, AUC_score = 0.9134533518551712\n"
          ]
        },
        {
          "name": "stderr",
          "output_type": "stream",
          "text": [
            " 67%|██████▋   | 8/12 [01:15<00:42, 10.63s/it]"
          ]
        },
        {
          "name": "stdout",
          "output_type": "stream",
          "text": [
            "F1_score - 0.9261431033325127, num_features - 61, AUC_score = 0.9132965137121348\n"
          ]
        },
        {
          "name": "stderr",
          "output_type": "stream",
          "text": [
            " 75%|███████▌  | 9/12 [01:28<00:34, 11.36s/it]"
          ]
        },
        {
          "name": "stdout",
          "output_type": "stream",
          "text": [
            "F1_score - 0.9267946579421356, num_features - 61, AUC_score = 0.9176039612833842\n"
          ]
        },
        {
          "name": "stderr",
          "output_type": "stream",
          "text": [
            " 83%|████████▎ | 10/12 [01:42<00:24, 12.26s/it]"
          ]
        },
        {
          "name": "stdout",
          "output_type": "stream",
          "text": [
            "F1_score - 0.9247648902821317, num_features - 61, AUC_score = 0.9174471231403479\n"
          ]
        },
        {
          "name": "stderr",
          "output_type": "stream",
          "text": [
            " 92%|█████████▏| 11/12 [01:57<00:13, 13.21s/it]"
          ]
        },
        {
          "name": "stdout",
          "output_type": "stream",
          "text": [
            "F1_score - 0.9220717326480798, num_features - 61, AUC_score = 0.912982837426062\n"
          ]
        },
        {
          "name": "stderr",
          "output_type": "stream",
          "text": [
            "100%|██████████| 12/12 [02:11<00:00, 13.44s/it]\n"
          ]
        },
        {
          "name": "stdout",
          "output_type": "stream",
          "text": [
            "Best F1_score - 0.9399027517255195, num_features - 61\n"
          ]
        }
      ],
      "source": [
        "search_num_features(df_fe, feature_importance,upsamp_func = True, step = 5)"
      ]
    }
  ],
  "metadata": {
    "colab": {
      "collapsed_sections": [
        "bMFJW-MU1qai",
        "KJKenEct1-sQ",
        "vEj6gPGduhoF",
        "x9jA4PkX34X4",
        "wIV5r99qbJuc",
        "zXHfeSsU5nfY"
      ],
      "provenance": []
    },
    "kernelspec": {
      "display_name": "Python 3",
      "name": "python3"
    },
    "language_info": {
      "codemirror_mode": {
        "name": "ipython",
        "version": 3
      },
      "file_extension": ".py",
      "mimetype": "text/x-python",
      "name": "python",
      "nbconvert_exporter": "python",
      "pygments_lexer": "ipython3",
      "version": "3.10.4"
    }
  },
  "nbformat": 4,
  "nbformat_minor": 0
}
