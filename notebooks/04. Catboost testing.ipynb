{
  "cells": [
    {
      "cell_type": "markdown",
      "metadata": {
        "id": "MpVxguTB17rf"
      },
      "source": [
        "# Load libraries"
      ]
    },
    {
      "cell_type": "code",
      "execution_count": 1,
      "metadata": {
        "colab": {
          "base_uri": "https://localhost:8080/"
        },
        "id": "OyGrZYE1tpAh",
        "outputId": "5b54f4a0-bd51-4447-e7f7-42e8a2e83b6c"
      },
      "outputs": [],
      "source": [
        "import os\n",
        "import sys\n",
        "sys.path.append(os.path.abspath(os.path.join(os.path.dirname('src'), '..')))\n",
        "\n",
        "import pandas as pd\n",
        "from catboost import CatBoostClassifier\n",
        "from sklearn.model_selection import train_test_split\n",
        "from catboost import Pool\n",
        "from src.tools import *\n",
        "\n",
        "import warnings\n",
        "warnings.filterwarnings(\"ignore\")"
      ]
    },
    {
      "cell_type": "markdown",
      "metadata": {
        "id": "KJKenEct1-sQ"
      },
      "source": [
        "# Read data"
      ]
    },
    {
      "cell_type": "code",
      "execution_count": 2,
      "metadata": {
        "id": "K8WkhpSCuG8l"
      },
      "outputs": [],
      "source": [
        "df = pd.read_csv('../data/prepared_data.csv')\n",
        "df_fe = pd.read_csv('../data/data_fe.csv')"
      ]
    },
    {
      "cell_type": "markdown",
      "metadata": {
        "id": "BvoCOslb2KVS"
      },
      "source": [
        "# Train Catboost"
      ]
    },
    {
      "cell_type": "markdown",
      "metadata": {
        "id": "SVeReKGR4-KB"
      },
      "source": [
        "## Test data without upsampling"
      ]
    },
    {
      "cell_type": "markdown",
      "metadata": {
        "id": "7J4EpZN246Zw"
      },
      "source": [
        "### Find feature importance"
      ]
    },
    {
      "cell_type": "code",
      "execution_count": 3,
      "metadata": {
        "id": "NEvXf5qLxpGd"
      },
      "outputs": [],
      "source": [
        "CatBoost = CatBoostClassifier(verbose=False)"
      ]
    },
    {
      "cell_type": "code",
      "execution_count": 4,
      "metadata": {
        "id": "CHNY6qiXx4o0"
      },
      "outputs": [],
      "source": [
        "X_train, X_test, y_train, y_test = train_test_split(df_fe.drop(columns = ['Machine failure']),\n",
        "                                                    df['Machine failure'],\n",
        "                                                    test_size=0.33,\n",
        "                                                    random_state=42,\n",
        "                                                    stratify = df['Machine failure'])\n",
        "\n",
        "train_pool = Pool(data=X_train, label=y_train)"
      ]
    },
    {
      "cell_type": "code",
      "execution_count": 5,
      "metadata": {
        "colab": {
          "base_uri": "https://localhost:8080/"
        },
        "id": "dSFx311OyNk3",
        "outputId": "8d8c4f4d-e45f-4018-f906-f51cc877d721"
      },
      "outputs": [
        {
          "data": {
            "text/plain": [
              "{'auc_score': 0.9094595805699947, 'f1_score': 0.931770654883567}"
            ]
          },
          "execution_count": 5,
          "metadata": {},
          "output_type": "execute_result"
        }
      ],
      "source": [
        "CatBoost.fit(train_pool)\n",
        "\n",
        "feature_importance = pd.DataFrame({'feature_importance': CatBoost.get_feature_importance(train_pool), \n",
        "              'feature_names': X_test.columns}).sort_values(by=['feature_importance'], \n",
        "                                                       ascending=False)\n",
        "              \n",
        "check_result(CatBoost, X_test, y_test )"
      ]
    },
    {
      "cell_type": "code",
      "execution_count": 6,
      "metadata": {},
      "outputs": [],
      "source": [
        "feature_importance.to_csv('../data/feature_imporstance_WS.csv',index = False)"
      ]
    },
    {
      "cell_type": "markdown",
      "metadata": {
        "id": "jiFj8emU5DVG"
      },
      "source": [
        "### Fing best amount of features"
      ]
    },
    {
      "cell_type": "code",
      "execution_count": 7,
      "metadata": {
        "colab": {
          "base_uri": "https://localhost:8080/"
        },
        "id": "28pFLr4U5RWV",
        "outputId": "e89605b6-a90d-4c80-eaee-955792ec0de2"
      },
      "outputs": [
        {
          "name": "stderr",
          "output_type": "stream",
          "text": [
            "  4%|▍         | 1/24 [00:02<01:03,  2.75s/it]"
          ]
        },
        {
          "name": "stdout",
          "output_type": "stream",
          "text": [
            "F1_score - 0.6734304006608839, num_features - 0, AUC_score = 0.6151303997132103\n"
          ]
        },
        {
          "name": "stderr",
          "output_type": "stream",
          "text": [
            "  8%|▊         | 2/24 [00:05<01:03,  2.90s/it]"
          ]
        },
        {
          "name": "stdout",
          "output_type": "stream",
          "text": [
            "F1_score - 0.8076319061320266, num_features - 1, AUC_score = 0.7482747804265998\n"
          ]
        },
        {
          "name": "stderr",
          "output_type": "stream",
          "text": [
            " 12%|█▎        | 3/24 [00:09<01:12,  3.44s/it]"
          ]
        },
        {
          "name": "stdout",
          "output_type": "stream",
          "text": [
            "F1_score - 0.9110560725537689, num_features - 6, AUC_score = 0.8951256945689192\n"
          ]
        },
        {
          "name": "stderr",
          "output_type": "stream",
          "text": [
            " 17%|█▋        | 4/24 [00:13<01:10,  3.52s/it]"
          ]
        },
        {
          "name": "stdout",
          "output_type": "stream",
          "text": [
            "F1_score - 0.9102490313731457, num_features - 11, AUC_score = 0.8908182469976698\n"
          ]
        },
        {
          "name": "stderr",
          "output_type": "stream",
          "text": [
            " 21%|██        | 5/24 [00:17<01:12,  3.80s/it]"
          ]
        },
        {
          "name": "stdout",
          "output_type": "stream",
          "text": [
            "F1_score - 0.9045308175559443, num_features - 11, AUC_score = 0.8818896755690984\n"
          ]
        },
        {
          "name": "stderr",
          "output_type": "stream",
          "text": [
            " 25%|██▌       | 6/24 [00:22<01:14,  4.11s/it]"
          ]
        },
        {
          "name": "stdout",
          "output_type": "stream",
          "text": [
            "F1_score - 0.9345060499209441, num_features - 11, AUC_score = 0.9139238662842804\n"
          ]
        },
        {
          "name": "stderr",
          "output_type": "stream",
          "text": [
            " 29%|██▉       | 7/24 [00:28<01:19,  4.69s/it]"
          ]
        },
        {
          "name": "stdout",
          "output_type": "stream",
          "text": [
            "F1_score - 0.9345060499209441, num_features - 26, AUC_score = 0.9139238662842804\n"
          ]
        },
        {
          "name": "stderr",
          "output_type": "stream",
          "text": [
            " 33%|███▎      | 8/24 [00:34<01:23,  5.23s/it]"
          ]
        },
        {
          "name": "stdout",
          "output_type": "stream",
          "text": [
            "F1_score - 0.931770654883567, num_features - 26, AUC_score = 0.9094595805699947\n"
          ]
        },
        {
          "name": "stderr",
          "output_type": "stream",
          "text": [
            " 38%|███▊      | 9/24 [00:42<01:28,  5.89s/it]"
          ]
        },
        {
          "name": "stdout",
          "output_type": "stream",
          "text": [
            "F1_score - 0.9290100951057022, num_features - 26, AUC_score = 0.9049952948557088\n"
          ]
        },
        {
          "name": "stderr",
          "output_type": "stream",
          "text": [
            " 42%|████▏     | 10/24 [00:49<01:28,  6.29s/it]"
          ]
        },
        {
          "name": "stdout",
          "output_type": "stream",
          "text": [
            "F1_score - 0.931770654883567, num_features - 26, AUC_score = 0.9094595805699947\n"
          ]
        },
        {
          "name": "stderr",
          "output_type": "stream",
          "text": [
            " 46%|████▌     | 11/24 [00:56<01:26,  6.69s/it]"
          ]
        },
        {
          "name": "stdout",
          "output_type": "stream",
          "text": [
            "F1_score - 0.926224010731053, num_features - 26, AUC_score = 0.9005310091414231\n"
          ]
        },
        {
          "name": "stderr",
          "output_type": "stream",
          "text": [
            " 50%|█████     | 12/24 [01:04<01:24,  7.06s/it]"
          ]
        },
        {
          "name": "stdout",
          "output_type": "stream",
          "text": [
            "F1_score - 0.926224010731053, num_features - 26, AUC_score = 0.9005310091414231\n"
          ]
        },
        {
          "name": "stderr",
          "output_type": "stream",
          "text": [
            " 54%|█████▍    | 13/24 [01:12<01:19,  7.24s/it]"
          ]
        },
        {
          "name": "stdout",
          "output_type": "stream",
          "text": [
            "F1_score - 0.9290100951057022, num_features - 26, AUC_score = 0.9049952948557088\n"
          ]
        },
        {
          "name": "stderr",
          "output_type": "stream",
          "text": [
            " 58%|█████▊    | 14/24 [01:21<01:16,  7.67s/it]"
          ]
        },
        {
          "name": "stdout",
          "output_type": "stream",
          "text": [
            "F1_score - 0.9290100951057022, num_features - 26, AUC_score = 0.9049952948557088\n"
          ]
        },
        {
          "name": "stderr",
          "output_type": "stream",
          "text": [
            " 62%|██████▎   | 15/24 [01:29<01:11,  7.92s/it]"
          ]
        },
        {
          "name": "stdout",
          "output_type": "stream",
          "text": [
            "F1_score - 0.9290100951057022, num_features - 26, AUC_score = 0.9049952948557088\n"
          ]
        },
        {
          "name": "stderr",
          "output_type": "stream",
          "text": [
            " 67%|██████▋   | 16/24 [01:39<01:08,  8.51s/it]"
          ]
        },
        {
          "name": "stdout",
          "output_type": "stream",
          "text": [
            "F1_score - 0.9290100951057022, num_features - 26, AUC_score = 0.9049952948557088\n"
          ]
        },
        {
          "name": "stderr",
          "output_type": "stream",
          "text": [
            " 71%|███████   | 17/24 [01:50<01:04,  9.16s/it]"
          ]
        },
        {
          "name": "stdout",
          "output_type": "stream",
          "text": [
            "F1_score - 0.931770654883567, num_features - 26, AUC_score = 0.9094595805699947\n"
          ]
        },
        {
          "name": "stderr",
          "output_type": "stream",
          "text": [
            " 75%|███████▌  | 18/24 [02:00<00:56,  9.43s/it]"
          ]
        },
        {
          "name": "stdout",
          "output_type": "stream",
          "text": [
            "F1_score - 0.931770654883567, num_features - 26, AUC_score = 0.9094595805699947\n"
          ]
        },
        {
          "name": "stderr",
          "output_type": "stream",
          "text": [
            " 79%|███████▉  | 19/24 [02:10<00:47,  9.58s/it]"
          ]
        },
        {
          "name": "stdout",
          "output_type": "stream",
          "text": [
            "F1_score - 0.9290100951057022, num_features - 26, AUC_score = 0.9049952948557088\n"
          ]
        },
        {
          "name": "stderr",
          "output_type": "stream",
          "text": [
            " 83%|████████▎ | 20/24 [02:21<00:40, 10.05s/it]"
          ]
        },
        {
          "name": "stdout",
          "output_type": "stream",
          "text": [
            "F1_score - 0.931770654883567, num_features - 26, AUC_score = 0.9094595805699947\n"
          ]
        },
        {
          "name": "stderr",
          "output_type": "stream",
          "text": [
            " 88%|████████▊ | 21/24 [02:32<00:31, 10.44s/it]"
          ]
        },
        {
          "name": "stdout",
          "output_type": "stream",
          "text": [
            "F1_score - 0.931770654883567, num_features - 26, AUC_score = 0.9094595805699947\n"
          ]
        },
        {
          "name": "stderr",
          "output_type": "stream",
          "text": [
            " 92%|█████████▏| 22/24 [02:44<00:21, 10.90s/it]"
          ]
        },
        {
          "name": "stdout",
          "output_type": "stream",
          "text": [
            "F1_score - 0.9296546462113844, num_features - 26, AUC_score = 0.9093027424269583\n"
          ]
        },
        {
          "name": "stderr",
          "output_type": "stream",
          "text": [
            " 96%|█████████▌| 23/24 [02:55<00:10, 10.99s/it]"
          ]
        },
        {
          "name": "stdout",
          "output_type": "stream",
          "text": [
            "F1_score - 0.9290100951057022, num_features - 26, AUC_score = 0.9049952948557088\n"
          ]
        },
        {
          "name": "stderr",
          "output_type": "stream",
          "text": [
            "100%|██████████| 24/24 [03:06<00:00,  7.76s/it]"
          ]
        },
        {
          "name": "stdout",
          "output_type": "stream",
          "text": [
            "F1_score - 0.9268971302323933, num_features - 26, AUC_score = 0.9048384567126725\n",
            "Best F1_score - 0.9345060499209441, num_features - 26\n"
          ]
        },
        {
          "name": "stderr",
          "output_type": "stream",
          "text": [
            "\n"
          ]
        }
      ],
      "source": [
        "search_num_features(df_fe,feature_importance, step = 5)"
      ]
    },
    {
      "cell_type": "markdown",
      "metadata": {
        "id": "4v0YqZp9y0XF"
      },
      "source": [
        "## Test data with upsampling"
      ]
    },
    {
      "cell_type": "markdown",
      "metadata": {
        "id": "zXHfeSsU5nfY"
      },
      "source": [
        "### Find feature importance"
      ]
    },
    {
      "cell_type": "code",
      "execution_count": 8,
      "metadata": {
        "id": "jTYyFhXH8PIu"
      },
      "outputs": [],
      "source": [
        "CatBoost = CatBoostClassifier(verbose=False)"
      ]
    },
    {
      "cell_type": "code",
      "execution_count": 9,
      "metadata": {
        "id": "qWX9VIqC8Rb5"
      },
      "outputs": [],
      "source": [
        "X_train, X_test, y_train, y_test = train_test_split(df_fe.drop(columns = ['Machine failure']),\n",
        "                                                    df['Machine failure'],\n",
        "                                                    test_size=0.33,\n",
        "                                                    random_state=42,\n",
        "                                                    stratify = df['Machine failure'])\n",
        "X_train, y_train = upsampling(X_train, y_train)\n",
        "\n",
        "train_pool = Pool(data=X_train, label=y_train)"
      ]
    },
    {
      "cell_type": "code",
      "execution_count": 10,
      "metadata": {
        "id": "lYY2bqNe8Tf4"
      },
      "outputs": [
        {
          "data": {
            "text/plain": [
              "{'auc_score': 0.9128259992830255, 'f1_score': 0.9200626959247649}"
            ]
          },
          "execution_count": 10,
          "metadata": {},
          "output_type": "execute_result"
        }
      ],
      "source": [
        "CatBoost.fit(train_pool)\n",
        "\n",
        "feature_importance = pd.DataFrame({'feature_importance': CatBoost.get_feature_importance(train_pool), \n",
        "              'feature_names': X_test.columns}).sort_values(by=['feature_importance'], \n",
        "                                                       ascending=False)\n",
        "              \n",
        "check_result(CatBoost, X_test, y_test)"
      ]
    },
    {
      "cell_type": "code",
      "execution_count": 11,
      "metadata": {},
      "outputs": [],
      "source": [
        "feature_importance.to_csv('../data/feature_imporstance.csv',index = False)"
      ]
    },
    {
      "cell_type": "markdown",
      "metadata": {
        "id": "855aUKja5xFF"
      },
      "source": [
        "### Fing best amount of features"
      ]
    },
    {
      "cell_type": "code",
      "execution_count": 12,
      "metadata": {
        "colab": {
          "base_uri": "https://localhost:8080/"
        },
        "id": "vaIk5NsN8X16",
        "outputId": "26b0d880-74c6-49e3-9022-d7250a9e5f86"
      },
      "outputs": [
        {
          "name": "stderr",
          "output_type": "stream",
          "text": [
            "  8%|▊         | 1/12 [00:03<00:40,  3.66s/it]"
          ]
        },
        {
          "name": "stdout",
          "output_type": "stream",
          "text": [
            "F1_score - 0.5209647121898241, num_features - 0, AUC_score = 0.7293421760172074\n"
          ]
        },
        {
          "name": "stderr",
          "output_type": "stream",
          "text": [
            " 17%|█▋        | 2/12 [00:08<00:42,  4.29s/it]"
          ]
        },
        {
          "name": "stdout",
          "output_type": "stream",
          "text": [
            "F1_score - 0.7889639386341534, num_features - 1, AUC_score = 0.7752901505646173\n"
          ]
        },
        {
          "name": "stderr",
          "output_type": "stream",
          "text": [
            " 25%|██▌       | 3/12 [00:13<00:43,  4.80s/it]"
          ]
        },
        {
          "name": "stdout",
          "output_type": "stream",
          "text": [
            "F1_score - 0.9148758169934641, num_features - 11, AUC_score = 0.9166629324251659\n"
          ]
        },
        {
          "name": "stderr",
          "output_type": "stream",
          "text": [
            " 33%|███▎      | 4/12 [00:20<00:43,  5.43s/it]"
          ]
        },
        {
          "name": "stdout",
          "output_type": "stream",
          "text": [
            "F1_score - 0.9072626441181693, num_features - 21, AUC_score = 0.9160355798530203\n"
          ]
        },
        {
          "name": "stderr",
          "output_type": "stream",
          "text": [
            " 42%|████▏     | 5/12 [00:27<00:43,  6.23s/it]"
          ]
        },
        {
          "name": "stdout",
          "output_type": "stream",
          "text": [
            "F1_score - 0.907577522853558, num_features - 21, AUC_score = 0.907577522853558\n"
          ]
        },
        {
          "name": "stderr",
          "output_type": "stream",
          "text": [
            " 50%|█████     | 6/12 [00:36<00:41,  6.90s/it]"
          ]
        },
        {
          "name": "stdout",
          "output_type": "stream",
          "text": [
            "F1_score - 0.940437986558478, num_features - 21, AUC_score = 0.9271598852841012\n"
          ]
        },
        {
          "name": "stderr",
          "output_type": "stream",
          "text": [
            " 58%|█████▊    | 7/12 [00:45<00:38,  7.77s/it]"
          ]
        },
        {
          "name": "stdout",
          "output_type": "stream",
          "text": [
            "F1_score - 0.9345060499209441, num_features - 51, AUC_score = 0.9139238662842804\n"
          ]
        },
        {
          "name": "stderr",
          "output_type": "stream",
          "text": [
            " 67%|██████▋   | 8/12 [00:55<00:33,  8.43s/it]"
          ]
        },
        {
          "name": "stdout",
          "output_type": "stream",
          "text": [
            "F1_score - 0.9180711029331965, num_features - 51, AUC_score = 0.9126691611399891\n"
          ]
        },
        {
          "name": "stderr",
          "output_type": "stream",
          "text": [
            " 75%|███████▌  | 9/12 [01:06<00:27,  9.24s/it]"
          ]
        },
        {
          "name": "stdout",
          "output_type": "stream",
          "text": [
            "F1_score - 0.9294670846394985, num_features - 51, AUC_score = 0.9220682469976698\n"
          ]
        },
        {
          "name": "stderr",
          "output_type": "stream",
          "text": [
            " 83%|████████▎ | 10/12 [01:19<00:20, 10.26s/it]"
          ]
        },
        {
          "name": "stdout",
          "output_type": "stream",
          "text": [
            "F1_score - 0.9335861468177414, num_features - 51, AUC_score = 0.9223819232837426\n"
          ]
        },
        {
          "name": "stderr",
          "output_type": "stream",
          "text": [
            " 92%|█████████▏| 11/12 [01:32<00:11, 11.31s/it]"
          ]
        },
        {
          "name": "stdout",
          "output_type": "stream",
          "text": [
            "F1_score - 0.9141393080936184, num_features - 51, AUC_score = 0.9123554848539164\n"
          ]
        },
        {
          "name": "stderr",
          "output_type": "stream",
          "text": [
            "100%|██████████| 12/12 [01:46<00:00,  8.84s/it]"
          ]
        },
        {
          "name": "stdout",
          "output_type": "stream",
          "text": [
            "F1_score - 0.931770654883567, num_features - 51, AUC_score = 0.9094595805699947\n",
            "Best F1_score - 0.940437986558478, num_features - 51\n"
          ]
        },
        {
          "name": "stderr",
          "output_type": "stream",
          "text": [
            "\n"
          ]
        }
      ],
      "source": [
        "search_num_features(df_fe, feature_importance,upsamp_func = True, step = 10)"
      ]
    }
  ],
  "metadata": {
    "colab": {
      "collapsed_sections": [
        "bMFJW-MU1qai",
        "KJKenEct1-sQ",
        "vEj6gPGduhoF",
        "x9jA4PkX34X4",
        "wIV5r99qbJuc",
        "zXHfeSsU5nfY"
      ],
      "provenance": []
    },
    "kernelspec": {
      "display_name": "Python 3",
      "name": "python3"
    },
    "language_info": {
      "codemirror_mode": {
        "name": "ipython",
        "version": 3
      },
      "file_extension": ".py",
      "mimetype": "text/x-python",
      "name": "python",
      "nbconvert_exporter": "python",
      "pygments_lexer": "ipython3",
      "version": "3.9.15"
    }
  },
  "nbformat": 4,
  "nbformat_minor": 0
}
