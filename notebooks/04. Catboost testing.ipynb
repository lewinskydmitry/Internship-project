{
  "cells": [
    {
      "attachments": {},
      "cell_type": "markdown",
      "metadata": {
        "id": "MpVxguTB17rf"
      },
      "source": [
        "# Load libraries"
      ]
    },
    {
      "cell_type": "code",
      "execution_count": 1,
      "metadata": {
        "colab": {
          "base_uri": "https://localhost:8080/"
        },
        "id": "OyGrZYE1tpAh",
        "outputId": "5b54f4a0-bd51-4447-e7f7-42e8a2e83b6c"
      },
      "outputs": [],
      "source": [
        "import os\n",
        "import sys\n",
        "sys.path.append(os.path.abspath(os.path.join(os.path.dirname('src'), '..')))\n",
        "\n",
        "import pandas as pd\n",
        "from catboost import CatBoostClassifier\n",
        "from sklearn.model_selection import train_test_split\n",
        "from catboost import Pool\n",
        "from src.tools import *\n",
        "\n",
        "import warnings\n",
        "warnings.filterwarnings(\"ignore\")"
      ]
    },
    {
      "attachments": {},
      "cell_type": "markdown",
      "metadata": {
        "id": "KJKenEct1-sQ"
      },
      "source": [
        "# Read data"
      ]
    },
    {
      "cell_type": "code",
      "execution_count": 2,
      "metadata": {
        "id": "K8WkhpSCuG8l"
      },
      "outputs": [],
      "source": [
        "df = pd.read_csv('../data/prepared_data.csv')\n",
        "df_fe = pd.read_csv('../data/data_fe.csv')"
      ]
    },
    {
      "attachments": {},
      "cell_type": "markdown",
      "metadata": {
        "id": "BvoCOslb2KVS"
      },
      "source": [
        "# Train Catboost"
      ]
    },
    {
      "attachments": {},
      "cell_type": "markdown",
      "metadata": {
        "id": "SVeReKGR4-KB"
      },
      "source": [
        "## Test data without upsampling"
      ]
    },
    {
      "attachments": {},
      "cell_type": "markdown",
      "metadata": {
        "id": "7J4EpZN246Zw"
      },
      "source": [
        "### Find feature importance"
      ]
    },
    {
      "cell_type": "code",
      "execution_count": 3,
      "metadata": {
        "id": "NEvXf5qLxpGd"
      },
      "outputs": [],
      "source": [
        "CatBoost = CatBoostClassifier(verbose=False,random_seed=42)"
      ]
    },
    {
      "cell_type": "code",
      "execution_count": 4,
      "metadata": {
        "id": "CHNY6qiXx4o0"
      },
      "outputs": [],
      "source": [
        "X_train, X_test, y_train, y_test = train_test_split(df_fe.drop(columns = ['Machine failure']),\n",
        "                                                    df_fe['Machine failure'],\n",
        "                                                    test_size=0.33,\n",
        "                                                    random_state=42,\n",
        "                                                    stratify = df['Machine failure'])\n",
        "\n",
        "train_pool = Pool(data=X_train, label=y_train)"
      ]
    },
    {
      "cell_type": "code",
      "execution_count": 5,
      "metadata": {
        "colab": {
          "base_uri": "https://localhost:8080/"
        },
        "id": "dSFx311OyNk3",
        "outputId": "8d8c4f4d-e45f-4018-f906-f51cc877d721"
      },
      "outputs": [
        {
          "data": {
            "text/plain": [
              "{'auc_score': 0.9003741709983868, 'f1_score': 0.9241142395957508}"
            ]
          },
          "execution_count": 5,
          "metadata": {},
          "output_type": "execute_result"
        }
      ],
      "source": [
        "CatBoost.fit(train_pool)\n",
        "\n",
        "feature_importance = pd.DataFrame({'feature_importance': CatBoost.get_feature_importance(train_pool), \n",
        "              'feature_names': X_test.columns}).sort_values(by=['feature_importance'], \n",
        "                                                       ascending=False)\n",
        "              \n",
        "check_result(CatBoost, X_test, y_test )"
      ]
    },
    {
      "cell_type": "code",
      "execution_count": 6,
      "metadata": {},
      "outputs": [],
      "source": [
        "feature_importance.to_csv('../data/feature_imporstance_WS.csv', index = False)"
      ]
    },
    {
      "attachments": {},
      "cell_type": "markdown",
      "metadata": {
        "id": "jiFj8emU5DVG"
      },
      "source": [
        "### Find best amount of features"
      ]
    },
    {
      "cell_type": "code",
      "execution_count": 7,
      "metadata": {
        "colab": {
          "base_uri": "https://localhost:8080/"
        },
        "id": "28pFLr4U5RWV",
        "outputId": "e89605b6-a90d-4c80-eaee-955792ec0de2"
      },
      "outputs": [
        {
          "name": "stderr",
          "output_type": "stream",
          "text": [
            "  0%|          | 0/25 [00:00<?, ?it/s]"
          ]
        },
        {
          "name": "stdout",
          "output_type": "stream",
          "text": [
            "F1_score - 0.6734304006608839, num_features - 0, AUC_score = 0.6151303997132103\n"
          ]
        },
        {
          "name": "stderr",
          "output_type": "stream",
          "text": [
            "  4%|▍         | 1/25 [00:03<01:17,  3.21s/it]"
          ]
        },
        {
          "name": "stdout",
          "output_type": "stream",
          "text": [
            "F1_score - 0.7779974810761374, num_features - 1, AUC_score = 0.7291629324251659\n"
          ]
        },
        {
          "name": "stderr",
          "output_type": "stream",
          "text": [
            "  8%|▊         | 2/25 [00:06<01:16,  3.34s/it]"
          ]
        },
        {
          "name": "stdout",
          "output_type": "stream",
          "text": [
            "F1_score - 0.9065504135926671, num_features - 6, AUC_score = 0.8820465137121347\n"
          ]
        },
        {
          "name": "stderr",
          "output_type": "stream",
          "text": [
            " 12%|█▏        | 3/25 [00:11<01:20,  3.64s/it]"
          ]
        },
        {
          "name": "stdout",
          "output_type": "stream",
          "text": [
            "F1_score - 0.9036473988915333, num_features - 11, AUC_score = 0.8775822279978491\n"
          ]
        },
        {
          "name": "stderr",
          "output_type": "stream",
          "text": [
            " 16%|█▌        | 4/25 [00:17<01:31,  4.35s/it]"
          ]
        },
        {
          "name": "stdout",
          "output_type": "stream",
          "text": [
            "F1_score - 0.8996349620459928, num_features - 11, AUC_score = 0.8772685517117763\n"
          ]
        },
        {
          "name": "stderr",
          "output_type": "stream",
          "text": [
            " 20%|██        | 5/25 [00:23<01:37,  4.88s/it]"
          ]
        },
        {
          "name": "stdout",
          "output_type": "stream",
          "text": [
            "F1_score - 0.9045308175559443, num_features - 11, AUC_score = 0.8818896755690984\n"
          ]
        },
        {
          "name": "stderr",
          "output_type": "stream",
          "text": [
            " 24%|██▍       | 6/25 [00:29<01:42,  5.37s/it]"
          ]
        },
        {
          "name": "stdout",
          "output_type": "stream",
          "text": [
            "F1_score - 0.9290100951057022, num_features - 11, AUC_score = 0.9049952948557088\n"
          ]
        },
        {
          "name": "stderr",
          "output_type": "stream",
          "text": [
            " 28%|██▊       | 7/25 [00:37<01:46,  5.92s/it]"
          ]
        },
        {
          "name": "stdout",
          "output_type": "stream",
          "text": [
            "F1_score - 0.9345060499209441, num_features - 31, AUC_score = 0.9139238662842804\n"
          ]
        },
        {
          "name": "stderr",
          "output_type": "stream",
          "text": [
            " 32%|███▏      | 8/25 [00:44<01:47,  6.35s/it]"
          ]
        },
        {
          "name": "stdout",
          "output_type": "stream",
          "text": [
            "F1_score - 0.9345060499209441, num_features - 36, AUC_score = 0.9139238662842804\n"
          ]
        },
        {
          "name": "stderr",
          "output_type": "stream",
          "text": [
            " 36%|███▌      | 9/25 [00:52<01:51,  6.94s/it]"
          ]
        },
        {
          "name": "stdout",
          "output_type": "stream",
          "text": [
            "F1_score - 0.9345060499209441, num_features - 36, AUC_score = 0.9139238662842804\n"
          ]
        },
        {
          "name": "stderr",
          "output_type": "stream",
          "text": [
            " 40%|████      | 10/25 [01:01<01:52,  7.50s/it]"
          ]
        },
        {
          "name": "stdout",
          "output_type": "stream",
          "text": [
            "F1_score - 0.931770654883567, num_features - 36, AUC_score = 0.9094595805699947\n"
          ]
        },
        {
          "name": "stderr",
          "output_type": "stream",
          "text": [
            " 44%|████▍     | 11/25 [01:10<01:51,  7.97s/it]"
          ]
        },
        {
          "name": "stdout",
          "output_type": "stream",
          "text": [
            "F1_score - 0.926224010731053, num_features - 36, AUC_score = 0.9005310091414231\n"
          ]
        },
        {
          "name": "stderr",
          "output_type": "stream",
          "text": [
            " 48%|████▊     | 12/25 [01:20<01:49,  8.42s/it]"
          ]
        },
        {
          "name": "stdout",
          "output_type": "stream",
          "text": [
            "F1_score - 0.9345060499209441, num_features - 36, AUC_score = 0.9139238662842804\n"
          ]
        },
        {
          "name": "stderr",
          "output_type": "stream",
          "text": [
            " 52%|█████▏    | 13/25 [01:30<01:47,  9.00s/it]"
          ]
        },
        {
          "name": "stdout",
          "output_type": "stream",
          "text": [
            "F1_score - 0.9345060499209441, num_features - 36, AUC_score = 0.9139238662842804\n"
          ]
        },
        {
          "name": "stderr",
          "output_type": "stream",
          "text": [
            " 56%|█████▌    | 14/25 [01:41<01:45,  9.56s/it]"
          ]
        },
        {
          "name": "stdout",
          "output_type": "stream",
          "text": [
            "F1_score - 0.9290100951057022, num_features - 36, AUC_score = 0.9049952948557088\n"
          ]
        },
        {
          "name": "stderr",
          "output_type": "stream",
          "text": [
            " 60%|██████    | 15/25 [01:51<01:38,  9.86s/it]"
          ]
        },
        {
          "name": "stdout",
          "output_type": "stream",
          "text": [
            "F1_score - 0.931770654883567, num_features - 36, AUC_score = 0.9094595805699947\n"
          ]
        },
        {
          "name": "stderr",
          "output_type": "stream",
          "text": [
            " 64%|██████▍   | 16/25 [02:05<01:38, 10.94s/it]"
          ]
        },
        {
          "name": "stdout",
          "output_type": "stream",
          "text": [
            "F1_score - 0.9296546462113844, num_features - 36, AUC_score = 0.9093027424269583\n"
          ]
        },
        {
          "name": "stderr",
          "output_type": "stream",
          "text": [
            " 68%|██████▊   | 17/25 [02:17<01:29, 11.23s/it]"
          ]
        },
        {
          "name": "stdout",
          "output_type": "stream",
          "text": [
            "F1_score - 0.9345060499209441, num_features - 36, AUC_score = 0.9139238662842804\n"
          ]
        },
        {
          "name": "stderr",
          "output_type": "stream",
          "text": [
            " 72%|███████▏  | 18/25 [02:29<01:20, 11.56s/it]"
          ]
        },
        {
          "name": "stdout",
          "output_type": "stream",
          "text": [
            "F1_score - 0.931770654883567, num_features - 36, AUC_score = 0.9094595805699947\n"
          ]
        },
        {
          "name": "stderr",
          "output_type": "stream",
          "text": [
            " 76%|███████▌  | 19/25 [02:42<01:11, 11.86s/it]"
          ]
        },
        {
          "name": "stdout",
          "output_type": "stream",
          "text": [
            "F1_score - 0.931770654883567, num_features - 36, AUC_score = 0.9094595805699947\n"
          ]
        },
        {
          "name": "stderr",
          "output_type": "stream",
          "text": [
            " 80%|████████  | 20/25 [02:54<01:00, 12.15s/it]"
          ]
        },
        {
          "name": "stdout",
          "output_type": "stream",
          "text": [
            "F1_score - 0.9345060499209441, num_features - 36, AUC_score = 0.9139238662842804\n"
          ]
        },
        {
          "name": "stderr",
          "output_type": "stream",
          "text": [
            " 84%|████████▍ | 21/25 [03:09<00:51, 12.80s/it]"
          ]
        },
        {
          "name": "stdout",
          "output_type": "stream",
          "text": [
            "F1_score - 0.9268971302323933, num_features - 36, AUC_score = 0.9048384567126725\n"
          ]
        },
        {
          "name": "stderr",
          "output_type": "stream",
          "text": [
            " 88%|████████▊ | 22/25 [03:23<00:40, 13.36s/it]"
          ]
        },
        {
          "name": "stdout",
          "output_type": "stream",
          "text": [
            "F1_score - 0.9323871436056093, num_features - 36, AUC_score = 0.913767028141244\n"
          ]
        },
        {
          "name": "stderr",
          "output_type": "stream",
          "text": [
            " 92%|█████████▏| 23/25 [03:38<00:27, 13.68s/it]"
          ]
        },
        {
          "name": "stdout",
          "output_type": "stream",
          "text": [
            "F1_score - 0.9329922027290448, num_features - 36, AUC_score = 0.9180744757124933\n"
          ]
        },
        {
          "name": "stderr",
          "output_type": "stream",
          "text": [
            " 96%|█████████▌| 24/25 [03:54<00:14, 14.31s/it]"
          ]
        },
        {
          "name": "stdout",
          "output_type": "stream",
          "text": [
            "F1_score - 0.9296546462113844, num_features - 36, AUC_score = 0.9093027424269583\n"
          ]
        },
        {
          "name": "stderr",
          "output_type": "stream",
          "text": [
            "100%|██████████| 25/25 [04:09<00:00, 14.68s/it]\n"
          ]
        },
        {
          "name": "stdout",
          "output_type": "stream",
          "text": [
            "Best F1_score - 0.9345060499209441, num_features - 36\n"
          ]
        }
      ],
      "source": [
        "search_num_features(df_fe,feature_importance, step = 5)"
      ]
    },
    {
      "attachments": {},
      "cell_type": "markdown",
      "metadata": {
        "id": "4v0YqZp9y0XF"
      },
      "source": [
        "## Test data with upsampling"
      ]
    },
    {
      "attachments": {},
      "cell_type": "markdown",
      "metadata": {
        "id": "zXHfeSsU5nfY"
      },
      "source": [
        "### Find feature importance"
      ]
    },
    {
      "cell_type": "code",
      "execution_count": 8,
      "metadata": {
        "id": "jTYyFhXH8PIu"
      },
      "outputs": [],
      "source": [
        "CatBoost = CatBoostClassifier(verbose=False,random_seed=42)"
      ]
    },
    {
      "cell_type": "code",
      "execution_count": 9,
      "metadata": {
        "id": "qWX9VIqC8Rb5"
      },
      "outputs": [],
      "source": [
        "X_train, X_test, y_train, y_test = train_test_split(df_fe.drop(columns = ['Machine failure']),\n",
        "                                                    df_fe['Machine failure'],\n",
        "                                                    test_size=0.33,\n",
        "                                                    random_state=42,\n",
        "                                                    stratify = df['Machine failure'])\n",
        "X_train, y_train = upsampling(1,X_train, y_train)\n",
        "\n",
        "train_pool = Pool(data=X_train, label=y_train)"
      ]
    },
    {
      "cell_type": "code",
      "execution_count": 10,
      "metadata": {
        "id": "lYY2bqNe8Tf4"
      },
      "outputs": [
        {
          "data": {
            "text/plain": [
              "{'auc_score': 0.9225387614267789, 'f1_score': 0.9356730254831562}"
            ]
          },
          "execution_count": 10,
          "metadata": {},
          "output_type": "execute_result"
        }
      ],
      "source": [
        "CatBoost.fit(train_pool)\n",
        "\n",
        "feature_importance = pd.DataFrame({'feature_importance': CatBoost.get_feature_importance(train_pool), \n",
        "              'feature_names': X_test.columns}).sort_values(by=['feature_importance'], \n",
        "                                                       ascending=False)\n",
        "              \n",
        "check_result(CatBoost, X_test, y_test)"
      ]
    },
    {
      "cell_type": "code",
      "execution_count": 11,
      "metadata": {},
      "outputs": [],
      "source": [
        "feature_importance.to_csv('../data/feature_imporstance.csv',index = False)"
      ]
    },
    {
      "attachments": {},
      "cell_type": "markdown",
      "metadata": {
        "id": "855aUKja5xFF"
      },
      "source": [
        "### Find best amount of features"
      ]
    },
    {
      "cell_type": "code",
      "execution_count": 12,
      "metadata": {
        "colab": {
          "base_uri": "https://localhost:8080/"
        },
        "id": "vaIk5NsN8X16",
        "outputId": "26b0d880-74c6-49e3-9022-d7250a9e5f86"
      },
      "outputs": [
        {
          "name": "stderr",
          "output_type": "stream",
          "text": [
            "  0%|          | 0/25 [00:00<?, ?it/s]"
          ]
        },
        {
          "name": "stdout",
          "output_type": "stream",
          "text": [
            "F1_score - 0.5030190363209421, num_features - 0, AUC_score = 0.7000358487184083\n"
          ]
        },
        {
          "name": "stderr",
          "output_type": "stream",
          "text": [
            "  4%|▍         | 1/25 [00:08<03:32,  8.86s/it]"
          ]
        },
        {
          "name": "stdout",
          "output_type": "stream",
          "text": [
            "F1_score - 0.8971506553910363, num_features - 1, AUC_score = 0.9194019985660513\n"
          ]
        },
        {
          "name": "stderr",
          "output_type": "stream",
          "text": [
            "  8%|▊         | 2/25 [00:18<03:25,  8.95s/it]"
          ]
        },
        {
          "name": "stdout",
          "output_type": "stream",
          "text": [
            "F1_score - 0.9133894516722362, num_features - 6, AUC_score = 0.9080480372826671\n"
          ]
        },
        {
          "name": "stderr",
          "output_type": "stream",
          "text": [
            " 12%|█▏        | 3/25 [00:28<03:24,  9.30s/it]"
          ]
        },
        {
          "name": "stdout",
          "output_type": "stream",
          "text": [
            "F1_score - 0.9187804265750446, num_features - 11, AUC_score = 0.9169766087112386\n"
          ]
        },
        {
          "name": "stderr",
          "output_type": "stream",
          "text": [
            " 16%|█▌        | 4/25 [00:39<03:28,  9.93s/it]"
          ]
        },
        {
          "name": "stdout",
          "output_type": "stream",
          "text": [
            "F1_score - 0.9173488073540239, num_features - 16, AUC_score = 0.90836171356874\n"
          ]
        },
        {
          "name": "stderr",
          "output_type": "stream",
          "text": [
            " 20%|██        | 5/25 [00:50<03:26, 10.32s/it]"
          ]
        },
        {
          "name": "stdout",
          "output_type": "stream",
          "text": [
            "F1_score - 0.9173488073540239, num_features - 16, AUC_score = 0.90836171356874\n"
          ]
        },
        {
          "name": "stderr",
          "output_type": "stream",
          "text": [
            " 24%|██▍       | 6/25 [01:03<03:27, 10.93s/it]"
          ]
        },
        {
          "name": "stdout",
          "output_type": "stream",
          "text": [
            "F1_score - 0.9268971302323933, num_features - 16, AUC_score = 0.9048384567126725\n"
          ]
        },
        {
          "name": "stderr",
          "output_type": "stream",
          "text": [
            " 28%|██▊       | 7/25 [01:15<03:24, 11.36s/it]"
          ]
        },
        {
          "name": "stdout",
          "output_type": "stream",
          "text": [
            "F1_score - 0.9267946579421356, num_features - 31, AUC_score = 0.9176039612833842\n"
          ]
        },
        {
          "name": "stderr",
          "output_type": "stream",
          "text": [
            " 32%|███▏      | 8/25 [01:29<03:24, 12.01s/it]"
          ]
        },
        {
          "name": "stdout",
          "output_type": "stream",
          "text": [
            "F1_score - 0.9329922027290448, num_features - 31, AUC_score = 0.9180744757124933\n"
          ]
        },
        {
          "name": "stderr",
          "output_type": "stream",
          "text": [
            " 36%|███▌      | 9/25 [01:42<03:20, 12.55s/it]"
          ]
        },
        {
          "name": "stdout",
          "output_type": "stream",
          "text": [
            "F1_score - 0.9247648902821317, num_features - 41, AUC_score = 0.9174471231403479\n"
          ]
        },
        {
          "name": "stderr",
          "output_type": "stream",
          "text": [
            " 40%|████      | 10/25 [01:56<03:15, 13.00s/it]"
          ]
        },
        {
          "name": "stdout",
          "output_type": "stream",
          "text": [
            "F1_score - 0.9267946579421356, num_features - 41, AUC_score = 0.9176039612833842\n"
          ]
        },
        {
          "name": "stderr",
          "output_type": "stream",
          "text": [
            " 44%|████▍     | 11/25 [02:11<03:08, 13.48s/it]"
          ]
        },
        {
          "name": "stdout",
          "output_type": "stream",
          "text": [
            "F1_score - 0.9315175832361914, num_features - 41, AUC_score = 0.9222250851407061\n"
          ]
        },
        {
          "name": "stderr",
          "output_type": "stream",
          "text": [
            " 48%|████▊     | 12/25 [02:26<03:01, 13.93s/it]"
          ]
        },
        {
          "name": "stdout",
          "output_type": "stream",
          "text": [
            "F1_score - 0.9288423001618658, num_features - 41, AUC_score = 0.9177607994264206\n"
          ]
        },
        {
          "name": "stderr",
          "output_type": "stream",
          "text": [
            " 52%|█████▏    | 13/25 [02:42<02:53, 14.47s/it]"
          ]
        },
        {
          "name": "stdout",
          "output_type": "stream",
          "text": [
            "F1_score - 0.9335861468177414, num_features - 41, AUC_score = 0.9223819232837426\n"
          ]
        },
        {
          "name": "stderr",
          "output_type": "stream",
          "text": [
            " 56%|█████▌    | 14/25 [02:59<02:50, 15.47s/it]"
          ]
        },
        {
          "name": "stdout",
          "output_type": "stream",
          "text": [
            "F1_score - 0.9335861468177414, num_features - 66, AUC_score = 0.9223819232837426\n"
          ]
        },
        {
          "name": "stderr",
          "output_type": "stream",
          "text": [
            " 60%|██████    | 15/25 [03:17<02:41, 16.15s/it]"
          ]
        },
        {
          "name": "stdout",
          "output_type": "stream",
          "text": [
            "F1_score - 0.9356730254831562, num_features - 66, AUC_score = 0.9225387614267789\n"
          ]
        },
        {
          "name": "stderr",
          "output_type": "stream",
          "text": [
            " 64%|██████▍   | 16/25 [03:38<02:36, 17.43s/it]"
          ]
        },
        {
          "name": "stdout",
          "output_type": "stream",
          "text": [
            "F1_score - 0.9275576538631527, num_features - 76, AUC_score = 0.9091459042839218\n"
          ]
        },
        {
          "name": "stderr",
          "output_type": "stream",
          "text": [
            " 68%|██████▊   | 17/25 [03:59<02:28, 18.53s/it]"
          ]
        },
        {
          "name": "stdout",
          "output_type": "stream",
          "text": [
            "F1_score - 0.9315175832361914, num_features - 76, AUC_score = 0.9222250851407061\n"
          ]
        },
        {
          "name": "stderr",
          "output_type": "stream",
          "text": [
            " 72%|███████▏  | 18/25 [04:18<02:10, 18.63s/it]"
          ]
        },
        {
          "name": "stdout",
          "output_type": "stream",
          "text": [
            "F1_score - 0.9377784739626844, num_features - 76, AUC_score = 0.9226955995698154\n"
          ]
        },
        {
          "name": "stderr",
          "output_type": "stream",
          "text": [
            " 76%|███████▌  | 19/25 [04:38<01:54, 19.10s/it]"
          ]
        },
        {
          "name": "stdout",
          "output_type": "stream",
          "text": [
            "F1_score - 0.9356730254831562, num_features - 91, AUC_score = 0.9225387614267789\n"
          ]
        },
        {
          "name": "stderr",
          "output_type": "stream",
          "text": [
            " 80%|████████  | 20/25 [05:00<01:40, 20.17s/it]"
          ]
        },
        {
          "name": "stdout",
          "output_type": "stream",
          "text": [
            "F1_score - 0.9309080644078345, num_features - 91, AUC_score = 0.9179176375694569\n"
          ]
        },
        {
          "name": "stderr",
          "output_type": "stream",
          "text": [
            " 84%|████████▍ | 21/25 [05:23<01:23, 20.89s/it]"
          ]
        },
        {
          "name": "stdout",
          "output_type": "stream",
          "text": [
            "F1_score - 0.935094971863561, num_features - 91, AUC_score = 0.9182313138555297\n"
          ]
        },
        {
          "name": "stderr",
          "output_type": "stream",
          "text": [
            " 88%|████████▊ | 22/25 [05:45<01:03, 21.22s/it]"
          ]
        },
        {
          "name": "stdout",
          "output_type": "stream",
          "text": [
            "F1_score - 0.9399027517255195, num_features - 91, AUC_score = 0.9228524377128516\n"
          ]
        },
        {
          "name": "stderr",
          "output_type": "stream",
          "text": [
            " 92%|█████████▏| 23/25 [06:06<00:42, 21.24s/it]"
          ]
        },
        {
          "name": "stdout",
          "output_type": "stream",
          "text": [
            "F1_score - 0.9366441795347409, num_features - 111, AUC_score = 0.9140807044273167\n"
          ]
        },
        {
          "name": "stderr",
          "output_type": "stream",
          "text": [
            " 96%|█████████▌| 24/25 [06:29<00:21, 21.69s/it]"
          ]
        },
        {
          "name": "stdout",
          "output_type": "stream",
          "text": [
            "F1_score - 0.9399027517255195, num_features - 111, AUC_score = 0.9228524377128516\n"
          ]
        },
        {
          "name": "stderr",
          "output_type": "stream",
          "text": [
            "100%|██████████| 25/25 [06:48<00:00, 20.87s/it]\n"
          ]
        },
        {
          "name": "stdout",
          "output_type": "stream",
          "text": [
            "Best F1_score - 0.9399027517255195, num_features - 111\n"
          ]
        }
      ],
      "source": [
        "search_num_features(df_fe, feature_importance, upsamp_func = True, step = 5)"
      ]
    }
  ],
  "metadata": {
    "colab": {
      "collapsed_sections": [
        "bMFJW-MU1qai",
        "KJKenEct1-sQ",
        "vEj6gPGduhoF",
        "x9jA4PkX34X4",
        "wIV5r99qbJuc",
        "zXHfeSsU5nfY"
      ],
      "provenance": []
    },
    "kernelspec": {
      "display_name": "Python 3",
      "name": "python3"
    },
    "language_info": {
      "codemirror_mode": {
        "name": "ipython",
        "version": 3
      },
      "file_extension": ".py",
      "mimetype": "text/x-python",
      "name": "python",
      "nbconvert_exporter": "python",
      "pygments_lexer": "ipython3",
      "version": "3.10.4"
    }
  },
  "nbformat": 4,
  "nbformat_minor": 0
}
