{
 "cells": [
  {
   "cell_type": "code",
   "execution_count": 1,
   "metadata": {},
   "outputs": [],
   "source": [
    "import os\n",
    "import sys\n",
    "sys.path.append(os.path.abspath(os.path.join(os.path.dirname('src'), '..')))\n",
    "\n",
    "import pandas as pd\n",
    "from sklearn.model_selection import train_test_split\n",
    "import wandb\n",
    "\n",
    "import torch\n",
    "import torch.nn as nn\n",
    "from torch.utils.data import DataLoader\n",
    "import torch.optim.lr_scheduler as lr\n",
    "from src.models.classifiers import *\n",
    "from src.models.gev_nn import *\n",
    "from src.models.autoencoders import *\n",
    "from src.trainer.trainer import TrainerClassifier, Model_class\n",
    "\n",
    "random_seed = 42\n",
    "np.random.seed(random_seed)\n",
    "\n",
    "\n",
    "torch.backends.cudnn.deterministic = True\n",
    "\n",
    "from functools import partial\n",
    "\n",
    "device = torch.device('cuda' if torch.cuda.is_available() else 'cpu')"
   ]
  },
  {
   "cell_type": "code",
   "execution_count": 2,
   "metadata": {},
   "outputs": [
    {
     "data": {
      "text/plain": [
       "array([83, 53, 70, 45, 44, 39, 22, 80, 10,  0])"
      ]
     },
     "execution_count": 2,
     "metadata": {},
     "output_type": "execute_result"
    }
   ],
   "source": [
    "seeds = np.random.choice(100, 10, replace=False)\n",
    "seeds"
   ]
  },
  {
   "cell_type": "code",
   "execution_count": 5,
   "metadata": {},
   "outputs": [
    {
     "name": "stderr",
     "output_type": "stream",
     "text": [
      "/Users/fomindmitry/Google Диск/Github/Internship_project/src/models/gev_nn.py:47: UserWarning: Dimentions for input of main_classifier is changed because of mismatch\n",
      "  warnings.warn(\"Dimentions for input of main_classifier is changed because of mismatch\")\n",
      "Failed to detect the name of this notebook, you can set it manually with the WANDB_NOTEBOOK_NAME environment variable to enable code saving.\n",
      "\u001b[34m\u001b[1mwandb\u001b[0m: Currently logged in as: \u001b[33mdmitrii_fomin\u001b[0m (\u001b[33mdmitrii_fomin_uga\u001b[0m). Use \u001b[1m`wandb login --relogin`\u001b[0m to force relogin\n"
     ]
    },
    {
     "data": {
      "text/html": [
       "wandb version 0.15.8 is available!  To upgrade, please run:\n",
       " $ pip install wandb --upgrade"
      ],
      "text/plain": [
       "<IPython.core.display.HTML object>"
      ]
     },
     "metadata": {},
     "output_type": "display_data"
    },
    {
     "data": {
      "text/html": [
       "Tracking run with wandb version 0.13.6"
      ],
      "text/plain": [
       "<IPython.core.display.HTML object>"
      ]
     },
     "metadata": {},
     "output_type": "display_data"
    },
    {
     "data": {
      "text/html": [
       "Run data is saved locally in <code>../logs/wandb/run-20230810_020420-2r2pla0k</code>"
      ],
      "text/plain": [
       "<IPython.core.display.HTML object>"
      ]
     },
     "metadata": {},
     "output_type": "display_data"
    },
    {
     "data": {
      "text/html": [
       "Syncing run <strong><a href=\"https://wandb.ai/dmitrii_fomin_uga/Internship_project/runs/2r2pla0k\" target=\"_blank\">GEV_NN_128_2048</a></strong> to <a href=\"https://wandb.ai/dmitrii_fomin_uga/Internship_project\" target=\"_blank\">Weights & Biases</a> (<a href=\"https://wandb.me/run\" target=\"_blank\">docs</a>)<br/>"
      ],
      "text/plain": [
       "<IPython.core.display.HTML object>"
      ]
     },
     "metadata": {},
     "output_type": "display_data"
    },
    {
     "data": {
      "text/html": [
       "Waiting for W&B process to finish... <strong style=\"color:green\">(success).</strong>"
      ],
      "text/plain": [
       "<IPython.core.display.HTML object>"
      ]
     },
     "metadata": {},
     "output_type": "display_data"
    },
    {
     "data": {
      "application/vnd.jupyter.widget-view+json": {
       "model_id": "097f85a0c6964a949b81a9528cc5354c",
       "version_major": 2,
       "version_minor": 0
      },
      "text/plain": [
       "VBox(children=(Label(value='0.001 MB of 0.018 MB uploaded (0.000 MB deduped)\\r'), FloatProgress(value=0.060034…"
      ]
     },
     "metadata": {},
     "output_type": "display_data"
    },
    {
     "data": {
      "text/html": [
       "<style>\n",
       "    table.wandb td:nth-child(1) { padding: 0 10px; text-align: left ; width: auto;} td:nth-child(2) {text-align: left ; width: 100%}\n",
       "    .wandb-row { display: flex; flex-direction: row; flex-wrap: wrap; justify-content: flex-start; width: 100% }\n",
       "    .wandb-col { display: flex; flex-direction: column; flex-basis: 100%; flex: 1; padding: 10px; }\n",
       "    </style>\n",
       "<div class=\"wandb-row\"><div class=\"wandb-col\"><h3>Run history:</h3><br/><table class=\"wandb\"><tr><td>epoch</td><td>▁▁▁▂▂▂▂▂▂▃▃▃▃▃▄▄▄▄▄▄▅▅▅▅▅▅▆▆▆▆▆▇▇▇▇▇▇███</td></tr><tr><td>lr</td><td>██▇▇▆▆▆▆▅▅▅▅▄▄▄▄▃▃▃▃▃▃▃▂▂▂▂▂▂▂▂▂▁▁▁▁▁▁▁▁</td></tr><tr><td>test_accuracy</td><td>▅▅▆▅▆▆▇▆▇▅▅▆▆▇▇▅▆▇▇███▆▇▇▇████▇█▆▇█▇▁▆▇▆</td></tr><tr><td>test_auc_score</td><td>▁▁▁▅▅▆▇▇▇█▇▇█▆█▇█▇▇████▇▇▇▇▇▆█▆▇▇▇▆▇▇▇▆▇</td></tr><tr><td>test_f1_score</td><td>▁▁▂▂▃▄▅▆▇▅▅▆▆▇█▅▇▇▇█▇█▆▇▇▇▇███▇█▆▇██▂▆█▆</td></tr><tr><td>test_f2_score</td><td>▃▄▄▄▅▅▆▆▇▅▅▆▆▇▇▅▇▇▇███▆▇▇▇▇███▇█▆▇█▇▁▆▇▆</td></tr><tr><td>test_fpr</td><td>▁▁▁▁▁▁▂▃▃▄▄▄▃▃▃▄▄▃▃▂▂▂▄▃▃▃▂▂▃▃▃▃▄▃▃▃█▅▃▄</td></tr><tr><td>test_loss</td><td>█▆▃▂▁▁▁▁▁▁▂▁▁▁▁▂▁▁▁▁▁▁▁▁▁▁▂▁▁▂▂▁▃▂▂▂▄▃▂▃</td></tr><tr><td>test_tpr</td><td>▁▁▁▁▂▃▄▅▇▆▇▆▆▆▇▆▇▆▇▆▆▇▇▆▇▆▆▆▇▇▆▇▇▇▇█████</td></tr><tr><td>train_accuracy</td><td>▁▆▆▆▆▆▆▆▆▆▇▇▇▇▇▇▇▇▇▇▇█▇▇█▇██████████████</td></tr><tr><td>train_auc_score</td><td>▁▅▅▆▆▇▇▇▇▇▇▇▇███████████████████████████</td></tr><tr><td>train_f1_score</td><td>▁▄▅▅▅▅▅▆▆▆▆▆▆▇▆▇▇▇▇▇▇▇▇▇▇▇█▇████████████</td></tr><tr><td>train_f2_score</td><td>▁▅▆▆▆▆▆▆▆▆▇▆▇▇▇▇▇▇▇▇▇▇▇▇▇▇██████████████</td></tr><tr><td>train_fpr</td><td>█▁▁▁▁▁▂▁▁▁▁▁▂▁▁▂▂▁▁▁▁▁▁▂▁▁▁▁▁▁▁▁▁▁▁▁▁▁▁▁</td></tr><tr><td>train_loss</td><td>█▄▃▃▂▂▂▂▂▂▂▂▁▁▁▁▁▁▁▁▁▁▁▁▁▁▁▁▁▁▁▁▁▁▁▁▁▁▁▁</td></tr><tr><td>train_tpr</td><td>▂▁▂▁▁▂▃▃▃▄▄▄▅▅▅▆▆▅▆▆▇▆▇▇▆▆▇▇▇▇▇▇███▇████</td></tr></table><br/></div><div class=\"wandb-col\"><h3>Run summary:</h3><br/><table class=\"wandb\"><tr><td>epoch</td><td>39</td></tr><tr><td>lr</td><td>0.00129</td></tr><tr><td>test_accuracy</td><td>0.96781</td></tr><tr><td>test_auc_score</td><td>0.94265</td></tr><tr><td>test_f1_score</td><td>0.97062</td></tr><tr><td>test_f2_score</td><td>0.96867</td></tr><tr><td>test_fpr</td><td>0.02495</td></tr><tr><td>test_loss</td><td>1.14575</td></tr><tr><td>test_tpr</td><td>0.77549</td></tr><tr><td>train_accuracy</td><td>0.99432</td></tr><tr><td>train_auc_score</td><td>0.99043</td></tr><tr><td>train_f1_score</td><td>0.99414</td></tr><tr><td>train_f2_score</td><td>0.99422</td></tr><tr><td>train_fpr</td><td>0.00116</td></tr><tr><td>train_loss</td><td>0.3762</td></tr><tr><td>train_tpr</td><td>0.86507</td></tr></table><br/></div></div>"
      ],
      "text/plain": [
       "<IPython.core.display.HTML object>"
      ]
     },
     "metadata": {},
     "output_type": "display_data"
    },
    {
     "data": {
      "text/html": [
       "Synced <strong style=\"color:#cdcd00\">GEV_NN_128_2048</strong>: <a href=\"https://wandb.ai/dmitrii_fomin_uga/Internship_project/runs/2r2pla0k\" target=\"_blank\">https://wandb.ai/dmitrii_fomin_uga/Internship_project/runs/2r2pla0k</a><br/>Synced 5 W&B file(s), 0 media file(s), 0 artifact file(s) and 0 other file(s)"
      ],
      "text/plain": [
       "<IPython.core.display.HTML object>"
      ]
     },
     "metadata": {},
     "output_type": "display_data"
    },
    {
     "data": {
      "text/html": [
       "Find logs at: <code>../logs/wandb/run-20230810_020420-2r2pla0k/logs</code>"
      ],
      "text/plain": [
       "<IPython.core.display.HTML object>"
      ]
     },
     "metadata": {},
     "output_type": "display_data"
    },
    {
     "name": "stderr",
     "output_type": "stream",
     "text": [
      "/Users/fomindmitry/Google Диск/Github/Internship_project/src/models/gev_nn.py:47: UserWarning: Dimentions for input of main_classifier is changed because of mismatch\n",
      "  warnings.warn(\"Dimentions for input of main_classifier is changed because of mismatch\")\n"
     ]
    },
    {
     "data": {
      "application/vnd.jupyter.widget-view+json": {
       "model_id": "bf87738510e549788b2eebf89f704093",
       "version_major": 2,
       "version_minor": 0
      },
      "text/plain": [
       "VBox(children=(Label(value='Waiting for wandb.init()...\\r'), FloatProgress(value=0.016673349766666946, max=1.0…"
      ]
     },
     "metadata": {},
     "output_type": "display_data"
    },
    {
     "data": {
      "text/html": [
       "wandb version 0.15.8 is available!  To upgrade, please run:\n",
       " $ pip install wandb --upgrade"
      ],
      "text/plain": [
       "<IPython.core.display.HTML object>"
      ]
     },
     "metadata": {},
     "output_type": "display_data"
    },
    {
     "data": {
      "text/html": [
       "Tracking run with wandb version 0.13.6"
      ],
      "text/plain": [
       "<IPython.core.display.HTML object>"
      ]
     },
     "metadata": {},
     "output_type": "display_data"
    },
    {
     "data": {
      "text/html": [
       "Run data is saved locally in <code>../logs/wandb/run-20230810_020448-3gl5lacz</code>"
      ],
      "text/plain": [
       "<IPython.core.display.HTML object>"
      ]
     },
     "metadata": {},
     "output_type": "display_data"
    },
    {
     "data": {
      "text/html": [
       "Syncing run <strong><a href=\"https://wandb.ai/dmitrii_fomin_uga/Internship_project/runs/3gl5lacz\" target=\"_blank\">GEV_NN_128_2048</a></strong> to <a href=\"https://wandb.ai/dmitrii_fomin_uga/Internship_project\" target=\"_blank\">Weights & Biases</a> (<a href=\"https://wandb.me/run\" target=\"_blank\">docs</a>)<br/>"
      ],
      "text/plain": [
       "<IPython.core.display.HTML object>"
      ]
     },
     "metadata": {},
     "output_type": "display_data"
    },
    {
     "data": {
      "text/html": [
       "Waiting for W&B process to finish... <strong style=\"color:green\">(success).</strong>"
      ],
      "text/plain": [
       "<IPython.core.display.HTML object>"
      ]
     },
     "metadata": {},
     "output_type": "display_data"
    },
    {
     "data": {
      "application/vnd.jupyter.widget-view+json": {
       "model_id": "160018a5f5dd41afb3b6e26c5c95744d",
       "version_major": 2,
       "version_minor": 0
      },
      "text/plain": [
       "VBox(children=(Label(value='0.001 MB of 0.018 MB uploaded (0.000 MB deduped)\\r'), FloatProgress(value=0.060034…"
      ]
     },
     "metadata": {},
     "output_type": "display_data"
    },
    {
     "data": {
      "text/html": [
       "<style>\n",
       "    table.wandb td:nth-child(1) { padding: 0 10px; text-align: left ; width: auto;} td:nth-child(2) {text-align: left ; width: 100%}\n",
       "    .wandb-row { display: flex; flex-direction: row; flex-wrap: wrap; justify-content: flex-start; width: 100% }\n",
       "    .wandb-col { display: flex; flex-direction: column; flex-basis: 100%; flex: 1; padding: 10px; }\n",
       "    </style>\n",
       "<div class=\"wandb-row\"><div class=\"wandb-col\"><h3>Run history:</h3><br/><table class=\"wandb\"><tr><td>epoch</td><td>▁▁▁▂▂▂▂▂▂▃▃▃▃▃▄▄▄▄▄▄▅▅▅▅▅▅▆▆▆▆▆▇▇▇▇▇▇███</td></tr><tr><td>lr</td><td>██▇▇▆▆▆▆▅▅▅▅▄▄▄▄▃▃▃▃▃▃▃▂▂▂▂▂▂▂▂▂▁▁▁▁▁▁▁▁</td></tr><tr><td>test_accuracy</td><td>▇█▆▆▁▁▄▅▇▃▆▆▆▇█▇█▅▅▅▅▂▆▆▅▆▆▆▆▄▇▆▅▄▄▆▄▅▆▄</td></tr><tr><td>test_auc_score</td><td>▁▆▅▆▆▆▇▇▇▇██████████████▇▇▇▇▇▇██▇▇███▇▇█</td></tr><tr><td>test_f1_score</td><td>▁▂▁▃▂▃▄▆█▆▇▇▆██▇█▅▅▆▆▃▇▆▅▆▆▆▆▄█▆▅▅▅▇▅▆▇▅</td></tr><tr><td>test_f2_score</td><td>▅▆▄▅▁▂▄▅▇▄▆▆▆▇█▇█▅▅▅▅▂▆▆▅▆▆▆▆▄▇▆▅▅▄▆▄▅▆▄</td></tr><tr><td>test_fpr</td><td>▁▁▂▃▇▇▆▆▄█▆▆▅▅▄▄▄▅▅▆▆▆▆▅▅▅▄▅▅▅▅▅▅▆▇▆▆▆▆▇</td></tr><tr><td>test_loss</td><td>█▆▂▁▂▂▂▂▁▁▁▁▁▁▁▃▂▃▃▃▂▃▂▂▂▂▂▂▂▃▂▂▃▃▃▃▃▃▃▃</td></tr><tr><td>test_tpr</td><td>▁▁▂▃▅▆▆▇▆███▇▇▆▅▆▅▅▆▇▆▇▆▅▅▅▆▆▅▇▆▆▆▆▇▆▆▇▇</td></tr><tr><td>train_accuracy</td><td>▁▅▆▆▆▆▆▆▆▆▇▇▇▇▇▇▇▇▇▇▇▇▇▇▇███▇▇█▇████████</td></tr><tr><td>train_auc_score</td><td>▁▆▇▇▇▇▇█▇███████████████████████████████</td></tr><tr><td>train_f1_score</td><td>▁▄▅▅▅▆▆▆▆▆▆▆▇▇▇▇▇▇▇▇▇▇▇▇▇███▇▇█▇▇▇██████</td></tr><tr><td>train_f2_score</td><td>▁▅▆▆▆▆▆▆▆▆▇▇▇▇▇▇▇▇▇▇▇▇▇▇▇███▇▇█▇▇▇██████</td></tr><tr><td>train_fpr</td><td>█▁▁▁▂▂▂▁▂▂▂▂▂▁▂▂▁▂▁▂▁▂▁▂▂▁▁▁▂▁▁▂▁▁▁▁▁▁▁▁</td></tr><tr><td>train_loss</td><td>█▄▃▂▂▂▂▂▂▂▂▂▁▁▁▁▁▁▁▁▁▁▁▁▁▁▁▁▁▁▁▁▁▁▁▁▁▁▁▁</td></tr><tr><td>train_tpr</td><td>▁▁▂▃▃▄▄▄▅▅▆▅▆▆▆▆▆▇▇▇▇▇▇▇▇█▇▇█▇██▇▇██████</td></tr></table><br/></div><div class=\"wandb-col\"><h3>Run summary:</h3><br/><table class=\"wandb\"><tr><td>epoch</td><td>39</td></tr><tr><td>lr</td><td>0.00129</td></tr><tr><td>test_accuracy</td><td>0.95835</td></tr><tr><td>test_auc_score</td><td>0.93155</td></tr><tr><td>test_f1_score</td><td>0.96029</td></tr><tr><td>test_f2_score</td><td>0.95904</td></tr><tr><td>test_fpr</td><td>0.02516</td></tr><tr><td>test_loss</td><td>1.1805</td></tr><tr><td>test_tpr</td><td>0.47318</td></tr><tr><td>train_accuracy</td><td>0.99393</td></tr><tr><td>train_auc_score</td><td>0.99836</td></tr><tr><td>train_f1_score</td><td>0.99372</td></tr><tr><td>train_f2_score</td><td>0.99381</td></tr><tr><td>train_fpr</td><td>0.00114</td></tr><tr><td>train_loss</td><td>0.23704</td></tr><tr><td>train_tpr</td><td>0.85454</td></tr></table><br/></div></div>"
      ],
      "text/plain": [
       "<IPython.core.display.HTML object>"
      ]
     },
     "metadata": {},
     "output_type": "display_data"
    },
    {
     "data": {
      "text/html": [
       "Synced <strong style=\"color:#cdcd00\">GEV_NN_128_2048</strong>: <a href=\"https://wandb.ai/dmitrii_fomin_uga/Internship_project/runs/3gl5lacz\" target=\"_blank\">https://wandb.ai/dmitrii_fomin_uga/Internship_project/runs/3gl5lacz</a><br/>Synced 5 W&B file(s), 0 media file(s), 0 artifact file(s) and 0 other file(s)"
      ],
      "text/plain": [
       "<IPython.core.display.HTML object>"
      ]
     },
     "metadata": {},
     "output_type": "display_data"
    },
    {
     "data": {
      "text/html": [
       "Find logs at: <code>../logs/wandb/run-20230810_020448-3gl5lacz/logs</code>"
      ],
      "text/plain": [
       "<IPython.core.display.HTML object>"
      ]
     },
     "metadata": {},
     "output_type": "display_data"
    },
    {
     "name": "stderr",
     "output_type": "stream",
     "text": [
      "/Users/fomindmitry/Google Диск/Github/Internship_project/src/models/gev_nn.py:47: UserWarning: Dimentions for input of main_classifier is changed because of mismatch\n",
      "  warnings.warn(\"Dimentions for input of main_classifier is changed because of mismatch\")\n"
     ]
    },
    {
     "data": {
      "application/vnd.jupyter.widget-view+json": {
       "model_id": "b4bc8dda01e94915aca4c51e6cbafac1",
       "version_major": 2,
       "version_minor": 0
      },
      "text/plain": [
       "VBox(children=(Label(value='Waiting for wandb.init()...\\r'), FloatProgress(value=0.01672061584999985, max=1.0)…"
      ]
     },
     "metadata": {},
     "output_type": "display_data"
    },
    {
     "data": {
      "text/html": [
       "wandb version 0.15.8 is available!  To upgrade, please run:\n",
       " $ pip install wandb --upgrade"
      ],
      "text/plain": [
       "<IPython.core.display.HTML object>"
      ]
     },
     "metadata": {},
     "output_type": "display_data"
    },
    {
     "data": {
      "text/html": [
       "Tracking run with wandb version 0.13.6"
      ],
      "text/plain": [
       "<IPython.core.display.HTML object>"
      ]
     },
     "metadata": {},
     "output_type": "display_data"
    },
    {
     "data": {
      "text/html": [
       "Run data is saved locally in <code>../logs/wandb/run-20230810_020515-23eqwdob</code>"
      ],
      "text/plain": [
       "<IPython.core.display.HTML object>"
      ]
     },
     "metadata": {},
     "output_type": "display_data"
    },
    {
     "data": {
      "text/html": [
       "Syncing run <strong><a href=\"https://wandb.ai/dmitrii_fomin_uga/Internship_project/runs/23eqwdob\" target=\"_blank\">GEV_NN_128_2048</a></strong> to <a href=\"https://wandb.ai/dmitrii_fomin_uga/Internship_project\" target=\"_blank\">Weights & Biases</a> (<a href=\"https://wandb.me/run\" target=\"_blank\">docs</a>)<br/>"
      ],
      "text/plain": [
       "<IPython.core.display.HTML object>"
      ]
     },
     "metadata": {},
     "output_type": "display_data"
    },
    {
     "data": {
      "text/html": [
       "Waiting for W&B process to finish... <strong style=\"color:green\">(success).</strong>"
      ],
      "text/plain": [
       "<IPython.core.display.HTML object>"
      ]
     },
     "metadata": {},
     "output_type": "display_data"
    },
    {
     "data": {
      "application/vnd.jupyter.widget-view+json": {
       "model_id": "4b6c70e28431402f997734393fdba02e",
       "version_major": 2,
       "version_minor": 0
      },
      "text/plain": [
       "VBox(children=(Label(value='0.001 MB of 0.018 MB uploaded (0.000 MB deduped)\\r'), FloatProgress(value=0.060027…"
      ]
     },
     "metadata": {},
     "output_type": "display_data"
    },
    {
     "data": {
      "text/html": [
       "<style>\n",
       "    table.wandb td:nth-child(1) { padding: 0 10px; text-align: left ; width: auto;} td:nth-child(2) {text-align: left ; width: 100%}\n",
       "    .wandb-row { display: flex; flex-direction: row; flex-wrap: wrap; justify-content: flex-start; width: 100% }\n",
       "    .wandb-col { display: flex; flex-direction: column; flex-basis: 100%; flex: 1; padding: 10px; }\n",
       "    </style>\n",
       "<div class=\"wandb-row\"><div class=\"wandb-col\"><h3>Run history:</h3><br/><table class=\"wandb\"><tr><td>epoch</td><td>▁▁▁▂▂▂▂▂▂▃▃▃▃▃▄▄▄▄▄▄▅▅▅▅▅▅▆▆▆▆▆▇▇▇▇▇▇███</td></tr><tr><td>lr</td><td>██▇▇▆▆▆▆▅▅▅▅▄▄▄▄▃▃▃▃▃▃▃▂▂▂▂▂▂▂▂▂▁▁▁▁▁▁▁▁</td></tr><tr><td>test_accuracy</td><td>▁▂▁▂▂▄▄▅▄▆▆▅▆▅▅▅▅▅▅▆▇▇█▆▆▇▆▆██▇▇▇▇▆▆▆▆▆▅</td></tr><tr><td>test_auc_score</td><td>▁▄▄▆▄▃▁▄▇▇▇▇██▇██▇▇███▇▇▇██▇██▇▇▇▇█▇▇█▇▇</td></tr><tr><td>test_f1_score</td><td>▁▂▁▂▃▅▆▆▆▆▇▇▇▆▆▆▇▆▆▆▇▇█▇▇▇▇▇██▇▇▇▇▇▆▇▆▆▆</td></tr><tr><td>test_f2_score</td><td>▁▂▁▂▂▄▅▆▅▆▆▆▇▆▅▆▆▅▅▆▇▇█▇▇▇▇▆██▇▇▇▇▇▆▇▆▆▆</td></tr><tr><td>test_fpr</td><td>▁▁▁▁▂▃▆▃▇▄▄█▃▅▃▄▆▂▂▂▃▃▃▄▃▂▂▂▂▃▂▂▂▂▃▂▂▂▃▃</td></tr><tr><td>test_loss</td><td>█▅▃▁▁▁▂▁▁▁▁▁▁▁▂▂▁▂▂▁▁▁▁▁▁▁▁▂▁▁▂▂▂▂▁▂▂▂▂▃</td></tr><tr><td>test_tpr</td><td>▁▁▁▁▂▄▆▆▇▆▆█▆▆▅▆▇▅▅▅▇▇▇▇▇▆▆▆▇█▆▆▆▆▆▆▆▅▅▆</td></tr><tr><td>train_accuracy</td><td>▁▆▆▆▆▆▆▆▇▇▇▇▇▇▇▇▇▇▇▇▇███████████████████</td></tr><tr><td>train_auc_score</td><td>▁▄▆▆▇▇▇▇█▇▇█████████████████████████████</td></tr><tr><td>train_f1_score</td><td>▁▄▅▅▆▅▅▆▆▇▇▇▆▇▇▇▇▇▇▇▇▇▇███▇█▇▇██████████</td></tr><tr><td>train_f2_score</td><td>▁▅▅▅▆▆▆▆▆▇▇▇▇▇▇▇▇▇▇▇▇▇▇█████████████████</td></tr><tr><td>train_fpr</td><td>█▁▁▁▂▁▁▁▁▁▁▁▂▁▁▁▂▂▁▁▁▁▁▁▁▁▁▁▁▁▁▁▁▁▁▁▁▁▁▁</td></tr><tr><td>train_loss</td><td>█▄▃▃▂▂▂▂▂▂▂▂▂▂▁▁▁▁▁▁▁▁▁▁▁▁▁▁▁▁▁▁▁▁▁▁▁▁▁▁</td></tr><tr><td>train_tpr</td><td>▁▁▂▂▄▃▃▃▄▆▅▆▆▆▆▆▇▆▆▆▇▇▇▇▇▇▇▇▇▇▇▇▇▇▇██▇█▇</td></tr></table><br/></div><div class=\"wandb-col\"><h3>Run summary:</h3><br/><table class=\"wandb\"><tr><td>epoch</td><td>39</td></tr><tr><td>lr</td><td>0.00129</td></tr><tr><td>test_accuracy</td><td>0.97823</td></tr><tr><td>test_auc_score</td><td>0.94642</td></tr><tr><td>test_f1_score</td><td>0.97523</td></tr><tr><td>test_f2_score</td><td>0.97675</td></tr><tr><td>test_fpr</td><td>0.0034</td></tr><tr><td>test_loss</td><td>1.20319</td></tr><tr><td>test_tpr</td><td>0.46324</td></tr><tr><td>train_accuracy</td><td>0.9911</td></tr><tr><td>train_auc_score</td><td>0.99607</td></tr><tr><td>train_f1_score</td><td>0.99076</td></tr><tr><td>train_f2_score</td><td>0.99088</td></tr><tr><td>train_fpr</td><td>0.00214</td></tr><tr><td>train_loss</td><td>0.28635</td></tr><tr><td>train_tpr</td><td>0.80485</td></tr></table><br/></div></div>"
      ],
      "text/plain": [
       "<IPython.core.display.HTML object>"
      ]
     },
     "metadata": {},
     "output_type": "display_data"
    },
    {
     "data": {
      "text/html": [
       "Synced <strong style=\"color:#cdcd00\">GEV_NN_128_2048</strong>: <a href=\"https://wandb.ai/dmitrii_fomin_uga/Internship_project/runs/23eqwdob\" target=\"_blank\">https://wandb.ai/dmitrii_fomin_uga/Internship_project/runs/23eqwdob</a><br/>Synced 5 W&B file(s), 0 media file(s), 0 artifact file(s) and 0 other file(s)"
      ],
      "text/plain": [
       "<IPython.core.display.HTML object>"
      ]
     },
     "metadata": {},
     "output_type": "display_data"
    },
    {
     "data": {
      "text/html": [
       "Find logs at: <code>../logs/wandb/run-20230810_020515-23eqwdob/logs</code>"
      ],
      "text/plain": [
       "<IPython.core.display.HTML object>"
      ]
     },
     "metadata": {},
     "output_type": "display_data"
    },
    {
     "name": "stderr",
     "output_type": "stream",
     "text": [
      "/Users/fomindmitry/Google Диск/Github/Internship_project/src/models/gev_nn.py:47: UserWarning: Dimentions for input of main_classifier is changed because of mismatch\n",
      "  warnings.warn(\"Dimentions for input of main_classifier is changed because of mismatch\")\n"
     ]
    },
    {
     "data": {
      "application/vnd.jupyter.widget-view+json": {
       "model_id": "55fea01647d342fb8818964d05e1666f",
       "version_major": 2,
       "version_minor": 0
      },
      "text/plain": [
       "VBox(children=(Label(value='Waiting for wandb.init()...\\r'), FloatProgress(value=0.01668326683333324, max=1.0)…"
      ]
     },
     "metadata": {},
     "output_type": "display_data"
    },
    {
     "data": {
      "text/html": [
       "wandb version 0.15.8 is available!  To upgrade, please run:\n",
       " $ pip install wandb --upgrade"
      ],
      "text/plain": [
       "<IPython.core.display.HTML object>"
      ]
     },
     "metadata": {},
     "output_type": "display_data"
    },
    {
     "data": {
      "text/html": [
       "Tracking run with wandb version 0.13.6"
      ],
      "text/plain": [
       "<IPython.core.display.HTML object>"
      ]
     },
     "metadata": {},
     "output_type": "display_data"
    },
    {
     "data": {
      "text/html": [
       "Run data is saved locally in <code>../logs/wandb/run-20230810_020540-2h24hffx</code>"
      ],
      "text/plain": [
       "<IPython.core.display.HTML object>"
      ]
     },
     "metadata": {},
     "output_type": "display_data"
    },
    {
     "data": {
      "text/html": [
       "Syncing run <strong><a href=\"https://wandb.ai/dmitrii_fomin_uga/Internship_project/runs/2h24hffx\" target=\"_blank\">GEV_NN_128_2048</a></strong> to <a href=\"https://wandb.ai/dmitrii_fomin_uga/Internship_project\" target=\"_blank\">Weights & Biases</a> (<a href=\"https://wandb.me/run\" target=\"_blank\">docs</a>)<br/>"
      ],
      "text/plain": [
       "<IPython.core.display.HTML object>"
      ]
     },
     "metadata": {},
     "output_type": "display_data"
    },
    {
     "data": {
      "text/html": [
       "Waiting for W&B process to finish... <strong style=\"color:green\">(success).</strong>"
      ],
      "text/plain": [
       "<IPython.core.display.HTML object>"
      ]
     },
     "metadata": {},
     "output_type": "display_data"
    },
    {
     "data": {
      "application/vnd.jupyter.widget-view+json": {
       "model_id": "6ea2cf02aaeb45459374313cb08729f8",
       "version_major": 2,
       "version_minor": 0
      },
      "text/plain": [
       "VBox(children=(Label(value='0.001 MB of 0.018 MB uploaded (0.000 MB deduped)\\r'), FloatProgress(value=0.059987…"
      ]
     },
     "metadata": {},
     "output_type": "display_data"
    },
    {
     "data": {
      "text/html": [
       "<style>\n",
       "    table.wandb td:nth-child(1) { padding: 0 10px; text-align: left ; width: auto;} td:nth-child(2) {text-align: left ; width: 100%}\n",
       "    .wandb-row { display: flex; flex-direction: row; flex-wrap: wrap; justify-content: flex-start; width: 100% }\n",
       "    .wandb-col { display: flex; flex-direction: column; flex-basis: 100%; flex: 1; padding: 10px; }\n",
       "    </style>\n",
       "<div class=\"wandb-row\"><div class=\"wandb-col\"><h3>Run history:</h3><br/><table class=\"wandb\"><tr><td>epoch</td><td>▁▁▁▂▂▂▂▂▂▃▃▃▃▃▄▄▄▄▄▄▅▅▅▅▅▅▆▆▆▆▆▇▇▇▇▇▇███</td></tr><tr><td>lr</td><td>██▇▇▆▆▆▆▅▅▅▅▄▄▄▄▃▃▃▃▃▃▃▂▂▂▂▂▂▂▂▂▁▁▁▁▁▁▁▁</td></tr><tr><td>test_accuracy</td><td>█▇▁▇▅█▇▆▇▇▆▅▅▇▄▆▅▅▆▅▄▅▅▅▅▅▆▆▆▅▄▆▅▃▅▅▄▄▅▄</td></tr><tr><td>test_auc_score</td><td>▃▄▁▃▄▅▇▆▇█▇▇▆█▆▇▇▆▇▇▆▇▆▇▇▆▇▆▆▆▆▅▆▅▅▅▆▆▇▇</td></tr><tr><td>test_f1_score</td><td>▇▆▁▆▅▇▇▆▇█▆▅▅▇▅▆▆▅▆▆▅▅▅▆▆▆▆▆▆▅▄▆▆▄▅▆▅▅▅▄</td></tr><tr><td>test_f2_score</td><td>█▇▁▇▅██▇▇█▆▅▆▇▅▆▅▅▆▆▄▅▅▅▅▆▆▆▆▅▄▆▆▃▅▆▄▅▅▄</td></tr><tr><td>test_fpr</td><td>▁▃█▂▄▂▃▄▃▃▅▆▅▃▆▅▅▆▅▅▆▆▆▆▅▅▄▅▅▅▆▄▅▇▅▅▆▆▆▆</td></tr><tr><td>test_loss</td><td>▇▅▄▂▂▁▁▁▂▁▂▂▂▁▃▂▃▃▄▄▄▃▄▄▄▄▃▃▃▄▆▅▅▆▅▅▆█▆▆</td></tr><tr><td>test_tpr</td><td>▁▁▂▁▁▁▄▄▅█▇▇▅▆▇▇▇▆▇▇████▇█▇▇▆▆▆▅▆▆▆▇▇▇█▇</td></tr><tr><td>train_accuracy</td><td>▁▆▇▇▇▇▇▇▇▇▇▇▇███████████████████████████</td></tr><tr><td>train_auc_score</td><td>▁▅▆▇▇▇▇▇████████████████████████████████</td></tr><tr><td>train_f1_score</td><td>▁▅▅▆▅▆▆▆▇▇▇▇▇▇▇▇█▇██████████████████████</td></tr><tr><td>train_f2_score</td><td>▁▆▆▆▆▆▇▇▇▇▇▇▇▇▇█████████████████████████</td></tr><tr><td>train_fpr</td><td>█▁▁▁▁▁▁▁▁▁▂▁▁▁▁▁▁▁▁▁▁▁▁▁▁▁▁▁▁▁▁▁▁▁▁▁▁▁▁▁</td></tr><tr><td>train_loss</td><td>█▄▃▃▂▂▂▂▂▂▁▁▁▁▁▁▁▁▁▁▁▁▁▁▁▁▁▁▁▁▁▁▁▁▁▁▁▁▁▁</td></tr><tr><td>train_tpr</td><td>▃▁▁▂▁▂▃▃▅▆▇▆▆▆▆▇▇▇▇▇▇▇▇▇▇▇▇▇▇▇▇███▇█████</td></tr></table><br/></div><div class=\"wandb-col\"><h3>Run summary:</h3><br/><table class=\"wandb\"><tr><td>epoch</td><td>39</td></tr><tr><td>lr</td><td>0.00129</td></tr><tr><td>test_accuracy</td><td>0.91383</td></tr><tr><td>test_auc_score</td><td>0.88694</td></tr><tr><td>test_f1_score</td><td>0.93245</td></tr><tr><td>test_f2_score</td><td>0.91954</td></tr><tr><td>test_fpr</td><td>0.07565</td></tr><tr><td>test_loss</td><td>1.43866</td></tr><tr><td>test_tpr</td><td>0.61962</td></tr><tr><td>train_accuracy</td><td>0.99309</td></tr><tr><td>train_auc_score</td><td>0.99818</td></tr><tr><td>train_f1_score</td><td>0.99307</td></tr><tr><td>train_f2_score</td><td>0.99307</td></tr><tr><td>train_fpr</td><td>0.0033</td></tr><tr><td>train_loss</td><td>0.28635</td></tr><tr><td>train_tpr</td><td>0.89129</td></tr></table><br/></div></div>"
      ],
      "text/plain": [
       "<IPython.core.display.HTML object>"
      ]
     },
     "metadata": {},
     "output_type": "display_data"
    },
    {
     "data": {
      "text/html": [
       "Synced <strong style=\"color:#cdcd00\">GEV_NN_128_2048</strong>: <a href=\"https://wandb.ai/dmitrii_fomin_uga/Internship_project/runs/2h24hffx\" target=\"_blank\">https://wandb.ai/dmitrii_fomin_uga/Internship_project/runs/2h24hffx</a><br/>Synced 5 W&B file(s), 0 media file(s), 0 artifact file(s) and 0 other file(s)"
      ],
      "text/plain": [
       "<IPython.core.display.HTML object>"
      ]
     },
     "metadata": {},
     "output_type": "display_data"
    },
    {
     "data": {
      "text/html": [
       "Find logs at: <code>../logs/wandb/run-20230810_020540-2h24hffx/logs</code>"
      ],
      "text/plain": [
       "<IPython.core.display.HTML object>"
      ]
     },
     "metadata": {},
     "output_type": "display_data"
    },
    {
     "name": "stderr",
     "output_type": "stream",
     "text": [
      "/Users/fomindmitry/Google Диск/Github/Internship_project/src/models/gev_nn.py:47: UserWarning: Dimentions for input of main_classifier is changed because of mismatch\n",
      "  warnings.warn(\"Dimentions for input of main_classifier is changed because of mismatch\")\n"
     ]
    },
    {
     "data": {
      "application/vnd.jupyter.widget-view+json": {
       "model_id": "7129c40a789f4af6b10f9325d65f6d25",
       "version_major": 2,
       "version_minor": 0
      },
      "text/plain": [
       "VBox(children=(Label(value='Waiting for wandb.init()...\\r'), FloatProgress(value=0.01671167073333303, max=1.0)…"
      ]
     },
     "metadata": {},
     "output_type": "display_data"
    }
   ],
   "source": [
    "for seed in seeds:\n",
    "    generator = torch.Generator()\n",
    "    generator.manual_seed(int(seed))\n",
    "\n",
    "    df = pd.read_csv('../data/prepared_data.csv')\n",
    "\n",
    "    X_train,X_test,y_train,y_test = train_test_split(df.drop(columns=['Machine failure']),\n",
    "                                                 df['Machine failure'],\n",
    "                                                 shuffle=True,\n",
    "                                                 stratify=df['Machine failure'], random_state=seed,\n",
    "                                                 train_size=0.7)\n",
    "\n",
    "    BATCH_SIZE = 2048\n",
    "    NUM_FEATURES = X_train.shape[1]\n",
    "\n",
    "    df_train = pd.concat([X_train, y_train], axis = 1)\n",
    "    df_test = pd.concat([X_test, y_test], axis = 1)\n",
    "\n",
    "    train_dataset = ClassifierDataset(df_train)\n",
    "    val_dataset = ClassifierDataset(df_test)\n",
    "\n",
    "    train_dl = DataLoader(\n",
    "    train_dataset,\n",
    "    batch_size=BATCH_SIZE, \n",
    "    shuffle=True,\n",
    "    generator=generator\n",
    "    )\n",
    "\n",
    "    val_dl = DataLoader(\n",
    "        val_dataset,\n",
    "        batch_size=BATCH_SIZE, \n",
    "        shuffle=True,\n",
    "        generator=generator\n",
    "    )\n",
    "\n",
    "    INIT_PARAM = 256\n",
    "    encoder = nn.Sequential(\n",
    "                nn.Linear(NUM_FEATURES, INIT_PARAM),\n",
    "                nn.BatchNorm1d(INIT_PARAM),\n",
    "                nn.ReLU(),\n",
    "\n",
    "                nn.Linear(INIT_PARAM, int(INIT_PARAM/2)),\n",
    "                nn.BatchNorm1d(int(INIT_PARAM/2)),\n",
    "                nn.ReLU(),\n",
    "\n",
    "                nn.Linear(int(INIT_PARAM/2), int(INIT_PARAM/4)),\n",
    "                nn.BatchNorm1d(int(INIT_PARAM/4)),\n",
    "                nn.ReLU(),\n",
    "\n",
    "                nn.Linear(int(INIT_PARAM/4), int(INIT_PARAM/8)),\n",
    "                nn.BatchNorm1d(int(INIT_PARAM/8)),\n",
    "                nn.ReLU(),\n",
    "\n",
    "                nn.Linear(int(INIT_PARAM/8), int(INIT_PARAM/16)),\n",
    "                nn.BatchNorm1d(int(INIT_PARAM/16)),\n",
    "                nn.ReLU(),\n",
    "\n",
    "                nn.Linear(int(INIT_PARAM/16), int(INIT_PARAM/32)),\n",
    "                nn.BatchNorm1d(int(INIT_PARAM/32)),\n",
    "                nn.ReLU(),\n",
    "\n",
    "                nn.Linear(int(INIT_PARAM/32), int(INIT_PARAM/64)),\n",
    "                nn.BatchNorm1d(int(INIT_PARAM/64)),\n",
    "                nn.ReLU(),\n",
    "\n",
    "                nn.Linear(int(INIT_PARAM/64), int(INIT_PARAM/64)),\n",
    "                nn.BatchNorm1d(int(INIT_PARAM/64)),\n",
    "                nn.ReLU(),\n",
    "\n",
    "                nn.Linear(int(INIT_PARAM/64), 8)\n",
    "            )\n",
    "\n",
    "    INIT_PARAM = 256\n",
    "    weighted_model = nn.Sequential(\n",
    "\n",
    "                nn.Linear(NUM_FEATURES, INIT_PARAM),\n",
    "                nn.BatchNorm1d(INIT_PARAM),\n",
    "                nn.ReLU(),\n",
    "\n",
    "                nn.Linear(INIT_PARAM, int(INIT_PARAM/2)),\n",
    "                nn.BatchNorm1d(int(INIT_PARAM/2)),\n",
    "                nn.ReLU(),\n",
    "\n",
    "                nn.Linear(int(INIT_PARAM/2), int(INIT_PARAM/4)),\n",
    "                nn.BatchNorm1d(int(INIT_PARAM/4)),\n",
    "                nn.ReLU(),\n",
    "\n",
    "                nn.Linear(int(INIT_PARAM/4), int(INIT_PARAM/2)),\n",
    "                nn.BatchNorm1d(int(INIT_PARAM/2)),\n",
    "                nn.ReLU(),\n",
    "\n",
    "                nn.Linear(int(INIT_PARAM/2), int(INIT_PARAM)),\n",
    "                nn.BatchNorm1d(int(INIT_PARAM)),\n",
    "                nn.ReLU(),\n",
    "\n",
    "                nn.Linear(INIT_PARAM, NUM_FEATURES)\n",
    "            )\n",
    "\n",
    "    INIT_PARAM = 128\n",
    "    main_classifier = nn.Sequential(\n",
    "\n",
    "                nn.Linear(NUM_FEATURES, INIT_PARAM),\n",
    "                nn.BatchNorm1d(INIT_PARAM),\n",
    "                nn.ReLU(),\n",
    "\n",
    "                nn.Linear(INIT_PARAM, int(INIT_PARAM/2)),\n",
    "                nn.BatchNorm1d(int(INIT_PARAM/2)),\n",
    "                nn.ReLU(),\n",
    "\n",
    "                nn.Linear(int(INIT_PARAM/2), int(INIT_PARAM/4)),\n",
    "                nn.BatchNorm1d(int(INIT_PARAM/4)),\n",
    "                nn.ReLU(),\n",
    "\n",
    "                nn.Linear(int(INIT_PARAM/4), 1)\n",
    "            )\n",
    "\n",
    "    model = GevNN(encoder, weighted_model, main_classifier)\n",
    "\n",
    "    loss_func = GevLoss(nn.BCELoss())\n",
    "    loss = LossWrapper(loss_func, gev = True)\n",
    "    model_factory = partial(Model_class)\n",
    "    optimizer_factory = partial(torch.optim.AdamW)\n",
    "    scheduler_factory = partial(lr.ExponentialLR)\n",
    "\n",
    "    model_params = dict(model=model,\n",
    "                        device=device)\n",
    "\n",
    "    optimizer_params = dict(weight_decay=1e-3, lr=1e-2)\n",
    "    scheduler_params = dict(gamma=0.95)\n",
    "\n",
    "    learning_params = dict(batch_size=BATCH_SIZE, num_epoch=40)\n",
    "\n",
    "    wandb_init_params = dict(\n",
    "        name=f'GEV_NN_{INIT_PARAM}_{BATCH_SIZE}',\n",
    "        project=\"Internship_project\",\n",
    "        dir = '../logs/'\n",
    "    )\n",
    "\n",
    "    additional_params = dict(loss = loss_func,\n",
    "                        p = 0,\n",
    "                        sampling = 'None',\n",
    "                        batch_size = BATCH_SIZE,\n",
    "                        init_parameters = INIT_PARAM,\n",
    "                        features_amount = df.shape[1],\n",
    "                        random_seed = seed,\n",
    "                        Is_Gev_NN = '+')\n",
    "\n",
    "    trainer = TrainerClassifier(train_dl,\n",
    "                  val_dl,\n",
    "                  loss,\n",
    "                  model_factory=model_factory,\n",
    "                  optimizer_factory=optimizer_factory,\n",
    "                  scheduler_factory=scheduler_factory,\n",
    "                  model_params=model_params,\n",
    "                  optimizer_params=optimizer_params,\n",
    "                  scheduler_params=scheduler_params,\n",
    "                  additional_params=additional_params,\n",
    "                  log=True,\n",
    "                  wandb_init_params=wandb_init_params,\n",
    "                  model_dir='../logs/nn_models/classifier/',\n",
    "                  saving_model=False\n",
    "                  )\n",
    "\n",
    "    trainer.train_model(learning_params)\n",
    "    wandb.finish()"
   ]
  }
 ],
 "metadata": {
  "kernelspec": {
   "display_name": "env1",
   "language": "python",
   "name": "python3"
  },
  "language_info": {
   "codemirror_mode": {
    "name": "ipython",
    "version": 3
   },
   "file_extension": ".py",
   "mimetype": "text/x-python",
   "name": "python",
   "nbconvert_exporter": "python",
   "pygments_lexer": "ipython3",
   "version": "3.9.15"
  },
  "orig_nbformat": 4
 },
 "nbformat": 4,
 "nbformat_minor": 2
}
