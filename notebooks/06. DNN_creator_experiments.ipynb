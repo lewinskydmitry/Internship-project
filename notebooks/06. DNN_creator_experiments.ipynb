{
 "cells": [
  {
   "cell_type": "code",
   "execution_count": 2,
   "metadata": {},
   "outputs": [],
   "source": [
    "import os\n",
    "import sys\n",
    "sys.path.append(os.path.abspath(os.path.join(os.path.dirname('src'), '..')))\n",
    "\n",
    "from src.nn_creater import nn_creater"
   ]
  },
  {
   "cell_type": "code",
   "execution_count": 3,
   "metadata": {},
   "outputs": [],
   "source": [
    "trainer = nn_creater('../data/data_fe.csv',\n",
    "                     '../data/feature_imporstance_WS.csv',\n",
    "                     num_features_list=[50,60,80,100,120],\n",
    "                     init_param_list=[128,256,512,1024,2048],\n",
    "                     num_layers_list=[3,5,7,10],\n",
    "                     batch_sizes_list=[128,256,512,1024,2048])"
   ]
  }
 ],
 "metadata": {
  "kernelspec": {
   "display_name": "env1",
   "language": "python",
   "name": "python3"
  },
  "language_info": {
   "codemirror_mode": {
    "name": "ipython",
    "version": 3
   },
   "file_extension": ".py",
   "mimetype": "text/x-python",
   "name": "python",
   "nbconvert_exporter": "python",
   "pygments_lexer": "ipython3",
   "version": "3.9.15"
  },
  "orig_nbformat": 4
 },
 "nbformat": 4,
 "nbformat_minor": 2
}
