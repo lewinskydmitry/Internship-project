{
 "cells": [
  {
   "cell_type": "code",
   "execution_count": 1,
   "metadata": {},
   "outputs": [],
   "source": [
    "import os\n",
    "import sys\n",
    "sys.path.append(os.path.abspath(os.path.join(os.path.dirname('src'), '..')))\n",
    "os.environ[\"OMP_NUM_THREADS\"] = '1'\n",
    "\n",
    "import pandas as pd\n",
    "from sklearn.model_selection import train_test_split\n",
    "import wandb\n",
    "\n",
    "import torch\n",
    "import torch.nn as nn\n",
    "from torch.utils.data import DataLoader\n",
    "import torch.optim.lr_scheduler as lr\n",
    "\n",
    "seed_value = 42\n",
    "torch.manual_seed(seed_value)\n",
    "torch.cuda.manual_seed_all(seed_value)\n",
    "generator = torch.Generator()\n",
    "generator.manual_seed(seed_value)\n",
    "torch.backends.cudnn.deterministic = True\n",
    "\n",
    "from functools import partial\n",
    "\n",
    "from src.trainer.trainer_twoHeaded import Trainer_twoHeaded\n",
    "from src.trainer.trainer_VAE import Trainer_VAE\n",
    "from src.models.classifiers import *\n",
    "from src.trainer.model_class import Model_class\n",
    "from src.trainer.loss_class import *\n",
    "\n",
    "from src.models.autoencoders import *\n",
    "from src.models.joinedModel import *\n",
    "from src.models.twoHeaded import *\n",
    "\n",
    "from src.tools import upsampling\n",
    "\n",
    "device = torch.device('cuda' if torch.cuda.is_available() else 'cpu')"
   ]
  },
  {
   "cell_type": "code",
   "execution_count": 2,
   "metadata": {},
   "outputs": [],
   "source": [
    "BATCH_SIZE = 1024\n",
    "INIT_PARAM = 512\n",
    "NUM_FEATURES = 50\n",
    "LATENT_REPR = 5\n",
    "GAMMA = 0.35"
   ]
  },
  {
   "cell_type": "code",
   "execution_count": 3,
   "metadata": {},
   "outputs": [],
   "source": [
    "df = pd.read_csv('../data/data_fe.csv')\n",
    "feature_importance = pd.read_csv('../data/feature_importance/feature_imporstance_WS.csv')"
   ]
  },
  {
   "cell_type": "code",
   "execution_count": 4,
   "metadata": {},
   "outputs": [],
   "source": [
    "features = list(feature_importance.iloc[:NUM_FEATURES]['feature_names'])\n",
    "df = df[features + ['Machine failure']]\n",
    "\n",
    "df.to_csv('../data/df_to_enc.csv', index = False)"
   ]
  },
  {
   "cell_type": "code",
   "execution_count": 5,
   "metadata": {},
   "outputs": [],
   "source": [
    "X_train,X_test,y_train,y_test = train_test_split(df.drop(columns=['Machine failure']),\n",
    "                                                 df['Machine failure'],\n",
    "                                                 shuffle=True,\n",
    "                                                 stratify=df['Machine failure'], random_state=42,\n",
    "                                                 train_size=0.7)"
   ]
  },
  {
   "cell_type": "code",
   "execution_count": 6,
   "metadata": {},
   "outputs": [],
   "source": [
    "X_train, y_train = upsampling(GAMMA, X_train, y_train) # 0.3"
   ]
  },
  {
   "cell_type": "code",
   "execution_count": 7,
   "metadata": {},
   "outputs": [],
   "source": [
    "df_train = pd.concat([X_train, y_train], axis=1)\n",
    "df_test = pd.concat([X_test, y_test], axis = 1)\n",
    "\n",
    "train_dataset = TableDatasetDF(df_train)\n",
    "val_dataset = TableDatasetDF(df_test)"
   ]
  },
  {
   "cell_type": "code",
   "execution_count": 8,
   "metadata": {},
   "outputs": [],
   "source": [
    "train_dl = DataLoader(\n",
    "    train_dataset,\n",
    "    batch_size=BATCH_SIZE, \n",
    "    shuffle=True,\n",
    "    generator=generator\n",
    ")\n",
    "\n",
    "val_dl = DataLoader(\n",
    "    val_dataset,\n",
    "    batch_size=BATCH_SIZE, \n",
    "    shuffle=True,\n",
    "    generator=generator\n",
    ")"
   ]
  },
  {
   "cell_type": "code",
   "execution_count": 9,
   "metadata": {},
   "outputs": [],
   "source": [
    "model = TwoHeadedModel(Baseline_classifier(NUM_FEATURES, INIT_PARAM).classifier,\n",
    "                       Simple_classifier(LATENT_REPR).classifier)"
   ]
  },
  {
   "cell_type": "code",
   "execution_count": 10,
   "metadata": {},
   "outputs": [],
   "source": [
    "loss = Loss_class_TH(TwoHeadedLoss(2,FocalLoss(gamma=2),nn.MSELoss()))\n",
    "model_factory = partial(Model_class)\n",
    "optimizer_factory = partial(torch.optim.AdamW)\n",
    "scheduler_factory = partial(lr.ExponentialLR)\n",
    "\n",
    "model_params = dict(model=model,\n",
    "                    device=device)\n",
    "\n",
    "optimizer_params = dict(weight_decay=1e-3, lr=1e-2)\n",
    "scheduler_params = dict(gamma=0.90)\n",
    "\n",
    "learning_params = dict(batch_size=BATCH_SIZE, num_epoch=40)\n",
    "\n",
    "wandb_init_params = dict(\n",
    "    name=f'fe_{INIT_PARAM}_{BATCH_SIZE}_{NUM_FEATURES}_BASELINE',\n",
    "    project=\"Internship_project\",\n",
    "    dir = '../logs/'\n",
    ")"
   ]
  },
  {
   "cell_type": "code",
   "execution_count": 11,
   "metadata": {},
   "outputs": [
    {
     "name": "stderr",
     "output_type": "stream",
     "text": [
      "Failed to detect the name of this notebook, you can set it manually with the WANDB_NOTEBOOK_NAME environment variable to enable code saving.\n",
      "\u001b[34m\u001b[1mwandb\u001b[0m: Currently logged in as: \u001b[33mdmitrii_fomin\u001b[0m (\u001b[33mdmitrii_fomin_uga\u001b[0m). Use \u001b[1m`wandb login --relogin`\u001b[0m to force relogin\n"
     ]
    },
    {
     "data": {
      "text/html": [
       "Tracking run with wandb version 0.15.4"
      ],
      "text/plain": [
       "<IPython.core.display.HTML object>"
      ]
     },
     "metadata": {},
     "output_type": "display_data"
    },
    {
     "data": {
      "text/html": [
       "Run data is saved locally in <code>../logs/wandb\\run-20230613_094815-dsob4tik</code>"
      ],
      "text/plain": [
       "<IPython.core.display.HTML object>"
      ]
     },
     "metadata": {},
     "output_type": "display_data"
    },
    {
     "data": {
      "text/html": [
       "Syncing run <strong><a href='https://wandb.ai/dmitrii_fomin_uga/Internship_project/runs/dsob4tik' target=\"_blank\">fe_512_1024_50_BASELINE</a></strong> to <a href='https://wandb.ai/dmitrii_fomin_uga/Internship_project' target=\"_blank\">Weights & Biases</a> (<a href='https://wandb.me/run' target=\"_blank\">docs</a>)<br/>"
      ],
      "text/plain": [
       "<IPython.core.display.HTML object>"
      ]
     },
     "metadata": {},
     "output_type": "display_data"
    },
    {
     "data": {
      "text/html": [
       " View project at <a href='https://wandb.ai/dmitrii_fomin_uga/Internship_project' target=\"_blank\">https://wandb.ai/dmitrii_fomin_uga/Internship_project</a>"
      ],
      "text/plain": [
       "<IPython.core.display.HTML object>"
      ]
     },
     "metadata": {},
     "output_type": "display_data"
    },
    {
     "data": {
      "text/html": [
       " View run at <a href='https://wandb.ai/dmitrii_fomin_uga/Internship_project/runs/dsob4tik' target=\"_blank\">https://wandb.ai/dmitrii_fomin_uga/Internship_project/runs/dsob4tik</a>"
      ],
      "text/plain": [
       "<IPython.core.display.HTML object>"
      ]
     },
     "metadata": {},
     "output_type": "display_data"
    }
   ],
   "source": [
    "trainer = Trainer_twoHeaded(train_dl,\n",
    "                  val_dl,\n",
    "                  loss,\n",
    "                  model_factory=model_factory,\n",
    "                  optimizer_factory=optimizer_factory,\n",
    "                  scheduler_factory=scheduler_factory,\n",
    "                  model_params=model_params,\n",
    "                  optimizer_params=optimizer_params,\n",
    "                  scheduler_params=scheduler_params,\n",
    "                  log=True,\n",
    "                  wandb_init_params=wandb_init_params,\n",
    "                  model_dir='../logs/nn_models/classifier/',\n",
    "                  saving_model=False\n",
    "                  )"
   ]
  },
  {
   "cell_type": "code",
   "execution_count": null,
   "metadata": {},
   "outputs": [
    {
     "name": "stderr",
     "output_type": "stream",
     "text": [
      "I'm studying hard now🧐, don't disturb!:   0%|          | 0/10 [00:00<?, ?it/s]c:\\Users\\dimaf\\miniconda3\\envs\\torch\\Lib\\site-packages\\sklearn\\cluster\\_kmeans.py:870: FutureWarning: The default value of `n_init` will change from 10 to 'auto' in 1.4. Set the value of `n_init` explicitly to suppress the warning\n",
      "  warnings.warn(\n",
      "I'm studying hard now🧐, don't disturb!:  10%|█         | 1/10 [00:02<00:24,  2.75s/it]c:\\Users\\dimaf\\miniconda3\\envs\\torch\\Lib\\site-packages\\sklearn\\cluster\\_kmeans.py:870: FutureWarning: The default value of `n_init` will change from 10 to 'auto' in 1.4. Set the value of `n_init` explicitly to suppress the warning\n",
      "  warnings.warn(\n",
      "I'm studying hard now🧐, don't disturb!:  20%|██        | 2/10 [00:03<00:10,  1.29s/it]c:\\Users\\dimaf\\miniconda3\\envs\\torch\\Lib\\site-packages\\sklearn\\cluster\\_kmeans.py:870: FutureWarning: The default value of `n_init` will change from 10 to 'auto' in 1.4. Set the value of `n_init` explicitly to suppress the warning\n",
      "  warnings.warn(\n",
      "I'm studying hard now🧐, don't disturb!:  30%|███       | 3/10 [00:03<00:05,  1.24it/s]c:\\Users\\dimaf\\miniconda3\\envs\\torch\\Lib\\site-packages\\sklearn\\cluster\\_kmeans.py:870: FutureWarning: The default value of `n_init` will change from 10 to 'auto' in 1.4. Set the value of `n_init` explicitly to suppress the warning\n",
      "  warnings.warn(\n",
      "I'm studying hard now🧐, don't disturb!:  40%|████      | 4/10 [00:03<00:03,  1.69it/s]c:\\Users\\dimaf\\miniconda3\\envs\\torch\\Lib\\site-packages\\sklearn\\cluster\\_kmeans.py:870: FutureWarning: The default value of `n_init` will change from 10 to 'auto' in 1.4. Set the value of `n_init` explicitly to suppress the warning\n",
      "  warnings.warn(\n",
      "I'm studying hard now🧐, don't disturb!:  50%|█████     | 5/10 [00:03<00:02,  1.99it/s]c:\\Users\\dimaf\\miniconda3\\envs\\torch\\Lib\\site-packages\\sklearn\\cluster\\_kmeans.py:870: FutureWarning: The default value of `n_init` will change from 10 to 'auto' in 1.4. Set the value of `n_init` explicitly to suppress the warning\n",
      "  warnings.warn(\n",
      "I'm studying hard now🧐, don't disturb!:  60%|██████    | 6/10 [00:04<00:01,  2.22it/s]c:\\Users\\dimaf\\miniconda3\\envs\\torch\\Lib\\site-packages\\sklearn\\cluster\\_kmeans.py:870: FutureWarning: The default value of `n_init` will change from 10 to 'auto' in 1.4. Set the value of `n_init` explicitly to suppress the warning\n",
      "  warnings.warn(\n",
      "I'm studying hard now🧐, don't disturb!:  70%|███████   | 7/10 [00:04<00:01,  2.47it/s]c:\\Users\\dimaf\\miniconda3\\envs\\torch\\Lib\\site-packages\\sklearn\\cluster\\_kmeans.py:870: FutureWarning: The default value of `n_init` will change from 10 to 'auto' in 1.4. Set the value of `n_init` explicitly to suppress the warning\n",
      "  warnings.warn(\n",
      "I'm studying hard now🧐, don't disturb!:  80%|████████  | 8/10 [00:04<00:00,  2.71it/s]c:\\Users\\dimaf\\miniconda3\\envs\\torch\\Lib\\site-packages\\sklearn\\cluster\\_kmeans.py:870: FutureWarning: The default value of `n_init` will change from 10 to 'auto' in 1.4. Set the value of `n_init` explicitly to suppress the warning\n",
      "  warnings.warn(\n",
      "I'm studying hard now🧐, don't disturb!:  90%|█████████ | 9/10 [00:05<00:00,  2.69it/s]c:\\Users\\dimaf\\miniconda3\\envs\\torch\\Lib\\site-packages\\sklearn\\cluster\\_kmeans.py:870: FutureWarning: The default value of `n_init` will change from 10 to 'auto' in 1.4. Set the value of `n_init` explicitly to suppress the warning\n",
      "  warnings.warn(\n",
      "I'm studying hard now🧐, don't disturb!: 100%|██████████| 10/10 [00:05<00:00,  1.80it/s]\n",
      "Let's see how good I am...:   0%|          | 0/3 [00:00<?, ?it/s]c:\\Users\\dimaf\\miniconda3\\envs\\torch\\Lib\\site-packages\\sklearn\\cluster\\_kmeans.py:870: FutureWarning: The default value of `n_init` will change from 10 to 'auto' in 1.4. Set the value of `n_init` explicitly to suppress the warning\n",
      "  warnings.warn(\n",
      "Let's see how good I am...:  33%|███▎      | 1/3 [00:00<00:00,  3.02it/s]c:\\Users\\dimaf\\miniconda3\\envs\\torch\\Lib\\site-packages\\sklearn\\cluster\\_kmeans.py:870: FutureWarning: The default value of `n_init` will change from 10 to 'auto' in 1.4. Set the value of `n_init` explicitly to suppress the warning\n",
      "  warnings.warn(\n",
      "Let's see how good I am...:  67%|██████▋   | 2/3 [00:00<00:00,  3.16it/s]c:\\Users\\dimaf\\miniconda3\\envs\\torch\\Lib\\site-packages\\sklearn\\cluster\\_kmeans.py:870: FutureWarning: The default value of `n_init` will change from 10 to 'auto' in 1.4. Set the value of `n_init` explicitly to suppress the warning\n",
      "  warnings.warn(\n",
      "Let's see how good I am...: 100%|██████████| 3/3 [00:00<00:00,  3.29it/s]\n"
     ]
    },
    {
     "name": "stdout",
     "output_type": "stream",
     "text": [
      "Epoch: 1 of 40, 0.108 min\n"
     ]
    },
    {
     "name": "stderr",
     "output_type": "stream",
     "text": [
      "I'm studying hard now🧐, don't disturb!:   0%|          | 0/10 [00:00<?, ?it/s]c:\\Users\\dimaf\\miniconda3\\envs\\torch\\Lib\\site-packages\\sklearn\\cluster\\_kmeans.py:870: FutureWarning: The default value of `n_init` will change from 10 to 'auto' in 1.4. Set the value of `n_init` explicitly to suppress the warning\n",
      "  warnings.warn(\n",
      "I'm studying hard now🧐, don't disturb!:  10%|█         | 1/10 [00:00<00:03,  2.89it/s]c:\\Users\\dimaf\\miniconda3\\envs\\torch\\Lib\\site-packages\\sklearn\\cluster\\_kmeans.py:870: FutureWarning: The default value of `n_init` will change from 10 to 'auto' in 1.4. Set the value of `n_init` explicitly to suppress the warning\n",
      "  warnings.warn(\n",
      "I'm studying hard now🧐, don't disturb!:  20%|██        | 2/10 [00:00<00:02,  3.10it/s]c:\\Users\\dimaf\\miniconda3\\envs\\torch\\Lib\\site-packages\\sklearn\\cluster\\_kmeans.py:870: FutureWarning: The default value of `n_init` will change from 10 to 'auto' in 1.4. Set the value of `n_init` explicitly to suppress the warning\n",
      "  warnings.warn(\n",
      "I'm studying hard now🧐, don't disturb!:  30%|███       | 3/10 [00:00<00:02,  3.18it/s]c:\\Users\\dimaf\\miniconda3\\envs\\torch\\Lib\\site-packages\\sklearn\\cluster\\_kmeans.py:870: FutureWarning: The default value of `n_init` will change from 10 to 'auto' in 1.4. Set the value of `n_init` explicitly to suppress the warning\n",
      "  warnings.warn(\n",
      "I'm studying hard now🧐, don't disturb!:  40%|████      | 4/10 [00:01<00:01,  3.21it/s]c:\\Users\\dimaf\\miniconda3\\envs\\torch\\Lib\\site-packages\\sklearn\\cluster\\_kmeans.py:870: FutureWarning: The default value of `n_init` will change from 10 to 'auto' in 1.4. Set the value of `n_init` explicitly to suppress the warning\n",
      "  warnings.warn(\n",
      "I'm studying hard now🧐, don't disturb!:  50%|█████     | 5/10 [00:01<00:01,  3.06it/s]c:\\Users\\dimaf\\miniconda3\\envs\\torch\\Lib\\site-packages\\sklearn\\cluster\\_kmeans.py:870: FutureWarning: The default value of `n_init` will change from 10 to 'auto' in 1.4. Set the value of `n_init` explicitly to suppress the warning\n",
      "  warnings.warn(\n",
      "I'm studying hard now🧐, don't disturb!:  60%|██████    | 6/10 [00:01<00:01,  3.15it/s]c:\\Users\\dimaf\\miniconda3\\envs\\torch\\Lib\\site-packages\\sklearn\\cluster\\_kmeans.py:870: FutureWarning: The default value of `n_init` will change from 10 to 'auto' in 1.4. Set the value of `n_init` explicitly to suppress the warning\n",
      "  warnings.warn(\n",
      "I'm studying hard now🧐, don't disturb!:  70%|███████   | 7/10 [00:02<00:00,  3.17it/s]c:\\Users\\dimaf\\miniconda3\\envs\\torch\\Lib\\site-packages\\sklearn\\cluster\\_kmeans.py:870: FutureWarning: The default value of `n_init` will change from 10 to 'auto' in 1.4. Set the value of `n_init` explicitly to suppress the warning\n",
      "  warnings.warn(\n",
      "I'm studying hard now🧐, don't disturb!:  80%|████████  | 8/10 [00:02<00:00,  3.20it/s]c:\\Users\\dimaf\\miniconda3\\envs\\torch\\Lib\\site-packages\\sklearn\\cluster\\_kmeans.py:870: FutureWarning: The default value of `n_init` will change from 10 to 'auto' in 1.4. Set the value of `n_init` explicitly to suppress the warning\n",
      "  warnings.warn(\n",
      "I'm studying hard now🧐, don't disturb!:  90%|█████████ | 9/10 [00:02<00:00,  3.09it/s]c:\\Users\\dimaf\\miniconda3\\envs\\torch\\Lib\\site-packages\\sklearn\\cluster\\_kmeans.py:870: FutureWarning: The default value of `n_init` will change from 10 to 'auto' in 1.4. Set the value of `n_init` explicitly to suppress the warning\n",
      "  warnings.warn(\n",
      "I'm studying hard now🧐, don't disturb!: 100%|██████████| 10/10 [00:03<00:00,  3.17it/s]\n",
      "Let's see how good I am...:   0%|          | 0/3 [00:00<?, ?it/s]c:\\Users\\dimaf\\miniconda3\\envs\\torch\\Lib\\site-packages\\sklearn\\cluster\\_kmeans.py:870: FutureWarning: The default value of `n_init` will change from 10 to 'auto' in 1.4. Set the value of `n_init` explicitly to suppress the warning\n",
      "  warnings.warn(\n",
      "Let's see how good I am...:  33%|███▎      | 1/3 [00:00<00:00,  3.74it/s]c:\\Users\\dimaf\\miniconda3\\envs\\torch\\Lib\\site-packages\\sklearn\\cluster\\_kmeans.py:870: FutureWarning: The default value of `n_init` will change from 10 to 'auto' in 1.4. Set the value of `n_init` explicitly to suppress the warning\n",
      "  warnings.warn(\n",
      "Let's see how good I am...:  67%|██████▋   | 2/3 [00:00<00:00,  3.96it/s]c:\\Users\\dimaf\\miniconda3\\envs\\torch\\Lib\\site-packages\\sklearn\\cluster\\_kmeans.py:870: FutureWarning: The default value of `n_init` will change from 10 to 'auto' in 1.4. Set the value of `n_init` explicitly to suppress the warning\n",
      "  warnings.warn(\n",
      "Let's see how good I am...: 100%|██████████| 3/3 [00:00<00:00,  4.04it/s]\n"
     ]
    },
    {
     "name": "stdout",
     "output_type": "stream",
     "text": [
      "Epoch: 2 of 40, 0.065 min\n"
     ]
    },
    {
     "name": "stderr",
     "output_type": "stream",
     "text": [
      "I'm studying hard now🧐, don't disturb!:   0%|          | 0/10 [00:00<?, ?it/s]c:\\Users\\dimaf\\miniconda3\\envs\\torch\\Lib\\site-packages\\sklearn\\cluster\\_kmeans.py:870: FutureWarning: The default value of `n_init` will change from 10 to 'auto' in 1.4. Set the value of `n_init` explicitly to suppress the warning\n",
      "  warnings.warn(\n",
      "I'm studying hard now🧐, don't disturb!:  10%|█         | 1/10 [00:00<00:02,  3.72it/s]c:\\Users\\dimaf\\miniconda3\\envs\\torch\\Lib\\site-packages\\sklearn\\cluster\\_kmeans.py:870: FutureWarning: The default value of `n_init` will change from 10 to 'auto' in 1.4. Set the value of `n_init` explicitly to suppress the warning\n",
      "  warnings.warn(\n",
      "I'm studying hard now🧐, don't disturb!:  20%|██        | 2/10 [00:00<00:02,  3.67it/s]c:\\Users\\dimaf\\miniconda3\\envs\\torch\\Lib\\site-packages\\sklearn\\cluster\\_kmeans.py:870: FutureWarning: The default value of `n_init` will change from 10 to 'auto' in 1.4. Set the value of `n_init` explicitly to suppress the warning\n",
      "  warnings.warn(\n",
      "I'm studying hard now🧐, don't disturb!:  30%|███       | 3/10 [00:00<00:01,  3.67it/s]c:\\Users\\dimaf\\miniconda3\\envs\\torch\\Lib\\site-packages\\sklearn\\cluster\\_kmeans.py:870: FutureWarning: The default value of `n_init` will change from 10 to 'auto' in 1.4. Set the value of `n_init` explicitly to suppress the warning\n",
      "  warnings.warn(\n",
      "I'm studying hard now🧐, don't disturb!:  40%|████      | 4/10 [00:01<00:01,  3.73it/s]c:\\Users\\dimaf\\miniconda3\\envs\\torch\\Lib\\site-packages\\sklearn\\cluster\\_kmeans.py:870: FutureWarning: The default value of `n_init` will change from 10 to 'auto' in 1.4. Set the value of `n_init` explicitly to suppress the warning\n",
      "  warnings.warn(\n",
      "I'm studying hard now🧐, don't disturb!:  50%|█████     | 5/10 [00:01<00:01,  3.73it/s]c:\\Users\\dimaf\\miniconda3\\envs\\torch\\Lib\\site-packages\\sklearn\\cluster\\_kmeans.py:870: FutureWarning: The default value of `n_init` will change from 10 to 'auto' in 1.4. Set the value of `n_init` explicitly to suppress the warning\n",
      "  warnings.warn(\n",
      "I'm studying hard now🧐, don't disturb!:  60%|██████    | 6/10 [00:01<00:01,  3.73it/s]c:\\Users\\dimaf\\miniconda3\\envs\\torch\\Lib\\site-packages\\sklearn\\cluster\\_kmeans.py:870: FutureWarning: The default value of `n_init` will change from 10 to 'auto' in 1.4. Set the value of `n_init` explicitly to suppress the warning\n",
      "  warnings.warn(\n",
      "I'm studying hard now🧐, don't disturb!:  70%|███████   | 7/10 [00:01<00:00,  3.66it/s]c:\\Users\\dimaf\\miniconda3\\envs\\torch\\Lib\\site-packages\\sklearn\\cluster\\_kmeans.py:870: FutureWarning: The default value of `n_init` will change from 10 to 'auto' in 1.4. Set the value of `n_init` explicitly to suppress the warning\n",
      "  warnings.warn(\n",
      "I'm studying hard now🧐, don't disturb!:  80%|████████  | 8/10 [00:02<00:00,  3.68it/s]c:\\Users\\dimaf\\miniconda3\\envs\\torch\\Lib\\site-packages\\sklearn\\cluster\\_kmeans.py:870: FutureWarning: The default value of `n_init` will change from 10 to 'auto' in 1.4. Set the value of `n_init` explicitly to suppress the warning\n",
      "  warnings.warn(\n",
      "I'm studying hard now🧐, don't disturb!:  90%|█████████ | 9/10 [00:02<00:00,  3.70it/s]c:\\Users\\dimaf\\miniconda3\\envs\\torch\\Lib\\site-packages\\sklearn\\cluster\\_kmeans.py:870: FutureWarning: The default value of `n_init` will change from 10 to 'auto' in 1.4. Set the value of `n_init` explicitly to suppress the warning\n",
      "  warnings.warn(\n",
      "I'm studying hard now🧐, don't disturb!: 100%|██████████| 10/10 [00:02<00:00,  3.72it/s]\n",
      "Let's see how good I am...:   0%|          | 0/3 [00:00<?, ?it/s]c:\\Users\\dimaf\\miniconda3\\envs\\torch\\Lib\\site-packages\\sklearn\\cluster\\_kmeans.py:870: FutureWarning: The default value of `n_init` will change from 10 to 'auto' in 1.4. Set the value of `n_init` explicitly to suppress the warning\n",
      "  warnings.warn(\n",
      "Let's see how good I am...:  33%|███▎      | 1/3 [00:00<00:00,  4.14it/s]c:\\Users\\dimaf\\miniconda3\\envs\\torch\\Lib\\site-packages\\sklearn\\cluster\\_kmeans.py:870: FutureWarning: The default value of `n_init` will change from 10 to 'auto' in 1.4. Set the value of `n_init` explicitly to suppress the warning\n",
      "  warnings.warn(\n",
      "Let's see how good I am...:  67%|██████▋   | 2/3 [00:00<00:00,  4.15it/s]c:\\Users\\dimaf\\miniconda3\\envs\\torch\\Lib\\site-packages\\sklearn\\cluster\\_kmeans.py:870: FutureWarning: The default value of `n_init` will change from 10 to 'auto' in 1.4. Set the value of `n_init` explicitly to suppress the warning\n",
      "  warnings.warn(\n",
      "Let's see how good I am...: 100%|██████████| 3/3 [00:00<00:00,  4.19it/s]\n"
     ]
    },
    {
     "name": "stdout",
     "output_type": "stream",
     "text": [
      "Epoch: 3 of 40, 0.057 min\n"
     ]
    },
    {
     "name": "stderr",
     "output_type": "stream",
     "text": [
      "I'm studying hard now🧐, don't disturb!:   0%|          | 0/10 [00:00<?, ?it/s]c:\\Users\\dimaf\\miniconda3\\envs\\torch\\Lib\\site-packages\\sklearn\\cluster\\_kmeans.py:870: FutureWarning: The default value of `n_init` will change from 10 to 'auto' in 1.4. Set the value of `n_init` explicitly to suppress the warning\n",
      "  warnings.warn(\n",
      "I'm studying hard now🧐, don't disturb!:  10%|█         | 1/10 [00:00<00:02,  3.64it/s]c:\\Users\\dimaf\\miniconda3\\envs\\torch\\Lib\\site-packages\\sklearn\\cluster\\_kmeans.py:870: FutureWarning: The default value of `n_init` will change from 10 to 'auto' in 1.4. Set the value of `n_init` explicitly to suppress the warning\n",
      "  warnings.warn(\n",
      "I'm studying hard now🧐, don't disturb!:  20%|██        | 2/10 [00:00<00:02,  3.76it/s]c:\\Users\\dimaf\\miniconda3\\envs\\torch\\Lib\\site-packages\\sklearn\\cluster\\_kmeans.py:870: FutureWarning: The default value of `n_init` will change from 10 to 'auto' in 1.4. Set the value of `n_init` explicitly to suppress the warning\n",
      "  warnings.warn(\n",
      "I'm studying hard now🧐, don't disturb!:  30%|███       | 3/10 [00:00<00:01,  3.75it/s]c:\\Users\\dimaf\\miniconda3\\envs\\torch\\Lib\\site-packages\\sklearn\\cluster\\_kmeans.py:870: FutureWarning: The default value of `n_init` will change from 10 to 'auto' in 1.4. Set the value of `n_init` explicitly to suppress the warning\n",
      "  warnings.warn(\n",
      "I'm studying hard now🧐, don't disturb!:  40%|████      | 4/10 [00:01<00:01,  3.75it/s]c:\\Users\\dimaf\\miniconda3\\envs\\torch\\Lib\\site-packages\\sklearn\\cluster\\_kmeans.py:870: FutureWarning: The default value of `n_init` will change from 10 to 'auto' in 1.4. Set the value of `n_init` explicitly to suppress the warning\n",
      "  warnings.warn(\n",
      "I'm studying hard now🧐, don't disturb!:  50%|█████     | 5/10 [00:01<00:01,  3.78it/s]c:\\Users\\dimaf\\miniconda3\\envs\\torch\\Lib\\site-packages\\sklearn\\cluster\\_kmeans.py:870: FutureWarning: The default value of `n_init` will change from 10 to 'auto' in 1.4. Set the value of `n_init` explicitly to suppress the warning\n",
      "  warnings.warn(\n",
      "I'm studying hard now🧐, don't disturb!:  60%|██████    | 6/10 [00:01<00:01,  3.78it/s]c:\\Users\\dimaf\\miniconda3\\envs\\torch\\Lib\\site-packages\\sklearn\\cluster\\_kmeans.py:870: FutureWarning: The default value of `n_init` will change from 10 to 'auto' in 1.4. Set the value of `n_init` explicitly to suppress the warning\n",
      "  warnings.warn(\n",
      "I'm studying hard now🧐, don't disturb!:  70%|███████   | 7/10 [00:01<00:00,  3.80it/s]c:\\Users\\dimaf\\miniconda3\\envs\\torch\\Lib\\site-packages\\sklearn\\cluster\\_kmeans.py:870: FutureWarning: The default value of `n_init` will change from 10 to 'auto' in 1.4. Set the value of `n_init` explicitly to suppress the warning\n",
      "  warnings.warn(\n",
      "I'm studying hard now🧐, don't disturb!:  80%|████████  | 8/10 [00:02<00:00,  3.74it/s]c:\\Users\\dimaf\\miniconda3\\envs\\torch\\Lib\\site-packages\\sklearn\\cluster\\_kmeans.py:870: FutureWarning: The default value of `n_init` will change from 10 to 'auto' in 1.4. Set the value of `n_init` explicitly to suppress the warning\n",
      "  warnings.warn(\n",
      "I'm studying hard now🧐, don't disturb!:  90%|█████████ | 9/10 [00:02<00:00,  3.75it/s]c:\\Users\\dimaf\\miniconda3\\envs\\torch\\Lib\\site-packages\\sklearn\\cluster\\_kmeans.py:870: FutureWarning: The default value of `n_init` will change from 10 to 'auto' in 1.4. Set the value of `n_init` explicitly to suppress the warning\n",
      "  warnings.warn(\n",
      "I'm studying hard now🧐, don't disturb!: 100%|██████████| 10/10 [00:02<00:00,  3.75it/s]\n",
      "Let's see how good I am...:   0%|          | 0/3 [00:00<?, ?it/s]c:\\Users\\dimaf\\miniconda3\\envs\\torch\\Lib\\site-packages\\sklearn\\cluster\\_kmeans.py:870: FutureWarning: The default value of `n_init` will change from 10 to 'auto' in 1.4. Set the value of `n_init` explicitly to suppress the warning\n",
      "  warnings.warn(\n",
      "Let's see how good I am...:  33%|███▎      | 1/3 [00:00<00:00,  4.01it/s]c:\\Users\\dimaf\\miniconda3\\envs\\torch\\Lib\\site-packages\\sklearn\\cluster\\_kmeans.py:870: FutureWarning: The default value of `n_init` will change from 10 to 'auto' in 1.4. Set the value of `n_init` explicitly to suppress the warning\n",
      "  warnings.warn(\n",
      "Let's see how good I am...:  67%|██████▋   | 2/3 [00:00<00:00,  4.24it/s]c:\\Users\\dimaf\\miniconda3\\envs\\torch\\Lib\\site-packages\\sklearn\\cluster\\_kmeans.py:870: FutureWarning: The default value of `n_init` will change from 10 to 'auto' in 1.4. Set the value of `n_init` explicitly to suppress the warning\n",
      "  warnings.warn(\n",
      "Let's see how good I am...: 100%|██████████| 3/3 [00:00<00:00,  4.28it/s]\n"
     ]
    },
    {
     "name": "stdout",
     "output_type": "stream",
     "text": [
      "Epoch: 4 of 40, 0.056 min\n"
     ]
    },
    {
     "name": "stderr",
     "output_type": "stream",
     "text": [
      "I'm studying hard now🧐, don't disturb!:   0%|          | 0/10 [00:00<?, ?it/s]c:\\Users\\dimaf\\miniconda3\\envs\\torch\\Lib\\site-packages\\sklearn\\cluster\\_kmeans.py:870: FutureWarning: The default value of `n_init` will change from 10 to 'auto' in 1.4. Set the value of `n_init` explicitly to suppress the warning\n",
      "  warnings.warn(\n",
      "I'm studying hard now🧐, don't disturb!:  10%|█         | 1/10 [00:00<00:02,  4.03it/s]c:\\Users\\dimaf\\miniconda3\\envs\\torch\\Lib\\site-packages\\sklearn\\cluster\\_kmeans.py:870: FutureWarning: The default value of `n_init` will change from 10 to 'auto' in 1.4. Set the value of `n_init` explicitly to suppress the warning\n",
      "  warnings.warn(\n",
      "I'm studying hard now🧐, don't disturb!:  20%|██        | 2/10 [00:00<00:02,  3.74it/s]c:\\Users\\dimaf\\miniconda3\\envs\\torch\\Lib\\site-packages\\sklearn\\cluster\\_kmeans.py:870: FutureWarning: The default value of `n_init` will change from 10 to 'auto' in 1.4. Set the value of `n_init` explicitly to suppress the warning\n",
      "  warnings.warn(\n",
      "I'm studying hard now🧐, don't disturb!:  30%|███       | 3/10 [00:00<00:01,  3.78it/s]c:\\Users\\dimaf\\miniconda3\\envs\\torch\\Lib\\site-packages\\sklearn\\cluster\\_kmeans.py:870: FutureWarning: The default value of `n_init` will change from 10 to 'auto' in 1.4. Set the value of `n_init` explicitly to suppress the warning\n",
      "  warnings.warn(\n",
      "I'm studying hard now🧐, don't disturb!:  40%|████      | 4/10 [00:01<00:01,  3.81it/s]c:\\Users\\dimaf\\miniconda3\\envs\\torch\\Lib\\site-packages\\sklearn\\cluster\\_kmeans.py:870: FutureWarning: The default value of `n_init` will change from 10 to 'auto' in 1.4. Set the value of `n_init` explicitly to suppress the warning\n",
      "  warnings.warn(\n",
      "I'm studying hard now🧐, don't disturb!:  50%|█████     | 5/10 [00:01<00:01,  3.78it/s]c:\\Users\\dimaf\\miniconda3\\envs\\torch\\Lib\\site-packages\\sklearn\\cluster\\_kmeans.py:870: FutureWarning: The default value of `n_init` will change from 10 to 'auto' in 1.4. Set the value of `n_init` explicitly to suppress the warning\n",
      "  warnings.warn(\n",
      "I'm studying hard now🧐, don't disturb!:  60%|██████    | 6/10 [00:01<00:01,  3.76it/s]c:\\Users\\dimaf\\miniconda3\\envs\\torch\\Lib\\site-packages\\sklearn\\cluster\\_kmeans.py:870: FutureWarning: The default value of `n_init` will change from 10 to 'auto' in 1.4. Set the value of `n_init` explicitly to suppress the warning\n",
      "  warnings.warn(\n",
      "I'm studying hard now🧐, don't disturb!:  70%|███████   | 7/10 [00:01<00:00,  3.76it/s]c:\\Users\\dimaf\\miniconda3\\envs\\torch\\Lib\\site-packages\\sklearn\\cluster\\_kmeans.py:870: FutureWarning: The default value of `n_init` will change from 10 to 'auto' in 1.4. Set the value of `n_init` explicitly to suppress the warning\n",
      "  warnings.warn(\n",
      "I'm studying hard now🧐, don't disturb!:  80%|████████  | 8/10 [00:02<00:00,  3.79it/s]c:\\Users\\dimaf\\miniconda3\\envs\\torch\\Lib\\site-packages\\sklearn\\cluster\\_kmeans.py:870: FutureWarning: The default value of `n_init` will change from 10 to 'auto' in 1.4. Set the value of `n_init` explicitly to suppress the warning\n",
      "  warnings.warn(\n",
      "I'm studying hard now🧐, don't disturb!:  90%|█████████ | 9/10 [00:02<00:00,  3.77it/s]c:\\Users\\dimaf\\miniconda3\\envs\\torch\\Lib\\site-packages\\sklearn\\cluster\\_kmeans.py:870: FutureWarning: The default value of `n_init` will change from 10 to 'auto' in 1.4. Set the value of `n_init` explicitly to suppress the warning\n",
      "  warnings.warn(\n",
      "I'm studying hard now🧐, don't disturb!: 100%|██████████| 10/10 [00:02<00:00,  3.79it/s]\n",
      "Let's see how good I am...:   0%|          | 0/3 [00:00<?, ?it/s]c:\\Users\\dimaf\\miniconda3\\envs\\torch\\Lib\\site-packages\\sklearn\\cluster\\_kmeans.py:870: FutureWarning: The default value of `n_init` will change from 10 to 'auto' in 1.4. Set the value of `n_init` explicitly to suppress the warning\n",
      "  warnings.warn(\n",
      "Let's see how good I am...:  33%|███▎      | 1/3 [00:00<00:00,  3.58it/s]c:\\Users\\dimaf\\miniconda3\\envs\\torch\\Lib\\site-packages\\sklearn\\cluster\\_kmeans.py:870: FutureWarning: The default value of `n_init` will change from 10 to 'auto' in 1.4. Set the value of `n_init` explicitly to suppress the warning\n",
      "  warnings.warn(\n",
      "Let's see how good I am...:  67%|██████▋   | 2/3 [00:00<00:00,  3.70it/s]c:\\Users\\dimaf\\miniconda3\\envs\\torch\\Lib\\site-packages\\sklearn\\cluster\\_kmeans.py:870: FutureWarning: The default value of `n_init` will change from 10 to 'auto' in 1.4. Set the value of `n_init` explicitly to suppress the warning\n",
      "  warnings.warn(\n",
      "Let's see how good I am...: 100%|██████████| 3/3 [00:00<00:00,  3.82it/s]\n"
     ]
    },
    {
     "name": "stdout",
     "output_type": "stream",
     "text": [
      "Epoch: 5 of 40, 0.057 min\n"
     ]
    },
    {
     "name": "stderr",
     "output_type": "stream",
     "text": [
      "I'm studying hard now🧐, don't disturb!:   0%|          | 0/10 [00:00<?, ?it/s]c:\\Users\\dimaf\\miniconda3\\envs\\torch\\Lib\\site-packages\\sklearn\\cluster\\_kmeans.py:870: FutureWarning: The default value of `n_init` will change from 10 to 'auto' in 1.4. Set the value of `n_init` explicitly to suppress the warning\n",
      "  warnings.warn(\n",
      "I'm studying hard now🧐, don't disturb!:  10%|█         | 1/10 [00:00<00:02,  3.44it/s]c:\\Users\\dimaf\\miniconda3\\envs\\torch\\Lib\\site-packages\\sklearn\\cluster\\_kmeans.py:870: FutureWarning: The default value of `n_init` will change from 10 to 'auto' in 1.4. Set the value of `n_init` explicitly to suppress the warning\n",
      "  warnings.warn(\n",
      "I'm studying hard now🧐, don't disturb!:  20%|██        | 2/10 [00:00<00:02,  3.56it/s]c:\\Users\\dimaf\\miniconda3\\envs\\torch\\Lib\\site-packages\\sklearn\\cluster\\_kmeans.py:870: FutureWarning: The default value of `n_init` will change from 10 to 'auto' in 1.4. Set the value of `n_init` explicitly to suppress the warning\n",
      "  warnings.warn(\n",
      "I'm studying hard now🧐, don't disturb!:  30%|███       | 3/10 [00:00<00:01,  3.63it/s]c:\\Users\\dimaf\\miniconda3\\envs\\torch\\Lib\\site-packages\\sklearn\\cluster\\_kmeans.py:870: FutureWarning: The default value of `n_init` will change from 10 to 'auto' in 1.4. Set the value of `n_init` explicitly to suppress the warning\n",
      "  warnings.warn(\n",
      "I'm studying hard now🧐, don't disturb!:  40%|████      | 4/10 [00:01<00:01,  3.67it/s]c:\\Users\\dimaf\\miniconda3\\envs\\torch\\Lib\\site-packages\\sklearn\\cluster\\_kmeans.py:870: FutureWarning: The default value of `n_init` will change from 10 to 'auto' in 1.4. Set the value of `n_init` explicitly to suppress the warning\n",
      "  warnings.warn(\n",
      "I'm studying hard now🧐, don't disturb!:  50%|█████     | 5/10 [00:01<00:01,  3.71it/s]c:\\Users\\dimaf\\miniconda3\\envs\\torch\\Lib\\site-packages\\sklearn\\cluster\\_kmeans.py:870: FutureWarning: The default value of `n_init` will change from 10 to 'auto' in 1.4. Set the value of `n_init` explicitly to suppress the warning\n",
      "  warnings.warn(\n",
      "I'm studying hard now🧐, don't disturb!:  60%|██████    | 6/10 [00:01<00:01,  3.71it/s]c:\\Users\\dimaf\\miniconda3\\envs\\torch\\Lib\\site-packages\\sklearn\\cluster\\_kmeans.py:870: FutureWarning: The default value of `n_init` will change from 10 to 'auto' in 1.4. Set the value of `n_init` explicitly to suppress the warning\n",
      "  warnings.warn(\n",
      "I'm studying hard now🧐, don't disturb!:  70%|███████   | 7/10 [00:01<00:00,  3.73it/s]c:\\Users\\dimaf\\miniconda3\\envs\\torch\\Lib\\site-packages\\sklearn\\cluster\\_kmeans.py:870: FutureWarning: The default value of `n_init` will change from 10 to 'auto' in 1.4. Set the value of `n_init` explicitly to suppress the warning\n",
      "  warnings.warn(\n",
      "I'm studying hard now🧐, don't disturb!:  80%|████████  | 8/10 [00:02<00:00,  3.72it/s]c:\\Users\\dimaf\\miniconda3\\envs\\torch\\Lib\\site-packages\\sklearn\\cluster\\_kmeans.py:870: FutureWarning: The default value of `n_init` will change from 10 to 'auto' in 1.4. Set the value of `n_init` explicitly to suppress the warning\n",
      "  warnings.warn(\n",
      "I'm studying hard now🧐, don't disturb!:  90%|█████████ | 9/10 [00:02<00:00,  3.73it/s]c:\\Users\\dimaf\\miniconda3\\envs\\torch\\Lib\\site-packages\\sklearn\\cluster\\_kmeans.py:870: FutureWarning: The default value of `n_init` will change from 10 to 'auto' in 1.4. Set the value of `n_init` explicitly to suppress the warning\n",
      "  warnings.warn(\n",
      "I'm studying hard now🧐, don't disturb!: 100%|██████████| 10/10 [00:02<00:00,  3.71it/s]\n",
      "Let's see how good I am...:   0%|          | 0/3 [00:00<?, ?it/s]c:\\Users\\dimaf\\miniconda3\\envs\\torch\\Lib\\site-packages\\sklearn\\cluster\\_kmeans.py:870: FutureWarning: The default value of `n_init` will change from 10 to 'auto' in 1.4. Set the value of `n_init` explicitly to suppress the warning\n",
      "  warnings.warn(\n",
      "Let's see how good I am...:  33%|███▎      | 1/3 [00:00<00:00,  4.27it/s]c:\\Users\\dimaf\\miniconda3\\envs\\torch\\Lib\\site-packages\\sklearn\\cluster\\_kmeans.py:870: FutureWarning: The default value of `n_init` will change from 10 to 'auto' in 1.4. Set the value of `n_init` explicitly to suppress the warning\n",
      "  warnings.warn(\n",
      "Let's see how good I am...:  67%|██████▋   | 2/3 [00:00<00:00,  4.26it/s]c:\\Users\\dimaf\\miniconda3\\envs\\torch\\Lib\\site-packages\\sklearn\\cluster\\_kmeans.py:870: FutureWarning: The default value of `n_init` will change from 10 to 'auto' in 1.4. Set the value of `n_init` explicitly to suppress the warning\n",
      "  warnings.warn(\n",
      "Let's see how good I am...: 100%|██████████| 3/3 [00:00<00:00,  4.31it/s]\n"
     ]
    },
    {
     "name": "stdout",
     "output_type": "stream",
     "text": [
      "Epoch: 6 of 40, 0.057 min\n"
     ]
    },
    {
     "name": "stderr",
     "output_type": "stream",
     "text": [
      "I'm studying hard now🧐, don't disturb!:   0%|          | 0/10 [00:00<?, ?it/s]c:\\Users\\dimaf\\miniconda3\\envs\\torch\\Lib\\site-packages\\sklearn\\cluster\\_kmeans.py:870: FutureWarning: The default value of `n_init` will change from 10 to 'auto' in 1.4. Set the value of `n_init` explicitly to suppress the warning\n",
      "  warnings.warn(\n",
      "I'm studying hard now🧐, don't disturb!:  10%|█         | 1/10 [00:00<00:02,  3.88it/s]c:\\Users\\dimaf\\miniconda3\\envs\\torch\\Lib\\site-packages\\sklearn\\cluster\\_kmeans.py:870: FutureWarning: The default value of `n_init` will change from 10 to 'auto' in 1.4. Set the value of `n_init` explicitly to suppress the warning\n",
      "  warnings.warn(\n",
      "I'm studying hard now🧐, don't disturb!:  20%|██        | 2/10 [00:00<00:02,  3.74it/s]c:\\Users\\dimaf\\miniconda3\\envs\\torch\\Lib\\site-packages\\sklearn\\cluster\\_kmeans.py:870: FutureWarning: The default value of `n_init` will change from 10 to 'auto' in 1.4. Set the value of `n_init` explicitly to suppress the warning\n",
      "  warnings.warn(\n",
      "I'm studying hard now🧐, don't disturb!:  30%|███       | 3/10 [00:00<00:01,  3.75it/s]c:\\Users\\dimaf\\miniconda3\\envs\\torch\\Lib\\site-packages\\sklearn\\cluster\\_kmeans.py:870: FutureWarning: The default value of `n_init` will change from 10 to 'auto' in 1.4. Set the value of `n_init` explicitly to suppress the warning\n",
      "  warnings.warn(\n",
      "I'm studying hard now🧐, don't disturb!:  40%|████      | 4/10 [00:01<00:01,  3.75it/s]c:\\Users\\dimaf\\miniconda3\\envs\\torch\\Lib\\site-packages\\sklearn\\cluster\\_kmeans.py:870: FutureWarning: The default value of `n_init` will change from 10 to 'auto' in 1.4. Set the value of `n_init` explicitly to suppress the warning\n",
      "  warnings.warn(\n",
      "I'm studying hard now🧐, don't disturb!:  50%|█████     | 5/10 [00:01<00:01,  3.80it/s]c:\\Users\\dimaf\\miniconda3\\envs\\torch\\Lib\\site-packages\\sklearn\\cluster\\_kmeans.py:870: FutureWarning: The default value of `n_init` will change from 10 to 'auto' in 1.4. Set the value of `n_init` explicitly to suppress the warning\n",
      "  warnings.warn(\n",
      "I'm studying hard now🧐, don't disturb!:  60%|██████    | 6/10 [00:01<00:01,  3.83it/s]c:\\Users\\dimaf\\miniconda3\\envs\\torch\\Lib\\site-packages\\sklearn\\cluster\\_kmeans.py:870: FutureWarning: The default value of `n_init` will change from 10 to 'auto' in 1.4. Set the value of `n_init` explicitly to suppress the warning\n",
      "  warnings.warn(\n",
      "I'm studying hard now🧐, don't disturb!:  70%|███████   | 7/10 [00:01<00:00,  3.79it/s]c:\\Users\\dimaf\\miniconda3\\envs\\torch\\Lib\\site-packages\\sklearn\\cluster\\_kmeans.py:870: FutureWarning: The default value of `n_init` will change from 10 to 'auto' in 1.4. Set the value of `n_init` explicitly to suppress the warning\n",
      "  warnings.warn(\n",
      "I'm studying hard now🧐, don't disturb!:  80%|████████  | 8/10 [00:02<00:00,  3.78it/s]c:\\Users\\dimaf\\miniconda3\\envs\\torch\\Lib\\site-packages\\sklearn\\cluster\\_kmeans.py:870: FutureWarning: The default value of `n_init` will change from 10 to 'auto' in 1.4. Set the value of `n_init` explicitly to suppress the warning\n",
      "  warnings.warn(\n",
      "I'm studying hard now🧐, don't disturb!:  90%|█████████ | 9/10 [00:02<00:00,  3.70it/s]c:\\Users\\dimaf\\miniconda3\\envs\\torch\\Lib\\site-packages\\sklearn\\cluster\\_kmeans.py:870: FutureWarning: The default value of `n_init` will change from 10 to 'auto' in 1.4. Set the value of `n_init` explicitly to suppress the warning\n",
      "  warnings.warn(\n",
      "I'm studying hard now🧐, don't disturb!: 100%|██████████| 10/10 [00:02<00:00,  3.78it/s]\n",
      "Let's see how good I am...:   0%|          | 0/3 [00:00<?, ?it/s]c:\\Users\\dimaf\\miniconda3\\envs\\torch\\Lib\\site-packages\\sklearn\\cluster\\_kmeans.py:870: FutureWarning: The default value of `n_init` will change from 10 to 'auto' in 1.4. Set the value of `n_init` explicitly to suppress the warning\n",
      "  warnings.warn(\n",
      "Let's see how good I am...:  33%|███▎      | 1/3 [00:00<00:00,  4.28it/s]c:\\Users\\dimaf\\miniconda3\\envs\\torch\\Lib\\site-packages\\sklearn\\cluster\\_kmeans.py:870: FutureWarning: The default value of `n_init` will change from 10 to 'auto' in 1.4. Set the value of `n_init` explicitly to suppress the warning\n",
      "  warnings.warn(\n",
      "Let's see how good I am...:  67%|██████▋   | 2/3 [00:00<00:00,  4.19it/s]c:\\Users\\dimaf\\miniconda3\\envs\\torch\\Lib\\site-packages\\sklearn\\cluster\\_kmeans.py:870: FutureWarning: The default value of `n_init` will change from 10 to 'auto' in 1.4. Set the value of `n_init` explicitly to suppress the warning\n",
      "  warnings.warn(\n",
      "Let's see how good I am...: 100%|██████████| 3/3 [00:00<00:00,  4.28it/s]\n"
     ]
    },
    {
     "name": "stdout",
     "output_type": "stream",
     "text": [
      "Epoch: 7 of 40, 0.056 min\n"
     ]
    },
    {
     "name": "stderr",
     "output_type": "stream",
     "text": [
      "I'm studying hard now🧐, don't disturb!:   0%|          | 0/10 [00:00<?, ?it/s]c:\\Users\\dimaf\\miniconda3\\envs\\torch\\Lib\\site-packages\\sklearn\\cluster\\_kmeans.py:870: FutureWarning: The default value of `n_init` will change from 10 to 'auto' in 1.4. Set the value of `n_init` explicitly to suppress the warning\n",
      "  warnings.warn(\n",
      "I'm studying hard now🧐, don't disturb!:  10%|█         | 1/10 [00:00<00:02,  3.52it/s]c:\\Users\\dimaf\\miniconda3\\envs\\torch\\Lib\\site-packages\\sklearn\\cluster\\_kmeans.py:870: FutureWarning: The default value of `n_init` will change from 10 to 'auto' in 1.4. Set the value of `n_init` explicitly to suppress the warning\n",
      "  warnings.warn(\n",
      "I'm studying hard now🧐, don't disturb!:  20%|██        | 2/10 [00:00<00:02,  3.53it/s]c:\\Users\\dimaf\\miniconda3\\envs\\torch\\Lib\\site-packages\\sklearn\\cluster\\_kmeans.py:870: FutureWarning: The default value of `n_init` will change from 10 to 'auto' in 1.4. Set the value of `n_init` explicitly to suppress the warning\n",
      "  warnings.warn(\n",
      "I'm studying hard now🧐, don't disturb!:  30%|███       | 3/10 [00:00<00:01,  3.61it/s]c:\\Users\\dimaf\\miniconda3\\envs\\torch\\Lib\\site-packages\\sklearn\\cluster\\_kmeans.py:870: FutureWarning: The default value of `n_init` will change from 10 to 'auto' in 1.4. Set the value of `n_init` explicitly to suppress the warning\n",
      "  warnings.warn(\n",
      "I'm studying hard now🧐, don't disturb!:  40%|████      | 4/10 [00:01<00:01,  3.64it/s]c:\\Users\\dimaf\\miniconda3\\envs\\torch\\Lib\\site-packages\\sklearn\\cluster\\_kmeans.py:870: FutureWarning: The default value of `n_init` will change from 10 to 'auto' in 1.4. Set the value of `n_init` explicitly to suppress the warning\n",
      "  warnings.warn(\n",
      "I'm studying hard now🧐, don't disturb!:  50%|█████     | 5/10 [00:01<00:01,  3.73it/s]c:\\Users\\dimaf\\miniconda3\\envs\\torch\\Lib\\site-packages\\sklearn\\cluster\\_kmeans.py:870: FutureWarning: The default value of `n_init` will change from 10 to 'auto' in 1.4. Set the value of `n_init` explicitly to suppress the warning\n",
      "  warnings.warn(\n",
      "I'm studying hard now🧐, don't disturb!:  60%|██████    | 6/10 [00:01<00:01,  3.73it/s]c:\\Users\\dimaf\\miniconda3\\envs\\torch\\Lib\\site-packages\\sklearn\\cluster\\_kmeans.py:870: FutureWarning: The default value of `n_init` will change from 10 to 'auto' in 1.4. Set the value of `n_init` explicitly to suppress the warning\n",
      "  warnings.warn(\n",
      "I'm studying hard now🧐, don't disturb!:  70%|███████   | 7/10 [00:01<00:00,  3.69it/s]c:\\Users\\dimaf\\miniconda3\\envs\\torch\\Lib\\site-packages\\sklearn\\cluster\\_kmeans.py:870: FutureWarning: The default value of `n_init` will change from 10 to 'auto' in 1.4. Set the value of `n_init` explicitly to suppress the warning\n",
      "  warnings.warn(\n",
      "I'm studying hard now🧐, don't disturb!:  80%|████████  | 8/10 [00:02<00:00,  3.42it/s]c:\\Users\\dimaf\\miniconda3\\envs\\torch\\Lib\\site-packages\\sklearn\\cluster\\_kmeans.py:870: FutureWarning: The default value of `n_init` will change from 10 to 'auto' in 1.4. Set the value of `n_init` explicitly to suppress the warning\n",
      "  warnings.warn(\n",
      "I'm studying hard now🧐, don't disturb!:  90%|█████████ | 9/10 [00:02<00:00,  3.51it/s]c:\\Users\\dimaf\\miniconda3\\envs\\torch\\Lib\\site-packages\\sklearn\\cluster\\_kmeans.py:870: FutureWarning: The default value of `n_init` will change from 10 to 'auto' in 1.4. Set the value of `n_init` explicitly to suppress the warning\n",
      "  warnings.warn(\n",
      "I'm studying hard now🧐, don't disturb!: 100%|██████████| 10/10 [00:02<00:00,  3.60it/s]\n",
      "Let's see how good I am...:   0%|          | 0/3 [00:00<?, ?it/s]c:\\Users\\dimaf\\miniconda3\\envs\\torch\\Lib\\site-packages\\sklearn\\cluster\\_kmeans.py:870: FutureWarning: The default value of `n_init` will change from 10 to 'auto' in 1.4. Set the value of `n_init` explicitly to suppress the warning\n",
      "  warnings.warn(\n",
      "Let's see how good I am...:  33%|███▎      | 1/3 [00:00<00:00,  4.23it/s]c:\\Users\\dimaf\\miniconda3\\envs\\torch\\Lib\\site-packages\\sklearn\\cluster\\_kmeans.py:870: FutureWarning: The default value of `n_init` will change from 10 to 'auto' in 1.4. Set the value of `n_init` explicitly to suppress the warning\n",
      "  warnings.warn(\n",
      "Let's see how good I am...:  67%|██████▋   | 2/3 [00:00<00:00,  4.15it/s]c:\\Users\\dimaf\\miniconda3\\envs\\torch\\Lib\\site-packages\\sklearn\\cluster\\_kmeans.py:870: FutureWarning: The default value of `n_init` will change from 10 to 'auto' in 1.4. Set the value of `n_init` explicitly to suppress the warning\n",
      "  warnings.warn(\n",
      "Let's see how good I am...: 100%|██████████| 3/3 [00:00<00:00,  4.19it/s]\n"
     ]
    },
    {
     "name": "stdout",
     "output_type": "stream",
     "text": [
      "Epoch: 8 of 40, 0.058 min\n"
     ]
    },
    {
     "name": "stderr",
     "output_type": "stream",
     "text": [
      "I'm studying hard now🧐, don't disturb!:   0%|          | 0/10 [00:00<?, ?it/s]c:\\Users\\dimaf\\miniconda3\\envs\\torch\\Lib\\site-packages\\sklearn\\cluster\\_kmeans.py:870: FutureWarning: The default value of `n_init` will change from 10 to 'auto' in 1.4. Set the value of `n_init` explicitly to suppress the warning\n",
      "  warnings.warn(\n",
      "I'm studying hard now🧐, don't disturb!:  10%|█         | 1/10 [00:00<00:02,  3.52it/s]c:\\Users\\dimaf\\miniconda3\\envs\\torch\\Lib\\site-packages\\sklearn\\cluster\\_kmeans.py:870: FutureWarning: The default value of `n_init` will change from 10 to 'auto' in 1.4. Set the value of `n_init` explicitly to suppress the warning\n",
      "  warnings.warn(\n",
      "I'm studying hard now🧐, don't disturb!:  20%|██        | 2/10 [00:00<00:02,  3.63it/s]c:\\Users\\dimaf\\miniconda3\\envs\\torch\\Lib\\site-packages\\sklearn\\cluster\\_kmeans.py:870: FutureWarning: The default value of `n_init` will change from 10 to 'auto' in 1.4. Set the value of `n_init` explicitly to suppress the warning\n",
      "  warnings.warn(\n",
      "I'm studying hard now🧐, don't disturb!:  30%|███       | 3/10 [00:00<00:01,  3.73it/s]c:\\Users\\dimaf\\miniconda3\\envs\\torch\\Lib\\site-packages\\sklearn\\cluster\\_kmeans.py:870: FutureWarning: The default value of `n_init` will change from 10 to 'auto' in 1.4. Set the value of `n_init` explicitly to suppress the warning\n",
      "  warnings.warn(\n",
      "I'm studying hard now🧐, don't disturb!:  40%|████      | 4/10 [00:01<00:01,  3.61it/s]c:\\Users\\dimaf\\miniconda3\\envs\\torch\\Lib\\site-packages\\sklearn\\cluster\\_kmeans.py:870: FutureWarning: The default value of `n_init` will change from 10 to 'auto' in 1.4. Set the value of `n_init` explicitly to suppress the warning\n",
      "  warnings.warn(\n",
      "I'm studying hard now🧐, don't disturb!:  50%|█████     | 5/10 [00:01<00:01,  3.70it/s]c:\\Users\\dimaf\\miniconda3\\envs\\torch\\Lib\\site-packages\\sklearn\\cluster\\_kmeans.py:870: FutureWarning: The default value of `n_init` will change from 10 to 'auto' in 1.4. Set the value of `n_init` explicitly to suppress the warning\n",
      "  warnings.warn(\n",
      "I'm studying hard now🧐, don't disturb!:  60%|██████    | 6/10 [00:01<00:01,  3.59it/s]c:\\Users\\dimaf\\miniconda3\\envs\\torch\\Lib\\site-packages\\sklearn\\cluster\\_kmeans.py:870: FutureWarning: The default value of `n_init` will change from 10 to 'auto' in 1.4. Set the value of `n_init` explicitly to suppress the warning\n",
      "  warnings.warn(\n",
      "I'm studying hard now🧐, don't disturb!:  70%|███████   | 7/10 [00:01<00:00,  3.64it/s]c:\\Users\\dimaf\\miniconda3\\envs\\torch\\Lib\\site-packages\\sklearn\\cluster\\_kmeans.py:870: FutureWarning: The default value of `n_init` will change from 10 to 'auto' in 1.4. Set the value of `n_init` explicitly to suppress the warning\n",
      "  warnings.warn(\n",
      "I'm studying hard now🧐, don't disturb!:  80%|████████  | 8/10 [00:02<00:00,  3.60it/s]c:\\Users\\dimaf\\miniconda3\\envs\\torch\\Lib\\site-packages\\sklearn\\cluster\\_kmeans.py:870: FutureWarning: The default value of `n_init` will change from 10 to 'auto' in 1.4. Set the value of `n_init` explicitly to suppress the warning\n",
      "  warnings.warn(\n",
      "I'm studying hard now🧐, don't disturb!:  90%|█████████ | 9/10 [00:02<00:00,  3.59it/s]c:\\Users\\dimaf\\miniconda3\\envs\\torch\\Lib\\site-packages\\sklearn\\cluster\\_kmeans.py:870: FutureWarning: The default value of `n_init` will change from 10 to 'auto' in 1.4. Set the value of `n_init` explicitly to suppress the warning\n",
      "  warnings.warn(\n",
      "I'm studying hard now🧐, don't disturb!: 100%|██████████| 10/10 [00:02<00:00,  3.60it/s]\n",
      "Let's see how good I am...:   0%|          | 0/3 [00:00<?, ?it/s]c:\\Users\\dimaf\\miniconda3\\envs\\torch\\Lib\\site-packages\\sklearn\\cluster\\_kmeans.py:870: FutureWarning: The default value of `n_init` will change from 10 to 'auto' in 1.4. Set the value of `n_init` explicitly to suppress the warning\n",
      "  warnings.warn(\n",
      "Let's see how good I am...:  33%|███▎      | 1/3 [00:00<00:00,  4.22it/s]c:\\Users\\dimaf\\miniconda3\\envs\\torch\\Lib\\site-packages\\sklearn\\cluster\\_kmeans.py:870: FutureWarning: The default value of `n_init` will change from 10 to 'auto' in 1.4. Set the value of `n_init` explicitly to suppress the warning\n",
      "  warnings.warn(\n",
      "Let's see how good I am...:  67%|██████▋   | 2/3 [00:00<00:00,  4.09it/s]c:\\Users\\dimaf\\miniconda3\\envs\\torch\\Lib\\site-packages\\sklearn\\cluster\\_kmeans.py:870: FutureWarning: The default value of `n_init` will change from 10 to 'auto' in 1.4. Set the value of `n_init` explicitly to suppress the warning\n",
      "  warnings.warn(\n",
      "Let's see how good I am...: 100%|██████████| 3/3 [00:00<00:00,  3.90it/s]\n"
     ]
    },
    {
     "name": "stdout",
     "output_type": "stream",
     "text": [
      "Epoch: 9 of 40, 0.059 min\n"
     ]
    },
    {
     "name": "stderr",
     "output_type": "stream",
     "text": [
      "I'm studying hard now🧐, don't disturb!:   0%|          | 0/10 [00:00<?, ?it/s]c:\\Users\\dimaf\\miniconda3\\envs\\torch\\Lib\\site-packages\\sklearn\\cluster\\_kmeans.py:870: FutureWarning: The default value of `n_init` will change from 10 to 'auto' in 1.4. Set the value of `n_init` explicitly to suppress the warning\n",
      "  warnings.warn(\n",
      "I'm studying hard now🧐, don't disturb!:  10%|█         | 1/10 [00:00<00:02,  3.35it/s]c:\\Users\\dimaf\\miniconda3\\envs\\torch\\Lib\\site-packages\\sklearn\\cluster\\_kmeans.py:870: FutureWarning: The default value of `n_init` will change from 10 to 'auto' in 1.4. Set the value of `n_init` explicitly to suppress the warning\n",
      "  warnings.warn(\n",
      "I'm studying hard now🧐, don't disturb!:  20%|██        | 2/10 [00:00<00:02,  3.21it/s]c:\\Users\\dimaf\\miniconda3\\envs\\torch\\Lib\\site-packages\\sklearn\\cluster\\_kmeans.py:870: FutureWarning: The default value of `n_init` will change from 10 to 'auto' in 1.4. Set the value of `n_init` explicitly to suppress the warning\n",
      "  warnings.warn(\n",
      "I'm studying hard now🧐, don't disturb!:  30%|███       | 3/10 [00:00<00:02,  3.27it/s]c:\\Users\\dimaf\\miniconda3\\envs\\torch\\Lib\\site-packages\\sklearn\\cluster\\_kmeans.py:870: FutureWarning: The default value of `n_init` will change from 10 to 'auto' in 1.4. Set the value of `n_init` explicitly to suppress the warning\n",
      "  warnings.warn(\n",
      "I'm studying hard now🧐, don't disturb!:  40%|████      | 4/10 [00:01<00:01,  3.48it/s]c:\\Users\\dimaf\\miniconda3\\envs\\torch\\Lib\\site-packages\\sklearn\\cluster\\_kmeans.py:870: FutureWarning: The default value of `n_init` will change from 10 to 'auto' in 1.4. Set the value of `n_init` explicitly to suppress the warning\n",
      "  warnings.warn(\n",
      "I'm studying hard now🧐, don't disturb!:  50%|█████     | 5/10 [00:01<00:01,  3.56it/s]c:\\Users\\dimaf\\miniconda3\\envs\\torch\\Lib\\site-packages\\sklearn\\cluster\\_kmeans.py:870: FutureWarning: The default value of `n_init` will change from 10 to 'auto' in 1.4. Set the value of `n_init` explicitly to suppress the warning\n",
      "  warnings.warn(\n",
      "I'm studying hard now🧐, don't disturb!:  60%|██████    | 6/10 [00:01<00:01,  3.63it/s]c:\\Users\\dimaf\\miniconda3\\envs\\torch\\Lib\\site-packages\\sklearn\\cluster\\_kmeans.py:870: FutureWarning: The default value of `n_init` will change from 10 to 'auto' in 1.4. Set the value of `n_init` explicitly to suppress the warning\n",
      "  warnings.warn(\n",
      "I'm studying hard now🧐, don't disturb!:  70%|███████   | 7/10 [00:01<00:00,  3.66it/s]c:\\Users\\dimaf\\miniconda3\\envs\\torch\\Lib\\site-packages\\sklearn\\cluster\\_kmeans.py:870: FutureWarning: The default value of `n_init` will change from 10 to 'auto' in 1.4. Set the value of `n_init` explicitly to suppress the warning\n",
      "  warnings.warn(\n",
      "I'm studying hard now🧐, don't disturb!:  80%|████████  | 8/10 [00:02<00:00,  3.65it/s]c:\\Users\\dimaf\\miniconda3\\envs\\torch\\Lib\\site-packages\\sklearn\\cluster\\_kmeans.py:870: FutureWarning: The default value of `n_init` will change from 10 to 'auto' in 1.4. Set the value of `n_init` explicitly to suppress the warning\n",
      "  warnings.warn(\n",
      "I'm studying hard now🧐, don't disturb!:  90%|█████████ | 9/10 [00:02<00:00,  3.68it/s]c:\\Users\\dimaf\\miniconda3\\envs\\torch\\Lib\\site-packages\\sklearn\\cluster\\_kmeans.py:870: FutureWarning: The default value of `n_init` will change from 10 to 'auto' in 1.4. Set the value of `n_init` explicitly to suppress the warning\n",
      "  warnings.warn(\n",
      "I'm studying hard now🧐, don't disturb!: 100%|██████████| 10/10 [00:02<00:00,  3.61it/s]\n",
      "Let's see how good I am...:   0%|          | 0/3 [00:00<?, ?it/s]c:\\Users\\dimaf\\miniconda3\\envs\\torch\\Lib\\site-packages\\sklearn\\cluster\\_kmeans.py:870: FutureWarning: The default value of `n_init` will change from 10 to 'auto' in 1.4. Set the value of `n_init` explicitly to suppress the warning\n",
      "  warnings.warn(\n",
      "Let's see how good I am...:  33%|███▎      | 1/3 [00:00<00:00,  4.14it/s]c:\\Users\\dimaf\\miniconda3\\envs\\torch\\Lib\\site-packages\\sklearn\\cluster\\_kmeans.py:870: FutureWarning: The default value of `n_init` will change from 10 to 'auto' in 1.4. Set the value of `n_init` explicitly to suppress the warning\n",
      "  warnings.warn(\n",
      "Let's see how good I am...:  67%|██████▋   | 2/3 [00:00<00:00,  4.28it/s]c:\\Users\\dimaf\\miniconda3\\envs\\torch\\Lib\\site-packages\\sklearn\\cluster\\_kmeans.py:870: FutureWarning: The default value of `n_init` will change from 10 to 'auto' in 1.4. Set the value of `n_init` explicitly to suppress the warning\n",
      "  warnings.warn(\n",
      "Let's see how good I am...: 100%|██████████| 3/3 [00:00<00:00,  4.31it/s]\n"
     ]
    },
    {
     "name": "stdout",
     "output_type": "stream",
     "text": [
      "Epoch: 10 of 40, 0.058 min\n"
     ]
    },
    {
     "name": "stderr",
     "output_type": "stream",
     "text": [
      "I'm studying hard now🧐, don't disturb!:   0%|          | 0/10 [00:00<?, ?it/s]c:\\Users\\dimaf\\miniconda3\\envs\\torch\\Lib\\site-packages\\sklearn\\cluster\\_kmeans.py:870: FutureWarning: The default value of `n_init` will change from 10 to 'auto' in 1.4. Set the value of `n_init` explicitly to suppress the warning\n",
      "  warnings.warn(\n",
      "I'm studying hard now🧐, don't disturb!:  10%|█         | 1/10 [00:00<00:02,  3.84it/s]c:\\Users\\dimaf\\miniconda3\\envs\\torch\\Lib\\site-packages\\sklearn\\cluster\\_kmeans.py:870: FutureWarning: The default value of `n_init` will change from 10 to 'auto' in 1.4. Set the value of `n_init` explicitly to suppress the warning\n",
      "  warnings.warn(\n",
      "I'm studying hard now🧐, don't disturb!:  20%|██        | 2/10 [00:00<00:02,  3.85it/s]c:\\Users\\dimaf\\miniconda3\\envs\\torch\\Lib\\site-packages\\sklearn\\cluster\\_kmeans.py:870: FutureWarning: The default value of `n_init` will change from 10 to 'auto' in 1.4. Set the value of `n_init` explicitly to suppress the warning\n",
      "  warnings.warn(\n",
      "I'm studying hard now🧐, don't disturb!:  30%|███       | 3/10 [00:00<00:01,  3.79it/s]c:\\Users\\dimaf\\miniconda3\\envs\\torch\\Lib\\site-packages\\sklearn\\cluster\\_kmeans.py:870: FutureWarning: The default value of `n_init` will change from 10 to 'auto' in 1.4. Set the value of `n_init` explicitly to suppress the warning\n",
      "  warnings.warn(\n",
      "I'm studying hard now🧐, don't disturb!:  40%|████      | 4/10 [00:01<00:01,  3.75it/s]c:\\Users\\dimaf\\miniconda3\\envs\\torch\\Lib\\site-packages\\sklearn\\cluster\\_kmeans.py:870: FutureWarning: The default value of `n_init` will change from 10 to 'auto' in 1.4. Set the value of `n_init` explicitly to suppress the warning\n",
      "  warnings.warn(\n",
      "I'm studying hard now🧐, don't disturb!:  50%|█████     | 5/10 [00:01<00:01,  3.73it/s]c:\\Users\\dimaf\\miniconda3\\envs\\torch\\Lib\\site-packages\\sklearn\\cluster\\_kmeans.py:870: FutureWarning: The default value of `n_init` will change from 10 to 'auto' in 1.4. Set the value of `n_init` explicitly to suppress the warning\n",
      "  warnings.warn(\n",
      "I'm studying hard now🧐, don't disturb!:  60%|██████    | 6/10 [00:01<00:01,  3.77it/s]c:\\Users\\dimaf\\miniconda3\\envs\\torch\\Lib\\site-packages\\sklearn\\cluster\\_kmeans.py:870: FutureWarning: The default value of `n_init` will change from 10 to 'auto' in 1.4. Set the value of `n_init` explicitly to suppress the warning\n",
      "  warnings.warn(\n",
      "I'm studying hard now🧐, don't disturb!:  70%|███████   | 7/10 [00:01<00:00,  3.76it/s]c:\\Users\\dimaf\\miniconda3\\envs\\torch\\Lib\\site-packages\\sklearn\\cluster\\_kmeans.py:870: FutureWarning: The default value of `n_init` will change from 10 to 'auto' in 1.4. Set the value of `n_init` explicitly to suppress the warning\n",
      "  warnings.warn(\n",
      "I'm studying hard now🧐, don't disturb!:  80%|████████  | 8/10 [00:02<00:00,  3.74it/s]c:\\Users\\dimaf\\miniconda3\\envs\\torch\\Lib\\site-packages\\sklearn\\cluster\\_kmeans.py:870: FutureWarning: The default value of `n_init` will change from 10 to 'auto' in 1.4. Set the value of `n_init` explicitly to suppress the warning\n",
      "  warnings.warn(\n",
      "I'm studying hard now🧐, don't disturb!:  90%|█████████ | 9/10 [00:02<00:00,  3.68it/s]c:\\Users\\dimaf\\miniconda3\\envs\\torch\\Lib\\site-packages\\sklearn\\cluster\\_kmeans.py:870: FutureWarning: The default value of `n_init` will change from 10 to 'auto' in 1.4. Set the value of `n_init` explicitly to suppress the warning\n",
      "  warnings.warn(\n",
      "I'm studying hard now🧐, don't disturb!: 100%|██████████| 10/10 [00:02<00:00,  3.75it/s]\n",
      "Let's see how good I am...:   0%|          | 0/3 [00:00<?, ?it/s]c:\\Users\\dimaf\\miniconda3\\envs\\torch\\Lib\\site-packages\\sklearn\\cluster\\_kmeans.py:870: FutureWarning: The default value of `n_init` will change from 10 to 'auto' in 1.4. Set the value of `n_init` explicitly to suppress the warning\n",
      "  warnings.warn(\n",
      "Let's see how good I am...:  33%|███▎      | 1/3 [00:00<00:00,  4.14it/s]c:\\Users\\dimaf\\miniconda3\\envs\\torch\\Lib\\site-packages\\sklearn\\cluster\\_kmeans.py:870: FutureWarning: The default value of `n_init` will change from 10 to 'auto' in 1.4. Set the value of `n_init` explicitly to suppress the warning\n",
      "  warnings.warn(\n",
      "Let's see how good I am...:  67%|██████▋   | 2/3 [00:00<00:00,  4.04it/s]c:\\Users\\dimaf\\miniconda3\\envs\\torch\\Lib\\site-packages\\sklearn\\cluster\\_kmeans.py:870: FutureWarning: The default value of `n_init` will change from 10 to 'auto' in 1.4. Set the value of `n_init` explicitly to suppress the warning\n",
      "  warnings.warn(\n",
      "Let's see how good I am...: 100%|██████████| 3/3 [00:00<00:00,  4.07it/s]\n"
     ]
    },
    {
     "name": "stdout",
     "output_type": "stream",
     "text": [
      "Epoch: 11 of 40, 0.057 min\n"
     ]
    },
    {
     "name": "stderr",
     "output_type": "stream",
     "text": [
      "I'm studying hard now🧐, don't disturb!:   0%|          | 0/10 [00:00<?, ?it/s]c:\\Users\\dimaf\\miniconda3\\envs\\torch\\Lib\\site-packages\\sklearn\\cluster\\_kmeans.py:870: FutureWarning: The default value of `n_init` will change from 10 to 'auto' in 1.4. Set the value of `n_init` explicitly to suppress the warning\n",
      "  warnings.warn(\n",
      "I'm studying hard now🧐, don't disturb!:  10%|█         | 1/10 [00:00<00:02,  3.86it/s]c:\\Users\\dimaf\\miniconda3\\envs\\torch\\Lib\\site-packages\\sklearn\\cluster\\_kmeans.py:870: FutureWarning: The default value of `n_init` will change from 10 to 'auto' in 1.4. Set the value of `n_init` explicitly to suppress the warning\n",
      "  warnings.warn(\n",
      "I'm studying hard now🧐, don't disturb!:  20%|██        | 2/10 [00:00<00:02,  3.85it/s]c:\\Users\\dimaf\\miniconda3\\envs\\torch\\Lib\\site-packages\\sklearn\\cluster\\_kmeans.py:870: FutureWarning: The default value of `n_init` will change from 10 to 'auto' in 1.4. Set the value of `n_init` explicitly to suppress the warning\n",
      "  warnings.warn(\n",
      "I'm studying hard now🧐, don't disturb!:  30%|███       | 3/10 [00:00<00:01,  3.70it/s]c:\\Users\\dimaf\\miniconda3\\envs\\torch\\Lib\\site-packages\\sklearn\\cluster\\_kmeans.py:870: FutureWarning: The default value of `n_init` will change from 10 to 'auto' in 1.4. Set the value of `n_init` explicitly to suppress the warning\n",
      "  warnings.warn(\n",
      "I'm studying hard now🧐, don't disturb!:  40%|████      | 4/10 [00:01<00:01,  3.72it/s]c:\\Users\\dimaf\\miniconda3\\envs\\torch\\Lib\\site-packages\\sklearn\\cluster\\_kmeans.py:870: FutureWarning: The default value of `n_init` will change from 10 to 'auto' in 1.4. Set the value of `n_init` explicitly to suppress the warning\n",
      "  warnings.warn(\n",
      "I'm studying hard now🧐, don't disturb!:  50%|█████     | 5/10 [00:01<00:01,  3.73it/s]c:\\Users\\dimaf\\miniconda3\\envs\\torch\\Lib\\site-packages\\sklearn\\cluster\\_kmeans.py:870: FutureWarning: The default value of `n_init` will change from 10 to 'auto' in 1.4. Set the value of `n_init` explicitly to suppress the warning\n",
      "  warnings.warn(\n",
      "I'm studying hard now🧐, don't disturb!:  60%|██████    | 6/10 [00:01<00:01,  3.53it/s]c:\\Users\\dimaf\\miniconda3\\envs\\torch\\Lib\\site-packages\\sklearn\\cluster\\_kmeans.py:870: FutureWarning: The default value of `n_init` will change from 10 to 'auto' in 1.4. Set the value of `n_init` explicitly to suppress the warning\n",
      "  warnings.warn(\n",
      "I'm studying hard now🧐, don't disturb!:  70%|███████   | 7/10 [00:01<00:00,  3.52it/s]c:\\Users\\dimaf\\miniconda3\\envs\\torch\\Lib\\site-packages\\sklearn\\cluster\\_kmeans.py:870: FutureWarning: The default value of `n_init` will change from 10 to 'auto' in 1.4. Set the value of `n_init` explicitly to suppress the warning\n",
      "  warnings.warn(\n",
      "I'm studying hard now🧐, don't disturb!:  80%|████████  | 8/10 [00:02<00:00,  3.46it/s]c:\\Users\\dimaf\\miniconda3\\envs\\torch\\Lib\\site-packages\\sklearn\\cluster\\_kmeans.py:870: FutureWarning: The default value of `n_init` will change from 10 to 'auto' in 1.4. Set the value of `n_init` explicitly to suppress the warning\n",
      "  warnings.warn(\n",
      "I'm studying hard now🧐, don't disturb!:  90%|█████████ | 9/10 [00:02<00:00,  3.45it/s]c:\\Users\\dimaf\\miniconda3\\envs\\torch\\Lib\\site-packages\\sklearn\\cluster\\_kmeans.py:870: FutureWarning: The default value of `n_init` will change from 10 to 'auto' in 1.4. Set the value of `n_init` explicitly to suppress the warning\n",
      "  warnings.warn(\n",
      "I'm studying hard now🧐, don't disturb!: 100%|██████████| 10/10 [00:02<00:00,  3.57it/s]\n",
      "Let's see how good I am...:   0%|          | 0/3 [00:00<?, ?it/s]c:\\Users\\dimaf\\miniconda3\\envs\\torch\\Lib\\site-packages\\sklearn\\cluster\\_kmeans.py:870: FutureWarning: The default value of `n_init` will change from 10 to 'auto' in 1.4. Set the value of `n_init` explicitly to suppress the warning\n",
      "  warnings.warn(\n",
      "Let's see how good I am...:  33%|███▎      | 1/3 [00:00<00:00,  3.76it/s]c:\\Users\\dimaf\\miniconda3\\envs\\torch\\Lib\\site-packages\\sklearn\\cluster\\_kmeans.py:870: FutureWarning: The default value of `n_init` will change from 10 to 'auto' in 1.4. Set the value of `n_init` explicitly to suppress the warning\n",
      "  warnings.warn(\n",
      "Let's see how good I am...:  67%|██████▋   | 2/3 [00:00<00:00,  3.89it/s]c:\\Users\\dimaf\\miniconda3\\envs\\torch\\Lib\\site-packages\\sklearn\\cluster\\_kmeans.py:870: FutureWarning: The default value of `n_init` will change from 10 to 'auto' in 1.4. Set the value of `n_init` explicitly to suppress the warning\n",
      "  warnings.warn(\n",
      "Let's see how good I am...: 100%|██████████| 3/3 [00:00<00:00,  3.96it/s]\n"
     ]
    },
    {
     "name": "stdout",
     "output_type": "stream",
     "text": [
      "Epoch: 12 of 40, 0.060 min\n"
     ]
    },
    {
     "name": "stderr",
     "output_type": "stream",
     "text": [
      "I'm studying hard now🧐, don't disturb!:   0%|          | 0/10 [00:00<?, ?it/s]c:\\Users\\dimaf\\miniconda3\\envs\\torch\\Lib\\site-packages\\sklearn\\cluster\\_kmeans.py:870: FutureWarning: The default value of `n_init` will change from 10 to 'auto' in 1.4. Set the value of `n_init` explicitly to suppress the warning\n",
      "  warnings.warn(\n",
      "I'm studying hard now🧐, don't disturb!:  10%|█         | 1/10 [00:00<00:02,  3.87it/s]c:\\Users\\dimaf\\miniconda3\\envs\\torch\\Lib\\site-packages\\sklearn\\cluster\\_kmeans.py:870: FutureWarning: The default value of `n_init` will change from 10 to 'auto' in 1.4. Set the value of `n_init` explicitly to suppress the warning\n",
      "  warnings.warn(\n",
      "I'm studying hard now🧐, don't disturb!:  20%|██        | 2/10 [00:00<00:02,  3.80it/s]c:\\Users\\dimaf\\miniconda3\\envs\\torch\\Lib\\site-packages\\sklearn\\cluster\\_kmeans.py:870: FutureWarning: The default value of `n_init` will change from 10 to 'auto' in 1.4. Set the value of `n_init` explicitly to suppress the warning\n",
      "  warnings.warn(\n",
      "I'm studying hard now🧐, don't disturb!:  30%|███       | 3/10 [00:00<00:01,  3.82it/s]c:\\Users\\dimaf\\miniconda3\\envs\\torch\\Lib\\site-packages\\sklearn\\cluster\\_kmeans.py:870: FutureWarning: The default value of `n_init` will change from 10 to 'auto' in 1.4. Set the value of `n_init` explicitly to suppress the warning\n",
      "  warnings.warn(\n",
      "I'm studying hard now🧐, don't disturb!:  40%|████      | 4/10 [00:01<00:01,  3.75it/s]c:\\Users\\dimaf\\miniconda3\\envs\\torch\\Lib\\site-packages\\sklearn\\cluster\\_kmeans.py:870: FutureWarning: The default value of `n_init` will change from 10 to 'auto' in 1.4. Set the value of `n_init` explicitly to suppress the warning\n",
      "  warnings.warn(\n",
      "I'm studying hard now🧐, don't disturb!:  50%|█████     | 5/10 [00:01<00:01,  3.67it/s]c:\\Users\\dimaf\\miniconda3\\envs\\torch\\Lib\\site-packages\\sklearn\\cluster\\_kmeans.py:870: FutureWarning: The default value of `n_init` will change from 10 to 'auto' in 1.4. Set the value of `n_init` explicitly to suppress the warning\n",
      "  warnings.warn(\n",
      "I'm studying hard now🧐, don't disturb!:  60%|██████    | 6/10 [00:01<00:01,  3.66it/s]c:\\Users\\dimaf\\miniconda3\\envs\\torch\\Lib\\site-packages\\sklearn\\cluster\\_kmeans.py:870: FutureWarning: The default value of `n_init` will change from 10 to 'auto' in 1.4. Set the value of `n_init` explicitly to suppress the warning\n",
      "  warnings.warn(\n",
      "I'm studying hard now🧐, don't disturb!:  70%|███████   | 7/10 [00:01<00:00,  3.69it/s]c:\\Users\\dimaf\\miniconda3\\envs\\torch\\Lib\\site-packages\\sklearn\\cluster\\_kmeans.py:870: FutureWarning: The default value of `n_init` will change from 10 to 'auto' in 1.4. Set the value of `n_init` explicitly to suppress the warning\n",
      "  warnings.warn(\n",
      "I'm studying hard now🧐, don't disturb!:  80%|████████  | 8/10 [00:02<00:00,  3.65it/s]c:\\Users\\dimaf\\miniconda3\\envs\\torch\\Lib\\site-packages\\sklearn\\cluster\\_kmeans.py:870: FutureWarning: The default value of `n_init` will change from 10 to 'auto' in 1.4. Set the value of `n_init` explicitly to suppress the warning\n",
      "  warnings.warn(\n",
      "I'm studying hard now🧐, don't disturb!:  90%|█████████ | 9/10 [00:02<00:00,  3.69it/s]c:\\Users\\dimaf\\miniconda3\\envs\\torch\\Lib\\site-packages\\sklearn\\cluster\\_kmeans.py:870: FutureWarning: The default value of `n_init` will change from 10 to 'auto' in 1.4. Set the value of `n_init` explicitly to suppress the warning\n",
      "  warnings.warn(\n",
      "I'm studying hard now🧐, don't disturb!: 100%|██████████| 10/10 [00:02<00:00,  3.70it/s]\n",
      "Let's see how good I am...:   0%|          | 0/3 [00:00<?, ?it/s]c:\\Users\\dimaf\\miniconda3\\envs\\torch\\Lib\\site-packages\\sklearn\\cluster\\_kmeans.py:870: FutureWarning: The default value of `n_init` will change from 10 to 'auto' in 1.4. Set the value of `n_init` explicitly to suppress the warning\n",
      "  warnings.warn(\n",
      "Let's see how good I am...:  33%|███▎      | 1/3 [00:00<00:00,  4.28it/s]c:\\Users\\dimaf\\miniconda3\\envs\\torch\\Lib\\site-packages\\sklearn\\cluster\\_kmeans.py:870: FutureWarning: The default value of `n_init` will change from 10 to 'auto' in 1.4. Set the value of `n_init` explicitly to suppress the warning\n",
      "  warnings.warn(\n",
      "Let's see how good I am...:  67%|██████▋   | 2/3 [00:00<00:00,  4.12it/s]c:\\Users\\dimaf\\miniconda3\\envs\\torch\\Lib\\site-packages\\sklearn\\cluster\\_kmeans.py:870: FutureWarning: The default value of `n_init` will change from 10 to 'auto' in 1.4. Set the value of `n_init` explicitly to suppress the warning\n",
      "  warnings.warn(\n",
      "Let's see how good I am...: 100%|██████████| 3/3 [00:00<00:00,  4.14it/s]\n"
     ]
    },
    {
     "name": "stdout",
     "output_type": "stream",
     "text": [
      "Epoch: 13 of 40, 0.057 min\n"
     ]
    },
    {
     "name": "stderr",
     "output_type": "stream",
     "text": [
      "I'm studying hard now🧐, don't disturb!:   0%|          | 0/10 [00:00<?, ?it/s]c:\\Users\\dimaf\\miniconda3\\envs\\torch\\Lib\\site-packages\\sklearn\\cluster\\_kmeans.py:870: FutureWarning: The default value of `n_init` will change from 10 to 'auto' in 1.4. Set the value of `n_init` explicitly to suppress the warning\n",
      "  warnings.warn(\n",
      "I'm studying hard now🧐, don't disturb!:  10%|█         | 1/10 [00:00<00:02,  3.73it/s]c:\\Users\\dimaf\\miniconda3\\envs\\torch\\Lib\\site-packages\\sklearn\\cluster\\_kmeans.py:870: FutureWarning: The default value of `n_init` will change from 10 to 'auto' in 1.4. Set the value of `n_init` explicitly to suppress the warning\n",
      "  warnings.warn(\n",
      "I'm studying hard now🧐, don't disturb!:  20%|██        | 2/10 [00:00<00:02,  3.81it/s]c:\\Users\\dimaf\\miniconda3\\envs\\torch\\Lib\\site-packages\\sklearn\\cluster\\_kmeans.py:870: FutureWarning: The default value of `n_init` will change from 10 to 'auto' in 1.4. Set the value of `n_init` explicitly to suppress the warning\n",
      "  warnings.warn(\n",
      "I'm studying hard now🧐, don't disturb!:  30%|███       | 3/10 [00:00<00:01,  3.67it/s]c:\\Users\\dimaf\\miniconda3\\envs\\torch\\Lib\\site-packages\\sklearn\\cluster\\_kmeans.py:870: FutureWarning: The default value of `n_init` will change from 10 to 'auto' in 1.4. Set the value of `n_init` explicitly to suppress the warning\n",
      "  warnings.warn(\n",
      "I'm studying hard now🧐, don't disturb!:  40%|████      | 4/10 [00:01<00:01,  3.66it/s]c:\\Users\\dimaf\\miniconda3\\envs\\torch\\Lib\\site-packages\\sklearn\\cluster\\_kmeans.py:870: FutureWarning: The default value of `n_init` will change from 10 to 'auto' in 1.4. Set the value of `n_init` explicitly to suppress the warning\n",
      "  warnings.warn(\n",
      "I'm studying hard now🧐, don't disturb!:  50%|█████     | 5/10 [00:01<00:01,  3.69it/s]c:\\Users\\dimaf\\miniconda3\\envs\\torch\\Lib\\site-packages\\sklearn\\cluster\\_kmeans.py:870: FutureWarning: The default value of `n_init` will change from 10 to 'auto' in 1.4. Set the value of `n_init` explicitly to suppress the warning\n",
      "  warnings.warn(\n",
      "I'm studying hard now🧐, don't disturb!:  60%|██████    | 6/10 [00:01<00:01,  3.66it/s]c:\\Users\\dimaf\\miniconda3\\envs\\torch\\Lib\\site-packages\\sklearn\\cluster\\_kmeans.py:870: FutureWarning: The default value of `n_init` will change from 10 to 'auto' in 1.4. Set the value of `n_init` explicitly to suppress the warning\n",
      "  warnings.warn(\n",
      "I'm studying hard now🧐, don't disturb!:  70%|███████   | 7/10 [00:01<00:00,  3.69it/s]c:\\Users\\dimaf\\miniconda3\\envs\\torch\\Lib\\site-packages\\sklearn\\cluster\\_kmeans.py:870: FutureWarning: The default value of `n_init` will change from 10 to 'auto' in 1.4. Set the value of `n_init` explicitly to suppress the warning\n",
      "  warnings.warn(\n",
      "I'm studying hard now🧐, don't disturb!:  80%|████████  | 8/10 [00:02<00:00,  3.67it/s]c:\\Users\\dimaf\\miniconda3\\envs\\torch\\Lib\\site-packages\\sklearn\\cluster\\_kmeans.py:870: FutureWarning: The default value of `n_init` will change from 10 to 'auto' in 1.4. Set the value of `n_init` explicitly to suppress the warning\n",
      "  warnings.warn(\n",
      "I'm studying hard now🧐, don't disturb!:  90%|█████████ | 9/10 [00:02<00:00,  3.65it/s]c:\\Users\\dimaf\\miniconda3\\envs\\torch\\Lib\\site-packages\\sklearn\\cluster\\_kmeans.py:870: FutureWarning: The default value of `n_init` will change from 10 to 'auto' in 1.4. Set the value of `n_init` explicitly to suppress the warning\n",
      "  warnings.warn(\n",
      "I'm studying hard now🧐, don't disturb!: 100%|██████████| 10/10 [00:02<00:00,  3.69it/s]\n",
      "Let's see how good I am...:   0%|          | 0/3 [00:00<?, ?it/s]c:\\Users\\dimaf\\miniconda3\\envs\\torch\\Lib\\site-packages\\sklearn\\cluster\\_kmeans.py:870: FutureWarning: The default value of `n_init` will change from 10 to 'auto' in 1.4. Set the value of `n_init` explicitly to suppress the warning\n",
      "  warnings.warn(\n",
      "Let's see how good I am...:  33%|███▎      | 1/3 [00:00<00:00,  4.12it/s]c:\\Users\\dimaf\\miniconda3\\envs\\torch\\Lib\\site-packages\\sklearn\\cluster\\_kmeans.py:870: FutureWarning: The default value of `n_init` will change from 10 to 'auto' in 1.4. Set the value of `n_init` explicitly to suppress the warning\n",
      "  warnings.warn(\n",
      "Let's see how good I am...:  67%|██████▋   | 2/3 [00:00<00:00,  4.20it/s]c:\\Users\\dimaf\\miniconda3\\envs\\torch\\Lib\\site-packages\\sklearn\\cluster\\_kmeans.py:870: FutureWarning: The default value of `n_init` will change from 10 to 'auto' in 1.4. Set the value of `n_init` explicitly to suppress the warning\n",
      "  warnings.warn(\n",
      "Let's see how good I am...: 100%|██████████| 3/3 [00:00<00:00,  4.20it/s]\n"
     ]
    },
    {
     "name": "stdout",
     "output_type": "stream",
     "text": [
      "Epoch: 14 of 40, 0.057 min\n"
     ]
    },
    {
     "name": "stderr",
     "output_type": "stream",
     "text": [
      "I'm studying hard now🧐, don't disturb!:   0%|          | 0/10 [00:00<?, ?it/s]c:\\Users\\dimaf\\miniconda3\\envs\\torch\\Lib\\site-packages\\sklearn\\cluster\\_kmeans.py:870: FutureWarning: The default value of `n_init` will change from 10 to 'auto' in 1.4. Set the value of `n_init` explicitly to suppress the warning\n",
      "  warnings.warn(\n",
      "I'm studying hard now🧐, don't disturb!:  10%|█         | 1/10 [00:00<00:02,  3.58it/s]c:\\Users\\dimaf\\miniconda3\\envs\\torch\\Lib\\site-packages\\sklearn\\cluster\\_kmeans.py:870: FutureWarning: The default value of `n_init` will change from 10 to 'auto' in 1.4. Set the value of `n_init` explicitly to suppress the warning\n",
      "  warnings.warn(\n",
      "I'm studying hard now🧐, don't disturb!:  20%|██        | 2/10 [00:00<00:02,  3.61it/s]c:\\Users\\dimaf\\miniconda3\\envs\\torch\\Lib\\site-packages\\sklearn\\cluster\\_kmeans.py:870: FutureWarning: The default value of `n_init` will change from 10 to 'auto' in 1.4. Set the value of `n_init` explicitly to suppress the warning\n",
      "  warnings.warn(\n",
      "I'm studying hard now🧐, don't disturb!:  30%|███       | 3/10 [00:00<00:01,  3.71it/s]c:\\Users\\dimaf\\miniconda3\\envs\\torch\\Lib\\site-packages\\sklearn\\cluster\\_kmeans.py:870: FutureWarning: The default value of `n_init` will change from 10 to 'auto' in 1.4. Set the value of `n_init` explicitly to suppress the warning\n",
      "  warnings.warn(\n",
      "I'm studying hard now🧐, don't disturb!:  40%|████      | 4/10 [00:01<00:01,  3.51it/s]c:\\Users\\dimaf\\miniconda3\\envs\\torch\\Lib\\site-packages\\sklearn\\cluster\\_kmeans.py:870: FutureWarning: The default value of `n_init` will change from 10 to 'auto' in 1.4. Set the value of `n_init` explicitly to suppress the warning\n",
      "  warnings.warn(\n",
      "I'm studying hard now🧐, don't disturb!:  50%|█████     | 5/10 [00:01<00:01,  3.44it/s]c:\\Users\\dimaf\\miniconda3\\envs\\torch\\Lib\\site-packages\\sklearn\\cluster\\_kmeans.py:870: FutureWarning: The default value of `n_init` will change from 10 to 'auto' in 1.4. Set the value of `n_init` explicitly to suppress the warning\n",
      "  warnings.warn(\n",
      "I'm studying hard now🧐, don't disturb!:  60%|██████    | 6/10 [00:01<00:01,  3.47it/s]c:\\Users\\dimaf\\miniconda3\\envs\\torch\\Lib\\site-packages\\sklearn\\cluster\\_kmeans.py:870: FutureWarning: The default value of `n_init` will change from 10 to 'auto' in 1.4. Set the value of `n_init` explicitly to suppress the warning\n",
      "  warnings.warn(\n",
      "I'm studying hard now🧐, don't disturb!:  70%|███████   | 7/10 [00:01<00:00,  3.48it/s]c:\\Users\\dimaf\\miniconda3\\envs\\torch\\Lib\\site-packages\\sklearn\\cluster\\_kmeans.py:870: FutureWarning: The default value of `n_init` will change from 10 to 'auto' in 1.4. Set the value of `n_init` explicitly to suppress the warning\n",
      "  warnings.warn(\n",
      "I'm studying hard now🧐, don't disturb!:  80%|████████  | 8/10 [00:02<00:00,  3.44it/s]c:\\Users\\dimaf\\miniconda3\\envs\\torch\\Lib\\site-packages\\sklearn\\cluster\\_kmeans.py:870: FutureWarning: The default value of `n_init` will change from 10 to 'auto' in 1.4. Set the value of `n_init` explicitly to suppress the warning\n",
      "  warnings.warn(\n",
      "I'm studying hard now🧐, don't disturb!:  90%|█████████ | 9/10 [00:02<00:00,  3.40it/s]c:\\Users\\dimaf\\miniconda3\\envs\\torch\\Lib\\site-packages\\sklearn\\cluster\\_kmeans.py:870: FutureWarning: The default value of `n_init` will change from 10 to 'auto' in 1.4. Set the value of `n_init` explicitly to suppress the warning\n",
      "  warnings.warn(\n",
      "I'm studying hard now🧐, don't disturb!: 100%|██████████| 10/10 [00:02<00:00,  3.44it/s]\n",
      "Let's see how good I am...:   0%|          | 0/3 [00:00<?, ?it/s]c:\\Users\\dimaf\\miniconda3\\envs\\torch\\Lib\\site-packages\\sklearn\\cluster\\_kmeans.py:870: FutureWarning: The default value of `n_init` will change from 10 to 'auto' in 1.4. Set the value of `n_init` explicitly to suppress the warning\n",
      "  warnings.warn(\n",
      "Let's see how good I am...:  33%|███▎      | 1/3 [00:00<00:00,  3.25it/s]c:\\Users\\dimaf\\miniconda3\\envs\\torch\\Lib\\site-packages\\sklearn\\cluster\\_kmeans.py:870: FutureWarning: The default value of `n_init` will change from 10 to 'auto' in 1.4. Set the value of `n_init` explicitly to suppress the warning\n",
      "  warnings.warn(\n",
      "Let's see how good I am...:  67%|██████▋   | 2/3 [00:00<00:00,  2.73it/s]c:\\Users\\dimaf\\miniconda3\\envs\\torch\\Lib\\site-packages\\sklearn\\cluster\\_kmeans.py:870: FutureWarning: The default value of `n_init` will change from 10 to 'auto' in 1.4. Set the value of `n_init` explicitly to suppress the warning\n",
      "  warnings.warn(\n",
      "Let's see how good I am...: 100%|██████████| 3/3 [00:01<00:00,  2.94it/s]\n"
     ]
    },
    {
     "name": "stdout",
     "output_type": "stream",
     "text": [
      "Epoch: 15 of 40, 0.066 min\n"
     ]
    },
    {
     "name": "stderr",
     "output_type": "stream",
     "text": [
      "I'm studying hard now🧐, don't disturb!:   0%|          | 0/10 [00:00<?, ?it/s]c:\\Users\\dimaf\\miniconda3\\envs\\torch\\Lib\\site-packages\\sklearn\\cluster\\_kmeans.py:870: FutureWarning: The default value of `n_init` will change from 10 to 'auto' in 1.4. Set the value of `n_init` explicitly to suppress the warning\n",
      "  warnings.warn(\n",
      "I'm studying hard now🧐, don't disturb!:  10%|█         | 1/10 [00:00<00:02,  3.53it/s]c:\\Users\\dimaf\\miniconda3\\envs\\torch\\Lib\\site-packages\\sklearn\\cluster\\_kmeans.py:870: FutureWarning: The default value of `n_init` will change from 10 to 'auto' in 1.4. Set the value of `n_init` explicitly to suppress the warning\n",
      "  warnings.warn(\n",
      "I'm studying hard now🧐, don't disturb!:  20%|██        | 2/10 [00:00<00:02,  3.52it/s]c:\\Users\\dimaf\\miniconda3\\envs\\torch\\Lib\\site-packages\\sklearn\\cluster\\_kmeans.py:870: FutureWarning: The default value of `n_init` will change from 10 to 'auto' in 1.4. Set the value of `n_init` explicitly to suppress the warning\n",
      "  warnings.warn(\n",
      "I'm studying hard now🧐, don't disturb!:  30%|███       | 3/10 [00:00<00:01,  3.51it/s]c:\\Users\\dimaf\\miniconda3\\envs\\torch\\Lib\\site-packages\\sklearn\\cluster\\_kmeans.py:870: FutureWarning: The default value of `n_init` will change from 10 to 'auto' in 1.4. Set the value of `n_init` explicitly to suppress the warning\n",
      "  warnings.warn(\n",
      "I'm studying hard now🧐, don't disturb!:  40%|████      | 4/10 [00:01<00:01,  3.19it/s]c:\\Users\\dimaf\\miniconda3\\envs\\torch\\Lib\\site-packages\\sklearn\\cluster\\_kmeans.py:870: FutureWarning: The default value of `n_init` will change from 10 to 'auto' in 1.4. Set the value of `n_init` explicitly to suppress the warning\n",
      "  warnings.warn(\n",
      "I'm studying hard now🧐, don't disturb!:  50%|█████     | 5/10 [00:01<00:01,  3.21it/s]c:\\Users\\dimaf\\miniconda3\\envs\\torch\\Lib\\site-packages\\sklearn\\cluster\\_kmeans.py:870: FutureWarning: The default value of `n_init` will change from 10 to 'auto' in 1.4. Set the value of `n_init` explicitly to suppress the warning\n",
      "  warnings.warn(\n",
      "I'm studying hard now🧐, don't disturb!:  60%|██████    | 6/10 [00:01<00:01,  3.22it/s]c:\\Users\\dimaf\\miniconda3\\envs\\torch\\Lib\\site-packages\\sklearn\\cluster\\_kmeans.py:870: FutureWarning: The default value of `n_init` will change from 10 to 'auto' in 1.4. Set the value of `n_init` explicitly to suppress the warning\n",
      "  warnings.warn(\n",
      "I'm studying hard now🧐, don't disturb!:  70%|███████   | 7/10 [00:02<00:00,  3.03it/s]c:\\Users\\dimaf\\miniconda3\\envs\\torch\\Lib\\site-packages\\sklearn\\cluster\\_kmeans.py:870: FutureWarning: The default value of `n_init` will change from 10 to 'auto' in 1.4. Set the value of `n_init` explicitly to suppress the warning\n",
      "  warnings.warn(\n",
      "I'm studying hard now🧐, don't disturb!:  80%|████████  | 8/10 [00:02<00:00,  3.08it/s]c:\\Users\\dimaf\\miniconda3\\envs\\torch\\Lib\\site-packages\\sklearn\\cluster\\_kmeans.py:870: FutureWarning: The default value of `n_init` will change from 10 to 'auto' in 1.4. Set the value of `n_init` explicitly to suppress the warning\n",
      "  warnings.warn(\n",
      "I'm studying hard now🧐, don't disturb!:  90%|█████████ | 9/10 [00:02<00:00,  3.03it/s]c:\\Users\\dimaf\\miniconda3\\envs\\torch\\Lib\\site-packages\\sklearn\\cluster\\_kmeans.py:870: FutureWarning: The default value of `n_init` will change from 10 to 'auto' in 1.4. Set the value of `n_init` explicitly to suppress the warning\n",
      "  warnings.warn(\n",
      "I'm studying hard now🧐, don't disturb!: 100%|██████████| 10/10 [00:03<00:00,  3.17it/s]\n",
      "Let's see how good I am...:   0%|          | 0/3 [00:00<?, ?it/s]c:\\Users\\dimaf\\miniconda3\\envs\\torch\\Lib\\site-packages\\sklearn\\cluster\\_kmeans.py:870: FutureWarning: The default value of `n_init` will change from 10 to 'auto' in 1.4. Set the value of `n_init` explicitly to suppress the warning\n",
      "  warnings.warn(\n",
      "Let's see how good I am...:  33%|███▎      | 1/3 [00:00<00:00,  3.45it/s]c:\\Users\\dimaf\\miniconda3\\envs\\torch\\Lib\\site-packages\\sklearn\\cluster\\_kmeans.py:870: FutureWarning: The default value of `n_init` will change from 10 to 'auto' in 1.4. Set the value of `n_init` explicitly to suppress the warning\n",
      "  warnings.warn(\n",
      "Let's see how good I am...:  67%|██████▋   | 2/3 [00:00<00:00,  2.88it/s]c:\\Users\\dimaf\\miniconda3\\envs\\torch\\Lib\\site-packages\\sklearn\\cluster\\_kmeans.py:870: FutureWarning: The default value of `n_init` will change from 10 to 'auto' in 1.4. Set the value of `n_init` explicitly to suppress the warning\n",
      "  warnings.warn(\n",
      "Let's see how good I am...: 100%|██████████| 3/3 [00:01<00:00,  2.92it/s]\n"
     ]
    },
    {
     "name": "stdout",
     "output_type": "stream",
     "text": [
      "Epoch: 16 of 40, 0.070 min\n"
     ]
    },
    {
     "name": "stderr",
     "output_type": "stream",
     "text": [
      "I'm studying hard now🧐, don't disturb!:   0%|          | 0/10 [00:00<?, ?it/s]c:\\Users\\dimaf\\miniconda3\\envs\\torch\\Lib\\site-packages\\sklearn\\cluster\\_kmeans.py:870: FutureWarning: The default value of `n_init` will change from 10 to 'auto' in 1.4. Set the value of `n_init` explicitly to suppress the warning\n",
      "  warnings.warn(\n",
      "I'm studying hard now🧐, don't disturb!:  10%|█         | 1/10 [00:00<00:03,  2.74it/s]c:\\Users\\dimaf\\miniconda3\\envs\\torch\\Lib\\site-packages\\sklearn\\cluster\\_kmeans.py:870: FutureWarning: The default value of `n_init` will change from 10 to 'auto' in 1.4. Set the value of `n_init` explicitly to suppress the warning\n",
      "  warnings.warn(\n",
      "I'm studying hard now🧐, don't disturb!:  20%|██        | 2/10 [00:00<00:02,  3.14it/s]c:\\Users\\dimaf\\miniconda3\\envs\\torch\\Lib\\site-packages\\sklearn\\cluster\\_kmeans.py:870: FutureWarning: The default value of `n_init` will change from 10 to 'auto' in 1.4. Set the value of `n_init` explicitly to suppress the warning\n",
      "  warnings.warn(\n",
      "I'm studying hard now🧐, don't disturb!:  30%|███       | 3/10 [00:00<00:02,  3.30it/s]c:\\Users\\dimaf\\miniconda3\\envs\\torch\\Lib\\site-packages\\sklearn\\cluster\\_kmeans.py:870: FutureWarning: The default value of `n_init` will change from 10 to 'auto' in 1.4. Set the value of `n_init` explicitly to suppress the warning\n",
      "  warnings.warn(\n",
      "I'm studying hard now🧐, don't disturb!:  40%|████      | 4/10 [00:01<00:01,  3.42it/s]c:\\Users\\dimaf\\miniconda3\\envs\\torch\\Lib\\site-packages\\sklearn\\cluster\\_kmeans.py:870: FutureWarning: The default value of `n_init` will change from 10 to 'auto' in 1.4. Set the value of `n_init` explicitly to suppress the warning\n",
      "  warnings.warn(\n",
      "I'm studying hard now🧐, don't disturb!:  50%|█████     | 5/10 [00:01<00:01,  3.35it/s]c:\\Users\\dimaf\\miniconda3\\envs\\torch\\Lib\\site-packages\\sklearn\\cluster\\_kmeans.py:870: FutureWarning: The default value of `n_init` will change from 10 to 'auto' in 1.4. Set the value of `n_init` explicitly to suppress the warning\n",
      "  warnings.warn(\n",
      "I'm studying hard now🧐, don't disturb!:  60%|██████    | 6/10 [00:01<00:01,  3.44it/s]c:\\Users\\dimaf\\miniconda3\\envs\\torch\\Lib\\site-packages\\sklearn\\cluster\\_kmeans.py:870: FutureWarning: The default value of `n_init` will change from 10 to 'auto' in 1.4. Set the value of `n_init` explicitly to suppress the warning\n",
      "  warnings.warn(\n",
      "I'm studying hard now🧐, don't disturb!:  70%|███████   | 7/10 [00:02<00:00,  3.50it/s]c:\\Users\\dimaf\\miniconda3\\envs\\torch\\Lib\\site-packages\\sklearn\\cluster\\_kmeans.py:870: FutureWarning: The default value of `n_init` will change from 10 to 'auto' in 1.4. Set the value of `n_init` explicitly to suppress the warning\n",
      "  warnings.warn(\n",
      "I'm studying hard now🧐, don't disturb!:  80%|████████  | 8/10 [00:02<00:00,  3.50it/s]c:\\Users\\dimaf\\miniconda3\\envs\\torch\\Lib\\site-packages\\sklearn\\cluster\\_kmeans.py:870: FutureWarning: The default value of `n_init` will change from 10 to 'auto' in 1.4. Set the value of `n_init` explicitly to suppress the warning\n",
      "  warnings.warn(\n",
      "I'm studying hard now🧐, don't disturb!:  90%|█████████ | 9/10 [00:02<00:00,  3.53it/s]c:\\Users\\dimaf\\miniconda3\\envs\\torch\\Lib\\site-packages\\sklearn\\cluster\\_kmeans.py:870: FutureWarning: The default value of `n_init` will change from 10 to 'auto' in 1.4. Set the value of `n_init` explicitly to suppress the warning\n",
      "  warnings.warn(\n",
      "I'm studying hard now🧐, don't disturb!: 100%|██████████| 10/10 [00:02<00:00,  3.46it/s]\n",
      "Let's see how good I am...:   0%|          | 0/3 [00:00<?, ?it/s]c:\\Users\\dimaf\\miniconda3\\envs\\torch\\Lib\\site-packages\\sklearn\\cluster\\_kmeans.py:870: FutureWarning: The default value of `n_init` will change from 10 to 'auto' in 1.4. Set the value of `n_init` explicitly to suppress the warning\n",
      "  warnings.warn(\n",
      "Let's see how good I am...:  33%|███▎      | 1/3 [00:00<00:00,  3.99it/s]c:\\Users\\dimaf\\miniconda3\\envs\\torch\\Lib\\site-packages\\sklearn\\cluster\\_kmeans.py:870: FutureWarning: The default value of `n_init` will change from 10 to 'auto' in 1.4. Set the value of `n_init` explicitly to suppress the warning\n",
      "  warnings.warn(\n",
      "Let's see how good I am...:  67%|██████▋   | 2/3 [00:00<00:00,  2.77it/s]c:\\Users\\dimaf\\miniconda3\\envs\\torch\\Lib\\site-packages\\sklearn\\cluster\\_kmeans.py:870: FutureWarning: The default value of `n_init` will change from 10 to 'auto' in 1.4. Set the value of `n_init` explicitly to suppress the warning\n",
      "  warnings.warn(\n",
      "Let's see how good I am...: 100%|██████████| 3/3 [00:00<00:00,  3.13it/s]\n"
     ]
    },
    {
     "name": "stdout",
     "output_type": "stream",
     "text": [
      "Epoch: 17 of 40, 0.064 min\n"
     ]
    },
    {
     "name": "stderr",
     "output_type": "stream",
     "text": [
      "I'm studying hard now🧐, don't disturb!:   0%|          | 0/10 [00:00<?, ?it/s]c:\\Users\\dimaf\\miniconda3\\envs\\torch\\Lib\\site-packages\\sklearn\\cluster\\_kmeans.py:870: FutureWarning: The default value of `n_init` will change from 10 to 'auto' in 1.4. Set the value of `n_init` explicitly to suppress the warning\n",
      "  warnings.warn(\n",
      "I'm studying hard now🧐, don't disturb!:  10%|█         | 1/10 [00:00<00:03,  2.87it/s]c:\\Users\\dimaf\\miniconda3\\envs\\torch\\Lib\\site-packages\\sklearn\\cluster\\_kmeans.py:870: FutureWarning: The default value of `n_init` will change from 10 to 'auto' in 1.4. Set the value of `n_init` explicitly to suppress the warning\n",
      "  warnings.warn(\n",
      "I'm studying hard now🧐, don't disturb!:  20%|██        | 2/10 [00:00<00:02,  3.16it/s]c:\\Users\\dimaf\\miniconda3\\envs\\torch\\Lib\\site-packages\\sklearn\\cluster\\_kmeans.py:870: FutureWarning: The default value of `n_init` will change from 10 to 'auto' in 1.4. Set the value of `n_init` explicitly to suppress the warning\n",
      "  warnings.warn(\n",
      "I'm studying hard now🧐, don't disturb!:  30%|███       | 3/10 [00:00<00:02,  3.35it/s]c:\\Users\\dimaf\\miniconda3\\envs\\torch\\Lib\\site-packages\\sklearn\\cluster\\_kmeans.py:870: FutureWarning: The default value of `n_init` will change from 10 to 'auto' in 1.4. Set the value of `n_init` explicitly to suppress the warning\n",
      "  warnings.warn(\n",
      "I'm studying hard now🧐, don't disturb!:  40%|████      | 4/10 [00:01<00:01,  3.46it/s]c:\\Users\\dimaf\\miniconda3\\envs\\torch\\Lib\\site-packages\\sklearn\\cluster\\_kmeans.py:870: FutureWarning: The default value of `n_init` will change from 10 to 'auto' in 1.4. Set the value of `n_init` explicitly to suppress the warning\n",
      "  warnings.warn(\n",
      "I'm studying hard now🧐, don't disturb!:  50%|█████     | 5/10 [00:01<00:01,  3.55it/s]c:\\Users\\dimaf\\miniconda3\\envs\\torch\\Lib\\site-packages\\sklearn\\cluster\\_kmeans.py:870: FutureWarning: The default value of `n_init` will change from 10 to 'auto' in 1.4. Set the value of `n_init` explicitly to suppress the warning\n",
      "  warnings.warn(\n",
      "I'm studying hard now🧐, don't disturb!:  60%|██████    | 6/10 [00:01<00:01,  3.51it/s]c:\\Users\\dimaf\\miniconda3\\envs\\torch\\Lib\\site-packages\\sklearn\\cluster\\_kmeans.py:870: FutureWarning: The default value of `n_init` will change from 10 to 'auto' in 1.4. Set the value of `n_init` explicitly to suppress the warning\n",
      "  warnings.warn(\n",
      "I'm studying hard now🧐, don't disturb!:  70%|███████   | 7/10 [00:02<00:00,  3.42it/s]c:\\Users\\dimaf\\miniconda3\\envs\\torch\\Lib\\site-packages\\sklearn\\cluster\\_kmeans.py:870: FutureWarning: The default value of `n_init` will change from 10 to 'auto' in 1.4. Set the value of `n_init` explicitly to suppress the warning\n",
      "  warnings.warn(\n",
      "I'm studying hard now🧐, don't disturb!:  80%|████████  | 8/10 [00:02<00:00,  3.42it/s]c:\\Users\\dimaf\\miniconda3\\envs\\torch\\Lib\\site-packages\\sklearn\\cluster\\_kmeans.py:870: FutureWarning: The default value of `n_init` will change from 10 to 'auto' in 1.4. Set the value of `n_init` explicitly to suppress the warning\n",
      "  warnings.warn(\n",
      "I'm studying hard now🧐, don't disturb!:  90%|█████████ | 9/10 [00:02<00:00,  3.43it/s]c:\\Users\\dimaf\\miniconda3\\envs\\torch\\Lib\\site-packages\\sklearn\\cluster\\_kmeans.py:870: FutureWarning: The default value of `n_init` will change from 10 to 'auto' in 1.4. Set the value of `n_init` explicitly to suppress the warning\n",
      "  warnings.warn(\n",
      "I'm studying hard now🧐, don't disturb!: 100%|██████████| 10/10 [00:02<00:00,  3.44it/s]\n",
      "Let's see how good I am...:   0%|          | 0/3 [00:00<?, ?it/s]c:\\Users\\dimaf\\miniconda3\\envs\\torch\\Lib\\site-packages\\sklearn\\cluster\\_kmeans.py:870: FutureWarning: The default value of `n_init` will change from 10 to 'auto' in 1.4. Set the value of `n_init` explicitly to suppress the warning\n",
      "  warnings.warn(\n",
      "Let's see how good I am...:  33%|███▎      | 1/3 [00:00<00:00,  4.11it/s]c:\\Users\\dimaf\\miniconda3\\envs\\torch\\Lib\\site-packages\\sklearn\\cluster\\_kmeans.py:870: FutureWarning: The default value of `n_init` will change from 10 to 'auto' in 1.4. Set the value of `n_init` explicitly to suppress the warning\n",
      "  warnings.warn(\n",
      "Let's see how good I am...:  67%|██████▋   | 2/3 [00:00<00:00,  3.92it/s]c:\\Users\\dimaf\\miniconda3\\envs\\torch\\Lib\\site-packages\\sklearn\\cluster\\_kmeans.py:870: FutureWarning: The default value of `n_init` will change from 10 to 'auto' in 1.4. Set the value of `n_init` explicitly to suppress the warning\n",
      "  warnings.warn(\n",
      "Let's see how good I am...: 100%|██████████| 3/3 [00:00<00:00,  4.06it/s]\n"
     ]
    },
    {
     "name": "stdout",
     "output_type": "stream",
     "text": [
      "Epoch: 18 of 40, 0.061 min\n"
     ]
    },
    {
     "name": "stderr",
     "output_type": "stream",
     "text": [
      "I'm studying hard now🧐, don't disturb!:   0%|          | 0/10 [00:00<?, ?it/s]c:\\Users\\dimaf\\miniconda3\\envs\\torch\\Lib\\site-packages\\sklearn\\cluster\\_kmeans.py:870: FutureWarning: The default value of `n_init` will change from 10 to 'auto' in 1.4. Set the value of `n_init` explicitly to suppress the warning\n",
      "  warnings.warn(\n",
      "I'm studying hard now🧐, don't disturb!:  10%|█         | 1/10 [00:00<00:02,  3.51it/s]c:\\Users\\dimaf\\miniconda3\\envs\\torch\\Lib\\site-packages\\sklearn\\cluster\\_kmeans.py:870: FutureWarning: The default value of `n_init` will change from 10 to 'auto' in 1.4. Set the value of `n_init` explicitly to suppress the warning\n",
      "  warnings.warn(\n",
      "I'm studying hard now🧐, don't disturb!:  20%|██        | 2/10 [00:00<00:02,  3.46it/s]c:\\Users\\dimaf\\miniconda3\\envs\\torch\\Lib\\site-packages\\sklearn\\cluster\\_kmeans.py:870: FutureWarning: The default value of `n_init` will change from 10 to 'auto' in 1.4. Set the value of `n_init` explicitly to suppress the warning\n",
      "  warnings.warn(\n",
      "I'm studying hard now🧐, don't disturb!:  30%|███       | 3/10 [00:00<00:02,  2.95it/s]c:\\Users\\dimaf\\miniconda3\\envs\\torch\\Lib\\site-packages\\sklearn\\cluster\\_kmeans.py:870: FutureWarning: The default value of `n_init` will change from 10 to 'auto' in 1.4. Set the value of `n_init` explicitly to suppress the warning\n",
      "  warnings.warn(\n",
      "I'm studying hard now🧐, don't disturb!:  40%|████      | 4/10 [00:01<00:02,  2.71it/s]c:\\Users\\dimaf\\miniconda3\\envs\\torch\\Lib\\site-packages\\sklearn\\cluster\\_kmeans.py:870: FutureWarning: The default value of `n_init` will change from 10 to 'auto' in 1.4. Set the value of `n_init` explicitly to suppress the warning\n",
      "  warnings.warn(\n",
      "I'm studying hard now🧐, don't disturb!:  50%|█████     | 5/10 [00:01<00:01,  2.77it/s]c:\\Users\\dimaf\\miniconda3\\envs\\torch\\Lib\\site-packages\\sklearn\\cluster\\_kmeans.py:870: FutureWarning: The default value of `n_init` will change from 10 to 'auto' in 1.4. Set the value of `n_init` explicitly to suppress the warning\n",
      "  warnings.warn(\n",
      "I'm studying hard now🧐, don't disturb!:  60%|██████    | 6/10 [00:02<00:01,  2.96it/s]c:\\Users\\dimaf\\miniconda3\\envs\\torch\\Lib\\site-packages\\sklearn\\cluster\\_kmeans.py:870: FutureWarning: The default value of `n_init` will change from 10 to 'auto' in 1.4. Set the value of `n_init` explicitly to suppress the warning\n",
      "  warnings.warn(\n",
      "I'm studying hard now🧐, don't disturb!:  70%|███████   | 7/10 [00:02<00:00,  3.12it/s]c:\\Users\\dimaf\\miniconda3\\envs\\torch\\Lib\\site-packages\\sklearn\\cluster\\_kmeans.py:870: FutureWarning: The default value of `n_init` will change from 10 to 'auto' in 1.4. Set the value of `n_init` explicitly to suppress the warning\n",
      "  warnings.warn(\n",
      "I'm studying hard now🧐, don't disturb!:  80%|████████  | 8/10 [00:02<00:00,  2.83it/s]c:\\Users\\dimaf\\miniconda3\\envs\\torch\\Lib\\site-packages\\sklearn\\cluster\\_kmeans.py:870: FutureWarning: The default value of `n_init` will change from 10 to 'auto' in 1.4. Set the value of `n_init` explicitly to suppress the warning\n",
      "  warnings.warn(\n",
      "I'm studying hard now🧐, don't disturb!:  90%|█████████ | 9/10 [00:03<00:00,  2.59it/s]c:\\Users\\dimaf\\miniconda3\\envs\\torch\\Lib\\site-packages\\sklearn\\cluster\\_kmeans.py:870: FutureWarning: The default value of `n_init` will change from 10 to 'auto' in 1.4. Set the value of `n_init` explicitly to suppress the warning\n",
      "  warnings.warn(\n",
      "I'm studying hard now🧐, don't disturb!: 100%|██████████| 10/10 [00:03<00:00,  2.74it/s]\n",
      "Let's see how good I am...:   0%|          | 0/3 [00:00<?, ?it/s]c:\\Users\\dimaf\\miniconda3\\envs\\torch\\Lib\\site-packages\\sklearn\\cluster\\_kmeans.py:870: FutureWarning: The default value of `n_init` will change from 10 to 'auto' in 1.4. Set the value of `n_init` explicitly to suppress the warning\n",
      "  warnings.warn(\n",
      "Let's see how good I am...:  33%|███▎      | 1/3 [00:00<00:00,  2.26it/s]c:\\Users\\dimaf\\miniconda3\\envs\\torch\\Lib\\site-packages\\sklearn\\cluster\\_kmeans.py:870: FutureWarning: The default value of `n_init` will change from 10 to 'auto' in 1.4. Set the value of `n_init` explicitly to suppress the warning\n",
      "  warnings.warn(\n",
      "Let's see how good I am...:  67%|██████▋   | 2/3 [00:00<00:00,  2.65it/s]c:\\Users\\dimaf\\miniconda3\\envs\\torch\\Lib\\site-packages\\sklearn\\cluster\\_kmeans.py:870: FutureWarning: The default value of `n_init` will change from 10 to 'auto' in 1.4. Set the value of `n_init` explicitly to suppress the warning\n",
      "  warnings.warn(\n",
      "Let's see how good I am...: 100%|██████████| 3/3 [00:01<00:00,  2.82it/s]\n"
     ]
    },
    {
     "name": "stdout",
     "output_type": "stream",
     "text": [
      "Epoch: 19 of 40, 0.079 min\n"
     ]
    },
    {
     "name": "stderr",
     "output_type": "stream",
     "text": [
      "I'm studying hard now🧐, don't disturb!:   0%|          | 0/10 [00:00<?, ?it/s]c:\\Users\\dimaf\\miniconda3\\envs\\torch\\Lib\\site-packages\\sklearn\\cluster\\_kmeans.py:870: FutureWarning: The default value of `n_init` will change from 10 to 'auto' in 1.4. Set the value of `n_init` explicitly to suppress the warning\n",
      "  warnings.warn(\n",
      "I'm studying hard now🧐, don't disturb!:  10%|█         | 1/10 [00:00<00:02,  3.74it/s]c:\\Users\\dimaf\\miniconda3\\envs\\torch\\Lib\\site-packages\\sklearn\\cluster\\_kmeans.py:870: FutureWarning: The default value of `n_init` will change from 10 to 'auto' in 1.4. Set the value of `n_init` explicitly to suppress the warning\n",
      "  warnings.warn(\n",
      "I'm studying hard now🧐, don't disturb!:  20%|██        | 2/10 [00:00<00:02,  3.23it/s]c:\\Users\\dimaf\\miniconda3\\envs\\torch\\Lib\\site-packages\\sklearn\\cluster\\_kmeans.py:870: FutureWarning: The default value of `n_init` will change from 10 to 'auto' in 1.4. Set the value of `n_init` explicitly to suppress the warning\n",
      "  warnings.warn(\n",
      "I'm studying hard now🧐, don't disturb!:  30%|███       | 3/10 [00:00<00:02,  3.41it/s]c:\\Users\\dimaf\\miniconda3\\envs\\torch\\Lib\\site-packages\\sklearn\\cluster\\_kmeans.py:870: FutureWarning: The default value of `n_init` will change from 10 to 'auto' in 1.4. Set the value of `n_init` explicitly to suppress the warning\n",
      "  warnings.warn(\n",
      "I'm studying hard now🧐, don't disturb!:  40%|████      | 4/10 [00:01<00:01,  3.53it/s]c:\\Users\\dimaf\\miniconda3\\envs\\torch\\Lib\\site-packages\\sklearn\\cluster\\_kmeans.py:870: FutureWarning: The default value of `n_init` will change from 10 to 'auto' in 1.4. Set the value of `n_init` explicitly to suppress the warning\n",
      "  warnings.warn(\n",
      "I'm studying hard now🧐, don't disturb!:  50%|█████     | 5/10 [00:01<00:01,  3.57it/s]c:\\Users\\dimaf\\miniconda3\\envs\\torch\\Lib\\site-packages\\sklearn\\cluster\\_kmeans.py:870: FutureWarning: The default value of `n_init` will change from 10 to 'auto' in 1.4. Set the value of `n_init` explicitly to suppress the warning\n",
      "  warnings.warn(\n",
      "I'm studying hard now🧐, don't disturb!:  60%|██████    | 6/10 [00:01<00:01,  3.60it/s]c:\\Users\\dimaf\\miniconda3\\envs\\torch\\Lib\\site-packages\\sklearn\\cluster\\_kmeans.py:870: FutureWarning: The default value of `n_init` will change from 10 to 'auto' in 1.4. Set the value of `n_init` explicitly to suppress the warning\n",
      "  warnings.warn(\n",
      "I'm studying hard now🧐, don't disturb!:  70%|███████   | 7/10 [00:01<00:00,  3.61it/s]c:\\Users\\dimaf\\miniconda3\\envs\\torch\\Lib\\site-packages\\sklearn\\cluster\\_kmeans.py:870: FutureWarning: The default value of `n_init` will change from 10 to 'auto' in 1.4. Set the value of `n_init` explicitly to suppress the warning\n",
      "  warnings.warn(\n",
      "I'm studying hard now🧐, don't disturb!:  80%|████████  | 8/10 [00:02<00:00,  3.62it/s]c:\\Users\\dimaf\\miniconda3\\envs\\torch\\Lib\\site-packages\\sklearn\\cluster\\_kmeans.py:870: FutureWarning: The default value of `n_init` will change from 10 to 'auto' in 1.4. Set the value of `n_init` explicitly to suppress the warning\n",
      "  warnings.warn(\n",
      "I'm studying hard now🧐, don't disturb!:  90%|█████████ | 9/10 [00:02<00:00,  3.50it/s]c:\\Users\\dimaf\\miniconda3\\envs\\torch\\Lib\\site-packages\\sklearn\\cluster\\_kmeans.py:870: FutureWarning: The default value of `n_init` will change from 10 to 'auto' in 1.4. Set the value of `n_init` explicitly to suppress the warning\n",
      "  warnings.warn(\n",
      "I'm studying hard now🧐, don't disturb!: 100%|██████████| 10/10 [00:02<00:00,  3.53it/s]\n",
      "Let's see how good I am...:   0%|          | 0/3 [00:00<?, ?it/s]c:\\Users\\dimaf\\miniconda3\\envs\\torch\\Lib\\site-packages\\sklearn\\cluster\\_kmeans.py:870: FutureWarning: The default value of `n_init` will change from 10 to 'auto' in 1.4. Set the value of `n_init` explicitly to suppress the warning\n",
      "  warnings.warn(\n",
      "Let's see how good I am...:  33%|███▎      | 1/3 [00:00<00:00,  3.76it/s]c:\\Users\\dimaf\\miniconda3\\envs\\torch\\Lib\\site-packages\\sklearn\\cluster\\_kmeans.py:870: FutureWarning: The default value of `n_init` will change from 10 to 'auto' in 1.4. Set the value of `n_init` explicitly to suppress the warning\n",
      "  warnings.warn(\n",
      "Let's see how good I am...:  67%|██████▋   | 2/3 [00:00<00:00,  3.82it/s]c:\\Users\\dimaf\\miniconda3\\envs\\torch\\Lib\\site-packages\\sklearn\\cluster\\_kmeans.py:870: FutureWarning: The default value of `n_init` will change from 10 to 'auto' in 1.4. Set the value of `n_init` explicitly to suppress the warning\n",
      "  warnings.warn(\n",
      "Let's see how good I am...: 100%|██████████| 3/3 [00:00<00:00,  3.79it/s]\n"
     ]
    },
    {
     "name": "stdout",
     "output_type": "stream",
     "text": [
      "Epoch: 20 of 40, 0.061 min\n"
     ]
    },
    {
     "name": "stderr",
     "output_type": "stream",
     "text": [
      "I'm studying hard now🧐, don't disturb!:   0%|          | 0/10 [00:00<?, ?it/s]c:\\Users\\dimaf\\miniconda3\\envs\\torch\\Lib\\site-packages\\sklearn\\cluster\\_kmeans.py:870: FutureWarning: The default value of `n_init` will change from 10 to 'auto' in 1.4. Set the value of `n_init` explicitly to suppress the warning\n",
      "  warnings.warn(\n",
      "I'm studying hard now🧐, don't disturb!:  10%|█         | 1/10 [00:00<00:02,  3.77it/s]c:\\Users\\dimaf\\miniconda3\\envs\\torch\\Lib\\site-packages\\sklearn\\cluster\\_kmeans.py:870: FutureWarning: The default value of `n_init` will change from 10 to 'auto' in 1.4. Set the value of `n_init` explicitly to suppress the warning\n",
      "  warnings.warn(\n",
      "I'm studying hard now🧐, don't disturb!:  20%|██        | 2/10 [00:00<00:02,  3.57it/s]c:\\Users\\dimaf\\miniconda3\\envs\\torch\\Lib\\site-packages\\sklearn\\cluster\\_kmeans.py:870: FutureWarning: The default value of `n_init` will change from 10 to 'auto' in 1.4. Set the value of `n_init` explicitly to suppress the warning\n",
      "  warnings.warn(\n",
      "I'm studying hard now🧐, don't disturb!:  30%|███       | 3/10 [00:00<00:01,  3.60it/s]c:\\Users\\dimaf\\miniconda3\\envs\\torch\\Lib\\site-packages\\sklearn\\cluster\\_kmeans.py:870: FutureWarning: The default value of `n_init` will change from 10 to 'auto' in 1.4. Set the value of `n_init` explicitly to suppress the warning\n",
      "  warnings.warn(\n",
      "I'm studying hard now🧐, don't disturb!:  40%|████      | 4/10 [00:01<00:01,  3.54it/s]c:\\Users\\dimaf\\miniconda3\\envs\\torch\\Lib\\site-packages\\sklearn\\cluster\\_kmeans.py:870: FutureWarning: The default value of `n_init` will change from 10 to 'auto' in 1.4. Set the value of `n_init` explicitly to suppress the warning\n",
      "  warnings.warn(\n",
      "I'm studying hard now🧐, don't disturb!:  50%|█████     | 5/10 [00:01<00:01,  3.42it/s]c:\\Users\\dimaf\\miniconda3\\envs\\torch\\Lib\\site-packages\\sklearn\\cluster\\_kmeans.py:870: FutureWarning: The default value of `n_init` will change from 10 to 'auto' in 1.4. Set the value of `n_init` explicitly to suppress the warning\n",
      "  warnings.warn(\n",
      "I'm studying hard now🧐, don't disturb!:  60%|██████    | 6/10 [00:01<00:01,  3.30it/s]c:\\Users\\dimaf\\miniconda3\\envs\\torch\\Lib\\site-packages\\sklearn\\cluster\\_kmeans.py:870: FutureWarning: The default value of `n_init` will change from 10 to 'auto' in 1.4. Set the value of `n_init` explicitly to suppress the warning\n",
      "  warnings.warn(\n",
      "I'm studying hard now🧐, don't disturb!:  70%|███████   | 7/10 [00:02<00:01,  2.85it/s]c:\\Users\\dimaf\\miniconda3\\envs\\torch\\Lib\\site-packages\\sklearn\\cluster\\_kmeans.py:870: FutureWarning: The default value of `n_init` will change from 10 to 'auto' in 1.4. Set the value of `n_init` explicitly to suppress the warning\n",
      "  warnings.warn(\n",
      "I'm studying hard now🧐, don't disturb!:  80%|████████  | 8/10 [00:02<00:00,  3.01it/s]c:\\Users\\dimaf\\miniconda3\\envs\\torch\\Lib\\site-packages\\sklearn\\cluster\\_kmeans.py:870: FutureWarning: The default value of `n_init` will change from 10 to 'auto' in 1.4. Set the value of `n_init` explicitly to suppress the warning\n",
      "  warnings.warn(\n",
      "I'm studying hard now🧐, don't disturb!:  90%|█████████ | 9/10 [00:02<00:00,  3.19it/s]c:\\Users\\dimaf\\miniconda3\\envs\\torch\\Lib\\site-packages\\sklearn\\cluster\\_kmeans.py:870: FutureWarning: The default value of `n_init` will change from 10 to 'auto' in 1.4. Set the value of `n_init` explicitly to suppress the warning\n",
      "  warnings.warn(\n",
      "I'm studying hard now🧐, don't disturb!: 100%|██████████| 10/10 [00:03<00:00,  3.28it/s]\n",
      "Let's see how good I am...:   0%|          | 0/3 [00:00<?, ?it/s]c:\\Users\\dimaf\\miniconda3\\envs\\torch\\Lib\\site-packages\\sklearn\\cluster\\_kmeans.py:870: FutureWarning: The default value of `n_init` will change from 10 to 'auto' in 1.4. Set the value of `n_init` explicitly to suppress the warning\n",
      "  warnings.warn(\n",
      "Let's see how good I am...:  33%|███▎      | 1/3 [00:00<00:00,  4.00it/s]c:\\Users\\dimaf\\miniconda3\\envs\\torch\\Lib\\site-packages\\sklearn\\cluster\\_kmeans.py:870: FutureWarning: The default value of `n_init` will change from 10 to 'auto' in 1.4. Set the value of `n_init` explicitly to suppress the warning\n",
      "  warnings.warn(\n",
      "Let's see how good I am...:  67%|██████▋   | 2/3 [00:00<00:00,  2.65it/s]c:\\Users\\dimaf\\miniconda3\\envs\\torch\\Lib\\site-packages\\sklearn\\cluster\\_kmeans.py:870: FutureWarning: The default value of `n_init` will change from 10 to 'auto' in 1.4. Set the value of `n_init` explicitly to suppress the warning\n",
      "  warnings.warn(\n",
      "Let's see how good I am...: 100%|██████████| 3/3 [00:01<00:00,  2.55it/s]\n"
     ]
    },
    {
     "name": "stdout",
     "output_type": "stream",
     "text": [
      "Epoch: 21 of 40, 0.071 min\n"
     ]
    },
    {
     "name": "stderr",
     "output_type": "stream",
     "text": [
      "I'm studying hard now🧐, don't disturb!:   0%|          | 0/10 [00:00<?, ?it/s]c:\\Users\\dimaf\\miniconda3\\envs\\torch\\Lib\\site-packages\\sklearn\\cluster\\_kmeans.py:870: FutureWarning: The default value of `n_init` will change from 10 to 'auto' in 1.4. Set the value of `n_init` explicitly to suppress the warning\n",
      "  warnings.warn(\n",
      "I'm studying hard now🧐, don't disturb!:  10%|█         | 1/10 [00:00<00:03,  2.46it/s]c:\\Users\\dimaf\\miniconda3\\envs\\torch\\Lib\\site-packages\\sklearn\\cluster\\_kmeans.py:870: FutureWarning: The default value of `n_init` will change from 10 to 'auto' in 1.4. Set the value of `n_init` explicitly to suppress the warning\n",
      "  warnings.warn(\n",
      "I'm studying hard now🧐, don't disturb!:  20%|██        | 2/10 [00:00<00:02,  2.99it/s]c:\\Users\\dimaf\\miniconda3\\envs\\torch\\Lib\\site-packages\\sklearn\\cluster\\_kmeans.py:870: FutureWarning: The default value of `n_init` will change from 10 to 'auto' in 1.4. Set the value of `n_init` explicitly to suppress the warning\n",
      "  warnings.warn(\n",
      "I'm studying hard now🧐, don't disturb!:  30%|███       | 3/10 [00:00<00:02,  3.14it/s]c:\\Users\\dimaf\\miniconda3\\envs\\torch\\Lib\\site-packages\\sklearn\\cluster\\_kmeans.py:870: FutureWarning: The default value of `n_init` will change from 10 to 'auto' in 1.4. Set the value of `n_init` explicitly to suppress the warning\n",
      "  warnings.warn(\n",
      "I'm studying hard now🧐, don't disturb!:  40%|████      | 4/10 [00:01<00:01,  3.15it/s]c:\\Users\\dimaf\\miniconda3\\envs\\torch\\Lib\\site-packages\\sklearn\\cluster\\_kmeans.py:870: FutureWarning: The default value of `n_init` will change from 10 to 'auto' in 1.4. Set the value of `n_init` explicitly to suppress the warning\n",
      "  warnings.warn(\n",
      "I'm studying hard now🧐, don't disturb!:  50%|█████     | 5/10 [00:01<00:01,  3.31it/s]c:\\Users\\dimaf\\miniconda3\\envs\\torch\\Lib\\site-packages\\sklearn\\cluster\\_kmeans.py:870: FutureWarning: The default value of `n_init` will change from 10 to 'auto' in 1.4. Set the value of `n_init` explicitly to suppress the warning\n",
      "  warnings.warn(\n",
      "I'm studying hard now🧐, don't disturb!:  60%|██████    | 6/10 [00:01<00:01,  3.44it/s]c:\\Users\\dimaf\\miniconda3\\envs\\torch\\Lib\\site-packages\\sklearn\\cluster\\_kmeans.py:870: FutureWarning: The default value of `n_init` will change from 10 to 'auto' in 1.4. Set the value of `n_init` explicitly to suppress the warning\n",
      "  warnings.warn(\n",
      "I'm studying hard now🧐, don't disturb!:  70%|███████   | 7/10 [00:02<00:00,  3.55it/s]c:\\Users\\dimaf\\miniconda3\\envs\\torch\\Lib\\site-packages\\sklearn\\cluster\\_kmeans.py:870: FutureWarning: The default value of `n_init` will change from 10 to 'auto' in 1.4. Set the value of `n_init` explicitly to suppress the warning\n",
      "  warnings.warn(\n",
      "I'm studying hard now🧐, don't disturb!:  80%|████████  | 8/10 [00:02<00:00,  3.54it/s]c:\\Users\\dimaf\\miniconda3\\envs\\torch\\Lib\\site-packages\\sklearn\\cluster\\_kmeans.py:870: FutureWarning: The default value of `n_init` will change from 10 to 'auto' in 1.4. Set the value of `n_init` explicitly to suppress the warning\n",
      "  warnings.warn(\n",
      "I'm studying hard now🧐, don't disturb!:  90%|█████████ | 9/10 [00:02<00:00,  3.51it/s]c:\\Users\\dimaf\\miniconda3\\envs\\torch\\Lib\\site-packages\\sklearn\\cluster\\_kmeans.py:870: FutureWarning: The default value of `n_init` will change from 10 to 'auto' in 1.4. Set the value of `n_init` explicitly to suppress the warning\n",
      "  warnings.warn(\n",
      "I'm studying hard now🧐, don't disturb!: 100%|██████████| 10/10 [00:02<00:00,  3.38it/s]\n",
      "Let's see how good I am...:   0%|          | 0/3 [00:00<?, ?it/s]c:\\Users\\dimaf\\miniconda3\\envs\\torch\\Lib\\site-packages\\sklearn\\cluster\\_kmeans.py:870: FutureWarning: The default value of `n_init` will change from 10 to 'auto' in 1.4. Set the value of `n_init` explicitly to suppress the warning\n",
      "  warnings.warn(\n",
      "Let's see how good I am...:  33%|███▎      | 1/3 [00:00<00:00,  3.89it/s]c:\\Users\\dimaf\\miniconda3\\envs\\torch\\Lib\\site-packages\\sklearn\\cluster\\_kmeans.py:870: FutureWarning: The default value of `n_init` will change from 10 to 'auto' in 1.4. Set the value of `n_init` explicitly to suppress the warning\n",
      "  warnings.warn(\n",
      "Let's see how good I am...:  67%|██████▋   | 2/3 [00:00<00:00,  4.02it/s]c:\\Users\\dimaf\\miniconda3\\envs\\torch\\Lib\\site-packages\\sklearn\\cluster\\_kmeans.py:870: FutureWarning: The default value of `n_init` will change from 10 to 'auto' in 1.4. Set the value of `n_init` explicitly to suppress the warning\n",
      "  warnings.warn(\n",
      "Let's see how good I am...: 100%|██████████| 3/3 [00:00<00:00,  4.06it/s]\n"
     ]
    },
    {
     "name": "stdout",
     "output_type": "stream",
     "text": [
      "Epoch: 22 of 40, 0.062 min\n"
     ]
    },
    {
     "name": "stderr",
     "output_type": "stream",
     "text": [
      "I'm studying hard now🧐, don't disturb!:   0%|          | 0/10 [00:00<?, ?it/s]c:\\Users\\dimaf\\miniconda3\\envs\\torch\\Lib\\site-packages\\sklearn\\cluster\\_kmeans.py:870: FutureWarning: The default value of `n_init` will change from 10 to 'auto' in 1.4. Set the value of `n_init` explicitly to suppress the warning\n",
      "  warnings.warn(\n",
      "I'm studying hard now🧐, don't disturb!:  10%|█         | 1/10 [00:00<00:02,  3.88it/s]c:\\Users\\dimaf\\miniconda3\\envs\\torch\\Lib\\site-packages\\sklearn\\cluster\\_kmeans.py:870: FutureWarning: The default value of `n_init` will change from 10 to 'auto' in 1.4. Set the value of `n_init` explicitly to suppress the warning\n",
      "  warnings.warn(\n",
      "I'm studying hard now🧐, don't disturb!:  20%|██        | 2/10 [00:00<00:02,  3.78it/s]c:\\Users\\dimaf\\miniconda3\\envs\\torch\\Lib\\site-packages\\sklearn\\cluster\\_kmeans.py:870: FutureWarning: The default value of `n_init` will change from 10 to 'auto' in 1.4. Set the value of `n_init` explicitly to suppress the warning\n",
      "  warnings.warn(\n",
      "I'm studying hard now🧐, don't disturb!:  30%|███       | 3/10 [00:00<00:01,  3.77it/s]c:\\Users\\dimaf\\miniconda3\\envs\\torch\\Lib\\site-packages\\sklearn\\cluster\\_kmeans.py:870: FutureWarning: The default value of `n_init` will change from 10 to 'auto' in 1.4. Set the value of `n_init` explicitly to suppress the warning\n",
      "  warnings.warn(\n",
      "I'm studying hard now🧐, don't disturb!:  40%|████      | 4/10 [00:01<00:01,  3.71it/s]c:\\Users\\dimaf\\miniconda3\\envs\\torch\\Lib\\site-packages\\sklearn\\cluster\\_kmeans.py:870: FutureWarning: The default value of `n_init` will change from 10 to 'auto' in 1.4. Set the value of `n_init` explicitly to suppress the warning\n",
      "  warnings.warn(\n",
      "I'm studying hard now🧐, don't disturb!:  50%|█████     | 5/10 [00:01<00:01,  3.54it/s]c:\\Users\\dimaf\\miniconda3\\envs\\torch\\Lib\\site-packages\\sklearn\\cluster\\_kmeans.py:870: FutureWarning: The default value of `n_init` will change from 10 to 'auto' in 1.4. Set the value of `n_init` explicitly to suppress the warning\n",
      "  warnings.warn(\n",
      "I'm studying hard now🧐, don't disturb!:  60%|██████    | 6/10 [00:01<00:01,  3.65it/s]c:\\Users\\dimaf\\miniconda3\\envs\\torch\\Lib\\site-packages\\sklearn\\cluster\\_kmeans.py:870: FutureWarning: The default value of `n_init` will change from 10 to 'auto' in 1.4. Set the value of `n_init` explicitly to suppress the warning\n",
      "  warnings.warn(\n",
      "I'm studying hard now🧐, don't disturb!:  70%|███████   | 7/10 [00:01<00:00,  3.63it/s]c:\\Users\\dimaf\\miniconda3\\envs\\torch\\Lib\\site-packages\\sklearn\\cluster\\_kmeans.py:870: FutureWarning: The default value of `n_init` will change from 10 to 'auto' in 1.4. Set the value of `n_init` explicitly to suppress the warning\n",
      "  warnings.warn(\n",
      "I'm studying hard now🧐, don't disturb!:  80%|████████  | 8/10 [00:02<00:00,  3.04it/s]c:\\Users\\dimaf\\miniconda3\\envs\\torch\\Lib\\site-packages\\sklearn\\cluster\\_kmeans.py:870: FutureWarning: The default value of `n_init` will change from 10 to 'auto' in 1.4. Set the value of `n_init` explicitly to suppress the warning\n",
      "  warnings.warn(\n",
      "I'm studying hard now🧐, don't disturb!:  90%|█████████ | 9/10 [00:02<00:00,  3.10it/s]c:\\Users\\dimaf\\miniconda3\\envs\\torch\\Lib\\site-packages\\sklearn\\cluster\\_kmeans.py:870: FutureWarning: The default value of `n_init` will change from 10 to 'auto' in 1.4. Set the value of `n_init` explicitly to suppress the warning\n",
      "  warnings.warn(\n",
      "I'm studying hard now🧐, don't disturb!: 100%|██████████| 10/10 [00:02<00:00,  3.38it/s]\n",
      "Let's see how good I am...:   0%|          | 0/3 [00:00<?, ?it/s]c:\\Users\\dimaf\\miniconda3\\envs\\torch\\Lib\\site-packages\\sklearn\\cluster\\_kmeans.py:870: FutureWarning: The default value of `n_init` will change from 10 to 'auto' in 1.4. Set the value of `n_init` explicitly to suppress the warning\n",
      "  warnings.warn(\n",
      "Let's see how good I am...:  33%|███▎      | 1/3 [00:00<00:00,  3.66it/s]c:\\Users\\dimaf\\miniconda3\\envs\\torch\\Lib\\site-packages\\sklearn\\cluster\\_kmeans.py:870: FutureWarning: The default value of `n_init` will change from 10 to 'auto' in 1.4. Set the value of `n_init` explicitly to suppress the warning\n",
      "  warnings.warn(\n",
      "Let's see how good I am...:  67%|██████▋   | 2/3 [00:00<00:00,  3.92it/s]c:\\Users\\dimaf\\miniconda3\\envs\\torch\\Lib\\site-packages\\sklearn\\cluster\\_kmeans.py:870: FutureWarning: The default value of `n_init` will change from 10 to 'auto' in 1.4. Set the value of `n_init` explicitly to suppress the warning\n",
      "  warnings.warn(\n",
      "Let's see how good I am...: 100%|██████████| 3/3 [00:00<00:00,  3.91it/s]\n"
     ]
    },
    {
     "name": "stdout",
     "output_type": "stream",
     "text": [
      "Epoch: 23 of 40, 0.062 min\n"
     ]
    },
    {
     "name": "stderr",
     "output_type": "stream",
     "text": [
      "I'm studying hard now🧐, don't disturb!:   0%|          | 0/10 [00:00<?, ?it/s]c:\\Users\\dimaf\\miniconda3\\envs\\torch\\Lib\\site-packages\\sklearn\\cluster\\_kmeans.py:870: FutureWarning: The default value of `n_init` will change from 10 to 'auto' in 1.4. Set the value of `n_init` explicitly to suppress the warning\n",
      "  warnings.warn(\n",
      "I'm studying hard now🧐, don't disturb!:  10%|█         | 1/10 [00:00<00:02,  3.87it/s]c:\\Users\\dimaf\\miniconda3\\envs\\torch\\Lib\\site-packages\\sklearn\\cluster\\_kmeans.py:870: FutureWarning: The default value of `n_init` will change from 10 to 'auto' in 1.4. Set the value of `n_init` explicitly to suppress the warning\n",
      "  warnings.warn(\n",
      "I'm studying hard now🧐, don't disturb!:  20%|██        | 2/10 [00:00<00:02,  3.60it/s]c:\\Users\\dimaf\\miniconda3\\envs\\torch\\Lib\\site-packages\\sklearn\\cluster\\_kmeans.py:870: FutureWarning: The default value of `n_init` will change from 10 to 'auto' in 1.4. Set the value of `n_init` explicitly to suppress the warning\n",
      "  warnings.warn(\n",
      "I'm studying hard now🧐, don't disturb!:  30%|███       | 3/10 [00:00<00:01,  3.57it/s]c:\\Users\\dimaf\\miniconda3\\envs\\torch\\Lib\\site-packages\\sklearn\\cluster\\_kmeans.py:870: FutureWarning: The default value of `n_init` will change from 10 to 'auto' in 1.4. Set the value of `n_init` explicitly to suppress the warning\n",
      "  warnings.warn(\n",
      "I'm studying hard now🧐, don't disturb!:  40%|████      | 4/10 [00:01<00:01,  3.51it/s]c:\\Users\\dimaf\\miniconda3\\envs\\torch\\Lib\\site-packages\\sklearn\\cluster\\_kmeans.py:870: FutureWarning: The default value of `n_init` will change from 10 to 'auto' in 1.4. Set the value of `n_init` explicitly to suppress the warning\n",
      "  warnings.warn(\n",
      "I'm studying hard now🧐, don't disturb!:  50%|█████     | 5/10 [00:01<00:01,  3.56it/s]c:\\Users\\dimaf\\miniconda3\\envs\\torch\\Lib\\site-packages\\sklearn\\cluster\\_kmeans.py:870: FutureWarning: The default value of `n_init` will change from 10 to 'auto' in 1.4. Set the value of `n_init` explicitly to suppress the warning\n",
      "  warnings.warn(\n",
      "I'm studying hard now🧐, don't disturb!:  60%|██████    | 6/10 [00:01<00:01,  3.00it/s]c:\\Users\\dimaf\\miniconda3\\envs\\torch\\Lib\\site-packages\\sklearn\\cluster\\_kmeans.py:870: FutureWarning: The default value of `n_init` will change from 10 to 'auto' in 1.4. Set the value of `n_init` explicitly to suppress the warning\n",
      "  warnings.warn(\n",
      "I'm studying hard now🧐, don't disturb!:  70%|███████   | 7/10 [00:02<00:01,  2.69it/s]c:\\Users\\dimaf\\miniconda3\\envs\\torch\\Lib\\site-packages\\sklearn\\cluster\\_kmeans.py:870: FutureWarning: The default value of `n_init` will change from 10 to 'auto' in 1.4. Set the value of `n_init` explicitly to suppress the warning\n",
      "  warnings.warn(\n",
      "I'm studying hard now🧐, don't disturb!:  80%|████████  | 8/10 [00:02<00:00,  2.47it/s]c:\\Users\\dimaf\\miniconda3\\envs\\torch\\Lib\\site-packages\\sklearn\\cluster\\_kmeans.py:870: FutureWarning: The default value of `n_init` will change from 10 to 'auto' in 1.4. Set the value of `n_init` explicitly to suppress the warning\n",
      "  warnings.warn(\n",
      "I'm studying hard now🧐, don't disturb!:  90%|█████████ | 9/10 [00:03<00:00,  2.61it/s]c:\\Users\\dimaf\\miniconda3\\envs\\torch\\Lib\\site-packages\\sklearn\\cluster\\_kmeans.py:870: FutureWarning: The default value of `n_init` will change from 10 to 'auto' in 1.4. Set the value of `n_init` explicitly to suppress the warning\n",
      "  warnings.warn(\n",
      "I'm studying hard now🧐, don't disturb!: 100%|██████████| 10/10 [00:03<00:00,  2.97it/s]\n",
      "Let's see how good I am...:   0%|          | 0/3 [00:00<?, ?it/s]c:\\Users\\dimaf\\miniconda3\\envs\\torch\\Lib\\site-packages\\sklearn\\cluster\\_kmeans.py:870: FutureWarning: The default value of `n_init` will change from 10 to 'auto' in 1.4. Set the value of `n_init` explicitly to suppress the warning\n",
      "  warnings.warn(\n",
      "Let's see how good I am...:  33%|███▎      | 1/3 [00:00<00:00,  3.66it/s]c:\\Users\\dimaf\\miniconda3\\envs\\torch\\Lib\\site-packages\\sklearn\\cluster\\_kmeans.py:870: FutureWarning: The default value of `n_init` will change from 10 to 'auto' in 1.4. Set the value of `n_init` explicitly to suppress the warning\n",
      "  warnings.warn(\n",
      "Let's see how good I am...:  67%|██████▋   | 2/3 [00:00<00:00,  3.84it/s]c:\\Users\\dimaf\\miniconda3\\envs\\torch\\Lib\\site-packages\\sklearn\\cluster\\_kmeans.py:870: FutureWarning: The default value of `n_init` will change from 10 to 'auto' in 1.4. Set the value of `n_init` explicitly to suppress the warning\n",
      "  warnings.warn(\n",
      "Let's see how good I am...: 100%|██████████| 3/3 [00:00<00:00,  3.91it/s]\n"
     ]
    },
    {
     "name": "stdout",
     "output_type": "stream",
     "text": [
      "Epoch: 24 of 40, 0.069 min\n"
     ]
    },
    {
     "name": "stderr",
     "output_type": "stream",
     "text": [
      "I'm studying hard now🧐, don't disturb!:   0%|          | 0/10 [00:00<?, ?it/s]c:\\Users\\dimaf\\miniconda3\\envs\\torch\\Lib\\site-packages\\sklearn\\cluster\\_kmeans.py:870: FutureWarning: The default value of `n_init` will change from 10 to 'auto' in 1.4. Set the value of `n_init` explicitly to suppress the warning\n",
      "  warnings.warn(\n",
      "I'm studying hard now🧐, don't disturb!:  10%|█         | 1/10 [00:00<00:02,  3.98it/s]c:\\Users\\dimaf\\miniconda3\\envs\\torch\\Lib\\site-packages\\sklearn\\cluster\\_kmeans.py:870: FutureWarning: The default value of `n_init` will change from 10 to 'auto' in 1.4. Set the value of `n_init` explicitly to suppress the warning\n",
      "  warnings.warn(\n",
      "I'm studying hard now🧐, don't disturb!:  20%|██        | 2/10 [00:00<00:02,  3.56it/s]c:\\Users\\dimaf\\miniconda3\\envs\\torch\\Lib\\site-packages\\sklearn\\cluster\\_kmeans.py:870: FutureWarning: The default value of `n_init` will change from 10 to 'auto' in 1.4. Set the value of `n_init` explicitly to suppress the warning\n",
      "  warnings.warn(\n",
      "I'm studying hard now🧐, don't disturb!:  30%|███       | 3/10 [00:00<00:01,  3.61it/s]c:\\Users\\dimaf\\miniconda3\\envs\\torch\\Lib\\site-packages\\sklearn\\cluster\\_kmeans.py:870: FutureWarning: The default value of `n_init` will change from 10 to 'auto' in 1.4. Set the value of `n_init` explicitly to suppress the warning\n",
      "  warnings.warn(\n",
      "I'm studying hard now🧐, don't disturb!:  40%|████      | 4/10 [00:01<00:01,  3.43it/s]c:\\Users\\dimaf\\miniconda3\\envs\\torch\\Lib\\site-packages\\sklearn\\cluster\\_kmeans.py:870: FutureWarning: The default value of `n_init` will change from 10 to 'auto' in 1.4. Set the value of `n_init` explicitly to suppress the warning\n",
      "  warnings.warn(\n",
      "I'm studying hard now🧐, don't disturb!:  50%|█████     | 5/10 [00:01<00:01,  2.98it/s]c:\\Users\\dimaf\\miniconda3\\envs\\torch\\Lib\\site-packages\\sklearn\\cluster\\_kmeans.py:870: FutureWarning: The default value of `n_init` will change from 10 to 'auto' in 1.4. Set the value of `n_init` explicitly to suppress the warning\n",
      "  warnings.warn(\n",
      "I'm studying hard now🧐, don't disturb!:  60%|██████    | 6/10 [00:01<00:01,  3.15it/s]c:\\Users\\dimaf\\miniconda3\\envs\\torch\\Lib\\site-packages\\sklearn\\cluster\\_kmeans.py:870: FutureWarning: The default value of `n_init` will change from 10 to 'auto' in 1.4. Set the value of `n_init` explicitly to suppress the warning\n",
      "  warnings.warn(\n",
      "I'm studying hard now🧐, don't disturb!:  70%|███████   | 7/10 [00:02<00:00,  3.27it/s]c:\\Users\\dimaf\\miniconda3\\envs\\torch\\Lib\\site-packages\\sklearn\\cluster\\_kmeans.py:870: FutureWarning: The default value of `n_init` will change from 10 to 'auto' in 1.4. Set the value of `n_init` explicitly to suppress the warning\n",
      "  warnings.warn(\n",
      "I'm studying hard now🧐, don't disturb!:  80%|████████  | 8/10 [00:02<00:00,  3.37it/s]c:\\Users\\dimaf\\miniconda3\\envs\\torch\\Lib\\site-packages\\sklearn\\cluster\\_kmeans.py:870: FutureWarning: The default value of `n_init` will change from 10 to 'auto' in 1.4. Set the value of `n_init` explicitly to suppress the warning\n",
      "  warnings.warn(\n",
      "I'm studying hard now🧐, don't disturb!:  90%|█████████ | 9/10 [00:02<00:00,  3.39it/s]c:\\Users\\dimaf\\miniconda3\\envs\\torch\\Lib\\site-packages\\sklearn\\cluster\\_kmeans.py:870: FutureWarning: The default value of `n_init` will change from 10 to 'auto' in 1.4. Set the value of `n_init` explicitly to suppress the warning\n",
      "  warnings.warn(\n",
      "I'm studying hard now🧐, don't disturb!: 100%|██████████| 10/10 [00:02<00:00,  3.34it/s]\n",
      "Let's see how good I am...:   0%|          | 0/3 [00:00<?, ?it/s]c:\\Users\\dimaf\\miniconda3\\envs\\torch\\Lib\\site-packages\\sklearn\\cluster\\_kmeans.py:870: FutureWarning: The default value of `n_init` will change from 10 to 'auto' in 1.4. Set the value of `n_init` explicitly to suppress the warning\n",
      "  warnings.warn(\n",
      "Let's see how good I am...:  33%|███▎      | 1/3 [00:00<00:00,  3.43it/s]c:\\Users\\dimaf\\miniconda3\\envs\\torch\\Lib\\site-packages\\sklearn\\cluster\\_kmeans.py:870: FutureWarning: The default value of `n_init` will change from 10 to 'auto' in 1.4. Set the value of `n_init` explicitly to suppress the warning\n",
      "  warnings.warn(\n",
      "Let's see how good I am...:  67%|██████▋   | 2/3 [00:00<00:00,  3.28it/s]c:\\Users\\dimaf\\miniconda3\\envs\\torch\\Lib\\site-packages\\sklearn\\cluster\\_kmeans.py:870: FutureWarning: The default value of `n_init` will change from 10 to 'auto' in 1.4. Set the value of `n_init` explicitly to suppress the warning\n",
      "  warnings.warn(\n",
      "Let's see how good I am...: 100%|██████████| 3/3 [00:00<00:00,  3.20it/s]\n"
     ]
    },
    {
     "name": "stdout",
     "output_type": "stream",
     "text": [
      "Epoch: 25 of 40, 0.066 min\n"
     ]
    },
    {
     "name": "stderr",
     "output_type": "stream",
     "text": [
      "I'm studying hard now🧐, don't disturb!:   0%|          | 0/10 [00:00<?, ?it/s]c:\\Users\\dimaf\\miniconda3\\envs\\torch\\Lib\\site-packages\\sklearn\\cluster\\_kmeans.py:870: FutureWarning: The default value of `n_init` will change from 10 to 'auto' in 1.4. Set the value of `n_init` explicitly to suppress the warning\n",
      "  warnings.warn(\n",
      "I'm studying hard now🧐, don't disturb!:  10%|█         | 1/10 [00:00<00:02,  3.09it/s]c:\\Users\\dimaf\\miniconda3\\envs\\torch\\Lib\\site-packages\\sklearn\\cluster\\_kmeans.py:870: FutureWarning: The default value of `n_init` will change from 10 to 'auto' in 1.4. Set the value of `n_init` explicitly to suppress the warning\n",
      "  warnings.warn(\n",
      "I'm studying hard now🧐, don't disturb!:  20%|██        | 2/10 [00:00<00:02,  3.14it/s]c:\\Users\\dimaf\\miniconda3\\envs\\torch\\Lib\\site-packages\\sklearn\\cluster\\_kmeans.py:870: FutureWarning: The default value of `n_init` will change from 10 to 'auto' in 1.4. Set the value of `n_init` explicitly to suppress the warning\n",
      "  warnings.warn(\n",
      "I'm studying hard now🧐, don't disturb!:  30%|███       | 3/10 [00:01<00:02,  2.75it/s]c:\\Users\\dimaf\\miniconda3\\envs\\torch\\Lib\\site-packages\\sklearn\\cluster\\_kmeans.py:870: FutureWarning: The default value of `n_init` will change from 10 to 'auto' in 1.4. Set the value of `n_init` explicitly to suppress the warning\n",
      "  warnings.warn(\n",
      "I'm studying hard now🧐, don't disturb!:  40%|████      | 4/10 [00:01<00:02,  2.91it/s]c:\\Users\\dimaf\\miniconda3\\envs\\torch\\Lib\\site-packages\\sklearn\\cluster\\_kmeans.py:870: FutureWarning: The default value of `n_init` will change from 10 to 'auto' in 1.4. Set the value of `n_init` explicitly to suppress the warning\n",
      "  warnings.warn(\n",
      "I'm studying hard now🧐, don't disturb!:  50%|█████     | 5/10 [00:01<00:01,  3.03it/s]c:\\Users\\dimaf\\miniconda3\\envs\\torch\\Lib\\site-packages\\sklearn\\cluster\\_kmeans.py:870: FutureWarning: The default value of `n_init` will change from 10 to 'auto' in 1.4. Set the value of `n_init` explicitly to suppress the warning\n",
      "  warnings.warn(\n",
      "I'm studying hard now🧐, don't disturb!:  60%|██████    | 6/10 [00:01<00:01,  3.06it/s]c:\\Users\\dimaf\\miniconda3\\envs\\torch\\Lib\\site-packages\\sklearn\\cluster\\_kmeans.py:870: FutureWarning: The default value of `n_init` will change from 10 to 'auto' in 1.4. Set the value of `n_init` explicitly to suppress the warning\n",
      "  warnings.warn(\n",
      "I'm studying hard now🧐, don't disturb!:  70%|███████   | 7/10 [00:02<00:00,  3.13it/s]c:\\Users\\dimaf\\miniconda3\\envs\\torch\\Lib\\site-packages\\sklearn\\cluster\\_kmeans.py:870: FutureWarning: The default value of `n_init` will change from 10 to 'auto' in 1.4. Set the value of `n_init` explicitly to suppress the warning\n",
      "  warnings.warn(\n"
     ]
    },
    {
     "name": "stderr",
     "output_type": "stream",
     "text": [
      "I'm studying hard now🧐, don't disturb!:  80%|████████  | 8/10 [00:02<00:00,  3.18it/s]c:\\Users\\dimaf\\miniconda3\\envs\\torch\\Lib\\site-packages\\sklearn\\cluster\\_kmeans.py:870: FutureWarning: The default value of `n_init` will change from 10 to 'auto' in 1.4. Set the value of `n_init` explicitly to suppress the warning\n",
      "  warnings.warn(\n",
      "I'm studying hard now🧐, don't disturb!:  90%|█████████ | 9/10 [00:03<00:00,  2.94it/s]c:\\Users\\dimaf\\miniconda3\\envs\\torch\\Lib\\site-packages\\sklearn\\cluster\\_kmeans.py:870: FutureWarning: The default value of `n_init` will change from 10 to 'auto' in 1.4. Set the value of `n_init` explicitly to suppress the warning\n",
      "  warnings.warn(\n",
      "I'm studying hard now🧐, don't disturb!: 100%|██████████| 10/10 [00:03<00:00,  2.96it/s]\n",
      "Let's see how good I am...:   0%|          | 0/3 [00:00<?, ?it/s]c:\\Users\\dimaf\\miniconda3\\envs\\torch\\Lib\\site-packages\\sklearn\\cluster\\_kmeans.py:870: FutureWarning: The default value of `n_init` will change from 10 to 'auto' in 1.4. Set the value of `n_init` explicitly to suppress the warning\n",
      "  warnings.warn(\n",
      "Let's see how good I am...:  33%|███▎      | 1/3 [00:00<00:00,  2.68it/s]c:\\Users\\dimaf\\miniconda3\\envs\\torch\\Lib\\site-packages\\sklearn\\cluster\\_kmeans.py:870: FutureWarning: The default value of `n_init` will change from 10 to 'auto' in 1.4. Set the value of `n_init` explicitly to suppress the warning\n",
      "  warnings.warn(\n",
      "Let's see how good I am...:  67%|██████▋   | 2/3 [00:00<00:00,  2.71it/s]c:\\Users\\dimaf\\miniconda3\\envs\\torch\\Lib\\site-packages\\sklearn\\cluster\\_kmeans.py:870: FutureWarning: The default value of `n_init` will change from 10 to 'auto' in 1.4. Set the value of `n_init` explicitly to suppress the warning\n",
      "  warnings.warn(\n",
      "Let's see how good I am...: 100%|██████████| 3/3 [00:01<00:00,  2.58it/s]\n"
     ]
    },
    {
     "name": "stdout",
     "output_type": "stream",
     "text": [
      "Epoch: 26 of 40, 0.076 min\n"
     ]
    },
    {
     "name": "stderr",
     "output_type": "stream",
     "text": [
      "I'm studying hard now🧐, don't disturb!:   0%|          | 0/10 [00:00<?, ?it/s]c:\\Users\\dimaf\\miniconda3\\envs\\torch\\Lib\\site-packages\\sklearn\\cluster\\_kmeans.py:870: FutureWarning: The default value of `n_init` will change from 10 to 'auto' in 1.4. Set the value of `n_init` explicitly to suppress the warning\n",
      "  warnings.warn(\n",
      "I'm studying hard now🧐, don't disturb!:  10%|█         | 1/10 [00:00<00:03,  2.59it/s]c:\\Users\\dimaf\\miniconda3\\envs\\torch\\Lib\\site-packages\\sklearn\\cluster\\_kmeans.py:870: FutureWarning: The default value of `n_init` will change from 10 to 'auto' in 1.4. Set the value of `n_init` explicitly to suppress the warning\n",
      "  warnings.warn(\n",
      "I'm studying hard now🧐, don't disturb!:  20%|██        | 2/10 [00:00<00:03,  2.55it/s]c:\\Users\\dimaf\\miniconda3\\envs\\torch\\Lib\\site-packages\\sklearn\\cluster\\_kmeans.py:870: FutureWarning: The default value of `n_init` will change from 10 to 'auto' in 1.4. Set the value of `n_init` explicitly to suppress the warning\n",
      "  warnings.warn(\n",
      "I'm studying hard now🧐, don't disturb!:  30%|███       | 3/10 [00:01<00:02,  2.62it/s]c:\\Users\\dimaf\\miniconda3\\envs\\torch\\Lib\\site-packages\\sklearn\\cluster\\_kmeans.py:870: FutureWarning: The default value of `n_init` will change from 10 to 'auto' in 1.4. Set the value of `n_init` explicitly to suppress the warning\n",
      "  warnings.warn(\n"
     ]
    }
   ],
   "source": [
    "trainer.train_model(learning_params)\n",
    "wandb.finish()"
   ]
  }
 ],
 "metadata": {
  "kernelspec": {
   "display_name": "env1",
   "language": "python",
   "name": "python3"
  },
  "language_info": {
   "codemirror_mode": {
    "name": "ipython",
    "version": 3
   },
   "file_extension": ".py",
   "mimetype": "text/x-python",
   "name": "python",
   "nbconvert_exporter": "python",
   "pygments_lexer": "ipython3",
   "version": "3.11.3"
  },
  "orig_nbformat": 4
 },
 "nbformat": 4,
 "nbformat_minor": 2
}
