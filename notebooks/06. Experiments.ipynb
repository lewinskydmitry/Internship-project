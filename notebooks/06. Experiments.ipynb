{
 "cells": [
  {
   "cell_type": "code",
   "execution_count": 1,
   "metadata": {},
   "outputs": [],
   "source": [
    "import os\n",
    "import sys\n",
    "sys.path.append(os.path.abspath(os.path.join(os.path.dirname('src'), '..')))\n",
    "from src.trainer.experimenter import Experimenter\n",
    "from src.models.classifiers import *\n",
    "import torch.nn as nn\n",
    "import pandas as pd"
   ]
  },
  {
   "cell_type": "code",
   "execution_count": 2,
   "metadata": {},
   "outputs": [],
   "source": [
    "df = pd.read_csv('../data/prepared_data.csv')"
   ]
  },
  {
   "cell_type": "code",
   "execution_count": 3,
   "metadata": {},
   "outputs": [
    {
     "name": "stderr",
     "output_type": "stream",
     "text": [
      "Failed to detect the name of this notebook, you can set it manually with the WANDB_NOTEBOOK_NAME environment variable to enable code saving.\n",
      "\u001b[34m\u001b[1mwandb\u001b[0m: Currently logged in as: \u001b[33mdmitrii_fomin\u001b[0m (\u001b[33mdmitrii_fomin_uga\u001b[0m). Use \u001b[1m`wandb login --relogin`\u001b[0m to force relogin\n"
     ]
    },
    {
     "data": {
      "text/html": [
       "Tracking run with wandb version 0.15.4"
      ],
      "text/plain": [
       "<IPython.core.display.HTML object>"
      ]
     },
     "metadata": {},
     "output_type": "display_data"
    },
    {
     "data": {
      "text/html": [
       "Run data is saved locally in <code>../logs/wandb\\run-20230702_140212-z5s84e46</code>"
      ],
      "text/plain": [
       "<IPython.core.display.HTML object>"
      ]
     },
     "metadata": {},
     "output_type": "display_data"
    },
    {
     "data": {
      "text/html": [
       "Syncing run <strong><a href='https://wandb.ai/dmitrii_fomin_uga/Internship_project/runs/z5s84e46' target=\"_blank\">EM_CrossEntropyLoss()_None-0.0</a></strong> to <a href='https://wandb.ai/dmitrii_fomin_uga/Internship_project' target=\"_blank\">Weights & Biases</a> (<a href='https://wandb.me/run' target=\"_blank\">docs</a>)<br/>"
      ],
      "text/plain": [
       "<IPython.core.display.HTML object>"
      ]
     },
     "metadata": {},
     "output_type": "display_data"
    },
    {
     "data": {
      "text/html": [
       " View project at <a href='https://wandb.ai/dmitrii_fomin_uga/Internship_project' target=\"_blank\">https://wandb.ai/dmitrii_fomin_uga/Internship_project</a>"
      ],
      "text/plain": [
       "<IPython.core.display.HTML object>"
      ]
     },
     "metadata": {},
     "output_type": "display_data"
    },
    {
     "data": {
      "text/html": [
       " View run at <a href='https://wandb.ai/dmitrii_fomin_uga/Internship_project/runs/z5s84e46' target=\"_blank\">https://wandb.ai/dmitrii_fomin_uga/Internship_project/runs/z5s84e46</a>"
      ],
      "text/plain": [
       "<IPython.core.display.HTML object>"
      ]
     },
     "metadata": {},
     "output_type": "display_data"
    },
    {
     "data": {
      "text/html": [
       "Waiting for W&B process to finish... <strong style=\"color:green\">(success).</strong>"
      ],
      "text/plain": [
       "<IPython.core.display.HTML object>"
      ]
     },
     "metadata": {},
     "output_type": "display_data"
    },
    {
     "data": {
      "text/html": [
       "<style>\n",
       "    table.wandb td:nth-child(1) { padding: 0 10px; text-align: left ; width: auto;} td:nth-child(2) {text-align: left ; width: 100%}\n",
       "    .wandb-row { display: flex; flex-direction: row; flex-wrap: wrap; justify-content: flex-start; width: 100% }\n",
       "    .wandb-col { display: flex; flex-direction: column; flex-basis: 100%; flex: 1; padding: 10px; }\n",
       "    </style>\n",
       "<div class=\"wandb-row\"><div class=\"wandb-col\"><h3>Run history:</h3><br/><table class=\"wandb\"><tr><td>epoch</td><td>▁▁▁▂▂▂▂▂▂▃▃▃▃▃▄▄▄▄▄▄▅▅▅▅▅▅▆▆▆▆▆▇▇▇▇▇▇███</td></tr><tr><td>lr</td><td>█▇▇▆▆▅▅▄▄▄▃▃▃▃▃▂▂▂▂▂▂▂▂▂▁▁▁▁▁▁▁▁▁▁▁▁▁▁▁▁</td></tr><tr><td>test_accuracy</td><td>▁▃▅▇████████████████████████████████████</td></tr><tr><td>test_auc_score</td><td>▃▅█▅▅▁▆▇▅▃▆▆▆▄▇▇▇▇▆▅▆▅▃▆▅▄▅▅▄▄▄▃▅▅▃▄▄▅▅▃</td></tr><tr><td>test_f1_score</td><td>▁▂▃▅▆▇▆▆▇▆▇▇▇▇▇▇▇▇█▇█▇▇███▇▇████████▇███</td></tr><tr><td>test_fpr</td><td>█▆▄▂▁▁▁▁▁▁▁▁▁▁▁▁▁▁▁▁▁▁▁▁▁▁▁▁▁▁▁▁▁▁▁▁▁▁▁▁</td></tr><tr><td>test_loss</td><td>██▇▄▃▂▂▁▁▁▁▁▁▁▁▁▁▁▁▁▁▁▁▁▁▁▁▁▁▁▁▁▁▁▁▁▁▁▁▁</td></tr><tr><td>test_tpr</td><td>█▇▇▆▄▂▂▂▂▁▁▄▂▁▂▂▂▃▄▃▅▄▃▆▄▅▃▄▅▅▄▄▅▅▄▄▃▅▅▅</td></tr><tr><td>train_accuracy</td><td>▁▇▇▇▇▇▇▇████████████████████████████████</td></tr><tr><td>train_auc_score</td><td>▁▄▆▇▇████▇██▇▇██▇█▇▇█▇█▇████▇███▇█▇█▇███</td></tr><tr><td>train_f1_score</td><td>▁▄▄▅▄▅▅▅▅▅▆▆▆▇▇▇▇▇▇▇▇▇█▇▇██▇████████████</td></tr><tr><td>train_fpr</td><td>█▁▁▁▁▁▁▁▁▁▁▁▁▁▁▁▁▁▁▁▁▁▁▁▁▁▁▁▁▁▁▁▁▁▁▁▁▁▁▁</td></tr><tr><td>train_loss</td><td>█▅▄▃▂▂▂▂▁▁▁▁▁▁▁▁▁▁▁▁▁▁▁▁▁▁▁▁▁▁▁▁▁▁▁▁▁▁▁▁</td></tr><tr><td>train_tpr</td><td>▃▂▂▂▁▁▃▂▃▃▄▄▅▅▅▆▆▇▆▇▇▆▇▆▇▇▇▆▇▇█▇██▇█▇█▇▇</td></tr></table><br/></div><div class=\"wandb-col\"><h3>Run summary:</h3><br/><table class=\"wandb\"><tr><td>epoch</td><td>39</td></tr><tr><td>lr</td><td>0.00015</td></tr><tr><td>test_accuracy</td><td>0.98338</td></tr><tr><td>test_auc_score</td><td>0.86515</td></tr><tr><td>test_f1_score</td><td>0.86618</td></tr><tr><td>test_fpr</td><td>0.00689</td></tr><tr><td>test_loss</td><td>0.33515</td></tr><tr><td>test_tpr</td><td>0.70541</td></tr><tr><td>train_accuracy</td><td>0.9906</td></tr><tr><td>train_auc_score</td><td>0.90665</td></tr><tr><td>train_f1_score</td><td>0.92077</td></tr><tr><td>train_fpr</td><td>0.00098</td></tr><tr><td>train_loss</td><td>0.3286</td></tr><tr><td>train_tpr</td><td>0.75834</td></tr></table><br/></div></div>"
      ],
      "text/plain": [
       "<IPython.core.display.HTML object>"
      ]
     },
     "metadata": {},
     "output_type": "display_data"
    },
    {
     "data": {
      "text/html": [
       " View run <strong style=\"color:#cdcd00\">EM_CrossEntropyLoss()_None-0.0</strong> at: <a href='https://wandb.ai/dmitrii_fomin_uga/Internship_project/runs/z5s84e46' target=\"_blank\">https://wandb.ai/dmitrii_fomin_uga/Internship_project/runs/z5s84e46</a><br/>Synced 5 W&B file(s), 0 media file(s), 0 artifact file(s) and 0 other file(s)"
      ],
      "text/plain": [
       "<IPython.core.display.HTML object>"
      ]
     },
     "metadata": {},
     "output_type": "display_data"
    },
    {
     "data": {
      "text/html": [
       "Find logs at: <code>../logs/wandb\\run-20230702_140212-z5s84e46\\logs</code>"
      ],
      "text/plain": [
       "<IPython.core.display.HTML object>"
      ]
     },
     "metadata": {},
     "output_type": "display_data"
    },
    {
     "data": {
      "text/html": [
       "Tracking run with wandb version 0.15.4"
      ],
      "text/plain": [
       "<IPython.core.display.HTML object>"
      ]
     },
     "metadata": {},
     "output_type": "display_data"
    },
    {
     "data": {
      "text/html": [
       "Run data is saved locally in <code>../logs/wandb\\run-20230702_140253-1727g00j</code>"
      ],
      "text/plain": [
       "<IPython.core.display.HTML object>"
      ]
     },
     "metadata": {},
     "output_type": "display_data"
    },
    {
     "data": {
      "text/html": [
       "Syncing run <strong><a href='https://wandb.ai/dmitrii_fomin_uga/Internship_project/runs/1727g00j' target=\"_blank\">EM_CrossEntropyLoss()_ROS-0.05</a></strong> to <a href='https://wandb.ai/dmitrii_fomin_uga/Internship_project' target=\"_blank\">Weights & Biases</a> (<a href='https://wandb.me/run' target=\"_blank\">docs</a>)<br/>"
      ],
      "text/plain": [
       "<IPython.core.display.HTML object>"
      ]
     },
     "metadata": {},
     "output_type": "display_data"
    },
    {
     "data": {
      "text/html": [
       " View project at <a href='https://wandb.ai/dmitrii_fomin_uga/Internship_project' target=\"_blank\">https://wandb.ai/dmitrii_fomin_uga/Internship_project</a>"
      ],
      "text/plain": [
       "<IPython.core.display.HTML object>"
      ]
     },
     "metadata": {},
     "output_type": "display_data"
    },
    {
     "data": {
      "text/html": [
       " View run at <a href='https://wandb.ai/dmitrii_fomin_uga/Internship_project/runs/1727g00j' target=\"_blank\">https://wandb.ai/dmitrii_fomin_uga/Internship_project/runs/1727g00j</a>"
      ],
      "text/plain": [
       "<IPython.core.display.HTML object>"
      ]
     },
     "metadata": {},
     "output_type": "display_data"
    },
    {
     "data": {
      "text/html": [
       "Waiting for W&B process to finish... <strong style=\"color:green\">(success).</strong>"
      ],
      "text/plain": [
       "<IPython.core.display.HTML object>"
      ]
     },
     "metadata": {},
     "output_type": "display_data"
    },
    {
     "data": {
      "text/html": [
       "<style>\n",
       "    table.wandb td:nth-child(1) { padding: 0 10px; text-align: left ; width: auto;} td:nth-child(2) {text-align: left ; width: 100%}\n",
       "    .wandb-row { display: flex; flex-direction: row; flex-wrap: wrap; justify-content: flex-start; width: 100% }\n",
       "    .wandb-col { display: flex; flex-direction: column; flex-basis: 100%; flex: 1; padding: 10px; }\n",
       "    </style>\n",
       "<div class=\"wandb-row\"><div class=\"wandb-col\"><h3>Run history:</h3><br/><table class=\"wandb\"><tr><td>epoch</td><td>▁▁▁▂▂▂▂▂▂▃▃▃▃▃▄▄▄▄▄▄▅▅▅▅▅▅▆▆▆▆▆▇▇▇▇▇▇███</td></tr><tr><td>lr</td><td>█▇▇▆▆▅▅▄▄▄▃▃▃▃▃▂▂▂▂▂▂▂▂▂▁▁▁▁▁▁▁▁▁▁▁▁▁▁▁▁</td></tr><tr><td>test_accuracy</td><td>▁▅▇▇▇███████████████████████████████████</td></tr><tr><td>test_auc_score</td><td>▁▄▆▇▇█▇███▇▇▇▇██████████████████████████</td></tr><tr><td>test_f1_score</td><td>▁▄▄▄▆▆▇▇▇█▇████▇████████████████████████</td></tr><tr><td>test_fpr</td><td>█▄▂▂▂▂▁▁▁▁▁▁▁▁▁▁▁▁▁▁▁▁▁▁▁▁▁▁▁▁▁▁▁▁▁▁▁▁▁▁</td></tr><tr><td>test_loss</td><td>█▇▅▃▂▂▂▁▁▁▁▁▁▁▁▁▁▁▁▁▁▁▁▁▁▁▁▁▁▁▁▁▁▁▁▁▁▁▁▁</td></tr><tr><td>test_tpr</td><td>▃▂▁▁▇█▇█▇█▅▆▆▇▇▅█▇██▆▇██▆▇▇▇▇▇▇█▇▇▇▇▇▇▇▇</td></tr><tr><td>train_accuracy</td><td>▁▇██▇▇██████████████████████████████████</td></tr><tr><td>train_auc_score</td><td>▁▆▇▆▃▇▇▇▇▇▇▇▇▇██▇▇▇▇▇▇███▇▇▇▇██████▇▇▇▇█</td></tr><tr><td>train_f1_score</td><td>▁▆▅▆▅▆▆▆▇▇▇▇▇▇▇▇▇▇█▇█▇█▇████████████████</td></tr><tr><td>train_fpr</td><td>█▁▁▁▁▁▁▁▁▁▁▁▁▁▁▁▁▁▁▁▁▁▁▁▁▁▁▁▁▁▁▁▁▁▁▁▁▁▁▁</td></tr><tr><td>train_loss</td><td>█▅▃▂▂▂▂▂▁▁▁▁▁▁▁▁▁▁▁▁▁▁▁▁▁▁▁▁▁▁▁▁▁▁▁▁▁▁▁▁</td></tr><tr><td>train_tpr</td><td>▅▃▁▃▂▄▃▃▅▅▆▆▆▆▇▆▆▇▇▇▇▆▇▇▇▇█▇▇██████████▇</td></tr></table><br/></div><div class=\"wandb-col\"><h3>Run summary:</h3><br/><table class=\"wandb\"><tr><td>epoch</td><td>39</td></tr><tr><td>lr</td><td>0.00015</td></tr><tr><td>test_accuracy</td><td>0.97875</td></tr><tr><td>test_auc_score</td><td>0.944</td></tr><tr><td>test_f1_score</td><td>0.83952</td></tr><tr><td>test_fpr</td><td>0.01138</td></tr><tr><td>test_loss</td><td>0.33667</td></tr><tr><td>test_tpr</td><td>0.7019</td></tr><tr><td>train_accuracy</td><td>0.98704</td></tr><tr><td>train_auc_score</td><td>0.92768</td></tr><tr><td>train_f1_score</td><td>0.92136</td></tr><tr><td>train_fpr</td><td>0.00177</td></tr><tr><td>train_loss</td><td>0.33086</td></tr><tr><td>train_tpr</td><td>0.76916</td></tr></table><br/></div></div>"
      ],
      "text/plain": [
       "<IPython.core.display.HTML object>"
      ]
     },
     "metadata": {},
     "output_type": "display_data"
    },
    {
     "data": {
      "text/html": [
       " View run <strong style=\"color:#cdcd00\">EM_CrossEntropyLoss()_ROS-0.05</strong> at: <a href='https://wandb.ai/dmitrii_fomin_uga/Internship_project/runs/1727g00j' target=\"_blank\">https://wandb.ai/dmitrii_fomin_uga/Internship_project/runs/1727g00j</a><br/>Synced 5 W&B file(s), 0 media file(s), 0 artifact file(s) and 0 other file(s)"
      ],
      "text/plain": [
       "<IPython.core.display.HTML object>"
      ]
     },
     "metadata": {},
     "output_type": "display_data"
    },
    {
     "data": {
      "text/html": [
       "Find logs at: <code>../logs/wandb\\run-20230702_140253-1727g00j\\logs</code>"
      ],
      "text/plain": [
       "<IPython.core.display.HTML object>"
      ]
     },
     "metadata": {},
     "output_type": "display_data"
    },
    {
     "data": {
      "text/html": [
       "Tracking run with wandb version 0.15.4"
      ],
      "text/plain": [
       "<IPython.core.display.HTML object>"
      ]
     },
     "metadata": {},
     "output_type": "display_data"
    },
    {
     "data": {
      "text/html": [
       "Run data is saved locally in <code>../logs/wandb\\run-20230702_140331-wmbl0mga</code>"
      ],
      "text/plain": [
       "<IPython.core.display.HTML object>"
      ]
     },
     "metadata": {},
     "output_type": "display_data"
    },
    {
     "data": {
      "text/html": [
       "Syncing run <strong><a href='https://wandb.ai/dmitrii_fomin_uga/Internship_project/runs/wmbl0mga' target=\"_blank\">EM_CrossEntropyLoss()_ROS-0.1</a></strong> to <a href='https://wandb.ai/dmitrii_fomin_uga/Internship_project' target=\"_blank\">Weights & Biases</a> (<a href='https://wandb.me/run' target=\"_blank\">docs</a>)<br/>"
      ],
      "text/plain": [
       "<IPython.core.display.HTML object>"
      ]
     },
     "metadata": {},
     "output_type": "display_data"
    },
    {
     "data": {
      "text/html": [
       " View project at <a href='https://wandb.ai/dmitrii_fomin_uga/Internship_project' target=\"_blank\">https://wandb.ai/dmitrii_fomin_uga/Internship_project</a>"
      ],
      "text/plain": [
       "<IPython.core.display.HTML object>"
      ]
     },
     "metadata": {},
     "output_type": "display_data"
    },
    {
     "data": {
      "text/html": [
       " View run at <a href='https://wandb.ai/dmitrii_fomin_uga/Internship_project/runs/wmbl0mga' target=\"_blank\">https://wandb.ai/dmitrii_fomin_uga/Internship_project/runs/wmbl0mga</a>"
      ],
      "text/plain": [
       "<IPython.core.display.HTML object>"
      ]
     },
     "metadata": {},
     "output_type": "display_data"
    },
    {
     "data": {
      "text/html": [
       "Waiting for W&B process to finish... <strong style=\"color:green\">(success).</strong>"
      ],
      "text/plain": [
       "<IPython.core.display.HTML object>"
      ]
     },
     "metadata": {},
     "output_type": "display_data"
    },
    {
     "data": {
      "text/html": [
       "<style>\n",
       "    table.wandb td:nth-child(1) { padding: 0 10px; text-align: left ; width: auto;} td:nth-child(2) {text-align: left ; width: 100%}\n",
       "    .wandb-row { display: flex; flex-direction: row; flex-wrap: wrap; justify-content: flex-start; width: 100% }\n",
       "    .wandb-col { display: flex; flex-direction: column; flex-basis: 100%; flex: 1; padding: 10px; }\n",
       "    </style>\n",
       "<div class=\"wandb-row\"><div class=\"wandb-col\"><h3>Run history:</h3><br/><table class=\"wandb\"><tr><td>epoch</td><td>▁▁▁▂▂▂▂▂▂▃▃▃▃▃▄▄▄▄▄▄▅▅▅▅▅▅▆▆▆▆▆▇▇▇▇▇▇███</td></tr><tr><td>lr</td><td>█▇▇▆▆▅▅▄▄▄▃▃▃▃▃▂▂▂▂▂▂▂▂▂▁▁▁▁▁▁▁▁▁▁▁▁▁▁▁▁</td></tr><tr><td>test_accuracy</td><td>█▁▃▅▅▆▇▇▇▇▇█████████████████████████████</td></tr><tr><td>test_auc_score</td><td>▁▆▇█████████████████████████████████████</td></tr><tr><td>test_f1_score</td><td>▁▁▃▄▄▅▅▇▆▆▆▇▇▇▇██▇▇▇▇▇█▇████████████████</td></tr><tr><td>test_fpr</td><td>▁█▆▄▄▃▃▂▂▂▂▂▂▂▂▂▁▂▂▂▂▂▂▂▂▂▂▂▁▂▁▂▁▁▁▂▁▁▂▂</td></tr><tr><td>test_loss</td><td>██▅▃▃▂▂▁▂▁▂▁▁▁▁▁▁▁▁▁▁▁▁▁▁▁▁▁▁▁▁▁▁▁▁▁▁▁▁▁</td></tr><tr><td>test_tpr</td><td>▁▇█████▇▇▇█▇▇▇▇▇▇▇█▇▇▇█▇▇▇▇█▇▇▇▇▇▇▇▇▇█▇▇</td></tr><tr><td>train_accuracy</td><td>▁▇▇▇▇▇██████████████████████████████████</td></tr><tr><td>train_auc_score</td><td>▁▆▇▇▆▇▇▇▇▇▇▇▇▇█▇▇▇█████▇█▇██████████████</td></tr><tr><td>train_f1_score</td><td>▁▅▆▆▆▇▇▇▇▇▇▇▇▇██▇▇▇█████████████████████</td></tr><tr><td>train_fpr</td><td>█▂▁▁▁▁▁▁▁▁▁▁▁▁▁▁▁▁▁▁▁▁▁▁▁▁▁▁▁▁▁▁▁▁▁▁▁▁▁▁</td></tr><tr><td>train_loss</td><td>█▅▃▂▂▂▂▂▂▁▁▁▁▁▁▁▁▁▁▁▁▁▁▁▁▁▁▁▁▁▁▁▁▁▁▁▁▁▁▁</td></tr><tr><td>train_tpr</td><td>▅▃▁▂▂▄▆▄▅▅▆▆▅▆▇▇▆▅▆▇▇▇▇▇▇▇▇▇▇█▇▇███▇████</td></tr></table><br/></div><div class=\"wandb-col\"><h3>Run summary:</h3><br/><table class=\"wandb\"><tr><td>epoch</td><td>39</td></tr><tr><td>lr</td><td>0.00015</td></tr><tr><td>test_accuracy</td><td>0.97242</td></tr><tr><td>test_auc_score</td><td>0.94953</td></tr><tr><td>test_f1_score</td><td>0.82834</td></tr><tr><td>test_fpr</td><td>0.02228</td></tr><tr><td>test_loss</td><td>0.34233</td></tr><tr><td>test_tpr</td><td>0.81908</td></tr><tr><td>train_accuracy</td><td>0.98326</td></tr><tr><td>train_auc_score</td><td>0.96758</td></tr><tr><td>train_f1_score</td><td>0.94534</td></tr><tr><td>train_fpr</td><td>0.00331</td></tr><tr><td>train_loss</td><td>0.3337</td></tr><tr><td>train_tpr</td><td>0.84676</td></tr></table><br/></div></div>"
      ],
      "text/plain": [
       "<IPython.core.display.HTML object>"
      ]
     },
     "metadata": {},
     "output_type": "display_data"
    },
    {
     "data": {
      "text/html": [
       " View run <strong style=\"color:#cdcd00\">EM_CrossEntropyLoss()_ROS-0.1</strong> at: <a href='https://wandb.ai/dmitrii_fomin_uga/Internship_project/runs/wmbl0mga' target=\"_blank\">https://wandb.ai/dmitrii_fomin_uga/Internship_project/runs/wmbl0mga</a><br/>Synced 5 W&B file(s), 0 media file(s), 0 artifact file(s) and 0 other file(s)"
      ],
      "text/plain": [
       "<IPython.core.display.HTML object>"
      ]
     },
     "metadata": {},
     "output_type": "display_data"
    },
    {
     "data": {
      "text/html": [
       "Find logs at: <code>../logs/wandb\\run-20230702_140331-wmbl0mga\\logs</code>"
      ],
      "text/plain": [
       "<IPython.core.display.HTML object>"
      ]
     },
     "metadata": {},
     "output_type": "display_data"
    },
    {
     "data": {
      "text/html": [
       "Tracking run with wandb version 0.15.4"
      ],
      "text/plain": [
       "<IPython.core.display.HTML object>"
      ]
     },
     "metadata": {},
     "output_type": "display_data"
    },
    {
     "data": {
      "text/html": [
       "Run data is saved locally in <code>../logs/wandb\\run-20230702_140409-743ld1tx</code>"
      ],
      "text/plain": [
       "<IPython.core.display.HTML object>"
      ]
     },
     "metadata": {},
     "output_type": "display_data"
    },
    {
     "data": {
      "text/html": [
       "Syncing run <strong><a href='https://wandb.ai/dmitrii_fomin_uga/Internship_project/runs/743ld1tx' target=\"_blank\">EM_CrossEntropyLoss()_ROS-0.2</a></strong> to <a href='https://wandb.ai/dmitrii_fomin_uga/Internship_project' target=\"_blank\">Weights & Biases</a> (<a href='https://wandb.me/run' target=\"_blank\">docs</a>)<br/>"
      ],
      "text/plain": [
       "<IPython.core.display.HTML object>"
      ]
     },
     "metadata": {},
     "output_type": "display_data"
    },
    {
     "data": {
      "text/html": [
       " View project at <a href='https://wandb.ai/dmitrii_fomin_uga/Internship_project' target=\"_blank\">https://wandb.ai/dmitrii_fomin_uga/Internship_project</a>"
      ],
      "text/plain": [
       "<IPython.core.display.HTML object>"
      ]
     },
     "metadata": {},
     "output_type": "display_data"
    },
    {
     "data": {
      "text/html": [
       " View run at <a href='https://wandb.ai/dmitrii_fomin_uga/Internship_project/runs/743ld1tx' target=\"_blank\">https://wandb.ai/dmitrii_fomin_uga/Internship_project/runs/743ld1tx</a>"
      ],
      "text/plain": [
       "<IPython.core.display.HTML object>"
      ]
     },
     "metadata": {},
     "output_type": "display_data"
    },
    {
     "data": {
      "text/html": [
       "Waiting for W&B process to finish... <strong style=\"color:green\">(success).</strong>"
      ],
      "text/plain": [
       "<IPython.core.display.HTML object>"
      ]
     },
     "metadata": {},
     "output_type": "display_data"
    },
    {
     "data": {
      "text/html": [
       "<style>\n",
       "    table.wandb td:nth-child(1) { padding: 0 10px; text-align: left ; width: auto;} td:nth-child(2) {text-align: left ; width: 100%}\n",
       "    .wandb-row { display: flex; flex-direction: row; flex-wrap: wrap; justify-content: flex-start; width: 100% }\n",
       "    .wandb-col { display: flex; flex-direction: column; flex-basis: 100%; flex: 1; padding: 10px; }\n",
       "    </style>\n",
       "<div class=\"wandb-row\"><div class=\"wandb-col\"><h3>Run history:</h3><br/><table class=\"wandb\"><tr><td>epoch</td><td>▁▁▁▂▂▂▂▂▂▃▃▃▃▃▄▄▄▄▄▄▅▅▅▅▅▅▆▆▆▆▆▇▇▇▇▇▇███</td></tr><tr><td>lr</td><td>█▇▇▆▆▅▅▄▄▄▃▃▃▃▃▂▂▂▂▂▂▂▂▂▁▁▁▁▁▁▁▁▁▁▁▁▁▁▁▁</td></tr><tr><td>test_accuracy</td><td>▁▃▅▇▇▇▇█████████████████████████████████</td></tr><tr><td>test_auc_score</td><td>▁▂▅▅▅▄▅▇▅▇▇▇▇▇▇▇██▇█▆▇██▆▆▇▇▆▇▇▇▇▆▆▇▇▇██</td></tr><tr><td>test_f1_score</td><td>▁▃▅▆▆▇▇▇▇▇▇█▇███████████████████████████</td></tr><tr><td>test_fpr</td><td>█▆▄▂▂▂▂▁▁▁▁▁▁▁▁▁▁▁▁▁▁▁▁▁▁▁▁▁▁▁▁▁▁▁▁▁▁▁▁▁</td></tr><tr><td>test_loss</td><td>█▇▅▃▂▂▂▂▁▁▁▁▁▁▁▁▁▁▁▁▁▁▁▁▁▁▁▁▁▁▁▁▁▁▁▁▁▁▁▁</td></tr><tr><td>test_tpr</td><td>█▇▆▅▂▁▂▃▁▂▂▁▂▂▁▂▂▂▂▂▂▁▂▂▂▂▃▂▂▂▁▂▂▂▂▂▂▂▂▂</td></tr><tr><td>train_accuracy</td><td>▁▆▇▇▇▇▇▇▇▇▇▇▇▇██████████████████████████</td></tr><tr><td>train_auc_score</td><td>▁▆▆▆▆▇▇▇▇▇▇▇████████████████████████████</td></tr><tr><td>train_f1_score</td><td>▁▅▆▆▇▆▇▇▇▇▇▇▇▇▇▇▇███████████████████████</td></tr><tr><td>train_fpr</td><td>█▂▂▂▂▂▁▂▁▁▁▁▁▁▁▁▁▁▁▁▁▁▁▁▁▁▁▁▁▁▁▁▁▁▁▁▁▁▁▁</td></tr><tr><td>train_loss</td><td>█▅▄▃▃▂▂▂▂▂▂▂▁▁▁▁▁▁▁▁▁▁▁▁▁▁▁▁▁▁▁▁▁▁▁▁▁▁▁▁</td></tr><tr><td>train_tpr</td><td>▃▁▃▄▄▄▄▅▄▅▆▅▅▆▆▆▆▆▇▇▇▇█▇█▇██████▇███████</td></tr></table><br/></div><div class=\"wandb-col\"><h3>Run summary:</h3><br/><table class=\"wandb\"><tr><td>epoch</td><td>39</td></tr><tr><td>lr</td><td>0.00015</td></tr><tr><td>test_accuracy</td><td>0.94801</td></tr><tr><td>test_auc_score</td><td>0.97006</td></tr><tr><td>test_f1_score</td><td>0.75131</td></tr><tr><td>test_fpr</td><td>0.04931</td></tr><tr><td>test_loss</td><td>0.36985</td></tr><tr><td>test_tpr</td><td>0.87674</td></tr><tr><td>train_accuracy</td><td>0.98064</td></tr><tr><td>train_auc_score</td><td>0.97795</td></tr><tr><td>train_f1_score</td><td>0.96394</td></tr><tr><td>train_fpr</td><td>0.00426</td></tr><tr><td>train_loss</td><td>0.33771</td></tr><tr><td>train_tpr</td><td>0.90543</td></tr></table><br/></div></div>"
      ],
      "text/plain": [
       "<IPython.core.display.HTML object>"
      ]
     },
     "metadata": {},
     "output_type": "display_data"
    },
    {
     "data": {
      "text/html": [
       " View run <strong style=\"color:#cdcd00\">EM_CrossEntropyLoss()_ROS-0.2</strong> at: <a href='https://wandb.ai/dmitrii_fomin_uga/Internship_project/runs/743ld1tx' target=\"_blank\">https://wandb.ai/dmitrii_fomin_uga/Internship_project/runs/743ld1tx</a><br/>Synced 5 W&B file(s), 0 media file(s), 0 artifact file(s) and 0 other file(s)"
      ],
      "text/plain": [
       "<IPython.core.display.HTML object>"
      ]
     },
     "metadata": {},
     "output_type": "display_data"
    },
    {
     "data": {
      "text/html": [
       "Find logs at: <code>../logs/wandb\\run-20230702_140409-743ld1tx\\logs</code>"
      ],
      "text/plain": [
       "<IPython.core.display.HTML object>"
      ]
     },
     "metadata": {},
     "output_type": "display_data"
    },
    {
     "data": {
      "text/html": [
       "Tracking run with wandb version 0.15.4"
      ],
      "text/plain": [
       "<IPython.core.display.HTML object>"
      ]
     },
     "metadata": {},
     "output_type": "display_data"
    },
    {
     "data": {
      "text/html": [
       "Run data is saved locally in <code>../logs/wandb\\run-20230702_140448-6em6qav9</code>"
      ],
      "text/plain": [
       "<IPython.core.display.HTML object>"
      ]
     },
     "metadata": {},
     "output_type": "display_data"
    },
    {
     "data": {
      "text/html": [
       "Syncing run <strong><a href='https://wandb.ai/dmitrii_fomin_uga/Internship_project/runs/6em6qav9' target=\"_blank\">EM_CrossEntropyLoss()_ROS-0.3</a></strong> to <a href='https://wandb.ai/dmitrii_fomin_uga/Internship_project' target=\"_blank\">Weights & Biases</a> (<a href='https://wandb.me/run' target=\"_blank\">docs</a>)<br/>"
      ],
      "text/plain": [
       "<IPython.core.display.HTML object>"
      ]
     },
     "metadata": {},
     "output_type": "display_data"
    },
    {
     "data": {
      "text/html": [
       " View project at <a href='https://wandb.ai/dmitrii_fomin_uga/Internship_project' target=\"_blank\">https://wandb.ai/dmitrii_fomin_uga/Internship_project</a>"
      ],
      "text/plain": [
       "<IPython.core.display.HTML object>"
      ]
     },
     "metadata": {},
     "output_type": "display_data"
    },
    {
     "data": {
      "text/html": [
       " View run at <a href='https://wandb.ai/dmitrii_fomin_uga/Internship_project/runs/6em6qav9' target=\"_blank\">https://wandb.ai/dmitrii_fomin_uga/Internship_project/runs/6em6qav9</a>"
      ],
      "text/plain": [
       "<IPython.core.display.HTML object>"
      ]
     },
     "metadata": {},
     "output_type": "display_data"
    },
    {
     "data": {
      "text/html": [
       "Waiting for W&B process to finish... <strong style=\"color:green\">(success).</strong>"
      ],
      "text/plain": [
       "<IPython.core.display.HTML object>"
      ]
     },
     "metadata": {},
     "output_type": "display_data"
    },
    {
     "data": {
      "text/html": [
       "<style>\n",
       "    table.wandb td:nth-child(1) { padding: 0 10px; text-align: left ; width: auto;} td:nth-child(2) {text-align: left ; width: 100%}\n",
       "    .wandb-row { display: flex; flex-direction: row; flex-wrap: wrap; justify-content: flex-start; width: 100% }\n",
       "    .wandb-col { display: flex; flex-direction: column; flex-basis: 100%; flex: 1; padding: 10px; }\n",
       "    </style>\n",
       "<div class=\"wandb-row\"><div class=\"wandb-col\"><h3>Run history:</h3><br/><table class=\"wandb\"><tr><td>epoch</td><td>▁▁▁▂▂▂▂▂▂▃▃▃▃▃▄▄▄▄▄▄▅▅▅▅▅▅▆▆▆▆▆▇▇▇▇▇▇███</td></tr><tr><td>lr</td><td>█▇▇▆▆▅▅▄▄▄▃▃▃▃▃▂▂▂▂▂▂▂▂▂▁▁▁▁▁▁▁▁▁▁▁▁▁▁▁▁</td></tr><tr><td>test_accuracy</td><td>█▁▂▅▆▇▇▇▇▆▇▇▇▇█▇▇██████▇████████████████</td></tr><tr><td>test_auc_score</td><td>▁▇██████████████████████████████████████</td></tr><tr><td>test_f1_score</td><td>▃▁▂▄▅▆▆▆▇▆▆▇▇▇▇▇▇▇▇████▇▇▇██████████████</td></tr><tr><td>test_fpr</td><td>▁█▇▄▃▃▃▃▂▃▃▂▂▂▂▂▂▂▂▂▂▂▂▂▂▂▂▂▂▂▂▂▂▂▂▂▂▂▂▂</td></tr><tr><td>test_loss</td><td>█▇▅▄▃▂▃▂▂▃▂▂▂▂▁▂▂▁▁▁▁▁▁▂▁▁▁▁▁▁▁▁▁▁▁▁▁▁▁▁</td></tr><tr><td>test_tpr</td><td>▁████▇██▇█▇█▇█▇▇▇▇▇▇▇▇▇▇▇▇▇▇▇▇▇▇▇▇▇█▇██▇</td></tr><tr><td>train_accuracy</td><td>▁▅▇▇▇▇▇▇▇▇▇▇███▇████████████████████████</td></tr><tr><td>train_auc_score</td><td>▁▇▇█████████████████████████████████████</td></tr><tr><td>train_f1_score</td><td>▁▄▇▇▇▇▇▇▇▇▇█████████████████████████████</td></tr><tr><td>train_fpr</td><td>█▁▂▂▂▂▂▂▂▂▂▂▁▂▁▂▁▁▁▁▁▁▁▁▁▁▁▁▁▁▁▁▁▁▁▁▁▁▁▁</td></tr><tr><td>train_loss</td><td>█▅▄▃▂▂▂▂▂▂▂▂▂▂▁▂▁▁▁▁▁▁▁▁▁▁▁▁▁▁▁▁▁▁▁▁▁▁▁▁</td></tr><tr><td>train_tpr</td><td>▁▂▆▇▇▇▇▇▇▇██▇███████████████████████████</td></tr></table><br/></div><div class=\"wandb-col\"><h3>Run summary:</h3><br/><table class=\"wandb\"><tr><td>epoch</td><td>39</td></tr><tr><td>lr</td><td>0.00015</td></tr><tr><td>test_accuracy</td><td>0.91131</td></tr><tr><td>test_auc_score</td><td>0.96404</td></tr><tr><td>test_f1_score</td><td>0.67904</td></tr><tr><td>test_fpr</td><td>0.08841</td></tr><tr><td>test_loss</td><td>0.39944</td></tr><tr><td>test_tpr</td><td>0.90073</td></tr><tr><td>train_accuracy</td><td>0.98237</td></tr><tr><td>train_auc_score</td><td>0.9763</td></tr><tr><td>train_f1_score</td><td>0.97487</td></tr><tr><td>train_fpr</td><td>0.00771</td></tr><tr><td>train_loss</td><td>0.33324</td></tr><tr><td>train_tpr</td><td>0.94962</td></tr></table><br/></div></div>"
      ],
      "text/plain": [
       "<IPython.core.display.HTML object>"
      ]
     },
     "metadata": {},
     "output_type": "display_data"
    },
    {
     "data": {
      "text/html": [
       " View run <strong style=\"color:#cdcd00\">EM_CrossEntropyLoss()_ROS-0.3</strong> at: <a href='https://wandb.ai/dmitrii_fomin_uga/Internship_project/runs/6em6qav9' target=\"_blank\">https://wandb.ai/dmitrii_fomin_uga/Internship_project/runs/6em6qav9</a><br/>Synced 5 W&B file(s), 0 media file(s), 0 artifact file(s) and 0 other file(s)"
      ],
      "text/plain": [
       "<IPython.core.display.HTML object>"
      ]
     },
     "metadata": {},
     "output_type": "display_data"
    },
    {
     "data": {
      "text/html": [
       "Find logs at: <code>../logs/wandb\\run-20230702_140448-6em6qav9\\logs</code>"
      ],
      "text/plain": [
       "<IPython.core.display.HTML object>"
      ]
     },
     "metadata": {},
     "output_type": "display_data"
    },
    {
     "data": {
      "text/html": [
       "Tracking run with wandb version 0.15.4"
      ],
      "text/plain": [
       "<IPython.core.display.HTML object>"
      ]
     },
     "metadata": {},
     "output_type": "display_data"
    },
    {
     "data": {
      "text/html": [
       "Run data is saved locally in <code>../logs/wandb\\run-20230702_140528-le7jssc3</code>"
      ],
      "text/plain": [
       "<IPython.core.display.HTML object>"
      ]
     },
     "metadata": {},
     "output_type": "display_data"
    },
    {
     "data": {
      "text/html": [
       "Syncing run <strong><a href='https://wandb.ai/dmitrii_fomin_uga/Internship_project/runs/le7jssc3' target=\"_blank\">EM_CrossEntropyLoss()_ROS-0.4</a></strong> to <a href='https://wandb.ai/dmitrii_fomin_uga/Internship_project' target=\"_blank\">Weights & Biases</a> (<a href='https://wandb.me/run' target=\"_blank\">docs</a>)<br/>"
      ],
      "text/plain": [
       "<IPython.core.display.HTML object>"
      ]
     },
     "metadata": {},
     "output_type": "display_data"
    },
    {
     "data": {
      "text/html": [
       " View project at <a href='https://wandb.ai/dmitrii_fomin_uga/Internship_project' target=\"_blank\">https://wandb.ai/dmitrii_fomin_uga/Internship_project</a>"
      ],
      "text/plain": [
       "<IPython.core.display.HTML object>"
      ]
     },
     "metadata": {},
     "output_type": "display_data"
    },
    {
     "data": {
      "text/html": [
       " View run at <a href='https://wandb.ai/dmitrii_fomin_uga/Internship_project/runs/le7jssc3' target=\"_blank\">https://wandb.ai/dmitrii_fomin_uga/Internship_project/runs/le7jssc3</a>"
      ],
      "text/plain": [
       "<IPython.core.display.HTML object>"
      ]
     },
     "metadata": {},
     "output_type": "display_data"
    },
    {
     "data": {
      "text/html": [
       "Waiting for W&B process to finish... <strong style=\"color:green\">(success).</strong>"
      ],
      "text/plain": [
       "<IPython.core.display.HTML object>"
      ]
     },
     "metadata": {},
     "output_type": "display_data"
    },
    {
     "data": {
      "text/html": [
       "<style>\n",
       "    table.wandb td:nth-child(1) { padding: 0 10px; text-align: left ; width: auto;} td:nth-child(2) {text-align: left ; width: 100%}\n",
       "    .wandb-row { display: flex; flex-direction: row; flex-wrap: wrap; justify-content: flex-start; width: 100% }\n",
       "    .wandb-col { display: flex; flex-direction: column; flex-basis: 100%; flex: 1; padding: 10px; }\n",
       "    </style>\n",
       "<div class=\"wandb-row\"><div class=\"wandb-col\"><h3>Run history:</h3><br/><table class=\"wandb\"><tr><td>epoch</td><td>▁▁▁▂▂▂▂▂▂▃▃▃▃▃▄▄▄▄▄▄▅▅▅▅▅▅▆▆▆▆▆▇▇▇▇▇▇███</td></tr><tr><td>lr</td><td>█▇▇▆▆▅▅▄▄▄▃▃▃▃▃▂▂▂▂▂▂▂▂▂▁▁▁▁▁▁▁▁▁▁▁▁▁▁▁▁</td></tr><tr><td>test_accuracy</td><td>▁▄▆▇▇▇▇▇▇███████████████████████████████</td></tr><tr><td>test_auc_score</td><td>▁▅▆▄▃▃▅▆▇▆▃▃▇▇█▇▇▆▆▆▅▃▅▅▇▇▆▆▆▆▆▆▅▅▅▅▄▅▄▄</td></tr><tr><td>test_f1_score</td><td>▁▄▅▇▇▇▇▇▇▇███▇██████████████████████████</td></tr><tr><td>test_fpr</td><td>█▅▃▂▂▂▂▂▂▁▁▁▁▁▁▁▁▁▁▁▁▁▁▁▁▁▁▁▁▁▁▁▁▁▁▁▁▁▁▁</td></tr><tr><td>test_loss</td><td>█▆▄▂▂▂▂▂▂▂▁▁▁▁▁▁▁▁▁▁▁▁▁▁▁▁▁▁▁▁▁▁▁▁▁▁▁▁▁▁</td></tr><tr><td>test_tpr</td><td>██▇▇▄▇▅▄▅▇▃▂▃▃▅▂▂▂▄▂▁▃▄▃▂▂▃▃▂▂▂▂▂▁▂▁▂▂▂▁</td></tr><tr><td>train_accuracy</td><td>▁▆▆▇▇▇▇▆▇▇▇▇▇▇▇█▇████▇██████████████████</td></tr><tr><td>train_auc_score</td><td>▁▇▇▇█▇█▇███▇████████████████████████████</td></tr><tr><td>train_f1_score</td><td>▁▆▆▆▇▆▇▆▇▇▇▇▇▇▇▇▇████▇▇█████████████████</td></tr><tr><td>train_fpr</td><td>█▂▂▂▂▂▂▂▂▂▁▂▁▂▂▁▁▁▁▁▁▁▁▁▁▁▁▁▁▁▁▁▁▁▁▁▁▁▁▁</td></tr><tr><td>train_loss</td><td>█▅▃▃▂▂▂▂▂▂▂▂▂▂▂▁▂▁▁▁▁▁▁▁▁▁▁▁▁▁▁▁▁▁▁▁▁▁▁▁</td></tr><tr><td>train_tpr</td><td>▁▁▂▂▃▃▄▄▄▅▆▇▆▇▇▇▆███▇▇▆█▇▇█▇█████████▇██</td></tr></table><br/></div><div class=\"wandb-col\"><h3>Run summary:</h3><br/><table class=\"wandb\"><tr><td>epoch</td><td>39</td></tr><tr><td>lr</td><td>0.00015</td></tr><tr><td>test_accuracy</td><td>0.88816</td></tr><tr><td>test_auc_score</td><td>0.9285</td></tr><tr><td>test_f1_score</td><td>0.64434</td></tr><tr><td>test_fpr</td><td>0.11271</td></tr><tr><td>test_loss</td><td>0.42466</td></tr><tr><td>test_tpr</td><td>0.90371</td></tr><tr><td>train_accuracy</td><td>0.9782</td></tr><tr><td>train_auc_score</td><td>0.9746</td></tr><tr><td>train_f1_score</td><td>0.97318</td></tr><tr><td>train_fpr</td><td>0.01326</td></tr><tr><td>train_loss</td><td>0.3367</td></tr><tr><td>train_tpr</td><td>0.95708</td></tr></table><br/></div></div>"
      ],
      "text/plain": [
       "<IPython.core.display.HTML object>"
      ]
     },
     "metadata": {},
     "output_type": "display_data"
    },
    {
     "data": {
      "text/html": [
       " View run <strong style=\"color:#cdcd00\">EM_CrossEntropyLoss()_ROS-0.4</strong> at: <a href='https://wandb.ai/dmitrii_fomin_uga/Internship_project/runs/le7jssc3' target=\"_blank\">https://wandb.ai/dmitrii_fomin_uga/Internship_project/runs/le7jssc3</a><br/>Synced 5 W&B file(s), 0 media file(s), 0 artifact file(s) and 0 other file(s)"
      ],
      "text/plain": [
       "<IPython.core.display.HTML object>"
      ]
     },
     "metadata": {},
     "output_type": "display_data"
    },
    {
     "data": {
      "text/html": [
       "Find logs at: <code>../logs/wandb\\run-20230702_140528-le7jssc3\\logs</code>"
      ],
      "text/plain": [
       "<IPython.core.display.HTML object>"
      ]
     },
     "metadata": {},
     "output_type": "display_data"
    },
    {
     "data": {
      "text/html": [
       "Tracking run with wandb version 0.15.4"
      ],
      "text/plain": [
       "<IPython.core.display.HTML object>"
      ]
     },
     "metadata": {},
     "output_type": "display_data"
    },
    {
     "data": {
      "text/html": [
       "Run data is saved locally in <code>../logs/wandb\\run-20230702_140546-oyh9x24g</code>"
      ],
      "text/plain": [
       "<IPython.core.display.HTML object>"
      ]
     },
     "metadata": {},
     "output_type": "display_data"
    },
    {
     "data": {
      "text/html": [
       "Syncing run <strong><a href='https://wandb.ai/dmitrii_fomin_uga/Internship_project/runs/oyh9x24g' target=\"_blank\">EM_CrossEntropyLoss()_ROS-0.5</a></strong> to <a href='https://wandb.ai/dmitrii_fomin_uga/Internship_project' target=\"_blank\">Weights & Biases</a> (<a href='https://wandb.me/run' target=\"_blank\">docs</a>)<br/>"
      ],
      "text/plain": [
       "<IPython.core.display.HTML object>"
      ]
     },
     "metadata": {},
     "output_type": "display_data"
    },
    {
     "data": {
      "text/html": [
       " View project at <a href='https://wandb.ai/dmitrii_fomin_uga/Internship_project' target=\"_blank\">https://wandb.ai/dmitrii_fomin_uga/Internship_project</a>"
      ],
      "text/plain": [
       "<IPython.core.display.HTML object>"
      ]
     },
     "metadata": {},
     "output_type": "display_data"
    },
    {
     "data": {
      "text/html": [
       " View run at <a href='https://wandb.ai/dmitrii_fomin_uga/Internship_project/runs/oyh9x24g' target=\"_blank\">https://wandb.ai/dmitrii_fomin_uga/Internship_project/runs/oyh9x24g</a>"
      ],
      "text/plain": [
       "<IPython.core.display.HTML object>"
      ]
     },
     "metadata": {},
     "output_type": "display_data"
    },
    {
     "data": {
      "text/html": [
       "Waiting for W&B process to finish... <strong style=\"color:green\">(success).</strong>"
      ],
      "text/plain": [
       "<IPython.core.display.HTML object>"
      ]
     },
     "metadata": {},
     "output_type": "display_data"
    },
    {
     "data": {
      "text/html": [
       "<style>\n",
       "    table.wandb td:nth-child(1) { padding: 0 10px; text-align: left ; width: auto;} td:nth-child(2) {text-align: left ; width: 100%}\n",
       "    .wandb-row { display: flex; flex-direction: row; flex-wrap: wrap; justify-content: flex-start; width: 100% }\n",
       "    .wandb-col { display: flex; flex-direction: column; flex-basis: 100%; flex: 1; padding: 10px; }\n",
       "    </style>\n",
       "<div class=\"wandb-row\"><div class=\"wandb-col\"><h3>Run history:</h3><br/><table class=\"wandb\"><tr><td>epoch</td><td>▁▁▁▂▂▂▂▂▂▃▃▃▃▃▄▄▄▄▄▄▅▅▅▅▅▅▆▆▆▆▆▇▇▇▇▇▇███</td></tr><tr><td>lr</td><td>█▇▇▆▆▅▅▄▄▄▃▃▃▃▃▂▂▂▂▂▂▂▂▂▁▁▁▁▁▁▁▁▁▁▁▁▁▁▁▁</td></tr><tr><td>test_accuracy</td><td>▁▃▅▆▆▆▇▇▇▇▇▇████▇███████████████████████</td></tr><tr><td>test_auc_score</td><td>▁▆▅▆▅▆▇▇▇▇▆▇▇█▇▇▇▆▇▅▆▆▆▆▆▇▆▇▇▆▇▇▆▆▆▆▆▅▅▆</td></tr><tr><td>test_f1_score</td><td>▁▃▅▆▆▆▆▇▇▇▇▇▇▇▇▇▇▇██████████████████████</td></tr><tr><td>test_fpr</td><td>█▆▄▃▃▃▂▂▂▂▂▂▁▁▁▁▂▁▁▁▁▁▁▁▁▁▁▁▁▁▁▁▁▁▁▁▁▁▁▁</td></tr><tr><td>test_loss</td><td>██▅▃▄▄▃▃▃▂▂▂▂▂▂▂▂▂▁▁▁▁▁▁▁▁▁▁▁▁▁▁▁▁▁▁▁▁▁▁</td></tr><tr><td>test_tpr</td><td>██▅▄▆▄▄▂▃▂▁▃▂▃▃▂▂▂▂▂▂▂▁▁▂▁▁▂▁▂▂▃▂▂▂▂▁▂▂▃</td></tr><tr><td>train_accuracy</td><td>▁▆▆▇▇▆▇▇▇▇▇▇▇▇▇▇█▇██████████████████████</td></tr><tr><td>train_auc_score</td><td>▁███████████████████████████████████████</td></tr><tr><td>train_f1_score</td><td>▁▆▇▇▇▇▇▇▇▇▇▇████████████████████████████</td></tr><tr><td>train_fpr</td><td>▅▇▇▆▆▇█▆▆▅▄▄▄▃▃▄▃▃▃▃▂▃▂▂▂▂▂▂▂▁▁▁▁▁▁▁▁▁▁▁</td></tr><tr><td>train_loss</td><td>█▅▃▃▂▃▂▂▂▂▂▂▂▂▂▂▁▂▁▁▁▁▁▁▁▁▁▁▁▁▁▁▁▁▁▁▁▁▁▁</td></tr><tr><td>train_tpr</td><td>▁▇▇██▇██████████████████████████████████</td></tr></table><br/></div><div class=\"wandb-col\"><h3>Run summary:</h3><br/><table class=\"wandb\"><tr><td>epoch</td><td>39</td></tr><tr><td>lr</td><td>0.00015</td></tr><tr><td>test_accuracy</td><td>0.88692</td></tr><tr><td>test_auc_score</td><td>0.93867</td></tr><tr><td>test_f1_score</td><td>0.64728</td></tr><tr><td>test_fpr</td><td>0.11465</td></tr><tr><td>test_loss</td><td>0.42476</td></tr><tr><td>test_tpr</td><td>0.94045</td></tr><tr><td>train_accuracy</td><td>0.97423</td></tr><tr><td>train_auc_score</td><td>0.96663</td></tr><tr><td>train_f1_score</td><td>0.97072</td></tr><tr><td>train_fpr</td><td>0.01105</td></tr><tr><td>train_loss</td><td>0.34019</td></tr><tr><td>train_tpr</td><td>0.94488</td></tr></table><br/></div></div>"
      ],
      "text/plain": [
       "<IPython.core.display.HTML object>"
      ]
     },
     "metadata": {},
     "output_type": "display_data"
    },
    {
     "data": {
      "text/html": [
       " View run <strong style=\"color:#cdcd00\">EM_CrossEntropyLoss()_ROS-0.5</strong> at: <a href='https://wandb.ai/dmitrii_fomin_uga/Internship_project/runs/oyh9x24g' target=\"_blank\">https://wandb.ai/dmitrii_fomin_uga/Internship_project/runs/oyh9x24g</a><br/>Synced 5 W&B file(s), 0 media file(s), 0 artifact file(s) and 0 other file(s)"
      ],
      "text/plain": [
       "<IPython.core.display.HTML object>"
      ]
     },
     "metadata": {},
     "output_type": "display_data"
    },
    {
     "data": {
      "text/html": [
       "Find logs at: <code>../logs/wandb\\run-20230702_140546-oyh9x24g\\logs</code>"
      ],
      "text/plain": [
       "<IPython.core.display.HTML object>"
      ]
     },
     "metadata": {},
     "output_type": "display_data"
    },
    {
     "data": {
      "text/html": [
       "Tracking run with wandb version 0.15.4"
      ],
      "text/plain": [
       "<IPython.core.display.HTML object>"
      ]
     },
     "metadata": {},
     "output_type": "display_data"
    },
    {
     "data": {
      "text/html": [
       "Run data is saved locally in <code>../logs/wandb\\run-20230702_140605-xbiuj2zq</code>"
      ],
      "text/plain": [
       "<IPython.core.display.HTML object>"
      ]
     },
     "metadata": {},
     "output_type": "display_data"
    },
    {
     "data": {
      "text/html": [
       "Syncing run <strong><a href='https://wandb.ai/dmitrii_fomin_uga/Internship_project/runs/xbiuj2zq' target=\"_blank\">EM_CrossEntropyLoss()_ROS-0.6</a></strong> to <a href='https://wandb.ai/dmitrii_fomin_uga/Internship_project' target=\"_blank\">Weights & Biases</a> (<a href='https://wandb.me/run' target=\"_blank\">docs</a>)<br/>"
      ],
      "text/plain": [
       "<IPython.core.display.HTML object>"
      ]
     },
     "metadata": {},
     "output_type": "display_data"
    },
    {
     "data": {
      "text/html": [
       " View project at <a href='https://wandb.ai/dmitrii_fomin_uga/Internship_project' target=\"_blank\">https://wandb.ai/dmitrii_fomin_uga/Internship_project</a>"
      ],
      "text/plain": [
       "<IPython.core.display.HTML object>"
      ]
     },
     "metadata": {},
     "output_type": "display_data"
    },
    {
     "data": {
      "text/html": [
       " View run at <a href='https://wandb.ai/dmitrii_fomin_uga/Internship_project/runs/xbiuj2zq' target=\"_blank\">https://wandb.ai/dmitrii_fomin_uga/Internship_project/runs/xbiuj2zq</a>"
      ],
      "text/plain": [
       "<IPython.core.display.HTML object>"
      ]
     },
     "metadata": {},
     "output_type": "display_data"
    },
    {
     "data": {
      "text/html": [
       "Waiting for W&B process to finish... <strong style=\"color:green\">(success).</strong>"
      ],
      "text/plain": [
       "<IPython.core.display.HTML object>"
      ]
     },
     "metadata": {},
     "output_type": "display_data"
    },
    {
     "data": {
      "text/html": [
       "<style>\n",
       "    table.wandb td:nth-child(1) { padding: 0 10px; text-align: left ; width: auto;} td:nth-child(2) {text-align: left ; width: 100%}\n",
       "    .wandb-row { display: flex; flex-direction: row; flex-wrap: wrap; justify-content: flex-start; width: 100% }\n",
       "    .wandb-col { display: flex; flex-direction: column; flex-basis: 100%; flex: 1; padding: 10px; }\n",
       "    </style>\n",
       "<div class=\"wandb-row\"><div class=\"wandb-col\"><h3>Run history:</h3><br/><table class=\"wandb\"><tr><td>epoch</td><td>▁▁▁▂▂▂▂▂▂▃▃▃▃▃▄▄▄▄▄▄▅▅▅▅▅▅▆▆▆▆▆▇▇▇▇▇▇███</td></tr><tr><td>lr</td><td>█▇▇▆▆▅▅▄▄▄▃▃▃▃▃▂▂▂▂▂▂▂▂▂▁▁▁▁▁▁▁▁▁▁▁▁▁▁▁▁</td></tr><tr><td>test_accuracy</td><td>▁▅▅▆▆▇▇▇▇▇▇█▇███████████████████████████</td></tr><tr><td>test_auc_score</td><td>▁▆▆▇█▇▇█▇▅██▆▅▆▇▆▇▇▇▇▆▅▇▇▇▆▆▇▆▆▆▅▅▅▅▆▆▆▆</td></tr><tr><td>test_f1_score</td><td>▁▅▅▆▆▇▇▇▇▇▇▇▇█▇▇▇▇█████▇████████████████</td></tr><tr><td>test_fpr</td><td>█▄▄▃▃▂▂▂▂▂▂▁▂▁▁▁▁▁▁▁▁▁▁▁▁▁▁▁▁▁▁▁▁▁▁▁▁▁▁▁</td></tr><tr><td>test_loss</td><td>█▅▆▅▄▃▂▂▂▂▂▂▂▂▂▂▂▂▁▂▁▂▂▂▁▁▁▁▁▁▁▁▁▁▁▁▁▁▁▁</td></tr><tr><td>test_tpr</td><td>█▇█▇▇▆▄▅▄▅▅▅▃▄▅▃▂▅▄▄▄▃▄▂▃▃▃▂▃▃▂▄▁▃▃▂▂▂▃▃</td></tr><tr><td>train_accuracy</td><td>▁▅▅▆▆▆▇▇▇▇▇▇▇▇▇▇▇▇████▇█████████████████</td></tr><tr><td>train_auc_score</td><td>▁▇▇▇████▇▇█████▇████████████████████████</td></tr><tr><td>train_f1_score</td><td>▁▅▅▆▆▆▇▇▇▇▇▇▇▇▇▇▇▇████▇█████████████████</td></tr><tr><td>train_fpr</td><td>█▅▆▄▄▄▃▃▃▃▂▂▂▂▂▂▂▂▂▂▂▂▂▂▁▁▂▁▁▁▁▁▁▁▁▁▁▁▁▁</td></tr><tr><td>train_loss</td><td>█▅▄▃▃▂▂▂▂▂▂▂▁▁▁▁▁▁▁▁▁▁▁▁▁▁▁▁▁▁▁▁▁▁▁▁▁▁▁▁</td></tr><tr><td>train_tpr</td><td>▁▆▇▇▇█▇█▇████▇██████████████████████████</td></tr></table><br/></div><div class=\"wandb-col\"><h3>Run summary:</h3><br/><table class=\"wandb\"><tr><td>epoch</td><td>39</td></tr><tr><td>lr</td><td>0.00015</td></tr><tr><td>test_accuracy</td><td>0.85333</td></tr><tr><td>test_auc_score</td><td>0.91663</td></tr><tr><td>test_f1_score</td><td>0.61121</td></tr><tr><td>test_fpr</td><td>0.14971</td></tr><tr><td>test_loss</td><td>0.4557</td></tr><tr><td>test_tpr</td><td>0.94311</td></tr><tr><td>train_accuracy</td><td>0.97317</td></tr><tr><td>train_auc_score</td><td>0.98004</td></tr><tr><td>train_f1_score</td><td>0.97123</td></tr><tr><td>train_fpr</td><td>0.01405</td></tr><tr><td>train_loss</td><td>0.34236</td></tr><tr><td>train_tpr</td><td>0.95193</td></tr></table><br/></div></div>"
      ],
      "text/plain": [
       "<IPython.core.display.HTML object>"
      ]
     },
     "metadata": {},
     "output_type": "display_data"
    },
    {
     "data": {
      "text/html": [
       " View run <strong style=\"color:#cdcd00\">EM_CrossEntropyLoss()_ROS-0.6</strong> at: <a href='https://wandb.ai/dmitrii_fomin_uga/Internship_project/runs/xbiuj2zq' target=\"_blank\">https://wandb.ai/dmitrii_fomin_uga/Internship_project/runs/xbiuj2zq</a><br/>Synced 5 W&B file(s), 0 media file(s), 0 artifact file(s) and 0 other file(s)"
      ],
      "text/plain": [
       "<IPython.core.display.HTML object>"
      ]
     },
     "metadata": {},
     "output_type": "display_data"
    },
    {
     "data": {
      "text/html": [
       "Find logs at: <code>../logs/wandb\\run-20230702_140605-xbiuj2zq\\logs</code>"
      ],
      "text/plain": [
       "<IPython.core.display.HTML object>"
      ]
     },
     "metadata": {},
     "output_type": "display_data"
    },
    {
     "data": {
      "text/html": [
       "Tracking run with wandb version 0.15.4"
      ],
      "text/plain": [
       "<IPython.core.display.HTML object>"
      ]
     },
     "metadata": {},
     "output_type": "display_data"
    },
    {
     "data": {
      "text/html": [
       "Run data is saved locally in <code>../logs/wandb\\run-20230702_140624-yrxkb3i0</code>"
      ],
      "text/plain": [
       "<IPython.core.display.HTML object>"
      ]
     },
     "metadata": {},
     "output_type": "display_data"
    },
    {
     "data": {
      "text/html": [
       "Syncing run <strong><a href='https://wandb.ai/dmitrii_fomin_uga/Internship_project/runs/yrxkb3i0' target=\"_blank\">EM_CrossEntropyLoss()_ROS-0.8</a></strong> to <a href='https://wandb.ai/dmitrii_fomin_uga/Internship_project' target=\"_blank\">Weights & Biases</a> (<a href='https://wandb.me/run' target=\"_blank\">docs</a>)<br/>"
      ],
      "text/plain": [
       "<IPython.core.display.HTML object>"
      ]
     },
     "metadata": {},
     "output_type": "display_data"
    },
    {
     "data": {
      "text/html": [
       " View project at <a href='https://wandb.ai/dmitrii_fomin_uga/Internship_project' target=\"_blank\">https://wandb.ai/dmitrii_fomin_uga/Internship_project</a>"
      ],
      "text/plain": [
       "<IPython.core.display.HTML object>"
      ]
     },
     "metadata": {},
     "output_type": "display_data"
    },
    {
     "data": {
      "text/html": [
       " View run at <a href='https://wandb.ai/dmitrii_fomin_uga/Internship_project/runs/yrxkb3i0' target=\"_blank\">https://wandb.ai/dmitrii_fomin_uga/Internship_project/runs/yrxkb3i0</a>"
      ],
      "text/plain": [
       "<IPython.core.display.HTML object>"
      ]
     },
     "metadata": {},
     "output_type": "display_data"
    },
    {
     "data": {
      "text/html": [
       "Waiting for W&B process to finish... <strong style=\"color:green\">(success).</strong>"
      ],
      "text/plain": [
       "<IPython.core.display.HTML object>"
      ]
     },
     "metadata": {},
     "output_type": "display_data"
    },
    {
     "data": {
      "text/html": [
       "<style>\n",
       "    table.wandb td:nth-child(1) { padding: 0 10px; text-align: left ; width: auto;} td:nth-child(2) {text-align: left ; width: 100%}\n",
       "    .wandb-row { display: flex; flex-direction: row; flex-wrap: wrap; justify-content: flex-start; width: 100% }\n",
       "    .wandb-col { display: flex; flex-direction: column; flex-basis: 100%; flex: 1; padding: 10px; }\n",
       "    </style>\n",
       "<div class=\"wandb-row\"><div class=\"wandb-col\"><h3>Run history:</h3><br/><table class=\"wandb\"><tr><td>epoch</td><td>▁▁▁▂▂▂▂▂▂▃▃▃▃▃▄▄▄▄▄▄▅▅▅▅▅▅▆▆▆▆▆▇▇▇▇▇▇███</td></tr><tr><td>lr</td><td>█▇▇▆▆▅▅▄▄▄▃▃▃▃▃▂▂▂▂▂▂▂▂▂▁▁▁▁▁▁▁▁▁▁▁▁▁▁▁▁</td></tr><tr><td>test_accuracy</td><td>▁▅▆▆▇▇▇▇▇▇▇█▇████▇██████████████████████</td></tr><tr><td>test_auc_score</td><td>▁▆▇▅▇▄▄▆▇▇▆▇▇▇▇▆▇▇▇▇█▇▇▇██▇█▇████▇██████</td></tr><tr><td>test_f1_score</td><td>▁▅▆▆▇▇▇▇▇▇▇█▇████▇██████████████████████</td></tr><tr><td>test_fpr</td><td>█▄▃▃▂▂▂▂▂▂▂▁▂▁▁▁▁▂▁▁▁▁▁▁▁▁▁▁▁▁▁▁▁▁▁▁▁▁▁▁</td></tr><tr><td>test_loss</td><td>█▅▄▃▂▂▂▂▂▂▂▂▂▁▁▁▁▂▁▁▁▁▁▁▁▁▁▁▁▁▁▁▁▁▁▁▁▁▁▁</td></tr><tr><td>test_tpr</td><td>██▇▇▇█▅▇▆▄▆▇▇▇▅▅▅▅▅▆▅▃▅▆▇▅▄▅▃▇▃▄▄▁▂▂▂▂▂▂</td></tr><tr><td>train_accuracy</td><td>▁▆▇▇▇▇▇▇▇▇██████████████████████████████</td></tr><tr><td>train_auc_score</td><td>▁▇▇▇▇▇▇▇▇█▇██▇██████████████████████████</td></tr><tr><td>train_f1_score</td><td>▁▆▇▇▇▇▇▇▇███████████████████████████████</td></tr><tr><td>train_fpr</td><td>█▃▂▂▂▂▂▂▂▁▁▁▁▁▁▁▁▁▁▁▁▁▁▁▁▁▁▁▁▁▁▁▁▁▁▁▁▁▁▁</td></tr><tr><td>train_loss</td><td>█▅▃▂▂▂▂▂▂▂▂▁▁▂▁▁▁▁▁▁▁▁▁▁▁▁▁▁▁▁▁▁▁▁▁▁▁▁▁▁</td></tr><tr><td>train_tpr</td><td>█▄▁▄▆▅▅▄▅▆▆▆▆▆▆▇▇▇▇▇▆▇▇▆▇▇▇▇▇▇▇▇▇▇▇▇▇▇▇▇</td></tr></table><br/></div><div class=\"wandb-col\"><h3>Run summary:</h3><br/><table class=\"wandb\"><tr><td>epoch</td><td>39</td></tr><tr><td>lr</td><td>0.00015</td></tr><tr><td>test_accuracy</td><td>0.8155</td></tr><tr><td>test_auc_score</td><td>0.96265</td></tr><tr><td>test_f1_score</td><td>0.57823</td></tr><tr><td>test_fpr</td><td>0.18963</td></tr><tr><td>test_loss</td><td>0.49759</td></tr><tr><td>test_tpr</td><td>0.95903</td></tr><tr><td>train_accuracy</td><td>0.97993</td></tr><tr><td>train_auc_score</td><td>0.98922</td></tr><tr><td>train_f1_score</td><td>0.97964</td></tr><tr><td>train_fpr</td><td>0.01751</td></tr><tr><td>train_loss</td><td>0.33466</td></tr><tr><td>train_tpr</td><td>0.97669</td></tr></table><br/></div></div>"
      ],
      "text/plain": [
       "<IPython.core.display.HTML object>"
      ]
     },
     "metadata": {},
     "output_type": "display_data"
    },
    {
     "data": {
      "text/html": [
       " View run <strong style=\"color:#cdcd00\">EM_CrossEntropyLoss()_ROS-0.8</strong> at: <a href='https://wandb.ai/dmitrii_fomin_uga/Internship_project/runs/yrxkb3i0' target=\"_blank\">https://wandb.ai/dmitrii_fomin_uga/Internship_project/runs/yrxkb3i0</a><br/>Synced 5 W&B file(s), 0 media file(s), 0 artifact file(s) and 0 other file(s)"
      ],
      "text/plain": [
       "<IPython.core.display.HTML object>"
      ]
     },
     "metadata": {},
     "output_type": "display_data"
    },
    {
     "data": {
      "text/html": [
       "Find logs at: <code>../logs/wandb\\run-20230702_140624-yrxkb3i0\\logs</code>"
      ],
      "text/plain": [
       "<IPython.core.display.HTML object>"
      ]
     },
     "metadata": {},
     "output_type": "display_data"
    },
    {
     "data": {
      "text/html": [
       "Tracking run with wandb version 0.15.4"
      ],
      "text/plain": [
       "<IPython.core.display.HTML object>"
      ]
     },
     "metadata": {},
     "output_type": "display_data"
    },
    {
     "data": {
      "text/html": [
       "Run data is saved locally in <code>../logs/wandb\\run-20230702_140643-m8u44vg7</code>"
      ],
      "text/plain": [
       "<IPython.core.display.HTML object>"
      ]
     },
     "metadata": {},
     "output_type": "display_data"
    },
    {
     "data": {
      "text/html": [
       "Syncing run <strong><a href='https://wandb.ai/dmitrii_fomin_uga/Internship_project/runs/m8u44vg7' target=\"_blank\">EM_CrossEntropyLoss()_ROS-1</a></strong> to <a href='https://wandb.ai/dmitrii_fomin_uga/Internship_project' target=\"_blank\">Weights & Biases</a> (<a href='https://wandb.me/run' target=\"_blank\">docs</a>)<br/>"
      ],
      "text/plain": [
       "<IPython.core.display.HTML object>"
      ]
     },
     "metadata": {},
     "output_type": "display_data"
    },
    {
     "data": {
      "text/html": [
       " View project at <a href='https://wandb.ai/dmitrii_fomin_uga/Internship_project' target=\"_blank\">https://wandb.ai/dmitrii_fomin_uga/Internship_project</a>"
      ],
      "text/plain": [
       "<IPython.core.display.HTML object>"
      ]
     },
     "metadata": {},
     "output_type": "display_data"
    },
    {
     "data": {
      "text/html": [
       " View run at <a href='https://wandb.ai/dmitrii_fomin_uga/Internship_project/runs/m8u44vg7' target=\"_blank\">https://wandb.ai/dmitrii_fomin_uga/Internship_project/runs/m8u44vg7</a>"
      ],
      "text/plain": [
       "<IPython.core.display.HTML object>"
      ]
     },
     "metadata": {},
     "output_type": "display_data"
    },
    {
     "data": {
      "text/html": [
       "Waiting for W&B process to finish... <strong style=\"color:green\">(success).</strong>"
      ],
      "text/plain": [
       "<IPython.core.display.HTML object>"
      ]
     },
     "metadata": {},
     "output_type": "display_data"
    },
    {
     "data": {
      "text/html": [
       "<style>\n",
       "    table.wandb td:nth-child(1) { padding: 0 10px; text-align: left ; width: auto;} td:nth-child(2) {text-align: left ; width: 100%}\n",
       "    .wandb-row { display: flex; flex-direction: row; flex-wrap: wrap; justify-content: flex-start; width: 100% }\n",
       "    .wandb-col { display: flex; flex-direction: column; flex-basis: 100%; flex: 1; padding: 10px; }\n",
       "    </style>\n",
       "<div class=\"wandb-row\"><div class=\"wandb-col\"><h3>Run history:</h3><br/><table class=\"wandb\"><tr><td>epoch</td><td>▁▁▁▂▂▂▂▂▂▃▃▃▃▃▄▄▄▄▄▄▅▅▅▅▅▅▆▆▆▆▆▇▇▇▇▇▇███</td></tr><tr><td>lr</td><td>█▇▇▆▆▅▅▄▄▄▃▃▃▃▃▂▂▂▂▂▂▂▂▂▁▁▁▁▁▁▁▁▁▁▁▁▁▁▁▁</td></tr><tr><td>test_accuracy</td><td>▁▅▅▆▆▆▇▇▇▇▇▇▇███▇███████████████████████</td></tr><tr><td>test_auc_score</td><td>▁▆▆▆▇▇█████████▇▆▇▇▇▇▇▇▇████▇▇▇▇▇▇▇▇▇▇▇▇</td></tr><tr><td>test_f1_score</td><td>▁▅▆▆▆▆▇▇▇▇▇▇▇███▇███████████████████████</td></tr><tr><td>test_fpr</td><td>█▄▄▃▃▃▂▂▂▂▂▂▂▁▁▁▂▁▁▁▁▁▁▁▁▁▁▁▁▁▁▁▁▁▁▁▁▁▁▁</td></tr><tr><td>test_loss</td><td>█▅▅▄▄▃▂▃▂▃▂▂▂▂▂▁▂▂▂▂▁▁▂▁▁▁▁▁▁▁▁▁▁▁▁▁▁▁▁▁</td></tr><tr><td>test_tpr</td><td>▁▇█▅▇▅▅▅▄▆▅▅▅▄▄▆▅▅▄▅▄▃▅▅▄▄▄▄▄▆▄▅▄▄▄▄▄▄▄▅</td></tr><tr><td>train_accuracy</td><td>▁▆▆▆▆▆▇▆▆▇▇▇▇▇▇▇▇▇▇█████████████████████</td></tr><tr><td>train_auc_score</td><td>▁▇▇▆▆▇▇▇▇▇▇█████████████████████████████</td></tr><tr><td>train_f1_score</td><td>▁▆▆▆▆▆▇▆▆▇▇▇▇▇▇▇▇▇▇█████████████████████</td></tr><tr><td>train_fpr</td><td>█▄▅▄▃▄▃▄▃▃▃▂▂▂▂▂▂▂▂▂▁▂▂▂▁▁▁▁▁▁▁▁▁▁▁▁▁▁▁▁</td></tr><tr><td>train_loss</td><td>█▃▃▃▃▃▂▂▂▂▂▂▂▁▁▁▂▂▁▁▁▁▁▁▁▁▁▁▁▁▁▁▁▁▁▁▁▁▁▁</td></tr><tr><td>train_tpr</td><td>▁▆▇▆▅▇▇▇▆▇█████▇██████████████████▇█████</td></tr></table><br/></div><div class=\"wandb-col\"><h3>Run summary:</h3><br/><table class=\"wandb\"><tr><td>epoch</td><td>39</td></tr><tr><td>lr</td><td>0.00015</td></tr><tr><td>test_accuracy</td><td>0.77331</td></tr><tr><td>test_auc_score</td><td>0.93913</td></tr><tr><td>test_f1_score</td><td>0.54597</td></tr><tr><td>test_fpr</td><td>0.23363</td></tr><tr><td>test_loss</td><td>0.53895</td></tr><tr><td>test_tpr</td><td>0.97727</td></tr><tr><td>train_accuracy</td><td>0.97241</td></tr><tr><td>train_auc_score</td><td>0.98497</td></tr><tr><td>train_f1_score</td><td>0.9724</td></tr><tr><td>train_fpr</td><td>0.02261</td></tr><tr><td>train_loss</td><td>0.34152</td></tr><tr><td>train_tpr</td><td>0.96743</td></tr></table><br/></div></div>"
      ],
      "text/plain": [
       "<IPython.core.display.HTML object>"
      ]
     },
     "metadata": {},
     "output_type": "display_data"
    },
    {
     "data": {
      "text/html": [
       " View run <strong style=\"color:#cdcd00\">EM_CrossEntropyLoss()_ROS-1</strong> at: <a href='https://wandb.ai/dmitrii_fomin_uga/Internship_project/runs/m8u44vg7' target=\"_blank\">https://wandb.ai/dmitrii_fomin_uga/Internship_project/runs/m8u44vg7</a><br/>Synced 5 W&B file(s), 0 media file(s), 0 artifact file(s) and 0 other file(s)"
      ],
      "text/plain": [
       "<IPython.core.display.HTML object>"
      ]
     },
     "metadata": {},
     "output_type": "display_data"
    },
    {
     "data": {
      "text/html": [
       "Find logs at: <code>../logs/wandb\\run-20230702_140643-m8u44vg7\\logs</code>"
      ],
      "text/plain": [
       "<IPython.core.display.HTML object>"
      ]
     },
     "metadata": {},
     "output_type": "display_data"
    },
    {
     "data": {
      "text/html": [
       "Tracking run with wandb version 0.15.4"
      ],
      "text/plain": [
       "<IPython.core.display.HTML object>"
      ]
     },
     "metadata": {},
     "output_type": "display_data"
    },
    {
     "data": {
      "text/html": [
       "Run data is saved locally in <code>../logs/wandb\\run-20230702_140703-mxws4z52</code>"
      ],
      "text/plain": [
       "<IPython.core.display.HTML object>"
      ]
     },
     "metadata": {},
     "output_type": "display_data"
    },
    {
     "data": {
      "text/html": [
       "Syncing run <strong><a href='https://wandb.ai/dmitrii_fomin_uga/Internship_project/runs/mxws4z52' target=\"_blank\">EM_CrossEntropyLoss()_RUS-0.05</a></strong> to <a href='https://wandb.ai/dmitrii_fomin_uga/Internship_project' target=\"_blank\">Weights & Biases</a> (<a href='https://wandb.me/run' target=\"_blank\">docs</a>)<br/>"
      ],
      "text/plain": [
       "<IPython.core.display.HTML object>"
      ]
     },
     "metadata": {},
     "output_type": "display_data"
    },
    {
     "data": {
      "text/html": [
       " View project at <a href='https://wandb.ai/dmitrii_fomin_uga/Internship_project' target=\"_blank\">https://wandb.ai/dmitrii_fomin_uga/Internship_project</a>"
      ],
      "text/plain": [
       "<IPython.core.display.HTML object>"
      ]
     },
     "metadata": {},
     "output_type": "display_data"
    },
    {
     "data": {
      "text/html": [
       " View run at <a href='https://wandb.ai/dmitrii_fomin_uga/Internship_project/runs/mxws4z52' target=\"_blank\">https://wandb.ai/dmitrii_fomin_uga/Internship_project/runs/mxws4z52</a>"
      ],
      "text/plain": [
       "<IPython.core.display.HTML object>"
      ]
     },
     "metadata": {},
     "output_type": "display_data"
    },
    {
     "data": {
      "text/html": [
       "Waiting for W&B process to finish... <strong style=\"color:green\">(success).</strong>"
      ],
      "text/plain": [
       "<IPython.core.display.HTML object>"
      ]
     },
     "metadata": {},
     "output_type": "display_data"
    },
    {
     "data": {
      "text/html": [
       "<style>\n",
       "    table.wandb td:nth-child(1) { padding: 0 10px; text-align: left ; width: auto;} td:nth-child(2) {text-align: left ; width: 100%}\n",
       "    .wandb-row { display: flex; flex-direction: row; flex-wrap: wrap; justify-content: flex-start; width: 100% }\n",
       "    .wandb-col { display: flex; flex-direction: column; flex-basis: 100%; flex: 1; padding: 10px; }\n",
       "    </style>\n",
       "<div class=\"wandb-row\"><div class=\"wandb-col\"><h3>Run history:</h3><br/><table class=\"wandb\"><tr><td>epoch</td><td>▁▁▁▂▂▂▂▂▂▃▃▃▃▃▄▄▄▄▄▄▅▅▅▅▅▅▆▆▆▆▆▇▇▇▇▇▇███</td></tr><tr><td>lr</td><td>█▇▇▆▆▅▅▄▄▄▃▃▃▃▃▂▂▂▂▂▂▂▂▂▁▁▁▁▁▁▁▁▁▁▁▁▁▁▁▁</td></tr><tr><td>test_accuracy</td><td>█▆▂▁▃▄▄▅▆▆▇▇▇▇▇▇▇███████████████████████</td></tr><tr><td>test_auc_score</td><td>▁▄▅▅▅▅▅▅▆▇▇█▇▇▇▇▇▇▇▇▇▇███▇▇▇▇▇▇▇▇▇▇▇▇▇▇▇</td></tr><tr><td>test_f1_score</td><td>▄▅▁▁▂▃▃▄▅▅▆▆▆▇▇▇▇▇▇█████████████████████</td></tr><tr><td>test_fpr</td><td>▁▄██▆▆▅▄▄▃▃▂▂▂▂▂▂▂▂▂▂▂▂▂▂▂▂▂▂▂▂▂▂▂▂▂▂▂▂▂</td></tr><tr><td>test_loss</td><td>▄▅▇█▇▆▅▄▃▃▂▂▂▂▂▁▁▁▁▁▁▁▁▁▁▁▁▁▁▁▁▁▁▁▁▁▁▁▁▁</td></tr><tr><td>test_tpr</td><td>▁▇███████▇▇▇▇▇▇▇▇▇▇▇▇▇▇▇▇▇▇▇▇▇▇▇▇▇▇▇▇▇▇▇</td></tr><tr><td>train_accuracy</td><td>▁▅▆▇▇▇▇▇▇▇▇▇▇▇▇▇▇▇██▇▇███████▇██████████</td></tr><tr><td>train_auc_score</td><td>▁▆▇▇▆▇▇█▇█▇▇███▇▇▇██▇███████████████████</td></tr><tr><td>train_f1_score</td><td>▁▅▆▇▇▇▇▇▇▇▇▇▇▇▇▇▇▇██▇████████▇██████████</td></tr><tr><td>train_fpr</td><td>█▃▄▂▂▃▃▃▂▂▁▂▂▂▂▂▂▂▂▁▂▁▁▁▂▂▂▁▁▂▁▁▂▂▂▂▂▁▁▁</td></tr><tr><td>train_loss</td><td>█▆▄▃▃▃▃▂▂▂▂▂▂▂▂▂▂▂▁▁▂▁▁▁▁▁▁▁▁▁▁▁▁▁▁▁▁▁▁▁</td></tr><tr><td>train_tpr</td><td>▁▄▇▆▆▇▇▇▇▇▇▇▇▇▇▇▇▇██▇▇▇▇████▇▇██████████</td></tr></table><br/></div><div class=\"wandb-col\"><h3>Run summary:</h3><br/><table class=\"wandb\"><tr><td>epoch</td><td>39</td></tr><tr><td>lr</td><td>0.00015</td></tr><tr><td>test_accuracy</td><td>0.93377</td></tr><tr><td>test_auc_score</td><td>0.95143</td></tr><tr><td>test_f1_score</td><td>0.71572</td></tr><tr><td>test_fpr</td><td>0.06335</td></tr><tr><td>test_loss</td><td>0.38596</td></tr><tr><td>test_tpr</td><td>0.852</td></tr><tr><td>train_accuracy</td><td>0.97109</td></tr><tr><td>train_auc_score</td><td>0.95677</td></tr><tr><td>train_f1_score</td><td>0.93869</td></tr><tr><td>train_fpr</td><td>0.01011</td></tr><tr><td>train_loss</td><td>0.35415</td></tr><tr><td>train_tpr</td><td>0.85802</td></tr></table><br/></div></div>"
      ],
      "text/plain": [
       "<IPython.core.display.HTML object>"
      ]
     },
     "metadata": {},
     "output_type": "display_data"
    },
    {
     "data": {
      "text/html": [
       " View run <strong style=\"color:#cdcd00\">EM_CrossEntropyLoss()_RUS-0.05</strong> at: <a href='https://wandb.ai/dmitrii_fomin_uga/Internship_project/runs/mxws4z52' target=\"_blank\">https://wandb.ai/dmitrii_fomin_uga/Internship_project/runs/mxws4z52</a><br/>Synced 5 W&B file(s), 0 media file(s), 0 artifact file(s) and 0 other file(s)"
      ],
      "text/plain": [
       "<IPython.core.display.HTML object>"
      ]
     },
     "metadata": {},
     "output_type": "display_data"
    },
    {
     "data": {
      "text/html": [
       "Find logs at: <code>../logs/wandb\\run-20230702_140703-mxws4z52\\logs</code>"
      ],
      "text/plain": [
       "<IPython.core.display.HTML object>"
      ]
     },
     "metadata": {},
     "output_type": "display_data"
    },
    {
     "data": {
      "text/html": [
       "Tracking run with wandb version 0.15.4"
      ],
      "text/plain": [
       "<IPython.core.display.HTML object>"
      ]
     },
     "metadata": {},
     "output_type": "display_data"
    },
    {
     "data": {
      "text/html": [
       "Run data is saved locally in <code>../logs/wandb\\run-20230702_140716-2aiceic9</code>"
      ],
      "text/plain": [
       "<IPython.core.display.HTML object>"
      ]
     },
     "metadata": {},
     "output_type": "display_data"
    },
    {
     "data": {
      "text/html": [
       "Syncing run <strong><a href='https://wandb.ai/dmitrii_fomin_uga/Internship_project/runs/2aiceic9' target=\"_blank\">EM_CrossEntropyLoss()_RUS-0.1</a></strong> to <a href='https://wandb.ai/dmitrii_fomin_uga/Internship_project' target=\"_blank\">Weights & Biases</a> (<a href='https://wandb.me/run' target=\"_blank\">docs</a>)<br/>"
      ],
      "text/plain": [
       "<IPython.core.display.HTML object>"
      ]
     },
     "metadata": {},
     "output_type": "display_data"
    },
    {
     "data": {
      "text/html": [
       " View project at <a href='https://wandb.ai/dmitrii_fomin_uga/Internship_project' target=\"_blank\">https://wandb.ai/dmitrii_fomin_uga/Internship_project</a>"
      ],
      "text/plain": [
       "<IPython.core.display.HTML object>"
      ]
     },
     "metadata": {},
     "output_type": "display_data"
    },
    {
     "data": {
      "text/html": [
       " View run at <a href='https://wandb.ai/dmitrii_fomin_uga/Internship_project/runs/2aiceic9' target=\"_blank\">https://wandb.ai/dmitrii_fomin_uga/Internship_project/runs/2aiceic9</a>"
      ],
      "text/plain": [
       "<IPython.core.display.HTML object>"
      ]
     },
     "metadata": {},
     "output_type": "display_data"
    },
    {
     "data": {
      "text/html": [
       "Waiting for W&B process to finish... <strong style=\"color:green\">(success).</strong>"
      ],
      "text/plain": [
       "<IPython.core.display.HTML object>"
      ]
     },
     "metadata": {},
     "output_type": "display_data"
    },
    {
     "data": {
      "text/html": [
       "<style>\n",
       "    table.wandb td:nth-child(1) { padding: 0 10px; text-align: left ; width: auto;} td:nth-child(2) {text-align: left ; width: 100%}\n",
       "    .wandb-row { display: flex; flex-direction: row; flex-wrap: wrap; justify-content: flex-start; width: 100% }\n",
       "    .wandb-col { display: flex; flex-direction: column; flex-basis: 100%; flex: 1; padding: 10px; }\n",
       "    </style>\n",
       "<div class=\"wandb-row\"><div class=\"wandb-col\"><h3>Run history:</h3><br/><table class=\"wandb\"><tr><td>epoch</td><td>▁▁▁▂▂▂▂▂▂▃▃▃▃▃▄▄▄▄▄▄▅▅▅▅▅▅▆▆▆▆▆▇▇▇▇▇▇███</td></tr><tr><td>lr</td><td>█▇▇▆▆▅▅▄▄▄▃▃▃▃▃▂▂▂▂▂▂▂▂▂▁▁▁▁▁▁▁▁▁▁▁▁▁▁▁▁</td></tr><tr><td>test_accuracy</td><td>▁▂▃▅▆▇▇▇████████████████████████████████</td></tr><tr><td>test_auc_score</td><td>▁▅▅▆▇▆▆▇▆▆▆▇▇▇▆▇▇██▇▇██▇▇▇███▇▇▇▇▇▇▇▇▇▇▇</td></tr><tr><td>test_f1_score</td><td>▁▂▃▄▅▅▆▆▇▇█▇▇██▇▇▇████▇█████████████████</td></tr><tr><td>test_fpr</td><td>█▇▆▄▃▂▂▂▁▁▁▁▁▁▁▁▁▁▁▁▁▁▁▁▁▁▁▁▁▁▁▁▁▁▁▁▁▁▁▁</td></tr><tr><td>test_loss</td><td>██▇▅▃▃▂▂▂▁▁▁▁▁▁▁▁▁▁▁▁▁▁▁▁▁▁▁▁▁▁▁▁▁▁▁▁▁▁▁</td></tr><tr><td>test_tpr</td><td>██▇▇▆▅▄▄▄▃▁▃▄▂▃▃▃▄▃▃▃▄▄▃▂▃▃▃▄▃▃▃▃▃▃▄▄▄▃▃</td></tr><tr><td>train_accuracy</td><td>▁▆▆▆▇▇▇▇▇▇▇▇▇▇▇▇▇▇▇██▇██████████████████</td></tr><tr><td>train_auc_score</td><td>▁▆▇▇▇▇█▇▇▇▇███▇▇████████████████████████</td></tr><tr><td>train_f1_score</td><td>▁▅▅▅▆▆▆▆▆▆▇▇▇▇▇▇▇▇▇▇▇▇▇▇█▇▇█▇███████████</td></tr><tr><td>train_fpr</td><td>█▂▂▂▂▂▂▂▂▂▁▂▂▂▂▁▂▂▁▁▁▁▁▁▁▁▁▁▁▁▁▁▁▁▁▁▁▁▁▁</td></tr><tr><td>train_loss</td><td>█▅▄▃▃▂▂▂▂▂▂▂▂▁▁▁▁▁▁▁▁▁▁▁▁▁▁▁▁▁▁▁▁▁▁▁▁▁▁▁</td></tr><tr><td>train_tpr</td><td>▁▄▄▄▅▅▄▅▇▆▆▆▇▇▇▆▇▇▇▇▇▇██▇▇▇██▇▇█████████</td></tr></table><br/></div><div class=\"wandb-col\"><h3>Run summary:</h3><br/><table class=\"wandb\"><tr><td>epoch</td><td>39</td></tr><tr><td>lr</td><td>0.00015</td></tr><tr><td>test_accuracy</td><td>0.97174</td></tr><tr><td>test_auc_score</td><td>0.94381</td></tr><tr><td>test_f1_score</td><td>0.82099</td></tr><tr><td>test_fpr</td><td>0.022</td></tr><tr><td>test_loss</td><td>0.34352</td></tr><tr><td>test_tpr</td><td>0.79515</td></tr><tr><td>train_accuracy</td><td>0.98657</td></tr><tr><td>train_auc_score</td><td>0.96293</td></tr><tr><td>train_f1_score</td><td>0.95265</td></tr><tr><td>train_fpr</td><td>0.00147</td></tr><tr><td>train_loss</td><td>0.33266</td></tr><tr><td>train_tpr</td><td>0.8547</td></tr></table><br/></div></div>"
      ],
      "text/plain": [
       "<IPython.core.display.HTML object>"
      ]
     },
     "metadata": {},
     "output_type": "display_data"
    },
    {
     "data": {
      "text/html": [
       " View run <strong style=\"color:#cdcd00\">EM_CrossEntropyLoss()_RUS-0.1</strong> at: <a href='https://wandb.ai/dmitrii_fomin_uga/Internship_project/runs/2aiceic9' target=\"_blank\">https://wandb.ai/dmitrii_fomin_uga/Internship_project/runs/2aiceic9</a><br/>Synced 5 W&B file(s), 0 media file(s), 0 artifact file(s) and 0 other file(s)"
      ],
      "text/plain": [
       "<IPython.core.display.HTML object>"
      ]
     },
     "metadata": {},
     "output_type": "display_data"
    },
    {
     "data": {
      "text/html": [
       "Find logs at: <code>../logs/wandb\\run-20230702_140716-2aiceic9\\logs</code>"
      ],
      "text/plain": [
       "<IPython.core.display.HTML object>"
      ]
     },
     "metadata": {},
     "output_type": "display_data"
    },
    {
     "data": {
      "text/html": [
       "Tracking run with wandb version 0.15.4"
      ],
      "text/plain": [
       "<IPython.core.display.HTML object>"
      ]
     },
     "metadata": {},
     "output_type": "display_data"
    },
    {
     "data": {
      "text/html": [
       "Run data is saved locally in <code>../logs/wandb\\run-20230702_140731-iu8inoj6</code>"
      ],
      "text/plain": [
       "<IPython.core.display.HTML object>"
      ]
     },
     "metadata": {},
     "output_type": "display_data"
    },
    {
     "data": {
      "text/html": [
       "Syncing run <strong><a href='https://wandb.ai/dmitrii_fomin_uga/Internship_project/runs/iu8inoj6' target=\"_blank\">EM_CrossEntropyLoss()_RUS-0.2</a></strong> to <a href='https://wandb.ai/dmitrii_fomin_uga/Internship_project' target=\"_blank\">Weights & Biases</a> (<a href='https://wandb.me/run' target=\"_blank\">docs</a>)<br/>"
      ],
      "text/plain": [
       "<IPython.core.display.HTML object>"
      ]
     },
     "metadata": {},
     "output_type": "display_data"
    },
    {
     "data": {
      "text/html": [
       " View project at <a href='https://wandb.ai/dmitrii_fomin_uga/Internship_project' target=\"_blank\">https://wandb.ai/dmitrii_fomin_uga/Internship_project</a>"
      ],
      "text/plain": [
       "<IPython.core.display.HTML object>"
      ]
     },
     "metadata": {},
     "output_type": "display_data"
    },
    {
     "data": {
      "text/html": [
       " View run at <a href='https://wandb.ai/dmitrii_fomin_uga/Internship_project/runs/iu8inoj6' target=\"_blank\">https://wandb.ai/dmitrii_fomin_uga/Internship_project/runs/iu8inoj6</a>"
      ],
      "text/plain": [
       "<IPython.core.display.HTML object>"
      ]
     },
     "metadata": {},
     "output_type": "display_data"
    },
    {
     "data": {
      "text/html": [
       "Waiting for W&B process to finish... <strong style=\"color:green\">(success).</strong>"
      ],
      "text/plain": [
       "<IPython.core.display.HTML object>"
      ]
     },
     "metadata": {},
     "output_type": "display_data"
    },
    {
     "data": {
      "text/html": [
       "<style>\n",
       "    table.wandb td:nth-child(1) { padding: 0 10px; text-align: left ; width: auto;} td:nth-child(2) {text-align: left ; width: 100%}\n",
       "    .wandb-row { display: flex; flex-direction: row; flex-wrap: wrap; justify-content: flex-start; width: 100% }\n",
       "    .wandb-col { display: flex; flex-direction: column; flex-basis: 100%; flex: 1; padding: 10px; }\n",
       "    </style>\n",
       "<div class=\"wandb-row\"><div class=\"wandb-col\"><h3>Run history:</h3><br/><table class=\"wandb\"><tr><td>epoch</td><td>▁▁▁▂▂▂▂▂▂▃▃▃▃▃▄▄▄▄▄▄▅▅▅▅▅▅▆▆▆▆▆▇▇▇▇▇▇███</td></tr><tr><td>lr</td><td>█▇▇▆▆▅▅▄▄▄▃▃▃▃▃▂▂▂▂▂▂▂▂▂▁▁▁▁▁▁▁▁▁▁▁▁▁▁▁▁</td></tr><tr><td>test_accuracy</td><td>▁▃▃▆▇▇██████████████████████████████████</td></tr><tr><td>test_auc_score</td><td>█▁▄█████████████████████████████████████</td></tr><tr><td>test_f1_score</td><td>▁▃▃▅▆▆▇▇▇▇█▇█▇█▇████████████████████████</td></tr><tr><td>test_fpr</td><td>█▆▆▃▂▂▂▁▁▁▁▁▁▁▁▁▁▁▁▁▁▁▁▁▁▁▁▁▁▁▁▁▁▁▁▁▁▁▁▁</td></tr><tr><td>test_loss</td><td>█▇▆▅▃▂▂▂▁▁▁▁▁▁▁▁▁▁▁▁▁▁▁▁▁▁▁▁▁▁▁▁▁▁▁▁▁▁▁▁</td></tr><tr><td>test_tpr</td><td>█▁▃█▇▇▇▆▆▇▆▆▇▆▇▇▆▆▆▆▇▆▆▆▇▇▆▆▇▆▇▆▆▇▆▆▇▇▆▆</td></tr><tr><td>train_accuracy</td><td>▁▆▇█████████████████████████████████████</td></tr><tr><td>train_auc_score</td><td>▁▆▇▇▇▇▇▆▇▇▇▇▇▇▇▇▇███████████████████████</td></tr><tr><td>train_f1_score</td><td>▁▅▆▇▇▇▇▇▇▇██▇██▇████████████████████████</td></tr><tr><td>train_fpr</td><td>█▃▂▁▁▁▁▁▁▁▁▁▁▁▁▁▁▁▁▁▁▁▁▁▁▁▁▁▁▁▁▁▁▁▁▁▁▁▁▁</td></tr><tr><td>train_loss</td><td>█▆▄▃▂▂▂▂▂▁▁▁▁▁▁▁▁▁▁▁▁▁▁▁▁▁▁▁▁▁▁▁▁▁▁▁▁▁▁▁</td></tr><tr><td>train_tpr</td><td>█▇▄▁▁▂▂▂▁▃▃▃▃▃▃▃▄▄▄▅▄▄▅▄▅▅▅▅▅▅▅▅▅▅▅▅▅▅▅▅</td></tr></table><br/></div><div class=\"wandb-col\"><h3>Run summary:</h3><br/><table class=\"wandb\"><tr><td>epoch</td><td>39</td></tr><tr><td>lr</td><td>0.00015</td></tr><tr><td>test_accuracy</td><td>0.97455</td></tr><tr><td>test_auc_score</td><td>0.95286</td></tr><tr><td>test_f1_score</td><td>0.83238</td></tr><tr><td>test_fpr</td><td>0.01867</td></tr><tr><td>test_loss</td><td>0.34242</td></tr><tr><td>test_tpr</td><td>0.79769</td></tr><tr><td>train_accuracy</td><td>0.98774</td></tr><tr><td>train_auc_score</td><td>0.97196</td></tr><tr><td>train_f1_score</td><td>0.95244</td></tr><tr><td>train_fpr</td><td>0.00193</td></tr><tr><td>train_loss</td><td>0.33266</td></tr><tr><td>train_tpr</td><td>0.85909</td></tr></table><br/></div></div>"
      ],
      "text/plain": [
       "<IPython.core.display.HTML object>"
      ]
     },
     "metadata": {},
     "output_type": "display_data"
    },
    {
     "data": {
      "text/html": [
       " View run <strong style=\"color:#cdcd00\">EM_CrossEntropyLoss()_RUS-0.2</strong> at: <a href='https://wandb.ai/dmitrii_fomin_uga/Internship_project/runs/iu8inoj6' target=\"_blank\">https://wandb.ai/dmitrii_fomin_uga/Internship_project/runs/iu8inoj6</a><br/>Synced 5 W&B file(s), 0 media file(s), 0 artifact file(s) and 0 other file(s)"
      ],
      "text/plain": [
       "<IPython.core.display.HTML object>"
      ]
     },
     "metadata": {},
     "output_type": "display_data"
    },
    {
     "data": {
      "text/html": [
       "Find logs at: <code>../logs/wandb\\run-20230702_140731-iu8inoj6\\logs</code>"
      ],
      "text/plain": [
       "<IPython.core.display.HTML object>"
      ]
     },
     "metadata": {},
     "output_type": "display_data"
    },
    {
     "data": {
      "text/html": [
       "Tracking run with wandb version 0.15.4"
      ],
      "text/plain": [
       "<IPython.core.display.HTML object>"
      ]
     },
     "metadata": {},
     "output_type": "display_data"
    },
    {
     "data": {
      "text/html": [
       "Run data is saved locally in <code>../logs/wandb\\run-20230702_140749-u7d5qhjy</code>"
      ],
      "text/plain": [
       "<IPython.core.display.HTML object>"
      ]
     },
     "metadata": {},
     "output_type": "display_data"
    },
    {
     "data": {
      "text/html": [
       "Syncing run <strong><a href='https://wandb.ai/dmitrii_fomin_uga/Internship_project/runs/u7d5qhjy' target=\"_blank\">EM_CrossEntropyLoss()_RUS-0.3</a></strong> to <a href='https://wandb.ai/dmitrii_fomin_uga/Internship_project' target=\"_blank\">Weights & Biases</a> (<a href='https://wandb.me/run' target=\"_blank\">docs</a>)<br/>"
      ],
      "text/plain": [
       "<IPython.core.display.HTML object>"
      ]
     },
     "metadata": {},
     "output_type": "display_data"
    },
    {
     "data": {
      "text/html": [
       " View project at <a href='https://wandb.ai/dmitrii_fomin_uga/Internship_project' target=\"_blank\">https://wandb.ai/dmitrii_fomin_uga/Internship_project</a>"
      ],
      "text/plain": [
       "<IPython.core.display.HTML object>"
      ]
     },
     "metadata": {},
     "output_type": "display_data"
    },
    {
     "data": {
      "text/html": [
       " View run at <a href='https://wandb.ai/dmitrii_fomin_uga/Internship_project/runs/u7d5qhjy' target=\"_blank\">https://wandb.ai/dmitrii_fomin_uga/Internship_project/runs/u7d5qhjy</a>"
      ],
      "text/plain": [
       "<IPython.core.display.HTML object>"
      ]
     },
     "metadata": {},
     "output_type": "display_data"
    },
    {
     "data": {
      "text/html": [
       "Waiting for W&B process to finish... <strong style=\"color:green\">(success).</strong>"
      ],
      "text/plain": [
       "<IPython.core.display.HTML object>"
      ]
     },
     "metadata": {},
     "output_type": "display_data"
    },
    {
     "data": {
      "text/html": [
       "<style>\n",
       "    table.wandb td:nth-child(1) { padding: 0 10px; text-align: left ; width: auto;} td:nth-child(2) {text-align: left ; width: 100%}\n",
       "    .wandb-row { display: flex; flex-direction: row; flex-wrap: wrap; justify-content: flex-start; width: 100% }\n",
       "    .wandb-col { display: flex; flex-direction: column; flex-basis: 100%; flex: 1; padding: 10px; }\n",
       "    </style>\n",
       "<div class=\"wandb-row\"><div class=\"wandb-col\"><h3>Run history:</h3><br/><table class=\"wandb\"><tr><td>epoch</td><td>▁▁▁▂▂▂▂▂▂▃▃▃▃▃▄▄▄▄▄▄▅▅▅▅▅▅▆▆▆▆▆▇▇▇▇▇▇███</td></tr><tr><td>lr</td><td>█▇▇▆▆▅▅▄▄▄▃▃▃▃▃▂▂▂▂▂▂▂▂▂▁▁▁▁▁▁▁▁▁▁▁▁▁▁▁▁</td></tr><tr><td>test_accuracy</td><td>█▁▂▄▆▆▇▇▇▇██████████████████████████████</td></tr><tr><td>test_auc_score</td><td>▁▆▇█▇▅▅▂▂▂▅█▇▆▇▇▇▇▆████▇██▇▇██████▇█▇███</td></tr><tr><td>test_f1_score</td><td>▅▁▁▃▄▄▅▄▅▆▆▇▇▇▇▇▇▇▇██████▇▇▇████████████</td></tr><tr><td>test_fpr</td><td>▁█▇▅▃▃▂▂▂▂▂▁▁▂▁▁▁▁▁▁▁▁▁▁▁▁▁▁▁▁▁▁▁▁▁▁▁▁▁▁</td></tr><tr><td>test_loss</td><td>▅█▇▅▃▃▂▂▂▁▁▁▁▁▁▁▁▁▁▁▁▁▁▁▁▁▁▁▁▁▁▁▁▁▁▁▁▁▁▁</td></tr><tr><td>test_tpr</td><td>▁███▇▆▅▄▄▅▅▅▆▆▆▆▅▅▅▆▆▆▆▆▆▆▆▆▆▇▆▆▆▆▆▆▆▆▆▆</td></tr><tr><td>train_accuracy</td><td>▁▃▃▅▅▄▄▅▅▅▅▆▆▆▆▅▇▆▆▆▇▇▇▇█▇▆███▇▇▇█████▇▇</td></tr><tr><td>train_auc_score</td><td>▁▆▇▇█▆▅▅▆▆▆███▇▇█▇██▇▇███▇██▇▇█▇███▇▇██▇</td></tr><tr><td>train_f1_score</td><td>▁▄▄▆▆▅▅▆▆▆▆▇▆▆▇▆▇▇▇▇▇██▇█▇▇████▇██▇███▇▇</td></tr><tr><td>train_fpr</td><td>▂▃▂▃▃█▂▅▃▂▄▅▄▅▃▃▄▃▄▃▂▂▂▃▁▂▂▂▂▁▂▄▁▁▃▁▁▂▁▁</td></tr><tr><td>train_loss</td><td>█▄▃▂▂▂▂▂▂▂▂▂▂▂▂▂▁▂▁▂▁▁▁▁▁▁▁▁▁▁▁▁▁▁▁▁▁▁▁▁</td></tr><tr><td>train_tpr</td><td>▁▃▃▅▅▆▄▆▅▅▆▇▆▇▇▆▇▇█▇▇▇█▇▇▇▇██▇█▇▇█████▇▇</td></tr></table><br/></div><div class=\"wandb-col\"><h3>Run summary:</h3><br/><table class=\"wandb\"><tr><td>epoch</td><td>39</td></tr><tr><td>lr</td><td>0.00015</td></tr><tr><td>test_accuracy</td><td>0.97632</td></tr><tr><td>test_auc_score</td><td>0.94634</td></tr><tr><td>test_f1_score</td><td>0.83684</td></tr><tr><td>test_fpr</td><td>0.01594</td></tr><tr><td>test_loss</td><td>0.33689</td></tr><tr><td>test_tpr</td><td>0.75856</td></tr><tr><td>train_accuracy</td><td>0.97432</td></tr><tr><td>train_auc_score</td><td>0.9166</td></tr><tr><td>train_f1_score</td><td>0.89979</td></tr><tr><td>train_fpr</td><td>0.00343</td></tr><tr><td>train_loss</td><td>0.34049</td></tr><tr><td>train_tpr</td><td>0.73163</td></tr></table><br/></div></div>"
      ],
      "text/plain": [
       "<IPython.core.display.HTML object>"
      ]
     },
     "metadata": {},
     "output_type": "display_data"
    },
    {
     "data": {
      "text/html": [
       " View run <strong style=\"color:#cdcd00\">EM_CrossEntropyLoss()_RUS-0.3</strong> at: <a href='https://wandb.ai/dmitrii_fomin_uga/Internship_project/runs/u7d5qhjy' target=\"_blank\">https://wandb.ai/dmitrii_fomin_uga/Internship_project/runs/u7d5qhjy</a><br/>Synced 5 W&B file(s), 0 media file(s), 0 artifact file(s) and 0 other file(s)"
      ],
      "text/plain": [
       "<IPython.core.display.HTML object>"
      ]
     },
     "metadata": {},
     "output_type": "display_data"
    },
    {
     "data": {
      "text/html": [
       "Find logs at: <code>../logs/wandb\\run-20230702_140749-u7d5qhjy\\logs</code>"
      ],
      "text/plain": [
       "<IPython.core.display.HTML object>"
      ]
     },
     "metadata": {},
     "output_type": "display_data"
    },
    {
     "data": {
      "text/html": [
       "Tracking run with wandb version 0.15.4"
      ],
      "text/plain": [
       "<IPython.core.display.HTML object>"
      ]
     },
     "metadata": {},
     "output_type": "display_data"
    },
    {
     "data": {
      "text/html": [
       "Run data is saved locally in <code>../logs/wandb\\run-20230702_140806-c9j0t0il</code>"
      ],
      "text/plain": [
       "<IPython.core.display.HTML object>"
      ]
     },
     "metadata": {},
     "output_type": "display_data"
    },
    {
     "data": {
      "text/html": [
       "Syncing run <strong><a href='https://wandb.ai/dmitrii_fomin_uga/Internship_project/runs/c9j0t0il' target=\"_blank\">EM_CrossEntropyLoss()_RUS-0.4</a></strong> to <a href='https://wandb.ai/dmitrii_fomin_uga/Internship_project' target=\"_blank\">Weights & Biases</a> (<a href='https://wandb.me/run' target=\"_blank\">docs</a>)<br/>"
      ],
      "text/plain": [
       "<IPython.core.display.HTML object>"
      ]
     },
     "metadata": {},
     "output_type": "display_data"
    },
    {
     "data": {
      "text/html": [
       " View project at <a href='https://wandb.ai/dmitrii_fomin_uga/Internship_project' target=\"_blank\">https://wandb.ai/dmitrii_fomin_uga/Internship_project</a>"
      ],
      "text/plain": [
       "<IPython.core.display.HTML object>"
      ]
     },
     "metadata": {},
     "output_type": "display_data"
    },
    {
     "data": {
      "text/html": [
       " View run at <a href='https://wandb.ai/dmitrii_fomin_uga/Internship_project/runs/c9j0t0il' target=\"_blank\">https://wandb.ai/dmitrii_fomin_uga/Internship_project/runs/c9j0t0il</a>"
      ],
      "text/plain": [
       "<IPython.core.display.HTML object>"
      ]
     },
     "metadata": {},
     "output_type": "display_data"
    },
    {
     "data": {
      "text/html": [
       "Waiting for W&B process to finish... <strong style=\"color:green\">(success).</strong>"
      ],
      "text/plain": [
       "<IPython.core.display.HTML object>"
      ]
     },
     "metadata": {},
     "output_type": "display_data"
    },
    {
     "data": {
      "text/html": [
       "<style>\n",
       "    table.wandb td:nth-child(1) { padding: 0 10px; text-align: left ; width: auto;} td:nth-child(2) {text-align: left ; width: 100%}\n",
       "    .wandb-row { display: flex; flex-direction: row; flex-wrap: wrap; justify-content: flex-start; width: 100% }\n",
       "    .wandb-col { display: flex; flex-direction: column; flex-basis: 100%; flex: 1; padding: 10px; }\n",
       "    </style>\n",
       "<div class=\"wandb-row\"><div class=\"wandb-col\"><h3>Run history:</h3><br/><table class=\"wandb\"><tr><td>epoch</td><td>▁▁▁▂▂▂▂▂▂▃▃▃▃▃▄▄▄▄▄▄▅▅▅▅▅▅▆▆▆▆▆▇▇▇▇▇▇███</td></tr><tr><td>lr</td><td>█▇▇▆▆▅▅▄▄▄▃▃▃▃▃▂▂▂▂▂▂▂▂▂▁▁▁▁▁▁▁▁▁▁▁▁▁▁▁▁</td></tr><tr><td>test_accuracy</td><td>▁▃▅▇█▇██████████████████████████████████</td></tr><tr><td>test_auc_score</td><td>▂▄▃▂▁▅▃▃▅▅▆▆▆▅▆▇▇▅▇██▇▇▆█▇▅▆▄▅▄▆▆▇▇▆▆▇▇█</td></tr><tr><td>test_f1_score</td><td>▁▃▄▆▇▆▇▇▇▇▇█▇███████████████████████████</td></tr><tr><td>test_fpr</td><td>█▆▄▂▁▂▁▁▁▁▁▁▁▁▁▁▁▁▁▁▁▁▁▁▁▁▁▁▁▁▁▁▁▁▁▁▁▁▁▁</td></tr><tr><td>test_loss</td><td>█▆▄▃▂▂▂▂▁▁▁▁▁▁▁▁▁▁▁▁▁▁▁▁▁▁▁▁▁▁▁▁▁▁▁▁▁▁▁▁</td></tr><tr><td>test_tpr</td><td>███▆▃▆▅▃▄▄▃▁▁▂▂▃▃▄▄▄▂▃▂▅▄▄▄▃▄▄▃▃▃▃▄▄▅▅▄▄</td></tr><tr><td>train_accuracy</td><td>▁▅▇█████████████████████████████████████</td></tr><tr><td>train_auc_score</td><td>▁▆▆▆▆▆▇▇▇▇▇▇▇▇▇▇▇▇███████████▇▇▇▇███████</td></tr><tr><td>train_f1_score</td><td>▁▃▆▆▇▆▆▇▇▇▇▇▇▇▇▇▇█▇███▇█████████████████</td></tr><tr><td>train_fpr</td><td>█▅▁▁▁▁▁▁▁▁▁▁▁▁▁▁▁▁▁▁▁▁▁▁▁▁▁▁▁▁▁▁▁▁▁▁▁▁▁▁</td></tr><tr><td>train_loss</td><td>█▆▄▃▂▂▂▂▂▂▁▁▁▁▁▁▁▁▁▁▁▁▁▁▁▁▁▁▁▁▁▁▁▁▁▁▁▁▁▁</td></tr><tr><td>train_tpr</td><td>██▂▂▂▁▁▂▂▃▃▄▄▄▄▄▄▅▄▆▅▅▄▅▅▆▆▅▆▅▅▆▅▆▆▆▆▆▆▆</td></tr></table><br/></div><div class=\"wandb-col\"><h3>Run summary:</h3><br/><table class=\"wandb\"><tr><td>epoch</td><td>39</td></tr><tr><td>lr</td><td>0.00015</td></tr><tr><td>test_accuracy</td><td>0.97527</td></tr><tr><td>test_auc_score</td><td>0.96363</td></tr><tr><td>test_f1_score</td><td>0.83913</td></tr><tr><td>test_fpr</td><td>0.01797</td></tr><tr><td>test_loss</td><td>0.34198</td></tr><tr><td>test_tpr</td><td>0.78704</td></tr><tr><td>train_accuracy</td><td>0.98664</td></tr><tr><td>train_auc_score</td><td>0.96613</td></tr><tr><td>train_f1_score</td><td>0.94447</td></tr><tr><td>train_fpr</td><td>0.00299</td></tr><tr><td>train_loss</td><td>0.3328</td></tr><tr><td>train_tpr</td><td>0.8459</td></tr></table><br/></div></div>"
      ],
      "text/plain": [
       "<IPython.core.display.HTML object>"
      ]
     },
     "metadata": {},
     "output_type": "display_data"
    },
    {
     "data": {
      "text/html": [
       " View run <strong style=\"color:#cdcd00\">EM_CrossEntropyLoss()_RUS-0.4</strong> at: <a href='https://wandb.ai/dmitrii_fomin_uga/Internship_project/runs/c9j0t0il' target=\"_blank\">https://wandb.ai/dmitrii_fomin_uga/Internship_project/runs/c9j0t0il</a><br/>Synced 5 W&B file(s), 0 media file(s), 0 artifact file(s) and 0 other file(s)"
      ],
      "text/plain": [
       "<IPython.core.display.HTML object>"
      ]
     },
     "metadata": {},
     "output_type": "display_data"
    },
    {
     "data": {
      "text/html": [
       "Find logs at: <code>../logs/wandb\\run-20230702_140806-c9j0t0il\\logs</code>"
      ],
      "text/plain": [
       "<IPython.core.display.HTML object>"
      ]
     },
     "metadata": {},
     "output_type": "display_data"
    },
    {
     "data": {
      "text/html": [
       "Tracking run with wandb version 0.15.4"
      ],
      "text/plain": [
       "<IPython.core.display.HTML object>"
      ]
     },
     "metadata": {},
     "output_type": "display_data"
    },
    {
     "data": {
      "text/html": [
       "Run data is saved locally in <code>../logs/wandb\\run-20230702_140821-gc2bm380</code>"
      ],
      "text/plain": [
       "<IPython.core.display.HTML object>"
      ]
     },
     "metadata": {},
     "output_type": "display_data"
    },
    {
     "data": {
      "text/html": [
       "Syncing run <strong><a href='https://wandb.ai/dmitrii_fomin_uga/Internship_project/runs/gc2bm380' target=\"_blank\">EM_CrossEntropyLoss()_RUS-0.5</a></strong> to <a href='https://wandb.ai/dmitrii_fomin_uga/Internship_project' target=\"_blank\">Weights & Biases</a> (<a href='https://wandb.me/run' target=\"_blank\">docs</a>)<br/>"
      ],
      "text/plain": [
       "<IPython.core.display.HTML object>"
      ]
     },
     "metadata": {},
     "output_type": "display_data"
    },
    {
     "data": {
      "text/html": [
       " View project at <a href='https://wandb.ai/dmitrii_fomin_uga/Internship_project' target=\"_blank\">https://wandb.ai/dmitrii_fomin_uga/Internship_project</a>"
      ],
      "text/plain": [
       "<IPython.core.display.HTML object>"
      ]
     },
     "metadata": {},
     "output_type": "display_data"
    },
    {
     "data": {
      "text/html": [
       " View run at <a href='https://wandb.ai/dmitrii_fomin_uga/Internship_project/runs/gc2bm380' target=\"_blank\">https://wandb.ai/dmitrii_fomin_uga/Internship_project/runs/gc2bm380</a>"
      ],
      "text/plain": [
       "<IPython.core.display.HTML object>"
      ]
     },
     "metadata": {},
     "output_type": "display_data"
    },
    {
     "data": {
      "text/html": [
       "Waiting for W&B process to finish... <strong style=\"color:green\">(success).</strong>"
      ],
      "text/plain": [
       "<IPython.core.display.HTML object>"
      ]
     },
     "metadata": {},
     "output_type": "display_data"
    },
    {
     "data": {
      "text/html": [
       "<style>\n",
       "    table.wandb td:nth-child(1) { padding: 0 10px; text-align: left ; width: auto;} td:nth-child(2) {text-align: left ; width: 100%}\n",
       "    .wandb-row { display: flex; flex-direction: row; flex-wrap: wrap; justify-content: flex-start; width: 100% }\n",
       "    .wandb-col { display: flex; flex-direction: column; flex-basis: 100%; flex: 1; padding: 10px; }\n",
       "    </style>\n",
       "<div class=\"wandb-row\"><div class=\"wandb-col\"><h3>Run history:</h3><br/><table class=\"wandb\"><tr><td>epoch</td><td>▁▁▁▂▂▂▂▂▂▃▃▃▃▃▄▄▄▄▄▄▅▅▅▅▅▅▆▆▆▆▆▇▇▇▇▇▇███</td></tr><tr><td>lr</td><td>█▇▇▆▆▅▅▄▄▄▃▃▃▃▃▂▂▂▂▂▂▂▂▂▁▁▁▁▁▁▁▁▁▁▁▁▁▁▁▁</td></tr><tr><td>test_accuracy</td><td>▁▃▆▇▇███████████████████████████████████</td></tr><tr><td>test_auc_score</td><td>▁▂▃▄▃▃▆▃▄▇▆▅▆▇▇▅▇▆█▇▇▇▇▆▆▆▇▇▇█▇█▇▇▇▇██▆▇</td></tr><tr><td>test_f1_score</td><td>▁▃▅▆▆▆▇▇▇▇▇▇███▇████████████████████████</td></tr><tr><td>test_fpr</td><td>█▆▃▂▂▁▁▁▁▁▁▁▁▁▁▁▁▁▁▁▁▁▁▁▁▁▁▁▁▁▁▁▁▁▁▁▁▁▁▁</td></tr><tr><td>test_loss</td><td>██▅▃▃▂▁▁▂▂▁▁▁▁▁▁▁▁▁▁▁▁▁▁▁▁▁▁▁▁▁▁▁▁▁▁▁▁▁▁</td></tr><tr><td>test_tpr</td><td>█▇▇▅▅▅▄▅▅▆▅▁▄▄▅▂▅▂▅▃▄▅▄▄▄▄▄▄▅▄▄▅▅▄▅▅▅▅▄▅</td></tr><tr><td>train_accuracy</td><td>▁▇▇▇▇▇██▇███████████████████████████████</td></tr><tr><td>train_auc_score</td><td>▁▆▆▆▆▇▇▇▇▇▇█▇▇█▇▇▇█▇██▇█▇▇▇█████▇███████</td></tr><tr><td>train_f1_score</td><td>▁▅▅▆▅▆▇▆▆▇▇▇▇▇▇▇▇▇████▇█████████████████</td></tr><tr><td>train_fpr</td><td>█▁▁▁▁▁▁▁▁▁▁▁▁▁▁▁▁▁▁▁▁▁▁▁▁▁▁▁▁▁▁▁▁▁▁▁▁▁▁▁</td></tr><tr><td>train_loss</td><td>█▆▄▃▂▂▂▂▂▂▁▁▁▁▁▁▁▁▁▁▁▁▁▁▁▁▁▁▁▁▁▁▁▁▁▁▁▁▁▁</td></tr><tr><td>train_tpr</td><td>▆▁▁▄▂▅▆▅▄▆▆▆▆▇▆▆▇▇▇▇▇▇▇██▇▇████████▇████</td></tr></table><br/></div><div class=\"wandb-col\"><h3>Run summary:</h3><br/><table class=\"wandb\"><tr><td>epoch</td><td>39</td></tr><tr><td>lr</td><td>0.00015</td></tr><tr><td>test_accuracy</td><td>0.97582</td></tr><tr><td>test_auc_score</td><td>0.95153</td></tr><tr><td>test_f1_score</td><td>0.83712</td></tr><tr><td>test_fpr</td><td>0.01821</td></tr><tr><td>test_loss</td><td>0.33864</td></tr><tr><td>test_tpr</td><td>0.80636</td></tr><tr><td>train_accuracy</td><td>0.98739</td></tr><tr><td>train_auc_score</td><td>0.96112</td></tr><tr><td>train_f1_score</td><td>0.94677</td></tr><tr><td>train_fpr</td><td>0.00135</td></tr><tr><td>train_loss</td><td>0.33069</td></tr><tr><td>train_tpr</td><td>0.83426</td></tr></table><br/></div></div>"
      ],
      "text/plain": [
       "<IPython.core.display.HTML object>"
      ]
     },
     "metadata": {},
     "output_type": "display_data"
    },
    {
     "data": {
      "text/html": [
       " View run <strong style=\"color:#cdcd00\">EM_CrossEntropyLoss()_RUS-0.5</strong> at: <a href='https://wandb.ai/dmitrii_fomin_uga/Internship_project/runs/gc2bm380' target=\"_blank\">https://wandb.ai/dmitrii_fomin_uga/Internship_project/runs/gc2bm380</a><br/>Synced 5 W&B file(s), 0 media file(s), 0 artifact file(s) and 0 other file(s)"
      ],
      "text/plain": [
       "<IPython.core.display.HTML object>"
      ]
     },
     "metadata": {},
     "output_type": "display_data"
    },
    {
     "data": {
      "text/html": [
       "Find logs at: <code>../logs/wandb\\run-20230702_140821-gc2bm380\\logs</code>"
      ],
      "text/plain": [
       "<IPython.core.display.HTML object>"
      ]
     },
     "metadata": {},
     "output_type": "display_data"
    },
    {
     "data": {
      "text/html": [
       "Tracking run with wandb version 0.15.4"
      ],
      "text/plain": [
       "<IPython.core.display.HTML object>"
      ]
     },
     "metadata": {},
     "output_type": "display_data"
    },
    {
     "data": {
      "text/html": [
       "Run data is saved locally in <code>../logs/wandb\\run-20230702_140837-49qb2fqz</code>"
      ],
      "text/plain": [
       "<IPython.core.display.HTML object>"
      ]
     },
     "metadata": {},
     "output_type": "display_data"
    },
    {
     "data": {
      "text/html": [
       "Syncing run <strong><a href='https://wandb.ai/dmitrii_fomin_uga/Internship_project/runs/49qb2fqz' target=\"_blank\">EM_CrossEntropyLoss()_RUS-0.6</a></strong> to <a href='https://wandb.ai/dmitrii_fomin_uga/Internship_project' target=\"_blank\">Weights & Biases</a> (<a href='https://wandb.me/run' target=\"_blank\">docs</a>)<br/>"
      ],
      "text/plain": [
       "<IPython.core.display.HTML object>"
      ]
     },
     "metadata": {},
     "output_type": "display_data"
    },
    {
     "data": {
      "text/html": [
       " View project at <a href='https://wandb.ai/dmitrii_fomin_uga/Internship_project' target=\"_blank\">https://wandb.ai/dmitrii_fomin_uga/Internship_project</a>"
      ],
      "text/plain": [
       "<IPython.core.display.HTML object>"
      ]
     },
     "metadata": {},
     "output_type": "display_data"
    },
    {
     "data": {
      "text/html": [
       " View run at <a href='https://wandb.ai/dmitrii_fomin_uga/Internship_project/runs/49qb2fqz' target=\"_blank\">https://wandb.ai/dmitrii_fomin_uga/Internship_project/runs/49qb2fqz</a>"
      ],
      "text/plain": [
       "<IPython.core.display.HTML object>"
      ]
     },
     "metadata": {},
     "output_type": "display_data"
    },
    {
     "data": {
      "text/html": [
       "Waiting for W&B process to finish... <strong style=\"color:green\">(success).</strong>"
      ],
      "text/plain": [
       "<IPython.core.display.HTML object>"
      ]
     },
     "metadata": {},
     "output_type": "display_data"
    },
    {
     "data": {
      "text/html": [
       "<style>\n",
       "    table.wandb td:nth-child(1) { padding: 0 10px; text-align: left ; width: auto;} td:nth-child(2) {text-align: left ; width: 100%}\n",
       "    .wandb-row { display: flex; flex-direction: row; flex-wrap: wrap; justify-content: flex-start; width: 100% }\n",
       "    .wandb-col { display: flex; flex-direction: column; flex-basis: 100%; flex: 1; padding: 10px; }\n",
       "    </style>\n",
       "<div class=\"wandb-row\"><div class=\"wandb-col\"><h3>Run history:</h3><br/><table class=\"wandb\"><tr><td>epoch</td><td>▁▁▁▂▂▂▂▂▂▃▃▃▃▃▄▄▄▄▄▄▅▅▅▅▅▅▆▆▆▆▆▇▇▇▇▇▇███</td></tr><tr><td>lr</td><td>█▇▇▆▆▅▅▄▄▄▃▃▃▃▃▂▂▂▂▂▂▂▂▂▁▁▁▁▁▁▁▁▁▁▁▁▁▁▁▁</td></tr><tr><td>test_accuracy</td><td>▄▁▃▆▇▇██████████████████████████████████</td></tr><tr><td>test_auc_score</td><td>▁▅██▆▄▅▄▂▃▆▆▄▆▅▃▄▆▃▆▇▅▂▅▅▅▅▅▄▄▄▅▄▅▄▄▅▄▄▄</td></tr><tr><td>test_f1_score</td><td>▃▁▂▄▆▆▇▇▇▇▇█▇▇█▇▇███████████████████████</td></tr><tr><td>test_fpr</td><td>▅█▆▃▂▂▁▁▁▁▁▁▁▁▁▁▁▁▁▁▁▁▁▁▁▁▁▁▁▁▁▁▁▁▁▁▁▁▁▁</td></tr><tr><td>test_loss</td><td>▇█▆▄▂▂▁▁▁▁▁▁▁▁▁▁▁▁▁▁▁▁▁▁▁▁▁▁▁▁▁▁▁▁▁▁▁▁▁▁</td></tr><tr><td>test_tpr</td><td>▆██▇▅▅▄▄▂▁▄▅▂▅▄▂▄▄▃▃▄▅▃▃▄▅▄▄▅▄▄▅▄▃▄▄▅▄▅▅</td></tr><tr><td>train_accuracy</td><td>▁▅▅▆▆▆▇▆▇▇▇▇▇▇▇▇▇▇██████████████████████</td></tr><tr><td>train_auc_score</td><td>▁▆▆▆▆▇▇▇▇▇▇████▇█▇▇██▇█▇▇█▇▇▇▇▇▇▇▇██▇▇█▇</td></tr><tr><td>train_f1_score</td><td>▁▄▄▄▅▆▆▆▆▆▆▆▇▆▇▇▇▇▇█▇▇██▇█▇█████████████</td></tr><tr><td>train_fpr</td><td>█▃▂▂▂▂▂▂▂▂▂▂▂▂▂▂▂▂▁▁▁▁▁▁▁▁▁▁▁▁▁▁▁▁▁▁▁▁▁▁</td></tr><tr><td>train_loss</td><td>█▅▃▃▂▂▂▂▂▁▂▁▁▁▁▁▁▁▁▁▁▁▁▁▁▁▁▁▁▁▁▁▁▁▁▁▁▁▁▁</td></tr><tr><td>train_tpr</td><td>▁▂▁▂▃▅▅▅▆▆▅▇▆▆▇▆▇▆▇█▇▇█▇▇█▇█▇████████▇██</td></tr></table><br/></div><div class=\"wandb-col\"><h3>Run summary:</h3><br/><table class=\"wandb\"><tr><td>epoch</td><td>39</td></tr><tr><td>lr</td><td>0.00015</td></tr><tr><td>test_accuracy</td><td>0.97755</td></tr><tr><td>test_auc_score</td><td>0.89992</td></tr><tr><td>test_f1_score</td><td>0.85302</td></tr><tr><td>test_fpr</td><td>0.01729</td></tr><tr><td>test_loss</td><td>0.33752</td></tr><tr><td>test_tpr</td><td>0.8342</td></tr><tr><td>train_accuracy</td><td>0.98538</td></tr><tr><td>train_auc_score</td><td>0.93331</td></tr><tr><td>train_f1_score</td><td>0.93643</td></tr><tr><td>train_fpr</td><td>0.00385</td></tr><tr><td>train_loss</td><td>0.33084</td></tr><tr><td>train_tpr</td><td>0.83341</td></tr></table><br/></div></div>"
      ],
      "text/plain": [
       "<IPython.core.display.HTML object>"
      ]
     },
     "metadata": {},
     "output_type": "display_data"
    },
    {
     "data": {
      "text/html": [
       " View run <strong style=\"color:#cdcd00\">EM_CrossEntropyLoss()_RUS-0.6</strong> at: <a href='https://wandb.ai/dmitrii_fomin_uga/Internship_project/runs/49qb2fqz' target=\"_blank\">https://wandb.ai/dmitrii_fomin_uga/Internship_project/runs/49qb2fqz</a><br/>Synced 5 W&B file(s), 0 media file(s), 0 artifact file(s) and 0 other file(s)"
      ],
      "text/plain": [
       "<IPython.core.display.HTML object>"
      ]
     },
     "metadata": {},
     "output_type": "display_data"
    },
    {
     "data": {
      "text/html": [
       "Find logs at: <code>../logs/wandb\\run-20230702_140837-49qb2fqz\\logs</code>"
      ],
      "text/plain": [
       "<IPython.core.display.HTML object>"
      ]
     },
     "metadata": {},
     "output_type": "display_data"
    },
    {
     "data": {
      "text/html": [
       "Tracking run with wandb version 0.15.4"
      ],
      "text/plain": [
       "<IPython.core.display.HTML object>"
      ]
     },
     "metadata": {},
     "output_type": "display_data"
    },
    {
     "data": {
      "text/html": [
       "Run data is saved locally in <code>../logs/wandb\\run-20230702_140853-go7ncxmt</code>"
      ],
      "text/plain": [
       "<IPython.core.display.HTML object>"
      ]
     },
     "metadata": {},
     "output_type": "display_data"
    },
    {
     "data": {
      "text/html": [
       "Syncing run <strong><a href='https://wandb.ai/dmitrii_fomin_uga/Internship_project/runs/go7ncxmt' target=\"_blank\">EM_CrossEntropyLoss()_RUS-0.8</a></strong> to <a href='https://wandb.ai/dmitrii_fomin_uga/Internship_project' target=\"_blank\">Weights & Biases</a> (<a href='https://wandb.me/run' target=\"_blank\">docs</a>)<br/>"
      ],
      "text/plain": [
       "<IPython.core.display.HTML object>"
      ]
     },
     "metadata": {},
     "output_type": "display_data"
    },
    {
     "data": {
      "text/html": [
       " View project at <a href='https://wandb.ai/dmitrii_fomin_uga/Internship_project' target=\"_blank\">https://wandb.ai/dmitrii_fomin_uga/Internship_project</a>"
      ],
      "text/plain": [
       "<IPython.core.display.HTML object>"
      ]
     },
     "metadata": {},
     "output_type": "display_data"
    },
    {
     "data": {
      "text/html": [
       " View run at <a href='https://wandb.ai/dmitrii_fomin_uga/Internship_project/runs/go7ncxmt' target=\"_blank\">https://wandb.ai/dmitrii_fomin_uga/Internship_project/runs/go7ncxmt</a>"
      ],
      "text/plain": [
       "<IPython.core.display.HTML object>"
      ]
     },
     "metadata": {},
     "output_type": "display_data"
    },
    {
     "data": {
      "text/html": [
       "Waiting for W&B process to finish... <strong style=\"color:green\">(success).</strong>"
      ],
      "text/plain": [
       "<IPython.core.display.HTML object>"
      ]
     },
     "metadata": {},
     "output_type": "display_data"
    },
    {
     "data": {
      "text/html": [
       "<style>\n",
       "    table.wandb td:nth-child(1) { padding: 0 10px; text-align: left ; width: auto;} td:nth-child(2) {text-align: left ; width: 100%}\n",
       "    .wandb-row { display: flex; flex-direction: row; flex-wrap: wrap; justify-content: flex-start; width: 100% }\n",
       "    .wandb-col { display: flex; flex-direction: column; flex-basis: 100%; flex: 1; padding: 10px; }\n",
       "    </style>\n",
       "<div class=\"wandb-row\"><div class=\"wandb-col\"><h3>Run history:</h3><br/><table class=\"wandb\"><tr><td>epoch</td><td>▁▁▁▂▂▂▂▂▂▃▃▃▃▃▄▄▄▄▄▄▅▅▅▅▅▅▆▆▆▆▆▇▇▇▇▇▇███</td></tr><tr><td>lr</td><td>█▇▇▆▆▅▅▄▄▄▃▃▃▃▃▂▂▂▂▂▂▂▂▂▁▁▁▁▁▁▁▁▁▁▁▁▁▁▁▁</td></tr><tr><td>test_accuracy</td><td>▆▆▆▆▆▁▆▃▇▆▆▆▆▇▇▆▇▇█▇▇▆▇█▇████▇▇█████▇██▇</td></tr><tr><td>test_auc_score</td><td>▁▅▆▇▇▇▇▇█▇▇▇▇▇▇██▇█▇█▇████▇▇▇███▇▇██████</td></tr><tr><td>test_f1_score</td><td>▁▁▁▁▁▅▆▆▇▆▇▇▆▇▇▇▇██▇█▇▇█▇█████▇█████████</td></tr><tr><td>test_fpr</td><td>▁▁▁▁▁█▄▆▃▄▄▄▄▃▃▄▃▃▃▃▄▄▃▃▄▃▃▃▃▃▃▃▃▃▃▃▃▃▃▃</td></tr><tr><td>test_loss</td><td>█▇▅▃▂▂▂▂▁▁▁▁▁▁▁▁▁▁▁▁▁▁▁▁▁▁▁▁▁▁▁▁▁▁▁▁▁▁▁▁</td></tr><tr><td>test_tpr</td><td>▁▁▁▁▁▇▆▇▇▇▇▇▇▇▇█▇▇▇▇██▇▇█▇▇▇▇█▇▇▇██▇▇█▇▇</td></tr><tr><td>train_accuracy</td><td>▁▇▇▇▇▇▇▇████████████████████████████████</td></tr><tr><td>train_auc_score</td><td>▁▆▇▇▇▇▇▇▇▇▇▇▇▇▇▇▇███████████████████████</td></tr><tr><td>train_f1_score</td><td>▂▂▁▁▄▆▆▆▇▇▇▇▇▇▇▇▇▇█▇▇▇▇█████████████████</td></tr><tr><td>train_fpr</td><td>█▁▁▁▁▁▁▁▁▁▁▁▁▁▁▁▁▁▁▁▁▁▁▁▁▁▁▁▁▁▁▁▁▁▁▁▁▁▁▁</td></tr><tr><td>train_loss</td><td>█▅▃▃▂▂▂▂▂▂▂▁▁▁▁▁▁▁▁▁▁▁▁▁▁▁▁▁▁▁▁▁▁▁▁▁▁▁▁▁</td></tr><tr><td>train_tpr</td><td>▆▁▁▁▃▅▆▆▇▆▇▇▇▇▇▇▇▇█▇▇█▇▇████████████████</td></tr></table><br/></div><div class=\"wandb-col\"><h3>Run summary:</h3><br/><table class=\"wandb\"><tr><td>epoch</td><td>39</td></tr><tr><td>lr</td><td>0.00015</td></tr><tr><td>test_accuracy</td><td>0.97332</td></tr><tr><td>test_auc_score</td><td>0.94077</td></tr><tr><td>test_f1_score</td><td>0.81381</td></tr><tr><td>test_fpr</td><td>0.01725</td></tr><tr><td>test_loss</td><td>0.3422</td></tr><tr><td>test_tpr</td><td>0.70972</td></tr><tr><td>train_accuracy</td><td>0.98679</td></tr><tr><td>train_auc_score</td><td>0.97211</td></tr><tr><td>train_f1_score</td><td>0.94405</td></tr><tr><td>train_fpr</td><td>0.00253</td></tr><tr><td>train_loss</td><td>0.33272</td></tr><tr><td>train_tpr</td><td>0.84183</td></tr></table><br/></div></div>"
      ],
      "text/plain": [
       "<IPython.core.display.HTML object>"
      ]
     },
     "metadata": {},
     "output_type": "display_data"
    },
    {
     "data": {
      "text/html": [
       " View run <strong style=\"color:#cdcd00\">EM_CrossEntropyLoss()_RUS-0.8</strong> at: <a href='https://wandb.ai/dmitrii_fomin_uga/Internship_project/runs/go7ncxmt' target=\"_blank\">https://wandb.ai/dmitrii_fomin_uga/Internship_project/runs/go7ncxmt</a><br/>Synced 5 W&B file(s), 0 media file(s), 0 artifact file(s) and 0 other file(s)"
      ],
      "text/plain": [
       "<IPython.core.display.HTML object>"
      ]
     },
     "metadata": {},
     "output_type": "display_data"
    },
    {
     "data": {
      "text/html": [
       "Find logs at: <code>../logs/wandb\\run-20230702_140853-go7ncxmt\\logs</code>"
      ],
      "text/plain": [
       "<IPython.core.display.HTML object>"
      ]
     },
     "metadata": {},
     "output_type": "display_data"
    },
    {
     "data": {
      "text/html": [
       "Tracking run with wandb version 0.15.4"
      ],
      "text/plain": [
       "<IPython.core.display.HTML object>"
      ]
     },
     "metadata": {},
     "output_type": "display_data"
    },
    {
     "data": {
      "text/html": [
       "Run data is saved locally in <code>../logs/wandb\\run-20230702_140908-ej60fi2j</code>"
      ],
      "text/plain": [
       "<IPython.core.display.HTML object>"
      ]
     },
     "metadata": {},
     "output_type": "display_data"
    },
    {
     "data": {
      "text/html": [
       "Syncing run <strong><a href='https://wandb.ai/dmitrii_fomin_uga/Internship_project/runs/ej60fi2j' target=\"_blank\">EM_CrossEntropyLoss()_RUS-1</a></strong> to <a href='https://wandb.ai/dmitrii_fomin_uga/Internship_project' target=\"_blank\">Weights & Biases</a> (<a href='https://wandb.me/run' target=\"_blank\">docs</a>)<br/>"
      ],
      "text/plain": [
       "<IPython.core.display.HTML object>"
      ]
     },
     "metadata": {},
     "output_type": "display_data"
    },
    {
     "data": {
      "text/html": [
       " View project at <a href='https://wandb.ai/dmitrii_fomin_uga/Internship_project' target=\"_blank\">https://wandb.ai/dmitrii_fomin_uga/Internship_project</a>"
      ],
      "text/plain": [
       "<IPython.core.display.HTML object>"
      ]
     },
     "metadata": {},
     "output_type": "display_data"
    },
    {
     "data": {
      "text/html": [
       " View run at <a href='https://wandb.ai/dmitrii_fomin_uga/Internship_project/runs/ej60fi2j' target=\"_blank\">https://wandb.ai/dmitrii_fomin_uga/Internship_project/runs/ej60fi2j</a>"
      ],
      "text/plain": [
       "<IPython.core.display.HTML object>"
      ]
     },
     "metadata": {},
     "output_type": "display_data"
    },
    {
     "data": {
      "text/html": [
       "Waiting for W&B process to finish... <strong style=\"color:green\">(success).</strong>"
      ],
      "text/plain": [
       "<IPython.core.display.HTML object>"
      ]
     },
     "metadata": {},
     "output_type": "display_data"
    },
    {
     "data": {
      "text/html": [
       "<style>\n",
       "    table.wandb td:nth-child(1) { padding: 0 10px; text-align: left ; width: auto;} td:nth-child(2) {text-align: left ; width: 100%}\n",
       "    .wandb-row { display: flex; flex-direction: row; flex-wrap: wrap; justify-content: flex-start; width: 100% }\n",
       "    .wandb-col { display: flex; flex-direction: column; flex-basis: 100%; flex: 1; padding: 10px; }\n",
       "    </style>\n",
       "<div class=\"wandb-row\"><div class=\"wandb-col\"><h3>Run history:</h3><br/><table class=\"wandb\"><tr><td>epoch</td><td>▁▁▁▂▂▂▂▂▂▃▃▃▃▃▄▄▄▄▄▄▅▅▅▅▅▅▆▆▆▆▆▇▇▇▇▇▇███</td></tr><tr><td>lr</td><td>█▇▇▆▆▅▅▄▄▄▃▃▃▃▃▂▂▂▂▂▂▂▂▂▁▁▁▁▁▁▁▁▁▁▁▁▁▁▁▁</td></tr><tr><td>test_accuracy</td><td>▁▃▆▇████████████████████████████████████</td></tr><tr><td>test_auc_score</td><td>▁▄▄▆▆▄▄▆▆▇▇▇▆▃█▂▆▇▆▅▇▇▅▆▆▇▆▇▆▆▇▅▆▆▇▇▆▇▇▇</td></tr><tr><td>test_f1_score</td><td>▁▃▅▆▇▇▇▇▇██▇▇▇█▇▇█▇█████████████████████</td></tr><tr><td>test_fpr</td><td>█▆▃▂▁▁▁▁▁▁▁▁▁▁▁▁▁▁▁▁▁▁▁▁▁▁▁▁▁▁▁▁▁▁▁▁▁▁▁▁</td></tr><tr><td>test_loss</td><td>█▇▄▃▂▂▂▂▁▁▁▁▁▁▁▁▁▁▁▁▁▁▁▁▁▁▁▁▁▁▁▁▁▁▁▁▁▁▁▁</td></tr><tr><td>test_tpr</td><td>██▆▆▃▂▃▄▃▄▃▂▂▂▄▂▃▅▁▄▄▅▄▄▄▄▄▄▄▄▄▄▄▄▅▅▄▄▄▄</td></tr><tr><td>train_accuracy</td><td>▁▆▇▇▇▇▇▇▇▇▇▇▇▇▇▇████████████████████████</td></tr><tr><td>train_auc_score</td><td>▁▂▆▇▇▇▇▆▆▇▇▇▇▇▇▇▇▇▇▇█▇▇██▇███████▇██████</td></tr><tr><td>train_f1_score</td><td>▁▄▅▅▅▅▆▆▆▆▆▆▆▆▇▇▇▇▇▇▇▇▇██▇██████████████</td></tr><tr><td>train_fpr</td><td>█▂▂▂▂▁▁▁▂▁▁▁▁▁▁▁▁▁▁▁▁▁▁▁▁▁▁▁▁▁▁▁▁▁▁▁▁▁▁▁</td></tr><tr><td>train_loss</td><td>█▆▅▄▃▃▂▂▂▂▂▁▁▁▁▁▁▁▁▁▁▁▁▁▁▁▁▁▁▁▁▁▁▁▁▁▁▁▁▁</td></tr><tr><td>train_tpr</td><td>▃▁▄▅▄▃▄▄▅▄▅▆▅▅▆▆▆▇▆▇▆▇▇▇▇▇███▇█▇██▇████▇</td></tr></table><br/></div><div class=\"wandb-col\"><h3>Run summary:</h3><br/><table class=\"wandb\"><tr><td>epoch</td><td>39</td></tr><tr><td>lr</td><td>0.00015</td></tr><tr><td>test_accuracy</td><td>0.97735</td></tr><tr><td>test_auc_score</td><td>0.92901</td></tr><tr><td>test_f1_score</td><td>0.83809</td></tr><tr><td>test_fpr</td><td>0.01514</td></tr><tr><td>test_loss</td><td>0.34011</td></tr><tr><td>test_tpr</td><td>0.7596</td></tr><tr><td>train_accuracy</td><td>0.98412</td></tr><tr><td>train_auc_score</td><td>0.9366</td></tr><tr><td>train_f1_score</td><td>0.9322</td></tr><tr><td>train_fpr</td><td>0.00238</td></tr><tr><td>train_loss</td><td>0.33502</td></tr><tr><td>train_tpr</td><td>0.80215</td></tr></table><br/></div></div>"
      ],
      "text/plain": [
       "<IPython.core.display.HTML object>"
      ]
     },
     "metadata": {},
     "output_type": "display_data"
    },
    {
     "data": {
      "text/html": [
       " View run <strong style=\"color:#cdcd00\">EM_CrossEntropyLoss()_RUS-1</strong> at: <a href='https://wandb.ai/dmitrii_fomin_uga/Internship_project/runs/ej60fi2j' target=\"_blank\">https://wandb.ai/dmitrii_fomin_uga/Internship_project/runs/ej60fi2j</a><br/>Synced 5 W&B file(s), 0 media file(s), 0 artifact file(s) and 0 other file(s)"
      ],
      "text/plain": [
       "<IPython.core.display.HTML object>"
      ]
     },
     "metadata": {},
     "output_type": "display_data"
    },
    {
     "data": {
      "text/html": [
       "Find logs at: <code>../logs/wandb\\run-20230702_140908-ej60fi2j\\logs</code>"
      ],
      "text/plain": [
       "<IPython.core.display.HTML object>"
      ]
     },
     "metadata": {},
     "output_type": "display_data"
    },
    {
     "data": {
      "text/html": [
       "Tracking run with wandb version 0.15.4"
      ],
      "text/plain": [
       "<IPython.core.display.HTML object>"
      ]
     },
     "metadata": {},
     "output_type": "display_data"
    },
    {
     "data": {
      "text/html": [
       "Run data is saved locally in <code>../logs/wandb\\run-20230702_140924-rwqspm1j</code>"
      ],
      "text/plain": [
       "<IPython.core.display.HTML object>"
      ]
     },
     "metadata": {},
     "output_type": "display_data"
    },
    {
     "data": {
      "text/html": [
       "Syncing run <strong><a href='https://wandb.ai/dmitrii_fomin_uga/Internship_project/runs/rwqspm1j' target=\"_blank\">EM_CrossEntropyLoss()_SMOTE-0.05</a></strong> to <a href='https://wandb.ai/dmitrii_fomin_uga/Internship_project' target=\"_blank\">Weights & Biases</a> (<a href='https://wandb.me/run' target=\"_blank\">docs</a>)<br/>"
      ],
      "text/plain": [
       "<IPython.core.display.HTML object>"
      ]
     },
     "metadata": {},
     "output_type": "display_data"
    },
    {
     "data": {
      "text/html": [
       " View project at <a href='https://wandb.ai/dmitrii_fomin_uga/Internship_project' target=\"_blank\">https://wandb.ai/dmitrii_fomin_uga/Internship_project</a>"
      ],
      "text/plain": [
       "<IPython.core.display.HTML object>"
      ]
     },
     "metadata": {},
     "output_type": "display_data"
    },
    {
     "data": {
      "text/html": [
       " View run at <a href='https://wandb.ai/dmitrii_fomin_uga/Internship_project/runs/rwqspm1j' target=\"_blank\">https://wandb.ai/dmitrii_fomin_uga/Internship_project/runs/rwqspm1j</a>"
      ],
      "text/plain": [
       "<IPython.core.display.HTML object>"
      ]
     },
     "metadata": {},
     "output_type": "display_data"
    },
    {
     "data": {
      "text/html": [
       "Waiting for W&B process to finish... <strong style=\"color:green\">(success).</strong>"
      ],
      "text/plain": [
       "<IPython.core.display.HTML object>"
      ]
     },
     "metadata": {},
     "output_type": "display_data"
    },
    {
     "data": {
      "text/html": [
       "<style>\n",
       "    table.wandb td:nth-child(1) { padding: 0 10px; text-align: left ; width: auto;} td:nth-child(2) {text-align: left ; width: 100%}\n",
       "    .wandb-row { display: flex; flex-direction: row; flex-wrap: wrap; justify-content: flex-start; width: 100% }\n",
       "    .wandb-col { display: flex; flex-direction: column; flex-basis: 100%; flex: 1; padding: 10px; }\n",
       "    </style>\n",
       "<div class=\"wandb-row\"><div class=\"wandb-col\"><h3>Run history:</h3><br/><table class=\"wandb\"><tr><td>epoch</td><td>▁▁▁▂▂▂▂▂▂▃▃▃▃▃▄▄▄▄▄▄▅▅▅▅▅▅▆▆▆▆▆▇▇▇▇▇▇███</td></tr><tr><td>lr</td><td>█▇▇▆▆▅▅▄▄▄▃▃▃▃▃▂▂▂▂▂▂▂▂▂▁▁▁▁▁▁▁▁▁▁▁▁▁▁▁▁</td></tr><tr><td>test_accuracy</td><td>▁▃▆▇████████████████████████████████████</td></tr><tr><td>test_auc_score</td><td>▅▇█▇▄▅██▂▄▅▇▅▇█▆▅▅▁▄▅▆▆▅▅▅▆▂▄▄▅▆▆▅▅▅▅▆▅▅</td></tr><tr><td>test_f1_score</td><td>▁▃▅▆▆▇▇▇▇▇██▇███▇███████████████████████</td></tr><tr><td>test_fpr</td><td>█▆▃▂▁▁▁▁▁▁▁▁▁▁▁▁▁▁▁▁▁▁▁▁▁▁▁▁▁▁▁▁▁▁▁▁▁▁▁▁</td></tr><tr><td>test_loss</td><td>█▆▄▂▂▁▁▁▁▁▁▁▁▁▁▁▁▁▁▁▁▁▁▁▁▁▁▁▁▁▁▁▁▁▁▁▁▁▁▁</td></tr><tr><td>test_tpr</td><td>█▇▇▆▃▃▃▂▁▁▂▄▂▂▄▃▂▄▂▃▃▅▃▂▃▄▄▂▄▄▃▄▄▄▄▄▄▄▄▄</td></tr><tr><td>train_accuracy</td><td>▁▆▇▇▇▇▇▇▇▇▇▇████████████████████████████</td></tr><tr><td>train_auc_score</td><td>▁▇▇▇▇▇▇▇▇█▇███████▇▇▇███▇███▇▇████▇▇█▇██</td></tr><tr><td>train_f1_score</td><td>▁▄▄▅▅▅▅▆▆▆▆▆▇▇▇▇▇▇▇▇█▇▇█▇███████████████</td></tr><tr><td>train_fpr</td><td>█▂▁▂▁▁▁▁▂▁▁▁▁▁▁▁▁▁▁▁▁▁▁▁▁▁▁▁▁▁▁▁▁▁▁▁▁▁▁▁</td></tr><tr><td>train_loss</td><td>█▆▄▃▂▂▂▂▁▁▁▁▁▁▁▁▁▁▁▁▁▁▁▁▁▁▁▁▁▁▁▁▁▁▁▁▁▁▁▁</td></tr><tr><td>train_tpr</td><td>▂▁▁▃▃▃▄▄▅▆▅▅▇▆▆▆▇▇▇▇▇▇▇█▇███▇███████▇███</td></tr></table><br/></div><div class=\"wandb-col\"><h3>Run summary:</h3><br/><table class=\"wandb\"><tr><td>epoch</td><td>39</td></tr><tr><td>lr</td><td>0.00015</td></tr><tr><td>test_accuracy</td><td>0.98175</td></tr><tr><td>test_auc_score</td><td>0.90659</td></tr><tr><td>test_f1_score</td><td>0.85714</td></tr><tr><td>test_fpr</td><td>0.00925</td></tr><tr><td>test_loss</td><td>0.33438</td></tr><tr><td>test_tpr</td><td>0.71929</td></tr><tr><td>train_accuracy</td><td>0.98983</td></tr><tr><td>train_auc_score</td><td>0.93638</td></tr><tr><td>train_f1_score</td><td>0.93904</td></tr><tr><td>train_fpr</td><td>0.00102</td></tr><tr><td>train_loss</td><td>0.3278</td></tr><tr><td>train_tpr</td><td>0.81003</td></tr></table><br/></div></div>"
      ],
      "text/plain": [
       "<IPython.core.display.HTML object>"
      ]
     },
     "metadata": {},
     "output_type": "display_data"
    },
    {
     "data": {
      "text/html": [
       " View run <strong style=\"color:#cdcd00\">EM_CrossEntropyLoss()_SMOTE-0.05</strong> at: <a href='https://wandb.ai/dmitrii_fomin_uga/Internship_project/runs/rwqspm1j' target=\"_blank\">https://wandb.ai/dmitrii_fomin_uga/Internship_project/runs/rwqspm1j</a><br/>Synced 5 W&B file(s), 0 media file(s), 0 artifact file(s) and 0 other file(s)"
      ],
      "text/plain": [
       "<IPython.core.display.HTML object>"
      ]
     },
     "metadata": {},
     "output_type": "display_data"
    },
    {
     "data": {
      "text/html": [
       "Find logs at: <code>../logs/wandb\\run-20230702_140924-rwqspm1j\\logs</code>"
      ],
      "text/plain": [
       "<IPython.core.display.HTML object>"
      ]
     },
     "metadata": {},
     "output_type": "display_data"
    },
    {
     "data": {
      "text/html": [
       "Tracking run with wandb version 0.15.4"
      ],
      "text/plain": [
       "<IPython.core.display.HTML object>"
      ]
     },
     "metadata": {},
     "output_type": "display_data"
    },
    {
     "data": {
      "text/html": [
       "Run data is saved locally in <code>../logs/wandb\\run-20230702_140939-qr0adkzx</code>"
      ],
      "text/plain": [
       "<IPython.core.display.HTML object>"
      ]
     },
     "metadata": {},
     "output_type": "display_data"
    },
    {
     "data": {
      "text/html": [
       "Syncing run <strong><a href='https://wandb.ai/dmitrii_fomin_uga/Internship_project/runs/qr0adkzx' target=\"_blank\">EM_CrossEntropyLoss()_SMOTE-0.1</a></strong> to <a href='https://wandb.ai/dmitrii_fomin_uga/Internship_project' target=\"_blank\">Weights & Biases</a> (<a href='https://wandb.me/run' target=\"_blank\">docs</a>)<br/>"
      ],
      "text/plain": [
       "<IPython.core.display.HTML object>"
      ]
     },
     "metadata": {},
     "output_type": "display_data"
    },
    {
     "data": {
      "text/html": [
       " View project at <a href='https://wandb.ai/dmitrii_fomin_uga/Internship_project' target=\"_blank\">https://wandb.ai/dmitrii_fomin_uga/Internship_project</a>"
      ],
      "text/plain": [
       "<IPython.core.display.HTML object>"
      ]
     },
     "metadata": {},
     "output_type": "display_data"
    },
    {
     "data": {
      "text/html": [
       " View run at <a href='https://wandb.ai/dmitrii_fomin_uga/Internship_project/runs/qr0adkzx' target=\"_blank\">https://wandb.ai/dmitrii_fomin_uga/Internship_project/runs/qr0adkzx</a>"
      ],
      "text/plain": [
       "<IPython.core.display.HTML object>"
      ]
     },
     "metadata": {},
     "output_type": "display_data"
    },
    {
     "data": {
      "text/html": [
       "Waiting for W&B process to finish... <strong style=\"color:green\">(success).</strong>"
      ],
      "text/plain": [
       "<IPython.core.display.HTML object>"
      ]
     },
     "metadata": {},
     "output_type": "display_data"
    },
    {
     "data": {
      "text/html": [
       "<style>\n",
       "    table.wandb td:nth-child(1) { padding: 0 10px; text-align: left ; width: auto;} td:nth-child(2) {text-align: left ; width: 100%}\n",
       "    .wandb-row { display: flex; flex-direction: row; flex-wrap: wrap; justify-content: flex-start; width: 100% }\n",
       "    .wandb-col { display: flex; flex-direction: column; flex-basis: 100%; flex: 1; padding: 10px; }\n",
       "    </style>\n",
       "<div class=\"wandb-row\"><div class=\"wandb-col\"><h3>Run history:</h3><br/><table class=\"wandb\"><tr><td>epoch</td><td>▁▁▁▂▂▂▂▂▂▃▃▃▃▃▄▄▄▄▄▄▅▅▅▅▅▅▆▆▆▆▆▇▇▇▇▇▇███</td></tr><tr><td>lr</td><td>█▇▇▆▆▅▅▄▄▄▃▃▃▃▃▂▂▂▂▂▂▂▂▂▁▁▁▁▁▁▁▁▁▁▁▁▁▁▁▁</td></tr><tr><td>test_accuracy</td><td>▁▃▆▇████████████████████████████████████</td></tr><tr><td>test_auc_score</td><td>▁▄▅▆▇▇▆█▇▆███▆▆██▇▇█▇█▇▇█▆▇▇▆▆█▇▇▇▇▆▇███</td></tr><tr><td>test_f1_score</td><td>▁▃▅▆▇█▇▇▇▇██████████████████████████████</td></tr><tr><td>test_fpr</td><td>█▆▃▂▁▁▁▁▁▁▁▁▁▁▁▁▁▁▁▁▁▁▁▁▁▁▁▁▁▁▁▁▁▁▁▁▁▁▁▁</td></tr><tr><td>test_loss</td><td>█▆▃▂▂▁▁▁▁▁▁▁▁▁▁▁▁▁▁▁▁▁▁▁▁▁▁▁▁▁▁▁▁▁▁▁▁▁▁▁</td></tr><tr><td>test_tpr</td><td>██▆▅▄▁▃▄▄▄▄▃▃▄▅▁▅▃▄▃▄▄▅▄▅▄▅▅▄▄▄▄▄▄▄▄▄▅▅▄</td></tr><tr><td>train_accuracy</td><td>▁▇▇▇▇███████████████████████████████████</td></tr><tr><td>train_auc_score</td><td>▁▅▆▆▇▇▇▇▇▇████▇███████▇█████████████████</td></tr><tr><td>train_f1_score</td><td>▁▅▆▆▆▇▇▇▇▇▇▇▇▇▇▇▇▇▇█████████████████████</td></tr><tr><td>train_fpr</td><td>█▂▁▁▁▁▁▁▁▁▁▁▁▁▁▁▁▁▁▁▁▁▁▁▁▁▁▁▁▁▁▁▁▁▁▁▁▁▁▁</td></tr><tr><td>train_loss</td><td>█▅▄▃▂▂▂▂▂▁▁▁▁▁▁▁▁▁▁▁▁▁▁▁▁▁▁▁▁▁▁▁▁▁▁▁▁▁▁▁</td></tr><tr><td>train_tpr</td><td>▆▃▁▁▂▃▂▂▄▃▄▅▅▅▄▅▅▆▆▆▆▆▆▆▇▆▆▇▇▆▇▇▇▇▆▇██▇▇</td></tr></table><br/></div><div class=\"wandb-col\"><h3>Run summary:</h3><br/><table class=\"wandb\"><tr><td>epoch</td><td>39</td></tr><tr><td>lr</td><td>0.00015</td></tr><tr><td>test_accuracy</td><td>0.97232</td></tr><tr><td>test_auc_score</td><td>0.95988</td></tr><tr><td>test_f1_score</td><td>0.82445</td></tr><tr><td>test_fpr</td><td>0.02216</td></tr><tr><td>test_loss</td><td>0.34432</td></tr><tr><td>test_tpr</td><td>0.80866</td></tr><tr><td>train_accuracy</td><td>0.98538</td></tr><tr><td>train_auc_score</td><td>0.97607</td></tr><tr><td>train_f1_score</td><td>0.95154</td></tr><tr><td>train_fpr</td><td>0.00512</td></tr><tr><td>train_loss</td><td>0.33247</td></tr><tr><td>train_tpr</td><td>0.885</td></tr></table><br/></div></div>"
      ],
      "text/plain": [
       "<IPython.core.display.HTML object>"
      ]
     },
     "metadata": {},
     "output_type": "display_data"
    },
    {
     "data": {
      "text/html": [
       " View run <strong style=\"color:#cdcd00\">EM_CrossEntropyLoss()_SMOTE-0.1</strong> at: <a href='https://wandb.ai/dmitrii_fomin_uga/Internship_project/runs/qr0adkzx' target=\"_blank\">https://wandb.ai/dmitrii_fomin_uga/Internship_project/runs/qr0adkzx</a><br/>Synced 5 W&B file(s), 0 media file(s), 0 artifact file(s) and 0 other file(s)"
      ],
      "text/plain": [
       "<IPython.core.display.HTML object>"
      ]
     },
     "metadata": {},
     "output_type": "display_data"
    },
    {
     "data": {
      "text/html": [
       "Find logs at: <code>../logs/wandb\\run-20230702_140939-qr0adkzx\\logs</code>"
      ],
      "text/plain": [
       "<IPython.core.display.HTML object>"
      ]
     },
     "metadata": {},
     "output_type": "display_data"
    },
    {
     "data": {
      "text/html": [
       "Tracking run with wandb version 0.15.4"
      ],
      "text/plain": [
       "<IPython.core.display.HTML object>"
      ]
     },
     "metadata": {},
     "output_type": "display_data"
    },
    {
     "data": {
      "text/html": [
       "Run data is saved locally in <code>../logs/wandb\\run-20230702_140956-tg6fhb7t</code>"
      ],
      "text/plain": [
       "<IPython.core.display.HTML object>"
      ]
     },
     "metadata": {},
     "output_type": "display_data"
    },
    {
     "data": {
      "text/html": [
       "Syncing run <strong><a href='https://wandb.ai/dmitrii_fomin_uga/Internship_project/runs/tg6fhb7t' target=\"_blank\">EM_CrossEntropyLoss()_SMOTE-0.2</a></strong> to <a href='https://wandb.ai/dmitrii_fomin_uga/Internship_project' target=\"_blank\">Weights & Biases</a> (<a href='https://wandb.me/run' target=\"_blank\">docs</a>)<br/>"
      ],
      "text/plain": [
       "<IPython.core.display.HTML object>"
      ]
     },
     "metadata": {},
     "output_type": "display_data"
    },
    {
     "data": {
      "text/html": [
       " View project at <a href='https://wandb.ai/dmitrii_fomin_uga/Internship_project' target=\"_blank\">https://wandb.ai/dmitrii_fomin_uga/Internship_project</a>"
      ],
      "text/plain": [
       "<IPython.core.display.HTML object>"
      ]
     },
     "metadata": {},
     "output_type": "display_data"
    },
    {
     "data": {
      "text/html": [
       " View run at <a href='https://wandb.ai/dmitrii_fomin_uga/Internship_project/runs/tg6fhb7t' target=\"_blank\">https://wandb.ai/dmitrii_fomin_uga/Internship_project/runs/tg6fhb7t</a>"
      ],
      "text/plain": [
       "<IPython.core.display.HTML object>"
      ]
     },
     "metadata": {},
     "output_type": "display_data"
    },
    {
     "data": {
      "text/html": [
       "Waiting for W&B process to finish... <strong style=\"color:green\">(success).</strong>"
      ],
      "text/plain": [
       "<IPython.core.display.HTML object>"
      ]
     },
     "metadata": {},
     "output_type": "display_data"
    },
    {
     "data": {
      "text/html": [
       "<style>\n",
       "    table.wandb td:nth-child(1) { padding: 0 10px; text-align: left ; width: auto;} td:nth-child(2) {text-align: left ; width: 100%}\n",
       "    .wandb-row { display: flex; flex-direction: row; flex-wrap: wrap; justify-content: flex-start; width: 100% }\n",
       "    .wandb-col { display: flex; flex-direction: column; flex-basis: 100%; flex: 1; padding: 10px; }\n",
       "    </style>\n",
       "<div class=\"wandb-row\"><div class=\"wandb-col\"><h3>Run history:</h3><br/><table class=\"wandb\"><tr><td>epoch</td><td>▁▁▁▂▂▂▂▂▂▃▃▃▃▃▄▄▄▄▄▄▅▅▅▅▅▅▆▆▆▆▆▇▇▇▇▇▇███</td></tr><tr><td>lr</td><td>█▇▇▆▆▅▅▄▄▄▃▃▃▃▃▂▂▂▂▂▂▂▂▂▁▁▁▁▁▁▁▁▁▁▁▁▁▁▁▁</td></tr><tr><td>test_accuracy</td><td>▁▄▇▇████████████████████████████████████</td></tr><tr><td>test_auc_score</td><td>▂▃▅▅▅▅▁▇▇█▇▅▅▄▃▇▃▄▄▅▄▅▅▅▅▆▇▅▅▆▆▅▆▆▆▇▇▇▆▆</td></tr><tr><td>test_f1_score</td><td>▁▄▆▇▇███▇▇▇█▇█▇████▇████████████████████</td></tr><tr><td>test_fpr</td><td>█▅▂▂▁▁▁▁▁▁▁▁▁▁▁▁▁▁▁▁▁▁▁▁▁▁▁▁▁▁▁▁▁▁▁▁▁▁▁▁</td></tr><tr><td>test_loss</td><td>█▆▃▂▂▁▁▁▁▁▁▁▁▁▁▁▁▁▁▁▁▁▁▁▁▁▁▁▁▁▁▁▁▁▁▁▁▁▁▁</td></tr><tr><td>test_tpr</td><td>█▇▄▄▃▁▂▂▃▂▂▁▂▂▃▂▂▂▂▃▃▂▂▃▃▂▂▂▃▃▃▃▃▃▃▃▃▃▃▃</td></tr><tr><td>train_accuracy</td><td>▁▆▇▇▇▇▇▇▇▇▇▇▇▇▇▇████████████████████████</td></tr><tr><td>train_auc_score</td><td>▁▆▆▇▇▇▇▇████████████████████████████████</td></tr><tr><td>train_f1_score</td><td>▁▆▆▆▆▆▇▆▆▇▇▇▇▇▇▇▇▇▇▇████████████████████</td></tr><tr><td>train_fpr</td><td>█▂▂▂▂▂▁▁▂▂▁▁▁▁▁▁▁▁▁▁▁▁▁▁▁▁▁▁▁▁▁▁▁▁▁▁▁▁▁▁</td></tr><tr><td>train_loss</td><td>█▅▄▃▂▂▂▂▂▂▂▁▁▁▁▁▁▁▁▁▁▁▁▁▁▁▁▁▁▁▁▁▁▁▁▁▁▁▁▁</td></tr><tr><td>train_tpr</td><td>▂▂▁▃▂▂▃▃▂▃▄▄▆▄▅▄▆▆▆▇▇▇▆▇▇██▇▇▇██▇▇▇▇████</td></tr></table><br/></div><div class=\"wandb-col\"><h3>Run summary:</h3><br/><table class=\"wandb\"><tr><td>epoch</td><td>39</td></tr><tr><td>lr</td><td>0.00015</td></tr><tr><td>test_accuracy</td><td>0.93803</td></tr><tr><td>test_auc_score</td><td>0.94279</td></tr><tr><td>test_f1_score</td><td>0.72248</td></tr><tr><td>test_fpr</td><td>0.05868</td></tr><tr><td>test_loss</td><td>0.37501</td></tr><tr><td>test_tpr</td><td>0.84438</td></tr><tr><td>train_accuracy</td><td>0.98303</td></tr><tr><td>train_auc_score</td><td>0.97313</td></tr><tr><td>train_f1_score</td><td>0.96874</td></tr><tr><td>train_fpr</td><td>0.0054</td></tr><tr><td>train_loss</td><td>0.33413</td></tr><tr><td>train_tpr</td><td>0.92622</td></tr></table><br/></div></div>"
      ],
      "text/plain": [
       "<IPython.core.display.HTML object>"
      ]
     },
     "metadata": {},
     "output_type": "display_data"
    },
    {
     "data": {
      "text/html": [
       " View run <strong style=\"color:#cdcd00\">EM_CrossEntropyLoss()_SMOTE-0.2</strong> at: <a href='https://wandb.ai/dmitrii_fomin_uga/Internship_project/runs/tg6fhb7t' target=\"_blank\">https://wandb.ai/dmitrii_fomin_uga/Internship_project/runs/tg6fhb7t</a><br/>Synced 5 W&B file(s), 0 media file(s), 0 artifact file(s) and 0 other file(s)"
      ],
      "text/plain": [
       "<IPython.core.display.HTML object>"
      ]
     },
     "metadata": {},
     "output_type": "display_data"
    },
    {
     "data": {
      "text/html": [
       "Find logs at: <code>../logs/wandb\\run-20230702_140956-tg6fhb7t\\logs</code>"
      ],
      "text/plain": [
       "<IPython.core.display.HTML object>"
      ]
     },
     "metadata": {},
     "output_type": "display_data"
    },
    {
     "data": {
      "text/html": [
       "Tracking run with wandb version 0.15.4"
      ],
      "text/plain": [
       "<IPython.core.display.HTML object>"
      ]
     },
     "metadata": {},
     "output_type": "display_data"
    },
    {
     "data": {
      "text/html": [
       "Run data is saved locally in <code>../logs/wandb\\run-20230702_141014-1vxhggi2</code>"
      ],
      "text/plain": [
       "<IPython.core.display.HTML object>"
      ]
     },
     "metadata": {},
     "output_type": "display_data"
    },
    {
     "data": {
      "text/html": [
       "Syncing run <strong><a href='https://wandb.ai/dmitrii_fomin_uga/Internship_project/runs/1vxhggi2' target=\"_blank\">EM_CrossEntropyLoss()_SMOTE-0.3</a></strong> to <a href='https://wandb.ai/dmitrii_fomin_uga/Internship_project' target=\"_blank\">Weights & Biases</a> (<a href='https://wandb.me/run' target=\"_blank\">docs</a>)<br/>"
      ],
      "text/plain": [
       "<IPython.core.display.HTML object>"
      ]
     },
     "metadata": {},
     "output_type": "display_data"
    },
    {
     "data": {
      "text/html": [
       " View project at <a href='https://wandb.ai/dmitrii_fomin_uga/Internship_project' target=\"_blank\">https://wandb.ai/dmitrii_fomin_uga/Internship_project</a>"
      ],
      "text/plain": [
       "<IPython.core.display.HTML object>"
      ]
     },
     "metadata": {},
     "output_type": "display_data"
    },
    {
     "data": {
      "text/html": [
       " View run at <a href='https://wandb.ai/dmitrii_fomin_uga/Internship_project/runs/1vxhggi2' target=\"_blank\">https://wandb.ai/dmitrii_fomin_uga/Internship_project/runs/1vxhggi2</a>"
      ],
      "text/plain": [
       "<IPython.core.display.HTML object>"
      ]
     },
     "metadata": {},
     "output_type": "display_data"
    },
    {
     "data": {
      "text/html": [
       "Waiting for W&B process to finish... <strong style=\"color:green\">(success).</strong>"
      ],
      "text/plain": [
       "<IPython.core.display.HTML object>"
      ]
     },
     "metadata": {},
     "output_type": "display_data"
    },
    {
     "data": {
      "text/html": [
       "<style>\n",
       "    table.wandb td:nth-child(1) { padding: 0 10px; text-align: left ; width: auto;} td:nth-child(2) {text-align: left ; width: 100%}\n",
       "    .wandb-row { display: flex; flex-direction: row; flex-wrap: wrap; justify-content: flex-start; width: 100% }\n",
       "    .wandb-col { display: flex; flex-direction: column; flex-basis: 100%; flex: 1; padding: 10px; }\n",
       "    </style>\n",
       "<div class=\"wandb-row\"><div class=\"wandb-col\"><h3>Run history:</h3><br/><table class=\"wandb\"><tr><td>epoch</td><td>▁▁▁▂▂▂▂▂▂▃▃▃▃▃▄▄▄▄▄▄▅▅▅▅▅▅▆▆▆▆▆▇▇▇▇▇▇███</td></tr><tr><td>lr</td><td>█▇▇▆▆▅▅▄▄▄▃▃▃▃▃▂▂▂▂▂▂▂▂▂▁▁▁▁▁▁▁▁▁▁▁▁▁▁▁▁</td></tr><tr><td>test_accuracy</td><td>▁▅▇▇▇███████████████████████████████████</td></tr><tr><td>test_auc_score</td><td>▂▄▃▇▄▁█▆█▇▇▇▆▆▄▄▅▅▅▄▆▅▅▅▆▄▅▅▅▃▃▄▄▄▄▃▃▄▃▃</td></tr><tr><td>test_f1_score</td><td>▁▅▇▇▇█▇████████▇████████████████████████</td></tr><tr><td>test_fpr</td><td>█▄▂▂▂▁▁▁▁▁▁▁▁▁▁▁▁▁▁▁▁▁▁▁▁▁▁▁▁▁▁▁▁▁▁▁▁▁▁▁</td></tr><tr><td>test_loss</td><td>█▅▂▂▂▁▂▁▁▁▁▁▁▁▁▁▁▁▁▁▁▁▁▁▁▁▁▁▁▁▁▁▁▁▁▁▁▁▁▁</td></tr><tr><td>test_tpr</td><td>█▇▃▄▄▁▅▄▆▄▃▄▄▄▄▄▅▃▄▆▄▄▃▃▄▄▄▄▄▄▄▄▄▄▄▄▄▄▄▄</td></tr><tr><td>train_accuracy</td><td>▁▆▆▆▇▇▇▇▇▇▇▇▇▇▇▇████████████████████████</td></tr><tr><td>train_auc_score</td><td>▁▇▇▇▇▇▇█████████████████████████████████</td></tr><tr><td>train_f1_score</td><td>▁▅▆▆▆▇▇▇▇▇▇▇▇▇▇▇██▇▇████████████████████</td></tr><tr><td>train_fpr</td><td>█▂▂▃▂▂▂▂▂▂▂▁▂▁▂▂▂▁▁▁▁▁▁▁▁▁▁▁▁▁▁▁▁▁▁▁▁▁▁▁</td></tr><tr><td>train_loss</td><td>█▅▃▃▂▂▂▂▂▂▂▁▁▁▁▁▁▁▁▁▁▁▁▁▁▁▁▁▁▁▁▁▁▁▁▁▁▁▁▁</td></tr><tr><td>train_tpr</td><td>▁▄▆▆▆▇▆▇▇▇▇▇▇▇▇▇█▇▇▇█▇██▇███████████████</td></tr></table><br/></div><div class=\"wandb-col\"><h3>Run summary:</h3><br/><table class=\"wandb\"><tr><td>epoch</td><td>39</td></tr><tr><td>lr</td><td>0.00015</td></tr><tr><td>test_accuracy</td><td>0.90534</td></tr><tr><td>test_auc_score</td><td>0.91929</td></tr><tr><td>test_f1_score</td><td>0.66858</td></tr><tr><td>test_fpr</td><td>0.09389</td></tr><tr><td>test_loss</td><td>0.40709</td></tr><tr><td>test_tpr</td><td>0.88542</td></tr><tr><td>train_accuracy</td><td>0.98066</td></tr><tr><td>train_auc_score</td><td>0.98864</td></tr><tr><td>train_f1_score</td><td>0.9728</td></tr><tr><td>train_fpr</td><td>0.01203</td></tr><tr><td>train_loss</td><td>0.33524</td></tr><tr><td>train_tpr</td><td>0.95667</td></tr></table><br/></div></div>"
      ],
      "text/plain": [
       "<IPython.core.display.HTML object>"
      ]
     },
     "metadata": {},
     "output_type": "display_data"
    },
    {
     "data": {
      "text/html": [
       " View run <strong style=\"color:#cdcd00\">EM_CrossEntropyLoss()_SMOTE-0.3</strong> at: <a href='https://wandb.ai/dmitrii_fomin_uga/Internship_project/runs/1vxhggi2' target=\"_blank\">https://wandb.ai/dmitrii_fomin_uga/Internship_project/runs/1vxhggi2</a><br/>Synced 5 W&B file(s), 0 media file(s), 0 artifact file(s) and 0 other file(s)"
      ],
      "text/plain": [
       "<IPython.core.display.HTML object>"
      ]
     },
     "metadata": {},
     "output_type": "display_data"
    },
    {
     "data": {
      "text/html": [
       "Find logs at: <code>../logs/wandb\\run-20230702_141014-1vxhggi2\\logs</code>"
      ],
      "text/plain": [
       "<IPython.core.display.HTML object>"
      ]
     },
     "metadata": {},
     "output_type": "display_data"
    },
    {
     "data": {
      "text/html": [
       "Tracking run with wandb version 0.15.4"
      ],
      "text/plain": [
       "<IPython.core.display.HTML object>"
      ]
     },
     "metadata": {},
     "output_type": "display_data"
    },
    {
     "data": {
      "text/html": [
       "Run data is saved locally in <code>../logs/wandb\\run-20230702_141031-wenii79m</code>"
      ],
      "text/plain": [
       "<IPython.core.display.HTML object>"
      ]
     },
     "metadata": {},
     "output_type": "display_data"
    },
    {
     "data": {
      "text/html": [
       "Syncing run <strong><a href='https://wandb.ai/dmitrii_fomin_uga/Internship_project/runs/wenii79m' target=\"_blank\">EM_CrossEntropyLoss()_SMOTE-0.4</a></strong> to <a href='https://wandb.ai/dmitrii_fomin_uga/Internship_project' target=\"_blank\">Weights & Biases</a> (<a href='https://wandb.me/run' target=\"_blank\">docs</a>)<br/>"
      ],
      "text/plain": [
       "<IPython.core.display.HTML object>"
      ]
     },
     "metadata": {},
     "output_type": "display_data"
    },
    {
     "data": {
      "text/html": [
       " View project at <a href='https://wandb.ai/dmitrii_fomin_uga/Internship_project' target=\"_blank\">https://wandb.ai/dmitrii_fomin_uga/Internship_project</a>"
      ],
      "text/plain": [
       "<IPython.core.display.HTML object>"
      ]
     },
     "metadata": {},
     "output_type": "display_data"
    },
    {
     "data": {
      "text/html": [
       " View run at <a href='https://wandb.ai/dmitrii_fomin_uga/Internship_project/runs/wenii79m' target=\"_blank\">https://wandb.ai/dmitrii_fomin_uga/Internship_project/runs/wenii79m</a>"
      ],
      "text/plain": [
       "<IPython.core.display.HTML object>"
      ]
     },
     "metadata": {},
     "output_type": "display_data"
    },
    {
     "data": {
      "text/html": [
       "Waiting for W&B process to finish... <strong style=\"color:green\">(success).</strong>"
      ],
      "text/plain": [
       "<IPython.core.display.HTML object>"
      ]
     },
     "metadata": {},
     "output_type": "display_data"
    },
    {
     "data": {
      "text/html": [
       "<style>\n",
       "    table.wandb td:nth-child(1) { padding: 0 10px; text-align: left ; width: auto;} td:nth-child(2) {text-align: left ; width: 100%}\n",
       "    .wandb-row { display: flex; flex-direction: row; flex-wrap: wrap; justify-content: flex-start; width: 100% }\n",
       "    .wandb-col { display: flex; flex-direction: column; flex-basis: 100%; flex: 1; padding: 10px; }\n",
       "    </style>\n",
       "<div class=\"wandb-row\"><div class=\"wandb-col\"><h3>Run history:</h3><br/><table class=\"wandb\"><tr><td>epoch</td><td>▁▁▁▂▂▂▂▂▂▃▃▃▃▃▄▄▄▄▄▄▅▅▅▅▅▅▆▆▆▆▆▇▇▇▇▇▇███</td></tr><tr><td>lr</td><td>█▇▇▆▆▅▅▄▄▄▃▃▃▃▃▂▂▂▂▂▂▂▂▂▁▁▁▁▁▁▁▁▁▁▁▁▁▁▁▁</td></tr><tr><td>test_accuracy</td><td>▁▇▇▇▇████▇██▇███▇███████████████████████</td></tr><tr><td>test_auc_score</td><td>▁▂▆▆▇█▇█▇█▇█▄▇█▇▇▇███▇▇▇▇▇▇▆▆▆▇▆▆▆▆▆▇▇▇▆</td></tr><tr><td>test_f1_score</td><td>▁▆▇▇▆███▇▇▇█▇▇██▇▇███▇████████████▇▇████</td></tr><tr><td>test_fpr</td><td>█▂▂▂▂▁▁▁▁▂▁▁▂▁▁▁▂▁▁▁▁▁▁▁▁▁▁▁▁▁▁▁▁▁▁▁▁▁▁▁</td></tr><tr><td>test_loss</td><td>█▃▂▂▂▁▁▁▂▂▂▁▂▂▁▁▂▁▁▁▁▁▁▁▁▁▁▁▁▁▁▁▁▁▁▁▁▁▁▁</td></tr><tr><td>test_tpr</td><td>▆▁▄▄▅▅▄▆▇▇▅▆▆▇▇█▇▇▆▆▇▇█▆▇▇▆▇▇▆▆▆▆▇▇▇▇▇▇▇</td></tr><tr><td>train_accuracy</td><td>▁▅▆▆▆▆▇▇▇▇▇▇▇▇▇▇▇▇▇▇████████████████████</td></tr><tr><td>train_auc_score</td><td>▁▇▇█▇▇██████████████████████████████████</td></tr><tr><td>train_f1_score</td><td>▁▆▇▇▇▇▇▇▇▇▇▇▇▇█████▇████████████████████</td></tr><tr><td>train_fpr</td><td>▄▅█▇▆▇▆▆▅▆▅▅▃▆▄▂▄▄▄▃▂▃▅▂▂▃▂▁▃▂▃▁▂▂▃▁▂▂▁▂</td></tr><tr><td>train_loss</td><td>█▅▃▂▂▂▂▂▂▂▂▂▂▂▁▁▁▁▁▁▁▁▁▁▁▁▁▁▁▁▁▁▁▁▁▁▁▁▁▁</td></tr><tr><td>train_tpr</td><td>▁▆▇▇▇▇▇▇▇▇▇▇▇███████████████████████████</td></tr></table><br/></div><div class=\"wandb-col\"><h3>Run summary:</h3><br/><table class=\"wandb\"><tr><td>epoch</td><td>39</td></tr><tr><td>lr</td><td>0.00015</td></tr><tr><td>test_accuracy</td><td>0.86999</td></tr><tr><td>test_auc_score</td><td>0.92201</td></tr><tr><td>test_f1_score</td><td>0.62763</td></tr><tr><td>test_fpr</td><td>0.13223</td></tr><tr><td>test_loss</td><td>0.43829</td></tr><tr><td>test_tpr</td><td>0.93328</td></tr><tr><td>train_accuracy</td><td>0.97416</td></tr><tr><td>train_auc_score</td><td>0.98237</td></tr><tr><td>train_f1_score</td><td>0.96808</td></tr><tr><td>train_fpr</td><td>0.0182</td></tr><tr><td>train_loss</td><td>0.33989</td></tr><tr><td>train_tpr</td><td>0.9556</td></tr></table><br/></div></div>"
      ],
      "text/plain": [
       "<IPython.core.display.HTML object>"
      ]
     },
     "metadata": {},
     "output_type": "display_data"
    },
    {
     "data": {
      "text/html": [
       " View run <strong style=\"color:#cdcd00\">EM_CrossEntropyLoss()_SMOTE-0.4</strong> at: <a href='https://wandb.ai/dmitrii_fomin_uga/Internship_project/runs/wenii79m' target=\"_blank\">https://wandb.ai/dmitrii_fomin_uga/Internship_project/runs/wenii79m</a><br/>Synced 5 W&B file(s), 0 media file(s), 0 artifact file(s) and 0 other file(s)"
      ],
      "text/plain": [
       "<IPython.core.display.HTML object>"
      ]
     },
     "metadata": {},
     "output_type": "display_data"
    },
    {
     "data": {
      "text/html": [
       "Find logs at: <code>../logs/wandb\\run-20230702_141031-wenii79m\\logs</code>"
      ],
      "text/plain": [
       "<IPython.core.display.HTML object>"
      ]
     },
     "metadata": {},
     "output_type": "display_data"
    },
    {
     "data": {
      "text/html": [
       "Tracking run with wandb version 0.15.4"
      ],
      "text/plain": [
       "<IPython.core.display.HTML object>"
      ]
     },
     "metadata": {},
     "output_type": "display_data"
    },
    {
     "data": {
      "text/html": [
       "Run data is saved locally in <code>../logs/wandb\\run-20230702_141048-wleyrpbl</code>"
      ],
      "text/plain": [
       "<IPython.core.display.HTML object>"
      ]
     },
     "metadata": {},
     "output_type": "display_data"
    },
    {
     "data": {
      "text/html": [
       "Syncing run <strong><a href='https://wandb.ai/dmitrii_fomin_uga/Internship_project/runs/wleyrpbl' target=\"_blank\">EM_CrossEntropyLoss()_SMOTE-0.5</a></strong> to <a href='https://wandb.ai/dmitrii_fomin_uga/Internship_project' target=\"_blank\">Weights & Biases</a> (<a href='https://wandb.me/run' target=\"_blank\">docs</a>)<br/>"
      ],
      "text/plain": [
       "<IPython.core.display.HTML object>"
      ]
     },
     "metadata": {},
     "output_type": "display_data"
    },
    {
     "data": {
      "text/html": [
       " View project at <a href='https://wandb.ai/dmitrii_fomin_uga/Internship_project' target=\"_blank\">https://wandb.ai/dmitrii_fomin_uga/Internship_project</a>"
      ],
      "text/plain": [
       "<IPython.core.display.HTML object>"
      ]
     },
     "metadata": {},
     "output_type": "display_data"
    },
    {
     "data": {
      "text/html": [
       " View run at <a href='https://wandb.ai/dmitrii_fomin_uga/Internship_project/runs/wleyrpbl' target=\"_blank\">https://wandb.ai/dmitrii_fomin_uga/Internship_project/runs/wleyrpbl</a>"
      ],
      "text/plain": [
       "<IPython.core.display.HTML object>"
      ]
     },
     "metadata": {},
     "output_type": "display_data"
    },
    {
     "data": {
      "text/html": [
       "Waiting for W&B process to finish... <strong style=\"color:green\">(success).</strong>"
      ],
      "text/plain": [
       "<IPython.core.display.HTML object>"
      ]
     },
     "metadata": {},
     "output_type": "display_data"
    },
    {
     "data": {
      "text/html": [
       "<style>\n",
       "    table.wandb td:nth-child(1) { padding: 0 10px; text-align: left ; width: auto;} td:nth-child(2) {text-align: left ; width: 100%}\n",
       "    .wandb-row { display: flex; flex-direction: row; flex-wrap: wrap; justify-content: flex-start; width: 100% }\n",
       "    .wandb-col { display: flex; flex-direction: column; flex-basis: 100%; flex: 1; padding: 10px; }\n",
       "    </style>\n",
       "<div class=\"wandb-row\"><div class=\"wandb-col\"><h3>Run history:</h3><br/><table class=\"wandb\"><tr><td>epoch</td><td>▁▁▁▂▂▂▂▂▂▃▃▃▃▃▄▄▄▄▄▄▅▅▅▅▅▅▆▆▆▆▆▇▇▇▇▇▇███</td></tr><tr><td>lr</td><td>█▇▇▆▆▅▅▄▄▄▃▃▃▃▃▂▂▂▂▂▂▂▂▂▁▁▁▁▁▁▁▁▁▁▁▁▁▁▁▁</td></tr><tr><td>test_accuracy</td><td>▁▆▇█▇██████████▇████████████████████████</td></tr><tr><td>test_auc_score</td><td>▁▄▆▅▇▇▆▇█▇█▇▇▆▇▆▇▆▇▇█▇▇▆▇▇▆▆▆▆▆▆▆▆▆▆▆▆▅▆</td></tr><tr><td>test_f1_score</td><td>▁▆▇█▇█▇████████▇▇███████████████████████</td></tr><tr><td>test_fpr</td><td>█▃▂▁▂▁▁▁▁▁▁▁▁▁▁▂▁▁▁▁▁▁▁▁▁▁▁▁▁▁▁▁▁▁▁▁▁▁▁▁</td></tr><tr><td>test_loss</td><td>█▅▃▁▂▁▂▁▁▁▁▁▁▁▁▂▂▁▁▁▁▁▁▁▁▁▁▁▁▁▁▁▁▁▁▁▁▁▁▁</td></tr><tr><td>test_tpr</td><td>█▆▅▁▆▃▂▄▅▂▃▅▃▃▄▄▅▅▅▄▄▃▅▄▄▅▃▅▄▃▅▄▅▅▃▄▅▃▅▃</td></tr><tr><td>train_accuracy</td><td>▁▆▇▇▇▇▇▇▇▇▇▇████████████████████████████</td></tr><tr><td>train_auc_score</td><td>▁▇▇▇▇█▇▇▇███████████████████████████████</td></tr><tr><td>train_f1_score</td><td>▁▆▇▇▇▇▇▇▇▇▇▇████████████████████████████</td></tr><tr><td>train_fpr</td><td>█▂▂▁▂▁▁▁▁▁▁▁▁▁▁▁▁▁▁▁▁▁▁▁▁▁▁▁▁▁▁▁▁▁▁▁▁▁▁▁</td></tr><tr><td>train_loss</td><td>█▅▄▃▂▂▂▂▂▂▂▂▁▁▁▁▁▁▁▁▁▁▁▁▁▁▁▁▁▁▁▁▁▁▁▁▁▁▁▁</td></tr><tr><td>train_tpr</td><td>▃▁▂▃▃▄▃▂▄▄▄▄▆▆▆▆▆▆▆▇▇▇▇▇▇▇▇▇▇▇█▇████████</td></tr></table><br/></div><div class=\"wandb-col\"><h3>Run summary:</h3><br/><table class=\"wandb\"><tr><td>epoch</td><td>39</td></tr><tr><td>lr</td><td>0.00015</td></tr><tr><td>test_accuracy</td><td>0.83085</td></tr><tr><td>test_auc_score</td><td>0.92163</td></tr><tr><td>test_f1_score</td><td>0.58599</td></tr><tr><td>test_fpr</td><td>0.17195</td></tr><tr><td>test_loss</td><td>0.48235</td></tr><tr><td>test_tpr</td><td>0.91505</td></tr><tr><td>train_accuracy</td><td>0.98173</td></tr><tr><td>train_auc_score</td><td>0.99113</td></tr><tr><td>train_f1_score</td><td>0.97945</td></tr><tr><td>train_fpr</td><td>0.01591</td></tr><tr><td>train_loss</td><td>0.33408</td></tr><tr><td>train_tpr</td><td>0.97757</td></tr></table><br/></div></div>"
      ],
      "text/plain": [
       "<IPython.core.display.HTML object>"
      ]
     },
     "metadata": {},
     "output_type": "display_data"
    },
    {
     "data": {
      "text/html": [
       " View run <strong style=\"color:#cdcd00\">EM_CrossEntropyLoss()_SMOTE-0.5</strong> at: <a href='https://wandb.ai/dmitrii_fomin_uga/Internship_project/runs/wleyrpbl' target=\"_blank\">https://wandb.ai/dmitrii_fomin_uga/Internship_project/runs/wleyrpbl</a><br/>Synced 5 W&B file(s), 0 media file(s), 0 artifact file(s) and 0 other file(s)"
      ],
      "text/plain": [
       "<IPython.core.display.HTML object>"
      ]
     },
     "metadata": {},
     "output_type": "display_data"
    },
    {
     "data": {
      "text/html": [
       "Find logs at: <code>../logs/wandb\\run-20230702_141048-wleyrpbl\\logs</code>"
      ],
      "text/plain": [
       "<IPython.core.display.HTML object>"
      ]
     },
     "metadata": {},
     "output_type": "display_data"
    },
    {
     "data": {
      "text/html": [
       "Tracking run with wandb version 0.15.4"
      ],
      "text/plain": [
       "<IPython.core.display.HTML object>"
      ]
     },
     "metadata": {},
     "output_type": "display_data"
    },
    {
     "data": {
      "text/html": [
       "Run data is saved locally in <code>../logs/wandb\\run-20230702_141106-m89h7bgm</code>"
      ],
      "text/plain": [
       "<IPython.core.display.HTML object>"
      ]
     },
     "metadata": {},
     "output_type": "display_data"
    },
    {
     "data": {
      "text/html": [
       "Syncing run <strong><a href='https://wandb.ai/dmitrii_fomin_uga/Internship_project/runs/m89h7bgm' target=\"_blank\">EM_CrossEntropyLoss()_SMOTE-0.6</a></strong> to <a href='https://wandb.ai/dmitrii_fomin_uga/Internship_project' target=\"_blank\">Weights & Biases</a> (<a href='https://wandb.me/run' target=\"_blank\">docs</a>)<br/>"
      ],
      "text/plain": [
       "<IPython.core.display.HTML object>"
      ]
     },
     "metadata": {},
     "output_type": "display_data"
    },
    {
     "data": {
      "text/html": [
       " View project at <a href='https://wandb.ai/dmitrii_fomin_uga/Internship_project' target=\"_blank\">https://wandb.ai/dmitrii_fomin_uga/Internship_project</a>"
      ],
      "text/plain": [
       "<IPython.core.display.HTML object>"
      ]
     },
     "metadata": {},
     "output_type": "display_data"
    },
    {
     "data": {
      "text/html": [
       " View run at <a href='https://wandb.ai/dmitrii_fomin_uga/Internship_project/runs/m89h7bgm' target=\"_blank\">https://wandb.ai/dmitrii_fomin_uga/Internship_project/runs/m89h7bgm</a>"
      ],
      "text/plain": [
       "<IPython.core.display.HTML object>"
      ]
     },
     "metadata": {},
     "output_type": "display_data"
    },
    {
     "data": {
      "text/html": [
       "Waiting for W&B process to finish... <strong style=\"color:green\">(success).</strong>"
      ],
      "text/plain": [
       "<IPython.core.display.HTML object>"
      ]
     },
     "metadata": {},
     "output_type": "display_data"
    },
    {
     "data": {
      "text/html": [
       "<style>\n",
       "    table.wandb td:nth-child(1) { padding: 0 10px; text-align: left ; width: auto;} td:nth-child(2) {text-align: left ; width: 100%}\n",
       "    .wandb-row { display: flex; flex-direction: row; flex-wrap: wrap; justify-content: flex-start; width: 100% }\n",
       "    .wandb-col { display: flex; flex-direction: column; flex-basis: 100%; flex: 1; padding: 10px; }\n",
       "    </style>\n",
       "<div class=\"wandb-row\"><div class=\"wandb-col\"><h3>Run history:</h3><br/><table class=\"wandb\"><tr><td>epoch</td><td>▁▁▁▂▂▂▂▂▂▃▃▃▃▃▄▄▄▄▄▄▅▅▅▅▅▅▆▆▆▆▆▇▇▇▇▇▇███</td></tr><tr><td>lr</td><td>█▇▇▆▆▅▅▄▄▄▃▃▃▃▃▂▂▂▂▂▂▂▂▂▁▁▁▁▁▁▁▁▁▁▁▁▁▁▁▁</td></tr><tr><td>test_accuracy</td><td>█▂▁▂▂▂▂▃▂▃▂▄▃▃▃▂▃▃▁▂▂▂▂▂▃▃▃▂▂▂▂▂▂▂▂▂▂▂▂▂</td></tr><tr><td>test_auc_score</td><td>▁▆▇██████████████████████████████████▇██</td></tr><tr><td>test_f1_score</td><td>▁▄▃▅▆▆▅▇▅█▆█▇▇▇▅▆▇▄▅▆▆▄▄▇▆▇▆▅▆▅▅▆▅▅▅▄▅▅▅</td></tr><tr><td>test_fpr</td><td>▁▇█▇▇▇▇▆▇▆▇▆▆▆▆▇▇▆█▇▇▇▇▇▆▇▆▇▇▇▇▇▇▇▇▇▇▇▇▇</td></tr><tr><td>test_loss</td><td>▄▁▄▄▅▄▆▃▆▃▆▂▃▄▃▆▅▄█▆▅▅▇▇▅▅▄▆▆▆▇▆▅▇▆▆▇▆▇▇</td></tr><tr><td>test_tpr</td><td>▁▇█████████▇████████████████████████████</td></tr><tr><td>train_accuracy</td><td>▁▆▆▆▆▇▆▇▇▇▇▇▇▇▇▇▇█▇▇▇█▇█████████████████</td></tr><tr><td>train_auc_score</td><td>▁▇▇▇▇▇▇▇████████████████████████████████</td></tr><tr><td>train_f1_score</td><td>▁▆▆▆▆▇▇▇▇▇▇▇▇▇▇▇▇█▇▇▇█▇█████████████████</td></tr><tr><td>train_fpr</td><td>█▄▄▃▄▃▃▃▂▂▃▂▂▂▂▂▂▂▂▂▂▂▂▂▁▁▁▁▂▁▁▂▁▁▁▁▁▁▁▁</td></tr><tr><td>train_loss</td><td>█▅▄▃▂▂▂▂▂▂▂▂▂▂▁▁▁▁▁▁▁▁▁▁▁▁▁▁▁▁▁▁▁▁▁▁▁▁▁▁</td></tr><tr><td>train_tpr</td><td>▁▆▆▆▇▇▇▇▇▇▇▇▇▇▇▇▇█████▇█████████████████</td></tr></table><br/></div><div class=\"wandb-col\"><h3>Run summary:</h3><br/><table class=\"wandb\"><tr><td>epoch</td><td>39</td></tr><tr><td>lr</td><td>0.00015</td></tr><tr><td>test_accuracy</td><td>0.7496</td></tr><tr><td>test_auc_score</td><td>0.93322</td></tr><tr><td>test_f1_score</td><td>0.52879</td></tr><tr><td>test_fpr</td><td>0.2575</td></tr><tr><td>test_loss</td><td>0.55326</td></tr><tr><td>test_tpr</td><td>0.95142</td></tr><tr><td>train_accuracy</td><td>0.97682</td></tr><tr><td>train_auc_score</td><td>0.99273</td></tr><tr><td>train_f1_score</td><td>0.9753</td></tr><tr><td>train_fpr</td><td>0.02018</td></tr><tr><td>train_loss</td><td>0.33892</td></tr><tr><td>train_tpr</td><td>0.9718</td></tr></table><br/></div></div>"
      ],
      "text/plain": [
       "<IPython.core.display.HTML object>"
      ]
     },
     "metadata": {},
     "output_type": "display_data"
    },
    {
     "data": {
      "text/html": [
       " View run <strong style=\"color:#cdcd00\">EM_CrossEntropyLoss()_SMOTE-0.6</strong> at: <a href='https://wandb.ai/dmitrii_fomin_uga/Internship_project/runs/m89h7bgm' target=\"_blank\">https://wandb.ai/dmitrii_fomin_uga/Internship_project/runs/m89h7bgm</a><br/>Synced 5 W&B file(s), 0 media file(s), 0 artifact file(s) and 0 other file(s)"
      ],
      "text/plain": [
       "<IPython.core.display.HTML object>"
      ]
     },
     "metadata": {},
     "output_type": "display_data"
    },
    {
     "data": {
      "text/html": [
       "Find logs at: <code>../logs/wandb\\run-20230702_141106-m89h7bgm\\logs</code>"
      ],
      "text/plain": [
       "<IPython.core.display.HTML object>"
      ]
     },
     "metadata": {},
     "output_type": "display_data"
    },
    {
     "data": {
      "text/html": [
       "Tracking run with wandb version 0.15.4"
      ],
      "text/plain": [
       "<IPython.core.display.HTML object>"
      ]
     },
     "metadata": {},
     "output_type": "display_data"
    },
    {
     "data": {
      "text/html": [
       "Run data is saved locally in <code>../logs/wandb\\run-20230702_141124-ljzr4olz</code>"
      ],
      "text/plain": [
       "<IPython.core.display.HTML object>"
      ]
     },
     "metadata": {},
     "output_type": "display_data"
    },
    {
     "data": {
      "text/html": [
       "Syncing run <strong><a href='https://wandb.ai/dmitrii_fomin_uga/Internship_project/runs/ljzr4olz' target=\"_blank\">EM_CrossEntropyLoss()_SMOTE-0.8</a></strong> to <a href='https://wandb.ai/dmitrii_fomin_uga/Internship_project' target=\"_blank\">Weights & Biases</a> (<a href='https://wandb.me/run' target=\"_blank\">docs</a>)<br/>"
      ],
      "text/plain": [
       "<IPython.core.display.HTML object>"
      ]
     },
     "metadata": {},
     "output_type": "display_data"
    },
    {
     "data": {
      "text/html": [
       " View project at <a href='https://wandb.ai/dmitrii_fomin_uga/Internship_project' target=\"_blank\">https://wandb.ai/dmitrii_fomin_uga/Internship_project</a>"
      ],
      "text/plain": [
       "<IPython.core.display.HTML object>"
      ]
     },
     "metadata": {},
     "output_type": "display_data"
    },
    {
     "data": {
      "text/html": [
       " View run at <a href='https://wandb.ai/dmitrii_fomin_uga/Internship_project/runs/ljzr4olz' target=\"_blank\">https://wandb.ai/dmitrii_fomin_uga/Internship_project/runs/ljzr4olz</a>"
      ],
      "text/plain": [
       "<IPython.core.display.HTML object>"
      ]
     },
     "metadata": {},
     "output_type": "display_data"
    },
    {
     "data": {
      "text/html": [
       "Waiting for W&B process to finish... <strong style=\"color:green\">(success).</strong>"
      ],
      "text/plain": [
       "<IPython.core.display.HTML object>"
      ]
     },
     "metadata": {},
     "output_type": "display_data"
    },
    {
     "data": {
      "text/html": [
       "<style>\n",
       "    table.wandb td:nth-child(1) { padding: 0 10px; text-align: left ; width: auto;} td:nth-child(2) {text-align: left ; width: 100%}\n",
       "    .wandb-row { display: flex; flex-direction: row; flex-wrap: wrap; justify-content: flex-start; width: 100% }\n",
       "    .wandb-col { display: flex; flex-direction: column; flex-basis: 100%; flex: 1; padding: 10px; }\n",
       "    </style>\n",
       "<div class=\"wandb-row\"><div class=\"wandb-col\"><h3>Run history:</h3><br/><table class=\"wandb\"><tr><td>epoch</td><td>▁▁▁▂▂▂▂▂▂▃▃▃▃▃▄▄▄▄▄▄▅▅▅▅▅▅▆▆▆▆▆▇▇▇▇▇▇███</td></tr><tr><td>lr</td><td>█▇▇▆▆▅▅▄▄▄▃▃▃▃▃▂▂▂▂▂▂▂▂▂▁▁▁▁▁▁▁▁▁▁▁▁▁▁▁▁</td></tr><tr><td>test_accuracy</td><td>▁█▆▄▅▅▆▅▅▅▅▅▅▄▅▅▅▅▅▅▅▅▅▅▅▅▅▅▅▅▅▅▅▅▅▅▅▅▅▅</td></tr><tr><td>test_auc_score</td><td>▁▅▆▇▇██▇█▇▇▄▆▅▅▆▆▆▆▇▆▆▆▆▆▆▆▆▆▆▆▆▆▆▆▆▆▆▆▆</td></tr><tr><td>test_f1_score</td><td>▁█▆▄▅▅▆▅▅▅▅▅▅▄▅▅▅▅▅▆▅▅▅▅▅▅▅▅▅▅▅▅▅▅▅▅▅▅▅▅</td></tr><tr><td>test_fpr</td><td>█▁▃▅▄▄▃▄▄▄▄▅▅▅▄▄▄▄▅▄▄▄▄▅▄▄▄▄▄▅▄▄▄▄▄▄▄▄▄▄</td></tr><tr><td>test_loss</td><td>█▁▃▅▄▄▃▅▄▄▄▅▅▅▄▄▄▄▅▄▄▄▄▅▄▅▄▄▄▅▄▄▄▄▄▄▄▄▄▄</td></tr><tr><td>test_tpr</td><td>▇▁▇███▇█████████████████▇██▇████████████</td></tr><tr><td>train_accuracy</td><td>▁▆▆▆▆▇▇▇▇▇▇▇▇▇▇▇▇███████████████████████</td></tr><tr><td>train_auc_score</td><td>▁▇▇▇▇▇██████████████████████████████████</td></tr><tr><td>train_f1_score</td><td>▁▆▆▆▆▇▇▇▇▇▇▇▇▇▇▇▇███████████████████████</td></tr><tr><td>train_fpr</td><td>█▅▆▇▆▄▅▃▄▃▃▂▅▃▄▄▃▂▃▂▂▂▂▂▂▁▁▁▁▂▁▁▂▁▂▁▁▁▁▁</td></tr><tr><td>train_loss</td><td>█▄▃▃▂▂▂▂▂▂▂▂▂▂▂▂▁▁▁▁▁▁▁▁▁▁▁▁▁▁▁▁▁▁▁▁▁▁▁▁</td></tr><tr><td>train_tpr</td><td>▁▆▆▇▇▇█▇▇▇▇▇██▇█████████████████████████</td></tr></table><br/></div><div class=\"wandb-col\"><h3>Run summary:</h3><br/><table class=\"wandb\"><tr><td>epoch</td><td>39</td></tr><tr><td>lr</td><td>0.00015</td></tr><tr><td>test_accuracy</td><td>0.6897</td></tr><tr><td>test_auc_score</td><td>0.87216</td></tr><tr><td>test_f1_score</td><td>0.49161</td></tr><tr><td>test_fpr</td><td>0.32014</td></tr><tr><td>test_loss</td><td>0.61646</td></tr><tr><td>test_tpr</td><td>0.96774</td></tr><tr><td>train_accuracy</td><td>0.97503</td></tr><tr><td>train_auc_score</td><td>0.99185</td></tr><tr><td>train_f1_score</td><td>0.97473</td></tr><tr><td>train_fpr</td><td>0.02754</td></tr><tr><td>train_loss</td><td>0.33843</td></tr><tr><td>train_tpr</td><td>0.97858</td></tr></table><br/></div></div>"
      ],
      "text/plain": [
       "<IPython.core.display.HTML object>"
      ]
     },
     "metadata": {},
     "output_type": "display_data"
    },
    {
     "data": {
      "text/html": [
       " View run <strong style=\"color:#cdcd00\">EM_CrossEntropyLoss()_SMOTE-0.8</strong> at: <a href='https://wandb.ai/dmitrii_fomin_uga/Internship_project/runs/ljzr4olz' target=\"_blank\">https://wandb.ai/dmitrii_fomin_uga/Internship_project/runs/ljzr4olz</a><br/>Synced 5 W&B file(s), 0 media file(s), 0 artifact file(s) and 0 other file(s)"
      ],
      "text/plain": [
       "<IPython.core.display.HTML object>"
      ]
     },
     "metadata": {},
     "output_type": "display_data"
    },
    {
     "data": {
      "text/html": [
       "Find logs at: <code>../logs/wandb\\run-20230702_141124-ljzr4olz\\logs</code>"
      ],
      "text/plain": [
       "<IPython.core.display.HTML object>"
      ]
     },
     "metadata": {},
     "output_type": "display_data"
    },
    {
     "data": {
      "text/html": [
       "Tracking run with wandb version 0.15.4"
      ],
      "text/plain": [
       "<IPython.core.display.HTML object>"
      ]
     },
     "metadata": {},
     "output_type": "display_data"
    },
    {
     "data": {
      "text/html": [
       "Run data is saved locally in <code>../logs/wandb\\run-20230702_141152-be8nk29w</code>"
      ],
      "text/plain": [
       "<IPython.core.display.HTML object>"
      ]
     },
     "metadata": {},
     "output_type": "display_data"
    },
    {
     "data": {
      "text/html": [
       "Syncing run <strong><a href='https://wandb.ai/dmitrii_fomin_uga/Internship_project/runs/be8nk29w' target=\"_blank\">EM_CrossEntropyLoss()_SMOTE-1</a></strong> to <a href='https://wandb.ai/dmitrii_fomin_uga/Internship_project' target=\"_blank\">Weights & Biases</a> (<a href='https://wandb.me/run' target=\"_blank\">docs</a>)<br/>"
      ],
      "text/plain": [
       "<IPython.core.display.HTML object>"
      ]
     },
     "metadata": {},
     "output_type": "display_data"
    },
    {
     "data": {
      "text/html": [
       " View project at <a href='https://wandb.ai/dmitrii_fomin_uga/Internship_project' target=\"_blank\">https://wandb.ai/dmitrii_fomin_uga/Internship_project</a>"
      ],
      "text/plain": [
       "<IPython.core.display.HTML object>"
      ]
     },
     "metadata": {},
     "output_type": "display_data"
    },
    {
     "data": {
      "text/html": [
       " View run at <a href='https://wandb.ai/dmitrii_fomin_uga/Internship_project/runs/be8nk29w' target=\"_blank\">https://wandb.ai/dmitrii_fomin_uga/Internship_project/runs/be8nk29w</a>"
      ],
      "text/plain": [
       "<IPython.core.display.HTML object>"
      ]
     },
     "metadata": {},
     "output_type": "display_data"
    },
    {
     "data": {
      "text/html": [
       "Waiting for W&B process to finish... <strong style=\"color:green\">(success).</strong>"
      ],
      "text/plain": [
       "<IPython.core.display.HTML object>"
      ]
     },
     "metadata": {},
     "output_type": "display_data"
    },
    {
     "data": {
      "text/html": [
       "<style>\n",
       "    table.wandb td:nth-child(1) { padding: 0 10px; text-align: left ; width: auto;} td:nth-child(2) {text-align: left ; width: 100%}\n",
       "    .wandb-row { display: flex; flex-direction: row; flex-wrap: wrap; justify-content: flex-start; width: 100% }\n",
       "    .wandb-col { display: flex; flex-direction: column; flex-basis: 100%; flex: 1; padding: 10px; }\n",
       "    </style>\n",
       "<div class=\"wandb-row\"><div class=\"wandb-col\"><h3>Run history:</h3><br/><table class=\"wandb\"><tr><td>epoch</td><td>▁▁▁▂▂▂▂▂▂▃▃▃▃▃▄▄▄▄▄▄▅▅▅▅▅▅▆▆▆▆▆▇▇▇▇▇▇███</td></tr><tr><td>lr</td><td>█▇▇▆▆▅▅▄▄▄▃▃▃▃▃▂▂▂▂▂▂▂▂▂▁▁▁▁▁▁▁▁▁▁▁▁▁▁▁▁</td></tr><tr><td>test_accuracy</td><td>█▇▁▃▂▃▃▃▄▄▅▂▃▆▄▅▆▃▆▄▅▃▂▃▃▂▁▂▂▂▂▂▁▂▂▁▄▃▂▂</td></tr><tr><td>test_auc_score</td><td>▁▄▅▇▇█████▇▇▇█▇██▇█▇████████▇▇▇▇▇▇▇▇▇▇▇▇</td></tr><tr><td>test_f1_score</td><td>██▁▄▃▄▃▄▅▅▆▃▄▇▅▆█▄▇▅▆▃▂▄▄▃▁▃▂▂▂▂▁▂▂▁▄▄▂▂</td></tr><tr><td>test_fpr</td><td>▁▂█▆▇▆▇▆▆▅▄▇▆▄▅▄▃▆▄▅▅▆▇▆▆▇█▇▇▇▇▇█▇▇█▆▆▇▇</td></tr><tr><td>test_loss</td><td>▁▃▇▇▇▇▇▇▆▆▆▇▇▅▆▆▅▇▆▆▆▇▇▇▇▇█▇█████▇▇█▇▇██</td></tr><tr><td>test_tpr</td><td>▁▆██████████▇▇▇▇▇▇▇▇▇▇▇▇▇▇▇▇▇▇▇▇▇▇▇▇▇▇▇▇</td></tr><tr><td>train_accuracy</td><td>▁▆▆▆▆▇▇▇▇▇▇▇▇▇▇▇████████████████████████</td></tr><tr><td>train_auc_score</td><td>▁▇▇▇▇███████████████████████████████████</td></tr><tr><td>train_f1_score</td><td>▁▆▆▆▇▇▇▇▇▇▇▇▇▇▇▇████████████████████████</td></tr><tr><td>train_fpr</td><td>█▂▂▂▂▂▂▂▂▁▂▂▂▁▂▁▁▁▁▂▁▁▁▁▁▁▁▁▁▁▁▁▁▁▁▁▁▁▁▁</td></tr><tr><td>train_loss</td><td>█▄▃▂▂▂▂▂▂▂▂▂▁▁▂▁▁▁▁▁▁▁▁▁▁▁▁▁▁▁▁▁▁▁▁▁▁▁▁▁</td></tr><tr><td>train_tpr</td><td>▁▃▃▄▄▆▆▆▆▅▆▆▇▆▅▆▆▇▆▇▆▇▆▆▇▇▇██▇███▇██▇██▇</td></tr></table><br/></div><div class=\"wandb-col\"><h3>Run summary:</h3><br/><table class=\"wandb\"><tr><td>epoch</td><td>39</td></tr><tr><td>lr</td><td>0.00015</td></tr><tr><td>test_accuracy</td><td>0.62212</td></tr><tr><td>test_auc_score</td><td>0.93183</td></tr><tr><td>test_f1_score</td><td>0.452</td></tr><tr><td>test_fpr</td><td>0.3898</td></tr><tr><td>test_loss</td><td>0.68524</td></tr><tr><td>test_tpr</td><td>0.9631</td></tr><tr><td>train_accuracy</td><td>0.97466</td></tr><tr><td>train_auc_score</td><td>0.99353</td></tr><tr><td>train_f1_score</td><td>0.97464</td></tr><tr><td>train_fpr</td><td>0.02983</td></tr><tr><td>train_loss</td><td>0.33819</td></tr><tr><td>train_tpr</td><td>0.97947</td></tr></table><br/></div></div>"
      ],
      "text/plain": [
       "<IPython.core.display.HTML object>"
      ]
     },
     "metadata": {},
     "output_type": "display_data"
    },
    {
     "data": {
      "text/html": [
       " View run <strong style=\"color:#cdcd00\">EM_CrossEntropyLoss()_SMOTE-1</strong> at: <a href='https://wandb.ai/dmitrii_fomin_uga/Internship_project/runs/be8nk29w' target=\"_blank\">https://wandb.ai/dmitrii_fomin_uga/Internship_project/runs/be8nk29w</a><br/>Synced 5 W&B file(s), 0 media file(s), 0 artifact file(s) and 0 other file(s)"
      ],
      "text/plain": [
       "<IPython.core.display.HTML object>"
      ]
     },
     "metadata": {},
     "output_type": "display_data"
    },
    {
     "data": {
      "text/html": [
       "Find logs at: <code>../logs/wandb\\run-20230702_141152-be8nk29w\\logs</code>"
      ],
      "text/plain": [
       "<IPython.core.display.HTML object>"
      ]
     },
     "metadata": {},
     "output_type": "display_data"
    },
    {
     "data": {
      "text/html": [
       "Tracking run with wandb version 0.15.4"
      ],
      "text/plain": [
       "<IPython.core.display.HTML object>"
      ]
     },
     "metadata": {},
     "output_type": "display_data"
    },
    {
     "data": {
      "text/html": [
       "Run data is saved locally in <code>../logs/wandb\\run-20230702_141212-ryzaao9u</code>"
      ],
      "text/plain": [
       "<IPython.core.display.HTML object>"
      ]
     },
     "metadata": {},
     "output_type": "display_data"
    },
    {
     "data": {
      "text/html": [
       "Syncing run <strong><a href='https://wandb.ai/dmitrii_fomin_uga/Internship_project/runs/ryzaao9u' target=\"_blank\">EM_CrossEntropyLoss()_OSS-1</a></strong> to <a href='https://wandb.ai/dmitrii_fomin_uga/Internship_project' target=\"_blank\">Weights & Biases</a> (<a href='https://wandb.me/run' target=\"_blank\">docs</a>)<br/>"
      ],
      "text/plain": [
       "<IPython.core.display.HTML object>"
      ]
     },
     "metadata": {},
     "output_type": "display_data"
    },
    {
     "data": {
      "text/html": [
       " View project at <a href='https://wandb.ai/dmitrii_fomin_uga/Internship_project' target=\"_blank\">https://wandb.ai/dmitrii_fomin_uga/Internship_project</a>"
      ],
      "text/plain": [
       "<IPython.core.display.HTML object>"
      ]
     },
     "metadata": {},
     "output_type": "display_data"
    },
    {
     "data": {
      "text/html": [
       " View run at <a href='https://wandb.ai/dmitrii_fomin_uga/Internship_project/runs/ryzaao9u' target=\"_blank\">https://wandb.ai/dmitrii_fomin_uga/Internship_project/runs/ryzaao9u</a>"
      ],
      "text/plain": [
       "<IPython.core.display.HTML object>"
      ]
     },
     "metadata": {},
     "output_type": "display_data"
    },
    {
     "data": {
      "text/html": [
       "Waiting for W&B process to finish... <strong style=\"color:green\">(success).</strong>"
      ],
      "text/plain": [
       "<IPython.core.display.HTML object>"
      ]
     },
     "metadata": {},
     "output_type": "display_data"
    },
    {
     "data": {
      "text/html": [
       "<style>\n",
       "    table.wandb td:nth-child(1) { padding: 0 10px; text-align: left ; width: auto;} td:nth-child(2) {text-align: left ; width: 100%}\n",
       "    .wandb-row { display: flex; flex-direction: row; flex-wrap: wrap; justify-content: flex-start; width: 100% }\n",
       "    .wandb-col { display: flex; flex-direction: column; flex-basis: 100%; flex: 1; padding: 10px; }\n",
       "    </style>\n",
       "<div class=\"wandb-row\"><div class=\"wandb-col\"><h3>Run history:</h3><br/><table class=\"wandb\"><tr><td>epoch</td><td>▁▁▁▂▂▂▂▂▂▃▃▃▃▃▄▄▄▄▄▄▅▅▅▅▅▅▆▆▆▆▆▇▇▇▇▇▇███</td></tr><tr><td>lr</td><td>█▇▇▆▆▅▅▄▄▄▃▃▃▃▃▂▂▂▂▂▂▂▂▂▁▁▁▁▁▁▁▁▁▁▁▁▁▁▁▁</td></tr><tr><td>test_accuracy</td><td>▁▆██████████████████████████████████████</td></tr><tr><td>test_auc_score</td><td>█▁▄▇████████████████████████████████████</td></tr><tr><td>test_f1_score</td><td>▁▄▅▅▇▇▇▇▇▇█▇▇▇▇█████████████████████████</td></tr><tr><td>test_fpr</td><td>█▃▁▁▁▁▁▁▁▁▁▁▁▁▁▁▁▁▁▁▁▁▁▁▁▁▁▁▁▁▁▁▁▁▁▁▁▁▁▁</td></tr><tr><td>test_loss</td><td>█▇▅▃▂▂▂▁▁▁▁▁▁▁▁▁▁▁▁▁▁▁▁▁▁▁▁▁▁▁▁▁▁▁▁▁▁▁▁▁</td></tr><tr><td>test_tpr</td><td>█▁▁▁▆▇▆▆▆▆▆▅▅▅▅▅▅▆▅▆▅▆▆▆▆▆▆▆▆▆▆▆▆▆▆▆▆▆▆▆</td></tr><tr><td>train_accuracy</td><td>▁▇▇▇▇▇▇▇▇▇▇█▇▇██████████████████████████</td></tr><tr><td>train_auc_score</td><td>▁▆▇▇▇▇▇█▇██▇█▇▇▇████████████████████████</td></tr><tr><td>train_f1_score</td><td>▂▅▁▁▁▅▆▆▅▆▇▇▇▇▇▇▇▇▇▇▇▇█▇████████████████</td></tr><tr><td>train_fpr</td><td>█▂▁▁▁▁▁▁▁▁▁▁▁▁▁▁▁▁▁▁▁▁▁▁▁▁▁▁▁▁▁▁▁▁▁▁▁▁▁▁</td></tr><tr><td>train_loss</td><td>█▅▄▃▂▂▂▂▂▁▁▁▁▁▁▁▁▁▁▁▁▁▁▁▁▁▁▁▁▁▁▁▁▁▁▁▁▁▁▁</td></tr><tr><td>train_tpr</td><td>▄▅▁▁▁▄▅▆▅▆▆▇▆▆▆▇▇▇▇▇▇▇▇▇█▇▇█▇▇██▇███████</td></tr></table><br/></div><div class=\"wandb-col\"><h3>Run summary:</h3><br/><table class=\"wandb\"><tr><td>epoch</td><td>39</td></tr><tr><td>lr</td><td>0.00015</td></tr><tr><td>test_accuracy</td><td>0.97259</td></tr><tr><td>test_auc_score</td><td>0.94516</td></tr><tr><td>test_f1_score</td><td>0.80563</td></tr><tr><td>test_fpr</td><td>0.01764</td></tr><tr><td>test_loss</td><td>0.34308</td></tr><tr><td>test_tpr</td><td>0.69</td></tr><tr><td>train_accuracy</td><td>0.98869</td></tr><tr><td>train_auc_score</td><td>0.94999</td></tr><tr><td>train_f1_score</td><td>0.91915</td></tr><tr><td>train_fpr</td><td>0.00084</td></tr><tr><td>train_loss</td><td>0.33088</td></tr><tr><td>train_tpr</td><td>0.74789</td></tr></table><br/></div></div>"
      ],
      "text/plain": [
       "<IPython.core.display.HTML object>"
      ]
     },
     "metadata": {},
     "output_type": "display_data"
    },
    {
     "data": {
      "text/html": [
       " View run <strong style=\"color:#cdcd00\">EM_CrossEntropyLoss()_OSS-1</strong> at: <a href='https://wandb.ai/dmitrii_fomin_uga/Internship_project/runs/ryzaao9u' target=\"_blank\">https://wandb.ai/dmitrii_fomin_uga/Internship_project/runs/ryzaao9u</a><br/>Synced 5 W&B file(s), 0 media file(s), 0 artifact file(s) and 0 other file(s)"
      ],
      "text/plain": [
       "<IPython.core.display.HTML object>"
      ]
     },
     "metadata": {},
     "output_type": "display_data"
    },
    {
     "data": {
      "text/html": [
       "Find logs at: <code>../logs/wandb\\run-20230702_141212-ryzaao9u\\logs</code>"
      ],
      "text/plain": [
       "<IPython.core.display.HTML object>"
      ]
     },
     "metadata": {},
     "output_type": "display_data"
    },
    {
     "data": {
      "text/html": [
       "Tracking run with wandb version 0.15.4"
      ],
      "text/plain": [
       "<IPython.core.display.HTML object>"
      ]
     },
     "metadata": {},
     "output_type": "display_data"
    },
    {
     "data": {
      "text/html": [
       "Run data is saved locally in <code>../logs/wandb\\run-20230702_141228-kcpcdw4j</code>"
      ],
      "text/plain": [
       "<IPython.core.display.HTML object>"
      ]
     },
     "metadata": {},
     "output_type": "display_data"
    },
    {
     "data": {
      "text/html": [
       "Syncing run <strong><a href='https://wandb.ai/dmitrii_fomin_uga/Internship_project/runs/kcpcdw4j' target=\"_blank\">EM_FocalLoss()_None-0.0</a></strong> to <a href='https://wandb.ai/dmitrii_fomin_uga/Internship_project' target=\"_blank\">Weights & Biases</a> (<a href='https://wandb.me/run' target=\"_blank\">docs</a>)<br/>"
      ],
      "text/plain": [
       "<IPython.core.display.HTML object>"
      ]
     },
     "metadata": {},
     "output_type": "display_data"
    },
    {
     "data": {
      "text/html": [
       " View project at <a href='https://wandb.ai/dmitrii_fomin_uga/Internship_project' target=\"_blank\">https://wandb.ai/dmitrii_fomin_uga/Internship_project</a>"
      ],
      "text/plain": [
       "<IPython.core.display.HTML object>"
      ]
     },
     "metadata": {},
     "output_type": "display_data"
    },
    {
     "data": {
      "text/html": [
       " View run at <a href='https://wandb.ai/dmitrii_fomin_uga/Internship_project/runs/kcpcdw4j' target=\"_blank\">https://wandb.ai/dmitrii_fomin_uga/Internship_project/runs/kcpcdw4j</a>"
      ],
      "text/plain": [
       "<IPython.core.display.HTML object>"
      ]
     },
     "metadata": {},
     "output_type": "display_data"
    },
    {
     "data": {
      "text/html": [
       "Waiting for W&B process to finish... <strong style=\"color:green\">(success).</strong>"
      ],
      "text/plain": [
       "<IPython.core.display.HTML object>"
      ]
     },
     "metadata": {},
     "output_type": "display_data"
    },
    {
     "data": {
      "text/html": [
       "<style>\n",
       "    table.wandb td:nth-child(1) { padding: 0 10px; text-align: left ; width: auto;} td:nth-child(2) {text-align: left ; width: 100%}\n",
       "    .wandb-row { display: flex; flex-direction: row; flex-wrap: wrap; justify-content: flex-start; width: 100% }\n",
       "    .wandb-col { display: flex; flex-direction: column; flex-basis: 100%; flex: 1; padding: 10px; }\n",
       "    </style>\n",
       "<div class=\"wandb-row\"><div class=\"wandb-col\"><h3>Run history:</h3><br/><table class=\"wandb\"><tr><td>epoch</td><td>▁▁▁▂▂▂▂▂▂▃▃▃▃▃▄▄▄▄▄▄▅▅▅▅▅▅▆▆▆▆▆▇▇▇▇▇▇███</td></tr><tr><td>lr</td><td>█▇▇▆▆▅▅▄▄▄▃▃▃▃▃▂▂▂▂▂▂▂▂▂▁▁▁▁▁▁▁▁▁▁▁▁▁▁▁▁</td></tr><tr><td>test_accuracy</td><td>▅▁▅▃▃▃▇▅▁▇▅▄▁▃▂▅▃▃▅▂▅▅▇▃▃▅▅█▅▃▂▁▄▄▅▄▇▃▃▃</td></tr><tr><td>test_auc_score</td><td>▄▁██████████████████████████████████████</td></tr><tr><td>test_f1_score</td><td>▆▁▅▄▃▃▇▅▁▇▆▄▂▄▂▅▄▄▅▂▅▆▇▄▃▅▅█▆▃▂▁▄▄▅▄▇▃▃▃</td></tr><tr><td>test_fpr</td><td>▁▁▁▁▁▁▁▁▁▁▁▁▁▁▁▁▁▁▁▁▁▁▁▁▁▁▁▁▁▁▁▁▁▁▁▁▁▁▁▁</td></tr><tr><td>test_loss</td><td>█▇▅▃▂▂▁▁▁▁▁▁▁▁▁▁▁▁▁▁▁▁▁▁▁▁▁▁▁▁▁▁▁▁▁▁▁▁▁▁</td></tr><tr><td>test_tpr</td><td>▁▁▁▁▁▁▁▁▁▁▁▁▁▁▁▁▁▁▁▁▁▁▁▁▁▁▁▁▁▁▁▁▁▁▁▁▁▁▁▁</td></tr><tr><td>train_accuracy</td><td>▁███████████████████████████████████████</td></tr><tr><td>train_auc_score</td><td>▁▆▇▇▇▇▇▇▇▇███▇██████████████████████████</td></tr><tr><td>train_f1_score</td><td>█▁▁▁▁▁▁▁▁▁▁▁▁▁▁▁▁▁▁▁▁▁▁▁▁▁▁▁▁▁▁▁▁▁▁▁▁▁▁▁</td></tr><tr><td>train_fpr</td><td>█▁▁▁▁▁▁▁▁▁▁▁▁▁▁▁▁▁▁▁▁▁▁▁▁▁▁▁▁▁▁▁▁▁▁▁▁▁▁▁</td></tr><tr><td>train_loss</td><td>█▄▃▂▂▂▁▁▁▁▁▁▁▁▁▁▁▁▁▁▁▁▁▁▁▁▁▁▁▁▁▁▁▁▁▁▁▁▁▁</td></tr><tr><td>train_tpr</td><td>█▁▁▁▁▁▁▁▁▁▁▁▁▁▁▁▁▁▁▁▁▁▁▁▁▁▁▁▁▁▁▁▁▁▁▁▁▁▁▁</td></tr></table><br/></div><div class=\"wandb-col\"><h3>Run summary:</h3><br/><table class=\"wandb\"><tr><td>epoch</td><td>39</td></tr><tr><td>lr</td><td>0.00015</td></tr><tr><td>test_accuracy</td><td>0.96594</td></tr><tr><td>test_auc_score</td><td>0.89955</td></tr><tr><td>test_f1_score</td><td>0.49133</td></tr><tr><td>test_fpr</td><td>0.0</td></tr><tr><td>test_loss</td><td>0.02978</td></tr><tr><td>test_tpr</td><td>0.0</td></tr><tr><td>train_accuracy</td><td>0.96631</td></tr><tr><td>train_auc_score</td><td>0.93239</td></tr><tr><td>train_f1_score</td><td>0.49143</td></tr><tr><td>train_fpr</td><td>0.0</td></tr><tr><td>train_loss</td><td>0.02922</td></tr><tr><td>train_tpr</td><td>0.0</td></tr></table><br/></div></div>"
      ],
      "text/plain": [
       "<IPython.core.display.HTML object>"
      ]
     },
     "metadata": {},
     "output_type": "display_data"
    },
    {
     "data": {
      "text/html": [
       " View run <strong style=\"color:#cdcd00\">EM_FocalLoss()_None-0.0</strong> at: <a href='https://wandb.ai/dmitrii_fomin_uga/Internship_project/runs/kcpcdw4j' target=\"_blank\">https://wandb.ai/dmitrii_fomin_uga/Internship_project/runs/kcpcdw4j</a><br/>Synced 5 W&B file(s), 0 media file(s), 0 artifact file(s) and 0 other file(s)"
      ],
      "text/plain": [
       "<IPython.core.display.HTML object>"
      ]
     },
     "metadata": {},
     "output_type": "display_data"
    },
    {
     "data": {
      "text/html": [
       "Find logs at: <code>../logs/wandb\\run-20230702_141228-kcpcdw4j\\logs</code>"
      ],
      "text/plain": [
       "<IPython.core.display.HTML object>"
      ]
     },
     "metadata": {},
     "output_type": "display_data"
    },
    {
     "data": {
      "text/html": [
       "Tracking run with wandb version 0.15.4"
      ],
      "text/plain": [
       "<IPython.core.display.HTML object>"
      ]
     },
     "metadata": {},
     "output_type": "display_data"
    },
    {
     "data": {
      "text/html": [
       "Run data is saved locally in <code>../logs/wandb\\run-20230702_141243-tt1hznrd</code>"
      ],
      "text/plain": [
       "<IPython.core.display.HTML object>"
      ]
     },
     "metadata": {},
     "output_type": "display_data"
    },
    {
     "data": {
      "text/html": [
       "Syncing run <strong><a href='https://wandb.ai/dmitrii_fomin_uga/Internship_project/runs/tt1hznrd' target=\"_blank\">EM_FocalLoss()_ROS-0.05</a></strong> to <a href='https://wandb.ai/dmitrii_fomin_uga/Internship_project' target=\"_blank\">Weights & Biases</a> (<a href='https://wandb.me/run' target=\"_blank\">docs</a>)<br/>"
      ],
      "text/plain": [
       "<IPython.core.display.HTML object>"
      ]
     },
     "metadata": {},
     "output_type": "display_data"
    },
    {
     "data": {
      "text/html": [
       " View project at <a href='https://wandb.ai/dmitrii_fomin_uga/Internship_project' target=\"_blank\">https://wandb.ai/dmitrii_fomin_uga/Internship_project</a>"
      ],
      "text/plain": [
       "<IPython.core.display.HTML object>"
      ]
     },
     "metadata": {},
     "output_type": "display_data"
    },
    {
     "data": {
      "text/html": [
       " View run at <a href='https://wandb.ai/dmitrii_fomin_uga/Internship_project/runs/tt1hznrd' target=\"_blank\">https://wandb.ai/dmitrii_fomin_uga/Internship_project/runs/tt1hznrd</a>"
      ],
      "text/plain": [
       "<IPython.core.display.HTML object>"
      ]
     },
     "metadata": {},
     "output_type": "display_data"
    },
    {
     "data": {
      "text/html": [
       "Waiting for W&B process to finish... <strong style=\"color:green\">(success).</strong>"
      ],
      "text/plain": [
       "<IPython.core.display.HTML object>"
      ]
     },
     "metadata": {},
     "output_type": "display_data"
    },
    {
     "data": {
      "text/html": [
       "<style>\n",
       "    table.wandb td:nth-child(1) { padding: 0 10px; text-align: left ; width: auto;} td:nth-child(2) {text-align: left ; width: 100%}\n",
       "    .wandb-row { display: flex; flex-direction: row; flex-wrap: wrap; justify-content: flex-start; width: 100% }\n",
       "    .wandb-col { display: flex; flex-direction: column; flex-basis: 100%; flex: 1; padding: 10px; }\n",
       "    </style>\n",
       "<div class=\"wandb-row\"><div class=\"wandb-col\"><h3>Run history:</h3><br/><table class=\"wandb\"><tr><td>epoch</td><td>▁▁▁▂▂▂▂▂▂▃▃▃▃▃▄▄▄▄▄▄▅▅▅▅▅▅▆▆▆▆▆▇▇▇▇▇▇███</td></tr><tr><td>lr</td><td>█▇▇▆▆▅▅▄▄▄▃▃▃▃▃▂▂▂▂▂▂▂▂▂▁▁▁▁▁▁▁▁▁▁▁▁▁▁▁▁</td></tr><tr><td>test_accuracy</td><td>▁▃▆▇████████████████████████████████████</td></tr><tr><td>test_auc_score</td><td>▁▄▅▇▆▆▆█▆▆▅▆▆▆▇▆▇█▅▇▇▆█▇█▇▇▇▇▇▇▇▇▇▇▇▇▇▇▇</td></tr><tr><td>test_f1_score</td><td>▁▃▅▆▇▇▇▇▇▇▇█████████████████████████████</td></tr><tr><td>test_fpr</td><td>█▆▃▂▁▁▁▁▁▁▁▁▁▁▁▁▁▁▁▁▁▁▁▁▁▁▁▁▁▁▁▁▁▁▁▁▁▁▁▁</td></tr><tr><td>test_loss</td><td>█▅▃▂▁▁▁▁▁▁▁▁▁▁▁▁▁▁▁▁▁▁▁▁▁▁▁▁▁▁▁▁▁▁▁▁▁▁▁▁</td></tr><tr><td>test_tpr</td><td>█▇▇▆▃▂▁▁▂▂▂▂▃▃▄▃▃▄▃▄▃▃▄▃▄▄▄▄▄▄▄▄▄▄▄▄▄▄▄▄</td></tr><tr><td>train_accuracy</td><td>▁▆▆▇▇▇▇▇▇▇▇▇▇█▇▇████████████████████████</td></tr><tr><td>train_auc_score</td><td>▁▆▆▆▆▇▇▇▇█▇▇▇▇▇▇███▇█▇███▇█▇████████▇███</td></tr><tr><td>train_f1_score</td><td>▁▃▄▅▅▅▆▆▆▆▇▇▇▇▇▇▇██▇█████▇██████████████</td></tr><tr><td>train_fpr</td><td>█▂▁▂▁▁▁▁▁▁▁▁▁▁▁▁▁▁▁▁▁▁▁▁▁▁▁▁▁▁▁▁▁▁▁▁▁▁▁▁</td></tr><tr><td>train_loss</td><td>█▄▃▂▂▂▁▁▁▁▁▁▁▁▁▁▁▁▁▁▁▁▁▁▁▁▁▁▁▁▁▁▁▁▁▁▁▁▁▁</td></tr><tr><td>train_tpr</td><td>▁▂▂▄▄▄▄▄▅▅▆▆▆▆▇▆▇▇▇▇█▇█▇█▇█▇████████████</td></tr></table><br/></div><div class=\"wandb-col\"><h3>Run summary:</h3><br/><table class=\"wandb\"><tr><td>epoch</td><td>39</td></tr><tr><td>lr</td><td>0.00015</td></tr><tr><td>test_accuracy</td><td>0.97898</td></tr><tr><td>test_auc_score</td><td>0.93019</td></tr><tr><td>test_f1_score</td><td>0.84558</td></tr><tr><td>test_fpr</td><td>0.01205</td></tr><tr><td>test_loss</td><td>0.02826</td></tr><tr><td>test_tpr</td><td>0.7276</td></tr><tr><td>train_accuracy</td><td>0.98721</td></tr><tr><td>train_auc_score</td><td>0.94094</td></tr><tr><td>train_f1_score</td><td>0.92354</td></tr><tr><td>train_fpr</td><td>0.00309</td></tr><tr><td>train_loss</td><td>0.02703</td></tr><tr><td>train_tpr</td><td>0.79494</td></tr></table><br/></div></div>"
      ],
      "text/plain": [
       "<IPython.core.display.HTML object>"
      ]
     },
     "metadata": {},
     "output_type": "display_data"
    },
    {
     "data": {
      "text/html": [
       " View run <strong style=\"color:#cdcd00\">EM_FocalLoss()_ROS-0.05</strong> at: <a href='https://wandb.ai/dmitrii_fomin_uga/Internship_project/runs/tt1hznrd' target=\"_blank\">https://wandb.ai/dmitrii_fomin_uga/Internship_project/runs/tt1hznrd</a><br/>Synced 5 W&B file(s), 0 media file(s), 0 artifact file(s) and 0 other file(s)"
      ],
      "text/plain": [
       "<IPython.core.display.HTML object>"
      ]
     },
     "metadata": {},
     "output_type": "display_data"
    },
    {
     "data": {
      "text/html": [
       "Find logs at: <code>../logs/wandb\\run-20230702_141243-tt1hznrd\\logs</code>"
      ],
      "text/plain": [
       "<IPython.core.display.HTML object>"
      ]
     },
     "metadata": {},
     "output_type": "display_data"
    },
    {
     "data": {
      "text/html": [
       "Tracking run with wandb version 0.15.4"
      ],
      "text/plain": [
       "<IPython.core.display.HTML object>"
      ]
     },
     "metadata": {},
     "output_type": "display_data"
    },
    {
     "data": {
      "text/html": [
       "Run data is saved locally in <code>../logs/wandb\\run-20230702_141257-8fiwxs27</code>"
      ],
      "text/plain": [
       "<IPython.core.display.HTML object>"
      ]
     },
     "metadata": {},
     "output_type": "display_data"
    },
    {
     "data": {
      "text/html": [
       "Syncing run <strong><a href='https://wandb.ai/dmitrii_fomin_uga/Internship_project/runs/8fiwxs27' target=\"_blank\">EM_FocalLoss()_ROS-0.1</a></strong> to <a href='https://wandb.ai/dmitrii_fomin_uga/Internship_project' target=\"_blank\">Weights & Biases</a> (<a href='https://wandb.me/run' target=\"_blank\">docs</a>)<br/>"
      ],
      "text/plain": [
       "<IPython.core.display.HTML object>"
      ]
     },
     "metadata": {},
     "output_type": "display_data"
    },
    {
     "data": {
      "text/html": [
       " View project at <a href='https://wandb.ai/dmitrii_fomin_uga/Internship_project' target=\"_blank\">https://wandb.ai/dmitrii_fomin_uga/Internship_project</a>"
      ],
      "text/plain": [
       "<IPython.core.display.HTML object>"
      ]
     },
     "metadata": {},
     "output_type": "display_data"
    },
    {
     "data": {
      "text/html": [
       " View run at <a href='https://wandb.ai/dmitrii_fomin_uga/Internship_project/runs/8fiwxs27' target=\"_blank\">https://wandb.ai/dmitrii_fomin_uga/Internship_project/runs/8fiwxs27</a>"
      ],
      "text/plain": [
       "<IPython.core.display.HTML object>"
      ]
     },
     "metadata": {},
     "output_type": "display_data"
    },
    {
     "data": {
      "text/html": [
       "Waiting for W&B process to finish... <strong style=\"color:green\">(success).</strong>"
      ],
      "text/plain": [
       "<IPython.core.display.HTML object>"
      ]
     },
     "metadata": {},
     "output_type": "display_data"
    },
    {
     "data": {
      "text/html": [
       "<style>\n",
       "    table.wandb td:nth-child(1) { padding: 0 10px; text-align: left ; width: auto;} td:nth-child(2) {text-align: left ; width: 100%}\n",
       "    .wandb-row { display: flex; flex-direction: row; flex-wrap: wrap; justify-content: flex-start; width: 100% }\n",
       "    .wandb-col { display: flex; flex-direction: column; flex-basis: 100%; flex: 1; padding: 10px; }\n",
       "    </style>\n",
       "<div class=\"wandb-row\"><div class=\"wandb-col\"><h3>Run history:</h3><br/><table class=\"wandb\"><tr><td>epoch</td><td>▁▁▁▂▂▂▂▂▂▃▃▃▃▃▄▄▄▄▄▄▅▅▅▅▅▅▆▆▆▆▆▇▇▇▇▇▇███</td></tr><tr><td>lr</td><td>█▇▇▆▆▅▅▄▄▄▃▃▃▃▃▂▂▂▂▂▂▂▂▂▁▁▁▁▁▁▁▁▁▁▁▁▁▁▁▁</td></tr><tr><td>test_accuracy</td><td>█▁▅▆▇█▇█████████████████████████████████</td></tr><tr><td>test_auc_score</td><td>▁███████████████████████████████████████</td></tr><tr><td>test_f1_score</td><td>▃▁▃▅▆▆▆▇▇█▇█▇█▇█▇█▇██████████▇██████████</td></tr><tr><td>test_fpr</td><td>▁█▄▃▂▂▂▁▁▁▁▁▁▁▁▁▁▁▁▁▁▁▁▁▁▁▁▁▁▁▁▁▁▁▁▁▁▁▁▁</td></tr><tr><td>test_loss</td><td>▆█▄▃▂▁▁▁▁▁▁▁▁▁▁▁▁▁▁▁▁▁▁▁▁▁▁▁▁▁▁▁▁▁▁▁▁▁▁▁</td></tr><tr><td>test_tpr</td><td>▁███▇▇▇▇▇▆▆▆▆▆▆▇▇▇▇▇▇▇▇▇▇▇▇▇▇▇▇▇▇▇▇▇▇▇▇▇</td></tr><tr><td>train_accuracy</td><td>▁▇▇▇▇▇▇▇▇███████████████████████████████</td></tr><tr><td>train_auc_score</td><td>▁▆▇▇▇▇▇▇███▇▇▇█▇████████████████████████</td></tr><tr><td>train_f1_score</td><td>▁▅▆▆▆▇▆▇▇▇▇▇▇▇▇▇▇▇▇▇███▇████████████████</td></tr><tr><td>train_fpr</td><td>█▂▁▁▁▁▁▁▁▁▁▁▁▁▁▁▁▁▁▁▁▁▁▁▁▁▁▁▁▁▁▁▁▁▁▁▁▁▁▁</td></tr><tr><td>train_loss</td><td>█▄▃▂▂▂▂▁▁▁▁▁▁▁▁▁▁▁▁▁▁▁▁▁▁▁▁▁▁▁▁▁▁▁▁▁▁▁▁▁</td></tr><tr><td>train_tpr</td><td>▃▂▁▄▄▄▃▅▄▆▅▆▆▆▆▆▆▇▆▇▇▇▇▆▇▇█▇▆▇▇█▇▇▇███▇█</td></tr></table><br/></div><div class=\"wandb-col\"><h3>Run summary:</h3><br/><table class=\"wandb\"><tr><td>epoch</td><td>39</td></tr><tr><td>lr</td><td>0.00015</td></tr><tr><td>test_accuracy</td><td>0.97104</td></tr><tr><td>test_auc_score</td><td>0.95387</td></tr><tr><td>test_f1_score</td><td>0.82229</td></tr><tr><td>test_fpr</td><td>0.02379</td></tr><tr><td>test_loss</td><td>0.02946</td></tr><tr><td>test_tpr</td><td>0.82514</td></tr><tr><td>train_accuracy</td><td>0.9837</td></tr><tr><td>train_auc_score</td><td>0.97363</td></tr><tr><td>train_f1_score</td><td>0.94759</td></tr><tr><td>train_fpr</td><td>0.00348</td></tr><tr><td>train_loss</td><td>0.02778</td></tr><tr><td>train_tpr</td><td>0.8556</td></tr></table><br/></div></div>"
      ],
      "text/plain": [
       "<IPython.core.display.HTML object>"
      ]
     },
     "metadata": {},
     "output_type": "display_data"
    },
    {
     "data": {
      "text/html": [
       " View run <strong style=\"color:#cdcd00\">EM_FocalLoss()_ROS-0.1</strong> at: <a href='https://wandb.ai/dmitrii_fomin_uga/Internship_project/runs/8fiwxs27' target=\"_blank\">https://wandb.ai/dmitrii_fomin_uga/Internship_project/runs/8fiwxs27</a><br/>Synced 5 W&B file(s), 0 media file(s), 0 artifact file(s) and 0 other file(s)"
      ],
      "text/plain": [
       "<IPython.core.display.HTML object>"
      ]
     },
     "metadata": {},
     "output_type": "display_data"
    },
    {
     "data": {
      "text/html": [
       "Find logs at: <code>../logs/wandb\\run-20230702_141257-8fiwxs27\\logs</code>"
      ],
      "text/plain": [
       "<IPython.core.display.HTML object>"
      ]
     },
     "metadata": {},
     "output_type": "display_data"
    },
    {
     "data": {
      "text/html": [
       "Tracking run with wandb version 0.15.4"
      ],
      "text/plain": [
       "<IPython.core.display.HTML object>"
      ]
     },
     "metadata": {},
     "output_type": "display_data"
    },
    {
     "data": {
      "text/html": [
       "Run data is saved locally in <code>../logs/wandb\\run-20230702_141312-2u79kd0g</code>"
      ],
      "text/plain": [
       "<IPython.core.display.HTML object>"
      ]
     },
     "metadata": {},
     "output_type": "display_data"
    },
    {
     "data": {
      "text/html": [
       "Syncing run <strong><a href='https://wandb.ai/dmitrii_fomin_uga/Internship_project/runs/2u79kd0g' target=\"_blank\">EM_FocalLoss()_ROS-0.2</a></strong> to <a href='https://wandb.ai/dmitrii_fomin_uga/Internship_project' target=\"_blank\">Weights & Biases</a> (<a href='https://wandb.me/run' target=\"_blank\">docs</a>)<br/>"
      ],
      "text/plain": [
       "<IPython.core.display.HTML object>"
      ]
     },
     "metadata": {},
     "output_type": "display_data"
    },
    {
     "data": {
      "text/html": [
       " View project at <a href='https://wandb.ai/dmitrii_fomin_uga/Internship_project' target=\"_blank\">https://wandb.ai/dmitrii_fomin_uga/Internship_project</a>"
      ],
      "text/plain": [
       "<IPython.core.display.HTML object>"
      ]
     },
     "metadata": {},
     "output_type": "display_data"
    },
    {
     "data": {
      "text/html": [
       " View run at <a href='https://wandb.ai/dmitrii_fomin_uga/Internship_project/runs/2u79kd0g' target=\"_blank\">https://wandb.ai/dmitrii_fomin_uga/Internship_project/runs/2u79kd0g</a>"
      ],
      "text/plain": [
       "<IPython.core.display.HTML object>"
      ]
     },
     "metadata": {},
     "output_type": "display_data"
    },
    {
     "data": {
      "text/html": [
       "Waiting for W&B process to finish... <strong style=\"color:green\">(success).</strong>"
      ],
      "text/plain": [
       "<IPython.core.display.HTML object>"
      ]
     },
     "metadata": {},
     "output_type": "display_data"
    },
    {
     "data": {
      "text/html": [
       "<style>\n",
       "    table.wandb td:nth-child(1) { padding: 0 10px; text-align: left ; width: auto;} td:nth-child(2) {text-align: left ; width: 100%}\n",
       "    .wandb-row { display: flex; flex-direction: row; flex-wrap: wrap; justify-content: flex-start; width: 100% }\n",
       "    .wandb-col { display: flex; flex-direction: column; flex-basis: 100%; flex: 1; padding: 10px; }\n",
       "    </style>\n",
       "<div class=\"wandb-row\"><div class=\"wandb-col\"><h3>Run history:</h3><br/><table class=\"wandb\"><tr><td>epoch</td><td>▁▁▁▂▂▂▂▂▂▃▃▃▃▃▄▄▄▄▄▄▅▅▅▅▅▅▆▆▆▆▆▇▇▇▇▇▇███</td></tr><tr><td>lr</td><td>█▇▇▆▆▅▅▄▄▄▃▃▃▃▃▂▂▂▂▂▂▂▂▂▁▁▁▁▁▁▁▁▁▁▁▁▁▁▁▁</td></tr><tr><td>test_accuracy</td><td>▁▃▆▇▇███████████████████████████████████</td></tr><tr><td>test_auc_score</td><td>▁▇▇▇▇████▇██████████████████████████████</td></tr><tr><td>test_f1_score</td><td>▁▃▅▆▆▇▇▇▇▇▇▇▇▇▇█████████████████████████</td></tr><tr><td>test_fpr</td><td>█▆▃▂▂▁▁▁▁▁▁▁▁▁▁▁▁▁▁▁▁▁▁▁▁▁▁▁▁▁▁▁▁▁▁▁▁▁▁▁</td></tr><tr><td>test_loss</td><td>█▆▃▂▁▁▁▁▁▁▁▁▁▁▁▁▁▁▁▁▁▁▁▁▁▁▁▁▁▁▁▁▁▁▁▁▁▁▁▁</td></tr><tr><td>test_tpr</td><td>█▇▅▄▃▂▁▂▃▁▃▂▃▂▂▃▁▃▂▃▂▂▃▂▂▂▂▃▃▃▂▂▂▂▃▂▂▂▃▂</td></tr><tr><td>train_accuracy</td><td>▁▃▅▆▆▇▇▇▇▇▇▇▇▇▇▇▇▇██████████████████████</td></tr><tr><td>train_auc_score</td><td>▁▆▇▇█████████▇██████████████████████████</td></tr><tr><td>train_f1_score</td><td>▁▄▆▇▇▇▇▇▇█▇▇▇███████████████████████████</td></tr><tr><td>train_fpr</td><td>▂▅▃▅▇▇█▆▆▅█▆▇▅▃▅▃▃▃▃▃▃▃▂▂▂▃▂▂▂▁▂▁▂▁▁▁▂▁▁</td></tr><tr><td>train_loss</td><td>█▄▃▂▂▂▂▂▁▁▁▁▁▁▁▁▁▁▁▁▁▁▁▁▁▁▁▁▁▁▁▁▁▁▁▁▁▁▁▁</td></tr><tr><td>train_tpr</td><td>▁▄▅▆▇▇██████████████████████████████████</td></tr></table><br/></div><div class=\"wandb-col\"><h3>Run summary:</h3><br/><table class=\"wandb\"><tr><td>epoch</td><td>39</td></tr><tr><td>lr</td><td>0.00015</td></tr><tr><td>test_accuracy</td><td>0.95039</td></tr><tr><td>test_auc_score</td><td>0.95052</td></tr><tr><td>test_f1_score</td><td>0.75789</td></tr><tr><td>test_fpr</td><td>0.04657</td></tr><tr><td>test_loss</td><td>0.03315</td></tr><tr><td>test_tpr</td><td>0.86643</td></tr><tr><td>train_accuracy</td><td>0.97419</td></tr><tr><td>train_auc_score</td><td>0.95889</td></tr><tr><td>train_f1_score</td><td>0.95158</td></tr><tr><td>train_fpr</td><td>0.00489</td></tr><tr><td>train_loss</td><td>0.029</td></tr><tr><td>train_tpr</td><td>0.87056</td></tr></table><br/></div></div>"
      ],
      "text/plain": [
       "<IPython.core.display.HTML object>"
      ]
     },
     "metadata": {},
     "output_type": "display_data"
    },
    {
     "data": {
      "text/html": [
       " View run <strong style=\"color:#cdcd00\">EM_FocalLoss()_ROS-0.2</strong> at: <a href='https://wandb.ai/dmitrii_fomin_uga/Internship_project/runs/2u79kd0g' target=\"_blank\">https://wandb.ai/dmitrii_fomin_uga/Internship_project/runs/2u79kd0g</a><br/>Synced 5 W&B file(s), 0 media file(s), 0 artifact file(s) and 0 other file(s)"
      ],
      "text/plain": [
       "<IPython.core.display.HTML object>"
      ]
     },
     "metadata": {},
     "output_type": "display_data"
    },
    {
     "data": {
      "text/html": [
       "Find logs at: <code>../logs/wandb\\run-20230702_141312-2u79kd0g\\logs</code>"
      ],
      "text/plain": [
       "<IPython.core.display.HTML object>"
      ]
     },
     "metadata": {},
     "output_type": "display_data"
    },
    {
     "data": {
      "text/html": [
       "Tracking run with wandb version 0.15.4"
      ],
      "text/plain": [
       "<IPython.core.display.HTML object>"
      ]
     },
     "metadata": {},
     "output_type": "display_data"
    },
    {
     "data": {
      "text/html": [
       "Run data is saved locally in <code>../logs/wandb\\run-20230702_141327-7090k2e9</code>"
      ],
      "text/plain": [
       "<IPython.core.display.HTML object>"
      ]
     },
     "metadata": {},
     "output_type": "display_data"
    },
    {
     "data": {
      "text/html": [
       "Syncing run <strong><a href='https://wandb.ai/dmitrii_fomin_uga/Internship_project/runs/7090k2e9' target=\"_blank\">EM_FocalLoss()_ROS-0.3</a></strong> to <a href='https://wandb.ai/dmitrii_fomin_uga/Internship_project' target=\"_blank\">Weights & Biases</a> (<a href='https://wandb.me/run' target=\"_blank\">docs</a>)<br/>"
      ],
      "text/plain": [
       "<IPython.core.display.HTML object>"
      ]
     },
     "metadata": {},
     "output_type": "display_data"
    },
    {
     "data": {
      "text/html": [
       " View project at <a href='https://wandb.ai/dmitrii_fomin_uga/Internship_project' target=\"_blank\">https://wandb.ai/dmitrii_fomin_uga/Internship_project</a>"
      ],
      "text/plain": [
       "<IPython.core.display.HTML object>"
      ]
     },
     "metadata": {},
     "output_type": "display_data"
    },
    {
     "data": {
      "text/html": [
       " View run at <a href='https://wandb.ai/dmitrii_fomin_uga/Internship_project/runs/7090k2e9' target=\"_blank\">https://wandb.ai/dmitrii_fomin_uga/Internship_project/runs/7090k2e9</a>"
      ],
      "text/plain": [
       "<IPython.core.display.HTML object>"
      ]
     },
     "metadata": {},
     "output_type": "display_data"
    },
    {
     "data": {
      "text/html": [
       "Waiting for W&B process to finish... <strong style=\"color:green\">(success).</strong>"
      ],
      "text/plain": [
       "<IPython.core.display.HTML object>"
      ]
     },
     "metadata": {},
     "output_type": "display_data"
    },
    {
     "data": {
      "text/html": [
       "<style>\n",
       "    table.wandb td:nth-child(1) { padding: 0 10px; text-align: left ; width: auto;} td:nth-child(2) {text-align: left ; width: 100%}\n",
       "    .wandb-row { display: flex; flex-direction: row; flex-wrap: wrap; justify-content: flex-start; width: 100% }\n",
       "    .wandb-col { display: flex; flex-direction: column; flex-basis: 100%; flex: 1; padding: 10px; }\n",
       "    </style>\n",
       "<div class=\"wandb-row\"><div class=\"wandb-col\"><h3>Run history:</h3><br/><table class=\"wandb\"><tr><td>epoch</td><td>▁▁▁▂▂▂▂▂▂▃▃▃▃▃▄▄▄▄▄▄▅▅▅▅▅▅▆▆▆▆▆▇▇▇▇▇▇███</td></tr><tr><td>lr</td><td>█▇▇▆▆▅▅▄▄▄▃▃▃▃▃▂▂▂▂▂▂▂▂▂▁▁▁▁▁▁▁▁▁▁▁▁▁▁▁▁</td></tr><tr><td>test_accuracy</td><td>▁▂▅▆▇███████████████████████████████████</td></tr><tr><td>test_auc_score</td><td>▁▁▅▄▆▄▇▅▂▆▇█▇▆▇█▇▆▇▆▆▆▆▆▆▆▆▇▇▆▅▆▆▆▇▇▆▅▆▆</td></tr><tr><td>test_f1_score</td><td>▁▂▅▆▆▇▇▇█▇▇██▇▇█████████████████████████</td></tr><tr><td>test_fpr</td><td>█▇▄▃▂▁▁▁▁▁▁▁▁▁▁▁▁▁▁▁▁▁▁▁▁▁▁▁▁▁▁▁▁▁▁▁▁▁▁▁</td></tr><tr><td>test_loss</td><td>█▆▃▂▁▁▁▁▁▁▁▁▁▁▁▁▁▁▁▁▁▁▁▁▁▁▁▁▁▁▁▁▁▁▁▁▁▁▁▁</td></tr><tr><td>test_tpr</td><td>████▆▄▄▁▄▄▅▃▂▄▃▂▂▃▄▃▃▄▃▄▃▃▄▃▃▃▃▃▃▄▄▃▃▃▃▃</td></tr><tr><td>train_accuracy</td><td>▁▅▇▇▇▇██████████████████████████████████</td></tr><tr><td>train_auc_score</td><td>▁▅▆▆▇▇▇▇▇▇▇▇█▇██████████████████████████</td></tr><tr><td>train_f1_score</td><td>▁▅▇▇▇▇▇▇█▇██████████████████████████████</td></tr><tr><td>train_fpr</td><td>█▄▂▂▂▁▁▁▁▁▁▁▁▁▁▁▁▁▁▁▁▁▁▁▁▁▁▁▁▁▁▁▁▁▁▁▁▁▁▁</td></tr><tr><td>train_loss</td><td>█▅▃▂▂▂▂▁▁▁▁▁▁▁▁▁▁▁▁▁▁▁▁▁▁▁▁▁▁▁▁▁▁▁▁▁▁▁▁▁</td></tr><tr><td>train_tpr</td><td>█▆▅▅▄▁▁▁▃▃▃▃▄▂▄▃▄▄▄▄▄▄▅▄▅▄▅▅▅▅▅▅▅▅▅▅▅▅▅▅</td></tr></table><br/></div><div class=\"wandb-col\"><h3>Run summary:</h3><br/><table class=\"wandb\"><tr><td>epoch</td><td>39</td></tr><tr><td>lr</td><td>0.00015</td></tr><tr><td>test_accuracy</td><td>0.91795</td></tr><tr><td>test_auc_score</td><td>0.96399</td></tr><tr><td>test_f1_score</td><td>0.68968</td></tr><tr><td>test_fpr</td><td>0.08111</td></tr><tr><td>test_loss</td><td>0.04379</td></tr><tr><td>test_tpr</td><td>0.89294</td></tr><tr><td>train_accuracy</td><td>0.97787</td></tr><tr><td>train_auc_score</td><td>0.9882</td></tr><tr><td>train_f1_score</td><td>0.96854</td></tr><tr><td>train_fpr</td><td>0.01006</td></tr><tr><td>train_loss</td><td>0.02829</td></tr><tr><td>train_tpr</td><td>0.93807</td></tr></table><br/></div></div>"
      ],
      "text/plain": [
       "<IPython.core.display.HTML object>"
      ]
     },
     "metadata": {},
     "output_type": "display_data"
    },
    {
     "data": {
      "text/html": [
       " View run <strong style=\"color:#cdcd00\">EM_FocalLoss()_ROS-0.3</strong> at: <a href='https://wandb.ai/dmitrii_fomin_uga/Internship_project/runs/7090k2e9' target=\"_blank\">https://wandb.ai/dmitrii_fomin_uga/Internship_project/runs/7090k2e9</a><br/>Synced 5 W&B file(s), 0 media file(s), 0 artifact file(s) and 0 other file(s)"
      ],
      "text/plain": [
       "<IPython.core.display.HTML object>"
      ]
     },
     "metadata": {},
     "output_type": "display_data"
    },
    {
     "data": {
      "text/html": [
       "Find logs at: <code>../logs/wandb\\run-20230702_141327-7090k2e9\\logs</code>"
      ],
      "text/plain": [
       "<IPython.core.display.HTML object>"
      ]
     },
     "metadata": {},
     "output_type": "display_data"
    },
    {
     "data": {
      "text/html": [
       "Tracking run with wandb version 0.15.4"
      ],
      "text/plain": [
       "<IPython.core.display.HTML object>"
      ]
     },
     "metadata": {},
     "output_type": "display_data"
    },
    {
     "data": {
      "text/html": [
       "Run data is saved locally in <code>../logs/wandb\\run-20230702_141342-jm5fow9c</code>"
      ],
      "text/plain": [
       "<IPython.core.display.HTML object>"
      ]
     },
     "metadata": {},
     "output_type": "display_data"
    },
    {
     "data": {
      "text/html": [
       "Syncing run <strong><a href='https://wandb.ai/dmitrii_fomin_uga/Internship_project/runs/jm5fow9c' target=\"_blank\">EM_FocalLoss()_ROS-0.4</a></strong> to <a href='https://wandb.ai/dmitrii_fomin_uga/Internship_project' target=\"_blank\">Weights & Biases</a> (<a href='https://wandb.me/run' target=\"_blank\">docs</a>)<br/>"
      ],
      "text/plain": [
       "<IPython.core.display.HTML object>"
      ]
     },
     "metadata": {},
     "output_type": "display_data"
    },
    {
     "data": {
      "text/html": [
       " View project at <a href='https://wandb.ai/dmitrii_fomin_uga/Internship_project' target=\"_blank\">https://wandb.ai/dmitrii_fomin_uga/Internship_project</a>"
      ],
      "text/plain": [
       "<IPython.core.display.HTML object>"
      ]
     },
     "metadata": {},
     "output_type": "display_data"
    },
    {
     "data": {
      "text/html": [
       " View run at <a href='https://wandb.ai/dmitrii_fomin_uga/Internship_project/runs/jm5fow9c' target=\"_blank\">https://wandb.ai/dmitrii_fomin_uga/Internship_project/runs/jm5fow9c</a>"
      ],
      "text/plain": [
       "<IPython.core.display.HTML object>"
      ]
     },
     "metadata": {},
     "output_type": "display_data"
    },
    {
     "data": {
      "text/html": [
       "Waiting for W&B process to finish... <strong style=\"color:green\">(success).</strong>"
      ],
      "text/plain": [
       "<IPython.core.display.HTML object>"
      ]
     },
     "metadata": {},
     "output_type": "display_data"
    },
    {
     "data": {
      "text/html": [
       "<style>\n",
       "    table.wandb td:nth-child(1) { padding: 0 10px; text-align: left ; width: auto;} td:nth-child(2) {text-align: left ; width: 100%}\n",
       "    .wandb-row { display: flex; flex-direction: row; flex-wrap: wrap; justify-content: flex-start; width: 100% }\n",
       "    .wandb-col { display: flex; flex-direction: column; flex-basis: 100%; flex: 1; padding: 10px; }\n",
       "    </style>\n",
       "<div class=\"wandb-row\"><div class=\"wandb-col\"><h3>Run history:</h3><br/><table class=\"wandb\"><tr><td>epoch</td><td>▁▁▁▂▂▂▂▂▂▃▃▃▃▃▄▄▄▄▄▄▅▅▅▅▅▅▆▆▆▆▆▇▇▇▇▇▇███</td></tr><tr><td>lr</td><td>█▇▇▆▆▅▅▄▄▄▃▃▃▃▃▂▂▂▂▂▂▂▂▂▁▁▁▁▁▁▁▁▁▁▁▁▁▁▁▁</td></tr><tr><td>test_accuracy</td><td>▁▄▅▇▇▇▇█▇███████████████████████████████</td></tr><tr><td>test_auc_score</td><td>▁▆▇▇▇▇▇▇█▇▇▇█▇██▇▇▇▇██████████████▇█████</td></tr><tr><td>test_f1_score</td><td>▁▄▅▆▇▇▇█▇▇██████████████████████████████</td></tr><tr><td>test_fpr</td><td>█▅▄▂▂▂▂▁▂▁▁▁▁▁▁▁▁▁▁▁▁▁▁▁▁▁▁▁▁▁▁▁▁▁▁▁▁▁▁▁</td></tr><tr><td>test_loss</td><td>█▆▄▂▂▁▁▁▁▁▁▁▁▁▁▁▁▁▁▁▁▁▁▁▁▁▁▁▁▁▁▁▁▁▁▁▁▁▁▁</td></tr><tr><td>test_tpr</td><td>██▇▇▇▅▅▂▅▄▄▃▅▂▃▃▃▁▃▄▃▂▂▂▂▂▁▂▂▁▁▃▃▂▂▂▂▁▁▁</td></tr><tr><td>train_accuracy</td><td>▁▆▆▆▇▇▇▇▇▇▇▇▇▇▇▇▇▇▇█████████████████████</td></tr><tr><td>train_auc_score</td><td>▁▆▇▇▇▇▇▇▇▇▇▇▇███████████████████████████</td></tr><tr><td>train_f1_score</td><td>▁▅▆▆▆▆▇▆▇▆▇▇▇▇▇▇▇▇▇▇▇███████████████████</td></tr><tr><td>train_fpr</td><td>█▃▃▂▂▂▂▂▂▂▂▂▂▂▂▂▂▁▁▂▁▁▁▁▁▁▁▁▁▁▁▁▁▁▁▁▁▁▁▁</td></tr><tr><td>train_loss</td><td>█▄▃▂▂▂▂▂▂▂▂▂▂▂▁▁▁▁▁▁▁▁▁▁▁▁▁▁▁▁▁▁▁▁▁▁▁▁▁▁</td></tr><tr><td>train_tpr</td><td>▁▄▄▅▆▅▆▄▆▅▄▅▆▆▇▇▆▆▆▇▇▇███▇██████▇█████▇█</td></tr></table><br/></div><div class=\"wandb-col\"><h3>Run summary:</h3><br/><table class=\"wandb\"><tr><td>epoch</td><td>39</td></tr><tr><td>lr</td><td>0.00015</td></tr><tr><td>test_accuracy</td><td>0.88399</td></tr><tr><td>test_auc_score</td><td>0.96909</td></tr><tr><td>test_f1_score</td><td>0.63923</td></tr><tr><td>test_fpr</td><td>0.11665</td></tr><tr><td>test_loss</td><td>0.05079</td></tr><tr><td>test_tpr</td><td>0.89514</td></tr><tr><td>train_accuracy</td><td>0.97964</td></tr><tr><td>train_auc_score</td><td>0.98494</td></tr><tr><td>train_f1_score</td><td>0.97502</td></tr><tr><td>train_fpr</td><td>0.01623</td></tr><tr><td>train_loss</td><td>0.0274</td></tr><tr><td>train_tpr</td><td>0.96965</td></tr></table><br/></div></div>"
      ],
      "text/plain": [
       "<IPython.core.display.HTML object>"
      ]
     },
     "metadata": {},
     "output_type": "display_data"
    },
    {
     "data": {
      "text/html": [
       " View run <strong style=\"color:#cdcd00\">EM_FocalLoss()_ROS-0.4</strong> at: <a href='https://wandb.ai/dmitrii_fomin_uga/Internship_project/runs/jm5fow9c' target=\"_blank\">https://wandb.ai/dmitrii_fomin_uga/Internship_project/runs/jm5fow9c</a><br/>Synced 5 W&B file(s), 0 media file(s), 0 artifact file(s) and 0 other file(s)"
      ],
      "text/plain": [
       "<IPython.core.display.HTML object>"
      ]
     },
     "metadata": {},
     "output_type": "display_data"
    },
    {
     "data": {
      "text/html": [
       "Find logs at: <code>../logs/wandb\\run-20230702_141342-jm5fow9c\\logs</code>"
      ],
      "text/plain": [
       "<IPython.core.display.HTML object>"
      ]
     },
     "metadata": {},
     "output_type": "display_data"
    },
    {
     "data": {
      "text/html": [
       "Tracking run with wandb version 0.15.4"
      ],
      "text/plain": [
       "<IPython.core.display.HTML object>"
      ]
     },
     "metadata": {},
     "output_type": "display_data"
    },
    {
     "data": {
      "text/html": [
       "Run data is saved locally in <code>../logs/wandb\\run-20230702_141357-z45d4ujm</code>"
      ],
      "text/plain": [
       "<IPython.core.display.HTML object>"
      ]
     },
     "metadata": {},
     "output_type": "display_data"
    },
    {
     "data": {
      "text/html": [
       "Syncing run <strong><a href='https://wandb.ai/dmitrii_fomin_uga/Internship_project/runs/z45d4ujm' target=\"_blank\">EM_FocalLoss()_ROS-0.5</a></strong> to <a href='https://wandb.ai/dmitrii_fomin_uga/Internship_project' target=\"_blank\">Weights & Biases</a> (<a href='https://wandb.me/run' target=\"_blank\">docs</a>)<br/>"
      ],
      "text/plain": [
       "<IPython.core.display.HTML object>"
      ]
     },
     "metadata": {},
     "output_type": "display_data"
    },
    {
     "data": {
      "text/html": [
       " View project at <a href='https://wandb.ai/dmitrii_fomin_uga/Internship_project' target=\"_blank\">https://wandb.ai/dmitrii_fomin_uga/Internship_project</a>"
      ],
      "text/plain": [
       "<IPython.core.display.HTML object>"
      ]
     },
     "metadata": {},
     "output_type": "display_data"
    },
    {
     "data": {
      "text/html": [
       " View run at <a href='https://wandb.ai/dmitrii_fomin_uga/Internship_project/runs/z45d4ujm' target=\"_blank\">https://wandb.ai/dmitrii_fomin_uga/Internship_project/runs/z45d4ujm</a>"
      ],
      "text/plain": [
       "<IPython.core.display.HTML object>"
      ]
     },
     "metadata": {},
     "output_type": "display_data"
    },
    {
     "data": {
      "text/html": [
       "Waiting for W&B process to finish... <strong style=\"color:green\">(success).</strong>"
      ],
      "text/plain": [
       "<IPython.core.display.HTML object>"
      ]
     },
     "metadata": {},
     "output_type": "display_data"
    },
    {
     "data": {
      "text/html": [
       "<style>\n",
       "    table.wandb td:nth-child(1) { padding: 0 10px; text-align: left ; width: auto;} td:nth-child(2) {text-align: left ; width: 100%}\n",
       "    .wandb-row { display: flex; flex-direction: row; flex-wrap: wrap; justify-content: flex-start; width: 100% }\n",
       "    .wandb-col { display: flex; flex-direction: column; flex-basis: 100%; flex: 1; padding: 10px; }\n",
       "    </style>\n",
       "<div class=\"wandb-row\"><div class=\"wandb-col\"><h3>Run history:</h3><br/><table class=\"wandb\"><tr><td>epoch</td><td>▁▁▁▂▂▂▂▂▂▃▃▃▃▃▄▄▄▄▄▄▅▅▅▅▅▅▆▆▆▆▆▇▇▇▇▇▇███</td></tr><tr><td>lr</td><td>█▇▇▆▆▅▅▄▄▄▃▃▃▃▃▂▂▂▂▂▂▂▂▂▁▁▁▁▁▁▁▁▁▁▁▁▁▁▁▁</td></tr><tr><td>test_accuracy</td><td>▁▂▆▆▆▇▇▇▇███████████████████████████████</td></tr><tr><td>test_auc_score</td><td>▁▅▅▆▆▆▇▇██▇▇▆▆▄▅▇▇█▆▄▆▇█▇▇▆▅▆▆▇▆▆▅▅▆▆▆▆▆</td></tr><tr><td>test_f1_score</td><td>▁▂▆▆▆▆▆▇▇▇▇▇██▇▇████▇███████████████████</td></tr><tr><td>test_fpr</td><td>█▇▃▃▃▂▂▂▂▁▁▁▁▁▁▁▁▁▁▁▁▁▁▁▁▁▁▁▁▁▁▁▁▁▁▁▁▁▁▁</td></tr><tr><td>test_loss</td><td>█▇▃▂▃▂▂▂▂▁▁▁▁▁▁▁▁▁▁▁▁▁▁▁▁▁▁▁▁▁▁▁▁▁▁▁▁▁▁▁</td></tr><tr><td>test_tpr</td><td>▆█▆▃▅▅▆▂▅▅▄▃▁▂▄▄▄▃▃▂▃▃▃▃▃▂▂▂▂▄▄▂▄▁▁▂▂▂▂▃</td></tr><tr><td>train_accuracy</td><td>▁▆▆▆▆▆▇▇▇▇▇▇▇▇▇▇███▇▇███████████████████</td></tr><tr><td>train_auc_score</td><td>▁▇▇▇▇▇███▇█▇██▇█████████████████████████</td></tr><tr><td>train_f1_score</td><td>▁▆▇▇▇▇▇▇▇▇▇▇▇▇▇█████████████████████████</td></tr><tr><td>train_fpr</td><td>▄▆▇▇█▇▇▆▆▄▅▄▃▄▄▄▃▃▃▃▄▄▃▂▂▂▂▂▂▂▂▁▂▂▂▂▁▁▁▁</td></tr><tr><td>train_loss</td><td>█▄▃▂▂▂▂▂▂▁▁▁▁▁▁▁▁▁▁▁▁▁▁▁▁▁▁▁▁▁▁▁▁▁▁▁▁▁▁▁</td></tr><tr><td>train_tpr</td><td>▁▆▇▇▇▇█▇████████████████████████████████</td></tr></table><br/></div><div class=\"wandb-col\"><h3>Run summary:</h3><br/><table class=\"wandb\"><tr><td>epoch</td><td>39</td></tr><tr><td>lr</td><td>0.00015</td></tr><tr><td>test_accuracy</td><td>0.88018</td></tr><tr><td>test_auc_score</td><td>0.94699</td></tr><tr><td>test_f1_score</td><td>0.6383</td></tr><tr><td>test_fpr</td><td>0.1212</td></tr><tr><td>test_loss</td><td>0.05306</td></tr><tr><td>test_tpr</td><td>0.92738</td></tr><tr><td>train_accuracy</td><td>0.98098</td></tr><tr><td>train_auc_score</td><td>0.98991</td></tr><tr><td>train_f1_score</td><td>0.97849</td></tr><tr><td>train_fpr</td><td>0.00975</td></tr><tr><td>train_loss</td><td>0.02711</td></tr><tr><td>train_tpr</td><td>0.96243</td></tr></table><br/></div></div>"
      ],
      "text/plain": [
       "<IPython.core.display.HTML object>"
      ]
     },
     "metadata": {},
     "output_type": "display_data"
    },
    {
     "data": {
      "text/html": [
       " View run <strong style=\"color:#cdcd00\">EM_FocalLoss()_ROS-0.5</strong> at: <a href='https://wandb.ai/dmitrii_fomin_uga/Internship_project/runs/z45d4ujm' target=\"_blank\">https://wandb.ai/dmitrii_fomin_uga/Internship_project/runs/z45d4ujm</a><br/>Synced 5 W&B file(s), 0 media file(s), 0 artifact file(s) and 0 other file(s)"
      ],
      "text/plain": [
       "<IPython.core.display.HTML object>"
      ]
     },
     "metadata": {},
     "output_type": "display_data"
    },
    {
     "data": {
      "text/html": [
       "Find logs at: <code>../logs/wandb\\run-20230702_141357-z45d4ujm\\logs</code>"
      ],
      "text/plain": [
       "<IPython.core.display.HTML object>"
      ]
     },
     "metadata": {},
     "output_type": "display_data"
    },
    {
     "data": {
      "text/html": [
       "Tracking run with wandb version 0.15.4"
      ],
      "text/plain": [
       "<IPython.core.display.HTML object>"
      ]
     },
     "metadata": {},
     "output_type": "display_data"
    },
    {
     "data": {
      "text/html": [
       "Run data is saved locally in <code>../logs/wandb\\run-20230702_141414-isbffqvg</code>"
      ],
      "text/plain": [
       "<IPython.core.display.HTML object>"
      ]
     },
     "metadata": {},
     "output_type": "display_data"
    },
    {
     "data": {
      "text/html": [
       "Syncing run <strong><a href='https://wandb.ai/dmitrii_fomin_uga/Internship_project/runs/isbffqvg' target=\"_blank\">EM_FocalLoss()_ROS-0.6</a></strong> to <a href='https://wandb.ai/dmitrii_fomin_uga/Internship_project' target=\"_blank\">Weights & Biases</a> (<a href='https://wandb.me/run' target=\"_blank\">docs</a>)<br/>"
      ],
      "text/plain": [
       "<IPython.core.display.HTML object>"
      ]
     },
     "metadata": {},
     "output_type": "display_data"
    },
    {
     "data": {
      "text/html": [
       " View project at <a href='https://wandb.ai/dmitrii_fomin_uga/Internship_project' target=\"_blank\">https://wandb.ai/dmitrii_fomin_uga/Internship_project</a>"
      ],
      "text/plain": [
       "<IPython.core.display.HTML object>"
      ]
     },
     "metadata": {},
     "output_type": "display_data"
    },
    {
     "data": {
      "text/html": [
       " View run at <a href='https://wandb.ai/dmitrii_fomin_uga/Internship_project/runs/isbffqvg' target=\"_blank\">https://wandb.ai/dmitrii_fomin_uga/Internship_project/runs/isbffqvg</a>"
      ],
      "text/plain": [
       "<IPython.core.display.HTML object>"
      ]
     },
     "metadata": {},
     "output_type": "display_data"
    },
    {
     "data": {
      "text/html": [
       "Waiting for W&B process to finish... <strong style=\"color:green\">(success).</strong>"
      ],
      "text/plain": [
       "<IPython.core.display.HTML object>"
      ]
     },
     "metadata": {},
     "output_type": "display_data"
    },
    {
     "data": {
      "text/html": [
       "<style>\n",
       "    table.wandb td:nth-child(1) { padding: 0 10px; text-align: left ; width: auto;} td:nth-child(2) {text-align: left ; width: 100%}\n",
       "    .wandb-row { display: flex; flex-direction: row; flex-wrap: wrap; justify-content: flex-start; width: 100% }\n",
       "    .wandb-col { display: flex; flex-direction: column; flex-basis: 100%; flex: 1; padding: 10px; }\n",
       "    </style>\n",
       "<div class=\"wandb-row\"><div class=\"wandb-col\"><h3>Run history:</h3><br/><table class=\"wandb\"><tr><td>epoch</td><td>▁▁▁▂▂▂▂▂▂▃▃▃▃▃▄▄▄▄▄▄▅▅▅▅▅▅▆▆▆▆▆▇▇▇▇▇▇███</td></tr><tr><td>lr</td><td>█▇▇▆▆▅▅▄▄▄▃▃▃▃▃▂▂▂▂▂▂▂▂▂▁▁▁▁▁▁▁▁▁▁▁▁▁▁▁▁</td></tr><tr><td>test_accuracy</td><td>▁▄▆▇▇▇▇█▇▇█▇█▇██████████████████████████</td></tr><tr><td>test_auc_score</td><td>▃▁▆▇▇▇▆▆▇▆██▆▆█▇▇▆▇▇█▇▆▅▆▇▆▆▅▆▇▇▆▆▆▆▆▆▆▆</td></tr><tr><td>test_f1_score</td><td>▁▅▆▇▇▇▇▇▇▇▇▇▇▇▇██▇██████████████████████</td></tr><tr><td>test_fpr</td><td>█▅▃▂▂▂▂▁▂▂▁▂▁▂▁▁▁▁▁▁▁▁▁▁▁▁▁▁▁▁▁▁▁▁▁▁▁▁▁▁</td></tr><tr><td>test_loss</td><td>█▆▃▂▂▂▂▂▂▂▂▂▂▂▁▁▁▂▁▂▁▁▁▁▁▁▁▁▁▁▁▁▁▁▁▁▁▁▁▁</td></tr><tr><td>test_tpr</td><td>██▇▆▆▄▄▁▄▂▃▄▁▄▄▅▄▄▅▄▅▃▃▄▄▄▃▃▄▄▄▃▂▂▄▄▃▄▃▄</td></tr><tr><td>train_accuracy</td><td>▁▅▆▆▇▇▇▇▇▇▇▇▇▇▇▇▇▇▇█████████████████████</td></tr><tr><td>train_auc_score</td><td>▁▇▇▇▇▇▇▇▇▇▇██▇██████████████████████████</td></tr><tr><td>train_f1_score</td><td>▁▅▆▆▆▇▇▇▇▇▇▇▇▇▇▇▇▇▇█████████████████████</td></tr><tr><td>train_fpr</td><td>█▃▃▂▂▂▂▂▂▂▂▂▂▂▂▁▂▂▂▁▁▁▁▁▁▁▁▁▁▁▁▁▁▁▁▁▁▁▁▁</td></tr><tr><td>train_loss</td><td>█▄▃▂▂▂▂▂▂▂▂▂▂▂▁▁▁▁▁▁▁▁▁▁▁▁▁▁▁▁▁▁▁▁▁▁▁▁▁▁</td></tr><tr><td>train_tpr</td><td>▁▄▅▆▆▆▆▅▆▆▆▆▇▇▇▇▇▇▇███▇█████████████████</td></tr></table><br/></div><div class=\"wandb-col\"><h3>Run summary:</h3><br/><table class=\"wandb\"><tr><td>epoch</td><td>39</td></tr><tr><td>lr</td><td>0.00015</td></tr><tr><td>test_accuracy</td><td>0.84654</td></tr><tr><td>test_auc_score</td><td>0.94029</td></tr><tr><td>test_f1_score</td><td>0.60518</td></tr><tr><td>test_fpr</td><td>0.15713</td></tr><tr><td>test_loss</td><td>0.06311</td></tr><tr><td>test_tpr</td><td>0.95285</td></tr><tr><td>train_accuracy</td><td>0.97979</td></tr><tr><td>train_auc_score</td><td>0.98929</td></tr><tr><td>train_f1_score</td><td>0.97832</td></tr><tr><td>train_fpr</td><td>0.01457</td></tr><tr><td>train_loss</td><td>0.02755</td></tr><tr><td>train_tpr</td><td>0.97043</td></tr></table><br/></div></div>"
      ],
      "text/plain": [
       "<IPython.core.display.HTML object>"
      ]
     },
     "metadata": {},
     "output_type": "display_data"
    },
    {
     "data": {
      "text/html": [
       " View run <strong style=\"color:#cdcd00\">EM_FocalLoss()_ROS-0.6</strong> at: <a href='https://wandb.ai/dmitrii_fomin_uga/Internship_project/runs/isbffqvg' target=\"_blank\">https://wandb.ai/dmitrii_fomin_uga/Internship_project/runs/isbffqvg</a><br/>Synced 5 W&B file(s), 0 media file(s), 0 artifact file(s) and 0 other file(s)"
      ],
      "text/plain": [
       "<IPython.core.display.HTML object>"
      ]
     },
     "metadata": {},
     "output_type": "display_data"
    },
    {
     "data": {
      "text/html": [
       "Find logs at: <code>../logs/wandb\\run-20230702_141414-isbffqvg\\logs</code>"
      ],
      "text/plain": [
       "<IPython.core.display.HTML object>"
      ]
     },
     "metadata": {},
     "output_type": "display_data"
    },
    {
     "data": {
      "text/html": [
       "Tracking run with wandb version 0.15.4"
      ],
      "text/plain": [
       "<IPython.core.display.HTML object>"
      ]
     },
     "metadata": {},
     "output_type": "display_data"
    },
    {
     "data": {
      "text/html": [
       "Run data is saved locally in <code>../logs/wandb\\run-20230702_141430-gegeq90j</code>"
      ],
      "text/plain": [
       "<IPython.core.display.HTML object>"
      ]
     },
     "metadata": {},
     "output_type": "display_data"
    },
    {
     "data": {
      "text/html": [
       "Syncing run <strong><a href='https://wandb.ai/dmitrii_fomin_uga/Internship_project/runs/gegeq90j' target=\"_blank\">EM_FocalLoss()_ROS-0.8</a></strong> to <a href='https://wandb.ai/dmitrii_fomin_uga/Internship_project' target=\"_blank\">Weights & Biases</a> (<a href='https://wandb.me/run' target=\"_blank\">docs</a>)<br/>"
      ],
      "text/plain": [
       "<IPython.core.display.HTML object>"
      ]
     },
     "metadata": {},
     "output_type": "display_data"
    },
    {
     "data": {
      "text/html": [
       " View project at <a href='https://wandb.ai/dmitrii_fomin_uga/Internship_project' target=\"_blank\">https://wandb.ai/dmitrii_fomin_uga/Internship_project</a>"
      ],
      "text/plain": [
       "<IPython.core.display.HTML object>"
      ]
     },
     "metadata": {},
     "output_type": "display_data"
    },
    {
     "data": {
      "text/html": [
       " View run at <a href='https://wandb.ai/dmitrii_fomin_uga/Internship_project/runs/gegeq90j' target=\"_blank\">https://wandb.ai/dmitrii_fomin_uga/Internship_project/runs/gegeq90j</a>"
      ],
      "text/plain": [
       "<IPython.core.display.HTML object>"
      ]
     },
     "metadata": {},
     "output_type": "display_data"
    },
    {
     "data": {
      "text/html": [
       "Waiting for W&B process to finish... <strong style=\"color:green\">(success).</strong>"
      ],
      "text/plain": [
       "<IPython.core.display.HTML object>"
      ]
     },
     "metadata": {},
     "output_type": "display_data"
    },
    {
     "data": {
      "text/html": [
       "<style>\n",
       "    table.wandb td:nth-child(1) { padding: 0 10px; text-align: left ; width: auto;} td:nth-child(2) {text-align: left ; width: 100%}\n",
       "    .wandb-row { display: flex; flex-direction: row; flex-wrap: wrap; justify-content: flex-start; width: 100% }\n",
       "    .wandb-col { display: flex; flex-direction: column; flex-basis: 100%; flex: 1; padding: 10px; }\n",
       "    </style>\n",
       "<div class=\"wandb-row\"><div class=\"wandb-col\"><h3>Run history:</h3><br/><table class=\"wandb\"><tr><td>epoch</td><td>▁▁▁▂▂▂▂▂▂▃▃▃▃▃▄▄▄▄▄▄▅▅▅▅▅▅▆▆▆▆▆▇▇▇▇▇▇███</td></tr><tr><td>lr</td><td>█▇▇▆▆▅▅▄▄▄▃▃▃▃▃▂▂▂▂▂▂▂▂▂▁▁▁▁▁▁▁▁▁▁▁▁▁▁▁▁</td></tr><tr><td>test_accuracy</td><td>▁▅▆▇▇▇▇▇▇▇█▇██▇█████████████████████████</td></tr><tr><td>test_auc_score</td><td>▁▂▄▅▅█▇▅▆▇██▆▆▆▆▇▇▇▇▆▇▇▇▆▆▆▇▇▆▆▇▇▇▇▆▆▆▇▇</td></tr><tr><td>test_f1_score</td><td>▁▅▆▇▇▇▇▇▇▇█▇██▇█████████████████████████</td></tr><tr><td>test_fpr</td><td>█▄▃▂▂▂▂▂▂▂▁▂▁▁▂▁▁▁▁▁▁▁▁▁▁▁▁▁▁▁▁▁▁▁▁▁▁▁▁▁</td></tr><tr><td>test_loss</td><td>█▄▃▂▂▂▂▂▂▂▁▂▁▁▁▁▁▁▁▁▁▁▁▁▁▁▁▁▁▁▁▁▁▁▁▁▁▁▁▁</td></tr><tr><td>test_tpr</td><td>█▁▇▇▆▇▆▆▇▇▅▇▇▆▆▆▅▆▅▅▅▅▅▅▅▅▆▆▅▅▅▅▅▅▅▅▅▄▄▅</td></tr><tr><td>train_accuracy</td><td>▁▄▆▆▆▇▇▇▇▇▇▇▇▇▇▇▇▇██████████████████████</td></tr><tr><td>train_auc_score</td><td>▁▆▇▇▇▇█▇▇▇██████████████████████████████</td></tr><tr><td>train_f1_score</td><td>▁▄▆▇▆▇▇▇▇▇▇▇▇▇▇▇▇▇██████████████████████</td></tr><tr><td>train_fpr</td><td>█▄▇▇▇▆▅▆▅▅▄▄▃▃▃▄▄▄▂▃▂▂▂▁▂▂▂▂▁▂▂▁▁▁▁▂▁▁▁▁</td></tr><tr><td>train_loss</td><td>█▄▂▂▂▂▂▂▂▂▁▁▁▁▁▁▁▁▁▁▁▁▁▁▁▁▁▁▁▁▁▁▁▁▁▁▁▁▁▁</td></tr><tr><td>train_tpr</td><td>▁▄▆▇▇▇██████████████████████████████████</td></tr></table><br/></div><div class=\"wandb-col\"><h3>Run summary:</h3><br/><table class=\"wandb\"><tr><td>epoch</td><td>39</td></tr><tr><td>lr</td><td>0.00015</td></tr><tr><td>test_accuracy</td><td>0.81686</td></tr><tr><td>test_auc_score</td><td>0.88243</td></tr><tr><td>test_f1_score</td><td>0.57684</td></tr><tr><td>test_fpr</td><td>0.18749</td></tr><tr><td>test_loss</td><td>0.07512</td></tr><tr><td>test_tpr</td><td>0.9448</td></tr><tr><td>train_accuracy</td><td>0.98009</td></tr><tr><td>train_auc_score</td><td>0.99004</td></tr><tr><td>train_f1_score</td><td>0.97982</td></tr><tr><td>train_fpr</td><td>0.01864</td></tr><tr><td>train_loss</td><td>0.02698</td></tr><tr><td>train_tpr</td><td>0.97859</td></tr></table><br/></div></div>"
      ],
      "text/plain": [
       "<IPython.core.display.HTML object>"
      ]
     },
     "metadata": {},
     "output_type": "display_data"
    },
    {
     "data": {
      "text/html": [
       " View run <strong style=\"color:#cdcd00\">EM_FocalLoss()_ROS-0.8</strong> at: <a href='https://wandb.ai/dmitrii_fomin_uga/Internship_project/runs/gegeq90j' target=\"_blank\">https://wandb.ai/dmitrii_fomin_uga/Internship_project/runs/gegeq90j</a><br/>Synced 5 W&B file(s), 0 media file(s), 0 artifact file(s) and 0 other file(s)"
      ],
      "text/plain": [
       "<IPython.core.display.HTML object>"
      ]
     },
     "metadata": {},
     "output_type": "display_data"
    },
    {
     "data": {
      "text/html": [
       "Find logs at: <code>../logs/wandb\\run-20230702_141430-gegeq90j\\logs</code>"
      ],
      "text/plain": [
       "<IPython.core.display.HTML object>"
      ]
     },
     "metadata": {},
     "output_type": "display_data"
    },
    {
     "data": {
      "text/html": [
       "Tracking run with wandb version 0.15.4"
      ],
      "text/plain": [
       "<IPython.core.display.HTML object>"
      ]
     },
     "metadata": {},
     "output_type": "display_data"
    },
    {
     "data": {
      "text/html": [
       "Run data is saved locally in <code>../logs/wandb\\run-20230702_141448-52dzmeem</code>"
      ],
      "text/plain": [
       "<IPython.core.display.HTML object>"
      ]
     },
     "metadata": {},
     "output_type": "display_data"
    },
    {
     "data": {
      "text/html": [
       "Syncing run <strong><a href='https://wandb.ai/dmitrii_fomin_uga/Internship_project/runs/52dzmeem' target=\"_blank\">EM_FocalLoss()_ROS-1</a></strong> to <a href='https://wandb.ai/dmitrii_fomin_uga/Internship_project' target=\"_blank\">Weights & Biases</a> (<a href='https://wandb.me/run' target=\"_blank\">docs</a>)<br/>"
      ],
      "text/plain": [
       "<IPython.core.display.HTML object>"
      ]
     },
     "metadata": {},
     "output_type": "display_data"
    },
    {
     "data": {
      "text/html": [
       " View project at <a href='https://wandb.ai/dmitrii_fomin_uga/Internship_project' target=\"_blank\">https://wandb.ai/dmitrii_fomin_uga/Internship_project</a>"
      ],
      "text/plain": [
       "<IPython.core.display.HTML object>"
      ]
     },
     "metadata": {},
     "output_type": "display_data"
    },
    {
     "data": {
      "text/html": [
       " View run at <a href='https://wandb.ai/dmitrii_fomin_uga/Internship_project/runs/52dzmeem' target=\"_blank\">https://wandb.ai/dmitrii_fomin_uga/Internship_project/runs/52dzmeem</a>"
      ],
      "text/plain": [
       "<IPython.core.display.HTML object>"
      ]
     },
     "metadata": {},
     "output_type": "display_data"
    },
    {
     "data": {
      "text/html": [
       "Waiting for W&B process to finish... <strong style=\"color:green\">(success).</strong>"
      ],
      "text/plain": [
       "<IPython.core.display.HTML object>"
      ]
     },
     "metadata": {},
     "output_type": "display_data"
    },
    {
     "data": {
      "text/html": [
       "<style>\n",
       "    table.wandb td:nth-child(1) { padding: 0 10px; text-align: left ; width: auto;} td:nth-child(2) {text-align: left ; width: 100%}\n",
       "    .wandb-row { display: flex; flex-direction: row; flex-wrap: wrap; justify-content: flex-start; width: 100% }\n",
       "    .wandb-col { display: flex; flex-direction: column; flex-basis: 100%; flex: 1; padding: 10px; }\n",
       "    </style>\n",
       "<div class=\"wandb-row\"><div class=\"wandb-col\"><h3>Run history:</h3><br/><table class=\"wandb\"><tr><td>epoch</td><td>▁▁▁▂▂▂▂▂▂▃▃▃▃▃▄▄▄▄▄▄▅▅▅▅▅▅▆▆▆▆▆▇▇▇▇▇▇███</td></tr><tr><td>lr</td><td>█▇▇▆▆▅▅▄▄▄▃▃▃▃▃▂▂▂▂▂▂▂▂▂▁▁▁▁▁▁▁▁▁▁▁▁▁▁▁▁</td></tr><tr><td>test_accuracy</td><td>▁▄▆▆▆▇▇▇█▇█▇▇▇▇▇████████████████████████</td></tr><tr><td>test_auc_score</td><td>▂▁▄▃▃▆▅▆▇▆▆▅▄▅▅▆▇████▆▆▇▇▇██████▇▇▇▇████</td></tr><tr><td>test_f1_score</td><td>▁▄▆▆▆▇▇▇█▇█▇▇▇▇▇████████████████████████</td></tr><tr><td>test_fpr</td><td>█▅▃▃▃▂▂▂▁▂▁▂▂▂▂▂▁▁▁▁▁▁▁▁▁▁▁▁▁▁▁▁▁▁▁▁▁▁▁▁</td></tr><tr><td>test_loss</td><td>█▆▃▃▃▂▂▂▁▁▁▂▂▂▂▂▁▁▁▁▁▁▁▁▁▁▁▁▁▁▁▁▁▁▁▁▁▁▁▁</td></tr><tr><td>test_tpr</td><td>█▄▄▃▄▅▆▇▁▅▄▅▅▃▅▆▆▆▅▆▆▅▅▃▄▃▅▆▅▃▃▄▁▄▃▃▃▃▃▃</td></tr><tr><td>train_accuracy</td><td>▁▅▅▅▅▆▆▇▇▇▇▇▇▇▇▇▇████▇▇▇████████████████</td></tr><tr><td>train_auc_score</td><td>▁▆▆▆▆▇▇▇███▇▇▇██████████████████████████</td></tr><tr><td>train_f1_score</td><td>▁▅▅▆▅▆▆▇▇▇▇▇▇▇▇▇▇████▇█▇████████████████</td></tr><tr><td>train_fpr</td><td>█▅▆▆█▇▆▅▄▃▄▅▅▆▄▅▄▃▂▃▂▄▃▂▃▂▂▂▂▂▂▁▂▂▂▂▁▁▁▁</td></tr><tr><td>train_loss</td><td>█▄▃▃▃▂▂▂▁▁▁▂▂▂▁▁▁▁▁▁▁▁▁▁▁▁▁▁▁▁▁▁▁▁▁▁▁▁▁▁</td></tr><tr><td>train_tpr</td><td>▁▅▅▆▆▇▇▇██▇▇▇███████████████████████████</td></tr></table><br/></div><div class=\"wandb-col\"><h3>Run summary:</h3><br/><table class=\"wandb\"><tr><td>epoch</td><td>39</td></tr><tr><td>lr</td><td>0.00015</td></tr><tr><td>test_accuracy</td><td>0.77077</td></tr><tr><td>test_auc_score</td><td>0.95789</td></tr><tr><td>test_f1_score</td><td>0.54516</td></tr><tr><td>test_fpr</td><td>0.2362</td></tr><tr><td>test_loss</td><td>0.09482</td></tr><tr><td>test_tpr</td><td>0.97246</td></tr><tr><td>train_accuracy</td><td>0.97575</td></tr><tr><td>train_auc_score</td><td>0.98825</td></tr><tr><td>train_f1_score</td><td>0.97572</td></tr><tr><td>train_fpr</td><td>0.02474</td></tr><tr><td>train_loss</td><td>0.028</td></tr><tr><td>train_tpr</td><td>0.97629</td></tr></table><br/></div></div>"
      ],
      "text/plain": [
       "<IPython.core.display.HTML object>"
      ]
     },
     "metadata": {},
     "output_type": "display_data"
    },
    {
     "data": {
      "text/html": [
       " View run <strong style=\"color:#cdcd00\">EM_FocalLoss()_ROS-1</strong> at: <a href='https://wandb.ai/dmitrii_fomin_uga/Internship_project/runs/52dzmeem' target=\"_blank\">https://wandb.ai/dmitrii_fomin_uga/Internship_project/runs/52dzmeem</a><br/>Synced 5 W&B file(s), 0 media file(s), 0 artifact file(s) and 0 other file(s)"
      ],
      "text/plain": [
       "<IPython.core.display.HTML object>"
      ]
     },
     "metadata": {},
     "output_type": "display_data"
    },
    {
     "data": {
      "text/html": [
       "Find logs at: <code>../logs/wandb\\run-20230702_141448-52dzmeem\\logs</code>"
      ],
      "text/plain": [
       "<IPython.core.display.HTML object>"
      ]
     },
     "metadata": {},
     "output_type": "display_data"
    },
    {
     "data": {
      "text/html": [
       "Tracking run with wandb version 0.15.4"
      ],
      "text/plain": [
       "<IPython.core.display.HTML object>"
      ]
     },
     "metadata": {},
     "output_type": "display_data"
    },
    {
     "data": {
      "text/html": [
       "Run data is saved locally in <code>../logs/wandb\\run-20230702_141505-qdbmld7e</code>"
      ],
      "text/plain": [
       "<IPython.core.display.HTML object>"
      ]
     },
     "metadata": {},
     "output_type": "display_data"
    },
    {
     "data": {
      "text/html": [
       "Syncing run <strong><a href='https://wandb.ai/dmitrii_fomin_uga/Internship_project/runs/qdbmld7e' target=\"_blank\">EM_FocalLoss()_RUS-0.05</a></strong> to <a href='https://wandb.ai/dmitrii_fomin_uga/Internship_project' target=\"_blank\">Weights & Biases</a> (<a href='https://wandb.me/run' target=\"_blank\">docs</a>)<br/>"
      ],
      "text/plain": [
       "<IPython.core.display.HTML object>"
      ]
     },
     "metadata": {},
     "output_type": "display_data"
    },
    {
     "data": {
      "text/html": [
       " View project at <a href='https://wandb.ai/dmitrii_fomin_uga/Internship_project' target=\"_blank\">https://wandb.ai/dmitrii_fomin_uga/Internship_project</a>"
      ],
      "text/plain": [
       "<IPython.core.display.HTML object>"
      ]
     },
     "metadata": {},
     "output_type": "display_data"
    },
    {
     "data": {
      "text/html": [
       " View run at <a href='https://wandb.ai/dmitrii_fomin_uga/Internship_project/runs/qdbmld7e' target=\"_blank\">https://wandb.ai/dmitrii_fomin_uga/Internship_project/runs/qdbmld7e</a>"
      ],
      "text/plain": [
       "<IPython.core.display.HTML object>"
      ]
     },
     "metadata": {},
     "output_type": "display_data"
    },
    {
     "data": {
      "text/html": [
       "Waiting for W&B process to finish... <strong style=\"color:green\">(success).</strong>"
      ],
      "text/plain": [
       "<IPython.core.display.HTML object>"
      ]
     },
     "metadata": {},
     "output_type": "display_data"
    },
    {
     "data": {
      "text/html": [
       "<style>\n",
       "    table.wandb td:nth-child(1) { padding: 0 10px; text-align: left ; width: auto;} td:nth-child(2) {text-align: left ; width: 100%}\n",
       "    .wandb-row { display: flex; flex-direction: row; flex-wrap: wrap; justify-content: flex-start; width: 100% }\n",
       "    .wandb-col { display: flex; flex-direction: column; flex-basis: 100%; flex: 1; padding: 10px; }\n",
       "    </style>\n",
       "<div class=\"wandb-row\"><div class=\"wandb-col\"><h3>Run history:</h3><br/><table class=\"wandb\"><tr><td>epoch</td><td>▁▁▁▂▂▂▂▂▂▃▃▃▃▃▄▄▄▄▄▄▅▅▅▅▅▅▆▆▆▆▆▇▇▇▇▇▇███</td></tr><tr><td>lr</td><td>█▇▇▆▆▅▅▄▄▄▃▃▃▃▃▂▂▂▂▂▂▂▂▂▁▁▁▁▁▁▁▁▁▁▁▁▁▁▁▁</td></tr><tr><td>test_accuracy</td><td>████▁▁▁▂▂▃▄▅▅▅▅▆▆▆▆▆▆▆▇▇▇▇▇▆▆▆▇▇▆▆▆▆▆▆▆▆</td></tr><tr><td>test_auc_score</td><td>▅▁▃▇▇▇██████████████████████████████████</td></tr><tr><td>test_f1_score</td><td>▁▁▁▃▄▄▄▄▄▅▅▆▆▆▆▇▇▇▇▇▇▇██████████████████</td></tr><tr><td>test_fpr</td><td>▁▁▁▁████▇▆▆▅▄▄▄▄▄▄▄▄▄▄▃▃▃▃▃▄▄▄▃▃▄▄▄▄▄▄▄▄</td></tr><tr><td>test_loss</td><td>█▇▆▇▇▆▅▄▃▃▂▂▂▂▁▁▁▁▁▁▁▁▁▁▁▁▁▁▁▁▁▁▁▁▁▁▁▁▁▁</td></tr><tr><td>test_tpr</td><td>▁▁▁▂████▇▇█▇▇▇▇▇▇█████▇████████▇████████</td></tr><tr><td>train_accuracy</td><td>▁▆▇▇▇▇▇▇▇▇▇▇▇██▇████████████████████████</td></tr><tr><td>train_auc_score</td><td>▁▆▇▇▇▇█▇▇▇██▇███████████████████████████</td></tr><tr><td>train_f1_score</td><td>▁▅▆▆▆▆▆▇▆▆▇▇▆▇█▇▇▇▇▇█▇█████▇▇▇██████████</td></tr><tr><td>train_fpr</td><td>█▂▂▂▂▁▂▁▁▁▂▁▁▁▁▁▁▁▁▁▁▁▁▁▁▁▁▁▁▁▁▁▁▁▁▁▁▁▁▁</td></tr><tr><td>train_loss</td><td>█▅▄▃▃▂▂▂▂▂▂▂▂▁▁▁▁▁▁▁▁▁▁▁▁▁▁▁▁▁▁▁▁▁▁▁▁▁▁▁</td></tr><tr><td>train_tpr</td><td>▁▁▃▅▄▅▅▅▄▅▆▅▄▆▇▆▇▇▇▇▇▇▇█▇██▇▇▇▇▇▇▇██▇██▇</td></tr></table><br/></div><div class=\"wandb-col\"><h3>Run summary:</h3><br/><table class=\"wandb\"><tr><td>epoch</td><td>39</td></tr><tr><td>lr</td><td>0.00015</td></tr><tr><td>test_accuracy</td><td>0.94318</td></tr><tr><td>test_auc_score</td><td>0.9522</td></tr><tr><td>test_f1_score</td><td>0.73115</td></tr><tr><td>test_fpr</td><td>0.05259</td></tr><tr><td>test_loss</td><td>0.04062</td></tr><tr><td>test_tpr</td><td>0.81587</td></tr><tr><td>train_accuracy</td><td>0.96312</td></tr><tr><td>train_auc_score</td><td>0.96386</td></tr><tr><td>train_f1_score</td><td>0.91668</td></tr><tr><td>train_fpr</td><td>0.00853</td></tr><tr><td>train_loss</td><td>0.03626</td></tr><tr><td>train_tpr</td><td>0.78745</td></tr></table><br/></div></div>"
      ],
      "text/plain": [
       "<IPython.core.display.HTML object>"
      ]
     },
     "metadata": {},
     "output_type": "display_data"
    },
    {
     "data": {
      "text/html": [
       " View run <strong style=\"color:#cdcd00\">EM_FocalLoss()_RUS-0.05</strong> at: <a href='https://wandb.ai/dmitrii_fomin_uga/Internship_project/runs/qdbmld7e' target=\"_blank\">https://wandb.ai/dmitrii_fomin_uga/Internship_project/runs/qdbmld7e</a><br/>Synced 5 W&B file(s), 0 media file(s), 0 artifact file(s) and 0 other file(s)"
      ],
      "text/plain": [
       "<IPython.core.display.HTML object>"
      ]
     },
     "metadata": {},
     "output_type": "display_data"
    },
    {
     "data": {
      "text/html": [
       "Find logs at: <code>../logs/wandb\\run-20230702_141505-qdbmld7e\\logs</code>"
      ],
      "text/plain": [
       "<IPython.core.display.HTML object>"
      ]
     },
     "metadata": {},
     "output_type": "display_data"
    },
    {
     "data": {
      "text/html": [
       "Tracking run with wandb version 0.15.4"
      ],
      "text/plain": [
       "<IPython.core.display.HTML object>"
      ]
     },
     "metadata": {},
     "output_type": "display_data"
    },
    {
     "data": {
      "text/html": [
       "Run data is saved locally in <code>../logs/wandb\\run-20230702_141517-llk7iv8y</code>"
      ],
      "text/plain": [
       "<IPython.core.display.HTML object>"
      ]
     },
     "metadata": {},
     "output_type": "display_data"
    },
    {
     "data": {
      "text/html": [
       "Syncing run <strong><a href='https://wandb.ai/dmitrii_fomin_uga/Internship_project/runs/llk7iv8y' target=\"_blank\">EM_FocalLoss()_RUS-0.1</a></strong> to <a href='https://wandb.ai/dmitrii_fomin_uga/Internship_project' target=\"_blank\">Weights & Biases</a> (<a href='https://wandb.me/run' target=\"_blank\">docs</a>)<br/>"
      ],
      "text/plain": [
       "<IPython.core.display.HTML object>"
      ]
     },
     "metadata": {},
     "output_type": "display_data"
    },
    {
     "data": {
      "text/html": [
       " View project at <a href='https://wandb.ai/dmitrii_fomin_uga/Internship_project' target=\"_blank\">https://wandb.ai/dmitrii_fomin_uga/Internship_project</a>"
      ],
      "text/plain": [
       "<IPython.core.display.HTML object>"
      ]
     },
     "metadata": {},
     "output_type": "display_data"
    },
    {
     "data": {
      "text/html": [
       " View run at <a href='https://wandb.ai/dmitrii_fomin_uga/Internship_project/runs/llk7iv8y' target=\"_blank\">https://wandb.ai/dmitrii_fomin_uga/Internship_project/runs/llk7iv8y</a>"
      ],
      "text/plain": [
       "<IPython.core.display.HTML object>"
      ]
     },
     "metadata": {},
     "output_type": "display_data"
    },
    {
     "data": {
      "text/html": [
       "Waiting for W&B process to finish... <strong style=\"color:green\">(success).</strong>"
      ],
      "text/plain": [
       "<IPython.core.display.HTML object>"
      ]
     },
     "metadata": {},
     "output_type": "display_data"
    },
    {
     "data": {
      "text/html": [
       "<style>\n",
       "    table.wandb td:nth-child(1) { padding: 0 10px; text-align: left ; width: auto;} td:nth-child(2) {text-align: left ; width: 100%}\n",
       "    .wandb-row { display: flex; flex-direction: row; flex-wrap: wrap; justify-content: flex-start; width: 100% }\n",
       "    .wandb-col { display: flex; flex-direction: column; flex-basis: 100%; flex: 1; padding: 10px; }\n",
       "    </style>\n",
       "<div class=\"wandb-row\"><div class=\"wandb-col\"><h3>Run history:</h3><br/><table class=\"wandb\"><tr><td>epoch</td><td>▁▁▁▂▂▂▂▂▂▃▃▃▃▃▄▄▄▄▄▄▅▅▅▅▅▅▆▆▆▆▆▇▇▇▇▇▇███</td></tr><tr><td>lr</td><td>█▇▇▆▆▅▅▄▄▄▃▃▃▃▃▂▂▂▂▂▂▂▂▂▁▁▁▁▁▁▁▁▁▁▁▁▁▁▁▁</td></tr><tr><td>test_accuracy</td><td>▇▇▇▇██▇▇▅▅▅▆▅▅▁▃▅▅█▆▆▇▆▆█▆▇▆▆█▇▆▇▅▆▇▇▆▇▇</td></tr><tr><td>test_auc_score</td><td>▂▁▅█████▇▇▇▆▆▇██▇▇▇▇▇▇▇▇▇▇▇▇▇▇▇▇▇▇██▇▇▇▇</td></tr><tr><td>test_f1_score</td><td>▁▁▁▁▄▅▇▇▇▇▇▇▇▇▆▇▇▇█▇▇█▇▇█▇█▇▇████▇▇██▇██</td></tr><tr><td>test_fpr</td><td>▁▁▁▁▁▂▄▅▆▆▆▄▆▆█▇▆▅▄▅▅▅▅▅▄▅▅▅▅▄▅▅▅▆▅▅▅▅▅▅</td></tr><tr><td>test_loss</td><td>█▇▆▅▃▂▂▂▁▁▁▁▁▁▁▁▁▁▁▁▁▁▁▁▁▁▁▁▁▁▁▁▁▁▁▁▁▁▁▁</td></tr><tr><td>test_tpr</td><td>▁▁▁▁▂▄▆▇█▇▇▆▇▇███▇▇▇██▇█▇▇█▇█▇███████▇██</td></tr><tr><td>train_accuracy</td><td>▁▂▂▂▂▃▃▄▅▆▆▆▆▆▆▆▇▇▇▇▇▇▇▇▇██▇████████████</td></tr><tr><td>train_auc_score</td><td>▁▆▇▇▇▇▇█▇██▇▇██▇█▇▇█████████████████████</td></tr><tr><td>train_f1_score</td><td>▁▁▁▁▁▂▄▅▆▆▇▇▇▇▇▇▇▇▇▇██▇█████████████████</td></tr><tr><td>train_fpr</td><td>█▁▁▁▁▁▁▂▄▄▄▅▄▅▆█▅▅▅▄▄▆▄▄▄▃▃▃▃▃▂▃▃▃▂▂▂▂▂▂</td></tr><tr><td>train_loss</td><td>█▅▃▃▂▂▂▂▂▂▂▂▂▂▁▁▁▁▁▁▁▁▁▁▁▁▁▁▁▁▁▁▁▁▁▁▁▁▁▁</td></tr><tr><td>train_tpr</td><td>▁▁▁▁▁▂▃▄▅▆▆▇▆▇▇▇▇▇▇▇▇█▇█████████████████</td></tr></table><br/></div><div class=\"wandb-col\"><h3>Run summary:</h3><br/><table class=\"wandb\"><tr><td>epoch</td><td>39</td></tr><tr><td>lr</td><td>0.00015</td></tr><tr><td>test_accuracy</td><td>0.96829</td></tr><tr><td>test_auc_score</td><td>0.93419</td></tr><tr><td>test_f1_score</td><td>0.80379</td></tr><tr><td>test_fpr</td><td>0.0248</td></tr><tr><td>test_loss</td><td>0.02995</td></tr><tr><td>test_tpr</td><td>0.7732</td></tr><tr><td>train_accuracy</td><td>0.9862</td></tr><tr><td>train_auc_score</td><td>0.96216</td></tr><tr><td>train_f1_score</td><td>0.9523</td></tr><tr><td>train_fpr</td><td>0.00211</td></tr><tr><td>train_loss</td><td>0.02849</td></tr><tr><td>train_tpr</td><td>0.8595</td></tr></table><br/></div></div>"
      ],
      "text/plain": [
       "<IPython.core.display.HTML object>"
      ]
     },
     "metadata": {},
     "output_type": "display_data"
    },
    {
     "data": {
      "text/html": [
       " View run <strong style=\"color:#cdcd00\">EM_FocalLoss()_RUS-0.1</strong> at: <a href='https://wandb.ai/dmitrii_fomin_uga/Internship_project/runs/llk7iv8y' target=\"_blank\">https://wandb.ai/dmitrii_fomin_uga/Internship_project/runs/llk7iv8y</a><br/>Synced 5 W&B file(s), 0 media file(s), 0 artifact file(s) and 0 other file(s)"
      ],
      "text/plain": [
       "<IPython.core.display.HTML object>"
      ]
     },
     "metadata": {},
     "output_type": "display_data"
    },
    {
     "data": {
      "text/html": [
       "Find logs at: <code>../logs/wandb\\run-20230702_141517-llk7iv8y\\logs</code>"
      ],
      "text/plain": [
       "<IPython.core.display.HTML object>"
      ]
     },
     "metadata": {},
     "output_type": "display_data"
    },
    {
     "data": {
      "text/html": [
       "Tracking run with wandb version 0.15.4"
      ],
      "text/plain": [
       "<IPython.core.display.HTML object>"
      ]
     },
     "metadata": {},
     "output_type": "display_data"
    },
    {
     "data": {
      "text/html": [
       "Run data is saved locally in <code>../logs/wandb\\run-20230702_141528-4awzf5ez</code>"
      ],
      "text/plain": [
       "<IPython.core.display.HTML object>"
      ]
     },
     "metadata": {},
     "output_type": "display_data"
    },
    {
     "data": {
      "text/html": [
       "Syncing run <strong><a href='https://wandb.ai/dmitrii_fomin_uga/Internship_project/runs/4awzf5ez' target=\"_blank\">EM_FocalLoss()_RUS-0.2</a></strong> to <a href='https://wandb.ai/dmitrii_fomin_uga/Internship_project' target=\"_blank\">Weights & Biases</a> (<a href='https://wandb.me/run' target=\"_blank\">docs</a>)<br/>"
      ],
      "text/plain": [
       "<IPython.core.display.HTML object>"
      ]
     },
     "metadata": {},
     "output_type": "display_data"
    },
    {
     "data": {
      "text/html": [
       " View project at <a href='https://wandb.ai/dmitrii_fomin_uga/Internship_project' target=\"_blank\">https://wandb.ai/dmitrii_fomin_uga/Internship_project</a>"
      ],
      "text/plain": [
       "<IPython.core.display.HTML object>"
      ]
     },
     "metadata": {},
     "output_type": "display_data"
    },
    {
     "data": {
      "text/html": [
       " View run at <a href='https://wandb.ai/dmitrii_fomin_uga/Internship_project/runs/4awzf5ez' target=\"_blank\">https://wandb.ai/dmitrii_fomin_uga/Internship_project/runs/4awzf5ez</a>"
      ],
      "text/plain": [
       "<IPython.core.display.HTML object>"
      ]
     },
     "metadata": {},
     "output_type": "display_data"
    },
    {
     "data": {
      "text/html": [
       "Waiting for W&B process to finish... <strong style=\"color:green\">(success).</strong>"
      ],
      "text/plain": [
       "<IPython.core.display.HTML object>"
      ]
     },
     "metadata": {},
     "output_type": "display_data"
    },
    {
     "data": {
      "text/html": [
       "<style>\n",
       "    table.wandb td:nth-child(1) { padding: 0 10px; text-align: left ; width: auto;} td:nth-child(2) {text-align: left ; width: 100%}\n",
       "    .wandb-row { display: flex; flex-direction: row; flex-wrap: wrap; justify-content: flex-start; width: 100% }\n",
       "    .wandb-col { display: flex; flex-direction: column; flex-basis: 100%; flex: 1; padding: 10px; }\n",
       "    </style>\n",
       "<div class=\"wandb-row\"><div class=\"wandb-col\"><h3>Run history:</h3><br/><table class=\"wandb\"><tr><td>epoch</td><td>▁▁▁▂▂▂▂▂▂▃▃▃▃▃▄▄▄▄▄▄▅▅▅▅▅▅▆▆▆▆▆▇▇▇▇▇▇███</td></tr><tr><td>lr</td><td>█▇▇▆▆▅▅▄▄▄▃▃▃▃▃▂▂▂▂▂▂▂▂▂▁▁▁▁▁▁▁▁▁▁▁▁▁▁▁▁</td></tr><tr><td>test_accuracy</td><td>▁▂▅▆▇███████████████████████████████████</td></tr><tr><td>test_auc_score</td><td>▁▄▆▆▇▇▅▆█▄▅▅▅▅▆▆▆▇▆▆▇▇▇▆▇▇▆▇▆▇▆▇▇▆▆█▆▇▇▇</td></tr><tr><td>test_f1_score</td><td>▁▂▄▅▆▇▇▇█▇██████████████████████████████</td></tr><tr><td>test_fpr</td><td>█▇▄▃▂▂▁▁▁▁▁▁▁▁▁▁▁▁▁▁▁▁▁▁▁▁▁▁▁▁▁▁▁▁▁▁▁▁▁▁</td></tr><tr><td>test_loss</td><td>▇█▄▂▂▁▁▁▁▁▁▁▁▁▁▁▁▁▁▁▁▁▁▁▁▁▁▁▁▁▁▁▁▁▁▁▁▁▁▁</td></tr><tr><td>test_tpr</td><td>██▇▇▆▅▄▃▄▁▂▄▂▂▃▂▄▂▄▂▄▃▂▂▄▄▃▄▃▂▄▄▄▄▃▄▄▄▄▄</td></tr><tr><td>train_accuracy</td><td>▁▇▇▇▇▇▇▇████████████████████████████████</td></tr><tr><td>train_auc_score</td><td>▁▇▇▇▇▇█▇▇█▇█████████████████████████████</td></tr><tr><td>train_f1_score</td><td>▁▅▆▆▆▆▇▇▇▇▇▇▇▇▇█████████████████████████</td></tr><tr><td>train_fpr</td><td>█▂▂▁▁▁▁▁▁▁▁▁▁▁▁▁▁▁▁▁▁▁▁▁▁▁▁▁▁▁▁▁▁▁▁▁▁▁▁▁</td></tr><tr><td>train_loss</td><td>█▄▃▂▂▂▁▁▁▁▁▁▁▁▁▁▁▁▁▁▁▁▁▁▁▁▁▁▁▁▁▁▁▁▁▁▁▁▁▁</td></tr><tr><td>train_tpr</td><td>▁▆▄▄▅▅▅▆▆▆▇▆▇▇▇█▇▇██▇██████▇████████████</td></tr></table><br/></div><div class=\"wandb-col\"><h3>Run summary:</h3><br/><table class=\"wandb\"><tr><td>epoch</td><td>39</td></tr><tr><td>lr</td><td>0.00015</td></tr><tr><td>test_accuracy</td><td>0.97755</td></tr><tr><td>test_auc_score</td><td>0.92896</td></tr><tr><td>test_f1_score</td><td>0.84684</td></tr><tr><td>test_fpr</td><td>0.0156</td></tr><tr><td>test_loss</td><td>0.02839</td></tr><tr><td>test_tpr</td><td>0.78476</td></tr><tr><td>train_accuracy</td><td>0.98523</td></tr><tr><td>train_auc_score</td><td>0.96165</td></tr><tr><td>train_f1_score</td><td>0.94078</td></tr><tr><td>train_fpr</td><td>0.00175</td></tr><tr><td>train_loss</td><td>0.0276</td></tr><tr><td>train_tpr</td><td>0.81974</td></tr></table><br/></div></div>"
      ],
      "text/plain": [
       "<IPython.core.display.HTML object>"
      ]
     },
     "metadata": {},
     "output_type": "display_data"
    },
    {
     "data": {
      "text/html": [
       " View run <strong style=\"color:#cdcd00\">EM_FocalLoss()_RUS-0.2</strong> at: <a href='https://wandb.ai/dmitrii_fomin_uga/Internship_project/runs/4awzf5ez' target=\"_blank\">https://wandb.ai/dmitrii_fomin_uga/Internship_project/runs/4awzf5ez</a><br/>Synced 5 W&B file(s), 0 media file(s), 0 artifact file(s) and 0 other file(s)"
      ],
      "text/plain": [
       "<IPython.core.display.HTML object>"
      ]
     },
     "metadata": {},
     "output_type": "display_data"
    },
    {
     "data": {
      "text/html": [
       "Find logs at: <code>../logs/wandb\\run-20230702_141528-4awzf5ez\\logs</code>"
      ],
      "text/plain": [
       "<IPython.core.display.HTML object>"
      ]
     },
     "metadata": {},
     "output_type": "display_data"
    },
    {
     "data": {
      "text/html": [
       "Tracking run with wandb version 0.15.4"
      ],
      "text/plain": [
       "<IPython.core.display.HTML object>"
      ]
     },
     "metadata": {},
     "output_type": "display_data"
    },
    {
     "data": {
      "text/html": [
       "Run data is saved locally in <code>../logs/wandb\\run-20230702_141540-04hc7pyy</code>"
      ],
      "text/plain": [
       "<IPython.core.display.HTML object>"
      ]
     },
     "metadata": {},
     "output_type": "display_data"
    },
    {
     "data": {
      "text/html": [
       "Syncing run <strong><a href='https://wandb.ai/dmitrii_fomin_uga/Internship_project/runs/04hc7pyy' target=\"_blank\">EM_FocalLoss()_RUS-0.3</a></strong> to <a href='https://wandb.ai/dmitrii_fomin_uga/Internship_project' target=\"_blank\">Weights & Biases</a> (<a href='https://wandb.me/run' target=\"_blank\">docs</a>)<br/>"
      ],
      "text/plain": [
       "<IPython.core.display.HTML object>"
      ]
     },
     "metadata": {},
     "output_type": "display_data"
    },
    {
     "data": {
      "text/html": [
       " View project at <a href='https://wandb.ai/dmitrii_fomin_uga/Internship_project' target=\"_blank\">https://wandb.ai/dmitrii_fomin_uga/Internship_project</a>"
      ],
      "text/plain": [
       "<IPython.core.display.HTML object>"
      ]
     },
     "metadata": {},
     "output_type": "display_data"
    },
    {
     "data": {
      "text/html": [
       " View run at <a href='https://wandb.ai/dmitrii_fomin_uga/Internship_project/runs/04hc7pyy' target=\"_blank\">https://wandb.ai/dmitrii_fomin_uga/Internship_project/runs/04hc7pyy</a>"
      ],
      "text/plain": [
       "<IPython.core.display.HTML object>"
      ]
     },
     "metadata": {},
     "output_type": "display_data"
    },
    {
     "name": "stderr",
     "output_type": "stream",
     "text": [
      "c:\\Users\\dimaf\\miniconda3\\envs\\torch\\Lib\\site-packages\\sklearn\\metrics\\_ranking.py:1029: UndefinedMetricWarning: No positive samples in y_true, true positive value should be meaningless\n",
      "  warnings.warn(\n",
      "c:\\Users\\dimaf\\Documents\\GitHub\\Internship-project\\src\\models\\classifiers.py:87: RuntimeWarning: invalid value encountered in scalar divide\n",
      "  tpr = tp / (tp + fn)\n"
     ]
    },
    {
     "data": {
      "text/html": [
       "Waiting for W&B process to finish... <strong style=\"color:green\">(success).</strong>"
      ],
      "text/plain": [
       "<IPython.core.display.HTML object>"
      ]
     },
     "metadata": {},
     "output_type": "display_data"
    },
    {
     "data": {
      "text/html": [
       "<style>\n",
       "    table.wandb td:nth-child(1) { padding: 0 10px; text-align: left ; width: auto;} td:nth-child(2) {text-align: left ; width: 100%}\n",
       "    .wandb-row { display: flex; flex-direction: row; flex-wrap: wrap; justify-content: flex-start; width: 100% }\n",
       "    .wandb-col { display: flex; flex-direction: column; flex-basis: 100%; flex: 1; padding: 10px; }\n",
       "    </style>\n",
       "<div class=\"wandb-row\"><div class=\"wandb-col\"><h3>Run history:</h3><br/><table class=\"wandb\"><tr><td>epoch</td><td>▁▁▁▂▂▂▂▂▂▃▃▃▃▃▄▄▄▄▄▄▅▅▅▅▅▅▆▆▆▆▆▇▇▇▇▇▇███</td></tr><tr><td>lr</td><td>█▇▇▆▆▅▅▄▄▄▃▃▃▃▃▂▂▂▂▂▂▂▂▂▁▁▁▁▁▁▁▁▁▁▁▁▁▁▁▁</td></tr><tr><td>test_accuracy</td><td>▁▃▅▇▇███████████████████████████████████</td></tr><tr><td>test_auc_score</td><td>▁▄▃▃▅▅▆▆▆▆▅▅▄▄▅▄▂▅▅▆▆▅▆▆▇▇▆▆▇▇▇▇██▇████▇</td></tr><tr><td>test_f1_score</td><td>▁▃▄▆▆▇▇▇▇██▇▇███████████████████████████</td></tr><tr><td>test_fpr</td><td>█▆▄▂▂▁▁▁▁▁▁▁▁▁▁▁▁▁▁▁▁▁▁▁▁▁▁▁▁▁▁▁▁▁▁▁▁▁▁▁</td></tr><tr><td>test_loss</td><td>██▅▃▂▂▁▁▁▁▁▁▁▁▁▁▁▁▁▁▁▁▁▁▁▁▁▁▁▁▁▁▁▁▁▁▁▁▁▁</td></tr><tr><td>test_tpr</td><td>██▆▆▅▅▄▃▂▂▂▃▁▂▃▃▂▂▃▃▃▃▃▃▄▃▃▄▄▄▄▃▄▄▄▃▄▄▅▄</td></tr><tr><td>train_accuracy</td><td>▁▆▇▆▆▇▇▇▇▇▇█▇▇█▇▇██▇█▇█████▇████████████</td></tr><tr><td>train_auc_score</td><td>▁▇▇▆▆▇▆▇▇█▇█▇▇▇▇▆▇▇▇█ █████▇█▇██████▇▇██</td></tr><tr><td>train_f1_score</td><td>▁▂▄▄▄▅▅▆▆▆▇▇▇▇▇▇▆▇▇▇▇▆▇▇▇█▇▆▇▇▇█▇████▇▇█</td></tr><tr><td>train_fpr</td><td>█▁▁▁▂▁▂▁▁▂▁▁▁▂▁▂▁▁▁▂▁▂▁▁▂▁▁▂▁▁▁▁▁▁▁▁▁▂▁▁</td></tr><tr><td>train_loss</td><td>█▅▄▃▂▂▂▂▂▁▁▁▁▁▁▁▁▁▁▁▁▁▁▁▁▁▁▁▁▁▁▁▁▁▁▁▁▁▁▁</td></tr><tr><td>train_tpr</td><td>▂▁▂▃▃▄▅▅▅▆▆▇▇▆▆▇▆▆▇▇█ ▇▇█▇▆▆█▇▇▇▇███▇▆▇█</td></tr></table><br/></div><div class=\"wandb-col\"><h3>Run summary:</h3><br/><table class=\"wandb\"><tr><td>epoch</td><td>39</td></tr><tr><td>lr</td><td>0.00015</td></tr><tr><td>test_accuracy</td><td>0.96848</td></tr><tr><td>test_auc_score</td><td>0.93817</td></tr><tr><td>test_f1_score</td><td>0.79405</td></tr><tr><td>test_fpr</td><td>0.02306</td></tr><tr><td>test_loss</td><td>0.03046</td></tr><tr><td>test_tpr</td><td>0.72025</td></tr><tr><td>train_accuracy</td><td>0.97789</td></tr><tr><td>train_auc_score</td><td>0.95579</td></tr><tr><td>train_f1_score</td><td>0.90777</td></tr><tr><td>train_fpr</td><td>0.00435</td></tr><tr><td>train_loss</td><td>0.02925</td></tr><tr><td>train_tpr</td><td>0.74657</td></tr></table><br/></div></div>"
      ],
      "text/plain": [
       "<IPython.core.display.HTML object>"
      ]
     },
     "metadata": {},
     "output_type": "display_data"
    },
    {
     "data": {
      "text/html": [
       " View run <strong style=\"color:#cdcd00\">EM_FocalLoss()_RUS-0.3</strong> at: <a href='https://wandb.ai/dmitrii_fomin_uga/Internship_project/runs/04hc7pyy' target=\"_blank\">https://wandb.ai/dmitrii_fomin_uga/Internship_project/runs/04hc7pyy</a><br/>Synced 6 W&B file(s), 0 media file(s), 0 artifact file(s) and 0 other file(s)"
      ],
      "text/plain": [
       "<IPython.core.display.HTML object>"
      ]
     },
     "metadata": {},
     "output_type": "display_data"
    },
    {
     "data": {
      "text/html": [
       "Find logs at: <code>../logs/wandb\\run-20230702_141540-04hc7pyy\\logs</code>"
      ],
      "text/plain": [
       "<IPython.core.display.HTML object>"
      ]
     },
     "metadata": {},
     "output_type": "display_data"
    },
    {
     "data": {
      "text/html": [
       "Tracking run with wandb version 0.15.4"
      ],
      "text/plain": [
       "<IPython.core.display.HTML object>"
      ]
     },
     "metadata": {},
     "output_type": "display_data"
    },
    {
     "data": {
      "text/html": [
       "Run data is saved locally in <code>../logs/wandb\\run-20230702_141554-6uds0zjp</code>"
      ],
      "text/plain": [
       "<IPython.core.display.HTML object>"
      ]
     },
     "metadata": {},
     "output_type": "display_data"
    },
    {
     "data": {
      "text/html": [
       "Syncing run <strong><a href='https://wandb.ai/dmitrii_fomin_uga/Internship_project/runs/6uds0zjp' target=\"_blank\">EM_FocalLoss()_RUS-0.4</a></strong> to <a href='https://wandb.ai/dmitrii_fomin_uga/Internship_project' target=\"_blank\">Weights & Biases</a> (<a href='https://wandb.me/run' target=\"_blank\">docs</a>)<br/>"
      ],
      "text/plain": [
       "<IPython.core.display.HTML object>"
      ]
     },
     "metadata": {},
     "output_type": "display_data"
    },
    {
     "data": {
      "text/html": [
       " View project at <a href='https://wandb.ai/dmitrii_fomin_uga/Internship_project' target=\"_blank\">https://wandb.ai/dmitrii_fomin_uga/Internship_project</a>"
      ],
      "text/plain": [
       "<IPython.core.display.HTML object>"
      ]
     },
     "metadata": {},
     "output_type": "display_data"
    },
    {
     "data": {
      "text/html": [
       " View run at <a href='https://wandb.ai/dmitrii_fomin_uga/Internship_project/runs/6uds0zjp' target=\"_blank\">https://wandb.ai/dmitrii_fomin_uga/Internship_project/runs/6uds0zjp</a>"
      ],
      "text/plain": [
       "<IPython.core.display.HTML object>"
      ]
     },
     "metadata": {},
     "output_type": "display_data"
    },
    {
     "data": {
      "text/html": [
       "Waiting for W&B process to finish... <strong style=\"color:green\">(success).</strong>"
      ],
      "text/plain": [
       "<IPython.core.display.HTML object>"
      ]
     },
     "metadata": {},
     "output_type": "display_data"
    },
    {
     "data": {
      "text/html": [
       "<style>\n",
       "    table.wandb td:nth-child(1) { padding: 0 10px; text-align: left ; width: auto;} td:nth-child(2) {text-align: left ; width: 100%}\n",
       "    .wandb-row { display: flex; flex-direction: row; flex-wrap: wrap; justify-content: flex-start; width: 100% }\n",
       "    .wandb-col { display: flex; flex-direction: column; flex-basis: 100%; flex: 1; padding: 10px; }\n",
       "    </style>\n",
       "<div class=\"wandb-row\"><div class=\"wandb-col\"><h3>Run history:</h3><br/><table class=\"wandb\"><tr><td>epoch</td><td>▁▁▁▂▂▂▂▂▂▃▃▃▃▃▄▄▄▄▄▄▅▅▅▅▅▅▆▆▆▆▆▇▇▇▇▇▇███</td></tr><tr><td>lr</td><td>█▇▇▆▆▅▅▄▄▄▃▃▃▃▃▂▂▂▂▂▂▂▂▂▁▁▁▁▁▁▁▁▁▁▁▁▁▁▁▁</td></tr><tr><td>test_accuracy</td><td>▁▂▅▇▇███████████████████████████████████</td></tr><tr><td>test_auc_score</td><td>▁▇▆▇▆▇▇▇██▇▇▇▇███████▇▇▇▇▇█▇▇▇▇▇▇▇▇▇▇▇▇▇</td></tr><tr><td>test_f1_score</td><td>▁▂▄▆▆▇▇▇█▇▇██▇██▇███████████████████████</td></tr><tr><td>test_fpr</td><td>█▇▄▂▂▁▁▁▁▁▁▁▁▁▁▁▁▁▁▁▁▁▁▁▁▁▁▁▁▁▁▁▁▁▁▁▁▁▁▁</td></tr><tr><td>test_loss</td><td>█▅▃▂▁▁▁▁▁▁▁▁▁▁▁▁▁▁▁▁▁▁▁▁▁▁▁▁▁▁▁▁▁▁▁▁▁▁▁▁</td></tr><tr><td>test_tpr</td><td>██▇▆▅▄▄▃▂▁▃▃▃▃▄▃▃▄▄▄▃▄▄▅▄▅▃▄▄▄▃▃▄▅▄▅▅▄▄▄</td></tr><tr><td>train_accuracy</td><td>▁▇██████████████████████████████████████</td></tr><tr><td>train_auc_score</td><td>▁▅▆▅▆▆▇▇█▇█▇▇███▇▇▇███▇█▇█▇▇▇▇▇▇▇▇▇███▇█</td></tr><tr><td>train_f1_score</td><td>▁▆▇▇▇▇▇▇▇▇▇▇▇▇▇▇▇▇██████████████████████</td></tr><tr><td>train_fpr</td><td>█▂▁▁▁▁▁▁▁▁▁▁▁▁▁▁▁▁▁▁▁▁▁▁▁▁▁▁▁▁▁▁▁▁▁▁▁▁▁▁</td></tr><tr><td>train_loss</td><td>█▄▃▂▂▂▁▁▁▁▁▁▁▁▁▁▁▁▁▁▁▁▁▁▁▁▁▁▁▁▁▁▁▁▁▁▁▁▁▁</td></tr><tr><td>train_tpr</td><td>█▄▃▁▁▃▃▁▃▄▅▄▅▄▆▅▄▅▆▆▅▅▆▆▅▇▇▆▆▆▆▇▇▇▆█▆▇▆▆</td></tr></table><br/></div><div class=\"wandb-col\"><h3>Run summary:</h3><br/><table class=\"wandb\"><tr><td>epoch</td><td>39</td></tr><tr><td>lr</td><td>0.00015</td></tr><tr><td>test_accuracy</td><td>0.9759</td></tr><tr><td>test_auc_score</td><td>0.92928</td></tr><tr><td>test_f1_score</td><td>0.83238</td></tr><tr><td>test_fpr</td><td>0.01635</td></tr><tr><td>test_loss</td><td>0.02994</td></tr><tr><td>test_tpr</td><td>0.75156</td></tr><tr><td>train_accuracy</td><td>0.98404</td></tr><tr><td>train_auc_score</td><td>0.95547</td></tr><tr><td>train_f1_score</td><td>0.93502</td></tr><tr><td>train_fpr</td><td>0.00239</td></tr><tr><td>train_loss</td><td>0.0287</td></tr><tr><td>train_tpr</td><td>0.81034</td></tr></table><br/></div></div>"
      ],
      "text/plain": [
       "<IPython.core.display.HTML object>"
      ]
     },
     "metadata": {},
     "output_type": "display_data"
    },
    {
     "data": {
      "text/html": [
       " View run <strong style=\"color:#cdcd00\">EM_FocalLoss()_RUS-0.4</strong> at: <a href='https://wandb.ai/dmitrii_fomin_uga/Internship_project/runs/6uds0zjp' target=\"_blank\">https://wandb.ai/dmitrii_fomin_uga/Internship_project/runs/6uds0zjp</a><br/>Synced 5 W&B file(s), 0 media file(s), 0 artifact file(s) and 0 other file(s)"
      ],
      "text/plain": [
       "<IPython.core.display.HTML object>"
      ]
     },
     "metadata": {},
     "output_type": "display_data"
    },
    {
     "data": {
      "text/html": [
       "Find logs at: <code>../logs/wandb\\run-20230702_141554-6uds0zjp\\logs</code>"
      ],
      "text/plain": [
       "<IPython.core.display.HTML object>"
      ]
     },
     "metadata": {},
     "output_type": "display_data"
    },
    {
     "data": {
      "text/html": [
       "Tracking run with wandb version 0.15.4"
      ],
      "text/plain": [
       "<IPython.core.display.HTML object>"
      ]
     },
     "metadata": {},
     "output_type": "display_data"
    },
    {
     "data": {
      "text/html": [
       "Run data is saved locally in <code>../logs/wandb\\run-20230702_141607-7ewvq0z6</code>"
      ],
      "text/plain": [
       "<IPython.core.display.HTML object>"
      ]
     },
     "metadata": {},
     "output_type": "display_data"
    },
    {
     "data": {
      "text/html": [
       "Syncing run <strong><a href='https://wandb.ai/dmitrii_fomin_uga/Internship_project/runs/7ewvq0z6' target=\"_blank\">EM_FocalLoss()_RUS-0.5</a></strong> to <a href='https://wandb.ai/dmitrii_fomin_uga/Internship_project' target=\"_blank\">Weights & Biases</a> (<a href='https://wandb.me/run' target=\"_blank\">docs</a>)<br/>"
      ],
      "text/plain": [
       "<IPython.core.display.HTML object>"
      ]
     },
     "metadata": {},
     "output_type": "display_data"
    },
    {
     "data": {
      "text/html": [
       " View project at <a href='https://wandb.ai/dmitrii_fomin_uga/Internship_project' target=\"_blank\">https://wandb.ai/dmitrii_fomin_uga/Internship_project</a>"
      ],
      "text/plain": [
       "<IPython.core.display.HTML object>"
      ]
     },
     "metadata": {},
     "output_type": "display_data"
    },
    {
     "data": {
      "text/html": [
       " View run at <a href='https://wandb.ai/dmitrii_fomin_uga/Internship_project/runs/7ewvq0z6' target=\"_blank\">https://wandb.ai/dmitrii_fomin_uga/Internship_project/runs/7ewvq0z6</a>"
      ],
      "text/plain": [
       "<IPython.core.display.HTML object>"
      ]
     },
     "metadata": {},
     "output_type": "display_data"
    },
    {
     "data": {
      "text/html": [
       "Waiting for W&B process to finish... <strong style=\"color:green\">(success).</strong>"
      ],
      "text/plain": [
       "<IPython.core.display.HTML object>"
      ]
     },
     "metadata": {},
     "output_type": "display_data"
    },
    {
     "data": {
      "text/html": [
       "<style>\n",
       "    table.wandb td:nth-child(1) { padding: 0 10px; text-align: left ; width: auto;} td:nth-child(2) {text-align: left ; width: 100%}\n",
       "    .wandb-row { display: flex; flex-direction: row; flex-wrap: wrap; justify-content: flex-start; width: 100% }\n",
       "    .wandb-col { display: flex; flex-direction: column; flex-basis: 100%; flex: 1; padding: 10px; }\n",
       "    </style>\n",
       "<div class=\"wandb-row\"><div class=\"wandb-col\"><h3>Run history:</h3><br/><table class=\"wandb\"><tr><td>epoch</td><td>▁▁▁▂▂▂▂▂▂▃▃▃▃▃▄▄▄▄▄▄▅▅▅▅▅▅▆▆▆▆▆▇▇▇▇▇▇███</td></tr><tr><td>lr</td><td>█▇▇▆▆▅▅▄▄▄▃▃▃▃▃▂▂▂▂▂▂▂▂▂▁▁▁▁▁▁▁▁▁▁▁▁▁▁▁▁</td></tr><tr><td>test_accuracy</td><td>▁███████████████████████████████████████</td></tr><tr><td>test_auc_score</td><td>▅▁▅▆▇▇▇█████▇▇██████████████████████████</td></tr><tr><td>test_f1_score</td><td>▁▄▄▄▇▇▇▇▇███████████████████████████████</td></tr><tr><td>test_fpr</td><td>█▁▁▁▁▁▁▁▁▁▁▁▁▁▁▁▁▁▁▁▁▁▁▁▁▁▁▁▁▁▁▁▁▁▁▁▁▁▁▁</td></tr><tr><td>test_loss</td><td>█▆▃▂▂▁▁▁▁▁▁▁▁▁▁▁▁▁▁▁▁▁▁▁▁▁▁▁▁▁▁▁▁▁▁▁▁▁▁▁</td></tr><tr><td>test_tpr</td><td>█▁▁▁▃▆▆▆▆▆▆▆▆▆▆▇▆▆▆▆▆▆▇▆▆▆▇▇▇▇▆▆▆▆▆▇▆▆▆▇</td></tr><tr><td>train_accuracy</td><td>▁▆▅▅▅▆▇▇▇▇▇▇▇▇▇▇███▇████████████████████</td></tr><tr><td>train_auc_score</td><td>▁▆▆▆▇▇▇██▇▇██▇███████████████▇██▇███████</td></tr><tr><td>train_f1_score</td><td>▄▅▁▁▁▅▆▇▇▇▇▇▇▇▇▇▇▇▇▇▇███████████████████</td></tr><tr><td>train_fpr</td><td>█▂▁▁▁▁▁▂▂▁▁▂▂▁▁▂▁▁▁▂▁▁▁▁▁▁▁▁▁▁▁▁▁▁▁▁▁▁▁▁</td></tr><tr><td>train_loss</td><td>█▄▃▂▂▂▂▂▁▁▁▁▁▁▁▁▁▁▁▁▁▁▁▁▁▁▁▁▁▁▁▁▁▁▁▁▁▁▁▁</td></tr><tr><td>train_tpr</td><td>▅▅▁▁▁▄▆▇▇▇▇▇▇▇▇▇▇█▇▇▇▇█▇████████████████</td></tr></table><br/></div><div class=\"wandb-col\"><h3>Run summary:</h3><br/><table class=\"wandb\"><tr><td>epoch</td><td>39</td></tr><tr><td>lr</td><td>0.00015</td></tr><tr><td>test_accuracy</td><td>0.97219</td></tr><tr><td>test_auc_score</td><td>0.93361</td></tr><tr><td>test_f1_score</td><td>0.81878</td></tr><tr><td>test_fpr</td><td>0.02053</td></tr><tr><td>test_loss</td><td>0.0291</td></tr><tr><td>test_tpr</td><td>0.76491</td></tr><tr><td>train_accuracy</td><td>0.98618</td></tr><tr><td>train_auc_score</td><td>0.95021</td></tr><tr><td>train_f1_score</td><td>0.9412</td></tr><tr><td>train_fpr</td><td>0.00382</td></tr><tr><td>train_loss</td><td>0.02709</td></tr><tr><td>train_tpr</td><td>0.85045</td></tr></table><br/></div></div>"
      ],
      "text/plain": [
       "<IPython.core.display.HTML object>"
      ]
     },
     "metadata": {},
     "output_type": "display_data"
    },
    {
     "data": {
      "text/html": [
       " View run <strong style=\"color:#cdcd00\">EM_FocalLoss()_RUS-0.5</strong> at: <a href='https://wandb.ai/dmitrii_fomin_uga/Internship_project/runs/7ewvq0z6' target=\"_blank\">https://wandb.ai/dmitrii_fomin_uga/Internship_project/runs/7ewvq0z6</a><br/>Synced 5 W&B file(s), 0 media file(s), 0 artifact file(s) and 0 other file(s)"
      ],
      "text/plain": [
       "<IPython.core.display.HTML object>"
      ]
     },
     "metadata": {},
     "output_type": "display_data"
    },
    {
     "data": {
      "text/html": [
       "Find logs at: <code>../logs/wandb\\run-20230702_141607-7ewvq0z6\\logs</code>"
      ],
      "text/plain": [
       "<IPython.core.display.HTML object>"
      ]
     },
     "metadata": {},
     "output_type": "display_data"
    },
    {
     "data": {
      "text/html": [
       "Tracking run with wandb version 0.15.4"
      ],
      "text/plain": [
       "<IPython.core.display.HTML object>"
      ]
     },
     "metadata": {},
     "output_type": "display_data"
    },
    {
     "data": {
      "text/html": [
       "Run data is saved locally in <code>../logs/wandb\\run-20230702_141620-jzta7eoj</code>"
      ],
      "text/plain": [
       "<IPython.core.display.HTML object>"
      ]
     },
     "metadata": {},
     "output_type": "display_data"
    },
    {
     "data": {
      "text/html": [
       "Syncing run <strong><a href='https://wandb.ai/dmitrii_fomin_uga/Internship_project/runs/jzta7eoj' target=\"_blank\">EM_FocalLoss()_RUS-0.6</a></strong> to <a href='https://wandb.ai/dmitrii_fomin_uga/Internship_project' target=\"_blank\">Weights & Biases</a> (<a href='https://wandb.me/run' target=\"_blank\">docs</a>)<br/>"
      ],
      "text/plain": [
       "<IPython.core.display.HTML object>"
      ]
     },
     "metadata": {},
     "output_type": "display_data"
    },
    {
     "data": {
      "text/html": [
       " View project at <a href='https://wandb.ai/dmitrii_fomin_uga/Internship_project' target=\"_blank\">https://wandb.ai/dmitrii_fomin_uga/Internship_project</a>"
      ],
      "text/plain": [
       "<IPython.core.display.HTML object>"
      ]
     },
     "metadata": {},
     "output_type": "display_data"
    },
    {
     "data": {
      "text/html": [
       " View run at <a href='https://wandb.ai/dmitrii_fomin_uga/Internship_project/runs/jzta7eoj' target=\"_blank\">https://wandb.ai/dmitrii_fomin_uga/Internship_project/runs/jzta7eoj</a>"
      ],
      "text/plain": [
       "<IPython.core.display.HTML object>"
      ]
     },
     "metadata": {},
     "output_type": "display_data"
    },
    {
     "data": {
      "text/html": [
       "Waiting for W&B process to finish... <strong style=\"color:green\">(success).</strong>"
      ],
      "text/plain": [
       "<IPython.core.display.HTML object>"
      ]
     },
     "metadata": {},
     "output_type": "display_data"
    },
    {
     "data": {
      "text/html": [
       "<style>\n",
       "    table.wandb td:nth-child(1) { padding: 0 10px; text-align: left ; width: auto;} td:nth-child(2) {text-align: left ; width: 100%}\n",
       "    .wandb-row { display: flex; flex-direction: row; flex-wrap: wrap; justify-content: flex-start; width: 100% }\n",
       "    .wandb-col { display: flex; flex-direction: column; flex-basis: 100%; flex: 1; padding: 10px; }\n",
       "    </style>\n",
       "<div class=\"wandb-row\"><div class=\"wandb-col\"><h3>Run history:</h3><br/><table class=\"wandb\"><tr><td>epoch</td><td>▁▁▁▂▂▂▂▂▂▃▃▃▃▃▄▄▄▄▄▄▅▅▅▅▅▅▆▆▆▆▆▇▇▇▇▇▇███</td></tr><tr><td>lr</td><td>█▇▇▆▆▅▅▄▄▄▃▃▃▃▃▂▂▂▂▂▂▂▂▂▁▁▁▁▁▁▁▁▁▁▁▁▁▁▁▁</td></tr><tr><td>test_accuracy</td><td>▄▁▅▇▇███████████████████████████████████</td></tr><tr><td>test_auc_score</td><td>▁▄▅▅▃▅▆▅▆▇▇▆▇▇▇▇█▇██▇▇▇▇▇█▇▇▇▇▇▇▇▇▇▇▇▇▇▆</td></tr><tr><td>test_f1_score</td><td>▂▁▃▅▆▆▇▇▇▇▇▇██▇██▇█████▇████████████████</td></tr><tr><td>test_fpr</td><td>▅█▄▃▂▁▁▁▁▁▁▁▁▁▁▁▁▁▁▁▁▁▁▁▁▁▁▁▁▁▁▁▁▁▁▁▁▁▁▁</td></tr><tr><td>test_loss</td><td>▆█▅▃▂▁▁▁▁▁▁▁▁▁▁▁▁▁▁▁▁▁▁▁▁▁▁▁▁▁▁▁▁▁▁▁▁▁▁▁</td></tr><tr><td>test_tpr</td><td>▇█▇▆▄▄▃▄▃▂▁▁▃▄▂▅▄▅▄▄▄▅▄▂▅▅▄▅▃▄▄▄▄▅▄▅▅▅▄▄</td></tr><tr><td>train_accuracy</td><td>▁▆▆▆▆▇▇▆▇▇▇▇▇▇▇▇███████▇████████████████</td></tr><tr><td>train_auc_score</td><td>▁▅▇▆▆▆▇▇▇███▇███████████████████████████</td></tr><tr><td>train_f1_score</td><td>▁▄▅▅▅▆▅▅▆▆▇▇▇▇▇▇▇▇▇▇▇█▇▇▇▇▇█▇█▇█████████</td></tr><tr><td>train_fpr</td><td>█▂▂▂▂▁▂▂▂▂▂▁▁▁▁▂▁▁▁▁▁▁▁▁▁▁▁▁▁▁▁▁▁▁▁▁▁▁▁▁</td></tr><tr><td>train_loss</td><td>█▅▃▃▂▂▂▂▂▁▁▁▁▁▁▁▁▁▁▁▁▁▁▁▁▁▁▁▁▁▁▁▁▁▁▁▁▁▁▁</td></tr><tr><td>train_tpr</td><td>▁▂▃▄▃▄▄▄▄▆▆▆▆▆▇▇▇▇▆▇▇█▇▇▇▇▇▇▇███▇███████</td></tr></table><br/></div><div class=\"wandb-col\"><h3>Run summary:</h3><br/><table class=\"wandb\"><tr><td>epoch</td><td>39</td></tr><tr><td>lr</td><td>0.00015</td></tr><tr><td>test_accuracy</td><td>0.97555</td></tr><tr><td>test_auc_score</td><td>0.94111</td></tr><tr><td>test_f1_score</td><td>0.83493</td></tr><tr><td>test_fpr</td><td>0.01774</td></tr><tr><td>test_loss</td><td>0.02973</td></tr><tr><td>test_tpr</td><td>0.78038</td></tr><tr><td>train_accuracy</td><td>0.98504</td></tr><tr><td>train_auc_score</td><td>0.9482</td></tr><tr><td>train_f1_score</td><td>0.93731</td></tr><tr><td>train_fpr</td><td>0.00261</td></tr><tr><td>train_loss</td><td>0.02778</td></tr><tr><td>train_tpr</td><td>0.81859</td></tr></table><br/></div></div>"
      ],
      "text/plain": [
       "<IPython.core.display.HTML object>"
      ]
     },
     "metadata": {},
     "output_type": "display_data"
    },
    {
     "data": {
      "text/html": [
       " View run <strong style=\"color:#cdcd00\">EM_FocalLoss()_RUS-0.6</strong> at: <a href='https://wandb.ai/dmitrii_fomin_uga/Internship_project/runs/jzta7eoj' target=\"_blank\">https://wandb.ai/dmitrii_fomin_uga/Internship_project/runs/jzta7eoj</a><br/>Synced 5 W&B file(s), 0 media file(s), 0 artifact file(s) and 0 other file(s)"
      ],
      "text/plain": [
       "<IPython.core.display.HTML object>"
      ]
     },
     "metadata": {},
     "output_type": "display_data"
    },
    {
     "data": {
      "text/html": [
       "Find logs at: <code>../logs/wandb\\run-20230702_141620-jzta7eoj\\logs</code>"
      ],
      "text/plain": [
       "<IPython.core.display.HTML object>"
      ]
     },
     "metadata": {},
     "output_type": "display_data"
    },
    {
     "data": {
      "text/html": [
       "Tracking run with wandb version 0.15.4"
      ],
      "text/plain": [
       "<IPython.core.display.HTML object>"
      ]
     },
     "metadata": {},
     "output_type": "display_data"
    },
    {
     "data": {
      "text/html": [
       "Run data is saved locally in <code>../logs/wandb\\run-20230702_141634-kmu5tv59</code>"
      ],
      "text/plain": [
       "<IPython.core.display.HTML object>"
      ]
     },
     "metadata": {},
     "output_type": "display_data"
    },
    {
     "data": {
      "text/html": [
       "Syncing run <strong><a href='https://wandb.ai/dmitrii_fomin_uga/Internship_project/runs/kmu5tv59' target=\"_blank\">EM_FocalLoss()_RUS-0.8</a></strong> to <a href='https://wandb.ai/dmitrii_fomin_uga/Internship_project' target=\"_blank\">Weights & Biases</a> (<a href='https://wandb.me/run' target=\"_blank\">docs</a>)<br/>"
      ],
      "text/plain": [
       "<IPython.core.display.HTML object>"
      ]
     },
     "metadata": {},
     "output_type": "display_data"
    },
    {
     "data": {
      "text/html": [
       " View project at <a href='https://wandb.ai/dmitrii_fomin_uga/Internship_project' target=\"_blank\">https://wandb.ai/dmitrii_fomin_uga/Internship_project</a>"
      ],
      "text/plain": [
       "<IPython.core.display.HTML object>"
      ]
     },
     "metadata": {},
     "output_type": "display_data"
    },
    {
     "data": {
      "text/html": [
       " View run at <a href='https://wandb.ai/dmitrii_fomin_uga/Internship_project/runs/kmu5tv59' target=\"_blank\">https://wandb.ai/dmitrii_fomin_uga/Internship_project/runs/kmu5tv59</a>"
      ],
      "text/plain": [
       "<IPython.core.display.HTML object>"
      ]
     },
     "metadata": {},
     "output_type": "display_data"
    },
    {
     "data": {
      "text/html": [
       "Waiting for W&B process to finish... <strong style=\"color:green\">(success).</strong>"
      ],
      "text/plain": [
       "<IPython.core.display.HTML object>"
      ]
     },
     "metadata": {},
     "output_type": "display_data"
    },
    {
     "data": {
      "text/html": [
       "<style>\n",
       "    table.wandb td:nth-child(1) { padding: 0 10px; text-align: left ; width: auto;} td:nth-child(2) {text-align: left ; width: 100%}\n",
       "    .wandb-row { display: flex; flex-direction: row; flex-wrap: wrap; justify-content: flex-start; width: 100% }\n",
       "    .wandb-col { display: flex; flex-direction: column; flex-basis: 100%; flex: 1; padding: 10px; }\n",
       "    </style>\n",
       "<div class=\"wandb-row\"><div class=\"wandb-col\"><h3>Run history:</h3><br/><table class=\"wandb\"><tr><td>epoch</td><td>▁▁▁▂▂▂▂▂▂▃▃▃▃▃▄▄▄▄▄▄▅▅▅▅▅▅▆▆▆▆▆▇▇▇▇▇▇███</td></tr><tr><td>lr</td><td>█▇▇▆▆▅▅▄▄▄▃▃▃▃▃▂▂▂▂▂▂▂▂▂▁▁▁▁▁▁▁▁▁▁▁▁▁▁▁▁</td></tr><tr><td>test_accuracy</td><td>▁▃▆▇████████████████████████████████████</td></tr><tr><td>test_auc_score</td><td>▁▇▇█▇▇▇▇▇███████████████████████████████</td></tr><tr><td>test_f1_score</td><td>▁▃▅▆▆▇▇▇█▇██▇███▇███████████████████████</td></tr><tr><td>test_fpr</td><td>█▆▃▂▁▁▁▁▁▁▁▁▁▁▁▁▁▁▁▁▁▁▁▁▁▁▁▁▁▁▁▁▁▁▁▁▁▁▁▁</td></tr><tr><td>test_loss</td><td>█▇▄▂▂▁▁▁▁▁▁▁▁▁▁▁▁▁▁▁▁▁▁▁▁▁▁▁▁▁▁▁▁▁▁▁▁▁▁▁</td></tr><tr><td>test_tpr</td><td>▇█▇▆▄▄▁▃▄▁▄▂▄▂▃▃▁▅▂▅▄▄▅▅▄▄▅▅▄▄▅▄▅▅▄▅▅▅▄▄</td></tr><tr><td>train_accuracy</td><td>▁▇▇▇████████████████████████████████████</td></tr><tr><td>train_auc_score</td><td>▁▄▅▇▇▇▇▇▇▇▇▇█▇▇██▇██▇█████████▇█████████</td></tr><tr><td>train_f1_score</td><td>▁▅▆▆▆▇▇▇▇▇▇▇▇▇▇▇▇▇▇█████████████████████</td></tr><tr><td>train_fpr</td><td>█▁▁▁▁▁▁▁▁▁▁▁▁▁▁▁▁▁▁▁▁▁▁▁▁▁▁▁▁▁▁▁▁▁▁▁▁▁▁▁</td></tr><tr><td>train_loss</td><td>█▄▃▂▂▂▂▁▁▁▁▁▁▁▁▁▁▁▁▁▁▁▁▁▁▁▁▁▁▁▁▁▁▁▁▁▁▁▁▁</td></tr><tr><td>train_tpr</td><td>▆▁▁▂▃▄▃▄▄▄▅▆▄▆▆▆▆▆▇▆▆▇▆▇▇▇▇█▇█▇█▇███▇███</td></tr></table><br/></div><div class=\"wandb-col\"><h3>Run summary:</h3><br/><table class=\"wandb\"><tr><td>epoch</td><td>39</td></tr><tr><td>lr</td><td>0.00015</td></tr><tr><td>test_accuracy</td><td>0.97655</td></tr><tr><td>test_auc_score</td><td>0.948</td></tr><tr><td>test_f1_score</td><td>0.83672</td></tr><tr><td>test_fpr</td><td>0.01534</td></tr><tr><td>test_loss</td><td>0.02923</td></tr><tr><td>test_tpr</td><td>0.74613</td></tr><tr><td>train_accuracy</td><td>0.98601</td></tr><tr><td>train_auc_score</td><td>0.9523</td></tr><tr><td>train_f1_score</td><td>0.94152</td></tr><tr><td>train_fpr</td><td>0.00299</td></tr><tr><td>train_loss</td><td>0.02788</td></tr><tr><td>train_tpr</td><td>0.83687</td></tr></table><br/></div></div>"
      ],
      "text/plain": [
       "<IPython.core.display.HTML object>"
      ]
     },
     "metadata": {},
     "output_type": "display_data"
    },
    {
     "data": {
      "text/html": [
       " View run <strong style=\"color:#cdcd00\">EM_FocalLoss()_RUS-0.8</strong> at: <a href='https://wandb.ai/dmitrii_fomin_uga/Internship_project/runs/kmu5tv59' target=\"_blank\">https://wandb.ai/dmitrii_fomin_uga/Internship_project/runs/kmu5tv59</a><br/>Synced 5 W&B file(s), 0 media file(s), 0 artifact file(s) and 0 other file(s)"
      ],
      "text/plain": [
       "<IPython.core.display.HTML object>"
      ]
     },
     "metadata": {},
     "output_type": "display_data"
    },
    {
     "data": {
      "text/html": [
       "Find logs at: <code>../logs/wandb\\run-20230702_141634-kmu5tv59\\logs</code>"
      ],
      "text/plain": [
       "<IPython.core.display.HTML object>"
      ]
     },
     "metadata": {},
     "output_type": "display_data"
    },
    {
     "data": {
      "text/html": [
       "Tracking run with wandb version 0.15.4"
      ],
      "text/plain": [
       "<IPython.core.display.HTML object>"
      ]
     },
     "metadata": {},
     "output_type": "display_data"
    },
    {
     "data": {
      "text/html": [
       "Run data is saved locally in <code>../logs/wandb\\run-20230702_141648-l46qfy33</code>"
      ],
      "text/plain": [
       "<IPython.core.display.HTML object>"
      ]
     },
     "metadata": {},
     "output_type": "display_data"
    },
    {
     "data": {
      "text/html": [
       "Syncing run <strong><a href='https://wandb.ai/dmitrii_fomin_uga/Internship_project/runs/l46qfy33' target=\"_blank\">EM_FocalLoss()_RUS-1</a></strong> to <a href='https://wandb.ai/dmitrii_fomin_uga/Internship_project' target=\"_blank\">Weights & Biases</a> (<a href='https://wandb.me/run' target=\"_blank\">docs</a>)<br/>"
      ],
      "text/plain": [
       "<IPython.core.display.HTML object>"
      ]
     },
     "metadata": {},
     "output_type": "display_data"
    },
    {
     "data": {
      "text/html": [
       " View project at <a href='https://wandb.ai/dmitrii_fomin_uga/Internship_project' target=\"_blank\">https://wandb.ai/dmitrii_fomin_uga/Internship_project</a>"
      ],
      "text/plain": [
       "<IPython.core.display.HTML object>"
      ]
     },
     "metadata": {},
     "output_type": "display_data"
    },
    {
     "data": {
      "text/html": [
       " View run at <a href='https://wandb.ai/dmitrii_fomin_uga/Internship_project/runs/l46qfy33' target=\"_blank\">https://wandb.ai/dmitrii_fomin_uga/Internship_project/runs/l46qfy33</a>"
      ],
      "text/plain": [
       "<IPython.core.display.HTML object>"
      ]
     },
     "metadata": {},
     "output_type": "display_data"
    },
    {
     "data": {
      "text/html": [
       "Waiting for W&B process to finish... <strong style=\"color:green\">(success).</strong>"
      ],
      "text/plain": [
       "<IPython.core.display.HTML object>"
      ]
     },
     "metadata": {},
     "output_type": "display_data"
    },
    {
     "data": {
      "text/html": [
       "<style>\n",
       "    table.wandb td:nth-child(1) { padding: 0 10px; text-align: left ; width: auto;} td:nth-child(2) {text-align: left ; width: 100%}\n",
       "    .wandb-row { display: flex; flex-direction: row; flex-wrap: wrap; justify-content: flex-start; width: 100% }\n",
       "    .wandb-col { display: flex; flex-direction: column; flex-basis: 100%; flex: 1; padding: 10px; }\n",
       "    </style>\n",
       "<div class=\"wandb-row\"><div class=\"wandb-col\"><h3>Run history:</h3><br/><table class=\"wandb\"><tr><td>epoch</td><td>▁▁▁▂▂▂▂▂▂▃▃▃▃▃▄▄▄▄▄▄▅▅▅▅▅▅▆▆▆▆▆▇▇▇▇▇▇███</td></tr><tr><td>lr</td><td>█▇▇▆▆▅▅▄▄▄▃▃▃▃▃▂▂▂▂▂▂▂▂▂▁▁▁▁▁▁▁▁▁▁▁▁▁▁▁▁</td></tr><tr><td>test_accuracy</td><td>▁█▇█████████████████████████████████████</td></tr><tr><td>test_auc_score</td><td>▁▁▃▅▆▆▇▇█▇███▇▇▇▇▇▇▇▇▇█▇███████████▇██▇█</td></tr><tr><td>test_f1_score</td><td>▁███████████████████████████████████████</td></tr><tr><td>test_fpr</td><td>█▁▂▁▁▁▁▁▁▁▁▁▁▁▁▁▁▁▁▁▁▁▁▁▁▁▁▁▁▁▁▁▁▁▁▁▁▁▁▁</td></tr><tr><td>test_loss</td><td>█▆▄▂▂▁▁▁▁▁▁▁▁▁▁▁▁▁▁▁▁▁▁▁▁▁▁▁▁▁▁▁▁▁▁▁▁▁▁▁</td></tr><tr><td>test_tpr</td><td>█▁▁▁▁▁▁▁▁▁▁▁▁▁▁▁▁▁▁▁▁▁▁▁▁▁▁▁▁▁▁▁▁▁▁▁▁▁▁▁</td></tr><tr><td>train_accuracy</td><td>▁███████████████████████████████████████</td></tr><tr><td>train_auc_score</td><td>▁▆▇▇▇▇▇▇▇███████████████████████████████</td></tr><tr><td>train_f1_score</td><td>▁██▃▁▁▁▁▁▁▁▁▁▁▁▁▁▁▁▁▁▁▁▁▁▁▁▁▁▁▁▁▁▁▁▁▁▁▁▁</td></tr><tr><td>train_fpr</td><td>█▁▁▁▁▁▁▁▁▁▁▁▁▁▁▁▁▁▁▁▁▁▁▁▁▁▁▁▁▁▁▁▁▁▁▁▁▁▁▁</td></tr><tr><td>train_loss</td><td>█▄▂▂▂▁▁▁▁▁▁▁▁▁▁▁▁▁▁▁▁▁▁▁▁▁▁▁▁▁▁▁▁▁▁▁▁▁▁▁</td></tr><tr><td>train_tpr</td><td>█▅▅▂▁▁▁▁▁▁▁▁▁▁▁▁▁▁▁▁▁▁▁▁▁▁▁▁▁▁▁▁▁▁▁▁▁▁▁▁</td></tr></table><br/></div><div class=\"wandb-col\"><h3>Run summary:</h3><br/><table class=\"wandb\"><tr><td>epoch</td><td>39</td></tr><tr><td>lr</td><td>0.00015</td></tr><tr><td>test_accuracy</td><td>0.96611</td></tr><tr><td>test_auc_score</td><td>0.91513</td></tr><tr><td>test_f1_score</td><td>0.49138</td></tr><tr><td>test_fpr</td><td>0.0</td></tr><tr><td>test_loss</td><td>0.02945</td></tr><tr><td>test_tpr</td><td>0.0</td></tr><tr><td>train_accuracy</td><td>0.93265</td></tr><tr><td>train_auc_score</td><td>0.93179</td></tr><tr><td>train_f1_score</td><td>0.48257</td></tr><tr><td>train_fpr</td><td>0.0</td></tr><tr><td>train_loss</td><td>0.03174</td></tr><tr><td>train_tpr</td><td>0.0</td></tr></table><br/></div></div>"
      ],
      "text/plain": [
       "<IPython.core.display.HTML object>"
      ]
     },
     "metadata": {},
     "output_type": "display_data"
    },
    {
     "data": {
      "text/html": [
       " View run <strong style=\"color:#cdcd00\">EM_FocalLoss()_RUS-1</strong> at: <a href='https://wandb.ai/dmitrii_fomin_uga/Internship_project/runs/l46qfy33' target=\"_blank\">https://wandb.ai/dmitrii_fomin_uga/Internship_project/runs/l46qfy33</a><br/>Synced 5 W&B file(s), 0 media file(s), 0 artifact file(s) and 0 other file(s)"
      ],
      "text/plain": [
       "<IPython.core.display.HTML object>"
      ]
     },
     "metadata": {},
     "output_type": "display_data"
    },
    {
     "data": {
      "text/html": [
       "Find logs at: <code>../logs/wandb\\run-20230702_141648-l46qfy33\\logs</code>"
      ],
      "text/plain": [
       "<IPython.core.display.HTML object>"
      ]
     },
     "metadata": {},
     "output_type": "display_data"
    },
    {
     "data": {
      "text/html": [
       "Tracking run with wandb version 0.15.4"
      ],
      "text/plain": [
       "<IPython.core.display.HTML object>"
      ]
     },
     "metadata": {},
     "output_type": "display_data"
    },
    {
     "data": {
      "text/html": [
       "Run data is saved locally in <code>../logs/wandb\\run-20230702_141702-n5lm14hy</code>"
      ],
      "text/plain": [
       "<IPython.core.display.HTML object>"
      ]
     },
     "metadata": {},
     "output_type": "display_data"
    },
    {
     "data": {
      "text/html": [
       "Syncing run <strong><a href='https://wandb.ai/dmitrii_fomin_uga/Internship_project/runs/n5lm14hy' target=\"_blank\">EM_FocalLoss()_SMOTE-0.05</a></strong> to <a href='https://wandb.ai/dmitrii_fomin_uga/Internship_project' target=\"_blank\">Weights & Biases</a> (<a href='https://wandb.me/run' target=\"_blank\">docs</a>)<br/>"
      ],
      "text/plain": [
       "<IPython.core.display.HTML object>"
      ]
     },
     "metadata": {},
     "output_type": "display_data"
    },
    {
     "data": {
      "text/html": [
       " View project at <a href='https://wandb.ai/dmitrii_fomin_uga/Internship_project' target=\"_blank\">https://wandb.ai/dmitrii_fomin_uga/Internship_project</a>"
      ],
      "text/plain": [
       "<IPython.core.display.HTML object>"
      ]
     },
     "metadata": {},
     "output_type": "display_data"
    },
    {
     "data": {
      "text/html": [
       " View run at <a href='https://wandb.ai/dmitrii_fomin_uga/Internship_project/runs/n5lm14hy' target=\"_blank\">https://wandb.ai/dmitrii_fomin_uga/Internship_project/runs/n5lm14hy</a>"
      ],
      "text/plain": [
       "<IPython.core.display.HTML object>"
      ]
     },
     "metadata": {},
     "output_type": "display_data"
    },
    {
     "data": {
      "text/html": [
       "Waiting for W&B process to finish... <strong style=\"color:green\">(success).</strong>"
      ],
      "text/plain": [
       "<IPython.core.display.HTML object>"
      ]
     },
     "metadata": {},
     "output_type": "display_data"
    },
    {
     "data": {
      "text/html": [
       "<style>\n",
       "    table.wandb td:nth-child(1) { padding: 0 10px; text-align: left ; width: auto;} td:nth-child(2) {text-align: left ; width: 100%}\n",
       "    .wandb-row { display: flex; flex-direction: row; flex-wrap: wrap; justify-content: flex-start; width: 100% }\n",
       "    .wandb-col { display: flex; flex-direction: column; flex-basis: 100%; flex: 1; padding: 10px; }\n",
       "    </style>\n",
       "<div class=\"wandb-row\"><div class=\"wandb-col\"><h3>Run history:</h3><br/><table class=\"wandb\"><tr><td>epoch</td><td>▁▁▁▂▂▂▂▂▂▃▃▃▃▃▄▄▄▄▄▄▅▅▅▅▅▅▆▆▆▆▆▇▇▇▇▇▇███</td></tr><tr><td>lr</td><td>█▇▇▆▆▅▅▄▄▄▃▃▃▃▃▂▂▂▂▂▂▂▂▂▁▁▁▁▁▁▁▁▁▁▁▁▁▁▁▁</td></tr><tr><td>test_accuracy</td><td>▁▂▅▇████████████████████████████████████</td></tr><tr><td>test_auc_score</td><td>▄▅▄▄▆▆▇▁▂▄▅▅▅▅▇▅▆▅▆▇█▄▆▆▆▇▇▆▆▇▆▇▆▇▆▆▆▆▆▆</td></tr><tr><td>test_f1_score</td><td>▁▂▄▆▆▇▇▇▇▇▇▇▇▇██▇▇██████████████████████</td></tr><tr><td>test_fpr</td><td>█▇▄▂▁▁▁▁▁▁▁▁▁▁▁▁▁▁▁▁▁▁▁▁▁▁▁▁▁▁▁▁▁▁▁▁▁▁▁▁</td></tr><tr><td>test_loss</td><td>█▅▃▂▁▁▁▁▁▁▁▁▁▁▁▁▁▁▁▁▁▁▁▁▁▁▁▁▁▁▁▁▁▁▁▁▁▁▁▁</td></tr><tr><td>test_tpr</td><td>██▇▆▄▄▃▃▂▃▂▁▂▂▃▃▃▃▅▄▄▄▄▄▃▄▅▅▄▄▄▄▅▅▅▄▅▅▅▅</td></tr><tr><td>train_accuracy</td><td>▁▆▇▇▇▇▇▇▇▇▇▇▇▇██████████████████████████</td></tr><tr><td>train_auc_score</td><td>▁▅▅▅▇▇▇▇▇▇▇▇▇▇█████▇████████████████████</td></tr><tr><td>train_f1_score</td><td>▁▄▅▄▅▆▆▆▆▆▆▆▆▆▇▇▇▇▇▇▇█▇█████████████████</td></tr><tr><td>train_fpr</td><td>█▂▁▁▁▁▁▁▁▁▁▁▁▁▁▁▁▁▁▁▁▁▁▁▁▁▁▁▁▁▁▁▁▁▁▁▁▁▁▁</td></tr><tr><td>train_loss</td><td>█▅▃▃▂▂▂▂▁▁▁▁▁▁▁▁▁▁▁▁▁▁▁▁▁▁▁▁▁▁▁▁▁▁▁▁▁▁▁▁</td></tr><tr><td>train_tpr</td><td>▄▄▃▁▂▃▃▄▄▄▅▅▅▅▅▆▆▆▆▇▆▇▇▇▇▇▇▇▇▇▇█████████</td></tr></table><br/></div><div class=\"wandb-col\"><h3>Run summary:</h3><br/><table class=\"wandb\"><tr><td>epoch</td><td>39</td></tr><tr><td>lr</td><td>0.00015</td></tr><tr><td>test_accuracy</td><td>0.98263</td></tr><tr><td>test_auc_score</td><td>0.9238</td></tr><tr><td>test_f1_score</td><td>0.87195</td></tr><tr><td>test_fpr</td><td>0.0097</td></tr><tr><td>test_loss</td><td>0.02922</td></tr><tr><td>test_tpr</td><td>0.77016</td></tr><tr><td>train_accuracy</td><td>0.98919</td></tr><tr><td>train_auc_score</td><td>0.95629</td></tr><tr><td>train_f1_score</td><td>0.93498</td></tr><tr><td>train_fpr</td><td>0.00147</td></tr><tr><td>train_loss</td><td>0.02795</td></tr><tr><td>train_tpr</td><td>0.80551</td></tr></table><br/></div></div>"
      ],
      "text/plain": [
       "<IPython.core.display.HTML object>"
      ]
     },
     "metadata": {},
     "output_type": "display_data"
    },
    {
     "data": {
      "text/html": [
       " View run <strong style=\"color:#cdcd00\">EM_FocalLoss()_SMOTE-0.05</strong> at: <a href='https://wandb.ai/dmitrii_fomin_uga/Internship_project/runs/n5lm14hy' target=\"_blank\">https://wandb.ai/dmitrii_fomin_uga/Internship_project/runs/n5lm14hy</a><br/>Synced 5 W&B file(s), 0 media file(s), 0 artifact file(s) and 0 other file(s)"
      ],
      "text/plain": [
       "<IPython.core.display.HTML object>"
      ]
     },
     "metadata": {},
     "output_type": "display_data"
    },
    {
     "data": {
      "text/html": [
       "Find logs at: <code>../logs/wandb\\run-20230702_141702-n5lm14hy\\logs</code>"
      ],
      "text/plain": [
       "<IPython.core.display.HTML object>"
      ]
     },
     "metadata": {},
     "output_type": "display_data"
    },
    {
     "data": {
      "text/html": [
       "Tracking run with wandb version 0.15.4"
      ],
      "text/plain": [
       "<IPython.core.display.HTML object>"
      ]
     },
     "metadata": {},
     "output_type": "display_data"
    },
    {
     "data": {
      "text/html": [
       "Run data is saved locally in <code>../logs/wandb\\run-20230702_141716-777tidjc</code>"
      ],
      "text/plain": [
       "<IPython.core.display.HTML object>"
      ]
     },
     "metadata": {},
     "output_type": "display_data"
    },
    {
     "data": {
      "text/html": [
       "Syncing run <strong><a href='https://wandb.ai/dmitrii_fomin_uga/Internship_project/runs/777tidjc' target=\"_blank\">EM_FocalLoss()_SMOTE-0.1</a></strong> to <a href='https://wandb.ai/dmitrii_fomin_uga/Internship_project' target=\"_blank\">Weights & Biases</a> (<a href='https://wandb.me/run' target=\"_blank\">docs</a>)<br/>"
      ],
      "text/plain": [
       "<IPython.core.display.HTML object>"
      ]
     },
     "metadata": {},
     "output_type": "display_data"
    },
    {
     "data": {
      "text/html": [
       " View project at <a href='https://wandb.ai/dmitrii_fomin_uga/Internship_project' target=\"_blank\">https://wandb.ai/dmitrii_fomin_uga/Internship_project</a>"
      ],
      "text/plain": [
       "<IPython.core.display.HTML object>"
      ]
     },
     "metadata": {},
     "output_type": "display_data"
    },
    {
     "data": {
      "text/html": [
       " View run at <a href='https://wandb.ai/dmitrii_fomin_uga/Internship_project/runs/777tidjc' target=\"_blank\">https://wandb.ai/dmitrii_fomin_uga/Internship_project/runs/777tidjc</a>"
      ],
      "text/plain": [
       "<IPython.core.display.HTML object>"
      ]
     },
     "metadata": {},
     "output_type": "display_data"
    },
    {
     "data": {
      "text/html": [
       "Waiting for W&B process to finish... <strong style=\"color:green\">(success).</strong>"
      ],
      "text/plain": [
       "<IPython.core.display.HTML object>"
      ]
     },
     "metadata": {},
     "output_type": "display_data"
    },
    {
     "data": {
      "text/html": [
       "<style>\n",
       "    table.wandb td:nth-child(1) { padding: 0 10px; text-align: left ; width: auto;} td:nth-child(2) {text-align: left ; width: 100%}\n",
       "    .wandb-row { display: flex; flex-direction: row; flex-wrap: wrap; justify-content: flex-start; width: 100% }\n",
       "    .wandb-col { display: flex; flex-direction: column; flex-basis: 100%; flex: 1; padding: 10px; }\n",
       "    </style>\n",
       "<div class=\"wandb-row\"><div class=\"wandb-col\"><h3>Run history:</h3><br/><table class=\"wandb\"><tr><td>epoch</td><td>▁▁▁▂▂▂▂▂▂▃▃▃▃▃▄▄▄▄▄▄▅▅▅▅▅▅▆▆▆▆▆▇▇▇▇▇▇███</td></tr><tr><td>lr</td><td>█▇▇▆▆▅▅▄▄▄▃▃▃▃▃▂▂▂▂▂▂▂▂▂▁▁▁▁▁▁▁▁▁▁▁▁▁▁▁▁</td></tr><tr><td>test_accuracy</td><td>▆▆▆▆▂▂▁▃▅▆▅█▇▂▆▆▆▅▄▇▃▄▅█▅▆█▇█▆▅█▇▆▇▇▇▇▆▇</td></tr><tr><td>test_auc_score</td><td>▁▃▆▇█▇█████▇▇█▇▇████████████████████████</td></tr><tr><td>test_f1_score</td><td>▁▁▁▁▆▆▆▆▇▇▇█▇▆▇▇▇▇▇█▇▇▇█▇████▇▇██▇██████</td></tr><tr><td>test_fpr</td><td>▁▁▁▁▇▇█▆▆▅▅▃▄▇▅▅▅▆▆▄▇▇▆▄▆▅▄▄▄▅▆▄▅▅▅▄▄▄▅▄</td></tr><tr><td>test_loss</td><td>█▄▂▂▁▁▁▁▁▁▁▁▁▁▁▁▁▁▁▁▁▁▁▁▁▁▁▁▁▁▁▁▁▁▁▁▁▁▁▁</td></tr><tr><td>test_tpr</td><td>▁▁▁▁▆▆▇▇▇▇▇▆▇▇▇▇█▇█▇███▇██▇▇▇▇█████████▇</td></tr><tr><td>train_accuracy</td><td>▁▄▄▄▅▆▆▇▇▇▇▇▇▇▇▇█▇▇▇▇▇▇█████████████████</td></tr><tr><td>train_auc_score</td><td>▁▅▅▅▆▆▇▇▇▇▇▇▇▇█▇▇▇▇▇██▇▇███▇█▇█████▇████</td></tr><tr><td>train_f1_score</td><td>▄▁▁▁▃▆▇▇▇▇▇▇▇▇▇▇████▇█▇█████████████████</td></tr><tr><td>train_fpr</td><td>█▁▁▁▁▂▂▂▂▂▂▂▂▂▂▂▂▂▂▂▁▂▂▁▁▂▁▁▁▁▂▁▁▁▁▁▁▁▁▁</td></tr><tr><td>train_loss</td><td>█▄▃▃▂▂▂▂▂▁▁▁▁▁▁▁▁▁▁▁▁▁▁▁▁▁▁▁▁▁▁▁▁▁▁▁▁▁▁▁</td></tr><tr><td>train_tpr</td><td>▅▁▁▁▃▆▆▇▇▇▇▇▇▇██████▇██▇████████████████</td></tr></table><br/></div><div class=\"wandb-col\"><h3>Run summary:</h3><br/><table class=\"wandb\"><tr><td>epoch</td><td>39</td></tr><tr><td>lr</td><td>0.00015</td></tr><tr><td>test_accuracy</td><td>0.97132</td></tr><tr><td>test_auc_score</td><td>0.92357</td></tr><tr><td>test_f1_score</td><td>0.8121</td></tr><tr><td>test_fpr</td><td>0.02138</td></tr><tr><td>test_loss</td><td>0.02933</td></tr><tr><td>test_tpr</td><td>0.75879</td></tr><tr><td>train_accuracy</td><td>0.98216</td></tr><tr><td>train_auc_score</td><td>0.96293</td></tr><tr><td>train_f1_score</td><td>0.94276</td></tr><tr><td>train_fpr</td><td>0.00439</td></tr><tr><td>train_loss</td><td>0.0275</td></tr><tr><td>train_tpr</td><td>0.84755</td></tr></table><br/></div></div>"
      ],
      "text/plain": [
       "<IPython.core.display.HTML object>"
      ]
     },
     "metadata": {},
     "output_type": "display_data"
    },
    {
     "data": {
      "text/html": [
       " View run <strong style=\"color:#cdcd00\">EM_FocalLoss()_SMOTE-0.1</strong> at: <a href='https://wandb.ai/dmitrii_fomin_uga/Internship_project/runs/777tidjc' target=\"_blank\">https://wandb.ai/dmitrii_fomin_uga/Internship_project/runs/777tidjc</a><br/>Synced 5 W&B file(s), 0 media file(s), 0 artifact file(s) and 0 other file(s)"
      ],
      "text/plain": [
       "<IPython.core.display.HTML object>"
      ]
     },
     "metadata": {},
     "output_type": "display_data"
    },
    {
     "data": {
      "text/html": [
       "Find logs at: <code>../logs/wandb\\run-20230702_141716-777tidjc\\logs</code>"
      ],
      "text/plain": [
       "<IPython.core.display.HTML object>"
      ]
     },
     "metadata": {},
     "output_type": "display_data"
    },
    {
     "data": {
      "text/html": [
       "Tracking run with wandb version 0.15.4"
      ],
      "text/plain": [
       "<IPython.core.display.HTML object>"
      ]
     },
     "metadata": {},
     "output_type": "display_data"
    },
    {
     "data": {
      "text/html": [
       "Run data is saved locally in <code>../logs/wandb\\run-20230702_141731-zf2h4g0e</code>"
      ],
      "text/plain": [
       "<IPython.core.display.HTML object>"
      ]
     },
     "metadata": {},
     "output_type": "display_data"
    },
    {
     "data": {
      "text/html": [
       "Syncing run <strong><a href='https://wandb.ai/dmitrii_fomin_uga/Internship_project/runs/zf2h4g0e' target=\"_blank\">EM_FocalLoss()_SMOTE-0.2</a></strong> to <a href='https://wandb.ai/dmitrii_fomin_uga/Internship_project' target=\"_blank\">Weights & Biases</a> (<a href='https://wandb.me/run' target=\"_blank\">docs</a>)<br/>"
      ],
      "text/plain": [
       "<IPython.core.display.HTML object>"
      ]
     },
     "metadata": {},
     "output_type": "display_data"
    },
    {
     "data": {
      "text/html": [
       " View project at <a href='https://wandb.ai/dmitrii_fomin_uga/Internship_project' target=\"_blank\">https://wandb.ai/dmitrii_fomin_uga/Internship_project</a>"
      ],
      "text/plain": [
       "<IPython.core.display.HTML object>"
      ]
     },
     "metadata": {},
     "output_type": "display_data"
    },
    {
     "data": {
      "text/html": [
       " View run at <a href='https://wandb.ai/dmitrii_fomin_uga/Internship_project/runs/zf2h4g0e' target=\"_blank\">https://wandb.ai/dmitrii_fomin_uga/Internship_project/runs/zf2h4g0e</a>"
      ],
      "text/plain": [
       "<IPython.core.display.HTML object>"
      ]
     },
     "metadata": {},
     "output_type": "display_data"
    },
    {
     "data": {
      "text/html": [
       "Waiting for W&B process to finish... <strong style=\"color:green\">(success).</strong>"
      ],
      "text/plain": [
       "<IPython.core.display.HTML object>"
      ]
     },
     "metadata": {},
     "output_type": "display_data"
    },
    {
     "data": {
      "text/html": [
       "<style>\n",
       "    table.wandb td:nth-child(1) { padding: 0 10px; text-align: left ; width: auto;} td:nth-child(2) {text-align: left ; width: 100%}\n",
       "    .wandb-row { display: flex; flex-direction: row; flex-wrap: wrap; justify-content: flex-start; width: 100% }\n",
       "    .wandb-col { display: flex; flex-direction: column; flex-basis: 100%; flex: 1; padding: 10px; }\n",
       "    </style>\n",
       "<div class=\"wandb-row\"><div class=\"wandb-col\"><h3>Run history:</h3><br/><table class=\"wandb\"><tr><td>epoch</td><td>▁▁▁▂▂▂▂▂▂▃▃▃▃▃▄▄▄▄▄▄▅▅▅▅▅▅▆▆▆▆▆▇▇▇▇▇▇███</td></tr><tr><td>lr</td><td>█▇▇▆▆▅▅▄▄▄▃▃▃▃▃▂▂▂▂▂▂▂▂▂▁▁▁▁▁▁▁▁▁▁▁▁▁▁▁▁</td></tr><tr><td>test_accuracy</td><td>█▁▂▅▆▆▆▆▆▆▆▆▆▆▆▆▆▆▆▆▆▆▆▆▆▇▆▇▆▆▆▆▆▆▆▆▆▆▆▆</td></tr><tr><td>test_auc_score</td><td>▁▅▇▇▆▇█▇▇▇▇█▇█▇▇█▇▇████▇▇▇███▇▇▇▇▇▇█▇███</td></tr><tr><td>test_f1_score</td><td>▁▃▄▆▆▆█▇▇▇▇▇▇▇▇▇▇█▇▇██▇▇▇█▇███▇▇██▇▇▇▇██</td></tr><tr><td>test_fpr</td><td>▁█▇▅▄▄▃▄▄▄▄▄▄▄▄▄▄▄▄▄▄▄▄▄▄▃▄▃▄▄▄▄▄▄▄▄▄▄▄▄</td></tr><tr><td>test_loss</td><td>▇█▄▂▂▂▁▁▁▂▂▁▁▁▂▁▁▁▂▂▁▁▁▁▁▁▁▁▁▁▂▁▁▁▁▁▂▂▁▁</td></tr><tr><td>test_tpr</td><td>▁▇█▇▇██▇████▇███████████████████████████</td></tr><tr><td>train_accuracy</td><td>▁▅▆▆▇▇▇▇▇▇▇▇▇▇▇▇▇▇██████████████████████</td></tr><tr><td>train_auc_score</td><td>▁▇▇█████████████████████████████████████</td></tr><tr><td>train_f1_score</td><td>▁▆▇▇▇▇▇▇▇▇▇█████████████████████████████</td></tr><tr><td>train_fpr</td><td>▁▆███▇█▆▇▇█▇▇▅▆▅▆▄▄▅▄▄▃▄▃▃▃▃▃▃▃▃▃▃▂▃▃▄▃▃</td></tr><tr><td>train_loss</td><td>█▄▃▃▂▂▂▂▂▂▂▁▁▁▁▁▁▁▁▁▁▁▁▁▁▁▁▁▁▁▁▁▁▁▁▁▁▁▁▁</td></tr><tr><td>train_tpr</td><td>▁▅▆▇▇▇▇▇▇▇██████████████████████████████</td></tr></table><br/></div><div class=\"wandb-col\"><h3>Run summary:</h3><br/><table class=\"wandb\"><tr><td>epoch</td><td>39</td></tr><tr><td>lr</td><td>0.00015</td></tr><tr><td>test_accuracy</td><td>0.93029</td></tr><tr><td>test_auc_score</td><td>0.93559</td></tr><tr><td>test_f1_score</td><td>0.70651</td></tr><tr><td>test_fpr</td><td>0.06663</td></tr><tr><td>test_loss</td><td>0.03758</td></tr><tr><td>test_tpr</td><td>0.84149</td></tr><tr><td>train_accuracy</td><td>0.97885</td></tr><tr><td>train_auc_score</td><td>0.97616</td></tr><tr><td>train_f1_score</td><td>0.96153</td></tr><tr><td>train_fpr</td><td>0.01002</td></tr><tr><td>train_loss</td><td>0.02755</td></tr><tr><td>train_tpr</td><td>0.92397</td></tr></table><br/></div></div>"
      ],
      "text/plain": [
       "<IPython.core.display.HTML object>"
      ]
     },
     "metadata": {},
     "output_type": "display_data"
    },
    {
     "data": {
      "text/html": [
       " View run <strong style=\"color:#cdcd00\">EM_FocalLoss()_SMOTE-0.2</strong> at: <a href='https://wandb.ai/dmitrii_fomin_uga/Internship_project/runs/zf2h4g0e' target=\"_blank\">https://wandb.ai/dmitrii_fomin_uga/Internship_project/runs/zf2h4g0e</a><br/>Synced 5 W&B file(s), 0 media file(s), 0 artifact file(s) and 0 other file(s)"
      ],
      "text/plain": [
       "<IPython.core.display.HTML object>"
      ]
     },
     "metadata": {},
     "output_type": "display_data"
    },
    {
     "data": {
      "text/html": [
       "Find logs at: <code>../logs/wandb\\run-20230702_141731-zf2h4g0e\\logs</code>"
      ],
      "text/plain": [
       "<IPython.core.display.HTML object>"
      ]
     },
     "metadata": {},
     "output_type": "display_data"
    },
    {
     "data": {
      "text/html": [
       "Tracking run with wandb version 0.15.4"
      ],
      "text/plain": [
       "<IPython.core.display.HTML object>"
      ]
     },
     "metadata": {},
     "output_type": "display_data"
    },
    {
     "data": {
      "text/html": [
       "Run data is saved locally in <code>../logs/wandb\\run-20230702_141747-r9nf3rur</code>"
      ],
      "text/plain": [
       "<IPython.core.display.HTML object>"
      ]
     },
     "metadata": {},
     "output_type": "display_data"
    },
    {
     "data": {
      "text/html": [
       "Syncing run <strong><a href='https://wandb.ai/dmitrii_fomin_uga/Internship_project/runs/r9nf3rur' target=\"_blank\">EM_FocalLoss()_SMOTE-0.3</a></strong> to <a href='https://wandb.ai/dmitrii_fomin_uga/Internship_project' target=\"_blank\">Weights & Biases</a> (<a href='https://wandb.me/run' target=\"_blank\">docs</a>)<br/>"
      ],
      "text/plain": [
       "<IPython.core.display.HTML object>"
      ]
     },
     "metadata": {},
     "output_type": "display_data"
    },
    {
     "data": {
      "text/html": [
       " View project at <a href='https://wandb.ai/dmitrii_fomin_uga/Internship_project' target=\"_blank\">https://wandb.ai/dmitrii_fomin_uga/Internship_project</a>"
      ],
      "text/plain": [
       "<IPython.core.display.HTML object>"
      ]
     },
     "metadata": {},
     "output_type": "display_data"
    },
    {
     "data": {
      "text/html": [
       " View run at <a href='https://wandb.ai/dmitrii_fomin_uga/Internship_project/runs/r9nf3rur' target=\"_blank\">https://wandb.ai/dmitrii_fomin_uga/Internship_project/runs/r9nf3rur</a>"
      ],
      "text/plain": [
       "<IPython.core.display.HTML object>"
      ]
     },
     "metadata": {},
     "output_type": "display_data"
    },
    {
     "data": {
      "text/html": [
       "Waiting for W&B process to finish... <strong style=\"color:green\">(success).</strong>"
      ],
      "text/plain": [
       "<IPython.core.display.HTML object>"
      ]
     },
     "metadata": {},
     "output_type": "display_data"
    },
    {
     "data": {
      "text/html": [
       "<style>\n",
       "    table.wandb td:nth-child(1) { padding: 0 10px; text-align: left ; width: auto;} td:nth-child(2) {text-align: left ; width: 100%}\n",
       "    .wandb-row { display: flex; flex-direction: row; flex-wrap: wrap; justify-content: flex-start; width: 100% }\n",
       "    .wandb-col { display: flex; flex-direction: column; flex-basis: 100%; flex: 1; padding: 10px; }\n",
       "    </style>\n",
       "<div class=\"wandb-row\"><div class=\"wandb-col\"><h3>Run history:</h3><br/><table class=\"wandb\"><tr><td>epoch</td><td>▁▁▁▂▂▂▂▂▂▃▃▃▃▃▄▄▄▄▄▄▅▅▅▅▅▅▆▆▆▆▆▇▇▇▇▇▇███</td></tr><tr><td>lr</td><td>█▇▇▆▆▅▅▄▄▄▃▃▃▃▃▂▂▂▂▂▂▂▂▂▁▁▁▁▁▁▁▁▁▁▁▁▁▁▁▁</td></tr><tr><td>test_accuracy</td><td>▁▅▇█████████████████████████████████████</td></tr><tr><td>test_auc_score</td><td>▁▅▄▆▇█▇█▆▇▆█▆▇▇██▆█████▇▇█▇▇█▇▇▇██▇█▇█▇▇</td></tr><tr><td>test_f1_score</td><td>▁▅▆▇██████████▇█████████████████████████</td></tr><tr><td>test_fpr</td><td>█▄▂▁▁▁▁▁▁▁▁▁▁▁▁▁▁▁▁▁▁▁▁▁▁▁▁▁▁▁▁▁▁▁▁▁▁▁▁▁</td></tr><tr><td>test_loss</td><td>█▅▂▂▁▁▁▁▁▁▁▁▁▁▁▁▁▁▁▁▁▁▁▁▁▁▁▁▁▁▁▁▁▁▁▁▁▁▁▁</td></tr><tr><td>test_tpr</td><td>█▇▃▄▂▃▂▄▁▄▃▃▃▂▄▃▃▂▄▄▃▄▄▄▃▃▃▃▃▃▃▃▃▃▃▃▃▄▃▃</td></tr><tr><td>train_accuracy</td><td>▁▆▇▇▇▇▇▇▇▇▇▇▇▇▇▇████████████████████████</td></tr><tr><td>train_auc_score</td><td>▁▆▇▇███▇████████████████████████████████</td></tr><tr><td>train_f1_score</td><td>▁▆▆▇▇▇▇▇▇▇▇▇▇▇▇▇█▇██████████████████████</td></tr><tr><td>train_fpr</td><td>█▂▂▂▂▂▁▂▁▁▁▁▁▁▁▁▁▁▁▁▁▁▁▁▁▁▁▁▁▁▁▁▁▁▁▁▁▁▁▁</td></tr><tr><td>train_loss</td><td>█▄▃▂▂▂▁▁▁▁▁▁▁▁▁▁▁▁▁▁▁▁▁▁▁▁▁▁▁▁▁▁▁▁▁▁▁▁▁▁</td></tr><tr><td>train_tpr</td><td>▁▃▄▄▄▅▅▆▅▅▆▇▆▆▆▇▇▆▇▇▇▇▇▇█▇█▇███▇██▇█▇██▇</td></tr></table><br/></div><div class=\"wandb-col\"><h3>Run summary:</h3><br/><table class=\"wandb\"><tr><td>epoch</td><td>39</td></tr><tr><td>lr</td><td>0.00015</td></tr><tr><td>test_accuracy</td><td>0.89898</td></tr><tr><td>test_auc_score</td><td>0.94213</td></tr><tr><td>test_f1_score</td><td>0.65677</td></tr><tr><td>test_fpr</td><td>0.09996</td></tr><tr><td>test_loss</td><td>0.04822</td></tr><tr><td>test_tpr</td><td>0.85998</td></tr><tr><td>train_accuracy</td><td>0.97747</td></tr><tr><td>train_auc_score</td><td>0.98957</td></tr><tr><td>train_f1_score</td><td>0.96825</td></tr><tr><td>train_fpr</td><td>0.01276</td></tr><tr><td>train_loss</td><td>0.0282</td></tr><tr><td>train_tpr</td><td>0.94691</td></tr></table><br/></div></div>"
      ],
      "text/plain": [
       "<IPython.core.display.HTML object>"
      ]
     },
     "metadata": {},
     "output_type": "display_data"
    },
    {
     "data": {
      "text/html": [
       " View run <strong style=\"color:#cdcd00\">EM_FocalLoss()_SMOTE-0.3</strong> at: <a href='https://wandb.ai/dmitrii_fomin_uga/Internship_project/runs/r9nf3rur' target=\"_blank\">https://wandb.ai/dmitrii_fomin_uga/Internship_project/runs/r9nf3rur</a><br/>Synced 5 W&B file(s), 0 media file(s), 0 artifact file(s) and 0 other file(s)"
      ],
      "text/plain": [
       "<IPython.core.display.HTML object>"
      ]
     },
     "metadata": {},
     "output_type": "display_data"
    },
    {
     "data": {
      "text/html": [
       "Find logs at: <code>../logs/wandb\\run-20230702_141747-r9nf3rur\\logs</code>"
      ],
      "text/plain": [
       "<IPython.core.display.HTML object>"
      ]
     },
     "metadata": {},
     "output_type": "display_data"
    },
    {
     "data": {
      "text/html": [
       "Tracking run with wandb version 0.15.4"
      ],
      "text/plain": [
       "<IPython.core.display.HTML object>"
      ]
     },
     "metadata": {},
     "output_type": "display_data"
    },
    {
     "data": {
      "text/html": [
       "Run data is saved locally in <code>../logs/wandb\\run-20230702_141803-uldu1v5c</code>"
      ],
      "text/plain": [
       "<IPython.core.display.HTML object>"
      ]
     },
     "metadata": {},
     "output_type": "display_data"
    },
    {
     "data": {
      "text/html": [
       "Syncing run <strong><a href='https://wandb.ai/dmitrii_fomin_uga/Internship_project/runs/uldu1v5c' target=\"_blank\">EM_FocalLoss()_SMOTE-0.4</a></strong> to <a href='https://wandb.ai/dmitrii_fomin_uga/Internship_project' target=\"_blank\">Weights & Biases</a> (<a href='https://wandb.me/run' target=\"_blank\">docs</a>)<br/>"
      ],
      "text/plain": [
       "<IPython.core.display.HTML object>"
      ]
     },
     "metadata": {},
     "output_type": "display_data"
    },
    {
     "data": {
      "text/html": [
       " View project at <a href='https://wandb.ai/dmitrii_fomin_uga/Internship_project' target=\"_blank\">https://wandb.ai/dmitrii_fomin_uga/Internship_project</a>"
      ],
      "text/plain": [
       "<IPython.core.display.HTML object>"
      ]
     },
     "metadata": {},
     "output_type": "display_data"
    },
    {
     "data": {
      "text/html": [
       " View run at <a href='https://wandb.ai/dmitrii_fomin_uga/Internship_project/runs/uldu1v5c' target=\"_blank\">https://wandb.ai/dmitrii_fomin_uga/Internship_project/runs/uldu1v5c</a>"
      ],
      "text/plain": [
       "<IPython.core.display.HTML object>"
      ]
     },
     "metadata": {},
     "output_type": "display_data"
    },
    {
     "data": {
      "text/html": [
       "Waiting for W&B process to finish... <strong style=\"color:green\">(success).</strong>"
      ],
      "text/plain": [
       "<IPython.core.display.HTML object>"
      ]
     },
     "metadata": {},
     "output_type": "display_data"
    },
    {
     "data": {
      "text/html": [
       "<style>\n",
       "    table.wandb td:nth-child(1) { padding: 0 10px; text-align: left ; width: auto;} td:nth-child(2) {text-align: left ; width: 100%}\n",
       "    .wandb-row { display: flex; flex-direction: row; flex-wrap: wrap; justify-content: flex-start; width: 100% }\n",
       "    .wandb-col { display: flex; flex-direction: column; flex-basis: 100%; flex: 1; padding: 10px; }\n",
       "    </style>\n",
       "<div class=\"wandb-row\"><div class=\"wandb-col\"><h3>Run history:</h3><br/><table class=\"wandb\"><tr><td>epoch</td><td>▁▁▁▂▂▂▂▂▂▃▃▃▃▃▄▄▄▄▄▄▅▅▅▅▅▅▆▆▆▆▆▇▇▇▇▇▇███</td></tr><tr><td>lr</td><td>█▇▇▆▆▅▅▄▄▄▃▃▃▃▃▂▂▂▂▂▂▂▂▂▁▁▁▁▁▁▁▁▁▁▁▁▁▁▁▁</td></tr><tr><td>test_accuracy</td><td>▁▂▅▇██▇█▇▇▇█▇▇██▇██▇▇▇▇█▇▇▇████▇▇▇█▇▇█▇█</td></tr><tr><td>test_auc_score</td><td>▁▄▇▇█▇████▇█▇███▇▇█▇▇▇▇▇▇▇▇▇▇▇▇▇▇▇▇▇▇▇▇▇</td></tr><tr><td>test_f1_score</td><td>▁▂▅▆▇█▆█▇▇▇█▇▇██▇██▇▇▇▇█▇▇▇██▇█▇▇▇█▇▇▇▇▇</td></tr><tr><td>test_fpr</td><td>█▇▄▂▁▁▂▁▂▂▂▁▂▂▁▁▂▁▁▂▂▂▂▁▂▂▂▁▁▁▁▂▂▂▁▂▂▂▂▁</td></tr><tr><td>test_loss</td><td>█▄▂▂▁▁▂▁▂▂▁▁▁▁▁▁▂▁▁▂▁▂▁▁▂▂▂▁▁▁▁▂▂▂▁▂▂▁▁▁</td></tr><tr><td>test_tpr</td><td>▁▄█▄▃▅▅▃▇▇▆▇▆▇▆▆▇▅▆▅▅▆▆▆▇▇▇▇▆▆▇▆▆▇▇▇▇▇▆▆</td></tr><tr><td>train_accuracy</td><td>▁▆▆▆▇▇▇▇▇▇▇▇▇▇▇▇▇▇▇▇████████████████████</td></tr><tr><td>train_auc_score</td><td>▁▇▇▇▇▇▇▇████████▇███████████████████████</td></tr><tr><td>train_f1_score</td><td>▁▆▆▆▆▇▇▇▇▇▇▇▇▇▇▇▇▇▇▇████████████████████</td></tr><tr><td>train_fpr</td><td>█▃▂▂▂▂▂▂▂▂▁▂▂▁▁▂▂▁▁▂▁▁▁▁▁▁▁▁▁▁▁▁▁▁▁▁▁▁▁▁</td></tr><tr><td>train_loss</td><td>█▄▃▂▂▂▂▂▂▁▁▁▁▁▁▁▁▁▁▁▁▁▁▁▁▁▁▁▁▁▁▁▁▁▁▁▁▁▁▁</td></tr><tr><td>train_tpr</td><td>▁▅▆▆▆▆▆▆▇▇▆▇▇▇▇▇▇▇▇▇▇▇█▇█▇██▇▇██████▇███</td></tr></table><br/></div><div class=\"wandb-col\"><h3>Run summary:</h3><br/><table class=\"wandb\"><tr><td>epoch</td><td>39</td></tr><tr><td>lr</td><td>0.00015</td></tr><tr><td>test_accuracy</td><td>0.85657</td></tr><tr><td>test_auc_score</td><td>0.92717</td></tr><tr><td>test_f1_score</td><td>0.61083</td></tr><tr><td>test_fpr</td><td>0.14538</td></tr><tr><td>test_loss</td><td>0.05953</td></tr><tr><td>test_tpr</td><td>0.91118</td></tr><tr><td>train_accuracy</td><td>0.97613</td></tr><tr><td>train_auc_score</td><td>0.98645</td></tr><tr><td>train_f1_score</td><td>0.97069</td></tr><tr><td>train_fpr</td><td>0.01744</td></tr><tr><td>train_loss</td><td>0.02814</td></tr><tr><td>train_tpr</td><td>0.96071</td></tr></table><br/></div></div>"
      ],
      "text/plain": [
       "<IPython.core.display.HTML object>"
      ]
     },
     "metadata": {},
     "output_type": "display_data"
    },
    {
     "data": {
      "text/html": [
       " View run <strong style=\"color:#cdcd00\">EM_FocalLoss()_SMOTE-0.4</strong> at: <a href='https://wandb.ai/dmitrii_fomin_uga/Internship_project/runs/uldu1v5c' target=\"_blank\">https://wandb.ai/dmitrii_fomin_uga/Internship_project/runs/uldu1v5c</a><br/>Synced 5 W&B file(s), 0 media file(s), 0 artifact file(s) and 0 other file(s)"
      ],
      "text/plain": [
       "<IPython.core.display.HTML object>"
      ]
     },
     "metadata": {},
     "output_type": "display_data"
    },
    {
     "data": {
      "text/html": [
       "Find logs at: <code>../logs/wandb\\run-20230702_141803-uldu1v5c\\logs</code>"
      ],
      "text/plain": [
       "<IPython.core.display.HTML object>"
      ]
     },
     "metadata": {},
     "output_type": "display_data"
    },
    {
     "data": {
      "text/html": [
       "Tracking run with wandb version 0.15.4"
      ],
      "text/plain": [
       "<IPython.core.display.HTML object>"
      ]
     },
     "metadata": {},
     "output_type": "display_data"
    },
    {
     "data": {
      "text/html": [
       "Run data is saved locally in <code>../logs/wandb\\run-20230702_141819-9nfev353</code>"
      ],
      "text/plain": [
       "<IPython.core.display.HTML object>"
      ]
     },
     "metadata": {},
     "output_type": "display_data"
    },
    {
     "data": {
      "text/html": [
       "Syncing run <strong><a href='https://wandb.ai/dmitrii_fomin_uga/Internship_project/runs/9nfev353' target=\"_blank\">EM_FocalLoss()_SMOTE-0.5</a></strong> to <a href='https://wandb.ai/dmitrii_fomin_uga/Internship_project' target=\"_blank\">Weights & Biases</a> (<a href='https://wandb.me/run' target=\"_blank\">docs</a>)<br/>"
      ],
      "text/plain": [
       "<IPython.core.display.HTML object>"
      ]
     },
     "metadata": {},
     "output_type": "display_data"
    },
    {
     "data": {
      "text/html": [
       " View project at <a href='https://wandb.ai/dmitrii_fomin_uga/Internship_project' target=\"_blank\">https://wandb.ai/dmitrii_fomin_uga/Internship_project</a>"
      ],
      "text/plain": [
       "<IPython.core.display.HTML object>"
      ]
     },
     "metadata": {},
     "output_type": "display_data"
    },
    {
     "data": {
      "text/html": [
       " View run at <a href='https://wandb.ai/dmitrii_fomin_uga/Internship_project/runs/9nfev353' target=\"_blank\">https://wandb.ai/dmitrii_fomin_uga/Internship_project/runs/9nfev353</a>"
      ],
      "text/plain": [
       "<IPython.core.display.HTML object>"
      ]
     },
     "metadata": {},
     "output_type": "display_data"
    },
    {
     "data": {
      "text/html": [
       "Waiting for W&B process to finish... <strong style=\"color:green\">(success).</strong>"
      ],
      "text/plain": [
       "<IPython.core.display.HTML object>"
      ]
     },
     "metadata": {},
     "output_type": "display_data"
    },
    {
     "data": {
      "text/html": [
       "<style>\n",
       "    table.wandb td:nth-child(1) { padding: 0 10px; text-align: left ; width: auto;} td:nth-child(2) {text-align: left ; width: 100%}\n",
       "    .wandb-row { display: flex; flex-direction: row; flex-wrap: wrap; justify-content: flex-start; width: 100% }\n",
       "    .wandb-col { display: flex; flex-direction: column; flex-basis: 100%; flex: 1; padding: 10px; }\n",
       "    </style>\n",
       "<div class=\"wandb-row\"><div class=\"wandb-col\"><h3>Run history:</h3><br/><table class=\"wandb\"><tr><td>epoch</td><td>▁▁▁▂▂▂▂▂▂▃▃▃▃▃▄▄▄▄▄▄▅▅▅▅▅▅▆▆▆▆▆▇▇▇▇▇▇███</td></tr><tr><td>lr</td><td>█▇▇▆▆▅▅▄▄▄▃▃▃▃▃▂▂▂▂▂▂▂▂▂▁▁▁▁▁▁▁▁▁▁▁▁▁▁▁▁</td></tr><tr><td>test_accuracy</td><td>▁▅▆▇█▆▇██▇▇▇▇▇█▇██▇▇▇▇███▇█████████▇█▇██</td></tr><tr><td>test_auc_score</td><td>▁▅▅▆▆▅██▇█▇██▆█▆▇▇▇▇▇▇██▇▆▇▆▇▇▆▆▇▇▇▇▇▆▇▇</td></tr><tr><td>test_f1_score</td><td>▁▅▆▇▇▆▇█▇▇▇▇▇▇▇▇▇█▇▇▇▇██▇▇██▇███▇██▇▇▇██</td></tr><tr><td>test_fpr</td><td>█▄▃▂▁▃▂▁▂▂▂▂▂▂▁▂▁▁▂▂▁▂▁▁▁▂▁▁▁▁▁▁▁▁▁▂▁▂▁▁</td></tr><tr><td>test_loss</td><td>█▃▂▁▁▂▂▁▁▂▂▂▂▂▁▂▂▁▂▂▂▂▂▁▂▂▁▁▂▁▁▂▂▁▂▂▂▂▂▁</td></tr><tr><td>test_tpr</td><td>██▇▆▁▆▇▄▆▇▅▃▄▃▃▄▄▄▄▆▄▅▅▄▄▄▄▄▃▃▄▄▅▄▅▅▄▅▅▄</td></tr><tr><td>train_accuracy</td><td>▁▆▆▆▇▇▇▇▇▇▇▇▇▇▇▇▇███████████████████████</td></tr><tr><td>train_auc_score</td><td>▁▇▇▇█▇██████████████████████████████████</td></tr><tr><td>train_f1_score</td><td>▁▆▆▇▇▇▇▇▇▇▇▇▇▇▇▇▇███████████████████████</td></tr><tr><td>train_fpr</td><td>█▃▃▄▃▃▃▃▂▃▂▃▂▃▂▂▂▂▂▂▂▂▂▁▁▂▁▁▁▁▁▁▁▁▁▁▁▁▁▁</td></tr><tr><td>train_loss</td><td>█▄▃▂▂▂▂▂▁▁▁▁▁▁▁▁▁▁▁▁▁▁▁▁▁▁▁▁▁▁▁▁▁▁▁▁▁▁▁▁</td></tr><tr><td>train_tpr</td><td>▁▆▇▇▇▇▇█▇███▇██▇████████████████████████</td></tr></table><br/></div><div class=\"wandb-col\"><h3>Run summary:</h3><br/><table class=\"wandb\"><tr><td>epoch</td><td>39</td></tr><tr><td>lr</td><td>0.00015</td></tr><tr><td>test_accuracy</td><td>0.82785</td></tr><tr><td>test_auc_score</td><td>0.93882</td></tr><tr><td>test_f1_score</td><td>0.58399</td></tr><tr><td>test_fpr</td><td>0.17548</td></tr><tr><td>test_loss</td><td>0.06744</td></tr><tr><td>test_tpr</td><td>0.91668</td></tr><tr><td>train_accuracy</td><td>0.97886</td></tr><tr><td>train_auc_score</td><td>0.99197</td></tr><tr><td>train_f1_score</td><td>0.9763</td></tr><tr><td>train_fpr</td><td>0.01888</td></tr><tr><td>train_loss</td><td>0.02795</td></tr><tr><td>train_tpr</td><td>0.97467</td></tr></table><br/></div></div>"
      ],
      "text/plain": [
       "<IPython.core.display.HTML object>"
      ]
     },
     "metadata": {},
     "output_type": "display_data"
    },
    {
     "data": {
      "text/html": [
       " View run <strong style=\"color:#cdcd00\">EM_FocalLoss()_SMOTE-0.5</strong> at: <a href='https://wandb.ai/dmitrii_fomin_uga/Internship_project/runs/9nfev353' target=\"_blank\">https://wandb.ai/dmitrii_fomin_uga/Internship_project/runs/9nfev353</a><br/>Synced 5 W&B file(s), 0 media file(s), 0 artifact file(s) and 0 other file(s)"
      ],
      "text/plain": [
       "<IPython.core.display.HTML object>"
      ]
     },
     "metadata": {},
     "output_type": "display_data"
    },
    {
     "data": {
      "text/html": [
       "Find logs at: <code>../logs/wandb\\run-20230702_141819-9nfev353\\logs</code>"
      ],
      "text/plain": [
       "<IPython.core.display.HTML object>"
      ]
     },
     "metadata": {},
     "output_type": "display_data"
    },
    {
     "data": {
      "text/html": [
       "Tracking run with wandb version 0.15.4"
      ],
      "text/plain": [
       "<IPython.core.display.HTML object>"
      ]
     },
     "metadata": {},
     "output_type": "display_data"
    },
    {
     "data": {
      "text/html": [
       "Run data is saved locally in <code>../logs/wandb\\run-20230702_141834-044p5grp</code>"
      ],
      "text/plain": [
       "<IPython.core.display.HTML object>"
      ]
     },
     "metadata": {},
     "output_type": "display_data"
    },
    {
     "data": {
      "text/html": [
       "Syncing run <strong><a href='https://wandb.ai/dmitrii_fomin_uga/Internship_project/runs/044p5grp' target=\"_blank\">EM_FocalLoss()_SMOTE-0.6</a></strong> to <a href='https://wandb.ai/dmitrii_fomin_uga/Internship_project' target=\"_blank\">Weights & Biases</a> (<a href='https://wandb.me/run' target=\"_blank\">docs</a>)<br/>"
      ],
      "text/plain": [
       "<IPython.core.display.HTML object>"
      ]
     },
     "metadata": {},
     "output_type": "display_data"
    },
    {
     "data": {
      "text/html": [
       " View project at <a href='https://wandb.ai/dmitrii_fomin_uga/Internship_project' target=\"_blank\">https://wandb.ai/dmitrii_fomin_uga/Internship_project</a>"
      ],
      "text/plain": [
       "<IPython.core.display.HTML object>"
      ]
     },
     "metadata": {},
     "output_type": "display_data"
    },
    {
     "data": {
      "text/html": [
       " View run at <a href='https://wandb.ai/dmitrii_fomin_uga/Internship_project/runs/044p5grp' target=\"_blank\">https://wandb.ai/dmitrii_fomin_uga/Internship_project/runs/044p5grp</a>"
      ],
      "text/plain": [
       "<IPython.core.display.HTML object>"
      ]
     },
     "metadata": {},
     "output_type": "display_data"
    },
    {
     "data": {
      "text/html": [
       "Waiting for W&B process to finish... <strong style=\"color:green\">(success).</strong>"
      ],
      "text/plain": [
       "<IPython.core.display.HTML object>"
      ]
     },
     "metadata": {},
     "output_type": "display_data"
    },
    {
     "data": {
      "text/html": [
       "<style>\n",
       "    table.wandb td:nth-child(1) { padding: 0 10px; text-align: left ; width: auto;} td:nth-child(2) {text-align: left ; width: 100%}\n",
       "    .wandb-row { display: flex; flex-direction: row; flex-wrap: wrap; justify-content: flex-start; width: 100% }\n",
       "    .wandb-col { display: flex; flex-direction: column; flex-basis: 100%; flex: 1; padding: 10px; }\n",
       "    </style>\n",
       "<div class=\"wandb-row\"><div class=\"wandb-col\"><h3>Run history:</h3><br/><table class=\"wandb\"><tr><td>epoch</td><td>▁▁▁▂▂▂▂▂▂▃▃▃▃▃▄▄▄▄▄▄▅▅▅▅▅▅▆▆▆▆▆▇▇▇▇▇▇███</td></tr><tr><td>lr</td><td>█▇▇▆▆▅▅▄▄▄▃▃▃▃▃▂▂▂▂▂▂▂▂▂▁▁▁▁▁▁▁▁▁▁▁▁▁▁▁▁</td></tr><tr><td>test_accuracy</td><td>▁▆▇█▇▇▇▇█▆█▇▇█▇▆▇▇▇▇▇▇▇▇▇▇▇▇▇▇▇▇▇▇▇▇▇▇▇▇</td></tr><tr><td>test_auc_score</td><td>▁▆▇▇▇▇▇██▇████▇▇█▇██▇███▇█▇▇██▇██▇▇▇▇▇▇▇</td></tr><tr><td>test_f1_score</td><td>▁▆▇█▇▇▇▇█▆█▇▇▇▇▆▇▇▇▇▆▇▇▇▆▇▇▇▇▇▇▇▇▇▇▇▇▇▇▇</td></tr><tr><td>test_fpr</td><td>█▃▂▁▂▂▂▂▁▃▁▂▂▂▂▃▂▂▂▂▂▂▂▂▂▂▂▂▂▂▂▂▂▂▂▂▂▂▂▂</td></tr><tr><td>test_loss</td><td>█▅▃▁▄▅▄▅▁▆▂▅▄▃▄▇▃▅▃▄▅▃▄▄▅▃▄▅▄▄▄▄▄▅▅▄▄▄▅▅</td></tr><tr><td>test_tpr</td><td>▃▆▁▂▄▃▅▇▃█▇▇▄▄▃▇▆▆▇▆██▇▇▆▆▄▄▆▆▄▃▆▄▄▆▄▄▃▄</td></tr><tr><td>train_accuracy</td><td>▁▆▇▇▇▇▇▇▇▇▇▇▇▇▇▇▇███████████████████████</td></tr><tr><td>train_auc_score</td><td>▁▇▇▇▇▇▇██▇██████████████████████████████</td></tr><tr><td>train_f1_score</td><td>▁▆▇▇▇▇▇▇▇▇▇▇▇▇▇▇▇███████████████████████</td></tr><tr><td>train_fpr</td><td>█▂▂▂▂▂▂▂▁▂▂▁▁▁▂▁▁▁▁▁▁▁▁▁▁▁▁▁▁▁▁▁▁▁▁▁▁▁▁▁</td></tr><tr><td>train_loss</td><td>█▃▂▂▂▂▂▂▁▁▁▁▁▁▁▁▁▁▁▁▁▁▁▁▁▁▁▁▁▁▁▁▁▁▁▁▁▁▁▁</td></tr><tr><td>train_tpr</td><td>▁▃▅▅▆▆▅▆▆▆▇▇▇▇▆▇▇▇▇▇█▇▇█▇▇██▇███████████</td></tr></table><br/></div><div class=\"wandb-col\"><h3>Run summary:</h3><br/><table class=\"wandb\"><tr><td>epoch</td><td>39</td></tr><tr><td>lr</td><td>0.00015</td></tr><tr><td>test_accuracy</td><td>0.74234</td></tr><tr><td>test_auc_score</td><td>0.89905</td></tr><tr><td>test_f1_score</td><td>0.52364</td></tr><tr><td>test_fpr</td><td>0.26499</td></tr><tr><td>test_loss</td><td>0.10539</td></tr><tr><td>test_tpr</td><td>0.94949</td></tr><tr><td>train_accuracy</td><td>0.97223</td></tr><tr><td>train_auc_score</td><td>0.9898</td></tr><tr><td>train_f1_score</td><td>0.97043</td></tr><tr><td>train_fpr</td><td>0.02461</td></tr><tr><td>train_loss</td><td>0.02858</td></tr><tr><td>train_tpr</td><td>0.9672</td></tr></table><br/></div></div>"
      ],
      "text/plain": [
       "<IPython.core.display.HTML object>"
      ]
     },
     "metadata": {},
     "output_type": "display_data"
    },
    {
     "data": {
      "text/html": [
       " View run <strong style=\"color:#cdcd00\">EM_FocalLoss()_SMOTE-0.6</strong> at: <a href='https://wandb.ai/dmitrii_fomin_uga/Internship_project/runs/044p5grp' target=\"_blank\">https://wandb.ai/dmitrii_fomin_uga/Internship_project/runs/044p5grp</a><br/>Synced 5 W&B file(s), 0 media file(s), 0 artifact file(s) and 0 other file(s)"
      ],
      "text/plain": [
       "<IPython.core.display.HTML object>"
      ]
     },
     "metadata": {},
     "output_type": "display_data"
    },
    {
     "data": {
      "text/html": [
       "Find logs at: <code>../logs/wandb\\run-20230702_141834-044p5grp\\logs</code>"
      ],
      "text/plain": [
       "<IPython.core.display.HTML object>"
      ]
     },
     "metadata": {},
     "output_type": "display_data"
    },
    {
     "data": {
      "text/html": [
       "Tracking run with wandb version 0.15.4"
      ],
      "text/plain": [
       "<IPython.core.display.HTML object>"
      ]
     },
     "metadata": {},
     "output_type": "display_data"
    },
    {
     "data": {
      "text/html": [
       "Run data is saved locally in <code>../logs/wandb\\run-20230702_141851-0og0huzm</code>"
      ],
      "text/plain": [
       "<IPython.core.display.HTML object>"
      ]
     },
     "metadata": {},
     "output_type": "display_data"
    },
    {
     "data": {
      "text/html": [
       "Syncing run <strong><a href='https://wandb.ai/dmitrii_fomin_uga/Internship_project/runs/0og0huzm' target=\"_blank\">EM_FocalLoss()_SMOTE-0.8</a></strong> to <a href='https://wandb.ai/dmitrii_fomin_uga/Internship_project' target=\"_blank\">Weights & Biases</a> (<a href='https://wandb.me/run' target=\"_blank\">docs</a>)<br/>"
      ],
      "text/plain": [
       "<IPython.core.display.HTML object>"
      ]
     },
     "metadata": {},
     "output_type": "display_data"
    },
    {
     "data": {
      "text/html": [
       " View project at <a href='https://wandb.ai/dmitrii_fomin_uga/Internship_project' target=\"_blank\">https://wandb.ai/dmitrii_fomin_uga/Internship_project</a>"
      ],
      "text/plain": [
       "<IPython.core.display.HTML object>"
      ]
     },
     "metadata": {},
     "output_type": "display_data"
    },
    {
     "data": {
      "text/html": [
       " View run at <a href='https://wandb.ai/dmitrii_fomin_uga/Internship_project/runs/0og0huzm' target=\"_blank\">https://wandb.ai/dmitrii_fomin_uga/Internship_project/runs/0og0huzm</a>"
      ],
      "text/plain": [
       "<IPython.core.display.HTML object>"
      ]
     },
     "metadata": {},
     "output_type": "display_data"
    },
    {
     "data": {
      "text/html": [
       "Waiting for W&B process to finish... <strong style=\"color:green\">(success).</strong>"
      ],
      "text/plain": [
       "<IPython.core.display.HTML object>"
      ]
     },
     "metadata": {},
     "output_type": "display_data"
    },
    {
     "data": {
      "text/html": [
       "<style>\n",
       "    table.wandb td:nth-child(1) { padding: 0 10px; text-align: left ; width: auto;} td:nth-child(2) {text-align: left ; width: 100%}\n",
       "    .wandb-row { display: flex; flex-direction: row; flex-wrap: wrap; justify-content: flex-start; width: 100% }\n",
       "    .wandb-col { display: flex; flex-direction: column; flex-basis: 100%; flex: 1; padding: 10px; }\n",
       "    </style>\n",
       "<div class=\"wandb-row\"><div class=\"wandb-col\"><h3>Run history:</h3><br/><table class=\"wandb\"><tr><td>epoch</td><td>▁▁▁▂▂▂▂▂▂▃▃▃▃▃▄▄▄▄▄▄▅▅▅▅▅▅▆▆▆▆▆▇▇▇▇▇▇███</td></tr><tr><td>lr</td><td>█▇▇▆▆▅▅▄▄▄▃▃▃▃▃▂▂▂▂▂▂▂▂▂▁▁▁▁▁▁▁▁▁▁▁▁▁▁▁▁</td></tr><tr><td>test_accuracy</td><td>▁▇█▇█▇▇██▇██████████▇▇▇██▇▇▇█▇██▇██▇▇▇▇▇</td></tr><tr><td>test_auc_score</td><td>▁▁▃▆▆▄▆▇▆▇▆▆▇▇█▇▆▇▆▆▆▇▆▇▇▅▇▇▇▆▇▆▆▇▇▆▆▆▆▆</td></tr><tr><td>test_f1_score</td><td>▁▇█▇█▇▇██▇███▇███▇██▇▇▇██▇▇▇█▇▇█▇██▇▇▇▇▇</td></tr><tr><td>test_fpr</td><td>█▂▁▂▁▂▂▁▁▂▁▁▁▁▁▁▁▁▁▁▂▂▂▁▁▂▂▂▁▂▁▁▂▁▁▂▂▂▂▂</td></tr><tr><td>test_loss</td><td>█▃▁▂▂▂▂▁▁▂▁▂▁▂▁▁▁▂▁▂▂▂▂▁▁▂▂▂▂▂▂▂▂▂▂▂▂▂▂▂</td></tr><tr><td>test_tpr</td><td>█▄▁▁▅▄▅▆▄▆▄▇▅▆▆▆▅▃▆▆▆▆▆▆▆▆▆▆▆▆▆▆▆▆▆▅▆▆▆▆</td></tr><tr><td>train_accuracy</td><td>▁▆▆▆▇▇▇▇▇▇▇▇▇▇▇▇▇███████████████████████</td></tr><tr><td>train_auc_score</td><td>▁▇▇▇████████████████████████████████████</td></tr><tr><td>train_f1_score</td><td>▁▆▆▆▇▇▇▇▇▇▇▇▇▇▇▇▇███████████████████████</td></tr><tr><td>train_fpr</td><td>█▅▄▄▃▃▄▃▄▄▃▃▃▂▂▂▂▂▂▂▂▂▁▂▁▂▂▁▁▁▁▁▁▁▁▁▁▁▁▁</td></tr><tr><td>train_loss</td><td>█▃▂▂▂▂▂▂▂▂▁▁▁▁▁▁▁▁▁▁▁▁▁▁▁▁▁▁▁▁▁▁▁▁▁▁▁▁▁▁</td></tr><tr><td>train_tpr</td><td>▁▆▇▇▇▇▇▇▇▇▇▇▇▇██▇███████████████████████</td></tr></table><br/></div><div class=\"wandb-col\"><h3>Run summary:</h3><br/><table class=\"wandb\"><tr><td>epoch</td><td>39</td></tr><tr><td>lr</td><td>0.00015</td></tr><tr><td>test_accuracy</td><td>0.71869</td></tr><tr><td>test_auc_score</td><td>0.93782</td></tr><tr><td>test_f1_score</td><td>0.50989</td></tr><tr><td>test_fpr</td><td>0.2902</td></tr><tr><td>test_loss</td><td>0.11557</td></tr><tr><td>test_tpr</td><td>0.97079</td></tr><tr><td>train_accuracy</td><td>0.97331</td></tr><tr><td>train_auc_score</td><td>0.98993</td></tr><tr><td>train_f1_score</td><td>0.97298</td></tr><tr><td>train_fpr</td><td>0.02699</td></tr><tr><td>train_loss</td><td>0.02837</td></tr><tr><td>train_tpr</td><td>0.9741</td></tr></table><br/></div></div>"
      ],
      "text/plain": [
       "<IPython.core.display.HTML object>"
      ]
     },
     "metadata": {},
     "output_type": "display_data"
    },
    {
     "data": {
      "text/html": [
       " View run <strong style=\"color:#cdcd00\">EM_FocalLoss()_SMOTE-0.8</strong> at: <a href='https://wandb.ai/dmitrii_fomin_uga/Internship_project/runs/0og0huzm' target=\"_blank\">https://wandb.ai/dmitrii_fomin_uga/Internship_project/runs/0og0huzm</a><br/>Synced 5 W&B file(s), 0 media file(s), 0 artifact file(s) and 0 other file(s)"
      ],
      "text/plain": [
       "<IPython.core.display.HTML object>"
      ]
     },
     "metadata": {},
     "output_type": "display_data"
    },
    {
     "data": {
      "text/html": [
       "Find logs at: <code>../logs/wandb\\run-20230702_141851-0og0huzm\\logs</code>"
      ],
      "text/plain": [
       "<IPython.core.display.HTML object>"
      ]
     },
     "metadata": {},
     "output_type": "display_data"
    },
    {
     "data": {
      "text/html": [
       "Tracking run with wandb version 0.15.4"
      ],
      "text/plain": [
       "<IPython.core.display.HTML object>"
      ]
     },
     "metadata": {},
     "output_type": "display_data"
    },
    {
     "data": {
      "text/html": [
       "Run data is saved locally in <code>../logs/wandb\\run-20230702_141909-naisp9uh</code>"
      ],
      "text/plain": [
       "<IPython.core.display.HTML object>"
      ]
     },
     "metadata": {},
     "output_type": "display_data"
    },
    {
     "data": {
      "text/html": [
       "Syncing run <strong><a href='https://wandb.ai/dmitrii_fomin_uga/Internship_project/runs/naisp9uh' target=\"_blank\">EM_FocalLoss()_SMOTE-1</a></strong> to <a href='https://wandb.ai/dmitrii_fomin_uga/Internship_project' target=\"_blank\">Weights & Biases</a> (<a href='https://wandb.me/run' target=\"_blank\">docs</a>)<br/>"
      ],
      "text/plain": [
       "<IPython.core.display.HTML object>"
      ]
     },
     "metadata": {},
     "output_type": "display_data"
    },
    {
     "data": {
      "text/html": [
       " View project at <a href='https://wandb.ai/dmitrii_fomin_uga/Internship_project' target=\"_blank\">https://wandb.ai/dmitrii_fomin_uga/Internship_project</a>"
      ],
      "text/plain": [
       "<IPython.core.display.HTML object>"
      ]
     },
     "metadata": {},
     "output_type": "display_data"
    },
    {
     "data": {
      "text/html": [
       " View run at <a href='https://wandb.ai/dmitrii_fomin_uga/Internship_project/runs/naisp9uh' target=\"_blank\">https://wandb.ai/dmitrii_fomin_uga/Internship_project/runs/naisp9uh</a>"
      ],
      "text/plain": [
       "<IPython.core.display.HTML object>"
      ]
     },
     "metadata": {},
     "output_type": "display_data"
    },
    {
     "data": {
      "text/html": [
       "Waiting for W&B process to finish... <strong style=\"color:green\">(success).</strong>"
      ],
      "text/plain": [
       "<IPython.core.display.HTML object>"
      ]
     },
     "metadata": {},
     "output_type": "display_data"
    },
    {
     "data": {
      "text/html": [
       "<style>\n",
       "    table.wandb td:nth-child(1) { padding: 0 10px; text-align: left ; width: auto;} td:nth-child(2) {text-align: left ; width: 100%}\n",
       "    .wandb-row { display: flex; flex-direction: row; flex-wrap: wrap; justify-content: flex-start; width: 100% }\n",
       "    .wandb-col { display: flex; flex-direction: column; flex-basis: 100%; flex: 1; padding: 10px; }\n",
       "    </style>\n",
       "<div class=\"wandb-row\"><div class=\"wandb-col\"><h3>Run history:</h3><br/><table class=\"wandb\"><tr><td>epoch</td><td>▁▁▁▂▂▂▂▂▂▃▃▃▃▃▄▄▄▄▄▄▅▅▅▅▅▅▆▆▆▆▆▇▇▇▇▇▇███</td></tr><tr><td>lr</td><td>█▇▇▆▆▅▅▄▄▄▃▃▃▃▃▂▂▂▂▂▂▂▂▂▁▁▁▁▁▁▁▁▁▁▁▁▁▁▁▁</td></tr><tr><td>test_accuracy</td><td>▃▇▄▄▅▁▂▃▁▅▄▄▆▇▃▆▆▇▄▇▆▄▅▅▆▇▆▆▇▆▇█▇▅▇▇█▇▇▆</td></tr><tr><td>test_auc_score</td><td>▁▄▇██▇████▇█████████████████████████████</td></tr><tr><td>test_f1_score</td><td>▂▇▄▄▅▁▂▃▁▅▄▄▆▇▃▆▆▆▃▇▆▄▅▅▆▇▆▆▇▆▇█▆▅██▇▇▇▆</td></tr><tr><td>test_fpr</td><td>▆▁▅▅▄█▇▆█▄▅▅▃▂▆▃▃▂▆▂▄▅▄▄▃▂▃▄▃▃▂▁▂▄▂▂▁▂▂▃</td></tr><tr><td>test_loss</td><td>▃▃▆▆▄▇█▆█▄▅▅▃▁▆▃▃▂▅▂▃▅▄▄▃▂▃▄▃▃▂▁▃▄▂▂▂▂▂▃</td></tr><tr><td>test_tpr</td><td>▁▃▇▇▇▆▇▇▇▇▆▇▇▇▆█▇▇▇▆▇▇▇▇█▆▇██▇▇▇▇▇▇█▆▇▇▇</td></tr><tr><td>train_accuracy</td><td>▁▅▆▆▇▇▇▇▇▇▇▇▇▇▇▇▇▇█▇█▇██████████████████</td></tr><tr><td>train_auc_score</td><td>▁▆▇▇▇█▇▇█▇▇█████████████████████████████</td></tr><tr><td>train_f1_score</td><td>▁▆▆▆▇▇▇▇▇▇▇▇▇▇▇▇▇▇█▇█▇██████████████████</td></tr><tr><td>train_fpr</td><td>█▃▂▂▂▂▂▂▂▂▂▂▁▂▂▂▂▁▂▁▁▂▁▁▁▁▁▁▁▁▁▁▁▁▁▁▁▁▁▁</td></tr><tr><td>train_loss</td><td>█▃▂▂▂▂▂▂▁▂▁▁▁▁▁▁▁▁▁▁▁▁▁▁▁▁▁▁▁▁▁▁▁▁▁▁▁▁▁▁</td></tr><tr><td>train_tpr</td><td>▁▄▃▅▆▆▆▆▆▅▇▇▇▇▇▇▇▇█▇▇▇▇███▇▇███▇▇███████</td></tr></table><br/></div><div class=\"wandb-col\"><h3>Run summary:</h3><br/><table class=\"wandb\"><tr><td>epoch</td><td>39</td></tr><tr><td>lr</td><td>0.00015</td></tr><tr><td>test_accuracy</td><td>0.66913</td></tr><tr><td>test_auc_score</td><td>0.93824</td></tr><tr><td>test_f1_score</td><td>0.47966</td></tr><tr><td>test_fpr</td><td>0.34154</td></tr><tr><td>test_loss</td><td>0.14327</td></tr><tr><td>test_tpr</td><td>0.96797</td></tr><tr><td>train_accuracy</td><td>0.97418</td></tr><tr><td>train_auc_score</td><td>0.99219</td></tr><tr><td>train_f1_score</td><td>0.97414</td></tr><tr><td>train_fpr</td><td>0.03293</td></tr><tr><td>train_loss</td><td>0.02811</td></tr><tr><td>train_tpr</td><td>0.98178</td></tr></table><br/></div></div>"
      ],
      "text/plain": [
       "<IPython.core.display.HTML object>"
      ]
     },
     "metadata": {},
     "output_type": "display_data"
    },
    {
     "data": {
      "text/html": [
       " View run <strong style=\"color:#cdcd00\">EM_FocalLoss()_SMOTE-1</strong> at: <a href='https://wandb.ai/dmitrii_fomin_uga/Internship_project/runs/naisp9uh' target=\"_blank\">https://wandb.ai/dmitrii_fomin_uga/Internship_project/runs/naisp9uh</a><br/>Synced 5 W&B file(s), 0 media file(s), 0 artifact file(s) and 0 other file(s)"
      ],
      "text/plain": [
       "<IPython.core.display.HTML object>"
      ]
     },
     "metadata": {},
     "output_type": "display_data"
    },
    {
     "data": {
      "text/html": [
       "Find logs at: <code>../logs/wandb\\run-20230702_141909-naisp9uh\\logs</code>"
      ],
      "text/plain": [
       "<IPython.core.display.HTML object>"
      ]
     },
     "metadata": {},
     "output_type": "display_data"
    },
    {
     "data": {
      "text/html": [
       "Tracking run with wandb version 0.15.4"
      ],
      "text/plain": [
       "<IPython.core.display.HTML object>"
      ]
     },
     "metadata": {},
     "output_type": "display_data"
    },
    {
     "data": {
      "text/html": [
       "Run data is saved locally in <code>../logs/wandb\\run-20230702_141927-yx2onqtl</code>"
      ],
      "text/plain": [
       "<IPython.core.display.HTML object>"
      ]
     },
     "metadata": {},
     "output_type": "display_data"
    },
    {
     "data": {
      "text/html": [
       "Syncing run <strong><a href='https://wandb.ai/dmitrii_fomin_uga/Internship_project/runs/yx2onqtl' target=\"_blank\">EM_FocalLoss()_OSS-1</a></strong> to <a href='https://wandb.ai/dmitrii_fomin_uga/Internship_project' target=\"_blank\">Weights & Biases</a> (<a href='https://wandb.me/run' target=\"_blank\">docs</a>)<br/>"
      ],
      "text/plain": [
       "<IPython.core.display.HTML object>"
      ]
     },
     "metadata": {},
     "output_type": "display_data"
    },
    {
     "data": {
      "text/html": [
       " View project at <a href='https://wandb.ai/dmitrii_fomin_uga/Internship_project' target=\"_blank\">https://wandb.ai/dmitrii_fomin_uga/Internship_project</a>"
      ],
      "text/plain": [
       "<IPython.core.display.HTML object>"
      ]
     },
     "metadata": {},
     "output_type": "display_data"
    },
    {
     "data": {
      "text/html": [
       " View run at <a href='https://wandb.ai/dmitrii_fomin_uga/Internship_project/runs/yx2onqtl' target=\"_blank\">https://wandb.ai/dmitrii_fomin_uga/Internship_project/runs/yx2onqtl</a>"
      ],
      "text/plain": [
       "<IPython.core.display.HTML object>"
      ]
     },
     "metadata": {},
     "output_type": "display_data"
    },
    {
     "data": {
      "text/html": [
       "Waiting for W&B process to finish... <strong style=\"color:green\">(success).</strong>"
      ],
      "text/plain": [
       "<IPython.core.display.HTML object>"
      ]
     },
     "metadata": {},
     "output_type": "display_data"
    },
    {
     "data": {
      "text/html": [
       "<style>\n",
       "    table.wandb td:nth-child(1) { padding: 0 10px; text-align: left ; width: auto;} td:nth-child(2) {text-align: left ; width: 100%}\n",
       "    .wandb-row { display: flex; flex-direction: row; flex-wrap: wrap; justify-content: flex-start; width: 100% }\n",
       "    .wandb-col { display: flex; flex-direction: column; flex-basis: 100%; flex: 1; padding: 10px; }\n",
       "    </style>\n",
       "<div class=\"wandb-row\"><div class=\"wandb-col\"><h3>Run history:</h3><br/><table class=\"wandb\"><tr><td>epoch</td><td>▁▁▁▂▂▂▂▂▂▃▃▃▃▃▄▄▄▄▄▄▅▅▅▅▅▅▆▆▆▆▆▇▇▇▇▇▇███</td></tr><tr><td>lr</td><td>█▇▇▆▆▅▅▄▄▄▃▃▃▃▃▂▂▂▂▂▂▂▂▂▁▁▁▁▁▁▁▁▁▁▁▁▁▁▁▁</td></tr><tr><td>test_accuracy</td><td>▁▂▅▇▇███████████████████████████████████</td></tr><tr><td>test_auc_score</td><td>▆█▇▅▆▅▅▄▄▅▄▄▄▁▅▂▄▄▅▄▁▄▅▅▄▄▄▅▄▅▄▄▄▃▄▄▄▄▄▄</td></tr><tr><td>test_f1_score</td><td>▁▂▄▆▇▇▇▇▇█▇██▇██████▇███████████████████</td></tr><tr><td>test_fpr</td><td>█▇▄▂▂▁▁▁▁▁▁▁▁▁▁▁▁▁▁▁▁▁▁▁▁▁▁▁▁▁▁▁▁▁▁▁▁▁▁▁</td></tr><tr><td>test_loss</td><td>█▆▃▂▁▁▁▁▁▁▁▁▁▁▁▁▁▁▁▁▁▁▁▁▁▁▁▁▁▁▁▁▁▁▁▁▁▁▁▁</td></tr><tr><td>test_tpr</td><td>███▇▅▄▄▃▃▂▂▂▃▁▃▁▂▃▃▂▂▄▃▃▃▃▃▄▃▃▄▄▃▃▃▄▄▃▃▄</td></tr><tr><td>train_accuracy</td><td>▁▇▇▇▇▇▇▇▇▇▇▇████████████████████████████</td></tr><tr><td>train_auc_score</td><td>▁▆▇▆▆▅▆▇▇▇▇█▇▇▇▇▇▇▇█▇▇▇▇▇█▇▇█▇▇▇█▇▇▇█▇█▇</td></tr><tr><td>train_f1_score</td><td>▁▄▄▅▅▅▆▆▆▆▆▆▆▇▆▇▇▇▇▇▇▇█▇██▇████▇▇██▇████</td></tr><tr><td>train_fpr</td><td>█▂▁▁▁▁▁▁▁▁▁▁▁▁▁▁▁▁▁▁▁▁▁▁▁▁▁▁▁▁▁▁▁▁▁▁▁▁▁▁</td></tr><tr><td>train_loss</td><td>█▅▃▂▂▂▂▁▁▁▁▁▁▁▁▁▁▁▁▁▁▁▁▁▁▁▁▁▁▁▁▁▁▁▁▁▁▁▁▁</td></tr><tr><td>train_tpr</td><td>▄▃▁▂▂▂▄▄▄▄▄▄▅▆▅▆▅▇▇▇▆▇▇▇▇▇▆▇█▇▇▆█▇▇▆███▇</td></tr></table><br/></div><div class=\"wandb-col\"><h3>Run summary:</h3><br/><table class=\"wandb\"><tr><td>epoch</td><td>39</td></tr><tr><td>lr</td><td>0.00015</td></tr><tr><td>test_accuracy</td><td>0.97176</td></tr><tr><td>test_auc_score</td><td>0.90605</td></tr><tr><td>test_f1_score</td><td>0.80487</td></tr><tr><td>test_fpr</td><td>0.01856</td></tr><tr><td>test_loss</td><td>0.03029</td></tr><tr><td>test_tpr</td><td>0.69466</td></tr><tr><td>train_accuracy</td><td>0.9876</td></tr><tr><td>train_auc_score</td><td>0.90768</td></tr><tr><td>train_f1_score</td><td>0.90985</td></tr><tr><td>train_fpr</td><td>0.00096</td></tr><tr><td>train_loss</td><td>0.02742</td></tr><tr><td>train_tpr</td><td>0.72186</td></tr></table><br/></div></div>"
      ],
      "text/plain": [
       "<IPython.core.display.HTML object>"
      ]
     },
     "metadata": {},
     "output_type": "display_data"
    },
    {
     "data": {
      "text/html": [
       " View run <strong style=\"color:#cdcd00\">EM_FocalLoss()_OSS-1</strong> at: <a href='https://wandb.ai/dmitrii_fomin_uga/Internship_project/runs/yx2onqtl' target=\"_blank\">https://wandb.ai/dmitrii_fomin_uga/Internship_project/runs/yx2onqtl</a><br/>Synced 5 W&B file(s), 0 media file(s), 0 artifact file(s) and 0 other file(s)"
      ],
      "text/plain": [
       "<IPython.core.display.HTML object>"
      ]
     },
     "metadata": {},
     "output_type": "display_data"
    },
    {
     "data": {
      "text/html": [
       "Find logs at: <code>../logs/wandb\\run-20230702_141927-yx2onqtl\\logs</code>"
      ],
      "text/plain": [
       "<IPython.core.display.HTML object>"
      ]
     },
     "metadata": {},
     "output_type": "display_data"
    },
    {
     "data": {
      "text/html": [
       "Tracking run with wandb version 0.15.4"
      ],
      "text/plain": [
       "<IPython.core.display.HTML object>"
      ]
     },
     "metadata": {},
     "output_type": "display_data"
    },
    {
     "data": {
      "text/html": [
       "Run data is saved locally in <code>../logs/wandb\\run-20230702_141940-mitgqu3x</code>"
      ],
      "text/plain": [
       "<IPython.core.display.HTML object>"
      ]
     },
     "metadata": {},
     "output_type": "display_data"
    },
    {
     "data": {
      "text/html": [
       "Syncing run <strong><a href='https://wandb.ai/dmitrii_fomin_uga/Internship_project/runs/mitgqu3x' target=\"_blank\">EM_DWBLoss()_None-0.0</a></strong> to <a href='https://wandb.ai/dmitrii_fomin_uga/Internship_project' target=\"_blank\">Weights & Biases</a> (<a href='https://wandb.me/run' target=\"_blank\">docs</a>)<br/>"
      ],
      "text/plain": [
       "<IPython.core.display.HTML object>"
      ]
     },
     "metadata": {},
     "output_type": "display_data"
    },
    {
     "data": {
      "text/html": [
       " View project at <a href='https://wandb.ai/dmitrii_fomin_uga/Internship_project' target=\"_blank\">https://wandb.ai/dmitrii_fomin_uga/Internship_project</a>"
      ],
      "text/plain": [
       "<IPython.core.display.HTML object>"
      ]
     },
     "metadata": {},
     "output_type": "display_data"
    },
    {
     "data": {
      "text/html": [
       " View run at <a href='https://wandb.ai/dmitrii_fomin_uga/Internship_project/runs/mitgqu3x' target=\"_blank\">https://wandb.ai/dmitrii_fomin_uga/Internship_project/runs/mitgqu3x</a>"
      ],
      "text/plain": [
       "<IPython.core.display.HTML object>"
      ]
     },
     "metadata": {},
     "output_type": "display_data"
    },
    {
     "data": {
      "text/html": [
       "Waiting for W&B process to finish... <strong style=\"color:green\">(success).</strong>"
      ],
      "text/plain": [
       "<IPython.core.display.HTML object>"
      ]
     },
     "metadata": {},
     "output_type": "display_data"
    },
    {
     "data": {
      "text/html": [
       "<style>\n",
       "    table.wandb td:nth-child(1) { padding: 0 10px; text-align: left ; width: auto;} td:nth-child(2) {text-align: left ; width: 100%}\n",
       "    .wandb-row { display: flex; flex-direction: row; flex-wrap: wrap; justify-content: flex-start; width: 100% }\n",
       "    .wandb-col { display: flex; flex-direction: column; flex-basis: 100%; flex: 1; padding: 10px; }\n",
       "    </style>\n",
       "<div class=\"wandb-row\"><div class=\"wandb-col\"><h3>Run history:</h3><br/><table class=\"wandb\"><tr><td>epoch</td><td>▁▁▁▂▂▂▂▂▂▃▃▃▃▃▄▄▄▄▄▄▅▅▅▅▅▅▆▆▆▆▆▇▇▇▇▇▇███</td></tr><tr><td>lr</td><td>█▇▇▆▆▅▅▄▄▄▃▃▃▃▃▂▂▂▂▂▂▂▂▂▁▁▁▁▁▁▁▁▁▁▁▁▁▁▁▁</td></tr><tr><td>test_accuracy</td><td>▁▁▃▇▇▇██████████████████████████████████</td></tr><tr><td>test_auc_score</td><td>▃▄▅▂▂▁▃▃▄▄▄▅▆▅▅▅▅▅▆▆▅▆▇▇▇▇▇▇▇▇▇▇▇▇▇▇▇███</td></tr><tr><td>test_f1_score</td><td>▁▁▃▆▆▆▇▇▇█▇███▇▇▇███████████████████████</td></tr><tr><td>test_fpr</td><td>██▆▃▂▂▁▁▁▁▁▁▁▁▁▁▁▁▁▁▁▁▁▁▁▁▁▁▁▁▁▁▁▁▁▁▁▁▁▁</td></tr><tr><td>test_loss</td><td>█▆▄▂▂▂▁▁▁▁▁▁▁▁▁▁▁▁▁▁▁▁▁▁▁▁▁▁▁▁▁▁▁▁▁▁▁▁▁▁</td></tr><tr><td>test_tpr</td><td>███▆▆▅▅▄▄▂▁▂▃▂▁▁▂▃▄▃▁▂▂▃▂▃▄▂▂▂▂▂▃▃▃▃▃▃▃▃</td></tr><tr><td>train_accuracy</td><td>▁▄▅▇████████████████████████████████████</td></tr><tr><td>train_auc_score</td><td>▁▄▅▄▃▄▅▅▆▆▆▇▇▇▇▇▇▇▇▇▇▇▇▇████████████████</td></tr><tr><td>train_f1_score</td><td>▁▃▃▅▇▇▇▇▇▇▇▇▇▇▇▇▇██▇▇███████████████████</td></tr><tr><td>train_fpr</td><td>█▅▄▂▁▁▁▁▁▁▁▁▁▁▁▁▁▁▁▁▁▁▁▁▁▁▁▁▁▁▁▁▁▁▁▁▁▁▁▁</td></tr><tr><td>train_loss</td><td>█▅▄▃▃▂▂▂▂▂▂▁▁▁▁▁▁▁▁▁▁▁▁▁▁▁▁▁▁▁▁▁▁▁▁▁▁▁▁▁</td></tr><tr><td>train_tpr</td><td>█▇▇▄▁▁▂▃▃▂▃▃▃▃▄▃▃▅▄▃▃▄▄▅▄▄▄▅▅▅▄▅▅▅▄▅▄▅▅▅</td></tr></table><br/></div><div class=\"wandb-col\"><h3>Run summary:</h3><br/><table class=\"wandb\"><tr><td>epoch</td><td>39</td></tr><tr><td>lr</td><td>0.00015</td></tr><tr><td>test_accuracy</td><td>0.97467</td></tr><tr><td>test_auc_score</td><td>0.9618</td></tr><tr><td>test_f1_score</td><td>0.81902</td></tr><tr><td>test_fpr</td><td>0.01554</td></tr><tr><td>test_loss</td><td>-0.01291</td></tr><tr><td>test_tpr</td><td>0.70224</td></tr><tr><td>train_accuracy</td><td>0.98438</td></tr><tr><td>train_auc_score</td><td>0.96538</td></tr><tr><td>train_f1_score</td><td>0.8831</td></tr><tr><td>train_fpr</td><td>0.00859</td></tr><tr><td>train_loss</td><td>-0.01853</td></tr><tr><td>train_tpr</td><td>0.78574</td></tr></table><br/></div></div>"
      ],
      "text/plain": [
       "<IPython.core.display.HTML object>"
      ]
     },
     "metadata": {},
     "output_type": "display_data"
    },
    {
     "data": {
      "text/html": [
       " View run <strong style=\"color:#cdcd00\">EM_DWBLoss()_None-0.0</strong> at: <a href='https://wandb.ai/dmitrii_fomin_uga/Internship_project/runs/mitgqu3x' target=\"_blank\">https://wandb.ai/dmitrii_fomin_uga/Internship_project/runs/mitgqu3x</a><br/>Synced 5 W&B file(s), 0 media file(s), 0 artifact file(s) and 0 other file(s)"
      ],
      "text/plain": [
       "<IPython.core.display.HTML object>"
      ]
     },
     "metadata": {},
     "output_type": "display_data"
    },
    {
     "data": {
      "text/html": [
       "Find logs at: <code>../logs/wandb\\run-20230702_141940-mitgqu3x\\logs</code>"
      ],
      "text/plain": [
       "<IPython.core.display.HTML object>"
      ]
     },
     "metadata": {},
     "output_type": "display_data"
    },
    {
     "data": {
      "text/html": [
       "Tracking run with wandb version 0.15.4"
      ],
      "text/plain": [
       "<IPython.core.display.HTML object>"
      ]
     },
     "metadata": {},
     "output_type": "display_data"
    },
    {
     "data": {
      "text/html": [
       "Run data is saved locally in <code>../logs/wandb\\run-20230702_141954-1fze6mpr</code>"
      ],
      "text/plain": [
       "<IPython.core.display.HTML object>"
      ]
     },
     "metadata": {},
     "output_type": "display_data"
    },
    {
     "data": {
      "text/html": [
       "Syncing run <strong><a href='https://wandb.ai/dmitrii_fomin_uga/Internship_project/runs/1fze6mpr' target=\"_blank\">EM_DWBLoss()_ROS-0.05</a></strong> to <a href='https://wandb.ai/dmitrii_fomin_uga/Internship_project' target=\"_blank\">Weights & Biases</a> (<a href='https://wandb.me/run' target=\"_blank\">docs</a>)<br/>"
      ],
      "text/plain": [
       "<IPython.core.display.HTML object>"
      ]
     },
     "metadata": {},
     "output_type": "display_data"
    },
    {
     "data": {
      "text/html": [
       " View project at <a href='https://wandb.ai/dmitrii_fomin_uga/Internship_project' target=\"_blank\">https://wandb.ai/dmitrii_fomin_uga/Internship_project</a>"
      ],
      "text/plain": [
       "<IPython.core.display.HTML object>"
      ]
     },
     "metadata": {},
     "output_type": "display_data"
    },
    {
     "data": {
      "text/html": [
       " View run at <a href='https://wandb.ai/dmitrii_fomin_uga/Internship_project/runs/1fze6mpr' target=\"_blank\">https://wandb.ai/dmitrii_fomin_uga/Internship_project/runs/1fze6mpr</a>"
      ],
      "text/plain": [
       "<IPython.core.display.HTML object>"
      ]
     },
     "metadata": {},
     "output_type": "display_data"
    },
    {
     "data": {
      "text/html": [
       "Waiting for W&B process to finish... <strong style=\"color:green\">(success).</strong>"
      ],
      "text/plain": [
       "<IPython.core.display.HTML object>"
      ]
     },
     "metadata": {},
     "output_type": "display_data"
    },
    {
     "data": {
      "text/html": [
       "<style>\n",
       "    table.wandb td:nth-child(1) { padding: 0 10px; text-align: left ; width: auto;} td:nth-child(2) {text-align: left ; width: 100%}\n",
       "    .wandb-row { display: flex; flex-direction: row; flex-wrap: wrap; justify-content: flex-start; width: 100% }\n",
       "    .wandb-col { display: flex; flex-direction: column; flex-basis: 100%; flex: 1; padding: 10px; }\n",
       "    </style>\n",
       "<div class=\"wandb-row\"><div class=\"wandb-col\"><h3>Run history:</h3><br/><table class=\"wandb\"><tr><td>epoch</td><td>▁▁▁▂▂▂▂▂▂▃▃▃▃▃▄▄▄▄▄▄▅▅▅▅▅▅▆▆▆▆▆▇▇▇▇▇▇███</td></tr><tr><td>lr</td><td>█▇▇▆▆▅▅▄▄▄▃▃▃▃▃▂▂▂▂▂▂▂▂▂▁▁▁▁▁▁▁▁▁▁▁▁▁▁▁▁</td></tr><tr><td>test_accuracy</td><td>▁▁▄▆▇▇██████████████████████████████████</td></tr><tr><td>test_auc_score</td><td>▁▄▅▆▅▆▆▇▇▇▇█▇▇████▇███▇████▇▇████▇▇▇▇▇▇▇</td></tr><tr><td>test_f1_score</td><td>▁▁▃▅▆▆▇▇▇▇██▇▇▇█████████████████████████</td></tr><tr><td>test_fpr</td><td>██▅▃▂▂▁▁▁▁▁▁▁▁▁▁▁▁▁▁▁▁▁▁▁▁▁▁▁▁▁▁▁▁▁▁▁▁▁▁</td></tr><tr><td>test_loss</td><td>▆█▅▃▂▂▁▁▁▁▁▁▁▁▁▁▁▁▁▁▁▁▁▁▁▁▁▁▁▁▁▁▁▁▁▁▁▁▁▁</td></tr><tr><td>test_tpr</td><td>██▇▆▅▄▃▂▃▃▂▁▃▃▃▃▄▂▃▃▃▃▂▃▁▂▃▂▃▃▃▃▃▃▃▃▃▃▂▃</td></tr><tr><td>train_accuracy</td><td>▁▆▆▆▆▇▇▆▇▇▇▇▇▇▇▇███▇████████████████████</td></tr><tr><td>train_auc_score</td><td>▁▅▆▇▇▇▇▇▇▇▇▇▇▇██████████████████████████</td></tr><tr><td>train_f1_score</td><td>▁▄▅▅▅▆▆▅▆▆▇▇▇▇▇▇▇▇▇▇▇▇█▇█████▇██████████</td></tr><tr><td>train_fpr</td><td>█▃▃▃▃▂▂▂▂▂▂▂▂▂▂▂▁▂▁▂▁▁▁▁▁▁▁▁▁▁▁▁▁▁▁▁▁▁▁▁</td></tr><tr><td>train_loss</td><td>█▆▄▃▃▂▂▂▂▂▂▂▂▂▂▁▁▁▁▁▁▁▁▁▁▁▁▁▁▁▁▁▁▁▁▁▁▁▁▁</td></tr><tr><td>train_tpr</td><td>▁▂▅▆▅▆▆▆▇▇▇▇▇▇▇▇▇█▇▇████████▇███████████</td></tr></table><br/></div><div class=\"wandb-col\"><h3>Run summary:</h3><br/><table class=\"wandb\"><tr><td>epoch</td><td>39</td></tr><tr><td>lr</td><td>0.00015</td></tr><tr><td>test_accuracy</td><td>0.9807</td></tr><tr><td>test_auc_score</td><td>0.95671</td></tr><tr><td>test_f1_score</td><td>0.86139</td></tr><tr><td>test_fpr</td><td>0.01234</td></tr><tr><td>test_loss</td><td>-0.01879</td></tr><tr><td>test_tpr</td><td>0.77963</td></tr><tr><td>train_accuracy</td><td>0.98943</td></tr><tr><td>train_auc_score</td><td>0.98967</td></tr><tr><td>train_f1_score</td><td>0.9405</td></tr><tr><td>train_fpr</td><td>0.00446</td></tr><tr><td>train_loss</td><td>-0.02509</td></tr><tr><td>train_tpr</td><td>0.86791</td></tr></table><br/></div></div>"
      ],
      "text/plain": [
       "<IPython.core.display.HTML object>"
      ]
     },
     "metadata": {},
     "output_type": "display_data"
    },
    {
     "data": {
      "text/html": [
       " View run <strong style=\"color:#cdcd00\">EM_DWBLoss()_ROS-0.05</strong> at: <a href='https://wandb.ai/dmitrii_fomin_uga/Internship_project/runs/1fze6mpr' target=\"_blank\">https://wandb.ai/dmitrii_fomin_uga/Internship_project/runs/1fze6mpr</a><br/>Synced 5 W&B file(s), 0 media file(s), 0 artifact file(s) and 0 other file(s)"
      ],
      "text/plain": [
       "<IPython.core.display.HTML object>"
      ]
     },
     "metadata": {},
     "output_type": "display_data"
    },
    {
     "data": {
      "text/html": [
       "Find logs at: <code>../logs/wandb\\run-20230702_141954-1fze6mpr\\logs</code>"
      ],
      "text/plain": [
       "<IPython.core.display.HTML object>"
      ]
     },
     "metadata": {},
     "output_type": "display_data"
    },
    {
     "data": {
      "text/html": [
       "Tracking run with wandb version 0.15.4"
      ],
      "text/plain": [
       "<IPython.core.display.HTML object>"
      ]
     },
     "metadata": {},
     "output_type": "display_data"
    },
    {
     "data": {
      "text/html": [
       "Run data is saved locally in <code>../logs/wandb\\run-20230702_142008-psar12vn</code>"
      ],
      "text/plain": [
       "<IPython.core.display.HTML object>"
      ]
     },
     "metadata": {},
     "output_type": "display_data"
    },
    {
     "data": {
      "text/html": [
       "Syncing run <strong><a href='https://wandb.ai/dmitrii_fomin_uga/Internship_project/runs/psar12vn' target=\"_blank\">EM_DWBLoss()_ROS-0.1</a></strong> to <a href='https://wandb.ai/dmitrii_fomin_uga/Internship_project' target=\"_blank\">Weights & Biases</a> (<a href='https://wandb.me/run' target=\"_blank\">docs</a>)<br/>"
      ],
      "text/plain": [
       "<IPython.core.display.HTML object>"
      ]
     },
     "metadata": {},
     "output_type": "display_data"
    },
    {
     "data": {
      "text/html": [
       " View project at <a href='https://wandb.ai/dmitrii_fomin_uga/Internship_project' target=\"_blank\">https://wandb.ai/dmitrii_fomin_uga/Internship_project</a>"
      ],
      "text/plain": [
       "<IPython.core.display.HTML object>"
      ]
     },
     "metadata": {},
     "output_type": "display_data"
    },
    {
     "data": {
      "text/html": [
       " View run at <a href='https://wandb.ai/dmitrii_fomin_uga/Internship_project/runs/psar12vn' target=\"_blank\">https://wandb.ai/dmitrii_fomin_uga/Internship_project/runs/psar12vn</a>"
      ],
      "text/plain": [
       "<IPython.core.display.HTML object>"
      ]
     },
     "metadata": {},
     "output_type": "display_data"
    },
    {
     "data": {
      "text/html": [
       "Waiting for W&B process to finish... <strong style=\"color:green\">(success).</strong>"
      ],
      "text/plain": [
       "<IPython.core.display.HTML object>"
      ]
     },
     "metadata": {},
     "output_type": "display_data"
    },
    {
     "data": {
      "text/html": [
       "<style>\n",
       "    table.wandb td:nth-child(1) { padding: 0 10px; text-align: left ; width: auto;} td:nth-child(2) {text-align: left ; width: 100%}\n",
       "    .wandb-row { display: flex; flex-direction: row; flex-wrap: wrap; justify-content: flex-start; width: 100% }\n",
       "    .wandb-col { display: flex; flex-direction: column; flex-basis: 100%; flex: 1; padding: 10px; }\n",
       "    </style>\n",
       "<div class=\"wandb-row\"><div class=\"wandb-col\"><h3>Run history:</h3><br/><table class=\"wandb\"><tr><td>epoch</td><td>▁▁▁▂▂▂▂▂▂▃▃▃▃▃▄▄▄▄▄▄▅▅▅▅▅▅▆▆▆▆▆▇▇▇▇▇▇███</td></tr><tr><td>lr</td><td>█▇▇▆▆▅▅▄▄▄▃▃▃▃▃▂▂▂▂▂▂▂▂▂▁▁▁▁▁▁▁▁▁▁▁▁▁▁▁▁</td></tr><tr><td>test_accuracy</td><td>▁▂▅▇▇█▇█▇▇██████████████████████████████</td></tr><tr><td>test_auc_score</td><td>▂▁▄▄▅▅▆▇▇▇▇▇▇▇██▇▇▇▇▇▇▇▆▆▆▆▆▆▅▇▇▆▆▆▇▆▆▆▆</td></tr><tr><td>test_f1_score</td><td>▁▂▄▅▆▇▆▇▇▆▇▇▇▇▇▇▇▇▇█████████████████████</td></tr><tr><td>test_fpr</td><td>█▇▄▂▂▁▂▁▂▂▁▁▁▁▁▁▁▁▁▁▁▁▁▁▁▁▁▁▁▁▁▁▁▁▁▁▁▁▁▁</td></tr><tr><td>test_loss</td><td>▇█▅▃▂▂▂▁▂▂▂▁▁▁▁▁▂▁▁▁▁▁▁▁▁▁▁▁▁▁▁▁▁▁▁▁▁▁▁▁</td></tr><tr><td>test_tpr</td><td>█▇▆▅▄▂▄▄▄▅▄▃▂▄▃▄▅▅▄▂▁▃▂▂▃▃▃▃▃▄▃▃▃▂▂▃▄▃▃▃</td></tr><tr><td>train_accuracy</td><td>▁▃▄▅▅▅▅▆▆▅▆▆▆▆▆▆▆▆▇▇▇▇▇▇▇█▇▇▇▇▇█████████</td></tr><tr><td>train_auc_score</td><td>▁▆▆▇▇▇▇▇██▇█████████████████████████████</td></tr><tr><td>train_f1_score</td><td>▁▄▅▅▅▆▆▆▆▅▆▇▆▆▇▆▆▇▇▇▇▇▇▇▇█▇▇█▇▇█████████</td></tr><tr><td>train_fpr</td><td>██▇▅▆▅▆▄▆█▃▃▆▄▃▄▆▄▄▂▃▃▃▃▂▁▂▂▂▂▂▂▂▁▁▂▁▁▁▁</td></tr><tr><td>train_loss</td><td>█▅▄▃▃▃▃▃▂▂▂▂▂▂▂▂▂▂▂▂▂▂▁▁▁▁▁▁▁▁▁▁▁▁▁▁▁▁▁▁</td></tr><tr><td>train_tpr</td><td>▁▅▆▆▆▆▇▇▇▇▆▇█▇▇▇▇█▇▇████████████████████</td></tr></table><br/></div><div class=\"wandb-col\"><h3>Run summary:</h3><br/><table class=\"wandb\"><tr><td>epoch</td><td>39</td></tr><tr><td>lr</td><td>0.00015</td></tr><tr><td>test_accuracy</td><td>0.95702</td></tr><tr><td>test_auc_score</td><td>0.95155</td></tr><tr><td>test_f1_score</td><td>0.77503</td></tr><tr><td>test_fpr</td><td>0.03925</td></tr><tr><td>test_loss</td><td>-0.01321</td></tr><tr><td>test_tpr</td><td>0.85119</td></tr><tr><td>train_accuracy</td><td>0.98558</td></tr><tr><td>train_auc_score</td><td>0.99551</td></tr><tr><td>train_f1_score</td><td>0.95727</td></tr><tr><td>train_fpr</td><td>0.01366</td></tr><tr><td>train_loss</td><td>-0.02366</td></tr><tr><td>train_tpr</td><td>0.97886</td></tr></table><br/></div></div>"
      ],
      "text/plain": [
       "<IPython.core.display.HTML object>"
      ]
     },
     "metadata": {},
     "output_type": "display_data"
    },
    {
     "data": {
      "text/html": [
       " View run <strong style=\"color:#cdcd00\">EM_DWBLoss()_ROS-0.1</strong> at: <a href='https://wandb.ai/dmitrii_fomin_uga/Internship_project/runs/psar12vn' target=\"_blank\">https://wandb.ai/dmitrii_fomin_uga/Internship_project/runs/psar12vn</a><br/>Synced 5 W&B file(s), 0 media file(s), 0 artifact file(s) and 0 other file(s)"
      ],
      "text/plain": [
       "<IPython.core.display.HTML object>"
      ]
     },
     "metadata": {},
     "output_type": "display_data"
    },
    {
     "data": {
      "text/html": [
       "Find logs at: <code>../logs/wandb\\run-20230702_142008-psar12vn\\logs</code>"
      ],
      "text/plain": [
       "<IPython.core.display.HTML object>"
      ]
     },
     "metadata": {},
     "output_type": "display_data"
    },
    {
     "data": {
      "text/html": [
       "Tracking run with wandb version 0.15.4"
      ],
      "text/plain": [
       "<IPython.core.display.HTML object>"
      ]
     },
     "metadata": {},
     "output_type": "display_data"
    },
    {
     "data": {
      "text/html": [
       "Run data is saved locally in <code>../logs/wandb\\run-20230702_142023-azvrae1p</code>"
      ],
      "text/plain": [
       "<IPython.core.display.HTML object>"
      ]
     },
     "metadata": {},
     "output_type": "display_data"
    },
    {
     "data": {
      "text/html": [
       "Syncing run <strong><a href='https://wandb.ai/dmitrii_fomin_uga/Internship_project/runs/azvrae1p' target=\"_blank\">EM_DWBLoss()_ROS-0.2</a></strong> to <a href='https://wandb.ai/dmitrii_fomin_uga/Internship_project' target=\"_blank\">Weights & Biases</a> (<a href='https://wandb.me/run' target=\"_blank\">docs</a>)<br/>"
      ],
      "text/plain": [
       "<IPython.core.display.HTML object>"
      ]
     },
     "metadata": {},
     "output_type": "display_data"
    },
    {
     "data": {
      "text/html": [
       " View project at <a href='https://wandb.ai/dmitrii_fomin_uga/Internship_project' target=\"_blank\">https://wandb.ai/dmitrii_fomin_uga/Internship_project</a>"
      ],
      "text/plain": [
       "<IPython.core.display.HTML object>"
      ]
     },
     "metadata": {},
     "output_type": "display_data"
    },
    {
     "data": {
      "text/html": [
       " View run at <a href='https://wandb.ai/dmitrii_fomin_uga/Internship_project/runs/azvrae1p' target=\"_blank\">https://wandb.ai/dmitrii_fomin_uga/Internship_project/runs/azvrae1p</a>"
      ],
      "text/plain": [
       "<IPython.core.display.HTML object>"
      ]
     },
     "metadata": {},
     "output_type": "display_data"
    },
    {
     "data": {
      "text/html": [
       "Waiting for W&B process to finish... <strong style=\"color:green\">(success).</strong>"
      ],
      "text/plain": [
       "<IPython.core.display.HTML object>"
      ]
     },
     "metadata": {},
     "output_type": "display_data"
    },
    {
     "data": {
      "text/html": [
       "<style>\n",
       "    table.wandb td:nth-child(1) { padding: 0 10px; text-align: left ; width: auto;} td:nth-child(2) {text-align: left ; width: 100%}\n",
       "    .wandb-row { display: flex; flex-direction: row; flex-wrap: wrap; justify-content: flex-start; width: 100% }\n",
       "    .wandb-col { display: flex; flex-direction: column; flex-basis: 100%; flex: 1; padding: 10px; }\n",
       "    </style>\n",
       "<div class=\"wandb-row\"><div class=\"wandb-col\"><h3>Run history:</h3><br/><table class=\"wandb\"><tr><td>epoch</td><td>▁▁▁▂▂▂▂▂▂▃▃▃▃▃▄▄▄▄▄▄▅▅▅▅▅▅▆▆▆▆▆▇▇▇▇▇▇███</td></tr><tr><td>lr</td><td>█▇▇▆▆▅▅▄▄▄▃▃▃▃▃▂▂▂▂▂▂▂▂▂▁▁▁▁▁▁▁▁▁▁▁▁▁▁▁▁</td></tr><tr><td>test_accuracy</td><td>▁▃▅▆▇▇█████▇████████████████████████████</td></tr><tr><td>test_auc_score</td><td>▁▃▄▅▆█▇▇▇▆▇██▇▇▆▇▆▆▇▇▇▆▇▇▇▆▆▆▅▆▆▇▇▆▇▆▆▆▆</td></tr><tr><td>test_f1_score</td><td>▁▃▅▆▆▇▇▇▇▇▇▇▇▇██████████████████████████</td></tr><tr><td>test_fpr</td><td>█▆▄▃▂▂▁▁▁▁▁▂▁▁▁▁▁▁▁▁▁▁▁▁▁▁▁▁▁▁▁▁▁▁▁▁▁▁▁▁</td></tr><tr><td>test_loss</td><td>█▇▄▃▂▂▁▁▁▁▁▂▁▁▁▁▁▁▁▁▁▁▁▁▁▁▁▁▁▁▁▁▁▁▁▁▁▁▁▁</td></tr><tr><td>test_tpr</td><td>██▇▅▂▄▄▃▂▂▃▃▄▂▃▁▂▂▃▂▃▂▃▂▂▂▂▂▃▃▂▂▃▂▂▂▂▂▁▂</td></tr><tr><td>train_accuracy</td><td>▁▅▆▆▆▆▇▇▇▇▇▇▇▇▇▇▇▇██████████████████████</td></tr><tr><td>train_auc_score</td><td>▁▆▆▇▇▇▇▇▇█▇▇▇███████████████████████████</td></tr><tr><td>train_f1_score</td><td>▁▅▅▆▆▆▆▇▇▇▇▇▇▇▇▇▇▇█▇█▇██████████████████</td></tr><tr><td>train_fpr</td><td>█▄▃▃▃▃▃▂▂▂▂▂▂▂▂▂▂▂▁▁▁▂▁▁▁▁▁▁▁▁▁▁▁▁▁▁▁▁▁▁</td></tr><tr><td>train_loss</td><td>█▅▄▃▃▃▂▂▂▂▂▂▂▂▂▂▂▂▁▁▁▁▁▁▁▁▁▁▁▁▁▁▁▁▁▁▁▁▁▁</td></tr><tr><td>train_tpr</td><td>▁▆▆▇▇▇▇▇▇▇█▇▇▇██████████████████████████</td></tr></table><br/></div><div class=\"wandb-col\"><h3>Run summary:</h3><br/><table class=\"wandb\"><tr><td>epoch</td><td>39</td></tr><tr><td>lr</td><td>0.00015</td></tr><tr><td>test_accuracy</td><td>0.94196</td></tr><tr><td>test_auc_score</td><td>0.95293</td></tr><tr><td>test_f1_score</td><td>0.7391</td></tr><tr><td>test_fpr</td><td>0.05629</td></tr><tr><td>test_loss</td><td>-0.00431</td></tr><tr><td>test_tpr</td><td>0.88951</td></tr><tr><td>train_accuracy</td><td>0.9793</td></tr><tr><td>train_auc_score</td><td>0.99802</td></tr><tr><td>train_f1_score</td><td>0.9622</td></tr><tr><td>train_fpr</td><td>0.00944</td></tr><tr><td>train_loss</td><td>-0.01161</td></tr><tr><td>train_tpr</td><td>0.92322</td></tr></table><br/></div></div>"
      ],
      "text/plain": [
       "<IPython.core.display.HTML object>"
      ]
     },
     "metadata": {},
     "output_type": "display_data"
    },
    {
     "data": {
      "text/html": [
       " View run <strong style=\"color:#cdcd00\">EM_DWBLoss()_ROS-0.2</strong> at: <a href='https://wandb.ai/dmitrii_fomin_uga/Internship_project/runs/azvrae1p' target=\"_blank\">https://wandb.ai/dmitrii_fomin_uga/Internship_project/runs/azvrae1p</a><br/>Synced 5 W&B file(s), 0 media file(s), 0 artifact file(s) and 0 other file(s)"
      ],
      "text/plain": [
       "<IPython.core.display.HTML object>"
      ]
     },
     "metadata": {},
     "output_type": "display_data"
    },
    {
     "data": {
      "text/html": [
       "Find logs at: <code>../logs/wandb\\run-20230702_142023-azvrae1p\\logs</code>"
      ],
      "text/plain": [
       "<IPython.core.display.HTML object>"
      ]
     },
     "metadata": {},
     "output_type": "display_data"
    },
    {
     "data": {
      "text/html": [
       "Tracking run with wandb version 0.15.4"
      ],
      "text/plain": [
       "<IPython.core.display.HTML object>"
      ]
     },
     "metadata": {},
     "output_type": "display_data"
    },
    {
     "data": {
      "text/html": [
       "Run data is saved locally in <code>../logs/wandb\\run-20230702_142038-e4ffgbu7</code>"
      ],
      "text/plain": [
       "<IPython.core.display.HTML object>"
      ]
     },
     "metadata": {},
     "output_type": "display_data"
    },
    {
     "data": {
      "text/html": [
       "Syncing run <strong><a href='https://wandb.ai/dmitrii_fomin_uga/Internship_project/runs/e4ffgbu7' target=\"_blank\">EM_DWBLoss()_ROS-0.3</a></strong> to <a href='https://wandb.ai/dmitrii_fomin_uga/Internship_project' target=\"_blank\">Weights & Biases</a> (<a href='https://wandb.me/run' target=\"_blank\">docs</a>)<br/>"
      ],
      "text/plain": [
       "<IPython.core.display.HTML object>"
      ]
     },
     "metadata": {},
     "output_type": "display_data"
    },
    {
     "data": {
      "text/html": [
       " View project at <a href='https://wandb.ai/dmitrii_fomin_uga/Internship_project' target=\"_blank\">https://wandb.ai/dmitrii_fomin_uga/Internship_project</a>"
      ],
      "text/plain": [
       "<IPython.core.display.HTML object>"
      ]
     },
     "metadata": {},
     "output_type": "display_data"
    },
    {
     "data": {
      "text/html": [
       " View run at <a href='https://wandb.ai/dmitrii_fomin_uga/Internship_project/runs/e4ffgbu7' target=\"_blank\">https://wandb.ai/dmitrii_fomin_uga/Internship_project/runs/e4ffgbu7</a>"
      ],
      "text/plain": [
       "<IPython.core.display.HTML object>"
      ]
     },
     "metadata": {},
     "output_type": "display_data"
    },
    {
     "data": {
      "text/html": [
       "Waiting for W&B process to finish... <strong style=\"color:green\">(success).</strong>"
      ],
      "text/plain": [
       "<IPython.core.display.HTML object>"
      ]
     },
     "metadata": {},
     "output_type": "display_data"
    },
    {
     "data": {
      "text/html": [
       "<style>\n",
       "    table.wandb td:nth-child(1) { padding: 0 10px; text-align: left ; width: auto;} td:nth-child(2) {text-align: left ; width: 100%}\n",
       "    .wandb-row { display: flex; flex-direction: row; flex-wrap: wrap; justify-content: flex-start; width: 100% }\n",
       "    .wandb-col { display: flex; flex-direction: column; flex-basis: 100%; flex: 1; padding: 10px; }\n",
       "    </style>\n",
       "<div class=\"wandb-row\"><div class=\"wandb-col\"><h3>Run history:</h3><br/><table class=\"wandb\"><tr><td>epoch</td><td>▁▁▁▂▂▂▂▂▂▃▃▃▃▃▄▄▄▄▄▄▅▅▅▅▅▅▆▆▆▆▆▇▇▇▇▇▇███</td></tr><tr><td>lr</td><td>█▇▇▆▆▅▅▄▄▄▃▃▃▃▃▂▂▂▂▂▂▂▂▂▁▁▁▁▁▁▁▁▁▁▁▁▁▁▁▁</td></tr><tr><td>test_accuracy</td><td>▁▃▅▆▇▇▇▇▇▇██████████████████████████████</td></tr><tr><td>test_auc_score</td><td>▁▅▇▆▇▇▇▇▇▇█▇███▇▇██▇▇█▇█▇▆▇▇▇▇▇▇▆▆▆▇▆▇▇▇</td></tr><tr><td>test_f1_score</td><td>▁▄▅▆▆▇▆▇▇▇▇▇▇▇█▇▇▇▇█████████████████████</td></tr><tr><td>test_fpr</td><td>█▆▄▃▂▂▂▂▂▂▁▁▁▁▁▁▁▁▁▁▁▁▁▁▁▁▁▁▁▁▁▁▁▁▁▁▁▁▁▁</td></tr><tr><td>test_loss</td><td>▇█▅▅▃▃▃▃▃▂▂▂▂▂▁▂▂▂▂▁▁▁▁▁▁▁▁▁▁▁▁▁▁▁▁▁▁▁▁▁</td></tr><tr><td>test_tpr</td><td>███▆▅▆▅▅▅▃▄▄▄▃▃▂▄▂▄▂▃▃▂▃▁▂▂▁▂▂▂▂▂▂▃▂▂▂▂▂</td></tr><tr><td>train_accuracy</td><td>▁▅▅▅▅▅▅▅▅▆▆▆▆▇▇▇▆▇▇▇▇▇▇█▇███████████████</td></tr><tr><td>train_auc_score</td><td>▁▇▇▇▇▇▇▇▇███████████████████████████████</td></tr><tr><td>train_f1_score</td><td>▁▅▆▆▅▆▅▆▆▆▇▇▇▇▇▇▇▇▇▇▇▇▇█████████████████</td></tr><tr><td>train_fpr</td><td>█▆▅▅▅▅▆▅▅▅▃▄▄▃▂▃▄▃▂▂▂▂▂▂▂▁▁▁▁▁▁▁▁▁▁▁▁▁▁▁</td></tr><tr><td>train_loss</td><td>█▅▃▃▃▃▃▃▃▂▂▂▂▂▂▂▂▂▂▁▁▁▁▁▁▁▁▁▁▁▁▁▁▁▁▁▁▁▁▁</td></tr><tr><td>train_tpr</td><td>▁▆▇▇▇▇▇▇▇█▇█████████████████████████████</td></tr></table><br/></div><div class=\"wandb-col\"><h3>Run summary:</h3><br/><table class=\"wandb\"><tr><td>epoch</td><td>39</td></tr><tr><td>lr</td><td>0.00015</td></tr><tr><td>test_accuracy</td><td>0.89467</td></tr><tr><td>test_auc_score</td><td>0.9499</td></tr><tr><td>test_f1_score</td><td>0.65993</td></tr><tr><td>test_fpr</td><td>0.10663</td></tr><tr><td>test_loss</td><td>0.01568</td></tr><tr><td>test_tpr</td><td>0.93137</td></tr><tr><td>train_accuracy</td><td>0.97857</td></tr><tr><td>train_auc_score</td><td>0.99445</td></tr><tr><td>train_f1_score</td><td>0.97062</td></tr><tr><td>train_fpr</td><td>0.02487</td></tr><tr><td>train_loss</td><td>-0.00858</td></tr><tr><td>train_tpr</td><td>0.9903</td></tr></table><br/></div></div>"
      ],
      "text/plain": [
       "<IPython.core.display.HTML object>"
      ]
     },
     "metadata": {},
     "output_type": "display_data"
    },
    {
     "data": {
      "text/html": [
       " View run <strong style=\"color:#cdcd00\">EM_DWBLoss()_ROS-0.3</strong> at: <a href='https://wandb.ai/dmitrii_fomin_uga/Internship_project/runs/e4ffgbu7' target=\"_blank\">https://wandb.ai/dmitrii_fomin_uga/Internship_project/runs/e4ffgbu7</a><br/>Synced 5 W&B file(s), 0 media file(s), 0 artifact file(s) and 0 other file(s)"
      ],
      "text/plain": [
       "<IPython.core.display.HTML object>"
      ]
     },
     "metadata": {},
     "output_type": "display_data"
    },
    {
     "data": {
      "text/html": [
       "Find logs at: <code>../logs/wandb\\run-20230702_142038-e4ffgbu7\\logs</code>"
      ],
      "text/plain": [
       "<IPython.core.display.HTML object>"
      ]
     },
     "metadata": {},
     "output_type": "display_data"
    },
    {
     "data": {
      "text/html": [
       "Tracking run with wandb version 0.15.4"
      ],
      "text/plain": [
       "<IPython.core.display.HTML object>"
      ]
     },
     "metadata": {},
     "output_type": "display_data"
    },
    {
     "data": {
      "text/html": [
       "Run data is saved locally in <code>../logs/wandb\\run-20230702_142053-pvqiiajw</code>"
      ],
      "text/plain": [
       "<IPython.core.display.HTML object>"
      ]
     },
     "metadata": {},
     "output_type": "display_data"
    },
    {
     "data": {
      "text/html": [
       "Syncing run <strong><a href='https://wandb.ai/dmitrii_fomin_uga/Internship_project/runs/pvqiiajw' target=\"_blank\">EM_DWBLoss()_ROS-0.4</a></strong> to <a href='https://wandb.ai/dmitrii_fomin_uga/Internship_project' target=\"_blank\">Weights & Biases</a> (<a href='https://wandb.me/run' target=\"_blank\">docs</a>)<br/>"
      ],
      "text/plain": [
       "<IPython.core.display.HTML object>"
      ]
     },
     "metadata": {},
     "output_type": "display_data"
    },
    {
     "data": {
      "text/html": [
       " View project at <a href='https://wandb.ai/dmitrii_fomin_uga/Internship_project' target=\"_blank\">https://wandb.ai/dmitrii_fomin_uga/Internship_project</a>"
      ],
      "text/plain": [
       "<IPython.core.display.HTML object>"
      ]
     },
     "metadata": {},
     "output_type": "display_data"
    },
    {
     "data": {
      "text/html": [
       " View run at <a href='https://wandb.ai/dmitrii_fomin_uga/Internship_project/runs/pvqiiajw' target=\"_blank\">https://wandb.ai/dmitrii_fomin_uga/Internship_project/runs/pvqiiajw</a>"
      ],
      "text/plain": [
       "<IPython.core.display.HTML object>"
      ]
     },
     "metadata": {},
     "output_type": "display_data"
    },
    {
     "data": {
      "text/html": [
       "Waiting for W&B process to finish... <strong style=\"color:green\">(success).</strong>"
      ],
      "text/plain": [
       "<IPython.core.display.HTML object>"
      ]
     },
     "metadata": {},
     "output_type": "display_data"
    },
    {
     "data": {
      "text/html": [
       "<style>\n",
       "    table.wandb td:nth-child(1) { padding: 0 10px; text-align: left ; width: auto;} td:nth-child(2) {text-align: left ; width: 100%}\n",
       "    .wandb-row { display: flex; flex-direction: row; flex-wrap: wrap; justify-content: flex-start; width: 100% }\n",
       "    .wandb-col { display: flex; flex-direction: column; flex-basis: 100%; flex: 1; padding: 10px; }\n",
       "    </style>\n",
       "<div class=\"wandb-row\"><div class=\"wandb-col\"><h3>Run history:</h3><br/><table class=\"wandb\"><tr><td>epoch</td><td>▁▁▁▂▂▂▂▂▂▃▃▃▃▃▄▄▄▄▄▄▅▅▅▅▅▅▆▆▆▆▆▇▇▇▇▇▇███</td></tr><tr><td>lr</td><td>█▇▇▆▆▅▅▄▄▄▃▃▃▃▃▂▂▂▂▂▂▂▂▂▁▁▁▁▁▁▁▁▁▁▁▁▁▁▁▁</td></tr><tr><td>test_accuracy</td><td>▁▄▆▆▆▇▇▇▇████▇██████████████████████████</td></tr><tr><td>test_auc_score</td><td>▁▅▇▇▇▇██▇███▇█▇██████████████▇████▇▇█▇▇▇</td></tr><tr><td>test_f1_score</td><td>▁▄▆▆▆▇▇▇▇▇▇▇█▇▇▇████████████████████████</td></tr><tr><td>test_fpr</td><td>█▅▃▃▃▂▂▂▂▁▁▁▁▂▁▁▁▁▁▁▁▁▁▁▁▁▁▁▁▁▁▁▁▁▁▁▁▁▁▁</td></tr><tr><td>test_loss</td><td>██▆▄▄▃▂▂▂▂▂▂▂▂▂▂▁▁▁▂▁▁▁▁▁▁▁▁▁▁▁▁▁▁▁▁▁▁▁▁</td></tr><tr><td>test_tpr</td><td>█▇▇▅▇▇▆▆▅▆▃▅▂▅▅▃▄▅▃▄▂▁▅▄▃▂▃▂▃▂▄▆▄▄▄▅▅▄▅▄</td></tr><tr><td>train_accuracy</td><td>▁▆▇▇▇▇▇▇▇▇▇█▇▇▇▇████████████████████████</td></tr><tr><td>train_auc_score</td><td>▁▇▇▇▇███████████████████████████████████</td></tr><tr><td>train_f1_score</td><td>▁▆▇▇▆▇▇▇▇▇▇▇▇▇▇▇████████████████████████</td></tr><tr><td>train_fpr</td><td>█▃▂▂▂▂▂▂▂▂▁▁▁▂▂▂▁▁▁▁▁▁▁▁▁▁▁▁▁▁▁▁▁▁▁▁▁▁▁▁</td></tr><tr><td>train_loss</td><td>█▅▃▃▃▂▂▂▂▂▂▂▂▂▂▂▁▁▁▁▁▁▁▁▁▁▁▁▁▁▁▁▁▁▁▁▁▁▁▁</td></tr><tr><td>train_tpr</td><td>▁▁▃▄▅▆▅▅▅▆▆▆▆▆▆▇▇▇▇▇▇▇▇█▇█████▇█████████</td></tr></table><br/></div><div class=\"wandb-col\"><h3>Run summary:</h3><br/><table class=\"wandb\"><tr><td>epoch</td><td>39</td></tr><tr><td>lr</td><td>0.00015</td></tr><tr><td>test_accuracy</td><td>0.87072</td></tr><tr><td>test_auc_score</td><td>0.95287</td></tr><tr><td>test_f1_score</td><td>0.63138</td></tr><tr><td>test_fpr</td><td>0.13248</td></tr><tr><td>test_loss</td><td>0.02662</td></tr><tr><td>test_tpr</td><td>0.95858</td></tr><tr><td>train_accuracy</td><td>0.98329</td></tr><tr><td>train_auc_score</td><td>0.99553</td></tr><tr><td>train_f1_score</td><td>0.97982</td></tr><tr><td>train_fpr</td><td>0.02268</td></tr><tr><td>train_loss</td><td>-0.00846</td></tr><tr><td>train_tpr</td><td>0.99837</td></tr></table><br/></div></div>"
      ],
      "text/plain": [
       "<IPython.core.display.HTML object>"
      ]
     },
     "metadata": {},
     "output_type": "display_data"
    },
    {
     "data": {
      "text/html": [
       " View run <strong style=\"color:#cdcd00\">EM_DWBLoss()_ROS-0.4</strong> at: <a href='https://wandb.ai/dmitrii_fomin_uga/Internship_project/runs/pvqiiajw' target=\"_blank\">https://wandb.ai/dmitrii_fomin_uga/Internship_project/runs/pvqiiajw</a><br/>Synced 5 W&B file(s), 0 media file(s), 0 artifact file(s) and 0 other file(s)"
      ],
      "text/plain": [
       "<IPython.core.display.HTML object>"
      ]
     },
     "metadata": {},
     "output_type": "display_data"
    },
    {
     "data": {
      "text/html": [
       "Find logs at: <code>../logs/wandb\\run-20230702_142053-pvqiiajw\\logs</code>"
      ],
      "text/plain": [
       "<IPython.core.display.HTML object>"
      ]
     },
     "metadata": {},
     "output_type": "display_data"
    },
    {
     "data": {
      "text/html": [
       "Tracking run with wandb version 0.15.4"
      ],
      "text/plain": [
       "<IPython.core.display.HTML object>"
      ]
     },
     "metadata": {},
     "output_type": "display_data"
    },
    {
     "data": {
      "text/html": [
       "Run data is saved locally in <code>../logs/wandb\\run-20230702_142109-aj2112kz</code>"
      ],
      "text/plain": [
       "<IPython.core.display.HTML object>"
      ]
     },
     "metadata": {},
     "output_type": "display_data"
    },
    {
     "data": {
      "text/html": [
       "Syncing run <strong><a href='https://wandb.ai/dmitrii_fomin_uga/Internship_project/runs/aj2112kz' target=\"_blank\">EM_DWBLoss()_ROS-0.5</a></strong> to <a href='https://wandb.ai/dmitrii_fomin_uga/Internship_project' target=\"_blank\">Weights & Biases</a> (<a href='https://wandb.me/run' target=\"_blank\">docs</a>)<br/>"
      ],
      "text/plain": [
       "<IPython.core.display.HTML object>"
      ]
     },
     "metadata": {},
     "output_type": "display_data"
    },
    {
     "data": {
      "text/html": [
       " View project at <a href='https://wandb.ai/dmitrii_fomin_uga/Internship_project' target=\"_blank\">https://wandb.ai/dmitrii_fomin_uga/Internship_project</a>"
      ],
      "text/plain": [
       "<IPython.core.display.HTML object>"
      ]
     },
     "metadata": {},
     "output_type": "display_data"
    },
    {
     "data": {
      "text/html": [
       " View run at <a href='https://wandb.ai/dmitrii_fomin_uga/Internship_project/runs/aj2112kz' target=\"_blank\">https://wandb.ai/dmitrii_fomin_uga/Internship_project/runs/aj2112kz</a>"
      ],
      "text/plain": [
       "<IPython.core.display.HTML object>"
      ]
     },
     "metadata": {},
     "output_type": "display_data"
    },
    {
     "data": {
      "text/html": [
       "Waiting for W&B process to finish... <strong style=\"color:green\">(success).</strong>"
      ],
      "text/plain": [
       "<IPython.core.display.HTML object>"
      ]
     },
     "metadata": {},
     "output_type": "display_data"
    },
    {
     "data": {
      "text/html": [
       "<style>\n",
       "    table.wandb td:nth-child(1) { padding: 0 10px; text-align: left ; width: auto;} td:nth-child(2) {text-align: left ; width: 100%}\n",
       "    .wandb-row { display: flex; flex-direction: row; flex-wrap: wrap; justify-content: flex-start; width: 100% }\n",
       "    .wandb-col { display: flex; flex-direction: column; flex-basis: 100%; flex: 1; padding: 10px; }\n",
       "    </style>\n",
       "<div class=\"wandb-row\"><div class=\"wandb-col\"><h3>Run history:</h3><br/><table class=\"wandb\"><tr><td>epoch</td><td>▁▁▁▂▂▂▂▂▂▃▃▃▃▃▄▄▄▄▄▄▅▅▅▅▅▅▆▆▆▆▆▇▇▇▇▇▇███</td></tr><tr><td>lr</td><td>█▇▇▆▆▅▅▄▄▄▃▃▃▃▃▂▂▂▂▂▂▂▂▂▁▁▁▁▁▁▁▁▁▁▁▁▁▁▁▁</td></tr><tr><td>test_accuracy</td><td>▁▃▅▆▆▆▇▇▇▇███▇▇▇▇▇██████████████████████</td></tr><tr><td>test_auc_score</td><td>▁▅▇▆▆▇▇▇█▇██▇▇▇▇▇███▇█████████████▇▇███▇</td></tr><tr><td>test_f1_score</td><td>▁▄▆▆▆▆▇▇▇▇▇██▇▇▇▇▇▇█████████████████████</td></tr><tr><td>test_fpr</td><td>█▆▄▃▃▃▂▂▂▂▁▁▁▂▂▂▂▂▁▁▁▁▁▁▁▁▁▁▁▁▁▁▁▁▁▁▁▁▁▁</td></tr><tr><td>test_loss</td><td>█▆▄▃▃▃▂▂▂▂▁▁▁▂▂▂▂▂▁▁▁▁▁▁▁▁▁▁▁▁▁▁▁▁▁▁▁▁▁▁</td></tr><tr><td>test_tpr</td><td>███▅▇▇▆▇▇▆▅▅▃▄▄▄▅▄▃▄▄▄▄▃▃▃▂▄▂▃▄▂▂▂▂▂▂▂▂▁</td></tr><tr><td>train_accuracy</td><td>▁▆▆▆▆▆▆▇▇▇▇▇▇▇▇▇▇▇██▇███████████████████</td></tr><tr><td>train_auc_score</td><td>▁▆▇▇▇▇▇▇▇████▇██████████████████████████</td></tr><tr><td>train_f1_score</td><td>▁▆▆▆▆▆▆▆▇▇▇▇▇▇▇▇▇▇██▇███████████████████</td></tr><tr><td>train_fpr</td><td>█▃▃▃▃▃▂▂▂▂▂▂▂▂▂▂▂▂▁▁▁▁▁▁▁▁▁▁▁▁▁▁▁▁▁▁▁▁▁▁</td></tr><tr><td>train_loss</td><td>█▅▄▄▃▃▃▃▂▂▂▂▂▂▂▂▂▂▂▂▂▁▂▁▁▁▁▁▁▁▁▁▁▁▁▁▁▁▁▁</td></tr><tr><td>train_tpr</td><td>▃▁▅▆▅▇▆▆▆▆▆▇▆▆▇▇▇▇▇▇▇▇▇█████████████████</td></tr></table><br/></div><div class=\"wandb-col\"><h3>Run summary:</h3><br/><table class=\"wandb\"><tr><td>epoch</td><td>39</td></tr><tr><td>lr</td><td>0.00015</td></tr><tr><td>test_accuracy</td><td>0.84356</td></tr><tr><td>test_auc_score</td><td>0.95084</td></tr><tr><td>test_f1_score</td><td>0.59795</td></tr><tr><td>test_fpr</td><td>0.1598</td></tr><tr><td>test_loss</td><td>0.04098</td></tr><tr><td>test_tpr</td><td>0.92809</td></tr><tr><td>train_accuracy</td><td>0.97866</td></tr><tr><td>train_auc_score</td><td>0.99483</td></tr><tr><td>train_f1_score</td><td>0.97632</td></tr><tr><td>train_fpr</td><td>0.03166</td></tr><tr><td>train_loss</td><td>-0.00253</td></tr><tr><td>train_tpr</td><td>0.99945</td></tr></table><br/></div></div>"
      ],
      "text/plain": [
       "<IPython.core.display.HTML object>"
      ]
     },
     "metadata": {},
     "output_type": "display_data"
    },
    {
     "data": {
      "text/html": [
       " View run <strong style=\"color:#cdcd00\">EM_DWBLoss()_ROS-0.5</strong> at: <a href='https://wandb.ai/dmitrii_fomin_uga/Internship_project/runs/aj2112kz' target=\"_blank\">https://wandb.ai/dmitrii_fomin_uga/Internship_project/runs/aj2112kz</a><br/>Synced 5 W&B file(s), 0 media file(s), 0 artifact file(s) and 0 other file(s)"
      ],
      "text/plain": [
       "<IPython.core.display.HTML object>"
      ]
     },
     "metadata": {},
     "output_type": "display_data"
    },
    {
     "data": {
      "text/html": [
       "Find logs at: <code>../logs/wandb\\run-20230702_142109-aj2112kz\\logs</code>"
      ],
      "text/plain": [
       "<IPython.core.display.HTML object>"
      ]
     },
     "metadata": {},
     "output_type": "display_data"
    },
    {
     "data": {
      "text/html": [
       "Tracking run with wandb version 0.15.4"
      ],
      "text/plain": [
       "<IPython.core.display.HTML object>"
      ]
     },
     "metadata": {},
     "output_type": "display_data"
    },
    {
     "data": {
      "text/html": [
       "Run data is saved locally in <code>../logs/wandb\\run-20230702_142125-ipx36ca2</code>"
      ],
      "text/plain": [
       "<IPython.core.display.HTML object>"
      ]
     },
     "metadata": {},
     "output_type": "display_data"
    },
    {
     "data": {
      "text/html": [
       "Syncing run <strong><a href='https://wandb.ai/dmitrii_fomin_uga/Internship_project/runs/ipx36ca2' target=\"_blank\">EM_DWBLoss()_ROS-0.6</a></strong> to <a href='https://wandb.ai/dmitrii_fomin_uga/Internship_project' target=\"_blank\">Weights & Biases</a> (<a href='https://wandb.me/run' target=\"_blank\">docs</a>)<br/>"
      ],
      "text/plain": [
       "<IPython.core.display.HTML object>"
      ]
     },
     "metadata": {},
     "output_type": "display_data"
    },
    {
     "data": {
      "text/html": [
       " View project at <a href='https://wandb.ai/dmitrii_fomin_uga/Internship_project' target=\"_blank\">https://wandb.ai/dmitrii_fomin_uga/Internship_project</a>"
      ],
      "text/plain": [
       "<IPython.core.display.HTML object>"
      ]
     },
     "metadata": {},
     "output_type": "display_data"
    },
    {
     "data": {
      "text/html": [
       " View run at <a href='https://wandb.ai/dmitrii_fomin_uga/Internship_project/runs/ipx36ca2' target=\"_blank\">https://wandb.ai/dmitrii_fomin_uga/Internship_project/runs/ipx36ca2</a>"
      ],
      "text/plain": [
       "<IPython.core.display.HTML object>"
      ]
     },
     "metadata": {},
     "output_type": "display_data"
    },
    {
     "data": {
      "text/html": [
       "Waiting for W&B process to finish... <strong style=\"color:green\">(success).</strong>"
      ],
      "text/plain": [
       "<IPython.core.display.HTML object>"
      ]
     },
     "metadata": {},
     "output_type": "display_data"
    },
    {
     "data": {
      "text/html": [
       "<style>\n",
       "    table.wandb td:nth-child(1) { padding: 0 10px; text-align: left ; width: auto;} td:nth-child(2) {text-align: left ; width: 100%}\n",
       "    .wandb-row { display: flex; flex-direction: row; flex-wrap: wrap; justify-content: flex-start; width: 100% }\n",
       "    .wandb-col { display: flex; flex-direction: column; flex-basis: 100%; flex: 1; padding: 10px; }\n",
       "    </style>\n",
       "<div class=\"wandb-row\"><div class=\"wandb-col\"><h3>Run history:</h3><br/><table class=\"wandb\"><tr><td>epoch</td><td>▁▁▁▂▂▂▂▂▂▃▃▃▃▃▄▄▄▄▄▄▅▅▅▅▅▅▆▆▆▆▆▇▇▇▇▇▇███</td></tr><tr><td>lr</td><td>█▇▇▆▆▅▅▄▄▄▃▃▃▃▃▂▂▂▂▂▂▂▂▂▁▁▁▁▁▁▁▁▁▁▁▁▁▁▁▁</td></tr><tr><td>test_accuracy</td><td>▁▃▅▆▆▆▇▇▇█▇▇▇▇▇▇▇▇██████████████████████</td></tr><tr><td>test_auc_score</td><td>▁▄▅▆▄▅███▇▆▇▇▅▆▆▇██▇▇██▇█▇▇████▇▇█▇█████</td></tr><tr><td>test_f1_score</td><td>▁▄▆▆▆▇▇▇▇█▇▇▇▇▇▇▇▇██████████████████████</td></tr><tr><td>test_fpr</td><td>█▆▄▃▃▃▂▂▂▁▂▂▂▂▂▂▂▂▁▁▁▁▁▁▁▁▁▁▁▁▁▁▁▁▁▁▁▁▁▁</td></tr><tr><td>test_loss</td><td>█▆▄▃▃▃▂▂▂▁▂▂▂▂▂▂▂▂▁▁▁▁▁▁▁▁▁▁▁▁▁▁▁▁▁▁▁▁▁▁</td></tr><tr><td>test_tpr</td><td>███▇▇▅▆▅▇▆▆▄▅▄▃▃▆▆▄▃▄▅▅▃▁▃▄▂▃▄▃▂▄▁▁▁▁▁▃▂</td></tr><tr><td>train_accuracy</td><td>▁▆▇▇▇▆▇▇▇▇▇▇▇▇▇▇▇███████████████████████</td></tr><tr><td>train_auc_score</td><td>▁▇▇▇▇▇▇▇███████▇████████████████████████</td></tr><tr><td>train_f1_score</td><td>▁▆▇▇▇▆▇▇▇▇▇▇▇▇▇▇▇███████████████████████</td></tr><tr><td>train_fpr</td><td>█▂▂▂▂▃▂▂▂▂▂▂▁▂▂▂▂▁▁▁▁▁▁▁▁▁▁▁▁▁▁▁▁▁▁▁▁▁▁▁</td></tr><tr><td>train_loss</td><td>█▄▃▃▃▃▃▂▂▂▂▂▂▂▂▂▂▂▁▁▁▁▁▁▁▁▁▁▁▁▁▁▁▁▁▁▁▁▁▁</td></tr><tr><td>train_tpr</td><td>▁▃▅▆▄▆▅▆▆▇▇▇▇█▇▇▇██▇████▇███▇███████████</td></tr></table><br/></div><div class=\"wandb-col\"><h3>Run summary:</h3><br/><table class=\"wandb\"><tr><td>epoch</td><td>39</td></tr><tr><td>lr</td><td>0.00015</td></tr><tr><td>test_accuracy</td><td>0.81971</td></tr><tr><td>test_auc_score</td><td>0.96211</td></tr><tr><td>test_f1_score</td><td>0.58072</td></tr><tr><td>test_fpr</td><td>0.1849</td></tr><tr><td>test_loss</td><td>0.05129</td></tr><tr><td>test_tpr</td><td>0.9503</td></tr><tr><td>train_accuracy</td><td>0.98098</td></tr><tr><td>train_auc_score</td><td>0.99362</td></tr><tr><td>train_f1_score</td><td>0.97981</td></tr><tr><td>train_fpr</td><td>0.03026</td></tr><tr><td>train_loss</td><td>-0.00165</td></tr><tr><td>train_tpr</td><td>1.0</td></tr></table><br/></div></div>"
      ],
      "text/plain": [
       "<IPython.core.display.HTML object>"
      ]
     },
     "metadata": {},
     "output_type": "display_data"
    },
    {
     "data": {
      "text/html": [
       " View run <strong style=\"color:#cdcd00\">EM_DWBLoss()_ROS-0.6</strong> at: <a href='https://wandb.ai/dmitrii_fomin_uga/Internship_project/runs/ipx36ca2' target=\"_blank\">https://wandb.ai/dmitrii_fomin_uga/Internship_project/runs/ipx36ca2</a><br/>Synced 5 W&B file(s), 0 media file(s), 0 artifact file(s) and 0 other file(s)"
      ],
      "text/plain": [
       "<IPython.core.display.HTML object>"
      ]
     },
     "metadata": {},
     "output_type": "display_data"
    },
    {
     "data": {
      "text/html": [
       "Find logs at: <code>../logs/wandb\\run-20230702_142125-ipx36ca2\\logs</code>"
      ],
      "text/plain": [
       "<IPython.core.display.HTML object>"
      ]
     },
     "metadata": {},
     "output_type": "display_data"
    },
    {
     "data": {
      "text/html": [
       "Tracking run with wandb version 0.15.4"
      ],
      "text/plain": [
       "<IPython.core.display.HTML object>"
      ]
     },
     "metadata": {},
     "output_type": "display_data"
    },
    {
     "data": {
      "text/html": [
       "Run data is saved locally in <code>../logs/wandb\\run-20230702_142141-ms65s4qc</code>"
      ],
      "text/plain": [
       "<IPython.core.display.HTML object>"
      ]
     },
     "metadata": {},
     "output_type": "display_data"
    },
    {
     "data": {
      "text/html": [
       "Syncing run <strong><a href='https://wandb.ai/dmitrii_fomin_uga/Internship_project/runs/ms65s4qc' target=\"_blank\">EM_DWBLoss()_ROS-0.8</a></strong> to <a href='https://wandb.ai/dmitrii_fomin_uga/Internship_project' target=\"_blank\">Weights & Biases</a> (<a href='https://wandb.me/run' target=\"_blank\">docs</a>)<br/>"
      ],
      "text/plain": [
       "<IPython.core.display.HTML object>"
      ]
     },
     "metadata": {},
     "output_type": "display_data"
    },
    {
     "data": {
      "text/html": [
       " View project at <a href='https://wandb.ai/dmitrii_fomin_uga/Internship_project' target=\"_blank\">https://wandb.ai/dmitrii_fomin_uga/Internship_project</a>"
      ],
      "text/plain": [
       "<IPython.core.display.HTML object>"
      ]
     },
     "metadata": {},
     "output_type": "display_data"
    },
    {
     "data": {
      "text/html": [
       " View run at <a href='https://wandb.ai/dmitrii_fomin_uga/Internship_project/runs/ms65s4qc' target=\"_blank\">https://wandb.ai/dmitrii_fomin_uga/Internship_project/runs/ms65s4qc</a>"
      ],
      "text/plain": [
       "<IPython.core.display.HTML object>"
      ]
     },
     "metadata": {},
     "output_type": "display_data"
    },
    {
     "data": {
      "text/html": [
       "Waiting for W&B process to finish... <strong style=\"color:green\">(success).</strong>"
      ],
      "text/plain": [
       "<IPython.core.display.HTML object>"
      ]
     },
     "metadata": {},
     "output_type": "display_data"
    },
    {
     "data": {
      "text/html": [
       "<style>\n",
       "    table.wandb td:nth-child(1) { padding: 0 10px; text-align: left ; width: auto;} td:nth-child(2) {text-align: left ; width: 100%}\n",
       "    .wandb-row { display: flex; flex-direction: row; flex-wrap: wrap; justify-content: flex-start; width: 100% }\n",
       "    .wandb-col { display: flex; flex-direction: column; flex-basis: 100%; flex: 1; padding: 10px; }\n",
       "    </style>\n",
       "<div class=\"wandb-row\"><div class=\"wandb-col\"><h3>Run history:</h3><br/><table class=\"wandb\"><tr><td>epoch</td><td>▁▁▁▂▂▂▂▂▂▃▃▃▃▃▄▄▄▄▄▄▅▅▅▅▅▅▆▆▆▆▆▇▇▇▇▇▇███</td></tr><tr><td>lr</td><td>█▇▇▆▆▅▅▄▄▄▃▃▃▃▃▂▂▂▂▂▂▂▂▂▁▁▁▁▁▁▁▁▁▁▁▁▁▁▁▁</td></tr><tr><td>test_accuracy</td><td>▁▅▆▆▇▆▆▇▇▇▇▇▇▇█▇▇▇▇█▇▇██████████████████</td></tr><tr><td>test_auc_score</td><td>▁▃▇█▅▅▇▇██████▆▆▇███████████████████████</td></tr><tr><td>test_f1_score</td><td>▁▅▆▆▇▆▇▇▇▇▇▇▇▇█▇▇▇▇█▇▇██████████████████</td></tr><tr><td>test_fpr</td><td>█▄▃▃▂▃▃▂▂▂▂▂▂▂▁▂▂▂▂▁▂▂▁▁▁▁▁▁▁▁▁▁▁▁▁▁▁▁▁▁</td></tr><tr><td>test_loss</td><td>█▆▅▄▃▄▃▃▃▃▃▂▂▂▂▃▃▂▂▁▂▂▂▂▂▁▁▁▁▁▁▁▁▁▁▁▁▁▁▁</td></tr><tr><td>test_tpr</td><td>██▅▅▆▄▆▅▆▆▁▂▅▂▂▂▆▅▅▅▆▅▅▆▆▅▅▂▂▅▂▅▅▅▃▃▅▅▆▅</td></tr><tr><td>train_accuracy</td><td>▁▅▅▆▆▆▆▆▆▆▆▇▇▇▇▆▇▇▇▇▇▇▇▇██▇█████████████</td></tr><tr><td>train_auc_score</td><td>▁▆▇▇▇▆▇▇▇▇▇███▇▇▇███████████████████████</td></tr><tr><td>train_f1_score</td><td>▁▅▅▆▆▆▆▆▆▆▆▇▇▇▇▆▇▇▇▇▇▇▇███▇█████████████</td></tr><tr><td>train_fpr</td><td>█▇▅▄▄▅▅▅▄▅▄▄▃▂▃▄▄▃▂▂▃▃▂▂▂▂▂▂▁▁▁▁▁▁▁▁▁▁▁▁</td></tr><tr><td>train_loss</td><td>█▄▃▃▃▃▃▃▂▃▂▂▂▂▂▂▂▂▁▂▂▂▁▁▁▁▁▁▁▁▁▁▁▁▁▁▁▁▁▁</td></tr><tr><td>train_tpr</td><td>▁▇▇▇▇▇▇▇▇███████████████████████████████</td></tr></table><br/></div><div class=\"wandb-col\"><h3>Run summary:</h3><br/><table class=\"wandb\"><tr><td>epoch</td><td>39</td></tr><tr><td>lr</td><td>0.00015</td></tr><tr><td>test_accuracy</td><td>0.77536</td></tr><tr><td>test_auc_score</td><td>0.95683</td></tr><tr><td>test_f1_score</td><td>0.54927</td></tr><tr><td>test_fpr</td><td>0.23219</td></tr><tr><td>test_loss</td><td>0.07353</td></tr><tr><td>test_tpr</td><td>0.98851</td></tr><tr><td>train_accuracy</td><td>0.97827</td></tr><tr><td>train_auc_score</td><td>0.99118</td></tr><tr><td>train_f1_score</td><td>0.97808</td></tr><tr><td>train_fpr</td><td>0.03875</td></tr><tr><td>train_loss</td><td>0.00561</td></tr><tr><td>train_tpr</td><td>0.99963</td></tr></table><br/></div></div>"
      ],
      "text/plain": [
       "<IPython.core.display.HTML object>"
      ]
     },
     "metadata": {},
     "output_type": "display_data"
    },
    {
     "data": {
      "text/html": [
       " View run <strong style=\"color:#cdcd00\">EM_DWBLoss()_ROS-0.8</strong> at: <a href='https://wandb.ai/dmitrii_fomin_uga/Internship_project/runs/ms65s4qc' target=\"_blank\">https://wandb.ai/dmitrii_fomin_uga/Internship_project/runs/ms65s4qc</a><br/>Synced 5 W&B file(s), 0 media file(s), 0 artifact file(s) and 0 other file(s)"
      ],
      "text/plain": [
       "<IPython.core.display.HTML object>"
      ]
     },
     "metadata": {},
     "output_type": "display_data"
    },
    {
     "data": {
      "text/html": [
       "Find logs at: <code>../logs/wandb\\run-20230702_142141-ms65s4qc\\logs</code>"
      ],
      "text/plain": [
       "<IPython.core.display.HTML object>"
      ]
     },
     "metadata": {},
     "output_type": "display_data"
    },
    {
     "data": {
      "text/html": [
       "Tracking run with wandb version 0.15.4"
      ],
      "text/plain": [
       "<IPython.core.display.HTML object>"
      ]
     },
     "metadata": {},
     "output_type": "display_data"
    },
    {
     "data": {
      "text/html": [
       "Run data is saved locally in <code>../logs/wandb\\run-20230702_142158-5j4b05qr</code>"
      ],
      "text/plain": [
       "<IPython.core.display.HTML object>"
      ]
     },
     "metadata": {},
     "output_type": "display_data"
    },
    {
     "data": {
      "text/html": [
       "Syncing run <strong><a href='https://wandb.ai/dmitrii_fomin_uga/Internship_project/runs/5j4b05qr' target=\"_blank\">EM_DWBLoss()_ROS-1</a></strong> to <a href='https://wandb.ai/dmitrii_fomin_uga/Internship_project' target=\"_blank\">Weights & Biases</a> (<a href='https://wandb.me/run' target=\"_blank\">docs</a>)<br/>"
      ],
      "text/plain": [
       "<IPython.core.display.HTML object>"
      ]
     },
     "metadata": {},
     "output_type": "display_data"
    },
    {
     "data": {
      "text/html": [
       " View project at <a href='https://wandb.ai/dmitrii_fomin_uga/Internship_project' target=\"_blank\">https://wandb.ai/dmitrii_fomin_uga/Internship_project</a>"
      ],
      "text/plain": [
       "<IPython.core.display.HTML object>"
      ]
     },
     "metadata": {},
     "output_type": "display_data"
    },
    {
     "data": {
      "text/html": [
       " View run at <a href='https://wandb.ai/dmitrii_fomin_uga/Internship_project/runs/5j4b05qr' target=\"_blank\">https://wandb.ai/dmitrii_fomin_uga/Internship_project/runs/5j4b05qr</a>"
      ],
      "text/plain": [
       "<IPython.core.display.HTML object>"
      ]
     },
     "metadata": {},
     "output_type": "display_data"
    },
    {
     "data": {
      "text/html": [
       "Waiting for W&B process to finish... <strong style=\"color:green\">(success).</strong>"
      ],
      "text/plain": [
       "<IPython.core.display.HTML object>"
      ]
     },
     "metadata": {},
     "output_type": "display_data"
    },
    {
     "data": {
      "text/html": [
       "<style>\n",
       "    table.wandb td:nth-child(1) { padding: 0 10px; text-align: left ; width: auto;} td:nth-child(2) {text-align: left ; width: 100%}\n",
       "    .wandb-row { display: flex; flex-direction: row; flex-wrap: wrap; justify-content: flex-start; width: 100% }\n",
       "    .wandb-col { display: flex; flex-direction: column; flex-basis: 100%; flex: 1; padding: 10px; }\n",
       "    </style>\n",
       "<div class=\"wandb-row\"><div class=\"wandb-col\"><h3>Run history:</h3><br/><table class=\"wandb\"><tr><td>epoch</td><td>▁▁▁▂▂▂▂▂▂▃▃▃▃▃▄▄▄▄▄▄▅▅▅▅▅▅▆▆▆▆▆▇▇▇▇▇▇███</td></tr><tr><td>lr</td><td>█▇▇▆▆▅▅▄▄▄▃▃▃▃▃▂▂▂▂▂▂▂▂▂▁▁▁▁▁▁▁▁▁▁▁▁▁▁▁▁</td></tr><tr><td>test_accuracy</td><td>▁▅▆▆▆▆▇▇▆▇▇▇▇▇▇█▇████▇▇█████████████████</td></tr><tr><td>test_auc_score</td><td>▂▆▆▆▄▆█▇▇█▇▇▇█▇█▇█▇▇▆▁▅▇▇▇▇▇▇▇▇█▇▇▇▇▇▇▇█</td></tr><tr><td>test_f1_score</td><td>▁▆▆▆▆▆▇▇▇▇▇▇▇▇▇███████▇█████████████████</td></tr><tr><td>test_fpr</td><td>█▄▃▃▃▃▂▂▃▂▂▂▂▂▂▁▂▁▁▁▁▂▂▁▁▁▁▁▁▁▁▁▁▁▁▁▁▁▁▁</td></tr><tr><td>test_loss</td><td>█▄▄▃▄▄▃▂▃▂▂▂▂▂▂▂▂▁▂▁▁▂▂▂▁▁▁▁▁▁▁▁▁▁▁▁▁▁▁▁</td></tr><tr><td>test_tpr</td><td>██▄▄▅▅▅▄▄▅▄▄▄▅▄▅▅▅▅▅▅▁▄▄▅▅▂▁▁▅▄▅▄▁▅▅▁▂▂▁</td></tr><tr><td>train_accuracy</td><td>▁▆▆▇▆▆▇▇▇▇▇▇▇▇▇█▇███████████████████████</td></tr><tr><td>train_auc_score</td><td>▁▆▇▇▆▇▇▇▇▇▇██▇███████▇██████████████████</td></tr><tr><td>train_f1_score</td><td>▁▆▆▇▆▆▇▇▇▇▇▇▇▇▇█▇███████████████████████</td></tr><tr><td>train_fpr</td><td>█▃▃▂▃▃▂▂▂▂▂▂▂▂▂▁▂▁▁▁▁▁▁▁▁▁▁▁▁▁▁▁▁▁▁▁▁▁▁▁</td></tr><tr><td>train_loss</td><td>█▄▃▃▃▃▂▂▂▂▂▂▂▂▂▁▁▁▁▁▁▁▁▁▁▁▁▁▁▁▁▁▁▁▁▁▁▁▁▁</td></tr><tr><td>train_tpr</td><td>▁▃▅▄▄▆▆▅▆▆▇▇▇███████▇▇██████▇█████▇█████</td></tr></table><br/></div><div class=\"wandb-col\"><h3>Run summary:</h3><br/><table class=\"wandb\"><tr><td>epoch</td><td>39</td></tr><tr><td>lr</td><td>0.00015</td></tr><tr><td>test_accuracy</td><td>0.73938</td></tr><tr><td>test_auc_score</td><td>0.95158</td></tr><tr><td>test_f1_score</td><td>0.52413</td></tr><tr><td>test_fpr</td><td>0.26898</td></tr><tr><td>test_loss</td><td>0.09051</td></tr><tr><td>test_tpr</td><td>0.9798</td></tr><tr><td>train_accuracy</td><td>0.97467</td></tr><tr><td>train_auc_score</td><td>0.98897</td></tr><tr><td>train_f1_score</td><td>0.97464</td></tr><tr><td>train_fpr</td><td>0.04884</td></tr><tr><td>train_loss</td><td>0.01084</td></tr><tr><td>train_tpr</td><td>0.99868</td></tr></table><br/></div></div>"
      ],
      "text/plain": [
       "<IPython.core.display.HTML object>"
      ]
     },
     "metadata": {},
     "output_type": "display_data"
    },
    {
     "data": {
      "text/html": [
       " View run <strong style=\"color:#cdcd00\">EM_DWBLoss()_ROS-1</strong> at: <a href='https://wandb.ai/dmitrii_fomin_uga/Internship_project/runs/5j4b05qr' target=\"_blank\">https://wandb.ai/dmitrii_fomin_uga/Internship_project/runs/5j4b05qr</a><br/>Synced 5 W&B file(s), 0 media file(s), 0 artifact file(s) and 0 other file(s)"
      ],
      "text/plain": [
       "<IPython.core.display.HTML object>"
      ]
     },
     "metadata": {},
     "output_type": "display_data"
    },
    {
     "data": {
      "text/html": [
       "Find logs at: <code>../logs/wandb\\run-20230702_142158-5j4b05qr\\logs</code>"
      ],
      "text/plain": [
       "<IPython.core.display.HTML object>"
      ]
     },
     "metadata": {},
     "output_type": "display_data"
    },
    {
     "data": {
      "text/html": [
       "Tracking run with wandb version 0.15.4"
      ],
      "text/plain": [
       "<IPython.core.display.HTML object>"
      ]
     },
     "metadata": {},
     "output_type": "display_data"
    },
    {
     "data": {
      "text/html": [
       "Run data is saved locally in <code>../logs/wandb\\run-20230702_142216-rcpfi74g</code>"
      ],
      "text/plain": [
       "<IPython.core.display.HTML object>"
      ]
     },
     "metadata": {},
     "output_type": "display_data"
    },
    {
     "data": {
      "text/html": [
       "Syncing run <strong><a href='https://wandb.ai/dmitrii_fomin_uga/Internship_project/runs/rcpfi74g' target=\"_blank\">EM_DWBLoss()_RUS-0.05</a></strong> to <a href='https://wandb.ai/dmitrii_fomin_uga/Internship_project' target=\"_blank\">Weights & Biases</a> (<a href='https://wandb.me/run' target=\"_blank\">docs</a>)<br/>"
      ],
      "text/plain": [
       "<IPython.core.display.HTML object>"
      ]
     },
     "metadata": {},
     "output_type": "display_data"
    },
    {
     "data": {
      "text/html": [
       " View project at <a href='https://wandb.ai/dmitrii_fomin_uga/Internship_project' target=\"_blank\">https://wandb.ai/dmitrii_fomin_uga/Internship_project</a>"
      ],
      "text/plain": [
       "<IPython.core.display.HTML object>"
      ]
     },
     "metadata": {},
     "output_type": "display_data"
    },
    {
     "data": {
      "text/html": [
       " View run at <a href='https://wandb.ai/dmitrii_fomin_uga/Internship_project/runs/rcpfi74g' target=\"_blank\">https://wandb.ai/dmitrii_fomin_uga/Internship_project/runs/rcpfi74g</a>"
      ],
      "text/plain": [
       "<IPython.core.display.HTML object>"
      ]
     },
     "metadata": {},
     "output_type": "display_data"
    },
    {
     "data": {
      "text/html": [
       "Waiting for W&B process to finish... <strong style=\"color:green\">(success).</strong>"
      ],
      "text/plain": [
       "<IPython.core.display.HTML object>"
      ]
     },
     "metadata": {},
     "output_type": "display_data"
    },
    {
     "data": {
      "text/html": [
       "<style>\n",
       "    table.wandb td:nth-child(1) { padding: 0 10px; text-align: left ; width: auto;} td:nth-child(2) {text-align: left ; width: 100%}\n",
       "    .wandb-row { display: flex; flex-direction: row; flex-wrap: wrap; justify-content: flex-start; width: 100% }\n",
       "    .wandb-col { display: flex; flex-direction: column; flex-basis: 100%; flex: 1; padding: 10px; }\n",
       "    </style>\n",
       "<div class=\"wandb-row\"><div class=\"wandb-col\"><h3>Run history:</h3><br/><table class=\"wandb\"><tr><td>epoch</td><td>▁▁▁▂▂▂▂▂▂▃▃▃▃▃▄▄▄▄▄▄▅▅▅▅▅▅▆▆▆▆▆▇▇▇▇▇▇███</td></tr><tr><td>lr</td><td>█▇▇▆▆▅▅▄▄▄▃▃▃▃▃▂▂▂▂▂▂▂▂▂▁▁▁▁▁▁▁▁▁▁▁▁▁▁▁▁</td></tr><tr><td>test_accuracy</td><td>█▂▁▁▃▄▅▅▆▆▇▇▇▇▇▇▇█████████████████▇█████</td></tr><tr><td>test_auc_score</td><td>▁▃▅▅▅▆▆▆▇▇▇▇▇▇█▇▇▇▇▇████████████████████</td></tr><tr><td>test_f1_score</td><td>▇▂▁▂▃▄▅▅▆▆▆▇▇▇▇█████████████████████████</td></tr><tr><td>test_fpr</td><td>▁▇██▆▅▄▄▃▃▃▂▂▂▂▂▂▂▂▂▂▂▂▂▂▂▂▂▂▂▂▂▂▂▂▂▂▂▂▂</td></tr><tr><td>test_loss</td><td>▂▆██▆▅▄▄▃▃▂▂▂▂▁▁▁▁▁▁▁▁▁▁▁▁▁▁▁▁▁▁▁▁▁▁▁▁▁▁</td></tr><tr><td>test_tpr</td><td>▁███████████▇▇▇▇▇▇▇▇▇▇▇▇▇▇▇▇▇▇▇▇▇▇▇▇▇▇▇▇</td></tr><tr><td>train_accuracy</td><td>▁▆▆▇▇▆▆▇▇▇▇▇▇▇▇▇▇▇▇▇███▇████████████████</td></tr><tr><td>train_auc_score</td><td>▁▆▇▇▇▇▇▇▇█████▇█████████████████████████</td></tr><tr><td>train_f1_score</td><td>▁▅▅▆▆▆▆▆▇▇▆▆▇▇▇▇▇▇▇▇▇██▇█▇██████▇███████</td></tr><tr><td>train_fpr</td><td>█▃▃▃▃▃▃▃▃▂▂▂▂▂▂▂▃▂▂▂▂▁▁▂▂▂▁▁▁▁▂▁▂▂▁▁▁▁▁▁</td></tr><tr><td>train_loss</td><td>█▆▅▄▄▃▃▃▃▂▂▂▂▂▂▂▂▂▂▁▁▁▁▂▁▁▁▂▁▁▁▁▁▁▁▁▁▁▁▁</td></tr><tr><td>train_tpr</td><td>▁▄▅▇▆▇▇▆▇▇▆▇▇▇▇▇▇▇▇██▇█▇█▇▇▇███████████▇</td></tr></table><br/></div><div class=\"wandb-col\"><h3>Run summary:</h3><br/><table class=\"wandb\"><tr><td>epoch</td><td>39</td></tr><tr><td>lr</td><td>0.00015</td></tr><tr><td>test_accuracy</td><td>0.90927</td></tr><tr><td>test_auc_score</td><td>0.97277</td></tr><tr><td>test_f1_score</td><td>0.67723</td></tr><tr><td>test_fpr</td><td>0.09044</td></tr><tr><td>test_loss</td><td>0.01216</td></tr><tr><td>test_tpr</td><td>0.90368</td></tr><tr><td>train_accuracy</td><td>0.96648</td></tr><tr><td>train_auc_score</td><td>0.97818</td></tr><tr><td>train_f1_score</td><td>0.93044</td></tr><tr><td>train_fpr</td><td>0.02625</td></tr><tr><td>train_loss</td><td>0.00435</td></tr><tr><td>train_tpr</td><td>0.92045</td></tr></table><br/></div></div>"
      ],
      "text/plain": [
       "<IPython.core.display.HTML object>"
      ]
     },
     "metadata": {},
     "output_type": "display_data"
    },
    {
     "data": {
      "text/html": [
       " View run <strong style=\"color:#cdcd00\">EM_DWBLoss()_RUS-0.05</strong> at: <a href='https://wandb.ai/dmitrii_fomin_uga/Internship_project/runs/rcpfi74g' target=\"_blank\">https://wandb.ai/dmitrii_fomin_uga/Internship_project/runs/rcpfi74g</a><br/>Synced 5 W&B file(s), 0 media file(s), 0 artifact file(s) and 0 other file(s)"
      ],
      "text/plain": [
       "<IPython.core.display.HTML object>"
      ]
     },
     "metadata": {},
     "output_type": "display_data"
    },
    {
     "data": {
      "text/html": [
       "Find logs at: <code>../logs/wandb\\run-20230702_142216-rcpfi74g\\logs</code>"
      ],
      "text/plain": [
       "<IPython.core.display.HTML object>"
      ]
     },
     "metadata": {},
     "output_type": "display_data"
    },
    {
     "data": {
      "text/html": [
       "Tracking run with wandb version 0.15.4"
      ],
      "text/plain": [
       "<IPython.core.display.HTML object>"
      ]
     },
     "metadata": {},
     "output_type": "display_data"
    },
    {
     "data": {
      "text/html": [
       "Run data is saved locally in <code>../logs/wandb\\run-20230702_142227-z7lm3tb0</code>"
      ],
      "text/plain": [
       "<IPython.core.display.HTML object>"
      ]
     },
     "metadata": {},
     "output_type": "display_data"
    },
    {
     "data": {
      "text/html": [
       "Syncing run <strong><a href='https://wandb.ai/dmitrii_fomin_uga/Internship_project/runs/z7lm3tb0' target=\"_blank\">EM_DWBLoss()_RUS-0.1</a></strong> to <a href='https://wandb.ai/dmitrii_fomin_uga/Internship_project' target=\"_blank\">Weights & Biases</a> (<a href='https://wandb.me/run' target=\"_blank\">docs</a>)<br/>"
      ],
      "text/plain": [
       "<IPython.core.display.HTML object>"
      ]
     },
     "metadata": {},
     "output_type": "display_data"
    },
    {
     "data": {
      "text/html": [
       " View project at <a href='https://wandb.ai/dmitrii_fomin_uga/Internship_project' target=\"_blank\">https://wandb.ai/dmitrii_fomin_uga/Internship_project</a>"
      ],
      "text/plain": [
       "<IPython.core.display.HTML object>"
      ]
     },
     "metadata": {},
     "output_type": "display_data"
    },
    {
     "data": {
      "text/html": [
       " View run at <a href='https://wandb.ai/dmitrii_fomin_uga/Internship_project/runs/z7lm3tb0' target=\"_blank\">https://wandb.ai/dmitrii_fomin_uga/Internship_project/runs/z7lm3tb0</a>"
      ],
      "text/plain": [
       "<IPython.core.display.HTML object>"
      ]
     },
     "metadata": {},
     "output_type": "display_data"
    },
    {
     "data": {
      "text/html": [
       "Waiting for W&B process to finish... <strong style=\"color:green\">(success).</strong>"
      ],
      "text/plain": [
       "<IPython.core.display.HTML object>"
      ]
     },
     "metadata": {},
     "output_type": "display_data"
    },
    {
     "data": {
      "text/html": [
       "<style>\n",
       "    table.wandb td:nth-child(1) { padding: 0 10px; text-align: left ; width: auto;} td:nth-child(2) {text-align: left ; width: 100%}\n",
       "    .wandb-row { display: flex; flex-direction: row; flex-wrap: wrap; justify-content: flex-start; width: 100% }\n",
       "    .wandb-col { display: flex; flex-direction: column; flex-basis: 100%; flex: 1; padding: 10px; }\n",
       "    </style>\n",
       "<div class=\"wandb-row\"><div class=\"wandb-col\"><h3>Run history:</h3><br/><table class=\"wandb\"><tr><td>epoch</td><td>▁▁▁▂▂▂▂▂▂▃▃▃▃▃▄▄▄▄▄▄▅▅▅▅▅▅▆▆▆▆▆▇▇▇▇▇▇███</td></tr><tr><td>lr</td><td>█▇▇▆▆▅▅▄▄▄▃▃▃▃▃▂▂▂▂▂▂▂▂▂▁▁▁▁▁▁▁▁▁▁▁▁▁▁▁▁</td></tr><tr><td>test_accuracy</td><td>▁▁▂▄▅▆▇▇████████████████████████████████</td></tr><tr><td>test_auc_score</td><td>▁▃▄▄▅▆▆▇▇▇██▇▇█▇▇▇█▇▇▇██▇▇████▇███▇▇████</td></tr><tr><td>test_f1_score</td><td>▁▁▂▄▅▆▆▇▇▇██████████████████████████████</td></tr><tr><td>test_fpr</td><td>██▇▅▄▃▂▂▁▁▁▁▁▁▁▁▁▁▁▁▁▁▁▁▁▁▁▁▁▁▁▁▁▁▁▁▁▁▁▁</td></tr><tr><td>test_loss</td><td>▇█▇▅▄▃▂▂▁▁▁▁▁▁▁▁▁▁▁▁▁▁▁▁▁▁▁▁▁▁▁▁▁▁▁▁▁▁▁▁</td></tr><tr><td>test_tpr</td><td>███▇▇▇▆▅▃▂▂▁▁▁▃▃▃▃▂▁▁▂▃▂▂▃▂▂▁▂▂▃▂▂▂▂▂▂▃▂</td></tr><tr><td>train_accuracy</td><td>▁▅▇▇▇▇██████████████████████████████████</td></tr><tr><td>train_auc_score</td><td>▁▅▆▇▆▆▇▇▇▇▇▇▇▇▇▇████████████████████████</td></tr><tr><td>train_f1_score</td><td>▁▄▆▆▆▇▇▇▇▇▇▇▇▇▇▇▇▇▇█████████████████████</td></tr><tr><td>train_fpr</td><td>█▄▂▁▂▁▁▁▁▁▁▁▁▁▁▁▁▁▁▁▁▁▁▁▁▁▁▁▁▁▁▁▁▁▁▁▁▁▁▁</td></tr><tr><td>train_loss</td><td>█▅▄▃▃▃▂▂▂▂▂▂▂▂▂▂▂▂▂▁▁▁▁▁▁▁▁▁▁▁▁▁▁▁▁▁▁▁▁▁</td></tr><tr><td>train_tpr</td><td>▇▆▁▁▂▃▃▅▅▅▃▇▆▅▄▆▆▆▇▆▆▇▇▇▇█▆▇▇███▇▇▇▇▇▇██</td></tr></table><br/></div><div class=\"wandb-col\"><h3>Run summary:</h3><br/><table class=\"wandb\"><tr><td>epoch</td><td>39</td></tr><tr><td>lr</td><td>0.00015</td></tr><tr><td>test_accuracy</td><td>0.96093</td></tr><tr><td>test_auc_score</td><td>0.96998</td></tr><tr><td>test_f1_score</td><td>0.7859</td></tr><tr><td>test_fpr</td><td>0.03455</td></tr><tr><td>test_loss</td><td>-0.01114</td></tr><tr><td>test_tpr</td><td>0.83076</td></tr><tr><td>train_accuracy</td><td>0.97944</td></tr><tr><td>train_auc_score</td><td>0.98913</td></tr><tr><td>train_f1_score</td><td>0.93305</td></tr><tr><td>train_fpr</td><td>0.01431</td></tr><tr><td>train_loss</td><td>-0.0163</td></tr><tr><td>train_tpr</td><td>0.90913</td></tr></table><br/></div></div>"
      ],
      "text/plain": [
       "<IPython.core.display.HTML object>"
      ]
     },
     "metadata": {},
     "output_type": "display_data"
    },
    {
     "data": {
      "text/html": [
       " View run <strong style=\"color:#cdcd00\">EM_DWBLoss()_RUS-0.1</strong> at: <a href='https://wandb.ai/dmitrii_fomin_uga/Internship_project/runs/z7lm3tb0' target=\"_blank\">https://wandb.ai/dmitrii_fomin_uga/Internship_project/runs/z7lm3tb0</a><br/>Synced 5 W&B file(s), 0 media file(s), 0 artifact file(s) and 0 other file(s)"
      ],
      "text/plain": [
       "<IPython.core.display.HTML object>"
      ]
     },
     "metadata": {},
     "output_type": "display_data"
    },
    {
     "data": {
      "text/html": [
       "Find logs at: <code>../logs/wandb\\run-20230702_142227-z7lm3tb0\\logs</code>"
      ],
      "text/plain": [
       "<IPython.core.display.HTML object>"
      ]
     },
     "metadata": {},
     "output_type": "display_data"
    },
    {
     "data": {
      "text/html": [
       "Tracking run with wandb version 0.15.4"
      ],
      "text/plain": [
       "<IPython.core.display.HTML object>"
      ]
     },
     "metadata": {},
     "output_type": "display_data"
    },
    {
     "data": {
      "text/html": [
       "Run data is saved locally in <code>../logs/wandb\\run-20230702_142239-579h9fem</code>"
      ],
      "text/plain": [
       "<IPython.core.display.HTML object>"
      ]
     },
     "metadata": {},
     "output_type": "display_data"
    },
    {
     "data": {
      "text/html": [
       "Syncing run <strong><a href='https://wandb.ai/dmitrii_fomin_uga/Internship_project/runs/579h9fem' target=\"_blank\">EM_DWBLoss()_RUS-0.2</a></strong> to <a href='https://wandb.ai/dmitrii_fomin_uga/Internship_project' target=\"_blank\">Weights & Biases</a> (<a href='https://wandb.me/run' target=\"_blank\">docs</a>)<br/>"
      ],
      "text/plain": [
       "<IPython.core.display.HTML object>"
      ]
     },
     "metadata": {},
     "output_type": "display_data"
    },
    {
     "data": {
      "text/html": [
       " View project at <a href='https://wandb.ai/dmitrii_fomin_uga/Internship_project' target=\"_blank\">https://wandb.ai/dmitrii_fomin_uga/Internship_project</a>"
      ],
      "text/plain": [
       "<IPython.core.display.HTML object>"
      ]
     },
     "metadata": {},
     "output_type": "display_data"
    },
    {
     "data": {
      "text/html": [
       " View run at <a href='https://wandb.ai/dmitrii_fomin_uga/Internship_project/runs/579h9fem' target=\"_blank\">https://wandb.ai/dmitrii_fomin_uga/Internship_project/runs/579h9fem</a>"
      ],
      "text/plain": [
       "<IPython.core.display.HTML object>"
      ]
     },
     "metadata": {},
     "output_type": "display_data"
    },
    {
     "data": {
      "text/html": [
       "Waiting for W&B process to finish... <strong style=\"color:green\">(success).</strong>"
      ],
      "text/plain": [
       "<IPython.core.display.HTML object>"
      ]
     },
     "metadata": {},
     "output_type": "display_data"
    },
    {
     "data": {
      "text/html": [
       "<style>\n",
       "    table.wandb td:nth-child(1) { padding: 0 10px; text-align: left ; width: auto;} td:nth-child(2) {text-align: left ; width: 100%}\n",
       "    .wandb-row { display: flex; flex-direction: row; flex-wrap: wrap; justify-content: flex-start; width: 100% }\n",
       "    .wandb-col { display: flex; flex-direction: column; flex-basis: 100%; flex: 1; padding: 10px; }\n",
       "    </style>\n",
       "<div class=\"wandb-row\"><div class=\"wandb-col\"><h3>Run history:</h3><br/><table class=\"wandb\"><tr><td>epoch</td><td>▁▁▁▂▂▂▂▂▂▃▃▃▃▃▄▄▄▄▄▄▅▅▅▅▅▅▆▆▆▆▆▇▇▇▇▇▇███</td></tr><tr><td>lr</td><td>█▇▇▆▆▅▅▄▄▄▃▃▃▃▃▂▂▂▂▂▂▂▂▂▁▁▁▁▁▁▁▁▁▁▁▁▁▁▁▁</td></tr><tr><td>test_accuracy</td><td>▁▃▄▆▇▇▇█████████████████████████████████</td></tr><tr><td>test_auc_score</td><td>▁▆▇███████▇▇▇█████████████▇█▇▇▇██████▇▇▇</td></tr><tr><td>test_f1_score</td><td>▁▃▄▅▆▆▆▇▇▇▇▇▇▇██████████████████████████</td></tr><tr><td>test_fpr</td><td>█▆▅▃▂▂▂▁▁▁▁▁▁▁▁▁▁▁▁▁▁▁▁▁▁▁▁▁▁▁▁▁▁▁▁▁▁▁▁▁</td></tr><tr><td>test_loss</td><td>██▇▆▄▃▃▂▂▂▂▁▁▁▁▁▁▁▁▁▁▁▁▁▁▁▁▁▁▁▁▁▁▁▁▁▁▁▁▁</td></tr><tr><td>test_tpr</td><td>▅██▇▆▅▄▃▄▄▃▃▃▄▂▃▄▄▂▁▂▃▂▂▁▃▂▂▃▃▂▃▃▂▃▃▃▃▂▂</td></tr><tr><td>train_accuracy</td><td>▁▇▇▇▇▇▇▇████████████████████████████████</td></tr><tr><td>train_auc_score</td><td>▁▆▇▇▇▇██████████████████████████████████</td></tr><tr><td>train_f1_score</td><td>▁▆▆▆▇▇▇▇▇▇▇▇▇▇▇█▇▇██████████████████████</td></tr><tr><td>train_fpr</td><td>█▁▁▂▁▁▁▁▁▁▁▁▁▁▁▁▁▁▁▁▁▁▁▁▁▁▁▁▁▁▁▁▁▁▁▁▁▁▁▁</td></tr><tr><td>train_loss</td><td>█▅▄▃▃▂▂▂▂▂▂▂▂▁▁▁▁▁▁▁▁▁▁▁▁▁▁▁▁▁▁▁▁▁▁▁▁▁▁▁</td></tr><tr><td>train_tpr</td><td>▂▁▂▄▅▅▅▆▆▇▆▇▇▇▇▆▇▇▇▇▇█▇█▇██▇█▇███▇██████</td></tr></table><br/></div><div class=\"wandb-col\"><h3>Run summary:</h3><br/><table class=\"wandb\"><tr><td>epoch</td><td>39</td></tr><tr><td>lr</td><td>0.00015</td></tr><tr><td>test_accuracy</td><td>0.96115</td></tr><tr><td>test_auc_score</td><td>0.93182</td></tr><tr><td>test_f1_score</td><td>0.78267</td></tr><tr><td>test_fpr</td><td>0.03329</td></tr><tr><td>test_loss</td><td>-0.01387</td></tr><tr><td>test_tpr</td><td>0.80556</td></tr><tr><td>train_accuracy</td><td>0.98516</td></tr><tr><td>train_auc_score</td><td>0.99093</td></tr><tr><td>train_f1_score</td><td>0.94717</td></tr><tr><td>train_fpr</td><td>0.01171</td></tr><tr><td>train_loss</td><td>-0.0221</td></tr><tr><td>train_tpr</td><td>0.94827</td></tr></table><br/></div></div>"
      ],
      "text/plain": [
       "<IPython.core.display.HTML object>"
      ]
     },
     "metadata": {},
     "output_type": "display_data"
    },
    {
     "data": {
      "text/html": [
       " View run <strong style=\"color:#cdcd00\">EM_DWBLoss()_RUS-0.2</strong> at: <a href='https://wandb.ai/dmitrii_fomin_uga/Internship_project/runs/579h9fem' target=\"_blank\">https://wandb.ai/dmitrii_fomin_uga/Internship_project/runs/579h9fem</a><br/>Synced 5 W&B file(s), 0 media file(s), 0 artifact file(s) and 0 other file(s)"
      ],
      "text/plain": [
       "<IPython.core.display.HTML object>"
      ]
     },
     "metadata": {},
     "output_type": "display_data"
    },
    {
     "data": {
      "text/html": [
       "Find logs at: <code>../logs/wandb\\run-20230702_142239-579h9fem\\logs</code>"
      ],
      "text/plain": [
       "<IPython.core.display.HTML object>"
      ]
     },
     "metadata": {},
     "output_type": "display_data"
    },
    {
     "data": {
      "text/html": [
       "Tracking run with wandb version 0.15.4"
      ],
      "text/plain": [
       "<IPython.core.display.HTML object>"
      ]
     },
     "metadata": {},
     "output_type": "display_data"
    },
    {
     "data": {
      "text/html": [
       "Run data is saved locally in <code>../logs/wandb\\run-20230702_142252-xs4xvpbi</code>"
      ],
      "text/plain": [
       "<IPython.core.display.HTML object>"
      ]
     },
     "metadata": {},
     "output_type": "display_data"
    },
    {
     "data": {
      "text/html": [
       "Syncing run <strong><a href='https://wandb.ai/dmitrii_fomin_uga/Internship_project/runs/xs4xvpbi' target=\"_blank\">EM_DWBLoss()_RUS-0.3</a></strong> to <a href='https://wandb.ai/dmitrii_fomin_uga/Internship_project' target=\"_blank\">Weights & Biases</a> (<a href='https://wandb.me/run' target=\"_blank\">docs</a>)<br/>"
      ],
      "text/plain": [
       "<IPython.core.display.HTML object>"
      ]
     },
     "metadata": {},
     "output_type": "display_data"
    },
    {
     "data": {
      "text/html": [
       " View project at <a href='https://wandb.ai/dmitrii_fomin_uga/Internship_project' target=\"_blank\">https://wandb.ai/dmitrii_fomin_uga/Internship_project</a>"
      ],
      "text/plain": [
       "<IPython.core.display.HTML object>"
      ]
     },
     "metadata": {},
     "output_type": "display_data"
    },
    {
     "data": {
      "text/html": [
       " View run at <a href='https://wandb.ai/dmitrii_fomin_uga/Internship_project/runs/xs4xvpbi' target=\"_blank\">https://wandb.ai/dmitrii_fomin_uga/Internship_project/runs/xs4xvpbi</a>"
      ],
      "text/plain": [
       "<IPython.core.display.HTML object>"
      ]
     },
     "metadata": {},
     "output_type": "display_data"
    },
    {
     "data": {
      "text/html": [
       "Waiting for W&B process to finish... <strong style=\"color:green\">(success).</strong>"
      ],
      "text/plain": [
       "<IPython.core.display.HTML object>"
      ]
     },
     "metadata": {},
     "output_type": "display_data"
    },
    {
     "data": {
      "text/html": [
       "<style>\n",
       "    table.wandb td:nth-child(1) { padding: 0 10px; text-align: left ; width: auto;} td:nth-child(2) {text-align: left ; width: 100%}\n",
       "    .wandb-row { display: flex; flex-direction: row; flex-wrap: wrap; justify-content: flex-start; width: 100% }\n",
       "    .wandb-col { display: flex; flex-direction: column; flex-basis: 100%; flex: 1; padding: 10px; }\n",
       "    </style>\n",
       "<div class=\"wandb-row\"><div class=\"wandb-col\"><h3>Run history:</h3><br/><table class=\"wandb\"><tr><td>epoch</td><td>▁▁▁▂▂▂▂▂▂▃▃▃▃▃▄▄▄▄▄▄▅▅▅▅▅▅▆▆▆▆▆▇▇▇▇▇▇███</td></tr><tr><td>lr</td><td>█▇▇▆▆▅▅▄▄▄▃▃▃▃▃▂▂▂▂▂▂▂▂▂▁▁▁▁▁▁▁▁▁▁▁▁▁▁▁▁</td></tr><tr><td>test_accuracy</td><td>▃▁▄▅▇▇▇▇████████████████████████████████</td></tr><tr><td>test_auc_score</td><td>▁▃▆▇████████████████████████████████████</td></tr><tr><td>test_f1_score</td><td>▂▁▃▄▅▆▆▆▇▇▇█▇████▇██▇███████████████████</td></tr><tr><td>test_fpr</td><td>▆█▆▄▃▂▂▂▁▁▁▁▁▁▁▁▁▁▁▁▁▁▁▁▁▁▁▁▁▁▁▁▁▁▁▁▁▁▁▁</td></tr><tr><td>test_loss</td><td>██▆▅▃▃▂▂▂▁▁▁▁▁▁▁▁▂▁▁▁▁▁▁▁▁▁▁▁▁▁▁▁▁▁▁▁▁▁▁</td></tr><tr><td>test_tpr</td><td>▁▄███▇▇▇▇▇▇▆▇▇▇▇▇▇▇▇▇▇▇▇▇▇▇▇▇▇▇▇▇▇▇▇▇▇▇▇</td></tr><tr><td>train_accuracy</td><td>▁▇▇▇████████████████████████████████████</td></tr><tr><td>train_auc_score</td><td>▁▆▆▆▇▇▇▇▇▇▇▇▇█▇▇██▆▇████████████████████</td></tr><tr><td>train_f1_score</td><td>▁▅▆▆▆▇▇▇▇▇▇▇▇█▇▇█▇▇▇█▇▇▇▇████▇█████▇████</td></tr><tr><td>train_fpr</td><td>█▂▁▂▁▁▁▁▁▁▁▁▁▁▁▁▁▁▁▁▁▁▁▁▁▁▁▁▁▁▁▁▁▁▁▁▁▁▁▁</td></tr><tr><td>train_loss</td><td>█▅▃▃▂▂▂▂▂▂▂▂▂▁▂▂▂▂▂▂▁▂▂▁▁▁▁▁▁▁▁▁▁▁▁▁▁▁▁▁</td></tr><tr><td>train_tpr</td><td>▅▄▁▄▄▄▃▃▅▃▅▅▆▆▅▅▆▇▅▅▆▆▅▇▇█▆▇▇▅▇▇▇▇█▆█▇██</td></tr></table><br/></div><div class=\"wandb-col\"><h3>Run summary:</h3><br/><table class=\"wandb\"><tr><td>epoch</td><td>39</td></tr><tr><td>lr</td><td>0.00015</td></tr><tr><td>test_accuracy</td><td>0.95975</td></tr><tr><td>test_auc_score</td><td>0.9529</td></tr><tr><td>test_f1_score</td><td>0.77596</td></tr><tr><td>test_fpr</td><td>0.03475</td></tr><tr><td>test_loss</td><td>-0.01286</td></tr><tr><td>test_tpr</td><td>0.80242</td></tr><tr><td>train_accuracy</td><td>0.98068</td></tr><tr><td>train_auc_score</td><td>0.9911</td></tr><tr><td>train_f1_score</td><td>0.92939</td></tr><tr><td>train_fpr</td><td>0.01536</td></tr><tr><td>train_loss</td><td>-0.01846</td></tr><tr><td>train_tpr</td><td>0.92893</td></tr></table><br/></div></div>"
      ],
      "text/plain": [
       "<IPython.core.display.HTML object>"
      ]
     },
     "metadata": {},
     "output_type": "display_data"
    },
    {
     "data": {
      "text/html": [
       " View run <strong style=\"color:#cdcd00\">EM_DWBLoss()_RUS-0.3</strong> at: <a href='https://wandb.ai/dmitrii_fomin_uga/Internship_project/runs/xs4xvpbi' target=\"_blank\">https://wandb.ai/dmitrii_fomin_uga/Internship_project/runs/xs4xvpbi</a><br/>Synced 5 W&B file(s), 0 media file(s), 0 artifact file(s) and 0 other file(s)"
      ],
      "text/plain": [
       "<IPython.core.display.HTML object>"
      ]
     },
     "metadata": {},
     "output_type": "display_data"
    },
    {
     "data": {
      "text/html": [
       "Find logs at: <code>../logs/wandb\\run-20230702_142252-xs4xvpbi\\logs</code>"
      ],
      "text/plain": [
       "<IPython.core.display.HTML object>"
      ]
     },
     "metadata": {},
     "output_type": "display_data"
    },
    {
     "data": {
      "text/html": [
       "Tracking run with wandb version 0.15.4"
      ],
      "text/plain": [
       "<IPython.core.display.HTML object>"
      ]
     },
     "metadata": {},
     "output_type": "display_data"
    },
    {
     "data": {
      "text/html": [
       "Run data is saved locally in <code>../logs/wandb\\run-20230702_142306-2gjpfi9s</code>"
      ],
      "text/plain": [
       "<IPython.core.display.HTML object>"
      ]
     },
     "metadata": {},
     "output_type": "display_data"
    },
    {
     "data": {
      "text/html": [
       "Syncing run <strong><a href='https://wandb.ai/dmitrii_fomin_uga/Internship_project/runs/2gjpfi9s' target=\"_blank\">EM_DWBLoss()_RUS-0.4</a></strong> to <a href='https://wandb.ai/dmitrii_fomin_uga/Internship_project' target=\"_blank\">Weights & Biases</a> (<a href='https://wandb.me/run' target=\"_blank\">docs</a>)<br/>"
      ],
      "text/plain": [
       "<IPython.core.display.HTML object>"
      ]
     },
     "metadata": {},
     "output_type": "display_data"
    },
    {
     "data": {
      "text/html": [
       " View project at <a href='https://wandb.ai/dmitrii_fomin_uga/Internship_project' target=\"_blank\">https://wandb.ai/dmitrii_fomin_uga/Internship_project</a>"
      ],
      "text/plain": [
       "<IPython.core.display.HTML object>"
      ]
     },
     "metadata": {},
     "output_type": "display_data"
    },
    {
     "data": {
      "text/html": [
       " View run at <a href='https://wandb.ai/dmitrii_fomin_uga/Internship_project/runs/2gjpfi9s' target=\"_blank\">https://wandb.ai/dmitrii_fomin_uga/Internship_project/runs/2gjpfi9s</a>"
      ],
      "text/plain": [
       "<IPython.core.display.HTML object>"
      ]
     },
     "metadata": {},
     "output_type": "display_data"
    },
    {
     "data": {
      "text/html": [
       "Waiting for W&B process to finish... <strong style=\"color:green\">(success).</strong>"
      ],
      "text/plain": [
       "<IPython.core.display.HTML object>"
      ]
     },
     "metadata": {},
     "output_type": "display_data"
    },
    {
     "data": {
      "text/html": [
       "<style>\n",
       "    table.wandb td:nth-child(1) { padding: 0 10px; text-align: left ; width: auto;} td:nth-child(2) {text-align: left ; width: 100%}\n",
       "    .wandb-row { display: flex; flex-direction: row; flex-wrap: wrap; justify-content: flex-start; width: 100% }\n",
       "    .wandb-col { display: flex; flex-direction: column; flex-basis: 100%; flex: 1; padding: 10px; }\n",
       "    </style>\n",
       "<div class=\"wandb-row\"><div class=\"wandb-col\"><h3>Run history:</h3><br/><table class=\"wandb\"><tr><td>epoch</td><td>▁▁▁▂▂▂▂▂▂▃▃▃▃▃▄▄▄▄▄▄▅▅▅▅▅▅▆▆▆▆▆▇▇▇▇▇▇███</td></tr><tr><td>lr</td><td>█▇▇▆▆▅▅▄▄▄▃▃▃▃▃▂▂▂▂▂▂▂▂▂▁▁▁▁▁▁▁▁▁▁▁▁▁▁▁▁</td></tr><tr><td>test_accuracy</td><td>███▁▃▃▄▆▆▆▇▇█▇▇█████▇▇███▇██████████████</td></tr><tr><td>test_auc_score</td><td>▁▂▅▇▇▇▇█▇███████████████████████████████</td></tr><tr><td>test_f1_score</td><td>▁▁▁▂▃▃▄▅▆▆▆▇█▆▇▇▇███▇▇██▇▇▇████▇█████▇██</td></tr><tr><td>test_fpr</td><td>▁▁▁█▇▆▅▄▃▃▃▂▂▃▂▂▂▂▂▂▃▂▂▂▂▂▂▂▂▂▂▂▂▂▂▂▂▂▂▂</td></tr><tr><td>test_loss</td><td>█▇▄▅▅▅▄▃▂▂▂▁▁▂▁▁▁▁▁▁▂▁▁▁▁▁▁▁▁▁▁▁▁▁▁▁▁▁▁▁</td></tr><tr><td>test_tpr</td><td>▁▁▁███▇█▇▇▇▇▇▇▇▇▇▇▇▇▇▇▇▇▇▇▇▇▇▇▇▇▇▇▇▇▇▇▇▇</td></tr><tr><td>train_accuracy</td><td>▁▂▁▃▅▄▃▅▄▅▆▆▆▆▆▆▆▇▇▆▆▇▇▇█▇█▇████▇███████</td></tr><tr><td>train_auc_score</td><td>▁▅▅▆▇▇▇▇▇▇▇█████████████████████████████</td></tr><tr><td>train_f1_score</td><td>▁▁▁▃▆▆▆▇▆▇▇▇▇▇▇▇▇▇▇▇▇▇██████████████████</td></tr><tr><td>train_fpr</td><td>▂▁▁▁▅▇█▆▆▆▄▄▅▅▅▅▄▄▄▅▅▅▄▄▃▃▃▄▄▃▃▄▃▃▃▃▃▃▄▃</td></tr><tr><td>train_loss</td><td>█▆▆▅▄▄▃▃▃▃▃▂▂▂▂▂▂▂▂▂▂▂▁▁▁▂▁▁▁▁▁▁▁▁▁▁▁▁▁▁</td></tr><tr><td>train_tpr</td><td>▁▁▁▂▆▇▇▇▇▇▇▇▇▇▇█▇█▇▇████████████████████</td></tr></table><br/></div><div class=\"wandb-col\"><h3>Run summary:</h3><br/><table class=\"wandb\"><tr><td>epoch</td><td>39</td></tr><tr><td>lr</td><td>0.00015</td></tr><tr><td>test_accuracy</td><td>0.96143</td></tr><tr><td>test_auc_score</td><td>0.97176</td></tr><tr><td>test_f1_score</td><td>0.78004</td></tr><tr><td>test_fpr</td><td>0.03239</td></tr><tr><td>test_loss</td><td>-0.0144</td></tr><tr><td>test_tpr</td><td>0.78415</td></tr><tr><td>train_accuracy</td><td>0.98469</td></tr><tr><td>train_auc_score</td><td>0.98913</td></tr><tr><td>train_f1_score</td><td>0.94406</td></tr><tr><td>train_fpr</td><td>0.0136</td></tr><tr><td>train_loss</td><td>-0.02337</td></tr><tr><td>train_tpr</td><td>0.96298</td></tr></table><br/></div></div>"
      ],
      "text/plain": [
       "<IPython.core.display.HTML object>"
      ]
     },
     "metadata": {},
     "output_type": "display_data"
    },
    {
     "data": {
      "text/html": [
       " View run <strong style=\"color:#cdcd00\">EM_DWBLoss()_RUS-0.4</strong> at: <a href='https://wandb.ai/dmitrii_fomin_uga/Internship_project/runs/2gjpfi9s' target=\"_blank\">https://wandb.ai/dmitrii_fomin_uga/Internship_project/runs/2gjpfi9s</a><br/>Synced 5 W&B file(s), 0 media file(s), 0 artifact file(s) and 0 other file(s)"
      ],
      "text/plain": [
       "<IPython.core.display.HTML object>"
      ]
     },
     "metadata": {},
     "output_type": "display_data"
    },
    {
     "data": {
      "text/html": [
       "Find logs at: <code>../logs/wandb\\run-20230702_142306-2gjpfi9s\\logs</code>"
      ],
      "text/plain": [
       "<IPython.core.display.HTML object>"
      ]
     },
     "metadata": {},
     "output_type": "display_data"
    },
    {
     "data": {
      "text/html": [
       "Tracking run with wandb version 0.15.4"
      ],
      "text/plain": [
       "<IPython.core.display.HTML object>"
      ]
     },
     "metadata": {},
     "output_type": "display_data"
    },
    {
     "data": {
      "text/html": [
       "Run data is saved locally in <code>../logs/wandb\\run-20230702_142321-dj9jhbxe</code>"
      ],
      "text/plain": [
       "<IPython.core.display.HTML object>"
      ]
     },
     "metadata": {},
     "output_type": "display_data"
    },
    {
     "data": {
      "text/html": [
       "Syncing run <strong><a href='https://wandb.ai/dmitrii_fomin_uga/Internship_project/runs/dj9jhbxe' target=\"_blank\">EM_DWBLoss()_RUS-0.5</a></strong> to <a href='https://wandb.ai/dmitrii_fomin_uga/Internship_project' target=\"_blank\">Weights & Biases</a> (<a href='https://wandb.me/run' target=\"_blank\">docs</a>)<br/>"
      ],
      "text/plain": [
       "<IPython.core.display.HTML object>"
      ]
     },
     "metadata": {},
     "output_type": "display_data"
    },
    {
     "data": {
      "text/html": [
       " View project at <a href='https://wandb.ai/dmitrii_fomin_uga/Internship_project' target=\"_blank\">https://wandb.ai/dmitrii_fomin_uga/Internship_project</a>"
      ],
      "text/plain": [
       "<IPython.core.display.HTML object>"
      ]
     },
     "metadata": {},
     "output_type": "display_data"
    },
    {
     "data": {
      "text/html": [
       " View run at <a href='https://wandb.ai/dmitrii_fomin_uga/Internship_project/runs/dj9jhbxe' target=\"_blank\">https://wandb.ai/dmitrii_fomin_uga/Internship_project/runs/dj9jhbxe</a>"
      ],
      "text/plain": [
       "<IPython.core.display.HTML object>"
      ]
     },
     "metadata": {},
     "output_type": "display_data"
    },
    {
     "data": {
      "text/html": [
       "Waiting for W&B process to finish... <strong style=\"color:green\">(success).</strong>"
      ],
      "text/plain": [
       "<IPython.core.display.HTML object>"
      ]
     },
     "metadata": {},
     "output_type": "display_data"
    },
    {
     "data": {
      "text/html": [
       "<style>\n",
       "    table.wandb td:nth-child(1) { padding: 0 10px; text-align: left ; width: auto;} td:nth-child(2) {text-align: left ; width: 100%}\n",
       "    .wandb-row { display: flex; flex-direction: row; flex-wrap: wrap; justify-content: flex-start; width: 100% }\n",
       "    .wandb-col { display: flex; flex-direction: column; flex-basis: 100%; flex: 1; padding: 10px; }\n",
       "    </style>\n",
       "<div class=\"wandb-row\"><div class=\"wandb-col\"><h3>Run history:</h3><br/><table class=\"wandb\"><tr><td>epoch</td><td>▁▁▁▂▂▂▂▂▂▃▃▃▃▃▄▄▄▄▄▄▅▅▅▅▅▅▆▆▆▆▆▇▇▇▇▇▇███</td></tr><tr><td>lr</td><td>█▇▇▆▆▅▅▄▄▄▃▃▃▃▃▂▂▂▂▂▂▂▂▂▁▁▁▁▁▁▁▁▁▁▁▁▁▁▁▁</td></tr><tr><td>test_accuracy</td><td>▃▁▃▅▆▇▇█████████████████████████████████</td></tr><tr><td>test_auc_score</td><td>▁▅▆▆▆▆▇▇▇▆▆▇▆██▇███▇███▇▇▇▇▇▇▇▇▆▇▆▆▆▆▇▆▆</td></tr><tr><td>test_f1_score</td><td>▂▁▂▄▅▆▆▇▇▇▇▇▇▇███████████▇██████████████</td></tr><tr><td>test_fpr</td><td>▆█▆▄▃▂▂▁▁▁▁▁▁▁▁▁▁▁▁▁▁▁▁▁▁▁▁▁▁▁▁▁▁▁▁▁▁▁▁▁</td></tr><tr><td>test_loss</td><td>▆█▆▄▃▂▂▁▁▁▁▁▁▁▁▁▁▁▁▁▁▁▁▁▁▁▁▁▁▁▁▁▁▁▁▁▁▁▁▁</td></tr><tr><td>test_tpr</td><td>▆██▇▆▅▄▂▃▃▃▃▂▄▃▁▃▄▂▂▃▃▂▂▁▂▂▂▃▃▂▁▁▂▂▂▂▂▃▂</td></tr><tr><td>train_accuracy</td><td>▁▅▅▅▆▆▆▆▆▆▆▆▆▆▇▇▇▇▇▇▇▇▇▇█▇█▇████████████</td></tr><tr><td>train_auc_score</td><td>▁▆▇▇▇▇▇▇▇█▇█████████████████████████████</td></tr><tr><td>train_f1_score</td><td>▁▄▅▅▆▆▅▆▆▆▅▆▆▆▇▇▇▇▇▇▇▇▇▇▇▇▇▇████████████</td></tr><tr><td>train_fpr</td><td>█▄▅▅▄▄▄▄▃▄▄▃▃▄▂▃▂▂▃▂▂▂▂▂▁▂▂▂▂▁▁▁▁▁▁▁▁▁▁▁</td></tr><tr><td>train_loss</td><td>█▅▄▃▃▃▃▂▂▂▂▂▂▂▂▂▂▂▂▁▁▁▁▁▁▁▁▁▁▁▁▁▁▁▁▁▁▁▁▁</td></tr><tr><td>train_tpr</td><td>▁▅▆▆▆▆▆▇▇▇▇▇▇▇▇▇▇▇▇▇▇▇██▇███████████████</td></tr></table><br/></div><div class=\"wandb-col\"><h3>Run summary:</h3><br/><table class=\"wandb\"><tr><td>epoch</td><td>39</td></tr><tr><td>lr</td><td>0.00015</td></tr><tr><td>test_accuracy</td><td>0.96461</td></tr><tr><td>test_auc_score</td><td>0.94475</td></tr><tr><td>test_f1_score</td><td>0.79091</td></tr><tr><td>test_fpr</td><td>0.03009</td></tr><tr><td>test_loss</td><td>-0.01483</td></tr><tr><td>test_tpr</td><td>0.80922</td></tr><tr><td>train_accuracy</td><td>0.98464</td></tr><tr><td>train_auc_score</td><td>0.99672</td></tr><tr><td>train_f1_score</td><td>0.94214</td></tr><tr><td>train_fpr</td><td>0.00995</td></tr><tr><td>train_loss</td><td>-0.02112</td></tr><tr><td>train_tpr</td><td>0.92291</td></tr></table><br/></div></div>"
      ],
      "text/plain": [
       "<IPython.core.display.HTML object>"
      ]
     },
     "metadata": {},
     "output_type": "display_data"
    },
    {
     "data": {
      "text/html": [
       " View run <strong style=\"color:#cdcd00\">EM_DWBLoss()_RUS-0.5</strong> at: <a href='https://wandb.ai/dmitrii_fomin_uga/Internship_project/runs/dj9jhbxe' target=\"_blank\">https://wandb.ai/dmitrii_fomin_uga/Internship_project/runs/dj9jhbxe</a><br/>Synced 5 W&B file(s), 0 media file(s), 0 artifact file(s) and 0 other file(s)"
      ],
      "text/plain": [
       "<IPython.core.display.HTML object>"
      ]
     },
     "metadata": {},
     "output_type": "display_data"
    },
    {
     "data": {
      "text/html": [
       "Find logs at: <code>../logs/wandb\\run-20230702_142321-dj9jhbxe\\logs</code>"
      ],
      "text/plain": [
       "<IPython.core.display.HTML object>"
      ]
     },
     "metadata": {},
     "output_type": "display_data"
    },
    {
     "data": {
      "text/html": [
       "Tracking run with wandb version 0.15.4"
      ],
      "text/plain": [
       "<IPython.core.display.HTML object>"
      ]
     },
     "metadata": {},
     "output_type": "display_data"
    },
    {
     "data": {
      "text/html": [
       "Run data is saved locally in <code>../logs/wandb\\run-20230702_142334-a5rmh2cp</code>"
      ],
      "text/plain": [
       "<IPython.core.display.HTML object>"
      ]
     },
     "metadata": {},
     "output_type": "display_data"
    },
    {
     "data": {
      "text/html": [
       "Syncing run <strong><a href='https://wandb.ai/dmitrii_fomin_uga/Internship_project/runs/a5rmh2cp' target=\"_blank\">EM_DWBLoss()_RUS-0.6</a></strong> to <a href='https://wandb.ai/dmitrii_fomin_uga/Internship_project' target=\"_blank\">Weights & Biases</a> (<a href='https://wandb.me/run' target=\"_blank\">docs</a>)<br/>"
      ],
      "text/plain": [
       "<IPython.core.display.HTML object>"
      ]
     },
     "metadata": {},
     "output_type": "display_data"
    },
    {
     "data": {
      "text/html": [
       " View project at <a href='https://wandb.ai/dmitrii_fomin_uga/Internship_project' target=\"_blank\">https://wandb.ai/dmitrii_fomin_uga/Internship_project</a>"
      ],
      "text/plain": [
       "<IPython.core.display.HTML object>"
      ]
     },
     "metadata": {},
     "output_type": "display_data"
    },
    {
     "data": {
      "text/html": [
       " View run at <a href='https://wandb.ai/dmitrii_fomin_uga/Internship_project/runs/a5rmh2cp' target=\"_blank\">https://wandb.ai/dmitrii_fomin_uga/Internship_project/runs/a5rmh2cp</a>"
      ],
      "text/plain": [
       "<IPython.core.display.HTML object>"
      ]
     },
     "metadata": {},
     "output_type": "display_data"
    },
    {
     "data": {
      "text/html": [
       "Waiting for W&B process to finish... <strong style=\"color:green\">(success).</strong>"
      ],
      "text/plain": [
       "<IPython.core.display.HTML object>"
      ]
     },
     "metadata": {},
     "output_type": "display_data"
    },
    {
     "data": {
      "text/html": [
       "<style>\n",
       "    table.wandb td:nth-child(1) { padding: 0 10px; text-align: left ; width: auto;} td:nth-child(2) {text-align: left ; width: 100%}\n",
       "    .wandb-row { display: flex; flex-direction: row; flex-wrap: wrap; justify-content: flex-start; width: 100% }\n",
       "    .wandb-col { display: flex; flex-direction: column; flex-basis: 100%; flex: 1; padding: 10px; }\n",
       "    </style>\n",
       "<div class=\"wandb-row\"><div class=\"wandb-col\"><h3>Run history:</h3><br/><table class=\"wandb\"><tr><td>epoch</td><td>▁▁▁▂▂▂▂▂▂▃▃▃▃▃▄▄▄▄▄▄▅▅▅▅▅▅▆▆▆▆▆▇▇▇▇▇▇███</td></tr><tr><td>lr</td><td>█▇▇▆▆▅▅▄▄▄▃▃▃▃▃▂▂▂▂▂▂▂▂▂▁▁▁▁▁▁▁▁▁▁▁▁▁▁▁▁</td></tr><tr><td>test_accuracy</td><td>▁▂▅▇▇▇██████████████████████████████████</td></tr><tr><td>test_auc_score</td><td>▁▄▅▆▇▇▇▇█▇▆███▇███▇█▆▆▇▇▇▇▆▇█▆▆▆▆▆▆▆▅▆▆▆</td></tr><tr><td>test_f1_score</td><td>▁▂▄▆▆▆▇▇▇█▇▇▇███████████████████████████</td></tr><tr><td>test_fpr</td><td>█▇▄▂▂▂▁▁▁▁▁▁▁▁▁▁▁▁▁▁▁▁▁▁▁▁▁▁▁▁▁▁▁▁▁▁▁▁▁▁</td></tr><tr><td>test_loss</td><td>██▄▂▂▂▁▁▁▁▁▁▁▁▁▁▁▁▁▁▁▁▁▁▁▁▁▁▁▁▁▁▁▁▁▁▁▁▁▁</td></tr><tr><td>test_tpr</td><td>██▇▅▅▅▂▄▄▃▁▄▄▄▂▄▄▄▄▄▃▃▄▄▄▃▃▄▅▄▄▄▅▄▄▄▄▄▄▄</td></tr><tr><td>train_accuracy</td><td>▁▃▄▅▅▅▅▆▅▆▆▆▅▆▆▆▇▇▆▇▇▇▇▇▇▇▇▇█▇██████████</td></tr><tr><td>train_auc_score</td><td>▁▆▇▇▇▇▇▇████████████████████████████████</td></tr><tr><td>train_f1_score</td><td>▁▄▅▅▅▅▅▆▆▆▆▆▆▆▆▆▇▇▇▇▇▇▇▇▇▇▇▇█▇██████████</td></tr><tr><td>train_fpr</td><td>██▇▅▅▅▅▄▅▄▃▅▆▃▃▅▃▃▄▃▄▃▃▃▂▂▃▃▂▂▁▂▁▁▁▁▁▁▁▁</td></tr><tr><td>train_loss</td><td>█▅▄▃▃▃▃▃▂▂▂▂▂▂▂▂▂▂▂▂▂▁▁▁▁▁▁▁▁▁▁▁▁▁▁▁▁▁▁▁</td></tr><tr><td>train_tpr</td><td>▁▅▆▆▆▆▆▆▇▇▆▇▇▇▇█▇▇▇▇▇████▇██████████████</td></tr></table><br/></div><div class=\"wandb-col\"><h3>Run summary:</h3><br/><table class=\"wandb\"><tr><td>epoch</td><td>39</td></tr><tr><td>lr</td><td>0.00015</td></tr><tr><td>test_accuracy</td><td>0.97009</td></tr><tr><td>test_auc_score</td><td>0.95423</td></tr><tr><td>test_f1_score</td><td>0.82016</td></tr><tr><td>test_fpr</td><td>0.0255</td></tr><tr><td>test_loss</td><td>-0.01857</td></tr><tr><td>test_tpr</td><td>0.8432</td></tr><tr><td>train_accuracy</td><td>0.99154</td></tr><tr><td>train_auc_score</td><td>0.99158</td></tr><tr><td>train_f1_score</td><td>0.96774</td></tr><tr><td>train_fpr</td><td>0.00636</td></tr><tr><td>train_loss</td><td>-0.02633</td></tr><tr><td>train_tpr</td><td>0.96307</td></tr></table><br/></div></div>"
      ],
      "text/plain": [
       "<IPython.core.display.HTML object>"
      ]
     },
     "metadata": {},
     "output_type": "display_data"
    },
    {
     "data": {
      "text/html": [
       " View run <strong style=\"color:#cdcd00\">EM_DWBLoss()_RUS-0.6</strong> at: <a href='https://wandb.ai/dmitrii_fomin_uga/Internship_project/runs/a5rmh2cp' target=\"_blank\">https://wandb.ai/dmitrii_fomin_uga/Internship_project/runs/a5rmh2cp</a><br/>Synced 5 W&B file(s), 0 media file(s), 0 artifact file(s) and 0 other file(s)"
      ],
      "text/plain": [
       "<IPython.core.display.HTML object>"
      ]
     },
     "metadata": {},
     "output_type": "display_data"
    },
    {
     "data": {
      "text/html": [
       "Find logs at: <code>../logs/wandb\\run-20230702_142334-a5rmh2cp\\logs</code>"
      ],
      "text/plain": [
       "<IPython.core.display.HTML object>"
      ]
     },
     "metadata": {},
     "output_type": "display_data"
    },
    {
     "data": {
      "text/html": [
       "Tracking run with wandb version 0.15.4"
      ],
      "text/plain": [
       "<IPython.core.display.HTML object>"
      ]
     },
     "metadata": {},
     "output_type": "display_data"
    },
    {
     "data": {
      "text/html": [
       "Run data is saved locally in <code>../logs/wandb\\run-20230702_142348-vntax4f2</code>"
      ],
      "text/plain": [
       "<IPython.core.display.HTML object>"
      ]
     },
     "metadata": {},
     "output_type": "display_data"
    },
    {
     "data": {
      "text/html": [
       "Syncing run <strong><a href='https://wandb.ai/dmitrii_fomin_uga/Internship_project/runs/vntax4f2' target=\"_blank\">EM_DWBLoss()_RUS-0.8</a></strong> to <a href='https://wandb.ai/dmitrii_fomin_uga/Internship_project' target=\"_blank\">Weights & Biases</a> (<a href='https://wandb.me/run' target=\"_blank\">docs</a>)<br/>"
      ],
      "text/plain": [
       "<IPython.core.display.HTML object>"
      ]
     },
     "metadata": {},
     "output_type": "display_data"
    },
    {
     "data": {
      "text/html": [
       " View project at <a href='https://wandb.ai/dmitrii_fomin_uga/Internship_project' target=\"_blank\">https://wandb.ai/dmitrii_fomin_uga/Internship_project</a>"
      ],
      "text/plain": [
       "<IPython.core.display.HTML object>"
      ]
     },
     "metadata": {},
     "output_type": "display_data"
    },
    {
     "data": {
      "text/html": [
       " View run at <a href='https://wandb.ai/dmitrii_fomin_uga/Internship_project/runs/vntax4f2' target=\"_blank\">https://wandb.ai/dmitrii_fomin_uga/Internship_project/runs/vntax4f2</a>"
      ],
      "text/plain": [
       "<IPython.core.display.HTML object>"
      ]
     },
     "metadata": {},
     "output_type": "display_data"
    },
    {
     "data": {
      "text/html": [
       "Waiting for W&B process to finish... <strong style=\"color:green\">(success).</strong>"
      ],
      "text/plain": [
       "<IPython.core.display.HTML object>"
      ]
     },
     "metadata": {},
     "output_type": "display_data"
    },
    {
     "data": {
      "text/html": [
       "<style>\n",
       "    table.wandb td:nth-child(1) { padding: 0 10px; text-align: left ; width: auto;} td:nth-child(2) {text-align: left ; width: 100%}\n",
       "    .wandb-row { display: flex; flex-direction: row; flex-wrap: wrap; justify-content: flex-start; width: 100% }\n",
       "    .wandb-col { display: flex; flex-direction: column; flex-basis: 100%; flex: 1; padding: 10px; }\n",
       "    </style>\n",
       "<div class=\"wandb-row\"><div class=\"wandb-col\"><h3>Run history:</h3><br/><table class=\"wandb\"><tr><td>epoch</td><td>▁▁▁▂▂▂▂▂▂▃▃▃▃▃▄▄▄▄▄▄▅▅▅▅▅▅▆▆▆▆▆▇▇▇▇▇▇███</td></tr><tr><td>lr</td><td>█▇▇▆▆▅▅▄▄▄▃▃▃▃▃▂▂▂▂▂▂▂▂▂▁▁▁▁▁▁▁▁▁▁▁▁▁▁▁▁</td></tr><tr><td>test_accuracy</td><td>▁▂▄▆▇▇██████████████████████████████████</td></tr><tr><td>test_auc_score</td><td>▁▂▄▆▆▆▆▄▇▆▆▇▄▆▅██▆▇▆▅▆▆▇▆▅▅▆▅▆▆▇█▇▇▇█▇▇▇</td></tr><tr><td>test_f1_score</td><td>▁▂▄▅▆▇▇▇▇▇▇█▇██▇██▇█████████████████████</td></tr><tr><td>test_fpr</td><td>█▇▅▃▂▂▁▁▁▁▁▁▁▁▁▁▁▁▁▁▁▁▁▁▁▁▁▁▁▁▁▁▁▁▁▁▁▁▁▁</td></tr><tr><td>test_loss</td><td>██▅▃▂▂▁▂▁▁▁▁▁▁▁▁▁▁▁▁▁▁▁▁▁▁▁▁▁▁▁▁▁▁▁▁▁▁▁▁</td></tr><tr><td>test_tpr</td><td>██▇▆▅▅▃▃▄▁▃▄▁▃▃▂▂▂▄▄▁▂▁▂▃▂▂▂▂▂▂▂▂▂▂▂▂▂▂▂</td></tr><tr><td>train_accuracy</td><td>▁▆▇▇▇▇▇▇▇█▇█▇███████████████████████████</td></tr><tr><td>train_auc_score</td><td>▁▆▆▆▆▆▇▇▇▇▇▇▇█▇▇▇███████████████████████</td></tr><tr><td>train_f1_score</td><td>▁▅▅▆▆▆▆▆▆▇▇▇▇▇▇▇▇▇▇▇▇█▇█████████████████</td></tr><tr><td>train_fpr</td><td>█▂▂▂▁▂▂▁▁▁▁▁▁▁▁▁▁▁▁▁▁▁▁▁▁▁▁▁▁▁▁▁▁▁▁▁▁▁▁▁</td></tr><tr><td>train_loss</td><td>█▅▄▃▃▂▂▂▂▂▂▂▂▂▂▂▁▂▂▁▁▁▁▁▁▁▁▁▁▁▁▁▁▁▁▁▁▁▁▁</td></tr><tr><td>train_tpr</td><td>▁▂▃▃▃▄▄▄▄▅▄▅▅▅▄▆▆▆▆▆▇▇▇▇▇█▇▇███▇█████▇██</td></tr></table><br/></div><div class=\"wandb-col\"><h3>Run summary:</h3><br/><table class=\"wandb\"><tr><td>epoch</td><td>39</td></tr><tr><td>lr</td><td>0.00015</td></tr><tr><td>test_accuracy</td><td>0.97004</td></tr><tr><td>test_auc_score</td><td>0.96416</td></tr><tr><td>test_f1_score</td><td>0.813</td></tr><tr><td>test_fpr</td><td>0.02372</td></tr><tr><td>test_loss</td><td>-0.01634</td></tr><tr><td>test_tpr</td><td>0.79895</td></tr><tr><td>train_accuracy</td><td>0.98873</td></tr><tr><td>train_auc_score</td><td>0.98168</td></tr><tr><td>train_f1_score</td><td>0.95628</td></tr><tr><td>train_fpr</td><td>0.00738</td></tr><tr><td>train_loss</td><td>-0.02284</td></tr><tr><td>train_tpr</td><td>0.93587</td></tr></table><br/></div></div>"
      ],
      "text/plain": [
       "<IPython.core.display.HTML object>"
      ]
     },
     "metadata": {},
     "output_type": "display_data"
    },
    {
     "data": {
      "text/html": [
       " View run <strong style=\"color:#cdcd00\">EM_DWBLoss()_RUS-0.8</strong> at: <a href='https://wandb.ai/dmitrii_fomin_uga/Internship_project/runs/vntax4f2' target=\"_blank\">https://wandb.ai/dmitrii_fomin_uga/Internship_project/runs/vntax4f2</a><br/>Synced 5 W&B file(s), 0 media file(s), 0 artifact file(s) and 0 other file(s)"
      ],
      "text/plain": [
       "<IPython.core.display.HTML object>"
      ]
     },
     "metadata": {},
     "output_type": "display_data"
    },
    {
     "data": {
      "text/html": [
       "Find logs at: <code>../logs/wandb\\run-20230702_142348-vntax4f2\\logs</code>"
      ],
      "text/plain": [
       "<IPython.core.display.HTML object>"
      ]
     },
     "metadata": {},
     "output_type": "display_data"
    },
    {
     "data": {
      "text/html": [
       "Tracking run with wandb version 0.15.4"
      ],
      "text/plain": [
       "<IPython.core.display.HTML object>"
      ]
     },
     "metadata": {},
     "output_type": "display_data"
    },
    {
     "data": {
      "text/html": [
       "Run data is saved locally in <code>../logs/wandb\\run-20230702_142401-9vzkafz1</code>"
      ],
      "text/plain": [
       "<IPython.core.display.HTML object>"
      ]
     },
     "metadata": {},
     "output_type": "display_data"
    },
    {
     "data": {
      "text/html": [
       "Syncing run <strong><a href='https://wandb.ai/dmitrii_fomin_uga/Internship_project/runs/9vzkafz1' target=\"_blank\">EM_DWBLoss()_RUS-1</a></strong> to <a href='https://wandb.ai/dmitrii_fomin_uga/Internship_project' target=\"_blank\">Weights & Biases</a> (<a href='https://wandb.me/run' target=\"_blank\">docs</a>)<br/>"
      ],
      "text/plain": [
       "<IPython.core.display.HTML object>"
      ]
     },
     "metadata": {},
     "output_type": "display_data"
    },
    {
     "data": {
      "text/html": [
       " View project at <a href='https://wandb.ai/dmitrii_fomin_uga/Internship_project' target=\"_blank\">https://wandb.ai/dmitrii_fomin_uga/Internship_project</a>"
      ],
      "text/plain": [
       "<IPython.core.display.HTML object>"
      ]
     },
     "metadata": {},
     "output_type": "display_data"
    },
    {
     "data": {
      "text/html": [
       " View run at <a href='https://wandb.ai/dmitrii_fomin_uga/Internship_project/runs/9vzkafz1' target=\"_blank\">https://wandb.ai/dmitrii_fomin_uga/Internship_project/runs/9vzkafz1</a>"
      ],
      "text/plain": [
       "<IPython.core.display.HTML object>"
      ]
     },
     "metadata": {},
     "output_type": "display_data"
    },
    {
     "data": {
      "text/html": [
       "Waiting for W&B process to finish... <strong style=\"color:green\">(success).</strong>"
      ],
      "text/plain": [
       "<IPython.core.display.HTML object>"
      ]
     },
     "metadata": {},
     "output_type": "display_data"
    },
    {
     "data": {
      "text/html": [
       "<style>\n",
       "    table.wandb td:nth-child(1) { padding: 0 10px; text-align: left ; width: auto;} td:nth-child(2) {text-align: left ; width: 100%}\n",
       "    .wandb-row { display: flex; flex-direction: row; flex-wrap: wrap; justify-content: flex-start; width: 100% }\n",
       "    .wandb-col { display: flex; flex-direction: column; flex-basis: 100%; flex: 1; padding: 10px; }\n",
       "    </style>\n",
       "<div class=\"wandb-row\"><div class=\"wandb-col\"><h3>Run history:</h3><br/><table class=\"wandb\"><tr><td>epoch</td><td>▁▁▁▂▂▂▂▂▂▃▃▃▃▃▄▄▄▄▄▄▅▅▅▅▅▅▆▆▆▆▆▇▇▇▇▇▇███</td></tr><tr><td>lr</td><td>█▇▇▆▆▅▅▄▄▄▃▃▃▃▃▂▂▂▂▂▂▂▂▂▁▁▁▁▁▁▁▁▁▁▁▁▁▁▁▁</td></tr><tr><td>test_accuracy</td><td>▁▂▄▆▇▇██████████████████████████████████</td></tr><tr><td>test_auc_score</td><td>▁▃▅▆▆▆▇▆▆▆▆▆▇▇▇▆▇▅█▆▆▅▆█▆▆▄▄▄▂▂▃▃▃▁▃▂▂▃▂</td></tr><tr><td>test_f1_score</td><td>▁▂▄▅▆▆▇▇▇█▇█▇██████▇████████████████████</td></tr><tr><td>test_fpr</td><td>█▇▅▃▂▂▁▁▁▁▁▁▁▁▁▁▁▁▁▁▁▁▁▁▁▁▁▁▁▁▁▁▁▁▁▁▁▁▁▁</td></tr><tr><td>test_loss</td><td>██▅▃▂▂▁▁▁▁▁▁▁▁▁▁▁▁▁▁▁▁▁▁▁▁▁▁▁▁▁▁▁▁▁▁▁▁▁▁</td></tr><tr><td>test_tpr</td><td>██▇▇▅▄▁▂▁▂▂▃▃▄▁▃▃▂▁▄▃▃▄▃▃▂▃▂▃▄▂▃▂▃▂▂▂▂▃▂</td></tr><tr><td>train_accuracy</td><td>▁▄▄▄▅▅▅▅▆▆▆▆▆▆▆▇▆▇▇▇▇▇▇▇▇▇▇█████████████</td></tr><tr><td>train_auc_score</td><td>▁▆▆▆▇▇▇▇▇▇▇▇▇▇██████████████████████████</td></tr><tr><td>train_f1_score</td><td>▁▄▄▄▄▅▅▅▅▆▆▆▆▆▆▇▆▇▇▇▆▇▇▇▇▇▇█████████████</td></tr><tr><td>train_fpr</td><td>█▄▅▅▅▅▄▄▄▃▄▃▄▄▄▂▄▂▃▃▃▃▃▃▂▂▂▂▂▁▂▁▂▂▂▁▁▁▁▁</td></tr><tr><td>train_loss</td><td>█▅▄▄▃▃▃▃▃▃▂▂▂▂▂▂▂▂▂▂▂▂▂▂▁▁▁▁▁▁▁▁▁▁▁▁▁▁▁▁</td></tr><tr><td>train_tpr</td><td>▁▄▅▅▅▅▅▅▆▆▆▆▆▇▇▇▇▇▇▇▇▇▇▇████████████████</td></tr></table><br/></div><div class=\"wandb-col\"><h3>Run summary:</h3><br/><table class=\"wandb\"><tr><td>epoch</td><td>39</td></tr><tr><td>lr</td><td>0.00015</td></tr><tr><td>test_accuracy</td><td>0.96774</td></tr><tr><td>test_auc_score</td><td>0.93497</td></tr><tr><td>test_f1_score</td><td>0.80424</td></tr><tr><td>test_fpr</td><td>0.02619</td></tr><tr><td>test_loss</td><td>-0.01677</td></tr><tr><td>test_tpr</td><td>0.79682</td></tr><tr><td>train_accuracy</td><td>0.99163</td></tr><tr><td>train_auc_score</td><td>0.99632</td></tr><tr><td>train_f1_score</td><td>0.96791</td></tr><tr><td>train_fpr</td><td>0.00777</td></tr><tr><td>train_loss</td><td>-0.028</td></tr><tr><td>train_tpr</td><td>0.98298</td></tr></table><br/></div></div>"
      ],
      "text/plain": [
       "<IPython.core.display.HTML object>"
      ]
     },
     "metadata": {},
     "output_type": "display_data"
    },
    {
     "data": {
      "text/html": [
       " View run <strong style=\"color:#cdcd00\">EM_DWBLoss()_RUS-1</strong> at: <a href='https://wandb.ai/dmitrii_fomin_uga/Internship_project/runs/9vzkafz1' target=\"_blank\">https://wandb.ai/dmitrii_fomin_uga/Internship_project/runs/9vzkafz1</a><br/>Synced 5 W&B file(s), 0 media file(s), 0 artifact file(s) and 0 other file(s)"
      ],
      "text/plain": [
       "<IPython.core.display.HTML object>"
      ]
     },
     "metadata": {},
     "output_type": "display_data"
    },
    {
     "data": {
      "text/html": [
       "Find logs at: <code>../logs/wandb\\run-20230702_142401-9vzkafz1\\logs</code>"
      ],
      "text/plain": [
       "<IPython.core.display.HTML object>"
      ]
     },
     "metadata": {},
     "output_type": "display_data"
    },
    {
     "data": {
      "text/html": [
       "Tracking run with wandb version 0.15.4"
      ],
      "text/plain": [
       "<IPython.core.display.HTML object>"
      ]
     },
     "metadata": {},
     "output_type": "display_data"
    },
    {
     "data": {
      "text/html": [
       "Run data is saved locally in <code>../logs/wandb\\run-20230702_142416-hxn8hwc7</code>"
      ],
      "text/plain": [
       "<IPython.core.display.HTML object>"
      ]
     },
     "metadata": {},
     "output_type": "display_data"
    },
    {
     "data": {
      "text/html": [
       "Syncing run <strong><a href='https://wandb.ai/dmitrii_fomin_uga/Internship_project/runs/hxn8hwc7' target=\"_blank\">EM_DWBLoss()_SMOTE-0.05</a></strong> to <a href='https://wandb.ai/dmitrii_fomin_uga/Internship_project' target=\"_blank\">Weights & Biases</a> (<a href='https://wandb.me/run' target=\"_blank\">docs</a>)<br/>"
      ],
      "text/plain": [
       "<IPython.core.display.HTML object>"
      ]
     },
     "metadata": {},
     "output_type": "display_data"
    },
    {
     "data": {
      "text/html": [
       " View project at <a href='https://wandb.ai/dmitrii_fomin_uga/Internship_project' target=\"_blank\">https://wandb.ai/dmitrii_fomin_uga/Internship_project</a>"
      ],
      "text/plain": [
       "<IPython.core.display.HTML object>"
      ]
     },
     "metadata": {},
     "output_type": "display_data"
    },
    {
     "data": {
      "text/html": [
       " View run at <a href='https://wandb.ai/dmitrii_fomin_uga/Internship_project/runs/hxn8hwc7' target=\"_blank\">https://wandb.ai/dmitrii_fomin_uga/Internship_project/runs/hxn8hwc7</a>"
      ],
      "text/plain": [
       "<IPython.core.display.HTML object>"
      ]
     },
     "metadata": {},
     "output_type": "display_data"
    },
    {
     "data": {
      "text/html": [
       "Waiting for W&B process to finish... <strong style=\"color:green\">(success).</strong>"
      ],
      "text/plain": [
       "<IPython.core.display.HTML object>"
      ]
     },
     "metadata": {},
     "output_type": "display_data"
    },
    {
     "data": {
      "text/html": [
       "<style>\n",
       "    table.wandb td:nth-child(1) { padding: 0 10px; text-align: left ; width: auto;} td:nth-child(2) {text-align: left ; width: 100%}\n",
       "    .wandb-row { display: flex; flex-direction: row; flex-wrap: wrap; justify-content: flex-start; width: 100% }\n",
       "    .wandb-col { display: flex; flex-direction: column; flex-basis: 100%; flex: 1; padding: 10px; }\n",
       "    </style>\n",
       "<div class=\"wandb-row\"><div class=\"wandb-col\"><h3>Run history:</h3><br/><table class=\"wandb\"><tr><td>epoch</td><td>▁▁▁▂▂▂▂▂▂▃▃▃▃▃▄▄▄▄▄▄▅▅▅▅▅▅▆▆▆▆▆▇▇▇▇▇▇███</td></tr><tr><td>lr</td><td>█▇▇▆▆▅▅▄▄▄▃▃▃▃▃▂▂▂▂▂▂▂▂▂▁▁▁▁▁▁▁▁▁▁▁▁▁▁▁▁</td></tr><tr><td>test_accuracy</td><td>▁▂▅▇████████████████████████████████████</td></tr><tr><td>test_auc_score</td><td>▁▃▄▄▆▅▅█▇█▇▇█▇▇███▆▆▇▆▆▆▆▇▇▅▇▇▆▆▆▇▇▆▇▇▆▇</td></tr><tr><td>test_f1_score</td><td>▁▂▅▆▇▇▇▇▇█▇▇▇███████████████████████████</td></tr><tr><td>test_fpr</td><td>█▇▄▂▁▁▁▁▁▁▁▁▁▁▁▁▁▁▁▁▁▁▁▁▁▁▁▁▁▁▁▁▁▁▁▁▁▁▁▁</td></tr><tr><td>test_loss</td><td>██▅▂▂▁▁▁▁▁▁▁▁▁▁▁▁▁▁▁▁▁▁▁▁▁▁▁▁▁▁▁▁▁▁▁▁▁▁▁</td></tr><tr><td>test_tpr</td><td>██▇▆▆▄▅▅▄▄▄▅▄▁▄▄▂▄▁▃▄▄▄▄▃▄▄▄▄▄▄▄▄▄▄▄▄▄▄▄</td></tr><tr><td>train_accuracy</td><td>▁▆▇▇▇▇▇▇▇▇▇▇▇▇██████████████████████████</td></tr><tr><td>train_auc_score</td><td>▁▅▆▆▇▇▇▇▇▇▇▇█▇▇████▇████████████████████</td></tr><tr><td>train_f1_score</td><td>▁▄▅▅▆▆▆▆▆▆▆▆▆▇▇▇▇▇▇▇▇▇▇▇▇▇██▇███████████</td></tr><tr><td>train_fpr</td><td>█▃▂▂▂▁▂▂▁▁▂▁▁▁▁▁▁▁▁▁▁▁▁▁▁▁▁▁▁▁▁▁▁▁▁▁▁▁▁▁</td></tr><tr><td>train_loss</td><td>█▅▃▃▂▂▂▂▂▂▂▂▂▂▂▁▁▁▁▁▁▁▁▁▁▁▁▁▁▁▁▁▁▁▁▁▁▁▁▁</td></tr><tr><td>train_tpr</td><td>▁▁▂▃▃▃▃▄▄▃▄▄▄▄▅▅▅▆▆▅▆▇▇▇▇▇▇▇▇▇█▇▇█████▇▇</td></tr></table><br/></div><div class=\"wandb-col\"><h3>Run summary:</h3><br/><table class=\"wandb\"><tr><td>epoch</td><td>39</td></tr><tr><td>lr</td><td>0.00015</td></tr><tr><td>test_accuracy</td><td>0.9774</td></tr><tr><td>test_auc_score</td><td>0.96731</td></tr><tr><td>test_f1_score</td><td>0.84392</td></tr><tr><td>test_fpr</td><td>0.01542</td></tr><tr><td>test_loss</td><td>-0.01885</td></tr><tr><td>test_tpr</td><td>0.77662</td></tr><tr><td>train_accuracy</td><td>0.99025</td></tr><tr><td>train_auc_score</td><td>0.98955</td></tr><tr><td>train_f1_score</td><td>0.94608</td></tr><tr><td>train_fpr</td><td>0.0065</td></tr><tr><td>train_loss</td><td>-0.02703</td></tr><tr><td>train_tpr</td><td>0.92537</td></tr></table><br/></div></div>"
      ],
      "text/plain": [
       "<IPython.core.display.HTML object>"
      ]
     },
     "metadata": {},
     "output_type": "display_data"
    },
    {
     "data": {
      "text/html": [
       " View run <strong style=\"color:#cdcd00\">EM_DWBLoss()_SMOTE-0.05</strong> at: <a href='https://wandb.ai/dmitrii_fomin_uga/Internship_project/runs/hxn8hwc7' target=\"_blank\">https://wandb.ai/dmitrii_fomin_uga/Internship_project/runs/hxn8hwc7</a><br/>Synced 5 W&B file(s), 0 media file(s), 0 artifact file(s) and 0 other file(s)"
      ],
      "text/plain": [
       "<IPython.core.display.HTML object>"
      ]
     },
     "metadata": {},
     "output_type": "display_data"
    },
    {
     "data": {
      "text/html": [
       "Find logs at: <code>../logs/wandb\\run-20230702_142416-hxn8hwc7\\logs</code>"
      ],
      "text/plain": [
       "<IPython.core.display.HTML object>"
      ]
     },
     "metadata": {},
     "output_type": "display_data"
    },
    {
     "data": {
      "text/html": [
       "Tracking run with wandb version 0.15.4"
      ],
      "text/plain": [
       "<IPython.core.display.HTML object>"
      ]
     },
     "metadata": {},
     "output_type": "display_data"
    },
    {
     "data": {
      "text/html": [
       "Run data is saved locally in <code>../logs/wandb\\run-20230702_142429-sul1f8gk</code>"
      ],
      "text/plain": [
       "<IPython.core.display.HTML object>"
      ]
     },
     "metadata": {},
     "output_type": "display_data"
    },
    {
     "data": {
      "text/html": [
       "Syncing run <strong><a href='https://wandb.ai/dmitrii_fomin_uga/Internship_project/runs/sul1f8gk' target=\"_blank\">EM_DWBLoss()_SMOTE-0.1</a></strong> to <a href='https://wandb.ai/dmitrii_fomin_uga/Internship_project' target=\"_blank\">Weights & Biases</a> (<a href='https://wandb.me/run' target=\"_blank\">docs</a>)<br/>"
      ],
      "text/plain": [
       "<IPython.core.display.HTML object>"
      ]
     },
     "metadata": {},
     "output_type": "display_data"
    },
    {
     "data": {
      "text/html": [
       " View project at <a href='https://wandb.ai/dmitrii_fomin_uga/Internship_project' target=\"_blank\">https://wandb.ai/dmitrii_fomin_uga/Internship_project</a>"
      ],
      "text/plain": [
       "<IPython.core.display.HTML object>"
      ]
     },
     "metadata": {},
     "output_type": "display_data"
    },
    {
     "data": {
      "text/html": [
       " View run at <a href='https://wandb.ai/dmitrii_fomin_uga/Internship_project/runs/sul1f8gk' target=\"_blank\">https://wandb.ai/dmitrii_fomin_uga/Internship_project/runs/sul1f8gk</a>"
      ],
      "text/plain": [
       "<IPython.core.display.HTML object>"
      ]
     },
     "metadata": {},
     "output_type": "display_data"
    },
    {
     "data": {
      "text/html": [
       "Waiting for W&B process to finish... <strong style=\"color:green\">(success).</strong>"
      ],
      "text/plain": [
       "<IPython.core.display.HTML object>"
      ]
     },
     "metadata": {},
     "output_type": "display_data"
    },
    {
     "data": {
      "text/html": [
       "<style>\n",
       "    table.wandb td:nth-child(1) { padding: 0 10px; text-align: left ; width: auto;} td:nth-child(2) {text-align: left ; width: 100%}\n",
       "    .wandb-row { display: flex; flex-direction: row; flex-wrap: wrap; justify-content: flex-start; width: 100% }\n",
       "    .wandb-col { display: flex; flex-direction: column; flex-basis: 100%; flex: 1; padding: 10px; }\n",
       "    </style>\n",
       "<div class=\"wandb-row\"><div class=\"wandb-col\"><h3>Run history:</h3><br/><table class=\"wandb\"><tr><td>epoch</td><td>▁▁▁▂▂▂▂▂▂▃▃▃▃▃▄▄▄▄▄▄▅▅▅▅▅▅▆▆▆▆▆▇▇▇▇▇▇███</td></tr><tr><td>lr</td><td>█▇▇▆▆▅▅▄▄▄▃▃▃▃▃▂▂▂▂▂▂▂▂▂▁▁▁▁▁▁▁▁▁▁▁▁▁▁▁▁</td></tr><tr><td>test_accuracy</td><td>▁▂▅▆▇▇██████████████████████████████████</td></tr><tr><td>test_auc_score</td><td>▁▄▆▆▅▅▇▅▆▇▆▇▆▅▆▆▇▇▇▆█▇▇█▇▆██▇▇▆██▇▇▇▇▇▇▇</td></tr><tr><td>test_f1_score</td><td>▁▂▅▆▆▇▇█▇▇▇▇████▇███████████████████████</td></tr><tr><td>test_fpr</td><td>█▇▄▃▂▂▁▁▁▁▁▁▁▁▁▁▁▁▁▁▁▁▁▁▁▁▁▁▁▁▁▁▁▁▁▁▁▁▁▁</td></tr><tr><td>test_loss</td><td>█▇▄▃▂▂▁▁▁▁▁▁▁▁▁▁▁▁▁▁▁▁▁▁▁▁▁▁▁▁▁▁▁▁▁▁▁▁▁▁</td></tr><tr><td>test_tpr</td><td>███▇▅▅▄▁▂▄▄▄▃▁▃▃▄▃▃▃▃▃▃▃▄▂▄▄▄▃▃▃▄▃▃▃▃▃▃▄</td></tr><tr><td>train_accuracy</td><td>▁▄▇▇▇███████████████████████████████████</td></tr><tr><td>train_auc_score</td><td>▁▆▇▆▆▆▇▇▇▇█▇████████████████████████████</td></tr><tr><td>train_f1_score</td><td>▁▃▇▇▇▇▇▇▇▇▇▇████▇███████████████████████</td></tr><tr><td>train_fpr</td><td>█▅▁▁▁▁▁▁▁▁▁▁▁▁▁▁▁▁▁▁▁▁▁▁▁▁▁▁▁▁▁▁▁▁▁▁▁▁▁▁</td></tr><tr><td>train_loss</td><td>█▅▄▃▃▂▂▂▂▂▂▂▁▁▁▁▁▁▁▁▁▁▁▁▁▁▁▁▁▁▁▁▁▁▁▁▁▁▁▁</td></tr><tr><td>train_tpr</td><td>██▂▂▃▁▁▁▃▄▅▄▅▅▆▅▅▆▅▆▆▆▆▆▆▆▇▆▇▇▆▆▆▇▆▆▆▇▇▇</td></tr></table><br/></div><div class=\"wandb-col\"><h3>Run summary:</h3><br/><table class=\"wandb\"><tr><td>epoch</td><td>39</td></tr><tr><td>lr</td><td>0.00015</td></tr><tr><td>test_accuracy</td><td>0.95209</td></tr><tr><td>test_auc_score</td><td>0.96787</td></tr><tr><td>test_f1_score</td><td>0.75841</td></tr><tr><td>test_fpr</td><td>0.04413</td></tr><tr><td>test_loss</td><td>-0.00947</td></tr><tr><td>test_tpr</td><td>0.84252</td></tr><tr><td>train_accuracy</td><td>0.97965</td></tr><tr><td>train_auc_score</td><td>0.99085</td></tr><tr><td>train_f1_score</td><td>0.93958</td></tr><tr><td>train_fpr</td><td>0.01542</td></tr><tr><td>train_loss</td><td>-0.0159</td></tr><tr><td>train_tpr</td><td>0.93044</td></tr></table><br/></div></div>"
      ],
      "text/plain": [
       "<IPython.core.display.HTML object>"
      ]
     },
     "metadata": {},
     "output_type": "display_data"
    },
    {
     "data": {
      "text/html": [
       " View run <strong style=\"color:#cdcd00\">EM_DWBLoss()_SMOTE-0.1</strong> at: <a href='https://wandb.ai/dmitrii_fomin_uga/Internship_project/runs/sul1f8gk' target=\"_blank\">https://wandb.ai/dmitrii_fomin_uga/Internship_project/runs/sul1f8gk</a><br/>Synced 5 W&B file(s), 0 media file(s), 0 artifact file(s) and 0 other file(s)"
      ],
      "text/plain": [
       "<IPython.core.display.HTML object>"
      ]
     },
     "metadata": {},
     "output_type": "display_data"
    },
    {
     "data": {
      "text/html": [
       "Find logs at: <code>../logs/wandb\\run-20230702_142429-sul1f8gk\\logs</code>"
      ],
      "text/plain": [
       "<IPython.core.display.HTML object>"
      ]
     },
     "metadata": {},
     "output_type": "display_data"
    },
    {
     "data": {
      "text/html": [
       "Tracking run with wandb version 0.15.4"
      ],
      "text/plain": [
       "<IPython.core.display.HTML object>"
      ]
     },
     "metadata": {},
     "output_type": "display_data"
    },
    {
     "data": {
      "text/html": [
       "Run data is saved locally in <code>../logs/wandb\\run-20230702_142443-zkl7c2ma</code>"
      ],
      "text/plain": [
       "<IPython.core.display.HTML object>"
      ]
     },
     "metadata": {},
     "output_type": "display_data"
    },
    {
     "data": {
      "text/html": [
       "Syncing run <strong><a href='https://wandb.ai/dmitrii_fomin_uga/Internship_project/runs/zkl7c2ma' target=\"_blank\">EM_DWBLoss()_SMOTE-0.2</a></strong> to <a href='https://wandb.ai/dmitrii_fomin_uga/Internship_project' target=\"_blank\">Weights & Biases</a> (<a href='https://wandb.me/run' target=\"_blank\">docs</a>)<br/>"
      ],
      "text/plain": [
       "<IPython.core.display.HTML object>"
      ]
     },
     "metadata": {},
     "output_type": "display_data"
    },
    {
     "data": {
      "text/html": [
       " View project at <a href='https://wandb.ai/dmitrii_fomin_uga/Internship_project' target=\"_blank\">https://wandb.ai/dmitrii_fomin_uga/Internship_project</a>"
      ],
      "text/plain": [
       "<IPython.core.display.HTML object>"
      ]
     },
     "metadata": {},
     "output_type": "display_data"
    },
    {
     "data": {
      "text/html": [
       " View run at <a href='https://wandb.ai/dmitrii_fomin_uga/Internship_project/runs/zkl7c2ma' target=\"_blank\">https://wandb.ai/dmitrii_fomin_uga/Internship_project/runs/zkl7c2ma</a>"
      ],
      "text/plain": [
       "<IPython.core.display.HTML object>"
      ]
     },
     "metadata": {},
     "output_type": "display_data"
    },
    {
     "data": {
      "text/html": [
       "Waiting for W&B process to finish... <strong style=\"color:green\">(success).</strong>"
      ],
      "text/plain": [
       "<IPython.core.display.HTML object>"
      ]
     },
     "metadata": {},
     "output_type": "display_data"
    },
    {
     "data": {
      "text/html": [
       "<style>\n",
       "    table.wandb td:nth-child(1) { padding: 0 10px; text-align: left ; width: auto;} td:nth-child(2) {text-align: left ; width: 100%}\n",
       "    .wandb-row { display: flex; flex-direction: row; flex-wrap: wrap; justify-content: flex-start; width: 100% }\n",
       "    .wandb-col { display: flex; flex-direction: column; flex-basis: 100%; flex: 1; padding: 10px; }\n",
       "    </style>\n",
       "<div class=\"wandb-row\"><div class=\"wandb-col\"><h3>Run history:</h3><br/><table class=\"wandb\"><tr><td>epoch</td><td>▁▁▁▂▂▂▂▂▂▃▃▃▃▃▄▄▄▄▄▄▅▅▅▅▅▅▆▆▆▆▆▇▇▇▇▇▇███</td></tr><tr><td>lr</td><td>█▇▇▆▆▅▅▄▄▄▃▃▃▃▃▂▂▂▂▂▂▂▂▂▁▁▁▁▁▁▁▁▁▁▁▁▁▁▁▁</td></tr><tr><td>test_accuracy</td><td>▁▃▅▇▇▇██████▇███████████████████████████</td></tr><tr><td>test_auc_score</td><td>▁▅▅▆▅▅▆▇▅▆▆▆█▇▇▇▇█████▇███▇████████████▇</td></tr><tr><td>test_f1_score</td><td>▁▃▄▆▇▇▇▇▇█▇▇▇▇▇▇▇▇███▇██████████████████</td></tr><tr><td>test_fpr</td><td>█▆▄▂▂▂▁▁▁▁▁▁▂▁▁▁▁▁▁▁▁▁▁▁▁▁▁▁▁▁▁▁▁▁▁▁▁▁▁▁</td></tr><tr><td>test_loss</td><td>▇█▆▃▂▂▁▁▁▁▂▂▂▁▁▁▁▁▁▁▁▁▁▁▁▁▁▁▁▁▁▁▁▁▁▁▁▁▁▁</td></tr><tr><td>test_tpr</td><td>▇█▇▅▁▁▂▃▁▂▃▁▄▄▂▃▃▃▃▃▃▃▂▂▃▂▃▃▃▃▃▃▃▂▃▃▃▃▃▃</td></tr><tr><td>train_accuracy</td><td>▁▄▅▆▆▆▇▇▇▇▇▇▇▇▇▇▇▇▇█▇███████████████████</td></tr><tr><td>train_auc_score</td><td>▁▇▇▇████████████████████████████████████</td></tr><tr><td>train_f1_score</td><td>▁▄▅▆▆▆▆▇▇▇▇▇▇▇▇▇▇▇▇█▇███████████████████</td></tr><tr><td>train_fpr</td><td>█▆▅▄▄▃▃▂▃▃▂▃▂▂▂▂▂▂▂▁▂▁▂▁▁▁▁▁▁▁▁▁▁▁▁▁▁▁▁▁</td></tr><tr><td>train_loss</td><td>█▅▄▃▂▂▂▂▂▂▂▂▂▂▁▂▁▁▁▁▁▁▁▁▁▁▁▁▁▁▁▁▁▁▁▁▁▁▁▁</td></tr><tr><td>train_tpr</td><td>▁▆▇▇▇▇▇▇██▇█████████████████████████████</td></tr></table><br/></div><div class=\"wandb-col\"><h3>Run summary:</h3><br/><table class=\"wandb\"><tr><td>epoch</td><td>39</td></tr><tr><td>lr</td><td>0.00015</td></tr><tr><td>test_accuracy</td><td>0.92113</td></tr><tr><td>test_auc_score</td><td>0.95982</td></tr><tr><td>test_f1_score</td><td>0.69477</td></tr><tr><td>test_fpr</td><td>0.07755</td></tr><tr><td>test_loss</td><td>0.002</td></tr><tr><td>test_tpr</td><td>0.88567</td></tr><tr><td>train_accuracy</td><td>0.97867</td></tr><tr><td>train_auc_score</td><td>0.9931</td></tr><tr><td>train_f1_score</td><td>0.96248</td></tr><tr><td>train_fpr</td><td>0.02034</td></tr><tr><td>train_loss</td><td>-0.01197</td></tr><tr><td>train_tpr</td><td>0.97438</td></tr></table><br/></div></div>"
      ],
      "text/plain": [
       "<IPython.core.display.HTML object>"
      ]
     },
     "metadata": {},
     "output_type": "display_data"
    },
    {
     "data": {
      "text/html": [
       " View run <strong style=\"color:#cdcd00\">EM_DWBLoss()_SMOTE-0.2</strong> at: <a href='https://wandb.ai/dmitrii_fomin_uga/Internship_project/runs/zkl7c2ma' target=\"_blank\">https://wandb.ai/dmitrii_fomin_uga/Internship_project/runs/zkl7c2ma</a><br/>Synced 5 W&B file(s), 0 media file(s), 0 artifact file(s) and 0 other file(s)"
      ],
      "text/plain": [
       "<IPython.core.display.HTML object>"
      ]
     },
     "metadata": {},
     "output_type": "display_data"
    },
    {
     "data": {
      "text/html": [
       "Find logs at: <code>../logs/wandb\\run-20230702_142443-zkl7c2ma\\logs</code>"
      ],
      "text/plain": [
       "<IPython.core.display.HTML object>"
      ]
     },
     "metadata": {},
     "output_type": "display_data"
    },
    {
     "data": {
      "text/html": [
       "Tracking run with wandb version 0.15.4"
      ],
      "text/plain": [
       "<IPython.core.display.HTML object>"
      ]
     },
     "metadata": {},
     "output_type": "display_data"
    },
    {
     "data": {
      "text/html": [
       "Run data is saved locally in <code>../logs/wandb\\run-20230702_142457-4xvcqksx</code>"
      ],
      "text/plain": [
       "<IPython.core.display.HTML object>"
      ]
     },
     "metadata": {},
     "output_type": "display_data"
    },
    {
     "data": {
      "text/html": [
       "Syncing run <strong><a href='https://wandb.ai/dmitrii_fomin_uga/Internship_project/runs/4xvcqksx' target=\"_blank\">EM_DWBLoss()_SMOTE-0.3</a></strong> to <a href='https://wandb.ai/dmitrii_fomin_uga/Internship_project' target=\"_blank\">Weights & Biases</a> (<a href='https://wandb.me/run' target=\"_blank\">docs</a>)<br/>"
      ],
      "text/plain": [
       "<IPython.core.display.HTML object>"
      ]
     },
     "metadata": {},
     "output_type": "display_data"
    },
    {
     "data": {
      "text/html": [
       " View project at <a href='https://wandb.ai/dmitrii_fomin_uga/Internship_project' target=\"_blank\">https://wandb.ai/dmitrii_fomin_uga/Internship_project</a>"
      ],
      "text/plain": [
       "<IPython.core.display.HTML object>"
      ]
     },
     "metadata": {},
     "output_type": "display_data"
    },
    {
     "data": {
      "text/html": [
       " View run at <a href='https://wandb.ai/dmitrii_fomin_uga/Internship_project/runs/4xvcqksx' target=\"_blank\">https://wandb.ai/dmitrii_fomin_uga/Internship_project/runs/4xvcqksx</a>"
      ],
      "text/plain": [
       "<IPython.core.display.HTML object>"
      ]
     },
     "metadata": {},
     "output_type": "display_data"
    },
    {
     "data": {
      "text/html": [
       "Waiting for W&B process to finish... <strong style=\"color:green\">(success).</strong>"
      ],
      "text/plain": [
       "<IPython.core.display.HTML object>"
      ]
     },
     "metadata": {},
     "output_type": "display_data"
    },
    {
     "data": {
      "text/html": [
       "<style>\n",
       "    table.wandb td:nth-child(1) { padding: 0 10px; text-align: left ; width: auto;} td:nth-child(2) {text-align: left ; width: 100%}\n",
       "    .wandb-row { display: flex; flex-direction: row; flex-wrap: wrap; justify-content: flex-start; width: 100% }\n",
       "    .wandb-col { display: flex; flex-direction: column; flex-basis: 100%; flex: 1; padding: 10px; }\n",
       "    </style>\n",
       "<div class=\"wandb-row\"><div class=\"wandb-col\"><h3>Run history:</h3><br/><table class=\"wandb\"><tr><td>epoch</td><td>▁▁▁▂▂▂▂▂▂▃▃▃▃▃▄▄▄▄▄▄▅▅▅▅▅▅▆▆▆▆▆▇▇▇▇▇▇███</td></tr><tr><td>lr</td><td>█▇▇▆▆▅▅▄▄▄▃▃▃▃▃▂▂▂▂▂▂▂▂▂▁▁▁▁▁▁▁▁▁▁▁▁▁▁▁▁</td></tr><tr><td>test_accuracy</td><td>▁▄▆▇▇▇█▇██▇█████████████████████████████</td></tr><tr><td>test_auc_score</td><td>▁▅▆▆▇▇▇▇▇███▇████▇▇█████████████▇███████</td></tr><tr><td>test_f1_score</td><td>▁▄▆▇▇▇▇▇▇█▇▇▇▇██████████████████████████</td></tr><tr><td>test_fpr</td><td>█▅▃▂▂▂▁▂▁▁▂▁▁▁▁▁▁▁▁▁▁▁▁▁▁▁▁▁▁▁▁▁▁▁▁▁▁▁▁▁</td></tr><tr><td>test_loss</td><td>█▆▄▂▂▂▁▂▁▁▂▁▁▁▁▁▁▁▁▁▁▁▁▁▁▁▁▁▁▁▁▁▁▁▁▁▁▁▁▁</td></tr><tr><td>test_tpr</td><td>██▆▆▅▆▃▅▃▅▄▂▃▃▂▂▃▂▄▂▂▄▂▄▃▃▃▃▁▂▂▃▃▂▂▂▂▂▃▃</td></tr><tr><td>train_accuracy</td><td>▁▅▅▆▆▆▇▆▆▇▇▇▇▇▇▇▇▇▇▇▇▇██████████████████</td></tr><tr><td>train_auc_score</td><td>▁▇▇█▇███████████████████████████████████</td></tr><tr><td>train_f1_score</td><td>▁▅▆▆▆▆▇▆▆▇▇▇▇▇▇▇▇▇▇▇▇▇██████████████████</td></tr><tr><td>train_fpr</td><td>█▇▅▄▄▄▃▄▄▃▃▃▃▂▂▂▂▂▂▂▂▂▂▂▂▂▁▁▁▁▁▁▁▁▁▁▁▁▁▁</td></tr><tr><td>train_loss</td><td>█▅▃▃▃▂▂▂▂▂▂▂▂▂▁▁▁▁▁▁▁▁▁▁▁▁▁▁▁▁▁▁▁▁▁▁▁▁▁▁</td></tr><tr><td>train_tpr</td><td>▁▇▇▇▇█▇█▇▇██████████████████████████████</td></tr></table><br/></div><div class=\"wandb-col\"><h3>Run summary:</h3><br/><table class=\"wandb\"><tr><td>epoch</td><td>39</td></tr><tr><td>lr</td><td>0.00015</td></tr><tr><td>test_accuracy</td><td>0.89029</td></tr><tr><td>test_auc_score</td><td>0.96449</td></tr><tr><td>test_f1_score</td><td>0.65239</td></tr><tr><td>test_fpr</td><td>0.11122</td></tr><tr><td>test_loss</td><td>0.01523</td></tr><tr><td>test_tpr</td><td>0.93522</td></tr><tr><td>train_accuracy</td><td>0.9802</td></tr><tr><td>train_auc_score</td><td>0.9961</td></tr><tr><td>train_f1_score</td><td>0.9726</td></tr><tr><td>train_fpr</td><td>0.02293</td></tr><tr><td>train_loss</td><td>-0.00988</td></tr><tr><td>train_tpr</td><td>0.9908</td></tr></table><br/></div></div>"
      ],
      "text/plain": [
       "<IPython.core.display.HTML object>"
      ]
     },
     "metadata": {},
     "output_type": "display_data"
    },
    {
     "data": {
      "text/html": [
       " View run <strong style=\"color:#cdcd00\">EM_DWBLoss()_SMOTE-0.3</strong> at: <a href='https://wandb.ai/dmitrii_fomin_uga/Internship_project/runs/4xvcqksx' target=\"_blank\">https://wandb.ai/dmitrii_fomin_uga/Internship_project/runs/4xvcqksx</a><br/>Synced 5 W&B file(s), 0 media file(s), 0 artifact file(s) and 0 other file(s)"
      ],
      "text/plain": [
       "<IPython.core.display.HTML object>"
      ]
     },
     "metadata": {},
     "output_type": "display_data"
    },
    {
     "data": {
      "text/html": [
       "Find logs at: <code>../logs/wandb\\run-20230702_142457-4xvcqksx\\logs</code>"
      ],
      "text/plain": [
       "<IPython.core.display.HTML object>"
      ]
     },
     "metadata": {},
     "output_type": "display_data"
    },
    {
     "data": {
      "text/html": [
       "Tracking run with wandb version 0.15.4"
      ],
      "text/plain": [
       "<IPython.core.display.HTML object>"
      ]
     },
     "metadata": {},
     "output_type": "display_data"
    },
    {
     "data": {
      "text/html": [
       "Run data is saved locally in <code>../logs/wandb\\run-20230702_142512-428xw4se</code>"
      ],
      "text/plain": [
       "<IPython.core.display.HTML object>"
      ]
     },
     "metadata": {},
     "output_type": "display_data"
    },
    {
     "data": {
      "text/html": [
       "Syncing run <strong><a href='https://wandb.ai/dmitrii_fomin_uga/Internship_project/runs/428xw4se' target=\"_blank\">EM_DWBLoss()_SMOTE-0.4</a></strong> to <a href='https://wandb.ai/dmitrii_fomin_uga/Internship_project' target=\"_blank\">Weights & Biases</a> (<a href='https://wandb.me/run' target=\"_blank\">docs</a>)<br/>"
      ],
      "text/plain": [
       "<IPython.core.display.HTML object>"
      ]
     },
     "metadata": {},
     "output_type": "display_data"
    },
    {
     "data": {
      "text/html": [
       " View project at <a href='https://wandb.ai/dmitrii_fomin_uga/Internship_project' target=\"_blank\">https://wandb.ai/dmitrii_fomin_uga/Internship_project</a>"
      ],
      "text/plain": [
       "<IPython.core.display.HTML object>"
      ]
     },
     "metadata": {},
     "output_type": "display_data"
    },
    {
     "data": {
      "text/html": [
       " View run at <a href='https://wandb.ai/dmitrii_fomin_uga/Internship_project/runs/428xw4se' target=\"_blank\">https://wandb.ai/dmitrii_fomin_uga/Internship_project/runs/428xw4se</a>"
      ],
      "text/plain": [
       "<IPython.core.display.HTML object>"
      ]
     },
     "metadata": {},
     "output_type": "display_data"
    },
    {
     "data": {
      "text/html": [
       "Waiting for W&B process to finish... <strong style=\"color:green\">(success).</strong>"
      ],
      "text/plain": [
       "<IPython.core.display.HTML object>"
      ]
     },
     "metadata": {},
     "output_type": "display_data"
    },
    {
     "data": {
      "text/html": [
       "<style>\n",
       "    table.wandb td:nth-child(1) { padding: 0 10px; text-align: left ; width: auto;} td:nth-child(2) {text-align: left ; width: 100%}\n",
       "    .wandb-row { display: flex; flex-direction: row; flex-wrap: wrap; justify-content: flex-start; width: 100% }\n",
       "    .wandb-col { display: flex; flex-direction: column; flex-basis: 100%; flex: 1; padding: 10px; }\n",
       "    </style>\n",
       "<div class=\"wandb-row\"><div class=\"wandb-col\"><h3>Run history:</h3><br/><table class=\"wandb\"><tr><td>epoch</td><td>▁▁▁▂▂▂▂▂▂▃▃▃▃▃▄▄▄▄▄▄▅▅▅▅▅▅▆▆▆▆▆▇▇▇▇▇▇███</td></tr><tr><td>lr</td><td>█▇▇▆▆▅▅▄▄▄▃▃▃▃▃▂▂▂▂▂▂▂▂▂▁▁▁▁▁▁▁▁▁▁▁▁▁▁▁▁</td></tr><tr><td>test_accuracy</td><td>▁▆▇▇▇▇██▇█▇▇████████████████████████████</td></tr><tr><td>test_auc_score</td><td>▁▅▆▇▇▇▇▆██▇▇██▇▇█▇███▇█▇▇▇▇▇▇▇▇▇▇▇▇▇█▇▇▇</td></tr><tr><td>test_f1_score</td><td>▁▆▇▇▇▇██▇█▇▇█▇██████████████████████████</td></tr><tr><td>test_fpr</td><td>█▃▂▂▂▂▁▁▂▁▂▂▁▁▁▁▁▁▁▁▁▁▁▁▁▁▁▁▁▁▁▁▁▁▁▁▁▁▁▁</td></tr><tr><td>test_loss</td><td>█▅▃▃▂▂▂▂▃▂▂▂▂▂▁▂▁▁▁▁▁▁▂▁▁▁▁▁▁▁▁▁▁▁▁▁▁▁▁▁</td></tr><tr><td>test_tpr</td><td>█▆▆▆▅▆▄▁▇▃▃▄▆▆▄▅▅▃▅▄▄▄▄▄▃▄▃▄▅▃▄▃▃▃▃▂▃▃▃▃</td></tr><tr><td>train_accuracy</td><td>▁▆▇▇▇▇▇▇▇▇▇▇▇▇▇█████████████████████████</td></tr><tr><td>train_auc_score</td><td>▁▇▇▇▇▇█████▇████████████████████████████</td></tr><tr><td>train_f1_score</td><td>▁▆▆▇▇▇▇▇▇▇▇▇▇▇▇▇█▇██████████████████████</td></tr><tr><td>train_fpr</td><td>█▂▂▂▂▂▂▂▂▁▂▂▂▂▂▁▁▁▁▁▁▁▁▁▁▁▁▁▁▁▁▁▁▁▁▁▁▁▁▁</td></tr><tr><td>train_loss</td><td>█▄▃▃▃▂▂▂▂▂▂▂▂▂▂▂▁▁▁▁▁▁▁▁▁▁▁▁▁▁▁▁▁▁▁▁▁▁▁▁</td></tr><tr><td>train_tpr</td><td>▁▄▅▆▅▅▆▆▇▇▇▇▆▇▇▇▇▇▇▇▇▇▇█▇▇▇████▇███▇████</td></tr></table><br/></div><div class=\"wandb-col\"><h3>Run summary:</h3><br/><table class=\"wandb\"><tr><td>epoch</td><td>39</td></tr><tr><td>lr</td><td>0.00015</td></tr><tr><td>test_accuracy</td><td>0.83916</td></tr><tr><td>test_auc_score</td><td>0.95154</td></tr><tr><td>test_f1_score</td><td>0.59576</td></tr><tr><td>test_fpr</td><td>0.16405</td></tr><tr><td>test_loss</td><td>0.04012</td></tr><tr><td>test_tpr</td><td>0.93012</td></tr><tr><td>train_accuracy</td><td>0.97446</td></tr><tr><td>train_auc_score</td><td>0.9955</td></tr><tr><td>train_f1_score</td><td>0.96921</td></tr><tr><td>train_fpr</td><td>0.03327</td></tr><tr><td>train_loss</td><td>-0.00342</td></tr><tr><td>train_tpr</td><td>0.99432</td></tr></table><br/></div></div>"
      ],
      "text/plain": [
       "<IPython.core.display.HTML object>"
      ]
     },
     "metadata": {},
     "output_type": "display_data"
    },
    {
     "data": {
      "text/html": [
       " View run <strong style=\"color:#cdcd00\">EM_DWBLoss()_SMOTE-0.4</strong> at: <a href='https://wandb.ai/dmitrii_fomin_uga/Internship_project/runs/428xw4se' target=\"_blank\">https://wandb.ai/dmitrii_fomin_uga/Internship_project/runs/428xw4se</a><br/>Synced 5 W&B file(s), 0 media file(s), 0 artifact file(s) and 0 other file(s)"
      ],
      "text/plain": [
       "<IPython.core.display.HTML object>"
      ]
     },
     "metadata": {},
     "output_type": "display_data"
    },
    {
     "data": {
      "text/html": [
       "Find logs at: <code>../logs/wandb\\run-20230702_142512-428xw4se\\logs</code>"
      ],
      "text/plain": [
       "<IPython.core.display.HTML object>"
      ]
     },
     "metadata": {},
     "output_type": "display_data"
    },
    {
     "data": {
      "text/html": [
       "Tracking run with wandb version 0.15.4"
      ],
      "text/plain": [
       "<IPython.core.display.HTML object>"
      ]
     },
     "metadata": {},
     "output_type": "display_data"
    },
    {
     "data": {
      "text/html": [
       "Run data is saved locally in <code>../logs/wandb\\run-20230702_142528-pfhf01hg</code>"
      ],
      "text/plain": [
       "<IPython.core.display.HTML object>"
      ]
     },
     "metadata": {},
     "output_type": "display_data"
    },
    {
     "data": {
      "text/html": [
       "Syncing run <strong><a href='https://wandb.ai/dmitrii_fomin_uga/Internship_project/runs/pfhf01hg' target=\"_blank\">EM_DWBLoss()_SMOTE-0.5</a></strong> to <a href='https://wandb.ai/dmitrii_fomin_uga/Internship_project' target=\"_blank\">Weights & Biases</a> (<a href='https://wandb.me/run' target=\"_blank\">docs</a>)<br/>"
      ],
      "text/plain": [
       "<IPython.core.display.HTML object>"
      ]
     },
     "metadata": {},
     "output_type": "display_data"
    },
    {
     "data": {
      "text/html": [
       " View project at <a href='https://wandb.ai/dmitrii_fomin_uga/Internship_project' target=\"_blank\">https://wandb.ai/dmitrii_fomin_uga/Internship_project</a>"
      ],
      "text/plain": [
       "<IPython.core.display.HTML object>"
      ]
     },
     "metadata": {},
     "output_type": "display_data"
    },
    {
     "data": {
      "text/html": [
       " View run at <a href='https://wandb.ai/dmitrii_fomin_uga/Internship_project/runs/pfhf01hg' target=\"_blank\">https://wandb.ai/dmitrii_fomin_uga/Internship_project/runs/pfhf01hg</a>"
      ],
      "text/plain": [
       "<IPython.core.display.HTML object>"
      ]
     },
     "metadata": {},
     "output_type": "display_data"
    },
    {
     "data": {
      "text/html": [
       "Waiting for W&B process to finish... <strong style=\"color:green\">(success).</strong>"
      ],
      "text/plain": [
       "<IPython.core.display.HTML object>"
      ]
     },
     "metadata": {},
     "output_type": "display_data"
    },
    {
     "data": {
      "text/html": [
       "<style>\n",
       "    table.wandb td:nth-child(1) { padding: 0 10px; text-align: left ; width: auto;} td:nth-child(2) {text-align: left ; width: 100%}\n",
       "    .wandb-row { display: flex; flex-direction: row; flex-wrap: wrap; justify-content: flex-start; width: 100% }\n",
       "    .wandb-col { display: flex; flex-direction: column; flex-basis: 100%; flex: 1; padding: 10px; }\n",
       "    </style>\n",
       "<div class=\"wandb-row\"><div class=\"wandb-col\"><h3>Run history:</h3><br/><table class=\"wandb\"><tr><td>epoch</td><td>▁▁▁▂▂▂▂▂▂▃▃▃▃▃▄▄▄▄▄▄▅▅▅▅▅▅▆▆▆▆▆▇▇▇▇▇▇███</td></tr><tr><td>lr</td><td>█▇▇▆▆▅▅▄▄▄▃▃▃▃▃▂▂▂▂▂▂▂▂▂▁▁▁▁▁▁▁▁▁▁▁▁▁▁▁▁</td></tr><tr><td>test_accuracy</td><td>▁▆██▇▇▇██████████▇██████████████████████</td></tr><tr><td>test_auc_score</td><td>▁▅▇█████████████████████████████████████</td></tr><tr><td>test_f1_score</td><td>▁▆▇█▇▇███████████▇██████████████████████</td></tr><tr><td>test_fpr</td><td>█▃▁▁▂▂▂▁▁▁▁▁▁▁▁▁▁▂▁▁▁▁▁▁▁▁▁▁▁▁▁▁▁▁▁▁▁▁▁▁</td></tr><tr><td>test_loss</td><td>█▄▂▂▂▂▂▁▂▁▁▁▁▁▁▁▂▂▁▁▁▁▁▁▁▁▁▁▁▁▁▁▁▁▁▁▁▁▁▁</td></tr><tr><td>test_tpr</td><td>█▂▁▆▅▆▇▄▆▇▆▇▆▅▇▅▆▇▆▇▆▅▇▆▆▆▆▅▆▆▅▆▅▅▆▅▅▅▅▆</td></tr><tr><td>train_accuracy</td><td>▁▇▇▇▇▇██████████████████████████████████</td></tr><tr><td>train_auc_score</td><td>▁▆▇▇▇▇██████████████████████████████████</td></tr><tr><td>train_f1_score</td><td>▁▇▇██▇██████████████████████████████████</td></tr><tr><td>train_fpr</td><td>█▂▁▁▁▁▁▁▁▁▁▁▁▁▁▁▁▁▁▁▁▁▁▁▁▁▁▁▁▁▁▁▁▁▁▁▁▁▁▁</td></tr><tr><td>train_loss</td><td>█▅▄▃▃▃▂▂▂▂▂▂▂▁▁▁▂▂▁▁▁▁▁▁▁▁▁▁▁▁▁▁▁▁▁▁▁▁▁▁</td></tr><tr><td>train_tpr</td><td>█▁▄▅▅▅▆▆▆▇▆▇▇▇▇▇▇█▇▇█▇▇▇█▇█████▇████████</td></tr></table><br/></div><div class=\"wandb-col\"><h3>Run summary:</h3><br/><table class=\"wandb\"><tr><td>epoch</td><td>39</td></tr><tr><td>lr</td><td>0.00015</td></tr><tr><td>test_accuracy</td><td>0.79378</td></tr><tr><td>test_auc_score</td><td>0.9626</td></tr><tr><td>test_f1_score</td><td>0.55901</td></tr><tr><td>test_fpr</td><td>0.21201</td></tr><tr><td>test_loss</td><td>0.06219</td></tr><tr><td>test_tpr</td><td>0.96786</td></tr><tr><td>train_accuracy</td><td>0.97224</td></tr><tr><td>train_auc_score</td><td>0.99468</td></tr><tr><td>train_f1_score</td><td>0.96917</td></tr><tr><td>train_fpr</td><td>0.03794</td></tr><tr><td>train_loss</td><td>0.00236</td></tr><tr><td>train_tpr</td><td>0.99305</td></tr></table><br/></div></div>"
      ],
      "text/plain": [
       "<IPython.core.display.HTML object>"
      ]
     },
     "metadata": {},
     "output_type": "display_data"
    },
    {
     "data": {
      "text/html": [
       " View run <strong style=\"color:#cdcd00\">EM_DWBLoss()_SMOTE-0.5</strong> at: <a href='https://wandb.ai/dmitrii_fomin_uga/Internship_project/runs/pfhf01hg' target=\"_blank\">https://wandb.ai/dmitrii_fomin_uga/Internship_project/runs/pfhf01hg</a><br/>Synced 5 W&B file(s), 0 media file(s), 0 artifact file(s) and 0 other file(s)"
      ],
      "text/plain": [
       "<IPython.core.display.HTML object>"
      ]
     },
     "metadata": {},
     "output_type": "display_data"
    },
    {
     "data": {
      "text/html": [
       "Find logs at: <code>../logs/wandb\\run-20230702_142528-pfhf01hg\\logs</code>"
      ],
      "text/plain": [
       "<IPython.core.display.HTML object>"
      ]
     },
     "metadata": {},
     "output_type": "display_data"
    },
    {
     "data": {
      "text/html": [
       "Tracking run with wandb version 0.15.4"
      ],
      "text/plain": [
       "<IPython.core.display.HTML object>"
      ]
     },
     "metadata": {},
     "output_type": "display_data"
    },
    {
     "data": {
      "text/html": [
       "Run data is saved locally in <code>../logs/wandb\\run-20230702_142544-a5ib8kyj</code>"
      ],
      "text/plain": [
       "<IPython.core.display.HTML object>"
      ]
     },
     "metadata": {},
     "output_type": "display_data"
    },
    {
     "data": {
      "text/html": [
       "Syncing run <strong><a href='https://wandb.ai/dmitrii_fomin_uga/Internship_project/runs/a5ib8kyj' target=\"_blank\">EM_DWBLoss()_SMOTE-0.6</a></strong> to <a href='https://wandb.ai/dmitrii_fomin_uga/Internship_project' target=\"_blank\">Weights & Biases</a> (<a href='https://wandb.me/run' target=\"_blank\">docs</a>)<br/>"
      ],
      "text/plain": [
       "<IPython.core.display.HTML object>"
      ]
     },
     "metadata": {},
     "output_type": "display_data"
    },
    {
     "data": {
      "text/html": [
       " View project at <a href='https://wandb.ai/dmitrii_fomin_uga/Internship_project' target=\"_blank\">https://wandb.ai/dmitrii_fomin_uga/Internship_project</a>"
      ],
      "text/plain": [
       "<IPython.core.display.HTML object>"
      ]
     },
     "metadata": {},
     "output_type": "display_data"
    },
    {
     "data": {
      "text/html": [
       " View run at <a href='https://wandb.ai/dmitrii_fomin_uga/Internship_project/runs/a5ib8kyj' target=\"_blank\">https://wandb.ai/dmitrii_fomin_uga/Internship_project/runs/a5ib8kyj</a>"
      ],
      "text/plain": [
       "<IPython.core.display.HTML object>"
      ]
     },
     "metadata": {},
     "output_type": "display_data"
    },
    {
     "data": {
      "text/html": [
       "Waiting for W&B process to finish... <strong style=\"color:green\">(success).</strong>"
      ],
      "text/plain": [
       "<IPython.core.display.HTML object>"
      ]
     },
     "metadata": {},
     "output_type": "display_data"
    },
    {
     "data": {
      "text/html": [
       "<style>\n",
       "    table.wandb td:nth-child(1) { padding: 0 10px; text-align: left ; width: auto;} td:nth-child(2) {text-align: left ; width: 100%}\n",
       "    .wandb-row { display: flex; flex-direction: row; flex-wrap: wrap; justify-content: flex-start; width: 100% }\n",
       "    .wandb-col { display: flex; flex-direction: column; flex-basis: 100%; flex: 1; padding: 10px; }\n",
       "    </style>\n",
       "<div class=\"wandb-row\"><div class=\"wandb-col\"><h3>Run history:</h3><br/><table class=\"wandb\"><tr><td>epoch</td><td>▁▁▁▂▂▂▂▂▂▃▃▃▃▃▄▄▄▄▄▄▅▅▅▅▅▅▆▆▆▆▆▇▇▇▇▇▇███</td></tr><tr><td>lr</td><td>█▇▇▆▆▅▅▄▄▄▃▃▃▃▃▂▂▂▂▂▂▂▂▂▁▁▁▁▁▁▁▁▁▁▁▁▁▁▁▁</td></tr><tr><td>test_accuracy</td><td>▁▆▇▇▇▇▇▇█▇▇▇██▇▇████████████████████████</td></tr><tr><td>test_auc_score</td><td>▁▆▆▆█▇▇▇▆▇██▇█▇████▇██▇▇▇██▇▇▇█▇█▇▇▇▇▇▇▇</td></tr><tr><td>test_f1_score</td><td>▁▆▇▇▇▇▇▇█▇▇▇██▇▇████████████████████████</td></tr><tr><td>test_fpr</td><td>█▃▂▂▂▂▂▂▁▂▂▂▁▁▂▂▁▁▁▁▁▁▁▁▁▁▁▁▁▁▁▁▁▁▁▁▁▁▁▁</td></tr><tr><td>test_loss</td><td>█▅▃▃▃▃▂▂▂▃▂▂▂▁▂▂▁▁▁▁▁▁▁▁▂▁▁▁▁▁▁▁▁▁▁▁▁▁▁▁</td></tr><tr><td>test_tpr</td><td>█▆▁▅▇▅▆▆▅▅▇▄▄▅▄▅▄▆▅▄▅▄▄▅▅▆▆▂▄▄▃▃▄▂▂▁▃▁▂▁</td></tr><tr><td>train_accuracy</td><td>▁▆▆▆▆▇▇▇▇▆▇▇▇▇▇▇██▇▇████████████████████</td></tr><tr><td>train_auc_score</td><td>▁▇▇▇▇▇██████████████████████████████████</td></tr><tr><td>train_f1_score</td><td>▁▆▆▆▆▇▇▇▇▆▇▇▇▇▇▇██▇▇████████████████████</td></tr><tr><td>train_fpr</td><td>█▄▃▃▃▃▂▂▂▃▃▂▂▂▂▂▂▂▂▂▂▁▁▁▂▂▁▁▁▁▁▁▁▁▁▁▁▁▁▁</td></tr><tr><td>train_loss</td><td>█▄▄▃▃▂▂▂▂▂▂▂▂▁▂▂▁▁▁▁▁▁▁▁▁▁▁▁▁▁▁▁▁▁▁▁▁▁▁▁</td></tr><tr><td>train_tpr</td><td>▁▇▆▇▇▇▇▇█▇█▇████████████████████████████</td></tr></table><br/></div><div class=\"wandb-col\"><h3>Run summary:</h3><br/><table class=\"wandb\"><tr><td>epoch</td><td>39</td></tr><tr><td>lr</td><td>0.00015</td></tr><tr><td>test_accuracy</td><td>0.77967</td></tr><tr><td>test_auc_score</td><td>0.9487</td></tr><tr><td>test_f1_score</td><td>0.54819</td></tr><tr><td>test_fpr</td><td>0.22603</td></tr><tr><td>test_loss</td><td>0.06796</td></tr><tr><td>test_tpr</td><td>0.94239</td></tr><tr><td>train_accuracy</td><td>0.97519</td></tr><tr><td>train_auc_score</td><td>0.99442</td></tr><tr><td>train_f1_score</td><td>0.97378</td></tr><tr><td>train_fpr</td><td>0.03678</td></tr><tr><td>train_loss</td><td>0.00295</td></tr><tr><td>train_tpr</td><td>0.99542</td></tr></table><br/></div></div>"
      ],
      "text/plain": [
       "<IPython.core.display.HTML object>"
      ]
     },
     "metadata": {},
     "output_type": "display_data"
    },
    {
     "data": {
      "text/html": [
       " View run <strong style=\"color:#cdcd00\">EM_DWBLoss()_SMOTE-0.6</strong> at: <a href='https://wandb.ai/dmitrii_fomin_uga/Internship_project/runs/a5ib8kyj' target=\"_blank\">https://wandb.ai/dmitrii_fomin_uga/Internship_project/runs/a5ib8kyj</a><br/>Synced 5 W&B file(s), 0 media file(s), 0 artifact file(s) and 0 other file(s)"
      ],
      "text/plain": [
       "<IPython.core.display.HTML object>"
      ]
     },
     "metadata": {},
     "output_type": "display_data"
    },
    {
     "data": {
      "text/html": [
       "Find logs at: <code>../logs/wandb\\run-20230702_142544-a5ib8kyj\\logs</code>"
      ],
      "text/plain": [
       "<IPython.core.display.HTML object>"
      ]
     },
     "metadata": {},
     "output_type": "display_data"
    },
    {
     "data": {
      "text/html": [
       "Tracking run with wandb version 0.15.4"
      ],
      "text/plain": [
       "<IPython.core.display.HTML object>"
      ]
     },
     "metadata": {},
     "output_type": "display_data"
    },
    {
     "data": {
      "text/html": [
       "Run data is saved locally in <code>../logs/wandb\\run-20230702_142601-gumo6ybh</code>"
      ],
      "text/plain": [
       "<IPython.core.display.HTML object>"
      ]
     },
     "metadata": {},
     "output_type": "display_data"
    },
    {
     "data": {
      "text/html": [
       "Syncing run <strong><a href='https://wandb.ai/dmitrii_fomin_uga/Internship_project/runs/gumo6ybh' target=\"_blank\">EM_DWBLoss()_SMOTE-0.8</a></strong> to <a href='https://wandb.ai/dmitrii_fomin_uga/Internship_project' target=\"_blank\">Weights & Biases</a> (<a href='https://wandb.me/run' target=\"_blank\">docs</a>)<br/>"
      ],
      "text/plain": [
       "<IPython.core.display.HTML object>"
      ]
     },
     "metadata": {},
     "output_type": "display_data"
    },
    {
     "data": {
      "text/html": [
       " View project at <a href='https://wandb.ai/dmitrii_fomin_uga/Internship_project' target=\"_blank\">https://wandb.ai/dmitrii_fomin_uga/Internship_project</a>"
      ],
      "text/plain": [
       "<IPython.core.display.HTML object>"
      ]
     },
     "metadata": {},
     "output_type": "display_data"
    },
    {
     "data": {
      "text/html": [
       " View run at <a href='https://wandb.ai/dmitrii_fomin_uga/Internship_project/runs/gumo6ybh' target=\"_blank\">https://wandb.ai/dmitrii_fomin_uga/Internship_project/runs/gumo6ybh</a>"
      ],
      "text/plain": [
       "<IPython.core.display.HTML object>"
      ]
     },
     "metadata": {},
     "output_type": "display_data"
    },
    {
     "data": {
      "text/html": [
       "Waiting for W&B process to finish... <strong style=\"color:green\">(success).</strong>"
      ],
      "text/plain": [
       "<IPython.core.display.HTML object>"
      ]
     },
     "metadata": {},
     "output_type": "display_data"
    },
    {
     "data": {
      "text/html": [
       "<style>\n",
       "    table.wandb td:nth-child(1) { padding: 0 10px; text-align: left ; width: auto;} td:nth-child(2) {text-align: left ; width: 100%}\n",
       "    .wandb-row { display: flex; flex-direction: row; flex-wrap: wrap; justify-content: flex-start; width: 100% }\n",
       "    .wandb-col { display: flex; flex-direction: column; flex-basis: 100%; flex: 1; padding: 10px; }\n",
       "    </style>\n",
       "<div class=\"wandb-row\"><div class=\"wandb-col\"><h3>Run history:</h3><br/><table class=\"wandb\"><tr><td>epoch</td><td>▁▁▁▂▂▂▂▂▂▃▃▃▃▃▄▄▄▄▄▄▅▅▅▅▅▅▆▆▆▆▆▇▇▇▇▇▇███</td></tr><tr><td>lr</td><td>█▇▇▆▆▅▅▄▄▄▃▃▃▃▃▂▂▂▂▂▂▂▂▂▁▁▁▁▁▁▁▁▁▁▁▁▁▁▁▁</td></tr><tr><td>test_accuracy</td><td>▁▇▇▇▇▇▇▇▇▇█▇▇▇█▇▇███████████████████████</td></tr><tr><td>test_auc_score</td><td>▁▅▆███████▇█████████████████████████████</td></tr><tr><td>test_f1_score</td><td>▁▇▇▇▇▇▇▇▇▇█▇▇███████████████████████████</td></tr><tr><td>test_fpr</td><td>█▂▂▂▂▂▂▂▂▂▁▂▂▂▁▂▂▁▁▁▁▂▁▁▁▁▁▁▁▁▁▁▁▁▁▁▁▁▁▁</td></tr><tr><td>test_loss</td><td>█▃▂▄▃▄▅▄▄▄▂▃▄▃▂▃▃▂▂▂▁▃▃▁▂▂▁▁▁▁▁▁▁▁▁▁▁▁▁▁</td></tr><tr><td>test_tpr</td><td>█▃▅▇▄▅▇▇█▇▆▅▇▆▇▇▅▅▅▅▃▇▆▂▆▅▄▃▃▅▄▃▅▄▁▄▃▃▃▃</td></tr><tr><td>train_accuracy</td><td>▁▅▆▆▇▇▇▇▇▇▇▇▇▇▇▇▇███████████████████████</td></tr><tr><td>train_auc_score</td><td>▁▇▇▇▇██████▇████████████████████████████</td></tr><tr><td>train_f1_score</td><td>▁▆▆▇▇▇▇▇▇▇▇▇▇▇▇▇▇███████████████████████</td></tr><tr><td>train_fpr</td><td>▆█▆▆▅▄▅▄▅▅▃▅▄▄▃▃▃▂▂▂▂▂▂▂▂▂▁▁▂▁▁▁▁▁▁▁▁▁▁▁</td></tr><tr><td>train_loss</td><td>█▄▃▂▂▂▂▂▂▂▂▂▂▁▁▁▁▁▁▁▁▁▁▁▁▁▁▁▁▁▁▁▁▁▁▁▁▁▁▁</td></tr><tr><td>train_tpr</td><td>▁▇▇█████████████████████████████████████</td></tr></table><br/></div><div class=\"wandb-col\"><h3>Run summary:</h3><br/><table class=\"wandb\"><tr><td>epoch</td><td>39</td></tr><tr><td>lr</td><td>0.00015</td></tr><tr><td>test_accuracy</td><td>0.72632</td></tr><tr><td>test_auc_score</td><td>0.92608</td></tr><tr><td>test_f1_score</td><td>0.51313</td></tr><tr><td>test_fpr</td><td>0.28161</td></tr><tr><td>test_loss</td><td>0.09358</td></tr><tr><td>test_tpr</td><td>0.95283</td></tr><tr><td>train_accuracy</td><td>0.97437</td></tr><tr><td>train_auc_score</td><td>0.99369</td></tr><tr><td>train_f1_score</td><td>0.97409</td></tr><tr><td>train_fpr</td><td>0.04167</td></tr><tr><td>train_loss</td><td>0.00904</td></tr><tr><td>train_tpr</td><td>0.9952</td></tr></table><br/></div></div>"
      ],
      "text/plain": [
       "<IPython.core.display.HTML object>"
      ]
     },
     "metadata": {},
     "output_type": "display_data"
    },
    {
     "data": {
      "text/html": [
       " View run <strong style=\"color:#cdcd00\">EM_DWBLoss()_SMOTE-0.8</strong> at: <a href='https://wandb.ai/dmitrii_fomin_uga/Internship_project/runs/gumo6ybh' target=\"_blank\">https://wandb.ai/dmitrii_fomin_uga/Internship_project/runs/gumo6ybh</a><br/>Synced 5 W&B file(s), 0 media file(s), 0 artifact file(s) and 0 other file(s)"
      ],
      "text/plain": [
       "<IPython.core.display.HTML object>"
      ]
     },
     "metadata": {},
     "output_type": "display_data"
    },
    {
     "data": {
      "text/html": [
       "Find logs at: <code>../logs/wandb\\run-20230702_142601-gumo6ybh\\logs</code>"
      ],
      "text/plain": [
       "<IPython.core.display.HTML object>"
      ]
     },
     "metadata": {},
     "output_type": "display_data"
    },
    {
     "data": {
      "text/html": [
       "Tracking run with wandb version 0.15.4"
      ],
      "text/plain": [
       "<IPython.core.display.HTML object>"
      ]
     },
     "metadata": {},
     "output_type": "display_data"
    },
    {
     "data": {
      "text/html": [
       "Run data is saved locally in <code>../logs/wandb\\run-20230702_142618-zh0dw82d</code>"
      ],
      "text/plain": [
       "<IPython.core.display.HTML object>"
      ]
     },
     "metadata": {},
     "output_type": "display_data"
    },
    {
     "data": {
      "text/html": [
       "Syncing run <strong><a href='https://wandb.ai/dmitrii_fomin_uga/Internship_project/runs/zh0dw82d' target=\"_blank\">EM_DWBLoss()_SMOTE-1</a></strong> to <a href='https://wandb.ai/dmitrii_fomin_uga/Internship_project' target=\"_blank\">Weights & Biases</a> (<a href='https://wandb.me/run' target=\"_blank\">docs</a>)<br/>"
      ],
      "text/plain": [
       "<IPython.core.display.HTML object>"
      ]
     },
     "metadata": {},
     "output_type": "display_data"
    },
    {
     "data": {
      "text/html": [
       " View project at <a href='https://wandb.ai/dmitrii_fomin_uga/Internship_project' target=\"_blank\">https://wandb.ai/dmitrii_fomin_uga/Internship_project</a>"
      ],
      "text/plain": [
       "<IPython.core.display.HTML object>"
      ]
     },
     "metadata": {},
     "output_type": "display_data"
    },
    {
     "data": {
      "text/html": [
       " View run at <a href='https://wandb.ai/dmitrii_fomin_uga/Internship_project/runs/zh0dw82d' target=\"_blank\">https://wandb.ai/dmitrii_fomin_uga/Internship_project/runs/zh0dw82d</a>"
      ],
      "text/plain": [
       "<IPython.core.display.HTML object>"
      ]
     },
     "metadata": {},
     "output_type": "display_data"
    },
    {
     "data": {
      "text/html": [
       "Waiting for W&B process to finish... <strong style=\"color:green\">(success).</strong>"
      ],
      "text/plain": [
       "<IPython.core.display.HTML object>"
      ]
     },
     "metadata": {},
     "output_type": "display_data"
    },
    {
     "data": {
      "text/html": [
       "<style>\n",
       "    table.wandb td:nth-child(1) { padding: 0 10px; text-align: left ; width: auto;} td:nth-child(2) {text-align: left ; width: 100%}\n",
       "    .wandb-row { display: flex; flex-direction: row; flex-wrap: wrap; justify-content: flex-start; width: 100% }\n",
       "    .wandb-col { display: flex; flex-direction: column; flex-basis: 100%; flex: 1; padding: 10px; }\n",
       "    </style>\n",
       "<div class=\"wandb-row\"><div class=\"wandb-col\"><h3>Run history:</h3><br/><table class=\"wandb\"><tr><td>epoch</td><td>▁▁▁▂▂▂▂▂▂▃▃▃▃▃▄▄▄▄▄▄▅▅▅▅▅▅▆▆▆▆▆▇▇▇▇▇▇███</td></tr><tr><td>lr</td><td>█▇▇▆▆▅▅▄▄▄▃▃▃▃▃▂▂▂▂▂▂▂▂▂▁▁▁▁▁▁▁▁▁▁▁▁▁▁▁▁</td></tr><tr><td>test_accuracy</td><td>▁▇▇▆▆▇▆▆▇▇▇▆▇▇▇▇█▇██▇▇▇▇▇█▇▇████████████</td></tr><tr><td>test_auc_score</td><td>▁▃█▇▆▇▇▆███▇▇█████▇███▇▇▇▇▆▇▇▇▇▇▇▇▇▇▇▇██</td></tr><tr><td>test_f1_score</td><td>▁▇▇▆▆▇▆▆▇▇▇▆▇▇▇▇█▇██▇▇▇▇▇█▇▇████████████</td></tr><tr><td>test_fpr</td><td>█▂▂▃▃▂▃▃▂▂▂▃▂▂▂▂▁▂▁▁▂▂▂▂▂▁▂▂▁▁▁▁▁▁▁▁▁▁▁▁</td></tr><tr><td>test_loss</td><td>▄▂▆▇▇▂█▇▅▃▃▆▄▅▄▂▁▃▂▁▂▃▃▃▃▁▄▄▂▂▂▂▂▁▂▁▂▁▁▂</td></tr><tr><td>test_tpr</td><td>▄▁▆██▆▄▆▇▆██▆▅▆▇▆██▄███▆▄▅▆▆▆▆▅▆▅▆▆▆▅▅▆▆</td></tr><tr><td>train_accuracy</td><td>▁▆▆▇▆▇▇▇▇▇▇▇▇▇▇▇█▇█▇████████████████████</td></tr><tr><td>train_auc_score</td><td>▁▇▇▇▇▇██▇███████████████████████████████</td></tr><tr><td>train_f1_score</td><td>▁▆▇▇▆▇▇▇▇▇▇▇▇▇▇▇███▇████████████████████</td></tr><tr><td>train_fpr</td><td>█▅▄▃▄▃▃▃▃▂▂▂▂▃▂▂▂▂▂▂▂▂▁▂▂▂▂▂▂▂▁▁▁▁▁▁▁▁▁▁</td></tr><tr><td>train_loss</td><td>█▃▂▂▂▂▂▂▂▁▁▁▁▂▁▁▁▁▁▁▁▁▁▁▁▁▁▁▁▁▁▁▁▁▁▁▁▁▁▁</td></tr><tr><td>train_tpr</td><td>▁▇█▇████████████████████████████████████</td></tr></table><br/></div><div class=\"wandb-col\"><h3>Run summary:</h3><br/><table class=\"wandb\"><tr><td>epoch</td><td>39</td></tr><tr><td>lr</td><td>0.00015</td></tr><tr><td>test_accuracy</td><td>0.65781</td></tr><tr><td>test_auc_score</td><td>0.92815</td></tr><tr><td>test_f1_score</td><td>0.47435</td></tr><tr><td>test_fpr</td><td>0.35353</td></tr><tr><td>test_loss</td><td>0.1258</td></tr><tr><td>test_tpr</td><td>0.9817</td></tr><tr><td>train_accuracy</td><td>0.97109</td></tr><tr><td>train_auc_score</td><td>0.99168</td></tr><tr><td>train_f1_score</td><td>0.97103</td></tr><tr><td>train_fpr</td><td>0.05357</td></tr><tr><td>train_loss</td><td>0.01316</td></tr><tr><td>train_tpr</td><td>0.99668</td></tr></table><br/></div></div>"
      ],
      "text/plain": [
       "<IPython.core.display.HTML object>"
      ]
     },
     "metadata": {},
     "output_type": "display_data"
    },
    {
     "data": {
      "text/html": [
       " View run <strong style=\"color:#cdcd00\">EM_DWBLoss()_SMOTE-1</strong> at: <a href='https://wandb.ai/dmitrii_fomin_uga/Internship_project/runs/zh0dw82d' target=\"_blank\">https://wandb.ai/dmitrii_fomin_uga/Internship_project/runs/zh0dw82d</a><br/>Synced 5 W&B file(s), 0 media file(s), 0 artifact file(s) and 0 other file(s)"
      ],
      "text/plain": [
       "<IPython.core.display.HTML object>"
      ]
     },
     "metadata": {},
     "output_type": "display_data"
    },
    {
     "data": {
      "text/html": [
       "Find logs at: <code>../logs/wandb\\run-20230702_142618-zh0dw82d\\logs</code>"
      ],
      "text/plain": [
       "<IPython.core.display.HTML object>"
      ]
     },
     "metadata": {},
     "output_type": "display_data"
    },
    {
     "data": {
      "text/html": [
       "Tracking run with wandb version 0.15.4"
      ],
      "text/plain": [
       "<IPython.core.display.HTML object>"
      ]
     },
     "metadata": {},
     "output_type": "display_data"
    },
    {
     "data": {
      "text/html": [
       "Run data is saved locally in <code>../logs/wandb\\run-20230702_142636-7x1vfb0q</code>"
      ],
      "text/plain": [
       "<IPython.core.display.HTML object>"
      ]
     },
     "metadata": {},
     "output_type": "display_data"
    },
    {
     "data": {
      "text/html": [
       "Syncing run <strong><a href='https://wandb.ai/dmitrii_fomin_uga/Internship_project/runs/7x1vfb0q' target=\"_blank\">EM_DWBLoss()_OSS-1</a></strong> to <a href='https://wandb.ai/dmitrii_fomin_uga/Internship_project' target=\"_blank\">Weights & Biases</a> (<a href='https://wandb.me/run' target=\"_blank\">docs</a>)<br/>"
      ],
      "text/plain": [
       "<IPython.core.display.HTML object>"
      ]
     },
     "metadata": {},
     "output_type": "display_data"
    },
    {
     "data": {
      "text/html": [
       " View project at <a href='https://wandb.ai/dmitrii_fomin_uga/Internship_project' target=\"_blank\">https://wandb.ai/dmitrii_fomin_uga/Internship_project</a>"
      ],
      "text/plain": [
       "<IPython.core.display.HTML object>"
      ]
     },
     "metadata": {},
     "output_type": "display_data"
    },
    {
     "data": {
      "text/html": [
       " View run at <a href='https://wandb.ai/dmitrii_fomin_uga/Internship_project/runs/7x1vfb0q' target=\"_blank\">https://wandb.ai/dmitrii_fomin_uga/Internship_project/runs/7x1vfb0q</a>"
      ],
      "text/plain": [
       "<IPython.core.display.HTML object>"
      ]
     },
     "metadata": {},
     "output_type": "display_data"
    },
    {
     "data": {
      "text/html": [
       "Waiting for W&B process to finish... <strong style=\"color:green\">(success).</strong>"
      ],
      "text/plain": [
       "<IPython.core.display.HTML object>"
      ]
     },
     "metadata": {},
     "output_type": "display_data"
    },
    {
     "data": {
      "text/html": [
       "<style>\n",
       "    table.wandb td:nth-child(1) { padding: 0 10px; text-align: left ; width: auto;} td:nth-child(2) {text-align: left ; width: 100%}\n",
       "    .wandb-row { display: flex; flex-direction: row; flex-wrap: wrap; justify-content: flex-start; width: 100% }\n",
       "    .wandb-col { display: flex; flex-direction: column; flex-basis: 100%; flex: 1; padding: 10px; }\n",
       "    </style>\n",
       "<div class=\"wandb-row\"><div class=\"wandb-col\"><h3>Run history:</h3><br/><table class=\"wandb\"><tr><td>epoch</td><td>▁▁▁▂▂▂▂▂▂▃▃▃▃▃▄▄▄▄▄▄▅▅▅▅▅▅▆▆▆▆▆▇▇▇▇▇▇███</td></tr><tr><td>lr</td><td>█▇▇▆▆▅▅▄▄▄▃▃▃▃▃▂▂▂▂▂▂▂▂▂▁▁▁▁▁▁▁▁▁▁▁▁▁▁▁▁</td></tr><tr><td>test_accuracy</td><td>▁▂▃▅▇▇██████████████████████████████████</td></tr><tr><td>test_auc_score</td><td>▁▄▅▅▅▅▄▅▂▄▄▄▄▄▄▄▄▅▆▅▇▆▆▆▇▇█▇▆▆▇▇█▇▇▆▇▇█▇</td></tr><tr><td>test_f1_score</td><td>▁▂▃▅▆▆▇▇▇▇▇█████████████████████████████</td></tr><tr><td>test_fpr</td><td>█▇▆▄▂▂▁▁▁▁▁▁▁▁▁▁▁▁▁▁▁▁▁▁▁▁▁▁▁▁▁▁▁▁▁▁▁▁▁▁</td></tr><tr><td>test_loss</td><td>▆█▆▄▃▂▁▁▁▁▁▁▁▁▁▁▁▁▁▁▁▁▁▁▁▁▁▁▁▁▁▁▁▁▁▁▁▁▁▁</td></tr><tr><td>test_tpr</td><td>███▇▆▅▄▃▂▄▂▁▂▂▂▂▂▂▂▂▂▃▃▂▂▃▃▃▃▂▃▄▃▃▄▃▃▄▄▃</td></tr><tr><td>train_accuracy</td><td>▁▇▇▇▇▇▇▇▇▇▇▇▇█▇▇████████████████████████</td></tr><tr><td>train_auc_score</td><td>▁▆▇▇▇▇▇▇▇▇▇▇▇▇▇▇████████████████████████</td></tr><tr><td>train_f1_score</td><td>▁▅▅▅▅▆▆▆▆▅▆▆▆▇▇▆▇▇▇▇▇▇▇█▇▇▇█▇████▇██████</td></tr><tr><td>train_fpr</td><td>█▂▂▂▂▂▂▁▂▂▂▁▂▁▁▂▁▁▁▁▁▁▁▁▁▁▁▁▁▁▁▁▁▁▁▁▁▁▁▁</td></tr><tr><td>train_loss</td><td>█▄▃▃▂▂▂▂▂▂▂▂▂▂▂▂▁▁▁▁▁▁▁▁▁▁▁▁▁▁▁▁▁▁▁▁▁▁▁▁</td></tr><tr><td>train_tpr</td><td>▁▃▄▄▄▅▄▄▅▅▅▅▅▆▆▇▆▇▇▇▆▇▇▇▇▇▇▇▇█▇███▇█████</td></tr></table><br/></div><div class=\"wandb-col\"><h3>Run summary:</h3><br/><table class=\"wandb\"><tr><td>epoch</td><td>39</td></tr><tr><td>lr</td><td>0.00015</td></tr><tr><td>test_accuracy</td><td>0.96503</td></tr><tr><td>test_auc_score</td><td>0.95241</td></tr><tr><td>test_f1_score</td><td>0.79318</td></tr><tr><td>test_fpr</td><td>0.02882</td></tr><tr><td>test_loss</td><td>-0.01359</td></tr><tr><td>test_tpr</td><td>0.80109</td></tr><tr><td>train_accuracy</td><td>0.98862</td></tr><tr><td>train_auc_score</td><td>0.9617</td></tr><tr><td>train_f1_score</td><td>0.92563</td></tr><tr><td>train_fpr</td><td>0.00609</td></tr><tr><td>train_loss</td><td>-0.02365</td></tr><tr><td>train_tpr</td><td>0.86316</td></tr></table><br/></div></div>"
      ],
      "text/plain": [
       "<IPython.core.display.HTML object>"
      ]
     },
     "metadata": {},
     "output_type": "display_data"
    },
    {
     "data": {
      "text/html": [
       " View run <strong style=\"color:#cdcd00\">EM_DWBLoss()_OSS-1</strong> at: <a href='https://wandb.ai/dmitrii_fomin_uga/Internship_project/runs/7x1vfb0q' target=\"_blank\">https://wandb.ai/dmitrii_fomin_uga/Internship_project/runs/7x1vfb0q</a><br/>Synced 5 W&B file(s), 0 media file(s), 0 artifact file(s) and 0 other file(s)"
      ],
      "text/plain": [
       "<IPython.core.display.HTML object>"
      ]
     },
     "metadata": {},
     "output_type": "display_data"
    },
    {
     "data": {
      "text/html": [
       "Find logs at: <code>../logs/wandb\\run-20230702_142636-7x1vfb0q\\logs</code>"
      ],
      "text/plain": [
       "<IPython.core.display.HTML object>"
      ]
     },
     "metadata": {},
     "output_type": "display_data"
    }
   ],
   "source": [
    "parameters = {\n",
    "        'sampling_methods':[None, 'ROS', 'RUS', 'SMOTE', 'OSS'],\n",
    "        'loss_functions':[nn.CrossEntropyLoss(), FocalLoss(gamma=2), DWBLoss(df['Machine failure'])],\n",
    "        'p':[0.05,0.1,0.2,0.3,0.4,0.5,0.6,0.8,1]}\n",
    "\n",
    "ex = Experimenter(df, parameters)\n",
    "ex.perform_experiments()"
   ]
  }
 ],
 "metadata": {
  "kernelspec": {
   "display_name": "env1",
   "language": "python",
   "name": "python3"
  },
  "language_info": {
   "codemirror_mode": {
    "name": "ipython",
    "version": 3
   },
   "file_extension": ".py",
   "mimetype": "text/x-python",
   "name": "python",
   "nbconvert_exporter": "python",
   "pygments_lexer": "ipython3",
   "version": "3.11.3"
  },
  "orig_nbformat": 4
 },
 "nbformat": 4,
 "nbformat_minor": 2
}
