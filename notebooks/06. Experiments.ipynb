{
 "cells": [
  {
   "cell_type": "code",
   "execution_count": 1,
   "metadata": {},
   "outputs": [],
   "source": [
    "import os\n",
    "import sys\n",
    "sys.path.append(os.path.abspath(os.path.join(os.path.dirname('src'), '..')))\n",
    "from src.trainer.experimenter import Experimenter\n",
    "from src.models.classifiers import *\n",
    "import torch.nn as nn\n",
    "import pandas as pd\n",
    "\n",
    "seed_value = 42\n",
    "torch.manual_seed(seed_value)\n",
    "torch.cuda.manual_seed_all(seed_value)\n",
    "torch.backends.cudnn.deterministic = True"
   ]
  },
  {
   "cell_type": "code",
   "execution_count": 2,
   "metadata": {},
   "outputs": [],
   "source": [
    "df = pd.read_csv('../data/prepared_data.csv')"
   ]
  },
  {
   "cell_type": "code",
   "execution_count": 3,
   "metadata": {},
   "outputs": [
    {
     "name": "stderr",
     "output_type": "stream",
     "text": [
      "Failed to detect the name of this notebook, you can set it manually with the WANDB_NOTEBOOK_NAME environment variable to enable code saving.\n",
      "\u001b[34m\u001b[1mwandb\u001b[0m: Currently logged in as: \u001b[33mdmitrii_fomin\u001b[0m (\u001b[33mdmitrii_fomin_uga\u001b[0m). Use \u001b[1m`wandb login --relogin`\u001b[0m to force relogin\n"
     ]
    },
    {
     "data": {
      "text/html": [
       "wandb version 0.15.5 is available!  To upgrade, please run:\n",
       " $ pip install wandb --upgrade"
      ],
      "text/plain": [
       "<IPython.core.display.HTML object>"
      ]
     },
     "metadata": {},
     "output_type": "display_data"
    },
    {
     "data": {
      "text/html": [
       "Tracking run with wandb version 0.15.4"
      ],
      "text/plain": [
       "<IPython.core.display.HTML object>"
      ]
     },
     "metadata": {},
     "output_type": "display_data"
    },
    {
     "data": {
      "text/html": [
       "Run data is saved locally in <code>../logs/wandb\\run-20230709_131015-my9b7sj4</code>"
      ],
      "text/plain": [
       "<IPython.core.display.HTML object>"
      ]
     },
     "metadata": {},
     "output_type": "display_data"
    },
    {
     "data": {
      "text/html": [
       "Syncing run <strong><a href='https://wandb.ai/dmitrii_fomin_uga/Internship_project/runs/my9b7sj4' target=\"_blank\">EM_CrossEntropyLoss()_SMOTE-0.5</a></strong> to <a href='https://wandb.ai/dmitrii_fomin_uga/Internship_project' target=\"_blank\">Weights & Biases</a> (<a href='https://wandb.me/run' target=\"_blank\">docs</a>)<br/>"
      ],
      "text/plain": [
       "<IPython.core.display.HTML object>"
      ]
     },
     "metadata": {},
     "output_type": "display_data"
    },
    {
     "data": {
      "text/html": [
       " View project at <a href='https://wandb.ai/dmitrii_fomin_uga/Internship_project' target=\"_blank\">https://wandb.ai/dmitrii_fomin_uga/Internship_project</a>"
      ],
      "text/plain": [
       "<IPython.core.display.HTML object>"
      ]
     },
     "metadata": {},
     "output_type": "display_data"
    },
    {
     "data": {
      "text/html": [
       " View run at <a href='https://wandb.ai/dmitrii_fomin_uga/Internship_project/runs/my9b7sj4' target=\"_blank\">https://wandb.ai/dmitrii_fomin_uga/Internship_project/runs/my9b7sj4</a>"
      ],
      "text/plain": [
       "<IPython.core.display.HTML object>"
      ]
     },
     "metadata": {},
     "output_type": "display_data"
    },
    {
     "data": {
      "text/html": [
       "Waiting for W&B process to finish... <strong style=\"color:green\">(success).</strong>"
      ],
      "text/plain": [
       "<IPython.core.display.HTML object>"
      ]
     },
     "metadata": {},
     "output_type": "display_data"
    },
    {
     "data": {
      "text/html": [
       "<style>\n",
       "    table.wandb td:nth-child(1) { padding: 0 10px; text-align: left ; width: auto;} td:nth-child(2) {text-align: left ; width: 100%}\n",
       "    .wandb-row { display: flex; flex-direction: row; flex-wrap: wrap; justify-content: flex-start; width: 100% }\n",
       "    .wandb-col { display: flex; flex-direction: column; flex-basis: 100%; flex: 1; padding: 10px; }\n",
       "    </style>\n",
       "<div class=\"wandb-row\"><div class=\"wandb-col\"><h3>Run history:</h3><br/><table class=\"wandb\"><tr><td>epoch</td><td>▁▁▁▂▂▂▂▂▂▃▃▃▃▃▄▄▄▄▄▄▅▅▅▅▅▅▆▆▆▆▆▇▇▇▇▇▇███</td></tr><tr><td>lr</td><td>█▇▇▆▆▅▅▄▄▄▃▃▃▃▃▂▂▂▂▂▂▂▂▂▁▁▁▁▁▁▁▁▁▁▁▁▁▁▁▁</td></tr><tr><td>test_accuracy</td><td>▁▇▇▆▇▇█▇█▅█▇▇██▇▇▇▇▇▇█▇█▇██▇▇▇███████▇█▇</td></tr><tr><td>test_auc_score</td><td>▂▅▁▆▅▆▄▇▅▇███▄▅▇▇▅▆▇▆▇▆▆▇▆▇▇▇▆▆▇▆▆▆▆▆▆▆▆</td></tr><tr><td>test_f1_score</td><td>▁▆▆▅▇▆▇▇█▅█▇▆█▇▆▇▇▆▇▇█▇▇▆██▇▇▇▇▇▇██▇▇▇█▇</td></tr><tr><td>test_fpr</td><td>█▂▂▃▂▂▁▂▁▄▁▂▃▁▁▂▂▂▂▂▂▁▂▁▂▁▁▂▂▂▁▂▂▁▁▁▁▂▁▂</td></tr><tr><td>test_loss</td><td>█▃▃▃▂▂▁▂▁▄▁▂▃▁▁▃▂▂▂▂▂▁▂▁▂▁▁▂▂▂▂▂▂▁▂▁▁▂▁▂</td></tr><tr><td>test_tpr</td><td>▅▃▁▄▅▃▄▄▆▆▅▆█▃▄▇▅▇▅▆▅▆▅▅▆▅▄▆▆▅▄▅▆▄▆▅▄▅▅▅</td></tr><tr><td>train_accuracy</td><td>▁▆▆▆▆▇▇▇▇▇▇▇▇▇▇▇▇▇▇█████████████████████</td></tr><tr><td>train_auc_score</td><td>▁▇▇▇▇▇███▇███▇██████████████████████████</td></tr><tr><td>train_f1_score</td><td>▁▆▆▆▆▆▇▇▇▇▇▇▇▇▇▇▇▇▇█████████████████████</td></tr><tr><td>train_fpr</td><td>█▂▂▃▂▂▂▂▂▂▂▁▂▁▁▂▁▁▂▁▁▁▁▁▁▁▁▁▁▁▁▁▁▁▁▁▁▁▁▁</td></tr><tr><td>train_loss</td><td>█▄▃▃▃▂▂▂▂▂▂▂▂▂▂▂▁▂▁▁▁▁▁▁▁▁▁▁▁▁▁▁▁▁▁▁▁▁▁▁</td></tr><tr><td>train_tpr</td><td>▁▄▅▅▄▅▆▆▆▆▆▆▇▆▆█▇▇▇▇█▇▇▇▇█▇▇████████████</td></tr></table><br/></div><div class=\"wandb-col\"><h3>Run summary:</h3><br/><table class=\"wandb\"><tr><td>epoch</td><td>39</td></tr><tr><td>lr</td><td>0.00015</td></tr><tr><td>test_accuracy</td><td>0.8318</td></tr><tr><td>test_auc_score</td><td>0.93491</td></tr><tr><td>test_f1_score</td><td>0.58914</td></tr><tr><td>test_fpr</td><td>0.17169</td></tr><tr><td>test_loss</td><td>0.47648</td></tr><tr><td>test_tpr</td><td>0.93148</td></tr><tr><td>train_accuracy</td><td>0.97879</td></tr><tr><td>train_auc_score</td><td>0.98921</td></tr><tr><td>train_f1_score</td><td>0.97614</td></tr><tr><td>train_fpr</td><td>0.01555</td></tr><tr><td>train_loss</td><td>0.33463</td></tr><tr><td>train_tpr</td><td>0.96759</td></tr></table><br/></div></div>"
      ],
      "text/plain": [
       "<IPython.core.display.HTML object>"
      ]
     },
     "metadata": {},
     "output_type": "display_data"
    },
    {
     "data": {
      "text/html": [
       " View run <strong style=\"color:#cdcd00\">EM_CrossEntropyLoss()_SMOTE-0.5</strong> at: <a href='https://wandb.ai/dmitrii_fomin_uga/Internship_project/runs/my9b7sj4' target=\"_blank\">https://wandb.ai/dmitrii_fomin_uga/Internship_project/runs/my9b7sj4</a><br/>Synced 5 W&B file(s), 0 media file(s), 0 artifact file(s) and 0 other file(s)"
      ],
      "text/plain": [
       "<IPython.core.display.HTML object>"
      ]
     },
     "metadata": {},
     "output_type": "display_data"
    },
    {
     "data": {
      "text/html": [
       "Find logs at: <code>../logs/wandb\\run-20230709_131015-my9b7sj4\\logs</code>"
      ],
      "text/plain": [
       "<IPython.core.display.HTML object>"
      ]
     },
     "metadata": {},
     "output_type": "display_data"
    },
    {
     "data": {
      "text/html": [
       "wandb version 0.15.5 is available!  To upgrade, please run:\n",
       " $ pip install wandb --upgrade"
      ],
      "text/plain": [
       "<IPython.core.display.HTML object>"
      ]
     },
     "metadata": {},
     "output_type": "display_data"
    },
    {
     "data": {
      "text/html": [
       "Tracking run with wandb version 0.15.4"
      ],
      "text/plain": [
       "<IPython.core.display.HTML object>"
      ]
     },
     "metadata": {},
     "output_type": "display_data"
    },
    {
     "data": {
      "text/html": [
       "Run data is saved locally in <code>../logs/wandb\\run-20230709_131038-a3mxpdiw</code>"
      ],
      "text/plain": [
       "<IPython.core.display.HTML object>"
      ]
     },
     "metadata": {},
     "output_type": "display_data"
    },
    {
     "data": {
      "text/html": [
       "Syncing run <strong><a href='https://wandb.ai/dmitrii_fomin_uga/Internship_project/runs/a3mxpdiw' target=\"_blank\">EM_CrossEntropyLoss()_ROS-0.5</a></strong> to <a href='https://wandb.ai/dmitrii_fomin_uga/Internship_project' target=\"_blank\">Weights & Biases</a> (<a href='https://wandb.me/run' target=\"_blank\">docs</a>)<br/>"
      ],
      "text/plain": [
       "<IPython.core.display.HTML object>"
      ]
     },
     "metadata": {},
     "output_type": "display_data"
    },
    {
     "data": {
      "text/html": [
       " View project at <a href='https://wandb.ai/dmitrii_fomin_uga/Internship_project' target=\"_blank\">https://wandb.ai/dmitrii_fomin_uga/Internship_project</a>"
      ],
      "text/plain": [
       "<IPython.core.display.HTML object>"
      ]
     },
     "metadata": {},
     "output_type": "display_data"
    },
    {
     "data": {
      "text/html": [
       " View run at <a href='https://wandb.ai/dmitrii_fomin_uga/Internship_project/runs/a3mxpdiw' target=\"_blank\">https://wandb.ai/dmitrii_fomin_uga/Internship_project/runs/a3mxpdiw</a>"
      ],
      "text/plain": [
       "<IPython.core.display.HTML object>"
      ]
     },
     "metadata": {},
     "output_type": "display_data"
    },
    {
     "data": {
      "text/html": [
       "Waiting for W&B process to finish... <strong style=\"color:green\">(success).</strong>"
      ],
      "text/plain": [
       "<IPython.core.display.HTML object>"
      ]
     },
     "metadata": {},
     "output_type": "display_data"
    },
    {
     "data": {
      "text/html": [
       "<style>\n",
       "    table.wandb td:nth-child(1) { padding: 0 10px; text-align: left ; width: auto;} td:nth-child(2) {text-align: left ; width: 100%}\n",
       "    .wandb-row { display: flex; flex-direction: row; flex-wrap: wrap; justify-content: flex-start; width: 100% }\n",
       "    .wandb-col { display: flex; flex-direction: column; flex-basis: 100%; flex: 1; padding: 10px; }\n",
       "    </style>\n",
       "<div class=\"wandb-row\"><div class=\"wandb-col\"><h3>Run history:</h3><br/><table class=\"wandb\"><tr><td>epoch</td><td>▁▁▁▂▂▂▂▂▂▃▃▃▃▃▄▄▄▄▄▄▅▅▅▅▅▅▆▆▆▆▆▇▇▇▇▇▇███</td></tr><tr><td>lr</td><td>█▇▇▆▆▅▅▄▄▄▃▃▃▃▃▂▂▂▂▂▂▂▂▂▁▁▁▁▁▁▁▁▁▁▁▁▁▁▁▁</td></tr><tr><td>test_accuracy</td><td>▁▅▆▆▆▆▆▇▇▇▇▇██▇▇▇▇█▇▇█▇█████████████████</td></tr><tr><td>test_auc_score</td><td>▁▅▆▆▅▅▆█▇▆▇▇▇▇▇▆▆▇▇█▆█▇██▇█▇▇███████████</td></tr><tr><td>test_f1_score</td><td>▁▅▆▆▅▅▅▆▆▆▆▇▇▇▇▇▇▇▇▇▇▇▇▇████▇███████████</td></tr><tr><td>test_fpr</td><td>█▄▃▃▃▃▃▂▂▂▂▂▁▁▂▂▂▂▁▂▂▂▂▁▁▁▁▁▁▁▁▁▁▁▁▁▁▁▁▁</td></tr><tr><td>test_loss</td><td>█▄▃▃▄▄▄▃▃▂▃▂▂▁▂▂▂▂▁▂▂▂▂▁▁▁▁▁▁▁▁▁▁▁▁▁▁▁▁▁</td></tr><tr><td>test_tpr</td><td>▇▆▅▆▅█▆▇▃▄▆▆▄▂▃▅▂▁▃▆▃▅▂▄▅▅▅▅▅▃▂▅▅▄▂▄▄▂▄▃</td></tr><tr><td>train_accuracy</td><td>▁▆▆▇▇▇▇▇▇▇▇▇▇▇▇▇▇▇█▇▇▇▇█████████████████</td></tr><tr><td>train_auc_score</td><td>▁▇████▇█████████████████████████████████</td></tr><tr><td>train_f1_score</td><td>▁▅▆▇▇▇▆▇▇▇▇▇▇▇▇▇▇▇▇▇▇▇▇█████████████████</td></tr><tr><td>train_fpr</td><td>█▃▃▂▃▂▃▂▂▂▂▂▂▂▂▂▂▂▁▁▂▁▂▁▁▁▁▁▁▁▁▁▁▁▁▁▁▁▁▁</td></tr><tr><td>train_loss</td><td>█▄▃▂▂▂▂▂▂▂▂▂▂▂▂▂▂▁▁▁▂▁▂▁▁▁▁▁▁▁▁▁▁▁▁▁▁▁▁▁</td></tr><tr><td>train_tpr</td><td>▁▄▆▇▇▆▇▇▆▇▇▇█▇▇▇██▇▇▇▇▇██▇██████████████</td></tr></table><br/></div><div class=\"wandb-col\"><h3>Run summary:</h3><br/><table class=\"wandb\"><tr><td>epoch</td><td>39</td></tr><tr><td>lr</td><td>0.00015</td></tr><tr><td>test_accuracy</td><td>0.87343</td></tr><tr><td>test_auc_score</td><td>0.96476</td></tr><tr><td>test_f1_score</td><td>0.6342</td></tr><tr><td>test_fpr</td><td>0.12927</td></tr><tr><td>test_loss</td><td>0.43954</td></tr><tr><td>test_tpr</td><td>0.95</td></tr><tr><td>train_accuracy</td><td>0.97869</td></tr><tr><td>train_auc_score</td><td>0.98241</td></tr><tr><td>train_f1_score</td><td>0.97586</td></tr><tr><td>train_fpr</td><td>0.01094</td></tr><tr><td>train_loss</td><td>0.33505</td></tr><tr><td>train_tpr</td><td>0.95805</td></tr></table><br/></div></div>"
      ],
      "text/plain": [
       "<IPython.core.display.HTML object>"
      ]
     },
     "metadata": {},
     "output_type": "display_data"
    },
    {
     "data": {
      "text/html": [
       " View run <strong style=\"color:#cdcd00\">EM_CrossEntropyLoss()_ROS-0.5</strong> at: <a href='https://wandb.ai/dmitrii_fomin_uga/Internship_project/runs/a3mxpdiw' target=\"_blank\">https://wandb.ai/dmitrii_fomin_uga/Internship_project/runs/a3mxpdiw</a><br/>Synced 5 W&B file(s), 0 media file(s), 0 artifact file(s) and 0 other file(s)"
      ],
      "text/plain": [
       "<IPython.core.display.HTML object>"
      ]
     },
     "metadata": {},
     "output_type": "display_data"
    },
    {
     "data": {
      "text/html": [
       "Find logs at: <code>../logs/wandb\\run-20230709_131038-a3mxpdiw\\logs</code>"
      ],
      "text/plain": [
       "<IPython.core.display.HTML object>"
      ]
     },
     "metadata": {},
     "output_type": "display_data"
    },
    {
     "data": {
      "text/html": [
       "wandb version 0.15.5 is available!  To upgrade, please run:\n",
       " $ pip install wandb --upgrade"
      ],
      "text/plain": [
       "<IPython.core.display.HTML object>"
      ]
     },
     "metadata": {},
     "output_type": "display_data"
    },
    {
     "data": {
      "text/html": [
       "Tracking run with wandb version 0.15.4"
      ],
      "text/plain": [
       "<IPython.core.display.HTML object>"
      ]
     },
     "metadata": {},
     "output_type": "display_data"
    },
    {
     "data": {
      "text/html": [
       "Run data is saved locally in <code>../logs/wandb\\run-20230709_131058-1rfbguiq</code>"
      ],
      "text/plain": [
       "<IPython.core.display.HTML object>"
      ]
     },
     "metadata": {},
     "output_type": "display_data"
    },
    {
     "data": {
      "text/html": [
       "Syncing run <strong><a href='https://wandb.ai/dmitrii_fomin_uga/Internship_project/runs/1rfbguiq' target=\"_blank\">EM_CrossEntropyLoss()_SMOTE-0.5</a></strong> to <a href='https://wandb.ai/dmitrii_fomin_uga/Internship_project' target=\"_blank\">Weights & Biases</a> (<a href='https://wandb.me/run' target=\"_blank\">docs</a>)<br/>"
      ],
      "text/plain": [
       "<IPython.core.display.HTML object>"
      ]
     },
     "metadata": {},
     "output_type": "display_data"
    },
    {
     "data": {
      "text/html": [
       " View project at <a href='https://wandb.ai/dmitrii_fomin_uga/Internship_project' target=\"_blank\">https://wandb.ai/dmitrii_fomin_uga/Internship_project</a>"
      ],
      "text/plain": [
       "<IPython.core.display.HTML object>"
      ]
     },
     "metadata": {},
     "output_type": "display_data"
    },
    {
     "data": {
      "text/html": [
       " View run at <a href='https://wandb.ai/dmitrii_fomin_uga/Internship_project/runs/1rfbguiq' target=\"_blank\">https://wandb.ai/dmitrii_fomin_uga/Internship_project/runs/1rfbguiq</a>"
      ],
      "text/plain": [
       "<IPython.core.display.HTML object>"
      ]
     },
     "metadata": {},
     "output_type": "display_data"
    },
    {
     "data": {
      "text/html": [
       "Waiting for W&B process to finish... <strong style=\"color:green\">(success).</strong>"
      ],
      "text/plain": [
       "<IPython.core.display.HTML object>"
      ]
     },
     "metadata": {},
     "output_type": "display_data"
    },
    {
     "data": {
      "text/html": [
       "<style>\n",
       "    table.wandb td:nth-child(1) { padding: 0 10px; text-align: left ; width: auto;} td:nth-child(2) {text-align: left ; width: 100%}\n",
       "    .wandb-row { display: flex; flex-direction: row; flex-wrap: wrap; justify-content: flex-start; width: 100% }\n",
       "    .wandb-col { display: flex; flex-direction: column; flex-basis: 100%; flex: 1; padding: 10px; }\n",
       "    </style>\n",
       "<div class=\"wandb-row\"><div class=\"wandb-col\"><h3>Run history:</h3><br/><table class=\"wandb\"><tr><td>epoch</td><td>▁▁▁▂▂▂▂▂▂▃▃▃▃▃▄▄▄▄▄▄▅▅▅▅▅▅▆▆▆▆▆▇▇▇▇▇▇███</td></tr><tr><td>lr</td><td>█▇▇▆▆▅▅▄▄▄▃▃▃▃▃▂▂▂▂▂▂▂▂▂▁▁▁▁▁▁▁▁▁▁▁▁▁▁▁▁</td></tr><tr><td>test_accuracy</td><td>▁▆▇▇▇▇▇▇▇▇▇▇▇▇▇▇██▇██▇███▇████████▇██▇██</td></tr><tr><td>test_auc_score</td><td>▁▅▅▆▇▅▇▆▇▆▇▆▇▇▇▇▇▇█▇▇▆▆▆▇▅▄▆▆▆▆▆▆▆▆▆▆▆▆▆</td></tr><tr><td>test_f1_score</td><td>▁▆▆▆▆▆▆▇▇▇▆▇▆▇▇▇██▇█▇▇▇▇▇▇▇▇▇▇▇▇▇▇▇▇▇▇▇▇</td></tr><tr><td>test_fpr</td><td>█▃▂▂▂▂▂▂▂▂▂▂▂▂▂▂▁▁▂▁▁▂▁▁▁▂▁▁▁▁▁▁▁▁▂▁▁▂▂▁</td></tr><tr><td>test_loss</td><td>█▃▂▃▂▂▂▂▂▂▃▂▂▂▂▂▁▁▂▁▁▂▁▁▁▂▁▁▁▁▁▁▁▁▂▁▁▂▁▁</td></tr><tr><td>test_tpr</td><td>▇▄▅▆▇▂▇▄▅▆▆▁▅▆▅▆▃▃▆▅▆▂▅▇▅▃▆▅▄▇█▅▅▇▆▅▆▆▅▅</td></tr><tr><td>train_accuracy</td><td>▁▅▆▆▇▇▇▇▇▇▇▇▇▇▇▇▇▇██████████████████████</td></tr><tr><td>train_auc_score</td><td>▁▇▇▇▇▇▇▇████████████████████████████████</td></tr><tr><td>train_f1_score</td><td>▁▆▆▇▇▇▇▇▇▇▇▇▇▇▇▇████████████████████████</td></tr><tr><td>train_fpr</td><td>▅██▅▆▆▅▅▃▄▅▅▅▅▃▄▃▃▂▃▂▂▃▂▂▂▂▃▁▁▂▁▁▁▁▂▁▁▁▁</td></tr><tr><td>train_loss</td><td>█▄▃▂▂▂▂▂▂▂▂▂▂▂▂▂▁▁▁▁▁▁▁▁▁▁▁▁▁▁▁▁▁▁▁▁▁▁▁▁</td></tr><tr><td>train_tpr</td><td>▁▆▇▇▇▇▇▇▇█▇█▇█▇█████████████████████████</td></tr></table><br/></div><div class=\"wandb-col\"><h3>Run summary:</h3><br/><table class=\"wandb\"><tr><td>epoch</td><td>39</td></tr><tr><td>lr</td><td>0.00015</td></tr><tr><td>test_accuracy</td><td>0.84016</td></tr><tr><td>test_auc_score</td><td>0.93798</td></tr><tr><td>test_f1_score</td><td>0.59714</td></tr><tr><td>test_fpr</td><td>0.16342</td></tr><tr><td>test_loss</td><td>0.46897</td></tr><tr><td>test_tpr</td><td>0.94218</td></tr><tr><td>train_accuracy</td><td>0.9803</td></tr><tr><td>train_auc_score</td><td>0.99105</td></tr><tr><td>train_f1_score</td><td>0.97777</td></tr><tr><td>train_fpr</td><td>0.01345</td></tr><tr><td>train_loss</td><td>0.33379</td></tr><tr><td>train_tpr</td><td>0.96805</td></tr></table><br/></div></div>"
      ],
      "text/plain": [
       "<IPython.core.display.HTML object>"
      ]
     },
     "metadata": {},
     "output_type": "display_data"
    },
    {
     "data": {
      "text/html": [
       " View run <strong style=\"color:#cdcd00\">EM_CrossEntropyLoss()_SMOTE-0.5</strong> at: <a href='https://wandb.ai/dmitrii_fomin_uga/Internship_project/runs/1rfbguiq' target=\"_blank\">https://wandb.ai/dmitrii_fomin_uga/Internship_project/runs/1rfbguiq</a><br/>Synced 5 W&B file(s), 0 media file(s), 0 artifact file(s) and 0 other file(s)"
      ],
      "text/plain": [
       "<IPython.core.display.HTML object>"
      ]
     },
     "metadata": {},
     "output_type": "display_data"
    },
    {
     "data": {
      "text/html": [
       "Find logs at: <code>../logs/wandb\\run-20230709_131058-1rfbguiq\\logs</code>"
      ],
      "text/plain": [
       "<IPython.core.display.HTML object>"
      ]
     },
     "metadata": {},
     "output_type": "display_data"
    },
    {
     "data": {
      "text/html": [
       "wandb version 0.15.5 is available!  To upgrade, please run:\n",
       " $ pip install wandb --upgrade"
      ],
      "text/plain": [
       "<IPython.core.display.HTML object>"
      ]
     },
     "metadata": {},
     "output_type": "display_data"
    },
    {
     "data": {
      "text/html": [
       "Tracking run with wandb version 0.15.4"
      ],
      "text/plain": [
       "<IPython.core.display.HTML object>"
      ]
     },
     "metadata": {},
     "output_type": "display_data"
    },
    {
     "data": {
      "text/html": [
       "Run data is saved locally in <code>../logs/wandb\\run-20230709_131119-8vhpyn9x</code>"
      ],
      "text/plain": [
       "<IPython.core.display.HTML object>"
      ]
     },
     "metadata": {},
     "output_type": "display_data"
    },
    {
     "data": {
      "text/html": [
       "Syncing run <strong><a href='https://wandb.ai/dmitrii_fomin_uga/Internship_project/runs/8vhpyn9x' target=\"_blank\">EM_CrossEntropyLoss()_ROS-0.5</a></strong> to <a href='https://wandb.ai/dmitrii_fomin_uga/Internship_project' target=\"_blank\">Weights & Biases</a> (<a href='https://wandb.me/run' target=\"_blank\">docs</a>)<br/>"
      ],
      "text/plain": [
       "<IPython.core.display.HTML object>"
      ]
     },
     "metadata": {},
     "output_type": "display_data"
    },
    {
     "data": {
      "text/html": [
       " View project at <a href='https://wandb.ai/dmitrii_fomin_uga/Internship_project' target=\"_blank\">https://wandb.ai/dmitrii_fomin_uga/Internship_project</a>"
      ],
      "text/plain": [
       "<IPython.core.display.HTML object>"
      ]
     },
     "metadata": {},
     "output_type": "display_data"
    },
    {
     "data": {
      "text/html": [
       " View run at <a href='https://wandb.ai/dmitrii_fomin_uga/Internship_project/runs/8vhpyn9x' target=\"_blank\">https://wandb.ai/dmitrii_fomin_uga/Internship_project/runs/8vhpyn9x</a>"
      ],
      "text/plain": [
       "<IPython.core.display.HTML object>"
      ]
     },
     "metadata": {},
     "output_type": "display_data"
    },
    {
     "data": {
      "text/html": [
       "Waiting for W&B process to finish... <strong style=\"color:green\">(success).</strong>"
      ],
      "text/plain": [
       "<IPython.core.display.HTML object>"
      ]
     },
     "metadata": {},
     "output_type": "display_data"
    },
    {
     "data": {
      "text/html": [
       "<style>\n",
       "    table.wandb td:nth-child(1) { padding: 0 10px; text-align: left ; width: auto;} td:nth-child(2) {text-align: left ; width: 100%}\n",
       "    .wandb-row { display: flex; flex-direction: row; flex-wrap: wrap; justify-content: flex-start; width: 100% }\n",
       "    .wandb-col { display: flex; flex-direction: column; flex-basis: 100%; flex: 1; padding: 10px; }\n",
       "    </style>\n",
       "<div class=\"wandb-row\"><div class=\"wandb-col\"><h3>Run history:</h3><br/><table class=\"wandb\"><tr><td>epoch</td><td>▁▁▁▂▂▂▂▂▂▃▃▃▃▃▄▄▄▄▄▄▅▅▅▅▅▅▆▆▆▆▆▇▇▇▇▇▇███</td></tr><tr><td>lr</td><td>█▇▇▆▆▅▅▄▄▄▃▃▃▃▃▂▂▂▂▂▂▂▂▂▁▁▁▁▁▁▁▁▁▁▁▁▁▁▁▁</td></tr><tr><td>test_accuracy</td><td>▁▅▆▇▇▇▇▇▇▇▇▇▇██▇▇▇██████████████████████</td></tr><tr><td>test_auc_score</td><td>▁▆▆▇▅▇▅▆▄▅█▅▆▇▅▆▆▆█▇▇█▇██▇▆▇▇▇▇▇▇▇▇▆▆▆▆▆</td></tr><tr><td>test_f1_score</td><td>▁▅▅▆▆▆▆▆▇▇▇▇▇█▇▇▇▇██▇███████████████████</td></tr><tr><td>test_fpr</td><td>█▄▃▂▂▂▂▂▂▂▂▂▂▁▁▂▂▂▁▁▁▁▁▁▁▁▁▁▁▁▁▁▁▁▁▁▁▁▁▁</td></tr><tr><td>test_loss</td><td>█▅▄▃▃▃▂▃▂▂▂▂▂▁▂▂▂▂▁▁▁▁▁▁▁▁▁▁▁▁▁▁▁▁▁▁▁▁▁▁</td></tr><tr><td>test_tpr</td><td>▇█▅█▅▅▆▅▆▄▂▄▃▃▃▂▄▃▃▄▃▂▃▄▄▂▃▁▃▂▁▂▃▂▃▁▂▂▂▃</td></tr><tr><td>train_accuracy</td><td>▁▅▆▆▆▆▇▇▇▇▇▇▇▇▇▇▇▇██████████████████████</td></tr><tr><td>train_auc_score</td><td>▁▇▇▇▇▇██████████████████████████████████</td></tr><tr><td>train_f1_score</td><td>▁▆▆▇▇▇▇▇▇▇▇▇▇███▇███████████████████████</td></tr><tr><td>train_fpr</td><td>▆█▆▇▆▆▅▆▅▅▄▅▄▄▃▄▄▄▃▃▃▂▃▂▂▂▂▂▂▂▁▁▂▂▁▁▁▁▁▁</td></tr><tr><td>train_loss</td><td>█▄▃▃▂▂▂▂▂▂▂▂▂▂▁▁▂▁▁▁▁▁▁▁▁▁▁▁▁▁▁▁▁▁▁▁▁▁▁▁</td></tr><tr><td>train_tpr</td><td>▁▆▇▇▇▇▇█████████████████████████████████</td></tr></table><br/></div><div class=\"wandb-col\"><h3>Run summary:</h3><br/><table class=\"wandb\"><tr><td>epoch</td><td>39</td></tr><tr><td>lr</td><td>0.00015</td></tr><tr><td>test_accuracy</td><td>0.86571</td></tr><tr><td>test_auc_score</td><td>0.9453</td></tr><tr><td>test_f1_score</td><td>0.62098</td></tr><tr><td>test_fpr</td><td>0.13632</td></tr><tr><td>test_loss</td><td>0.44382</td></tr><tr><td>test_tpr</td><td>0.92783</td></tr><tr><td>train_accuracy</td><td>0.98037</td></tr><tr><td>train_auc_score</td><td>0.9815</td></tr><tr><td>train_f1_score</td><td>0.97792</td></tr><tr><td>train_fpr</td><td>0.01381</td></tr><tr><td>train_loss</td><td>0.33368</td></tr><tr><td>train_tpr</td><td>0.96908</td></tr></table><br/></div></div>"
      ],
      "text/plain": [
       "<IPython.core.display.HTML object>"
      ]
     },
     "metadata": {},
     "output_type": "display_data"
    },
    {
     "data": {
      "text/html": [
       " View run <strong style=\"color:#cdcd00\">EM_CrossEntropyLoss()_ROS-0.5</strong> at: <a href='https://wandb.ai/dmitrii_fomin_uga/Internship_project/runs/8vhpyn9x' target=\"_blank\">https://wandb.ai/dmitrii_fomin_uga/Internship_project/runs/8vhpyn9x</a><br/>Synced 5 W&B file(s), 0 media file(s), 0 artifact file(s) and 0 other file(s)"
      ],
      "text/plain": [
       "<IPython.core.display.HTML object>"
      ]
     },
     "metadata": {},
     "output_type": "display_data"
    },
    {
     "data": {
      "text/html": [
       "Find logs at: <code>../logs/wandb\\run-20230709_131119-8vhpyn9x\\logs</code>"
      ],
      "text/plain": [
       "<IPython.core.display.HTML object>"
      ]
     },
     "metadata": {},
     "output_type": "display_data"
    },
    {
     "data": {
      "text/html": [
       "wandb version 0.15.5 is available!  To upgrade, please run:\n",
       " $ pip install wandb --upgrade"
      ],
      "text/plain": [
       "<IPython.core.display.HTML object>"
      ]
     },
     "metadata": {},
     "output_type": "display_data"
    },
    {
     "data": {
      "text/html": [
       "Tracking run with wandb version 0.15.4"
      ],
      "text/plain": [
       "<IPython.core.display.HTML object>"
      ]
     },
     "metadata": {},
     "output_type": "display_data"
    },
    {
     "data": {
      "text/html": [
       "Run data is saved locally in <code>../logs/wandb\\run-20230709_131141-voc0jsba</code>"
      ],
      "text/plain": [
       "<IPython.core.display.HTML object>"
      ]
     },
     "metadata": {},
     "output_type": "display_data"
    },
    {
     "data": {
      "text/html": [
       "Syncing run <strong><a href='https://wandb.ai/dmitrii_fomin_uga/Internship_project/runs/voc0jsba' target=\"_blank\">EM_CrossEntropyLoss()_SMOTE-0.5</a></strong> to <a href='https://wandb.ai/dmitrii_fomin_uga/Internship_project' target=\"_blank\">Weights & Biases</a> (<a href='https://wandb.me/run' target=\"_blank\">docs</a>)<br/>"
      ],
      "text/plain": [
       "<IPython.core.display.HTML object>"
      ]
     },
     "metadata": {},
     "output_type": "display_data"
    },
    {
     "data": {
      "text/html": [
       " View project at <a href='https://wandb.ai/dmitrii_fomin_uga/Internship_project' target=\"_blank\">https://wandb.ai/dmitrii_fomin_uga/Internship_project</a>"
      ],
      "text/plain": [
       "<IPython.core.display.HTML object>"
      ]
     },
     "metadata": {},
     "output_type": "display_data"
    },
    {
     "data": {
      "text/html": [
       " View run at <a href='https://wandb.ai/dmitrii_fomin_uga/Internship_project/runs/voc0jsba' target=\"_blank\">https://wandb.ai/dmitrii_fomin_uga/Internship_project/runs/voc0jsba</a>"
      ],
      "text/plain": [
       "<IPython.core.display.HTML object>"
      ]
     },
     "metadata": {},
     "output_type": "display_data"
    },
    {
     "data": {
      "text/html": [
       "Waiting for W&B process to finish... <strong style=\"color:green\">(success).</strong>"
      ],
      "text/plain": [
       "<IPython.core.display.HTML object>"
      ]
     },
     "metadata": {},
     "output_type": "display_data"
    },
    {
     "data": {
      "text/html": [
       "<style>\n",
       "    table.wandb td:nth-child(1) { padding: 0 10px; text-align: left ; width: auto;} td:nth-child(2) {text-align: left ; width: 100%}\n",
       "    .wandb-row { display: flex; flex-direction: row; flex-wrap: wrap; justify-content: flex-start; width: 100% }\n",
       "    .wandb-col { display: flex; flex-direction: column; flex-basis: 100%; flex: 1; padding: 10px; }\n",
       "    </style>\n",
       "<div class=\"wandb-row\"><div class=\"wandb-col\"><h3>Run history:</h3><br/><table class=\"wandb\"><tr><td>epoch</td><td>▁▁▁▂▂▂▂▂▂▃▃▃▃▃▄▄▄▄▄▄▅▅▅▅▅▅▆▆▆▆▆▇▇▇▇▇▇███</td></tr><tr><td>lr</td><td>█▇▇▆▆▅▅▄▄▄▃▃▃▃▃▂▂▂▂▂▂▂▂▂▁▁▁▁▁▁▁▁▁▁▁▁▁▁▁▁</td></tr><tr><td>test_accuracy</td><td>▁▇▇▆▇▇█▇█▅█▇▇██▇▇▇▇▇▇█▇█▇██▇▇▇███████▇█▇</td></tr><tr><td>test_auc_score</td><td>▂▅▁▆▅▆▄▇▅▇███▄▅▇▇▅▆▇▆▇▆▆▇▆▇▇▇▆▆▇▆▆▆▆▆▆▆▆</td></tr><tr><td>test_f1_score</td><td>▁▆▆▅▇▆▇▇█▅█▇▆█▇▆▇▇▆▇▇█▇▇▆██▇▇▇▇▇▇██▇▇▇█▇</td></tr><tr><td>test_fpr</td><td>█▂▂▃▂▂▁▂▁▄▁▂▃▁▁▂▂▂▂▂▂▁▂▁▂▁▁▂▂▂▁▂▂▁▁▁▁▂▁▂</td></tr><tr><td>test_loss</td><td>█▃▃▃▂▂▁▂▁▄▁▂▃▁▁▃▂▂▂▂▂▁▂▁▂▁▁▂▂▂▂▂▂▁▂▁▁▂▁▂</td></tr><tr><td>test_tpr</td><td>▅▃▁▄▅▃▄▄▆▆▅▆█▃▄▇▅▇▅▆▅▆▅▅▆▅▄▆▆▅▄▅▆▄▆▅▄▅▅▅</td></tr><tr><td>train_accuracy</td><td>▁▆▆▆▆▇▇▇▇▇▇▇▇▇▇▇▇▇▇█████████████████████</td></tr><tr><td>train_auc_score</td><td>▁▇▇▇▇▇███▇███▇██████████████████████████</td></tr><tr><td>train_f1_score</td><td>▁▆▆▆▆▆▇▇▇▇▇▇▇▇▇▇▇▇▇█████████████████████</td></tr><tr><td>train_fpr</td><td>█▂▂▃▂▂▂▂▂▂▂▁▂▁▁▂▁▁▂▁▁▁▁▁▁▁▁▁▁▁▁▁▁▁▁▁▁▁▁▁</td></tr><tr><td>train_loss</td><td>█▄▃▃▃▂▂▂▂▂▂▂▂▂▂▂▁▂▁▁▁▁▁▁▁▁▁▁▁▁▁▁▁▁▁▁▁▁▁▁</td></tr><tr><td>train_tpr</td><td>▁▄▅▅▄▅▆▆▆▆▆▆▇▆▆█▇▇▇▇█▇▇▇▇█▇▇████████████</td></tr></table><br/></div><div class=\"wandb-col\"><h3>Run summary:</h3><br/><table class=\"wandb\"><tr><td>epoch</td><td>39</td></tr><tr><td>lr</td><td>0.00015</td></tr><tr><td>test_accuracy</td><td>0.8318</td></tr><tr><td>test_auc_score</td><td>0.93491</td></tr><tr><td>test_f1_score</td><td>0.58914</td></tr><tr><td>test_fpr</td><td>0.17169</td></tr><tr><td>test_loss</td><td>0.47648</td></tr><tr><td>test_tpr</td><td>0.93148</td></tr><tr><td>train_accuracy</td><td>0.97879</td></tr><tr><td>train_auc_score</td><td>0.98921</td></tr><tr><td>train_f1_score</td><td>0.97614</td></tr><tr><td>train_fpr</td><td>0.01555</td></tr><tr><td>train_loss</td><td>0.33463</td></tr><tr><td>train_tpr</td><td>0.96759</td></tr></table><br/></div></div>"
      ],
      "text/plain": [
       "<IPython.core.display.HTML object>"
      ]
     },
     "metadata": {},
     "output_type": "display_data"
    },
    {
     "data": {
      "text/html": [
       " View run <strong style=\"color:#cdcd00\">EM_CrossEntropyLoss()_SMOTE-0.5</strong> at: <a href='https://wandb.ai/dmitrii_fomin_uga/Internship_project/runs/voc0jsba' target=\"_blank\">https://wandb.ai/dmitrii_fomin_uga/Internship_project/runs/voc0jsba</a><br/>Synced 5 W&B file(s), 0 media file(s), 0 artifact file(s) and 0 other file(s)"
      ],
      "text/plain": [
       "<IPython.core.display.HTML object>"
      ]
     },
     "metadata": {},
     "output_type": "display_data"
    },
    {
     "data": {
      "text/html": [
       "Find logs at: <code>../logs/wandb\\run-20230709_131141-voc0jsba\\logs</code>"
      ],
      "text/plain": [
       "<IPython.core.display.HTML object>"
      ]
     },
     "metadata": {},
     "output_type": "display_data"
    },
    {
     "data": {
      "text/html": [
       "wandb version 0.15.5 is available!  To upgrade, please run:\n",
       " $ pip install wandb --upgrade"
      ],
      "text/plain": [
       "<IPython.core.display.HTML object>"
      ]
     },
     "metadata": {},
     "output_type": "display_data"
    },
    {
     "data": {
      "text/html": [
       "Tracking run with wandb version 0.15.4"
      ],
      "text/plain": [
       "<IPython.core.display.HTML object>"
      ]
     },
     "metadata": {},
     "output_type": "display_data"
    },
    {
     "data": {
      "text/html": [
       "Run data is saved locally in <code>../logs/wandb\\run-20230709_131204-yu2kxly1</code>"
      ],
      "text/plain": [
       "<IPython.core.display.HTML object>"
      ]
     },
     "metadata": {},
     "output_type": "display_data"
    },
    {
     "data": {
      "text/html": [
       "Syncing run <strong><a href='https://wandb.ai/dmitrii_fomin_uga/Internship_project/runs/yu2kxly1' target=\"_blank\">EM_CrossEntropyLoss()_ROS-0.5</a></strong> to <a href='https://wandb.ai/dmitrii_fomin_uga/Internship_project' target=\"_blank\">Weights & Biases</a> (<a href='https://wandb.me/run' target=\"_blank\">docs</a>)<br/>"
      ],
      "text/plain": [
       "<IPython.core.display.HTML object>"
      ]
     },
     "metadata": {},
     "output_type": "display_data"
    },
    {
     "data": {
      "text/html": [
       " View project at <a href='https://wandb.ai/dmitrii_fomin_uga/Internship_project' target=\"_blank\">https://wandb.ai/dmitrii_fomin_uga/Internship_project</a>"
      ],
      "text/plain": [
       "<IPython.core.display.HTML object>"
      ]
     },
     "metadata": {},
     "output_type": "display_data"
    },
    {
     "data": {
      "text/html": [
       " View run at <a href='https://wandb.ai/dmitrii_fomin_uga/Internship_project/runs/yu2kxly1' target=\"_blank\">https://wandb.ai/dmitrii_fomin_uga/Internship_project/runs/yu2kxly1</a>"
      ],
      "text/plain": [
       "<IPython.core.display.HTML object>"
      ]
     },
     "metadata": {},
     "output_type": "display_data"
    },
    {
     "data": {
      "text/html": [
       "Waiting for W&B process to finish... <strong style=\"color:green\">(success).</strong>"
      ],
      "text/plain": [
       "<IPython.core.display.HTML object>"
      ]
     },
     "metadata": {},
     "output_type": "display_data"
    },
    {
     "data": {
      "text/html": [
       "<style>\n",
       "    table.wandb td:nth-child(1) { padding: 0 10px; text-align: left ; width: auto;} td:nth-child(2) {text-align: left ; width: 100%}\n",
       "    .wandb-row { display: flex; flex-direction: row; flex-wrap: wrap; justify-content: flex-start; width: 100% }\n",
       "    .wandb-col { display: flex; flex-direction: column; flex-basis: 100%; flex: 1; padding: 10px; }\n",
       "    </style>\n",
       "<div class=\"wandb-row\"><div class=\"wandb-col\"><h3>Run history:</h3><br/><table class=\"wandb\"><tr><td>epoch</td><td>▁▁▁▂▂▂▂▂▂▃▃▃▃▃▄▄▄▄▄▄▅▅▅▅▅▅▆▆▆▆▆▇▇▇▇▇▇███</td></tr><tr><td>lr</td><td>█▇▇▆▆▅▅▄▄▄▃▃▃▃▃▂▂▂▂▂▂▂▂▂▁▁▁▁▁▁▁▁▁▁▁▁▁▁▁▁</td></tr><tr><td>test_accuracy</td><td>▁▅▆▆▆▆▆▇▇▇▇▇██▇▇▇▇█▇▇█▇█████████████████</td></tr><tr><td>test_auc_score</td><td>▁▅▆▆▅▅▆█▇▆▇▇▇▇▇▆▆▇▇█▆█▇██▇█▇▇███████████</td></tr><tr><td>test_f1_score</td><td>▁▅▆▆▅▅▅▆▆▆▆▇▇▇▇▇▇▇▇▇▇▇▇▇████▇███████████</td></tr><tr><td>test_fpr</td><td>█▄▃▃▃▃▃▂▂▂▂▂▁▁▂▂▂▂▁▂▂▂▂▁▁▁▁▁▁▁▁▁▁▁▁▁▁▁▁▁</td></tr><tr><td>test_loss</td><td>█▄▃▃▄▄▄▃▃▂▃▂▂▁▂▂▂▂▁▂▂▂▂▁▁▁▁▁▁▁▁▁▁▁▁▁▁▁▁▁</td></tr><tr><td>test_tpr</td><td>▇▆▅▆▅█▆▇▃▄▆▆▄▂▃▅▂▁▃▆▃▅▂▄▅▅▅▅▅▃▂▅▅▄▂▄▄▂▄▃</td></tr><tr><td>train_accuracy</td><td>▁▆▆▇▇▇▇▇▇▇▇▇▇▇▇▇▇▇█▇▇▇▇█████████████████</td></tr><tr><td>train_auc_score</td><td>▁▇████▇█████████████████████████████████</td></tr><tr><td>train_f1_score</td><td>▁▅▆▇▇▇▆▇▇▇▇▇▇▇▇▇▇▇▇▇▇▇▇█████████████████</td></tr><tr><td>train_fpr</td><td>█▃▃▂▃▂▃▂▂▂▂▂▂▂▂▂▂▂▁▁▂▁▂▁▁▁▁▁▁▁▁▁▁▁▁▁▁▁▁▁</td></tr><tr><td>train_loss</td><td>█▄▃▂▂▂▂▂▂▂▂▂▂▂▂▂▂▁▁▁▂▁▂▁▁▁▁▁▁▁▁▁▁▁▁▁▁▁▁▁</td></tr><tr><td>train_tpr</td><td>▁▄▆▇▇▆▇▇▆▇▇▇█▇▇▇██▇▇▇▇▇██▇██████████████</td></tr></table><br/></div><div class=\"wandb-col\"><h3>Run summary:</h3><br/><table class=\"wandb\"><tr><td>epoch</td><td>39</td></tr><tr><td>lr</td><td>0.00015</td></tr><tr><td>test_accuracy</td><td>0.87343</td></tr><tr><td>test_auc_score</td><td>0.96476</td></tr><tr><td>test_f1_score</td><td>0.6342</td></tr><tr><td>test_fpr</td><td>0.12927</td></tr><tr><td>test_loss</td><td>0.43954</td></tr><tr><td>test_tpr</td><td>0.95</td></tr><tr><td>train_accuracy</td><td>0.97869</td></tr><tr><td>train_auc_score</td><td>0.98241</td></tr><tr><td>train_f1_score</td><td>0.97586</td></tr><tr><td>train_fpr</td><td>0.01094</td></tr><tr><td>train_loss</td><td>0.33505</td></tr><tr><td>train_tpr</td><td>0.95805</td></tr></table><br/></div></div>"
      ],
      "text/plain": [
       "<IPython.core.display.HTML object>"
      ]
     },
     "metadata": {},
     "output_type": "display_data"
    },
    {
     "data": {
      "text/html": [
       " View run <strong style=\"color:#cdcd00\">EM_CrossEntropyLoss()_ROS-0.5</strong> at: <a href='https://wandb.ai/dmitrii_fomin_uga/Internship_project/runs/yu2kxly1' target=\"_blank\">https://wandb.ai/dmitrii_fomin_uga/Internship_project/runs/yu2kxly1</a><br/>Synced 5 W&B file(s), 0 media file(s), 0 artifact file(s) and 0 other file(s)"
      ],
      "text/plain": [
       "<IPython.core.display.HTML object>"
      ]
     },
     "metadata": {},
     "output_type": "display_data"
    },
    {
     "data": {
      "text/html": [
       "Find logs at: <code>../logs/wandb\\run-20230709_131204-yu2kxly1\\logs</code>"
      ],
      "text/plain": [
       "<IPython.core.display.HTML object>"
      ]
     },
     "metadata": {},
     "output_type": "display_data"
    },
    {
     "data": {
      "text/html": [
       "wandb version 0.15.5 is available!  To upgrade, please run:\n",
       " $ pip install wandb --upgrade"
      ],
      "text/plain": [
       "<IPython.core.display.HTML object>"
      ]
     },
     "metadata": {},
     "output_type": "display_data"
    },
    {
     "data": {
      "text/html": [
       "Tracking run with wandb version 0.15.4"
      ],
      "text/plain": [
       "<IPython.core.display.HTML object>"
      ]
     },
     "metadata": {},
     "output_type": "display_data"
    },
    {
     "data": {
      "text/html": [
       "Run data is saved locally in <code>../logs/wandb\\run-20230709_131224-1yp7z6x4</code>"
      ],
      "text/plain": [
       "<IPython.core.display.HTML object>"
      ]
     },
     "metadata": {},
     "output_type": "display_data"
    },
    {
     "data": {
      "text/html": [
       "Syncing run <strong><a href='https://wandb.ai/dmitrii_fomin_uga/Internship_project/runs/1yp7z6x4' target=\"_blank\">EM_CrossEntropyLoss()_SMOTE-0.5</a></strong> to <a href='https://wandb.ai/dmitrii_fomin_uga/Internship_project' target=\"_blank\">Weights & Biases</a> (<a href='https://wandb.me/run' target=\"_blank\">docs</a>)<br/>"
      ],
      "text/plain": [
       "<IPython.core.display.HTML object>"
      ]
     },
     "metadata": {},
     "output_type": "display_data"
    },
    {
     "data": {
      "text/html": [
       " View project at <a href='https://wandb.ai/dmitrii_fomin_uga/Internship_project' target=\"_blank\">https://wandb.ai/dmitrii_fomin_uga/Internship_project</a>"
      ],
      "text/plain": [
       "<IPython.core.display.HTML object>"
      ]
     },
     "metadata": {},
     "output_type": "display_data"
    },
    {
     "data": {
      "text/html": [
       " View run at <a href='https://wandb.ai/dmitrii_fomin_uga/Internship_project/runs/1yp7z6x4' target=\"_blank\">https://wandb.ai/dmitrii_fomin_uga/Internship_project/runs/1yp7z6x4</a>"
      ],
      "text/plain": [
       "<IPython.core.display.HTML object>"
      ]
     },
     "metadata": {},
     "output_type": "display_data"
    },
    {
     "data": {
      "text/html": [
       "Waiting for W&B process to finish... <strong style=\"color:green\">(success).</strong>"
      ],
      "text/plain": [
       "<IPython.core.display.HTML object>"
      ]
     },
     "metadata": {},
     "output_type": "display_data"
    },
    {
     "data": {
      "text/html": [
       "<style>\n",
       "    table.wandb td:nth-child(1) { padding: 0 10px; text-align: left ; width: auto;} td:nth-child(2) {text-align: left ; width: 100%}\n",
       "    .wandb-row { display: flex; flex-direction: row; flex-wrap: wrap; justify-content: flex-start; width: 100% }\n",
       "    .wandb-col { display: flex; flex-direction: column; flex-basis: 100%; flex: 1; padding: 10px; }\n",
       "    </style>\n",
       "<div class=\"wandb-row\"><div class=\"wandb-col\"><h3>Run history:</h3><br/><table class=\"wandb\"><tr><td>epoch</td><td>▁▁▁▂▂▂▂▂▂▃▃▃▃▃▄▄▄▄▄▄▅▅▅▅▅▅▆▆▆▆▆▇▇▇▇▇▇███</td></tr><tr><td>lr</td><td>█▇▇▆▆▅▅▄▄▄▃▃▃▃▃▂▂▂▂▂▂▂▂▂▁▁▁▁▁▁▁▁▁▁▁▁▁▁▁▁</td></tr><tr><td>test_accuracy</td><td>▁▆▇▇▇▇▇▇▇▇▇▇▇▇▇▇██▇██▇███▇████████▇██▇██</td></tr><tr><td>test_auc_score</td><td>▁▅▅▆▇▅▇▆▇▆▇▆▇▇▇▇▇▇█▇▇▆▆▆▇▅▄▆▆▆▆▆▆▆▆▆▆▆▆▆</td></tr><tr><td>test_f1_score</td><td>▁▆▆▆▆▆▆▇▇▇▆▇▆▇▇▇██▇█▇▇▇▇▇▇▇▇▇▇▇▇▇▇▇▇▇▇▇▇</td></tr><tr><td>test_fpr</td><td>█▃▂▂▂▂▂▂▂▂▂▂▂▂▂▂▁▁▂▁▁▂▁▁▁▂▁▁▁▁▁▁▁▁▂▁▁▂▂▁</td></tr><tr><td>test_loss</td><td>█▃▂▃▂▂▂▂▂▂▃▂▂▂▂▂▁▁▂▁▁▂▁▁▁▂▁▁▁▁▁▁▁▁▂▁▁▂▁▁</td></tr><tr><td>test_tpr</td><td>▇▄▅▆▇▂▇▄▅▆▆▁▅▆▅▆▃▃▆▅▆▂▅▇▅▃▆▅▄▇█▅▅▇▆▅▆▆▅▅</td></tr><tr><td>train_accuracy</td><td>▁▅▆▆▇▇▇▇▇▇▇▇▇▇▇▇▇▇██████████████████████</td></tr><tr><td>train_auc_score</td><td>▁▇▇▇▇▇▇▇████████████████████████████████</td></tr><tr><td>train_f1_score</td><td>▁▆▆▇▇▇▇▇▇▇▇▇▇▇▇▇████████████████████████</td></tr><tr><td>train_fpr</td><td>▅██▅▆▆▅▅▃▄▅▅▅▅▃▄▃▃▂▃▂▂▃▂▂▂▂▃▁▁▂▁▁▁▁▂▁▁▁▁</td></tr><tr><td>train_loss</td><td>█▄▃▂▂▂▂▂▂▂▂▂▂▂▂▂▁▁▁▁▁▁▁▁▁▁▁▁▁▁▁▁▁▁▁▁▁▁▁▁</td></tr><tr><td>train_tpr</td><td>▁▆▇▇▇▇▇▇▇█▇█▇█▇█████████████████████████</td></tr></table><br/></div><div class=\"wandb-col\"><h3>Run summary:</h3><br/><table class=\"wandb\"><tr><td>epoch</td><td>39</td></tr><tr><td>lr</td><td>0.00015</td></tr><tr><td>test_accuracy</td><td>0.84016</td></tr><tr><td>test_auc_score</td><td>0.93798</td></tr><tr><td>test_f1_score</td><td>0.59714</td></tr><tr><td>test_fpr</td><td>0.16342</td></tr><tr><td>test_loss</td><td>0.46897</td></tr><tr><td>test_tpr</td><td>0.94218</td></tr><tr><td>train_accuracy</td><td>0.9803</td></tr><tr><td>train_auc_score</td><td>0.99105</td></tr><tr><td>train_f1_score</td><td>0.97777</td></tr><tr><td>train_fpr</td><td>0.01345</td></tr><tr><td>train_loss</td><td>0.33379</td></tr><tr><td>train_tpr</td><td>0.96805</td></tr></table><br/></div></div>"
      ],
      "text/plain": [
       "<IPython.core.display.HTML object>"
      ]
     },
     "metadata": {},
     "output_type": "display_data"
    },
    {
     "data": {
      "text/html": [
       " View run <strong style=\"color:#cdcd00\">EM_CrossEntropyLoss()_SMOTE-0.5</strong> at: <a href='https://wandb.ai/dmitrii_fomin_uga/Internship_project/runs/1yp7z6x4' target=\"_blank\">https://wandb.ai/dmitrii_fomin_uga/Internship_project/runs/1yp7z6x4</a><br/>Synced 5 W&B file(s), 0 media file(s), 0 artifact file(s) and 0 other file(s)"
      ],
      "text/plain": [
       "<IPython.core.display.HTML object>"
      ]
     },
     "metadata": {},
     "output_type": "display_data"
    },
    {
     "data": {
      "text/html": [
       "Find logs at: <code>../logs/wandb\\run-20230709_131224-1yp7z6x4\\logs</code>"
      ],
      "text/plain": [
       "<IPython.core.display.HTML object>"
      ]
     },
     "metadata": {},
     "output_type": "display_data"
    },
    {
     "data": {
      "text/html": [
       "wandb version 0.15.5 is available!  To upgrade, please run:\n",
       " $ pip install wandb --upgrade"
      ],
      "text/plain": [
       "<IPython.core.display.HTML object>"
      ]
     },
     "metadata": {},
     "output_type": "display_data"
    },
    {
     "data": {
      "text/html": [
       "Tracking run with wandb version 0.15.4"
      ],
      "text/plain": [
       "<IPython.core.display.HTML object>"
      ]
     },
     "metadata": {},
     "output_type": "display_data"
    },
    {
     "data": {
      "text/html": [
       "Run data is saved locally in <code>../logs/wandb\\run-20230709_131241-vle8af5n</code>"
      ],
      "text/plain": [
       "<IPython.core.display.HTML object>"
      ]
     },
     "metadata": {},
     "output_type": "display_data"
    },
    {
     "data": {
      "text/html": [
       "Syncing run <strong><a href='https://wandb.ai/dmitrii_fomin_uga/Internship_project/runs/vle8af5n' target=\"_blank\">EM_CrossEntropyLoss()_ROS-0.5</a></strong> to <a href='https://wandb.ai/dmitrii_fomin_uga/Internship_project' target=\"_blank\">Weights & Biases</a> (<a href='https://wandb.me/run' target=\"_blank\">docs</a>)<br/>"
      ],
      "text/plain": [
       "<IPython.core.display.HTML object>"
      ]
     },
     "metadata": {},
     "output_type": "display_data"
    },
    {
     "data": {
      "text/html": [
       " View project at <a href='https://wandb.ai/dmitrii_fomin_uga/Internship_project' target=\"_blank\">https://wandb.ai/dmitrii_fomin_uga/Internship_project</a>"
      ],
      "text/plain": [
       "<IPython.core.display.HTML object>"
      ]
     },
     "metadata": {},
     "output_type": "display_data"
    },
    {
     "data": {
      "text/html": [
       " View run at <a href='https://wandb.ai/dmitrii_fomin_uga/Internship_project/runs/vle8af5n' target=\"_blank\">https://wandb.ai/dmitrii_fomin_uga/Internship_project/runs/vle8af5n</a>"
      ],
      "text/plain": [
       "<IPython.core.display.HTML object>"
      ]
     },
     "metadata": {},
     "output_type": "display_data"
    },
    {
     "data": {
      "text/html": [
       "Waiting for W&B process to finish... <strong style=\"color:green\">(success).</strong>"
      ],
      "text/plain": [
       "<IPython.core.display.HTML object>"
      ]
     },
     "metadata": {},
     "output_type": "display_data"
    },
    {
     "data": {
      "text/html": [
       "<style>\n",
       "    table.wandb td:nth-child(1) { padding: 0 10px; text-align: left ; width: auto;} td:nth-child(2) {text-align: left ; width: 100%}\n",
       "    .wandb-row { display: flex; flex-direction: row; flex-wrap: wrap; justify-content: flex-start; width: 100% }\n",
       "    .wandb-col { display: flex; flex-direction: column; flex-basis: 100%; flex: 1; padding: 10px; }\n",
       "    </style>\n",
       "<div class=\"wandb-row\"><div class=\"wandb-col\"><h3>Run history:</h3><br/><table class=\"wandb\"><tr><td>epoch</td><td>▁▁▁▂▂▂▂▂▂▃▃▃▃▃▄▄▄▄▄▄▅▅▅▅▅▅▆▆▆▆▆▇▇▇▇▇▇███</td></tr><tr><td>lr</td><td>█▇▇▆▆▅▅▄▄▄▃▃▃▃▃▂▂▂▂▂▂▂▂▂▁▁▁▁▁▁▁▁▁▁▁▁▁▁▁▁</td></tr><tr><td>test_accuracy</td><td>▁▅▆▇▇▇▇▇▇▇▇▇▇██▇▇▇██████████████████████</td></tr><tr><td>test_auc_score</td><td>▁▆▆▇▅▇▅▆▄▅█▅▆▇▅▆▆▆█▇▇█▇██▇▆▇▇▇▇▇▇▇▇▆▆▆▆▆</td></tr><tr><td>test_f1_score</td><td>▁▅▅▆▆▆▆▆▇▇▇▇▇█▇▇▇▇██▇███████████████████</td></tr><tr><td>test_fpr</td><td>█▄▃▂▂▂▂▂▂▂▂▂▂▁▁▂▂▂▁▁▁▁▁▁▁▁▁▁▁▁▁▁▁▁▁▁▁▁▁▁</td></tr><tr><td>test_loss</td><td>█▅▄▃▃▃▂▃▂▂▂▂▂▁▂▂▂▂▁▁▁▁▁▁▁▁▁▁▁▁▁▁▁▁▁▁▁▁▁▁</td></tr><tr><td>test_tpr</td><td>▇█▅█▅▅▆▅▆▄▂▄▃▃▃▂▄▃▃▄▃▂▃▄▄▂▃▁▃▂▁▂▃▂▃▁▂▂▂▃</td></tr><tr><td>train_accuracy</td><td>▁▅▆▆▆▆▇▇▇▇▇▇▇▇▇▇▇▇██████████████████████</td></tr><tr><td>train_auc_score</td><td>▁▇▇▇▇▇██████████████████████████████████</td></tr><tr><td>train_f1_score</td><td>▁▆▆▇▇▇▇▇▇▇▇▇▇███▇███████████████████████</td></tr><tr><td>train_fpr</td><td>▆█▆▇▆▆▅▆▅▅▄▅▄▄▃▄▄▄▃▃▃▂▃▂▂▂▂▂▂▂▁▁▂▂▁▁▁▁▁▁</td></tr><tr><td>train_loss</td><td>█▄▃▃▂▂▂▂▂▂▂▂▂▂▁▁▂▁▁▁▁▁▁▁▁▁▁▁▁▁▁▁▁▁▁▁▁▁▁▁</td></tr><tr><td>train_tpr</td><td>▁▆▇▇▇▇▇█████████████████████████████████</td></tr></table><br/></div><div class=\"wandb-col\"><h3>Run summary:</h3><br/><table class=\"wandb\"><tr><td>epoch</td><td>39</td></tr><tr><td>lr</td><td>0.00015</td></tr><tr><td>test_accuracy</td><td>0.86571</td></tr><tr><td>test_auc_score</td><td>0.9453</td></tr><tr><td>test_f1_score</td><td>0.62098</td></tr><tr><td>test_fpr</td><td>0.13632</td></tr><tr><td>test_loss</td><td>0.44382</td></tr><tr><td>test_tpr</td><td>0.92783</td></tr><tr><td>train_accuracy</td><td>0.98037</td></tr><tr><td>train_auc_score</td><td>0.9815</td></tr><tr><td>train_f1_score</td><td>0.97792</td></tr><tr><td>train_fpr</td><td>0.01381</td></tr><tr><td>train_loss</td><td>0.33368</td></tr><tr><td>train_tpr</td><td>0.96908</td></tr></table><br/></div></div>"
      ],
      "text/plain": [
       "<IPython.core.display.HTML object>"
      ]
     },
     "metadata": {},
     "output_type": "display_data"
    },
    {
     "data": {
      "text/html": [
       " View run <strong style=\"color:#cdcd00\">EM_CrossEntropyLoss()_ROS-0.5</strong> at: <a href='https://wandb.ai/dmitrii_fomin_uga/Internship_project/runs/vle8af5n' target=\"_blank\">https://wandb.ai/dmitrii_fomin_uga/Internship_project/runs/vle8af5n</a><br/>Synced 5 W&B file(s), 0 media file(s), 0 artifact file(s) and 0 other file(s)"
      ],
      "text/plain": [
       "<IPython.core.display.HTML object>"
      ]
     },
     "metadata": {},
     "output_type": "display_data"
    },
    {
     "data": {
      "text/html": [
       "Find logs at: <code>../logs/wandb\\run-20230709_131241-vle8af5n\\logs</code>"
      ],
      "text/plain": [
       "<IPython.core.display.HTML object>"
      ]
     },
     "metadata": {},
     "output_type": "display_data"
    }
   ],
   "source": [
    "parameters = {\n",
    "        'sampling_methods':['SMOTE','ROS'],\n",
    "        'loss_functions':[nn.CrossEntropyLoss()],\n",
    "        'p':[0.5]}\n",
    "\n",
    "ex = Experimenter(df, parameters,random_seed = 42)\n",
    "ex.perform_experiments()\n",
    "\n",
    "ex = Experimenter(df, parameters,random_seed = 0)\n",
    "ex.perform_experiments()\n",
    "\n",
    "ex = Experimenter(df, parameters,random_seed = 42)\n",
    "ex.perform_experiments()\n",
    "\n",
    "ex = Experimenter(df, parameters,random_seed = 0)\n",
    "ex.perform_experiments()"
   ]
  },
  {
   "cell_type": "code",
   "execution_count": 3,
   "metadata": {},
   "outputs": [
    {
     "name": "stderr",
     "output_type": "stream",
     "text": [
      "Failed to detect the name of this notebook, you can set it manually with the WANDB_NOTEBOOK_NAME environment variable to enable code saving.\n",
      "\u001b[34m\u001b[1mwandb\u001b[0m: Currently logged in as: \u001b[33mdmitrii_fomin\u001b[0m (\u001b[33mdmitrii_fomin_uga\u001b[0m). Use \u001b[1m`wandb login --relogin`\u001b[0m to force relogin\n"
     ]
    },
    {
     "data": {
      "text/html": [
       "Tracking run with wandb version 0.15.4"
      ],
      "text/plain": [
       "<IPython.core.display.HTML object>"
      ]
     },
     "metadata": {},
     "output_type": "display_data"
    },
    {
     "data": {
      "text/html": [
       "Run data is saved locally in <code>../logs/wandb\\run-20230705_094733-2sfg83ei</code>"
      ],
      "text/plain": [
       "<IPython.core.display.HTML object>"
      ]
     },
     "metadata": {},
     "output_type": "display_data"
    },
    {
     "data": {
      "text/html": [
       "Syncing run <strong><a href='https://wandb.ai/dmitrii_fomin_uga/Internship_project/runs/2sfg83ei' target=\"_blank\">EM_CrossEntropyLoss()_None-0.0</a></strong> to <a href='https://wandb.ai/dmitrii_fomin_uga/Internship_project' target=\"_blank\">Weights & Biases</a> (<a href='https://wandb.me/run' target=\"_blank\">docs</a>)<br/>"
      ],
      "text/plain": [
       "<IPython.core.display.HTML object>"
      ]
     },
     "metadata": {},
     "output_type": "display_data"
    },
    {
     "data": {
      "text/html": [
       " View project at <a href='https://wandb.ai/dmitrii_fomin_uga/Internship_project' target=\"_blank\">https://wandb.ai/dmitrii_fomin_uga/Internship_project</a>"
      ],
      "text/plain": [
       "<IPython.core.display.HTML object>"
      ]
     },
     "metadata": {},
     "output_type": "display_data"
    },
    {
     "data": {
      "text/html": [
       " View run at <a href='https://wandb.ai/dmitrii_fomin_uga/Internship_project/runs/2sfg83ei' target=\"_blank\">https://wandb.ai/dmitrii_fomin_uga/Internship_project/runs/2sfg83ei</a>"
      ],
      "text/plain": [
       "<IPython.core.display.HTML object>"
      ]
     },
     "metadata": {},
     "output_type": "display_data"
    },
    {
     "data": {
      "text/html": [
       "Waiting for W&B process to finish... <strong style=\"color:green\">(success).</strong>"
      ],
      "text/plain": [
       "<IPython.core.display.HTML object>"
      ]
     },
     "metadata": {},
     "output_type": "display_data"
    },
    {
     "data": {
      "text/html": [
       "<style>\n",
       "    table.wandb td:nth-child(1) { padding: 0 10px; text-align: left ; width: auto;} td:nth-child(2) {text-align: left ; width: 100%}\n",
       "    .wandb-row { display: flex; flex-direction: row; flex-wrap: wrap; justify-content: flex-start; width: 100% }\n",
       "    .wandb-col { display: flex; flex-direction: column; flex-basis: 100%; flex: 1; padding: 10px; }\n",
       "    </style>\n",
       "<div class=\"wandb-row\"><div class=\"wandb-col\"><h3>Run history:</h3><br/><table class=\"wandb\"><tr><td>epoch</td><td>▁▁▁▂▂▂▂▂▂▃▃▃▃▃▄▄▄▄▄▄▅▅▅▅▅▅▆▆▆▆▆▇▇▇▇▇▇███</td></tr><tr><td>lr</td><td>█▇▇▆▆▅▅▄▄▄▃▃▃▃▃▂▂▂▂▂▂▂▂▂▁▁▁▁▁▁▁▁▁▁▁▁▁▁▁▁</td></tr><tr><td>test_accuracy</td><td>▁▆██████████████████████████████████████</td></tr><tr><td>test_auc_score</td><td>▁█▇▅▅▅▂▅▆▅▆▆▇▇▆▇▆▇▇▇▆▆▆▇▇▆▆▆▆▇▇▆▆▇▇▇▇▇▇▇</td></tr><tr><td>test_f1_score</td><td>▁▅▇▇▇▇▇▇▇▇▇█▇▇▇▇▇▇███▇██████████████████</td></tr><tr><td>test_fpr</td><td>█▃▁▁▁▁▁▁▁▁▁▁▁▁▁▁▁▁▁▁▁▁▁▁▁▁▁▁▁▁▁▁▁▁▁▁▁▁▁▁</td></tr><tr><td>test_loss</td><td>█▄▂▁▁▁▁▁▁▁▁▁▁▁▁▁▁▁▁▁▁▁▁▁▁▁▁▁▁▁▁▁▁▁▁▁▁▁▁▁</td></tr><tr><td>test_tpr</td><td>█▇▅▃▄▃▂▃▂▁▃▃▃▂▂▂▂▂▄▃▃▂▃▃▄▃▃▃▃▃▄▃▃▃▄▄▄▄▄▃</td></tr><tr><td>train_accuracy</td><td>▁▇██████████████████████████████████████</td></tr><tr><td>train_auc_score</td><td>▁▆▆▇▇▄▆▆▇▇▇██▇▇█▇▇██▇█▇▇█▇▇▇▇▇▇▇▇██▇▇███</td></tr><tr><td>train_f1_score</td><td>▁▅▆▆▆▆▆▆▆▆▆▇▇▇▇▇▇▇▇▇▇▇█▇████████████████</td></tr><tr><td>train_fpr</td><td>█▂▁▁▁▁▁▁▁▁▁▁▁▁▁▁▁▁▁▁▁▁▁▁▁▁▁▁▁▁▁▁▁▁▁▁▁▁▁▁</td></tr><tr><td>train_loss</td><td>█▄▂▂▂▁▁▁▁▁▁▁▁▁▁▁▁▁▁▁▁▁▁▁▁▁▁▁▁▁▁▁▁▁▁▁▁▁▁▁</td></tr><tr><td>train_tpr</td><td>█▆▃▁▂▁▂▂▄▃▃▄▅▄▅▆▅▄▆▆▆▆▇▇▇▇▇▇▇▇▇▇▇█▇▇▇▇██</td></tr></table><br/></div><div class=\"wandb-col\"><h3>Run summary:</h3><br/><table class=\"wandb\"><tr><td>epoch</td><td>39</td></tr><tr><td>lr</td><td>0.00015</td></tr><tr><td>test_accuracy</td><td>0.97662</td></tr><tr><td>test_auc_score</td><td>0.87947</td></tr><tr><td>test_f1_score</td><td>0.79382</td></tr><tr><td>test_fpr</td><td>0.00829</td></tr><tr><td>test_loss</td><td>0.33814</td></tr><tr><td>test_tpr</td><td>0.53528</td></tr><tr><td>train_accuracy</td><td>0.98759</td></tr><tr><td>train_auc_score</td><td>0.91231</td></tr><tr><td>train_f1_score</td><td>0.89155</td></tr><tr><td>train_fpr</td><td>0.00184</td></tr><tr><td>train_loss</td><td>0.32854</td></tr><tr><td>train_tpr</td><td>0.6902</td></tr></table><br/></div></div>"
      ],
      "text/plain": [
       "<IPython.core.display.HTML object>"
      ]
     },
     "metadata": {},
     "output_type": "display_data"
    },
    {
     "data": {
      "text/html": [
       " View run <strong style=\"color:#cdcd00\">EM_CrossEntropyLoss()_None-0.0</strong> at: <a href='https://wandb.ai/dmitrii_fomin_uga/Internship_project/runs/2sfg83ei' target=\"_blank\">https://wandb.ai/dmitrii_fomin_uga/Internship_project/runs/2sfg83ei</a><br/>Synced 5 W&B file(s), 0 media file(s), 0 artifact file(s) and 0 other file(s)"
      ],
      "text/plain": [
       "<IPython.core.display.HTML object>"
      ]
     },
     "metadata": {},
     "output_type": "display_data"
    },
    {
     "data": {
      "text/html": [
       "Find logs at: <code>../logs/wandb\\run-20230705_094733-2sfg83ei\\logs</code>"
      ],
      "text/plain": [
       "<IPython.core.display.HTML object>"
      ]
     },
     "metadata": {},
     "output_type": "display_data"
    },
    {
     "data": {
      "text/html": [
       "Tracking run with wandb version 0.15.4"
      ],
      "text/plain": [
       "<IPython.core.display.HTML object>"
      ]
     },
     "metadata": {},
     "output_type": "display_data"
    },
    {
     "data": {
      "text/html": [
       "Run data is saved locally in <code>../logs/wandb\\run-20230705_094745-dqq54orx</code>"
      ],
      "text/plain": [
       "<IPython.core.display.HTML object>"
      ]
     },
     "metadata": {},
     "output_type": "display_data"
    },
    {
     "data": {
      "text/html": [
       "Syncing run <strong><a href='https://wandb.ai/dmitrii_fomin_uga/Internship_project/runs/dqq54orx' target=\"_blank\">EM_CrossEntropyLoss()_ROS-0.05</a></strong> to <a href='https://wandb.ai/dmitrii_fomin_uga/Internship_project' target=\"_blank\">Weights & Biases</a> (<a href='https://wandb.me/run' target=\"_blank\">docs</a>)<br/>"
      ],
      "text/plain": [
       "<IPython.core.display.HTML object>"
      ]
     },
     "metadata": {},
     "output_type": "display_data"
    },
    {
     "data": {
      "text/html": [
       " View project at <a href='https://wandb.ai/dmitrii_fomin_uga/Internship_project' target=\"_blank\">https://wandb.ai/dmitrii_fomin_uga/Internship_project</a>"
      ],
      "text/plain": [
       "<IPython.core.display.HTML object>"
      ]
     },
     "metadata": {},
     "output_type": "display_data"
    },
    {
     "data": {
      "text/html": [
       " View run at <a href='https://wandb.ai/dmitrii_fomin_uga/Internship_project/runs/dqq54orx' target=\"_blank\">https://wandb.ai/dmitrii_fomin_uga/Internship_project/runs/dqq54orx</a>"
      ],
      "text/plain": [
       "<IPython.core.display.HTML object>"
      ]
     },
     "metadata": {},
     "output_type": "display_data"
    },
    {
     "data": {
      "text/html": [
       "Waiting for W&B process to finish... <strong style=\"color:green\">(success).</strong>"
      ],
      "text/plain": [
       "<IPython.core.display.HTML object>"
      ]
     },
     "metadata": {},
     "output_type": "display_data"
    },
    {
     "data": {
      "text/html": [
       "<style>\n",
       "    table.wandb td:nth-child(1) { padding: 0 10px; text-align: left ; width: auto;} td:nth-child(2) {text-align: left ; width: 100%}\n",
       "    .wandb-row { display: flex; flex-direction: row; flex-wrap: wrap; justify-content: flex-start; width: 100% }\n",
       "    .wandb-col { display: flex; flex-direction: column; flex-basis: 100%; flex: 1; padding: 10px; }\n",
       "    </style>\n",
       "<div class=\"wandb-row\"><div class=\"wandb-col\"><h3>Run history:</h3><br/><table class=\"wandb\"><tr><td>epoch</td><td>▁▁▁▂▂▂▂▂▂▃▃▃▃▃▄▄▄▄▄▄▅▅▅▅▅▅▆▆▆▆▆▇▇▇▇▇▇███</td></tr><tr><td>lr</td><td>█▇▇▆▆▅▅▄▄▄▃▃▃▃▃▂▂▂▂▂▂▂▂▂▁▁▁▁▁▁▁▁▁▁▁▁▁▁▁▁</td></tr><tr><td>test_accuracy</td><td>▁▆▇█████████████████████████████████████</td></tr><tr><td>test_auc_score</td><td>▇▆▁▆▅▇▆▄▆▂▄▇▇▆▇▅▆█▇██▆▆█▇▇▇▇▇▇▇▇▇▇▇▇▇▇▇▇</td></tr><tr><td>test_f1_score</td><td>▁▅▆▇▇▇▇▇▇▇▇▇█▇█▇████████████████████████</td></tr><tr><td>test_fpr</td><td>█▃▂▁▁▁▁▁▁▁▁▁▁▁▁▁▁▁▁▁▁▁▁▁▁▁▁▁▁▁▁▁▁▁▁▁▁▁▁▁</td></tr><tr><td>test_loss</td><td>█▄▂▁▁▁▁▁▁▁▁▁▁▁▁▁▁▁▁▁▁▁▁▁▁▁▁▁▁▁▁▁▁▁▁▁▁▁▁▁</td></tr><tr><td>test_tpr</td><td>█▆▄▄▄▃▂▂▃▂▁▂▃▃▄▂▃▄▃▄▄▃▂▄▄▂▄▃▃▃▄▃▃▃▄▃▃▃▄▄</td></tr><tr><td>train_accuracy</td><td>▁▇▇█▇███████████████████████████████████</td></tr><tr><td>train_auc_score</td><td>▁▇▇▇▆▇█▇▇▇▆▇▇▇▇▇▇▇█▇▇▇▇▇▇███▇▇████▇██▇▇█</td></tr><tr><td>train_f1_score</td><td>▁▅▆▆▆▆▇▇▇▇▇▇▇▇▇▇▇▇██████████████████████</td></tr><tr><td>train_fpr</td><td>█▂▁▁▁▁▁▁▁▁▁▁▁▁▁▁▁▁▁▁▁▁▁▁▁▁▁▁▁▁▁▁▁▁▁▁▁▁▁▁</td></tr><tr><td>train_loss</td><td>█▄▂▂▂▂▁▁▁▁▁▁▁▁▁▁▁▁▁▁▁▁▁▁▁▁▁▁▁▁▁▁▁▁▁▁▁▁▁▁</td></tr><tr><td>train_tpr</td><td>▆▅▄▄▁▄▅▅▅▆▅▅▅▆▆▆▆▆▇▇██▇▇▇▇▇▇▇█▇██▇███▇██</td></tr></table><br/></div><div class=\"wandb-col\"><h3>Run summary:</h3><br/><table class=\"wandb\"><tr><td>epoch</td><td>39</td></tr><tr><td>lr</td><td>0.00015</td></tr><tr><td>test_accuracy</td><td>0.9778</td></tr><tr><td>test_auc_score</td><td>0.91574</td></tr><tr><td>test_f1_score</td><td>0.82948</td></tr><tr><td>test_fpr</td><td>0.01183</td></tr><tr><td>test_loss</td><td>0.33557</td></tr><tr><td>test_tpr</td><td>0.67974</td></tr><tr><td>train_accuracy</td><td>0.98808</td></tr><tr><td>train_auc_score</td><td>0.92219</td></tr><tr><td>train_f1_score</td><td>0.92789</td></tr><tr><td>train_fpr</td><td>0.00146</td></tr><tr><td>train_loss</td><td>0.32813</td></tr><tr><td>train_tpr</td><td>0.78285</td></tr></table><br/></div></div>"
      ],
      "text/plain": [
       "<IPython.core.display.HTML object>"
      ]
     },
     "metadata": {},
     "output_type": "display_data"
    },
    {
     "data": {
      "text/html": [
       " View run <strong style=\"color:#cdcd00\">EM_CrossEntropyLoss()_ROS-0.05</strong> at: <a href='https://wandb.ai/dmitrii_fomin_uga/Internship_project/runs/dqq54orx' target=\"_blank\">https://wandb.ai/dmitrii_fomin_uga/Internship_project/runs/dqq54orx</a><br/>Synced 5 W&B file(s), 0 media file(s), 0 artifact file(s) and 0 other file(s)"
      ],
      "text/plain": [
       "<IPython.core.display.HTML object>"
      ]
     },
     "metadata": {},
     "output_type": "display_data"
    },
    {
     "data": {
      "text/html": [
       "Find logs at: <code>../logs/wandb\\run-20230705_094745-dqq54orx\\logs</code>"
      ],
      "text/plain": [
       "<IPython.core.display.HTML object>"
      ]
     },
     "metadata": {},
     "output_type": "display_data"
    },
    {
     "data": {
      "text/html": [
       "Tracking run with wandb version 0.15.4"
      ],
      "text/plain": [
       "<IPython.core.display.HTML object>"
      ]
     },
     "metadata": {},
     "output_type": "display_data"
    },
    {
     "data": {
      "text/html": [
       "Run data is saved locally in <code>../logs/wandb\\run-20230705_094759-9p4pnw6k</code>"
      ],
      "text/plain": [
       "<IPython.core.display.HTML object>"
      ]
     },
     "metadata": {},
     "output_type": "display_data"
    },
    {
     "data": {
      "text/html": [
       "Syncing run <strong><a href='https://wandb.ai/dmitrii_fomin_uga/Internship_project/runs/9p4pnw6k' target=\"_blank\">EM_CrossEntropyLoss()_ROS-0.1</a></strong> to <a href='https://wandb.ai/dmitrii_fomin_uga/Internship_project' target=\"_blank\">Weights & Biases</a> (<a href='https://wandb.me/run' target=\"_blank\">docs</a>)<br/>"
      ],
      "text/plain": [
       "<IPython.core.display.HTML object>"
      ]
     },
     "metadata": {},
     "output_type": "display_data"
    },
    {
     "data": {
      "text/html": [
       " View project at <a href='https://wandb.ai/dmitrii_fomin_uga/Internship_project' target=\"_blank\">https://wandb.ai/dmitrii_fomin_uga/Internship_project</a>"
      ],
      "text/plain": [
       "<IPython.core.display.HTML object>"
      ]
     },
     "metadata": {},
     "output_type": "display_data"
    },
    {
     "data": {
      "text/html": [
       " View run at <a href='https://wandb.ai/dmitrii_fomin_uga/Internship_project/runs/9p4pnw6k' target=\"_blank\">https://wandb.ai/dmitrii_fomin_uga/Internship_project/runs/9p4pnw6k</a>"
      ],
      "text/plain": [
       "<IPython.core.display.HTML object>"
      ]
     },
     "metadata": {},
     "output_type": "display_data"
    },
    {
     "data": {
      "text/html": [
       "Waiting for W&B process to finish... <strong style=\"color:green\">(success).</strong>"
      ],
      "text/plain": [
       "<IPython.core.display.HTML object>"
      ]
     },
     "metadata": {},
     "output_type": "display_data"
    },
    {
     "data": {
      "text/html": [
       "<style>\n",
       "    table.wandb td:nth-child(1) { padding: 0 10px; text-align: left ; width: auto;} td:nth-child(2) {text-align: left ; width: 100%}\n",
       "    .wandb-row { display: flex; flex-direction: row; flex-wrap: wrap; justify-content: flex-start; width: 100% }\n",
       "    .wandb-col { display: flex; flex-direction: column; flex-basis: 100%; flex: 1; padding: 10px; }\n",
       "    </style>\n",
       "<div class=\"wandb-row\"><div class=\"wandb-col\"><h3>Run history:</h3><br/><table class=\"wandb\"><tr><td>epoch</td><td>▁▁▁▂▂▂▂▂▂▃▃▃▃▃▄▄▄▄▄▄▅▅▅▅▅▅▆▆▆▆▆▇▇▇▇▇▇███</td></tr><tr><td>lr</td><td>█▇▇▆▆▅▅▄▄▄▃▃▃▃▃▂▂▂▂▂▂▂▂▂▁▁▁▁▁▁▁▁▁▁▁▁▁▁▁▁</td></tr><tr><td>test_accuracy</td><td>▁▇▇█████████████████████████████████████</td></tr><tr><td>test_auc_score</td><td>▁▂▂▃▄▅▄▅▄▆█▇▆▆▇▇▇▇▇▇▇▇▇▇█▇█▇▇▇██▇▇▇▇▇▇▇▇</td></tr><tr><td>test_f1_score</td><td>▁▅▆▇▇▇▇▇█▇▇▇▇███▇███████████████████████</td></tr><tr><td>test_fpr</td><td>█▂▂▁▁▁▁▁▁▁▁▁▁▁▁▁▁▁▁▁▁▁▁▁▁▁▁▁▁▁▁▁▁▁▁▁▁▁▁▁</td></tr><tr><td>test_loss</td><td>█▃▂▁▁▁▁▁▁▁▁▁▁▁▁▁▁▁▁▁▁▁▁▁▁▁▁▁▁▁▁▁▁▁▁▁▁▁▁▁</td></tr><tr><td>test_tpr</td><td>█▆▄▃▂▃▃▃▂▁▄▃▁▄▅▃▄▄▄▃▄▃▄▃▅▄▅▅▄▄▅▅▅▄▄▄▅▅▄▄</td></tr><tr><td>train_accuracy</td><td>▁▇▇▇▇▇▇▇████████████████████████████████</td></tr><tr><td>train_auc_score</td><td>▁▅▆▆▇▇▇▇▇▇▇█▇▇▇████▇█▇▇██▇███▇█▇████████</td></tr><tr><td>train_f1_score</td><td>▁▅▅▆▆▆▇▇▇▇▇▇▇▇▇▇▇▇██████████████████████</td></tr><tr><td>train_fpr</td><td>█▂▁▁▂▁▁▁▁▁▁▁▁▁▁▁▁▁▁▁▁▁▁▁▁▁▁▁▁▁▁▁▁▁▁▁▁▁▁▁</td></tr><tr><td>train_loss</td><td>█▄▃▂▂▂▂▂▂▁▁▁▁▁▁▁▁▁▁▁▁▁▁▁▁▁▁▁▁▁▁▁▁▁▁▁▁▁▁▁</td></tr><tr><td>train_tpr</td><td>▆▂▁▄▅▄▅▆▅▆▆▇▆▅▆▆▅▇▇▇▇▇▆██▇▇▇▇▇▇▇▇▇▇██▇█▇</td></tr></table><br/></div><div class=\"wandb-col\"><h3>Run summary:</h3><br/><table class=\"wandb\"><tr><td>epoch</td><td>39</td></tr><tr><td>lr</td><td>0.00015</td></tr><tr><td>test_accuracy</td><td>0.97352</td></tr><tr><td>test_auc_score</td><td>0.95881</td></tr><tr><td>test_f1_score</td><td>0.83188</td></tr><tr><td>test_fpr</td><td>0.02115</td></tr><tr><td>test_loss</td><td>0.34028</td></tr><tr><td>test_tpr</td><td>0.82199</td></tr><tr><td>train_accuracy</td><td>0.98078</td></tr><tr><td>train_auc_score</td><td>0.957</td></tr><tr><td>train_f1_score</td><td>0.93432</td></tr><tr><td>train_fpr</td><td>0.00406</td></tr><tr><td>train_loss</td><td>0.33475</td></tr><tr><td>train_tpr</td><td>0.82211</td></tr></table><br/></div></div>"
      ],
      "text/plain": [
       "<IPython.core.display.HTML object>"
      ]
     },
     "metadata": {},
     "output_type": "display_data"
    },
    {
     "data": {
      "text/html": [
       " View run <strong style=\"color:#cdcd00\">EM_CrossEntropyLoss()_ROS-0.1</strong> at: <a href='https://wandb.ai/dmitrii_fomin_uga/Internship_project/runs/9p4pnw6k' target=\"_blank\">https://wandb.ai/dmitrii_fomin_uga/Internship_project/runs/9p4pnw6k</a><br/>Synced 5 W&B file(s), 0 media file(s), 0 artifact file(s) and 0 other file(s)"
      ],
      "text/plain": [
       "<IPython.core.display.HTML object>"
      ]
     },
     "metadata": {},
     "output_type": "display_data"
    },
    {
     "data": {
      "text/html": [
       "Find logs at: <code>../logs/wandb\\run-20230705_094759-9p4pnw6k\\logs</code>"
      ],
      "text/plain": [
       "<IPython.core.display.HTML object>"
      ]
     },
     "metadata": {},
     "output_type": "display_data"
    },
    {
     "data": {
      "text/html": [
       "Tracking run with wandb version 0.15.4"
      ],
      "text/plain": [
       "<IPython.core.display.HTML object>"
      ]
     },
     "metadata": {},
     "output_type": "display_data"
    },
    {
     "data": {
      "text/html": [
       "Run data is saved locally in <code>../logs/wandb\\run-20230705_094813-vew2truf</code>"
      ],
      "text/plain": [
       "<IPython.core.display.HTML object>"
      ]
     },
     "metadata": {},
     "output_type": "display_data"
    },
    {
     "data": {
      "text/html": [
       "Syncing run <strong><a href='https://wandb.ai/dmitrii_fomin_uga/Internship_project/runs/vew2truf' target=\"_blank\">EM_CrossEntropyLoss()_ROS-0.15</a></strong> to <a href='https://wandb.ai/dmitrii_fomin_uga/Internship_project' target=\"_blank\">Weights & Biases</a> (<a href='https://wandb.me/run' target=\"_blank\">docs</a>)<br/>"
      ],
      "text/plain": [
       "<IPython.core.display.HTML object>"
      ]
     },
     "metadata": {},
     "output_type": "display_data"
    },
    {
     "data": {
      "text/html": [
       " View project at <a href='https://wandb.ai/dmitrii_fomin_uga/Internship_project' target=\"_blank\">https://wandb.ai/dmitrii_fomin_uga/Internship_project</a>"
      ],
      "text/plain": [
       "<IPython.core.display.HTML object>"
      ]
     },
     "metadata": {},
     "output_type": "display_data"
    },
    {
     "data": {
      "text/html": [
       " View run at <a href='https://wandb.ai/dmitrii_fomin_uga/Internship_project/runs/vew2truf' target=\"_blank\">https://wandb.ai/dmitrii_fomin_uga/Internship_project/runs/vew2truf</a>"
      ],
      "text/plain": [
       "<IPython.core.display.HTML object>"
      ]
     },
     "metadata": {},
     "output_type": "display_data"
    },
    {
     "data": {
      "text/html": [
       "Waiting for W&B process to finish... <strong style=\"color:green\">(success).</strong>"
      ],
      "text/plain": [
       "<IPython.core.display.HTML object>"
      ]
     },
     "metadata": {},
     "output_type": "display_data"
    },
    {
     "data": {
      "text/html": [
       "<style>\n",
       "    table.wandb td:nth-child(1) { padding: 0 10px; text-align: left ; width: auto;} td:nth-child(2) {text-align: left ; width: 100%}\n",
       "    .wandb-row { display: flex; flex-direction: row; flex-wrap: wrap; justify-content: flex-start; width: 100% }\n",
       "    .wandb-col { display: flex; flex-direction: column; flex-basis: 100%; flex: 1; padding: 10px; }\n",
       "    </style>\n",
       "<div class=\"wandb-row\"><div class=\"wandb-col\"><h3>Run history:</h3><br/><table class=\"wandb\"><tr><td>epoch</td><td>▁▁▁▂▂▂▂▂▂▃▃▃▃▃▄▄▄▄▄▄▅▅▅▅▅▅▆▆▆▆▆▇▇▇▇▇▇███</td></tr><tr><td>lr</td><td>█▇▇▆▆▅▅▄▄▄▃▃▃▃▃▂▂▂▂▂▂▂▂▂▁▁▁▁▁▁▁▁▁▁▁▁▁▁▁▁</td></tr><tr><td>test_accuracy</td><td>▁▆▇▇████████████████████████████████████</td></tr><tr><td>test_auc_score</td><td>▁▃▅▅▅▅▇▇▇█▇██▇▇▆▆▅▅▇▅▅▇▆▆▇▆▅▆▆▆▆▅▆▆▆▆▅▅▅</td></tr><tr><td>test_f1_score</td><td>▁▅▆▇▇▇▇▇▇▇▇█▇▇██████████████████████████</td></tr><tr><td>test_fpr</td><td>█▃▂▁▁▁▁▁▁▁▁▁▁▁▁▁▁▁▁▁▁▁▁▁▁▁▁▁▁▁▁▁▁▁▁▁▁▁▁▁</td></tr><tr><td>test_loss</td><td>█▄▂▂▁▂▁▁▁▁▁▁▁▁▁▁▁▁▁▁▁▁▁▁▁▁▁▁▁▁▁▁▁▁▁▁▁▁▁▁</td></tr><tr><td>test_tpr</td><td>█▅▄▂▃▃▃▃▃▃▃▁▂▂▃▃▃▂▃▃▂▃▄▂▂▃▂▂▂▂▃▃▃▂▃▃▃▃▃▃</td></tr><tr><td>train_accuracy</td><td>▁▇▇▇▇▇▇▇████████████████████████████████</td></tr><tr><td>train_auc_score</td><td>▁▇██▇▇▇█████▇▇█▇████████████████████████</td></tr><tr><td>train_f1_score</td><td>▁▆▆▇▇▇▇▇▇▇▇▇▇██▇████████████████████████</td></tr><tr><td>train_fpr</td><td>█▂▂▂▁▁▂▁▁▁▁▁▁▁▁▁▁▁▁▁▁▁▁▁▁▁▁▁▁▁▁▁▁▁▁▁▁▁▁▁</td></tr><tr><td>train_loss</td><td>█▄▂▂▂▂▂▂▁▁▁▁▁▁▁▁▁▁▁▁▁▁▁▁▁▁▁▁▁▁▁▁▁▁▁▁▁▁▁▁</td></tr><tr><td>train_tpr</td><td>▂▁▁▂▁▂▃▃▅▃▆▅▅▅▆▅▇▇▇▇▅▆▇▇█▇▇▇██▇█████▇▇▇█</td></tr></table><br/></div><div class=\"wandb-col\"><h3>Run summary:</h3><br/><table class=\"wandb\"><tr><td>epoch</td><td>39</td></tr><tr><td>lr</td><td>0.00015</td></tr><tr><td>test_accuracy</td><td>0.96078</td></tr><tr><td>test_auc_score</td><td>0.94101</td></tr><tr><td>test_f1_score</td><td>0.79011</td></tr><tr><td>test_fpr</td><td>0.03545</td></tr><tr><td>test_loss</td><td>0.35231</td></tr><tr><td>test_tpr</td><td>0.85536</td></tr><tr><td>train_accuracy</td><td>0.98003</td></tr><tr><td>train_auc_score</td><td>0.95467</td></tr><tr><td>train_f1_score</td><td>0.95416</td></tr><tr><td>train_fpr</td><td>0.00417</td></tr><tr><td>train_loss</td><td>0.33539</td></tr><tr><td>train_tpr</td><td>0.87533</td></tr></table><br/></div></div>"
      ],
      "text/plain": [
       "<IPython.core.display.HTML object>"
      ]
     },
     "metadata": {},
     "output_type": "display_data"
    },
    {
     "data": {
      "text/html": [
       " View run <strong style=\"color:#cdcd00\">EM_CrossEntropyLoss()_ROS-0.15</strong> at: <a href='https://wandb.ai/dmitrii_fomin_uga/Internship_project/runs/vew2truf' target=\"_blank\">https://wandb.ai/dmitrii_fomin_uga/Internship_project/runs/vew2truf</a><br/>Synced 5 W&B file(s), 0 media file(s), 0 artifact file(s) and 0 other file(s)"
      ],
      "text/plain": [
       "<IPython.core.display.HTML object>"
      ]
     },
     "metadata": {},
     "output_type": "display_data"
    },
    {
     "data": {
      "text/html": [
       "Find logs at: <code>../logs/wandb\\run-20230705_094813-vew2truf\\logs</code>"
      ],
      "text/plain": [
       "<IPython.core.display.HTML object>"
      ]
     },
     "metadata": {},
     "output_type": "display_data"
    },
    {
     "data": {
      "text/html": [
       "Tracking run with wandb version 0.15.4"
      ],
      "text/plain": [
       "<IPython.core.display.HTML object>"
      ]
     },
     "metadata": {},
     "output_type": "display_data"
    },
    {
     "data": {
      "text/html": [
       "Run data is saved locally in <code>../logs/wandb\\run-20230705_094828-7jl0xlc9</code>"
      ],
      "text/plain": [
       "<IPython.core.display.HTML object>"
      ]
     },
     "metadata": {},
     "output_type": "display_data"
    },
    {
     "data": {
      "text/html": [
       "Syncing run <strong><a href='https://wandb.ai/dmitrii_fomin_uga/Internship_project/runs/7jl0xlc9' target=\"_blank\">EM_CrossEntropyLoss()_ROS-0.2</a></strong> to <a href='https://wandb.ai/dmitrii_fomin_uga/Internship_project' target=\"_blank\">Weights & Biases</a> (<a href='https://wandb.me/run' target=\"_blank\">docs</a>)<br/>"
      ],
      "text/plain": [
       "<IPython.core.display.HTML object>"
      ]
     },
     "metadata": {},
     "output_type": "display_data"
    },
    {
     "data": {
      "text/html": [
       " View project at <a href='https://wandb.ai/dmitrii_fomin_uga/Internship_project' target=\"_blank\">https://wandb.ai/dmitrii_fomin_uga/Internship_project</a>"
      ],
      "text/plain": [
       "<IPython.core.display.HTML object>"
      ]
     },
     "metadata": {},
     "output_type": "display_data"
    },
    {
     "data": {
      "text/html": [
       " View run at <a href='https://wandb.ai/dmitrii_fomin_uga/Internship_project/runs/7jl0xlc9' target=\"_blank\">https://wandb.ai/dmitrii_fomin_uga/Internship_project/runs/7jl0xlc9</a>"
      ],
      "text/plain": [
       "<IPython.core.display.HTML object>"
      ]
     },
     "metadata": {},
     "output_type": "display_data"
    },
    {
     "data": {
      "text/html": [
       "Waiting for W&B process to finish... <strong style=\"color:green\">(success).</strong>"
      ],
      "text/plain": [
       "<IPython.core.display.HTML object>"
      ]
     },
     "metadata": {},
     "output_type": "display_data"
    },
    {
     "data": {
      "text/html": [
       "<style>\n",
       "    table.wandb td:nth-child(1) { padding: 0 10px; text-align: left ; width: auto;} td:nth-child(2) {text-align: left ; width: 100%}\n",
       "    .wandb-row { display: flex; flex-direction: row; flex-wrap: wrap; justify-content: flex-start; width: 100% }\n",
       "    .wandb-col { display: flex; flex-direction: column; flex-basis: 100%; flex: 1; padding: 10px; }\n",
       "    </style>\n",
       "<div class=\"wandb-row\"><div class=\"wandb-col\"><h3>Run history:</h3><br/><table class=\"wandb\"><tr><td>epoch</td><td>▁▁▁▂▂▂▂▂▂▃▃▃▃▃▄▄▄▄▄▄▅▅▅▅▅▅▆▆▆▆▆▇▇▇▇▇▇███</td></tr><tr><td>lr</td><td>█▇▇▆▆▅▅▄▄▄▃▃▃▃▃▂▂▂▂▂▂▂▂▂▁▁▁▁▁▁▁▁▁▁▁▁▁▁▁▁</td></tr><tr><td>test_accuracy</td><td>▁▅▇▇████████████████████████████████████</td></tr><tr><td>test_auc_score</td><td>▁▃▄▅▆▇▆▆▇▆▆▇▇▇▆█▇▇█▇▇█▇█▇▇▇▇▇▆▆▆▆▆▆▆▇▆▆▆</td></tr><tr><td>test_f1_score</td><td>▁▄▆▆▇▇▇█▇▇▇█████████████████████████████</td></tr><tr><td>test_fpr</td><td>█▄▂▂▁▁▁▁▁▁▁▁▁▁▁▁▁▁▁▁▁▁▁▁▁▁▁▁▁▁▁▁▁▁▁▁▁▁▁▁</td></tr><tr><td>test_loss</td><td>█▄▂▂▂▁▁▁▁▁▁▁▁▁▁▁▁▁▁▁▁▁▁▁▁▁▁▁▁▁▁▁▁▁▁▁▁▁▁▁</td></tr><tr><td>test_tpr</td><td>█▅▄▄▂▂▂▁▂▃▃▃▂▂▃▂▂▃▃▃▂▃▂▂▃▃▃▂▃▂▃▃▃▂▃▃▃▃▃▃</td></tr><tr><td>train_accuracy</td><td>▁▆▇▇▇▇▇▇▇▇▇█████████████████████████████</td></tr><tr><td>train_auc_score</td><td>▁▆▇▇▇████▇▇█████████████████████████████</td></tr><tr><td>train_f1_score</td><td>▁▅▆▆▆▇▇▇▇▇▇▇▇███████████████████████████</td></tr><tr><td>train_fpr</td><td>█▂▂▂▂▁▁▁▁▁▂▁▁▁▁▁▁▁▁▁▁▁▁▁▁▁▁▁▁▁▁▁▁▁▁▁▁▁▁▁</td></tr><tr><td>train_loss</td><td>█▄▃▂▂▂▂▂▂▂▂▁▁▁▁▁▁▁▁▁▁▁▁▁▁▁▁▁▁▁▁▁▁▁▁▁▁▁▁▁</td></tr><tr><td>train_tpr</td><td>▂▁▃▃▄▄▅▅▅▅▇▅▆▇▇▇▇▇▇▇▆▇▇▇▆▇▇▇▇▇▇▇▇▇██████</td></tr></table><br/></div><div class=\"wandb-col\"><h3>Run summary:</h3><br/><table class=\"wandb\"><tr><td>epoch</td><td>39</td></tr><tr><td>lr</td><td>0.00015</td></tr><tr><td>test_accuracy</td><td>0.94343</td></tr><tr><td>test_auc_score</td><td>0.95307</td></tr><tr><td>test_f1_score</td><td>0.74131</td></tr><tr><td>test_fpr</td><td>0.05407</td></tr><tr><td>test_loss</td><td>0.37008</td></tr><tr><td>test_tpr</td><td>0.87148</td></tr><tr><td>train_accuracy</td><td>0.97908</td></tr><tr><td>train_auc_score</td><td>0.98136</td></tr><tr><td>train_f1_score</td><td>0.96084</td></tr><tr><td>train_fpr</td><td>0.00429</td></tr><tr><td>train_loss</td><td>0.33616</td></tr><tr><td>train_tpr</td><td>0.89612</td></tr></table><br/></div></div>"
      ],
      "text/plain": [
       "<IPython.core.display.HTML object>"
      ]
     },
     "metadata": {},
     "output_type": "display_data"
    },
    {
     "data": {
      "text/html": [
       " View run <strong style=\"color:#cdcd00\">EM_CrossEntropyLoss()_ROS-0.2</strong> at: <a href='https://wandb.ai/dmitrii_fomin_uga/Internship_project/runs/7jl0xlc9' target=\"_blank\">https://wandb.ai/dmitrii_fomin_uga/Internship_project/runs/7jl0xlc9</a><br/>Synced 5 W&B file(s), 0 media file(s), 0 artifact file(s) and 0 other file(s)"
      ],
      "text/plain": [
       "<IPython.core.display.HTML object>"
      ]
     },
     "metadata": {},
     "output_type": "display_data"
    },
    {
     "data": {
      "text/html": [
       "Find logs at: <code>../logs/wandb\\run-20230705_094828-7jl0xlc9\\logs</code>"
      ],
      "text/plain": [
       "<IPython.core.display.HTML object>"
      ]
     },
     "metadata": {},
     "output_type": "display_data"
    },
    {
     "data": {
      "text/html": [
       "Tracking run with wandb version 0.15.4"
      ],
      "text/plain": [
       "<IPython.core.display.HTML object>"
      ]
     },
     "metadata": {},
     "output_type": "display_data"
    },
    {
     "data": {
      "text/html": [
       "Run data is saved locally in <code>../logs/wandb\\run-20230705_094843-oqf9euh1</code>"
      ],
      "text/plain": [
       "<IPython.core.display.HTML object>"
      ]
     },
     "metadata": {},
     "output_type": "display_data"
    },
    {
     "data": {
      "text/html": [
       "Syncing run <strong><a href='https://wandb.ai/dmitrii_fomin_uga/Internship_project/runs/oqf9euh1' target=\"_blank\">EM_CrossEntropyLoss()_ROS-0.25</a></strong> to <a href='https://wandb.ai/dmitrii_fomin_uga/Internship_project' target=\"_blank\">Weights & Biases</a> (<a href='https://wandb.me/run' target=\"_blank\">docs</a>)<br/>"
      ],
      "text/plain": [
       "<IPython.core.display.HTML object>"
      ]
     },
     "metadata": {},
     "output_type": "display_data"
    },
    {
     "data": {
      "text/html": [
       " View project at <a href='https://wandb.ai/dmitrii_fomin_uga/Internship_project' target=\"_blank\">https://wandb.ai/dmitrii_fomin_uga/Internship_project</a>"
      ],
      "text/plain": [
       "<IPython.core.display.HTML object>"
      ]
     },
     "metadata": {},
     "output_type": "display_data"
    },
    {
     "data": {
      "text/html": [
       " View run at <a href='https://wandb.ai/dmitrii_fomin_uga/Internship_project/runs/oqf9euh1' target=\"_blank\">https://wandb.ai/dmitrii_fomin_uga/Internship_project/runs/oqf9euh1</a>"
      ],
      "text/plain": [
       "<IPython.core.display.HTML object>"
      ]
     },
     "metadata": {},
     "output_type": "display_data"
    },
    {
     "data": {
      "text/html": [
       "Waiting for W&B process to finish... <strong style=\"color:green\">(success).</strong>"
      ],
      "text/plain": [
       "<IPython.core.display.HTML object>"
      ]
     },
     "metadata": {},
     "output_type": "display_data"
    },
    {
     "data": {
      "text/html": [
       "<style>\n",
       "    table.wandb td:nth-child(1) { padding: 0 10px; text-align: left ; width: auto;} td:nth-child(2) {text-align: left ; width: 100%}\n",
       "    .wandb-row { display: flex; flex-direction: row; flex-wrap: wrap; justify-content: flex-start; width: 100% }\n",
       "    .wandb-col { display: flex; flex-direction: column; flex-basis: 100%; flex: 1; padding: 10px; }\n",
       "    </style>\n",
       "<div class=\"wandb-row\"><div class=\"wandb-col\"><h3>Run history:</h3><br/><table class=\"wandb\"><tr><td>epoch</td><td>▁▁▁▂▂▂▂▂▂▃▃▃▃▃▄▄▄▄▄▄▅▅▅▅▅▅▆▆▆▆▆▇▇▇▇▇▇███</td></tr><tr><td>lr</td><td>█▇▇▆▆▅▅▄▄▄▃▃▃▃▃▂▂▂▂▂▂▂▂▂▁▁▁▁▁▁▁▁▁▁▁▁▁▁▁▁</td></tr><tr><td>test_accuracy</td><td>▁▆▇▇▇█▇███▇█████████████████████████████</td></tr><tr><td>test_auc_score</td><td>▁▃▅▃▄▅▄▆▆▅▅▇▆▆▇██▆▇▇▇▇▇▇▇▇▇▇▆▆▆▆▆▆▆▆▆▆▆▆</td></tr><tr><td>test_f1_score</td><td>▁▅▇▆▆▇▇▇▇▇▇▇█████▇██████████████████████</td></tr><tr><td>test_fpr</td><td>█▃▂▂▂▁▂▁▁▁▂▁▁▁▁▁▁▁▁▁▁▁▁▁▁▁▁▁▁▁▁▁▁▁▁▁▁▁▁▁</td></tr><tr><td>test_loss</td><td>█▃▂▂▂▁▂▂▁▁▂▁▁▁▁▁▁▁▁▁▁▁▁▁▁▁▁▁▁▁▁▁▁▁▁▁▁▁▁▁</td></tr><tr><td>test_tpr</td><td>█▄▄▂▄▂▁▃▂▃▃▃▁▂▁▂▁▂▂▂▂▂▃▂▂▂▃▃▃▃▃▃▄▃▃▃▄▄▄▃</td></tr><tr><td>train_accuracy</td><td>▁▆▆▇▇▇▇▇▇▇▇▇▇▇▇▇▇▇▇▇▇▇██████████████████</td></tr><tr><td>train_auc_score</td><td>▁▆▇▇▇▇▇▇█▇████▇█████████████████████████</td></tr><tr><td>train_f1_score</td><td>▁▆▆▆▆▆▆▆▇▇▇▇▇▇▇▇▇▇▇▇▇▇▇▇▇▇█▇█▇██████████</td></tr><tr><td>train_fpr</td><td>█▂▂▂▂▂▂▁▁▂▂▂▁▁▁▁▁▁▁▁▁▁▁▁▁▁▁▁▁▁▁▁▁▁▁▁▁▁▁▁</td></tr><tr><td>train_loss</td><td>█▄▃▂▂▂▂▂▂▂▂▂▂▂▁▁▂▂▁▁▁▁▁▁▁▁▁▁▁▁▁▁▁▁▁▁▁▁▁▁</td></tr><tr><td>train_tpr</td><td>▁▁▂▃▄▃▃▃▄▃▄▅▄▅▅▆▄▅▅▅▅▅▆▆▆▅▆▅▇▆▇▇▆▇▇▇▇█▇█</td></tr></table><br/></div><div class=\"wandb-col\"><h3>Run summary:</h3><br/><table class=\"wandb\"><tr><td>epoch</td><td>39</td></tr><tr><td>lr</td><td>0.00015</td></tr><tr><td>test_accuracy</td><td>0.93252</td></tr><tr><td>test_auc_score</td><td>0.94855</td></tr><tr><td>test_f1_score</td><td>0.71864</td></tr><tr><td>test_fpr</td><td>0.06603</td></tr><tr><td>test_loss</td><td>0.38057</td></tr><tr><td>test_tpr</td><td>0.89209</td></tr><tr><td>train_accuracy</td><td>0.97565</td></tr><tr><td>train_auc_score</td><td>0.97479</td></tr><tr><td>train_f1_score</td><td>0.96097</td></tr><tr><td>train_fpr</td><td>0.00717</td></tr><tr><td>train_loss</td><td>0.33852</td></tr><tr><td>train_tpr</td><td>0.90702</td></tr></table><br/></div></div>"
      ],
      "text/plain": [
       "<IPython.core.display.HTML object>"
      ]
     },
     "metadata": {},
     "output_type": "display_data"
    },
    {
     "data": {
      "text/html": [
       " View run <strong style=\"color:#cdcd00\">EM_CrossEntropyLoss()_ROS-0.25</strong> at: <a href='https://wandb.ai/dmitrii_fomin_uga/Internship_project/runs/oqf9euh1' target=\"_blank\">https://wandb.ai/dmitrii_fomin_uga/Internship_project/runs/oqf9euh1</a><br/>Synced 5 W&B file(s), 0 media file(s), 0 artifact file(s) and 0 other file(s)"
      ],
      "text/plain": [
       "<IPython.core.display.HTML object>"
      ]
     },
     "metadata": {},
     "output_type": "display_data"
    },
    {
     "data": {
      "text/html": [
       "Find logs at: <code>../logs/wandb\\run-20230705_094843-oqf9euh1\\logs</code>"
      ],
      "text/plain": [
       "<IPython.core.display.HTML object>"
      ]
     },
     "metadata": {},
     "output_type": "display_data"
    },
    {
     "data": {
      "text/html": [
       "Tracking run with wandb version 0.15.4"
      ],
      "text/plain": [
       "<IPython.core.display.HTML object>"
      ]
     },
     "metadata": {},
     "output_type": "display_data"
    },
    {
     "data": {
      "text/html": [
       "Run data is saved locally in <code>../logs/wandb\\run-20230705_094859-t10wsxh6</code>"
      ],
      "text/plain": [
       "<IPython.core.display.HTML object>"
      ]
     },
     "metadata": {},
     "output_type": "display_data"
    },
    {
     "data": {
      "text/html": [
       "Syncing run <strong><a href='https://wandb.ai/dmitrii_fomin_uga/Internship_project/runs/t10wsxh6' target=\"_blank\">EM_CrossEntropyLoss()_ROS-0.3</a></strong> to <a href='https://wandb.ai/dmitrii_fomin_uga/Internship_project' target=\"_blank\">Weights & Biases</a> (<a href='https://wandb.me/run' target=\"_blank\">docs</a>)<br/>"
      ],
      "text/plain": [
       "<IPython.core.display.HTML object>"
      ]
     },
     "metadata": {},
     "output_type": "display_data"
    },
    {
     "data": {
      "text/html": [
       " View project at <a href='https://wandb.ai/dmitrii_fomin_uga/Internship_project' target=\"_blank\">https://wandb.ai/dmitrii_fomin_uga/Internship_project</a>"
      ],
      "text/plain": [
       "<IPython.core.display.HTML object>"
      ]
     },
     "metadata": {},
     "output_type": "display_data"
    },
    {
     "data": {
      "text/html": [
       " View run at <a href='https://wandb.ai/dmitrii_fomin_uga/Internship_project/runs/t10wsxh6' target=\"_blank\">https://wandb.ai/dmitrii_fomin_uga/Internship_project/runs/t10wsxh6</a>"
      ],
      "text/plain": [
       "<IPython.core.display.HTML object>"
      ]
     },
     "metadata": {},
     "output_type": "display_data"
    },
    {
     "data": {
      "text/html": [
       "Waiting for W&B process to finish... <strong style=\"color:green\">(success).</strong>"
      ],
      "text/plain": [
       "<IPython.core.display.HTML object>"
      ]
     },
     "metadata": {},
     "output_type": "display_data"
    },
    {
     "data": {
      "text/html": [
       "<style>\n",
       "    table.wandb td:nth-child(1) { padding: 0 10px; text-align: left ; width: auto;} td:nth-child(2) {text-align: left ; width: 100%}\n",
       "    .wandb-row { display: flex; flex-direction: row; flex-wrap: wrap; justify-content: flex-start; width: 100% }\n",
       "    .wandb-col { display: flex; flex-direction: column; flex-basis: 100%; flex: 1; padding: 10px; }\n",
       "    </style>\n",
       "<div class=\"wandb-row\"><div class=\"wandb-col\"><h3>Run history:</h3><br/><table class=\"wandb\"><tr><td>epoch</td><td>▁▁▁▂▂▂▂▂▂▃▃▃▃▃▄▄▄▄▄▄▅▅▅▅▅▅▆▆▆▆▆▇▇▇▇▇▇███</td></tr><tr><td>lr</td><td>█▇▇▆▆▅▅▄▄▄▃▃▃▃▃▂▂▂▂▂▂▂▂▂▁▁▁▁▁▁▁▁▁▁▁▁▁▁▁▁</td></tr><tr><td>test_accuracy</td><td>▁▆▇▇▇▇▇▇█▇██▇███████████████████████████</td></tr><tr><td>test_auc_score</td><td>▁▃▆▆▆▆▆█▇▇█▆▆▇▇▇▇██▇▇▇▇▆▇▆█▇▇▇▇▇▇▇▇▆▇▇▆▅</td></tr><tr><td>test_f1_score</td><td>▁▅▆▇▆▆▇▆▇▇▇▇▇▇▇▇▇███████████████████████</td></tr><tr><td>test_fpr</td><td>█▄▂▂▂▂▂▂▁▂▁▁▂▁▁▁▁▁▁▁▁▁▁▁▁▁▁▁▁▁▁▁▁▁▁▁▁▁▁▁</td></tr><tr><td>test_loss</td><td>█▄▂▂▂▂▂▂▂▂▁▁▂▂▁▁▁▁▁▁▁▁▁▁▁▁▁▁▁▁▁▁▁▁▁▁▁▁▁▁</td></tr><tr><td>test_tpr</td><td>█▆▅▂▃▃▄▂▃▆▅▁▃▅▄▄▃▄▂▅▃▃▅▃▃▁▄▃▄▄▄▂▄▂▄▃▃▃▃▃</td></tr><tr><td>train_accuracy</td><td>▁▆▆▆▇▆▇▇▇▇▇▇▇▇▇▇▇███████████████████████</td></tr><tr><td>train_auc_score</td><td>▁▆▇█████████████████████████████████████</td></tr><tr><td>train_f1_score</td><td>▁▅▆▆▆▆▆▆▇▇▇▇▇▇▇▇▇▇██████████████████████</td></tr><tr><td>train_fpr</td><td>█▂▂▂▂▂▂▂▂▂▂▂▂▂▁▁▁▁▁▁▁▁▁▁▁▁▁▁▁▁▁▁▁▁▁▁▁▁▁▁</td></tr><tr><td>train_loss</td><td>█▄▃▃▂▂▂▂▂▂▂▂▂▂▂▁▁▁▁▁▁▁▁▁▁▁▁▁▁▁▁▁▁▁▁▁▁▁▁▁</td></tr><tr><td>train_tpr</td><td>▁▂▂▃▄▃▄▂▅▅▆▇▆▇▆▆▇▇▇▇█▇█▇█▇███▇██████████</td></tr></table><br/></div><div class=\"wandb-col\"><h3>Run summary:</h3><br/><table class=\"wandb\"><tr><td>epoch</td><td>39</td></tr><tr><td>lr</td><td>0.00015</td></tr><tr><td>test_accuracy</td><td>0.91588</td></tr><tr><td>test_auc_score</td><td>0.94916</td></tr><tr><td>test_f1_score</td><td>0.6785</td></tr><tr><td>test_fpr</td><td>0.08326</td></tr><tr><td>test_loss</td><td>0.39559</td></tr><tr><td>test_tpr</td><td>0.88924</td></tr><tr><td>train_accuracy</td><td>0.97725</td></tr><tr><td>train_auc_score</td><td>0.97912</td></tr><tr><td>train_f1_score</td><td>0.96733</td></tr><tr><td>train_fpr</td><td>0.00797</td></tr><tr><td>train_loss</td><td>0.3371</td></tr><tr><td>train_tpr</td><td>0.92842</td></tr></table><br/></div></div>"
      ],
      "text/plain": [
       "<IPython.core.display.HTML object>"
      ]
     },
     "metadata": {},
     "output_type": "display_data"
    },
    {
     "data": {
      "text/html": [
       " View run <strong style=\"color:#cdcd00\">EM_CrossEntropyLoss()_ROS-0.3</strong> at: <a href='https://wandb.ai/dmitrii_fomin_uga/Internship_project/runs/t10wsxh6' target=\"_blank\">https://wandb.ai/dmitrii_fomin_uga/Internship_project/runs/t10wsxh6</a><br/>Synced 5 W&B file(s), 0 media file(s), 0 artifact file(s) and 0 other file(s)"
      ],
      "text/plain": [
       "<IPython.core.display.HTML object>"
      ]
     },
     "metadata": {},
     "output_type": "display_data"
    },
    {
     "data": {
      "text/html": [
       "Find logs at: <code>../logs/wandb\\run-20230705_094859-t10wsxh6\\logs</code>"
      ],
      "text/plain": [
       "<IPython.core.display.HTML object>"
      ]
     },
     "metadata": {},
     "output_type": "display_data"
    },
    {
     "data": {
      "text/html": [
       "Tracking run with wandb version 0.15.4"
      ],
      "text/plain": [
       "<IPython.core.display.HTML object>"
      ]
     },
     "metadata": {},
     "output_type": "display_data"
    },
    {
     "data": {
      "text/html": [
       "Run data is saved locally in <code>../logs/wandb\\run-20230705_094914-2miu9l7o</code>"
      ],
      "text/plain": [
       "<IPython.core.display.HTML object>"
      ]
     },
     "metadata": {},
     "output_type": "display_data"
    },
    {
     "data": {
      "text/html": [
       "Syncing run <strong><a href='https://wandb.ai/dmitrii_fomin_uga/Internship_project/runs/2miu9l7o' target=\"_blank\">EM_CrossEntropyLoss()_ROS-0.35</a></strong> to <a href='https://wandb.ai/dmitrii_fomin_uga/Internship_project' target=\"_blank\">Weights & Biases</a> (<a href='https://wandb.me/run' target=\"_blank\">docs</a>)<br/>"
      ],
      "text/plain": [
       "<IPython.core.display.HTML object>"
      ]
     },
     "metadata": {},
     "output_type": "display_data"
    },
    {
     "data": {
      "text/html": [
       " View project at <a href='https://wandb.ai/dmitrii_fomin_uga/Internship_project' target=\"_blank\">https://wandb.ai/dmitrii_fomin_uga/Internship_project</a>"
      ],
      "text/plain": [
       "<IPython.core.display.HTML object>"
      ]
     },
     "metadata": {},
     "output_type": "display_data"
    },
    {
     "data": {
      "text/html": [
       " View run at <a href='https://wandb.ai/dmitrii_fomin_uga/Internship_project/runs/2miu9l7o' target=\"_blank\">https://wandb.ai/dmitrii_fomin_uga/Internship_project/runs/2miu9l7o</a>"
      ],
      "text/plain": [
       "<IPython.core.display.HTML object>"
      ]
     },
     "metadata": {},
     "output_type": "display_data"
    },
    {
     "data": {
      "text/html": [
       "Waiting for W&B process to finish... <strong style=\"color:green\">(success).</strong>"
      ],
      "text/plain": [
       "<IPython.core.display.HTML object>"
      ]
     },
     "metadata": {},
     "output_type": "display_data"
    },
    {
     "data": {
      "text/html": [
       "<style>\n",
       "    table.wandb td:nth-child(1) { padding: 0 10px; text-align: left ; width: auto;} td:nth-child(2) {text-align: left ; width: 100%}\n",
       "    .wandb-row { display: flex; flex-direction: row; flex-wrap: wrap; justify-content: flex-start; width: 100% }\n",
       "    .wandb-col { display: flex; flex-direction: column; flex-basis: 100%; flex: 1; padding: 10px; }\n",
       "    </style>\n",
       "<div class=\"wandb-row\"><div class=\"wandb-col\"><h3>Run history:</h3><br/><table class=\"wandb\"><tr><td>epoch</td><td>▁▁▁▂▂▂▂▂▂▃▃▃▃▃▄▄▄▄▄▄▅▅▅▅▅▅▆▆▆▆▆▇▇▇▇▇▇███</td></tr><tr><td>lr</td><td>█▇▇▆▆▅▅▄▄▄▃▃▃▃▃▂▂▂▂▂▂▂▂▂▁▁▁▁▁▁▁▁▁▁▁▁▁▁▁▁</td></tr><tr><td>test_accuracy</td><td>▁▅▆▇▇▇▇▇█▇██▇██▇████████████████████████</td></tr><tr><td>test_auc_score</td><td>▁▅▄▃▅▆▇▄▇▅██▅▃▃▄▆▇█▃▄▄▂▆▅▆▅▇▄▅▅▆▆▆▅▆▅▆▅▅</td></tr><tr><td>test_f1_score</td><td>▁▅▆▆▆▇▇▇▇▇▇▇▇▇▇▇▇▇███▇▇█████████████████</td></tr><tr><td>test_fpr</td><td>█▄▃▂▂▁▂▂▁▂▁▁▂▁▁▂▁▁▁▁▁▁▁▁▁▁▁▁▁▁▁▁▁▁▁▁▁▁▁▁</td></tr><tr><td>test_loss</td><td>█▄▃▂▂▂▂▂▁▂▁▂▂▁▁▂▁▁▁▁▁▁▁▁▁▁▁▁▁▁▁▁▁▁▁▁▁▁▁▁</td></tr><tr><td>test_tpr</td><td>█▆▃▃▃▁▂▃▁▂▃▂▄▄▄▃▄▄▃▃▄▃▂▄▄▃▃▄▄▅▄▃▃▄▄▃▃▃▃▃</td></tr><tr><td>train_accuracy</td><td>▁▆▆▇▇▇▇▇▇▇▇▇▇▇▇▇▇▇▇▇████████████████████</td></tr><tr><td>train_auc_score</td><td>▁▆▇▇▇▇▇▇▇▇▇▇▇▇▇▇▇▇▇▇█▇▇█████████████████</td></tr><tr><td>train_f1_score</td><td>▁▅▆▆▆▇▇▇▇▇▇▇▇▇▇▇▇▇▇▇█▇▇█████████████████</td></tr><tr><td>train_fpr</td><td>█▂▂▂▂▂▂▂▂▂▂▁▂▁▂▂▂▁▁▁▁▁▁▁▁▁▁▁▁▁▁▁▁▁▁▁▁▁▁▁</td></tr><tr><td>train_loss</td><td>█▄▃▃▂▂▂▂▂▂▂▂▂▂▂▂▂▂▂▂▁▁▁▁▁▁▁▁▁▁▁▁▁▁▁▁▁▁▁▁</td></tr><tr><td>train_tpr</td><td>▁▂▃▄▄▄▄▄▅▄▅▅▆▅▆▆▆▆▆▆▇▇▇▇▇███████████████</td></tr></table><br/></div><div class=\"wandb-col\"><h3>Run summary:</h3><br/><table class=\"wandb\"><tr><td>epoch</td><td>39</td></tr><tr><td>lr</td><td>0.00015</td></tr><tr><td>test_accuracy</td><td>0.90524</td></tr><tr><td>test_auc_score</td><td>0.94265</td></tr><tr><td>test_f1_score</td><td>0.67337</td></tr><tr><td>test_fpr</td><td>0.0953</td></tr><tr><td>test_loss</td><td>0.40718</td></tr><tr><td>test_tpr</td><td>0.92024</td></tr><tr><td>train_accuracy</td><td>0.97976</td></tr><tr><td>train_auc_score</td><td>0.98467</td></tr><tr><td>train_f1_score</td><td>0.97335</td></tr><tr><td>train_fpr</td><td>0.00897</td></tr><tr><td>train_loss</td><td>0.33381</td></tr><tr><td>train_tpr</td><td>0.94761</td></tr></table><br/></div></div>"
      ],
      "text/plain": [
       "<IPython.core.display.HTML object>"
      ]
     },
     "metadata": {},
     "output_type": "display_data"
    },
    {
     "data": {
      "text/html": [
       " View run <strong style=\"color:#cdcd00\">EM_CrossEntropyLoss()_ROS-0.35</strong> at: <a href='https://wandb.ai/dmitrii_fomin_uga/Internship_project/runs/2miu9l7o' target=\"_blank\">https://wandb.ai/dmitrii_fomin_uga/Internship_project/runs/2miu9l7o</a><br/>Synced 5 W&B file(s), 0 media file(s), 0 artifact file(s) and 0 other file(s)"
      ],
      "text/plain": [
       "<IPython.core.display.HTML object>"
      ]
     },
     "metadata": {},
     "output_type": "display_data"
    },
    {
     "data": {
      "text/html": [
       "Find logs at: <code>../logs/wandb\\run-20230705_094914-2miu9l7o\\logs</code>"
      ],
      "text/plain": [
       "<IPython.core.display.HTML object>"
      ]
     },
     "metadata": {},
     "output_type": "display_data"
    },
    {
     "data": {
      "text/html": [
       "Tracking run with wandb version 0.15.4"
      ],
      "text/plain": [
       "<IPython.core.display.HTML object>"
      ]
     },
     "metadata": {},
     "output_type": "display_data"
    },
    {
     "data": {
      "text/html": [
       "Run data is saved locally in <code>../logs/wandb\\run-20230705_094930-ecqmgrka</code>"
      ],
      "text/plain": [
       "<IPython.core.display.HTML object>"
      ]
     },
     "metadata": {},
     "output_type": "display_data"
    },
    {
     "data": {
      "text/html": [
       "Syncing run <strong><a href='https://wandb.ai/dmitrii_fomin_uga/Internship_project/runs/ecqmgrka' target=\"_blank\">EM_CrossEntropyLoss()_ROS-0.4</a></strong> to <a href='https://wandb.ai/dmitrii_fomin_uga/Internship_project' target=\"_blank\">Weights & Biases</a> (<a href='https://wandb.me/run' target=\"_blank\">docs</a>)<br/>"
      ],
      "text/plain": [
       "<IPython.core.display.HTML object>"
      ]
     },
     "metadata": {},
     "output_type": "display_data"
    },
    {
     "data": {
      "text/html": [
       " View project at <a href='https://wandb.ai/dmitrii_fomin_uga/Internship_project' target=\"_blank\">https://wandb.ai/dmitrii_fomin_uga/Internship_project</a>"
      ],
      "text/plain": [
       "<IPython.core.display.HTML object>"
      ]
     },
     "metadata": {},
     "output_type": "display_data"
    },
    {
     "data": {
      "text/html": [
       " View run at <a href='https://wandb.ai/dmitrii_fomin_uga/Internship_project/runs/ecqmgrka' target=\"_blank\">https://wandb.ai/dmitrii_fomin_uga/Internship_project/runs/ecqmgrka</a>"
      ],
      "text/plain": [
       "<IPython.core.display.HTML object>"
      ]
     },
     "metadata": {},
     "output_type": "display_data"
    },
    {
     "data": {
      "text/html": [
       "Waiting for W&B process to finish... <strong style=\"color:green\">(success).</strong>"
      ],
      "text/plain": [
       "<IPython.core.display.HTML object>"
      ]
     },
     "metadata": {},
     "output_type": "display_data"
    },
    {
     "data": {
      "text/html": [
       "<style>\n",
       "    table.wandb td:nth-child(1) { padding: 0 10px; text-align: left ; width: auto;} td:nth-child(2) {text-align: left ; width: 100%}\n",
       "    .wandb-row { display: flex; flex-direction: row; flex-wrap: wrap; justify-content: flex-start; width: 100% }\n",
       "    .wandb-col { display: flex; flex-direction: column; flex-basis: 100%; flex: 1; padding: 10px; }\n",
       "    </style>\n",
       "<div class=\"wandb-row\"><div class=\"wandb-col\"><h3>Run history:</h3><br/><table class=\"wandb\"><tr><td>epoch</td><td>▁▁▁▂▂▂▂▂▂▃▃▃▃▃▄▄▄▄▄▄▅▅▅▅▅▅▆▆▆▆▆▇▇▇▇▇▇███</td></tr><tr><td>lr</td><td>█▇▇▆▆▅▅▄▄▄▃▃▃▃▃▂▂▂▂▂▂▂▂▂▁▁▁▁▁▁▁▁▁▁▁▁▁▁▁▁</td></tr><tr><td>test_accuracy</td><td>▁▃▅▅▅▇▅▆▇▇▇▇█▇██▇▇▇██▇█▇████████████████</td></tr><tr><td>test_auc_score</td><td>▁▅▆▇▇▇▇▆▇▇▇▇▇▇▇▇▄█▇▇▆▆▇▇███▇▆▇▆▆▇▇▇▇▆▇▅▆</td></tr><tr><td>test_f1_score</td><td>▁▂▄▄▄▆▅▅▇▆▆▇▇▇▇▇▆▆▇██▇▇▇████▇▇██████████</td></tr><tr><td>test_fpr</td><td>█▆▄▄▄▂▄▃▂▂▂▂▁▂▁▁▂▂▂▁▁▂▁▁▁▁▁▁▁▁▁▁▁▁▁▁▁▁▁▁</td></tr><tr><td>test_loss</td><td>█▆▄▄▄▂▄▃▁▂▂▂▁▂▁▁▂▂▂▁▁▂▁▁▁▁▁▁▂▂▁▁▁▁▁▁▁▁▁▁</td></tr><tr><td>test_tpr</td><td>▇▄▇▄▅▂▆█▆▄▁▇▂▅▁▅▂█▅▇▃▃▅▄▄▆▄▃▂▅▆▄▅▄▅▆▄▄▅▄</td></tr><tr><td>train_accuracy</td><td>▁▆▆▆▆▆▇▇▇▇▇▇▇▇▇▇▇▇▇█████████████████████</td></tr><tr><td>train_auc_score</td><td>▁▇▇▇▇▇▇▇▇███████████████████████████████</td></tr><tr><td>train_f1_score</td><td>▁▅▅▆▆▆▆▆▇▇▇▇▇▇▇▇▇▇▇███▇█████████████████</td></tr><tr><td>train_fpr</td><td>█▂▂▂▃▂▂▂▂▂▂▂▁▂▁▁▂▂▂▁▁▁▁▁▁▁▁▁▁▁▁▁▁▁▁▁▁▁▁▁</td></tr><tr><td>train_loss</td><td>█▄▃▃▃▂▂▂▂▂▂▂▂▂▂▂▂▂▂▁▁▁▁▁▁▁▁▁▁▁▁▁▁▁▁▁▁▁▁▁</td></tr><tr><td>train_tpr</td><td>▁▂▃▄▅▄▅▆▆▆▆▇▆▇▇▇▇▆▇███▇▇███▇▇▇█████████▇</td></tr></table><br/></div><div class=\"wandb-col\"><h3>Run summary:</h3><br/><table class=\"wandb\"><tr><td>epoch</td><td>39</td></tr><tr><td>lr</td><td>0.00015</td></tr><tr><td>test_accuracy</td><td>0.88779</td></tr><tr><td>test_auc_score</td><td>0.95414</td></tr><tr><td>test_f1_score</td><td>0.64739</td></tr><tr><td>test_fpr</td><td>0.11342</td></tr><tr><td>test_loss</td><td>0.42502</td></tr><tr><td>test_tpr</td><td>0.92189</td></tr><tr><td>train_accuracy</td><td>0.96944</td></tr><tr><td>train_auc_score</td><td>0.97505</td></tr><tr><td>train_f1_score</td><td>0.96155</td></tr><tr><td>train_fpr</td><td>0.01102</td></tr><tr><td>train_loss</td><td>0.34352</td></tr><tr><td>train_tpr</td><td>0.92012</td></tr></table><br/></div></div>"
      ],
      "text/plain": [
       "<IPython.core.display.HTML object>"
      ]
     },
     "metadata": {},
     "output_type": "display_data"
    },
    {
     "data": {
      "text/html": [
       " View run <strong style=\"color:#cdcd00\">EM_CrossEntropyLoss()_ROS-0.4</strong> at: <a href='https://wandb.ai/dmitrii_fomin_uga/Internship_project/runs/ecqmgrka' target=\"_blank\">https://wandb.ai/dmitrii_fomin_uga/Internship_project/runs/ecqmgrka</a><br/>Synced 5 W&B file(s), 0 media file(s), 0 artifact file(s) and 0 other file(s)"
      ],
      "text/plain": [
       "<IPython.core.display.HTML object>"
      ]
     },
     "metadata": {},
     "output_type": "display_data"
    },
    {
     "data": {
      "text/html": [
       "Find logs at: <code>../logs/wandb\\run-20230705_094930-ecqmgrka\\logs</code>"
      ],
      "text/plain": [
       "<IPython.core.display.HTML object>"
      ]
     },
     "metadata": {},
     "output_type": "display_data"
    },
    {
     "data": {
      "text/html": [
       "Tracking run with wandb version 0.15.4"
      ],
      "text/plain": [
       "<IPython.core.display.HTML object>"
      ]
     },
     "metadata": {},
     "output_type": "display_data"
    },
    {
     "data": {
      "text/html": [
       "Run data is saved locally in <code>../logs/wandb\\run-20230705_094946-gr9xkzz6</code>"
      ],
      "text/plain": [
       "<IPython.core.display.HTML object>"
      ]
     },
     "metadata": {},
     "output_type": "display_data"
    },
    {
     "data": {
      "text/html": [
       "Syncing run <strong><a href='https://wandb.ai/dmitrii_fomin_uga/Internship_project/runs/gr9xkzz6' target=\"_blank\">EM_CrossEntropyLoss()_ROS-0.45</a></strong> to <a href='https://wandb.ai/dmitrii_fomin_uga/Internship_project' target=\"_blank\">Weights & Biases</a> (<a href='https://wandb.me/run' target=\"_blank\">docs</a>)<br/>"
      ],
      "text/plain": [
       "<IPython.core.display.HTML object>"
      ]
     },
     "metadata": {},
     "output_type": "display_data"
    },
    {
     "data": {
      "text/html": [
       " View project at <a href='https://wandb.ai/dmitrii_fomin_uga/Internship_project' target=\"_blank\">https://wandb.ai/dmitrii_fomin_uga/Internship_project</a>"
      ],
      "text/plain": [
       "<IPython.core.display.HTML object>"
      ]
     },
     "metadata": {},
     "output_type": "display_data"
    },
    {
     "data": {
      "text/html": [
       " View run at <a href='https://wandb.ai/dmitrii_fomin_uga/Internship_project/runs/gr9xkzz6' target=\"_blank\">https://wandb.ai/dmitrii_fomin_uga/Internship_project/runs/gr9xkzz6</a>"
      ],
      "text/plain": [
       "<IPython.core.display.HTML object>"
      ]
     },
     "metadata": {},
     "output_type": "display_data"
    },
    {
     "data": {
      "text/html": [
       "Waiting for W&B process to finish... <strong style=\"color:green\">(success).</strong>"
      ],
      "text/plain": [
       "<IPython.core.display.HTML object>"
      ]
     },
     "metadata": {},
     "output_type": "display_data"
    },
    {
     "data": {
      "text/html": [
       "<style>\n",
       "    table.wandb td:nth-child(1) { padding: 0 10px; text-align: left ; width: auto;} td:nth-child(2) {text-align: left ; width: 100%}\n",
       "    .wandb-row { display: flex; flex-direction: row; flex-wrap: wrap; justify-content: flex-start; width: 100% }\n",
       "    .wandb-col { display: flex; flex-direction: column; flex-basis: 100%; flex: 1; padding: 10px; }\n",
       "    </style>\n",
       "<div class=\"wandb-row\"><div class=\"wandb-col\"><h3>Run history:</h3><br/><table class=\"wandb\"><tr><td>epoch</td><td>▁▁▁▂▂▂▂▂▂▃▃▃▃▃▄▄▄▄▄▄▅▅▅▅▅▅▆▆▆▆▆▇▇▇▇▇▇███</td></tr><tr><td>lr</td><td>█▇▇▆▆▅▅▄▄▄▃▃▃▃▃▂▂▂▂▂▂▂▂▂▁▁▁▁▁▁▁▁▁▁▁▁▁▁▁▁</td></tr><tr><td>test_accuracy</td><td>▁▅▆▇▇▇▆▇▇▇▇▇▇▇██████▇███████████████████</td></tr><tr><td>test_auc_score</td><td>▂▆▅▅▅▅▄▄▅▁▃▆▆▆▅▆▆▄▆▆▆▇█▇▆▆▇▇▇▇▇██▇▇▆▆▇▇▇</td></tr><tr><td>test_f1_score</td><td>▁▅▆▆▆▆▆▆▆▆▆▇▇▇▇▇▇▇▇▇▇███████████████████</td></tr><tr><td>test_fpr</td><td>█▄▃▂▂▂▃▂▂▃▂▂▂▂▁▁▁▁▁▁▂▁▁▁▁▁▁▁▁▁▁▁▁▁▁▁▁▁▁▁</td></tr><tr><td>test_loss</td><td>█▄▃▃▃▂▃▂▂▃▂▂▂▂▁▁▁▂▁▁▂▁▁▁▁▁▁▁▁▁▁▁▁▁▁▁▁▁▁▁</td></tr><tr><td>test_tpr</td><td>█▇▃▅▅▁▇▄▃▅▄▅▃▃▂▂▂▂▁▄▂▃▂▃▂▂▂▁▄▃▄▃▄▃▃▃▃▄▄▃</td></tr><tr><td>train_accuracy</td><td>▁▅▆▆▆▆▆▇▆▆▆▇▇▇▇▇▇▇▇▇▇███████████████████</td></tr><tr><td>train_auc_score</td><td>▁▇▇▇▇▇▇▇▇▇▇▇████████████████████████████</td></tr><tr><td>train_f1_score</td><td>▁▅▆▆▆▆▆▆▆▆▆▇▇▇▇▇▇▇▇▇▇███████████████████</td></tr><tr><td>train_fpr</td><td>█▃▃▃▃▂▃▂▂▂▂▂▂▂▂▂▁▂▂▁▁▁▁▁▁▁▁▁▁▁▁▁▁▁▁▁▁▁▁▁</td></tr><tr><td>train_loss</td><td>█▄▃▃▃▃▃▂▂▂▃▂▂▂▂▂▂▂▂▂▁▁▁▁▁▁▁▁▁▁▁▁▁▁▁▁▁▁▁▁</td></tr><tr><td>train_tpr</td><td>▁▂▄▄▅▅▆▆▅▆▅▇▆▇▇▇▇▇▇▇▇▇█▇████████████████</td></tr></table><br/></div><div class=\"wandb-col\"><h3>Run summary:</h3><br/><table class=\"wandb\"><tr><td>epoch</td><td>39</td></tr><tr><td>lr</td><td>0.00015</td></tr><tr><td>test_accuracy</td><td>0.88233</td></tr><tr><td>test_auc_score</td><td>0.95372</td></tr><tr><td>test_f1_score</td><td>0.64259</td></tr><tr><td>test_fpr</td><td>0.11948</td></tr><tr><td>test_loss</td><td>0.43042</td></tr><tr><td>test_tpr</td><td>0.93765</td></tr><tr><td>train_accuracy</td><td>0.98434</td></tr><tr><td>train_auc_score</td><td>0.98822</td></tr><tr><td>train_f1_score</td><td>0.98168</td></tr><tr><td>train_fpr</td><td>0.01082</td></tr><tr><td>train_loss</td><td>0.33005</td></tr><tr><td>train_tpr</td><td>0.97387</td></tr></table><br/></div></div>"
      ],
      "text/plain": [
       "<IPython.core.display.HTML object>"
      ]
     },
     "metadata": {},
     "output_type": "display_data"
    },
    {
     "data": {
      "text/html": [
       " View run <strong style=\"color:#cdcd00\">EM_CrossEntropyLoss()_ROS-0.45</strong> at: <a href='https://wandb.ai/dmitrii_fomin_uga/Internship_project/runs/gr9xkzz6' target=\"_blank\">https://wandb.ai/dmitrii_fomin_uga/Internship_project/runs/gr9xkzz6</a><br/>Synced 5 W&B file(s), 0 media file(s), 0 artifact file(s) and 0 other file(s)"
      ],
      "text/plain": [
       "<IPython.core.display.HTML object>"
      ]
     },
     "metadata": {},
     "output_type": "display_data"
    },
    {
     "data": {
      "text/html": [
       "Find logs at: <code>../logs/wandb\\run-20230705_094946-gr9xkzz6\\logs</code>"
      ],
      "text/plain": [
       "<IPython.core.display.HTML object>"
      ]
     },
     "metadata": {},
     "output_type": "display_data"
    },
    {
     "data": {
      "text/html": [
       "Tracking run with wandb version 0.15.4"
      ],
      "text/plain": [
       "<IPython.core.display.HTML object>"
      ]
     },
     "metadata": {},
     "output_type": "display_data"
    },
    {
     "data": {
      "text/html": [
       "Run data is saved locally in <code>../logs/wandb\\run-20230705_095003-m928s9uf</code>"
      ],
      "text/plain": [
       "<IPython.core.display.HTML object>"
      ]
     },
     "metadata": {},
     "output_type": "display_data"
    },
    {
     "data": {
      "text/html": [
       "Syncing run <strong><a href='https://wandb.ai/dmitrii_fomin_uga/Internship_project/runs/m928s9uf' target=\"_blank\">EM_CrossEntropyLoss()_ROS-0.5</a></strong> to <a href='https://wandb.ai/dmitrii_fomin_uga/Internship_project' target=\"_blank\">Weights & Biases</a> (<a href='https://wandb.me/run' target=\"_blank\">docs</a>)<br/>"
      ],
      "text/plain": [
       "<IPython.core.display.HTML object>"
      ]
     },
     "metadata": {},
     "output_type": "display_data"
    },
    {
     "data": {
      "text/html": [
       " View project at <a href='https://wandb.ai/dmitrii_fomin_uga/Internship_project' target=\"_blank\">https://wandb.ai/dmitrii_fomin_uga/Internship_project</a>"
      ],
      "text/plain": [
       "<IPython.core.display.HTML object>"
      ]
     },
     "metadata": {},
     "output_type": "display_data"
    },
    {
     "data": {
      "text/html": [
       " View run at <a href='https://wandb.ai/dmitrii_fomin_uga/Internship_project/runs/m928s9uf' target=\"_blank\">https://wandb.ai/dmitrii_fomin_uga/Internship_project/runs/m928s9uf</a>"
      ],
      "text/plain": [
       "<IPython.core.display.HTML object>"
      ]
     },
     "metadata": {},
     "output_type": "display_data"
    },
    {
     "data": {
      "text/html": [
       "Waiting for W&B process to finish... <strong style=\"color:green\">(success).</strong>"
      ],
      "text/plain": [
       "<IPython.core.display.HTML object>"
      ]
     },
     "metadata": {},
     "output_type": "display_data"
    },
    {
     "data": {
      "text/html": [
       "<style>\n",
       "    table.wandb td:nth-child(1) { padding: 0 10px; text-align: left ; width: auto;} td:nth-child(2) {text-align: left ; width: 100%}\n",
       "    .wandb-row { display: flex; flex-direction: row; flex-wrap: wrap; justify-content: flex-start; width: 100% }\n",
       "    .wandb-col { display: flex; flex-direction: column; flex-basis: 100%; flex: 1; padding: 10px; }\n",
       "    </style>\n",
       "<div class=\"wandb-row\"><div class=\"wandb-col\"><h3>Run history:</h3><br/><table class=\"wandb\"><tr><td>epoch</td><td>▁▁▁▂▂▂▂▂▂▃▃▃▃▃▄▄▄▄▄▄▅▅▅▅▅▅▆▆▆▆▆▇▇▇▇▇▇███</td></tr><tr><td>lr</td><td>█▇▇▆▆▅▅▄▄▄▃▃▃▃▃▂▂▂▂▂▂▂▂▂▁▁▁▁▁▁▁▁▁▁▁▁▁▁▁▁</td></tr><tr><td>test_accuracy</td><td>▁▆▆▆▇▇▆▇▇▆▇▇▇▇▇█▇▇▇█████████████████████</td></tr><tr><td>test_auc_score</td><td>▁▄▅▇▇▇▇▆▇▇█▇▇█▇█▇██▇███████▇▇▇█▇▇▇▇▇▇▇▇▇</td></tr><tr><td>test_f1_score</td><td>▁▅▅▆▆▆▆▇▆▆▇▆▇▆▇▇▇▇▇▇█▇▇█████████████████</td></tr><tr><td>test_fpr</td><td>█▃▃▃▂▂▃▂▂▃▂▂▂▂▂▁▂▂▂▁▁▁▁▁▁▁▁▁▁▁▁▁▁▁▁▁▁▁▁▁</td></tr><tr><td>test_loss</td><td>█▃▄▃▂▂▃▂▃▃▂▂▂▂▂▁▂▂▂▂▁▁▁▁▁▁▁▁▁▁▁▁▁▁▁▁▁▁▁▁</td></tr><tr><td>test_tpr</td><td>▆▂▄█▃▄▅▆▅▅▄▅▄▆▄▃▅▂▂▂▂▅▃▃▂▃▃▂▁▁▂▁▁▁▁▃▃▂▂▂</td></tr><tr><td>train_accuracy</td><td>▁▅▅▆▆▇▇▇▇▇▇▇▇▇▇▇▇▇▇▇█▇██████████████████</td></tr><tr><td>train_auc_score</td><td>▁▆▇▇▇▇▇▇▇█▇██▇██████████████████████████</td></tr><tr><td>train_f1_score</td><td>▁▅▅▆▆▇▇▇▇▇▇▇▇▇▇▇▇▇▇▇▇▇██████████████████</td></tr><tr><td>train_fpr</td><td>█▃▃▃▂▂▂▂▂▂▂▂▂▂▂▂▂▂▂▁▁▂▁▁▁▁▁▁▁▁▁▁▁▁▁▁▁▁▁▁</td></tr><tr><td>train_loss</td><td>█▄▃▃▂▂▂▂▂▂▂▂▂▂▂▂▂▂▂▁▁▁▁▁▁▁▁▁▁▁▁▁▁▁▁▁▁▁▁▁</td></tr><tr><td>train_tpr</td><td>▁▂▃▅▆▆▆▇▇▇▅▇▇▇▇▇▇▇▇▇▇█▇█████████████████</td></tr></table><br/></div><div class=\"wandb-col\"><h3>Run summary:</h3><br/><table class=\"wandb\"><tr><td>epoch</td><td>39</td></tr><tr><td>lr</td><td>0.00015</td></tr><tr><td>test_accuracy</td><td>0.87608</td></tr><tr><td>test_auc_score</td><td>0.95518</td></tr><tr><td>test_f1_score</td><td>0.63262</td></tr><tr><td>test_fpr</td><td>0.12515</td></tr><tr><td>test_loss</td><td>0.43577</td></tr><tr><td>test_tpr</td><td>0.91111</td></tr><tr><td>train_accuracy</td><td>0.98027</td></tr><tr><td>train_auc_score</td><td>0.98424</td></tr><tr><td>train_f1_score</td><td>0.97762</td></tr><tr><td>train_fpr</td><td>0.01074</td></tr><tr><td>train_loss</td><td>0.33353</td></tr><tr><td>train_tpr</td><td>0.96236</td></tr></table><br/></div></div>"
      ],
      "text/plain": [
       "<IPython.core.display.HTML object>"
      ]
     },
     "metadata": {},
     "output_type": "display_data"
    },
    {
     "data": {
      "text/html": [
       " View run <strong style=\"color:#cdcd00\">EM_CrossEntropyLoss()_ROS-0.5</strong> at: <a href='https://wandb.ai/dmitrii_fomin_uga/Internship_project/runs/m928s9uf' target=\"_blank\">https://wandb.ai/dmitrii_fomin_uga/Internship_project/runs/m928s9uf</a><br/>Synced 5 W&B file(s), 0 media file(s), 0 artifact file(s) and 0 other file(s)"
      ],
      "text/plain": [
       "<IPython.core.display.HTML object>"
      ]
     },
     "metadata": {},
     "output_type": "display_data"
    },
    {
     "data": {
      "text/html": [
       "Find logs at: <code>../logs/wandb\\run-20230705_095003-m928s9uf\\logs</code>"
      ],
      "text/plain": [
       "<IPython.core.display.HTML object>"
      ]
     },
     "metadata": {},
     "output_type": "display_data"
    },
    {
     "data": {
      "text/html": [
       "Tracking run with wandb version 0.15.4"
      ],
      "text/plain": [
       "<IPython.core.display.HTML object>"
      ]
     },
     "metadata": {},
     "output_type": "display_data"
    },
    {
     "data": {
      "text/html": [
       "Run data is saved locally in <code>../logs/wandb\\run-20230705_095018-y8gdrwod</code>"
      ],
      "text/plain": [
       "<IPython.core.display.HTML object>"
      ]
     },
     "metadata": {},
     "output_type": "display_data"
    },
    {
     "data": {
      "text/html": [
       "Syncing run <strong><a href='https://wandb.ai/dmitrii_fomin_uga/Internship_project/runs/y8gdrwod' target=\"_blank\">EM_CrossEntropyLoss()_ROS-0.55</a></strong> to <a href='https://wandb.ai/dmitrii_fomin_uga/Internship_project' target=\"_blank\">Weights & Biases</a> (<a href='https://wandb.me/run' target=\"_blank\">docs</a>)<br/>"
      ],
      "text/plain": [
       "<IPython.core.display.HTML object>"
      ]
     },
     "metadata": {},
     "output_type": "display_data"
    },
    {
     "data": {
      "text/html": [
       " View project at <a href='https://wandb.ai/dmitrii_fomin_uga/Internship_project' target=\"_blank\">https://wandb.ai/dmitrii_fomin_uga/Internship_project</a>"
      ],
      "text/plain": [
       "<IPython.core.display.HTML object>"
      ]
     },
     "metadata": {},
     "output_type": "display_data"
    },
    {
     "data": {
      "text/html": [
       " View run at <a href='https://wandb.ai/dmitrii_fomin_uga/Internship_project/runs/y8gdrwod' target=\"_blank\">https://wandb.ai/dmitrii_fomin_uga/Internship_project/runs/y8gdrwod</a>"
      ],
      "text/plain": [
       "<IPython.core.display.HTML object>"
      ]
     },
     "metadata": {},
     "output_type": "display_data"
    },
    {
     "data": {
      "text/html": [
       "Waiting for W&B process to finish... <strong style=\"color:green\">(success).</strong>"
      ],
      "text/plain": [
       "<IPython.core.display.HTML object>"
      ]
     },
     "metadata": {},
     "output_type": "display_data"
    },
    {
     "data": {
      "text/html": [
       "<style>\n",
       "    table.wandb td:nth-child(1) { padding: 0 10px; text-align: left ; width: auto;} td:nth-child(2) {text-align: left ; width: 100%}\n",
       "    .wandb-row { display: flex; flex-direction: row; flex-wrap: wrap; justify-content: flex-start; width: 100% }\n",
       "    .wandb-col { display: flex; flex-direction: column; flex-basis: 100%; flex: 1; padding: 10px; }\n",
       "    </style>\n",
       "<div class=\"wandb-row\"><div class=\"wandb-col\"><h3>Run history:</h3><br/><table class=\"wandb\"><tr><td>epoch</td><td>▁▁▁▂▂▂▂▂▂▃▃▃▃▃▄▄▄▄▄▄▅▅▅▅▅▅▆▆▆▆▆▇▇▇▇▇▇███</td></tr><tr><td>lr</td><td>█▇▇▆▆▅▅▄▄▄▃▃▃▃▃▂▂▂▂▂▂▂▂▂▁▁▁▁▁▁▁▁▁▁▁▁▁▁▁▁</td></tr><tr><td>test_accuracy</td><td>▁▄▅▅▅▆▆▆▆▇▆▇▇▇█▇▇▇▇▇▇███████████████████</td></tr><tr><td>test_auc_score</td><td>▁▄▅▄▅▆▅▅▇▇█▆██▇█▇▇▇█▆▇▇▇▇▇▇▇▇██▇█▇▇█▇▇▇▇</td></tr><tr><td>test_f1_score</td><td>▁▄▅▅▄▅▅▆▆▆▆▆▆▇▇▇▇▇▇▇▇▇▇▇▇███████████████</td></tr><tr><td>test_fpr</td><td>█▅▄▄▄▃▃▃▃▂▃▂▂▂▁▂▂▂▂▂▂▁▁▁▁▁▁▁▁▁▁▁▁▁▁▁▁▁▁▁</td></tr><tr><td>test_loss</td><td>█▅▄▄▅▃▃▃▃▃▃▂▂▂▁▂▂▂▂▂▂▁▂▁▁▁▁▁▁▁▁▁▁▁▁▁▁▁▁▁</td></tr><tr><td>test_tpr</td><td>█▅▇▆▆▆▇▆▇▇▆▄▄▃▄█▄▄▃▃▁▅▄▃▄▄▃▂▃▂▄▂▃▃▂▃▃▃▃▃</td></tr><tr><td>train_accuracy</td><td>▁▅▅▅▅▅▆▆▆▆▇▇▇▇▇▇▇▇▇▇▇▇▇▇▇███████████████</td></tr><tr><td>train_auc_score</td><td>▁▇▇▇▇▇▇█▇▇▇▇▇▇█████▇████████████████████</td></tr><tr><td>train_f1_score</td><td>▁▅▅▅▅▅▆▆▆▆▇▇▇▇▇▇▇▇▇▇▇▇▇▇▇███████████████</td></tr><tr><td>train_fpr</td><td>█▂▃▃▃▂▂▂▂▂▂▂▂▂▂▂▂▂▂▂▂▂▁▁▂▁▁▁▁▁▁▁▁▁▁▁▁▁▁▁</td></tr><tr><td>train_loss</td><td>█▄▄▃▃▃▃▃▂▂▂▂▂▂▂▂▂▂▂▂▂▂▁▂▁▁▁▁▁▁▁▁▁▁▁▁▁▁▁▁</td></tr><tr><td>train_tpr</td><td>▁▂▃▄▃▃▄▅▆▆▆▇▇▇▇▇▇▇▇▆▇▇▇▇▇███▇███████████</td></tr></table><br/></div><div class=\"wandb-col\"><h3>Run summary:</h3><br/><table class=\"wandb\"><tr><td>epoch</td><td>39</td></tr><tr><td>lr</td><td>0.00015</td></tr><tr><td>test_accuracy</td><td>0.86053</td></tr><tr><td>test_auc_score</td><td>0.96278</td></tr><tr><td>test_f1_score</td><td>0.61595</td></tr><tr><td>test_fpr</td><td>0.14235</td></tr><tr><td>test_loss</td><td>0.4507</td></tr><tr><td>test_tpr</td><td>0.94291</td></tr><tr><td>train_accuracy</td><td>0.97698</td></tr><tr><td>train_auc_score</td><td>0.9757</td></tr><tr><td>train_f1_score</td><td>0.97463</td></tr><tr><td>train_fpr</td><td>0.01182</td></tr><tr><td>train_loss</td><td>0.33603</td></tr><tr><td>train_tpr</td><td>0.95659</td></tr></table><br/></div></div>"
      ],
      "text/plain": [
       "<IPython.core.display.HTML object>"
      ]
     },
     "metadata": {},
     "output_type": "display_data"
    },
    {
     "data": {
      "text/html": [
       " View run <strong style=\"color:#cdcd00\">EM_CrossEntropyLoss()_ROS-0.55</strong> at: <a href='https://wandb.ai/dmitrii_fomin_uga/Internship_project/runs/y8gdrwod' target=\"_blank\">https://wandb.ai/dmitrii_fomin_uga/Internship_project/runs/y8gdrwod</a><br/>Synced 5 W&B file(s), 0 media file(s), 0 artifact file(s) and 0 other file(s)"
      ],
      "text/plain": [
       "<IPython.core.display.HTML object>"
      ]
     },
     "metadata": {},
     "output_type": "display_data"
    },
    {
     "data": {
      "text/html": [
       "Find logs at: <code>../logs/wandb\\run-20230705_095018-y8gdrwod\\logs</code>"
      ],
      "text/plain": [
       "<IPython.core.display.HTML object>"
      ]
     },
     "metadata": {},
     "output_type": "display_data"
    },
    {
     "data": {
      "text/html": [
       "Tracking run with wandb version 0.15.4"
      ],
      "text/plain": [
       "<IPython.core.display.HTML object>"
      ]
     },
     "metadata": {},
     "output_type": "display_data"
    },
    {
     "data": {
      "text/html": [
       "Run data is saved locally in <code>../logs/wandb\\run-20230705_095036-mfyla8m4</code>"
      ],
      "text/plain": [
       "<IPython.core.display.HTML object>"
      ]
     },
     "metadata": {},
     "output_type": "display_data"
    },
    {
     "data": {
      "text/html": [
       "Syncing run <strong><a href='https://wandb.ai/dmitrii_fomin_uga/Internship_project/runs/mfyla8m4' target=\"_blank\">EM_CrossEntropyLoss()_ROS-0.6</a></strong> to <a href='https://wandb.ai/dmitrii_fomin_uga/Internship_project' target=\"_blank\">Weights & Biases</a> (<a href='https://wandb.me/run' target=\"_blank\">docs</a>)<br/>"
      ],
      "text/plain": [
       "<IPython.core.display.HTML object>"
      ]
     },
     "metadata": {},
     "output_type": "display_data"
    },
    {
     "data": {
      "text/html": [
       " View project at <a href='https://wandb.ai/dmitrii_fomin_uga/Internship_project' target=\"_blank\">https://wandb.ai/dmitrii_fomin_uga/Internship_project</a>"
      ],
      "text/plain": [
       "<IPython.core.display.HTML object>"
      ]
     },
     "metadata": {},
     "output_type": "display_data"
    },
    {
     "data": {
      "text/html": [
       " View run at <a href='https://wandb.ai/dmitrii_fomin_uga/Internship_project/runs/mfyla8m4' target=\"_blank\">https://wandb.ai/dmitrii_fomin_uga/Internship_project/runs/mfyla8m4</a>"
      ],
      "text/plain": [
       "<IPython.core.display.HTML object>"
      ]
     },
     "metadata": {},
     "output_type": "display_data"
    },
    {
     "data": {
      "text/html": [
       "Waiting for W&B process to finish... <strong style=\"color:green\">(success).</strong>"
      ],
      "text/plain": [
       "<IPython.core.display.HTML object>"
      ]
     },
     "metadata": {},
     "output_type": "display_data"
    },
    {
     "data": {
      "text/html": [
       "<style>\n",
       "    table.wandb td:nth-child(1) { padding: 0 10px; text-align: left ; width: auto;} td:nth-child(2) {text-align: left ; width: 100%}\n",
       "    .wandb-row { display: flex; flex-direction: row; flex-wrap: wrap; justify-content: flex-start; width: 100% }\n",
       "    .wandb-col { display: flex; flex-direction: column; flex-basis: 100%; flex: 1; padding: 10px; }\n",
       "    </style>\n",
       "<div class=\"wandb-row\"><div class=\"wandb-col\"><h3>Run history:</h3><br/><table class=\"wandb\"><tr><td>epoch</td><td>▁▁▁▂▂▂▂▂▂▃▃▃▃▃▄▄▄▄▄▄▅▅▅▅▅▅▆▆▆▆▆▇▇▇▇▇▇███</td></tr><tr><td>lr</td><td>█▇▇▆▆▅▅▄▄▄▃▃▃▃▃▂▂▂▂▂▂▂▂▂▁▁▁▁▁▁▁▁▁▁▁▁▁▁▁▁</td></tr><tr><td>test_accuracy</td><td>▁▅▅▅▆▆▆▆▆▇▇▇▇▇▇▇▇▇▇▇█▇██████████████████</td></tr><tr><td>test_auc_score</td><td>▂▂▅▄▁▆▇▆▇▇▇▆▇█▅▅▄▅▅▇▅▄▆▅▄▄▄▅▄▄▄▄▄▄▄▅▅▅▄▄</td></tr><tr><td>test_f1_score</td><td>▁▄▄▄▆▆▅▆▆▆▆▆▆▇▇▇▇▇▇▇▇▇▇▇▇███████████████</td></tr><tr><td>test_fpr</td><td>█▄▄▄▃▃▃▃▃▂▂▂▂▂▂▂▂▂▂▂▁▂▁▁▁▁▁▁▁▁▁▁▁▁▁▁▁▁▁▁</td></tr><tr><td>test_loss</td><td>█▅▅▅▃▃▄▃▃▃▂▃▂▂▂▂▂▂▂▂▂▂▂▁▂▁▁▁▁▁▁▁▁▁▁▁▁▁▁▁</td></tr><tr><td>test_tpr</td><td>█▅▄▅▃▄▆▆▅▂▅▂▃▅▂▄▃▄▂▂▃▃▃▃▂▃▂▃▂▂▂▃▃▂▂▂▃▃▁▂</td></tr><tr><td>train_accuracy</td><td>▁▅▆▆▆▆▆▆▇▇▇▇▇▇▇▇▇▇▇▇▇▇██████████████████</td></tr><tr><td>train_auc_score</td><td>▁▇▇▇▇████████████▇█▇█▇██████████████████</td></tr><tr><td>train_f1_score</td><td>▁▅▆▆▆▆▆▆▇▇▇▇▇▇▇▇▇▇▇▇▇▇██████████████████</td></tr><tr><td>train_fpr</td><td>█▃▃▂▃▂▂▂▂▂▂▂▂▂▂▂▂▂▂▂▁▂▁▁▁▁▁▁▁▁▁▁▁▁▁▁▁▁▁▁</td></tr><tr><td>train_loss</td><td>█▄▃▃▃▂▃▂▂▂▂▂▂▂▂▂▂▂▂▂▁▂▁▁▁▁▁▁▁▁▁▁▁▁▁▁▁▁▁▁</td></tr><tr><td>train_tpr</td><td>▁▄▅▅▆▆▄▆▇▆▇▆▇▇▇▇▇▇▇█▇███████████████████</td></tr></table><br/></div><div class=\"wandb-col\"><h3>Run summary:</h3><br/><table class=\"wandb\"><tr><td>epoch</td><td>39</td></tr><tr><td>lr</td><td>0.00015</td></tr><tr><td>test_accuracy</td><td>0.86138</td></tr><tr><td>test_auc_score</td><td>0.94035</td></tr><tr><td>test_f1_score</td><td>0.61739</td></tr><tr><td>test_fpr</td><td>0.14108</td></tr><tr><td>test_loss</td><td>0.4511</td></tr><tr><td>test_tpr</td><td>0.93354</td></tr><tr><td>train_accuracy</td><td>0.97663</td></tr><tr><td>train_auc_score</td><td>0.97431</td></tr><tr><td>train_f1_score</td><td>0.97497</td></tr><tr><td>train_fpr</td><td>0.0114</td></tr><tr><td>train_loss</td><td>0.33702</td></tr><tr><td>train_tpr</td><td>0.95686</td></tr></table><br/></div></div>"
      ],
      "text/plain": [
       "<IPython.core.display.HTML object>"
      ]
     },
     "metadata": {},
     "output_type": "display_data"
    },
    {
     "data": {
      "text/html": [
       " View run <strong style=\"color:#cdcd00\">EM_CrossEntropyLoss()_ROS-0.6</strong> at: <a href='https://wandb.ai/dmitrii_fomin_uga/Internship_project/runs/mfyla8m4' target=\"_blank\">https://wandb.ai/dmitrii_fomin_uga/Internship_project/runs/mfyla8m4</a><br/>Synced 5 W&B file(s), 0 media file(s), 0 artifact file(s) and 0 other file(s)"
      ],
      "text/plain": [
       "<IPython.core.display.HTML object>"
      ]
     },
     "metadata": {},
     "output_type": "display_data"
    },
    {
     "data": {
      "text/html": [
       "Find logs at: <code>../logs/wandb\\run-20230705_095036-mfyla8m4\\logs</code>"
      ],
      "text/plain": [
       "<IPython.core.display.HTML object>"
      ]
     },
     "metadata": {},
     "output_type": "display_data"
    },
    {
     "data": {
      "text/html": [
       "Tracking run with wandb version 0.15.4"
      ],
      "text/plain": [
       "<IPython.core.display.HTML object>"
      ]
     },
     "metadata": {},
     "output_type": "display_data"
    },
    {
     "data": {
      "text/html": [
       "Run data is saved locally in <code>../logs/wandb\\run-20230705_095054-pj4qqtke</code>"
      ],
      "text/plain": [
       "<IPython.core.display.HTML object>"
      ]
     },
     "metadata": {},
     "output_type": "display_data"
    },
    {
     "data": {
      "text/html": [
       "Syncing run <strong><a href='https://wandb.ai/dmitrii_fomin_uga/Internship_project/runs/pj4qqtke' target=\"_blank\">EM_CrossEntropyLoss()_ROS-0.7</a></strong> to <a href='https://wandb.ai/dmitrii_fomin_uga/Internship_project' target=\"_blank\">Weights & Biases</a> (<a href='https://wandb.me/run' target=\"_blank\">docs</a>)<br/>"
      ],
      "text/plain": [
       "<IPython.core.display.HTML object>"
      ]
     },
     "metadata": {},
     "output_type": "display_data"
    },
    {
     "data": {
      "text/html": [
       " View project at <a href='https://wandb.ai/dmitrii_fomin_uga/Internship_project' target=\"_blank\">https://wandb.ai/dmitrii_fomin_uga/Internship_project</a>"
      ],
      "text/plain": [
       "<IPython.core.display.HTML object>"
      ]
     },
     "metadata": {},
     "output_type": "display_data"
    },
    {
     "data": {
      "text/html": [
       " View run at <a href='https://wandb.ai/dmitrii_fomin_uga/Internship_project/runs/pj4qqtke' target=\"_blank\">https://wandb.ai/dmitrii_fomin_uga/Internship_project/runs/pj4qqtke</a>"
      ],
      "text/plain": [
       "<IPython.core.display.HTML object>"
      ]
     },
     "metadata": {},
     "output_type": "display_data"
    },
    {
     "data": {
      "text/html": [
       "Waiting for W&B process to finish... <strong style=\"color:green\">(success).</strong>"
      ],
      "text/plain": [
       "<IPython.core.display.HTML object>"
      ]
     },
     "metadata": {},
     "output_type": "display_data"
    },
    {
     "data": {
      "text/html": [
       "<style>\n",
       "    table.wandb td:nth-child(1) { padding: 0 10px; text-align: left ; width: auto;} td:nth-child(2) {text-align: left ; width: 100%}\n",
       "    .wandb-row { display: flex; flex-direction: row; flex-wrap: wrap; justify-content: flex-start; width: 100% }\n",
       "    .wandb-col { display: flex; flex-direction: column; flex-basis: 100%; flex: 1; padding: 10px; }\n",
       "    </style>\n",
       "<div class=\"wandb-row\"><div class=\"wandb-col\"><h3>Run history:</h3><br/><table class=\"wandb\"><tr><td>epoch</td><td>▁▁▁▂▂▂▂▂▂▃▃▃▃▃▄▄▄▄▄▄▅▅▅▅▅▅▆▆▆▆▆▇▇▇▇▇▇███</td></tr><tr><td>lr</td><td>█▇▇▆▆▅▅▄▄▄▃▃▃▃▃▂▂▂▂▂▂▂▂▂▁▁▁▁▁▁▁▁▁▁▁▁▁▁▁▁</td></tr><tr><td>test_accuracy</td><td>▁▄▅▅▆▆▆▆▇▆▇▇█▇▇▇▇█▇▇▇██▇████████████████</td></tr><tr><td>test_auc_score</td><td>▁▅▆▆▅▄▆▄▅▇▆▇▆▆▇▇█▇▇▆▇▇▇▇▇▇███▇▇▇▇▇▇████▇</td></tr><tr><td>test_f1_score</td><td>▁▄▄▅▅▆▆▅▆▆▇▇█▇▇▇▇▇▇▆▇██▇████▇███████████</td></tr><tr><td>test_fpr</td><td>█▅▄▄▃▃▃▄▂▃▂▂▁▂▂▂▂▁▂▂▂▁▁▂▁▁▁▁▁▁▁▁▁▁▁▁▁▁▁▁</td></tr><tr><td>test_loss</td><td>█▅▅▄▄▃▃▄▃▃▂▂▁▂▂▂▂▁▂▂▂▁▁▂▁▁▁▁▂▁▁▁▁▁▁▁▁▁▁▁</td></tr><tr><td>test_tpr</td><td>▆▆▆▇█▄▆█▆▆▄▄▆▆▇▆█▄▆▃███▄▄▄▄▆▄▂▂▂▅▂▂▂▂▂▂▁</td></tr><tr><td>train_accuracy</td><td>▁▅▅▆▆▆▆▆▆▆▇▇▇▇▇▇▇▇▇▇████████████████████</td></tr><tr><td>train_auc_score</td><td>▁▆▇▇█▇▇▇▇▇████████▇▇████████████████████</td></tr><tr><td>train_f1_score</td><td>▁▅▅▆▆▆▆▆▆▆▇▇▇▇▇▇▇▇▇▇████████████████████</td></tr><tr><td>train_fpr</td><td>█▄▄▃▃▃▃▃▃▃▂▂▂▂▂▂▂▂▂▂▂▁▁▁▁▁▁▁▁▁▁▁▁▁▁▁▁▁▁▁</td></tr><tr><td>train_loss</td><td>█▄▄▃▃▃▂▃▃▂▂▂▂▂▂▂▂▂▂▂▁▁▁▁▁▁▁▁▁▁▁▁▁▁▁▁▁▁▁▁</td></tr><tr><td>train_tpr</td><td>▁▅▅▆▇▆▇▆▆▆▇▇▇▇▇▇▇█▇██▇▇███▇█████████████</td></tr></table><br/></div><div class=\"wandb-col\"><h3>Run summary:</h3><br/><table class=\"wandb\"><tr><td>epoch</td><td>39</td></tr><tr><td>lr</td><td>0.00015</td></tr><tr><td>test_accuracy</td><td>0.81453</td></tr><tr><td>test_auc_score</td><td>0.9624</td></tr><tr><td>test_f1_score</td><td>0.57629</td></tr><tr><td>test_fpr</td><td>0.19055</td></tr><tr><td>test_loss</td><td>0.49481</td></tr><tr><td>test_tpr</td><td>0.95442</td></tr><tr><td>train_accuracy</td><td>0.97281</td></tr><tr><td>train_auc_score</td><td>0.98046</td></tr><tr><td>train_f1_score</td><td>0.97184</td></tr><tr><td>train_fpr</td><td>0.0191</td></tr><tr><td>train_loss</td><td>0.34047</td></tr><tr><td>train_tpr</td><td>0.96157</td></tr></table><br/></div></div>"
      ],
      "text/plain": [
       "<IPython.core.display.HTML object>"
      ]
     },
     "metadata": {},
     "output_type": "display_data"
    },
    {
     "data": {
      "text/html": [
       " View run <strong style=\"color:#cdcd00\">EM_CrossEntropyLoss()_ROS-0.7</strong> at: <a href='https://wandb.ai/dmitrii_fomin_uga/Internship_project/runs/pj4qqtke' target=\"_blank\">https://wandb.ai/dmitrii_fomin_uga/Internship_project/runs/pj4qqtke</a><br/>Synced 5 W&B file(s), 0 media file(s), 0 artifact file(s) and 0 other file(s)"
      ],
      "text/plain": [
       "<IPython.core.display.HTML object>"
      ]
     },
     "metadata": {},
     "output_type": "display_data"
    },
    {
     "data": {
      "text/html": [
       "Find logs at: <code>../logs/wandb\\run-20230705_095054-pj4qqtke\\logs</code>"
      ],
      "text/plain": [
       "<IPython.core.display.HTML object>"
      ]
     },
     "metadata": {},
     "output_type": "display_data"
    },
    {
     "data": {
      "text/html": [
       "Tracking run with wandb version 0.15.4"
      ],
      "text/plain": [
       "<IPython.core.display.HTML object>"
      ]
     },
     "metadata": {},
     "output_type": "display_data"
    },
    {
     "data": {
      "text/html": [
       "Run data is saved locally in <code>../logs/wandb\\run-20230705_095112-28bpta51</code>"
      ],
      "text/plain": [
       "<IPython.core.display.HTML object>"
      ]
     },
     "metadata": {},
     "output_type": "display_data"
    },
    {
     "data": {
      "text/html": [
       "Syncing run <strong><a href='https://wandb.ai/dmitrii_fomin_uga/Internship_project/runs/28bpta51' target=\"_blank\">EM_CrossEntropyLoss()_ROS-0.8</a></strong> to <a href='https://wandb.ai/dmitrii_fomin_uga/Internship_project' target=\"_blank\">Weights & Biases</a> (<a href='https://wandb.me/run' target=\"_blank\">docs</a>)<br/>"
      ],
      "text/plain": [
       "<IPython.core.display.HTML object>"
      ]
     },
     "metadata": {},
     "output_type": "display_data"
    },
    {
     "data": {
      "text/html": [
       " View project at <a href='https://wandb.ai/dmitrii_fomin_uga/Internship_project' target=\"_blank\">https://wandb.ai/dmitrii_fomin_uga/Internship_project</a>"
      ],
      "text/plain": [
       "<IPython.core.display.HTML object>"
      ]
     },
     "metadata": {},
     "output_type": "display_data"
    },
    {
     "data": {
      "text/html": [
       " View run at <a href='https://wandb.ai/dmitrii_fomin_uga/Internship_project/runs/28bpta51' target=\"_blank\">https://wandb.ai/dmitrii_fomin_uga/Internship_project/runs/28bpta51</a>"
      ],
      "text/plain": [
       "<IPython.core.display.HTML object>"
      ]
     },
     "metadata": {},
     "output_type": "display_data"
    },
    {
     "data": {
      "text/html": [
       "Waiting for W&B process to finish... <strong style=\"color:green\">(success).</strong>"
      ],
      "text/plain": [
       "<IPython.core.display.HTML object>"
      ]
     },
     "metadata": {},
     "output_type": "display_data"
    },
    {
     "data": {
      "text/html": [
       "<style>\n",
       "    table.wandb td:nth-child(1) { padding: 0 10px; text-align: left ; width: auto;} td:nth-child(2) {text-align: left ; width: 100%}\n",
       "    .wandb-row { display: flex; flex-direction: row; flex-wrap: wrap; justify-content: flex-start; width: 100% }\n",
       "    .wandb-col { display: flex; flex-direction: column; flex-basis: 100%; flex: 1; padding: 10px; }\n",
       "    </style>\n",
       "<div class=\"wandb-row\"><div class=\"wandb-col\"><h3>Run history:</h3><br/><table class=\"wandb\"><tr><td>epoch</td><td>▁▁▁▂▂▂▂▂▂▃▃▃▃▃▄▄▄▄▄▄▅▅▅▅▅▅▆▆▆▆▆▇▇▇▇▇▇███</td></tr><tr><td>lr</td><td>█▇▇▆▆▅▅▄▄▄▃▃▃▃▃▂▂▂▂▂▂▂▂▂▁▁▁▁▁▁▁▁▁▁▁▁▁▁▁▁</td></tr><tr><td>test_accuracy</td><td>▁▂▃▁▃▃▄▄▅▅▆▆▇▆▇▇▆▆▆▇▇▇▇▇▇▇▇▇█▇██████████</td></tr><tr><td>test_auc_score</td><td>▄▂▂▁▃▃▅▅▅▆▇▇█▇▇▇▇▇▇█▇█▇█▇▇▇▇▇█▇▇████████</td></tr><tr><td>test_f1_score</td><td>▁▂▃▂▃▃▄▄▅▅▆▆▇▅▆▇▅▆▆▇▇▇▆▇▆▇▇▇▇▇▇█▇███████</td></tr><tr><td>test_fpr</td><td>█▇▆█▆▆▅▅▄▄▃▃▂▃▂▂▃▃▃▂▂▂▂▂▂▂▂▂▁▂▁▁▁▁▁▁▁▁▁▁</td></tr><tr><td>test_loss</td><td>▇█▇█▇▆▅▅▄▄▃▃▂▃▃▂▄▃▃▂▂▂▂▂▂▂▂▂▁▂▁▁▁▁▁▁▁▁▁▁</td></tr><tr><td>test_tpr</td><td>▁▃▅█▃▃▅█▄▅▄▆▆███▂▆▄▄▅▆▄▆▆▆█▇▅▇▅▄▆▅█▇▆▆▄▄</td></tr><tr><td>train_accuracy</td><td>▁▅▆▅▆▆▆▆▆▇▇▇▇▇▇▇▇▇▇█████▇▇██████████████</td></tr><tr><td>train_auc_score</td><td>▁▇▇▇▇▇▇▇▇██▇▇▇██████████████████████████</td></tr><tr><td>train_f1_score</td><td>▁▅▆▅▆▆▆▆▆▇▇▇▇▇▇▇▇▇▇█████▇▇██████████████</td></tr><tr><td>train_fpr</td><td>█▄▃▄▄▃▃▃▃▂▂▂▂▂▂▂▂▂▂▂▂▁▂▂▂▂▁▁▁▁▁▁▁▁▁▁▁▁▁▁</td></tr><tr><td>train_loss</td><td>█▄▃▃▃▃▃▃▃▂▂▂▂▂▂▂▂▂▂▁▁▁▁▁▂▂▁▁▁▁▁▁▁▁▁▁▁▁▁▁</td></tr><tr><td>train_tpr</td><td>▁▅▆▆▇▅▇▆▇██▇▇▇▇▇█▇██████████████████████</td></tr></table><br/></div><div class=\"wandb-col\"><h3>Run summary:</h3><br/><table class=\"wandb\"><tr><td>epoch</td><td>39</td></tr><tr><td>lr</td><td>0.00015</td></tr><tr><td>test_accuracy</td><td>0.80725</td></tr><tr><td>test_auc_score</td><td>0.95998</td></tr><tr><td>test_f1_score</td><td>0.57266</td></tr><tr><td>test_fpr</td><td>0.1985</td></tr><tr><td>test_loss</td><td>0.503</td></tr><tr><td>test_tpr</td><td>0.9717</td></tr><tr><td>train_accuracy</td><td>0.97729</td></tr><tr><td>train_auc_score</td><td>0.97989</td></tr><tr><td>train_f1_score</td><td>0.977</td></tr><tr><td>train_fpr</td><td>0.01996</td></tr><tr><td>train_loss</td><td>0.33627</td></tr><tr><td>train_tpr</td><td>0.97391</td></tr></table><br/></div></div>"
      ],
      "text/plain": [
       "<IPython.core.display.HTML object>"
      ]
     },
     "metadata": {},
     "output_type": "display_data"
    },
    {
     "data": {
      "text/html": [
       " View run <strong style=\"color:#cdcd00\">EM_CrossEntropyLoss()_ROS-0.8</strong> at: <a href='https://wandb.ai/dmitrii_fomin_uga/Internship_project/runs/28bpta51' target=\"_blank\">https://wandb.ai/dmitrii_fomin_uga/Internship_project/runs/28bpta51</a><br/>Synced 5 W&B file(s), 0 media file(s), 0 artifact file(s) and 0 other file(s)"
      ],
      "text/plain": [
       "<IPython.core.display.HTML object>"
      ]
     },
     "metadata": {},
     "output_type": "display_data"
    },
    {
     "data": {
      "text/html": [
       "Find logs at: <code>../logs/wandb\\run-20230705_095112-28bpta51\\logs</code>"
      ],
      "text/plain": [
       "<IPython.core.display.HTML object>"
      ]
     },
     "metadata": {},
     "output_type": "display_data"
    },
    {
     "data": {
      "text/html": [
       "Tracking run with wandb version 0.15.4"
      ],
      "text/plain": [
       "<IPython.core.display.HTML object>"
      ]
     },
     "metadata": {},
     "output_type": "display_data"
    },
    {
     "data": {
      "text/html": [
       "Run data is saved locally in <code>../logs/wandb\\run-20230705_095130-kcwfm5yj</code>"
      ],
      "text/plain": [
       "<IPython.core.display.HTML object>"
      ]
     },
     "metadata": {},
     "output_type": "display_data"
    },
    {
     "data": {
      "text/html": [
       "Syncing run <strong><a href='https://wandb.ai/dmitrii_fomin_uga/Internship_project/runs/kcwfm5yj' target=\"_blank\">EM_CrossEntropyLoss()_ROS-0.9</a></strong> to <a href='https://wandb.ai/dmitrii_fomin_uga/Internship_project' target=\"_blank\">Weights & Biases</a> (<a href='https://wandb.me/run' target=\"_blank\">docs</a>)<br/>"
      ],
      "text/plain": [
       "<IPython.core.display.HTML object>"
      ]
     },
     "metadata": {},
     "output_type": "display_data"
    },
    {
     "data": {
      "text/html": [
       " View project at <a href='https://wandb.ai/dmitrii_fomin_uga/Internship_project' target=\"_blank\">https://wandb.ai/dmitrii_fomin_uga/Internship_project</a>"
      ],
      "text/plain": [
       "<IPython.core.display.HTML object>"
      ]
     },
     "metadata": {},
     "output_type": "display_data"
    },
    {
     "data": {
      "text/html": [
       " View run at <a href='https://wandb.ai/dmitrii_fomin_uga/Internship_project/runs/kcwfm5yj' target=\"_blank\">https://wandb.ai/dmitrii_fomin_uga/Internship_project/runs/kcwfm5yj</a>"
      ],
      "text/plain": [
       "<IPython.core.display.HTML object>"
      ]
     },
     "metadata": {},
     "output_type": "display_data"
    },
    {
     "data": {
      "text/html": [
       "Waiting for W&B process to finish... <strong style=\"color:green\">(success).</strong>"
      ],
      "text/plain": [
       "<IPython.core.display.HTML object>"
      ]
     },
     "metadata": {},
     "output_type": "display_data"
    },
    {
     "data": {
      "text/html": [
       "<style>\n",
       "    table.wandb td:nth-child(1) { padding: 0 10px; text-align: left ; width: auto;} td:nth-child(2) {text-align: left ; width: 100%}\n",
       "    .wandb-row { display: flex; flex-direction: row; flex-wrap: wrap; justify-content: flex-start; width: 100% }\n",
       "    .wandb-col { display: flex; flex-direction: column; flex-basis: 100%; flex: 1; padding: 10px; }\n",
       "    </style>\n",
       "<div class=\"wandb-row\"><div class=\"wandb-col\"><h3>Run history:</h3><br/><table class=\"wandb\"><tr><td>epoch</td><td>▁▁▁▂▂▂▂▂▂▃▃▃▃▃▄▄▄▄▄▄▅▅▅▅▅▅▆▆▆▆▆▇▇▇▇▇▇███</td></tr><tr><td>lr</td><td>█▇▇▆▆▅▅▄▄▄▃▃▃▃▃▂▂▂▂▂▂▂▂▂▁▁▁▁▁▁▁▁▁▁▁▁▁▁▁▁</td></tr><tr><td>test_accuracy</td><td>▁▁▃▄▄▄▅▅▅▆▆▅▆▆▆▆▇▇▇▇▇▇▇▇▇▇▇▇████████████</td></tr><tr><td>test_auc_score</td><td>▂▁▁▅▄▄▄▆▆▆▇▆▆▇▇▆▆██▇▆▇██▇▇█████▇██████▇▇</td></tr><tr><td>test_f1_score</td><td>▁▁▃▃▃▃▅▅▅▅▅▄▅▅▆▆▆▆▇▇▆▇▇▇▇▇▇▇████████████</td></tr><tr><td>test_fpr</td><td>██▆▅▅▅▄▄▄▃▃▄▃▃▃▃▂▂▂▂▂▂▂▂▂▂▂▂▁▁▁▁▁▁▁▁▁▁▁▁</td></tr><tr><td>test_loss</td><td>▇█▆▅▅▆▄▄▄▃▃▄▃▄▃▃▂▂▂▂▂▂▂▂▂▂▂▂▁▁▁▁▁▁▁▁▁▁▁▁</td></tr><tr><td>test_tpr</td><td>▁▄▅███▇▅█▅▇▄▅▇▆▆▅▆▆▅▅▅▆▆▄▇▅▆▆▆▅▅▆▆▅▅▆▅▆▅</td></tr><tr><td>train_accuracy</td><td>▁▅▆▆▆▆▆▆▆▇▇▇▇▇▇▇▇▇▇▇▇▇██████████████████</td></tr><tr><td>train_auc_score</td><td>▁▇▇▇▇▇▇▇▇▇▇▇▇▇██▇▇█▇▇███████████████████</td></tr><tr><td>train_f1_score</td><td>▁▅▆▆▆▆▆▆▆▇▇▇▇▇▇▇▇▇▇▇▇▇██████████████████</td></tr><tr><td>train_fpr</td><td>█▄▃▃▃▄▃▃▃▂▂▂▃▃▂▂▂▂▂▂▂▂▂▁▁▂▂▁▁▁▁▁▁▁▁▁▁▁▁▁</td></tr><tr><td>train_loss</td><td>█▄▃▃▃▃▃▃▂▂▂▂▂▂▂▂▂▂▂▂▂▂▁▁▁▁▁▁▁▁▁▁▁▁▁▁▁▁▁▁</td></tr><tr><td>train_tpr</td><td>▁▅▆▇▆▆▇▇▇▇▇▇█▇██▇█▇▇████████████████████</td></tr></table><br/></div><div class=\"wandb-col\"><h3>Run summary:</h3><br/><table class=\"wandb\"><tr><td>epoch</td><td>39</td></tr><tr><td>lr</td><td>0.00015</td></tr><tr><td>test_accuracy</td><td>0.78792</td></tr><tr><td>test_auc_score</td><td>0.9594</td></tr><tr><td>test_f1_score</td><td>0.55791</td></tr><tr><td>test_fpr</td><td>0.21891</td></tr><tr><td>test_loss</td><td>0.52234</td></tr><tr><td>test_tpr</td><td>0.97932</td></tr><tr><td>train_accuracy</td><td>0.97623</td></tr><tr><td>train_auc_score</td><td>0.98376</td></tr><tr><td>train_f1_score</td><td>0.97614</td></tr><tr><td>train_fpr</td><td>0.02076</td></tr><tr><td>train_loss</td><td>0.33721</td></tr><tr><td>train_tpr</td><td>0.97301</td></tr></table><br/></div></div>"
      ],
      "text/plain": [
       "<IPython.core.display.HTML object>"
      ]
     },
     "metadata": {},
     "output_type": "display_data"
    },
    {
     "data": {
      "text/html": [
       " View run <strong style=\"color:#cdcd00\">EM_CrossEntropyLoss()_ROS-0.9</strong> at: <a href='https://wandb.ai/dmitrii_fomin_uga/Internship_project/runs/kcwfm5yj' target=\"_blank\">https://wandb.ai/dmitrii_fomin_uga/Internship_project/runs/kcwfm5yj</a><br/>Synced 5 W&B file(s), 0 media file(s), 0 artifact file(s) and 0 other file(s)"
      ],
      "text/plain": [
       "<IPython.core.display.HTML object>"
      ]
     },
     "metadata": {},
     "output_type": "display_data"
    },
    {
     "data": {
      "text/html": [
       "Find logs at: <code>../logs/wandb\\run-20230705_095130-kcwfm5yj\\logs</code>"
      ],
      "text/plain": [
       "<IPython.core.display.HTML object>"
      ]
     },
     "metadata": {},
     "output_type": "display_data"
    },
    {
     "data": {
      "text/html": [
       "Tracking run with wandb version 0.15.4"
      ],
      "text/plain": [
       "<IPython.core.display.HTML object>"
      ]
     },
     "metadata": {},
     "output_type": "display_data"
    },
    {
     "data": {
      "text/html": [
       "Run data is saved locally in <code>../logs/wandb\\run-20230705_095149-3tha8bba</code>"
      ],
      "text/plain": [
       "<IPython.core.display.HTML object>"
      ]
     },
     "metadata": {},
     "output_type": "display_data"
    },
    {
     "data": {
      "text/html": [
       "Syncing run <strong><a href='https://wandb.ai/dmitrii_fomin_uga/Internship_project/runs/3tha8bba' target=\"_blank\">EM_CrossEntropyLoss()_ROS-1</a></strong> to <a href='https://wandb.ai/dmitrii_fomin_uga/Internship_project' target=\"_blank\">Weights & Biases</a> (<a href='https://wandb.me/run' target=\"_blank\">docs</a>)<br/>"
      ],
      "text/plain": [
       "<IPython.core.display.HTML object>"
      ]
     },
     "metadata": {},
     "output_type": "display_data"
    },
    {
     "data": {
      "text/html": [
       " View project at <a href='https://wandb.ai/dmitrii_fomin_uga/Internship_project' target=\"_blank\">https://wandb.ai/dmitrii_fomin_uga/Internship_project</a>"
      ],
      "text/plain": [
       "<IPython.core.display.HTML object>"
      ]
     },
     "metadata": {},
     "output_type": "display_data"
    },
    {
     "data": {
      "text/html": [
       " View run at <a href='https://wandb.ai/dmitrii_fomin_uga/Internship_project/runs/3tha8bba' target=\"_blank\">https://wandb.ai/dmitrii_fomin_uga/Internship_project/runs/3tha8bba</a>"
      ],
      "text/plain": [
       "<IPython.core.display.HTML object>"
      ]
     },
     "metadata": {},
     "output_type": "display_data"
    },
    {
     "data": {
      "text/html": [
       "Waiting for W&B process to finish... <strong style=\"color:green\">(success).</strong>"
      ],
      "text/plain": [
       "<IPython.core.display.HTML object>"
      ]
     },
     "metadata": {},
     "output_type": "display_data"
    },
    {
     "data": {
      "text/html": [
       "<style>\n",
       "    table.wandb td:nth-child(1) { padding: 0 10px; text-align: left ; width: auto;} td:nth-child(2) {text-align: left ; width: 100%}\n",
       "    .wandb-row { display: flex; flex-direction: row; flex-wrap: wrap; justify-content: flex-start; width: 100% }\n",
       "    .wandb-col { display: flex; flex-direction: column; flex-basis: 100%; flex: 1; padding: 10px; }\n",
       "    </style>\n",
       "<div class=\"wandb-row\"><div class=\"wandb-col\"><h3>Run history:</h3><br/><table class=\"wandb\"><tr><td>epoch</td><td>▁▁▁▂▂▂▂▂▂▃▃▃▃▃▄▄▄▄▄▄▅▅▅▅▅▅▆▆▆▆▆▇▇▇▇▇▇███</td></tr><tr><td>lr</td><td>█▇▇▆▆▅▅▄▄▄▃▃▃▃▃▂▂▂▂▂▂▂▂▂▁▁▁▁▁▁▁▁▁▁▁▁▁▁▁▁</td></tr><tr><td>test_accuracy</td><td>▁▁▃▃▃▃▄▅▄▅▅▆▇▆▇▆▆▆▆▆▇▇▇▇▇▇▇▇████████████</td></tr><tr><td>test_auc_score</td><td>▆▁▄▇▆▆▇█▆▅▆▆▇▇▇▆▇▇▇▇▇▆▇▆▆▇▇████▇████████</td></tr><tr><td>test_f1_score</td><td>▁▂▃▃▃▃▄▅▄▅▅▅▆▆▆▆▆▆▆▆▇▇▇▇▇▇▇▇████████████</td></tr><tr><td>test_fpr</td><td>██▆▆▆▆▅▄▅▄▄▃▂▃▂▃▃▃▃▃▂▂▂▂▂▂▂▂▁▁▁▁▁▁▁▁▁▁▁▁</td></tr><tr><td>test_loss</td><td>▇█▇▆▇▆▅▄▅▄▄▄▃▃▃▃▃▃▃▃▂▂▂▂▂▂▂▂▁▁▁▁▁▁▁▁▁▁▁▁</td></tr><tr><td>test_tpr</td><td>▅█▆▆▁▆▅▆▆▇▇▆▆▆▆▆▆▆▆▇▆▆▆▆▆▄▄▄▆▅▄▄▄▅▄▄▄▅▄▄</td></tr><tr><td>train_accuracy</td><td>▁▅▅▅▅▅▆▆▆▆▇▇▇▇▇▇▇▇▇▇▇▇▇▇▇███████████████</td></tr><tr><td>train_auc_score</td><td>▁▆▆▇▆▆▇▇▇▇▇█▇▇▇▇▇▇██████████████████████</td></tr><tr><td>train_f1_score</td><td>▁▅▅▅▅▅▆▆▆▆▇▇▇▇▇▇▇▇▇▇▇▇▇▇▇███████████████</td></tr><tr><td>train_fpr</td><td>█▅▄▄▄▄▄▃▃▃▃▃▂▂▃▃▃▂▂▂▂▂▂▂▂▂▂▂▁▁▁▁▁▁▁▁▁▁▁▁</td></tr><tr><td>train_loss</td><td>█▄▄▃▃▄▃▃▂▂▂▂▂▂▂▂▂▂▂▂▂▂▂▁▂▁▁▁▁▁▁▁▁▁▁▁▁▁▁▁</td></tr><tr><td>train_tpr</td><td>▁▅▅▆▅▅▆▇▇▇▇▇▇▇▇▇█▇▇▇▇▇▇▇██▇███▇█████████</td></tr></table><br/></div><div class=\"wandb-col\"><h3>Run summary:</h3><br/><table class=\"wandb\"><tr><td>epoch</td><td>39</td></tr><tr><td>lr</td><td>0.00015</td></tr><tr><td>test_accuracy</td><td>0.76697</td></tr><tr><td>test_auc_score</td><td>0.95964</td></tr><tr><td>test_f1_score</td><td>0.54297</td></tr><tr><td>test_fpr</td><td>0.24054</td></tr><tr><td>test_loss</td><td>0.54363</td></tr><tr><td>test_tpr</td><td>0.98038</td></tr><tr><td>train_accuracy</td><td>0.97496</td></tr><tr><td>train_auc_score</td><td>0.98116</td></tr><tr><td>train_f1_score</td><td>0.97493</td></tr><tr><td>train_fpr</td><td>0.02135</td></tr><tr><td>train_loss</td><td>0.33871</td></tr><tr><td>train_tpr</td><td>0.97129</td></tr></table><br/></div></div>"
      ],
      "text/plain": [
       "<IPython.core.display.HTML object>"
      ]
     },
     "metadata": {},
     "output_type": "display_data"
    },
    {
     "data": {
      "text/html": [
       " View run <strong style=\"color:#cdcd00\">EM_CrossEntropyLoss()_ROS-1</strong> at: <a href='https://wandb.ai/dmitrii_fomin_uga/Internship_project/runs/3tha8bba' target=\"_blank\">https://wandb.ai/dmitrii_fomin_uga/Internship_project/runs/3tha8bba</a><br/>Synced 5 W&B file(s), 0 media file(s), 0 artifact file(s) and 0 other file(s)"
      ],
      "text/plain": [
       "<IPython.core.display.HTML object>"
      ]
     },
     "metadata": {},
     "output_type": "display_data"
    },
    {
     "data": {
      "text/html": [
       "Find logs at: <code>../logs/wandb\\run-20230705_095149-3tha8bba\\logs</code>"
      ],
      "text/plain": [
       "<IPython.core.display.HTML object>"
      ]
     },
     "metadata": {},
     "output_type": "display_data"
    },
    {
     "data": {
      "text/html": [
       "Tracking run with wandb version 0.15.4"
      ],
      "text/plain": [
       "<IPython.core.display.HTML object>"
      ]
     },
     "metadata": {},
     "output_type": "display_data"
    },
    {
     "data": {
      "text/html": [
       "Run data is saved locally in <code>../logs/wandb\\run-20230705_095208-c06hvdoq</code>"
      ],
      "text/plain": [
       "<IPython.core.display.HTML object>"
      ]
     },
     "metadata": {},
     "output_type": "display_data"
    },
    {
     "data": {
      "text/html": [
       "Syncing run <strong><a href='https://wandb.ai/dmitrii_fomin_uga/Internship_project/runs/c06hvdoq' target=\"_blank\">EM_CrossEntropyLoss()_RUS-0.05</a></strong> to <a href='https://wandb.ai/dmitrii_fomin_uga/Internship_project' target=\"_blank\">Weights & Biases</a> (<a href='https://wandb.me/run' target=\"_blank\">docs</a>)<br/>"
      ],
      "text/plain": [
       "<IPython.core.display.HTML object>"
      ]
     },
     "metadata": {},
     "output_type": "display_data"
    },
    {
     "data": {
      "text/html": [
       " View project at <a href='https://wandb.ai/dmitrii_fomin_uga/Internship_project' target=\"_blank\">https://wandb.ai/dmitrii_fomin_uga/Internship_project</a>"
      ],
      "text/plain": [
       "<IPython.core.display.HTML object>"
      ]
     },
     "metadata": {},
     "output_type": "display_data"
    },
    {
     "data": {
      "text/html": [
       " View run at <a href='https://wandb.ai/dmitrii_fomin_uga/Internship_project/runs/c06hvdoq' target=\"_blank\">https://wandb.ai/dmitrii_fomin_uga/Internship_project/runs/c06hvdoq</a>"
      ],
      "text/plain": [
       "<IPython.core.display.HTML object>"
      ]
     },
     "metadata": {},
     "output_type": "display_data"
    },
    {
     "data": {
      "text/html": [
       "Waiting for W&B process to finish... <strong style=\"color:green\">(success).</strong>"
      ],
      "text/plain": [
       "<IPython.core.display.HTML object>"
      ]
     },
     "metadata": {},
     "output_type": "display_data"
    },
    {
     "data": {
      "text/html": [
       "<style>\n",
       "    table.wandb td:nth-child(1) { padding: 0 10px; text-align: left ; width: auto;} td:nth-child(2) {text-align: left ; width: 100%}\n",
       "    .wandb-row { display: flex; flex-direction: row; flex-wrap: wrap; justify-content: flex-start; width: 100% }\n",
       "    .wandb-col { display: flex; flex-direction: column; flex-basis: 100%; flex: 1; padding: 10px; }\n",
       "    </style>\n",
       "<div class=\"wandb-row\"><div class=\"wandb-col\"><h3>Run history:</h3><br/><table class=\"wandb\"><tr><td>epoch</td><td>▁▁▁▂▂▂▂▂▂▃▃▃▃▃▄▄▄▄▄▄▅▅▅▅▅▅▆▆▆▆▆▇▇▇▇▇▇███</td></tr><tr><td>lr</td><td>█▇▇▆▆▅▅▄▄▄▃▃▃▃▃▂▂▂▂▂▂▂▂▂▁▁▁▁▁▁▁▁▁▁▁▁▁▁▁▁</td></tr><tr><td>test_accuracy</td><td>▁▂▃▅▇▇██████████████████████████████████</td></tr><tr><td>test_auc_score</td><td>▁▆▆▅▆▆▆▇▇▇▇▇██▇▇██▇█████████████████████</td></tr><tr><td>test_f1_score</td><td>▁▂▃▄▆▇▇▇▇██▇█▇▇█████████████████████████</td></tr><tr><td>test_fpr</td><td>█▇▆▄▂▂▁▁▁▁▁▁▁▁▁▁▁▁▁▁▁▁▁▁▁▁▁▁▁▁▁▁▁▁▁▁▁▁▁▁</td></tr><tr><td>test_loss</td><td>▇█▇▅▄▃▂▂▁▁▁▁▁▁▁▁▁▁▁▁▁▁▁▁▁▁▁▁▁▁▁▁▁▁▁▁▁▁▁▁</td></tr><tr><td>test_tpr</td><td>█▇▆▅▄▄▃▃▃▂▁▂▃▃▃▃▃▃▃▃▃▃▂▃▃▃▃▃▃▃▃▄▄▄▄▃▄▄▄▄</td></tr><tr><td>train_accuracy</td><td>▁▆▇▇▇█▇▇████████████████████████████████</td></tr><tr><td>train_auc_score</td><td>▁▇▇▇▇▇▇▇█▇█████▇█▇██▇███████▇█▇█████████</td></tr><tr><td>train_f1_score</td><td>▁▅▆▆▇▇▇▇▇▇▇▇▇▇▇██▇█████████████▇████████</td></tr><tr><td>train_fpr</td><td>█▃▂▂▁▁▁▁▁▁▁▁▁▁▁▁▁▁▁▁▁▁▁▁▁▁▁▁▁▁▁▁▁▁▁▁▁▁▁▁</td></tr><tr><td>train_loss</td><td>█▅▄▃▃▂▂▂▂▂▂▁▂▁▁▁▁▁▁▁▁▁▁▁▁▁▁▁▁▁▁▁▁▁▁▁▁▁▁▁</td></tr><tr><td>train_tpr</td><td>▁▆█▅▄▄▃▄▆▄▄▅▄▆▆▇▇▅▆▆▅▇█▆▇▇▇▆▅▅▆▆▇█▇▇█▇▇▇</td></tr></table><br/></div><div class=\"wandb-col\"><h3>Run summary:</h3><br/><table class=\"wandb\"><tr><td>epoch</td><td>39</td></tr><tr><td>lr</td><td>0.00015</td></tr><tr><td>test_accuracy</td><td>0.94275</td></tr><tr><td>test_auc_score</td><td>0.93093</td></tr><tr><td>test_f1_score</td><td>0.73741</td></tr><tr><td>test_fpr</td><td>0.05448</td></tr><tr><td>test_loss</td><td>0.37342</td></tr><tr><td>test_tpr</td><td>0.85912</td></tr><tr><td>train_accuracy</td><td>0.96843</td></tr><tr><td>train_auc_score</td><td>0.95743</td></tr><tr><td>train_f1_score</td><td>0.93099</td></tr><tr><td>train_fpr</td><td>0.00861</td></tr><tr><td>train_loss</td><td>0.35482</td></tr><tr><td>train_tpr</td><td>0.83035</td></tr></table><br/></div></div>"
      ],
      "text/plain": [
       "<IPython.core.display.HTML object>"
      ]
     },
     "metadata": {},
     "output_type": "display_data"
    },
    {
     "data": {
      "text/html": [
       " View run <strong style=\"color:#cdcd00\">EM_CrossEntropyLoss()_RUS-0.05</strong> at: <a href='https://wandb.ai/dmitrii_fomin_uga/Internship_project/runs/c06hvdoq' target=\"_blank\">https://wandb.ai/dmitrii_fomin_uga/Internship_project/runs/c06hvdoq</a><br/>Synced 5 W&B file(s), 0 media file(s), 0 artifact file(s) and 0 other file(s)"
      ],
      "text/plain": [
       "<IPython.core.display.HTML object>"
      ]
     },
     "metadata": {},
     "output_type": "display_data"
    },
    {
     "data": {
      "text/html": [
       "Find logs at: <code>../logs/wandb\\run-20230705_095208-c06hvdoq\\logs</code>"
      ],
      "text/plain": [
       "<IPython.core.display.HTML object>"
      ]
     },
     "metadata": {},
     "output_type": "display_data"
    },
    {
     "data": {
      "text/html": [
       "Tracking run with wandb version 0.15.4"
      ],
      "text/plain": [
       "<IPython.core.display.HTML object>"
      ]
     },
     "metadata": {},
     "output_type": "display_data"
    },
    {
     "data": {
      "text/html": [
       "Run data is saved locally in <code>../logs/wandb\\run-20230705_095220-zz5xpr30</code>"
      ],
      "text/plain": [
       "<IPython.core.display.HTML object>"
      ]
     },
     "metadata": {},
     "output_type": "display_data"
    },
    {
     "data": {
      "text/html": [
       "Syncing run <strong><a href='https://wandb.ai/dmitrii_fomin_uga/Internship_project/runs/zz5xpr30' target=\"_blank\">EM_CrossEntropyLoss()_RUS-0.1</a></strong> to <a href='https://wandb.ai/dmitrii_fomin_uga/Internship_project' target=\"_blank\">Weights & Biases</a> (<a href='https://wandb.me/run' target=\"_blank\">docs</a>)<br/>"
      ],
      "text/plain": [
       "<IPython.core.display.HTML object>"
      ]
     },
     "metadata": {},
     "output_type": "display_data"
    },
    {
     "data": {
      "text/html": [
       " View project at <a href='https://wandb.ai/dmitrii_fomin_uga/Internship_project' target=\"_blank\">https://wandb.ai/dmitrii_fomin_uga/Internship_project</a>"
      ],
      "text/plain": [
       "<IPython.core.display.HTML object>"
      ]
     },
     "metadata": {},
     "output_type": "display_data"
    },
    {
     "data": {
      "text/html": [
       " View run at <a href='https://wandb.ai/dmitrii_fomin_uga/Internship_project/runs/zz5xpr30' target=\"_blank\">https://wandb.ai/dmitrii_fomin_uga/Internship_project/runs/zz5xpr30</a>"
      ],
      "text/plain": [
       "<IPython.core.display.HTML object>"
      ]
     },
     "metadata": {},
     "output_type": "display_data"
    },
    {
     "data": {
      "text/html": [
       "Waiting for W&B process to finish... <strong style=\"color:green\">(success).</strong>"
      ],
      "text/plain": [
       "<IPython.core.display.HTML object>"
      ]
     },
     "metadata": {},
     "output_type": "display_data"
    },
    {
     "data": {
      "text/html": [
       "<style>\n",
       "    table.wandb td:nth-child(1) { padding: 0 10px; text-align: left ; width: auto;} td:nth-child(2) {text-align: left ; width: 100%}\n",
       "    .wandb-row { display: flex; flex-direction: row; flex-wrap: wrap; justify-content: flex-start; width: 100% }\n",
       "    .wandb-col { display: flex; flex-direction: column; flex-basis: 100%; flex: 1; padding: 10px; }\n",
       "    </style>\n",
       "<div class=\"wandb-row\"><div class=\"wandb-col\"><h3>Run history:</h3><br/><table class=\"wandb\"><tr><td>epoch</td><td>▁▁▁▂▂▂▂▂▂▃▃▃▃▃▄▄▄▄▄▄▅▅▅▅▅▅▆▆▆▆▆▇▇▇▇▇▇███</td></tr><tr><td>lr</td><td>█▇▇▆▆▅▅▄▄▄▃▃▃▃▃▂▂▂▂▂▂▂▂▂▁▁▁▁▁▁▁▁▁▁▁▁▁▁▁▁</td></tr><tr><td>test_accuracy</td><td>▁▄▇▇████████████████████████████████████</td></tr><tr><td>test_auc_score</td><td>▁▂▄▃▄▃▂▄▅▆▆▆▆▅▅▅▇▆▆▇▇▇▇▇▇▇█▇█▇▇█▇█▇▆▇▇█▇</td></tr><tr><td>test_f1_score</td><td>▁▃▅▆▇▇▇▇▇▇██████▇███████████████████████</td></tr><tr><td>test_fpr</td><td>█▅▂▂▁▁▁▁▁▁▁▁▁▁▁▁▁▁▁▁▁▁▁▁▁▁▁▁▁▁▁▁▁▁▁▁▁▁▁▁</td></tr><tr><td>test_loss</td><td>█▆▃▂▂▂▁▁▁▁▁▁▁▁▁▁▁▁▁▁▁▁▁▁▁▁▁▁▁▁▁▁▁▁▁▁▁▁▁▁</td></tr><tr><td>test_tpr</td><td>█▇▅▄▃▃▃▃▂▃▃▂▂▁▃▃▃▂▄▄▃▂▄▃▃▃▃▃▄▄▄▃▄▄▄▃▃▃▄▄</td></tr><tr><td>train_accuracy</td><td>▁▇▇▇▇▇▇█████████████████████████████████</td></tr><tr><td>train_auc_score</td><td>▁▆▅▆▇▇▇▇▇▇▇▇▇▇▇▇▇█▇███▇█████████████████</td></tr><tr><td>train_f1_score</td><td>▁▅▆▆▆▇▇▇▇▇▇▇▇▇▇▇▇▇▇█▇███████████████████</td></tr><tr><td>train_fpr</td><td>█▂▁▁▁▁▁▁▁▁▁▁▁▁▁▁▁▁▁▁▁▁▁▁▁▁▁▁▁▁▁▁▁▁▁▁▁▁▁▁</td></tr><tr><td>train_loss</td><td>█▄▃▂▂▂▂▂▂▁▁▁▁▁▁▁▁▁▁▁▁▁▁▁▁▁▁▁▁▁▁▁▁▁▁▁▁▁▁▁</td></tr><tr><td>train_tpr</td><td>▄▅▁▃▄▃▅▃▃▅▆▄▆▅▅▆▆▆▆▇▆▇▇▇▇▇▇▇▇▇█████▇███▇</td></tr></table><br/></div><div class=\"wandb-col\"><h3>Run summary:</h3><br/><table class=\"wandb\"><tr><td>epoch</td><td>39</td></tr><tr><td>lr</td><td>0.00015</td></tr><tr><td>test_accuracy</td><td>0.96869</td></tr><tr><td>test_auc_score</td><td>0.92448</td></tr><tr><td>test_f1_score</td><td>0.80934</td></tr><tr><td>test_fpr</td><td>0.02588</td></tr><tr><td>test_loss</td><td>0.34621</td></tr><tr><td>test_tpr</td><td>0.81227</td></tr><tr><td>train_accuracy</td><td>0.98208</td></tr><tr><td>train_auc_score</td><td>0.94288</td></tr><tr><td>train_f1_score</td><td>0.93698</td></tr><tr><td>train_fpr</td><td>0.00458</td></tr><tr><td>train_loss</td><td>0.33593</td></tr><tr><td>train_tpr</td><td>0.83366</td></tr></table><br/></div></div>"
      ],
      "text/plain": [
       "<IPython.core.display.HTML object>"
      ]
     },
     "metadata": {},
     "output_type": "display_data"
    },
    {
     "data": {
      "text/html": [
       " View run <strong style=\"color:#cdcd00\">EM_CrossEntropyLoss()_RUS-0.1</strong> at: <a href='https://wandb.ai/dmitrii_fomin_uga/Internship_project/runs/zz5xpr30' target=\"_blank\">https://wandb.ai/dmitrii_fomin_uga/Internship_project/runs/zz5xpr30</a><br/>Synced 5 W&B file(s), 0 media file(s), 0 artifact file(s) and 0 other file(s)"
      ],
      "text/plain": [
       "<IPython.core.display.HTML object>"
      ]
     },
     "metadata": {},
     "output_type": "display_data"
    },
    {
     "data": {
      "text/html": [
       "Find logs at: <code>../logs/wandb\\run-20230705_095220-zz5xpr30\\logs</code>"
      ],
      "text/plain": [
       "<IPython.core.display.HTML object>"
      ]
     },
     "metadata": {},
     "output_type": "display_data"
    },
    {
     "data": {
      "text/html": [
       "Tracking run with wandb version 0.15.4"
      ],
      "text/plain": [
       "<IPython.core.display.HTML object>"
      ]
     },
     "metadata": {},
     "output_type": "display_data"
    },
    {
     "data": {
      "text/html": [
       "Run data is saved locally in <code>../logs/wandb\\run-20230705_095230-82ktu9ve</code>"
      ],
      "text/plain": [
       "<IPython.core.display.HTML object>"
      ]
     },
     "metadata": {},
     "output_type": "display_data"
    },
    {
     "data": {
      "text/html": [
       "Syncing run <strong><a href='https://wandb.ai/dmitrii_fomin_uga/Internship_project/runs/82ktu9ve' target=\"_blank\">EM_CrossEntropyLoss()_RUS-0.15</a></strong> to <a href='https://wandb.ai/dmitrii_fomin_uga/Internship_project' target=\"_blank\">Weights & Biases</a> (<a href='https://wandb.me/run' target=\"_blank\">docs</a>)<br/>"
      ],
      "text/plain": [
       "<IPython.core.display.HTML object>"
      ]
     },
     "metadata": {},
     "output_type": "display_data"
    },
    {
     "data": {
      "text/html": [
       " View project at <a href='https://wandb.ai/dmitrii_fomin_uga/Internship_project' target=\"_blank\">https://wandb.ai/dmitrii_fomin_uga/Internship_project</a>"
      ],
      "text/plain": [
       "<IPython.core.display.HTML object>"
      ]
     },
     "metadata": {},
     "output_type": "display_data"
    },
    {
     "data": {
      "text/html": [
       " View run at <a href='https://wandb.ai/dmitrii_fomin_uga/Internship_project/runs/82ktu9ve' target=\"_blank\">https://wandb.ai/dmitrii_fomin_uga/Internship_project/runs/82ktu9ve</a>"
      ],
      "text/plain": [
       "<IPython.core.display.HTML object>"
      ]
     },
     "metadata": {},
     "output_type": "display_data"
    },
    {
     "data": {
      "text/html": [
       "Waiting for W&B process to finish... <strong style=\"color:green\">(success).</strong>"
      ],
      "text/plain": [
       "<IPython.core.display.HTML object>"
      ]
     },
     "metadata": {},
     "output_type": "display_data"
    },
    {
     "data": {
      "text/html": [
       "<style>\n",
       "    table.wandb td:nth-child(1) { padding: 0 10px; text-align: left ; width: auto;} td:nth-child(2) {text-align: left ; width: 100%}\n",
       "    .wandb-row { display: flex; flex-direction: row; flex-wrap: wrap; justify-content: flex-start; width: 100% }\n",
       "    .wandb-col { display: flex; flex-direction: column; flex-basis: 100%; flex: 1; padding: 10px; }\n",
       "    </style>\n",
       "<div class=\"wandb-row\"><div class=\"wandb-col\"><h3>Run history:</h3><br/><table class=\"wandb\"><tr><td>epoch</td><td>▁▁▁▂▂▂▂▂▂▃▃▃▃▃▄▄▄▄▄▄▅▅▅▅▅▅▆▆▆▆▆▇▇▇▇▇▇███</td></tr><tr><td>lr</td><td>█▇▇▆▆▅▅▄▄▄▃▃▃▃▃▂▂▂▂▂▂▂▂▂▁▁▁▁▁▁▁▁▁▁▁▁▁▁▁▁</td></tr><tr><td>test_accuracy</td><td>▁▃▅█████████████████████████████████████</td></tr><tr><td>test_auc_score</td><td>▅▂▁▂▁▁▅▅▄▅▇▇██▇▆▇▇▇▆▇▅▆▄▆▆▅▆▆▆▆▆▆▆▆▆▆▅▅▆</td></tr><tr><td>test_f1_score</td><td>▁▃▄▇▇▇▇▇▇▇▇▇████████████████████████████</td></tr><tr><td>test_fpr</td><td>█▆▄▁▁▁▁▁▁▁▁▁▁▁▁▁▁▁▁▁▁▁▁▁▁▁▁▁▁▁▁▁▁▁▁▁▁▁▁▁</td></tr><tr><td>test_loss</td><td>█▆▄▂▁▁▁▁▁▁▁▁▁▁▁▁▁▁▁▁▁▁▁▁▁▁▁▁▁▁▁▁▁▁▁▁▁▁▁▁</td></tr><tr><td>test_tpr</td><td>█▇▅▄▃▃▄▃▃▁▃▂▄▄▃▃▅▄▄▄▄▂▄▄▅▅▄▄▅▅▅▅▄▅▅▅▄▄▅▅</td></tr><tr><td>train_accuracy</td><td>▁▇▇▇█▇▇█▇███████████████████████████████</td></tr><tr><td>train_auc_score</td><td>▁▆▆▇▇▆▇▇▇▇▇▇▇█████████████▇█████████████</td></tr><tr><td>train_f1_score</td><td>▁▅▆▆▇▆▆▇▇▇▇▇▇▇▇▇▇▇█▇▇▇██████████████████</td></tr><tr><td>train_fpr</td><td>█▂▁▁▁▁▁▁▁▁▁▁▁▁▁▁▁▁▁▁▁▁▁▁▁▁▁▁▁▁▁▁▁▁▁▁▁▁▁▁</td></tr><tr><td>train_loss</td><td>█▄▃▂▂▂▂▂▂▁▁▁▁▁▁▁▁▁▁▁▁▁▁▁▁▁▁▁▁▁▁▁▁▁▁▁▁▁▁▁</td></tr><tr><td>train_tpr</td><td>▅▅▂▂▂▁▂▃▃▄▃▄▄▅▅▅▅▆▆▆▅▆▆▇▆▆▆▆▇█▆▇▇▇▇█▇▇▇▇</td></tr></table><br/></div><div class=\"wandb-col\"><h3>Run summary:</h3><br/><table class=\"wandb\"><tr><td>epoch</td><td>39</td></tr><tr><td>lr</td><td>0.00015</td></tr><tr><td>test_accuracy</td><td>0.97562</td></tr><tr><td>test_auc_score</td><td>0.92896</td></tr><tr><td>test_f1_score</td><td>0.83958</td></tr><tr><td>test_fpr</td><td>0.01834</td></tr><tr><td>test_loss</td><td>0.3401</td></tr><tr><td>test_tpr</td><td>0.80982</td></tr><tr><td>train_accuracy</td><td>0.98313</td></tr><tr><td>train_auc_score</td><td>0.95273</td></tr><tr><td>train_f1_score</td><td>0.93569</td></tr><tr><td>train_fpr</td><td>0.00359</td></tr><tr><td>train_loss</td><td>0.33358</td></tr><tr><td>train_tpr</td><td>0.82274</td></tr></table><br/></div></div>"
      ],
      "text/plain": [
       "<IPython.core.display.HTML object>"
      ]
     },
     "metadata": {},
     "output_type": "display_data"
    },
    {
     "data": {
      "text/html": [
       " View run <strong style=\"color:#cdcd00\">EM_CrossEntropyLoss()_RUS-0.15</strong> at: <a href='https://wandb.ai/dmitrii_fomin_uga/Internship_project/runs/82ktu9ve' target=\"_blank\">https://wandb.ai/dmitrii_fomin_uga/Internship_project/runs/82ktu9ve</a><br/>Synced 5 W&B file(s), 0 media file(s), 0 artifact file(s) and 0 other file(s)"
      ],
      "text/plain": [
       "<IPython.core.display.HTML object>"
      ]
     },
     "metadata": {},
     "output_type": "display_data"
    },
    {
     "data": {
      "text/html": [
       "Find logs at: <code>../logs/wandb\\run-20230705_095230-82ktu9ve\\logs</code>"
      ],
      "text/plain": [
       "<IPython.core.display.HTML object>"
      ]
     },
     "metadata": {},
     "output_type": "display_data"
    },
    {
     "data": {
      "text/html": [
       "Tracking run with wandb version 0.15.4"
      ],
      "text/plain": [
       "<IPython.core.display.HTML object>"
      ]
     },
     "metadata": {},
     "output_type": "display_data"
    },
    {
     "data": {
      "text/html": [
       "Run data is saved locally in <code>../logs/wandb\\run-20230705_095243-8upmd701</code>"
      ],
      "text/plain": [
       "<IPython.core.display.HTML object>"
      ]
     },
     "metadata": {},
     "output_type": "display_data"
    },
    {
     "data": {
      "text/html": [
       "Syncing run <strong><a href='https://wandb.ai/dmitrii_fomin_uga/Internship_project/runs/8upmd701' target=\"_blank\">EM_CrossEntropyLoss()_RUS-0.2</a></strong> to <a href='https://wandb.ai/dmitrii_fomin_uga/Internship_project' target=\"_blank\">Weights & Biases</a> (<a href='https://wandb.me/run' target=\"_blank\">docs</a>)<br/>"
      ],
      "text/plain": [
       "<IPython.core.display.HTML object>"
      ]
     },
     "metadata": {},
     "output_type": "display_data"
    },
    {
     "data": {
      "text/html": [
       " View project at <a href='https://wandb.ai/dmitrii_fomin_uga/Internship_project' target=\"_blank\">https://wandb.ai/dmitrii_fomin_uga/Internship_project</a>"
      ],
      "text/plain": [
       "<IPython.core.display.HTML object>"
      ]
     },
     "metadata": {},
     "output_type": "display_data"
    },
    {
     "data": {
      "text/html": [
       " View run at <a href='https://wandb.ai/dmitrii_fomin_uga/Internship_project/runs/8upmd701' target=\"_blank\">https://wandb.ai/dmitrii_fomin_uga/Internship_project/runs/8upmd701</a>"
      ],
      "text/plain": [
       "<IPython.core.display.HTML object>"
      ]
     },
     "metadata": {},
     "output_type": "display_data"
    },
    {
     "data": {
      "text/html": [
       "Waiting for W&B process to finish... <strong style=\"color:green\">(success).</strong>"
      ],
      "text/plain": [
       "<IPython.core.display.HTML object>"
      ]
     },
     "metadata": {},
     "output_type": "display_data"
    },
    {
     "data": {
      "text/html": [
       "<style>\n",
       "    table.wandb td:nth-child(1) { padding: 0 10px; text-align: left ; width: auto;} td:nth-child(2) {text-align: left ; width: 100%}\n",
       "    .wandb-row { display: flex; flex-direction: row; flex-wrap: wrap; justify-content: flex-start; width: 100% }\n",
       "    .wandb-col { display: flex; flex-direction: column; flex-basis: 100%; flex: 1; padding: 10px; }\n",
       "    </style>\n",
       "<div class=\"wandb-row\"><div class=\"wandb-col\"><h3>Run history:</h3><br/><table class=\"wandb\"><tr><td>epoch</td><td>▁▁▁▂▂▂▂▂▂▃▃▃▃▃▄▄▄▄▄▄▅▅▅▅▅▅▆▆▆▆▆▇▇▇▇▇▇███</td></tr><tr><td>lr</td><td>█▇▇▆▆▅▅▄▄▄▃▃▃▃▃▂▂▂▂▂▂▂▂▂▁▁▁▁▁▁▁▁▁▁▁▁▁▁▁▁</td></tr><tr><td>test_accuracy</td><td>▁▄▆▇████████████████████████████████████</td></tr><tr><td>test_auc_score</td><td>▆▆▇▅▆▅▆▁▁▁▁▃▄▆▆▇▄▄▅▅▅▆▆▆▇▆▆▆▆▆▆▇█▇▆▇▇▇▇▇</td></tr><tr><td>test_f1_score</td><td>▁▃▅▆▇▇▇▇▇▇█▇█▇██████████████████████████</td></tr><tr><td>test_fpr</td><td>█▅▃▂▁▁▁▁▁▁▁▁▁▁▁▁▁▁▁▁▁▁▁▁▁▁▁▁▁▁▁▁▁▁▁▁▁▁▁▁</td></tr><tr><td>test_loss</td><td>█▅▃▂▁▁▁▁▁▁▁▁▁▁▁▁▁▁▁▁▁▁▁▁▁▁▁▁▁▁▁▁▁▁▁▁▁▁▁▁</td></tr><tr><td>test_tpr</td><td>█▇▇▅▄▃▁▂▂▃▁▁▃▂▄▃▄▃▂▄▂▃▃▃▂▄▃▄▅▃▄▄▄▄▄▃▄▄▄▃</td></tr><tr><td>train_accuracy</td><td>▁▇▇▇▇▇██████████████████████████████████</td></tr><tr><td>train_auc_score</td><td>▁▅▇▇▇▇▇▇▆▇▇▇▇▇██▇▇▇▇████████████████████</td></tr><tr><td>train_f1_score</td><td>▁▅▆▆▆▆▇▇▇▇▇▇▇▇▇▇▇▇▇▇████████████████████</td></tr><tr><td>train_fpr</td><td>█▂▁▁▁▁▁▁▁▁▁▁▁▁▁▁▁▁▁▁▁▁▁▁▁▁▁▁▁▁▁▁▁▁▁▁▁▁▁▁</td></tr><tr><td>train_loss</td><td>█▄▃▂▂▂▂▂▁▁▁▁▁▁▁▁▁▁▁▁▁▁▁▁▁▁▁▁▁▁▁▁▁▁▁▁▁▁▁▁</td></tr><tr><td>train_tpr</td><td>▄▃▂▁▁▃▃▂▄▄▅▄▅▄▅▄▆▆▆▆▇▇▇▇▇▇▇▇█▇▇▇▇█▇▇████</td></tr></table><br/></div><div class=\"wandb-col\"><h3>Run summary:</h3><br/><table class=\"wandb\"><tr><td>epoch</td><td>39</td></tr><tr><td>lr</td><td>0.00015</td></tr><tr><td>test_accuracy</td><td>0.97402</td></tr><tr><td>test_auc_score</td><td>0.92973</td></tr><tr><td>test_f1_score</td><td>0.82335</td></tr><tr><td>test_fpr</td><td>0.01783</td></tr><tr><td>test_loss</td><td>0.3408</td></tr><tr><td>test_tpr</td><td>0.74281</td></tr><tr><td>train_accuracy</td><td>0.98499</td></tr><tr><td>train_auc_score</td><td>0.96071</td></tr><tr><td>train_f1_score</td><td>0.94</td></tr><tr><td>train_fpr</td><td>0.00253</td></tr><tr><td>train_loss</td><td>0.33244</td></tr><tr><td>train_tpr</td><td>0.82623</td></tr></table><br/></div></div>"
      ],
      "text/plain": [
       "<IPython.core.display.HTML object>"
      ]
     },
     "metadata": {},
     "output_type": "display_data"
    },
    {
     "data": {
      "text/html": [
       " View run <strong style=\"color:#cdcd00\">EM_CrossEntropyLoss()_RUS-0.2</strong> at: <a href='https://wandb.ai/dmitrii_fomin_uga/Internship_project/runs/8upmd701' target=\"_blank\">https://wandb.ai/dmitrii_fomin_uga/Internship_project/runs/8upmd701</a><br/>Synced 5 W&B file(s), 0 media file(s), 0 artifact file(s) and 0 other file(s)"
      ],
      "text/plain": [
       "<IPython.core.display.HTML object>"
      ]
     },
     "metadata": {},
     "output_type": "display_data"
    },
    {
     "data": {
      "text/html": [
       "Find logs at: <code>../logs/wandb\\run-20230705_095243-8upmd701\\logs</code>"
      ],
      "text/plain": [
       "<IPython.core.display.HTML object>"
      ]
     },
     "metadata": {},
     "output_type": "display_data"
    },
    {
     "data": {
      "text/html": [
       "Tracking run with wandb version 0.15.4"
      ],
      "text/plain": [
       "<IPython.core.display.HTML object>"
      ]
     },
     "metadata": {},
     "output_type": "display_data"
    },
    {
     "data": {
      "text/html": [
       "Run data is saved locally in <code>../logs/wandb\\run-20230705_095256-xdh960iw</code>"
      ],
      "text/plain": [
       "<IPython.core.display.HTML object>"
      ]
     },
     "metadata": {},
     "output_type": "display_data"
    },
    {
     "data": {
      "text/html": [
       "Syncing run <strong><a href='https://wandb.ai/dmitrii_fomin_uga/Internship_project/runs/xdh960iw' target=\"_blank\">EM_CrossEntropyLoss()_RUS-0.25</a></strong> to <a href='https://wandb.ai/dmitrii_fomin_uga/Internship_project' target=\"_blank\">Weights & Biases</a> (<a href='https://wandb.me/run' target=\"_blank\">docs</a>)<br/>"
      ],
      "text/plain": [
       "<IPython.core.display.HTML object>"
      ]
     },
     "metadata": {},
     "output_type": "display_data"
    },
    {
     "data": {
      "text/html": [
       " View project at <a href='https://wandb.ai/dmitrii_fomin_uga/Internship_project' target=\"_blank\">https://wandb.ai/dmitrii_fomin_uga/Internship_project</a>"
      ],
      "text/plain": [
       "<IPython.core.display.HTML object>"
      ]
     },
     "metadata": {},
     "output_type": "display_data"
    },
    {
     "data": {
      "text/html": [
       " View run at <a href='https://wandb.ai/dmitrii_fomin_uga/Internship_project/runs/xdh960iw' target=\"_blank\">https://wandb.ai/dmitrii_fomin_uga/Internship_project/runs/xdh960iw</a>"
      ],
      "text/plain": [
       "<IPython.core.display.HTML object>"
      ]
     },
     "metadata": {},
     "output_type": "display_data"
    },
    {
     "data": {
      "text/html": [
       "Waiting for W&B process to finish... <strong style=\"color:green\">(success).</strong>"
      ],
      "text/plain": [
       "<IPython.core.display.HTML object>"
      ]
     },
     "metadata": {},
     "output_type": "display_data"
    },
    {
     "data": {
      "text/html": [
       "<style>\n",
       "    table.wandb td:nth-child(1) { padding: 0 10px; text-align: left ; width: auto;} td:nth-child(2) {text-align: left ; width: 100%}\n",
       "    .wandb-row { display: flex; flex-direction: row; flex-wrap: wrap; justify-content: flex-start; width: 100% }\n",
       "    .wandb-col { display: flex; flex-direction: column; flex-basis: 100%; flex: 1; padding: 10px; }\n",
       "    </style>\n",
       "<div class=\"wandb-row\"><div class=\"wandb-col\"><h3>Run history:</h3><br/><table class=\"wandb\"><tr><td>epoch</td><td>▁▁▁▂▂▂▂▂▂▃▃▃▃▃▄▄▄▄▄▄▅▅▅▅▅▅▆▆▆▆▆▇▇▇▇▇▇███</td></tr><tr><td>lr</td><td>█▇▇▆▆▅▅▄▄▄▃▃▃▃▃▂▂▂▂▂▂▂▂▂▁▁▁▁▁▁▁▁▁▁▁▁▁▁▁▁</td></tr><tr><td>test_accuracy</td><td>▁▅▇█████████████████████████████████████</td></tr><tr><td>test_auc_score</td><td>▁▄▅▅▅▆▅▅▅▅▆▆▆▆▅▆▇▆▇▆▇▇▇▇▇▇█▇▇▇█▇▇▇▇▇▇▇██</td></tr><tr><td>test_f1_score</td><td>▁▄▆▇▇▇▇▇██████▇██▇██████████████████████</td></tr><tr><td>test_fpr</td><td>█▄▂▁▁▁▁▁▁▁▁▁▁▁▁▁▁▁▁▁▁▁▁▁▁▁▁▁▁▁▁▁▁▁▁▁▁▁▁▁</td></tr><tr><td>test_loss</td><td>█▅▂▂▁▁▁▁▁▁▁▁▁▁▁▁▁▁▁▁▁▁▁▁▁▁▁▁▁▁▁▁▁▁▁▁▁▁▁▁</td></tr><tr><td>test_tpr</td><td>█▇▅▃▃▃▂▃▃▁▂▁▃▂▄▃▄▁▃▃▃▃▂▃▄▄▄▃▂▃▃▃▃▃▃▃▃▂▃▃</td></tr><tr><td>train_accuracy</td><td>▁▇▇▇▇███████████████████████████████████</td></tr><tr><td>train_auc_score</td><td>▁▆▆▇▇██▇▇██▇█▇▇██▇██████████████████████</td></tr><tr><td>train_f1_score</td><td>▁▅▆▆▆▇▇▇▇▇▇▇▇▇▇▇▇▇▇▇████████████████████</td></tr><tr><td>train_fpr</td><td>█▂▂▁▁▁▁▁▁▁▁▁▁▁▁▁▁▁▁▁▁▁▁▁▁▁▁▁▁▁▁▁▁▁▁▁▁▁▁▁</td></tr><tr><td>train_loss</td><td>█▄▃▂▂▂▂▂▁▁▁▁▁▁▁▁▁▁▁▁▁▁▁▁▁▁▁▁▁▁▁▁▁▁▁▁▁▁▁▁</td></tr><tr><td>train_tpr</td><td>▆▅▃▂▁▃▃▃▄▅▆▅▆▇▅▆▅▆▇▆▇█▇█▇███▇▇██▇█▇█████</td></tr></table><br/></div><div class=\"wandb-col\"><h3>Run summary:</h3><br/><table class=\"wandb\"><tr><td>epoch</td><td>39</td></tr><tr><td>lr</td><td>0.00015</td></tr><tr><td>test_accuracy</td><td>0.97364</td></tr><tr><td>test_auc_score</td><td>0.94907</td></tr><tr><td>test_f1_score</td><td>0.82238</td></tr><tr><td>test_fpr</td><td>0.01935</td></tr><tr><td>test_loss</td><td>0.34156</td></tr><tr><td>test_tpr</td><td>0.773</td></tr><tr><td>train_accuracy</td><td>0.98669</td></tr><tr><td>train_auc_score</td><td>0.95381</td></tr><tr><td>train_f1_score</td><td>0.94577</td></tr><tr><td>train_fpr</td><td>0.00212</td></tr><tr><td>train_loss</td><td>0.3307</td></tr><tr><td>train_tpr</td><td>0.84001</td></tr></table><br/></div></div>"
      ],
      "text/plain": [
       "<IPython.core.display.HTML object>"
      ]
     },
     "metadata": {},
     "output_type": "display_data"
    },
    {
     "data": {
      "text/html": [
       " View run <strong style=\"color:#cdcd00\">EM_CrossEntropyLoss()_RUS-0.25</strong> at: <a href='https://wandb.ai/dmitrii_fomin_uga/Internship_project/runs/xdh960iw' target=\"_blank\">https://wandb.ai/dmitrii_fomin_uga/Internship_project/runs/xdh960iw</a><br/>Synced 5 W&B file(s), 0 media file(s), 0 artifact file(s) and 0 other file(s)"
      ],
      "text/plain": [
       "<IPython.core.display.HTML object>"
      ]
     },
     "metadata": {},
     "output_type": "display_data"
    },
    {
     "data": {
      "text/html": [
       "Find logs at: <code>../logs/wandb\\run-20230705_095256-xdh960iw\\logs</code>"
      ],
      "text/plain": [
       "<IPython.core.display.HTML object>"
      ]
     },
     "metadata": {},
     "output_type": "display_data"
    },
    {
     "data": {
      "text/html": [
       "Tracking run with wandb version 0.15.4"
      ],
      "text/plain": [
       "<IPython.core.display.HTML object>"
      ]
     },
     "metadata": {},
     "output_type": "display_data"
    },
    {
     "data": {
      "text/html": [
       "Run data is saved locally in <code>../logs/wandb\\run-20230705_095309-ds2nzzhu</code>"
      ],
      "text/plain": [
       "<IPython.core.display.HTML object>"
      ]
     },
     "metadata": {},
     "output_type": "display_data"
    },
    {
     "data": {
      "text/html": [
       "Syncing run <strong><a href='https://wandb.ai/dmitrii_fomin_uga/Internship_project/runs/ds2nzzhu' target=\"_blank\">EM_CrossEntropyLoss()_RUS-0.3</a></strong> to <a href='https://wandb.ai/dmitrii_fomin_uga/Internship_project' target=\"_blank\">Weights & Biases</a> (<a href='https://wandb.me/run' target=\"_blank\">docs</a>)<br/>"
      ],
      "text/plain": [
       "<IPython.core.display.HTML object>"
      ]
     },
     "metadata": {},
     "output_type": "display_data"
    },
    {
     "data": {
      "text/html": [
       " View project at <a href='https://wandb.ai/dmitrii_fomin_uga/Internship_project' target=\"_blank\">https://wandb.ai/dmitrii_fomin_uga/Internship_project</a>"
      ],
      "text/plain": [
       "<IPython.core.display.HTML object>"
      ]
     },
     "metadata": {},
     "output_type": "display_data"
    },
    {
     "data": {
      "text/html": [
       " View run at <a href='https://wandb.ai/dmitrii_fomin_uga/Internship_project/runs/ds2nzzhu' target=\"_blank\">https://wandb.ai/dmitrii_fomin_uga/Internship_project/runs/ds2nzzhu</a>"
      ],
      "text/plain": [
       "<IPython.core.display.HTML object>"
      ]
     },
     "metadata": {},
     "output_type": "display_data"
    },
    {
     "data": {
      "text/html": [
       "Waiting for W&B process to finish... <strong style=\"color:green\">(success).</strong>"
      ],
      "text/plain": [
       "<IPython.core.display.HTML object>"
      ]
     },
     "metadata": {},
     "output_type": "display_data"
    },
    {
     "data": {
      "text/html": [
       "<style>\n",
       "    table.wandb td:nth-child(1) { padding: 0 10px; text-align: left ; width: auto;} td:nth-child(2) {text-align: left ; width: 100%}\n",
       "    .wandb-row { display: flex; flex-direction: row; flex-wrap: wrap; justify-content: flex-start; width: 100% }\n",
       "    .wandb-col { display: flex; flex-direction: column; flex-basis: 100%; flex: 1; padding: 10px; }\n",
       "    </style>\n",
       "<div class=\"wandb-row\"><div class=\"wandb-col\"><h3>Run history:</h3><br/><table class=\"wandb\"><tr><td>epoch</td><td>▁▁▁▂▂▂▂▂▂▃▃▃▃▃▄▄▄▄▄▄▅▅▅▅▅▅▆▆▆▆▆▇▇▇▇▇▇███</td></tr><tr><td>lr</td><td>█▇▇▆▆▅▅▄▄▄▃▃▃▃▃▂▂▂▂▂▂▂▂▂▁▁▁▁▁▁▁▁▁▁▁▁▁▁▁▁</td></tr><tr><td>test_accuracy</td><td>▁▆▇▇████████████████████████████████████</td></tr><tr><td>test_auc_score</td><td>▆▅▅▆▇▆▇█▆▆▁▂▅▄▁▃▅▅▅▆▅▅▆▄▃▂▅▄▄▄▄▅▄▆▅▅▄▅▄▅</td></tr><tr><td>test_f1_score</td><td>▁▅▆▆▇▇▇▇█▇█▇▇███████████████████████████</td></tr><tr><td>test_fpr</td><td>█▃▂▂▁▁▁▁▁▁▁▁▁▁▁▁▁▁▁▁▁▁▁▁▁▁▁▁▁▁▁▁▁▁▁▁▁▁▁▁</td></tr><tr><td>test_loss</td><td>█▄▂▂▁▁▁▁▁▁▁▁▁▁▁▁▁▁▁▁▁▁▁▁▁▁▁▁▁▁▁▁▁▁▁▁▁▁▁▁</td></tr><tr><td>test_tpr</td><td>█▅▃▃▄▃▄▄▃▂▂▂▃▂▂▂▃▂▂▂▂▂▂▂▁▁▂▂▁▁▁▁▂▂▂▁▁▂▁▁</td></tr><tr><td>train_accuracy</td><td>▁▇▇▇▇▇▇███▇▇████████████████████████████</td></tr><tr><td>train_auc_score</td><td>▁▇▆▇▇████▆▆▆▇▆▅▅▇▇▆▇▆▇▆▅▆▇▇▇▇▆▆▇▇▇▃▇▇▇▇▇</td></tr><tr><td>train_f1_score</td><td>▁▅▅▅▆▆▆▇▇▇▆▇█▇▆▇██▇▇██▇█▇▇▇▇▇█▇███▇▇████</td></tr><tr><td>train_fpr</td><td>█▂▂▁▁▁▁▁▁▁▁▁▁▁▁▁▁▁▁▁▁▁▁▁▁▁▁▁▁▁▁▁▁▁▁▁▁▁▁▁</td></tr><tr><td>train_loss</td><td>█▄▃▂▂▂▂▁▁▁▁▁▁▁▁▁▁▁▁▁▁▁▁▁▁▁▁▁▁▁▁▁▁▁▁▁▁▁▁▁</td></tr><tr><td>train_tpr</td><td>▆▅▁▁▄▄▅▆▇▅▃▄▇▆▄▄▇▇▆▇▇█▇▇▆▆▅▇▆▆▅▆▆█▅▆▇▇▇▇</td></tr></table><br/></div><div class=\"wandb-col\"><h3>Run summary:</h3><br/><table class=\"wandb\"><tr><td>epoch</td><td>39</td></tr><tr><td>lr</td><td>0.00015</td></tr><tr><td>test_accuracy</td><td>0.97157</td></tr><tr><td>test_auc_score</td><td>0.85061</td></tr><tr><td>test_f1_score</td><td>0.78116</td></tr><tr><td>test_fpr</td><td>0.01424</td></tr><tr><td>test_loss</td><td>0.34262</td></tr><tr><td>test_tpr</td><td>0.56596</td></tr><tr><td>train_accuracy</td><td>0.97677</td></tr><tr><td>train_auc_score</td><td>0.91644</td></tr><tr><td>train_f1_score</td><td>0.89467</td></tr><tr><td>train_fpr</td><td>0.00284</td></tr><tr><td>train_loss</td><td>0.33906</td></tr><tr><td>train_tpr</td><td>0.69545</td></tr></table><br/></div></div>"
      ],
      "text/plain": [
       "<IPython.core.display.HTML object>"
      ]
     },
     "metadata": {},
     "output_type": "display_data"
    },
    {
     "data": {
      "text/html": [
       " View run <strong style=\"color:#cdcd00\">EM_CrossEntropyLoss()_RUS-0.3</strong> at: <a href='https://wandb.ai/dmitrii_fomin_uga/Internship_project/runs/ds2nzzhu' target=\"_blank\">https://wandb.ai/dmitrii_fomin_uga/Internship_project/runs/ds2nzzhu</a><br/>Synced 5 W&B file(s), 0 media file(s), 0 artifact file(s) and 0 other file(s)"
      ],
      "text/plain": [
       "<IPython.core.display.HTML object>"
      ]
     },
     "metadata": {},
     "output_type": "display_data"
    },
    {
     "data": {
      "text/html": [
       "Find logs at: <code>../logs/wandb\\run-20230705_095309-ds2nzzhu\\logs</code>"
      ],
      "text/plain": [
       "<IPython.core.display.HTML object>"
      ]
     },
     "metadata": {},
     "output_type": "display_data"
    },
    {
     "data": {
      "text/html": [
       "Tracking run with wandb version 0.15.4"
      ],
      "text/plain": [
       "<IPython.core.display.HTML object>"
      ]
     },
     "metadata": {},
     "output_type": "display_data"
    },
    {
     "data": {
      "text/html": [
       "Run data is saved locally in <code>../logs/wandb\\run-20230705_095322-dtltcolf</code>"
      ],
      "text/plain": [
       "<IPython.core.display.HTML object>"
      ]
     },
     "metadata": {},
     "output_type": "display_data"
    },
    {
     "data": {
      "text/html": [
       "Syncing run <strong><a href='https://wandb.ai/dmitrii_fomin_uga/Internship_project/runs/dtltcolf' target=\"_blank\">EM_CrossEntropyLoss()_RUS-0.35</a></strong> to <a href='https://wandb.ai/dmitrii_fomin_uga/Internship_project' target=\"_blank\">Weights & Biases</a> (<a href='https://wandb.me/run' target=\"_blank\">docs</a>)<br/>"
      ],
      "text/plain": [
       "<IPython.core.display.HTML object>"
      ]
     },
     "metadata": {},
     "output_type": "display_data"
    },
    {
     "data": {
      "text/html": [
       " View project at <a href='https://wandb.ai/dmitrii_fomin_uga/Internship_project' target=\"_blank\">https://wandb.ai/dmitrii_fomin_uga/Internship_project</a>"
      ],
      "text/plain": [
       "<IPython.core.display.HTML object>"
      ]
     },
     "metadata": {},
     "output_type": "display_data"
    },
    {
     "data": {
      "text/html": [
       " View run at <a href='https://wandb.ai/dmitrii_fomin_uga/Internship_project/runs/dtltcolf' target=\"_blank\">https://wandb.ai/dmitrii_fomin_uga/Internship_project/runs/dtltcolf</a>"
      ],
      "text/plain": [
       "<IPython.core.display.HTML object>"
      ]
     },
     "metadata": {},
     "output_type": "display_data"
    },
    {
     "data": {
      "text/html": [
       "Waiting for W&B process to finish... <strong style=\"color:green\">(success).</strong>"
      ],
      "text/plain": [
       "<IPython.core.display.HTML object>"
      ]
     },
     "metadata": {},
     "output_type": "display_data"
    },
    {
     "data": {
      "text/html": [
       "<style>\n",
       "    table.wandb td:nth-child(1) { padding: 0 10px; text-align: left ; width: auto;} td:nth-child(2) {text-align: left ; width: 100%}\n",
       "    .wandb-row { display: flex; flex-direction: row; flex-wrap: wrap; justify-content: flex-start; width: 100% }\n",
       "    .wandb-col { display: flex; flex-direction: column; flex-basis: 100%; flex: 1; padding: 10px; }\n",
       "    </style>\n",
       "<div class=\"wandb-row\"><div class=\"wandb-col\"><h3>Run history:</h3><br/><table class=\"wandb\"><tr><td>epoch</td><td>▁▁▁▂▂▂▂▂▂▃▃▃▃▃▄▄▄▄▄▄▅▅▅▅▅▅▆▆▆▆▆▇▇▇▇▇▇███</td></tr><tr><td>lr</td><td>█▇▇▆▆▅▅▄▄▄▃▃▃▃▃▂▂▂▂▂▂▂▂▂▁▁▁▁▁▁▁▁▁▁▁▁▁▁▁▁</td></tr><tr><td>test_accuracy</td><td>▁▆▇█████████████████████████████████████</td></tr><tr><td>test_auc_score</td><td>▁▃▁▄▅▅▃▂▃▄▅▅▆▄▃▇▆▄▇█▇██▇█▇▇▇▅▄▇█▇█▇▇▇▆▆▇</td></tr><tr><td>test_f1_score</td><td>▁▄▆▇▇▇▇▇█████▇██████████████████████████</td></tr><tr><td>test_fpr</td><td>█▃▂▁▁▁▁▁▁▁▁▁▁▁▁▁▁▁▁▁▁▁▁▁▁▁▁▁▁▁▁▁▁▁▁▁▁▁▁▁</td></tr><tr><td>test_loss</td><td>█▄▂▂▁▁▁▁▁▁▁▁▁▁▁▁▁▁▁▁▁▁▁▁▁▁▁▁▁▁▁▁▁▁▁▁▁▁▁▁</td></tr><tr><td>test_tpr</td><td>█▇▅▄▄▄▃▂▃▄▄▄▄▁▃▅▄▃▄▄▄▄▅▄▄▅▅▃▄▄▄▄▄▄▄▄▄▅▄▃</td></tr><tr><td>train_accuracy</td><td>▁▆▇▇████████████████████████████████████</td></tr><tr><td>train_auc_score</td><td>▁▇▆▅▇█▆▇▇▇█▇▇▇███▇█████▇▇██▇█▇███▇▇▇████</td></tr><tr><td>train_f1_score</td><td>▁▅▆▆▆▇▇▇▇▇▇▇▇▇▇▇▇▇▇▇██▇▇████▇███████████</td></tr><tr><td>train_fpr</td><td>█▂▂▁▁▁▁▁▁▁▁▁▁▁▁▁▁▁▁▁▁▁▁▁▁▁▁▁▁▁▁▁▁▁▁▁▁▁▁▁</td></tr><tr><td>train_loss</td><td>█▄▃▂▂▂▁▁▁▁▁▁▁▁▁▁▁▁▁▁▁▁▁▁▁▁▁▁▁▁▁▁▁▁▁▁▁▁▁▁</td></tr><tr><td>train_tpr</td><td>▅▅▂▁▁▄▂▃▃▂▅▅▅▅▄▅▆▅▅▄▆▆▄▆▇▇▆▇▆▅▇▇█▆▆▇▆▇██</td></tr></table><br/></div><div class=\"wandb-col\"><h3>Run summary:</h3><br/><table class=\"wandb\"><tr><td>epoch</td><td>39</td></tr><tr><td>lr</td><td>0.00015</td></tr><tr><td>test_accuracy</td><td>0.97262</td></tr><tr><td>test_auc_score</td><td>0.95327</td></tr><tr><td>test_f1_score</td><td>0.80933</td></tr><tr><td>test_fpr</td><td>0.01899</td></tr><tr><td>test_loss</td><td>0.34082</td></tr><tr><td>test_tpr</td><td>0.71968</td></tr><tr><td>train_accuracy</td><td>0.98435</td></tr><tr><td>train_auc_score</td><td>0.94463</td></tr><tr><td>train_f1_score</td><td>0.93626</td></tr><tr><td>train_fpr</td><td>0.00415</td></tr><tr><td>train_loss</td><td>0.33196</td></tr><tr><td>train_tpr</td><td>0.83243</td></tr></table><br/></div></div>"
      ],
      "text/plain": [
       "<IPython.core.display.HTML object>"
      ]
     },
     "metadata": {},
     "output_type": "display_data"
    },
    {
     "data": {
      "text/html": [
       " View run <strong style=\"color:#cdcd00\">EM_CrossEntropyLoss()_RUS-0.35</strong> at: <a href='https://wandb.ai/dmitrii_fomin_uga/Internship_project/runs/dtltcolf' target=\"_blank\">https://wandb.ai/dmitrii_fomin_uga/Internship_project/runs/dtltcolf</a><br/>Synced 5 W&B file(s), 0 media file(s), 0 artifact file(s) and 0 other file(s)"
      ],
      "text/plain": [
       "<IPython.core.display.HTML object>"
      ]
     },
     "metadata": {},
     "output_type": "display_data"
    },
    {
     "data": {
      "text/html": [
       "Find logs at: <code>../logs/wandb\\run-20230705_095322-dtltcolf\\logs</code>"
      ],
      "text/plain": [
       "<IPython.core.display.HTML object>"
      ]
     },
     "metadata": {},
     "output_type": "display_data"
    },
    {
     "data": {
      "text/html": [
       "Tracking run with wandb version 0.15.4"
      ],
      "text/plain": [
       "<IPython.core.display.HTML object>"
      ]
     },
     "metadata": {},
     "output_type": "display_data"
    },
    {
     "data": {
      "text/html": [
       "Run data is saved locally in <code>../logs/wandb\\run-20230705_095336-dnn4ot9o</code>"
      ],
      "text/plain": [
       "<IPython.core.display.HTML object>"
      ]
     },
     "metadata": {},
     "output_type": "display_data"
    },
    {
     "data": {
      "text/html": [
       "Syncing run <strong><a href='https://wandb.ai/dmitrii_fomin_uga/Internship_project/runs/dnn4ot9o' target=\"_blank\">EM_CrossEntropyLoss()_RUS-0.4</a></strong> to <a href='https://wandb.ai/dmitrii_fomin_uga/Internship_project' target=\"_blank\">Weights & Biases</a> (<a href='https://wandb.me/run' target=\"_blank\">docs</a>)<br/>"
      ],
      "text/plain": [
       "<IPython.core.display.HTML object>"
      ]
     },
     "metadata": {},
     "output_type": "display_data"
    },
    {
     "data": {
      "text/html": [
       " View project at <a href='https://wandb.ai/dmitrii_fomin_uga/Internship_project' target=\"_blank\">https://wandb.ai/dmitrii_fomin_uga/Internship_project</a>"
      ],
      "text/plain": [
       "<IPython.core.display.HTML object>"
      ]
     },
     "metadata": {},
     "output_type": "display_data"
    },
    {
     "data": {
      "text/html": [
       " View run at <a href='https://wandb.ai/dmitrii_fomin_uga/Internship_project/runs/dnn4ot9o' target=\"_blank\">https://wandb.ai/dmitrii_fomin_uga/Internship_project/runs/dnn4ot9o</a>"
      ],
      "text/plain": [
       "<IPython.core.display.HTML object>"
      ]
     },
     "metadata": {},
     "output_type": "display_data"
    },
    {
     "data": {
      "text/html": [
       "Waiting for W&B process to finish... <strong style=\"color:green\">(success).</strong>"
      ],
      "text/plain": [
       "<IPython.core.display.HTML object>"
      ]
     },
     "metadata": {},
     "output_type": "display_data"
    },
    {
     "data": {
      "text/html": [
       "<style>\n",
       "    table.wandb td:nth-child(1) { padding: 0 10px; text-align: left ; width: auto;} td:nth-child(2) {text-align: left ; width: 100%}\n",
       "    .wandb-row { display: flex; flex-direction: row; flex-wrap: wrap; justify-content: flex-start; width: 100% }\n",
       "    .wandb-col { display: flex; flex-direction: column; flex-basis: 100%; flex: 1; padding: 10px; }\n",
       "    </style>\n",
       "<div class=\"wandb-row\"><div class=\"wandb-col\"><h3>Run history:</h3><br/><table class=\"wandb\"><tr><td>epoch</td><td>▁▁▁▂▂▂▂▂▂▃▃▃▃▃▄▄▄▄▄▄▅▅▅▅▅▅▆▆▆▆▆▇▇▇▇▇▇███</td></tr><tr><td>lr</td><td>█▇▇▆▆▅▅▄▄▄▃▃▃▃▃▂▂▂▂▂▂▂▂▂▁▁▁▁▁▁▁▁▁▁▁▁▁▁▁▁</td></tr><tr><td>test_accuracy</td><td>▁▆▇█████████████████████████████████████</td></tr><tr><td>test_auc_score</td><td>█▅▂▅▇▄▅▃▄▁▃▅▆▇▆▅█▆▅▅▆▄▃▄▅▃▆▆▅▅▄▃▃▄▅▅▅▅▅▅</td></tr><tr><td>test_f1_score</td><td>▁▅▆▇▇▇▇▇▇▇▇▇█▇▇▇████████████████████████</td></tr><tr><td>test_fpr</td><td>█▃▂▁▁▁▁▁▁▁▁▁▁▁▁▁▁▁▁▁▁▁▁▁▁▁▁▁▁▁▁▁▁▁▁▁▁▁▁▁</td></tr><tr><td>test_loss</td><td>█▄▂▂▁▁▁▁▁▁▁▁▁▁▁▁▁▁▁▁▁▁▁▁▁▁▁▁▁▁▁▁▁▁▁▁▁▁▁▁</td></tr><tr><td>test_tpr</td><td>█▆▄▄▃▃▄▃▄▁▂▃▄▃▄▃▄▄▄▄▃▄▄▄▄▃▄▄▄▄▄▃▄▄▄▄▃▄▄▄</td></tr><tr><td>train_accuracy</td><td>▁▇▇▇▇▇▇▇████████████████████████████████</td></tr><tr><td>train_auc_score</td><td>▁▇▆▆▆▇▇▅▇▆▇▇██▇▇▇▇██▇█▇▇▆▇█▇▇▇▇▇▇▇▇▇▇▇█▇</td></tr><tr><td>train_f1_score</td><td>▁▅▆▆▆▆▆▆▇▇▇▇▇▇▇▇▇▇██▇▇██▇▇██████████████</td></tr><tr><td>train_fpr</td><td>█▂▂▁▁▁▁▁▁▁▁▁▁▁▁▁▁▁▁▁▁▁▁▁▁▁▁▁▁▁▁▁▁▁▁▁▁▁▁▁</td></tr><tr><td>train_loss</td><td>█▄▃▂▂▂▂▂▁▁▁▁▁▁▁▁▁▁▁▁▁▁▁▁▁▁▁▁▁▁▁▁▁▁▁▁▁▁▁▁</td></tr><tr><td>train_tpr</td><td>▄▆▄▁▂▄▂▃▅▅▃▄▅▅▆▅▆▇▆▇▆█▇▇▆▇▇▇▇█▇▇▇▇▇████▇</td></tr></table><br/></div><div class=\"wandb-col\"><h3>Run summary:</h3><br/><table class=\"wandb\"><tr><td>epoch</td><td>39</td></tr><tr><td>lr</td><td>0.00015</td></tr><tr><td>test_accuracy</td><td>0.97394</td></tr><tr><td>test_auc_score</td><td>0.91351</td></tr><tr><td>test_f1_score</td><td>0.82386</td></tr><tr><td>test_fpr</td><td>0.01841</td></tr><tr><td>test_loss</td><td>0.34007</td></tr><tr><td>test_tpr</td><td>0.75662</td></tr><tr><td>train_accuracy</td><td>0.98489</td></tr><tr><td>train_auc_score</td><td>0.92893</td></tr><tr><td>train_f1_score</td><td>0.93913</td></tr><tr><td>train_fpr</td><td>0.00165</td></tr><tr><td>train_loss</td><td>0.33091</td></tr><tr><td>train_tpr</td><td>0.81487</td></tr></table><br/></div></div>"
      ],
      "text/plain": [
       "<IPython.core.display.HTML object>"
      ]
     },
     "metadata": {},
     "output_type": "display_data"
    },
    {
     "data": {
      "text/html": [
       " View run <strong style=\"color:#cdcd00\">EM_CrossEntropyLoss()_RUS-0.4</strong> at: <a href='https://wandb.ai/dmitrii_fomin_uga/Internship_project/runs/dnn4ot9o' target=\"_blank\">https://wandb.ai/dmitrii_fomin_uga/Internship_project/runs/dnn4ot9o</a><br/>Synced 5 W&B file(s), 0 media file(s), 0 artifact file(s) and 0 other file(s)"
      ],
      "text/plain": [
       "<IPython.core.display.HTML object>"
      ]
     },
     "metadata": {},
     "output_type": "display_data"
    },
    {
     "data": {
      "text/html": [
       "Find logs at: <code>../logs/wandb\\run-20230705_095336-dnn4ot9o\\logs</code>"
      ],
      "text/plain": [
       "<IPython.core.display.HTML object>"
      ]
     },
     "metadata": {},
     "output_type": "display_data"
    },
    {
     "data": {
      "text/html": [
       "Tracking run with wandb version 0.15.4"
      ],
      "text/plain": [
       "<IPython.core.display.HTML object>"
      ]
     },
     "metadata": {},
     "output_type": "display_data"
    },
    {
     "data": {
      "text/html": [
       "Run data is saved locally in <code>../logs/wandb\\run-20230705_095351-22gk9sih</code>"
      ],
      "text/plain": [
       "<IPython.core.display.HTML object>"
      ]
     },
     "metadata": {},
     "output_type": "display_data"
    },
    {
     "data": {
      "text/html": [
       "Syncing run <strong><a href='https://wandb.ai/dmitrii_fomin_uga/Internship_project/runs/22gk9sih' target=\"_blank\">EM_CrossEntropyLoss()_RUS-0.45</a></strong> to <a href='https://wandb.ai/dmitrii_fomin_uga/Internship_project' target=\"_blank\">Weights & Biases</a> (<a href='https://wandb.me/run' target=\"_blank\">docs</a>)<br/>"
      ],
      "text/plain": [
       "<IPython.core.display.HTML object>"
      ]
     },
     "metadata": {},
     "output_type": "display_data"
    },
    {
     "data": {
      "text/html": [
       " View project at <a href='https://wandb.ai/dmitrii_fomin_uga/Internship_project' target=\"_blank\">https://wandb.ai/dmitrii_fomin_uga/Internship_project</a>"
      ],
      "text/plain": [
       "<IPython.core.display.HTML object>"
      ]
     },
     "metadata": {},
     "output_type": "display_data"
    },
    {
     "data": {
      "text/html": [
       " View run at <a href='https://wandb.ai/dmitrii_fomin_uga/Internship_project/runs/22gk9sih' target=\"_blank\">https://wandb.ai/dmitrii_fomin_uga/Internship_project/runs/22gk9sih</a>"
      ],
      "text/plain": [
       "<IPython.core.display.HTML object>"
      ]
     },
     "metadata": {},
     "output_type": "display_data"
    },
    {
     "data": {
      "text/html": [
       "Waiting for W&B process to finish... <strong style=\"color:green\">(success).</strong>"
      ],
      "text/plain": [
       "<IPython.core.display.HTML object>"
      ]
     },
     "metadata": {},
     "output_type": "display_data"
    },
    {
     "data": {
      "text/html": [
       "<style>\n",
       "    table.wandb td:nth-child(1) { padding: 0 10px; text-align: left ; width: auto;} td:nth-child(2) {text-align: left ; width: 100%}\n",
       "    .wandb-row { display: flex; flex-direction: row; flex-wrap: wrap; justify-content: flex-start; width: 100% }\n",
       "    .wandb-col { display: flex; flex-direction: column; flex-basis: 100%; flex: 1; padding: 10px; }\n",
       "    </style>\n",
       "<div class=\"wandb-row\"><div class=\"wandb-col\"><h3>Run history:</h3><br/><table class=\"wandb\"><tr><td>epoch</td><td>▁▁▁▂▂▂▂▂▂▃▃▃▃▃▄▄▄▄▄▄▅▅▅▅▅▅▆▆▆▆▆▇▇▇▇▇▇███</td></tr><tr><td>lr</td><td>█▇▇▆▆▅▅▄▄▄▃▃▃▃▃▂▂▂▂▂▂▂▂▂▁▁▁▁▁▁▁▁▁▁▁▁▁▁▁▁</td></tr><tr><td>test_accuracy</td><td>▁▆██████████████████████████████████████</td></tr><tr><td>test_auc_score</td><td>▂▁▂▄▅▄▄▄▄▁▇▃▄▆▆▇▆█▇▇█▆▄▅▇█▆▇▇▆▆▇▅█▆▇█▇▇▅</td></tr><tr><td>test_f1_score</td><td>▁▅▇▇▇▇▇▇▇▇█▇████████████████████████████</td></tr><tr><td>test_fpr</td><td>█▃▁▁▁▁▁▁▁▁▁▁▁▁▁▁▁▁▁▁▁▁▁▁▁▁▁▁▁▁▁▁▁▁▁▁▁▁▁▁</td></tr><tr><td>test_loss</td><td>█▄▂▁▁▁▁▁▁▁▁▁▁▁▁▁▁▁▁▁▁▁▁▁▁▁▁▁▁▁▁▁▁▁▁▁▁▁▁▁</td></tr><tr><td>test_tpr</td><td>█▆▃▃▁▁▃▃▂▂▄▂▁▃▄▅▄▄▄▄▅▄▃▄▅▃▂▅▄▄▄▄▄▄▃▅▄▅▄▄</td></tr><tr><td>train_accuracy</td><td>▁▇▇▇▇█████▇█████████████████████████████</td></tr><tr><td>train_auc_score</td><td>▁▅▅▇▇▆▇▇▇▇▇▇▇▆▇▇▇▇▇▆▇▇▇▇▇█▇▇▇▇▇▇▇█▇▇█▇▇▇</td></tr><tr><td>train_f1_score</td><td>▁▅▆▆▆▇▇▆▇▇▇▇▇▇▇▇▇██▇▇▇█▇████████████████</td></tr><tr><td>train_fpr</td><td>█▂▁▁▁▁▁▁▁▁▁▁▁▁▁▁▁▁▁▁▁▁▁▁▁▁▁▁▁▁▁▁▁▁▁▁▁▁▁▁</td></tr><tr><td>train_loss</td><td>█▄▃▂▂▂▁▁▁▁▁▁▁▁▁▁▁▁▁▁▁▁▁▁▁▁▁▁▁▁▁▁▁▁▁▁▁▁▁▁</td></tr><tr><td>train_tpr</td><td>▆▄▁▁▁▁▄▁▃▁▃▅▅▄▅▄▆▇▆▄▇▆▆▆▇█▆▇██▇█▇██▇████</td></tr></table><br/></div><div class=\"wandb-col\"><h3>Run summary:</h3><br/><table class=\"wandb\"><tr><td>epoch</td><td>39</td></tr><tr><td>lr</td><td>0.00015</td></tr><tr><td>test_accuracy</td><td>0.97364</td></tr><tr><td>test_auc_score</td><td>0.92766</td></tr><tr><td>test_f1_score</td><td>0.82079</td></tr><tr><td>test_fpr</td><td>0.01833</td></tr><tr><td>test_loss</td><td>0.33956</td></tr><tr><td>test_tpr</td><td>0.74453</td></tr><tr><td>train_accuracy</td><td>0.98384</td></tr><tr><td>train_auc_score</td><td>0.93528</td></tr><tr><td>train_f1_score</td><td>0.93385</td></tr><tr><td>train_fpr</td><td>0.00361</td></tr><tr><td>train_loss</td><td>0.33238</td></tr><tr><td>train_tpr</td><td>0.82009</td></tr></table><br/></div></div>"
      ],
      "text/plain": [
       "<IPython.core.display.HTML object>"
      ]
     },
     "metadata": {},
     "output_type": "display_data"
    },
    {
     "data": {
      "text/html": [
       " View run <strong style=\"color:#cdcd00\">EM_CrossEntropyLoss()_RUS-0.45</strong> at: <a href='https://wandb.ai/dmitrii_fomin_uga/Internship_project/runs/22gk9sih' target=\"_blank\">https://wandb.ai/dmitrii_fomin_uga/Internship_project/runs/22gk9sih</a><br/>Synced 5 W&B file(s), 0 media file(s), 0 artifact file(s) and 0 other file(s)"
      ],
      "text/plain": [
       "<IPython.core.display.HTML object>"
      ]
     },
     "metadata": {},
     "output_type": "display_data"
    },
    {
     "data": {
      "text/html": [
       "Find logs at: <code>../logs/wandb\\run-20230705_095351-22gk9sih\\logs</code>"
      ],
      "text/plain": [
       "<IPython.core.display.HTML object>"
      ]
     },
     "metadata": {},
     "output_type": "display_data"
    },
    {
     "data": {
      "text/html": [
       "Tracking run with wandb version 0.15.4"
      ],
      "text/plain": [
       "<IPython.core.display.HTML object>"
      ]
     },
     "metadata": {},
     "output_type": "display_data"
    },
    {
     "data": {
      "text/html": [
       "Run data is saved locally in <code>../logs/wandb\\run-20230705_095405-s8b7fz72</code>"
      ],
      "text/plain": [
       "<IPython.core.display.HTML object>"
      ]
     },
     "metadata": {},
     "output_type": "display_data"
    },
    {
     "data": {
      "text/html": [
       "Syncing run <strong><a href='https://wandb.ai/dmitrii_fomin_uga/Internship_project/runs/s8b7fz72' target=\"_blank\">EM_CrossEntropyLoss()_RUS-0.5</a></strong> to <a href='https://wandb.ai/dmitrii_fomin_uga/Internship_project' target=\"_blank\">Weights & Biases</a> (<a href='https://wandb.me/run' target=\"_blank\">docs</a>)<br/>"
      ],
      "text/plain": [
       "<IPython.core.display.HTML object>"
      ]
     },
     "metadata": {},
     "output_type": "display_data"
    },
    {
     "data": {
      "text/html": [
       " View project at <a href='https://wandb.ai/dmitrii_fomin_uga/Internship_project' target=\"_blank\">https://wandb.ai/dmitrii_fomin_uga/Internship_project</a>"
      ],
      "text/plain": [
       "<IPython.core.display.HTML object>"
      ]
     },
     "metadata": {},
     "output_type": "display_data"
    },
    {
     "data": {
      "text/html": [
       " View run at <a href='https://wandb.ai/dmitrii_fomin_uga/Internship_project/runs/s8b7fz72' target=\"_blank\">https://wandb.ai/dmitrii_fomin_uga/Internship_project/runs/s8b7fz72</a>"
      ],
      "text/plain": [
       "<IPython.core.display.HTML object>"
      ]
     },
     "metadata": {},
     "output_type": "display_data"
    },
    {
     "data": {
      "text/html": [
       "Waiting for W&B process to finish... <strong style=\"color:green\">(success).</strong>"
      ],
      "text/plain": [
       "<IPython.core.display.HTML object>"
      ]
     },
     "metadata": {},
     "output_type": "display_data"
    },
    {
     "data": {
      "text/html": [
       "<style>\n",
       "    table.wandb td:nth-child(1) { padding: 0 10px; text-align: left ; width: auto;} td:nth-child(2) {text-align: left ; width: 100%}\n",
       "    .wandb-row { display: flex; flex-direction: row; flex-wrap: wrap; justify-content: flex-start; width: 100% }\n",
       "    .wandb-col { display: flex; flex-direction: column; flex-basis: 100%; flex: 1; padding: 10px; }\n",
       "    </style>\n",
       "<div class=\"wandb-row\"><div class=\"wandb-col\"><h3>Run history:</h3><br/><table class=\"wandb\"><tr><td>epoch</td><td>▁▁▁▂▂▂▂▂▂▃▃▃▃▃▄▄▄▄▄▄▅▅▅▅▅▅▆▆▆▆▆▇▇▇▇▇▇███</td></tr><tr><td>lr</td><td>█▇▇▆▆▅▅▄▄▄▃▃▃▃▃▂▂▂▂▂▂▂▂▂▁▁▁▁▁▁▁▁▁▁▁▁▁▁▁▁</td></tr><tr><td>test_accuracy</td><td>▁▆██████████████████████████████████████</td></tr><tr><td>test_auc_score</td><td>▄▂▁▂▂▁▃▂▅▄▄▇▆▆▆▇█▇▇▇▇▇▇█▇▇█▇▇▇▇▇██████▇▇</td></tr><tr><td>test_f1_score</td><td>▁▄▆▇▇▇▇▇█▇█▇████████████████████████████</td></tr><tr><td>test_fpr</td><td>█▃▁▁▁▁▁▁▁▁▁▁▁▁▁▁▁▁▁▁▁▁▁▁▁▁▁▁▁▁▁▁▁▁▁▁▁▁▁▁</td></tr><tr><td>test_loss</td><td>█▄▂▂▁▁▁▁▁▁▁▁▁▁▁▁▁▁▁▁▁▁▁▁▁▁▁▁▁▁▁▁▁▁▁▁▁▁▁▁</td></tr><tr><td>test_tpr</td><td>█▄▃▃▂▃▂▁▄▂▂▄▁▂▄▃▃▂▄▃▂▃▃▄▃▄▃▃▃▄▄▄▃▃▃▄▄▄▃▃</td></tr><tr><td>train_accuracy</td><td>▁▇▇▇▇▇██████████████████████████████████</td></tr><tr><td>train_auc_score</td><td>▁▅▆▇▇▇▇▇▇▇▇▇▇▇▇█████████████▇▇█▇▇▇█▇███▇</td></tr><tr><td>train_f1_score</td><td>▁▅▆▆▆▆▇▇▇▇▇▇▇▇▇█▇▇▇█████████████████████</td></tr><tr><td>train_fpr</td><td>█▂▁▁▁▁▁▁▁▁▁▁▁▁▁▁▁▁▁▁▁▁▁▁▁▁▁▁▁▁▁▁▁▁▁▁▁▁▁▁</td></tr><tr><td>train_loss</td><td>█▄▂▂▂▂▁▁▁▁▁▁▁▁▁▁▁▁▁▁▁▁▁▁▁▁▁▁▁▁▁▁▁▁▁▁▁▁▁▁</td></tr><tr><td>train_tpr</td><td>▅▃▁▂▁▃▄▄▃▅▄▄▅▅▅▇▅▅▇▇▇▆▆▇▇▇▆▇▇▇██▇▇▇▇▇▇▇▇</td></tr></table><br/></div><div class=\"wandb-col\"><h3>Run summary:</h3><br/><table class=\"wandb\"><tr><td>epoch</td><td>39</td></tr><tr><td>lr</td><td>0.00015</td></tr><tr><td>test_accuracy</td><td>0.97525</td></tr><tr><td>test_auc_score</td><td>0.94377</td></tr><tr><td>test_f1_score</td><td>0.82754</td></tr><tr><td>test_fpr</td><td>0.01695</td></tr><tr><td>test_loss</td><td>0.33734</td></tr><tr><td>test_tpr</td><td>0.74596</td></tr><tr><td>train_accuracy</td><td>0.98533</td></tr><tr><td>train_auc_score</td><td>0.9411</td></tr><tr><td>train_f1_score</td><td>0.94091</td></tr><tr><td>train_fpr</td><td>0.00224</td></tr><tr><td>train_loss</td><td>0.33101</td></tr><tr><td>train_tpr</td><td>0.82911</td></tr></table><br/></div></div>"
      ],
      "text/plain": [
       "<IPython.core.display.HTML object>"
      ]
     },
     "metadata": {},
     "output_type": "display_data"
    },
    {
     "data": {
      "text/html": [
       " View run <strong style=\"color:#cdcd00\">EM_CrossEntropyLoss()_RUS-0.5</strong> at: <a href='https://wandb.ai/dmitrii_fomin_uga/Internship_project/runs/s8b7fz72' target=\"_blank\">https://wandb.ai/dmitrii_fomin_uga/Internship_project/runs/s8b7fz72</a><br/>Synced 5 W&B file(s), 0 media file(s), 0 artifact file(s) and 0 other file(s)"
      ],
      "text/plain": [
       "<IPython.core.display.HTML object>"
      ]
     },
     "metadata": {},
     "output_type": "display_data"
    },
    {
     "data": {
      "text/html": [
       "Find logs at: <code>../logs/wandb\\run-20230705_095405-s8b7fz72\\logs</code>"
      ],
      "text/plain": [
       "<IPython.core.display.HTML object>"
      ]
     },
     "metadata": {},
     "output_type": "display_data"
    },
    {
     "data": {
      "text/html": [
       "Tracking run with wandb version 0.15.4"
      ],
      "text/plain": [
       "<IPython.core.display.HTML object>"
      ]
     },
     "metadata": {},
     "output_type": "display_data"
    },
    {
     "data": {
      "text/html": [
       "Run data is saved locally in <code>../logs/wandb\\run-20230705_095419-jbp4k43t</code>"
      ],
      "text/plain": [
       "<IPython.core.display.HTML object>"
      ]
     },
     "metadata": {},
     "output_type": "display_data"
    },
    {
     "data": {
      "text/html": [
       "Syncing run <strong><a href='https://wandb.ai/dmitrii_fomin_uga/Internship_project/runs/jbp4k43t' target=\"_blank\">EM_CrossEntropyLoss()_RUS-0.55</a></strong> to <a href='https://wandb.ai/dmitrii_fomin_uga/Internship_project' target=\"_blank\">Weights & Biases</a> (<a href='https://wandb.me/run' target=\"_blank\">docs</a>)<br/>"
      ],
      "text/plain": [
       "<IPython.core.display.HTML object>"
      ]
     },
     "metadata": {},
     "output_type": "display_data"
    },
    {
     "data": {
      "text/html": [
       " View project at <a href='https://wandb.ai/dmitrii_fomin_uga/Internship_project' target=\"_blank\">https://wandb.ai/dmitrii_fomin_uga/Internship_project</a>"
      ],
      "text/plain": [
       "<IPython.core.display.HTML object>"
      ]
     },
     "metadata": {},
     "output_type": "display_data"
    },
    {
     "data": {
      "text/html": [
       " View run at <a href='https://wandb.ai/dmitrii_fomin_uga/Internship_project/runs/jbp4k43t' target=\"_blank\">https://wandb.ai/dmitrii_fomin_uga/Internship_project/runs/jbp4k43t</a>"
      ],
      "text/plain": [
       "<IPython.core.display.HTML object>"
      ]
     },
     "metadata": {},
     "output_type": "display_data"
    },
    {
     "data": {
      "text/html": [
       "Waiting for W&B process to finish... <strong style=\"color:green\">(success).</strong>"
      ],
      "text/plain": [
       "<IPython.core.display.HTML object>"
      ]
     },
     "metadata": {},
     "output_type": "display_data"
    },
    {
     "data": {
      "text/html": [
       "<style>\n",
       "    table.wandb td:nth-child(1) { padding: 0 10px; text-align: left ; width: auto;} td:nth-child(2) {text-align: left ; width: 100%}\n",
       "    .wandb-row { display: flex; flex-direction: row; flex-wrap: wrap; justify-content: flex-start; width: 100% }\n",
       "    .wandb-col { display: flex; flex-direction: column; flex-basis: 100%; flex: 1; padding: 10px; }\n",
       "    </style>\n",
       "<div class=\"wandb-row\"><div class=\"wandb-col\"><h3>Run history:</h3><br/><table class=\"wandb\"><tr><td>epoch</td><td>▁▁▁▂▂▂▂▂▂▃▃▃▃▃▄▄▄▄▄▄▅▅▅▅▅▅▆▆▆▆▆▇▇▇▇▇▇███</td></tr><tr><td>lr</td><td>█▇▇▆▆▅▅▄▄▄▃▃▃▃▃▂▂▂▂▂▂▂▂▂▁▁▁▁▁▁▁▁▁▁▁▁▁▁▁▁</td></tr><tr><td>test_accuracy</td><td>▁▆▇█████████████████████████████████████</td></tr><tr><td>test_auc_score</td><td>▁▆▄▄▆▆▅▆█▅▃▇▅▆▆█▅▅▇▄▆▆▇█▆▇▇▇█▆▇▇██▇▆█▇▇▇</td></tr><tr><td>test_f1_score</td><td>▁▅▆▇▇▇▇▇▇▇▇█▇▇▇█▇███████████████████████</td></tr><tr><td>test_fpr</td><td>█▃▂▁▁▁▁▁▁▁▁▁▁▁▁▁▁▁▁▁▁▁▁▁▁▁▁▁▁▁▁▁▁▁▁▁▁▁▁▁</td></tr><tr><td>test_loss</td><td>█▃▂▂▁▁▁▁▁▁▁▁▁▁▁▁▁▁▁▁▁▁▁▁▁▁▁▁▁▁▁▁▁▁▁▁▁▁▁▁</td></tr><tr><td>test_tpr</td><td>█▆▄▂▃▂▂▂▄▂▂▃▃▁▄▃▃▁▃▁▃▃▃▃▃▃▃▃▃▄▃▃▃▃▃▂▄▃▃▃</td></tr><tr><td>train_accuracy</td><td>▁▇▇▇▇▇██████████████████████████████████</td></tr><tr><td>train_auc_score</td><td>▁▆▇▆▇▇█▇▇█▇▇▇█████████▇█▇█████▇▇▇██▇▇██▇</td></tr><tr><td>train_f1_score</td><td>▁▅▆▆▆▆▇▇▇▇▇▇▇▇▇▇▇▇█▇▇██▇████████████████</td></tr><tr><td>train_fpr</td><td>█▂▁▁▁▁▁▁▁▁▁▁▁▁▁▁▁▁▁▁▁▁▁▁▁▁▁▁▁▁▁▁▁▁▁▁▁▁▁▁</td></tr><tr><td>train_loss</td><td>█▄▂▂▂▂▁▁▁▁▁▁▁▁▁▁▁▁▁▁▁▁▁▁▁▁▁▁▁▁▁▁▁▁▁▁▁▁▁▁</td></tr><tr><td>train_tpr</td><td>▆▅▃▂▁▃▃▄▃▄▅▅▅▆▆▅▆▆▆▆▆▆▇▆▇▇▇▇█▇▇▆▆▇▇█▇███</td></tr></table><br/></div><div class=\"wandb-col\"><h3>Run summary:</h3><br/><table class=\"wandb\"><tr><td>epoch</td><td>39</td></tr><tr><td>lr</td><td>0.00015</td></tr><tr><td>test_accuracy</td><td>0.97437</td></tr><tr><td>test_auc_score</td><td>0.93296</td></tr><tr><td>test_f1_score</td><td>0.82207</td></tr><tr><td>test_fpr</td><td>0.01827</td></tr><tr><td>test_loss</td><td>0.33855</td></tr><tr><td>test_tpr</td><td>0.7532</td></tr><tr><td>train_accuracy</td><td>0.98674</td></tr><tr><td>train_auc_score</td><td>0.93851</td></tr><tr><td>train_f1_score</td><td>0.94557</td></tr><tr><td>train_fpr</td><td>0.00283</td></tr><tr><td>train_loss</td><td>0.32947</td></tr><tr><td>train_tpr</td><td>0.84891</td></tr></table><br/></div></div>"
      ],
      "text/plain": [
       "<IPython.core.display.HTML object>"
      ]
     },
     "metadata": {},
     "output_type": "display_data"
    },
    {
     "data": {
      "text/html": [
       " View run <strong style=\"color:#cdcd00\">EM_CrossEntropyLoss()_RUS-0.55</strong> at: <a href='https://wandb.ai/dmitrii_fomin_uga/Internship_project/runs/jbp4k43t' target=\"_blank\">https://wandb.ai/dmitrii_fomin_uga/Internship_project/runs/jbp4k43t</a><br/>Synced 5 W&B file(s), 0 media file(s), 0 artifact file(s) and 0 other file(s)"
      ],
      "text/plain": [
       "<IPython.core.display.HTML object>"
      ]
     },
     "metadata": {},
     "output_type": "display_data"
    },
    {
     "data": {
      "text/html": [
       "Find logs at: <code>../logs/wandb\\run-20230705_095419-jbp4k43t\\logs</code>"
      ],
      "text/plain": [
       "<IPython.core.display.HTML object>"
      ]
     },
     "metadata": {},
     "output_type": "display_data"
    },
    {
     "data": {
      "text/html": [
       "Tracking run with wandb version 0.15.4"
      ],
      "text/plain": [
       "<IPython.core.display.HTML object>"
      ]
     },
     "metadata": {},
     "output_type": "display_data"
    },
    {
     "data": {
      "text/html": [
       "Run data is saved locally in <code>../logs/wandb\\run-20230705_095433-qxok4mtn</code>"
      ],
      "text/plain": [
       "<IPython.core.display.HTML object>"
      ]
     },
     "metadata": {},
     "output_type": "display_data"
    },
    {
     "data": {
      "text/html": [
       "Syncing run <strong><a href='https://wandb.ai/dmitrii_fomin_uga/Internship_project/runs/qxok4mtn' target=\"_blank\">EM_CrossEntropyLoss()_RUS-0.6</a></strong> to <a href='https://wandb.ai/dmitrii_fomin_uga/Internship_project' target=\"_blank\">Weights & Biases</a> (<a href='https://wandb.me/run' target=\"_blank\">docs</a>)<br/>"
      ],
      "text/plain": [
       "<IPython.core.display.HTML object>"
      ]
     },
     "metadata": {},
     "output_type": "display_data"
    },
    {
     "data": {
      "text/html": [
       " View project at <a href='https://wandb.ai/dmitrii_fomin_uga/Internship_project' target=\"_blank\">https://wandb.ai/dmitrii_fomin_uga/Internship_project</a>"
      ],
      "text/plain": [
       "<IPython.core.display.HTML object>"
      ]
     },
     "metadata": {},
     "output_type": "display_data"
    },
    {
     "data": {
      "text/html": [
       " View run at <a href='https://wandb.ai/dmitrii_fomin_uga/Internship_project/runs/qxok4mtn' target=\"_blank\">https://wandb.ai/dmitrii_fomin_uga/Internship_project/runs/qxok4mtn</a>"
      ],
      "text/plain": [
       "<IPython.core.display.HTML object>"
      ]
     },
     "metadata": {},
     "output_type": "display_data"
    },
    {
     "data": {
      "text/html": [
       "Waiting for W&B process to finish... <strong style=\"color:green\">(success).</strong>"
      ],
      "text/plain": [
       "<IPython.core.display.HTML object>"
      ]
     },
     "metadata": {},
     "output_type": "display_data"
    },
    {
     "data": {
      "text/html": [
       "<style>\n",
       "    table.wandb td:nth-child(1) { padding: 0 10px; text-align: left ; width: auto;} td:nth-child(2) {text-align: left ; width: 100%}\n",
       "    .wandb-row { display: flex; flex-direction: row; flex-wrap: wrap; justify-content: flex-start; width: 100% }\n",
       "    .wandb-col { display: flex; flex-direction: column; flex-basis: 100%; flex: 1; padding: 10px; }\n",
       "    </style>\n",
       "<div class=\"wandb-row\"><div class=\"wandb-col\"><h3>Run history:</h3><br/><table class=\"wandb\"><tr><td>epoch</td><td>▁▁▁▂▂▂▂▂▂▃▃▃▃▃▄▄▄▄▄▄▅▅▅▅▅▅▆▆▆▆▆▇▇▇▇▇▇███</td></tr><tr><td>lr</td><td>█▇▇▆▆▅▅▄▄▄▃▃▃▃▃▂▂▂▂▂▂▂▂▂▁▁▁▁▁▁▁▁▁▁▁▁▁▁▁▁</td></tr><tr><td>test_accuracy</td><td>▁▆▇█████████████████████████████████████</td></tr><tr><td>test_auc_score</td><td>▁▁▂▁▇▅▆▇█▆▆▇██▇▆█▆▇███▇▇▇▇▇▇▇▇▇▇▇▇▇▇▇▇▇▇</td></tr><tr><td>test_f1_score</td><td>▁▅▆▆▆▆▇▇▇▇▇▇████████████████████████████</td></tr><tr><td>test_fpr</td><td>█▃▂▁▁▁▁▁▁▁▁▁▁▁▁▁▁▁▁▁▁▁▁▁▁▁▁▁▁▁▁▁▁▁▁▁▁▁▁▁</td></tr><tr><td>test_loss</td><td>█▃▂▂▂▁▁▁▁▁▁▁▁▁▁▁▁▁▁▁▁▁▁▁▁▁▁▁▁▁▁▁▁▁▁▁▁▁▁▁</td></tr><tr><td>test_tpr</td><td>█▅▂▂▅▃▂▂▃▁▂▂▂▁▁▃▃▁▃▃▃▂▂▃▃▃▃▄▄▃▂▄▃▃▃▃▄▃▄▄</td></tr><tr><td>train_accuracy</td><td>▁▇▇▇▇▇▇▇███▇████████████████████████████</td></tr><tr><td>train_auc_score</td><td>▁▅▆▆▆▇▇▇▇▇▇▇▇█▇█████████████████████████</td></tr><tr><td>train_f1_score</td><td>▁▅▆▆▆▆▆▆▇▇▇▇▇▇▇▇▇▇▇▇▇█▇█████████████████</td></tr><tr><td>train_fpr</td><td>█▂▁▁▁▁▁▁▁▁▁▁▁▁▁▁▁▁▁▁▁▁▁▁▁▁▁▁▁▁▁▁▁▁▁▁▁▁▁▁</td></tr><tr><td>train_loss</td><td>█▄▂▂▂▂▂▂▁▁▁▁▁▁▁▁▁▁▁▁▁▁▁▁▁▁▁▁▁▁▁▁▁▁▁▁▁▁▁▁</td></tr><tr><td>train_tpr</td><td>▅▄▃▁▃▃▃▃▄▄▄▄▅▅▆▆▆▆▆▆▇▇▆▆▇█▇▇▇█▇▇███▇▇▇█▇</td></tr></table><br/></div><div class=\"wandb-col\"><h3>Run summary:</h3><br/><table class=\"wandb\"><tr><td>epoch</td><td>39</td></tr><tr><td>lr</td><td>0.00015</td></tr><tr><td>test_accuracy</td><td>0.97474</td></tr><tr><td>test_auc_score</td><td>0.93646</td></tr><tr><td>test_f1_score</td><td>0.83079</td></tr><tr><td>test_fpr</td><td>0.01851</td></tr><tr><td>test_loss</td><td>0.33895</td></tr><tr><td>test_tpr</td><td>0.78557</td></tr><tr><td>train_accuracy</td><td>0.98283</td></tr><tr><td>train_auc_score</td><td>0.95078</td></tr><tr><td>train_f1_score</td><td>0.93024</td></tr><tr><td>train_fpr</td><td>0.00328</td></tr><tr><td>train_loss</td><td>0.33311</td></tr><tr><td>train_tpr</td><td>0.80854</td></tr></table><br/></div></div>"
      ],
      "text/plain": [
       "<IPython.core.display.HTML object>"
      ]
     },
     "metadata": {},
     "output_type": "display_data"
    },
    {
     "data": {
      "text/html": [
       " View run <strong style=\"color:#cdcd00\">EM_CrossEntropyLoss()_RUS-0.6</strong> at: <a href='https://wandb.ai/dmitrii_fomin_uga/Internship_project/runs/qxok4mtn' target=\"_blank\">https://wandb.ai/dmitrii_fomin_uga/Internship_project/runs/qxok4mtn</a><br/>Synced 5 W&B file(s), 0 media file(s), 0 artifact file(s) and 0 other file(s)"
      ],
      "text/plain": [
       "<IPython.core.display.HTML object>"
      ]
     },
     "metadata": {},
     "output_type": "display_data"
    },
    {
     "data": {
      "text/html": [
       "Find logs at: <code>../logs/wandb\\run-20230705_095433-qxok4mtn\\logs</code>"
      ],
      "text/plain": [
       "<IPython.core.display.HTML object>"
      ]
     },
     "metadata": {},
     "output_type": "display_data"
    },
    {
     "data": {
      "text/html": [
       "Tracking run with wandb version 0.15.4"
      ],
      "text/plain": [
       "<IPython.core.display.HTML object>"
      ]
     },
     "metadata": {},
     "output_type": "display_data"
    },
    {
     "data": {
      "text/html": [
       "Run data is saved locally in <code>../logs/wandb\\run-20230705_095448-31vvt45o</code>"
      ],
      "text/plain": [
       "<IPython.core.display.HTML object>"
      ]
     },
     "metadata": {},
     "output_type": "display_data"
    },
    {
     "data": {
      "text/html": [
       "Syncing run <strong><a href='https://wandb.ai/dmitrii_fomin_uga/Internship_project/runs/31vvt45o' target=\"_blank\">EM_CrossEntropyLoss()_RUS-0.7</a></strong> to <a href='https://wandb.ai/dmitrii_fomin_uga/Internship_project' target=\"_blank\">Weights & Biases</a> (<a href='https://wandb.me/run' target=\"_blank\">docs</a>)<br/>"
      ],
      "text/plain": [
       "<IPython.core.display.HTML object>"
      ]
     },
     "metadata": {},
     "output_type": "display_data"
    },
    {
     "data": {
      "text/html": [
       " View project at <a href='https://wandb.ai/dmitrii_fomin_uga/Internship_project' target=\"_blank\">https://wandb.ai/dmitrii_fomin_uga/Internship_project</a>"
      ],
      "text/plain": [
       "<IPython.core.display.HTML object>"
      ]
     },
     "metadata": {},
     "output_type": "display_data"
    },
    {
     "data": {
      "text/html": [
       " View run at <a href='https://wandb.ai/dmitrii_fomin_uga/Internship_project/runs/31vvt45o' target=\"_blank\">https://wandb.ai/dmitrii_fomin_uga/Internship_project/runs/31vvt45o</a>"
      ],
      "text/plain": [
       "<IPython.core.display.HTML object>"
      ]
     },
     "metadata": {},
     "output_type": "display_data"
    },
    {
     "data": {
      "text/html": [
       "Waiting for W&B process to finish... <strong style=\"color:green\">(success).</strong>"
      ],
      "text/plain": [
       "<IPython.core.display.HTML object>"
      ]
     },
     "metadata": {},
     "output_type": "display_data"
    },
    {
     "data": {
      "text/html": [
       "<style>\n",
       "    table.wandb td:nth-child(1) { padding: 0 10px; text-align: left ; width: auto;} td:nth-child(2) {text-align: left ; width: 100%}\n",
       "    .wandb-row { display: flex; flex-direction: row; flex-wrap: wrap; justify-content: flex-start; width: 100% }\n",
       "    .wandb-col { display: flex; flex-direction: column; flex-basis: 100%; flex: 1; padding: 10px; }\n",
       "    </style>\n",
       "<div class=\"wandb-row\"><div class=\"wandb-col\"><h3>Run history:</h3><br/><table class=\"wandb\"><tr><td>epoch</td><td>▁▁▁▂▂▂▂▂▂▃▃▃▃▃▄▄▄▄▄▄▅▅▅▅▅▅▆▆▆▆▆▇▇▇▇▇▇███</td></tr><tr><td>lr</td><td>█▇▇▆▆▅▅▄▄▄▃▃▃▃▃▂▂▂▂▂▂▂▂▂▁▁▁▁▁▁▁▁▁▁▁▁▁▁▁▁</td></tr><tr><td>test_accuracy</td><td>▁▅▇█████████████████████████████████████</td></tr><tr><td>test_auc_score</td><td>▄▆▆▆▅█▃▄▆▆▃▅▇▃▇▃▅▄▄▆▅▄▁▁▃▄▄▂▅▆▅▅▄▃▆▅▄▄▄▅</td></tr><tr><td>test_f1_score</td><td>▁▄▆▇▇▇▇▇▇▇███▇██████████████████████████</td></tr><tr><td>test_fpr</td><td>█▄▂▁▁▁▁▁▁▁▁▁▁▁▁▁▁▁▁▁▁▁▁▁▁▁▁▁▁▁▁▁▁▁▁▁▁▁▁▁</td></tr><tr><td>test_loss</td><td>█▄▂▂▁▁▁▁▁▁▁▁▁▁▁▁▁▁▁▁▁▁▁▁▁▁▁▁▁▁▁▁▁▁▁▁▁▁▁▁</td></tr><tr><td>test_tpr</td><td>█▇▆▄▄▄▁▅▁▂▄▄▄▂▅▃▄▅▄▄▃▄▄▄▅▄▄▃▄▅▅▅▄▄▄▄▄▄▃▄</td></tr><tr><td>train_accuracy</td><td>▁▇▇▇████████████████████████████████████</td></tr><tr><td>train_auc_score</td><td>▁▇▇▇▇▇▇██▇███████████▇██▇▇█▇▇████▇▇▇█▇▇▇</td></tr><tr><td>train_f1_score</td><td>▁▅▆▆▆▇▇▇▇▇▇▇▇▇▇▇█▇██████████████████████</td></tr><tr><td>train_fpr</td><td>█▂▁▁▁▁▁▁▁▁▁▁▁▁▁▁▁▁▁▁▁▁▁▁▁▁▁▁▁▁▁▁▁▁▁▁▁▁▁▁</td></tr><tr><td>train_loss</td><td>█▄▃▂▂▂▁▁▁▁▁▁▁▁▁▁▁▁▁▁▁▁▁▁▁▁▁▁▁▁▁▁▁▁▁▁▁▁▁▁</td></tr><tr><td>train_tpr</td><td>▄▅▂▁▂▄▃▃▄▄▄▄▅▅▅▆▆▆▆▇▇▇▇▇▇▇██▇█▇███▇▇███▆</td></tr></table><br/></div><div class=\"wandb-col\"><h3>Run summary:</h3><br/><table class=\"wandb\"><tr><td>epoch</td><td>39</td></tr><tr><td>lr</td><td>0.00015</td></tr><tr><td>test_accuracy</td><td>0.97657</td></tr><tr><td>test_auc_score</td><td>0.91808</td></tr><tr><td>test_f1_score</td><td>0.83523</td></tr><tr><td>test_fpr</td><td>0.01493</td></tr><tr><td>test_loss</td><td>0.33729</td></tr><tr><td>test_tpr</td><td>0.737</td></tr><tr><td>train_accuracy</td><td>0.98401</td></tr><tr><td>train_auc_score</td><td>0.93768</td></tr><tr><td>train_f1_score</td><td>0.93224</td></tr><tr><td>train_fpr</td><td>0.00194</td></tr><tr><td>train_loss</td><td>0.33174</td></tr><tr><td>train_tpr</td><td>0.79913</td></tr></table><br/></div></div>"
      ],
      "text/plain": [
       "<IPython.core.display.HTML object>"
      ]
     },
     "metadata": {},
     "output_type": "display_data"
    },
    {
     "data": {
      "text/html": [
       " View run <strong style=\"color:#cdcd00\">EM_CrossEntropyLoss()_RUS-0.7</strong> at: <a href='https://wandb.ai/dmitrii_fomin_uga/Internship_project/runs/31vvt45o' target=\"_blank\">https://wandb.ai/dmitrii_fomin_uga/Internship_project/runs/31vvt45o</a><br/>Synced 5 W&B file(s), 0 media file(s), 0 artifact file(s) and 0 other file(s)"
      ],
      "text/plain": [
       "<IPython.core.display.HTML object>"
      ]
     },
     "metadata": {},
     "output_type": "display_data"
    },
    {
     "data": {
      "text/html": [
       "Find logs at: <code>../logs/wandb\\run-20230705_095448-31vvt45o\\logs</code>"
      ],
      "text/plain": [
       "<IPython.core.display.HTML object>"
      ]
     },
     "metadata": {},
     "output_type": "display_data"
    },
    {
     "data": {
      "text/html": [
       "Tracking run with wandb version 0.15.4"
      ],
      "text/plain": [
       "<IPython.core.display.HTML object>"
      ]
     },
     "metadata": {},
     "output_type": "display_data"
    },
    {
     "data": {
      "text/html": [
       "Run data is saved locally in <code>../logs/wandb\\run-20230705_095503-qdhgfjyo</code>"
      ],
      "text/plain": [
       "<IPython.core.display.HTML object>"
      ]
     },
     "metadata": {},
     "output_type": "display_data"
    },
    {
     "data": {
      "text/html": [
       "Syncing run <strong><a href='https://wandb.ai/dmitrii_fomin_uga/Internship_project/runs/qdhgfjyo' target=\"_blank\">EM_CrossEntropyLoss()_RUS-0.8</a></strong> to <a href='https://wandb.ai/dmitrii_fomin_uga/Internship_project' target=\"_blank\">Weights & Biases</a> (<a href='https://wandb.me/run' target=\"_blank\">docs</a>)<br/>"
      ],
      "text/plain": [
       "<IPython.core.display.HTML object>"
      ]
     },
     "metadata": {},
     "output_type": "display_data"
    },
    {
     "data": {
      "text/html": [
       " View project at <a href='https://wandb.ai/dmitrii_fomin_uga/Internship_project' target=\"_blank\">https://wandb.ai/dmitrii_fomin_uga/Internship_project</a>"
      ],
      "text/plain": [
       "<IPython.core.display.HTML object>"
      ]
     },
     "metadata": {},
     "output_type": "display_data"
    },
    {
     "data": {
      "text/html": [
       " View run at <a href='https://wandb.ai/dmitrii_fomin_uga/Internship_project/runs/qdhgfjyo' target=\"_blank\">https://wandb.ai/dmitrii_fomin_uga/Internship_project/runs/qdhgfjyo</a>"
      ],
      "text/plain": [
       "<IPython.core.display.HTML object>"
      ]
     },
     "metadata": {},
     "output_type": "display_data"
    },
    {
     "data": {
      "text/html": [
       "Waiting for W&B process to finish... <strong style=\"color:green\">(success).</strong>"
      ],
      "text/plain": [
       "<IPython.core.display.HTML object>"
      ]
     },
     "metadata": {},
     "output_type": "display_data"
    },
    {
     "data": {
      "text/html": [
       "<style>\n",
       "    table.wandb td:nth-child(1) { padding: 0 10px; text-align: left ; width: auto;} td:nth-child(2) {text-align: left ; width: 100%}\n",
       "    .wandb-row { display: flex; flex-direction: row; flex-wrap: wrap; justify-content: flex-start; width: 100% }\n",
       "    .wandb-col { display: flex; flex-direction: column; flex-basis: 100%; flex: 1; padding: 10px; }\n",
       "    </style>\n",
       "<div class=\"wandb-row\"><div class=\"wandb-col\"><h3>Run history:</h3><br/><table class=\"wandb\"><tr><td>epoch</td><td>▁▁▁▂▂▂▂▂▂▃▃▃▃▃▄▄▄▄▄▄▅▅▅▅▅▅▆▆▆▆▆▇▇▇▇▇▇███</td></tr><tr><td>lr</td><td>█▇▇▆▆▅▅▄▄▄▃▃▃▃▃▂▂▂▂▂▂▂▂▂▁▁▁▁▁▁▁▁▁▁▁▁▁▁▁▁</td></tr><tr><td>test_accuracy</td><td>▁▄▇▇████████████████████████████████████</td></tr><tr><td>test_auc_score</td><td>▁▄▆▅▆▆▇▇▇▆▇▇▇▇▇▇█▇▇▇▇███████████████████</td></tr><tr><td>test_f1_score</td><td>▁▃▆▆▇▇▇▇▇▇▇▇█▇██████████████████████████</td></tr><tr><td>test_fpr</td><td>█▅▂▂▁▁▁▁▁▁▁▁▁▁▁▁▁▁▁▁▁▁▁▁▁▁▁▁▁▁▁▁▁▁▁▁▁▁▁▁</td></tr><tr><td>test_loss</td><td>█▅▂▂▁▁▁▁▁▁▁▁▁▁▁▁▁▁▁▁▁▁▁▁▁▁▁▁▁▁▁▁▁▁▁▁▁▁▁▁</td></tr><tr><td>test_tpr</td><td>██▇▆▄▃▃▄▅▄▃▁▃▃▄▄▃▄▃▅▃▄▄▅▄▅▄▄▅▅▅▅▅▅▅▄▄▅▅▄</td></tr><tr><td>train_accuracy</td><td>▁▇▇▇▇▇▇▇████████████████████████████████</td></tr><tr><td>train_auc_score</td><td>▁▆▆▆▇▇▇▇█▇▇██▇█████▇▇████▇██████████████</td></tr><tr><td>train_f1_score</td><td>▁▆▆▆▆▆▆▆▆▇▇▇▇▇▇██▇██▇▇██████████████████</td></tr><tr><td>train_fpr</td><td>█▂▁▁▁▁▁▁▁▁▁▁▁▁▁▁▁▁▁▁▁▁▁▁▁▁▁▁▁▁▁▁▁▁▁▁▁▁▁▁</td></tr><tr><td>train_loss</td><td>█▄▂▂▂▂▂▂▁▁▁▁▁▁▁▁▁▁▁▁▁▁▁▁▁▁▁▁▁▁▁▁▁▁▁▁▁▁▁▁</td></tr><tr><td>train_tpr</td><td>▆▅▃▂▃▂▁▃▂▅▅▄▆▅▅▇▆▇▇▆▅▆▇▇▇▇█▇▇▇█▇▇▇▇▇█▇██</td></tr></table><br/></div><div class=\"wandb-col\"><h3>Run summary:</h3><br/><table class=\"wandb\"><tr><td>epoch</td><td>39</td></tr><tr><td>lr</td><td>0.00015</td></tr><tr><td>test_accuracy</td><td>0.977</td></tr><tr><td>test_auc_score</td><td>0.95707</td></tr><tr><td>test_f1_score</td><td>0.83806</td></tr><tr><td>test_fpr</td><td>0.01485</td></tr><tr><td>test_loss</td><td>0.33661</td></tr><tr><td>test_tpr</td><td>0.74524</td></tr><tr><td>train_accuracy</td><td>0.98724</td></tr><tr><td>train_auc_score</td><td>0.949</td></tr><tr><td>train_f1_score</td><td>0.94675</td></tr><tr><td>train_fpr</td><td>0.00237</td></tr><tr><td>train_loss</td><td>0.32931</td></tr><tr><td>train_tpr</td><td>0.84594</td></tr></table><br/></div></div>"
      ],
      "text/plain": [
       "<IPython.core.display.HTML object>"
      ]
     },
     "metadata": {},
     "output_type": "display_data"
    },
    {
     "data": {
      "text/html": [
       " View run <strong style=\"color:#cdcd00\">EM_CrossEntropyLoss()_RUS-0.8</strong> at: <a href='https://wandb.ai/dmitrii_fomin_uga/Internship_project/runs/qdhgfjyo' target=\"_blank\">https://wandb.ai/dmitrii_fomin_uga/Internship_project/runs/qdhgfjyo</a><br/>Synced 5 W&B file(s), 0 media file(s), 0 artifact file(s) and 0 other file(s)"
      ],
      "text/plain": [
       "<IPython.core.display.HTML object>"
      ]
     },
     "metadata": {},
     "output_type": "display_data"
    },
    {
     "data": {
      "text/html": [
       "Find logs at: <code>../logs/wandb\\run-20230705_095503-qdhgfjyo\\logs</code>"
      ],
      "text/plain": [
       "<IPython.core.display.HTML object>"
      ]
     },
     "metadata": {},
     "output_type": "display_data"
    },
    {
     "data": {
      "text/html": [
       "Tracking run with wandb version 0.15.4"
      ],
      "text/plain": [
       "<IPython.core.display.HTML object>"
      ]
     },
     "metadata": {},
     "output_type": "display_data"
    },
    {
     "data": {
      "text/html": [
       "Run data is saved locally in <code>../logs/wandb\\run-20230705_095517-i77e1zjv</code>"
      ],
      "text/plain": [
       "<IPython.core.display.HTML object>"
      ]
     },
     "metadata": {},
     "output_type": "display_data"
    },
    {
     "data": {
      "text/html": [
       "Syncing run <strong><a href='https://wandb.ai/dmitrii_fomin_uga/Internship_project/runs/i77e1zjv' target=\"_blank\">EM_CrossEntropyLoss()_RUS-0.9</a></strong> to <a href='https://wandb.ai/dmitrii_fomin_uga/Internship_project' target=\"_blank\">Weights & Biases</a> (<a href='https://wandb.me/run' target=\"_blank\">docs</a>)<br/>"
      ],
      "text/plain": [
       "<IPython.core.display.HTML object>"
      ]
     },
     "metadata": {},
     "output_type": "display_data"
    },
    {
     "data": {
      "text/html": [
       " View project at <a href='https://wandb.ai/dmitrii_fomin_uga/Internship_project' target=\"_blank\">https://wandb.ai/dmitrii_fomin_uga/Internship_project</a>"
      ],
      "text/plain": [
       "<IPython.core.display.HTML object>"
      ]
     },
     "metadata": {},
     "output_type": "display_data"
    },
    {
     "data": {
      "text/html": [
       " View run at <a href='https://wandb.ai/dmitrii_fomin_uga/Internship_project/runs/i77e1zjv' target=\"_blank\">https://wandb.ai/dmitrii_fomin_uga/Internship_project/runs/i77e1zjv</a>"
      ],
      "text/plain": [
       "<IPython.core.display.HTML object>"
      ]
     },
     "metadata": {},
     "output_type": "display_data"
    },
    {
     "data": {
      "text/html": [
       "Waiting for W&B process to finish... <strong style=\"color:green\">(success).</strong>"
      ],
      "text/plain": [
       "<IPython.core.display.HTML object>"
      ]
     },
     "metadata": {},
     "output_type": "display_data"
    },
    {
     "data": {
      "text/html": [
       "<style>\n",
       "    table.wandb td:nth-child(1) { padding: 0 10px; text-align: left ; width: auto;} td:nth-child(2) {text-align: left ; width: 100%}\n",
       "    .wandb-row { display: flex; flex-direction: row; flex-wrap: wrap; justify-content: flex-start; width: 100% }\n",
       "    .wandb-col { display: flex; flex-direction: column; flex-basis: 100%; flex: 1; padding: 10px; }\n",
       "    </style>\n",
       "<div class=\"wandb-row\"><div class=\"wandb-col\"><h3>Run history:</h3><br/><table class=\"wandb\"><tr><td>epoch</td><td>▁▁▁▂▂▂▂▂▂▃▃▃▃▃▄▄▄▄▄▄▅▅▅▅▅▅▆▆▆▆▆▇▇▇▇▇▇███</td></tr><tr><td>lr</td><td>█▇▇▆▆▅▅▄▄▄▃▃▃▃▃▂▂▂▂▂▂▂▂▂▁▁▁▁▁▁▁▁▁▁▁▁▁▁▁▁</td></tr><tr><td>test_accuracy</td><td>▁▄▇█████████████████████████████████████</td></tr><tr><td>test_auc_score</td><td>▁▄▄▅▆▅▅▆▇▆▇▆▇▆▇█▇▆▆▇▇▇▆▆▆▆▆▇▆▆▇▆▆▆▆▆▆▆▆▆</td></tr><tr><td>test_f1_score</td><td>▁▃▆▆▇▆▇▇▇█▇█▇██▇████▇███████████████████</td></tr><tr><td>test_fpr</td><td>█▅▂▁▁▁▁▁▁▁▁▁▁▁▁▁▁▁▁▁▁▁▁▁▁▁▁▁▁▁▁▁▁▁▁▁▁▁▁▁</td></tr><tr><td>test_loss</td><td>█▅▂▂▁▁▁▁▁▁▁▁▁▁▁▁▁▁▁▁▁▁▁▁▁▁▁▁▁▁▁▁▁▁▁▁▁▁▁▁</td></tr><tr><td>test_tpr</td><td>█▇▅▅▄▄▃▃▂▅▂▃▃▃▄▄▄▄▁▄▄▅▃▄▄▄▄▅▅▄▅▄▃▄▄▄▄▄▄▄</td></tr><tr><td>train_accuracy</td><td>▁▇▇▇█▇▇█████████████████████████████████</td></tr><tr><td>train_auc_score</td><td>▁▇▇▇█████▇▇██████▇██████████████████████</td></tr><tr><td>train_f1_score</td><td>▁▅▆▆▇▆▆▇▇▇▇▇▇▇▇▇▇▇█▇▇███████████████████</td></tr><tr><td>train_fpr</td><td>█▂▁▁▁▁▁▁▁▁▁▁▁▁▁▁▁▁▁▁▁▁▁▁▁▁▁▁▁▁▁▁▁▁▁▁▁▁▁▁</td></tr><tr><td>train_loss</td><td>█▄▂▂▂▂▂▁▁▁▁▁▁▁▁▁▁▁▁▁▁▁▁▁▁▁▁▁▁▁▁▁▁▁▁▁▁▁▁▁</td></tr><tr><td>train_tpr</td><td>▅▄▃▁▃▂▃▄▅▄▅▅▅▆▆▆▅▆▇▅▇▆▇▇▇▇▆▇▇▇▇▇█▇▇██▇██</td></tr></table><br/></div><div class=\"wandb-col\"><h3>Run summary:</h3><br/><table class=\"wandb\"><tr><td>epoch</td><td>39</td></tr><tr><td>lr</td><td>0.00015</td></tr><tr><td>test_accuracy</td><td>0.97742</td></tr><tr><td>test_auc_score</td><td>0.91021</td></tr><tr><td>test_f1_score</td><td>0.84674</td></tr><tr><td>test_fpr</td><td>0.01578</td></tr><tr><td>test_loss</td><td>0.33707</td></tr><tr><td>test_tpr</td><td>0.78348</td></tr><tr><td>train_accuracy</td><td>0.9858</td></tr><tr><td>train_auc_score</td><td>0.93333</td></tr><tr><td>train_f1_score</td><td>0.93949</td></tr><tr><td>train_fpr</td><td>0.00275</td></tr><tr><td>train_loss</td><td>0.3306</td></tr><tr><td>train_tpr</td><td>0.8282</td></tr></table><br/></div></div>"
      ],
      "text/plain": [
       "<IPython.core.display.HTML object>"
      ]
     },
     "metadata": {},
     "output_type": "display_data"
    },
    {
     "data": {
      "text/html": [
       " View run <strong style=\"color:#cdcd00\">EM_CrossEntropyLoss()_RUS-0.9</strong> at: <a href='https://wandb.ai/dmitrii_fomin_uga/Internship_project/runs/i77e1zjv' target=\"_blank\">https://wandb.ai/dmitrii_fomin_uga/Internship_project/runs/i77e1zjv</a><br/>Synced 5 W&B file(s), 0 media file(s), 0 artifact file(s) and 0 other file(s)"
      ],
      "text/plain": [
       "<IPython.core.display.HTML object>"
      ]
     },
     "metadata": {},
     "output_type": "display_data"
    },
    {
     "data": {
      "text/html": [
       "Find logs at: <code>../logs/wandb\\run-20230705_095517-i77e1zjv\\logs</code>"
      ],
      "text/plain": [
       "<IPython.core.display.HTML object>"
      ]
     },
     "metadata": {},
     "output_type": "display_data"
    },
    {
     "data": {
      "text/html": [
       "Tracking run with wandb version 0.15.4"
      ],
      "text/plain": [
       "<IPython.core.display.HTML object>"
      ]
     },
     "metadata": {},
     "output_type": "display_data"
    },
    {
     "data": {
      "text/html": [
       "Run data is saved locally in <code>../logs/wandb\\run-20230705_095531-t4owjqsg</code>"
      ],
      "text/plain": [
       "<IPython.core.display.HTML object>"
      ]
     },
     "metadata": {},
     "output_type": "display_data"
    },
    {
     "data": {
      "text/html": [
       "Syncing run <strong><a href='https://wandb.ai/dmitrii_fomin_uga/Internship_project/runs/t4owjqsg' target=\"_blank\">EM_CrossEntropyLoss()_RUS-1</a></strong> to <a href='https://wandb.ai/dmitrii_fomin_uga/Internship_project' target=\"_blank\">Weights & Biases</a> (<a href='https://wandb.me/run' target=\"_blank\">docs</a>)<br/>"
      ],
      "text/plain": [
       "<IPython.core.display.HTML object>"
      ]
     },
     "metadata": {},
     "output_type": "display_data"
    },
    {
     "data": {
      "text/html": [
       " View project at <a href='https://wandb.ai/dmitrii_fomin_uga/Internship_project' target=\"_blank\">https://wandb.ai/dmitrii_fomin_uga/Internship_project</a>"
      ],
      "text/plain": [
       "<IPython.core.display.HTML object>"
      ]
     },
     "metadata": {},
     "output_type": "display_data"
    },
    {
     "data": {
      "text/html": [
       " View run at <a href='https://wandb.ai/dmitrii_fomin_uga/Internship_project/runs/t4owjqsg' target=\"_blank\">https://wandb.ai/dmitrii_fomin_uga/Internship_project/runs/t4owjqsg</a>"
      ],
      "text/plain": [
       "<IPython.core.display.HTML object>"
      ]
     },
     "metadata": {},
     "output_type": "display_data"
    },
    {
     "data": {
      "text/html": [
       "Waiting for W&B process to finish... <strong style=\"color:green\">(success).</strong>"
      ],
      "text/plain": [
       "<IPython.core.display.HTML object>"
      ]
     },
     "metadata": {},
     "output_type": "display_data"
    },
    {
     "data": {
      "text/html": [
       "<style>\n",
       "    table.wandb td:nth-child(1) { padding: 0 10px; text-align: left ; width: auto;} td:nth-child(2) {text-align: left ; width: 100%}\n",
       "    .wandb-row { display: flex; flex-direction: row; flex-wrap: wrap; justify-content: flex-start; width: 100% }\n",
       "    .wandb-col { display: flex; flex-direction: column; flex-basis: 100%; flex: 1; padding: 10px; }\n",
       "    </style>\n",
       "<div class=\"wandb-row\"><div class=\"wandb-col\"><h3>Run history:</h3><br/><table class=\"wandb\"><tr><td>epoch</td><td>▁▁▁▂▂▂▂▂▂▃▃▃▃▃▄▄▄▄▄▄▅▅▅▅▅▅▆▆▆▆▆▇▇▇▇▇▇███</td></tr><tr><td>lr</td><td>█▇▇▆▆▅▅▄▄▄▃▃▃▃▃▂▂▂▂▂▂▂▂▂▁▁▁▁▁▁▁▁▁▁▁▁▁▁▁▁</td></tr><tr><td>test_accuracy</td><td>▁▆▇█████████████████████████████████████</td></tr><tr><td>test_auc_score</td><td>▁▇▆▇▇▇██▇▇▇▇▇▇▇▇▇▇▇▇▇▇▇▇▇▇▇▇▇▇▇▇▇▇▇▇▇▇▇▇</td></tr><tr><td>test_f1_score</td><td>▁▅▆▇▇▇▇▇▇▇███▇██████████████████████████</td></tr><tr><td>test_fpr</td><td>█▃▂▁▁▁▁▁▁▁▁▁▁▁▁▁▁▁▁▁▁▁▁▁▁▁▁▁▁▁▁▁▁▁▁▁▁▁▁▁</td></tr><tr><td>test_loss</td><td>█▄▂▂▁▁▁▁▁▁▁▁▁▁▁▁▁▁▁▁▁▁▁▁▁▁▁▁▁▁▁▁▁▁▁▁▁▁▁▁</td></tr><tr><td>test_tpr</td><td>█▇▅▅▄▃▃▄▁▄▃▃▄▂▃▄▄▃▃▄▄▄▃▄▃▄▄▃▄▃▄▄▄▃▄▄▄▄▄▄</td></tr><tr><td>train_accuracy</td><td>▁▇▇▇▇█▇█████████████████████████████████</td></tr><tr><td>train_auc_score</td><td>▁▆▆▇▇▇██████████████████████████████████</td></tr><tr><td>train_f1_score</td><td>▁▅▆▆▆▇▆▇▇▇▇▇▇▇▇▇▇██▇██▇█████████████████</td></tr><tr><td>train_fpr</td><td>█▂▁▁▁▁▁▁▁▁▁▁▁▁▁▁▁▁▁▁▁▁▁▁▁▁▁▁▁▁▁▁▁▁▁▁▁▁▁▁</td></tr><tr><td>train_loss</td><td>█▄▂▂▂▂▂▁▁▁▁▁▁▁▁▁▁▁▁▁▁▁▁▁▁▁▁▁▁▁▁▁▁▁▁▁▁▁▁▁</td></tr><tr><td>train_tpr</td><td>▄▄▁▁▂▂▂▂▃▃▄▃▄▄▄▃▆▆▇▅▇▇▆▆▇▆▇▇▇▇▇▇▇█████▇█</td></tr></table><br/></div><div class=\"wandb-col\"><h3>Run summary:</h3><br/><table class=\"wandb\"><tr><td>epoch</td><td>39</td></tr><tr><td>lr</td><td>0.00015</td></tr><tr><td>test_accuracy</td><td>0.97357</td></tr><tr><td>test_auc_score</td><td>0.93575</td></tr><tr><td>test_f1_score</td><td>0.8139</td></tr><tr><td>test_fpr</td><td>0.01863</td></tr><tr><td>test_loss</td><td>0.3402</td></tr><tr><td>test_tpr</td><td>0.74058</td></tr><tr><td>train_accuracy</td><td>0.98657</td></tr><tr><td>train_auc_score</td><td>0.96444</td></tr><tr><td>train_f1_score</td><td>0.9429</td></tr><tr><td>train_fpr</td><td>0.00204</td></tr><tr><td>train_loss</td><td>0.32981</td></tr><tr><td>train_tpr</td><td>0.83158</td></tr></table><br/></div></div>"
      ],
      "text/plain": [
       "<IPython.core.display.HTML object>"
      ]
     },
     "metadata": {},
     "output_type": "display_data"
    },
    {
     "data": {
      "text/html": [
       " View run <strong style=\"color:#cdcd00\">EM_CrossEntropyLoss()_RUS-1</strong> at: <a href='https://wandb.ai/dmitrii_fomin_uga/Internship_project/runs/t4owjqsg' target=\"_blank\">https://wandb.ai/dmitrii_fomin_uga/Internship_project/runs/t4owjqsg</a><br/>Synced 5 W&B file(s), 0 media file(s), 0 artifact file(s) and 0 other file(s)"
      ],
      "text/plain": [
       "<IPython.core.display.HTML object>"
      ]
     },
     "metadata": {},
     "output_type": "display_data"
    },
    {
     "data": {
      "text/html": [
       "Find logs at: <code>../logs/wandb\\run-20230705_095531-t4owjqsg\\logs</code>"
      ],
      "text/plain": [
       "<IPython.core.display.HTML object>"
      ]
     },
     "metadata": {},
     "output_type": "display_data"
    },
    {
     "data": {
      "text/html": [
       "Tracking run with wandb version 0.15.4"
      ],
      "text/plain": [
       "<IPython.core.display.HTML object>"
      ]
     },
     "metadata": {},
     "output_type": "display_data"
    },
    {
     "data": {
      "text/html": [
       "Run data is saved locally in <code>../logs/wandb\\run-20230705_095545-5qsja3li</code>"
      ],
      "text/plain": [
       "<IPython.core.display.HTML object>"
      ]
     },
     "metadata": {},
     "output_type": "display_data"
    },
    {
     "data": {
      "text/html": [
       "Syncing run <strong><a href='https://wandb.ai/dmitrii_fomin_uga/Internship_project/runs/5qsja3li' target=\"_blank\">EM_CrossEntropyLoss()_SMOTE-0.05</a></strong> to <a href='https://wandb.ai/dmitrii_fomin_uga/Internship_project' target=\"_blank\">Weights & Biases</a> (<a href='https://wandb.me/run' target=\"_blank\">docs</a>)<br/>"
      ],
      "text/plain": [
       "<IPython.core.display.HTML object>"
      ]
     },
     "metadata": {},
     "output_type": "display_data"
    },
    {
     "data": {
      "text/html": [
       " View project at <a href='https://wandb.ai/dmitrii_fomin_uga/Internship_project' target=\"_blank\">https://wandb.ai/dmitrii_fomin_uga/Internship_project</a>"
      ],
      "text/plain": [
       "<IPython.core.display.HTML object>"
      ]
     },
     "metadata": {},
     "output_type": "display_data"
    },
    {
     "data": {
      "text/html": [
       " View run at <a href='https://wandb.ai/dmitrii_fomin_uga/Internship_project/runs/5qsja3li' target=\"_blank\">https://wandb.ai/dmitrii_fomin_uga/Internship_project/runs/5qsja3li</a>"
      ],
      "text/plain": [
       "<IPython.core.display.HTML object>"
      ]
     },
     "metadata": {},
     "output_type": "display_data"
    },
    {
     "data": {
      "text/html": [
       "Waiting for W&B process to finish... <strong style=\"color:green\">(success).</strong>"
      ],
      "text/plain": [
       "<IPython.core.display.HTML object>"
      ]
     },
     "metadata": {},
     "output_type": "display_data"
    },
    {
     "data": {
      "text/html": [
       "<style>\n",
       "    table.wandb td:nth-child(1) { padding: 0 10px; text-align: left ; width: auto;} td:nth-child(2) {text-align: left ; width: 100%}\n",
       "    .wandb-row { display: flex; flex-direction: row; flex-wrap: wrap; justify-content: flex-start; width: 100% }\n",
       "    .wandb-col { display: flex; flex-direction: column; flex-basis: 100%; flex: 1; padding: 10px; }\n",
       "    </style>\n",
       "<div class=\"wandb-row\"><div class=\"wandb-col\"><h3>Run history:</h3><br/><table class=\"wandb\"><tr><td>epoch</td><td>▁▁▁▂▂▂▂▂▂▃▃▃▃▃▄▄▄▄▄▄▅▅▅▅▅▅▆▆▆▆▆▇▇▇▇▇▇███</td></tr><tr><td>lr</td><td>█▇▇▆▆▅▅▄▄▄▃▃▃▃▃▂▂▂▂▂▂▂▂▂▁▁▁▁▁▁▁▁▁▁▁▁▁▁▁▁</td></tr><tr><td>test_accuracy</td><td>▁▅▇█████████████████████████████████████</td></tr><tr><td>test_auc_score</td><td>▄▅▁▃▅▇▆▇▇▇▇██▇███▇▇██████▇█▇█▇▇▇▇▇██▇█▇▇</td></tr><tr><td>test_f1_score</td><td>▁▄▅▆▆▇▇▇▇▇▇█▇▇██████████████████████████</td></tr><tr><td>test_fpr</td><td>█▄▂▁▁▁▁▁▁▁▁▁▁▁▁▁▁▁▁▁▁▁▁▁▁▁▁▁▁▁▁▁▁▁▁▁▁▁▁▁</td></tr><tr><td>test_loss</td><td>█▄▂▁▁▁▁▁▁▁▁▁▁▁▁▁▁▁▁▁▁▁▁▁▁▁▁▁▁▁▁▁▁▁▁▁▁▁▁▁</td></tr><tr><td>test_tpr</td><td>█▆▂▁▃▃▂▂▂▂▂▂▂▁▂▃▃▃▃▃▅▂▄▂▄▃▄▄▄▄▃▄▄▄▄▄▄▄▄▄</td></tr><tr><td>train_accuracy</td><td>▁▇▇▇████████████████████████████████████</td></tr><tr><td>train_auc_score</td><td>▁▇▅▅▆▇▇▇███▇███████████████████▇████████</td></tr><tr><td>train_f1_score</td><td>▁▅▆▅▆▆▆▆▆▆▇▇▇▇▇▇▇▇█▇▇█▇█████████████████</td></tr><tr><td>train_fpr</td><td>█▂▁▁▁▁▁▁▁▁▁▁▁▁▁▁▁▁▁▁▁▁▁▁▁▁▁▁▁▁▁▁▁▁▁▁▁▁▁▁</td></tr><tr><td>train_loss</td><td>█▄▂▂▂▂▁▁▁▁▁▁▁▁▁▁▁▁▁▁▁▁▁▁▁▁▁▁▁▁▁▁▁▁▁▁▁▁▁▁</td></tr><tr><td>train_tpr</td><td>▅▆▂▁▁▃▃▄▄▄▅▅▆▆▆▆▇▇▇▇▆▇▇▇▇█▇████▇▇▇█▇████</td></tr></table><br/></div><div class=\"wandb-col\"><h3>Run summary:</h3><br/><table class=\"wandb\"><tr><td>epoch</td><td>39</td></tr><tr><td>lr</td><td>0.00015</td></tr><tr><td>test_accuracy</td><td>0.9799</td></tr><tr><td>test_auc_score</td><td>0.92816</td></tr><tr><td>test_f1_score</td><td>0.84238</td></tr><tr><td>test_fpr</td><td>0.00971</td></tr><tr><td>test_loss</td><td>0.3344</td></tr><tr><td>test_tpr</td><td>0.68571</td></tr><tr><td>train_accuracy</td><td>0.98958</td></tr><tr><td>train_auc_score</td><td>0.93593</td></tr><tr><td>train_f1_score</td><td>0.93659</td></tr><tr><td>train_fpr</td><td>0.00118</td></tr><tr><td>train_loss</td><td>0.32726</td></tr><tr><td>train_tpr</td><td>0.80249</td></tr></table><br/></div></div>"
      ],
      "text/plain": [
       "<IPython.core.display.HTML object>"
      ]
     },
     "metadata": {},
     "output_type": "display_data"
    },
    {
     "data": {
      "text/html": [
       " View run <strong style=\"color:#cdcd00\">EM_CrossEntropyLoss()_SMOTE-0.05</strong> at: <a href='https://wandb.ai/dmitrii_fomin_uga/Internship_project/runs/5qsja3li' target=\"_blank\">https://wandb.ai/dmitrii_fomin_uga/Internship_project/runs/5qsja3li</a><br/>Synced 5 W&B file(s), 0 media file(s), 0 artifact file(s) and 0 other file(s)"
      ],
      "text/plain": [
       "<IPython.core.display.HTML object>"
      ]
     },
     "metadata": {},
     "output_type": "display_data"
    },
    {
     "data": {
      "text/html": [
       "Find logs at: <code>../logs/wandb\\run-20230705_095545-5qsja3li\\logs</code>"
      ],
      "text/plain": [
       "<IPython.core.display.HTML object>"
      ]
     },
     "metadata": {},
     "output_type": "display_data"
    },
    {
     "data": {
      "text/html": [
       "Tracking run with wandb version 0.15.4"
      ],
      "text/plain": [
       "<IPython.core.display.HTML object>"
      ]
     },
     "metadata": {},
     "output_type": "display_data"
    },
    {
     "data": {
      "text/html": [
       "Run data is saved locally in <code>../logs/wandb\\run-20230705_095600-s9hr0b2h</code>"
      ],
      "text/plain": [
       "<IPython.core.display.HTML object>"
      ]
     },
     "metadata": {},
     "output_type": "display_data"
    },
    {
     "data": {
      "text/html": [
       "Syncing run <strong><a href='https://wandb.ai/dmitrii_fomin_uga/Internship_project/runs/s9hr0b2h' target=\"_blank\">EM_CrossEntropyLoss()_SMOTE-0.1</a></strong> to <a href='https://wandb.ai/dmitrii_fomin_uga/Internship_project' target=\"_blank\">Weights & Biases</a> (<a href='https://wandb.me/run' target=\"_blank\">docs</a>)<br/>"
      ],
      "text/plain": [
       "<IPython.core.display.HTML object>"
      ]
     },
     "metadata": {},
     "output_type": "display_data"
    },
    {
     "data": {
      "text/html": [
       " View project at <a href='https://wandb.ai/dmitrii_fomin_uga/Internship_project' target=\"_blank\">https://wandb.ai/dmitrii_fomin_uga/Internship_project</a>"
      ],
      "text/plain": [
       "<IPython.core.display.HTML object>"
      ]
     },
     "metadata": {},
     "output_type": "display_data"
    },
    {
     "data": {
      "text/html": [
       " View run at <a href='https://wandb.ai/dmitrii_fomin_uga/Internship_project/runs/s9hr0b2h' target=\"_blank\">https://wandb.ai/dmitrii_fomin_uga/Internship_project/runs/s9hr0b2h</a>"
      ],
      "text/plain": [
       "<IPython.core.display.HTML object>"
      ]
     },
     "metadata": {},
     "output_type": "display_data"
    },
    {
     "data": {
      "text/html": [
       "Waiting for W&B process to finish... <strong style=\"color:green\">(success).</strong>"
      ],
      "text/plain": [
       "<IPython.core.display.HTML object>"
      ]
     },
     "metadata": {},
     "output_type": "display_data"
    },
    {
     "data": {
      "text/html": [
       "<style>\n",
       "    table.wandb td:nth-child(1) { padding: 0 10px; text-align: left ; width: auto;} td:nth-child(2) {text-align: left ; width: 100%}\n",
       "    .wandb-row { display: flex; flex-direction: row; flex-wrap: wrap; justify-content: flex-start; width: 100% }\n",
       "    .wandb-col { display: flex; flex-direction: column; flex-basis: 100%; flex: 1; padding: 10px; }\n",
       "    </style>\n",
       "<div class=\"wandb-row\"><div class=\"wandb-col\"><h3>Run history:</h3><br/><table class=\"wandb\"><tr><td>epoch</td><td>▁▁▁▂▂▂▂▂▂▃▃▃▃▃▄▄▄▄▄▄▅▅▅▅▅▅▆▆▆▆▆▇▇▇▇▇▇███</td></tr><tr><td>lr</td><td>█▇▇▆▆▅▅▄▄▄▃▃▃▃▃▂▂▂▂▂▂▂▂▂▁▁▁▁▁▁▁▁▁▁▁▁▁▁▁▁</td></tr><tr><td>test_accuracy</td><td>▁▆▇█████████████████████████████████████</td></tr><tr><td>test_auc_score</td><td>▁▅▄▃▄▃▄▃▄▄▇▇▇▅▆▇▅▇▇▇▆██▇▇█▇▆▆▆▆▆▇█▇▆▆▆▆▇</td></tr><tr><td>test_f1_score</td><td>▁▅▆▆▇▇▇▇▇▇█▇█▇██▇███▇███████████████████</td></tr><tr><td>test_fpr</td><td>█▃▂▁▁▁▁▁▁▁▁▁▁▁▁▁▁▁▁▁▁▁▁▁▁▁▁▁▁▁▁▁▁▁▁▁▁▁▁▁</td></tr><tr><td>test_loss</td><td>█▄▂▂▁▁▁▁▁▁▁▁▁▁▁▁▁▁▁▁▁▁▁▁▁▁▁▁▁▁▁▁▁▁▁▁▁▁▁▁</td></tr><tr><td>test_tpr</td><td>█▇▄▃▃▅▁▄▃▃▄▅▄▃▄▄▄▅▅▅▄▄▅▅▅▄▅▄▅▅▅▅▅▅▅▅▅▅▅▅</td></tr><tr><td>train_accuracy</td><td>▁▇▇▇▇▇▇▇▇███████████████████████████████</td></tr><tr><td>train_auc_score</td><td>▁▆▇▆▆▇▇▆▇██▇████▇▇▇█▇▇█████████████▇██▇█</td></tr><tr><td>train_f1_score</td><td>▁▆▆▆▆▆▆▆▇▇▇▇▇▇▇▇▇███▇█▇▇████████████████</td></tr><tr><td>train_fpr</td><td>█▂▂▁▂▁▁▁▁▁▁▁▁▁▁▁▁▁▁▁▁▁▁▁▁▁▁▁▁▁▁▁▁▁▁▁▁▁▁▁</td></tr><tr><td>train_loss</td><td>█▄▂▂▂▂▂▂▂▁▁▁▁▁▁▁▁▁▁▁▁▁▁▁▁▁▁▁▁▁▁▁▁▁▁▁▁▁▁▁</td></tr><tr><td>train_tpr</td><td>▃▃▂▂▁▂▂▁▂▅▄▃▅▆▅▆▆▆▆▆▅▆▅▆▇▇▇▇▆▇█▇█▇▇▆▇█▇▇</td></tr></table><br/></div><div class=\"wandb-col\"><h3>Run summary:</h3><br/><table class=\"wandb\"><tr><td>epoch</td><td>39</td></tr><tr><td>lr</td><td>0.00015</td></tr><tr><td>test_accuracy</td><td>0.96761</td></tr><tr><td>test_auc_score</td><td>0.94178</td></tr><tr><td>test_f1_score</td><td>0.80319</td></tr><tr><td>test_fpr</td><td>0.02594</td></tr><tr><td>test_loss</td><td>0.34526</td></tr><tr><td>test_tpr</td><td>0.7857</td></tr><tr><td>train_accuracy</td><td>0.98288</td></tr><tr><td>train_auc_score</td><td>0.96419</td></tr><tr><td>train_f1_score</td><td>0.93872</td></tr><tr><td>train_fpr</td><td>0.00396</td></tr><tr><td>train_loss</td><td>0.3328</td></tr><tr><td>train_tpr</td><td>0.8388</td></tr></table><br/></div></div>"
      ],
      "text/plain": [
       "<IPython.core.display.HTML object>"
      ]
     },
     "metadata": {},
     "output_type": "display_data"
    },
    {
     "data": {
      "text/html": [
       " View run <strong style=\"color:#cdcd00\">EM_CrossEntropyLoss()_SMOTE-0.1</strong> at: <a href='https://wandb.ai/dmitrii_fomin_uga/Internship_project/runs/s9hr0b2h' target=\"_blank\">https://wandb.ai/dmitrii_fomin_uga/Internship_project/runs/s9hr0b2h</a><br/>Synced 5 W&B file(s), 0 media file(s), 0 artifact file(s) and 0 other file(s)"
      ],
      "text/plain": [
       "<IPython.core.display.HTML object>"
      ]
     },
     "metadata": {},
     "output_type": "display_data"
    },
    {
     "data": {
      "text/html": [
       "Find logs at: <code>../logs/wandb\\run-20230705_095600-s9hr0b2h\\logs</code>"
      ],
      "text/plain": [
       "<IPython.core.display.HTML object>"
      ]
     },
     "metadata": {},
     "output_type": "display_data"
    },
    {
     "data": {
      "text/html": [
       "Tracking run with wandb version 0.15.4"
      ],
      "text/plain": [
       "<IPython.core.display.HTML object>"
      ]
     },
     "metadata": {},
     "output_type": "display_data"
    },
    {
     "data": {
      "text/html": [
       "Run data is saved locally in <code>../logs/wandb\\run-20230705_095616-y9m6xam7</code>"
      ],
      "text/plain": [
       "<IPython.core.display.HTML object>"
      ]
     },
     "metadata": {},
     "output_type": "display_data"
    },
    {
     "data": {
      "text/html": [
       "Syncing run <strong><a href='https://wandb.ai/dmitrii_fomin_uga/Internship_project/runs/y9m6xam7' target=\"_blank\">EM_CrossEntropyLoss()_SMOTE-0.15</a></strong> to <a href='https://wandb.ai/dmitrii_fomin_uga/Internship_project' target=\"_blank\">Weights & Biases</a> (<a href='https://wandb.me/run' target=\"_blank\">docs</a>)<br/>"
      ],
      "text/plain": [
       "<IPython.core.display.HTML object>"
      ]
     },
     "metadata": {},
     "output_type": "display_data"
    },
    {
     "data": {
      "text/html": [
       " View project at <a href='https://wandb.ai/dmitrii_fomin_uga/Internship_project' target=\"_blank\">https://wandb.ai/dmitrii_fomin_uga/Internship_project</a>"
      ],
      "text/plain": [
       "<IPython.core.display.HTML object>"
      ]
     },
     "metadata": {},
     "output_type": "display_data"
    },
    {
     "data": {
      "text/html": [
       " View run at <a href='https://wandb.ai/dmitrii_fomin_uga/Internship_project/runs/y9m6xam7' target=\"_blank\">https://wandb.ai/dmitrii_fomin_uga/Internship_project/runs/y9m6xam7</a>"
      ],
      "text/plain": [
       "<IPython.core.display.HTML object>"
      ]
     },
     "metadata": {},
     "output_type": "display_data"
    },
    {
     "data": {
      "text/html": [
       "Waiting for W&B process to finish... <strong style=\"color:green\">(success).</strong>"
      ],
      "text/plain": [
       "<IPython.core.display.HTML object>"
      ]
     },
     "metadata": {},
     "output_type": "display_data"
    },
    {
     "data": {
      "text/html": [
       "<style>\n",
       "    table.wandb td:nth-child(1) { padding: 0 10px; text-align: left ; width: auto;} td:nth-child(2) {text-align: left ; width: 100%}\n",
       "    .wandb-row { display: flex; flex-direction: row; flex-wrap: wrap; justify-content: flex-start; width: 100% }\n",
       "    .wandb-col { display: flex; flex-direction: column; flex-basis: 100%; flex: 1; padding: 10px; }\n",
       "    </style>\n",
       "<div class=\"wandb-row\"><div class=\"wandb-col\"><h3>Run history:</h3><br/><table class=\"wandb\"><tr><td>epoch</td><td>▁▁▁▂▂▂▂▂▂▃▃▃▃▃▄▄▄▄▄▄▅▅▅▅▅▅▆▆▆▆▆▇▇▇▇▇▇███</td></tr><tr><td>lr</td><td>█▇▇▆▆▅▅▄▄▄▃▃▃▃▃▂▂▂▂▂▂▂▂▂▁▁▁▁▁▁▁▁▁▁▁▁▁▁▁▁</td></tr><tr><td>test_accuracy</td><td>▁▆▇█████████████████████████████████████</td></tr><tr><td>test_auc_score</td><td>▁▄▅▃▃▅▄█▆▇▇▆▆▅▆▆▆▇▇▇▇▇█▇▇▇▇▇▇▇▇▆▇▇▇▇▇▇▇▇</td></tr><tr><td>test_f1_score</td><td>▁▅▆▇▇▇██▇█▇█▇▇▇██▇█▇███▇██▇█████████████</td></tr><tr><td>test_fpr</td><td>█▃▂▁▁▁▁▁▁▁▁▁▁▁▁▁▁▁▁▁▁▁▁▁▁▁▁▁▁▁▁▁▁▁▁▁▁▁▁▁</td></tr><tr><td>test_loss</td><td>█▄▂▁▁▁▁▁▁▁▁▁▁▁▁▁▁▁▁▁▁▁▁▁▁▁▁▁▁▁▁▁▁▁▁▁▁▁▁▁</td></tr><tr><td>test_tpr</td><td>█▆▄▃▂▅▂▅▁▄▄▄▃▄▅▂▃▅▃▅▃▄▅▄▅▃▄▄▄▅▅▄▅▅▅▅▅▅▅▅</td></tr><tr><td>train_accuracy</td><td>▁▇▇▇▇▇▇▇▇▇▇▇█▇██████████████████████████</td></tr><tr><td>train_auc_score</td><td>▁▆▇▇▆▇▇▇█▇███▇██████████████████████████</td></tr><tr><td>train_f1_score</td><td>▁▆▆▆▆▇▇▇▇▇▇▇▇▇▇▇▇▇█▇████████████████████</td></tr><tr><td>train_fpr</td><td>█▂▂▂▁▁▁▁▁▁▁▁▁▁▁▁▁▁▁▁▁▁▁▁▁▁▁▁▁▁▁▁▁▁▁▁▁▁▁▁</td></tr><tr><td>train_loss</td><td>█▄▂▂▂▂▂▂▂▂▁▁▁▁▁▁▁▁▁▁▁▁▁▁▁▁▁▁▁▁▁▁▁▁▁▁▁▁▁▁</td></tr><tr><td>train_tpr</td><td>▂▂▂▂▁▃▃▃▃▄▄▅▅▃▆▅▅▆▆▆▇▆▆▇▇▇▇▇▇▇█▇▇█▇██▇▇█</td></tr></table><br/></div><div class=\"wandb-col\"><h3>Run summary:</h3><br/><table class=\"wandb\"><tr><td>epoch</td><td>39</td></tr><tr><td>lr</td><td>0.00015</td></tr><tr><td>test_accuracy</td><td>0.95675</td></tr><tr><td>test_auc_score</td><td>0.94755</td></tr><tr><td>test_f1_score</td><td>0.7778</td></tr><tr><td>test_fpr</td><td>0.03929</td></tr><tr><td>test_loss</td><td>0.35538</td></tr><tr><td>test_tpr</td><td>0.84494</td></tr><tr><td>train_accuracy</td><td>0.98228</td></tr><tr><td>train_auc_score</td><td>0.97482</td></tr><tr><td>train_f1_score</td><td>0.95976</td></tr><tr><td>train_fpr</td><td>0.0051</td></tr><tr><td>train_loss</td><td>0.33287</td></tr><tr><td>train_tpr</td><td>0.89881</td></tr></table><br/></div></div>"
      ],
      "text/plain": [
       "<IPython.core.display.HTML object>"
      ]
     },
     "metadata": {},
     "output_type": "display_data"
    },
    {
     "data": {
      "text/html": [
       " View run <strong style=\"color:#cdcd00\">EM_CrossEntropyLoss()_SMOTE-0.15</strong> at: <a href='https://wandb.ai/dmitrii_fomin_uga/Internship_project/runs/y9m6xam7' target=\"_blank\">https://wandb.ai/dmitrii_fomin_uga/Internship_project/runs/y9m6xam7</a><br/>Synced 5 W&B file(s), 0 media file(s), 0 artifact file(s) and 0 other file(s)"
      ],
      "text/plain": [
       "<IPython.core.display.HTML object>"
      ]
     },
     "metadata": {},
     "output_type": "display_data"
    },
    {
     "data": {
      "text/html": [
       "Find logs at: <code>../logs/wandb\\run-20230705_095616-y9m6xam7\\logs</code>"
      ],
      "text/plain": [
       "<IPython.core.display.HTML object>"
      ]
     },
     "metadata": {},
     "output_type": "display_data"
    },
    {
     "data": {
      "text/html": [
       "Tracking run with wandb version 0.15.4"
      ],
      "text/plain": [
       "<IPython.core.display.HTML object>"
      ]
     },
     "metadata": {},
     "output_type": "display_data"
    },
    {
     "data": {
      "text/html": [
       "Run data is saved locally in <code>../logs/wandb\\run-20230705_095632-u4h8xqg3</code>"
      ],
      "text/plain": [
       "<IPython.core.display.HTML object>"
      ]
     },
     "metadata": {},
     "output_type": "display_data"
    },
    {
     "data": {
      "text/html": [
       "Syncing run <strong><a href='https://wandb.ai/dmitrii_fomin_uga/Internship_project/runs/u4h8xqg3' target=\"_blank\">EM_CrossEntropyLoss()_SMOTE-0.2</a></strong> to <a href='https://wandb.ai/dmitrii_fomin_uga/Internship_project' target=\"_blank\">Weights & Biases</a> (<a href='https://wandb.me/run' target=\"_blank\">docs</a>)<br/>"
      ],
      "text/plain": [
       "<IPython.core.display.HTML object>"
      ]
     },
     "metadata": {},
     "output_type": "display_data"
    },
    {
     "data": {
      "text/html": [
       " View project at <a href='https://wandb.ai/dmitrii_fomin_uga/Internship_project' target=\"_blank\">https://wandb.ai/dmitrii_fomin_uga/Internship_project</a>"
      ],
      "text/plain": [
       "<IPython.core.display.HTML object>"
      ]
     },
     "metadata": {},
     "output_type": "display_data"
    },
    {
     "data": {
      "text/html": [
       " View run at <a href='https://wandb.ai/dmitrii_fomin_uga/Internship_project/runs/u4h8xqg3' target=\"_blank\">https://wandb.ai/dmitrii_fomin_uga/Internship_project/runs/u4h8xqg3</a>"
      ],
      "text/plain": [
       "<IPython.core.display.HTML object>"
      ]
     },
     "metadata": {},
     "output_type": "display_data"
    },
    {
     "data": {
      "text/html": [
       "Waiting for W&B process to finish... <strong style=\"color:green\">(success).</strong>"
      ],
      "text/plain": [
       "<IPython.core.display.HTML object>"
      ]
     },
     "metadata": {},
     "output_type": "display_data"
    },
    {
     "data": {
      "text/html": [
       "<style>\n",
       "    table.wandb td:nth-child(1) { padding: 0 10px; text-align: left ; width: auto;} td:nth-child(2) {text-align: left ; width: 100%}\n",
       "    .wandb-row { display: flex; flex-direction: row; flex-wrap: wrap; justify-content: flex-start; width: 100% }\n",
       "    .wandb-col { display: flex; flex-direction: column; flex-basis: 100%; flex: 1; padding: 10px; }\n",
       "    </style>\n",
       "<div class=\"wandb-row\"><div class=\"wandb-col\"><h3>Run history:</h3><br/><table class=\"wandb\"><tr><td>epoch</td><td>▁▁▁▂▂▂▂▂▂▃▃▃▃▃▄▄▄▄▄▄▅▅▅▅▅▅▆▆▆▆▆▇▇▇▇▇▇███</td></tr><tr><td>lr</td><td>█▇▇▆▆▅▅▄▄▄▃▃▃▃▃▂▂▂▂▂▂▂▂▂▁▁▁▁▁▁▁▁▁▁▁▁▁▁▁▁</td></tr><tr><td>test_accuracy</td><td>▁▆▇█▇███████████████████████████████████</td></tr><tr><td>test_auc_score</td><td>▁▄▅▆▇▇▇▇▇▇▇▇▇▇██▇▇▇▇▇▇▇▇▇▇▇▇▇▆▆▆▇▆▇▆▇▇▇▇</td></tr><tr><td>test_f1_score</td><td>▁▅▇▇▇▇██▇▇▇▇██▇▇██████▇███▇▇██▇█████████</td></tr><tr><td>test_fpr</td><td>█▃▂▁▂▁▁▁▁▁▁▁▁▁▁▁▁▁▁▁▁▁▁▁▁▁▁▁▁▁▁▁▁▁▁▁▁▁▁▁</td></tr><tr><td>test_loss</td><td>█▃▂▁▂▂▁▁▁▁▁▁▁▁▁▁▁▁▁▁▁▁▁▁▁▁▁▁▁▁▁▁▁▁▁▁▁▁▁▁</td></tr><tr><td>test_tpr</td><td>█▇▆▅▆▅▂▇▄▅▆▁▆▂▇▇▆▃▅▆▄▇▆▆▆▇▇▅▆▃▆▅▅▆▇▅▆▇▇▇</td></tr><tr><td>train_accuracy</td><td>▁▆▇▇▇▇▇▇▇▇▇▇▇▇▇█████████████████████████</td></tr><tr><td>train_auc_score</td><td>▁▇▇▇▇▇▇▇▇███████████████████████████████</td></tr><tr><td>train_f1_score</td><td>▁▆▆▆▆▇▇▇▇▇▇▇▇▇▇▇▇▇███▇██████████████████</td></tr><tr><td>train_fpr</td><td>█▂▂▂▁▁▁▁▁▁▁▁▁▁▁▁▁▁▁▁▁▁▁▁▁▁▁▁▁▁▁▁▁▁▁▁▁▁▁▁</td></tr><tr><td>train_loss</td><td>█▄▃▂▂▂▂▂▂▂▂▂▂▁▂▁▁▁▁▁▁▁▁▁▁▁▁▁▁▁▁▁▁▁▁▁▁▁▁▁</td></tr><tr><td>train_tpr</td><td>▁▂▂▃▂▃▃▄▃▄▄▅▄▅▅▆▆▆▆▇▇▆▇▇▇▇▇▇█▇█▇██▇███▇▇</td></tr></table><br/></div><div class=\"wandb-col\"><h3>Run summary:</h3><br/><table class=\"wandb\"><tr><td>epoch</td><td>39</td></tr><tr><td>lr</td><td>0.00015</td></tr><tr><td>test_accuracy</td><td>0.936</td></tr><tr><td>test_auc_score</td><td>0.94301</td></tr><tr><td>test_f1_score</td><td>0.72172</td></tr><tr><td>test_fpr</td><td>0.06141</td></tr><tr><td>test_loss</td><td>0.37613</td></tr><tr><td>test_tpr</td><td>0.86138</td></tr><tr><td>train_accuracy</td><td>0.98106</td></tr><tr><td>train_auc_score</td><td>0.98437</td></tr><tr><td>train_f1_score</td><td>0.9654</td></tr><tr><td>train_fpr</td><td>0.00752</td></tr><tr><td>train_loss</td><td>0.33295</td></tr><tr><td>train_tpr</td><td>0.92485</td></tr></table><br/></div></div>"
      ],
      "text/plain": [
       "<IPython.core.display.HTML object>"
      ]
     },
     "metadata": {},
     "output_type": "display_data"
    },
    {
     "data": {
      "text/html": [
       " View run <strong style=\"color:#cdcd00\">EM_CrossEntropyLoss()_SMOTE-0.2</strong> at: <a href='https://wandb.ai/dmitrii_fomin_uga/Internship_project/runs/u4h8xqg3' target=\"_blank\">https://wandb.ai/dmitrii_fomin_uga/Internship_project/runs/u4h8xqg3</a><br/>Synced 5 W&B file(s), 0 media file(s), 0 artifact file(s) and 0 other file(s)"
      ],
      "text/plain": [
       "<IPython.core.display.HTML object>"
      ]
     },
     "metadata": {},
     "output_type": "display_data"
    },
    {
     "data": {
      "text/html": [
       "Find logs at: <code>../logs/wandb\\run-20230705_095632-u4h8xqg3\\logs</code>"
      ],
      "text/plain": [
       "<IPython.core.display.HTML object>"
      ]
     },
     "metadata": {},
     "output_type": "display_data"
    },
    {
     "data": {
      "text/html": [
       "Tracking run with wandb version 0.15.4"
      ],
      "text/plain": [
       "<IPython.core.display.HTML object>"
      ]
     },
     "metadata": {},
     "output_type": "display_data"
    },
    {
     "data": {
      "text/html": [
       "Run data is saved locally in <code>../logs/wandb\\run-20230705_095646-lb3y73o7</code>"
      ],
      "text/plain": [
       "<IPython.core.display.HTML object>"
      ]
     },
     "metadata": {},
     "output_type": "display_data"
    },
    {
     "data": {
      "text/html": [
       "Syncing run <strong><a href='https://wandb.ai/dmitrii_fomin_uga/Internship_project/runs/lb3y73o7' target=\"_blank\">EM_CrossEntropyLoss()_SMOTE-0.25</a></strong> to <a href='https://wandb.ai/dmitrii_fomin_uga/Internship_project' target=\"_blank\">Weights & Biases</a> (<a href='https://wandb.me/run' target=\"_blank\">docs</a>)<br/>"
      ],
      "text/plain": [
       "<IPython.core.display.HTML object>"
      ]
     },
     "metadata": {},
     "output_type": "display_data"
    },
    {
     "data": {
      "text/html": [
       " View project at <a href='https://wandb.ai/dmitrii_fomin_uga/Internship_project' target=\"_blank\">https://wandb.ai/dmitrii_fomin_uga/Internship_project</a>"
      ],
      "text/plain": [
       "<IPython.core.display.HTML object>"
      ]
     },
     "metadata": {},
     "output_type": "display_data"
    },
    {
     "data": {
      "text/html": [
       " View run at <a href='https://wandb.ai/dmitrii_fomin_uga/Internship_project/runs/lb3y73o7' target=\"_blank\">https://wandb.ai/dmitrii_fomin_uga/Internship_project/runs/lb3y73o7</a>"
      ],
      "text/plain": [
       "<IPython.core.display.HTML object>"
      ]
     },
     "metadata": {},
     "output_type": "display_data"
    },
    {
     "data": {
      "text/html": [
       "Waiting for W&B process to finish... <strong style=\"color:green\">(success).</strong>"
      ],
      "text/plain": [
       "<IPython.core.display.HTML object>"
      ]
     },
     "metadata": {},
     "output_type": "display_data"
    },
    {
     "data": {
      "text/html": [
       "<style>\n",
       "    table.wandb td:nth-child(1) { padding: 0 10px; text-align: left ; width: auto;} td:nth-child(2) {text-align: left ; width: 100%}\n",
       "    .wandb-row { display: flex; flex-direction: row; flex-wrap: wrap; justify-content: flex-start; width: 100% }\n",
       "    .wandb-col { display: flex; flex-direction: column; flex-basis: 100%; flex: 1; padding: 10px; }\n",
       "    </style>\n",
       "<div class=\"wandb-row\"><div class=\"wandb-col\"><h3>Run history:</h3><br/><table class=\"wandb\"><tr><td>epoch</td><td>▁▁▁▂▂▂▂▂▂▃▃▃▃▃▄▄▄▄▄▄▅▅▅▅▅▅▆▆▆▆▆▇▇▇▇▇▇███</td></tr><tr><td>lr</td><td>█▇▇▆▆▅▅▄▄▄▃▃▃▃▃▂▂▂▂▂▂▂▂▂▁▁▁▁▁▁▁▁▁▁▁▁▁▁▁▁</td></tr><tr><td>test_accuracy</td><td>▁▇▇█▇██████████▇▇███████████████████████</td></tr><tr><td>test_auc_score</td><td>▁▄▁▆▆▇▆▆▆▇██▇▆▇▆█▇▇▇█▇█▆█▇▆▇██████▇▇████</td></tr><tr><td>test_f1_score</td><td>▁▆▇▇▇▇▇▇▇▇▇▇▇▇▇▇▆▇███▇▇▇██████▇▇▇▇███▇▇▇</td></tr><tr><td>test_fpr</td><td>█▂▁▁▂▁▁▁▁▁▁▁▁▁▁▂▂▁▁▁▁▁▁▁▁▁▁▁▁▁▁▁▁▁▁▁▁▁▁▁</td></tr><tr><td>test_loss</td><td>█▂▂▂▂▁▁▁▁▁▁▁▂▁▁▂▂▁▁▁▁▁▁▁▁▁▁▁▁▁▁▁▁▁▁▁▁▁▁▁</td></tr><tr><td>test_tpr</td><td>█▃▁▄▅▄▃▂▂▄▄▄▄▃▄▄▅▃▂▃▄▄▅▄▄▄▅▅▅▄▅▅▅▅▄▄▅▅▅▄</td></tr><tr><td>train_accuracy</td><td>▁▆▇▇▇▇▇▇▇▇▇█▇▇▇▇▇█▇▇▇███████████████████</td></tr><tr><td>train_auc_score</td><td>▁▇▇▇▇▇███▇████████▇█████████████████████</td></tr><tr><td>train_f1_score</td><td>▁▆▆▆▆▇▇▇▇▇▇▇▇▇▇▇▇█▇▇▇█▇███▇█████████████</td></tr><tr><td>train_fpr</td><td>█▂▂▂▂▂▂▂▁▂▁▁▁▁▁▁▂▁▁▁▁▁▁▁▁▁▁▁▁▁▁▁▁▁▁▁▁▁▁▁</td></tr><tr><td>train_loss</td><td>█▃▃▂▂▂▂▂▂▂▂▁▁▂▂▂▂▁▁▁▁▁▁▁▁▁▁▁▁▁▁▁▁▁▁▁▁▁▁▁</td></tr><tr><td>train_tpr</td><td>▁▃▄▃▄▄▅▅▅▅▆▇▆▆▆▆▇▇▆▅▆▇▇▇▇▆▆▇▇▇▇▇▇▇███▇█▇</td></tr></table><br/></div><div class=\"wandb-col\"><h3>Run summary:</h3><br/><table class=\"wandb\"><tr><td>epoch</td><td>39</td></tr><tr><td>lr</td><td>0.00015</td></tr><tr><td>test_accuracy</td><td>0.90975</td></tr><tr><td>test_auc_score</td><td>0.95331</td></tr><tr><td>test_f1_score</td><td>0.67288</td></tr><tr><td>test_fpr</td><td>0.08856</td></tr><tr><td>test_loss</td><td>0.3992</td></tr><tr><td>test_tpr</td><td>0.86137</td></tr><tr><td>train_accuracy</td><td>0.97545</td></tr><tr><td>train_auc_score</td><td>0.98859</td></tr><tr><td>train_f1_score</td><td>0.96156</td></tr><tr><td>train_fpr</td><td>0.0104</td></tr><tr><td>train_loss</td><td>0.33832</td></tr><tr><td>train_tpr</td><td>0.92208</td></tr></table><br/></div></div>"
      ],
      "text/plain": [
       "<IPython.core.display.HTML object>"
      ]
     },
     "metadata": {},
     "output_type": "display_data"
    },
    {
     "data": {
      "text/html": [
       " View run <strong style=\"color:#cdcd00\">EM_CrossEntropyLoss()_SMOTE-0.25</strong> at: <a href='https://wandb.ai/dmitrii_fomin_uga/Internship_project/runs/lb3y73o7' target=\"_blank\">https://wandb.ai/dmitrii_fomin_uga/Internship_project/runs/lb3y73o7</a><br/>Synced 5 W&B file(s), 0 media file(s), 0 artifact file(s) and 0 other file(s)"
      ],
      "text/plain": [
       "<IPython.core.display.HTML object>"
      ]
     },
     "metadata": {},
     "output_type": "display_data"
    },
    {
     "data": {
      "text/html": [
       "Find logs at: <code>../logs/wandb\\run-20230705_095646-lb3y73o7\\logs</code>"
      ],
      "text/plain": [
       "<IPython.core.display.HTML object>"
      ]
     },
     "metadata": {},
     "output_type": "display_data"
    },
    {
     "data": {
      "text/html": [
       "Tracking run with wandb version 0.15.4"
      ],
      "text/plain": [
       "<IPython.core.display.HTML object>"
      ]
     },
     "metadata": {},
     "output_type": "display_data"
    },
    {
     "data": {
      "text/html": [
       "Run data is saved locally in <code>../logs/wandb\\run-20230705_095659-wtvorpo7</code>"
      ],
      "text/plain": [
       "<IPython.core.display.HTML object>"
      ]
     },
     "metadata": {},
     "output_type": "display_data"
    },
    {
     "data": {
      "text/html": [
       "Syncing run <strong><a href='https://wandb.ai/dmitrii_fomin_uga/Internship_project/runs/wtvorpo7' target=\"_blank\">EM_CrossEntropyLoss()_SMOTE-0.3</a></strong> to <a href='https://wandb.ai/dmitrii_fomin_uga/Internship_project' target=\"_blank\">Weights & Biases</a> (<a href='https://wandb.me/run' target=\"_blank\">docs</a>)<br/>"
      ],
      "text/plain": [
       "<IPython.core.display.HTML object>"
      ]
     },
     "metadata": {},
     "output_type": "display_data"
    },
    {
     "data": {
      "text/html": [
       " View project at <a href='https://wandb.ai/dmitrii_fomin_uga/Internship_project' target=\"_blank\">https://wandb.ai/dmitrii_fomin_uga/Internship_project</a>"
      ],
      "text/plain": [
       "<IPython.core.display.HTML object>"
      ]
     },
     "metadata": {},
     "output_type": "display_data"
    },
    {
     "data": {
      "text/html": [
       " View run at <a href='https://wandb.ai/dmitrii_fomin_uga/Internship_project/runs/wtvorpo7' target=\"_blank\">https://wandb.ai/dmitrii_fomin_uga/Internship_project/runs/wtvorpo7</a>"
      ],
      "text/plain": [
       "<IPython.core.display.HTML object>"
      ]
     },
     "metadata": {},
     "output_type": "display_data"
    },
    {
     "data": {
      "text/html": [
       "Waiting for W&B process to finish... <strong style=\"color:green\">(success).</strong>"
      ],
      "text/plain": [
       "<IPython.core.display.HTML object>"
      ]
     },
     "metadata": {},
     "output_type": "display_data"
    },
    {
     "data": {
      "text/html": [
       "<style>\n",
       "    table.wandb td:nth-child(1) { padding: 0 10px; text-align: left ; width: auto;} td:nth-child(2) {text-align: left ; width: 100%}\n",
       "    .wandb-row { display: flex; flex-direction: row; flex-wrap: wrap; justify-content: flex-start; width: 100% }\n",
       "    .wandb-col { display: flex; flex-direction: column; flex-basis: 100%; flex: 1; padding: 10px; }\n",
       "    </style>\n",
       "<div class=\"wandb-row\"><div class=\"wandb-col\"><h3>Run history:</h3><br/><table class=\"wandb\"><tr><td>epoch</td><td>▁▁▁▂▂▂▂▂▂▃▃▃▃▃▄▄▄▄▄▄▅▅▅▅▅▅▆▆▆▆▆▇▇▇▇▇▇███</td></tr><tr><td>lr</td><td>█▇▇▆▆▅▅▄▄▄▃▃▃▃▃▂▂▂▂▂▂▂▂▂▁▁▁▁▁▁▁▁▁▁▁▁▁▁▁▁</td></tr><tr><td>test_accuracy</td><td>▁▇▇██████▇▇█▇▇█████▇████████████████████</td></tr><tr><td>test_auc_score</td><td>▃▄▃▄▄▁▅▆▃▆▇▃▆▆▆▇▆█▇▅▇▇▆▇▇▇▇▇█▆▆▇▇▇▆▇▇▆▆▆</td></tr><tr><td>test_f1_score</td><td>▁▇▇██▇▇▇█▆▇█▇▇████▇▇▇▇▇██▇▇█▇███▇█▇▇███▇</td></tr><tr><td>test_fpr</td><td>█▂▂▁▁▁▁▁▁▂▂▁▂▂▁▁▁▁▂▂▂▂▁▁▁▂▁▁▁▁▁▁▁▁▂▂▁▁▁▁</td></tr><tr><td>test_loss</td><td>█▂▂▁▁▁▁▁▁▂▂▁▂▂▁▁▁▁▂▂▁▂▁▁▁▂▁▁▁▁▁▁▁▁▁▁▁▁▁▁</td></tr><tr><td>test_tpr</td><td>█▄▃▂▃▁▅▄▁▅▅▄▆▄▅▅▅▆▆▆▅▆▅▅▆▅▆▅▆▆▆▆▆▆▆▆▆▅▅▆</td></tr><tr><td>train_accuracy</td><td>▁▆▇▇▇▇▇▇▇▇▇▇▇▇██████████████████████████</td></tr><tr><td>train_auc_score</td><td>▁▇█▇▇▇▇████▇████████████████████████████</td></tr><tr><td>train_f1_score</td><td>▁▆▆▆▇▇▇▇▇▇▇▇▇▇▇████▇████████████████████</td></tr><tr><td>train_fpr</td><td>█▂▂▂▁▂▁▂▁▁▂▁▁▂▁▁▁▁▁▁▁▁▁▁▁▁▁▁▁▁▁▁▁▁▁▁▁▁▁▁</td></tr><tr><td>train_loss</td><td>█▄▃▂▂▂▂▂▂▂▂▂▂▂▁▁▁▁▁▁▁▁▁▁▁▁▁▁▁▁▁▁▁▁▁▁▁▁▁▁</td></tr><tr><td>train_tpr</td><td>▁▂▃▄▃▄▄▅▅▄▆▄▄▆▆▇▇▇▇▇▇▆▇▇▇█▇█████████▇███</td></tr></table><br/></div><div class=\"wandb-col\"><h3>Run summary:</h3><br/><table class=\"wandb\"><tr><td>epoch</td><td>39</td></tr><tr><td>lr</td><td>0.00015</td></tr><tr><td>test_accuracy</td><td>0.8958</td></tr><tr><td>test_auc_score</td><td>0.95052</td></tr><tr><td>test_f1_score</td><td>0.64934</td></tr><tr><td>test_fpr</td><td>0.10408</td></tr><tr><td>test_loss</td><td>0.41487</td></tr><tr><td>test_tpr</td><td>0.89445</td></tr><tr><td>train_accuracy</td><td>0.97843</td></tr><tr><td>train_auc_score</td><td>0.98337</td></tr><tr><td>train_f1_score</td><td>0.96965</td></tr><tr><td>train_fpr</td><td>0.0125</td></tr><tr><td>train_loss</td><td>0.33488</td></tr><tr><td>train_tpr</td><td>0.94886</td></tr></table><br/></div></div>"
      ],
      "text/plain": [
       "<IPython.core.display.HTML object>"
      ]
     },
     "metadata": {},
     "output_type": "display_data"
    },
    {
     "data": {
      "text/html": [
       " View run <strong style=\"color:#cdcd00\">EM_CrossEntropyLoss()_SMOTE-0.3</strong> at: <a href='https://wandb.ai/dmitrii_fomin_uga/Internship_project/runs/wtvorpo7' target=\"_blank\">https://wandb.ai/dmitrii_fomin_uga/Internship_project/runs/wtvorpo7</a><br/>Synced 5 W&B file(s), 0 media file(s), 0 artifact file(s) and 0 other file(s)"
      ],
      "text/plain": [
       "<IPython.core.display.HTML object>"
      ]
     },
     "metadata": {},
     "output_type": "display_data"
    },
    {
     "data": {
      "text/html": [
       "Find logs at: <code>../logs/wandb\\run-20230705_095659-wtvorpo7\\logs</code>"
      ],
      "text/plain": [
       "<IPython.core.display.HTML object>"
      ]
     },
     "metadata": {},
     "output_type": "display_data"
    },
    {
     "data": {
      "text/html": [
       "Tracking run with wandb version 0.15.4"
      ],
      "text/plain": [
       "<IPython.core.display.HTML object>"
      ]
     },
     "metadata": {},
     "output_type": "display_data"
    },
    {
     "data": {
      "text/html": [
       "Run data is saved locally in <code>../logs/wandb\\run-20230705_095712-9pc8c1ut</code>"
      ],
      "text/plain": [
       "<IPython.core.display.HTML object>"
      ]
     },
     "metadata": {},
     "output_type": "display_data"
    },
    {
     "data": {
      "text/html": [
       "Syncing run <strong><a href='https://wandb.ai/dmitrii_fomin_uga/Internship_project/runs/9pc8c1ut' target=\"_blank\">EM_CrossEntropyLoss()_SMOTE-0.35</a></strong> to <a href='https://wandb.ai/dmitrii_fomin_uga/Internship_project' target=\"_blank\">Weights & Biases</a> (<a href='https://wandb.me/run' target=\"_blank\">docs</a>)<br/>"
      ],
      "text/plain": [
       "<IPython.core.display.HTML object>"
      ]
     },
     "metadata": {},
     "output_type": "display_data"
    },
    {
     "data": {
      "text/html": [
       " View project at <a href='https://wandb.ai/dmitrii_fomin_uga/Internship_project' target=\"_blank\">https://wandb.ai/dmitrii_fomin_uga/Internship_project</a>"
      ],
      "text/plain": [
       "<IPython.core.display.HTML object>"
      ]
     },
     "metadata": {},
     "output_type": "display_data"
    },
    {
     "data": {
      "text/html": [
       " View run at <a href='https://wandb.ai/dmitrii_fomin_uga/Internship_project/runs/9pc8c1ut' target=\"_blank\">https://wandb.ai/dmitrii_fomin_uga/Internship_project/runs/9pc8c1ut</a>"
      ],
      "text/plain": [
       "<IPython.core.display.HTML object>"
      ]
     },
     "metadata": {},
     "output_type": "display_data"
    },
    {
     "data": {
      "text/html": [
       "Waiting for W&B process to finish... <strong style=\"color:green\">(success).</strong>"
      ],
      "text/plain": [
       "<IPython.core.display.HTML object>"
      ]
     },
     "metadata": {},
     "output_type": "display_data"
    },
    {
     "data": {
      "text/html": [
       "<style>\n",
       "    table.wandb td:nth-child(1) { padding: 0 10px; text-align: left ; width: auto;} td:nth-child(2) {text-align: left ; width: 100%}\n",
       "    .wandb-row { display: flex; flex-direction: row; flex-wrap: wrap; justify-content: flex-start; width: 100% }\n",
       "    .wandb-col { display: flex; flex-direction: column; flex-basis: 100%; flex: 1; padding: 10px; }\n",
       "    </style>\n",
       "<div class=\"wandb-row\"><div class=\"wandb-col\"><h3>Run history:</h3><br/><table class=\"wandb\"><tr><td>epoch</td><td>▁▁▁▂▂▂▂▂▂▃▃▃▃▃▄▄▄▄▄▄▅▅▅▅▅▅▆▆▆▆▆▇▇▇▇▇▇███</td></tr><tr><td>lr</td><td>█▇▇▆▆▅▅▄▄▄▃▃▃▃▃▂▂▂▂▂▂▂▂▂▁▁▁▁▁▁▁▁▁▁▁▁▁▁▁▁</td></tr><tr><td>test_accuracy</td><td>▁▇██▆▇▇▇▇▆▇▇▇▆▇▇▇█▆▇▇▇▇▇▇▇▇▇▆▇▇▇▇▇▇▇▇▇▇▇</td></tr><tr><td>test_auc_score</td><td>▂▃▁▅▁▇▇▅▇▆▇▃▇▇▆██▆▆▇▆▅▅▆▆▆▅▆▄▅▆▅▅▅▅▅▅▅▅▅</td></tr><tr><td>test_f1_score</td><td>▁▆██▆▆▆▇▇▆▆▇▆▆▇▆▇█▆▇▇▆▇▇▇▆▆▆▆▇▆▆▆▆▆▆▇▆▆▆</td></tr><tr><td>test_fpr</td><td>█▂▁▁▃▂▂▂▂▃▂▂▂▃▂▂▂▁▃▂▂▂▂▂▂▂▂▂▃▂▂▂▂▂▂▃▂▂▂▂</td></tr><tr><td>test_loss</td><td>█▂▁▁▃▂▃▂▂▃▃▂▂▃▂▂▂▁▃▂▂▂▂▂▂▂▂▂▃▂▂▂▂▃▂▃▂▂▂▃</td></tr><tr><td>test_tpr</td><td>█▄▁▁▅▅▇▄▆▆▅▄█▇▅▆▅▄▇▆▆▅▅▇▆▅▅▇▇▇▆▆▇▆▅▇▆▇▇▆</td></tr><tr><td>train_accuracy</td><td>▁▆▇▇▇▇▇▇▇▇▇▇▇▇▇█████████████████████████</td></tr><tr><td>train_auc_score</td><td>▁▇▇▇▇▇▇▇████████████████████████████████</td></tr><tr><td>train_f1_score</td><td>▁▆▆▇▇▇▇▇▇▇▇▇▇▇▇██▇█▇████████████████████</td></tr><tr><td>train_fpr</td><td>█▂▂▂▂▂▂▂▂▁▂▁▁▁▂▁▁▁▁▁▁▁▁▁▁▁▁▁▁▁▁▁▁▁▁▁▁▁▁▁</td></tr><tr><td>train_loss</td><td>█▃▃▂▂▂▂▂▂▂▂▂▂▂▁▁▁▁▁▁▁▁▁▁▁▁▁▁▁▁▁▁▁▁▁▁▁▁▁▁</td></tr><tr><td>train_tpr</td><td>▁▄▄▅▅▅▆▅▆▆▇▆▆▆▇▆▇▆▇▇▇█▇███▇███▇█████████</td></tr></table><br/></div><div class=\"wandb-col\"><h3>Run summary:</h3><br/><table class=\"wandb\"><tr><td>epoch</td><td>39</td></tr><tr><td>lr</td><td>0.00015</td></tr><tr><td>test_accuracy</td><td>0.86031</td></tr><tr><td>test_auc_score</td><td>0.93371</td></tr><tr><td>test_f1_score</td><td>0.61432</td></tr><tr><td>test_fpr</td><td>0.14142</td></tr><tr><td>test_loss</td><td>0.45148</td></tr><tr><td>test_tpr</td><td>0.90893</td></tr><tr><td>train_accuracy</td><td>0.98048</td></tr><tr><td>train_auc_score</td><td>0.98834</td></tr><tr><td>train_f1_score</td><td>0.97459</td></tr><tr><td>train_fpr</td><td>0.0116</td></tr><tr><td>train_loss</td><td>0.33355</td></tr><tr><td>train_tpr</td><td>0.95921</td></tr></table><br/></div></div>"
      ],
      "text/plain": [
       "<IPython.core.display.HTML object>"
      ]
     },
     "metadata": {},
     "output_type": "display_data"
    },
    {
     "data": {
      "text/html": [
       " View run <strong style=\"color:#cdcd00\">EM_CrossEntropyLoss()_SMOTE-0.35</strong> at: <a href='https://wandb.ai/dmitrii_fomin_uga/Internship_project/runs/9pc8c1ut' target=\"_blank\">https://wandb.ai/dmitrii_fomin_uga/Internship_project/runs/9pc8c1ut</a><br/>Synced 5 W&B file(s), 0 media file(s), 0 artifact file(s) and 0 other file(s)"
      ],
      "text/plain": [
       "<IPython.core.display.HTML object>"
      ]
     },
     "metadata": {},
     "output_type": "display_data"
    },
    {
     "data": {
      "text/html": [
       "Find logs at: <code>../logs/wandb\\run-20230705_095712-9pc8c1ut\\logs</code>"
      ],
      "text/plain": [
       "<IPython.core.display.HTML object>"
      ]
     },
     "metadata": {},
     "output_type": "display_data"
    },
    {
     "data": {
      "text/html": [
       "Tracking run with wandb version 0.15.4"
      ],
      "text/plain": [
       "<IPython.core.display.HTML object>"
      ]
     },
     "metadata": {},
     "output_type": "display_data"
    },
    {
     "data": {
      "text/html": [
       "Run data is saved locally in <code>../logs/wandb\\run-20230705_095725-a373vnfa</code>"
      ],
      "text/plain": [
       "<IPython.core.display.HTML object>"
      ]
     },
     "metadata": {},
     "output_type": "display_data"
    },
    {
     "data": {
      "text/html": [
       "Syncing run <strong><a href='https://wandb.ai/dmitrii_fomin_uga/Internship_project/runs/a373vnfa' target=\"_blank\">EM_CrossEntropyLoss()_SMOTE-0.4</a></strong> to <a href='https://wandb.ai/dmitrii_fomin_uga/Internship_project' target=\"_blank\">Weights & Biases</a> (<a href='https://wandb.me/run' target=\"_blank\">docs</a>)<br/>"
      ],
      "text/plain": [
       "<IPython.core.display.HTML object>"
      ]
     },
     "metadata": {},
     "output_type": "display_data"
    },
    {
     "data": {
      "text/html": [
       " View project at <a href='https://wandb.ai/dmitrii_fomin_uga/Internship_project' target=\"_blank\">https://wandb.ai/dmitrii_fomin_uga/Internship_project</a>"
      ],
      "text/plain": [
       "<IPython.core.display.HTML object>"
      ]
     },
     "metadata": {},
     "output_type": "display_data"
    },
    {
     "data": {
      "text/html": [
       " View run at <a href='https://wandb.ai/dmitrii_fomin_uga/Internship_project/runs/a373vnfa' target=\"_blank\">https://wandb.ai/dmitrii_fomin_uga/Internship_project/runs/a373vnfa</a>"
      ],
      "text/plain": [
       "<IPython.core.display.HTML object>"
      ]
     },
     "metadata": {},
     "output_type": "display_data"
    },
    {
     "data": {
      "text/html": [
       "Waiting for W&B process to finish... <strong style=\"color:green\">(success).</strong>"
      ],
      "text/plain": [
       "<IPython.core.display.HTML object>"
      ]
     },
     "metadata": {},
     "output_type": "display_data"
    },
    {
     "data": {
      "text/html": [
       "<style>\n",
       "    table.wandb td:nth-child(1) { padding: 0 10px; text-align: left ; width: auto;} td:nth-child(2) {text-align: left ; width: 100%}\n",
       "    .wandb-row { display: flex; flex-direction: row; flex-wrap: wrap; justify-content: flex-start; width: 100% }\n",
       "    .wandb-col { display: flex; flex-direction: column; flex-basis: 100%; flex: 1; padding: 10px; }\n",
       "    </style>\n",
       "<div class=\"wandb-row\"><div class=\"wandb-col\"><h3>Run history:</h3><br/><table class=\"wandb\"><tr><td>epoch</td><td>▁▁▁▂▂▂▂▂▂▃▃▃▃▃▄▄▄▄▄▄▅▅▅▅▅▅▆▆▆▆▆▇▇▇▇▇▇███</td></tr><tr><td>lr</td><td>█▇▇▆▆▅▅▄▄▄▃▃▃▃▃▂▂▂▂▂▂▂▂▂▁▁▁▁▁▁▁▁▁▁▁▁▁▁▁▁</td></tr><tr><td>test_accuracy</td><td>▁▆▅▆▇▇▆▇▆▇█▇▆▇▇▇▇▇▇▇▆█▇█▇▇▇▇█▇▇▇▇▇▇▇▇▇▇▇</td></tr><tr><td>test_auc_score</td><td>▁▃▅▆▃▇▂▇█▇▆▇▇▇▇▇▆██▇▆▆▇▆▆▇▇▇▆▆▇▇▆▆▆▆▅▅▆▆</td></tr><tr><td>test_f1_score</td><td>▁▅▄▆▆▆▆▇▆▆█▆▆▇▇▇▇▆▇▇▆▇▇▇▇▇▇▇▇▇▇▇▇▇▇▇▇▇▇▇</td></tr><tr><td>test_fpr</td><td>█▃▄▃▂▂▃▂▃▂▁▂▃▂▂▂▂▂▂▂▃▁▂▁▂▂▂▂▁▂▂▂▂▂▂▂▂▂▂▂</td></tr><tr><td>test_loss</td><td>█▄▄▃▂▂▃▂▃▂▁▃▃▂▂▂▂▂▂▂▃▁▂▁▂▂▂▂▂▂▂▂▂▂▂▂▂▂▂▂</td></tr><tr><td>test_tpr</td><td>▇▄▅▅▁▇▄▆▅▂▅▆▅█▅▆▆▆█▇▇▆█▄▄▇▇▆▅▆▇▇▇▇▇▆▇▇▇▇</td></tr><tr><td>train_accuracy</td><td>▁▆▆▆▆▆▆▆▇▇▇▇▇▇▇▇▇▇█▇█▇▇▇████████████████</td></tr><tr><td>train_auc_score</td><td>▁▆▆▆▇▇▇▇▇▇▇█████████████████████████████</td></tr><tr><td>train_f1_score</td><td>▁▆▆▆▆▆▆▆▆▇▇▇▇▇▇▇▇▇▇▇█▇▇▇▇███████████████</td></tr><tr><td>train_fpr</td><td>█▂▂▂▂▂▂▂▂▂▂▂▂▁▁▁▁▁▁▁▁▁▁▁▁▁▁▁▁▁▁▁▁▁▁▁▁▁▁▁</td></tr><tr><td>train_loss</td><td>█▄▃▃▂▂▂▂▂▂▂▂▂▂▂▂▂▁▁▁▁▁▁▁▁▁▁▁▁▁▁▁▁▁▁▁▁▁▁▁</td></tr><tr><td>train_tpr</td><td>▁▂▃▃▄▄▃▅▅▄▅▆▇▇▇▆▇▆▇▇▇▆▇▆▇▇█▇▇▇████▇▇███▇</td></tr></table><br/></div><div class=\"wandb-col\"><h3>Run summary:</h3><br/><table class=\"wandb\"><tr><td>epoch</td><td>39</td></tr><tr><td>lr</td><td>0.00015</td></tr><tr><td>test_accuracy</td><td>0.85685</td></tr><tr><td>test_auc_score</td><td>0.93777</td></tr><tr><td>test_f1_score</td><td>0.61244</td></tr><tr><td>test_fpr</td><td>0.14578</td></tr><tr><td>test_loss</td><td>0.45061</td></tr><tr><td>test_tpr</td><td>0.93115</td></tr><tr><td>train_accuracy</td><td>0.97504</td></tr><tr><td>train_auc_score</td><td>0.98841</td></tr><tr><td>train_f1_score</td><td>0.96931</td></tr><tr><td>train_fpr</td><td>0.01598</td></tr><tr><td>train_loss</td><td>0.33846</td></tr><tr><td>train_tpr</td><td>0.95284</td></tr></table><br/></div></div>"
      ],
      "text/plain": [
       "<IPython.core.display.HTML object>"
      ]
     },
     "metadata": {},
     "output_type": "display_data"
    },
    {
     "data": {
      "text/html": [
       " View run <strong style=\"color:#cdcd00\">EM_CrossEntropyLoss()_SMOTE-0.4</strong> at: <a href='https://wandb.ai/dmitrii_fomin_uga/Internship_project/runs/a373vnfa' target=\"_blank\">https://wandb.ai/dmitrii_fomin_uga/Internship_project/runs/a373vnfa</a><br/>Synced 5 W&B file(s), 0 media file(s), 0 artifact file(s) and 0 other file(s)"
      ],
      "text/plain": [
       "<IPython.core.display.HTML object>"
      ]
     },
     "metadata": {},
     "output_type": "display_data"
    },
    {
     "data": {
      "text/html": [
       "Find logs at: <code>../logs/wandb\\run-20230705_095725-a373vnfa\\logs</code>"
      ],
      "text/plain": [
       "<IPython.core.display.HTML object>"
      ]
     },
     "metadata": {},
     "output_type": "display_data"
    },
    {
     "data": {
      "text/html": [
       "Tracking run with wandb version 0.15.4"
      ],
      "text/plain": [
       "<IPython.core.display.HTML object>"
      ]
     },
     "metadata": {},
     "output_type": "display_data"
    },
    {
     "data": {
      "text/html": [
       "Run data is saved locally in <code>../logs/wandb\\run-20230705_095739-22m9ga6o</code>"
      ],
      "text/plain": [
       "<IPython.core.display.HTML object>"
      ]
     },
     "metadata": {},
     "output_type": "display_data"
    },
    {
     "data": {
      "text/html": [
       "Syncing run <strong><a href='https://wandb.ai/dmitrii_fomin_uga/Internship_project/runs/22m9ga6o' target=\"_blank\">EM_CrossEntropyLoss()_SMOTE-0.45</a></strong> to <a href='https://wandb.ai/dmitrii_fomin_uga/Internship_project' target=\"_blank\">Weights & Biases</a> (<a href='https://wandb.me/run' target=\"_blank\">docs</a>)<br/>"
      ],
      "text/plain": [
       "<IPython.core.display.HTML object>"
      ]
     },
     "metadata": {},
     "output_type": "display_data"
    },
    {
     "data": {
      "text/html": [
       " View project at <a href='https://wandb.ai/dmitrii_fomin_uga/Internship_project' target=\"_blank\">https://wandb.ai/dmitrii_fomin_uga/Internship_project</a>"
      ],
      "text/plain": [
       "<IPython.core.display.HTML object>"
      ]
     },
     "metadata": {},
     "output_type": "display_data"
    },
    {
     "data": {
      "text/html": [
       " View run at <a href='https://wandb.ai/dmitrii_fomin_uga/Internship_project/runs/22m9ga6o' target=\"_blank\">https://wandb.ai/dmitrii_fomin_uga/Internship_project/runs/22m9ga6o</a>"
      ],
      "text/plain": [
       "<IPython.core.display.HTML object>"
      ]
     },
     "metadata": {},
     "output_type": "display_data"
    },
    {
     "data": {
      "text/html": [
       "Waiting for W&B process to finish... <strong style=\"color:green\">(success).</strong>"
      ],
      "text/plain": [
       "<IPython.core.display.HTML object>"
      ]
     },
     "metadata": {},
     "output_type": "display_data"
    },
    {
     "data": {
      "text/html": [
       "<style>\n",
       "    table.wandb td:nth-child(1) { padding: 0 10px; text-align: left ; width: auto;} td:nth-child(2) {text-align: left ; width: 100%}\n",
       "    .wandb-row { display: flex; flex-direction: row; flex-wrap: wrap; justify-content: flex-start; width: 100% }\n",
       "    .wandb-col { display: flex; flex-direction: column; flex-basis: 100%; flex: 1; padding: 10px; }\n",
       "    </style>\n",
       "<div class=\"wandb-row\"><div class=\"wandb-col\"><h3>Run history:</h3><br/><table class=\"wandb\"><tr><td>epoch</td><td>▁▁▁▂▂▂▂▂▂▃▃▃▃▃▄▄▄▄▄▄▅▅▅▅▅▅▆▆▆▆▆▇▇▇▇▇▇███</td></tr><tr><td>lr</td><td>█▇▇▆▆▅▅▄▄▄▃▃▃▃▃▂▂▂▂▂▂▂▂▂▁▁▁▁▁▁▁▁▁▁▁▁▁▁▁▁</td></tr><tr><td>test_accuracy</td><td>▁▇▇▇▆▅▄▇██▅█▆▆█▇▇▇▇▆▆█▇█▇▇▇▇▇▇▇█▇▇▇▇▇▇▇█</td></tr><tr><td>test_auc_score</td><td>▃▄▁▃▄▅▄▅█▆▇▄▅▂▅▄▇▆▆▆▅▆▆▇▆▆▆▄▅▅▅▄▄▄▄▄▃▄▃▅</td></tr><tr><td>test_f1_score</td><td>▁▇▆▇▅▅▃▆█▇▅█▅▅▇▇▆▇▆▆▆█▇▇▇▇▆▆▇▇▇▇▇▇▇▇▇▇▇█</td></tr><tr><td>test_fpr</td><td>█▂▂▂▃▄▅▂▁▁▄▁▃▃▂▂▂▂▂▃▃▁▂▁▂▂▂▂▂▂▂▂▂▂▂▂▂▂▂▁</td></tr><tr><td>test_loss</td><td>█▂▂▂▃▄▆▂▁▂▄▁▃▃▂▂▃▂▃▃▃▁▂▁▂▂▂▂▂▂▂▂▂▂▂▂▂▂▂▁</td></tr><tr><td>test_tpr</td><td>█▃▁▂▅▆█▂▅▁█▅▄▅▅▃▅▃▇▆▆▂▄▄▅▄▄▄▄▆▄▅▅▄▆▄▄▅▅▆</td></tr><tr><td>train_accuracy</td><td>▁▆▆▆▇▇▇▇▇▇▇▇▇▇▇▇███▇▇███████████████████</td></tr><tr><td>train_auc_score</td><td>▁▇▇▇█▇▇██████▇██████████████████████████</td></tr><tr><td>train_f1_score</td><td>▁▆▆▆▇▇▇▇▇▇▇▇▇▇▇▇█▇█▇▇███████████████████</td></tr><tr><td>train_fpr</td><td>█▃▂▂▂▂▂▂▂▂▂▂▂▂▁▂▁▁▁▁▂▁▁▁▁▁▁▁▁▁▁▁▁▁▁▁▁▁▁▁</td></tr><tr><td>train_loss</td><td>█▄▃▃▂▂▂▂▂▂▂▂▂▂▁▁▁▁▁▂▁▁▁▁▁▁▁▁▁▁▁▁▁▁▁▁▁▁▁▁</td></tr><tr><td>train_tpr</td><td>▁▄▅▅▆▆▅▆▆▆▇▇▇▆▇▇▇▇█▆▇▇▇▇▇▇██▇███████████</td></tr></table><br/></div><div class=\"wandb-col\"><h3>Run summary:</h3><br/><table class=\"wandb\"><tr><td>epoch</td><td>39</td></tr><tr><td>lr</td><td>0.00015</td></tr><tr><td>test_accuracy</td><td>0.85715</td></tr><tr><td>test_auc_score</td><td>0.94248</td></tr><tr><td>test_f1_score</td><td>0.61447</td></tr><tr><td>test_fpr</td><td>0.14585</td></tr><tr><td>test_loss</td><td>0.45295</td></tr><tr><td>test_tpr</td><td>0.94666</td></tr><tr><td>train_accuracy</td><td>0.97412</td></tr><tr><td>train_auc_score</td><td>0.97861</td></tr><tr><td>train_f1_score</td><td>0.96959</td></tr><tr><td>train_fpr</td><td>0.01287</td></tr><tr><td>train_loss</td><td>0.3392</td></tr><tr><td>train_tpr</td><td>0.9461</td></tr></table><br/></div></div>"
      ],
      "text/plain": [
       "<IPython.core.display.HTML object>"
      ]
     },
     "metadata": {},
     "output_type": "display_data"
    },
    {
     "data": {
      "text/html": [
       " View run <strong style=\"color:#cdcd00\">EM_CrossEntropyLoss()_SMOTE-0.45</strong> at: <a href='https://wandb.ai/dmitrii_fomin_uga/Internship_project/runs/22m9ga6o' target=\"_blank\">https://wandb.ai/dmitrii_fomin_uga/Internship_project/runs/22m9ga6o</a><br/>Synced 5 W&B file(s), 0 media file(s), 0 artifact file(s) and 0 other file(s)"
      ],
      "text/plain": [
       "<IPython.core.display.HTML object>"
      ]
     },
     "metadata": {},
     "output_type": "display_data"
    },
    {
     "data": {
      "text/html": [
       "Find logs at: <code>../logs/wandb\\run-20230705_095739-22m9ga6o\\logs</code>"
      ],
      "text/plain": [
       "<IPython.core.display.HTML object>"
      ]
     },
     "metadata": {},
     "output_type": "display_data"
    },
    {
     "data": {
      "text/html": [
       "Tracking run with wandb version 0.15.4"
      ],
      "text/plain": [
       "<IPython.core.display.HTML object>"
      ]
     },
     "metadata": {},
     "output_type": "display_data"
    },
    {
     "data": {
      "text/html": [
       "Run data is saved locally in <code>../logs/wandb\\run-20230705_095753-5wn9q6or</code>"
      ],
      "text/plain": [
       "<IPython.core.display.HTML object>"
      ]
     },
     "metadata": {},
     "output_type": "display_data"
    },
    {
     "data": {
      "text/html": [
       "Syncing run <strong><a href='https://wandb.ai/dmitrii_fomin_uga/Internship_project/runs/5wn9q6or' target=\"_blank\">EM_CrossEntropyLoss()_SMOTE-0.5</a></strong> to <a href='https://wandb.ai/dmitrii_fomin_uga/Internship_project' target=\"_blank\">Weights & Biases</a> (<a href='https://wandb.me/run' target=\"_blank\">docs</a>)<br/>"
      ],
      "text/plain": [
       "<IPython.core.display.HTML object>"
      ]
     },
     "metadata": {},
     "output_type": "display_data"
    },
    {
     "data": {
      "text/html": [
       " View project at <a href='https://wandb.ai/dmitrii_fomin_uga/Internship_project' target=\"_blank\">https://wandb.ai/dmitrii_fomin_uga/Internship_project</a>"
      ],
      "text/plain": [
       "<IPython.core.display.HTML object>"
      ]
     },
     "metadata": {},
     "output_type": "display_data"
    },
    {
     "data": {
      "text/html": [
       " View run at <a href='https://wandb.ai/dmitrii_fomin_uga/Internship_project/runs/5wn9q6or' target=\"_blank\">https://wandb.ai/dmitrii_fomin_uga/Internship_project/runs/5wn9q6or</a>"
      ],
      "text/plain": [
       "<IPython.core.display.HTML object>"
      ]
     },
     "metadata": {},
     "output_type": "display_data"
    },
    {
     "data": {
      "text/html": [
       "Waiting for W&B process to finish... <strong style=\"color:green\">(success).</strong>"
      ],
      "text/plain": [
       "<IPython.core.display.HTML object>"
      ]
     },
     "metadata": {},
     "output_type": "display_data"
    },
    {
     "data": {
      "text/html": [
       "<style>\n",
       "    table.wandb td:nth-child(1) { padding: 0 10px; text-align: left ; width: auto;} td:nth-child(2) {text-align: left ; width: 100%}\n",
       "    .wandb-row { display: flex; flex-direction: row; flex-wrap: wrap; justify-content: flex-start; width: 100% }\n",
       "    .wandb-col { display: flex; flex-direction: column; flex-basis: 100%; flex: 1; padding: 10px; }\n",
       "    </style>\n",
       "<div class=\"wandb-row\"><div class=\"wandb-col\"><h3>Run history:</h3><br/><table class=\"wandb\"><tr><td>epoch</td><td>▁▁▁▂▂▂▂▂▂▃▃▃▃▃▄▄▄▄▄▄▅▅▅▅▅▅▆▆▆▆▆▇▇▇▇▇▇███</td></tr><tr><td>lr</td><td>█▇▇▆▆▅▅▄▄▄▃▃▃▃▃▂▂▂▂▂▂▂▂▂▁▁▁▁▁▁▁▁▁▁▁▁▁▁▁▁</td></tr><tr><td>test_accuracy</td><td>▁▅▆▇▇▇▆▆█▇▇▆█▇▆█▇▇██████▇███▇██████▇████</td></tr><tr><td>test_auc_score</td><td>▁▁▅▃▃▆▆▇▆▄▃▇█▅▅▇▄▄▅▄▆▆▇▆▆▆▆▅▆▆▄▅▅▆▆▆▆▆▆▆</td></tr><tr><td>test_f1_score</td><td>▁▄▆▆▆▇▆▆█▇▇▆█▇▆█▇▇██████▇█▇█▇██████▇████</td></tr><tr><td>test_fpr</td><td>█▄▃▂▂▂▃▃▁▂▂▃▁▂▃▁▂▂▁▁▁▁▁▁▂▁▁▁▂▁▁▁▁▁▁▂▁▁▁▁</td></tr><tr><td>test_loss</td><td>█▄▃▃▃▂▄▃▁▂▂▃▁▂▃▁▂▂▁▁▁▁▁▁▂▁▁▁▂▁▁▁▁▁▁▂▁▁▁▁</td></tr><tr><td>test_tpr</td><td>▇▄▄█▄▅▆▁▄▃▄▅▇▂█▂▂▃▂▂▆▂▂▃▁▂▂▁▂▁▁▂▁▂▁▂▂▁▂▁</td></tr><tr><td>train_accuracy</td><td>▁▆▆▆▆▇▇▇▇▇▇▇▇▇▇▇▇█▇▇████████████████████</td></tr><tr><td>train_auc_score</td><td>▁▇▇▇▇███████████████████████████████████</td></tr><tr><td>train_f1_score</td><td>▁▆▆▆▆▇▇▇▇▇▇▇▇▇▇▇▇█▇▇████████████████████</td></tr><tr><td>train_fpr</td><td>█▃▂▂▂▂▂▂▂▂▂▂▂▁▂▂▁▁▁▁▁▁▁▁▁▁▁▁▁▁▁▁▁▁▁▁▁▁▁▁</td></tr><tr><td>train_loss</td><td>█▄▃▃▂▂▂▂▂▂▂▂▂▂▂▂▂▁▁▂▁▁▁▁▁▁▁▁▁▁▁▁▁▁▁▁▁▁▁▁</td></tr><tr><td>train_tpr</td><td>▁▄▄▅▅▆▆▆▆▆▆▆▇▆▇▇▇▇▇▇▇▇▇▇█▇▇▇████████████</td></tr></table><br/></div><div class=\"wandb-col\"><h3>Run summary:</h3><br/><table class=\"wandb\"><tr><td>epoch</td><td>39</td></tr><tr><td>lr</td><td>0.00015</td></tr><tr><td>test_accuracy</td><td>0.84197</td></tr><tr><td>test_auc_score</td><td>0.94558</td></tr><tr><td>test_f1_score</td><td>0.59659</td></tr><tr><td>test_fpr</td><td>0.16043</td></tr><tr><td>test_loss</td><td>0.46677</td></tr><tr><td>test_tpr</td><td>0.90926</td></tr><tr><td>train_accuracy</td><td>0.97881</td></tr><tr><td>train_auc_score</td><td>0.98938</td></tr><tr><td>train_f1_score</td><td>0.97608</td></tr><tr><td>train_fpr</td><td>0.01484</td></tr><tr><td>train_loss</td><td>0.33499</td></tr><tr><td>train_tpr</td><td>0.9668</td></tr></table><br/></div></div>"
      ],
      "text/plain": [
       "<IPython.core.display.HTML object>"
      ]
     },
     "metadata": {},
     "output_type": "display_data"
    },
    {
     "data": {
      "text/html": [
       " View run <strong style=\"color:#cdcd00\">EM_CrossEntropyLoss()_SMOTE-0.5</strong> at: <a href='https://wandb.ai/dmitrii_fomin_uga/Internship_project/runs/5wn9q6or' target=\"_blank\">https://wandb.ai/dmitrii_fomin_uga/Internship_project/runs/5wn9q6or</a><br/>Synced 5 W&B file(s), 0 media file(s), 0 artifact file(s) and 0 other file(s)"
      ],
      "text/plain": [
       "<IPython.core.display.HTML object>"
      ]
     },
     "metadata": {},
     "output_type": "display_data"
    },
    {
     "data": {
      "text/html": [
       "Find logs at: <code>../logs/wandb\\run-20230705_095753-5wn9q6or\\logs</code>"
      ],
      "text/plain": [
       "<IPython.core.display.HTML object>"
      ]
     },
     "metadata": {},
     "output_type": "display_data"
    },
    {
     "data": {
      "text/html": [
       "Tracking run with wandb version 0.15.4"
      ],
      "text/plain": [
       "<IPython.core.display.HTML object>"
      ]
     },
     "metadata": {},
     "output_type": "display_data"
    },
    {
     "data": {
      "text/html": [
       "Run data is saved locally in <code>../logs/wandb\\run-20230705_095807-hzlzrggx</code>"
      ],
      "text/plain": [
       "<IPython.core.display.HTML object>"
      ]
     },
     "metadata": {},
     "output_type": "display_data"
    },
    {
     "data": {
      "text/html": [
       "Syncing run <strong><a href='https://wandb.ai/dmitrii_fomin_uga/Internship_project/runs/hzlzrggx' target=\"_blank\">EM_CrossEntropyLoss()_SMOTE-0.55</a></strong> to <a href='https://wandb.ai/dmitrii_fomin_uga/Internship_project' target=\"_blank\">Weights & Biases</a> (<a href='https://wandb.me/run' target=\"_blank\">docs</a>)<br/>"
      ],
      "text/plain": [
       "<IPython.core.display.HTML object>"
      ]
     },
     "metadata": {},
     "output_type": "display_data"
    },
    {
     "data": {
      "text/html": [
       " View project at <a href='https://wandb.ai/dmitrii_fomin_uga/Internship_project' target=\"_blank\">https://wandb.ai/dmitrii_fomin_uga/Internship_project</a>"
      ],
      "text/plain": [
       "<IPython.core.display.HTML object>"
      ]
     },
     "metadata": {},
     "output_type": "display_data"
    },
    {
     "data": {
      "text/html": [
       " View run at <a href='https://wandb.ai/dmitrii_fomin_uga/Internship_project/runs/hzlzrggx' target=\"_blank\">https://wandb.ai/dmitrii_fomin_uga/Internship_project/runs/hzlzrggx</a>"
      ],
      "text/plain": [
       "<IPython.core.display.HTML object>"
      ]
     },
     "metadata": {},
     "output_type": "display_data"
    },
    {
     "data": {
      "text/html": [
       "Waiting for W&B process to finish... <strong style=\"color:green\">(success).</strong>"
      ],
      "text/plain": [
       "<IPython.core.display.HTML object>"
      ]
     },
     "metadata": {},
     "output_type": "display_data"
    },
    {
     "data": {
      "text/html": [
       "<style>\n",
       "    table.wandb td:nth-child(1) { padding: 0 10px; text-align: left ; width: auto;} td:nth-child(2) {text-align: left ; width: 100%}\n",
       "    .wandb-row { display: flex; flex-direction: row; flex-wrap: wrap; justify-content: flex-start; width: 100% }\n",
       "    .wandb-col { display: flex; flex-direction: column; flex-basis: 100%; flex: 1; padding: 10px; }\n",
       "    </style>\n",
       "<div class=\"wandb-row\"><div class=\"wandb-col\"><h3>Run history:</h3><br/><table class=\"wandb\"><tr><td>epoch</td><td>▁▁▁▂▂▂▂▂▂▃▃▃▃▃▄▄▄▄▄▄▅▅▅▅▅▅▆▆▆▆▆▇▇▇▇▇▇███</td></tr><tr><td>lr</td><td>█▇▇▆▆▅▅▄▄▄▃▃▃▃▃▂▂▂▂▂▂▂▂▂▁▁▁▁▁▁▁▁▁▁▁▁▁▁▁▁</td></tr><tr><td>test_accuracy</td><td>▁▆▄▄▄▅▆█▆▇▆▇▇▇▆▆▇▆▆▇▇▆▇▆▇▇▇▆▇▇█▇▆▇▆▇▇▇▇▇</td></tr><tr><td>test_auc_score</td><td>▆▁▃▂▄▅▅▆▅▆▅▇▇█▆▇▆▆▇▇█▇█▇▇▇▇▇▇█▇▇▇▇▇███▇▇</td></tr><tr><td>test_f1_score</td><td>▁▅▄▃▃▅▆█▅▇▅▇▇▆▆▅▆▅▅▆▆▅▇▅▇▇▇▆▆▆▇▆▆▆▆▆▇▆▆▆</td></tr><tr><td>test_fpr</td><td>█▃▅▅▅▄▃▁▃▂▃▁▂▂▃▃▂▃▃▂▂▃▂▃▂▂▂▃▂▂▁▂▃▂▃▂▂▂▂▂</td></tr><tr><td>test_loss</td><td>█▄▅▆▆▅▃▁▄▂▄▂▂▂▃▃▂▄▄▃▂▃▂▃▂▂▂▃▂▂▂▂▃▃▃▂▂▂▃▂</td></tr><tr><td>test_tpr</td><td>█▃▆▄▄▄▆▄▄▃▃▁▃▄▄▄▂▃▃▄▄▃▅▂▃▂▂▂▃▃▄▁▃▃▃▃▂▂▃▁</td></tr><tr><td>train_accuracy</td><td>▁▆▆▆▆▆▆▇▇▇▇▇▇▇▇▇▇▇▇▇▇█▇█████████████████</td></tr><tr><td>train_auc_score</td><td>▁▇▇▇▇▆▇█▇▇▇▇████████████████████████████</td></tr><tr><td>train_f1_score</td><td>▁▆▆▆▆▅▆▇▇▇▇▇▇▇▇▇▇▇▇▇▇█▇█████████▇███████</td></tr><tr><td>train_fpr</td><td>█▂▃▂▃▃▂▂▂▂▂▂▂▁▂▂▁▁▂▂▁▁▁▁▁▁▁▁▁▁▁▁▁▁▁▁▁▁▁▁</td></tr><tr><td>train_loss</td><td>█▃▃▃▃▃▃▂▂▂▂▂▂▂▂▂▁▁▂▁▂▁▁▁▁▁▁▁▁▁▁▁▁▁▁▁▁▁▁▁</td></tr><tr><td>train_tpr</td><td>▁▄▆▄▅▄▅▅▆▆▆▅▆▆▇▇▇▇▇▇▆▇▇▇▇▇█▇▇▇▇█▇███████</td></tr></table><br/></div><div class=\"wandb-col\"><h3>Run summary:</h3><br/><table class=\"wandb\"><tr><td>epoch</td><td>39</td></tr><tr><td>lr</td><td>0.00015</td></tr><tr><td>test_accuracy</td><td>0.81119</td></tr><tr><td>test_auc_score</td><td>0.95284</td></tr><tr><td>test_f1_score</td><td>0.56851</td></tr><tr><td>test_fpr</td><td>0.19278</td></tr><tr><td>test_loss</td><td>0.49536</td></tr><tr><td>test_tpr</td><td>0.9186</td></tr><tr><td>train_accuracy</td><td>0.97553</td></tr><tr><td>train_auc_score</td><td>0.99042</td></tr><tr><td>train_f1_score</td><td>0.97324</td></tr><tr><td>train_fpr</td><td>0.01806</td></tr><tr><td>train_loss</td><td>0.33759</td></tr><tr><td>train_tpr</td><td>0.96436</td></tr></table><br/></div></div>"
      ],
      "text/plain": [
       "<IPython.core.display.HTML object>"
      ]
     },
     "metadata": {},
     "output_type": "display_data"
    },
    {
     "data": {
      "text/html": [
       " View run <strong style=\"color:#cdcd00\">EM_CrossEntropyLoss()_SMOTE-0.55</strong> at: <a href='https://wandb.ai/dmitrii_fomin_uga/Internship_project/runs/hzlzrggx' target=\"_blank\">https://wandb.ai/dmitrii_fomin_uga/Internship_project/runs/hzlzrggx</a><br/>Synced 5 W&B file(s), 0 media file(s), 0 artifact file(s) and 0 other file(s)"
      ],
      "text/plain": [
       "<IPython.core.display.HTML object>"
      ]
     },
     "metadata": {},
     "output_type": "display_data"
    },
    {
     "data": {
      "text/html": [
       "Find logs at: <code>../logs/wandb\\run-20230705_095807-hzlzrggx\\logs</code>"
      ],
      "text/plain": [
       "<IPython.core.display.HTML object>"
      ]
     },
     "metadata": {},
     "output_type": "display_data"
    },
    {
     "data": {
      "text/html": [
       "Tracking run with wandb version 0.15.4"
      ],
      "text/plain": [
       "<IPython.core.display.HTML object>"
      ]
     },
     "metadata": {},
     "output_type": "display_data"
    },
    {
     "data": {
      "text/html": [
       "Run data is saved locally in <code>../logs/wandb\\run-20230705_095822-vu27t36u</code>"
      ],
      "text/plain": [
       "<IPython.core.display.HTML object>"
      ]
     },
     "metadata": {},
     "output_type": "display_data"
    },
    {
     "data": {
      "text/html": [
       "Syncing run <strong><a href='https://wandb.ai/dmitrii_fomin_uga/Internship_project/runs/vu27t36u' target=\"_blank\">EM_CrossEntropyLoss()_SMOTE-0.6</a></strong> to <a href='https://wandb.ai/dmitrii_fomin_uga/Internship_project' target=\"_blank\">Weights & Biases</a> (<a href='https://wandb.me/run' target=\"_blank\">docs</a>)<br/>"
      ],
      "text/plain": [
       "<IPython.core.display.HTML object>"
      ]
     },
     "metadata": {},
     "output_type": "display_data"
    },
    {
     "data": {
      "text/html": [
       " View project at <a href='https://wandb.ai/dmitrii_fomin_uga/Internship_project' target=\"_blank\">https://wandb.ai/dmitrii_fomin_uga/Internship_project</a>"
      ],
      "text/plain": [
       "<IPython.core.display.HTML object>"
      ]
     },
     "metadata": {},
     "output_type": "display_data"
    },
    {
     "data": {
      "text/html": [
       " View run at <a href='https://wandb.ai/dmitrii_fomin_uga/Internship_project/runs/vu27t36u' target=\"_blank\">https://wandb.ai/dmitrii_fomin_uga/Internship_project/runs/vu27t36u</a>"
      ],
      "text/plain": [
       "<IPython.core.display.HTML object>"
      ]
     },
     "metadata": {},
     "output_type": "display_data"
    },
    {
     "data": {
      "text/html": [
       "Waiting for W&B process to finish... <strong style=\"color:green\">(success).</strong>"
      ],
      "text/plain": [
       "<IPython.core.display.HTML object>"
      ]
     },
     "metadata": {},
     "output_type": "display_data"
    },
    {
     "data": {
      "text/html": [
       "<style>\n",
       "    table.wandb td:nth-child(1) { padding: 0 10px; text-align: left ; width: auto;} td:nth-child(2) {text-align: left ; width: 100%}\n",
       "    .wandb-row { display: flex; flex-direction: row; flex-wrap: wrap; justify-content: flex-start; width: 100% }\n",
       "    .wandb-col { display: flex; flex-direction: column; flex-basis: 100%; flex: 1; padding: 10px; }\n",
       "    </style>\n",
       "<div class=\"wandb-row\"><div class=\"wandb-col\"><h3>Run history:</h3><br/><table class=\"wandb\"><tr><td>epoch</td><td>▁▁▁▂▂▂▂▂▂▃▃▃▃▃▄▄▄▄▄▄▅▅▅▅▅▅▆▆▆▆▆▇▇▇▇▇▇███</td></tr><tr><td>lr</td><td>█▇▇▆▆▅▅▄▄▄▃▃▃▃▃▂▂▂▂▂▂▂▂▂▁▁▁▁▁▁▁▁▁▁▁▁▁▁▁▁</td></tr><tr><td>test_accuracy</td><td>▅▅█▆▂▄▅▆▅▆▃▅▃▃▂▁▃▃▂▂▅▅▁▄▂▃▃▄▃▃▂▂▄▄▃▃▃▃▃▃</td></tr><tr><td>test_auc_score</td><td>▃▆▆▁▇▄█▇▆▇▆▇▆▆▆▅█▇▆▆█▇▇▇▇▇▇▇▇▇▆▆▇▇▆▇▇▇▆▆</td></tr><tr><td>test_f1_score</td><td>▄▅█▆▂▄▅▆▄▆▃▄▃▃▂▁▃▂▂▂▅▅▁▄▂▃▃▃▃▃▂▂▃▄▂▃▃▃▃▃</td></tr><tr><td>test_fpr</td><td>▄▄▁▃▇▅▄▃▄▃▆▄▆▆▇█▆▆▇▇▄▄█▅▇▆▆▆▆▆▇▇▅▅▆▆▆▆▆▆</td></tr><tr><td>test_loss</td><td>▄▄▁▃▇▅▄▃▄▃▆▄▆▅▇█▆▆▇▇▄▄█▅▇▆▆▆▆▆▇▇▅▅▇▆▆▆▆▆</td></tr><tr><td>test_tpr</td><td>▁▅▅▂▆▅▄▆▆▇▆▇█▇▇▇█▇▇▇▇▇▇▇▇▇▆▇▇▇▇▇▇▇▇▆▇▆▇▇</td></tr><tr><td>train_accuracy</td><td>▁▆▆▆▆▆▆▇▇▇▇▇▇▇▇▇▇██▇████████████████████</td></tr><tr><td>train_auc_score</td><td>▁▇▇▇▇▇▇▇████████████████████████████████</td></tr><tr><td>train_f1_score</td><td>▁▆▆▆▆▆▆▇▇▇▇▇▇▇▇▇▇▇█▇████████████████████</td></tr><tr><td>train_fpr</td><td>█▃▂▃▃▂▂▂▂▂▂▂▂▂▂▂▁▁▁▁▁▁▁▁▁▁▁▁▁▁▁▁▁▁▁▁▁▁▁▁</td></tr><tr><td>train_loss</td><td>█▄▃▃▃▂▂▂▂▂▂▂▂▂▂▂▁▁▁▁▁▁▁▁▁▁▁▁▁▁▁▁▁▁▁▁▁▁▁▁</td></tr><tr><td>train_tpr</td><td>▁▄▅▄▅▆▅▆▆▇▇▇▇▆▇▇▇▇▇▇▇▇███████▇██████████</td></tr></table><br/></div><div class=\"wandb-col\"><h3>Run summary:</h3><br/><table class=\"wandb\"><tr><td>epoch</td><td>39</td></tr><tr><td>lr</td><td>0.00015</td></tr><tr><td>test_accuracy</td><td>0.75311</td></tr><tr><td>test_auc_score</td><td>0.93084</td></tr><tr><td>test_f1_score</td><td>0.53099</td></tr><tr><td>test_fpr</td><td>0.25415</td></tr><tr><td>test_loss</td><td>0.55254</td></tr><tr><td>test_tpr</td><td>0.96168</td></tr><tr><td>train_accuracy</td><td>0.97663</td></tr><tr><td>train_auc_score</td><td>0.99047</td></tr><tr><td>train_f1_score</td><td>0.97505</td></tr><tr><td>train_fpr</td><td>0.01951</td></tr><tr><td>train_loss</td><td>0.33679</td></tr><tr><td>train_tpr</td><td>0.97017</td></tr></table><br/></div></div>"
      ],
      "text/plain": [
       "<IPython.core.display.HTML object>"
      ]
     },
     "metadata": {},
     "output_type": "display_data"
    },
    {
     "data": {
      "text/html": [
       " View run <strong style=\"color:#cdcd00\">EM_CrossEntropyLoss()_SMOTE-0.6</strong> at: <a href='https://wandb.ai/dmitrii_fomin_uga/Internship_project/runs/vu27t36u' target=\"_blank\">https://wandb.ai/dmitrii_fomin_uga/Internship_project/runs/vu27t36u</a><br/>Synced 5 W&B file(s), 0 media file(s), 0 artifact file(s) and 0 other file(s)"
      ],
      "text/plain": [
       "<IPython.core.display.HTML object>"
      ]
     },
     "metadata": {},
     "output_type": "display_data"
    },
    {
     "data": {
      "text/html": [
       "Find logs at: <code>../logs/wandb\\run-20230705_095822-vu27t36u\\logs</code>"
      ],
      "text/plain": [
       "<IPython.core.display.HTML object>"
      ]
     },
     "metadata": {},
     "output_type": "display_data"
    },
    {
     "data": {
      "text/html": [
       "Tracking run with wandb version 0.15.4"
      ],
      "text/plain": [
       "<IPython.core.display.HTML object>"
      ]
     },
     "metadata": {},
     "output_type": "display_data"
    },
    {
     "data": {
      "text/html": [
       "Run data is saved locally in <code>../logs/wandb\\run-20230705_095837-we873jd3</code>"
      ],
      "text/plain": [
       "<IPython.core.display.HTML object>"
      ]
     },
     "metadata": {},
     "output_type": "display_data"
    },
    {
     "data": {
      "text/html": [
       "Syncing run <strong><a href='https://wandb.ai/dmitrii_fomin_uga/Internship_project/runs/we873jd3' target=\"_blank\">EM_CrossEntropyLoss()_SMOTE-0.7</a></strong> to <a href='https://wandb.ai/dmitrii_fomin_uga/Internship_project' target=\"_blank\">Weights & Biases</a> (<a href='https://wandb.me/run' target=\"_blank\">docs</a>)<br/>"
      ],
      "text/plain": [
       "<IPython.core.display.HTML object>"
      ]
     },
     "metadata": {},
     "output_type": "display_data"
    },
    {
     "data": {
      "text/html": [
       " View project at <a href='https://wandb.ai/dmitrii_fomin_uga/Internship_project' target=\"_blank\">https://wandb.ai/dmitrii_fomin_uga/Internship_project</a>"
      ],
      "text/plain": [
       "<IPython.core.display.HTML object>"
      ]
     },
     "metadata": {},
     "output_type": "display_data"
    },
    {
     "data": {
      "text/html": [
       " View run at <a href='https://wandb.ai/dmitrii_fomin_uga/Internship_project/runs/we873jd3' target=\"_blank\">https://wandb.ai/dmitrii_fomin_uga/Internship_project/runs/we873jd3</a>"
      ],
      "text/plain": [
       "<IPython.core.display.HTML object>"
      ]
     },
     "metadata": {},
     "output_type": "display_data"
    },
    {
     "data": {
      "text/html": [
       "Waiting for W&B process to finish... <strong style=\"color:green\">(success).</strong>"
      ],
      "text/plain": [
       "<IPython.core.display.HTML object>"
      ]
     },
     "metadata": {},
     "output_type": "display_data"
    },
    {
     "data": {
      "text/html": [
       "<style>\n",
       "    table.wandb td:nth-child(1) { padding: 0 10px; text-align: left ; width: auto;} td:nth-child(2) {text-align: left ; width: 100%}\n",
       "    .wandb-row { display: flex; flex-direction: row; flex-wrap: wrap; justify-content: flex-start; width: 100% }\n",
       "    .wandb-col { display: flex; flex-direction: column; flex-basis: 100%; flex: 1; padding: 10px; }\n",
       "    </style>\n",
       "<div class=\"wandb-row\"><div class=\"wandb-col\"><h3>Run history:</h3><br/><table class=\"wandb\"><tr><td>epoch</td><td>▁▁▁▂▂▂▂▂▂▃▃▃▃▃▄▄▄▄▄▄▅▅▅▅▅▅▆▆▆▆▆▇▇▇▇▇▇███</td></tr><tr><td>lr</td><td>█▇▇▆▆▅▅▄▄▄▃▃▃▃▃▂▂▂▂▂▂▂▂▂▁▁▁▁▁▁▁▁▁▁▁▁▁▁▁▁</td></tr><tr><td>test_accuracy</td><td>▇█▇▄▅▃▅▁▅▅▇▄▆▃▆▄▅▆▅▄▅▄▄▅▅▄▃▄▆▆▆▅▅▅▅▆▅▅▅▄</td></tr><tr><td>test_auc_score</td><td>▄▁▅▅▆▇▇▄▆▇█▇█▇▇▇▇██▇█████▇▇▇▇▇█▇▇▇▇▇▇▇▇▇</td></tr><tr><td>test_f1_score</td><td>▇█▇▄▅▃▅▁▅▅▇▄▆▃▆▄▄▆▅▄▄▄▄▅▅▄▃▄▆▅▅▅▄▄▅▅▅▄▅▄</td></tr><tr><td>test_fpr</td><td>▂▁▂▅▄▆▄█▄▄▂▅▃▆▃▅▅▃▄▅▄▅▅▄▄▅▆▅▃▃▃▄▄▄▄▃▄▄▄▅</td></tr><tr><td>test_loss</td><td>▁▁▂▅▃▆▄█▃▄▂▅▃▆▃▅▄▃▄▄▄▄▅▄▄▅▅▅▃▃▃▄▄▄▄▃▄▄▄▄</td></tr><tr><td>test_tpr</td><td>▂▁▄▁▅█▄▆▅▆▃▅▆█▅▆▆▅▅▅▇▅▅▆▆▅▅▅▄▄▄▄▅▅▄▄▅▄▄▄</td></tr><tr><td>train_accuracy</td><td>▁▅▆▆▆▆▆▇▆▇▇▇▇▇▇▇▇▇▇▇▇▇█████▇████████████</td></tr><tr><td>train_auc_score</td><td>▁▆▇▇▇▇▇▇▇▇▇██████▇██████████████████████</td></tr><tr><td>train_f1_score</td><td>▁▅▆▆▆▆▆▇▆▇▇▇▇▇▇▇▇▇▇▇▇▇████▇▇████████████</td></tr><tr><td>train_fpr</td><td>█▃▃▃▃▃▃▂▃▂▂▂▂▂▂▂▂▂▂▁▂▂▁▂▁▁▂▂▁▁▁▁▁▁▁▁▁▁▁▁</td></tr><tr><td>train_loss</td><td>█▄▃▃▃▃▂▂▃▂▂▂▂▂▂▂▂▂▁▁▁▂▁▁▁▁▁▁▁▁▁▁▁▁▁▁▁▁▁▁</td></tr><tr><td>train_tpr</td><td>▁▄▅▅▆▆▇▆▆▆▅▇▇▇▇▇▇▇▇▇█▇▇███▇█▇███████████</td></tr></table><br/></div><div class=\"wandb-col\"><h3>Run summary:</h3><br/><table class=\"wandb\"><tr><td>epoch</td><td>39</td></tr><tr><td>lr</td><td>0.00015</td></tr><tr><td>test_accuracy</td><td>0.72703</td></tr><tr><td>test_auc_score</td><td>0.94606</td></tr><tr><td>test_f1_score</td><td>0.51252</td></tr><tr><td>test_fpr</td><td>0.28043</td></tr><tr><td>test_loss</td><td>0.5774</td></tr><tr><td>test_tpr</td><td>0.93661</td></tr><tr><td>train_accuracy</td><td>0.97598</td></tr><tr><td>train_auc_score</td><td>0.991</td></tr><tr><td>train_f1_score</td><td>0.97511</td></tr><tr><td>train_fpr</td><td>0.02389</td></tr><tr><td>train_loss</td><td>0.33727</td></tr><tr><td>train_tpr</td><td>0.97679</td></tr></table><br/></div></div>"
      ],
      "text/plain": [
       "<IPython.core.display.HTML object>"
      ]
     },
     "metadata": {},
     "output_type": "display_data"
    },
    {
     "data": {
      "text/html": [
       " View run <strong style=\"color:#cdcd00\">EM_CrossEntropyLoss()_SMOTE-0.7</strong> at: <a href='https://wandb.ai/dmitrii_fomin_uga/Internship_project/runs/we873jd3' target=\"_blank\">https://wandb.ai/dmitrii_fomin_uga/Internship_project/runs/we873jd3</a><br/>Synced 5 W&B file(s), 0 media file(s), 0 artifact file(s) and 0 other file(s)"
      ],
      "text/plain": [
       "<IPython.core.display.HTML object>"
      ]
     },
     "metadata": {},
     "output_type": "display_data"
    },
    {
     "data": {
      "text/html": [
       "Find logs at: <code>../logs/wandb\\run-20230705_095837-we873jd3\\logs</code>"
      ],
      "text/plain": [
       "<IPython.core.display.HTML object>"
      ]
     },
     "metadata": {},
     "output_type": "display_data"
    },
    {
     "data": {
      "text/html": [
       "Tracking run with wandb version 0.15.4"
      ],
      "text/plain": [
       "<IPython.core.display.HTML object>"
      ]
     },
     "metadata": {},
     "output_type": "display_data"
    },
    {
     "data": {
      "text/html": [
       "Run data is saved locally in <code>../logs/wandb\\run-20230705_095855-o23o4olr</code>"
      ],
      "text/plain": [
       "<IPython.core.display.HTML object>"
      ]
     },
     "metadata": {},
     "output_type": "display_data"
    },
    {
     "data": {
      "text/html": [
       "Syncing run <strong><a href='https://wandb.ai/dmitrii_fomin_uga/Internship_project/runs/o23o4olr' target=\"_blank\">EM_CrossEntropyLoss()_SMOTE-0.8</a></strong> to <a href='https://wandb.ai/dmitrii_fomin_uga/Internship_project' target=\"_blank\">Weights & Biases</a> (<a href='https://wandb.me/run' target=\"_blank\">docs</a>)<br/>"
      ],
      "text/plain": [
       "<IPython.core.display.HTML object>"
      ]
     },
     "metadata": {},
     "output_type": "display_data"
    },
    {
     "data": {
      "text/html": [
       " View project at <a href='https://wandb.ai/dmitrii_fomin_uga/Internship_project' target=\"_blank\">https://wandb.ai/dmitrii_fomin_uga/Internship_project</a>"
      ],
      "text/plain": [
       "<IPython.core.display.HTML object>"
      ]
     },
     "metadata": {},
     "output_type": "display_data"
    },
    {
     "data": {
      "text/html": [
       " View run at <a href='https://wandb.ai/dmitrii_fomin_uga/Internship_project/runs/o23o4olr' target=\"_blank\">https://wandb.ai/dmitrii_fomin_uga/Internship_project/runs/o23o4olr</a>"
      ],
      "text/plain": [
       "<IPython.core.display.HTML object>"
      ]
     },
     "metadata": {},
     "output_type": "display_data"
    },
    {
     "data": {
      "text/html": [
       "Waiting for W&B process to finish... <strong style=\"color:green\">(success).</strong>"
      ],
      "text/plain": [
       "<IPython.core.display.HTML object>"
      ]
     },
     "metadata": {},
     "output_type": "display_data"
    },
    {
     "data": {
      "text/html": [
       "<style>\n",
       "    table.wandb td:nth-child(1) { padding: 0 10px; text-align: left ; width: auto;} td:nth-child(2) {text-align: left ; width: 100%}\n",
       "    .wandb-row { display: flex; flex-direction: row; flex-wrap: wrap; justify-content: flex-start; width: 100% }\n",
       "    .wandb-col { display: flex; flex-direction: column; flex-basis: 100%; flex: 1; padding: 10px; }\n",
       "    </style>\n",
       "<div class=\"wandb-row\"><div class=\"wandb-col\"><h3>Run history:</h3><br/><table class=\"wandb\"><tr><td>epoch</td><td>▁▁▁▂▂▂▂▂▂▃▃▃▃▃▄▄▄▄▄▄▅▅▅▅▅▅▆▆▆▆▆▇▇▇▇▇▇███</td></tr><tr><td>lr</td><td>█▇▇▆▆▅▅▄▄▄▃▃▃▃▃▂▂▂▂▂▂▂▂▂▁▁▁▁▁▁▁▁▁▁▁▁▁▁▁▁</td></tr><tr><td>test_accuracy</td><td>▁███▂▄▄▃▅▇█▃▇▆▄▆▅▅▅▅▅▆▆▃▅▄▄▄▅▅▆▅▆▅▆▅▆▅▅▆</td></tr><tr><td>test_auc_score</td><td>▁▅▇██▆▃▇▇▆█▅▇▄▆▆▆▇█▇▇█▇█▇▇▇▆▆▇▇▇▇▇▇▆▆▆▆▇</td></tr><tr><td>test_f1_score</td><td>▁▇██▂▄▄▃▅▇█▃▇▇▄▆▅▅▅▅▅▆▅▃▅▄▄▄▅▅▆▅▆▅▅▅▆▅▅▆</td></tr><tr><td>test_fpr</td><td>█▁▁▁▇▅▅▆▄▂▁▆▂▃▅▃▄▄▄▄▄▃▃▆▄▅▅▅▄▄▃▄▃▄▃▄▃▄▄▃</td></tr><tr><td>test_loss</td><td>▇▁▁▁█▅▅▆▄▂▁▆▂▃▅▃▄▃▄▄▄▃▃▆▄▅▆▅▄▄▄▄▄▄▄▄▄▄▄▃</td></tr><tr><td>test_tpr</td><td>▅▁▃▄█▇▇█▇███▅▇▆▅▄▆▅▅▅▅▄▅▅▅▅▄▄▅▅▅▅▅▅▅▅▅▅▅</td></tr><tr><td>train_accuracy</td><td>▁▆▆▆▆▆▆▆▇▇▇▇▇▇▇▇▇▇▇█████████████████████</td></tr><tr><td>train_auc_score</td><td>▁▇▇▇▇▇▇▇████████████████████████████████</td></tr><tr><td>train_f1_score</td><td>▁▅▆▆▆▆▆▆▇▇▇▇▇▇▇▇▇▇▇█████████████████████</td></tr><tr><td>train_fpr</td><td>█▃▃▃▃▃▃▃▂▂▂▂▂▂▂▂▂▂▁▁▁▁▁▁▁▁▁▁▁▁▁▁▁▁▁▁▁▁▁▁</td></tr><tr><td>train_loss</td><td>█▃▃▃▃▂▂▂▂▂▂▂▂▂▂▂▂▂▁▁▁▁▁▁▁▁▁▁▁▁▁▁▁▁▁▁▁▁▁▁</td></tr><tr><td>train_tpr</td><td>▁▄▅▅▆▆▇▆▆▆▇▇▇▇▇▇▇▇▇████▇████████████████</td></tr></table><br/></div><div class=\"wandb-col\"><h3>Run summary:</h3><br/><table class=\"wandb\"><tr><td>epoch</td><td>39</td></tr><tr><td>lr</td><td>0.00015</td></tr><tr><td>test_accuracy</td><td>0.73376</td></tr><tr><td>test_auc_score</td><td>0.93396</td></tr><tr><td>test_f1_score</td><td>0.51889</td></tr><tr><td>test_fpr</td><td>0.27425</td></tr><tr><td>test_loss</td><td>0.57332</td></tr><tr><td>test_tpr</td><td>0.95897</td></tr><tr><td>train_accuracy</td><td>0.97754</td></tr><tr><td>train_auc_score</td><td>0.99249</td></tr><tr><td>train_f1_score</td><td>0.97726</td></tr><tr><td>train_fpr</td><td>0.02268</td></tr><tr><td>train_loss</td><td>0.33575</td></tr><tr><td>train_tpr</td><td>0.97789</td></tr></table><br/></div></div>"
      ],
      "text/plain": [
       "<IPython.core.display.HTML object>"
      ]
     },
     "metadata": {},
     "output_type": "display_data"
    },
    {
     "data": {
      "text/html": [
       " View run <strong style=\"color:#cdcd00\">EM_CrossEntropyLoss()_SMOTE-0.8</strong> at: <a href='https://wandb.ai/dmitrii_fomin_uga/Internship_project/runs/o23o4olr' target=\"_blank\">https://wandb.ai/dmitrii_fomin_uga/Internship_project/runs/o23o4olr</a><br/>Synced 5 W&B file(s), 0 media file(s), 0 artifact file(s) and 0 other file(s)"
      ],
      "text/plain": [
       "<IPython.core.display.HTML object>"
      ]
     },
     "metadata": {},
     "output_type": "display_data"
    },
    {
     "data": {
      "text/html": [
       "Find logs at: <code>../logs/wandb\\run-20230705_095855-o23o4olr\\logs</code>"
      ],
      "text/plain": [
       "<IPython.core.display.HTML object>"
      ]
     },
     "metadata": {},
     "output_type": "display_data"
    },
    {
     "data": {
      "text/html": [
       "Tracking run with wandb version 0.15.4"
      ],
      "text/plain": [
       "<IPython.core.display.HTML object>"
      ]
     },
     "metadata": {},
     "output_type": "display_data"
    },
    {
     "data": {
      "text/html": [
       "Run data is saved locally in <code>../logs/wandb\\run-20230705_095913-54gttv0h</code>"
      ],
      "text/plain": [
       "<IPython.core.display.HTML object>"
      ]
     },
     "metadata": {},
     "output_type": "display_data"
    },
    {
     "data": {
      "text/html": [
       "Syncing run <strong><a href='https://wandb.ai/dmitrii_fomin_uga/Internship_project/runs/54gttv0h' target=\"_blank\">EM_CrossEntropyLoss()_SMOTE-0.9</a></strong> to <a href='https://wandb.ai/dmitrii_fomin_uga/Internship_project' target=\"_blank\">Weights & Biases</a> (<a href='https://wandb.me/run' target=\"_blank\">docs</a>)<br/>"
      ],
      "text/plain": [
       "<IPython.core.display.HTML object>"
      ]
     },
     "metadata": {},
     "output_type": "display_data"
    },
    {
     "data": {
      "text/html": [
       " View project at <a href='https://wandb.ai/dmitrii_fomin_uga/Internship_project' target=\"_blank\">https://wandb.ai/dmitrii_fomin_uga/Internship_project</a>"
      ],
      "text/plain": [
       "<IPython.core.display.HTML object>"
      ]
     },
     "metadata": {},
     "output_type": "display_data"
    },
    {
     "data": {
      "text/html": [
       " View run at <a href='https://wandb.ai/dmitrii_fomin_uga/Internship_project/runs/54gttv0h' target=\"_blank\">https://wandb.ai/dmitrii_fomin_uga/Internship_project/runs/54gttv0h</a>"
      ],
      "text/plain": [
       "<IPython.core.display.HTML object>"
      ]
     },
     "metadata": {},
     "output_type": "display_data"
    },
    {
     "data": {
      "text/html": [
       "Waiting for W&B process to finish... <strong style=\"color:green\">(success).</strong>"
      ],
      "text/plain": [
       "<IPython.core.display.HTML object>"
      ]
     },
     "metadata": {},
     "output_type": "display_data"
    },
    {
     "data": {
      "text/html": [
       "<style>\n",
       "    table.wandb td:nth-child(1) { padding: 0 10px; text-align: left ; width: auto;} td:nth-child(2) {text-align: left ; width: 100%}\n",
       "    .wandb-row { display: flex; flex-direction: row; flex-wrap: wrap; justify-content: flex-start; width: 100% }\n",
       "    .wandb-col { display: flex; flex-direction: column; flex-basis: 100%; flex: 1; padding: 10px; }\n",
       "    </style>\n",
       "<div class=\"wandb-row\"><div class=\"wandb-col\"><h3>Run history:</h3><br/><table class=\"wandb\"><tr><td>epoch</td><td>▁▁▁▂▂▂▂▂▂▃▃▃▃▃▄▄▄▄▄▄▅▅▅▅▅▅▆▆▆▆▆▇▇▇▇▇▇███</td></tr><tr><td>lr</td><td>█▇▇▆▆▅▅▄▄▄▃▃▃▃▃▂▂▂▂▂▂▂▂▂▁▁▁▁▁▁▁▁▁▁▁▁▁▁▁▁</td></tr><tr><td>test_accuracy</td><td>▆█▄▅▅▇▁▇▆▄▂█▃▅▆█▃▂▃▅▆▆▆▅▇▄▅▄▆▄▆▅▅▅▅▅▆▄▅▄</td></tr><tr><td>test_auc_score</td><td>▅▄▆▆▆▇▁▆▄▆▅█▇▆▆█▆▆▆▆▇▆▆▅▆▅▅▅▆▆▅▅▆▆▆▆▆▅▅▅</td></tr><tr><td>test_f1_score</td><td>▆█▄▅▅▇▁▇▆▄▂█▃▅▆█▃▂▃▆▆▆▆▅▇▄▅▄▅▄▆▅▅▅▅▅▅▄▅▄</td></tr><tr><td>test_fpr</td><td>▃▁▅▄▄▂█▁▃▅▇▁▆▄▃▁▆▇▆▄▃▃▃▄▂▅▄▅▃▅▃▄▄▄▄▄▃▅▄▄</td></tr><tr><td>test_loss</td><td>▁▂▆▄▄▃█▂▄▅█▁▇▄▃▂▆▇▆▄▃▃▄▄▂▅▄▅▄▅▄▄▄▄▄▄▄▅▄▄</td></tr><tr><td>test_tpr</td><td>▃▃▄▅█▆▆▂▇▅▅▃▇▃▄▄▅▄▅▇▄▃▄▅▄▄▅▃▃▅▂▃▄▃▁▁▁▃▁▂</td></tr><tr><td>train_accuracy</td><td>▁▅▅▅▆▆▆▆▆▆▇▇▇▇▇▇▇▇▇▇▇███████████████████</td></tr><tr><td>train_auc_score</td><td>▁▆▆▆▇▇▇▇▇▇██████████████████████████████</td></tr><tr><td>train_f1_score</td><td>▁▅▅▅▆▆▆▆▆▆▇▇▇▇▇▇▇▇▇▇▇███████████████████</td></tr><tr><td>train_fpr</td><td>█▄▄▃▃▃▃▃▂▃▃▂▂▂▂▂▂▂▂▂▂▂▁▁▂▂▂▁▁▁▁▁▁▁▁▁▁▁▁▁</td></tr><tr><td>train_loss</td><td>█▄▃▃▃▃▂▃▂▂▂▂▂▂▂▂▂▂▂▂▁▁▁▁▁▁▁▁▁▁▁▁▁▁▁▁▁▁▁▁</td></tr><tr><td>train_tpr</td><td>▁▅▅▅▆▆▆▆▆▇▇▇▇▇▇▇▇▇▇█████████████████████</td></tr></table><br/></div><div class=\"wandb-col\"><h3>Run summary:</h3><br/><table class=\"wandb\"><tr><td>epoch</td><td>39</td></tr><tr><td>lr</td><td>0.00015</td></tr><tr><td>test_accuracy</td><td>0.68349</td></tr><tr><td>test_auc_score</td><td>0.90656</td></tr><tr><td>test_f1_score</td><td>0.48684</td></tr><tr><td>test_fpr</td><td>0.32597</td></tr><tr><td>test_loss</td><td>0.61947</td></tr><tr><td>test_tpr</td><td>0.94987</td></tr><tr><td>train_accuracy</td><td>0.98013</td></tr><tr><td>train_auc_score</td><td>0.99414</td></tr><tr><td>train_f1_score</td><td>0.98007</td></tr><tr><td>train_fpr</td><td>0.02334</td></tr><tr><td>train_loss</td><td>0.33297</td></tr><tr><td>train_tpr</td><td>0.98427</td></tr></table><br/></div></div>"
      ],
      "text/plain": [
       "<IPython.core.display.HTML object>"
      ]
     },
     "metadata": {},
     "output_type": "display_data"
    },
    {
     "data": {
      "text/html": [
       " View run <strong style=\"color:#cdcd00\">EM_CrossEntropyLoss()_SMOTE-0.9</strong> at: <a href='https://wandb.ai/dmitrii_fomin_uga/Internship_project/runs/54gttv0h' target=\"_blank\">https://wandb.ai/dmitrii_fomin_uga/Internship_project/runs/54gttv0h</a><br/>Synced 5 W&B file(s), 0 media file(s), 0 artifact file(s) and 0 other file(s)"
      ],
      "text/plain": [
       "<IPython.core.display.HTML object>"
      ]
     },
     "metadata": {},
     "output_type": "display_data"
    },
    {
     "data": {
      "text/html": [
       "Find logs at: <code>../logs/wandb\\run-20230705_095913-54gttv0h\\logs</code>"
      ],
      "text/plain": [
       "<IPython.core.display.HTML object>"
      ]
     },
     "metadata": {},
     "output_type": "display_data"
    },
    {
     "data": {
      "text/html": [
       "Tracking run with wandb version 0.15.4"
      ],
      "text/plain": [
       "<IPython.core.display.HTML object>"
      ]
     },
     "metadata": {},
     "output_type": "display_data"
    },
    {
     "data": {
      "text/html": [
       "Run data is saved locally in <code>../logs/wandb\\run-20230705_095931-mjeyi3eu</code>"
      ],
      "text/plain": [
       "<IPython.core.display.HTML object>"
      ]
     },
     "metadata": {},
     "output_type": "display_data"
    },
    {
     "data": {
      "text/html": [
       "Syncing run <strong><a href='https://wandb.ai/dmitrii_fomin_uga/Internship_project/runs/mjeyi3eu' target=\"_blank\">EM_CrossEntropyLoss()_SMOTE-1</a></strong> to <a href='https://wandb.ai/dmitrii_fomin_uga/Internship_project' target=\"_blank\">Weights & Biases</a> (<a href='https://wandb.me/run' target=\"_blank\">docs</a>)<br/>"
      ],
      "text/plain": [
       "<IPython.core.display.HTML object>"
      ]
     },
     "metadata": {},
     "output_type": "display_data"
    },
    {
     "data": {
      "text/html": [
       " View project at <a href='https://wandb.ai/dmitrii_fomin_uga/Internship_project' target=\"_blank\">https://wandb.ai/dmitrii_fomin_uga/Internship_project</a>"
      ],
      "text/plain": [
       "<IPython.core.display.HTML object>"
      ]
     },
     "metadata": {},
     "output_type": "display_data"
    },
    {
     "data": {
      "text/html": [
       " View run at <a href='https://wandb.ai/dmitrii_fomin_uga/Internship_project/runs/mjeyi3eu' target=\"_blank\">https://wandb.ai/dmitrii_fomin_uga/Internship_project/runs/mjeyi3eu</a>"
      ],
      "text/plain": [
       "<IPython.core.display.HTML object>"
      ]
     },
     "metadata": {},
     "output_type": "display_data"
    },
    {
     "data": {
      "text/html": [
       "Waiting for W&B process to finish... <strong style=\"color:green\">(success).</strong>"
      ],
      "text/plain": [
       "<IPython.core.display.HTML object>"
      ]
     },
     "metadata": {},
     "output_type": "display_data"
    },
    {
     "data": {
      "text/html": [
       "<style>\n",
       "    table.wandb td:nth-child(1) { padding: 0 10px; text-align: left ; width: auto;} td:nth-child(2) {text-align: left ; width: 100%}\n",
       "    .wandb-row { display: flex; flex-direction: row; flex-wrap: wrap; justify-content: flex-start; width: 100% }\n",
       "    .wandb-col { display: flex; flex-direction: column; flex-basis: 100%; flex: 1; padding: 10px; }\n",
       "    </style>\n",
       "<div class=\"wandb-row\"><div class=\"wandb-col\"><h3>Run history:</h3><br/><table class=\"wandb\"><tr><td>epoch</td><td>▁▁▁▂▂▂▂▂▂▃▃▃▃▃▄▄▄▄▄▄▅▅▅▅▅▅▆▆▆▆▆▇▇▇▇▇▇███</td></tr><tr><td>lr</td><td>█▇▇▆▆▅▅▄▄▄▃▃▃▃▃▂▂▂▂▂▂▂▂▂▁▁▁▁▁▁▁▁▁▁▁▁▁▁▁▁</td></tr><tr><td>test_accuracy</td><td>█▆▄▃▆▄▄▂▃▂▂▄▄▄▁▂▅▅▅▄▄▄▅▃▄▄▄▃▃▄▅▄▄▄▄▄▅▅▅▅</td></tr><tr><td>test_auc_score</td><td>▃▅▁▂▅▅▅▅▆▅▅▆▇▆▅▃▅▇█▇▇██▅▆▄▅▄▃▄▄▃▃▃▂▂▃▃▃▃</td></tr><tr><td>test_f1_score</td><td>█▆▄▃▆▄▄▃▃▂▃▄▄▄▁▂▅▅▅▅▄▄▅▃▄▄▄▄▃▄▅▄▄▄▄▄▅▅▅▄</td></tr><tr><td>test_fpr</td><td>▁▃▅▆▃▅▅▇▆▇▇▅▅▅█▇▄▄▄▅▅▅▄▆▅▅▅▆▆▅▄▅▅▅▅▅▄▄▄▅</td></tr><tr><td>test_loss</td><td>▁▃▅▆▄▅▅▇▆▇▇▅▅▅█▇▄▅▄▅▅▅▄▆▅▅▅▆▆▅▅▅▅▅▅▅▄▄▄▅</td></tr><tr><td>test_tpr</td><td>▁▆▇▅▅▆██▆▇██▇▇▆▇▇▆█▇█▅▆▇▆▆▇▇▅▅▆▆▆▅▆▅▆▅▆▅</td></tr><tr><td>train_accuracy</td><td>▁▅▅▅▆▆▆▆▆▆▇▇▇▇▇▇▇▇▇▇▇▇▇▇████████████████</td></tr><tr><td>train_auc_score</td><td>▁▆▆▇▇▇▇▇▇▇▇████▇▇███████████████████████</td></tr><tr><td>train_f1_score</td><td>▁▅▅▅▆▆▆▆▆▆▇▇▇▇▇▇▇▇▇▇▇▇▇▇████████████████</td></tr><tr><td>train_fpr</td><td>█▄▄▃▃▃▃▃▃▃▃▃▂▂▃▂▃▂▂▂▂▂▁▂▂▁▁▁▁▁▁▁▁▁▁▁▁▁▁▁</td></tr><tr><td>train_loss</td><td>█▄▃▃▃▃▃▃▂▂▂▂▂▂▂▂▂▂▂▂▂▂▁▂▁▁▁▁▁▁▁▁▁▁▁▁▁▁▁▁</td></tr><tr><td>train_tpr</td><td>▁▄▅▄▅▆▆▇▆▆▇▇▇▇▇▇▇▇▇▇▇▇▇▇█▇███████▇██████</td></tr></table><br/></div><div class=\"wandb-col\"><h3>Run summary:</h3><br/><table class=\"wandb\"><tr><td>epoch</td><td>39</td></tr><tr><td>lr</td><td>0.00015</td></tr><tr><td>test_accuracy</td><td>0.67551</td></tr><tr><td>test_auc_score</td><td>0.88104</td></tr><tr><td>test_f1_score</td><td>0.48296</td></tr><tr><td>test_fpr</td><td>0.3346</td></tr><tr><td>test_loss</td><td>0.63179</td></tr><tr><td>test_tpr</td><td>0.96412</td></tr><tr><td>train_accuracy</td><td>0.97973</td></tr><tr><td>train_auc_score</td><td>0.99278</td></tr><tr><td>train_f1_score</td><td>0.97971</td></tr><tr><td>train_fpr</td><td>0.02922</td></tr><tr><td>train_loss</td><td>0.3338</td></tr><tr><td>train_tpr</td><td>0.98879</td></tr></table><br/></div></div>"
      ],
      "text/plain": [
       "<IPython.core.display.HTML object>"
      ]
     },
     "metadata": {},
     "output_type": "display_data"
    },
    {
     "data": {
      "text/html": [
       " View run <strong style=\"color:#cdcd00\">EM_CrossEntropyLoss()_SMOTE-1</strong> at: <a href='https://wandb.ai/dmitrii_fomin_uga/Internship_project/runs/mjeyi3eu' target=\"_blank\">https://wandb.ai/dmitrii_fomin_uga/Internship_project/runs/mjeyi3eu</a><br/>Synced 5 W&B file(s), 0 media file(s), 0 artifact file(s) and 0 other file(s)"
      ],
      "text/plain": [
       "<IPython.core.display.HTML object>"
      ]
     },
     "metadata": {},
     "output_type": "display_data"
    },
    {
     "data": {
      "text/html": [
       "Find logs at: <code>../logs/wandb\\run-20230705_095931-mjeyi3eu\\logs</code>"
      ],
      "text/plain": [
       "<IPython.core.display.HTML object>"
      ]
     },
     "metadata": {},
     "output_type": "display_data"
    },
    {
     "data": {
      "text/html": [
       "Tracking run with wandb version 0.15.4"
      ],
      "text/plain": [
       "<IPython.core.display.HTML object>"
      ]
     },
     "metadata": {},
     "output_type": "display_data"
    },
    {
     "data": {
      "text/html": [
       "Run data is saved locally in <code>../logs/wandb\\run-20230705_095950-c252iz8j</code>"
      ],
      "text/plain": [
       "<IPython.core.display.HTML object>"
      ]
     },
     "metadata": {},
     "output_type": "display_data"
    },
    {
     "data": {
      "text/html": [
       "Syncing run <strong><a href='https://wandb.ai/dmitrii_fomin_uga/Internship_project/runs/c252iz8j' target=\"_blank\">EM_CrossEntropyLoss()_OSS-0.0</a></strong> to <a href='https://wandb.ai/dmitrii_fomin_uga/Internship_project' target=\"_blank\">Weights & Biases</a> (<a href='https://wandb.me/run' target=\"_blank\">docs</a>)<br/>"
      ],
      "text/plain": [
       "<IPython.core.display.HTML object>"
      ]
     },
     "metadata": {},
     "output_type": "display_data"
    },
    {
     "data": {
      "text/html": [
       " View project at <a href='https://wandb.ai/dmitrii_fomin_uga/Internship_project' target=\"_blank\">https://wandb.ai/dmitrii_fomin_uga/Internship_project</a>"
      ],
      "text/plain": [
       "<IPython.core.display.HTML object>"
      ]
     },
     "metadata": {},
     "output_type": "display_data"
    },
    {
     "data": {
      "text/html": [
       " View run at <a href='https://wandb.ai/dmitrii_fomin_uga/Internship_project/runs/c252iz8j' target=\"_blank\">https://wandb.ai/dmitrii_fomin_uga/Internship_project/runs/c252iz8j</a>"
      ],
      "text/plain": [
       "<IPython.core.display.HTML object>"
      ]
     },
     "metadata": {},
     "output_type": "display_data"
    },
    {
     "data": {
      "text/html": [
       "Waiting for W&B process to finish... <strong style=\"color:green\">(success).</strong>"
      ],
      "text/plain": [
       "<IPython.core.display.HTML object>"
      ]
     },
     "metadata": {},
     "output_type": "display_data"
    },
    {
     "data": {
      "text/html": [
       "<style>\n",
       "    table.wandb td:nth-child(1) { padding: 0 10px; text-align: left ; width: auto;} td:nth-child(2) {text-align: left ; width: 100%}\n",
       "    .wandb-row { display: flex; flex-direction: row; flex-wrap: wrap; justify-content: flex-start; width: 100% }\n",
       "    .wandb-col { display: flex; flex-direction: column; flex-basis: 100%; flex: 1; padding: 10px; }\n",
       "    </style>\n",
       "<div class=\"wandb-row\"><div class=\"wandb-col\"><h3>Run history:</h3><br/><table class=\"wandb\"><tr><td>epoch</td><td>▁▁▁▂▂▂▂▂▂▃▃▃▃▃▄▄▄▄▄▄▅▅▅▅▅▅▆▆▆▆▆▇▇▇▇▇▇███</td></tr><tr><td>lr</td><td>█▇▇▆▆▅▅▄▄▄▃▃▃▃▃▂▂▂▂▂▂▂▂▂▁▁▁▁▁▁▁▁▁▁▁▁▁▁▁▁</td></tr><tr><td>test_accuracy</td><td>▁▃▇█████████████████████████████████████</td></tr><tr><td>test_auc_score</td><td>▃▁▁▅▄▄▅▄▅▄▅▅▆▇▇▇▇▆▇▆▇▆▆▆█▇▆▇▇▇▇▇▇▇▇▇▇▇▇▇</td></tr><tr><td>test_f1_score</td><td>▁▃▆██▇█▇█▇█▇████████████████████████████</td></tr><tr><td>test_fpr</td><td>█▆▂▁▁▁▁▁▁▁▁▁▁▁▁▁▁▁▁▁▁▁▁▁▁▁▁▁▁▁▁▁▁▁▁▁▁▁▁▁</td></tr><tr><td>test_loss</td><td>█▇▃▂▁▁▁▁▁▁▁▁▁▁▁▁▁▁▁▁▁▁▁▁▁▁▁▁▁▁▁▁▁▁▁▁▁▁▁▁</td></tr><tr><td>test_tpr</td><td>██▆▄▄▃▁▃▂▂▂▂▂▁▂▂▂▂▁▂▂▃▃▂▂▂▂▃▂▂▂▂▂▂▂▂▂▂▂▂</td></tr><tr><td>train_accuracy</td><td>▁▇▇█████████████████████████████████████</td></tr><tr><td>train_auc_score</td><td>▁▆▆▅▆▆▇▆▇▇▇▇▇█████████▇▇████▇█████▇█████</td></tr><tr><td>train_f1_score</td><td>▁▅▆▆▆▇▇▆▇▇▇▇▇▇▇▇▇▇▇▇▇█▇▇████████████████</td></tr><tr><td>train_fpr</td><td>█▃▂▁▁▁▁▁▁▁▁▁▁▁▁▁▁▁▁▁▁▁▁▁▁▁▁▁▁▁▁▁▁▁▁▁▁▁▁▁</td></tr><tr><td>train_loss</td><td>█▄▃▂▂▁▁▁▁▁▁▁▁▁▁▁▁▁▁▁▁▁▁▁▁▁▁▁▁▁▁▁▁▁▁▁▁▁▁▁</td></tr><tr><td>train_tpr</td><td>▇█▄▅▃▃▄▁▅▄▃▄▅▄▅▅▅▆▅▄▅▅▅▅▆▆▆▆▆▆▆▆▆▆▆▆▆▆▇▆</td></tr></table><br/></div><div class=\"wandb-col\"><h3>Run summary:</h3><br/><table class=\"wandb\"><tr><td>epoch</td><td>39</td></tr><tr><td>lr</td><td>0.00015</td></tr><tr><td>test_accuracy</td><td>0.96796</td></tr><tr><td>test_auc_score</td><td>0.92678</td></tr><tr><td>test_f1_score</td><td>0.76737</td></tr><tr><td>test_fpr</td><td>0.01839</td></tr><tr><td>test_loss</td><td>0.34724</td></tr><tr><td>test_tpr</td><td>0.58309</td></tr><tr><td>train_accuracy</td><td>0.98406</td></tr><tr><td>train_auc_score</td><td>0.92579</td></tr><tr><td>train_f1_score</td><td>0.88724</td></tr><tr><td>train_fpr</td><td>0.00276</td></tr><tr><td>train_loss</td><td>0.33273</td></tr><tr><td>train_tpr</td><td>0.69505</td></tr></table><br/></div></div>"
      ],
      "text/plain": [
       "<IPython.core.display.HTML object>"
      ]
     },
     "metadata": {},
     "output_type": "display_data"
    },
    {
     "data": {
      "text/html": [
       " View run <strong style=\"color:#cdcd00\">EM_CrossEntropyLoss()_OSS-0.0</strong> at: <a href='https://wandb.ai/dmitrii_fomin_uga/Internship_project/runs/c252iz8j' target=\"_blank\">https://wandb.ai/dmitrii_fomin_uga/Internship_project/runs/c252iz8j</a><br/>Synced 5 W&B file(s), 0 media file(s), 0 artifact file(s) and 0 other file(s)"
      ],
      "text/plain": [
       "<IPython.core.display.HTML object>"
      ]
     },
     "metadata": {},
     "output_type": "display_data"
    },
    {
     "data": {
      "text/html": [
       "Find logs at: <code>../logs/wandb\\run-20230705_095950-c252iz8j\\logs</code>"
      ],
      "text/plain": [
       "<IPython.core.display.HTML object>"
      ]
     },
     "metadata": {},
     "output_type": "display_data"
    },
    {
     "data": {
      "text/html": [
       "Tracking run with wandb version 0.15.4"
      ],
      "text/plain": [
       "<IPython.core.display.HTML object>"
      ]
     },
     "metadata": {},
     "output_type": "display_data"
    },
    {
     "data": {
      "text/html": [
       "Run data is saved locally in <code>../logs/wandb\\run-20230705_100004-nwope01k</code>"
      ],
      "text/plain": [
       "<IPython.core.display.HTML object>"
      ]
     },
     "metadata": {},
     "output_type": "display_data"
    },
    {
     "data": {
      "text/html": [
       "Syncing run <strong><a href='https://wandb.ai/dmitrii_fomin_uga/Internship_project/runs/nwope01k' target=\"_blank\">EM_FocalLoss()_None-0.0</a></strong> to <a href='https://wandb.ai/dmitrii_fomin_uga/Internship_project' target=\"_blank\">Weights & Biases</a> (<a href='https://wandb.me/run' target=\"_blank\">docs</a>)<br/>"
      ],
      "text/plain": [
       "<IPython.core.display.HTML object>"
      ]
     },
     "metadata": {},
     "output_type": "display_data"
    },
    {
     "data": {
      "text/html": [
       " View project at <a href='https://wandb.ai/dmitrii_fomin_uga/Internship_project' target=\"_blank\">https://wandb.ai/dmitrii_fomin_uga/Internship_project</a>"
      ],
      "text/plain": [
       "<IPython.core.display.HTML object>"
      ]
     },
     "metadata": {},
     "output_type": "display_data"
    },
    {
     "data": {
      "text/html": [
       " View run at <a href='https://wandb.ai/dmitrii_fomin_uga/Internship_project/runs/nwope01k' target=\"_blank\">https://wandb.ai/dmitrii_fomin_uga/Internship_project/runs/nwope01k</a>"
      ],
      "text/plain": [
       "<IPython.core.display.HTML object>"
      ]
     },
     "metadata": {},
     "output_type": "display_data"
    },
    {
     "data": {
      "text/html": [
       "Waiting for W&B process to finish... <strong style=\"color:green\">(success).</strong>"
      ],
      "text/plain": [
       "<IPython.core.display.HTML object>"
      ]
     },
     "metadata": {},
     "output_type": "display_data"
    },
    {
     "data": {
      "text/html": [
       "<style>\n",
       "    table.wandb td:nth-child(1) { padding: 0 10px; text-align: left ; width: auto;} td:nth-child(2) {text-align: left ; width: 100%}\n",
       "    .wandb-row { display: flex; flex-direction: row; flex-wrap: wrap; justify-content: flex-start; width: 100% }\n",
       "    .wandb-col { display: flex; flex-direction: column; flex-basis: 100%; flex: 1; padding: 10px; }\n",
       "    </style>\n",
       "<div class=\"wandb-row\"><div class=\"wandb-col\"><h3>Run history:</h3><br/><table class=\"wandb\"><tr><td>epoch</td><td>▁▁▁▂▂▂▂▂▂▃▃▃▃▃▄▄▄▄▄▄▅▅▅▅▅▅▆▆▆▆▆▇▇▇▇▇▇███</td></tr><tr><td>lr</td><td>█▇▇▆▆▅▅▄▄▄▃▃▃▃▃▂▂▂▂▂▂▂▂▂▁▁▁▁▁▁▁▁▁▁▁▁▁▁▁▁</td></tr><tr><td>test_accuracy</td><td>▁▆██████████████████████████████████████</td></tr><tr><td>test_auc_score</td><td>▁▇▇▇▆▇▆▆▇▇▇▇██▇▇▇▇▇███▇███▇█████████████</td></tr><tr><td>test_f1_score</td><td>▁▅▇█▇▇▇██▇██████████████████████████████</td></tr><tr><td>test_fpr</td><td>█▃▁▁▁▁▁▁▁▁▁▁▁▁▁▁▁▁▁▁▁▁▁▁▁▁▁▁▁▁▁▁▁▁▁▁▁▁▁▁</td></tr><tr><td>test_loss</td><td>█▂▁▁▁▁▁▁▁▁▁▁▁▁▁▁▁▁▁▁▁▁▁▁▁▁▁▁▁▁▁▁▁▁▁▁▁▁▁▁</td></tr><tr><td>test_tpr</td><td>█▇▄▄▂▂▂▂▁▁▂▁▂▂▂▂▂▂▂▂▂▂▂▂▃▂▂▃▂▃▃▂▂▂▃▃▃▃▃▂</td></tr><tr><td>train_accuracy</td><td>▁▇▇█████████████████████████████████████</td></tr><tr><td>train_auc_score</td><td>▁▄▅▆▇▇▇▇▆▇▇▇██▇█▇▇▇█▇█▇▇▇█▇▇▇▇█▇▇██▇▇▇██</td></tr><tr><td>train_f1_score</td><td>▁▅▆▆▆▆▇▆▇▇▇▇▇▇▇▇▇▇██▇███████████████████</td></tr><tr><td>train_fpr</td><td>█▂▁▁▁▁▁▁▁▁▁▁▁▁▁▁▁▁▁▁▁▁▁▁▁▁▁▁▁▁▁▁▁▁▁▁▁▁▁▁</td></tr><tr><td>train_loss</td><td>█▃▂▁▁▁▁▁▁▁▁▁▁▁▁▁▁▁▁▁▁▁▁▁▁▁▁▁▁▁▁▁▁▁▁▁▁▁▁▁</td></tr><tr><td>train_tpr</td><td>█▄▃▄▂▁▅▂▄▃▃▄▅▆▅▅▅▆▆▇▆▆▆▆▆▇▇▆▇▇▇▆▇▇▇▇▇▇▇▇</td></tr></table><br/></div><div class=\"wandb-col\"><h3>Run summary:</h3><br/><table class=\"wandb\"><tr><td>epoch</td><td>39</td></tr><tr><td>lr</td><td>0.00015</td></tr><tr><td>test_accuracy</td><td>0.97399</td></tr><tr><td>test_auc_score</td><td>0.89682</td></tr><tr><td>test_f1_score</td><td>0.7718</td></tr><tr><td>test_fpr</td><td>0.00935</td></tr><tr><td>test_loss</td><td>0.02882</td></tr><tr><td>test_tpr</td><td>0.49405</td></tr><tr><td>train_accuracy</td><td>0.98541</td></tr><tr><td>train_auc_score</td><td>0.92376</td></tr><tr><td>train_f1_score</td><td>0.87179</td></tr><tr><td>train_fpr</td><td>0.00274</td></tr><tr><td>train_loss</td><td>0.02662</td></tr><tr><td>train_tpr</td><td>0.65095</td></tr></table><br/></div></div>"
      ],
      "text/plain": [
       "<IPython.core.display.HTML object>"
      ]
     },
     "metadata": {},
     "output_type": "display_data"
    },
    {
     "data": {
      "text/html": [
       " View run <strong style=\"color:#cdcd00\">EM_FocalLoss()_None-0.0</strong> at: <a href='https://wandb.ai/dmitrii_fomin_uga/Internship_project/runs/nwope01k' target=\"_blank\">https://wandb.ai/dmitrii_fomin_uga/Internship_project/runs/nwope01k</a><br/>Synced 5 W&B file(s), 0 media file(s), 0 artifact file(s) and 0 other file(s)"
      ],
      "text/plain": [
       "<IPython.core.display.HTML object>"
      ]
     },
     "metadata": {},
     "output_type": "display_data"
    },
    {
     "data": {
      "text/html": [
       "Find logs at: <code>../logs/wandb\\run-20230705_100004-nwope01k\\logs</code>"
      ],
      "text/plain": [
       "<IPython.core.display.HTML object>"
      ]
     },
     "metadata": {},
     "output_type": "display_data"
    },
    {
     "data": {
      "text/html": [
       "Tracking run with wandb version 0.15.4"
      ],
      "text/plain": [
       "<IPython.core.display.HTML object>"
      ]
     },
     "metadata": {},
     "output_type": "display_data"
    },
    {
     "data": {
      "text/html": [
       "Run data is saved locally in <code>../logs/wandb\\run-20230705_100017-w176jkav</code>"
      ],
      "text/plain": [
       "<IPython.core.display.HTML object>"
      ]
     },
     "metadata": {},
     "output_type": "display_data"
    },
    {
     "data": {
      "text/html": [
       "Syncing run <strong><a href='https://wandb.ai/dmitrii_fomin_uga/Internship_project/runs/w176jkav' target=\"_blank\">EM_FocalLoss()_ROS-0.05</a></strong> to <a href='https://wandb.ai/dmitrii_fomin_uga/Internship_project' target=\"_blank\">Weights & Biases</a> (<a href='https://wandb.me/run' target=\"_blank\">docs</a>)<br/>"
      ],
      "text/plain": [
       "<IPython.core.display.HTML object>"
      ]
     },
     "metadata": {},
     "output_type": "display_data"
    },
    {
     "data": {
      "text/html": [
       " View project at <a href='https://wandb.ai/dmitrii_fomin_uga/Internship_project' target=\"_blank\">https://wandb.ai/dmitrii_fomin_uga/Internship_project</a>"
      ],
      "text/plain": [
       "<IPython.core.display.HTML object>"
      ]
     },
     "metadata": {},
     "output_type": "display_data"
    },
    {
     "data": {
      "text/html": [
       " View run at <a href='https://wandb.ai/dmitrii_fomin_uga/Internship_project/runs/w176jkav' target=\"_blank\">https://wandb.ai/dmitrii_fomin_uga/Internship_project/runs/w176jkav</a>"
      ],
      "text/plain": [
       "<IPython.core.display.HTML object>"
      ]
     },
     "metadata": {},
     "output_type": "display_data"
    },
    {
     "data": {
      "text/html": [
       "Waiting for W&B process to finish... <strong style=\"color:green\">(success).</strong>"
      ],
      "text/plain": [
       "<IPython.core.display.HTML object>"
      ]
     },
     "metadata": {},
     "output_type": "display_data"
    },
    {
     "data": {
      "text/html": [
       "<style>\n",
       "    table.wandb td:nth-child(1) { padding: 0 10px; text-align: left ; width: auto;} td:nth-child(2) {text-align: left ; width: 100%}\n",
       "    .wandb-row { display: flex; flex-direction: row; flex-wrap: wrap; justify-content: flex-start; width: 100% }\n",
       "    .wandb-col { display: flex; flex-direction: column; flex-basis: 100%; flex: 1; padding: 10px; }\n",
       "    </style>\n",
       "<div class=\"wandb-row\"><div class=\"wandb-col\"><h3>Run history:</h3><br/><table class=\"wandb\"><tr><td>epoch</td><td>▁▁▁▂▂▂▂▂▂▃▃▃▃▃▄▄▄▄▄▄▅▅▅▅▅▅▆▆▆▆▆▇▇▇▇▇▇███</td></tr><tr><td>lr</td><td>█▇▇▆▆▅▅▄▄▄▃▃▃▃▃▂▂▂▂▂▂▂▂▂▁▁▁▁▁▁▁▁▁▁▁▁▁▁▁▁</td></tr><tr><td>test_accuracy</td><td>▁▆▇█████████████████████████████████████</td></tr><tr><td>test_auc_score</td><td>▁▄▃▄▃▆▆▆▇▆▅▆▇▇█▇▆▆▇▇██▇▇▇▆▆▆▆▆▇▇▆▇▇▆▆▆▆▆</td></tr><tr><td>test_f1_score</td><td>▁▅▆▇▇▇▇▇████████████████████████████████</td></tr><tr><td>test_fpr</td><td>█▃▂▁▁▁▁▁▁▁▁▁▁▁▁▁▁▁▁▁▁▁▁▁▁▁▁▁▁▁▁▁▁▁▁▁▁▁▁▁</td></tr><tr><td>test_loss</td><td>█▃▂▁▁▁▁▁▁▁▁▁▁▁▁▁▁▁▁▁▁▁▁▁▁▁▁▁▁▁▁▁▁▁▁▁▁▁▁▁</td></tr><tr><td>test_tpr</td><td>█▆▅▄▃▃▃▁▂▃▂▃▂▁▂▂▁▂▂▂▂▃▂▂▃▂▂▂▃▂▃▃▂▂▂▂▂▂▃▃</td></tr><tr><td>train_accuracy</td><td>▁▇▇█████████████████████████████████████</td></tr><tr><td>train_auc_score</td><td>▁▅▆▅▆▆▇▇▇▇▇▇▇▇█▇▇███████████████████████</td></tr><tr><td>train_f1_score</td><td>▁▆▆▆▆▇▇▇▇▇▇▇▇▇▇▇▇▇▇▇▇█▇█████████████████</td></tr><tr><td>train_fpr</td><td>█▂▁▁▁▁▁▁▁▁▁▁▁▁▁▁▁▁▁▁▁▁▁▁▁▁▁▁▁▁▁▁▁▁▁▁▁▁▁▁</td></tr><tr><td>train_loss</td><td>█▃▂▂▁▁▁▁▁▁▁▁▁▁▁▁▁▁▁▁▁▁▁▁▁▁▁▁▁▁▁▁▁▁▁▁▁▁▁▁</td></tr><tr><td>train_tpr</td><td>█▅▃▂▂▂▁▃▁▄▃▃▃▄▅▃▄▅▅▅▅▅▅▆▆▅▆▆▇▆▇▇▇▇▆▇▇▇█▇</td></tr></table><br/></div><div class=\"wandb-col\"><h3>Run summary:</h3><br/><table class=\"wandb\"><tr><td>epoch</td><td>39</td></tr><tr><td>lr</td><td>0.00015</td></tr><tr><td>test_accuracy</td><td>0.97427</td></tr><tr><td>test_auc_score</td><td>0.90847</td></tr><tr><td>test_f1_score</td><td>0.79959</td></tr><tr><td>test_fpr</td><td>0.01277</td></tr><tr><td>test_loss</td><td>0.02865</td></tr><tr><td>test_tpr</td><td>0.61172</td></tr><tr><td>train_accuracy</td><td>0.98307</td></tr><tr><td>train_auc_score</td><td>0.93472</td></tr><tr><td>train_f1_score</td><td>0.89407</td></tr><tr><td>train_fpr</td><td>0.00281</td></tr><tr><td>train_loss</td><td>0.02728</td></tr><tr><td>train_tpr</td><td>0.7012</td></tr></table><br/></div></div>"
      ],
      "text/plain": [
       "<IPython.core.display.HTML object>"
      ]
     },
     "metadata": {},
     "output_type": "display_data"
    },
    {
     "data": {
      "text/html": [
       " View run <strong style=\"color:#cdcd00\">EM_FocalLoss()_ROS-0.05</strong> at: <a href='https://wandb.ai/dmitrii_fomin_uga/Internship_project/runs/w176jkav' target=\"_blank\">https://wandb.ai/dmitrii_fomin_uga/Internship_project/runs/w176jkav</a><br/>Synced 5 W&B file(s), 0 media file(s), 0 artifact file(s) and 0 other file(s)"
      ],
      "text/plain": [
       "<IPython.core.display.HTML object>"
      ]
     },
     "metadata": {},
     "output_type": "display_data"
    },
    {
     "data": {
      "text/html": [
       "Find logs at: <code>../logs/wandb\\run-20230705_100017-w176jkav\\logs</code>"
      ],
      "text/plain": [
       "<IPython.core.display.HTML object>"
      ]
     },
     "metadata": {},
     "output_type": "display_data"
    },
    {
     "data": {
      "text/html": [
       "Tracking run with wandb version 0.15.4"
      ],
      "text/plain": [
       "<IPython.core.display.HTML object>"
      ]
     },
     "metadata": {},
     "output_type": "display_data"
    },
    {
     "data": {
      "text/html": [
       "Run data is saved locally in <code>../logs/wandb\\run-20230705_100030-7984trq8</code>"
      ],
      "text/plain": [
       "<IPython.core.display.HTML object>"
      ]
     },
     "metadata": {},
     "output_type": "display_data"
    },
    {
     "data": {
      "text/html": [
       "Syncing run <strong><a href='https://wandb.ai/dmitrii_fomin_uga/Internship_project/runs/7984trq8' target=\"_blank\">EM_FocalLoss()_ROS-0.1</a></strong> to <a href='https://wandb.ai/dmitrii_fomin_uga/Internship_project' target=\"_blank\">Weights & Biases</a> (<a href='https://wandb.me/run' target=\"_blank\">docs</a>)<br/>"
      ],
      "text/plain": [
       "<IPython.core.display.HTML object>"
      ]
     },
     "metadata": {},
     "output_type": "display_data"
    },
    {
     "data": {
      "text/html": [
       " View project at <a href='https://wandb.ai/dmitrii_fomin_uga/Internship_project' target=\"_blank\">https://wandb.ai/dmitrii_fomin_uga/Internship_project</a>"
      ],
      "text/plain": [
       "<IPython.core.display.HTML object>"
      ]
     },
     "metadata": {},
     "output_type": "display_data"
    },
    {
     "data": {
      "text/html": [
       " View run at <a href='https://wandb.ai/dmitrii_fomin_uga/Internship_project/runs/7984trq8' target=\"_blank\">https://wandb.ai/dmitrii_fomin_uga/Internship_project/runs/7984trq8</a>"
      ],
      "text/plain": [
       "<IPython.core.display.HTML object>"
      ]
     },
     "metadata": {},
     "output_type": "display_data"
    },
    {
     "data": {
      "text/html": [
       "Waiting for W&B process to finish... <strong style=\"color:green\">(success).</strong>"
      ],
      "text/plain": [
       "<IPython.core.display.HTML object>"
      ]
     },
     "metadata": {},
     "output_type": "display_data"
    },
    {
     "data": {
      "text/html": [
       "<style>\n",
       "    table.wandb td:nth-child(1) { padding: 0 10px; text-align: left ; width: auto;} td:nth-child(2) {text-align: left ; width: 100%}\n",
       "    .wandb-row { display: flex; flex-direction: row; flex-wrap: wrap; justify-content: flex-start; width: 100% }\n",
       "    .wandb-col { display: flex; flex-direction: column; flex-basis: 100%; flex: 1; padding: 10px; }\n",
       "    </style>\n",
       "<div class=\"wandb-row\"><div class=\"wandb-col\"><h3>Run history:</h3><br/><table class=\"wandb\"><tr><td>epoch</td><td>▁▁▁▂▂▂▂▂▂▃▃▃▃▃▄▄▄▄▄▄▅▅▅▅▅▅▆▆▆▆▆▇▇▇▇▇▇███</td></tr><tr><td>lr</td><td>█▇▇▆▆▅▅▄▄▄▃▃▃▃▃▂▂▂▂▂▂▂▂▂▁▁▁▁▁▁▁▁▁▁▁▁▁▁▁▁</td></tr><tr><td>test_accuracy</td><td>▁▆▇█████████████████████████████████████</td></tr><tr><td>test_auc_score</td><td>▅▅▁▃▄██▆▆▆▇▆▇▆▇▇▄▇▇▇▇█▆▇▇▇▇▆▇▇▇▇▇▇▇▇▇▇▇▇</td></tr><tr><td>test_f1_score</td><td>▁▅▆▇▇▇█▇▇▇██████▇███████████████████████</td></tr><tr><td>test_fpr</td><td>█▃▂▁▁▁▁▁▁▁▁▁▁▁▁▁▁▁▁▁▁▁▁▁▁▁▁▁▁▁▁▁▁▁▁▁▁▁▁▁</td></tr><tr><td>test_loss</td><td>█▃▁▁▁▁▁▁▁▁▁▁▁▁▁▁▁▁▁▁▁▁▁▁▁▁▁▁▁▁▁▁▁▁▁▁▁▁▁▁</td></tr><tr><td>test_tpr</td><td>█▆▄▄▄▃▂▁▃▄▂▂▂▂▃▂▂▃▂▃▃▃▁▃▃▂▂▂▂▂▃▃▃▃▂▃▃▄▃▃</td></tr><tr><td>train_accuracy</td><td>▁▇▇▇▇▇██▇▇██████████████████████████████</td></tr><tr><td>train_auc_score</td><td>▁▆▇▆▇▇▇▇▇▇█▇▇▇██▇▇██████████▇█▇█████████</td></tr><tr><td>train_f1_score</td><td>▁▆▆▆▇▇▇▇▇▇▇▇▇▇█▇▇▇██████████████████████</td></tr><tr><td>train_fpr</td><td>█▂▂▁▁▁▁▁▁▁▁▁▁▁▁▁▁▁▁▁▁▁▁▁▁▁▁▁▁▁▁▁▁▁▁▁▁▁▁▁</td></tr><tr><td>train_loss</td><td>█▃▂▂▁▁▁▁▁▁▁▁▁▁▁▁▁▁▁▁▁▁▁▁▁▁▁▁▁▁▁▁▁▁▁▁▁▁▁▁</td></tr><tr><td>train_tpr</td><td>▅▄▃▁▂▃▄▄▂▄▅▅▆▆▆▆▄▆▆▆▆▇▆▆▆▇▇▇▇▇▇▇███▇██▇█</td></tr></table><br/></div><div class=\"wandb-col\"><h3>Run summary:</h3><br/><table class=\"wandb\"><tr><td>epoch</td><td>39</td></tr><tr><td>lr</td><td>0.00015</td></tr><tr><td>test_accuracy</td><td>0.97089</td></tr><tr><td>test_auc_score</td><td>0.93306</td></tr><tr><td>test_f1_score</td><td>0.8173</td></tr><tr><td>test_fpr</td><td>0.02286</td></tr><tr><td>test_loss</td><td>0.02945</td></tr><tr><td>test_tpr</td><td>0.79169</td></tr><tr><td>train_accuracy</td><td>0.98056</td></tr><tr><td>train_auc_score</td><td>0.95826</td></tr><tr><td>train_f1_score</td><td>0.93797</td></tr><tr><td>train_fpr</td><td>0.00425</td></tr><tr><td>train_loss</td><td>0.0275</td></tr><tr><td>train_tpr</td><td>0.8325</td></tr></table><br/></div></div>"
      ],
      "text/plain": [
       "<IPython.core.display.HTML object>"
      ]
     },
     "metadata": {},
     "output_type": "display_data"
    },
    {
     "data": {
      "text/html": [
       " View run <strong style=\"color:#cdcd00\">EM_FocalLoss()_ROS-0.1</strong> at: <a href='https://wandb.ai/dmitrii_fomin_uga/Internship_project/runs/7984trq8' target=\"_blank\">https://wandb.ai/dmitrii_fomin_uga/Internship_project/runs/7984trq8</a><br/>Synced 5 W&B file(s), 0 media file(s), 0 artifact file(s) and 0 other file(s)"
      ],
      "text/plain": [
       "<IPython.core.display.HTML object>"
      ]
     },
     "metadata": {},
     "output_type": "display_data"
    },
    {
     "data": {
      "text/html": [
       "Find logs at: <code>../logs/wandb\\run-20230705_100030-7984trq8\\logs</code>"
      ],
      "text/plain": [
       "<IPython.core.display.HTML object>"
      ]
     },
     "metadata": {},
     "output_type": "display_data"
    },
    {
     "data": {
      "text/html": [
       "Tracking run with wandb version 0.15.4"
      ],
      "text/plain": [
       "<IPython.core.display.HTML object>"
      ]
     },
     "metadata": {},
     "output_type": "display_data"
    },
    {
     "data": {
      "text/html": [
       "Run data is saved locally in <code>../logs/wandb\\run-20230705_100041-3qgb5m4j</code>"
      ],
      "text/plain": [
       "<IPython.core.display.HTML object>"
      ]
     },
     "metadata": {},
     "output_type": "display_data"
    },
    {
     "data": {
      "text/html": [
       "Syncing run <strong><a href='https://wandb.ai/dmitrii_fomin_uga/Internship_project/runs/3qgb5m4j' target=\"_blank\">EM_FocalLoss()_ROS-0.15</a></strong> to <a href='https://wandb.ai/dmitrii_fomin_uga/Internship_project' target=\"_blank\">Weights & Biases</a> (<a href='https://wandb.me/run' target=\"_blank\">docs</a>)<br/>"
      ],
      "text/plain": [
       "<IPython.core.display.HTML object>"
      ]
     },
     "metadata": {},
     "output_type": "display_data"
    },
    {
     "data": {
      "text/html": [
       " View project at <a href='https://wandb.ai/dmitrii_fomin_uga/Internship_project' target=\"_blank\">https://wandb.ai/dmitrii_fomin_uga/Internship_project</a>"
      ],
      "text/plain": [
       "<IPython.core.display.HTML object>"
      ]
     },
     "metadata": {},
     "output_type": "display_data"
    },
    {
     "data": {
      "text/html": [
       " View run at <a href='https://wandb.ai/dmitrii_fomin_uga/Internship_project/runs/3qgb5m4j' target=\"_blank\">https://wandb.ai/dmitrii_fomin_uga/Internship_project/runs/3qgb5m4j</a>"
      ],
      "text/plain": [
       "<IPython.core.display.HTML object>"
      ]
     },
     "metadata": {},
     "output_type": "display_data"
    },
    {
     "data": {
      "text/html": [
       "Waiting for W&B process to finish... <strong style=\"color:green\">(success).</strong>"
      ],
      "text/plain": [
       "<IPython.core.display.HTML object>"
      ]
     },
     "metadata": {},
     "output_type": "display_data"
    },
    {
     "data": {
      "text/html": [
       "<style>\n",
       "    table.wandb td:nth-child(1) { padding: 0 10px; text-align: left ; width: auto;} td:nth-child(2) {text-align: left ; width: 100%}\n",
       "    .wandb-row { display: flex; flex-direction: row; flex-wrap: wrap; justify-content: flex-start; width: 100% }\n",
       "    .wandb-col { display: flex; flex-direction: column; flex-basis: 100%; flex: 1; padding: 10px; }\n",
       "    </style>\n",
       "<div class=\"wandb-row\"><div class=\"wandb-col\"><h3>Run history:</h3><br/><table class=\"wandb\"><tr><td>epoch</td><td>▁▁▁▂▂▂▂▂▂▃▃▃▃▃▄▄▄▄▄▄▅▅▅▅▅▅▆▆▆▆▆▇▇▇▇▇▇███</td></tr><tr><td>lr</td><td>█▇▇▆▆▅▅▄▄▄▃▃▃▃▃▂▂▂▂▂▂▂▂▂▁▁▁▁▁▁▁▁▁▁▁▁▁▁▁▁</td></tr><tr><td>test_accuracy</td><td>▁▆▇█████████████████████████████████████</td></tr><tr><td>test_auc_score</td><td>▁▃▄▄▅▅▆▅▅▆▆▆▆▆▇▇█▇▆▆▇▇▇▇▇▇▇▆▆▇███▇▇▇███▇</td></tr><tr><td>test_f1_score</td><td>▁▅▆▇▇▇▇▇▇███████████▇███▇███████████████</td></tr><tr><td>test_fpr</td><td>█▃▂▁▁▁▁▁▁▁▁▁▁▁▁▁▁▁▁▁▁▁▁▁▁▁▁▁▁▁▁▁▁▁▁▁▁▁▁▁</td></tr><tr><td>test_loss</td><td>█▃▂▁▁▁▁▁▁▁▁▁▁▁▁▁▁▁▁▁▁▁▁▁▁▁▁▁▁▁▁▁▁▁▁▁▁▁▁▁</td></tr><tr><td>test_tpr</td><td>█▅▄▃▄▃▂▂▁▄▂▂▁▂▃▂▃▃▂▂▃▂▄▃▃▃▃▃▃▃▄▃▃▃▄▄▄▄▄▄</td></tr><tr><td>train_accuracy</td><td>▁▇▇▇▇▇▇█████████████████████████████████</td></tr><tr><td>train_auc_score</td><td>▁▆▇▇▇▇▇▇▇███████████████████████████████</td></tr><tr><td>train_f1_score</td><td>▁▆▆▆▆▇▇▇▇▇▇▇▇█▇▇████████████████████████</td></tr><tr><td>train_fpr</td><td>█▂▂▁▂▁▁▁▁▁▁▁▁▁▁▁▁▁▁▁▁▁▁▁▁▁▁▁▁▁▁▁▁▁▁▁▁▁▁▁</td></tr><tr><td>train_loss</td><td>█▃▂▂▂▁▁▁▁▁▁▁▁▁▁▁▁▁▁▁▁▁▁▁▁▁▁▁▁▁▁▁▁▁▁▁▁▁▁▁</td></tr><tr><td>train_tpr</td><td>▁▄▁▂▂▄▄▄▃▅▆▅▅▅▅▆▆▆▆▇▇▇▇▆▇█▇▇█▇▇▇█▇█▇████</td></tr></table><br/></div><div class=\"wandb-col\"><h3>Run summary:</h3><br/><table class=\"wandb\"><tr><td>epoch</td><td>39</td></tr><tr><td>lr</td><td>0.00015</td></tr><tr><td>test_accuracy</td><td>0.96078</td></tr><tr><td>test_auc_score</td><td>0.9635</td></tr><tr><td>test_f1_score</td><td>0.79138</td></tr><tr><td>test_fpr</td><td>0.03546</td></tr><tr><td>test_loss</td><td>0.03133</td></tr><tr><td>test_tpr</td><td>0.85446</td></tr><tr><td>train_accuracy</td><td>0.97943</td></tr><tr><td>train_auc_score</td><td>0.97943</td></tr><tr><td>train_f1_score</td><td>0.95198</td></tr><tr><td>train_fpr</td><td>0.00373</td></tr><tr><td>train_loss</td><td>0.02785</td></tr><tr><td>train_tpr</td><td>0.86626</td></tr></table><br/></div></div>"
      ],
      "text/plain": [
       "<IPython.core.display.HTML object>"
      ]
     },
     "metadata": {},
     "output_type": "display_data"
    },
    {
     "data": {
      "text/html": [
       " View run <strong style=\"color:#cdcd00\">EM_FocalLoss()_ROS-0.15</strong> at: <a href='https://wandb.ai/dmitrii_fomin_uga/Internship_project/runs/3qgb5m4j' target=\"_blank\">https://wandb.ai/dmitrii_fomin_uga/Internship_project/runs/3qgb5m4j</a><br/>Synced 5 W&B file(s), 0 media file(s), 0 artifact file(s) and 0 other file(s)"
      ],
      "text/plain": [
       "<IPython.core.display.HTML object>"
      ]
     },
     "metadata": {},
     "output_type": "display_data"
    },
    {
     "data": {
      "text/html": [
       "Find logs at: <code>../logs/wandb\\run-20230705_100041-3qgb5m4j\\logs</code>"
      ],
      "text/plain": [
       "<IPython.core.display.HTML object>"
      ]
     },
     "metadata": {},
     "output_type": "display_data"
    },
    {
     "data": {
      "text/html": [
       "Tracking run with wandb version 0.15.4"
      ],
      "text/plain": [
       "<IPython.core.display.HTML object>"
      ]
     },
     "metadata": {},
     "output_type": "display_data"
    },
    {
     "data": {
      "text/html": [
       "Run data is saved locally in <code>../logs/wandb\\run-20230705_100054-jmmnr1la</code>"
      ],
      "text/plain": [
       "<IPython.core.display.HTML object>"
      ]
     },
     "metadata": {},
     "output_type": "display_data"
    },
    {
     "data": {
      "text/html": [
       "Syncing run <strong><a href='https://wandb.ai/dmitrii_fomin_uga/Internship_project/runs/jmmnr1la' target=\"_blank\">EM_FocalLoss()_ROS-0.2</a></strong> to <a href='https://wandb.ai/dmitrii_fomin_uga/Internship_project' target=\"_blank\">Weights & Biases</a> (<a href='https://wandb.me/run' target=\"_blank\">docs</a>)<br/>"
      ],
      "text/plain": [
       "<IPython.core.display.HTML object>"
      ]
     },
     "metadata": {},
     "output_type": "display_data"
    },
    {
     "data": {
      "text/html": [
       " View project at <a href='https://wandb.ai/dmitrii_fomin_uga/Internship_project' target=\"_blank\">https://wandb.ai/dmitrii_fomin_uga/Internship_project</a>"
      ],
      "text/plain": [
       "<IPython.core.display.HTML object>"
      ]
     },
     "metadata": {},
     "output_type": "display_data"
    },
    {
     "data": {
      "text/html": [
       " View run at <a href='https://wandb.ai/dmitrii_fomin_uga/Internship_project/runs/jmmnr1la' target=\"_blank\">https://wandb.ai/dmitrii_fomin_uga/Internship_project/runs/jmmnr1la</a>"
      ],
      "text/plain": [
       "<IPython.core.display.HTML object>"
      ]
     },
     "metadata": {},
     "output_type": "display_data"
    },
    {
     "data": {
      "text/html": [
       "Waiting for W&B process to finish... <strong style=\"color:green\">(success).</strong>"
      ],
      "text/plain": [
       "<IPython.core.display.HTML object>"
      ]
     },
     "metadata": {},
     "output_type": "display_data"
    },
    {
     "data": {
      "text/html": [
       "<style>\n",
       "    table.wandb td:nth-child(1) { padding: 0 10px; text-align: left ; width: auto;} td:nth-child(2) {text-align: left ; width: 100%}\n",
       "    .wandb-row { display: flex; flex-direction: row; flex-wrap: wrap; justify-content: flex-start; width: 100% }\n",
       "    .wandb-col { display: flex; flex-direction: column; flex-basis: 100%; flex: 1; padding: 10px; }\n",
       "    </style>\n",
       "<div class=\"wandb-row\"><div class=\"wandb-col\"><h3>Run history:</h3><br/><table class=\"wandb\"><tr><td>epoch</td><td>▁▁▁▂▂▂▂▂▂▃▃▃▃▃▄▄▄▄▄▄▅▅▅▅▅▅▆▆▆▆▆▇▇▇▇▇▇███</td></tr><tr><td>lr</td><td>█▇▇▆▆▅▅▄▄▄▃▃▃▃▃▂▂▂▂▂▂▂▂▂▁▁▁▁▁▁▁▁▁▁▁▁▁▁▁▁</td></tr><tr><td>test_accuracy</td><td>▁▆▇█████████████████████████████████████</td></tr><tr><td>test_auc_score</td><td>▁▁▃▆▆▆▅▇▇▇▇▇█▇▇▇▇▇▇▇▇▇▇▇██▇▇█▇██████████</td></tr><tr><td>test_f1_score</td><td>▁▅▆▇▇█▇█▇▇▇████▇██▇▇██▇█████████████████</td></tr><tr><td>test_fpr</td><td>█▃▂▁▁▁▁▁▁▁▁▁▁▁▁▁▁▁▁▁▁▁▁▁▁▁▁▁▁▁▁▁▁▁▁▁▁▁▁▁</td></tr><tr><td>test_loss</td><td>█▃▂▁▁▁▁▁▁▁▁▁▁▁▁▁▁▁▁▁▁▁▁▁▁▁▁▁▁▁▁▁▁▁▁▁▁▁▁▁</td></tr><tr><td>test_tpr</td><td>█▆▄▅▃▃▁▃▅▃▄▃▄▃▄▄▄▄▂▄▃▄▄▄▄▄▄▄▄▃▄▃▄▄▄▄▄▄▄▄</td></tr><tr><td>train_accuracy</td><td>▁▆▇▇▇▇▇▇▇▇▇█▇██▇████████████████████████</td></tr><tr><td>train_auc_score</td><td>▁▇▇▇████████████████████████████████████</td></tr><tr><td>train_f1_score</td><td>▁▆▆▆▇▇▇▇▇▇▇▇▇▇▇▇▇▇▇█████████████████████</td></tr><tr><td>train_fpr</td><td>█▂▂▂▁▁▁▁▁▁▁▁▁▁▁▁▁▁▁▁▁▁▁▁▁▁▁▁▁▁▁▁▁▁▁▁▁▁▁▁</td></tr><tr><td>train_loss</td><td>█▃▂▂▂▂▂▂▁▁▁▁▁▁▁▁▁▁▁▁▁▁▁▁▁▁▁▁▁▁▁▁▁▁▁▁▁▁▁▁</td></tr><tr><td>train_tpr</td><td>▁▃▁▃▃▃▃▃▄▄▅▅▅▆▅▆▆▆▆▇▇▆▇▇▇▇▇▇▇▇▇▇████████</td></tr></table><br/></div><div class=\"wandb-col\"><h3>Run summary:</h3><br/><table class=\"wandb\"><tr><td>epoch</td><td>39</td></tr><tr><td>lr</td><td>0.00015</td></tr><tr><td>test_accuracy</td><td>0.9435</td></tr><tr><td>test_auc_score</td><td>0.96711</td></tr><tr><td>test_f1_score</td><td>0.74023</td></tr><tr><td>test_fpr</td><td>0.05366</td></tr><tr><td>test_loss</td><td>0.03551</td></tr><tr><td>test_tpr</td><td>0.86247</td></tr><tr><td>train_accuracy</td><td>0.98037</td></tr><tr><td>train_auc_score</td><td>0.97611</td></tr><tr><td>train_f1_score</td><td>0.9639</td></tr><tr><td>train_fpr</td><td>0.00683</td></tr><tr><td>train_loss</td><td>0.02756</td></tr><tr><td>train_tpr</td><td>0.91659</td></tr></table><br/></div></div>"
      ],
      "text/plain": [
       "<IPython.core.display.HTML object>"
      ]
     },
     "metadata": {},
     "output_type": "display_data"
    },
    {
     "data": {
      "text/html": [
       " View run <strong style=\"color:#cdcd00\">EM_FocalLoss()_ROS-0.2</strong> at: <a href='https://wandb.ai/dmitrii_fomin_uga/Internship_project/runs/jmmnr1la' target=\"_blank\">https://wandb.ai/dmitrii_fomin_uga/Internship_project/runs/jmmnr1la</a><br/>Synced 5 W&B file(s), 0 media file(s), 0 artifact file(s) and 0 other file(s)"
      ],
      "text/plain": [
       "<IPython.core.display.HTML object>"
      ]
     },
     "metadata": {},
     "output_type": "display_data"
    },
    {
     "data": {
      "text/html": [
       "Find logs at: <code>../logs/wandb\\run-20230705_100054-jmmnr1la\\logs</code>"
      ],
      "text/plain": [
       "<IPython.core.display.HTML object>"
      ]
     },
     "metadata": {},
     "output_type": "display_data"
    },
    {
     "data": {
      "text/html": [
       "Tracking run with wandb version 0.15.4"
      ],
      "text/plain": [
       "<IPython.core.display.HTML object>"
      ]
     },
     "metadata": {},
     "output_type": "display_data"
    },
    {
     "data": {
      "text/html": [
       "Run data is saved locally in <code>../logs/wandb\\run-20230705_100116-mr6fgig4</code>"
      ],
      "text/plain": [
       "<IPython.core.display.HTML object>"
      ]
     },
     "metadata": {},
     "output_type": "display_data"
    },
    {
     "data": {
      "text/html": [
       "Syncing run <strong><a href='https://wandb.ai/dmitrii_fomin_uga/Internship_project/runs/mr6fgig4' target=\"_blank\">EM_FocalLoss()_ROS-0.25</a></strong> to <a href='https://wandb.ai/dmitrii_fomin_uga/Internship_project' target=\"_blank\">Weights & Biases</a> (<a href='https://wandb.me/run' target=\"_blank\">docs</a>)<br/>"
      ],
      "text/plain": [
       "<IPython.core.display.HTML object>"
      ]
     },
     "metadata": {},
     "output_type": "display_data"
    },
    {
     "data": {
      "text/html": [
       " View project at <a href='https://wandb.ai/dmitrii_fomin_uga/Internship_project' target=\"_blank\">https://wandb.ai/dmitrii_fomin_uga/Internship_project</a>"
      ],
      "text/plain": [
       "<IPython.core.display.HTML object>"
      ]
     },
     "metadata": {},
     "output_type": "display_data"
    },
    {
     "data": {
      "text/html": [
       " View run at <a href='https://wandb.ai/dmitrii_fomin_uga/Internship_project/runs/mr6fgig4' target=\"_blank\">https://wandb.ai/dmitrii_fomin_uga/Internship_project/runs/mr6fgig4</a>"
      ],
      "text/plain": [
       "<IPython.core.display.HTML object>"
      ]
     },
     "metadata": {},
     "output_type": "display_data"
    },
    {
     "data": {
      "text/html": [
       "Waiting for W&B process to finish... <strong style=\"color:green\">(success).</strong>"
      ],
      "text/plain": [
       "<IPython.core.display.HTML object>"
      ]
     },
     "metadata": {},
     "output_type": "display_data"
    },
    {
     "data": {
      "text/html": [
       "<style>\n",
       "    table.wandb td:nth-child(1) { padding: 0 10px; text-align: left ; width: auto;} td:nth-child(2) {text-align: left ; width: 100%}\n",
       "    .wandb-row { display: flex; flex-direction: row; flex-wrap: wrap; justify-content: flex-start; width: 100% }\n",
       "    .wandb-col { display: flex; flex-direction: column; flex-basis: 100%; flex: 1; padding: 10px; }\n",
       "    </style>\n",
       "<div class=\"wandb-row\"><div class=\"wandb-col\"><h3>Run history:</h3><br/><table class=\"wandb\"><tr><td>epoch</td><td>▁▁▁▂▂▂▂▂▂▃▃▃▃▃▄▄▄▄▄▄▅▅▅▅▅▅▆▆▆▆▆▇▇▇▇▇▇███</td></tr><tr><td>lr</td><td>█▇▇▆▆▅▅▄▄▄▃▃▃▃▃▂▂▂▂▂▂▂▂▂▁▁▁▁▁▁▁▁▁▁▁▁▁▁▁▁</td></tr><tr><td>test_accuracy</td><td>▁▆▇▇████████████████████████████████████</td></tr><tr><td>test_auc_score</td><td>▁▃▄▅▆▆▇▇█▇█▇█▇▆▇▇█▇▇█▇▇▇█▇█▇██▇▇▇▇▇▇██▇▇</td></tr><tr><td>test_f1_score</td><td>▁▅▆▇▇▇▇▇▇▇▇▇██▇█▇███████████████████████</td></tr><tr><td>test_fpr</td><td>█▃▂▂▁▁▁▁▁▁▁▁▁▁▁▁▁▁▁▁▁▁▁▁▁▁▁▁▁▁▁▁▁▁▁▁▁▁▁▁</td></tr><tr><td>test_loss</td><td>█▃▂▁▁▁▁▁▁▁▁▁▁▁▁▁▁▁▁▁▁▁▁▁▁▁▁▁▁▁▁▁▁▁▁▁▁▁▁▁</td></tr><tr><td>test_tpr</td><td>█▅▄▂▂▁▃▄▃▂▂▂▂▂▂▂▂▂▃▃▃▂▁▂▃▂▂▂▂▃▃▂▃▃▃▂▂▂▂▂</td></tr><tr><td>train_accuracy</td><td>▁▆▇▇▇▇▇▇▇▇▇▇█▇▇▇▇███████████████████████</td></tr><tr><td>train_auc_score</td><td>▁▆▇▇▇▇▇▇██████▇█████████████████████████</td></tr><tr><td>train_f1_score</td><td>▁▆▆▆▆▆▇▇▇▇▇▇▇▇▇▇▇▇▇▇█▇▇█████████████████</td></tr><tr><td>train_fpr</td><td>█▂▂▂▂▂▂▂▂▁▁▂▁▁▁▁▁▁▁▁▁▁▁▁▁▁▁▁▁▁▁▁▁▁▁▁▁▁▁▁</td></tr><tr><td>train_loss</td><td>█▃▂▂▂▂▂▂▂▁▁▁▁▁▁▁▁▁▁▁▁▁▁▁▁▁▁▁▁▁▁▁▁▁▁▁▁▁▁▁</td></tr><tr><td>train_tpr</td><td>▁▂▁▂▂▃▄▃▅▃▄▅▆▄▅▅▆▆▅▆▇▄▆▇▆▆▅▇▇▆▆▇▇▇█▇▆▆▇▆</td></tr></table><br/></div><div class=\"wandb-col\"><h3>Run summary:</h3><br/><table class=\"wandb\"><tr><td>epoch</td><td>39</td></tr><tr><td>lr</td><td>0.00015</td></tr><tr><td>test_accuracy</td><td>0.9319</td></tr><tr><td>test_auc_score</td><td>0.95165</td></tr><tr><td>test_f1_score</td><td>0.71338</td></tr><tr><td>test_fpr</td><td>0.06564</td></tr><tr><td>test_loss</td><td>0.03789</td></tr><tr><td>test_tpr</td><td>0.86137</td></tr><tr><td>train_accuracy</td><td>0.96411</td></tr><tr><td>train_auc_score</td><td>0.96788</td></tr><tr><td>train_f1_score</td><td>0.94186</td></tr><tr><td>train_fpr</td><td>0.0066</td></tr><tr><td>train_loss</td><td>0.03073</td></tr><tr><td>train_tpr</td><td>0.85166</td></tr></table><br/></div></div>"
      ],
      "text/plain": [
       "<IPython.core.display.HTML object>"
      ]
     },
     "metadata": {},
     "output_type": "display_data"
    },
    {
     "data": {
      "text/html": [
       " View run <strong style=\"color:#cdcd00\">EM_FocalLoss()_ROS-0.25</strong> at: <a href='https://wandb.ai/dmitrii_fomin_uga/Internship_project/runs/mr6fgig4' target=\"_blank\">https://wandb.ai/dmitrii_fomin_uga/Internship_project/runs/mr6fgig4</a><br/>Synced 5 W&B file(s), 0 media file(s), 0 artifact file(s) and 0 other file(s)"
      ],
      "text/plain": [
       "<IPython.core.display.HTML object>"
      ]
     },
     "metadata": {},
     "output_type": "display_data"
    },
    {
     "data": {
      "text/html": [
       "Find logs at: <code>../logs/wandb\\run-20230705_100116-mr6fgig4\\logs</code>"
      ],
      "text/plain": [
       "<IPython.core.display.HTML object>"
      ]
     },
     "metadata": {},
     "output_type": "display_data"
    },
    {
     "data": {
      "text/html": [
       "Tracking run with wandb version 0.15.4"
      ],
      "text/plain": [
       "<IPython.core.display.HTML object>"
      ]
     },
     "metadata": {},
     "output_type": "display_data"
    },
    {
     "data": {
      "text/html": [
       "Run data is saved locally in <code>../logs/wandb\\run-20230705_100129-awsxsaw7</code>"
      ],
      "text/plain": [
       "<IPython.core.display.HTML object>"
      ]
     },
     "metadata": {},
     "output_type": "display_data"
    },
    {
     "data": {
      "text/html": [
       "Syncing run <strong><a href='https://wandb.ai/dmitrii_fomin_uga/Internship_project/runs/awsxsaw7' target=\"_blank\">EM_FocalLoss()_ROS-0.3</a></strong> to <a href='https://wandb.ai/dmitrii_fomin_uga/Internship_project' target=\"_blank\">Weights & Biases</a> (<a href='https://wandb.me/run' target=\"_blank\">docs</a>)<br/>"
      ],
      "text/plain": [
       "<IPython.core.display.HTML object>"
      ]
     },
     "metadata": {},
     "output_type": "display_data"
    },
    {
     "data": {
      "text/html": [
       " View project at <a href='https://wandb.ai/dmitrii_fomin_uga/Internship_project' target=\"_blank\">https://wandb.ai/dmitrii_fomin_uga/Internship_project</a>"
      ],
      "text/plain": [
       "<IPython.core.display.HTML object>"
      ]
     },
     "metadata": {},
     "output_type": "display_data"
    },
    {
     "data": {
      "text/html": [
       " View run at <a href='https://wandb.ai/dmitrii_fomin_uga/Internship_project/runs/awsxsaw7' target=\"_blank\">https://wandb.ai/dmitrii_fomin_uga/Internship_project/runs/awsxsaw7</a>"
      ],
      "text/plain": [
       "<IPython.core.display.HTML object>"
      ]
     },
     "metadata": {},
     "output_type": "display_data"
    },
    {
     "data": {
      "text/html": [
       "Waiting for W&B process to finish... <strong style=\"color:green\">(success).</strong>"
      ],
      "text/plain": [
       "<IPython.core.display.HTML object>"
      ]
     },
     "metadata": {},
     "output_type": "display_data"
    },
    {
     "data": {
      "text/html": [
       "<style>\n",
       "    table.wandb td:nth-child(1) { padding: 0 10px; text-align: left ; width: auto;} td:nth-child(2) {text-align: left ; width: 100%}\n",
       "    .wandb-row { display: flex; flex-direction: row; flex-wrap: wrap; justify-content: flex-start; width: 100% }\n",
       "    .wandb-col { display: flex; flex-direction: column; flex-basis: 100%; flex: 1; padding: 10px; }\n",
       "    </style>\n",
       "<div class=\"wandb-row\"><div class=\"wandb-col\"><h3>Run history:</h3><br/><table class=\"wandb\"><tr><td>epoch</td><td>▁▁▁▂▂▂▂▂▂▃▃▃▃▃▄▄▄▄▄▄▅▅▅▅▅▅▆▆▆▆▆▇▇▇▇▇▇███</td></tr><tr><td>lr</td><td>█▇▇▆▆▅▅▄▄▄▃▃▃▃▃▂▂▂▂▂▂▂▂▂▁▁▁▁▁▁▁▁▁▁▁▁▁▁▁▁</td></tr><tr><td>test_accuracy</td><td>▁▆▇▇▇▇████████▇█████████████████████████</td></tr><tr><td>test_auc_score</td><td>▁▃▅▅▇▆▇▇▇█▇▇▇▇▅▇▇█▇▇▇▇▆▇▇▆▇▇▇▇▇▆▆▇▆▆▆▆▇▆</td></tr><tr><td>test_f1_score</td><td>▁▅▆▆▇▇▇▇▇▇▇█▇▇▇▇█▇██████████████████████</td></tr><tr><td>test_fpr</td><td>█▃▂▂▂▂▁▁▁▁▁▁▁▁▂▁▁▁▁▁▁▁▁▁▁▁▁▁▁▁▁▁▁▁▁▁▁▁▁▁</td></tr><tr><td>test_loss</td><td>█▃▂▂▁▁▁▁▁▁▁▁▁▁▁▁▁▁▁▁▁▁▁▁▁▁▁▁▁▁▁▁▁▁▁▁▁▁▁▁</td></tr><tr><td>test_tpr</td><td>█▄▃▂▂▄▂▃▄▂▃▂▃▂▂▃▂▃▂▂▁▂▁▃▂▂▁▂▃▂▃▃▂▂▂▁▂▁▁▁</td></tr><tr><td>train_accuracy</td><td>▁▆▆▆▇▇▇▇▇▇▇▇▇▇▇▇▇▇██████████████████████</td></tr><tr><td>train_auc_score</td><td>▁▇▇▇▇███████████████████████████████████</td></tr><tr><td>train_f1_score</td><td>▁▅▆▆▆▆▇▇▇▇▇▇▇▇▇▇▇▇██████████████████████</td></tr><tr><td>train_fpr</td><td>█▃▂▂▂▂▂▂▂▂▂▂▁▂▂▂▁▁▁▁▁▁▁▁▁▁▁▁▁▁▁▁▁▁▁▁▁▁▁▁</td></tr><tr><td>train_loss</td><td>█▃▂▂▂▂▂▂▂▂▂▁▁▁▁▁▁▁▁▁▁▁▁▁▁▁▁▁▁▁▁▁▁▁▁▁▁▁▁▁</td></tr><tr><td>train_tpr</td><td>▁▂▃▂▃▄▅▆▅▆▄▇▆▆▇▇▇▆▇▇▇▇▇▇▇▇█▇█████▇▇█████</td></tr></table><br/></div><div class=\"wandb-col\"><h3>Run summary:</h3><br/><table class=\"wandb\"><tr><td>epoch</td><td>39</td></tr><tr><td>lr</td><td>0.00015</td></tr><tr><td>test_accuracy</td><td>0.9163</td></tr><tr><td>test_auc_score</td><td>0.94456</td></tr><tr><td>test_f1_score</td><td>0.67647</td></tr><tr><td>test_fpr</td><td>0.08217</td></tr><tr><td>test_loss</td><td>0.04203</td></tr><tr><td>test_tpr</td><td>0.87146</td></tr><tr><td>train_accuracy</td><td>0.98018</td></tr><tr><td>train_auc_score</td><td>0.98305</td></tr><tr><td>train_f1_score</td><td>0.97168</td></tr><tr><td>train_fpr</td><td>0.00617</td></tr><tr><td>train_loss</td><td>0.02722</td></tr><tr><td>train_tpr</td><td>0.93492</td></tr></table><br/></div></div>"
      ],
      "text/plain": [
       "<IPython.core.display.HTML object>"
      ]
     },
     "metadata": {},
     "output_type": "display_data"
    },
    {
     "data": {
      "text/html": [
       " View run <strong style=\"color:#cdcd00\">EM_FocalLoss()_ROS-0.3</strong> at: <a href='https://wandb.ai/dmitrii_fomin_uga/Internship_project/runs/awsxsaw7' target=\"_blank\">https://wandb.ai/dmitrii_fomin_uga/Internship_project/runs/awsxsaw7</a><br/>Synced 5 W&B file(s), 0 media file(s), 0 artifact file(s) and 0 other file(s)"
      ],
      "text/plain": [
       "<IPython.core.display.HTML object>"
      ]
     },
     "metadata": {},
     "output_type": "display_data"
    },
    {
     "data": {
      "text/html": [
       "Find logs at: <code>../logs/wandb\\run-20230705_100129-awsxsaw7\\logs</code>"
      ],
      "text/plain": [
       "<IPython.core.display.HTML object>"
      ]
     },
     "metadata": {},
     "output_type": "display_data"
    },
    {
     "data": {
      "text/html": [
       "Tracking run with wandb version 0.15.4"
      ],
      "text/plain": [
       "<IPython.core.display.HTML object>"
      ]
     },
     "metadata": {},
     "output_type": "display_data"
    },
    {
     "data": {
      "text/html": [
       "Run data is saved locally in <code>../logs/wandb\\run-20230705_100141-4kfgxl9a</code>"
      ],
      "text/plain": [
       "<IPython.core.display.HTML object>"
      ]
     },
     "metadata": {},
     "output_type": "display_data"
    },
    {
     "data": {
      "text/html": [
       "Syncing run <strong><a href='https://wandb.ai/dmitrii_fomin_uga/Internship_project/runs/4kfgxl9a' target=\"_blank\">EM_FocalLoss()_ROS-0.35</a></strong> to <a href='https://wandb.ai/dmitrii_fomin_uga/Internship_project' target=\"_blank\">Weights & Biases</a> (<a href='https://wandb.me/run' target=\"_blank\">docs</a>)<br/>"
      ],
      "text/plain": [
       "<IPython.core.display.HTML object>"
      ]
     },
     "metadata": {},
     "output_type": "display_data"
    },
    {
     "data": {
      "text/html": [
       " View project at <a href='https://wandb.ai/dmitrii_fomin_uga/Internship_project' target=\"_blank\">https://wandb.ai/dmitrii_fomin_uga/Internship_project</a>"
      ],
      "text/plain": [
       "<IPython.core.display.HTML object>"
      ]
     },
     "metadata": {},
     "output_type": "display_data"
    },
    {
     "data": {
      "text/html": [
       " View run at <a href='https://wandb.ai/dmitrii_fomin_uga/Internship_project/runs/4kfgxl9a' target=\"_blank\">https://wandb.ai/dmitrii_fomin_uga/Internship_project/runs/4kfgxl9a</a>"
      ],
      "text/plain": [
       "<IPython.core.display.HTML object>"
      ]
     },
     "metadata": {},
     "output_type": "display_data"
    },
    {
     "data": {
      "text/html": [
       "Waiting for W&B process to finish... <strong style=\"color:green\">(success).</strong>"
      ],
      "text/plain": [
       "<IPython.core.display.HTML object>"
      ]
     },
     "metadata": {},
     "output_type": "display_data"
    },
    {
     "data": {
      "text/html": [
       "<style>\n",
       "    table.wandb td:nth-child(1) { padding: 0 10px; text-align: left ; width: auto;} td:nth-child(2) {text-align: left ; width: 100%}\n",
       "    .wandb-row { display: flex; flex-direction: row; flex-wrap: wrap; justify-content: flex-start; width: 100% }\n",
       "    .wandb-col { display: flex; flex-direction: column; flex-basis: 100%; flex: 1; padding: 10px; }\n",
       "    </style>\n",
       "<div class=\"wandb-row\"><div class=\"wandb-col\"><h3>Run history:</h3><br/><table class=\"wandb\"><tr><td>epoch</td><td>▁▁▁▂▂▂▂▂▂▃▃▃▃▃▄▄▄▄▄▄▅▅▅▅▅▅▆▆▆▆▆▇▇▇▇▇▇███</td></tr><tr><td>lr</td><td>█▇▇▆▆▅▅▄▄▄▃▃▃▃▃▂▂▂▂▂▂▂▂▂▁▁▁▁▁▁▁▁▁▁▁▁▁▁▁▁</td></tr><tr><td>test_accuracy</td><td>▁▆▇▇████████████████████████████████████</td></tr><tr><td>test_auc_score</td><td>▁▄▆▇▆▇▆▆▇▇▇█▆▆▇▇▇▇▇███▇▇▇▇▇█▇▇▇▇▇██▇▇▇▇▇</td></tr><tr><td>test_f1_score</td><td>▁▅▆▇▇▇▇▇█▇▇▇█▇▇█████████████████████████</td></tr><tr><td>test_fpr</td><td>█▃▂▂▁▁▁▁▁▁▁▁▁▁▁▁▁▁▁▁▁▁▁▁▁▁▁▁▁▁▁▁▁▁▁▁▁▁▁▁</td></tr><tr><td>test_loss</td><td>█▃▂▁▁▁▁▁▁▁▁▁▁▁▁▁▁▁▁▁▁▁▁▁▁▁▁▁▁▁▁▁▁▁▁▁▁▁▁▁</td></tr><tr><td>test_tpr</td><td>█▄▂▂▂▁▂▂▁▃▃▃▄▂▃▂▂▂▃▂▃▂▂▃▂▂▂▃▃▂▂▂▂▃▃▂▂▂▂▂</td></tr><tr><td>train_accuracy</td><td>▁▆▆▆▇▇▇▇▇▇▇▇▇▇▇█████████████████████████</td></tr><tr><td>train_auc_score</td><td>▁▆▇▇▇▇█▇▇▇██████████████████████████████</td></tr><tr><td>train_f1_score</td><td>▁▅▆▆▆▆▇▇▇▇▇▇▇▇▇▇█▇▇█████████████████████</td></tr><tr><td>train_fpr</td><td>█▂▂▂▂▂▂▂▂▁▁▂▁▂▁▁▁▁▁▁▁▁▁▁▁▁▁▁▁▁▁▁▁▁▁▁▁▁▁▁</td></tr><tr><td>train_loss</td><td>█▃▃▂▂▂▂▂▂▂▁▁▁▁▁▁▁▁▁▁▁▁▁▁▁▁▁▁▁▁▁▁▁▁▁▁▁▁▁▁</td></tr><tr><td>train_tpr</td><td>▁▂▃▃▄▅▅▅▆▅▆▇▇▇▇▇▇▇▇▇▇▇▇█████████████████</td></tr></table><br/></div><div class=\"wandb-col\"><h3>Run summary:</h3><br/><table class=\"wandb\"><tr><td>epoch</td><td>39</td></tr><tr><td>lr</td><td>0.00015</td></tr><tr><td>test_accuracy</td><td>0.90749</td></tr><tr><td>test_auc_score</td><td>0.95017</td></tr><tr><td>test_f1_score</td><td>0.67428</td></tr><tr><td>test_fpr</td><td>0.09224</td></tr><tr><td>test_loss</td><td>0.04481</td></tr><tr><td>test_tpr</td><td>0.8994</td></tr><tr><td>train_accuracy</td><td>0.98764</td></tr><tr><td>train_auc_score</td><td>0.98686</td></tr><tr><td>train_f1_score</td><td>0.98385</td></tr><tr><td>train_fpr</td><td>0.00637</td></tr><tr><td>train_loss</td><td>0.02581</td></tr><tr><td>train_tpr</td><td>0.97057</td></tr></table><br/></div></div>"
      ],
      "text/plain": [
       "<IPython.core.display.HTML object>"
      ]
     },
     "metadata": {},
     "output_type": "display_data"
    },
    {
     "data": {
      "text/html": [
       " View run <strong style=\"color:#cdcd00\">EM_FocalLoss()_ROS-0.35</strong> at: <a href='https://wandb.ai/dmitrii_fomin_uga/Internship_project/runs/4kfgxl9a' target=\"_blank\">https://wandb.ai/dmitrii_fomin_uga/Internship_project/runs/4kfgxl9a</a><br/>Synced 5 W&B file(s), 0 media file(s), 0 artifact file(s) and 0 other file(s)"
      ],
      "text/plain": [
       "<IPython.core.display.HTML object>"
      ]
     },
     "metadata": {},
     "output_type": "display_data"
    },
    {
     "data": {
      "text/html": [
       "Find logs at: <code>../logs/wandb\\run-20230705_100141-4kfgxl9a\\logs</code>"
      ],
      "text/plain": [
       "<IPython.core.display.HTML object>"
      ]
     },
     "metadata": {},
     "output_type": "display_data"
    },
    {
     "data": {
      "text/html": [
       "Tracking run with wandb version 0.15.4"
      ],
      "text/plain": [
       "<IPython.core.display.HTML object>"
      ]
     },
     "metadata": {},
     "output_type": "display_data"
    },
    {
     "data": {
      "text/html": [
       "Run data is saved locally in <code>../logs/wandb\\run-20230705_100155-wzjy5ys1</code>"
      ],
      "text/plain": [
       "<IPython.core.display.HTML object>"
      ]
     },
     "metadata": {},
     "output_type": "display_data"
    },
    {
     "data": {
      "text/html": [
       "Syncing run <strong><a href='https://wandb.ai/dmitrii_fomin_uga/Internship_project/runs/wzjy5ys1' target=\"_blank\">EM_FocalLoss()_ROS-0.4</a></strong> to <a href='https://wandb.ai/dmitrii_fomin_uga/Internship_project' target=\"_blank\">Weights & Biases</a> (<a href='https://wandb.me/run' target=\"_blank\">docs</a>)<br/>"
      ],
      "text/plain": [
       "<IPython.core.display.HTML object>"
      ]
     },
     "metadata": {},
     "output_type": "display_data"
    },
    {
     "data": {
      "text/html": [
       " View project at <a href='https://wandb.ai/dmitrii_fomin_uga/Internship_project' target=\"_blank\">https://wandb.ai/dmitrii_fomin_uga/Internship_project</a>"
      ],
      "text/plain": [
       "<IPython.core.display.HTML object>"
      ]
     },
     "metadata": {},
     "output_type": "display_data"
    },
    {
     "data": {
      "text/html": [
       " View run at <a href='https://wandb.ai/dmitrii_fomin_uga/Internship_project/runs/wzjy5ys1' target=\"_blank\">https://wandb.ai/dmitrii_fomin_uga/Internship_project/runs/wzjy5ys1</a>"
      ],
      "text/plain": [
       "<IPython.core.display.HTML object>"
      ]
     },
     "metadata": {},
     "output_type": "display_data"
    },
    {
     "data": {
      "text/html": [
       "Waiting for W&B process to finish... <strong style=\"color:green\">(success).</strong>"
      ],
      "text/plain": [
       "<IPython.core.display.HTML object>"
      ]
     },
     "metadata": {},
     "output_type": "display_data"
    },
    {
     "data": {
      "text/html": [
       "<style>\n",
       "    table.wandb td:nth-child(1) { padding: 0 10px; text-align: left ; width: auto;} td:nth-child(2) {text-align: left ; width: 100%}\n",
       "    .wandb-row { display: flex; flex-direction: row; flex-wrap: wrap; justify-content: flex-start; width: 100% }\n",
       "    .wandb-col { display: flex; flex-direction: column; flex-basis: 100%; flex: 1; padding: 10px; }\n",
       "    </style>\n",
       "<div class=\"wandb-row\"><div class=\"wandb-col\"><h3>Run history:</h3><br/><table class=\"wandb\"><tr><td>epoch</td><td>▁▁▁▂▂▂▂▂▂▃▃▃▃▃▄▄▄▄▄▄▅▅▅▅▅▅▆▆▆▆▆▇▇▇▇▇▇███</td></tr><tr><td>lr</td><td>█▇▇▆▆▅▅▄▄▄▃▃▃▃▃▂▂▂▂▂▂▂▂▂▁▁▁▁▁▁▁▁▁▁▁▁▁▁▁▁</td></tr><tr><td>test_accuracy</td><td>▁▅▆▇▇▇▇▇▇██▇████████████████████████████</td></tr><tr><td>test_auc_score</td><td>▁▅▅▆▆▆▅▆▇▆▇▇▇██▇▇▆▇▇██▇▆▇▇▆▇▇▇▇▇▆▆▆▆▇▇▆▇</td></tr><tr><td>test_f1_score</td><td>▁▅▅▆▆▇▇▆▇▇▇▇▇▇▇▇▇█▇▇████████████████████</td></tr><tr><td>test_fpr</td><td>█▄▃▂▂▂▂▂▂▁▁▂▁▁▁▁▁▁▁▁▁▁▁▁▁▁▁▁▁▁▁▁▁▁▁▁▁▁▁▁</td></tr><tr><td>test_loss</td><td>█▃▃▂▂▂▂▂▂▁▁▁▁▁▁▁▁▁▁▁▁▁▁▁▁▁▁▁▁▁▁▁▁▁▁▁▁▁▁▁</td></tr><tr><td>test_tpr</td><td>█▆▅▅▆▄▁▄▄▄▆▇▄▆▄▅▅▅▄▃▄▄▄▄▂▄▂▃▃▂▄▂▃▃▃▃▄▃▅▅</td></tr><tr><td>train_accuracy</td><td>▁▅▆▆▆▆▇▆▇▇▇▇▇▇▇▇▇▇██████████████████████</td></tr><tr><td>train_auc_score</td><td>▁▆▇▇▇▇▇▇▇█▇█████████████████████████████</td></tr><tr><td>train_f1_score</td><td>▁▅▆▆▆▆▆▆▆▇▇▇▇▇▇▇▇▇█████▇████████████████</td></tr><tr><td>train_fpr</td><td>█▃▂▂▂▂▂▂▂▂▂▂▂▁▂▁▂▁▁▁▁▁▁▁▁▁▁▁▁▁▁▁▁▁▁▁▁▁▁▁</td></tr><tr><td>train_loss</td><td>█▃▃▂▂▂▂▂▂▁▁▁▂▁▁▁▁▁▁▁▁▁▁▁▁▁▁▁▁▁▁▁▁▁▁▁▁▁▁▁</td></tr><tr><td>train_tpr</td><td>▁▂▃▃▄▆▅▆▆▆▆▇▇▆▇▇█▇███▇▇▇████▇███████████</td></tr></table><br/></div><div class=\"wandb-col\"><h3>Run summary:</h3><br/><table class=\"wandb\"><tr><td>epoch</td><td>39</td></tr><tr><td>lr</td><td>0.00015</td></tr><tr><td>test_accuracy</td><td>0.88919</td></tr><tr><td>test_auc_score</td><td>0.94842</td></tr><tr><td>test_f1_score</td><td>0.6496</td></tr><tr><td>test_fpr</td><td>0.112</td></tr><tr><td>test_loss</td><td>0.04968</td></tr><tr><td>test_tpr</td><td>0.92569</td></tr><tr><td>train_accuracy</td><td>0.98059</td></tr><tr><td>train_auc_score</td><td>0.98931</td></tr><tr><td>train_f1_score</td><td>0.97625</td></tr><tr><td>train_fpr</td><td>0.01063</td></tr><tr><td>train_loss</td><td>0.02707</td></tr><tr><td>train_tpr</td><td>0.95873</td></tr></table><br/></div></div>"
      ],
      "text/plain": [
       "<IPython.core.display.HTML object>"
      ]
     },
     "metadata": {},
     "output_type": "display_data"
    },
    {
     "data": {
      "text/html": [
       " View run <strong style=\"color:#cdcd00\">EM_FocalLoss()_ROS-0.4</strong> at: <a href='https://wandb.ai/dmitrii_fomin_uga/Internship_project/runs/wzjy5ys1' target=\"_blank\">https://wandb.ai/dmitrii_fomin_uga/Internship_project/runs/wzjy5ys1</a><br/>Synced 5 W&B file(s), 0 media file(s), 0 artifact file(s) and 0 other file(s)"
      ],
      "text/plain": [
       "<IPython.core.display.HTML object>"
      ]
     },
     "metadata": {},
     "output_type": "display_data"
    },
    {
     "data": {
      "text/html": [
       "Find logs at: <code>../logs/wandb\\run-20230705_100155-wzjy5ys1\\logs</code>"
      ],
      "text/plain": [
       "<IPython.core.display.HTML object>"
      ]
     },
     "metadata": {},
     "output_type": "display_data"
    },
    {
     "data": {
      "text/html": [
       "Tracking run with wandb version 0.15.4"
      ],
      "text/plain": [
       "<IPython.core.display.HTML object>"
      ]
     },
     "metadata": {},
     "output_type": "display_data"
    },
    {
     "data": {
      "text/html": [
       "Run data is saved locally in <code>../logs/wandb\\run-20230705_100211-bssgc2lz</code>"
      ],
      "text/plain": [
       "<IPython.core.display.HTML object>"
      ]
     },
     "metadata": {},
     "output_type": "display_data"
    },
    {
     "data": {
      "text/html": [
       "Syncing run <strong><a href='https://wandb.ai/dmitrii_fomin_uga/Internship_project/runs/bssgc2lz' target=\"_blank\">EM_FocalLoss()_ROS-0.45</a></strong> to <a href='https://wandb.ai/dmitrii_fomin_uga/Internship_project' target=\"_blank\">Weights & Biases</a> (<a href='https://wandb.me/run' target=\"_blank\">docs</a>)<br/>"
      ],
      "text/plain": [
       "<IPython.core.display.HTML object>"
      ]
     },
     "metadata": {},
     "output_type": "display_data"
    },
    {
     "data": {
      "text/html": [
       " View project at <a href='https://wandb.ai/dmitrii_fomin_uga/Internship_project' target=\"_blank\">https://wandb.ai/dmitrii_fomin_uga/Internship_project</a>"
      ],
      "text/plain": [
       "<IPython.core.display.HTML object>"
      ]
     },
     "metadata": {},
     "output_type": "display_data"
    },
    {
     "data": {
      "text/html": [
       " View run at <a href='https://wandb.ai/dmitrii_fomin_uga/Internship_project/runs/bssgc2lz' target=\"_blank\">https://wandb.ai/dmitrii_fomin_uga/Internship_project/runs/bssgc2lz</a>"
      ],
      "text/plain": [
       "<IPython.core.display.HTML object>"
      ]
     },
     "metadata": {},
     "output_type": "display_data"
    },
    {
     "data": {
      "text/html": [
       "Waiting for W&B process to finish... <strong style=\"color:green\">(success).</strong>"
      ],
      "text/plain": [
       "<IPython.core.display.HTML object>"
      ]
     },
     "metadata": {},
     "output_type": "display_data"
    },
    {
     "data": {
      "text/html": [
       "<style>\n",
       "    table.wandb td:nth-child(1) { padding: 0 10px; text-align: left ; width: auto;} td:nth-child(2) {text-align: left ; width: 100%}\n",
       "    .wandb-row { display: flex; flex-direction: row; flex-wrap: wrap; justify-content: flex-start; width: 100% }\n",
       "    .wandb-col { display: flex; flex-direction: column; flex-basis: 100%; flex: 1; padding: 10px; }\n",
       "    </style>\n",
       "<div class=\"wandb-row\"><div class=\"wandb-col\"><h3>Run history:</h3><br/><table class=\"wandb\"><tr><td>epoch</td><td>▁▁▁▂▂▂▂▂▂▃▃▃▃▃▄▄▄▄▄▄▅▅▅▅▅▅▆▆▆▆▆▇▇▇▇▇▇███</td></tr><tr><td>lr</td><td>█▇▇▆▆▅▅▄▄▄▃▃▃▃▃▂▂▂▂▂▂▂▂▂▁▁▁▁▁▁▁▁▁▁▁▁▁▁▁▁</td></tr><tr><td>test_accuracy</td><td>▁▆▇▇▇▇▇▇▇█▇▇▇▇▇█████████████████████████</td></tr><tr><td>test_auc_score</td><td>▁▃▅▇▆▅▆▇▆█▇▇▇██▇▇▇▇▇▇▇▇▇▇▆▆▅▆▅▅▅▅▅▅▅▄▅▅▆</td></tr><tr><td>test_f1_score</td><td>▁▅▆▆▇▇▆▇▇▇▇▆▇▇▇█████████████████████████</td></tr><tr><td>test_fpr</td><td>█▃▂▂▂▂▂▂▂▁▂▂▂▂▂▁▁▁▁▁▁▁▁▁▁▁▁▁▁▁▁▁▁▁▁▁▁▁▁▁</td></tr><tr><td>test_loss</td><td>█▃▂▂▂▂▂▂▁▁▂▂▂▂▁▁▁▁▁▁▁▁▁▁▁▁▁▁▁▁▁▁▁▁▁▁▁▁▁▁</td></tr><tr><td>test_tpr</td><td>█▃▂▄▄▃▃▆▁▄▂▇▅▆▆▄▃▃▂▃▂▄▅▃▃▂▄▂▃▁▁▂▂▂▂▃▂▂▂▃</td></tr><tr><td>train_accuracy</td><td>▁▆▆▆▆▇▇▇▇▇▇▇▇▇▇▇▇███████████████████████</td></tr><tr><td>train_auc_score</td><td>▁▆▇▇▇▇▇▇▇██▇▇█▇█████████████████████████</td></tr><tr><td>train_f1_score</td><td>▁▅▆▆▆▆▆▇▇▇▇▇▇▇▇▇▇███████████████████████</td></tr><tr><td>train_fpr</td><td>█▂▂▂▂▂▂▂▂▂▁▂▂▂▂▂▁▁▁▁▁▁▁▁▁▁▁▁▁▁▁▁▁▁▁▁▁▁▁▁</td></tr><tr><td>train_loss</td><td>█▃▃▂▂▂▂▂▂▂▂▂▂▂▁▁▁▁▁▁▁▁▁▁▁▁▁▁▁▁▁▁▁▁▁▁▁▁▁▁</td></tr><tr><td>train_tpr</td><td>▁▂▃▃▃▅▅▆▆▆▆▇▆▆▇▇▆█▇█████████████████████</td></tr></table><br/></div><div class=\"wandb-col\"><h3>Run summary:</h3><br/><table class=\"wandb\"><tr><td>epoch</td><td>39</td></tr><tr><td>lr</td><td>0.00015</td></tr><tr><td>test_accuracy</td><td>0.88899</td></tr><tr><td>test_auc_score</td><td>0.95156</td></tr><tr><td>test_f1_score</td><td>0.64764</td></tr><tr><td>test_fpr</td><td>0.11157</td></tr><tr><td>test_loss</td><td>0.04992</td></tr><tr><td>test_tpr</td><td>0.9111</td></tr><tr><td>train_accuracy</td><td>0.97852</td></tr><tr><td>train_auc_score</td><td>0.98402</td></tr><tr><td>train_f1_score</td><td>0.97447</td></tr><tr><td>train_fpr</td><td>0.00953</td></tr><tr><td>train_loss</td><td>0.02741</td></tr><tr><td>train_tpr</td><td>0.95157</td></tr></table><br/></div></div>"
      ],
      "text/plain": [
       "<IPython.core.display.HTML object>"
      ]
     },
     "metadata": {},
     "output_type": "display_data"
    },
    {
     "data": {
      "text/html": [
       " View run <strong style=\"color:#cdcd00\">EM_FocalLoss()_ROS-0.45</strong> at: <a href='https://wandb.ai/dmitrii_fomin_uga/Internship_project/runs/bssgc2lz' target=\"_blank\">https://wandb.ai/dmitrii_fomin_uga/Internship_project/runs/bssgc2lz</a><br/>Synced 5 W&B file(s), 0 media file(s), 0 artifact file(s) and 0 other file(s)"
      ],
      "text/plain": [
       "<IPython.core.display.HTML object>"
      ]
     },
     "metadata": {},
     "output_type": "display_data"
    },
    {
     "data": {
      "text/html": [
       "Find logs at: <code>../logs/wandb\\run-20230705_100211-bssgc2lz\\logs</code>"
      ],
      "text/plain": [
       "<IPython.core.display.HTML object>"
      ]
     },
     "metadata": {},
     "output_type": "display_data"
    },
    {
     "data": {
      "text/html": [
       "Tracking run with wandb version 0.15.4"
      ],
      "text/plain": [
       "<IPython.core.display.HTML object>"
      ]
     },
     "metadata": {},
     "output_type": "display_data"
    },
    {
     "data": {
      "text/html": [
       "Run data is saved locally in <code>../logs/wandb\\run-20230705_100227-t0xwvmiu</code>"
      ],
      "text/plain": [
       "<IPython.core.display.HTML object>"
      ]
     },
     "metadata": {},
     "output_type": "display_data"
    },
    {
     "data": {
      "text/html": [
       "Syncing run <strong><a href='https://wandb.ai/dmitrii_fomin_uga/Internship_project/runs/t0xwvmiu' target=\"_blank\">EM_FocalLoss()_ROS-0.5</a></strong> to <a href='https://wandb.ai/dmitrii_fomin_uga/Internship_project' target=\"_blank\">Weights & Biases</a> (<a href='https://wandb.me/run' target=\"_blank\">docs</a>)<br/>"
      ],
      "text/plain": [
       "<IPython.core.display.HTML object>"
      ]
     },
     "metadata": {},
     "output_type": "display_data"
    },
    {
     "data": {
      "text/html": [
       " View project at <a href='https://wandb.ai/dmitrii_fomin_uga/Internship_project' target=\"_blank\">https://wandb.ai/dmitrii_fomin_uga/Internship_project</a>"
      ],
      "text/plain": [
       "<IPython.core.display.HTML object>"
      ]
     },
     "metadata": {},
     "output_type": "display_data"
    },
    {
     "data": {
      "text/html": [
       " View run at <a href='https://wandb.ai/dmitrii_fomin_uga/Internship_project/runs/t0xwvmiu' target=\"_blank\">https://wandb.ai/dmitrii_fomin_uga/Internship_project/runs/t0xwvmiu</a>"
      ],
      "text/plain": [
       "<IPython.core.display.HTML object>"
      ]
     },
     "metadata": {},
     "output_type": "display_data"
    },
    {
     "data": {
      "text/html": [
       "Waiting for W&B process to finish... <strong style=\"color:green\">(success).</strong>"
      ],
      "text/plain": [
       "<IPython.core.display.HTML object>"
      ]
     },
     "metadata": {},
     "output_type": "display_data"
    },
    {
     "data": {
      "text/html": [
       "<style>\n",
       "    table.wandb td:nth-child(1) { padding: 0 10px; text-align: left ; width: auto;} td:nth-child(2) {text-align: left ; width: 100%}\n",
       "    .wandb-row { display: flex; flex-direction: row; flex-wrap: wrap; justify-content: flex-start; width: 100% }\n",
       "    .wandb-col { display: flex; flex-direction: column; flex-basis: 100%; flex: 1; padding: 10px; }\n",
       "    </style>\n",
       "<div class=\"wandb-row\"><div class=\"wandb-col\"><h3>Run history:</h3><br/><table class=\"wandb\"><tr><td>epoch</td><td>▁▁▁▂▂▂▂▂▂▃▃▃▃▃▄▄▄▄▄▄▅▅▅▅▅▅▆▆▆▆▆▇▇▇▇▇▇███</td></tr><tr><td>lr</td><td>█▇▇▆▆▅▅▄▄▄▃▃▃▃▃▂▂▂▂▂▂▂▂▂▁▁▁▁▁▁▁▁▁▁▁▁▁▁▁▁</td></tr><tr><td>test_accuracy</td><td>▁▅▆▆▇▇▇▇▇▇▇▇▇▇▇▇█▇▇█▇▇██████████████████</td></tr><tr><td>test_auc_score</td><td>▁▅▆▆▅▇▇▇█▇▇▆▆▇▇▇▇█▇▇▇▇▇█▇▇█▇▇▆▆▇▇▇▇▇▇▇▇▇</td></tr><tr><td>test_f1_score</td><td>▁▄▅▅▆▆▆▇▇▆▇▇▇▇▇▇▇▇▇▇▇▇▇▇████████████████</td></tr><tr><td>test_fpr</td><td>█▄▃▃▂▂▂▂▂▂▂▂▂▂▂▂▁▂▂▁▂▂▁▁▁▁▁▁▁▁▁▁▁▁▁▁▁▁▁▁</td></tr><tr><td>test_loss</td><td>█▄▃▃▂▂▂▂▂▂▂▂▂▂▂▁▁▂▁▁▂▁▁▁▁▁▁▁▁▁▁▁▁▁▁▁▁▁▁▁</td></tr><tr><td>test_tpr</td><td>█▅▃▃▁▄▃▄▅▅▄▄▄▅▄▄▅▂▄▅▅▅▃▄▄▄▅▄▅▄▄▄▄▄▄▄▄▄▄▄</td></tr><tr><td>train_accuracy</td><td>▁▅▆▆▆▇▇▇▇▇▇▇▇▇▇▇▇███▇▇██████████████████</td></tr><tr><td>train_auc_score</td><td>▁▆▇▇▇▇██████████████████████████████████</td></tr><tr><td>train_f1_score</td><td>▁▅▅▆▆▆▆▇▇▇▇▇▇▇▇▇▇███▇▇██████████████████</td></tr><tr><td>train_fpr</td><td>█▃▂▂▂▂▂▂▂▂▂▂▂▂▂▂▂▁▁▁▁▁▁▁▁▁▁▁▁▁▁▁▁▁▁▁▁▁▁▁</td></tr><tr><td>train_loss</td><td>█▃▃▂▂▂▂▂▂▂▂▁▂▂▁▁▁▁▁▁▁▁▁▁▁▁▁▁▁▁▁▁▁▁▁▁▁▁▁▁</td></tr><tr><td>train_tpr</td><td>▁▃▄▅▅▆▆▇▆▇▇▇▇▇▇▇▇▇▇█▇▇██▇████▇██████████</td></tr></table><br/></div><div class=\"wandb-col\"><h3>Run summary:</h3><br/><table class=\"wandb\"><tr><td>epoch</td><td>39</td></tr><tr><td>lr</td><td>0.00015</td></tr><tr><td>test_accuracy</td><td>0.88026</td></tr><tr><td>test_auc_score</td><td>0.95091</td></tr><tr><td>test_f1_score</td><td>0.63746</td></tr><tr><td>test_fpr</td><td>0.12086</td></tr><tr><td>test_loss</td><td>0.05309</td></tr><tr><td>test_tpr</td><td>0.91296</td></tr><tr><td>train_accuracy</td><td>0.97789</td></tr><tr><td>train_auc_score</td><td>0.98299</td></tr><tr><td>train_f1_score</td><td>0.97488</td></tr><tr><td>train_fpr</td><td>0.00927</td></tr><tr><td>train_loss</td><td>0.02757</td></tr><tr><td>train_tpr</td><td>0.95213</td></tr></table><br/></div></div>"
      ],
      "text/plain": [
       "<IPython.core.display.HTML object>"
      ]
     },
     "metadata": {},
     "output_type": "display_data"
    },
    {
     "data": {
      "text/html": [
       " View run <strong style=\"color:#cdcd00\">EM_FocalLoss()_ROS-0.5</strong> at: <a href='https://wandb.ai/dmitrii_fomin_uga/Internship_project/runs/t0xwvmiu' target=\"_blank\">https://wandb.ai/dmitrii_fomin_uga/Internship_project/runs/t0xwvmiu</a><br/>Synced 5 W&B file(s), 0 media file(s), 0 artifact file(s) and 0 other file(s)"
      ],
      "text/plain": [
       "<IPython.core.display.HTML object>"
      ]
     },
     "metadata": {},
     "output_type": "display_data"
    },
    {
     "data": {
      "text/html": [
       "Find logs at: <code>../logs/wandb\\run-20230705_100227-t0xwvmiu\\logs</code>"
      ],
      "text/plain": [
       "<IPython.core.display.HTML object>"
      ]
     },
     "metadata": {},
     "output_type": "display_data"
    },
    {
     "data": {
      "text/html": [
       "Tracking run with wandb version 0.15.4"
      ],
      "text/plain": [
       "<IPython.core.display.HTML object>"
      ]
     },
     "metadata": {},
     "output_type": "display_data"
    },
    {
     "data": {
      "text/html": [
       "Run data is saved locally in <code>../logs/wandb\\run-20230705_100243-xmed3500</code>"
      ],
      "text/plain": [
       "<IPython.core.display.HTML object>"
      ]
     },
     "metadata": {},
     "output_type": "display_data"
    },
    {
     "data": {
      "text/html": [
       "Syncing run <strong><a href='https://wandb.ai/dmitrii_fomin_uga/Internship_project/runs/xmed3500' target=\"_blank\">EM_FocalLoss()_ROS-0.55</a></strong> to <a href='https://wandb.ai/dmitrii_fomin_uga/Internship_project' target=\"_blank\">Weights & Biases</a> (<a href='https://wandb.me/run' target=\"_blank\">docs</a>)<br/>"
      ],
      "text/plain": [
       "<IPython.core.display.HTML object>"
      ]
     },
     "metadata": {},
     "output_type": "display_data"
    },
    {
     "data": {
      "text/html": [
       " View project at <a href='https://wandb.ai/dmitrii_fomin_uga/Internship_project' target=\"_blank\">https://wandb.ai/dmitrii_fomin_uga/Internship_project</a>"
      ],
      "text/plain": [
       "<IPython.core.display.HTML object>"
      ]
     },
     "metadata": {},
     "output_type": "display_data"
    },
    {
     "data": {
      "text/html": [
       " View run at <a href='https://wandb.ai/dmitrii_fomin_uga/Internship_project/runs/xmed3500' target=\"_blank\">https://wandb.ai/dmitrii_fomin_uga/Internship_project/runs/xmed3500</a>"
      ],
      "text/plain": [
       "<IPython.core.display.HTML object>"
      ]
     },
     "metadata": {},
     "output_type": "display_data"
    },
    {
     "data": {
      "text/html": [
       "Waiting for W&B process to finish... <strong style=\"color:green\">(success).</strong>"
      ],
      "text/plain": [
       "<IPython.core.display.HTML object>"
      ]
     },
     "metadata": {},
     "output_type": "display_data"
    },
    {
     "data": {
      "text/html": [
       "<style>\n",
       "    table.wandb td:nth-child(1) { padding: 0 10px; text-align: left ; width: auto;} td:nth-child(2) {text-align: left ; width: 100%}\n",
       "    .wandb-row { display: flex; flex-direction: row; flex-wrap: wrap; justify-content: flex-start; width: 100% }\n",
       "    .wandb-col { display: flex; flex-direction: column; flex-basis: 100%; flex: 1; padding: 10px; }\n",
       "    </style>\n",
       "<div class=\"wandb-row\"><div class=\"wandb-col\"><h3>Run history:</h3><br/><table class=\"wandb\"><tr><td>epoch</td><td>▁▁▁▂▂▂▂▂▂▃▃▃▃▃▄▄▄▄▄▄▅▅▅▅▅▅▆▆▆▆▆▇▇▇▇▇▇███</td></tr><tr><td>lr</td><td>█▇▇▆▆▅▅▄▄▄▃▃▃▃▃▂▂▂▂▂▂▂▂▂▁▁▁▁▁▁▁▁▁▁▁▁▁▁▁▁</td></tr><tr><td>test_accuracy</td><td>▁▄▅▆▇▆▇▆▆▅▇▇▇█▇█▇██▇▇▇▇█████████████████</td></tr><tr><td>test_auc_score</td><td>▁▆▆▃▃▅▇▃█▆█▇▆▄▇▆▅▇▆▆▃▅▅▇▄▅▆▅▆▅▅▇▇▆▆▆▇▆▅▅</td></tr><tr><td>test_f1_score</td><td>▁▄▅▅▆▅▇▆▅▅▆▇▇▇▇▇▇█▇▇▇▇▇▇████████████████</td></tr><tr><td>test_fpr</td><td>█▅▄▃▂▃▂▃▃▄▂▂▂▁▂▁▂▁▁▂▂▂▂▁▁▁▁▁▁▁▁▁▁▁▁▁▁▁▁▁</td></tr><tr><td>test_loss</td><td>█▄▃▃▂▃▂▂▃▃▂▂▂▁▁▁▂▁▁▂▂▂▁▁▁▁▁▁▁▁▁▁▁▁▁▁▁▁▁▁</td></tr><tr><td>test_tpr</td><td>▆▄▅▃▄▆▂▃▅█▇▅▅▃▄▂▃▄▄▂▃▂▂▂▂▂▃▁▂▃▂▂▃▂▂▃▂▃▂▂</td></tr><tr><td>train_accuracy</td><td>▁▅▆▆▆▆▇▇▆▇▇▇▇▇▇▇▇█▇▇▇███████████████████</td></tr><tr><td>train_auc_score</td><td>▁▇▇▇▇▇██▇▇██████████████████████████████</td></tr><tr><td>train_f1_score</td><td>▁▅▆▆▆▆▇▇▆▆▇▇▇▇▇▇▇█▇▇▇███████████████████</td></tr><tr><td>train_fpr</td><td>█▃▃▂▂▂▂▂▃▂▂▂▂▂▂▂▂▁▂▂▂▂▁▁▁▁▁▁▁▁▁▁▁▁▁▁▁▁▁▁</td></tr><tr><td>train_loss</td><td>█▃▃▂▂▂▂▂▂▂▂▂▁▁▁▁▁▁▁▁▁▁▁▁▁▁▁▁▁▁▁▁▁▁▁▁▁▁▁▁</td></tr><tr><td>train_tpr</td><td>▁▃▅▅▆▆▇▆▇▆▇▇▇▇█▇▇█▇▇████████████████████</td></tr></table><br/></div><div class=\"wandb-col\"><h3>Run summary:</h3><br/><table class=\"wandb\"><tr><td>epoch</td><td>39</td></tr><tr><td>lr</td><td>0.00015</td></tr><tr><td>test_accuracy</td><td>0.85985</td></tr><tr><td>test_auc_score</td><td>0.94484</td></tr><tr><td>test_f1_score</td><td>0.61255</td></tr><tr><td>test_fpr</td><td>0.14238</td></tr><tr><td>test_loss</td><td>0.05941</td></tr><tr><td>test_tpr</td><td>0.9186</td></tr><tr><td>train_accuracy</td><td>0.9784</td></tr><tr><td>train_auc_score</td><td>0.98442</td></tr><tr><td>train_f1_score</td><td>0.9762</td></tr><tr><td>train_fpr</td><td>0.01487</td></tr><tr><td>train_loss</td><td>0.0274</td></tr><tr><td>train_tpr</td><td>0.9661</td></tr></table><br/></div></div>"
      ],
      "text/plain": [
       "<IPython.core.display.HTML object>"
      ]
     },
     "metadata": {},
     "output_type": "display_data"
    },
    {
     "data": {
      "text/html": [
       " View run <strong style=\"color:#cdcd00\">EM_FocalLoss()_ROS-0.55</strong> at: <a href='https://wandb.ai/dmitrii_fomin_uga/Internship_project/runs/xmed3500' target=\"_blank\">https://wandb.ai/dmitrii_fomin_uga/Internship_project/runs/xmed3500</a><br/>Synced 5 W&B file(s), 0 media file(s), 0 artifact file(s) and 0 other file(s)"
      ],
      "text/plain": [
       "<IPython.core.display.HTML object>"
      ]
     },
     "metadata": {},
     "output_type": "display_data"
    },
    {
     "data": {
      "text/html": [
       "Find logs at: <code>../logs/wandb\\run-20230705_100243-xmed3500\\logs</code>"
      ],
      "text/plain": [
       "<IPython.core.display.HTML object>"
      ]
     },
     "metadata": {},
     "output_type": "display_data"
    },
    {
     "data": {
      "text/html": [
       "Tracking run with wandb version 0.15.4"
      ],
      "text/plain": [
       "<IPython.core.display.HTML object>"
      ]
     },
     "metadata": {},
     "output_type": "display_data"
    },
    {
     "data": {
      "text/html": [
       "Run data is saved locally in <code>../logs/wandb\\run-20230705_100301-9cgyin6m</code>"
      ],
      "text/plain": [
       "<IPython.core.display.HTML object>"
      ]
     },
     "metadata": {},
     "output_type": "display_data"
    },
    {
     "data": {
      "text/html": [
       "Syncing run <strong><a href='https://wandb.ai/dmitrii_fomin_uga/Internship_project/runs/9cgyin6m' target=\"_blank\">EM_FocalLoss()_ROS-0.6</a></strong> to <a href='https://wandb.ai/dmitrii_fomin_uga/Internship_project' target=\"_blank\">Weights & Biases</a> (<a href='https://wandb.me/run' target=\"_blank\">docs</a>)<br/>"
      ],
      "text/plain": [
       "<IPython.core.display.HTML object>"
      ]
     },
     "metadata": {},
     "output_type": "display_data"
    },
    {
     "data": {
      "text/html": [
       " View project at <a href='https://wandb.ai/dmitrii_fomin_uga/Internship_project' target=\"_blank\">https://wandb.ai/dmitrii_fomin_uga/Internship_project</a>"
      ],
      "text/plain": [
       "<IPython.core.display.HTML object>"
      ]
     },
     "metadata": {},
     "output_type": "display_data"
    },
    {
     "data": {
      "text/html": [
       " View run at <a href='https://wandb.ai/dmitrii_fomin_uga/Internship_project/runs/9cgyin6m' target=\"_blank\">https://wandb.ai/dmitrii_fomin_uga/Internship_project/runs/9cgyin6m</a>"
      ],
      "text/plain": [
       "<IPython.core.display.HTML object>"
      ]
     },
     "metadata": {},
     "output_type": "display_data"
    },
    {
     "data": {
      "text/html": [
       "Waiting for W&B process to finish... <strong style=\"color:green\">(success).</strong>"
      ],
      "text/plain": [
       "<IPython.core.display.HTML object>"
      ]
     },
     "metadata": {},
     "output_type": "display_data"
    },
    {
     "data": {
      "text/html": [
       "<style>\n",
       "    table.wandb td:nth-child(1) { padding: 0 10px; text-align: left ; width: auto;} td:nth-child(2) {text-align: left ; width: 100%}\n",
       "    .wandb-row { display: flex; flex-direction: row; flex-wrap: wrap; justify-content: flex-start; width: 100% }\n",
       "    .wandb-col { display: flex; flex-direction: column; flex-basis: 100%; flex: 1; padding: 10px; }\n",
       "    </style>\n",
       "<div class=\"wandb-row\"><div class=\"wandb-col\"><h3>Run history:</h3><br/><table class=\"wandb\"><tr><td>epoch</td><td>▁▁▁▂▂▂▂▂▂▃▃▃▃▃▄▄▄▄▄▄▅▅▅▅▅▅▆▆▆▆▆▇▇▇▇▇▇███</td></tr><tr><td>lr</td><td>█▇▇▆▆▅▅▄▄▄▃▃▃▃▃▂▂▂▂▂▂▂▂▂▁▁▁▁▁▁▁▁▁▁▁▁▁▁▁▁</td></tr><tr><td>test_accuracy</td><td>▁▅▅▆▆▅▆▇▇▇▇▇▇▇▇▇▇▇▆▇▇▇▇█████████████████</td></tr><tr><td>test_auc_score</td><td>▅▅▂▁▁▄▆▄▅▆▆▅▄▅▄▅▅▅▃▇█▇▇▆▇▇▆▆▇▆▆▆▆▆▆▆▆▆▆▅</td></tr><tr><td>test_f1_score</td><td>▁▄▅▅▅▅▅▆▇▇▇▇▆▇▆▆▇▇▆▇▇▇▇▇▇▇██████████████</td></tr><tr><td>test_fpr</td><td>█▄▄▃▃▄▃▂▂▂▂▂▂▂▂▂▂▂▃▂▂▂▂▁▁▁▁▁▁▁▁▁▁▁▁▁▁▁▁▁</td></tr><tr><td>test_loss</td><td>█▄▄▃▃▃▃▂▂▂▂▂▂▂▂▂▂▂▃▂▂▂▁▁▁▁▁▁▁▁▁▁▁▁▁▁▁▁▁▁</td></tr><tr><td>test_tpr</td><td>▅▅▂▄▃█▆▄▃▄▄▃▂▅▅▂▄▃▃▅▅▃▃▃▃▃▂▂▂▂▁▂▄▄▂▃▂▁▁▁</td></tr><tr><td>train_accuracy</td><td>▁▅▅▆▆▆▆▇▇▇▇▇▇▇▇▇▇▇▇▇▇███████████████████</td></tr><tr><td>train_auc_score</td><td>▁▆▇▇▇▆▆▆▇▇▇▇▇▇█▇▇███████████████████████</td></tr><tr><td>train_f1_score</td><td>▁▅▅▆▆▆▆▇▇▇▇▇▇▇▇▇▇▇▇▇▇███████████████████</td></tr><tr><td>train_fpr</td><td>█▃▃▃▃▃▂▂▂▂▂▂▂▂▂▂▂▂▂▂▂▂▁▁▁▁▁▁▁▁▁▁▁▁▁▁▁▁▁▁</td></tr><tr><td>train_loss</td><td>█▃▃▃▃▂▂▂▂▂▂▂▂▂▂▂▂▂▂▁▁▁▁▁▁▁▁▁▁▁▁▁▁▁▁▁▁▁▁▁</td></tr><tr><td>train_tpr</td><td>▁▃▄▄▄▅▅▆▆▆▆▆▆▆▇▇▇▇▇█████████████████████</td></tr></table><br/></div><div class=\"wandb-col\"><h3>Run summary:</h3><br/><table class=\"wandb\"><tr><td>epoch</td><td>39</td></tr><tr><td>lr</td><td>0.00015</td></tr><tr><td>test_accuracy</td><td>0.85716</td></tr><tr><td>test_auc_score</td><td>0.93493</td></tr><tr><td>test_f1_score</td><td>0.61168</td></tr><tr><td>test_fpr</td><td>0.14505</td></tr><tr><td>test_loss</td><td>0.05991</td></tr><tr><td>test_tpr</td><td>0.91895</td></tr><tr><td>train_accuracy</td><td>0.98085</td></tr><tr><td>train_auc_score</td><td>0.98465</td></tr><tr><td>train_f1_score</td><td>0.97952</td></tr><tr><td>train_fpr</td><td>0.01029</td></tr><tr><td>train_loss</td><td>0.02676</td></tr><tr><td>train_tpr</td><td>0.96645</td></tr></table><br/></div></div>"
      ],
      "text/plain": [
       "<IPython.core.display.HTML object>"
      ]
     },
     "metadata": {},
     "output_type": "display_data"
    },
    {
     "data": {
      "text/html": [
       " View run <strong style=\"color:#cdcd00\">EM_FocalLoss()_ROS-0.6</strong> at: <a href='https://wandb.ai/dmitrii_fomin_uga/Internship_project/runs/9cgyin6m' target=\"_blank\">https://wandb.ai/dmitrii_fomin_uga/Internship_project/runs/9cgyin6m</a><br/>Synced 5 W&B file(s), 0 media file(s), 0 artifact file(s) and 0 other file(s)"
      ],
      "text/plain": [
       "<IPython.core.display.HTML object>"
      ]
     },
     "metadata": {},
     "output_type": "display_data"
    },
    {
     "data": {
      "text/html": [
       "Find logs at: <code>../logs/wandb\\run-20230705_100301-9cgyin6m\\logs</code>"
      ],
      "text/plain": [
       "<IPython.core.display.HTML object>"
      ]
     },
     "metadata": {},
     "output_type": "display_data"
    },
    {
     "data": {
      "text/html": [
       "Tracking run with wandb version 0.15.4"
      ],
      "text/plain": [
       "<IPython.core.display.HTML object>"
      ]
     },
     "metadata": {},
     "output_type": "display_data"
    },
    {
     "data": {
      "text/html": [
       "Run data is saved locally in <code>../logs/wandb\\run-20230705_100318-y79k8i6f</code>"
      ],
      "text/plain": [
       "<IPython.core.display.HTML object>"
      ]
     },
     "metadata": {},
     "output_type": "display_data"
    },
    {
     "data": {
      "text/html": [
       "Syncing run <strong><a href='https://wandb.ai/dmitrii_fomin_uga/Internship_project/runs/y79k8i6f' target=\"_blank\">EM_FocalLoss()_ROS-0.7</a></strong> to <a href='https://wandb.ai/dmitrii_fomin_uga/Internship_project' target=\"_blank\">Weights & Biases</a> (<a href='https://wandb.me/run' target=\"_blank\">docs</a>)<br/>"
      ],
      "text/plain": [
       "<IPython.core.display.HTML object>"
      ]
     },
     "metadata": {},
     "output_type": "display_data"
    },
    {
     "data": {
      "text/html": [
       " View project at <a href='https://wandb.ai/dmitrii_fomin_uga/Internship_project' target=\"_blank\">https://wandb.ai/dmitrii_fomin_uga/Internship_project</a>"
      ],
      "text/plain": [
       "<IPython.core.display.HTML object>"
      ]
     },
     "metadata": {},
     "output_type": "display_data"
    },
    {
     "data": {
      "text/html": [
       " View run at <a href='https://wandb.ai/dmitrii_fomin_uga/Internship_project/runs/y79k8i6f' target=\"_blank\">https://wandb.ai/dmitrii_fomin_uga/Internship_project/runs/y79k8i6f</a>"
      ],
      "text/plain": [
       "<IPython.core.display.HTML object>"
      ]
     },
     "metadata": {},
     "output_type": "display_data"
    },
    {
     "data": {
      "text/html": [
       "Waiting for W&B process to finish... <strong style=\"color:green\">(success).</strong>"
      ],
      "text/plain": [
       "<IPython.core.display.HTML object>"
      ]
     },
     "metadata": {},
     "output_type": "display_data"
    },
    {
     "data": {
      "text/html": [
       "<style>\n",
       "    table.wandb td:nth-child(1) { padding: 0 10px; text-align: left ; width: auto;} td:nth-child(2) {text-align: left ; width: 100%}\n",
       "    .wandb-row { display: flex; flex-direction: row; flex-wrap: wrap; justify-content: flex-start; width: 100% }\n",
       "    .wandb-col { display: flex; flex-direction: column; flex-basis: 100%; flex: 1; padding: 10px; }\n",
       "    </style>\n",
       "<div class=\"wandb-row\"><div class=\"wandb-col\"><h3>Run history:</h3><br/><table class=\"wandb\"><tr><td>epoch</td><td>▁▁▁▂▂▂▂▂▂▃▃▃▃▃▄▄▄▄▄▄▅▅▅▅▅▅▆▆▆▆▆▇▇▇▇▇▇███</td></tr><tr><td>lr</td><td>█▇▇▆▆▅▅▄▄▄▃▃▃▃▃▂▂▂▂▂▂▂▂▂▁▁▁▁▁▁▁▁▁▁▁▁▁▁▁▁</td></tr><tr><td>test_accuracy</td><td>▁▄▄▅▆▆▅▆▆▇▆▇▇▇▇▇▇▇▇█████████████████████</td></tr><tr><td>test_auc_score</td><td>▁▂▃▁▄▄▅▄▆▆▇█▆▆▇▇▇▆▇▇█▇███▇▇▇██▇▇▇▇████▇▇</td></tr><tr><td>test_f1_score</td><td>▁▄▄▅▅▅▅▆▆▆▆▇▆▇▇▇▆▇▇▇▇████▇██████████████</td></tr><tr><td>test_fpr</td><td>█▅▅▄▃▃▄▃▃▂▃▂▂▂▂▂▂▂▂▁▁▁▁▁▁▁▁▁▁▁▁▁▁▁▁▁▁▁▁▁</td></tr><tr><td>test_loss</td><td>█▅▅▄▃▃▄▃▂▂▂▂▂▂▂▂▂▂▂▁▁▁▁▁▁▁▁▁▁▁▁▁▁▁▁▁▁▁▁▁</td></tr><tr><td>test_tpr</td><td>▆█▆▁▃▂▅▅█▆▅▆▅▅▅▃▂▇▃▆▄▃▄▅▅▂▂▅▃▂▃▁▃▁▂▂▃▂▁▂</td></tr><tr><td>train_accuracy</td><td>▁▅▆▅▆▆▆▆▇▇▇▇▇▇▇▇▇▇██████████████████████</td></tr><tr><td>train_auc_score</td><td>▁▇▇▇▇▇▇▇▇█▇████████████▇████▇███████████</td></tr><tr><td>train_f1_score</td><td>▁▅▆▅▆▆▆▆▇▇▇▇▇▇▇▇▇▇██████████████████████</td></tr><tr><td>train_fpr</td><td>█▄▄▃▃▃▃▃▃▂▃▂▃▂▂▂▂▂▂▁▁▂▁▁▁▁▁▁▁▁▁▁▁▁▁▁▁▁▁▁</td></tr><tr><td>train_loss</td><td>█▃▃▃▂▂▂▂▂▂▂▂▂▁▂▁▁▁▁▁▁▁▁▁▁▁▁▁▁▁▁▁▁▁▁▁▁▁▁▁</td></tr><tr><td>train_tpr</td><td>▁▆▇▄▆▆▅▇▇▆▇▇▇▇▆▇▇▇████▇▇▇▇▇▇▇▇▇▇▇▇▇▇▇▇▇▇</td></tr></table><br/></div><div class=\"wandb-col\"><h3>Run summary:</h3><br/><table class=\"wandb\"><tr><td>epoch</td><td>39</td></tr><tr><td>lr</td><td>0.00015</td></tr><tr><td>test_accuracy</td><td>0.83533</td></tr><tr><td>test_auc_score</td><td>0.96301</td></tr><tr><td>test_f1_score</td><td>0.59424</td></tr><tr><td>test_fpr</td><td>0.16867</td></tr><tr><td>test_loss</td><td>0.06871</td></tr><tr><td>test_tpr</td><td>0.94967</td></tr><tr><td>train_accuracy</td><td>0.96329</td></tr><tr><td>train_auc_score</td><td>0.97251</td></tr><tr><td>train_f1_score</td><td>0.96177</td></tr><tr><td>train_fpr</td><td>0.01735</td></tr><tr><td>train_loss</td><td>0.03075</td></tr><tr><td>train_tpr</td><td>0.93588</td></tr></table><br/></div></div>"
      ],
      "text/plain": [
       "<IPython.core.display.HTML object>"
      ]
     },
     "metadata": {},
     "output_type": "display_data"
    },
    {
     "data": {
      "text/html": [
       " View run <strong style=\"color:#cdcd00\">EM_FocalLoss()_ROS-0.7</strong> at: <a href='https://wandb.ai/dmitrii_fomin_uga/Internship_project/runs/y79k8i6f' target=\"_blank\">https://wandb.ai/dmitrii_fomin_uga/Internship_project/runs/y79k8i6f</a><br/>Synced 5 W&B file(s), 0 media file(s), 0 artifact file(s) and 0 other file(s)"
      ],
      "text/plain": [
       "<IPython.core.display.HTML object>"
      ]
     },
     "metadata": {},
     "output_type": "display_data"
    },
    {
     "data": {
      "text/html": [
       "Find logs at: <code>../logs/wandb\\run-20230705_100318-y79k8i6f\\logs</code>"
      ],
      "text/plain": [
       "<IPython.core.display.HTML object>"
      ]
     },
     "metadata": {},
     "output_type": "display_data"
    },
    {
     "data": {
      "text/html": [
       "Tracking run with wandb version 0.15.4"
      ],
      "text/plain": [
       "<IPython.core.display.HTML object>"
      ]
     },
     "metadata": {},
     "output_type": "display_data"
    },
    {
     "data": {
      "text/html": [
       "Run data is saved locally in <code>../logs/wandb\\run-20230705_100333-issri49a</code>"
      ],
      "text/plain": [
       "<IPython.core.display.HTML object>"
      ]
     },
     "metadata": {},
     "output_type": "display_data"
    },
    {
     "data": {
      "text/html": [
       "Syncing run <strong><a href='https://wandb.ai/dmitrii_fomin_uga/Internship_project/runs/issri49a' target=\"_blank\">EM_FocalLoss()_ROS-0.8</a></strong> to <a href='https://wandb.ai/dmitrii_fomin_uga/Internship_project' target=\"_blank\">Weights & Biases</a> (<a href='https://wandb.me/run' target=\"_blank\">docs</a>)<br/>"
      ],
      "text/plain": [
       "<IPython.core.display.HTML object>"
      ]
     },
     "metadata": {},
     "output_type": "display_data"
    },
    {
     "data": {
      "text/html": [
       " View project at <a href='https://wandb.ai/dmitrii_fomin_uga/Internship_project' target=\"_blank\">https://wandb.ai/dmitrii_fomin_uga/Internship_project</a>"
      ],
      "text/plain": [
       "<IPython.core.display.HTML object>"
      ]
     },
     "metadata": {},
     "output_type": "display_data"
    },
    {
     "data": {
      "text/html": [
       " View run at <a href='https://wandb.ai/dmitrii_fomin_uga/Internship_project/runs/issri49a' target=\"_blank\">https://wandb.ai/dmitrii_fomin_uga/Internship_project/runs/issri49a</a>"
      ],
      "text/plain": [
       "<IPython.core.display.HTML object>"
      ]
     },
     "metadata": {},
     "output_type": "display_data"
    },
    {
     "data": {
      "text/html": [
       "Waiting for W&B process to finish... <strong style=\"color:green\">(success).</strong>"
      ],
      "text/plain": [
       "<IPython.core.display.HTML object>"
      ]
     },
     "metadata": {},
     "output_type": "display_data"
    },
    {
     "data": {
      "text/html": [
       "<style>\n",
       "    table.wandb td:nth-child(1) { padding: 0 10px; text-align: left ; width: auto;} td:nth-child(2) {text-align: left ; width: 100%}\n",
       "    .wandb-row { display: flex; flex-direction: row; flex-wrap: wrap; justify-content: flex-start; width: 100% }\n",
       "    .wandb-col { display: flex; flex-direction: column; flex-basis: 100%; flex: 1; padding: 10px; }\n",
       "    </style>\n",
       "<div class=\"wandb-row\"><div class=\"wandb-col\"><h3>Run history:</h3><br/><table class=\"wandb\"><tr><td>epoch</td><td>▁▁▁▂▂▂▂▂▂▃▃▃▃▃▄▄▄▄▄▄▅▅▅▅▅▅▆▆▆▆▆▇▇▇▇▇▇███</td></tr><tr><td>lr</td><td>█▇▇▆▆▅▅▄▄▄▃▃▃▃▃▂▂▂▂▂▂▂▂▂▁▁▁▁▁▁▁▁▁▁▁▁▁▁▁▁</td></tr><tr><td>test_accuracy</td><td>▁▄▄▄▅▅▆▆▆▇▆▇▇▆▇▇▇▇▇██▇██████████████████</td></tr><tr><td>test_auc_score</td><td>▁▃▃▅▅▅▇█▇▅▆▇▆▅▇▆▇▇▇▇▆▇▆▆█▇█▇▆▇▇▇████▇▇▇█</td></tr><tr><td>test_f1_score</td><td>▁▃▄▄▅▅▅▆▆▇▆▆▆▆▆▇▇▇▇▇▇▇▇█▇█████▇█████████</td></tr><tr><td>test_fpr</td><td>█▅▅▅▄▄▃▃▃▂▃▂▂▃▂▂▂▂▂▁▁▂▁▁▁▁▁▁▁▁▁▁▁▁▁▁▁▁▁▁</td></tr><tr><td>test_loss</td><td>█▅▅▅▄▄▃▂▃▂▃▂▂▃▂▂▂▂▂▁▁▂▁▁▁▁▁▁▁▁▁▁▁▁▁▁▁▁▁▁</td></tr><tr><td>test_tpr</td><td>█▇▆▇▇▆▆▇▆▁█▆▆▇▇▇▇▆▆▆▄▆▆▆▆▅▆▅▅▇▆▆▅▆▆▆▅▅▆▆</td></tr><tr><td>train_accuracy</td><td>▁▅▆▆▆▆▆▇▇▇▇▇▇▇▇█▇▇██████████████████████</td></tr><tr><td>train_auc_score</td><td>▁▇▇▇▇▇▇▇██▇▇▇▇███▇██████████████████████</td></tr><tr><td>train_f1_score</td><td>▁▅▆▆▆▆▆▇▇▇▇▇▇▇▇█▇▇██████████████████████</td></tr><tr><td>train_fpr</td><td>█▄▃▄▃▄▃▂▂▂▃▂▂▂▂▂▁▂▂▂▁▂▂▁▁▁▁▁▁▁▁▁▁▁▁▁▁▁▁▁</td></tr><tr><td>train_loss</td><td>█▃▃▃▂▂▂▂▂▂▂▂▂▂▁▁▁▁▁▁▁▁▁▁▁▁▁▁▁▁▁▁▁▁▁▁▁▁▁▁</td></tr><tr><td>train_tpr</td><td>▁▆▆▇▆▇▇▇▇▆▇▇▇▇██▇███████████████████████</td></tr></table><br/></div><div class=\"wandb-col\"><h3>Run summary:</h3><br/><table class=\"wandb\"><tr><td>epoch</td><td>39</td></tr><tr><td>lr</td><td>0.00015</td></tr><tr><td>test_accuracy</td><td>0.80357</td></tr><tr><td>test_auc_score</td><td>0.95832</td></tr><tr><td>test_f1_score</td><td>0.56944</td></tr><tr><td>test_fpr</td><td>0.2023</td></tr><tr><td>test_loss</td><td>0.0801</td></tr><tr><td>test_tpr</td><td>0.97037</td></tr><tr><td>train_accuracy</td><td>0.97222</td></tr><tr><td>train_auc_score</td><td>0.98164</td></tr><tr><td>train_f1_score</td><td>0.97179</td></tr><tr><td>train_fpr</td><td>0.01805</td></tr><tr><td>train_loss</td><td>0.02857</td></tr><tr><td>train_tpr</td><td>0.96045</td></tr></table><br/></div></div>"
      ],
      "text/plain": [
       "<IPython.core.display.HTML object>"
      ]
     },
     "metadata": {},
     "output_type": "display_data"
    },
    {
     "data": {
      "text/html": [
       " View run <strong style=\"color:#cdcd00\">EM_FocalLoss()_ROS-0.8</strong> at: <a href='https://wandb.ai/dmitrii_fomin_uga/Internship_project/runs/issri49a' target=\"_blank\">https://wandb.ai/dmitrii_fomin_uga/Internship_project/runs/issri49a</a><br/>Synced 5 W&B file(s), 0 media file(s), 0 artifact file(s) and 0 other file(s)"
      ],
      "text/plain": [
       "<IPython.core.display.HTML object>"
      ]
     },
     "metadata": {},
     "output_type": "display_data"
    },
    {
     "data": {
      "text/html": [
       "Find logs at: <code>../logs/wandb\\run-20230705_100333-issri49a\\logs</code>"
      ],
      "text/plain": [
       "<IPython.core.display.HTML object>"
      ]
     },
     "metadata": {},
     "output_type": "display_data"
    },
    {
     "data": {
      "text/html": [
       "Tracking run with wandb version 0.15.4"
      ],
      "text/plain": [
       "<IPython.core.display.HTML object>"
      ]
     },
     "metadata": {},
     "output_type": "display_data"
    },
    {
     "data": {
      "text/html": [
       "Run data is saved locally in <code>../logs/wandb\\run-20230705_100348-d63xtjk0</code>"
      ],
      "text/plain": [
       "<IPython.core.display.HTML object>"
      ]
     },
     "metadata": {},
     "output_type": "display_data"
    },
    {
     "data": {
      "text/html": [
       "Syncing run <strong><a href='https://wandb.ai/dmitrii_fomin_uga/Internship_project/runs/d63xtjk0' target=\"_blank\">EM_FocalLoss()_ROS-0.9</a></strong> to <a href='https://wandb.ai/dmitrii_fomin_uga/Internship_project' target=\"_blank\">Weights & Biases</a> (<a href='https://wandb.me/run' target=\"_blank\">docs</a>)<br/>"
      ],
      "text/plain": [
       "<IPython.core.display.HTML object>"
      ]
     },
     "metadata": {},
     "output_type": "display_data"
    },
    {
     "data": {
      "text/html": [
       " View project at <a href='https://wandb.ai/dmitrii_fomin_uga/Internship_project' target=\"_blank\">https://wandb.ai/dmitrii_fomin_uga/Internship_project</a>"
      ],
      "text/plain": [
       "<IPython.core.display.HTML object>"
      ]
     },
     "metadata": {},
     "output_type": "display_data"
    },
    {
     "data": {
      "text/html": [
       " View run at <a href='https://wandb.ai/dmitrii_fomin_uga/Internship_project/runs/d63xtjk0' target=\"_blank\">https://wandb.ai/dmitrii_fomin_uga/Internship_project/runs/d63xtjk0</a>"
      ],
      "text/plain": [
       "<IPython.core.display.HTML object>"
      ]
     },
     "metadata": {},
     "output_type": "display_data"
    },
    {
     "data": {
      "text/html": [
       "Waiting for W&B process to finish... <strong style=\"color:green\">(success).</strong>"
      ],
      "text/plain": [
       "<IPython.core.display.HTML object>"
      ]
     },
     "metadata": {},
     "output_type": "display_data"
    },
    {
     "data": {
      "text/html": [
       "<style>\n",
       "    table.wandb td:nth-child(1) { padding: 0 10px; text-align: left ; width: auto;} td:nth-child(2) {text-align: left ; width: 100%}\n",
       "    .wandb-row { display: flex; flex-direction: row; flex-wrap: wrap; justify-content: flex-start; width: 100% }\n",
       "    .wandb-col { display: flex; flex-direction: column; flex-basis: 100%; flex: 1; padding: 10px; }\n",
       "    </style>\n",
       "<div class=\"wandb-row\"><div class=\"wandb-col\"><h3>Run history:</h3><br/><table class=\"wandb\"><tr><td>epoch</td><td>▁▁▁▂▂▂▂▂▂▃▃▃▃▃▄▄▄▄▄▄▅▅▅▅▅▅▆▆▆▆▆▇▇▇▇▇▇███</td></tr><tr><td>lr</td><td>█▇▇▆▆▅▅▄▄▄▃▃▃▃▃▂▂▂▂▂▂▂▂▂▁▁▁▁▁▁▁▁▁▁▁▁▁▁▁▁</td></tr><tr><td>test_accuracy</td><td>▁▃▄▅▄▆▆▅▆▆▇▇▇▇▇▇▇▇▇▇▇█▇▇▇▇██████████████</td></tr><tr><td>test_auc_score</td><td>▁▃▁▃▄▃▅▃▆▆▇▇▇▇▇▇▇██▇██▇█▇▇██████████████</td></tr><tr><td>test_f1_score</td><td>▁▃▄▅▄▆▅▅▅▆▆▇▇▇▆▇▇▇▇▇▇▇▇▇▇▇▇█████████████</td></tr><tr><td>test_fpr</td><td>█▆▅▄▅▃▃▄▃▃▂▂▂▂▃▂▂▂▂▂▂▁▂▂▂▂▁▁▁▁▁▁▁▁▁▁▁▁▁▁</td></tr><tr><td>test_loss</td><td>█▆▅▄▅▃▃▄▃▃▂▂▂▂▂▂▂▂▂▂▂▁▁▁▂▂▁▁▁▁▁▁▁▁▁▁▁▁▁▁</td></tr><tr><td>test_tpr</td><td>▆▄▅█▇▄▂▅███▇▅▅▇▅▃▃▅▅▃▃▃▅▄▄▃▃▁▄▃▂▃▄▃▁▃▃▃▃</td></tr><tr><td>train_accuracy</td><td>▁▄▅▆▅▆▆▆▆▆▇▇▇▇▇▇▇▇▇▇▇██▇████████████████</td></tr><tr><td>train_auc_score</td><td>▁▆▆▇▇▇▇▇▇▇██████████████████████████████</td></tr><tr><td>train_f1_score</td><td>▁▄▅▆▅▆▆▆▆▆▇▇▇▇▇▇▇▇▇▇▇██▇████████████████</td></tr><tr><td>train_fpr</td><td>█▄▄▃▄▃▃▄▃▃▃▂▂▂▂▂▂▂▂▂▂▁▂▂▂▁▂▁▁▁▁▁▁▁▁▁▁▁▁▁</td></tr><tr><td>train_loss</td><td>█▄▃▃▃▂▂▃▂▂▂▂▂▂▂▂▁▁▁▁▁▁▁▁▁▁▁▁▁▁▁▁▁▁▁▁▁▁▁▁</td></tr><tr><td>train_tpr</td><td>▁▄▆▆▆▆▆▇▆▇▇▇▇▇▇▇████████████████████████</td></tr></table><br/></div><div class=\"wandb-col\"><h3>Run summary:</h3><br/><table class=\"wandb\"><tr><td>epoch</td><td>39</td></tr><tr><td>lr</td><td>0.00015</td></tr><tr><td>test_accuracy</td><td>0.79523</td></tr><tr><td>test_auc_score</td><td>0.94649</td></tr><tr><td>test_f1_score</td><td>0.56263</td></tr><tr><td>test_fpr</td><td>0.21099</td></tr><tr><td>test_loss</td><td>0.08381</td></tr><tr><td>test_tpr</td><td>0.97055</td></tr><tr><td>train_accuracy</td><td>0.97907</td></tr><tr><td>train_auc_score</td><td>0.98335</td></tr><tr><td>train_f1_score</td><td>0.97898</td></tr><tr><td>train_fpr</td><td>0.01792</td></tr><tr><td>train_loss</td><td>0.02714</td></tr><tr><td>train_tpr</td><td>0.97613</td></tr></table><br/></div></div>"
      ],
      "text/plain": [
       "<IPython.core.display.HTML object>"
      ]
     },
     "metadata": {},
     "output_type": "display_data"
    },
    {
     "data": {
      "text/html": [
       " View run <strong style=\"color:#cdcd00\">EM_FocalLoss()_ROS-0.9</strong> at: <a href='https://wandb.ai/dmitrii_fomin_uga/Internship_project/runs/d63xtjk0' target=\"_blank\">https://wandb.ai/dmitrii_fomin_uga/Internship_project/runs/d63xtjk0</a><br/>Synced 5 W&B file(s), 0 media file(s), 0 artifact file(s) and 0 other file(s)"
      ],
      "text/plain": [
       "<IPython.core.display.HTML object>"
      ]
     },
     "metadata": {},
     "output_type": "display_data"
    },
    {
     "data": {
      "text/html": [
       "Find logs at: <code>../logs/wandb\\run-20230705_100348-d63xtjk0\\logs</code>"
      ],
      "text/plain": [
       "<IPython.core.display.HTML object>"
      ]
     },
     "metadata": {},
     "output_type": "display_data"
    },
    {
     "data": {
      "text/html": [
       "Tracking run with wandb version 0.15.4"
      ],
      "text/plain": [
       "<IPython.core.display.HTML object>"
      ]
     },
     "metadata": {},
     "output_type": "display_data"
    },
    {
     "data": {
      "text/html": [
       "Run data is saved locally in <code>../logs/wandb\\run-20230705_100404-h647ewn4</code>"
      ],
      "text/plain": [
       "<IPython.core.display.HTML object>"
      ]
     },
     "metadata": {},
     "output_type": "display_data"
    },
    {
     "data": {
      "text/html": [
       "Syncing run <strong><a href='https://wandb.ai/dmitrii_fomin_uga/Internship_project/runs/h647ewn4' target=\"_blank\">EM_FocalLoss()_ROS-1</a></strong> to <a href='https://wandb.ai/dmitrii_fomin_uga/Internship_project' target=\"_blank\">Weights & Biases</a> (<a href='https://wandb.me/run' target=\"_blank\">docs</a>)<br/>"
      ],
      "text/plain": [
       "<IPython.core.display.HTML object>"
      ]
     },
     "metadata": {},
     "output_type": "display_data"
    },
    {
     "data": {
      "text/html": [
       " View project at <a href='https://wandb.ai/dmitrii_fomin_uga/Internship_project' target=\"_blank\">https://wandb.ai/dmitrii_fomin_uga/Internship_project</a>"
      ],
      "text/plain": [
       "<IPython.core.display.HTML object>"
      ]
     },
     "metadata": {},
     "output_type": "display_data"
    },
    {
     "data": {
      "text/html": [
       " View run at <a href='https://wandb.ai/dmitrii_fomin_uga/Internship_project/runs/h647ewn4' target=\"_blank\">https://wandb.ai/dmitrii_fomin_uga/Internship_project/runs/h647ewn4</a>"
      ],
      "text/plain": [
       "<IPython.core.display.HTML object>"
      ]
     },
     "metadata": {},
     "output_type": "display_data"
    },
    {
     "data": {
      "text/html": [
       "Waiting for W&B process to finish... <strong style=\"color:green\">(success).</strong>"
      ],
      "text/plain": [
       "<IPython.core.display.HTML object>"
      ]
     },
     "metadata": {},
     "output_type": "display_data"
    },
    {
     "data": {
      "text/html": [
       "<style>\n",
       "    table.wandb td:nth-child(1) { padding: 0 10px; text-align: left ; width: auto;} td:nth-child(2) {text-align: left ; width: 100%}\n",
       "    .wandb-row { display: flex; flex-direction: row; flex-wrap: wrap; justify-content: flex-start; width: 100% }\n",
       "    .wandb-col { display: flex; flex-direction: column; flex-basis: 100%; flex: 1; padding: 10px; }\n",
       "    </style>\n",
       "<div class=\"wandb-row\"><div class=\"wandb-col\"><h3>Run history:</h3><br/><table class=\"wandb\"><tr><td>epoch</td><td>▁▁▁▂▂▂▂▂▂▃▃▃▃▃▄▄▄▄▄▄▅▅▅▅▅▅▆▆▆▆▆▇▇▇▇▇▇███</td></tr><tr><td>lr</td><td>█▇▇▆▆▅▅▄▄▄▃▃▃▃▃▂▂▂▂▂▂▂▂▂▁▁▁▁▁▁▁▁▁▁▁▁▁▁▁▁</td></tr><tr><td>test_accuracy</td><td>▁▃▃▄▅▆▅▆▆▅▆▅▅▆▇▆▆▇▇▇▇▇▇█▇▇▇▇▇▇██████████</td></tr><tr><td>test_auc_score</td><td>█▁▄▇█▆▅▅▃▃▂▃▅▆▆▃▃▆▇▇▆▆▆▇██▇▇▇▇█▇▇▇███▇██</td></tr><tr><td>test_f1_score</td><td>▁▃▃▄▅▅▅▆▅▅▆▅▅▆▆▆▆▆▇▇▇▇▇▇▇▇▇▇▇▇██████████</td></tr><tr><td>test_fpr</td><td>█▆▆▅▄▃▄▃▄▄▃▄▄▃▂▃▃▂▂▂▂▂▂▁▂▂▂▂▂▂▁▁▁▁▁▁▁▁▁▁</td></tr><tr><td>test_loss</td><td>█▇▆▆▄▃▄▃▄▄▃▄▄▃▃▃▃▃▂▂▂▂▂▂▂▂▂▂▂▁▁▁▁▁▁▁▁▁▁▁</td></tr><tr><td>test_tpr</td><td>▄▃▅▆▄▁▄▆▇█▄▅▆▅▆▃▅█▅▃▅▅▃▃▄▇█▄▃▇▅▅▃▄▄▃▄▄▄▄</td></tr><tr><td>train_accuracy</td><td>▁▅▅▆▆▆▆▇▆▆▇▆▇▇▇▇▇▇██▇▇██████████████████</td></tr><tr><td>train_auc_score</td><td>▁▇▆▇▇▇▇▇▇▆▇▇▇▇▇▇▇███████████████████████</td></tr><tr><td>train_f1_score</td><td>▁▅▅▆▆▆▆▇▆▆▇▆▇▇▇▇▇▇██▇▇██████████████████</td></tr><tr><td>train_fpr</td><td>█▄▅▃▃▃▃▃▃▄▂▃▃▂▂▃▂▂▂▂▂▂▂▂▁▂▂▁▁▁▁▁▁▁▁▁▁▁▁▁</td></tr><tr><td>train_loss</td><td>█▃▃▃▂▂▂▂▂▂▂▂▂▂▂▂▂▁▁▁▁▁▁▁▁▁▁▁▁▁▁▁▁▁▁▁▁▁▁▁</td></tr><tr><td>train_tpr</td><td>▁▆▆▅▆▆▆▇▆▇▆▇▇▇█████████████████▇███▇████</td></tr></table><br/></div><div class=\"wandb-col\"><h3>Run summary:</h3><br/><table class=\"wandb\"><tr><td>epoch</td><td>39</td></tr><tr><td>lr</td><td>0.00015</td></tr><tr><td>test_accuracy</td><td>0.77177</td></tr><tr><td>test_auc_score</td><td>0.9011</td></tr><tr><td>test_f1_score</td><td>0.54525</td></tr><tr><td>test_fpr</td><td>0.23524</td></tr><tr><td>test_loss</td><td>0.09366</td></tr><tr><td>test_tpr</td><td>0.97225</td></tr><tr><td>train_accuracy</td><td>0.97209</td></tr><tr><td>train_auc_score</td><td>0.98211</td></tr><tr><td>train_f1_score</td><td>0.97207</td></tr><tr><td>train_fpr</td><td>0.02176</td></tr><tr><td>train_loss</td><td>0.02861</td></tr><tr><td>train_tpr</td><td>0.966</td></tr></table><br/></div></div>"
      ],
      "text/plain": [
       "<IPython.core.display.HTML object>"
      ]
     },
     "metadata": {},
     "output_type": "display_data"
    },
    {
     "data": {
      "text/html": [
       " View run <strong style=\"color:#cdcd00\">EM_FocalLoss()_ROS-1</strong> at: <a href='https://wandb.ai/dmitrii_fomin_uga/Internship_project/runs/h647ewn4' target=\"_blank\">https://wandb.ai/dmitrii_fomin_uga/Internship_project/runs/h647ewn4</a><br/>Synced 5 W&B file(s), 0 media file(s), 0 artifact file(s) and 0 other file(s)"
      ],
      "text/plain": [
       "<IPython.core.display.HTML object>"
      ]
     },
     "metadata": {},
     "output_type": "display_data"
    },
    {
     "data": {
      "text/html": [
       "Find logs at: <code>../logs/wandb\\run-20230705_100404-h647ewn4\\logs</code>"
      ],
      "text/plain": [
       "<IPython.core.display.HTML object>"
      ]
     },
     "metadata": {},
     "output_type": "display_data"
    },
    {
     "data": {
      "text/html": [
       "Tracking run with wandb version 0.15.4"
      ],
      "text/plain": [
       "<IPython.core.display.HTML object>"
      ]
     },
     "metadata": {},
     "output_type": "display_data"
    },
    {
     "data": {
      "text/html": [
       "Run data is saved locally in <code>../logs/wandb\\run-20230705_100422-odjpvfra</code>"
      ],
      "text/plain": [
       "<IPython.core.display.HTML object>"
      ]
     },
     "metadata": {},
     "output_type": "display_data"
    },
    {
     "data": {
      "text/html": [
       "Syncing run <strong><a href='https://wandb.ai/dmitrii_fomin_uga/Internship_project/runs/odjpvfra' target=\"_blank\">EM_FocalLoss()_RUS-0.05</a></strong> to <a href='https://wandb.ai/dmitrii_fomin_uga/Internship_project' target=\"_blank\">Weights & Biases</a> (<a href='https://wandb.me/run' target=\"_blank\">docs</a>)<br/>"
      ],
      "text/plain": [
       "<IPython.core.display.HTML object>"
      ]
     },
     "metadata": {},
     "output_type": "display_data"
    },
    {
     "data": {
      "text/html": [
       " View project at <a href='https://wandb.ai/dmitrii_fomin_uga/Internship_project' target=\"_blank\">https://wandb.ai/dmitrii_fomin_uga/Internship_project</a>"
      ],
      "text/plain": [
       "<IPython.core.display.HTML object>"
      ]
     },
     "metadata": {},
     "output_type": "display_data"
    },
    {
     "data": {
      "text/html": [
       " View run at <a href='https://wandb.ai/dmitrii_fomin_uga/Internship_project/runs/odjpvfra' target=\"_blank\">https://wandb.ai/dmitrii_fomin_uga/Internship_project/runs/odjpvfra</a>"
      ],
      "text/plain": [
       "<IPython.core.display.HTML object>"
      ]
     },
     "metadata": {},
     "output_type": "display_data"
    },
    {
     "data": {
      "text/html": [
       "Waiting for W&B process to finish... <strong style=\"color:green\">(success).</strong>"
      ],
      "text/plain": [
       "<IPython.core.display.HTML object>"
      ]
     },
     "metadata": {},
     "output_type": "display_data"
    },
    {
     "data": {
      "text/html": [
       "<style>\n",
       "    table.wandb td:nth-child(1) { padding: 0 10px; text-align: left ; width: auto;} td:nth-child(2) {text-align: left ; width: 100%}\n",
       "    .wandb-row { display: flex; flex-direction: row; flex-wrap: wrap; justify-content: flex-start; width: 100% }\n",
       "    .wandb-col { display: flex; flex-direction: column; flex-basis: 100%; flex: 1; padding: 10px; }\n",
       "    </style>\n",
       "<div class=\"wandb-row\"><div class=\"wandb-col\"><h3>Run history:</h3><br/><table class=\"wandb\"><tr><td>epoch</td><td>▁▁▁▂▂▂▂▂▂▃▃▃▃▃▄▄▄▄▄▄▅▅▅▅▅▅▆▆▆▆▆▇▇▇▇▇▇███</td></tr><tr><td>lr</td><td>█▇▇▆▆▅▅▄▄▄▃▃▃▃▃▂▂▂▂▂▂▂▂▂▁▁▁▁▁▁▁▁▁▁▁▁▁▁▁▁</td></tr><tr><td>test_accuracy</td><td>▁▂▃▅▆▇██████████████████████████████████</td></tr><tr><td>test_auc_score</td><td>▁▆▆▇▇▇▇▇▇▇▇▇▇█▇█████████████████████████</td></tr><tr><td>test_f1_score</td><td>▁▂▄▅▆▇▇▇████████████████████████████████</td></tr><tr><td>test_fpr</td><td>█▇▆▄▃▂▁▁▁▁▁▁▁▁▁▁▁▁▁▁▁▁▁▁▁▁▁▁▁▁▁▁▁▁▁▁▁▁▁▁</td></tr><tr><td>test_loss</td><td>██▆▄▃▂▂▁▁▁▁▁▁▁▁▁▁▁▁▁▁▁▁▁▁▁▁▁▁▁▁▁▁▁▁▁▁▁▁▁</td></tr><tr><td>test_tpr</td><td>██▇▇▄▄▃▄▂▂▁▂▃▃▃▂▃▂▂▃▂▃▂▂▂▂▂▃▃▃▂▃▃▃▃▃▂▃▃▃</td></tr><tr><td>train_accuracy</td><td>▁▆▇▇████████████████████████████████████</td></tr><tr><td>train_auc_score</td><td>▁▇▇█▇▇▇███▇▇██▇█████████████████████████</td></tr><tr><td>train_f1_score</td><td>▁▅▆▇▇▇▇▇▇██▇▇█▇█████▇▇██████████████████</td></tr><tr><td>train_fpr</td><td>█▄▂▂▂▁▁▁▁▁▁▁▁▁▁▁▁▁▁▁▁▁▁▁▁▁▁▁▁▁▁▁▁▁▁▁▁▁▁▁</td></tr><tr><td>train_loss</td><td>█▄▃▂▂▂▂▁▁▁▁▁▁▁▁▁▁▁▁▁▁▁▁▁▁▁▁▁▁▁▁▁▁▁▁▁▁▁▁▁</td></tr><tr><td>train_tpr</td><td>▁██▇▇▆▄▅▅▆▅▅▆▆▅▆▆▇▆▅▅▆▆▆▅▆▆▆▆▆▄▇▇▆▇▆▅▇▆▆</td></tr></table><br/></div><div class=\"wandb-col\"><h3>Run summary:</h3><br/><table class=\"wandb\"><tr><td>epoch</td><td>39</td></tr><tr><td>lr</td><td>0.00015</td></tr><tr><td>test_accuracy</td><td>0.93938</td></tr><tr><td>test_auc_score</td><td>0.94652</td></tr><tr><td>test_f1_score</td><td>0.72344</td></tr><tr><td>test_fpr</td><td>0.05659</td></tr><tr><td>test_loss</td><td>0.03887</td></tr><tr><td>test_tpr</td><td>0.82182</td></tr><tr><td>train_accuracy</td><td>0.95661</td></tr><tr><td>train_auc_score</td><td>0.96364</td></tr><tr><td>train_f1_score</td><td>0.90803</td></tr><tr><td>train_fpr</td><td>0.01982</td></tr><tr><td>train_loss</td><td>0.03518</td></tr><tr><td>train_tpr</td><td>0.81225</td></tr></table><br/></div></div>"
      ],
      "text/plain": [
       "<IPython.core.display.HTML object>"
      ]
     },
     "metadata": {},
     "output_type": "display_data"
    },
    {
     "data": {
      "text/html": [
       " View run <strong style=\"color:#cdcd00\">EM_FocalLoss()_RUS-0.05</strong> at: <a href='https://wandb.ai/dmitrii_fomin_uga/Internship_project/runs/odjpvfra' target=\"_blank\">https://wandb.ai/dmitrii_fomin_uga/Internship_project/runs/odjpvfra</a><br/>Synced 5 W&B file(s), 0 media file(s), 0 artifact file(s) and 0 other file(s)"
      ],
      "text/plain": [
       "<IPython.core.display.HTML object>"
      ]
     },
     "metadata": {},
     "output_type": "display_data"
    },
    {
     "data": {
      "text/html": [
       "Find logs at: <code>../logs/wandb\\run-20230705_100422-odjpvfra\\logs</code>"
      ],
      "text/plain": [
       "<IPython.core.display.HTML object>"
      ]
     },
     "metadata": {},
     "output_type": "display_data"
    },
    {
     "data": {
      "text/html": [
       "Tracking run with wandb version 0.15.4"
      ],
      "text/plain": [
       "<IPython.core.display.HTML object>"
      ]
     },
     "metadata": {},
     "output_type": "display_data"
    },
    {
     "data": {
      "text/html": [
       "Run data is saved locally in <code>../logs/wandb\\run-20230705_100433-g794ldat</code>"
      ],
      "text/plain": [
       "<IPython.core.display.HTML object>"
      ]
     },
     "metadata": {},
     "output_type": "display_data"
    },
    {
     "data": {
      "text/html": [
       "Syncing run <strong><a href='https://wandb.ai/dmitrii_fomin_uga/Internship_project/runs/g794ldat' target=\"_blank\">EM_FocalLoss()_RUS-0.1</a></strong> to <a href='https://wandb.ai/dmitrii_fomin_uga/Internship_project' target=\"_blank\">Weights & Biases</a> (<a href='https://wandb.me/run' target=\"_blank\">docs</a>)<br/>"
      ],
      "text/plain": [
       "<IPython.core.display.HTML object>"
      ]
     },
     "metadata": {},
     "output_type": "display_data"
    },
    {
     "data": {
      "text/html": [
       " View project at <a href='https://wandb.ai/dmitrii_fomin_uga/Internship_project' target=\"_blank\">https://wandb.ai/dmitrii_fomin_uga/Internship_project</a>"
      ],
      "text/plain": [
       "<IPython.core.display.HTML object>"
      ]
     },
     "metadata": {},
     "output_type": "display_data"
    },
    {
     "data": {
      "text/html": [
       " View run at <a href='https://wandb.ai/dmitrii_fomin_uga/Internship_project/runs/g794ldat' target=\"_blank\">https://wandb.ai/dmitrii_fomin_uga/Internship_project/runs/g794ldat</a>"
      ],
      "text/plain": [
       "<IPython.core.display.HTML object>"
      ]
     },
     "metadata": {},
     "output_type": "display_data"
    },
    {
     "data": {
      "text/html": [
       "Waiting for W&B process to finish... <strong style=\"color:green\">(success).</strong>"
      ],
      "text/plain": [
       "<IPython.core.display.HTML object>"
      ]
     },
     "metadata": {},
     "output_type": "display_data"
    },
    {
     "data": {
      "text/html": [
       "<style>\n",
       "    table.wandb td:nth-child(1) { padding: 0 10px; text-align: left ; width: auto;} td:nth-child(2) {text-align: left ; width: 100%}\n",
       "    .wandb-row { display: flex; flex-direction: row; flex-wrap: wrap; justify-content: flex-start; width: 100% }\n",
       "    .wandb-col { display: flex; flex-direction: column; flex-basis: 100%; flex: 1; padding: 10px; }\n",
       "    </style>\n",
       "<div class=\"wandb-row\"><div class=\"wandb-col\"><h3>Run history:</h3><br/><table class=\"wandb\"><tr><td>epoch</td><td>▁▁▁▂▂▂▂▂▂▃▃▃▃▃▄▄▄▄▄▄▅▅▅▅▅▅▆▆▆▆▆▇▇▇▇▇▇███</td></tr><tr><td>lr</td><td>█▇▇▆▆▅▅▄▄▄▃▃▃▃▃▂▂▂▂▂▂▂▂▂▁▁▁▁▁▁▁▁▁▁▁▁▁▁▁▁</td></tr><tr><td>test_accuracy</td><td>▁▃▅▇████████████████████████████████████</td></tr><tr><td>test_auc_score</td><td>▂▃▂▂▂▃▂▁▄▄▅▅▅▆▆▄▆▇▅▅▇▇▆▇▆▇▇▇▇▇▇██▇▇▇▇▆██</td></tr><tr><td>test_f1_score</td><td>▁▃▄▆▇▇▇▇▇███████████████████████████████</td></tr><tr><td>test_fpr</td><td>█▆▄▂▁▁▁▁▁▁▁▁▁▁▁▁▁▁▁▁▁▁▁▁▁▁▁▁▁▁▁▁▁▁▁▁▁▁▁▁</td></tr><tr><td>test_loss</td><td>█▆▃▂▁▁▁▁▁▁▁▁▁▁▁▁▁▁▁▁▁▁▁▁▁▁▁▁▁▁▁▁▁▁▁▁▁▁▁▁</td></tr><tr><td>test_tpr</td><td>█▇▇▄▃▂▂▁▁▂▂▁▂▂▂▂▂▃▂▁▂▂▂▂▂▂▃▃▂▂▂▃▃▃▃▃▃▃▃▃</td></tr><tr><td>train_accuracy</td><td>▁▇▇▇████████████████████████████████████</td></tr><tr><td>train_auc_score</td><td>▁▇▇▇▇▇▇▇▇▇▇▇█▇█▇▇███████████████████████</td></tr><tr><td>train_f1_score</td><td>▁▆▆▇▇▇▇▇▇▇▇▇▇▇▇▇▇▇██████████████████████</td></tr><tr><td>train_fpr</td><td>█▂▂▁▁▁▁▁▁▁▁▁▁▁▁▁▁▁▁▁▁▁▁▁▁▁▁▁▁▁▁▁▁▁▁▁▁▁▁▁</td></tr><tr><td>train_loss</td><td>█▃▂▂▂▁▁▁▁▁▁▁▁▁▁▁▁▁▁▁▁▁▁▁▁▁▁▁▁▁▁▁▁▁▁▁▁▁▁▁</td></tr><tr><td>train_tpr</td><td>▅▅▃▂▁▁▃▂▁▁▂▁▁▃▃▃▂▅▅▅▅▆▆▄▆▆█▇▆▅▅▇▇▇▇▇▇▆▇▇</td></tr></table><br/></div><div class=\"wandb-col\"><h3>Run summary:</h3><br/><table class=\"wandb\"><tr><td>epoch</td><td>39</td></tr><tr><td>lr</td><td>0.00015</td></tr><tr><td>test_accuracy</td><td>0.96906</td></tr><tr><td>test_auc_score</td><td>0.94615</td></tr><tr><td>test_f1_score</td><td>0.80231</td></tr><tr><td>test_fpr</td><td>0.02312</td></tr><tr><td>test_loss</td><td>0.03059</td></tr><tr><td>test_tpr</td><td>0.74975</td></tr><tr><td>train_accuracy</td><td>0.97623</td></tr><tr><td>train_auc_score</td><td>0.95043</td></tr><tr><td>train_f1_score</td><td>0.91579</td></tr><tr><td>train_fpr</td><td>0.00528</td></tr><tr><td>train_loss</td><td>0.02946</td></tr><tr><td>train_tpr</td><td>0.77356</td></tr></table><br/></div></div>"
      ],
      "text/plain": [
       "<IPython.core.display.HTML object>"
      ]
     },
     "metadata": {},
     "output_type": "display_data"
    },
    {
     "data": {
      "text/html": [
       " View run <strong style=\"color:#cdcd00\">EM_FocalLoss()_RUS-0.1</strong> at: <a href='https://wandb.ai/dmitrii_fomin_uga/Internship_project/runs/g794ldat' target=\"_blank\">https://wandb.ai/dmitrii_fomin_uga/Internship_project/runs/g794ldat</a><br/>Synced 5 W&B file(s), 0 media file(s), 0 artifact file(s) and 0 other file(s)"
      ],
      "text/plain": [
       "<IPython.core.display.HTML object>"
      ]
     },
     "metadata": {},
     "output_type": "display_data"
    },
    {
     "data": {
      "text/html": [
       "Find logs at: <code>../logs/wandb\\run-20230705_100433-g794ldat\\logs</code>"
      ],
      "text/plain": [
       "<IPython.core.display.HTML object>"
      ]
     },
     "metadata": {},
     "output_type": "display_data"
    },
    {
     "data": {
      "text/html": [
       "Tracking run with wandb version 0.15.4"
      ],
      "text/plain": [
       "<IPython.core.display.HTML object>"
      ]
     },
     "metadata": {},
     "output_type": "display_data"
    },
    {
     "data": {
      "text/html": [
       "Run data is saved locally in <code>../logs/wandb\\run-20230705_100445-k9aj0335</code>"
      ],
      "text/plain": [
       "<IPython.core.display.HTML object>"
      ]
     },
     "metadata": {},
     "output_type": "display_data"
    },
    {
     "data": {
      "text/html": [
       "Syncing run <strong><a href='https://wandb.ai/dmitrii_fomin_uga/Internship_project/runs/k9aj0335' target=\"_blank\">EM_FocalLoss()_RUS-0.15</a></strong> to <a href='https://wandb.ai/dmitrii_fomin_uga/Internship_project' target=\"_blank\">Weights & Biases</a> (<a href='https://wandb.me/run' target=\"_blank\">docs</a>)<br/>"
      ],
      "text/plain": [
       "<IPython.core.display.HTML object>"
      ]
     },
     "metadata": {},
     "output_type": "display_data"
    },
    {
     "data": {
      "text/html": [
       " View project at <a href='https://wandb.ai/dmitrii_fomin_uga/Internship_project' target=\"_blank\">https://wandb.ai/dmitrii_fomin_uga/Internship_project</a>"
      ],
      "text/plain": [
       "<IPython.core.display.HTML object>"
      ]
     },
     "metadata": {},
     "output_type": "display_data"
    },
    {
     "data": {
      "text/html": [
       " View run at <a href='https://wandb.ai/dmitrii_fomin_uga/Internship_project/runs/k9aj0335' target=\"_blank\">https://wandb.ai/dmitrii_fomin_uga/Internship_project/runs/k9aj0335</a>"
      ],
      "text/plain": [
       "<IPython.core.display.HTML object>"
      ]
     },
     "metadata": {},
     "output_type": "display_data"
    },
    {
     "data": {
      "text/html": [
       "Waiting for W&B process to finish... <strong style=\"color:green\">(success).</strong>"
      ],
      "text/plain": [
       "<IPython.core.display.HTML object>"
      ]
     },
     "metadata": {},
     "output_type": "display_data"
    },
    {
     "data": {
      "text/html": [
       "<style>\n",
       "    table.wandb td:nth-child(1) { padding: 0 10px; text-align: left ; width: auto;} td:nth-child(2) {text-align: left ; width: 100%}\n",
       "    .wandb-row { display: flex; flex-direction: row; flex-wrap: wrap; justify-content: flex-start; width: 100% }\n",
       "    .wandb-col { display: flex; flex-direction: column; flex-basis: 100%; flex: 1; padding: 10px; }\n",
       "    </style>\n",
       "<div class=\"wandb-row\"><div class=\"wandb-col\"><h3>Run history:</h3><br/><table class=\"wandb\"><tr><td>epoch</td><td>▁▁▁▂▂▂▂▂▂▃▃▃▃▃▄▄▄▄▄▄▅▅▅▅▅▅▆▆▆▆▆▇▇▇▇▇▇███</td></tr><tr><td>lr</td><td>█▇▇▆▆▅▅▄▄▄▃▃▃▃▃▂▂▂▂▂▂▂▂▂▁▁▁▁▁▁▁▁▁▁▁▁▁▁▁▁</td></tr><tr><td>test_accuracy</td><td>▁▄▇█████████████████████████████████████</td></tr><tr><td>test_auc_score</td><td>▁▆▃▂▃▃▅▄▃▄▄▅▄▄▅▅▆▆▄▇▇▇▇▄▆█▆██▆▆▇▇▇█▇▇▇▆▇</td></tr><tr><td>test_f1_score</td><td>▁▄▆▇▇▇▇▇████████████████████████████████</td></tr><tr><td>test_fpr</td><td>█▅▂▁▁▁▁▁▁▁▁▁▁▁▁▁▁▁▁▁▁▁▁▁▁▁▁▁▁▁▁▁▁▁▁▁▁▁▁▁</td></tr><tr><td>test_loss</td><td>█▄▂▁▁▁▁▁▁▁▁▁▁▁▁▁▁▁▁▁▁▁▁▁▁▁▁▁▁▁▁▁▁▁▁▁▁▁▁▁</td></tr><tr><td>test_tpr</td><td>█▇▅▄▂▂▃▁▁▂▃▂▂▂▃▃▃▂▃▃▂▃▃▂▂▂▃▂▃▂▂▂▃▃▃▃▃▂▂▂</td></tr><tr><td>train_accuracy</td><td>▁▆▇▇▇▇▇█████████████████████████████████</td></tr><tr><td>train_auc_score</td><td>▁▆▇▇▇▇▇▇▇▇▇▇▇██▇▇███▇█▇█▇████▇██████████</td></tr><tr><td>train_f1_score</td><td>▁▄▆▆▆▆▆▇▇▇▇▇▇▇▇▇▇▇▇▇▇▇▇█████▇███████████</td></tr><tr><td>train_fpr</td><td>█▃▂▁▁▁▁▁▁▁▁▁▁▁▁▁▁▁▁▁▁▁▁▁▁▁▁▁▁▁▁▁▁▁▁▁▁▁▁▁</td></tr><tr><td>train_loss</td><td>█▃▂▂▂▁▁▁▁▁▁▁▁▁▁▁▁▁▁▁▁▁▁▁▁▁▁▁▁▁▁▁▁▁▁▁▁▁▁▁</td></tr><tr><td>train_tpr</td><td>▃▃▃▁▁▁▂▂▂▄▃▃▃▃▅▄▅▅▆▆▅▆▆▆▆▆▇▇▆▆▇▆▇▇▆█▇█▆▆</td></tr></table><br/></div><div class=\"wandb-col\"><h3>Run summary:</h3><br/><table class=\"wandb\"><tr><td>epoch</td><td>39</td></tr><tr><td>lr</td><td>0.00015</td></tr><tr><td>test_accuracy</td><td>0.97127</td></tr><tr><td>test_auc_score</td><td>0.90488</td></tr><tr><td>test_f1_score</td><td>0.80714</td></tr><tr><td>test_fpr</td><td>0.01974</td></tr><tr><td>test_loss</td><td>0.02948</td></tr><tr><td>test_tpr</td><td>0.72112</td></tr><tr><td>train_accuracy</td><td>0.98035</td></tr><tr><td>train_auc_score</td><td>0.94914</td></tr><tr><td>train_f1_score</td><td>0.9255</td></tr><tr><td>train_fpr</td><td>0.00429</td></tr><tr><td>train_loss</td><td>0.02819</td></tr><tr><td>train_tpr</td><td>0.8002</td></tr></table><br/></div></div>"
      ],
      "text/plain": [
       "<IPython.core.display.HTML object>"
      ]
     },
     "metadata": {},
     "output_type": "display_data"
    },
    {
     "data": {
      "text/html": [
       " View run <strong style=\"color:#cdcd00\">EM_FocalLoss()_RUS-0.15</strong> at: <a href='https://wandb.ai/dmitrii_fomin_uga/Internship_project/runs/k9aj0335' target=\"_blank\">https://wandb.ai/dmitrii_fomin_uga/Internship_project/runs/k9aj0335</a><br/>Synced 5 W&B file(s), 0 media file(s), 0 artifact file(s) and 0 other file(s)"
      ],
      "text/plain": [
       "<IPython.core.display.HTML object>"
      ]
     },
     "metadata": {},
     "output_type": "display_data"
    },
    {
     "data": {
      "text/html": [
       "Find logs at: <code>../logs/wandb\\run-20230705_100445-k9aj0335\\logs</code>"
      ],
      "text/plain": [
       "<IPython.core.display.HTML object>"
      ]
     },
     "metadata": {},
     "output_type": "display_data"
    },
    {
     "data": {
      "text/html": [
       "Tracking run with wandb version 0.15.4"
      ],
      "text/plain": [
       "<IPython.core.display.HTML object>"
      ]
     },
     "metadata": {},
     "output_type": "display_data"
    },
    {
     "data": {
      "text/html": [
       "Run data is saved locally in <code>../logs/wandb\\run-20230705_100458-7tkz8f7f</code>"
      ],
      "text/plain": [
       "<IPython.core.display.HTML object>"
      ]
     },
     "metadata": {},
     "output_type": "display_data"
    },
    {
     "data": {
      "text/html": [
       "Syncing run <strong><a href='https://wandb.ai/dmitrii_fomin_uga/Internship_project/runs/7tkz8f7f' target=\"_blank\">EM_FocalLoss()_RUS-0.2</a></strong> to <a href='https://wandb.ai/dmitrii_fomin_uga/Internship_project' target=\"_blank\">Weights & Biases</a> (<a href='https://wandb.me/run' target=\"_blank\">docs</a>)<br/>"
      ],
      "text/plain": [
       "<IPython.core.display.HTML object>"
      ]
     },
     "metadata": {},
     "output_type": "display_data"
    },
    {
     "data": {
      "text/html": [
       " View project at <a href='https://wandb.ai/dmitrii_fomin_uga/Internship_project' target=\"_blank\">https://wandb.ai/dmitrii_fomin_uga/Internship_project</a>"
      ],
      "text/plain": [
       "<IPython.core.display.HTML object>"
      ]
     },
     "metadata": {},
     "output_type": "display_data"
    },
    {
     "data": {
      "text/html": [
       " View run at <a href='https://wandb.ai/dmitrii_fomin_uga/Internship_project/runs/7tkz8f7f' target=\"_blank\">https://wandb.ai/dmitrii_fomin_uga/Internship_project/runs/7tkz8f7f</a>"
      ],
      "text/plain": [
       "<IPython.core.display.HTML object>"
      ]
     },
     "metadata": {},
     "output_type": "display_data"
    },
    {
     "data": {
      "text/html": [
       "Waiting for W&B process to finish... <strong style=\"color:green\">(success).</strong>"
      ],
      "text/plain": [
       "<IPython.core.display.HTML object>"
      ]
     },
     "metadata": {},
     "output_type": "display_data"
    },
    {
     "data": {
      "text/html": [
       "<style>\n",
       "    table.wandb td:nth-child(1) { padding: 0 10px; text-align: left ; width: auto;} td:nth-child(2) {text-align: left ; width: 100%}\n",
       "    .wandb-row { display: flex; flex-direction: row; flex-wrap: wrap; justify-content: flex-start; width: 100% }\n",
       "    .wandb-col { display: flex; flex-direction: column; flex-basis: 100%; flex: 1; padding: 10px; }\n",
       "    </style>\n",
       "<div class=\"wandb-row\"><div class=\"wandb-col\"><h3>Run history:</h3><br/><table class=\"wandb\"><tr><td>epoch</td><td>▁▁▁▂▂▂▂▂▂▃▃▃▃▃▄▄▄▄▄▄▅▅▅▅▅▅▆▆▆▆▆▇▇▇▇▇▇███</td></tr><tr><td>lr</td><td>█▇▇▆▆▅▅▄▄▄▃▃▃▃▃▂▂▂▂▂▂▂▂▂▁▁▁▁▁▁▁▁▁▁▁▁▁▁▁▁</td></tr><tr><td>test_accuracy</td><td>▁▄▇█████████████████████████████████████</td></tr><tr><td>test_auc_score</td><td>▁▇▇▆▆▆▆▆▆▆▇▇▆▇▇▇▇▇▇▇▇█▇██▇████████▇█████</td></tr><tr><td>test_f1_score</td><td>▁▄▆▇▇▇▇█▇▇██████████████████████████████</td></tr><tr><td>test_fpr</td><td>█▅▂▁▁▁▁▁▁▁▁▁▁▁▁▁▁▁▁▁▁▁▁▁▁▁▁▁▁▁▁▁▁▁▁▁▁▁▁▁</td></tr><tr><td>test_loss</td><td>█▄▂▁▁▁▁▁▁▁▁▁▁▁▁▁▁▁▁▁▁▁▁▁▁▁▁▁▁▁▁▁▁▁▁▁▁▁▁▁</td></tr><tr><td>test_tpr</td><td>██▆▄▃▃▁▃▃▂▂▂▁▂▃▂▂▃▃▃▃▃▃▃▃▃▃▃▃▃▃▃▄▃▃▄▄▄▄▄</td></tr><tr><td>train_accuracy</td><td>▁▆▇▇█▇██████████████████████████████████</td></tr><tr><td>train_auc_score</td><td>▁▆▆▆▆▆▆▆▇▇▇▇▇▇▇███▇█▇██████████▇████████</td></tr><tr><td>train_f1_score</td><td>▁▅▆▆▇▇▇▇▇▇▇▇▇▇▇▇▇▇▇▇▇███▇███████████████</td></tr><tr><td>train_fpr</td><td>█▃▂▁▁▁▁▁▁▁▁▁▁▁▁▁▁▁▁▁▁▁▁▁▁▁▁▁▁▁▁▁▁▁▁▁▁▁▁▁</td></tr><tr><td>train_loss</td><td>█▃▂▂▂▁▁▁▁▁▁▁▁▁▁▁▁▁▁▁▁▁▁▁▁▁▁▁▁▁▁▁▁▁▁▁▁▁▁▁</td></tr><tr><td>train_tpr</td><td>█▇▅▁▃▄▃▂▃▄▄▃▅▃▄▅▅▅▅▆▆▆▆▇▇▆▆▇▇▇█▇█▇█▇▇▇██</td></tr></table><br/></div><div class=\"wandb-col\"><h3>Run summary:</h3><br/><table class=\"wandb\"><tr><td>epoch</td><td>39</td></tr><tr><td>lr</td><td>0.00015</td></tr><tr><td>test_accuracy</td><td>0.97009</td></tr><tr><td>test_auc_score</td><td>0.92279</td></tr><tr><td>test_f1_score</td><td>0.79998</td></tr><tr><td>test_fpr</td><td>0.02058</td></tr><tr><td>test_loss</td><td>0.02952</td></tr><tr><td>test_tpr</td><td>0.70364</td></tr><tr><td>train_accuracy</td><td>0.98068</td></tr><tr><td>train_auc_score</td><td>0.94249</td></tr><tr><td>train_f1_score</td><td>0.92134</td></tr><tr><td>train_fpr</td><td>0.00462</td></tr><tr><td>train_loss</td><td>0.02801</td></tr><tr><td>train_tpr</td><td>0.7904</td></tr></table><br/></div></div>"
      ],
      "text/plain": [
       "<IPython.core.display.HTML object>"
      ]
     },
     "metadata": {},
     "output_type": "display_data"
    },
    {
     "data": {
      "text/html": [
       " View run <strong style=\"color:#cdcd00\">EM_FocalLoss()_RUS-0.2</strong> at: <a href='https://wandb.ai/dmitrii_fomin_uga/Internship_project/runs/7tkz8f7f' target=\"_blank\">https://wandb.ai/dmitrii_fomin_uga/Internship_project/runs/7tkz8f7f</a><br/>Synced 5 W&B file(s), 0 media file(s), 0 artifact file(s) and 0 other file(s)"
      ],
      "text/plain": [
       "<IPython.core.display.HTML object>"
      ]
     },
     "metadata": {},
     "output_type": "display_data"
    },
    {
     "data": {
      "text/html": [
       "Find logs at: <code>../logs/wandb\\run-20230705_100458-7tkz8f7f\\logs</code>"
      ],
      "text/plain": [
       "<IPython.core.display.HTML object>"
      ]
     },
     "metadata": {},
     "output_type": "display_data"
    },
    {
     "data": {
      "text/html": [
       "Tracking run with wandb version 0.15.4"
      ],
      "text/plain": [
       "<IPython.core.display.HTML object>"
      ]
     },
     "metadata": {},
     "output_type": "display_data"
    },
    {
     "data": {
      "text/html": [
       "Run data is saved locally in <code>../logs/wandb\\run-20230705_100512-7wh77ngl</code>"
      ],
      "text/plain": [
       "<IPython.core.display.HTML object>"
      ]
     },
     "metadata": {},
     "output_type": "display_data"
    },
    {
     "data": {
      "text/html": [
       "Syncing run <strong><a href='https://wandb.ai/dmitrii_fomin_uga/Internship_project/runs/7wh77ngl' target=\"_blank\">EM_FocalLoss()_RUS-0.25</a></strong> to <a href='https://wandb.ai/dmitrii_fomin_uga/Internship_project' target=\"_blank\">Weights & Biases</a> (<a href='https://wandb.me/run' target=\"_blank\">docs</a>)<br/>"
      ],
      "text/plain": [
       "<IPython.core.display.HTML object>"
      ]
     },
     "metadata": {},
     "output_type": "display_data"
    },
    {
     "data": {
      "text/html": [
       " View project at <a href='https://wandb.ai/dmitrii_fomin_uga/Internship_project' target=\"_blank\">https://wandb.ai/dmitrii_fomin_uga/Internship_project</a>"
      ],
      "text/plain": [
       "<IPython.core.display.HTML object>"
      ]
     },
     "metadata": {},
     "output_type": "display_data"
    },
    {
     "data": {
      "text/html": [
       " View run at <a href='https://wandb.ai/dmitrii_fomin_uga/Internship_project/runs/7wh77ngl' target=\"_blank\">https://wandb.ai/dmitrii_fomin_uga/Internship_project/runs/7wh77ngl</a>"
      ],
      "text/plain": [
       "<IPython.core.display.HTML object>"
      ]
     },
     "metadata": {},
     "output_type": "display_data"
    },
    {
     "data": {
      "text/html": [
       "Waiting for W&B process to finish... <strong style=\"color:green\">(success).</strong>"
      ],
      "text/plain": [
       "<IPython.core.display.HTML object>"
      ]
     },
     "metadata": {},
     "output_type": "display_data"
    },
    {
     "data": {
      "text/html": [
       "<style>\n",
       "    table.wandb td:nth-child(1) { padding: 0 10px; text-align: left ; width: auto;} td:nth-child(2) {text-align: left ; width: 100%}\n",
       "    .wandb-row { display: flex; flex-direction: row; flex-wrap: wrap; justify-content: flex-start; width: 100% }\n",
       "    .wandb-col { display: flex; flex-direction: column; flex-basis: 100%; flex: 1; padding: 10px; }\n",
       "    </style>\n",
       "<div class=\"wandb-row\"><div class=\"wandb-col\"><h3>Run history:</h3><br/><table class=\"wandb\"><tr><td>epoch</td><td>▁▁▁▂▂▂▂▂▂▃▃▃▃▃▄▄▄▄▄▄▅▅▅▅▅▅▆▆▆▆▆▇▇▇▇▇▇███</td></tr><tr><td>lr</td><td>█▇▇▆▆▅▅▄▄▄▃▃▃▃▃▂▂▂▂▂▂▂▂▂▁▁▁▁▁▁▁▁▁▁▁▁▁▁▁▁</td></tr><tr><td>test_accuracy</td><td>▁▄▇█████████████████████████████████████</td></tr><tr><td>test_auc_score</td><td>▇▇▆▁▂▆▇▇▆▅▆▇▇▆▆▇▆▆▇▇▇▇█▆▇▆▇▇▇▇▇██▇█▇▇▇█▇</td></tr><tr><td>test_f1_score</td><td>▁▃▆▇▇▇▇▇▇▇▇█████████████████████████████</td></tr><tr><td>test_fpr</td><td>█▅▂▁▁▁▁▁▁▁▁▁▁▁▁▁▁▁▁▁▁▁▁▁▁▁▁▁▁▁▁▁▁▁▁▁▁▁▁▁</td></tr><tr><td>test_loss</td><td>█▅▂▁▁▁▁▁▁▁▁▁▁▁▁▁▁▁▁▁▁▁▁▁▁▁▁▁▁▁▁▁▁▁▁▁▁▁▁▁</td></tr><tr><td>test_tpr</td><td>█▇▅▃▂▃▃▃▂▁▁▃▃▃▃▃▃▃▄▃▃▃▃▄▃▃▄▄▄▃▃▃▄▄▃▃▃▄▄▄</td></tr><tr><td>train_accuracy</td><td>▁▇▇▇▇███████████████████████████████████</td></tr><tr><td>train_auc_score</td><td>▁▆▇▇▇▇▇█████████████████████████████████</td></tr><tr><td>train_f1_score</td><td>▁▆▆▆▆▇▇▇▇▇▇▇▇▇▇▇████████████████████████</td></tr><tr><td>train_fpr</td><td>█▂▂▁▁▁▁▁▁▁▁▁▁▁▁▁▁▁▁▁▁▁▁▁▁▁▁▁▁▁▁▁▁▁▁▁▁▁▁▁</td></tr><tr><td>train_loss</td><td>█▃▂▂▂▁▁▁▁▁▁▁▁▁▁▁▁▁▁▁▁▁▁▁▁▁▁▁▁▁▁▁▁▁▁▁▁▁▁▁</td></tr><tr><td>train_tpr</td><td>▄▆▃▁▁▃▃▃▃▄▄▄▆▆▆▆▇▇▇█▇▇███▇████▇█▇▇█▇██▇█</td></tr></table><br/></div><div class=\"wandb-col\"><h3>Run summary:</h3><br/><table class=\"wandb\"><tr><td>epoch</td><td>39</td></tr><tr><td>lr</td><td>0.00015</td></tr><tr><td>test_accuracy</td><td>0.97234</td></tr><tr><td>test_auc_score</td><td>0.93034</td></tr><tr><td>test_f1_score</td><td>0.81882</td></tr><tr><td>test_fpr</td><td>0.02104</td></tr><tr><td>test_loss</td><td>0.02943</td></tr><tr><td>test_tpr</td><td>0.78535</td></tr><tr><td>train_accuracy</td><td>0.98464</td></tr><tr><td>train_auc_score</td><td>0.9514</td></tr><tr><td>train_f1_score</td><td>0.93865</td></tr><tr><td>train_fpr</td><td>0.00342</td></tr><tr><td>train_loss</td><td>0.02724</td></tr><tr><td>train_tpr</td><td>0.83263</td></tr></table><br/></div></div>"
      ],
      "text/plain": [
       "<IPython.core.display.HTML object>"
      ]
     },
     "metadata": {},
     "output_type": "display_data"
    },
    {
     "data": {
      "text/html": [
       " View run <strong style=\"color:#cdcd00\">EM_FocalLoss()_RUS-0.25</strong> at: <a href='https://wandb.ai/dmitrii_fomin_uga/Internship_project/runs/7wh77ngl' target=\"_blank\">https://wandb.ai/dmitrii_fomin_uga/Internship_project/runs/7wh77ngl</a><br/>Synced 5 W&B file(s), 0 media file(s), 0 artifact file(s) and 0 other file(s)"
      ],
      "text/plain": [
       "<IPython.core.display.HTML object>"
      ]
     },
     "metadata": {},
     "output_type": "display_data"
    },
    {
     "data": {
      "text/html": [
       "Find logs at: <code>../logs/wandb\\run-20230705_100512-7wh77ngl\\logs</code>"
      ],
      "text/plain": [
       "<IPython.core.display.HTML object>"
      ]
     },
     "metadata": {},
     "output_type": "display_data"
    },
    {
     "data": {
      "text/html": [
       "Tracking run with wandb version 0.15.4"
      ],
      "text/plain": [
       "<IPython.core.display.HTML object>"
      ]
     },
     "metadata": {},
     "output_type": "display_data"
    },
    {
     "data": {
      "text/html": [
       "Run data is saved locally in <code>../logs/wandb\\run-20230705_100526-tiiqjny1</code>"
      ],
      "text/plain": [
       "<IPython.core.display.HTML object>"
      ]
     },
     "metadata": {},
     "output_type": "display_data"
    },
    {
     "data": {
      "text/html": [
       "Syncing run <strong><a href='https://wandb.ai/dmitrii_fomin_uga/Internship_project/runs/tiiqjny1' target=\"_blank\">EM_FocalLoss()_RUS-0.3</a></strong> to <a href='https://wandb.ai/dmitrii_fomin_uga/Internship_project' target=\"_blank\">Weights & Biases</a> (<a href='https://wandb.me/run' target=\"_blank\">docs</a>)<br/>"
      ],
      "text/plain": [
       "<IPython.core.display.HTML object>"
      ]
     },
     "metadata": {},
     "output_type": "display_data"
    },
    {
     "data": {
      "text/html": [
       " View project at <a href='https://wandb.ai/dmitrii_fomin_uga/Internship_project' target=\"_blank\">https://wandb.ai/dmitrii_fomin_uga/Internship_project</a>"
      ],
      "text/plain": [
       "<IPython.core.display.HTML object>"
      ]
     },
     "metadata": {},
     "output_type": "display_data"
    },
    {
     "data": {
      "text/html": [
       " View run at <a href='https://wandb.ai/dmitrii_fomin_uga/Internship_project/runs/tiiqjny1' target=\"_blank\">https://wandb.ai/dmitrii_fomin_uga/Internship_project/runs/tiiqjny1</a>"
      ],
      "text/plain": [
       "<IPython.core.display.HTML object>"
      ]
     },
     "metadata": {},
     "output_type": "display_data"
    },
    {
     "data": {
      "text/html": [
       "Waiting for W&B process to finish... <strong style=\"color:green\">(success).</strong>"
      ],
      "text/plain": [
       "<IPython.core.display.HTML object>"
      ]
     },
     "metadata": {},
     "output_type": "display_data"
    },
    {
     "data": {
      "text/html": [
       "<style>\n",
       "    table.wandb td:nth-child(1) { padding: 0 10px; text-align: left ; width: auto;} td:nth-child(2) {text-align: left ; width: 100%}\n",
       "    .wandb-row { display: flex; flex-direction: row; flex-wrap: wrap; justify-content: flex-start; width: 100% }\n",
       "    .wandb-col { display: flex; flex-direction: column; flex-basis: 100%; flex: 1; padding: 10px; }\n",
       "    </style>\n",
       "<div class=\"wandb-row\"><div class=\"wandb-col\"><h3>Run history:</h3><br/><table class=\"wandb\"><tr><td>epoch</td><td>▁▁▁▂▂▂▂▂▂▃▃▃▃▃▄▄▄▄▄▄▅▅▅▅▅▅▆▆▆▆▆▇▇▇▇▇▇███</td></tr><tr><td>lr</td><td>█▇▇▆▆▅▅▄▄▄▃▃▃▃▃▂▂▂▂▂▂▂▂▂▁▁▁▁▁▁▁▁▁▁▁▁▁▁▁▁</td></tr><tr><td>test_accuracy</td><td>▁▆▇█████████████████████████████████████</td></tr><tr><td>test_auc_score</td><td>▂▁▃▄▆▇▇▇▇▆▆▄▄▂▅▆▇▆▆▆▆▇▇▇█▇████▇▇▆███████</td></tr><tr><td>test_f1_score</td><td>▁▅▆▇▇████████▇▇█████████████████████████</td></tr><tr><td>test_fpr</td><td>█▃▂▁▁▁▁▁▁▁▁▁▁▁▁▁▁▁▁▁▁▁▁▁▁▁▁▁▁▁▁▁▁▁▁▁▁▁▁▁</td></tr><tr><td>test_loss</td><td>█▃▂▁▁▁▁▁▁▁▁▁▁▁▁▁▁▁▁▁▁▁▁▁▁▁▁▁▁▁▁▁▁▁▁▁▁▁▁▁</td></tr><tr><td>test_tpr</td><td>█▅▅▄▃▃▃▃▃▂▂▂▂▁▂▂▃▂▂▂▂▂▃▃▃▂▂▂▃▃▃▂▂▃▂▃▃▃▃▃</td></tr><tr><td>train_accuracy</td><td>▁▇▇▇▇█████▇█████████████████████████████</td></tr><tr><td>train_auc_score</td><td>▁▆▆▆▇▇▇▇█▇▆▇▇▇▆▆█▆█▆▇▇▇▇██▇███▇▇▇▇█▇███▆</td></tr><tr><td>train_f1_score</td><td>▁▅▆▆▆▇▇▇▇▇▆▇▆▇▇▇▇▇▇▇███▇▇▇▇█▇▇▇▇▇▇█▇█▇█▇</td></tr><tr><td>train_fpr</td><td>█▂▂▁▁▁▁▁▁▁▁▁▁▁▁▁▁▁▁▁▁▁▁▁▁▁▁▁▁▁▁▁▁▁▁▁▁▁▁▁</td></tr><tr><td>train_loss</td><td>█▃▂▂▁▁▁▁▁▁▁▁▁▁▁▁▁▁▁▁▁▁▁▁▁▁▁▁▁▁▁▁▁▁▁▁▁▁▁▁</td></tr><tr><td>train_tpr</td><td>█▃▅▁▂▃▅▄▅▅▁▅▃▁▅▆▇▄▅▄▆▅▆▆▆▅▆▆▇▇▄▄▅▆▇▄█▆▇▅</td></tr></table><br/></div><div class=\"wandb-col\"><h3>Run summary:</h3><br/><table class=\"wandb\"><tr><td>epoch</td><td>39</td></tr><tr><td>lr</td><td>0.00015</td></tr><tr><td>test_accuracy</td><td>0.96523</td></tr><tr><td>test_auc_score</td><td>0.94071</td></tr><tr><td>test_f1_score</td><td>0.76939</td></tr><tr><td>test_fpr</td><td>0.02322</td></tr><tr><td>test_loss</td><td>0.03033</td></tr><tr><td>test_tpr</td><td>0.63481</td></tr><tr><td>train_accuracy</td><td>0.96567</td></tr><tr><td>train_auc_score</td><td>0.90266</td></tr><tr><td>train_f1_score</td><td>0.87268</td></tr><tr><td>train_fpr</td><td>0.00966</td></tr><tr><td>train_loss</td><td>0.03133</td></tr><tr><td>train_tpr</td><td>0.69994</td></tr></table><br/></div></div>"
      ],
      "text/plain": [
       "<IPython.core.display.HTML object>"
      ]
     },
     "metadata": {},
     "output_type": "display_data"
    },
    {
     "data": {
      "text/html": [
       " View run <strong style=\"color:#cdcd00\">EM_FocalLoss()_RUS-0.3</strong> at: <a href='https://wandb.ai/dmitrii_fomin_uga/Internship_project/runs/tiiqjny1' target=\"_blank\">https://wandb.ai/dmitrii_fomin_uga/Internship_project/runs/tiiqjny1</a><br/>Synced 5 W&B file(s), 0 media file(s), 0 artifact file(s) and 0 other file(s)"
      ],
      "text/plain": [
       "<IPython.core.display.HTML object>"
      ]
     },
     "metadata": {},
     "output_type": "display_data"
    },
    {
     "data": {
      "text/html": [
       "Find logs at: <code>../logs/wandb\\run-20230705_100526-tiiqjny1\\logs</code>"
      ],
      "text/plain": [
       "<IPython.core.display.HTML object>"
      ]
     },
     "metadata": {},
     "output_type": "display_data"
    },
    {
     "data": {
      "text/html": [
       "Tracking run with wandb version 0.15.4"
      ],
      "text/plain": [
       "<IPython.core.display.HTML object>"
      ]
     },
     "metadata": {},
     "output_type": "display_data"
    },
    {
     "data": {
      "text/html": [
       "Run data is saved locally in <code>../logs/wandb\\run-20230705_100540-bdj5b6wv</code>"
      ],
      "text/plain": [
       "<IPython.core.display.HTML object>"
      ]
     },
     "metadata": {},
     "output_type": "display_data"
    },
    {
     "data": {
      "text/html": [
       "Syncing run <strong><a href='https://wandb.ai/dmitrii_fomin_uga/Internship_project/runs/bdj5b6wv' target=\"_blank\">EM_FocalLoss()_RUS-0.35</a></strong> to <a href='https://wandb.ai/dmitrii_fomin_uga/Internship_project' target=\"_blank\">Weights & Biases</a> (<a href='https://wandb.me/run' target=\"_blank\">docs</a>)<br/>"
      ],
      "text/plain": [
       "<IPython.core.display.HTML object>"
      ]
     },
     "metadata": {},
     "output_type": "display_data"
    },
    {
     "data": {
      "text/html": [
       " View project at <a href='https://wandb.ai/dmitrii_fomin_uga/Internship_project' target=\"_blank\">https://wandb.ai/dmitrii_fomin_uga/Internship_project</a>"
      ],
      "text/plain": [
       "<IPython.core.display.HTML object>"
      ]
     },
     "metadata": {},
     "output_type": "display_data"
    },
    {
     "data": {
      "text/html": [
       " View run at <a href='https://wandb.ai/dmitrii_fomin_uga/Internship_project/runs/bdj5b6wv' target=\"_blank\">https://wandb.ai/dmitrii_fomin_uga/Internship_project/runs/bdj5b6wv</a>"
      ],
      "text/plain": [
       "<IPython.core.display.HTML object>"
      ]
     },
     "metadata": {},
     "output_type": "display_data"
    },
    {
     "data": {
      "text/html": [
       "Waiting for W&B process to finish... <strong style=\"color:green\">(success).</strong>"
      ],
      "text/plain": [
       "<IPython.core.display.HTML object>"
      ]
     },
     "metadata": {},
     "output_type": "display_data"
    },
    {
     "data": {
      "text/html": [
       "<style>\n",
       "    table.wandb td:nth-child(1) { padding: 0 10px; text-align: left ; width: auto;} td:nth-child(2) {text-align: left ; width: 100%}\n",
       "    .wandb-row { display: flex; flex-direction: row; flex-wrap: wrap; justify-content: flex-start; width: 100% }\n",
       "    .wandb-col { display: flex; flex-direction: column; flex-basis: 100%; flex: 1; padding: 10px; }\n",
       "    </style>\n",
       "<div class=\"wandb-row\"><div class=\"wandb-col\"><h3>Run history:</h3><br/><table class=\"wandb\"><tr><td>epoch</td><td>▁▁▁▂▂▂▂▂▂▃▃▃▃▃▄▄▄▄▄▄▅▅▅▅▅▅▆▆▆▆▆▇▇▇▇▇▇███</td></tr><tr><td>lr</td><td>█▇▇▆▆▅▅▄▄▄▃▃▃▃▃▂▂▂▂▂▂▂▂▂▁▁▁▁▁▁▁▁▁▁▁▁▁▁▁▁</td></tr><tr><td>test_accuracy</td><td>▁▆▇█████████████████████████████████████</td></tr><tr><td>test_auc_score</td><td>▄▃▃▁▄▃▃▄▃▃▅▅▅▅▅▅▅▅▅▆▆▆▆▇█▇▇▇▇▇████▇▇███▇</td></tr><tr><td>test_f1_score</td><td>▁▅▆▇▇▇█▇████████████████████████████████</td></tr><tr><td>test_fpr</td><td>█▃▂▁▁▁▁▁▁▁▁▁▁▁▁▁▁▁▁▁▁▁▁▁▁▁▁▁▁▁▁▁▁▁▁▁▁▁▁▁</td></tr><tr><td>test_loss</td><td>█▃▂▁▁▁▁▁▁▁▁▁▁▁▁▁▁▁▁▁▁▁▁▁▁▁▁▁▁▁▁▁▁▁▁▁▁▁▁▁</td></tr><tr><td>test_tpr</td><td>█▆▅▄▄▄▃▃▃▁▂▂▂▂▂▂▂▃▂▂▁▂▂▃▃▂▃▂▂▂▂▂▂▂▂▂▂▂▂▂</td></tr><tr><td>train_accuracy</td><td>▁▇▇▇▇▇▇▇████████████████████████████████</td></tr><tr><td>train_auc_score</td><td>▁▆▅▅▅▆▆▆▆▆▅▆▇▆▆▆▇▆▇▆▇▇▇█▇██▇▇▇▇███▇▇▇█▇█</td></tr><tr><td>train_f1_score</td><td>▁▅▆▆▆▆▆▇▇▇▇▇▇▇▇▇▇▇█▇██▇▇▇███▇▇████▇█████</td></tr><tr><td>train_fpr</td><td>█▂▂▁▁▁▁▁▁▁▁▁▁▁▁▁▁▁▁▁▁▁▁▁▁▁▁▁▁▁▁▁▁▁▁▁▁▁▁▁</td></tr><tr><td>train_loss</td><td>█▃▂▂▂▁▁▁▁▁▁▁▁▁▁▁▁▁▁▁▁▁▁▁▁▁▁▁▁▁▁▁▁▁▁▁▁▁▁▁</td></tr><tr><td>train_tpr</td><td>▇▅▄▃▁▃▃▅▄▆▄▆▆▆▆▅▅▅▆▆▇▇▆▇▆▇█▇▅▅▇▇▇█▆▇▇▇█▇</td></tr></table><br/></div><div class=\"wandb-col\"><h3>Run summary:</h3><br/><table class=\"wandb\"><tr><td>epoch</td><td>39</td></tr><tr><td>lr</td><td>0.00015</td></tr><tr><td>test_accuracy</td><td>0.97069</td></tr><tr><td>test_auc_score</td><td>0.94544</td></tr><tr><td>test_f1_score</td><td>0.78479</td></tr><tr><td>test_fpr</td><td>0.01726</td></tr><tr><td>test_loss</td><td>0.02928</td></tr><tr><td>test_tpr</td><td>0.62059</td></tr><tr><td>train_accuracy</td><td>0.98216</td></tr><tr><td>train_auc_score</td><td>0.93592</td></tr><tr><td>train_f1_score</td><td>0.92387</td></tr><tr><td>train_fpr</td><td>0.00299</td></tr><tr><td>train_loss</td><td>0.02746</td></tr><tr><td>train_tpr</td><td>0.78274</td></tr></table><br/></div></div>"
      ],
      "text/plain": [
       "<IPython.core.display.HTML object>"
      ]
     },
     "metadata": {},
     "output_type": "display_data"
    },
    {
     "data": {
      "text/html": [
       " View run <strong style=\"color:#cdcd00\">EM_FocalLoss()_RUS-0.35</strong> at: <a href='https://wandb.ai/dmitrii_fomin_uga/Internship_project/runs/bdj5b6wv' target=\"_blank\">https://wandb.ai/dmitrii_fomin_uga/Internship_project/runs/bdj5b6wv</a><br/>Synced 5 W&B file(s), 0 media file(s), 0 artifact file(s) and 0 other file(s)"
      ],
      "text/plain": [
       "<IPython.core.display.HTML object>"
      ]
     },
     "metadata": {},
     "output_type": "display_data"
    },
    {
     "data": {
      "text/html": [
       "Find logs at: <code>../logs/wandb\\run-20230705_100540-bdj5b6wv\\logs</code>"
      ],
      "text/plain": [
       "<IPython.core.display.HTML object>"
      ]
     },
     "metadata": {},
     "output_type": "display_data"
    },
    {
     "data": {
      "text/html": [
       "Tracking run with wandb version 0.15.4"
      ],
      "text/plain": [
       "<IPython.core.display.HTML object>"
      ]
     },
     "metadata": {},
     "output_type": "display_data"
    },
    {
     "data": {
      "text/html": [
       "Run data is saved locally in <code>../logs/wandb\\run-20230705_100555-95etzwir</code>"
      ],
      "text/plain": [
       "<IPython.core.display.HTML object>"
      ]
     },
     "metadata": {},
     "output_type": "display_data"
    },
    {
     "data": {
      "text/html": [
       "Syncing run <strong><a href='https://wandb.ai/dmitrii_fomin_uga/Internship_project/runs/95etzwir' target=\"_blank\">EM_FocalLoss()_RUS-0.4</a></strong> to <a href='https://wandb.ai/dmitrii_fomin_uga/Internship_project' target=\"_blank\">Weights & Biases</a> (<a href='https://wandb.me/run' target=\"_blank\">docs</a>)<br/>"
      ],
      "text/plain": [
       "<IPython.core.display.HTML object>"
      ]
     },
     "metadata": {},
     "output_type": "display_data"
    },
    {
     "data": {
      "text/html": [
       " View project at <a href='https://wandb.ai/dmitrii_fomin_uga/Internship_project' target=\"_blank\">https://wandb.ai/dmitrii_fomin_uga/Internship_project</a>"
      ],
      "text/plain": [
       "<IPython.core.display.HTML object>"
      ]
     },
     "metadata": {},
     "output_type": "display_data"
    },
    {
     "data": {
      "text/html": [
       " View run at <a href='https://wandb.ai/dmitrii_fomin_uga/Internship_project/runs/95etzwir' target=\"_blank\">https://wandb.ai/dmitrii_fomin_uga/Internship_project/runs/95etzwir</a>"
      ],
      "text/plain": [
       "<IPython.core.display.HTML object>"
      ]
     },
     "metadata": {},
     "output_type": "display_data"
    },
    {
     "data": {
      "text/html": [
       "Waiting for W&B process to finish... <strong style=\"color:green\">(success).</strong>"
      ],
      "text/plain": [
       "<IPython.core.display.HTML object>"
      ]
     },
     "metadata": {},
     "output_type": "display_data"
    },
    {
     "data": {
      "text/html": [
       "<style>\n",
       "    table.wandb td:nth-child(1) { padding: 0 10px; text-align: left ; width: auto;} td:nth-child(2) {text-align: left ; width: 100%}\n",
       "    .wandb-row { display: flex; flex-direction: row; flex-wrap: wrap; justify-content: flex-start; width: 100% }\n",
       "    .wandb-col { display: flex; flex-direction: column; flex-basis: 100%; flex: 1; padding: 10px; }\n",
       "    </style>\n",
       "<div class=\"wandb-row\"><div class=\"wandb-col\"><h3>Run history:</h3><br/><table class=\"wandb\"><tr><td>epoch</td><td>▁▁▁▂▂▂▂▂▂▃▃▃▃▃▄▄▄▄▄▄▅▅▅▅▅▅▆▆▆▆▆▇▇▇▇▇▇███</td></tr><tr><td>lr</td><td>█▇▇▆▆▅▅▄▄▄▃▃▃▃▃▂▂▂▂▂▂▂▂▂▁▁▁▁▁▁▁▁▁▁▁▁▁▁▁▁</td></tr><tr><td>test_accuracy</td><td>▁▆▇█████████████████████████████████████</td></tr><tr><td>test_auc_score</td><td>▁▄▄▆▅▅▇▇▇▇████████████▇█▇▇▇▇█▇██████████</td></tr><tr><td>test_f1_score</td><td>▁▄▆▇▇▇▇▇▇▇▇▇████████████████████████████</td></tr><tr><td>test_fpr</td><td>█▃▂▁▁▁▁▁▁▁▁▁▁▁▁▁▁▁▁▁▁▁▁▁▁▁▁▁▁▁▁▁▁▁▁▁▁▁▁▁</td></tr><tr><td>test_loss</td><td>█▃▂▁▁▁▁▁▁▁▁▁▁▁▁▁▁▁▁▁▁▁▁▁▁▁▁▁▁▁▁▁▁▁▁▁▁▁▁▁</td></tr><tr><td>test_tpr</td><td>█▄▅▄▃▃▂▂▂▁▂▁▃▂▂▁▂▂▂▂▂▂▂▃▂▃▃▂▃▃▃▄▄▃▂▃▃▃▃▃</td></tr><tr><td>train_accuracy</td><td>▁▇▇▇██▇█████████████████████████████████</td></tr><tr><td>train_auc_score</td><td>▁▄▅▆▅▆▇▇█▇▇██▇▇████████████▇███████▇████</td></tr><tr><td>train_f1_score</td><td>▁▅▅▆▆▇▆▇▆▇▇▇▇▇▇▇▇████▇███████▇██████████</td></tr><tr><td>train_fpr</td><td>█▂▂▁▁▁▁▁▁▁▁▁▁▁▁▁▁▁▁▁▁▁▁▁▁▁▁▁▁▁▁▁▁▁▁▁▁▁▁▁</td></tr><tr><td>train_loss</td><td>█▃▂▂▂▁▁▁▁▁▁▁▁▁▁▁▁▁▁▁▁▁▁▁▁▁▁▁▁▁▁▁▁▁▁▁▁▁▁▁</td></tr><tr><td>train_tpr</td><td>▆▂▁▃▁▂▂▃▂▂▄▄▄▄▅▅▄▇▅▆▇▅▇▆▇▆██▆▆▇▆▇▇▆▆▇▆█▇</td></tr></table><br/></div><div class=\"wandb-col\"><h3>Run summary:</h3><br/><table class=\"wandb\"><tr><td>epoch</td><td>39</td></tr><tr><td>lr</td><td>0.00015</td></tr><tr><td>test_accuracy</td><td>0.97066</td></tr><tr><td>test_auc_score</td><td>0.9149</td></tr><tr><td>test_f1_score</td><td>0.79446</td></tr><tr><td>test_fpr</td><td>0.0187</td></tr><tr><td>test_loss</td><td>0.02932</td></tr><tr><td>test_tpr</td><td>0.66756</td></tr><tr><td>train_accuracy</td><td>0.98195</td></tr><tr><td>train_auc_score</td><td>0.94673</td></tr><tr><td>train_f1_score</td><td>0.92117</td></tr><tr><td>train_fpr</td><td>0.00314</td></tr><tr><td>train_loss</td><td>0.02757</td></tr><tr><td>train_tpr</td><td>0.77565</td></tr></table><br/></div></div>"
      ],
      "text/plain": [
       "<IPython.core.display.HTML object>"
      ]
     },
     "metadata": {},
     "output_type": "display_data"
    },
    {
     "data": {
      "text/html": [
       " View run <strong style=\"color:#cdcd00\">EM_FocalLoss()_RUS-0.4</strong> at: <a href='https://wandb.ai/dmitrii_fomin_uga/Internship_project/runs/95etzwir' target=\"_blank\">https://wandb.ai/dmitrii_fomin_uga/Internship_project/runs/95etzwir</a><br/>Synced 5 W&B file(s), 0 media file(s), 0 artifact file(s) and 0 other file(s)"
      ],
      "text/plain": [
       "<IPython.core.display.HTML object>"
      ]
     },
     "metadata": {},
     "output_type": "display_data"
    },
    {
     "data": {
      "text/html": [
       "Find logs at: <code>../logs/wandb\\run-20230705_100555-95etzwir\\logs</code>"
      ],
      "text/plain": [
       "<IPython.core.display.HTML object>"
      ]
     },
     "metadata": {},
     "output_type": "display_data"
    },
    {
     "data": {
      "text/html": [
       "Tracking run with wandb version 0.15.4"
      ],
      "text/plain": [
       "<IPython.core.display.HTML object>"
      ]
     },
     "metadata": {},
     "output_type": "display_data"
    },
    {
     "data": {
      "text/html": [
       "Run data is saved locally in <code>../logs/wandb\\run-20230705_100611-ongpmm60</code>"
      ],
      "text/plain": [
       "<IPython.core.display.HTML object>"
      ]
     },
     "metadata": {},
     "output_type": "display_data"
    },
    {
     "data": {
      "text/html": [
       "Syncing run <strong><a href='https://wandb.ai/dmitrii_fomin_uga/Internship_project/runs/ongpmm60' target=\"_blank\">EM_FocalLoss()_RUS-0.45</a></strong> to <a href='https://wandb.ai/dmitrii_fomin_uga/Internship_project' target=\"_blank\">Weights & Biases</a> (<a href='https://wandb.me/run' target=\"_blank\">docs</a>)<br/>"
      ],
      "text/plain": [
       "<IPython.core.display.HTML object>"
      ]
     },
     "metadata": {},
     "output_type": "display_data"
    },
    {
     "data": {
      "text/html": [
       " View project at <a href='https://wandb.ai/dmitrii_fomin_uga/Internship_project' target=\"_blank\">https://wandb.ai/dmitrii_fomin_uga/Internship_project</a>"
      ],
      "text/plain": [
       "<IPython.core.display.HTML object>"
      ]
     },
     "metadata": {},
     "output_type": "display_data"
    },
    {
     "data": {
      "text/html": [
       " View run at <a href='https://wandb.ai/dmitrii_fomin_uga/Internship_project/runs/ongpmm60' target=\"_blank\">https://wandb.ai/dmitrii_fomin_uga/Internship_project/runs/ongpmm60</a>"
      ],
      "text/plain": [
       "<IPython.core.display.HTML object>"
      ]
     },
     "metadata": {},
     "output_type": "display_data"
    },
    {
     "data": {
      "text/html": [
       "Waiting for W&B process to finish... <strong style=\"color:green\">(success).</strong>"
      ],
      "text/plain": [
       "<IPython.core.display.HTML object>"
      ]
     },
     "metadata": {},
     "output_type": "display_data"
    },
    {
     "data": {
      "text/html": [
       "<style>\n",
       "    table.wandb td:nth-child(1) { padding: 0 10px; text-align: left ; width: auto;} td:nth-child(2) {text-align: left ; width: 100%}\n",
       "    .wandb-row { display: flex; flex-direction: row; flex-wrap: wrap; justify-content: flex-start; width: 100% }\n",
       "    .wandb-col { display: flex; flex-direction: column; flex-basis: 100%; flex: 1; padding: 10px; }\n",
       "    </style>\n",
       "<div class=\"wandb-row\"><div class=\"wandb-col\"><h3>Run history:</h3><br/><table class=\"wandb\"><tr><td>epoch</td><td>▁▁▁▂▂▂▂▂▂▃▃▃▃▃▄▄▄▄▄▄▅▅▅▅▅▅▆▆▆▆▆▇▇▇▇▇▇███</td></tr><tr><td>lr</td><td>█▇▇▆▆▅▅▄▄▄▃▃▃▃▃▂▂▂▂▂▂▂▂▂▁▁▁▁▁▁▁▁▁▁▁▁▁▁▁▁</td></tr><tr><td>test_accuracy</td><td>▁▆▇█████████████████████████████████████</td></tr><tr><td>test_auc_score</td><td>▆█▇██▃▃██▁▆▆█▆▆▇█▇▇▅▆▇▅▅▆▄▆█▇▅▃▄▅▅▆▇▆▆▄▄</td></tr><tr><td>test_f1_score</td><td>▁▅▆▇▇▇▇████▇████████████████████████████</td></tr><tr><td>test_fpr</td><td>█▃▂▁▁▁▁▁▁▁▁▁▁▁▁▁▁▁▁▁▁▁▁▁▁▁▁▁▁▁▁▁▁▁▁▁▁▁▁▁</td></tr><tr><td>test_loss</td><td>█▂▁▁▁▁▁▁▁▁▁▁▁▁▁▁▁▁▁▁▁▁▁▁▁▁▁▁▁▁▁▁▁▁▁▁▁▁▁▁</td></tr><tr><td>test_tpr</td><td>█▇▅▄▃▂▂▂▂▁▂▁▃▃▃▃▃▃▃▃▃▄▄▃▄▃▄▄▄▄▄▄▄▄▄▄▃▃▄▄</td></tr><tr><td>train_accuracy</td><td>▁▇▇▇▇▇██████████████████████████████████</td></tr><tr><td>train_auc_score</td><td>▁▆▇▇▇▇█▇████████▇█████▇▇████████▇███▇███</td></tr><tr><td>train_f1_score</td><td>▁▅▆▆▆▆▇▆▇▇▇▇▇▇▇▇▇▇█▇▇███████████████████</td></tr><tr><td>train_fpr</td><td>█▂▂▁▁▁▁▁▁▁▁▁▁▁▁▁▁▁▁▁▁▁▁▁▁▁▁▁▁▁▁▁▁▁▁▁▁▁▁▁</td></tr><tr><td>train_loss</td><td>█▃▂▂▂▁▁▁▁▁▁▁▁▁▁▁▁▁▁▁▁▁▁▁▁▁▁▁▁▁▁▁▁▁▁▁▁▁▁▁</td></tr><tr><td>train_tpr</td><td>▄▆▂▂▁▂▄▃▃▃▃▃▄▄▅▅▄▅▇▆▆▆▇▇▇█▇█▇▇██▇▇███▇█▇</td></tr></table><br/></div><div class=\"wandb-col\"><h3>Run summary:</h3><br/><table class=\"wandb\"><tr><td>epoch</td><td>39</td></tr><tr><td>lr</td><td>0.00015</td></tr><tr><td>test_accuracy</td><td>0.97304</td></tr><tr><td>test_auc_score</td><td>0.9069</td></tr><tr><td>test_f1_score</td><td>0.81895</td></tr><tr><td>test_fpr</td><td>0.0193</td></tr><tr><td>test_loss</td><td>0.02889</td></tr><tr><td>test_tpr</td><td>0.75287</td></tr><tr><td>train_accuracy</td><td>0.97904</td></tr><tr><td>train_auc_score</td><td>0.94423</td></tr><tr><td>train_f1_score</td><td>0.91804</td></tr><tr><td>train_fpr</td><td>0.00526</td></tr><tr><td>train_loss</td><td>0.02801</td></tr><tr><td>train_tpr</td><td>0.79065</td></tr></table><br/></div></div>"
      ],
      "text/plain": [
       "<IPython.core.display.HTML object>"
      ]
     },
     "metadata": {},
     "output_type": "display_data"
    },
    {
     "data": {
      "text/html": [
       " View run <strong style=\"color:#cdcd00\">EM_FocalLoss()_RUS-0.45</strong> at: <a href='https://wandb.ai/dmitrii_fomin_uga/Internship_project/runs/ongpmm60' target=\"_blank\">https://wandb.ai/dmitrii_fomin_uga/Internship_project/runs/ongpmm60</a><br/>Synced 5 W&B file(s), 0 media file(s), 0 artifact file(s) and 0 other file(s)"
      ],
      "text/plain": [
       "<IPython.core.display.HTML object>"
      ]
     },
     "metadata": {},
     "output_type": "display_data"
    },
    {
     "data": {
      "text/html": [
       "Find logs at: <code>../logs/wandb\\run-20230705_100611-ongpmm60\\logs</code>"
      ],
      "text/plain": [
       "<IPython.core.display.HTML object>"
      ]
     },
     "metadata": {},
     "output_type": "display_data"
    },
    {
     "data": {
      "text/html": [
       "Tracking run with wandb version 0.15.4"
      ],
      "text/plain": [
       "<IPython.core.display.HTML object>"
      ]
     },
     "metadata": {},
     "output_type": "display_data"
    },
    {
     "data": {
      "text/html": [
       "Run data is saved locally in <code>../logs/wandb\\run-20230705_100626-zijn24w5</code>"
      ],
      "text/plain": [
       "<IPython.core.display.HTML object>"
      ]
     },
     "metadata": {},
     "output_type": "display_data"
    },
    {
     "data": {
      "text/html": [
       "Syncing run <strong><a href='https://wandb.ai/dmitrii_fomin_uga/Internship_project/runs/zijn24w5' target=\"_blank\">EM_FocalLoss()_RUS-0.5</a></strong> to <a href='https://wandb.ai/dmitrii_fomin_uga/Internship_project' target=\"_blank\">Weights & Biases</a> (<a href='https://wandb.me/run' target=\"_blank\">docs</a>)<br/>"
      ],
      "text/plain": [
       "<IPython.core.display.HTML object>"
      ]
     },
     "metadata": {},
     "output_type": "display_data"
    },
    {
     "data": {
      "text/html": [
       " View project at <a href='https://wandb.ai/dmitrii_fomin_uga/Internship_project' target=\"_blank\">https://wandb.ai/dmitrii_fomin_uga/Internship_project</a>"
      ],
      "text/plain": [
       "<IPython.core.display.HTML object>"
      ]
     },
     "metadata": {},
     "output_type": "display_data"
    },
    {
     "data": {
      "text/html": [
       " View run at <a href='https://wandb.ai/dmitrii_fomin_uga/Internship_project/runs/zijn24w5' target=\"_blank\">https://wandb.ai/dmitrii_fomin_uga/Internship_project/runs/zijn24w5</a>"
      ],
      "text/plain": [
       "<IPython.core.display.HTML object>"
      ]
     },
     "metadata": {},
     "output_type": "display_data"
    },
    {
     "data": {
      "text/html": [
       "Waiting for W&B process to finish... <strong style=\"color:green\">(success).</strong>"
      ],
      "text/plain": [
       "<IPython.core.display.HTML object>"
      ]
     },
     "metadata": {},
     "output_type": "display_data"
    },
    {
     "data": {
      "text/html": [
       "<style>\n",
       "    table.wandb td:nth-child(1) { padding: 0 10px; text-align: left ; width: auto;} td:nth-child(2) {text-align: left ; width: 100%}\n",
       "    .wandb-row { display: flex; flex-direction: row; flex-wrap: wrap; justify-content: flex-start; width: 100% }\n",
       "    .wandb-col { display: flex; flex-direction: column; flex-basis: 100%; flex: 1; padding: 10px; }\n",
       "    </style>\n",
       "<div class=\"wandb-row\"><div class=\"wandb-col\"><h3>Run history:</h3><br/><table class=\"wandb\"><tr><td>epoch</td><td>▁▁▁▂▂▂▂▂▂▃▃▃▃▃▄▄▄▄▄▄▅▅▅▅▅▅▆▆▆▆▆▇▇▇▇▇▇███</td></tr><tr><td>lr</td><td>█▇▇▆▆▅▅▄▄▄▃▃▃▃▃▂▂▂▂▂▂▂▂▂▁▁▁▁▁▁▁▁▁▁▁▁▁▁▁▁</td></tr><tr><td>test_accuracy</td><td>▁▆▇█████████████████████████████████████</td></tr><tr><td>test_auc_score</td><td>▂▅▁▆▆▇▇▇██▇█▇▇▇▇▇▇▆▇▇▇▇▆▇▇▇▆▇▇▆▆▆▇▇▇▇▇▆▇</td></tr><tr><td>test_f1_score</td><td>▁▅▆▇▇▇▇█▇█▇█▇▇██████████████████████████</td></tr><tr><td>test_fpr</td><td>█▃▂▁▁▁▁▁▁▁▁▁▁▁▁▁▁▁▁▁▁▁▁▁▁▁▁▁▁▁▁▁▁▁▁▁▁▁▁▁</td></tr><tr><td>test_loss</td><td>█▃▂▁▁▁▁▁▁▁▁▁▁▁▁▁▁▁▁▁▁▁▁▁▁▁▁▁▁▁▁▁▁▁▁▁▁▁▁▁</td></tr><tr><td>test_tpr</td><td>█▇▃▃▃▃▁▁▃▂▂▃▃▃▃▃▃▁▃▃▃▄▃▂▃▄▃▄▄▃▃▄▃▃▄▄▄▄▄▄</td></tr><tr><td>train_accuracy</td><td>▁▇▇▇▇███████████████████████████████████</td></tr><tr><td>train_auc_score</td><td>▁▇▆▇▇▇██▇████▇██████▇▇███████▇██████████</td></tr><tr><td>train_f1_score</td><td>▁▅▆▆▆▇▇▇▇▇▇▇▇▇▇▇▇▇▇▇████████████████████</td></tr><tr><td>train_fpr</td><td>█▂▁▁▁▁▁▁▁▁▁▁▁▁▁▁▁▁▁▁▁▁▁▁▁▁▁▁▁▁▁▁▁▁▁▁▁▁▁▁</td></tr><tr><td>train_loss</td><td>█▃▂▂▁▁▁▁▁▁▁▁▁▁▁▁▁▁▁▁▁▁▁▁▁▁▁▁▁▁▁▁▁▁▁▁▁▁▁▁</td></tr><tr><td>train_tpr</td><td>▄▅▁▃▂▂▃▃▂▅▄▆▃▅▇▆▇▄▅▆▆▇█▆▇█▆▇█▇▇█▇▇█████▇</td></tr></table><br/></div><div class=\"wandb-col\"><h3>Run summary:</h3><br/><table class=\"wandb\"><tr><td>epoch</td><td>39</td></tr><tr><td>lr</td><td>0.00015</td></tr><tr><td>test_accuracy</td><td>0.9762</td></tr><tr><td>test_auc_score</td><td>0.93416</td></tr><tr><td>test_f1_score</td><td>0.83855</td></tr><tr><td>test_fpr</td><td>0.01743</td></tr><tr><td>test_loss</td><td>0.02842</td></tr><tr><td>test_tpr</td><td>0.78405</td></tr><tr><td>train_accuracy</td><td>0.98478</td></tr><tr><td>train_auc_score</td><td>0.95359</td></tr><tr><td>train_f1_score</td><td>0.93742</td></tr><tr><td>train_fpr</td><td>0.0031</td></tr><tr><td>train_loss</td><td>0.02681</td></tr><tr><td>train_tpr</td><td>0.82489</td></tr></table><br/></div></div>"
      ],
      "text/plain": [
       "<IPython.core.display.HTML object>"
      ]
     },
     "metadata": {},
     "output_type": "display_data"
    },
    {
     "data": {
      "text/html": [
       " View run <strong style=\"color:#cdcd00\">EM_FocalLoss()_RUS-0.5</strong> at: <a href='https://wandb.ai/dmitrii_fomin_uga/Internship_project/runs/zijn24w5' target=\"_blank\">https://wandb.ai/dmitrii_fomin_uga/Internship_project/runs/zijn24w5</a><br/>Synced 5 W&B file(s), 0 media file(s), 0 artifact file(s) and 0 other file(s)"
      ],
      "text/plain": [
       "<IPython.core.display.HTML object>"
      ]
     },
     "metadata": {},
     "output_type": "display_data"
    },
    {
     "data": {
      "text/html": [
       "Find logs at: <code>../logs/wandb\\run-20230705_100626-zijn24w5\\logs</code>"
      ],
      "text/plain": [
       "<IPython.core.display.HTML object>"
      ]
     },
     "metadata": {},
     "output_type": "display_data"
    },
    {
     "data": {
      "text/html": [
       "Tracking run with wandb version 0.15.4"
      ],
      "text/plain": [
       "<IPython.core.display.HTML object>"
      ]
     },
     "metadata": {},
     "output_type": "display_data"
    },
    {
     "data": {
      "text/html": [
       "Run data is saved locally in <code>../logs/wandb\\run-20230705_100641-c62ew9iq</code>"
      ],
      "text/plain": [
       "<IPython.core.display.HTML object>"
      ]
     },
     "metadata": {},
     "output_type": "display_data"
    },
    {
     "data": {
      "text/html": [
       "Syncing run <strong><a href='https://wandb.ai/dmitrii_fomin_uga/Internship_project/runs/c62ew9iq' target=\"_blank\">EM_FocalLoss()_RUS-0.55</a></strong> to <a href='https://wandb.ai/dmitrii_fomin_uga/Internship_project' target=\"_blank\">Weights & Biases</a> (<a href='https://wandb.me/run' target=\"_blank\">docs</a>)<br/>"
      ],
      "text/plain": [
       "<IPython.core.display.HTML object>"
      ]
     },
     "metadata": {},
     "output_type": "display_data"
    },
    {
     "data": {
      "text/html": [
       " View project at <a href='https://wandb.ai/dmitrii_fomin_uga/Internship_project' target=\"_blank\">https://wandb.ai/dmitrii_fomin_uga/Internship_project</a>"
      ],
      "text/plain": [
       "<IPython.core.display.HTML object>"
      ]
     },
     "metadata": {},
     "output_type": "display_data"
    },
    {
     "data": {
      "text/html": [
       " View run at <a href='https://wandb.ai/dmitrii_fomin_uga/Internship_project/runs/c62ew9iq' target=\"_blank\">https://wandb.ai/dmitrii_fomin_uga/Internship_project/runs/c62ew9iq</a>"
      ],
      "text/plain": [
       "<IPython.core.display.HTML object>"
      ]
     },
     "metadata": {},
     "output_type": "display_data"
    },
    {
     "data": {
      "text/html": [
       "Waiting for W&B process to finish... <strong style=\"color:green\">(success).</strong>"
      ],
      "text/plain": [
       "<IPython.core.display.HTML object>"
      ]
     },
     "metadata": {},
     "output_type": "display_data"
    },
    {
     "data": {
      "text/html": [
       "<style>\n",
       "    table.wandb td:nth-child(1) { padding: 0 10px; text-align: left ; width: auto;} td:nth-child(2) {text-align: left ; width: 100%}\n",
       "    .wandb-row { display: flex; flex-direction: row; flex-wrap: wrap; justify-content: flex-start; width: 100% }\n",
       "    .wandb-col { display: flex; flex-direction: column; flex-basis: 100%; flex: 1; padding: 10px; }\n",
       "    </style>\n",
       "<div class=\"wandb-row\"><div class=\"wandb-col\"><h3>Run history:</h3><br/><table class=\"wandb\"><tr><td>epoch</td><td>▁▁▁▂▂▂▂▂▂▃▃▃▃▃▄▄▄▄▄▄▅▅▅▅▅▅▆▆▆▆▆▇▇▇▇▇▇███</td></tr><tr><td>lr</td><td>█▇▇▆▆▅▅▄▄▄▃▃▃▃▃▂▂▂▂▂▂▂▂▂▁▁▁▁▁▁▁▁▁▁▁▁▁▁▁▁</td></tr><tr><td>test_accuracy</td><td>▁▆▇█████████████████████████████████████</td></tr><tr><td>test_auc_score</td><td>▃▄▁▂▅▂▂▂▃▄▄▅▅▅▆▆▆▆█▆▅▆▇▆▇▆▇▇▆▇▆▆▇▆▇▇▇▇▆█</td></tr><tr><td>test_f1_score</td><td>▁▄▆▇▇▇▇▇████████████████████████████████</td></tr><tr><td>test_fpr</td><td>█▃▂▁▁▁▁▁▁▁▁▁▁▁▁▁▁▁▁▁▁▁▁▁▁▁▁▁▁▁▁▁▁▁▁▁▁▁▁▁</td></tr><tr><td>test_loss</td><td>█▃▂▁▁▁▁▁▁▁▁▁▁▁▁▁▁▁▁▁▁▁▁▁▁▁▁▁▁▁▁▁▁▁▁▁▁▁▁▁</td></tr><tr><td>test_tpr</td><td>█▇▅▄▄▃▃▂▂▂▁▂▂▂▃▂▃▁▄▃▃▂▃▂▃▃▄▃▃▃▃▃▄▃▄▄▄▄▄▄</td></tr><tr><td>train_accuracy</td><td>▁▇▇▇▇▇██████████████████████████████████</td></tr><tr><td>train_auc_score</td><td>▁▆▇▆▇▇█▇▇▇██▇████████████████████▇██▇███</td></tr><tr><td>train_f1_score</td><td>▁▅▆▆▆▆▇▇▇▇▇▇▇▇▇▇▇▇▇▇▇███████████████████</td></tr><tr><td>train_fpr</td><td>█▂▂▁▁▁▁▁▁▁▁▁▁▁▁▁▁▁▁▁▁▁▁▁▁▁▁▁▁▁▁▁▁▁▁▁▁▁▁▁</td></tr><tr><td>train_loss</td><td>█▃▂▂▂▁▁▁▁▁▁▁▁▁▁▁▁▁▁▁▁▁▁▁▁▁▁▁▁▁▁▁▁▁▁▁▁▁▁▁</td></tr><tr><td>train_tpr</td><td>▄▅▄▁▁▂▃▄▃▄▄▄▅▄▆▆▅▅▅▆▆▇▆▆▇▇▆█▇▇██▇▇▇█████</td></tr></table><br/></div><div class=\"wandb-col\"><h3>Run summary:</h3><br/><table class=\"wandb\"><tr><td>epoch</td><td>39</td></tr><tr><td>lr</td><td>0.00015</td></tr><tr><td>test_accuracy</td><td>0.97402</td></tr><tr><td>test_auc_score</td><td>0.92914</td></tr><tr><td>test_f1_score</td><td>0.82333</td></tr><tr><td>test_fpr</td><td>0.019</td></tr><tr><td>test_loss</td><td>0.02893</td></tr><tr><td>test_tpr</td><td>0.76769</td></tr><tr><td>train_accuracy</td><td>0.98247</td></tr><tr><td>train_auc_score</td><td>0.92895</td></tr><tr><td>train_f1_score</td><td>0.92444</td></tr><tr><td>train_fpr</td><td>0.00527</td></tr><tr><td>train_loss</td><td>0.0274</td></tr><tr><td>train_tpr</td><td>0.81122</td></tr></table><br/></div></div>"
      ],
      "text/plain": [
       "<IPython.core.display.HTML object>"
      ]
     },
     "metadata": {},
     "output_type": "display_data"
    },
    {
     "data": {
      "text/html": [
       " View run <strong style=\"color:#cdcd00\">EM_FocalLoss()_RUS-0.55</strong> at: <a href='https://wandb.ai/dmitrii_fomin_uga/Internship_project/runs/c62ew9iq' target=\"_blank\">https://wandb.ai/dmitrii_fomin_uga/Internship_project/runs/c62ew9iq</a><br/>Synced 5 W&B file(s), 0 media file(s), 0 artifact file(s) and 0 other file(s)"
      ],
      "text/plain": [
       "<IPython.core.display.HTML object>"
      ]
     },
     "metadata": {},
     "output_type": "display_data"
    },
    {
     "data": {
      "text/html": [
       "Find logs at: <code>../logs/wandb\\run-20230705_100641-c62ew9iq\\logs</code>"
      ],
      "text/plain": [
       "<IPython.core.display.HTML object>"
      ]
     },
     "metadata": {},
     "output_type": "display_data"
    },
    {
     "data": {
      "text/html": [
       "Tracking run with wandb version 0.15.4"
      ],
      "text/plain": [
       "<IPython.core.display.HTML object>"
      ]
     },
     "metadata": {},
     "output_type": "display_data"
    },
    {
     "data": {
      "text/html": [
       "Run data is saved locally in <code>../logs/wandb\\run-20230705_100656-by319lif</code>"
      ],
      "text/plain": [
       "<IPython.core.display.HTML object>"
      ]
     },
     "metadata": {},
     "output_type": "display_data"
    },
    {
     "data": {
      "text/html": [
       "Syncing run <strong><a href='https://wandb.ai/dmitrii_fomin_uga/Internship_project/runs/by319lif' target=\"_blank\">EM_FocalLoss()_RUS-0.6</a></strong> to <a href='https://wandb.ai/dmitrii_fomin_uga/Internship_project' target=\"_blank\">Weights & Biases</a> (<a href='https://wandb.me/run' target=\"_blank\">docs</a>)<br/>"
      ],
      "text/plain": [
       "<IPython.core.display.HTML object>"
      ]
     },
     "metadata": {},
     "output_type": "display_data"
    },
    {
     "data": {
      "text/html": [
       " View project at <a href='https://wandb.ai/dmitrii_fomin_uga/Internship_project' target=\"_blank\">https://wandb.ai/dmitrii_fomin_uga/Internship_project</a>"
      ],
      "text/plain": [
       "<IPython.core.display.HTML object>"
      ]
     },
     "metadata": {},
     "output_type": "display_data"
    },
    {
     "data": {
      "text/html": [
       " View run at <a href='https://wandb.ai/dmitrii_fomin_uga/Internship_project/runs/by319lif' target=\"_blank\">https://wandb.ai/dmitrii_fomin_uga/Internship_project/runs/by319lif</a>"
      ],
      "text/plain": [
       "<IPython.core.display.HTML object>"
      ]
     },
     "metadata": {},
     "output_type": "display_data"
    },
    {
     "data": {
      "text/html": [
       "Waiting for W&B process to finish... <strong style=\"color:green\">(success).</strong>"
      ],
      "text/plain": [
       "<IPython.core.display.HTML object>"
      ]
     },
     "metadata": {},
     "output_type": "display_data"
    },
    {
     "data": {
      "text/html": [
       "<style>\n",
       "    table.wandb td:nth-child(1) { padding: 0 10px; text-align: left ; width: auto;} td:nth-child(2) {text-align: left ; width: 100%}\n",
       "    .wandb-row { display: flex; flex-direction: row; flex-wrap: wrap; justify-content: flex-start; width: 100% }\n",
       "    .wandb-col { display: flex; flex-direction: column; flex-basis: 100%; flex: 1; padding: 10px; }\n",
       "    </style>\n",
       "<div class=\"wandb-row\"><div class=\"wandb-col\"><h3>Run history:</h3><br/><table class=\"wandb\"><tr><td>epoch</td><td>▁▁▁▂▂▂▂▂▂▃▃▃▃▃▄▄▄▄▄▄▅▅▅▅▅▅▆▆▆▆▆▇▇▇▇▇▇███</td></tr><tr><td>lr</td><td>█▇▇▆▆▅▅▄▄▄▃▃▃▃▃▂▂▂▂▂▂▂▂▂▁▁▁▁▁▁▁▁▁▁▁▁▁▁▁▁</td></tr><tr><td>test_accuracy</td><td>▁▅██████████████████████████████████████</td></tr><tr><td>test_auc_score</td><td>▂▁▂▁▄▅▄▅▅▇▆▆▆▆▆▆▇▇▇▇▆▅▆▇▆▇▇▇▇▇▇▇▇▇▇▇█▇▇█</td></tr><tr><td>test_f1_score</td><td>▁▃▇▇▇▇▇▇▇█▇███████████▇█████████████████</td></tr><tr><td>test_fpr</td><td>█▄▁▁▁▁▁▁▁▁▁▁▁▁▁▁▁▁▁▁▁▁▁▁▁▁▁▁▁▁▁▁▁▁▁▁▁▁▁▁</td></tr><tr><td>test_loss</td><td>█▄▁▁▁▁▁▁▁▁▁▁▁▁▁▁▁▁▁▁▁▁▁▁▁▁▁▁▁▁▁▁▁▁▁▁▁▁▁▁</td></tr><tr><td>test_tpr</td><td>█▇▄▃▄▃▃▂▁▃▁▄▁▄▂▂▂▃▄▄▃▁▁▃▄▃▂▃▃▃▃▃▃▄▄▃▃▄▃▂</td></tr><tr><td>train_accuracy</td><td>▁▇▇▇▇▇██████████████████████████████████</td></tr><tr><td>train_auc_score</td><td>▁▅▆▇▇▇▇▇█▇██████████▇█▇▇▇▇██████████▇▇██</td></tr><tr><td>train_f1_score</td><td>▁▅▆▆▆▆▇▆▇▇▇▇▇▇▇▇▇▇▇█▇███████████████████</td></tr><tr><td>train_fpr</td><td>█▂▁▁▁▁▁▁▁▁▁▁▁▁▁▁▁▁▁▁▁▁▁▁▁▁▁▁▁▁▁▁▁▁▁▁▁▁▁▁</td></tr><tr><td>train_loss</td><td>█▃▂▂▂▁▁▁▁▁▁▁▁▁▁▁▁▁▁▁▁▁▁▁▁▁▁▁▁▁▁▁▁▁▁▁▁▁▁▁</td></tr><tr><td>train_tpr</td><td>▄▂▁▁▂▂▃▃▃▃▄▄▅▄▆▆▆▆▆▇▇▆▇▆▆█▇██▇█▇▇███▇███</td></tr></table><br/></div><div class=\"wandb-col\"><h3>Run summary:</h3><br/><table class=\"wandb\"><tr><td>epoch</td><td>39</td></tr><tr><td>lr</td><td>0.00015</td></tr><tr><td>test_accuracy</td><td>0.97267</td></tr><tr><td>test_auc_score</td><td>0.94593</td></tr><tr><td>test_f1_score</td><td>0.80592</td></tr><tr><td>test_fpr</td><td>0.0168</td></tr><tr><td>test_loss</td><td>0.02878</td></tr><tr><td>test_tpr</td><td>0.68235</td></tr><tr><td>train_accuracy</td><td>0.9845</td></tr><tr><td>train_auc_score</td><td>0.9502</td></tr><tr><td>train_f1_score</td><td>0.93586</td></tr><tr><td>train_fpr</td><td>0.00406</td></tr><tr><td>train_loss</td><td>0.02704</td></tr><tr><td>train_tpr</td><td>0.83227</td></tr></table><br/></div></div>"
      ],
      "text/plain": [
       "<IPython.core.display.HTML object>"
      ]
     },
     "metadata": {},
     "output_type": "display_data"
    },
    {
     "data": {
      "text/html": [
       " View run <strong style=\"color:#cdcd00\">EM_FocalLoss()_RUS-0.6</strong> at: <a href='https://wandb.ai/dmitrii_fomin_uga/Internship_project/runs/by319lif' target=\"_blank\">https://wandb.ai/dmitrii_fomin_uga/Internship_project/runs/by319lif</a><br/>Synced 5 W&B file(s), 0 media file(s), 0 artifact file(s) and 0 other file(s)"
      ],
      "text/plain": [
       "<IPython.core.display.HTML object>"
      ]
     },
     "metadata": {},
     "output_type": "display_data"
    },
    {
     "data": {
      "text/html": [
       "Find logs at: <code>../logs/wandb\\run-20230705_100656-by319lif\\logs</code>"
      ],
      "text/plain": [
       "<IPython.core.display.HTML object>"
      ]
     },
     "metadata": {},
     "output_type": "display_data"
    },
    {
     "data": {
      "text/html": [
       "Tracking run with wandb version 0.15.4"
      ],
      "text/plain": [
       "<IPython.core.display.HTML object>"
      ]
     },
     "metadata": {},
     "output_type": "display_data"
    },
    {
     "data": {
      "text/html": [
       "Run data is saved locally in <code>../logs/wandb\\run-20230705_100710-1q8o9fj0</code>"
      ],
      "text/plain": [
       "<IPython.core.display.HTML object>"
      ]
     },
     "metadata": {},
     "output_type": "display_data"
    },
    {
     "data": {
      "text/html": [
       "Syncing run <strong><a href='https://wandb.ai/dmitrii_fomin_uga/Internship_project/runs/1q8o9fj0' target=\"_blank\">EM_FocalLoss()_RUS-0.7</a></strong> to <a href='https://wandb.ai/dmitrii_fomin_uga/Internship_project' target=\"_blank\">Weights & Biases</a> (<a href='https://wandb.me/run' target=\"_blank\">docs</a>)<br/>"
      ],
      "text/plain": [
       "<IPython.core.display.HTML object>"
      ]
     },
     "metadata": {},
     "output_type": "display_data"
    },
    {
     "data": {
      "text/html": [
       " View project at <a href='https://wandb.ai/dmitrii_fomin_uga/Internship_project' target=\"_blank\">https://wandb.ai/dmitrii_fomin_uga/Internship_project</a>"
      ],
      "text/plain": [
       "<IPython.core.display.HTML object>"
      ]
     },
     "metadata": {},
     "output_type": "display_data"
    },
    {
     "data": {
      "text/html": [
       " View run at <a href='https://wandb.ai/dmitrii_fomin_uga/Internship_project/runs/1q8o9fj0' target=\"_blank\">https://wandb.ai/dmitrii_fomin_uga/Internship_project/runs/1q8o9fj0</a>"
      ],
      "text/plain": [
       "<IPython.core.display.HTML object>"
      ]
     },
     "metadata": {},
     "output_type": "display_data"
    },
    {
     "data": {
      "text/html": [
       "Waiting for W&B process to finish... <strong style=\"color:green\">(success).</strong>"
      ],
      "text/plain": [
       "<IPython.core.display.HTML object>"
      ]
     },
     "metadata": {},
     "output_type": "display_data"
    },
    {
     "data": {
      "text/html": [
       "<style>\n",
       "    table.wandb td:nth-child(1) { padding: 0 10px; text-align: left ; width: auto;} td:nth-child(2) {text-align: left ; width: 100%}\n",
       "    .wandb-row { display: flex; flex-direction: row; flex-wrap: wrap; justify-content: flex-start; width: 100% }\n",
       "    .wandb-col { display: flex; flex-direction: column; flex-basis: 100%; flex: 1; padding: 10px; }\n",
       "    </style>\n",
       "<div class=\"wandb-row\"><div class=\"wandb-col\"><h3>Run history:</h3><br/><table class=\"wandb\"><tr><td>epoch</td><td>▁▁▁▂▂▂▂▂▂▃▃▃▃▃▄▄▄▄▄▄▅▅▅▅▅▅▆▆▆▆▆▇▇▇▇▇▇███</td></tr><tr><td>lr</td><td>█▇▇▆▆▅▅▄▄▄▃▃▃▃▃▂▂▂▂▂▂▂▂▂▁▁▁▁▁▁▁▁▁▁▁▁▁▁▁▁</td></tr><tr><td>test_accuracy</td><td>▁▇██████████████████████████████████████</td></tr><tr><td>test_auc_score</td><td>▁▃▄▆▄▅▆▆▇▇▇▇▇▇█▇▇▇▇▇▇▆▇▇▇▇██▇█▇█▇▇█▇▇▇▇▇</td></tr><tr><td>test_f1_score</td><td>▁▅▇▇▇▇▇▇▇▇▇██▇█▇████▇███████████████████</td></tr><tr><td>test_fpr</td><td>█▂▁▁▁▁▁▁▁▁▁▁▁▁▁▁▁▁▁▁▁▁▁▁▁▁▁▁▁▁▁▁▁▁▁▁▁▁▁▁</td></tr><tr><td>test_loss</td><td>█▂▁▁▁▁▁▁▁▁▁▁▁▁▁▁▁▁▁▁▁▁▁▁▁▁▁▁▁▁▁▁▁▁▁▁▁▁▁▁</td></tr><tr><td>test_tpr</td><td>█▆▄▃▄▄▄▃▃▃▃▄▃▂▄▁▅▄▃▄▄▄▄▄▄▅▅▄▄▄▅▄▄▅▅▅▄▅▅▅</td></tr><tr><td>train_accuracy</td><td>▁▇▇▇▇▇▇▇▇███████████████████████████████</td></tr><tr><td>train_auc_score</td><td>▁▆▆▇▇▇█▇▇██████▇▇▇▇███████▇█████▇███████</td></tr><tr><td>train_f1_score</td><td>▁▅▅▆▆▆▆▆▇▇▇▇▇▇▇▇▇▇██▇▇██████████████████</td></tr><tr><td>train_fpr</td><td>█▂▁▁▁▁▁▁▁▁▁▁▁▁▁▁▁▁▁▁▁▁▁▁▁▁▁▁▁▁▁▁▁▁▁▁▁▁▁▁</td></tr><tr><td>train_loss</td><td>█▃▂▂▂▁▁▁▁▁▁▁▁▁▁▁▁▁▁▁▁▁▁▁▁▁▁▁▁▁▁▁▁▁▁▁▁▁▁▁</td></tr><tr><td>train_tpr</td><td>▅▄▁▂▂▃▃▃▄▄▅▅▆▇▆▆▆▆▇▇▇▇▇▇▇▇██▇█▇▇▇███████</td></tr></table><br/></div><div class=\"wandb-col\"><h3>Run summary:</h3><br/><table class=\"wandb\"><tr><td>epoch</td><td>39</td></tr><tr><td>lr</td><td>0.00015</td></tr><tr><td>test_accuracy</td><td>0.97555</td></tr><tr><td>test_auc_score</td><td>0.94408</td></tr><tr><td>test_f1_score</td><td>0.83742</td></tr><tr><td>test_fpr</td><td>0.01767</td></tr><tr><td>test_loss</td><td>0.02846</td></tr><tr><td>test_tpr</td><td>0.78676</td></tr><tr><td>train_accuracy</td><td>0.98455</td></tr><tr><td>train_auc_score</td><td>0.94948</td></tr><tr><td>train_f1_score</td><td>0.93663</td></tr><tr><td>train_fpr</td><td>0.00342</td></tr><tr><td>train_loss</td><td>0.02695</td></tr><tr><td>train_tpr</td><td>0.82831</td></tr></table><br/></div></div>"
      ],
      "text/plain": [
       "<IPython.core.display.HTML object>"
      ]
     },
     "metadata": {},
     "output_type": "display_data"
    },
    {
     "data": {
      "text/html": [
       " View run <strong style=\"color:#cdcd00\">EM_FocalLoss()_RUS-0.7</strong> at: <a href='https://wandb.ai/dmitrii_fomin_uga/Internship_project/runs/1q8o9fj0' target=\"_blank\">https://wandb.ai/dmitrii_fomin_uga/Internship_project/runs/1q8o9fj0</a><br/>Synced 5 W&B file(s), 0 media file(s), 0 artifact file(s) and 0 other file(s)"
      ],
      "text/plain": [
       "<IPython.core.display.HTML object>"
      ]
     },
     "metadata": {},
     "output_type": "display_data"
    },
    {
     "data": {
      "text/html": [
       "Find logs at: <code>../logs/wandb\\run-20230705_100710-1q8o9fj0\\logs</code>"
      ],
      "text/plain": [
       "<IPython.core.display.HTML object>"
      ]
     },
     "metadata": {},
     "output_type": "display_data"
    },
    {
     "data": {
      "text/html": [
       "Tracking run with wandb version 0.15.4"
      ],
      "text/plain": [
       "<IPython.core.display.HTML object>"
      ]
     },
     "metadata": {},
     "output_type": "display_data"
    },
    {
     "data": {
      "text/html": [
       "Run data is saved locally in <code>../logs/wandb\\run-20230705_100722-z73vfatd</code>"
      ],
      "text/plain": [
       "<IPython.core.display.HTML object>"
      ]
     },
     "metadata": {},
     "output_type": "display_data"
    },
    {
     "data": {
      "text/html": [
       "Syncing run <strong><a href='https://wandb.ai/dmitrii_fomin_uga/Internship_project/runs/z73vfatd' target=\"_blank\">EM_FocalLoss()_RUS-0.8</a></strong> to <a href='https://wandb.ai/dmitrii_fomin_uga/Internship_project' target=\"_blank\">Weights & Biases</a> (<a href='https://wandb.me/run' target=\"_blank\">docs</a>)<br/>"
      ],
      "text/plain": [
       "<IPython.core.display.HTML object>"
      ]
     },
     "metadata": {},
     "output_type": "display_data"
    },
    {
     "data": {
      "text/html": [
       " View project at <a href='https://wandb.ai/dmitrii_fomin_uga/Internship_project' target=\"_blank\">https://wandb.ai/dmitrii_fomin_uga/Internship_project</a>"
      ],
      "text/plain": [
       "<IPython.core.display.HTML object>"
      ]
     },
     "metadata": {},
     "output_type": "display_data"
    },
    {
     "data": {
      "text/html": [
       " View run at <a href='https://wandb.ai/dmitrii_fomin_uga/Internship_project/runs/z73vfatd' target=\"_blank\">https://wandb.ai/dmitrii_fomin_uga/Internship_project/runs/z73vfatd</a>"
      ],
      "text/plain": [
       "<IPython.core.display.HTML object>"
      ]
     },
     "metadata": {},
     "output_type": "display_data"
    },
    {
     "data": {
      "text/html": [
       "Waiting for W&B process to finish... <strong style=\"color:green\">(success).</strong>"
      ],
      "text/plain": [
       "<IPython.core.display.HTML object>"
      ]
     },
     "metadata": {},
     "output_type": "display_data"
    },
    {
     "data": {
      "text/html": [
       "<style>\n",
       "    table.wandb td:nth-child(1) { padding: 0 10px; text-align: left ; width: auto;} td:nth-child(2) {text-align: left ; width: 100%}\n",
       "    .wandb-row { display: flex; flex-direction: row; flex-wrap: wrap; justify-content: flex-start; width: 100% }\n",
       "    .wandb-col { display: flex; flex-direction: column; flex-basis: 100%; flex: 1; padding: 10px; }\n",
       "    </style>\n",
       "<div class=\"wandb-row\"><div class=\"wandb-col\"><h3>Run history:</h3><br/><table class=\"wandb\"><tr><td>epoch</td><td>▁▁▁▂▂▂▂▂▂▃▃▃▃▃▄▄▄▄▄▄▅▅▅▅▅▅▆▆▆▆▆▇▇▇▇▇▇███</td></tr><tr><td>lr</td><td>█▇▇▆▆▅▅▄▄▄▃▃▃▃▃▂▂▂▂▂▂▂▂▂▁▁▁▁▁▁▁▁▁▁▁▁▁▁▁▁</td></tr><tr><td>test_accuracy</td><td>▁▅▇█████████████████████████████████████</td></tr><tr><td>test_auc_score</td><td>▁▅▆▆▆▇▇▇▇▇▇▇▇▇▇▇▇▇▇▇▇▇█▇▇▇▇▇▇████████▇██</td></tr><tr><td>test_f1_score</td><td>▁▄▆▇▇▇▇▇▇█████▇█████████████████████████</td></tr><tr><td>test_fpr</td><td>█▄▂▁▁▁▁▁▁▁▁▁▁▁▁▁▁▁▁▁▁▁▁▁▁▁▁▁▁▁▁▁▁▁▁▁▁▁▁▁</td></tr><tr><td>test_loss</td><td>█▃▂▁▁▁▁▁▁▁▁▁▁▁▁▁▁▁▁▁▁▁▁▁▁▁▁▁▁▁▁▁▁▁▁▁▁▁▁▁</td></tr><tr><td>test_tpr</td><td>█▇▅▃▃▃▃▂▂▂▁▂▃▃▁▂▃▃▃▃▃▃▃▃▃▃▃▃▃▃▄▃▃▃▄▄▄▄▄▄</td></tr><tr><td>train_accuracy</td><td>▁▇▇▇█▇██████████████████████████████████</td></tr><tr><td>train_auc_score</td><td>▁▆▇▇▇▇▇▇▇▇██▇███▇███████████████████████</td></tr><tr><td>train_f1_score</td><td>▁▅▆▆▇▆▇▇▇▇▇▇▇▇▇▇▇▇▇█████████████████████</td></tr><tr><td>train_fpr</td><td>█▂▂▁▁▁▁▁▁▁▁▁▁▁▁▁▁▁▁▁▁▁▁▁▁▁▁▁▁▁▁▁▁▁▁▁▁▁▁▁</td></tr><tr><td>train_loss</td><td>█▃▂▂▁▁▁▁▁▁▁▁▁▁▁▁▁▁▁▁▁▁▁▁▁▁▁▁▁▁▁▁▁▁▁▁▁▁▁▁</td></tr><tr><td>train_tpr</td><td>▅▄▃▂▂▁▃▂▄▅▃▄▅▄▄▄▄▆▅▅▆▇▇▆▇▇▇▇▇███▇████▇█▇</td></tr></table><br/></div><div class=\"wandb-col\"><h3>Run summary:</h3><br/><table class=\"wandb\"><tr><td>epoch</td><td>39</td></tr><tr><td>lr</td><td>0.00015</td></tr><tr><td>test_accuracy</td><td>0.97427</td></tr><tr><td>test_auc_score</td><td>0.94688</td></tr><tr><td>test_f1_score</td><td>0.82524</td></tr><tr><td>test_fpr</td><td>0.0177</td></tr><tr><td>test_loss</td><td>0.02863</td></tr><tr><td>test_tpr</td><td>0.74554</td></tr><tr><td>train_accuracy</td><td>0.98202</td></tr><tr><td>train_auc_score</td><td>0.95182</td></tr><tr><td>train_f1_score</td><td>0.9245</td></tr><tr><td>train_fpr</td><td>0.00469</td></tr><tr><td>train_loss</td><td>0.02733</td></tr><tr><td>train_tpr</td><td>0.80275</td></tr></table><br/></div></div>"
      ],
      "text/plain": [
       "<IPython.core.display.HTML object>"
      ]
     },
     "metadata": {},
     "output_type": "display_data"
    },
    {
     "data": {
      "text/html": [
       " View run <strong style=\"color:#cdcd00\">EM_FocalLoss()_RUS-0.8</strong> at: <a href='https://wandb.ai/dmitrii_fomin_uga/Internship_project/runs/z73vfatd' target=\"_blank\">https://wandb.ai/dmitrii_fomin_uga/Internship_project/runs/z73vfatd</a><br/>Synced 5 W&B file(s), 0 media file(s), 0 artifact file(s) and 0 other file(s)"
      ],
      "text/plain": [
       "<IPython.core.display.HTML object>"
      ]
     },
     "metadata": {},
     "output_type": "display_data"
    },
    {
     "data": {
      "text/html": [
       "Find logs at: <code>../logs/wandb\\run-20230705_100722-z73vfatd\\logs</code>"
      ],
      "text/plain": [
       "<IPython.core.display.HTML object>"
      ]
     },
     "metadata": {},
     "output_type": "display_data"
    },
    {
     "data": {
      "text/html": [
       "Tracking run with wandb version 0.15.4"
      ],
      "text/plain": [
       "<IPython.core.display.HTML object>"
      ]
     },
     "metadata": {},
     "output_type": "display_data"
    },
    {
     "data": {
      "text/html": [
       "Run data is saved locally in <code>../logs/wandb\\run-20230705_100734-7b46nja3</code>"
      ],
      "text/plain": [
       "<IPython.core.display.HTML object>"
      ]
     },
     "metadata": {},
     "output_type": "display_data"
    },
    {
     "data": {
      "text/html": [
       "Syncing run <strong><a href='https://wandb.ai/dmitrii_fomin_uga/Internship_project/runs/7b46nja3' target=\"_blank\">EM_FocalLoss()_RUS-0.9</a></strong> to <a href='https://wandb.ai/dmitrii_fomin_uga/Internship_project' target=\"_blank\">Weights & Biases</a> (<a href='https://wandb.me/run' target=\"_blank\">docs</a>)<br/>"
      ],
      "text/plain": [
       "<IPython.core.display.HTML object>"
      ]
     },
     "metadata": {},
     "output_type": "display_data"
    },
    {
     "data": {
      "text/html": [
       " View project at <a href='https://wandb.ai/dmitrii_fomin_uga/Internship_project' target=\"_blank\">https://wandb.ai/dmitrii_fomin_uga/Internship_project</a>"
      ],
      "text/plain": [
       "<IPython.core.display.HTML object>"
      ]
     },
     "metadata": {},
     "output_type": "display_data"
    },
    {
     "data": {
      "text/html": [
       " View run at <a href='https://wandb.ai/dmitrii_fomin_uga/Internship_project/runs/7b46nja3' target=\"_blank\">https://wandb.ai/dmitrii_fomin_uga/Internship_project/runs/7b46nja3</a>"
      ],
      "text/plain": [
       "<IPython.core.display.HTML object>"
      ]
     },
     "metadata": {},
     "output_type": "display_data"
    },
    {
     "data": {
      "text/html": [
       "Waiting for W&B process to finish... <strong style=\"color:green\">(success).</strong>"
      ],
      "text/plain": [
       "<IPython.core.display.HTML object>"
      ]
     },
     "metadata": {},
     "output_type": "display_data"
    },
    {
     "data": {
      "text/html": [
       "<style>\n",
       "    table.wandb td:nth-child(1) { padding: 0 10px; text-align: left ; width: auto;} td:nth-child(2) {text-align: left ; width: 100%}\n",
       "    .wandb-row { display: flex; flex-direction: row; flex-wrap: wrap; justify-content: flex-start; width: 100% }\n",
       "    .wandb-col { display: flex; flex-direction: column; flex-basis: 100%; flex: 1; padding: 10px; }\n",
       "    </style>\n",
       "<div class=\"wandb-row\"><div class=\"wandb-col\"><h3>Run history:</h3><br/><table class=\"wandb\"><tr><td>epoch</td><td>▁▁▁▂▂▂▂▂▂▃▃▃▃▃▄▄▄▄▄▄▅▅▅▅▅▅▆▆▆▆▆▇▇▇▇▇▇███</td></tr><tr><td>lr</td><td>█▇▇▆▆▅▅▄▄▄▃▃▃▃▃▂▂▂▂▂▂▂▂▂▁▁▁▁▁▁▁▁▁▁▁▁▁▁▁▁</td></tr><tr><td>test_accuracy</td><td>▁▅▇█████████████████████████████████████</td></tr><tr><td>test_auc_score</td><td>▃█▄▂▄▄▄▃▃▂▃▃▁▃▂▃▃▄▄▅▅▅▅▅▅▅▆▆▅▆▇▆▇▆▇▆▆▆▆▆</td></tr><tr><td>test_f1_score</td><td>▁▄▆▇▇▇▇▇▇█▇█████████████████████████████</td></tr><tr><td>test_fpr</td><td>█▄▂▁▁▁▁▁▁▁▁▁▁▁▁▁▁▁▁▁▁▁▁▁▁▁▁▁▁▁▁▁▁▁▁▁▁▁▁▁</td></tr><tr><td>test_loss</td><td>█▄▂▁▁▁▁▁▁▁▁▁▁▁▁▁▁▁▁▁▁▁▁▁▁▁▁▁▁▁▁▁▁▁▁▁▁▁▁▁</td></tr><tr><td>test_tpr</td><td>█▇▅▂▂▃▂▂▂▁▂▂▂▂▂▁▂▂▂▃▃▃▃▃▃▃▃▃▂▃▃▃▃▃▃▃▃▃▃▃</td></tr><tr><td>train_accuracy</td><td>▁▇▇▇▇▇██████████████████████████████████</td></tr><tr><td>train_auc_score</td><td>▁▇▆▇▆▇▇▇▇▇▇▇█▇█▇▇▇▇▇██▇▇████████████████</td></tr><tr><td>train_f1_score</td><td>▁▆▆▆▆▆▇▇▇▇▇▇▇▇▇▇▇▇▇▇▇█▇▇████████████████</td></tr><tr><td>train_fpr</td><td>█▂▁▁▁▁▁▁▁▁▁▁▁▁▁▁▁▁▁▁▁▁▁▁▁▁▁▁▁▁▁▁▁▁▁▁▁▁▁▁</td></tr><tr><td>train_loss</td><td>█▃▂▂▁▁▁▁▁▁▁▁▁▁▁▁▁▁▁▁▁▁▁▁▁▁▁▁▁▁▁▁▁▁▁▁▁▁▁▁</td></tr><tr><td>train_tpr</td><td>▅▇▃▃▁▃▄▃▄▄▃▅▅▆▆▅▅▆▅▆▇▆▆▇▇▆▇▇▇▇▇▇█▇▇█████</td></tr></table><br/></div><div class=\"wandb-col\"><h3>Run summary:</h3><br/><table class=\"wandb\"><tr><td>epoch</td><td>39</td></tr><tr><td>lr</td><td>0.00015</td></tr><tr><td>test_accuracy</td><td>0.97167</td></tr><tr><td>test_auc_score</td><td>0.9173</td></tr><tr><td>test_f1_score</td><td>0.81008</td></tr><tr><td>test_fpr</td><td>0.01966</td></tr><tr><td>test_loss</td><td>0.02913</td></tr><tr><td>test_tpr</td><td>0.72471</td></tr><tr><td>train_accuracy</td><td>0.98412</td></tr><tr><td>train_auc_score</td><td>0.94513</td></tr><tr><td>train_f1_score</td><td>0.93253</td></tr><tr><td>train_fpr</td><td>0.00369</td></tr><tr><td>train_loss</td><td>0.02719</td></tr><tr><td>train_tpr</td><td>0.81679</td></tr></table><br/></div></div>"
      ],
      "text/plain": [
       "<IPython.core.display.HTML object>"
      ]
     },
     "metadata": {},
     "output_type": "display_data"
    },
    {
     "data": {
      "text/html": [
       " View run <strong style=\"color:#cdcd00\">EM_FocalLoss()_RUS-0.9</strong> at: <a href='https://wandb.ai/dmitrii_fomin_uga/Internship_project/runs/7b46nja3' target=\"_blank\">https://wandb.ai/dmitrii_fomin_uga/Internship_project/runs/7b46nja3</a><br/>Synced 5 W&B file(s), 0 media file(s), 0 artifact file(s) and 0 other file(s)"
      ],
      "text/plain": [
       "<IPython.core.display.HTML object>"
      ]
     },
     "metadata": {},
     "output_type": "display_data"
    },
    {
     "data": {
      "text/html": [
       "Find logs at: <code>../logs/wandb\\run-20230705_100734-7b46nja3\\logs</code>"
      ],
      "text/plain": [
       "<IPython.core.display.HTML object>"
      ]
     },
     "metadata": {},
     "output_type": "display_data"
    },
    {
     "data": {
      "text/html": [
       "Tracking run with wandb version 0.15.4"
      ],
      "text/plain": [
       "<IPython.core.display.HTML object>"
      ]
     },
     "metadata": {},
     "output_type": "display_data"
    },
    {
     "data": {
      "text/html": [
       "Run data is saved locally in <code>../logs/wandb\\run-20230705_100746-9gu8rgxn</code>"
      ],
      "text/plain": [
       "<IPython.core.display.HTML object>"
      ]
     },
     "metadata": {},
     "output_type": "display_data"
    },
    {
     "data": {
      "text/html": [
       "Syncing run <strong><a href='https://wandb.ai/dmitrii_fomin_uga/Internship_project/runs/9gu8rgxn' target=\"_blank\">EM_FocalLoss()_RUS-1</a></strong> to <a href='https://wandb.ai/dmitrii_fomin_uga/Internship_project' target=\"_blank\">Weights & Biases</a> (<a href='https://wandb.me/run' target=\"_blank\">docs</a>)<br/>"
      ],
      "text/plain": [
       "<IPython.core.display.HTML object>"
      ]
     },
     "metadata": {},
     "output_type": "display_data"
    },
    {
     "data": {
      "text/html": [
       " View project at <a href='https://wandb.ai/dmitrii_fomin_uga/Internship_project' target=\"_blank\">https://wandb.ai/dmitrii_fomin_uga/Internship_project</a>"
      ],
      "text/plain": [
       "<IPython.core.display.HTML object>"
      ]
     },
     "metadata": {},
     "output_type": "display_data"
    },
    {
     "data": {
      "text/html": [
       " View run at <a href='https://wandb.ai/dmitrii_fomin_uga/Internship_project/runs/9gu8rgxn' target=\"_blank\">https://wandb.ai/dmitrii_fomin_uga/Internship_project/runs/9gu8rgxn</a>"
      ],
      "text/plain": [
       "<IPython.core.display.HTML object>"
      ]
     },
     "metadata": {},
     "output_type": "display_data"
    },
    {
     "data": {
      "text/html": [
       "Waiting for W&B process to finish... <strong style=\"color:green\">(success).</strong>"
      ],
      "text/plain": [
       "<IPython.core.display.HTML object>"
      ]
     },
     "metadata": {},
     "output_type": "display_data"
    },
    {
     "data": {
      "text/html": [
       "<style>\n",
       "    table.wandb td:nth-child(1) { padding: 0 10px; text-align: left ; width: auto;} td:nth-child(2) {text-align: left ; width: 100%}\n",
       "    .wandb-row { display: flex; flex-direction: row; flex-wrap: wrap; justify-content: flex-start; width: 100% }\n",
       "    .wandb-col { display: flex; flex-direction: column; flex-basis: 100%; flex: 1; padding: 10px; }\n",
       "    </style>\n",
       "<div class=\"wandb-row\"><div class=\"wandb-col\"><h3>Run history:</h3><br/><table class=\"wandb\"><tr><td>epoch</td><td>▁▁▁▂▂▂▂▂▂▃▃▃▃▃▄▄▄▄▄▄▅▅▅▅▅▅▆▆▆▆▆▇▇▇▇▇▇███</td></tr><tr><td>lr</td><td>█▇▇▆▆▅▅▄▄▄▃▃▃▃▃▂▂▂▂▂▂▂▂▂▁▁▁▁▁▁▁▁▁▁▁▁▁▁▁▁</td></tr><tr><td>test_accuracy</td><td>▁▆▇█████████████████████████████████████</td></tr><tr><td>test_auc_score</td><td>▇▁▄▄▅▆▇▇▇▇▆▆▆▆▆▆▇▇▇█▇█▇█▇███▇▇▇▇▇▇▇▇▇█▇▇</td></tr><tr><td>test_f1_score</td><td>▁▄▆▇▇▇██▇██▇▇▇█▇████████████████████████</td></tr><tr><td>test_fpr</td><td>█▃▂▁▁▁▁▁▁▁▁▁▁▁▁▁▁▁▁▁▁▁▁▁▁▁▁▁▁▁▁▁▁▁▁▁▁▁▁▁</td></tr><tr><td>test_loss</td><td>█▃▂▁▁▁▁▁▁▁▁▁▁▁▁▁▁▁▁▁▁▁▁▁▁▁▁▁▁▁▁▁▁▁▁▁▁▁▁▁</td></tr><tr><td>test_tpr</td><td>█▅▄▃▃▂▂▂▂▁▂▃▃▂▃▂▂▂▄▃▃▃▃▃▃▃▃▃▃▃▃▃▃▃▃▃▃▃▃▃</td></tr><tr><td>train_accuracy</td><td>▁▇▇▇▇▇██████████████████████████████████</td></tr><tr><td>train_auc_score</td><td>▁▆▆▆▇▇▇▇▇▇▇▇▇███▇█▇▇▇▇█▇██▇█████████████</td></tr><tr><td>train_f1_score</td><td>▁▅▆▆▆▆▆▇▇▇▇▇▇▇▇▇▇█▇▇████████████████████</td></tr><tr><td>train_fpr</td><td>█▂▁▁▁▁▁▁▁▁▁▁▁▁▁▁▁▁▁▁▁▁▁▁▁▁▁▁▁▁▁▁▁▁▁▁▁▁▁▁</td></tr><tr><td>train_loss</td><td>█▃▂▂▁▁▁▁▁▁▁▁▁▁▁▁▁▁▁▁▁▁▁▁▁▁▁▁▁▁▁▁▁▁▁▁▁▁▁▁</td></tr><tr><td>train_tpr</td><td>▄▄▁▁▁▂▂▃▃▄▄▂▆▅▆▅▆▆▅▆▆▆▆▆▇▇▆▇▆▇██▇▇▇██▇█▇</td></tr></table><br/></div><div class=\"wandb-col\"><h3>Run summary:</h3><br/><table class=\"wandb\"><tr><td>epoch</td><td>39</td></tr><tr><td>lr</td><td>0.00015</td></tr><tr><td>test_accuracy</td><td>0.97425</td></tr><tr><td>test_auc_score</td><td>0.92418</td></tr><tr><td>test_f1_score</td><td>0.81201</td></tr><tr><td>test_fpr</td><td>0.01732</td></tr><tr><td>test_loss</td><td>0.02876</td></tr><tr><td>test_tpr</td><td>0.71279</td></tr><tr><td>train_accuracy</td><td>0.98324</td></tr><tr><td>train_auc_score</td><td>0.93812</td></tr><tr><td>train_f1_score</td><td>0.92859</td></tr><tr><td>train_fpr</td><td>0.00343</td></tr><tr><td>train_loss</td><td>0.02709</td></tr><tr><td>train_tpr</td><td>0.80273</td></tr></table><br/></div></div>"
      ],
      "text/plain": [
       "<IPython.core.display.HTML object>"
      ]
     },
     "metadata": {},
     "output_type": "display_data"
    },
    {
     "data": {
      "text/html": [
       " View run <strong style=\"color:#cdcd00\">EM_FocalLoss()_RUS-1</strong> at: <a href='https://wandb.ai/dmitrii_fomin_uga/Internship_project/runs/9gu8rgxn' target=\"_blank\">https://wandb.ai/dmitrii_fomin_uga/Internship_project/runs/9gu8rgxn</a><br/>Synced 5 W&B file(s), 0 media file(s), 0 artifact file(s) and 0 other file(s)"
      ],
      "text/plain": [
       "<IPython.core.display.HTML object>"
      ]
     },
     "metadata": {},
     "output_type": "display_data"
    },
    {
     "data": {
      "text/html": [
       "Find logs at: <code>../logs/wandb\\run-20230705_100746-9gu8rgxn\\logs</code>"
      ],
      "text/plain": [
       "<IPython.core.display.HTML object>"
      ]
     },
     "metadata": {},
     "output_type": "display_data"
    },
    {
     "data": {
      "text/html": [
       "Tracking run with wandb version 0.15.4"
      ],
      "text/plain": [
       "<IPython.core.display.HTML object>"
      ]
     },
     "metadata": {},
     "output_type": "display_data"
    },
    {
     "data": {
      "text/html": [
       "Run data is saved locally in <code>../logs/wandb\\run-20230705_100759-j7awcd7v</code>"
      ],
      "text/plain": [
       "<IPython.core.display.HTML object>"
      ]
     },
     "metadata": {},
     "output_type": "display_data"
    },
    {
     "data": {
      "text/html": [
       "Syncing run <strong><a href='https://wandb.ai/dmitrii_fomin_uga/Internship_project/runs/j7awcd7v' target=\"_blank\">EM_FocalLoss()_SMOTE-0.05</a></strong> to <a href='https://wandb.ai/dmitrii_fomin_uga/Internship_project' target=\"_blank\">Weights & Biases</a> (<a href='https://wandb.me/run' target=\"_blank\">docs</a>)<br/>"
      ],
      "text/plain": [
       "<IPython.core.display.HTML object>"
      ]
     },
     "metadata": {},
     "output_type": "display_data"
    },
    {
     "data": {
      "text/html": [
       " View project at <a href='https://wandb.ai/dmitrii_fomin_uga/Internship_project' target=\"_blank\">https://wandb.ai/dmitrii_fomin_uga/Internship_project</a>"
      ],
      "text/plain": [
       "<IPython.core.display.HTML object>"
      ]
     },
     "metadata": {},
     "output_type": "display_data"
    },
    {
     "data": {
      "text/html": [
       " View run at <a href='https://wandb.ai/dmitrii_fomin_uga/Internship_project/runs/j7awcd7v' target=\"_blank\">https://wandb.ai/dmitrii_fomin_uga/Internship_project/runs/j7awcd7v</a>"
      ],
      "text/plain": [
       "<IPython.core.display.HTML object>"
      ]
     },
     "metadata": {},
     "output_type": "display_data"
    },
    {
     "data": {
      "text/html": [
       "Waiting for W&B process to finish... <strong style=\"color:green\">(success).</strong>"
      ],
      "text/plain": [
       "<IPython.core.display.HTML object>"
      ]
     },
     "metadata": {},
     "output_type": "display_data"
    },
    {
     "data": {
      "text/html": [
       "<style>\n",
       "    table.wandb td:nth-child(1) { padding: 0 10px; text-align: left ; width: auto;} td:nth-child(2) {text-align: left ; width: 100%}\n",
       "    .wandb-row { display: flex; flex-direction: row; flex-wrap: wrap; justify-content: flex-start; width: 100% }\n",
       "    .wandb-col { display: flex; flex-direction: column; flex-basis: 100%; flex: 1; padding: 10px; }\n",
       "    </style>\n",
       "<div class=\"wandb-row\"><div class=\"wandb-col\"><h3>Run history:</h3><br/><table class=\"wandb\"><tr><td>epoch</td><td>▁▁▁▂▂▂▂▂▂▃▃▃▃▃▄▄▄▄▄▄▅▅▅▅▅▅▆▆▆▆▆▇▇▇▇▇▇███</td></tr><tr><td>lr</td><td>█▇▇▆▆▅▅▄▄▄▃▃▃▃▃▂▂▂▂▂▂▂▂▂▁▁▁▁▁▁▁▁▁▁▁▁▁▁▁▁</td></tr><tr><td>test_accuracy</td><td>▁▆██████████████████████████████████████</td></tr><tr><td>test_auc_score</td><td>▅▂▂▂▁▃▄▃▄▄▅▄▆▄▆▅▆▅▇▇▇▇▇▆█▇█▇▇█▇▇▇███▇█▇▇</td></tr><tr><td>test_f1_score</td><td>▁▅▆▇▇▇▇▇▇▇▇▇█▇▇▇█▇██▇███████████████████</td></tr><tr><td>test_fpr</td><td>█▃▁▁▁▁▁▁▁▁▁▁▁▁▁▁▁▁▁▁▁▁▁▁▁▁▁▁▁▁▁▁▁▁▁▁▁▁▁▁</td></tr><tr><td>test_loss</td><td>█▃▁▁▁▁▁▁▁▁▁▁▁▁▁▁▁▁▁▁▁▁▁▁▁▁▁▁▁▁▁▁▁▁▁▁▁▁▁▁</td></tr><tr><td>test_tpr</td><td>█▆▄▃▂▁▂▁▂▂▂▁▃▃▂▃▄▂▄▃▂▄▅▃▄▄▄▄▄▄▅▅▄▄▄▅▄▄▄▄</td></tr><tr><td>train_accuracy</td><td>▁▇▇█████████████████████████████████████</td></tr><tr><td>train_auc_score</td><td>▁▆▇▇▇▆▇█▇███████████████▇███████████▇███</td></tr><tr><td>train_f1_score</td><td>▁▅▆▆▆▆▆▇▇▇▇▇▇▇▇▇▇▇▇▇▇▇▇▇▇███████████████</td></tr><tr><td>train_fpr</td><td>█▂▁▁▁▁▁▁▁▁▁▁▁▁▁▁▁▁▁▁▁▁▁▁▁▁▁▁▁▁▁▁▁▁▁▁▁▁▁▁</td></tr><tr><td>train_loss</td><td>█▃▂▂▁▁▁▁▁▁▁▁▁▁▁▁▁▁▁▁▁▁▁▁▁▁▁▁▁▁▁▁▁▁▁▁▁▁▁▁</td></tr><tr><td>train_tpr</td><td>▇▅▃▁▃▂▂▃▄▄▄▃▃▅▄▅▅▅▅▇▆▅▆▇▅▇▇█▇▆▇██▇▇▇█▇█▇</td></tr></table><br/></div><div class=\"wandb-col\"><h3>Run summary:</h3><br/><table class=\"wandb\"><tr><td>epoch</td><td>39</td></tr><tr><td>lr</td><td>0.00015</td></tr><tr><td>test_accuracy</td><td>0.97983</td></tr><tr><td>test_auc_score</td><td>0.92787</td></tr><tr><td>test_f1_score</td><td>0.8473</td></tr><tr><td>test_fpr</td><td>0.01082</td></tr><tr><td>test_loss</td><td>0.02771</td></tr><tr><td>test_tpr</td><td>0.71308</td></tr><tr><td>train_accuracy</td><td>0.9866</td></tr><tr><td>train_auc_score</td><td>0.93166</td></tr><tr><td>train_f1_score</td><td>0.91867</td></tr><tr><td>train_fpr</td><td>0.00254</td></tr><tr><td>train_loss</td><td>0.02653</td></tr><tr><td>train_tpr</td><td>0.77201</td></tr></table><br/></div></div>"
      ],
      "text/plain": [
       "<IPython.core.display.HTML object>"
      ]
     },
     "metadata": {},
     "output_type": "display_data"
    },
    {
     "data": {
      "text/html": [
       " View run <strong style=\"color:#cdcd00\">EM_FocalLoss()_SMOTE-0.05</strong> at: <a href='https://wandb.ai/dmitrii_fomin_uga/Internship_project/runs/j7awcd7v' target=\"_blank\">https://wandb.ai/dmitrii_fomin_uga/Internship_project/runs/j7awcd7v</a><br/>Synced 5 W&B file(s), 0 media file(s), 0 artifact file(s) and 0 other file(s)"
      ],
      "text/plain": [
       "<IPython.core.display.HTML object>"
      ]
     },
     "metadata": {},
     "output_type": "display_data"
    },
    {
     "data": {
      "text/html": [
       "Find logs at: <code>../logs/wandb\\run-20230705_100759-j7awcd7v\\logs</code>"
      ],
      "text/plain": [
       "<IPython.core.display.HTML object>"
      ]
     },
     "metadata": {},
     "output_type": "display_data"
    },
    {
     "data": {
      "text/html": [
       "Tracking run with wandb version 0.15.4"
      ],
      "text/plain": [
       "<IPython.core.display.HTML object>"
      ]
     },
     "metadata": {},
     "output_type": "display_data"
    },
    {
     "data": {
      "text/html": [
       "Run data is saved locally in <code>../logs/wandb\\run-20230705_100815-jowbsmdv</code>"
      ],
      "text/plain": [
       "<IPython.core.display.HTML object>"
      ]
     },
     "metadata": {},
     "output_type": "display_data"
    },
    {
     "data": {
      "text/html": [
       "Syncing run <strong><a href='https://wandb.ai/dmitrii_fomin_uga/Internship_project/runs/jowbsmdv' target=\"_blank\">EM_FocalLoss()_SMOTE-0.1</a></strong> to <a href='https://wandb.ai/dmitrii_fomin_uga/Internship_project' target=\"_blank\">Weights & Biases</a> (<a href='https://wandb.me/run' target=\"_blank\">docs</a>)<br/>"
      ],
      "text/plain": [
       "<IPython.core.display.HTML object>"
      ]
     },
     "metadata": {},
     "output_type": "display_data"
    },
    {
     "data": {
      "text/html": [
       " View project at <a href='https://wandb.ai/dmitrii_fomin_uga/Internship_project' target=\"_blank\">https://wandb.ai/dmitrii_fomin_uga/Internship_project</a>"
      ],
      "text/plain": [
       "<IPython.core.display.HTML object>"
      ]
     },
     "metadata": {},
     "output_type": "display_data"
    },
    {
     "data": {
      "text/html": [
       " View run at <a href='https://wandb.ai/dmitrii_fomin_uga/Internship_project/runs/jowbsmdv' target=\"_blank\">https://wandb.ai/dmitrii_fomin_uga/Internship_project/runs/jowbsmdv</a>"
      ],
      "text/plain": [
       "<IPython.core.display.HTML object>"
      ]
     },
     "metadata": {},
     "output_type": "display_data"
    },
    {
     "data": {
      "text/html": [
       "Waiting for W&B process to finish... <strong style=\"color:green\">(success).</strong>"
      ],
      "text/plain": [
       "<IPython.core.display.HTML object>"
      ]
     },
     "metadata": {},
     "output_type": "display_data"
    },
    {
     "data": {
      "text/html": [
       "<style>\n",
       "    table.wandb td:nth-child(1) { padding: 0 10px; text-align: left ; width: auto;} td:nth-child(2) {text-align: left ; width: 100%}\n",
       "    .wandb-row { display: flex; flex-direction: row; flex-wrap: wrap; justify-content: flex-start; width: 100% }\n",
       "    .wandb-col { display: flex; flex-direction: column; flex-basis: 100%; flex: 1; padding: 10px; }\n",
       "    </style>\n",
       "<div class=\"wandb-row\"><div class=\"wandb-col\"><h3>Run history:</h3><br/><table class=\"wandb\"><tr><td>epoch</td><td>▁▁▁▂▂▂▂▂▂▃▃▃▃▃▄▄▄▄▄▄▅▅▅▅▅▅▆▆▆▆▆▇▇▇▇▇▇███</td></tr><tr><td>lr</td><td>█▇▇▆▆▅▅▄▄▄▃▃▃▃▃▂▂▂▂▂▂▂▂▂▁▁▁▁▁▁▁▁▁▁▁▁▁▁▁▁</td></tr><tr><td>test_accuracy</td><td>▁▆▇▇▇███████████████████████████████████</td></tr><tr><td>test_auc_score</td><td>▂▆▇██▆▃▆▂▁▅█▇▆▄▆▇▇▅▆▇▆▅▅▅▆█▆▆▆▆▅▅▅▅▅▅▅▆▆</td></tr><tr><td>test_f1_score</td><td>▁▅▆▆▆▇▇▇▇▇▇▇▇█▇▇▇███▇▇█▇▇████████▇██████</td></tr><tr><td>test_fpr</td><td>█▃▂▂▂▁▁▁▁▁▁▁▁▁▁▁▁▁▁▁▁▁▁▁▁▁▁▁▁▁▁▁▁▁▁▁▁▁▁▁</td></tr><tr><td>test_loss</td><td>█▃▂▂▁▁▁▁▁▁▁▁▁▁▁▁▁▁▁▁▁▁▁▁▁▁▁▁▁▁▁▁▁▁▁▁▁▁▁▁</td></tr><tr><td>test_tpr</td><td>█▆▄▄▅▃▂▃▁▂▂▃▄▂▃▄▃▄▃▄▃▄▄▃▄▄▄▄▃▄▄▄▃▃▃▄▃▃▄▄</td></tr><tr><td>train_accuracy</td><td>▁▇▇▇▇▇█▇▇███████████████████████████████</td></tr><tr><td>train_auc_score</td><td>▁▆▆▇▇▇▇▇▇▇███▇███▇██▇█▇█████▇███████████</td></tr><tr><td>train_f1_score</td><td>▁▆▆▆▆▇▇▇▇▇▇▇▇▇▇▇▇▇█▇▇███████████████████</td></tr><tr><td>train_fpr</td><td>█▂▁▁▁▁▁▁▁▁▁▁▁▁▁▁▁▁▁▁▁▁▁▁▁▁▁▁▁▁▁▁▁▁▁▁▁▁▁▁</td></tr><tr><td>train_loss</td><td>█▃▂▂▂▁▁▁▁▁▁▁▁▁▁▁▁▁▁▁▁▁▁▁▁▁▁▁▁▁▁▁▁▁▁▁▁▁▁▁</td></tr><tr><td>train_tpr</td><td>▅▃▁▁▂▃▂▃▂▂▂▅▆▅▅▆▅▆▆▆▃█▅▆▆▇▆▇▆▇█▇▆▇▇▆▇▇▇█</td></tr></table><br/></div><div class=\"wandb-col\"><h3>Run summary:</h3><br/><table class=\"wandb\"><tr><td>epoch</td><td>39</td></tr><tr><td>lr</td><td>0.00015</td></tr><tr><td>test_accuracy</td><td>0.97192</td></tr><tr><td>test_auc_score</td><td>0.92374</td></tr><tr><td>test_f1_score</td><td>0.8183</td></tr><tr><td>test_fpr</td><td>0.02113</td></tr><tr><td>test_loss</td><td>0.02897</td></tr><tr><td>test_tpr</td><td>0.77459</td></tr><tr><td>train_accuracy</td><td>0.98351</td></tr><tr><td>train_auc_score</td><td>0.96401</td></tr><tr><td>train_f1_score</td><td>0.9467</td></tr><tr><td>train_fpr</td><td>0.00241</td></tr><tr><td>train_loss</td><td>0.027</td></tr><tr><td>train_tpr</td><td>0.84258</td></tr></table><br/></div></div>"
      ],
      "text/plain": [
       "<IPython.core.display.HTML object>"
      ]
     },
     "metadata": {},
     "output_type": "display_data"
    },
    {
     "data": {
      "text/html": [
       " View run <strong style=\"color:#cdcd00\">EM_FocalLoss()_SMOTE-0.1</strong> at: <a href='https://wandb.ai/dmitrii_fomin_uga/Internship_project/runs/jowbsmdv' target=\"_blank\">https://wandb.ai/dmitrii_fomin_uga/Internship_project/runs/jowbsmdv</a><br/>Synced 5 W&B file(s), 0 media file(s), 0 artifact file(s) and 0 other file(s)"
      ],
      "text/plain": [
       "<IPython.core.display.HTML object>"
      ]
     },
     "metadata": {},
     "output_type": "display_data"
    },
    {
     "data": {
      "text/html": [
       "Find logs at: <code>../logs/wandb\\run-20230705_100815-jowbsmdv\\logs</code>"
      ],
      "text/plain": [
       "<IPython.core.display.HTML object>"
      ]
     },
     "metadata": {},
     "output_type": "display_data"
    },
    {
     "data": {
      "text/html": [
       "Tracking run with wandb version 0.15.4"
      ],
      "text/plain": [
       "<IPython.core.display.HTML object>"
      ]
     },
     "metadata": {},
     "output_type": "display_data"
    },
    {
     "data": {
      "text/html": [
       "Run data is saved locally in <code>../logs/wandb\\run-20230705_100829-ogxbxivy</code>"
      ],
      "text/plain": [
       "<IPython.core.display.HTML object>"
      ]
     },
     "metadata": {},
     "output_type": "display_data"
    },
    {
     "data": {
      "text/html": [
       "Syncing run <strong><a href='https://wandb.ai/dmitrii_fomin_uga/Internship_project/runs/ogxbxivy' target=\"_blank\">EM_FocalLoss()_SMOTE-0.15</a></strong> to <a href='https://wandb.ai/dmitrii_fomin_uga/Internship_project' target=\"_blank\">Weights & Biases</a> (<a href='https://wandb.me/run' target=\"_blank\">docs</a>)<br/>"
      ],
      "text/plain": [
       "<IPython.core.display.HTML object>"
      ]
     },
     "metadata": {},
     "output_type": "display_data"
    },
    {
     "data": {
      "text/html": [
       " View project at <a href='https://wandb.ai/dmitrii_fomin_uga/Internship_project' target=\"_blank\">https://wandb.ai/dmitrii_fomin_uga/Internship_project</a>"
      ],
      "text/plain": [
       "<IPython.core.display.HTML object>"
      ]
     },
     "metadata": {},
     "output_type": "display_data"
    },
    {
     "data": {
      "text/html": [
       " View run at <a href='https://wandb.ai/dmitrii_fomin_uga/Internship_project/runs/ogxbxivy' target=\"_blank\">https://wandb.ai/dmitrii_fomin_uga/Internship_project/runs/ogxbxivy</a>"
      ],
      "text/plain": [
       "<IPython.core.display.HTML object>"
      ]
     },
     "metadata": {},
     "output_type": "display_data"
    },
    {
     "data": {
      "text/html": [
       "Waiting for W&B process to finish... <strong style=\"color:green\">(success).</strong>"
      ],
      "text/plain": [
       "<IPython.core.display.HTML object>"
      ]
     },
     "metadata": {},
     "output_type": "display_data"
    },
    {
     "data": {
      "text/html": [
       "<style>\n",
       "    table.wandb td:nth-child(1) { padding: 0 10px; text-align: left ; width: auto;} td:nth-child(2) {text-align: left ; width: 100%}\n",
       "    .wandb-row { display: flex; flex-direction: row; flex-wrap: wrap; justify-content: flex-start; width: 100% }\n",
       "    .wandb-col { display: flex; flex-direction: column; flex-basis: 100%; flex: 1; padding: 10px; }\n",
       "    </style>\n",
       "<div class=\"wandb-row\"><div class=\"wandb-col\"><h3>Run history:</h3><br/><table class=\"wandb\"><tr><td>epoch</td><td>▁▁▁▂▂▂▂▂▂▃▃▃▃▃▄▄▄▄▄▄▅▅▅▅▅▅▆▆▆▆▆▇▇▇▇▇▇███</td></tr><tr><td>lr</td><td>█▇▇▆▆▅▅▄▄▄▃▃▃▃▃▂▂▂▂▂▂▂▂▂▁▁▁▁▁▁▁▁▁▁▁▁▁▁▁▁</td></tr><tr><td>test_accuracy</td><td>▁▆██████████████████████████████████████</td></tr><tr><td>test_auc_score</td><td>▆▃▁▅▆▅▄█▆▇▆▇▇▇████▇▇▇███▇██▇█▇▇▇▇▇▇▇▇▇▇▇</td></tr><tr><td>test_f1_score</td><td>▁▅▆▇▇▇▇▇▇▇▇▇▇█▇███▇▇▇▇▇█▇▇████▇██▇▇▇▇▇██</td></tr><tr><td>test_fpr</td><td>█▃▁▁▁▁▁▁▁▁▁▁▁▁▁▁▁▁▁▁▁▁▁▁▁▁▁▁▁▁▁▁▁▁▁▁▁▁▁▁</td></tr><tr><td>test_loss</td><td>█▃▁▁▁▁▁▁▁▁▁▁▁▁▁▁▁▁▁▁▁▁▁▁▁▁▁▁▁▁▁▁▁▁▁▁▁▁▁▁</td></tr><tr><td>test_tpr</td><td>█▆▄▄▄▄▁▃▄▄▂▄▄▄▅▅▅▅▅▄▅▄▅▄▅▅▅▅▅▅▆▅▅▅▆▅▅▅▅▅</td></tr><tr><td>train_accuracy</td><td>▁▇▇▇▇▇▇▇▇▇▇▇████████████████████████████</td></tr><tr><td>train_auc_score</td><td>▁▆▅▆▆▆▆▆▆▇▇▇▇▇██████████████████████████</td></tr><tr><td>train_f1_score</td><td>▁▆▆▆▇▇▇▆▇▇▇▇▇▇▇▇▇██▇████████████████████</td></tr><tr><td>train_fpr</td><td>█▂▂▁▁▁▁▁▁▁▁▁▁▁▁▁▁▁▁▁▁▁▁▁▁▁▁▁▁▁▁▁▁▁▁▁▁▁▁▁</td></tr><tr><td>train_loss</td><td>█▃▂▂▂▂▁▂▁▁▁▁▁▁▁▁▁▁▁▁▁▁▁▁▁▁▁▁▁▁▁▁▁▁▁▁▁▁▁▁</td></tr><tr><td>train_tpr</td><td>▃▂▁▁▃▃▂▁▂▅▄▄▅▅▅▅▅▆▆▆▆▆▆▇▇▇▇▇▇█▇██▇██▇███</td></tr></table><br/></div><div class=\"wandb-col\"><h3>Run summary:</h3><br/><table class=\"wandb\"><tr><td>epoch</td><td>39</td></tr><tr><td>lr</td><td>0.00015</td></tr><tr><td>test_accuracy</td><td>0.95484</td></tr><tr><td>test_auc_score</td><td>0.94304</td></tr><tr><td>test_f1_score</td><td>0.77277</td></tr><tr><td>test_fpr</td><td>0.04129</td></tr><tr><td>test_loss</td><td>0.03261</td></tr><tr><td>test_tpr</td><td>0.84494</td></tr><tr><td>train_accuracy</td><td>0.9822</td></tr><tr><td>train_auc_score</td><td>0.97371</td></tr><tr><td>train_f1_score</td><td>0.95937</td></tr><tr><td>train_fpr</td><td>0.00541</td></tr><tr><td>train_loss</td><td>0.02703</td></tr><tr><td>train_tpr</td><td>0.89978</td></tr></table><br/></div></div>"
      ],
      "text/plain": [
       "<IPython.core.display.HTML object>"
      ]
     },
     "metadata": {},
     "output_type": "display_data"
    },
    {
     "data": {
      "text/html": [
       " View run <strong style=\"color:#cdcd00\">EM_FocalLoss()_SMOTE-0.15</strong> at: <a href='https://wandb.ai/dmitrii_fomin_uga/Internship_project/runs/ogxbxivy' target=\"_blank\">https://wandb.ai/dmitrii_fomin_uga/Internship_project/runs/ogxbxivy</a><br/>Synced 5 W&B file(s), 0 media file(s), 0 artifact file(s) and 0 other file(s)"
      ],
      "text/plain": [
       "<IPython.core.display.HTML object>"
      ]
     },
     "metadata": {},
     "output_type": "display_data"
    },
    {
     "data": {
      "text/html": [
       "Find logs at: <code>../logs/wandb\\run-20230705_100829-ogxbxivy\\logs</code>"
      ],
      "text/plain": [
       "<IPython.core.display.HTML object>"
      ]
     },
     "metadata": {},
     "output_type": "display_data"
    },
    {
     "data": {
      "text/html": [
       "Tracking run with wandb version 0.15.4"
      ],
      "text/plain": [
       "<IPython.core.display.HTML object>"
      ]
     },
     "metadata": {},
     "output_type": "display_data"
    },
    {
     "data": {
      "text/html": [
       "Run data is saved locally in <code>../logs/wandb\\run-20230705_100843-pwbr6rgo</code>"
      ],
      "text/plain": [
       "<IPython.core.display.HTML object>"
      ]
     },
     "metadata": {},
     "output_type": "display_data"
    },
    {
     "data": {
      "text/html": [
       "Syncing run <strong><a href='https://wandb.ai/dmitrii_fomin_uga/Internship_project/runs/pwbr6rgo' target=\"_blank\">EM_FocalLoss()_SMOTE-0.2</a></strong> to <a href='https://wandb.ai/dmitrii_fomin_uga/Internship_project' target=\"_blank\">Weights & Biases</a> (<a href='https://wandb.me/run' target=\"_blank\">docs</a>)<br/>"
      ],
      "text/plain": [
       "<IPython.core.display.HTML object>"
      ]
     },
     "metadata": {},
     "output_type": "display_data"
    },
    {
     "data": {
      "text/html": [
       " View project at <a href='https://wandb.ai/dmitrii_fomin_uga/Internship_project' target=\"_blank\">https://wandb.ai/dmitrii_fomin_uga/Internship_project</a>"
      ],
      "text/plain": [
       "<IPython.core.display.HTML object>"
      ]
     },
     "metadata": {},
     "output_type": "display_data"
    },
    {
     "data": {
      "text/html": [
       " View run at <a href='https://wandb.ai/dmitrii_fomin_uga/Internship_project/runs/pwbr6rgo' target=\"_blank\">https://wandb.ai/dmitrii_fomin_uga/Internship_project/runs/pwbr6rgo</a>"
      ],
      "text/plain": [
       "<IPython.core.display.HTML object>"
      ]
     },
     "metadata": {},
     "output_type": "display_data"
    },
    {
     "data": {
      "text/html": [
       "Waiting for W&B process to finish... <strong style=\"color:green\">(success).</strong>"
      ],
      "text/plain": [
       "<IPython.core.display.HTML object>"
      ]
     },
     "metadata": {},
     "output_type": "display_data"
    },
    {
     "data": {
      "text/html": [
       "<style>\n",
       "    table.wandb td:nth-child(1) { padding: 0 10px; text-align: left ; width: auto;} td:nth-child(2) {text-align: left ; width: 100%}\n",
       "    .wandb-row { display: flex; flex-direction: row; flex-wrap: wrap; justify-content: flex-start; width: 100% }\n",
       "    .wandb-col { display: flex; flex-direction: column; flex-basis: 100%; flex: 1; padding: 10px; }\n",
       "    </style>\n",
       "<div class=\"wandb-row\"><div class=\"wandb-col\"><h3>Run history:</h3><br/><table class=\"wandb\"><tr><td>epoch</td><td>▁▁▁▂▂▂▂▂▂▃▃▃▃▃▄▄▄▄▄▄▅▅▅▅▅▅▆▆▆▆▆▇▇▇▇▇▇███</td></tr><tr><td>lr</td><td>█▇▇▆▆▅▅▄▄▄▃▃▃▃▃▂▂▂▂▂▂▂▂▂▁▁▁▁▁▁▁▁▁▁▁▁▁▁▁▁</td></tr><tr><td>test_accuracy</td><td>▁▆▇█████████████████████████████████████</td></tr><tr><td>test_auc_score</td><td>▁▆▇▇▆▇▇▇█▇▇▇▇█▇▇████▇██▇█▇███▇▇▇▇▇▇▇▇▇▇▇</td></tr><tr><td>test_f1_score</td><td>▁▅▆▇▇▇▇█▇▇▇█████▇▇█▇▇▇██▇▇▇█▇██▇█▇▇█████</td></tr><tr><td>test_fpr</td><td>█▃▂▁▁▁▁▁▁▁▁▁▁▁▁▁▁▁▁▁▁▁▁▁▁▁▁▁▁▁▁▁▁▁▁▁▁▁▁▁</td></tr><tr><td>test_loss</td><td>█▃▂▁▁▁▁▁▁▁▁▁▁▁▁▁▁▁▁▁▁▁▁▁▁▁▁▁▁▁▁▁▁▁▁▁▁▁▁▁</td></tr><tr><td>test_tpr</td><td>▂█▇▆▁▃▆▃▂▅▄▄▅▄▂▇▄▅▅▆▅▆▆▂█▅▆▆▆▅▇▆▇▆▆▆▆▆█▆</td></tr><tr><td>train_accuracy</td><td>▁▆▇▇▇▇▇▇▇▇▇▇▇▇▇▇▇███████████████████████</td></tr><tr><td>train_auc_score</td><td>▁▇▆▇▇▇▇▇▇▇█▇██▇█████████████████████████</td></tr><tr><td>train_f1_score</td><td>▁▆▆▆▇▇▇▇▇▇▇▇▇▇▇▇▇▇▇▇▇█▇██▇██████████████</td></tr><tr><td>train_fpr</td><td>█▂▂▂▁▁▂▁▁▁▁▁▁▁▁▁▁▁▁▁▁▁▁▁▁▁▁▁▁▁▁▁▁▁▁▁▁▁▁▁</td></tr><tr><td>train_loss</td><td>█▃▂▂▂▂▂▂▂▁▁▁▁▁▁▁▁▁▁▁▁▁▁▁▁▁▁▁▁▁▁▁▁▁▁▁▁▁▁▁</td></tr><tr><td>train_tpr</td><td>▁▁▂▃▂▃▄▃▃▄▄▄▄▅▄▄▅▅▆▆▆▆▆▆▇▆▇▇█▇██▇███████</td></tr></table><br/></div><div class=\"wandb-col\"><h3>Run summary:</h3><br/><table class=\"wandb\"><tr><td>epoch</td><td>39</td></tr><tr><td>lr</td><td>0.00015</td></tr><tr><td>test_accuracy</td><td>0.93417</td></tr><tr><td>test_auc_score</td><td>0.9366</td></tr><tr><td>test_f1_score</td><td>0.71531</td></tr><tr><td>test_fpr</td><td>0.0626</td></tr><tr><td>test_loss</td><td>0.03757</td></tr><tr><td>test_tpr</td><td>0.84227</td></tr><tr><td>train_accuracy</td><td>0.98323</td></tr><tr><td>train_auc_score</td><td>0.98624</td></tr><tr><td>train_f1_score</td><td>0.96932</td></tr><tr><td>train_fpr</td><td>0.00592</td></tr><tr><td>train_loss</td><td>0.02682</td></tr><tr><td>train_tpr</td><td>0.92934</td></tr></table><br/></div></div>"
      ],
      "text/plain": [
       "<IPython.core.display.HTML object>"
      ]
     },
     "metadata": {},
     "output_type": "display_data"
    },
    {
     "data": {
      "text/html": [
       " View run <strong style=\"color:#cdcd00\">EM_FocalLoss()_SMOTE-0.2</strong> at: <a href='https://wandb.ai/dmitrii_fomin_uga/Internship_project/runs/pwbr6rgo' target=\"_blank\">https://wandb.ai/dmitrii_fomin_uga/Internship_project/runs/pwbr6rgo</a><br/>Synced 5 W&B file(s), 0 media file(s), 0 artifact file(s) and 0 other file(s)"
      ],
      "text/plain": [
       "<IPython.core.display.HTML object>"
      ]
     },
     "metadata": {},
     "output_type": "display_data"
    },
    {
     "data": {
      "text/html": [
       "Find logs at: <code>../logs/wandb\\run-20230705_100843-pwbr6rgo\\logs</code>"
      ],
      "text/plain": [
       "<IPython.core.display.HTML object>"
      ]
     },
     "metadata": {},
     "output_type": "display_data"
    },
    {
     "data": {
      "text/html": [
       "Tracking run with wandb version 0.15.4"
      ],
      "text/plain": [
       "<IPython.core.display.HTML object>"
      ]
     },
     "metadata": {},
     "output_type": "display_data"
    },
    {
     "data": {
      "text/html": [
       "Run data is saved locally in <code>../logs/wandb\\run-20230705_100856-7s9zvanl</code>"
      ],
      "text/plain": [
       "<IPython.core.display.HTML object>"
      ]
     },
     "metadata": {},
     "output_type": "display_data"
    },
    {
     "data": {
      "text/html": [
       "Syncing run <strong><a href='https://wandb.ai/dmitrii_fomin_uga/Internship_project/runs/7s9zvanl' target=\"_blank\">EM_FocalLoss()_SMOTE-0.25</a></strong> to <a href='https://wandb.ai/dmitrii_fomin_uga/Internship_project' target=\"_blank\">Weights & Biases</a> (<a href='https://wandb.me/run' target=\"_blank\">docs</a>)<br/>"
      ],
      "text/plain": [
       "<IPython.core.display.HTML object>"
      ]
     },
     "metadata": {},
     "output_type": "display_data"
    },
    {
     "data": {
      "text/html": [
       " View project at <a href='https://wandb.ai/dmitrii_fomin_uga/Internship_project' target=\"_blank\">https://wandb.ai/dmitrii_fomin_uga/Internship_project</a>"
      ],
      "text/plain": [
       "<IPython.core.display.HTML object>"
      ]
     },
     "metadata": {},
     "output_type": "display_data"
    },
    {
     "data": {
      "text/html": [
       " View run at <a href='https://wandb.ai/dmitrii_fomin_uga/Internship_project/runs/7s9zvanl' target=\"_blank\">https://wandb.ai/dmitrii_fomin_uga/Internship_project/runs/7s9zvanl</a>"
      ],
      "text/plain": [
       "<IPython.core.display.HTML object>"
      ]
     },
     "metadata": {},
     "output_type": "display_data"
    },
    {
     "data": {
      "text/html": [
       "Waiting for W&B process to finish... <strong style=\"color:green\">(success).</strong>"
      ],
      "text/plain": [
       "<IPython.core.display.HTML object>"
      ]
     },
     "metadata": {},
     "output_type": "display_data"
    },
    {
     "data": {
      "text/html": [
       "<style>\n",
       "    table.wandb td:nth-child(1) { padding: 0 10px; text-align: left ; width: auto;} td:nth-child(2) {text-align: left ; width: 100%}\n",
       "    .wandb-row { display: flex; flex-direction: row; flex-wrap: wrap; justify-content: flex-start; width: 100% }\n",
       "    .wandb-col { display: flex; flex-direction: column; flex-basis: 100%; flex: 1; padding: 10px; }\n",
       "    </style>\n",
       "<div class=\"wandb-row\"><div class=\"wandb-col\"><h3>Run history:</h3><br/><table class=\"wandb\"><tr><td>epoch</td><td>▁▁▁▂▂▂▂▂▂▃▃▃▃▃▄▄▄▄▄▄▅▅▅▅▅▅▆▆▆▆▆▇▇▇▇▇▇███</td></tr><tr><td>lr</td><td>█▇▇▆▆▅▅▄▄▄▃▃▃▃▃▂▂▂▂▂▂▂▂▂▁▁▁▁▁▁▁▁▁▁▁▁▁▁▁▁</td></tr><tr><td>test_accuracy</td><td>▁▆▇███▇████████████▇██▇█████████████████</td></tr><tr><td>test_auc_score</td><td>▁▁▅▆▄▃▄▃▇▄▅▅▇▇▇▇▇▅▆▆▆▅▅▆█▇█▇▇▇▇▆▅▆▆▅▇▇▇▇</td></tr><tr><td>test_f1_score</td><td>▁▅▇▇▇▇▇▇▇▇▇▇▇▇█▇▇█▇▇██▇██▇▇▇▇██▇██████▇▇</td></tr><tr><td>test_fpr</td><td>█▃▂▁▁▁▂▁▁▁▁▁▁▁▁▁▁▁▁▂▁▁▂▁▁▁▁▁▁▁▁▁▁▁▁▁▁▁▁▁</td></tr><tr><td>test_loss</td><td>█▃▁▁▁▁▁▁▁▁▁▁▁▁▁▁▁▁▁▁▁▁▁▁▁▁▁▁▁▁▁▁▁▁▁▁▁▁▁▁</td></tr><tr><td>test_tpr</td><td>█▅▄▂▁▃▃▃▄▄▂▃▃▅▄▅▅▃▅▅▅▃▄▅▃▅▅▆▆▄▄▅▄▅▅▅▅▅▅▅</td></tr><tr><td>train_accuracy</td><td>▁▆▆▇▇▇▇▇▇▇▇▇▇▇██████████████████████████</td></tr><tr><td>train_auc_score</td><td>▁▆▆▇█▇▇▇███▇████████████████████████████</td></tr><tr><td>train_f1_score</td><td>▁▅▆▆▇▇▆▇▇▇▇▇▇▇▇███▇▇██▇█████████████████</td></tr><tr><td>train_fpr</td><td>█▂▂▂▂▂▂▂▂▂▁▁▁▁▁▁▁▁▁▁▁▁▁▁▁▁▁▁▁▁▁▁▁▁▁▁▁▁▁▁</td></tr><tr><td>train_loss</td><td>█▃▂▂▂▂▂▂▁▁▁▁▁▁▁▁▁▁▁▁▁▁▁▁▁▁▁▁▁▁▁▁▁▁▁▁▁▁▁▁</td></tr><tr><td>train_tpr</td><td>▁▁▁▃▄▅▃▄▅▆▆▆▆▆▇▇▇▇▆▇▇▆▇▇▇▇▇▇█▇█▆▇▇█▇▇▇██</td></tr></table><br/></div><div class=\"wandb-col\"><h3>Run summary:</h3><br/><table class=\"wandb\"><tr><td>epoch</td><td>39</td></tr><tr><td>lr</td><td>0.00015</td></tr><tr><td>test_accuracy</td><td>0.90952</td></tr><tr><td>test_auc_score</td><td>0.94621</td></tr><tr><td>test_f1_score</td><td>0.67233</td></tr><tr><td>test_fpr</td><td>0.08882</td></tr><tr><td>test_loss</td><td>0.04323</td></tr><tr><td>test_tpr</td><td>0.86371</td></tr><tr><td>train_accuracy</td><td>0.97832</td></tr><tr><td>train_auc_score</td><td>0.98626</td></tr><tr><td>train_f1_score</td><td>0.9658</td></tr><tr><td>train_fpr</td><td>0.0096</td></tr><tr><td>train_loss</td><td>0.02746</td></tr><tr><td>train_tpr</td><td>0.93091</td></tr></table><br/></div></div>"
      ],
      "text/plain": [
       "<IPython.core.display.HTML object>"
      ]
     },
     "metadata": {},
     "output_type": "display_data"
    },
    {
     "data": {
      "text/html": [
       " View run <strong style=\"color:#cdcd00\">EM_FocalLoss()_SMOTE-0.25</strong> at: <a href='https://wandb.ai/dmitrii_fomin_uga/Internship_project/runs/7s9zvanl' target=\"_blank\">https://wandb.ai/dmitrii_fomin_uga/Internship_project/runs/7s9zvanl</a><br/>Synced 5 W&B file(s), 0 media file(s), 0 artifact file(s) and 0 other file(s)"
      ],
      "text/plain": [
       "<IPython.core.display.HTML object>"
      ]
     },
     "metadata": {},
     "output_type": "display_data"
    },
    {
     "data": {
      "text/html": [
       "Find logs at: <code>../logs/wandb\\run-20230705_100856-7s9zvanl\\logs</code>"
      ],
      "text/plain": [
       "<IPython.core.display.HTML object>"
      ]
     },
     "metadata": {},
     "output_type": "display_data"
    },
    {
     "data": {
      "text/html": [
       "Tracking run with wandb version 0.15.4"
      ],
      "text/plain": [
       "<IPython.core.display.HTML object>"
      ]
     },
     "metadata": {},
     "output_type": "display_data"
    },
    {
     "data": {
      "text/html": [
       "Run data is saved locally in <code>../logs/wandb\\run-20230705_100910-fbcddwzt</code>"
      ],
      "text/plain": [
       "<IPython.core.display.HTML object>"
      ]
     },
     "metadata": {},
     "output_type": "display_data"
    },
    {
     "data": {
      "text/html": [
       "Syncing run <strong><a href='https://wandb.ai/dmitrii_fomin_uga/Internship_project/runs/fbcddwzt' target=\"_blank\">EM_FocalLoss()_SMOTE-0.3</a></strong> to <a href='https://wandb.ai/dmitrii_fomin_uga/Internship_project' target=\"_blank\">Weights & Biases</a> (<a href='https://wandb.me/run' target=\"_blank\">docs</a>)<br/>"
      ],
      "text/plain": [
       "<IPython.core.display.HTML object>"
      ]
     },
     "metadata": {},
     "output_type": "display_data"
    },
    {
     "data": {
      "text/html": [
       " View project at <a href='https://wandb.ai/dmitrii_fomin_uga/Internship_project' target=\"_blank\">https://wandb.ai/dmitrii_fomin_uga/Internship_project</a>"
      ],
      "text/plain": [
       "<IPython.core.display.HTML object>"
      ]
     },
     "metadata": {},
     "output_type": "display_data"
    },
    {
     "data": {
      "text/html": [
       " View run at <a href='https://wandb.ai/dmitrii_fomin_uga/Internship_project/runs/fbcddwzt' target=\"_blank\">https://wandb.ai/dmitrii_fomin_uga/Internship_project/runs/fbcddwzt</a>"
      ],
      "text/plain": [
       "<IPython.core.display.HTML object>"
      ]
     },
     "metadata": {},
     "output_type": "display_data"
    },
    {
     "data": {
      "text/html": [
       "Waiting for W&B process to finish... <strong style=\"color:green\">(success).</strong>"
      ],
      "text/plain": [
       "<IPython.core.display.HTML object>"
      ]
     },
     "metadata": {},
     "output_type": "display_data"
    },
    {
     "data": {
      "text/html": [
       "<style>\n",
       "    table.wandb td:nth-child(1) { padding: 0 10px; text-align: left ; width: auto;} td:nth-child(2) {text-align: left ; width: 100%}\n",
       "    .wandb-row { display: flex; flex-direction: row; flex-wrap: wrap; justify-content: flex-start; width: 100% }\n",
       "    .wandb-col { display: flex; flex-direction: column; flex-basis: 100%; flex: 1; padding: 10px; }\n",
       "    </style>\n",
       "<div class=\"wandb-row\"><div class=\"wandb-col\"><h3>Run history:</h3><br/><table class=\"wandb\"><tr><td>epoch</td><td>▁▁▁▂▂▂▂▂▂▃▃▃▃▃▄▄▄▄▄▄▅▅▅▅▅▅▆▆▆▆▆▇▇▇▇▇▇███</td></tr><tr><td>lr</td><td>█▇▇▆▆▅▅▄▄▄▃▃▃▃▃▂▂▂▂▂▂▂▂▂▁▁▁▁▁▁▁▁▁▁▁▁▁▁▁▁</td></tr><tr><td>test_accuracy</td><td>▁▇█████████▇██████████▇▇████████████████</td></tr><tr><td>test_auc_score</td><td>▃▅▅▄▁▆▇█▇▅▄▇▇▇▇▇█▇▇▇▆▇▇▇▇▆██▇▇▆▆▇▇▇▆▇▆▆▆</td></tr><tr><td>test_f1_score</td><td>▁▆▇██▇███▇█▇▇██▇▇██▇██▇▇████▇███▇▇██████</td></tr><tr><td>test_fpr</td><td>█▂▁▁▁▁▁▁▁▁▁▂▂▁▁▁▁▁▁▂▁▁▂▂▁▁▁▁▁▁▁▁▁▁▁▁▁▁▁▁</td></tr><tr><td>test_loss</td><td>█▂▁▁▁▁▁▁▁▁▁▁▁▁▁▁▁▁▁▁▁▁▁▁▁▁▁▁▁▁▁▁▁▁▁▁▁▁▁▁</td></tr><tr><td>test_tpr</td><td>█▅▄▃▃▄▃▄▄▄▁▆▅▄▄▅▅▄▄▆▆▄▆▅▅▅▅▅▅▅▅▅▅▅▅▅▅▅▅▅</td></tr><tr><td>train_accuracy</td><td>▁▆▇▇▇▇▇▇▇▇▇▇██▇▇▇███████████████████████</td></tr><tr><td>train_auc_score</td><td>▁▇▇▇▇▇██████████████████████████████████</td></tr><tr><td>train_f1_score</td><td>▁▆▆▇▇▇▇▇▇▇▇▇▇▇▇▇▇▇██████████████████████</td></tr><tr><td>train_fpr</td><td>█▂▂▂▂▂▂▂▁▁▁▁▁▂▁▁▁▁▁▁▁▁▁▁▁▁▁▁▁▁▁▁▁▁▁▁▁▁▁▁</td></tr><tr><td>train_loss</td><td>█▃▂▂▂▂▂▁▁▁▁▁▁▁▁▁▁▁▁▁▁▁▁▁▁▁▁▁▁▁▁▁▁▁▁▁▁▁▁▁</td></tr><tr><td>train_tpr</td><td>▁▃▄▅▅▅▅▆▆▇▇▆▆▇▆▇▇▆▇▇▇▇▇█▇▇█▇█▇█▇██▇█████</td></tr></table><br/></div><div class=\"wandb-col\"><h3>Run summary:</h3><br/><table class=\"wandb\"><tr><td>epoch</td><td>39</td></tr><tr><td>lr</td><td>0.00015</td></tr><tr><td>test_accuracy</td><td>0.89923</td></tr><tr><td>test_auc_score</td><td>0.94348</td></tr><tr><td>test_f1_score</td><td>0.65148</td></tr><tr><td>test_fpr</td><td>0.10022</td></tr><tr><td>test_loss</td><td>0.04681</td></tr><tr><td>test_tpr</td><td>0.87775</td></tr><tr><td>train_accuracy</td><td>0.97952</td></tr><tr><td>train_auc_score</td><td>0.98479</td></tr><tr><td>train_f1_score</td><td>0.97082</td></tr><tr><td>train_fpr</td><td>0.01297</td></tr><tr><td>train_loss</td><td>0.0272</td></tr><tr><td>train_tpr</td><td>0.95433</td></tr></table><br/></div></div>"
      ],
      "text/plain": [
       "<IPython.core.display.HTML object>"
      ]
     },
     "metadata": {},
     "output_type": "display_data"
    },
    {
     "data": {
      "text/html": [
       " View run <strong style=\"color:#cdcd00\">EM_FocalLoss()_SMOTE-0.3</strong> at: <a href='https://wandb.ai/dmitrii_fomin_uga/Internship_project/runs/fbcddwzt' target=\"_blank\">https://wandb.ai/dmitrii_fomin_uga/Internship_project/runs/fbcddwzt</a><br/>Synced 5 W&B file(s), 0 media file(s), 0 artifact file(s) and 0 other file(s)"
      ],
      "text/plain": [
       "<IPython.core.display.HTML object>"
      ]
     },
     "metadata": {},
     "output_type": "display_data"
    },
    {
     "data": {
      "text/html": [
       "Find logs at: <code>../logs/wandb\\run-20230705_100910-fbcddwzt\\logs</code>"
      ],
      "text/plain": [
       "<IPython.core.display.HTML object>"
      ]
     },
     "metadata": {},
     "output_type": "display_data"
    },
    {
     "data": {
      "text/html": [
       "Tracking run with wandb version 0.15.4"
      ],
      "text/plain": [
       "<IPython.core.display.HTML object>"
      ]
     },
     "metadata": {},
     "output_type": "display_data"
    },
    {
     "data": {
      "text/html": [
       "Run data is saved locally in <code>../logs/wandb\\run-20230705_100923-6bpyorpx</code>"
      ],
      "text/plain": [
       "<IPython.core.display.HTML object>"
      ]
     },
     "metadata": {},
     "output_type": "display_data"
    },
    {
     "data": {
      "text/html": [
       "Syncing run <strong><a href='https://wandb.ai/dmitrii_fomin_uga/Internship_project/runs/6bpyorpx' target=\"_blank\">EM_FocalLoss()_SMOTE-0.35</a></strong> to <a href='https://wandb.ai/dmitrii_fomin_uga/Internship_project' target=\"_blank\">Weights & Biases</a> (<a href='https://wandb.me/run' target=\"_blank\">docs</a>)<br/>"
      ],
      "text/plain": [
       "<IPython.core.display.HTML object>"
      ]
     },
     "metadata": {},
     "output_type": "display_data"
    },
    {
     "data": {
      "text/html": [
       " View project at <a href='https://wandb.ai/dmitrii_fomin_uga/Internship_project' target=\"_blank\">https://wandb.ai/dmitrii_fomin_uga/Internship_project</a>"
      ],
      "text/plain": [
       "<IPython.core.display.HTML object>"
      ]
     },
     "metadata": {},
     "output_type": "display_data"
    },
    {
     "data": {
      "text/html": [
       " View run at <a href='https://wandb.ai/dmitrii_fomin_uga/Internship_project/runs/6bpyorpx' target=\"_blank\">https://wandb.ai/dmitrii_fomin_uga/Internship_project/runs/6bpyorpx</a>"
      ],
      "text/plain": [
       "<IPython.core.display.HTML object>"
      ]
     },
     "metadata": {},
     "output_type": "display_data"
    },
    {
     "data": {
      "text/html": [
       "Waiting for W&B process to finish... <strong style=\"color:green\">(success).</strong>"
      ],
      "text/plain": [
       "<IPython.core.display.HTML object>"
      ]
     },
     "metadata": {},
     "output_type": "display_data"
    },
    {
     "data": {
      "text/html": [
       "<style>\n",
       "    table.wandb td:nth-child(1) { padding: 0 10px; text-align: left ; width: auto;} td:nth-child(2) {text-align: left ; width: 100%}\n",
       "    .wandb-row { display: flex; flex-direction: row; flex-wrap: wrap; justify-content: flex-start; width: 100% }\n",
       "    .wandb-col { display: flex; flex-direction: column; flex-basis: 100%; flex: 1; padding: 10px; }\n",
       "    </style>\n",
       "<div class=\"wandb-row\"><div class=\"wandb-col\"><h3>Run history:</h3><br/><table class=\"wandb\"><tr><td>epoch</td><td>▁▁▁▂▂▂▂▂▂▃▃▃▃▃▄▄▄▄▄▄▅▅▅▅▅▅▆▆▆▆▆▇▇▇▇▇▇███</td></tr><tr><td>lr</td><td>█▇▇▆▆▅▅▄▄▄▃▃▃▃▃▂▂▂▂▂▂▂▂▂▁▁▁▁▁▁▁▁▁▁▁▁▁▁▁▁</td></tr><tr><td>test_accuracy</td><td>▁▅▇█████▇███▇█▇███▇█▇▇███▇█████▇████████</td></tr><tr><td>test_auc_score</td><td>▁▅█▇▅▄▃▅▆▆▃▄▄▅▃▄▄▃▄▂▅▅▅▃▄▄▄▄▅▅▅▄▅▅▅▅▄▅▅▅</td></tr><tr><td>test_f1_score</td><td>▁▅▇███▇█▇▇█▇▇▇▇▇▇█▇█▇▇▇▇▇▇▇█▇▇▇▇▇█▇▇▇▇▇▇</td></tr><tr><td>test_fpr</td><td>█▄▂▁▁▁▁▁▂▁▁▁▂▁▂▁▁▁▂▁▂▂▁▁▁▂▁▁▁▁▁▂▁▁▁▁▁▁▁▁</td></tr><tr><td>test_loss</td><td>█▃▂▁▁▁▁▁▂▁▁▁▂▁▁▁▁▁▂▁▁▂▁▁▁▁▁▁▁▁▁▁▁▁▁▁▁▁▁▁</td></tr><tr><td>test_tpr</td><td>█▆▆▅▄▄▁▅▅▅▅▇▆▅▅▅▄▆▆▅▆▅▅▅▅▅▅▇▆▅▅▅▅▅▅▅▅▆▅▅</td></tr><tr><td>train_accuracy</td><td>▁▆▇▇▇▇▇▇▇▇█▇▇███████████████████████████</td></tr><tr><td>train_auc_score</td><td>▁▇▇▇████████████████████████████████████</td></tr><tr><td>train_f1_score</td><td>▁▆▆▇▇▇▇▇▇▇▇▇▇▇▇█████████████████████████</td></tr><tr><td>train_fpr</td><td>█▂▂▂▂▂▂▁▁▁▁▁▁▁▁▁▁▁▁▁▁▁▁▁▁▁▁▁▁▁▁▁▁▁▁▁▁▁▁▁</td></tr><tr><td>train_loss</td><td>█▃▂▂▂▂▂▂▁▁▁▁▁▁▁▁▁▁▁▁▁▁▁▁▁▁▁▁▁▁▁▁▁▁▁▁▁▁▁▁</td></tr><tr><td>train_tpr</td><td>▁▃▃▅▆▆▆▆▇▇▇▇▆▇▇█▇▇▇▇▇█▇█████████████████</td></tr></table><br/></div><div class=\"wandb-col\"><h3>Run summary:</h3><br/><table class=\"wandb\"><tr><td>epoch</td><td>39</td></tr><tr><td>lr</td><td>0.00015</td></tr><tr><td>test_accuracy</td><td>0.88233</td></tr><tr><td>test_auc_score</td><td>0.92316</td></tr><tr><td>test_f1_score</td><td>0.6333</td></tr><tr><td>test_fpr</td><td>0.11691</td></tr><tr><td>test_loss</td><td>0.05226</td></tr><tr><td>test_tpr</td><td>0.86042</td></tr><tr><td>train_accuracy</td><td>0.97759</td></tr><tr><td>train_auc_score</td><td>0.98578</td></tr><tr><td>train_f1_score</td><td>0.97074</td></tr><tr><td>train_fpr</td><td>0.01285</td></tr><tr><td>train_loss</td><td>0.02769</td></tr><tr><td>train_tpr</td><td>0.9505</td></tr></table><br/></div></div>"
      ],
      "text/plain": [
       "<IPython.core.display.HTML object>"
      ]
     },
     "metadata": {},
     "output_type": "display_data"
    },
    {
     "data": {
      "text/html": [
       " View run <strong style=\"color:#cdcd00\">EM_FocalLoss()_SMOTE-0.35</strong> at: <a href='https://wandb.ai/dmitrii_fomin_uga/Internship_project/runs/6bpyorpx' target=\"_blank\">https://wandb.ai/dmitrii_fomin_uga/Internship_project/runs/6bpyorpx</a><br/>Synced 5 W&B file(s), 0 media file(s), 0 artifact file(s) and 0 other file(s)"
      ],
      "text/plain": [
       "<IPython.core.display.HTML object>"
      ]
     },
     "metadata": {},
     "output_type": "display_data"
    },
    {
     "data": {
      "text/html": [
       "Find logs at: <code>../logs/wandb\\run-20230705_100923-6bpyorpx\\logs</code>"
      ],
      "text/plain": [
       "<IPython.core.display.HTML object>"
      ]
     },
     "metadata": {},
     "output_type": "display_data"
    },
    {
     "data": {
      "text/html": [
       "Tracking run with wandb version 0.15.4"
      ],
      "text/plain": [
       "<IPython.core.display.HTML object>"
      ]
     },
     "metadata": {},
     "output_type": "display_data"
    },
    {
     "data": {
      "text/html": [
       "Run data is saved locally in <code>../logs/wandb\\run-20230705_100937-7n7hp37e</code>"
      ],
      "text/plain": [
       "<IPython.core.display.HTML object>"
      ]
     },
     "metadata": {},
     "output_type": "display_data"
    },
    {
     "data": {
      "text/html": [
       "Syncing run <strong><a href='https://wandb.ai/dmitrii_fomin_uga/Internship_project/runs/7n7hp37e' target=\"_blank\">EM_FocalLoss()_SMOTE-0.4</a></strong> to <a href='https://wandb.ai/dmitrii_fomin_uga/Internship_project' target=\"_blank\">Weights & Biases</a> (<a href='https://wandb.me/run' target=\"_blank\">docs</a>)<br/>"
      ],
      "text/plain": [
       "<IPython.core.display.HTML object>"
      ]
     },
     "metadata": {},
     "output_type": "display_data"
    },
    {
     "data": {
      "text/html": [
       " View project at <a href='https://wandb.ai/dmitrii_fomin_uga/Internship_project' target=\"_blank\">https://wandb.ai/dmitrii_fomin_uga/Internship_project</a>"
      ],
      "text/plain": [
       "<IPython.core.display.HTML object>"
      ]
     },
     "metadata": {},
     "output_type": "display_data"
    },
    {
     "data": {
      "text/html": [
       " View run at <a href='https://wandb.ai/dmitrii_fomin_uga/Internship_project/runs/7n7hp37e' target=\"_blank\">https://wandb.ai/dmitrii_fomin_uga/Internship_project/runs/7n7hp37e</a>"
      ],
      "text/plain": [
       "<IPython.core.display.HTML object>"
      ]
     },
     "metadata": {},
     "output_type": "display_data"
    },
    {
     "data": {
      "text/html": [
       "Waiting for W&B process to finish... <strong style=\"color:green\">(success).</strong>"
      ],
      "text/plain": [
       "<IPython.core.display.HTML object>"
      ]
     },
     "metadata": {},
     "output_type": "display_data"
    },
    {
     "data": {
      "text/html": [
       "<style>\n",
       "    table.wandb td:nth-child(1) { padding: 0 10px; text-align: left ; width: auto;} td:nth-child(2) {text-align: left ; width: 100%}\n",
       "    .wandb-row { display: flex; flex-direction: row; flex-wrap: wrap; justify-content: flex-start; width: 100% }\n",
       "    .wandb-col { display: flex; flex-direction: column; flex-basis: 100%; flex: 1; padding: 10px; }\n",
       "    </style>\n",
       "<div class=\"wandb-row\"><div class=\"wandb-col\"><h3>Run history:</h3><br/><table class=\"wandb\"><tr><td>epoch</td><td>▁▁▁▂▂▂▂▂▂▃▃▃▃▃▄▄▄▄▄▄▅▅▅▅▅▅▆▆▆▆▆▇▇▇▇▇▇███</td></tr><tr><td>lr</td><td>█▇▇▆▆▅▅▄▄▄▃▃▃▃▃▂▂▂▂▂▂▂▂▂▁▁▁▁▁▁▁▁▁▁▁▁▁▁▁▁</td></tr><tr><td>test_accuracy</td><td>▁▅▆▇██▇▇▇█▇▇▇█▇▇▆▇▇██████▇██████▇▇▇█▇▇▇▇</td></tr><tr><td>test_auc_score</td><td>▁▅▄▂▆▃▅▇▅▄█▆▇▄▇▇▇▆▇▆▆▆▆▆▇▇▆▄▃▅▄▂▄▆▃▂▃▂▃▃</td></tr><tr><td>test_f1_score</td><td>▁▅▆▆▇█▇▇▇▇▇▆▆█▇▇▆▇▇██████▇████▇▇▇▇▇▇▇▇▇▇</td></tr><tr><td>test_fpr</td><td>█▄▃▂▁▁▂▂▂▁▂▂▂▁▂▂▃▂▂▁▁▁▁▁▁▂▁▁▁▁▂▁▂▂▂▁▂▂▂▂</td></tr><tr><td>test_loss</td><td>█▄▂▂▁▁▂▂▂▁▁▂▂▁▂▂▃▂▂▁▁▁▁▁▁▁▁▁▁▁▁▁▂▂▂▂▂▂▂▂</td></tr><tr><td>test_tpr</td><td>█▆▅▄▁▃▃▇▅▁▃▅▆▃▅▅▅▅▄▄▄▄▃▅▄▄▄▄▄▅▅▃▅▅▄▅▅▄▃▅</td></tr><tr><td>train_accuracy</td><td>▁▆▆▆▇▇▇▇▇▇▇▇▇▇▇▇▇▇▇█████████████████████</td></tr><tr><td>train_auc_score</td><td>▁▇▇▇▇▇▇█▇▇██████████████████████████████</td></tr><tr><td>train_f1_score</td><td>▁▆▆▆▆▇▆▇▇▇▇▇▇▇▇▇▇▇▇▇████████████████████</td></tr><tr><td>train_fpr</td><td>█▂▂▂▂▂▂▂▂▂▁▂▂▁▁▁▂▂▁▁▁▁▁▁▁▁▁▁▁▁▁▁▁▁▁▁▁▁▁▁</td></tr><tr><td>train_loss</td><td>█▃▂▂▂▂▂▂▂▂▂▂▁▁▁▁▂▁▁▁▁▁▁▁▁▁▁▁▁▁▁▁▁▁▁▁▁▁▁▁</td></tr><tr><td>train_tpr</td><td>▁▃▅▄▅▅▄▆▅▅▅▆▇▆▆▆▆▇▆▇▇▇▇▇▇▇█▇███▇████████</td></tr></table><br/></div><div class=\"wandb-col\"><h3>Run summary:</h3><br/><table class=\"wandb\"><tr><td>epoch</td><td>39</td></tr><tr><td>lr</td><td>0.00015</td></tr><tr><td>test_accuracy</td><td>0.85422</td></tr><tr><td>test_auc_score</td><td>0.93212</td></tr><tr><td>test_f1_score</td><td>0.60771</td></tr><tr><td>test_fpr</td><td>0.14784</td></tr><tr><td>test_loss</td><td>0.06076</td></tr><tr><td>test_tpr</td><td>0.91334</td></tr><tr><td>train_accuracy</td><td>0.9774</td></tr><tr><td>train_auc_score</td><td>0.98427</td></tr><tr><td>train_f1_score</td><td>0.97207</td></tr><tr><td>train_fpr</td><td>0.01495</td></tr><tr><td>train_loss</td><td>0.02767</td></tr><tr><td>train_tpr</td><td>0.9587</td></tr></table><br/></div></div>"
      ],
      "text/plain": [
       "<IPython.core.display.HTML object>"
      ]
     },
     "metadata": {},
     "output_type": "display_data"
    },
    {
     "data": {
      "text/html": [
       " View run <strong style=\"color:#cdcd00\">EM_FocalLoss()_SMOTE-0.4</strong> at: <a href='https://wandb.ai/dmitrii_fomin_uga/Internship_project/runs/7n7hp37e' target=\"_blank\">https://wandb.ai/dmitrii_fomin_uga/Internship_project/runs/7n7hp37e</a><br/>Synced 5 W&B file(s), 0 media file(s), 0 artifact file(s) and 0 other file(s)"
      ],
      "text/plain": [
       "<IPython.core.display.HTML object>"
      ]
     },
     "metadata": {},
     "output_type": "display_data"
    },
    {
     "data": {
      "text/html": [
       "Find logs at: <code>../logs/wandb\\run-20230705_100937-7n7hp37e\\logs</code>"
      ],
      "text/plain": [
       "<IPython.core.display.HTML object>"
      ]
     },
     "metadata": {},
     "output_type": "display_data"
    },
    {
     "data": {
      "text/html": [
       "Tracking run with wandb version 0.15.4"
      ],
      "text/plain": [
       "<IPython.core.display.HTML object>"
      ]
     },
     "metadata": {},
     "output_type": "display_data"
    },
    {
     "data": {
      "text/html": [
       "Run data is saved locally in <code>../logs/wandb\\run-20230705_100953-izcaoz3w</code>"
      ],
      "text/plain": [
       "<IPython.core.display.HTML object>"
      ]
     },
     "metadata": {},
     "output_type": "display_data"
    },
    {
     "data": {
      "text/html": [
       "Syncing run <strong><a href='https://wandb.ai/dmitrii_fomin_uga/Internship_project/runs/izcaoz3w' target=\"_blank\">EM_FocalLoss()_SMOTE-0.45</a></strong> to <a href='https://wandb.ai/dmitrii_fomin_uga/Internship_project' target=\"_blank\">Weights & Biases</a> (<a href='https://wandb.me/run' target=\"_blank\">docs</a>)<br/>"
      ],
      "text/plain": [
       "<IPython.core.display.HTML object>"
      ]
     },
     "metadata": {},
     "output_type": "display_data"
    },
    {
     "data": {
      "text/html": [
       " View project at <a href='https://wandb.ai/dmitrii_fomin_uga/Internship_project' target=\"_blank\">https://wandb.ai/dmitrii_fomin_uga/Internship_project</a>"
      ],
      "text/plain": [
       "<IPython.core.display.HTML object>"
      ]
     },
     "metadata": {},
     "output_type": "display_data"
    },
    {
     "data": {
      "text/html": [
       " View run at <a href='https://wandb.ai/dmitrii_fomin_uga/Internship_project/runs/izcaoz3w' target=\"_blank\">https://wandb.ai/dmitrii_fomin_uga/Internship_project/runs/izcaoz3w</a>"
      ],
      "text/plain": [
       "<IPython.core.display.HTML object>"
      ]
     },
     "metadata": {},
     "output_type": "display_data"
    },
    {
     "data": {
      "text/html": [
       "Waiting for W&B process to finish... <strong style=\"color:green\">(success).</strong>"
      ],
      "text/plain": [
       "<IPython.core.display.HTML object>"
      ]
     },
     "metadata": {},
     "output_type": "display_data"
    },
    {
     "data": {
      "text/html": [
       "<style>\n",
       "    table.wandb td:nth-child(1) { padding: 0 10px; text-align: left ; width: auto;} td:nth-child(2) {text-align: left ; width: 100%}\n",
       "    .wandb-row { display: flex; flex-direction: row; flex-wrap: wrap; justify-content: flex-start; width: 100% }\n",
       "    .wandb-col { display: flex; flex-direction: column; flex-basis: 100%; flex: 1; padding: 10px; }\n",
       "    </style>\n",
       "<div class=\"wandb-row\"><div class=\"wandb-col\"><h3>Run history:</h3><br/><table class=\"wandb\"><tr><td>epoch</td><td>▁▁▁▂▂▂▂▂▂▃▃▃▃▃▄▄▄▄▄▄▅▅▅▅▅▅▆▆▆▆▆▇▇▇▇▇▇███</td></tr><tr><td>lr</td><td>█▇▇▆▆▅▅▄▄▄▃▃▃▃▃▂▂▂▂▂▂▂▂▂▁▁▁▁▁▁▁▁▁▁▁▁▁▁▁▁</td></tr><tr><td>test_accuracy</td><td>▁▆▇▆▇▇▇▇█▇█▇██████▇█████████████████████</td></tr><tr><td>test_auc_score</td><td>▁▇▇▇▅▆▇▇▅▇█▇█▇█▆▇▅▇▇▆▆▅▆▆▆▆▅▆▅▆▆▇▇▇▇▇▇▆▆</td></tr><tr><td>test_f1_score</td><td>▁▆▆▆▆▇▆▇▇▇▇▇██████▇█▇▇▇█████▇▇▇█████████</td></tr><tr><td>test_fpr</td><td>█▃▂▃▂▂▂▂▁▂▁▂▁▁▁▁▁▁▁▁▁▁▁▁▁▁▁▁▁▁▁▁▁▁▁▁▁▁▁▁</td></tr><tr><td>test_loss</td><td>█▃▂▃▂▂▂▂▁▂▁▂▁▁▁▁▁▁▁▁▁▁▁▁▁▁▁▁▁▁▁▁▁▁▁▁▁▁▁▁</td></tr><tr><td>test_tpr</td><td>█▇▃▆▁▂▂▃▃█▃▁▅▂▅▃▅▅▄▇▃▅▃▄▄▄▅▅▄▄▄▆▆▄▄▅▅▆▄▆</td></tr><tr><td>train_accuracy</td><td>▁▆▇▇▇▇▇▇▇▇▇▇▇▇███▇██████████████████████</td></tr><tr><td>train_auc_score</td><td>▁▇▇▇█▇███▇██████████████████████████████</td></tr><tr><td>train_f1_score</td><td>▁▆▆▆▇▇▇▇▇▇▇▇▇▇▇█▇▇██████████████████████</td></tr><tr><td>train_fpr</td><td>█▃▂▂▂▂▂▂▂▂▁▂▂▁▁▁▁▁▁▁▁▁▁▁▁▁▁▁▁▁▁▁▁▁▁▁▁▁▁▁</td></tr><tr><td>train_loss</td><td>█▃▂▂▂▂▂▂▂▂▁▁▁▁▁▁▁▁▁▁▁▁▁▁▁▁▁▁▁▁▁▁▁▁▁▁▁▁▁▁</td></tr><tr><td>train_tpr</td><td>▁▄▅▅▆▆▆▆▇▆▆▇▇▇▇▇▇▇▇▇▇▇▇▇████████████████</td></tr></table><br/></div><div class=\"wandb-col\"><h3>Run summary:</h3><br/><table class=\"wandb\"><tr><td>epoch</td><td>39</td></tr><tr><td>lr</td><td>0.00015</td></tr><tr><td>test_accuracy</td><td>0.84701</td></tr><tr><td>test_auc_score</td><td>0.93481</td></tr><tr><td>test_f1_score</td><td>0.60417</td></tr><tr><td>test_fpr</td><td>0.15637</td></tr><tr><td>test_loss</td><td>0.06332</td></tr><tr><td>test_tpr</td><td>0.94642</td></tr><tr><td>train_accuracy</td><td>0.97476</td></tr><tr><td>train_auc_score</td><td>0.98433</td></tr><tr><td>train_f1_score</td><td>0.97043</td></tr><tr><td>train_fpr</td><td>0.0146</td></tr><tr><td>train_loss</td><td>0.02812</td></tr><tr><td>train_tpr</td><td>0.95207</td></tr></table><br/></div></div>"
      ],
      "text/plain": [
       "<IPython.core.display.HTML object>"
      ]
     },
     "metadata": {},
     "output_type": "display_data"
    },
    {
     "data": {
      "text/html": [
       " View run <strong style=\"color:#cdcd00\">EM_FocalLoss()_SMOTE-0.45</strong> at: <a href='https://wandb.ai/dmitrii_fomin_uga/Internship_project/runs/izcaoz3w' target=\"_blank\">https://wandb.ai/dmitrii_fomin_uga/Internship_project/runs/izcaoz3w</a><br/>Synced 5 W&B file(s), 0 media file(s), 0 artifact file(s) and 0 other file(s)"
      ],
      "text/plain": [
       "<IPython.core.display.HTML object>"
      ]
     },
     "metadata": {},
     "output_type": "display_data"
    },
    {
     "data": {
      "text/html": [
       "Find logs at: <code>../logs/wandb\\run-20230705_100953-izcaoz3w\\logs</code>"
      ],
      "text/plain": [
       "<IPython.core.display.HTML object>"
      ]
     },
     "metadata": {},
     "output_type": "display_data"
    },
    {
     "data": {
      "text/html": [
       "Tracking run with wandb version 0.15.4"
      ],
      "text/plain": [
       "<IPython.core.display.HTML object>"
      ]
     },
     "metadata": {},
     "output_type": "display_data"
    },
    {
     "data": {
      "text/html": [
       "Run data is saved locally in <code>../logs/wandb\\run-20230705_101008-5tm8eetk</code>"
      ],
      "text/plain": [
       "<IPython.core.display.HTML object>"
      ]
     },
     "metadata": {},
     "output_type": "display_data"
    },
    {
     "data": {
      "text/html": [
       "Syncing run <strong><a href='https://wandb.ai/dmitrii_fomin_uga/Internship_project/runs/5tm8eetk' target=\"_blank\">EM_FocalLoss()_SMOTE-0.5</a></strong> to <a href='https://wandb.ai/dmitrii_fomin_uga/Internship_project' target=\"_blank\">Weights & Biases</a> (<a href='https://wandb.me/run' target=\"_blank\">docs</a>)<br/>"
      ],
      "text/plain": [
       "<IPython.core.display.HTML object>"
      ]
     },
     "metadata": {},
     "output_type": "display_data"
    },
    {
     "data": {
      "text/html": [
       " View project at <a href='https://wandb.ai/dmitrii_fomin_uga/Internship_project' target=\"_blank\">https://wandb.ai/dmitrii_fomin_uga/Internship_project</a>"
      ],
      "text/plain": [
       "<IPython.core.display.HTML object>"
      ]
     },
     "metadata": {},
     "output_type": "display_data"
    },
    {
     "data": {
      "text/html": [
       " View run at <a href='https://wandb.ai/dmitrii_fomin_uga/Internship_project/runs/5tm8eetk' target=\"_blank\">https://wandb.ai/dmitrii_fomin_uga/Internship_project/runs/5tm8eetk</a>"
      ],
      "text/plain": [
       "<IPython.core.display.HTML object>"
      ]
     },
     "metadata": {},
     "output_type": "display_data"
    },
    {
     "data": {
      "text/html": [
       "Waiting for W&B process to finish... <strong style=\"color:green\">(success).</strong>"
      ],
      "text/plain": [
       "<IPython.core.display.HTML object>"
      ]
     },
     "metadata": {},
     "output_type": "display_data"
    },
    {
     "data": {
      "text/html": [
       "<style>\n",
       "    table.wandb td:nth-child(1) { padding: 0 10px; text-align: left ; width: auto;} td:nth-child(2) {text-align: left ; width: 100%}\n",
       "    .wandb-row { display: flex; flex-direction: row; flex-wrap: wrap; justify-content: flex-start; width: 100% }\n",
       "    .wandb-col { display: flex; flex-direction: column; flex-basis: 100%; flex: 1; padding: 10px; }\n",
       "    </style>\n",
       "<div class=\"wandb-row\"><div class=\"wandb-col\"><h3>Run history:</h3><br/><table class=\"wandb\"><tr><td>epoch</td><td>▁▁▁▂▂▂▂▂▂▃▃▃▃▃▄▄▄▄▄▄▅▅▅▅▅▅▆▆▆▆▆▇▇▇▇▇▇███</td></tr><tr><td>lr</td><td>█▇▇▆▆▅▅▄▄▄▃▃▃▃▃▂▂▂▂▂▂▂▂▂▁▁▁▁▁▁▁▁▁▁▁▁▁▁▁▁</td></tr><tr><td>test_accuracy</td><td>▁▇▇▅▅▆▇▆▇▇▇▇▇▇▇▇▇▇▆▇▇█▇▇▇▇█▇█▇▇▇▇▇▇███▇▇</td></tr><tr><td>test_auc_score</td><td>▃▁▃▄▆█▇▇▇▇▆▇▆▇▅▅▅▄▄▄▄▅▄▅▄▄▅▄▄▄▄▄▄▄▄▄▄▄▄▄</td></tr><tr><td>test_f1_score</td><td>▁▆▇▅▅▆▇▆▇▇▆▇▇▇▇▆▇▇▆▇▇▇▇▇▇▇█▇█▇▇▇▇▇▇███▇▇</td></tr><tr><td>test_fpr</td><td>█▂▂▄▄▃▂▃▂▂▂▂▂▂▂▂▂▂▃▂▂▁▂▂▂▂▁▂▁▂▂▂▂▂▂▁▁▁▂▂</td></tr><tr><td>test_loss</td><td>█▂▂▄▄▃▂▄▂▂▂▂▂▂▂▂▂▂▃▂▂▂▂▂▂▂▁▂▁▂▂▂▂▂▂▁▁▂▂▂</td></tr><tr><td>test_tpr</td><td>▅▁▄▅▅▇▆█▄▇▅▅▅▇▄▇▆▆▆▆▆▆▄▇▆▄▅▅▆▅▄▅▆▆▇▇▇▆▆▇</td></tr><tr><td>train_accuracy</td><td>▁▆▆▆▆▇▇▇▇▇▇▇▇▇▇▇▇▇▇▇████████████████████</td></tr><tr><td>train_auc_score</td><td>▁▇▇▇▇▇▇█████████████████████████████████</td></tr><tr><td>train_f1_score</td><td>▁▆▆▆▆▆▆▇▇▇▇▇▇▇▇▇▇▇▇▇█▇██████████████████</td></tr><tr><td>train_fpr</td><td>█▃▂▂▂▂▂▂▂▂▂▁▂▁▁▁▁▁▁▁▁▁▁▁▁▁▁▁▁▁▁▁▁▁▁▁▁▁▁▁</td></tr><tr><td>train_loss</td><td>█▃▂▂▂▂▂▂▂▂▂▁▁▁▁▁▁▁▁▁▁▁▁▁▁▁▁▁▁▁▁▁▁▁▁▁▁▁▁▁</td></tr><tr><td>train_tpr</td><td>▁▄▄▄▄▅▅▆▅▆▆▆▆▇▆▇▇▇▇▇▇▇▇▇▇▇▇▇█▇███▇████▇█</td></tr></table><br/></div><div class=\"wandb-col\"><h3>Run summary:</h3><br/><table class=\"wandb\"><tr><td>epoch</td><td>39</td></tr><tr><td>lr</td><td>0.00015</td></tr><tr><td>test_accuracy</td><td>0.82877</td></tr><tr><td>test_auc_score</td><td>0.91333</td></tr><tr><td>test_f1_score</td><td>0.58754</td></tr><tr><td>test_fpr</td><td>0.17518</td></tr><tr><td>test_loss</td><td>0.06992</td></tr><tr><td>test_tpr</td><td>0.94259</td></tr><tr><td>train_accuracy</td><td>0.98003</td></tr><tr><td>train_auc_score</td><td>0.9916</td></tr><tr><td>train_f1_score</td><td>0.97748</td></tr><tr><td>train_fpr</td><td>0.01596</td></tr><tr><td>train_loss</td><td>0.02708</td></tr><tr><td>train_tpr</td><td>0.9724</td></tr></table><br/></div></div>"
      ],
      "text/plain": [
       "<IPython.core.display.HTML object>"
      ]
     },
     "metadata": {},
     "output_type": "display_data"
    },
    {
     "data": {
      "text/html": [
       " View run <strong style=\"color:#cdcd00\">EM_FocalLoss()_SMOTE-0.5</strong> at: <a href='https://wandb.ai/dmitrii_fomin_uga/Internship_project/runs/5tm8eetk' target=\"_blank\">https://wandb.ai/dmitrii_fomin_uga/Internship_project/runs/5tm8eetk</a><br/>Synced 5 W&B file(s), 0 media file(s), 0 artifact file(s) and 0 other file(s)"
      ],
      "text/plain": [
       "<IPython.core.display.HTML object>"
      ]
     },
     "metadata": {},
     "output_type": "display_data"
    },
    {
     "data": {
      "text/html": [
       "Find logs at: <code>../logs/wandb\\run-20230705_101008-5tm8eetk\\logs</code>"
      ],
      "text/plain": [
       "<IPython.core.display.HTML object>"
      ]
     },
     "metadata": {},
     "output_type": "display_data"
    },
    {
     "data": {
      "text/html": [
       "Tracking run with wandb version 0.15.4"
      ],
      "text/plain": [
       "<IPython.core.display.HTML object>"
      ]
     },
     "metadata": {},
     "output_type": "display_data"
    },
    {
     "data": {
      "text/html": [
       "Run data is saved locally in <code>../logs/wandb\\run-20230705_101022-wdkv0qen</code>"
      ],
      "text/plain": [
       "<IPython.core.display.HTML object>"
      ]
     },
     "metadata": {},
     "output_type": "display_data"
    },
    {
     "data": {
      "text/html": [
       "Syncing run <strong><a href='https://wandb.ai/dmitrii_fomin_uga/Internship_project/runs/wdkv0qen' target=\"_blank\">EM_FocalLoss()_SMOTE-0.55</a></strong> to <a href='https://wandb.ai/dmitrii_fomin_uga/Internship_project' target=\"_blank\">Weights & Biases</a> (<a href='https://wandb.me/run' target=\"_blank\">docs</a>)<br/>"
      ],
      "text/plain": [
       "<IPython.core.display.HTML object>"
      ]
     },
     "metadata": {},
     "output_type": "display_data"
    },
    {
     "data": {
      "text/html": [
       " View project at <a href='https://wandb.ai/dmitrii_fomin_uga/Internship_project' target=\"_blank\">https://wandb.ai/dmitrii_fomin_uga/Internship_project</a>"
      ],
      "text/plain": [
       "<IPython.core.display.HTML object>"
      ]
     },
     "metadata": {},
     "output_type": "display_data"
    },
    {
     "data": {
      "text/html": [
       " View run at <a href='https://wandb.ai/dmitrii_fomin_uga/Internship_project/runs/wdkv0qen' target=\"_blank\">https://wandb.ai/dmitrii_fomin_uga/Internship_project/runs/wdkv0qen</a>"
      ],
      "text/plain": [
       "<IPython.core.display.HTML object>"
      ]
     },
     "metadata": {},
     "output_type": "display_data"
    },
    {
     "data": {
      "text/html": [
       "Waiting for W&B process to finish... <strong style=\"color:green\">(success).</strong>"
      ],
      "text/plain": [
       "<IPython.core.display.HTML object>"
      ]
     },
     "metadata": {},
     "output_type": "display_data"
    },
    {
     "data": {
      "text/html": [
       "<style>\n",
       "    table.wandb td:nth-child(1) { padding: 0 10px; text-align: left ; width: auto;} td:nth-child(2) {text-align: left ; width: 100%}\n",
       "    .wandb-row { display: flex; flex-direction: row; flex-wrap: wrap; justify-content: flex-start; width: 100% }\n",
       "    .wandb-col { display: flex; flex-direction: column; flex-basis: 100%; flex: 1; padding: 10px; }\n",
       "    </style>\n",
       "<div class=\"wandb-row\"><div class=\"wandb-col\"><h3>Run history:</h3><br/><table class=\"wandb\"><tr><td>epoch</td><td>▁▁▁▂▂▂▂▂▂▃▃▃▃▃▄▄▄▄▄▄▅▅▅▅▅▅▆▆▆▆▆▇▇▇▇▇▇███</td></tr><tr><td>lr</td><td>█▇▇▆▆▅▅▄▄▄▃▃▃▃▃▂▂▂▂▂▂▂▂▂▁▁▁▁▁▁▁▁▁▁▁▁▁▁▁▁</td></tr><tr><td>test_accuracy</td><td>▁▅██▅▇▅▅▇▄▇▅▇▆▆▇▇▇▆▆▇▇▇▇▆▆▇▆▇▆▆▇▇▇▇▇▇▇▇▇</td></tr><tr><td>test_auc_score</td><td>▁▆▃▇▅▃▄▆▆▅▅▆▆█▇▇▇▆▇██▇▇▇▆▇▇▇▇▇▇▇▇▇▇█▇▇▇▇</td></tr><tr><td>test_f1_score</td><td>▁▄▇█▅▆▅▅▇▄▆▅▇▅▆▇▇▇▆▆▇▇▇▇▆▆▇▆▆▅▆▇▆▇▆▇▇▇▇▇</td></tr><tr><td>test_fpr</td><td>█▄▁▁▄▂▄▄▂▅▂▄▂▃▃▂▂▂▃▃▂▂▂▂▃▃▂▃▂▃▃▂▂▂▂▂▂▂▂▂</td></tr><tr><td>test_loss</td><td>█▄▁▁▄▂▅▄▂▅▃▅▂▃▃▂▂▃▃▃▂▂▂▂▄▃▂▃▃▃▃▂▂▂▃▂▂▂▂▂</td></tr><tr><td>test_tpr</td><td>▆▄▁▅▅▄▆█▆▆▅▆▆▆▆▅▅▆▆▆▆▇▆▅▆▅▄▅▅▄▅▄▅▄▄▅▄▄▄▄</td></tr><tr><td>train_accuracy</td><td>▁▆▆▆▆▆▆▇▇▆▇▇▇▇▇▇▇██▇▇▇█████▇████████████</td></tr><tr><td>train_auc_score</td><td>▁▇▇▇▇▇▇███▇█████████████████████████████</td></tr><tr><td>train_f1_score</td><td>▁▅▆▆▆▆▆▇▆▆▇▇▇▇▇▇▇▇▇▇▇▇█████▇████████████</td></tr><tr><td>train_fpr</td><td>█▃▂▂▂▂▂▂▂▂▂▂▂▂▂▂▁▁▁▂▁▂▁▁▂▁▁▁▂▁▁▁▁▁▁▁▁▁▁▁</td></tr><tr><td>train_loss</td><td>█▃▃▂▂▂▂▂▂▂▂▂▂▂▂▁▁▁▁▁▁▁▁▁▁▁▁▁▁▁▁▁▁▁▁▁▁▁▁▁</td></tr><tr><td>train_tpr</td><td>▁▄▃▄▅▄▅▆▅▅▅▆▇▆▆▇▇▇▇▇▇▇▇▇██▇▇█▇██████████</td></tr></table><br/></div><div class=\"wandb-col\"><h3>Run summary:</h3><br/><table class=\"wandb\"><tr><td>epoch</td><td>39</td></tr><tr><td>lr</td><td>0.00015</td></tr><tr><td>test_accuracy</td><td>0.80359</td></tr><tr><td>test_auc_score</td><td>0.94473</td></tr><tr><td>test_f1_score</td><td>0.56219</td></tr><tr><td>test_fpr</td><td>0.20057</td></tr><tr><td>test_loss</td><td>0.07866</td></tr><tr><td>test_tpr</td><td>0.9142</td></tr><tr><td>train_accuracy</td><td>0.97454</td></tr><tr><td>train_auc_score</td><td>0.98852</td></tr><tr><td>train_f1_score</td><td>0.97232</td></tr><tr><td>train_fpr</td><td>0.02084</td></tr><tr><td>train_loss</td><td>0.02804</td></tr><tr><td>train_tpr</td><td>0.96628</td></tr></table><br/></div></div>"
      ],
      "text/plain": [
       "<IPython.core.display.HTML object>"
      ]
     },
     "metadata": {},
     "output_type": "display_data"
    },
    {
     "data": {
      "text/html": [
       " View run <strong style=\"color:#cdcd00\">EM_FocalLoss()_SMOTE-0.55</strong> at: <a href='https://wandb.ai/dmitrii_fomin_uga/Internship_project/runs/wdkv0qen' target=\"_blank\">https://wandb.ai/dmitrii_fomin_uga/Internship_project/runs/wdkv0qen</a><br/>Synced 5 W&B file(s), 0 media file(s), 0 artifact file(s) and 0 other file(s)"
      ],
      "text/plain": [
       "<IPython.core.display.HTML object>"
      ]
     },
     "metadata": {},
     "output_type": "display_data"
    },
    {
     "data": {
      "text/html": [
       "Find logs at: <code>../logs/wandb\\run-20230705_101022-wdkv0qen\\logs</code>"
      ],
      "text/plain": [
       "<IPython.core.display.HTML object>"
      ]
     },
     "metadata": {},
     "output_type": "display_data"
    },
    {
     "data": {
      "text/html": [
       "Tracking run with wandb version 0.15.4"
      ],
      "text/plain": [
       "<IPython.core.display.HTML object>"
      ]
     },
     "metadata": {},
     "output_type": "display_data"
    },
    {
     "data": {
      "text/html": [
       "Run data is saved locally in <code>../logs/wandb\\run-20230705_101037-b066lq62</code>"
      ],
      "text/plain": [
       "<IPython.core.display.HTML object>"
      ]
     },
     "metadata": {},
     "output_type": "display_data"
    },
    {
     "data": {
      "text/html": [
       "Syncing run <strong><a href='https://wandb.ai/dmitrii_fomin_uga/Internship_project/runs/b066lq62' target=\"_blank\">EM_FocalLoss()_SMOTE-0.6</a></strong> to <a href='https://wandb.ai/dmitrii_fomin_uga/Internship_project' target=\"_blank\">Weights & Biases</a> (<a href='https://wandb.me/run' target=\"_blank\">docs</a>)<br/>"
      ],
      "text/plain": [
       "<IPython.core.display.HTML object>"
      ]
     },
     "metadata": {},
     "output_type": "display_data"
    },
    {
     "data": {
      "text/html": [
       " View project at <a href='https://wandb.ai/dmitrii_fomin_uga/Internship_project' target=\"_blank\">https://wandb.ai/dmitrii_fomin_uga/Internship_project</a>"
      ],
      "text/plain": [
       "<IPython.core.display.HTML object>"
      ]
     },
     "metadata": {},
     "output_type": "display_data"
    },
    {
     "data": {
      "text/html": [
       " View run at <a href='https://wandb.ai/dmitrii_fomin_uga/Internship_project/runs/b066lq62' target=\"_blank\">https://wandb.ai/dmitrii_fomin_uga/Internship_project/runs/b066lq62</a>"
      ],
      "text/plain": [
       "<IPython.core.display.HTML object>"
      ]
     },
     "metadata": {},
     "output_type": "display_data"
    },
    {
     "data": {
      "text/html": [
       "Waiting for W&B process to finish... <strong style=\"color:green\">(success).</strong>"
      ],
      "text/plain": [
       "<IPython.core.display.HTML object>"
      ]
     },
     "metadata": {},
     "output_type": "display_data"
    },
    {
     "data": {
      "text/html": [
       "<style>\n",
       "    table.wandb td:nth-child(1) { padding: 0 10px; text-align: left ; width: auto;} td:nth-child(2) {text-align: left ; width: 100%}\n",
       "    .wandb-row { display: flex; flex-direction: row; flex-wrap: wrap; justify-content: flex-start; width: 100% }\n",
       "    .wandb-col { display: flex; flex-direction: column; flex-basis: 100%; flex: 1; padding: 10px; }\n",
       "    </style>\n",
       "<div class=\"wandb-row\"><div class=\"wandb-col\"><h3>Run history:</h3><br/><table class=\"wandb\"><tr><td>epoch</td><td>▁▁▁▂▂▂▂▂▂▃▃▃▃▃▄▄▄▄▄▄▅▅▅▅▅▅▆▆▆▆▆▇▇▇▇▇▇███</td></tr><tr><td>lr</td><td>█▇▇▆▆▅▅▄▄▄▃▃▃▃▃▂▂▂▂▂▂▂▂▂▁▁▁▁▁▁▁▁▁▁▁▁▁▁▁▁</td></tr><tr><td>test_accuracy</td><td>▇█▆▇▅▂▄▃▃▅▄▂▃▃▂▃▃▃▃▄▄▁▄▂▃▃▂▃▃▃▃▂▃▄▃▂▃▃▃▃</td></tr><tr><td>test_auc_score</td><td>▁▂▅▄▆▄▃▄▆▆▆▇▇▆▆▇▇▇▇██▆█▆▇▇▇▇█▇▇▇▇▇▇▇▇▇▆▇</td></tr><tr><td>test_f1_score</td><td>▇█▆▇▅▂▄▃▃▅▄▂▃▃▂▃▃▃▃▄▄▁▄▂▃▃▂▃▃▃▃▂▃▄▃▂▃▃▃▃</td></tr><tr><td>test_fpr</td><td>▂▁▃▃▄▇▅▆▆▄▅▇▆▆▇▆▆▆▆▅▅█▆▇▆▆▇▆▆▆▆▇▆▅▆▇▆▆▆▆</td></tr><tr><td>test_loss</td><td>▁▁▃▃▄▇▅▆▆▄▅▇▆▆▇▆▆▆▆▅▅█▆▇▆▆▇▆▆▆▆▇▆▆▆▇▆▆▆▆</td></tr><tr><td>test_tpr</td><td>▁▁▅▆▇█▇▆▇▇▇▇▆▇▆▇▇▇▆▇▆▆█▆▇▆▆▆▆▆▆▇▆▆▆▆▇▆▆▇</td></tr><tr><td>train_accuracy</td><td>▁▆▆▆▆▆▇▇▇▇▇▇▇▇▇▇█▇██████████████████████</td></tr><tr><td>train_auc_score</td><td>▁▆▇▇▆▇▇▇▇███████████████████████████████</td></tr><tr><td>train_f1_score</td><td>▁▆▆▆▆▆▇▆▇▇▇▇▇▇▇▇▇▇██▇███████████████████</td></tr><tr><td>train_fpr</td><td>█▃▂▃▂▂▂▂▂▂▂▂▂▂▂▂▂▂▁▂▁▂▁▁▁▁▁▁▁▁▁▁▁▁▁▁▁▁▁▁</td></tr><tr><td>train_loss</td><td>█▃▂▂▂▂▂▂▂▂▂▂▂▁▂▁▁▁▁▁▁▁▁▁▁▁▁▁▁▁▁▁▁▁▁▁▁▁▁▁</td></tr><tr><td>train_tpr</td><td>▁▅▅▆▄▅▆▆▆▆▇▇▇▇▇▇▇▇▇█▇███▇████▇██████████</td></tr></table><br/></div><div class=\"wandb-col\"><h3>Run summary:</h3><br/><table class=\"wandb\"><tr><td>epoch</td><td>39</td></tr><tr><td>lr</td><td>0.00015</td></tr><tr><td>test_accuracy</td><td>0.75421</td></tr><tr><td>test_auc_score</td><td>0.92625</td></tr><tr><td>test_f1_score</td><td>0.53073</td></tr><tr><td>test_fpr</td><td>0.2527</td></tr><tr><td>test_loss</td><td>0.09826</td></tr><tr><td>test_tpr</td><td>0.95158</td></tr><tr><td>train_accuracy</td><td>0.97388</td></tr><tr><td>train_auc_score</td><td>0.99139</td></tr><tr><td>train_f1_score</td><td>0.97211</td></tr><tr><td>train_fpr</td><td>0.02155</td></tr><tr><td>train_loss</td><td>0.02803</td></tr><tr><td>train_tpr</td><td>0.96682</td></tr></table><br/></div></div>"
      ],
      "text/plain": [
       "<IPython.core.display.HTML object>"
      ]
     },
     "metadata": {},
     "output_type": "display_data"
    },
    {
     "data": {
      "text/html": [
       " View run <strong style=\"color:#cdcd00\">EM_FocalLoss()_SMOTE-0.6</strong> at: <a href='https://wandb.ai/dmitrii_fomin_uga/Internship_project/runs/b066lq62' target=\"_blank\">https://wandb.ai/dmitrii_fomin_uga/Internship_project/runs/b066lq62</a><br/>Synced 5 W&B file(s), 0 media file(s), 0 artifact file(s) and 0 other file(s)"
      ],
      "text/plain": [
       "<IPython.core.display.HTML object>"
      ]
     },
     "metadata": {},
     "output_type": "display_data"
    },
    {
     "data": {
      "text/html": [
       "Find logs at: <code>../logs/wandb\\run-20230705_101037-b066lq62\\logs</code>"
      ],
      "text/plain": [
       "<IPython.core.display.HTML object>"
      ]
     },
     "metadata": {},
     "output_type": "display_data"
    },
    {
     "data": {
      "text/html": [
       "Tracking run with wandb version 0.15.4"
      ],
      "text/plain": [
       "<IPython.core.display.HTML object>"
      ]
     },
     "metadata": {},
     "output_type": "display_data"
    },
    {
     "data": {
      "text/html": [
       "Run data is saved locally in <code>../logs/wandb\\run-20230705_101052-6h16hx4i</code>"
      ],
      "text/plain": [
       "<IPython.core.display.HTML object>"
      ]
     },
     "metadata": {},
     "output_type": "display_data"
    },
    {
     "data": {
      "text/html": [
       "Syncing run <strong><a href='https://wandb.ai/dmitrii_fomin_uga/Internship_project/runs/6h16hx4i' target=\"_blank\">EM_FocalLoss()_SMOTE-0.7</a></strong> to <a href='https://wandb.ai/dmitrii_fomin_uga/Internship_project' target=\"_blank\">Weights & Biases</a> (<a href='https://wandb.me/run' target=\"_blank\">docs</a>)<br/>"
      ],
      "text/plain": [
       "<IPython.core.display.HTML object>"
      ]
     },
     "metadata": {},
     "output_type": "display_data"
    },
    {
     "data": {
      "text/html": [
       " View project at <a href='https://wandb.ai/dmitrii_fomin_uga/Internship_project' target=\"_blank\">https://wandb.ai/dmitrii_fomin_uga/Internship_project</a>"
      ],
      "text/plain": [
       "<IPython.core.display.HTML object>"
      ]
     },
     "metadata": {},
     "output_type": "display_data"
    },
    {
     "data": {
      "text/html": [
       " View run at <a href='https://wandb.ai/dmitrii_fomin_uga/Internship_project/runs/6h16hx4i' target=\"_blank\">https://wandb.ai/dmitrii_fomin_uga/Internship_project/runs/6h16hx4i</a>"
      ],
      "text/plain": [
       "<IPython.core.display.HTML object>"
      ]
     },
     "metadata": {},
     "output_type": "display_data"
    },
    {
     "data": {
      "text/html": [
       "Waiting for W&B process to finish... <strong style=\"color:green\">(success).</strong>"
      ],
      "text/plain": [
       "<IPython.core.display.HTML object>"
      ]
     },
     "metadata": {},
     "output_type": "display_data"
    },
    {
     "data": {
      "text/html": [
       "<style>\n",
       "    table.wandb td:nth-child(1) { padding: 0 10px; text-align: left ; width: auto;} td:nth-child(2) {text-align: left ; width: 100%}\n",
       "    .wandb-row { display: flex; flex-direction: row; flex-wrap: wrap; justify-content: flex-start; width: 100% }\n",
       "    .wandb-col { display: flex; flex-direction: column; flex-basis: 100%; flex: 1; padding: 10px; }\n",
       "    </style>\n",
       "<div class=\"wandb-row\"><div class=\"wandb-col\"><h3>Run history:</h3><br/><table class=\"wandb\"><tr><td>epoch</td><td>▁▁▁▂▂▂▂▂▂▃▃▃▃▃▄▄▄▄▄▄▅▅▅▅▅▅▆▆▆▆▆▇▇▇▇▇▇███</td></tr><tr><td>lr</td><td>█▇▇▆▆▅▅▄▄▄▃▃▃▃▃▂▂▂▂▂▂▂▂▂▁▁▁▁▁▁▁▁▁▁▁▁▁▁▁▁</td></tr><tr><td>test_accuracy</td><td>█▃▅▇▃▃▃▃▄▃▁▅▃▃▅▄▂▂▂▂▃▄▂▅▃▂▂▅▂▄▂▃▂▁▁▂▃▃▂▃</td></tr><tr><td>test_auc_score</td><td>▁▆▆▆▇▇▅▇█▇▇█▇▇▇▇█▇▇▆▇▇▇▇▇▇▇▇▇▇▇▆▆▆▆▇▇▇▆▆</td></tr><tr><td>test_f1_score</td><td>█▃▅▇▃▃▃▃▅▃▁▅▃▃▅▄▂▂▂▂▃▄▂▅▃▂▂▅▂▄▂▃▂▁▁▂▃▃▂▂</td></tr><tr><td>test_fpr</td><td>▁▆▄▂▆▆▆▆▅▆█▄▆▆▄▅▇▇▇▇▆▅▇▄▆▇▇▄▇▆▇▆▇██▇▆▆▇▆</td></tr><tr><td>test_loss</td><td>▁▆▄▂▆▆▆▆▅▆█▄▆▆▄▅▇▇▇▆▆▅▇▅▆▇▇▅▇▆▆▆▇██▇▆▆▇▇</td></tr><tr><td>test_tpr</td><td>▁▆▇▂▆▇▆▇█▆▇▆▇▅▄▆▅▅▆▄▅▆▅▆▅▅▅▆▄▅▅▅▅▅▅▅▆▆▅▅</td></tr><tr><td>train_accuracy</td><td>▁▆▆▆▆▆▆▆▇▇▇▇▇▇▇▇▇▇▇█████████████████████</td></tr><tr><td>train_auc_score</td><td>▁▇▇▇▇▇▇▇▇███████████████████████████████</td></tr><tr><td>train_f1_score</td><td>▁▆▆▆▆▆▆▆▇▇▇▇▇▇▇▇▇▇▇█████████████████████</td></tr><tr><td>train_fpr</td><td>█▃▂▃▂▃▂▂▂▂▂▂▂▂▂▁▁▂▁▁▁▁▁▁▁▁▂▁▁▁▁▁▁▁▁▁▁▁▁▁</td></tr><tr><td>train_loss</td><td>█▃▂▂▂▂▂▂▂▂▂▂▂▂▂▁▁▁▁▁▁▁▁▁▁▁▁▁▁▁▁▁▁▁▁▁▁▁▁▁</td></tr><tr><td>train_tpr</td><td>▁▄▄▅▄▅▅▅▆▆▆▇▇▆▇▇▇▇▇▇███▇▇▇██▇███████████</td></tr></table><br/></div><div class=\"wandb-col\"><h3>Run summary:</h3><br/><table class=\"wandb\"><tr><td>epoch</td><td>39</td></tr><tr><td>lr</td><td>0.00015</td></tr><tr><td>test_accuracy</td><td>0.71176</td></tr><tr><td>test_auc_score</td><td>0.9288</td></tr><tr><td>test_f1_score</td><td>0.50382</td></tr><tr><td>test_fpr</td><td>0.29661</td></tr><tr><td>test_loss</td><td>0.11899</td></tr><tr><td>test_tpr</td><td>0.94896</td></tr><tr><td>train_accuracy</td><td>0.9724</td></tr><tr><td>train_auc_score</td><td>0.99188</td></tr><tr><td>train_f1_score</td><td>0.97141</td></tr><tr><td>train_fpr</td><td>0.02516</td></tr><tr><td>train_loss</td><td>0.02838</td></tr><tr><td>train_tpr</td><td>0.96964</td></tr></table><br/></div></div>"
      ],
      "text/plain": [
       "<IPython.core.display.HTML object>"
      ]
     },
     "metadata": {},
     "output_type": "display_data"
    },
    {
     "data": {
      "text/html": [
       " View run <strong style=\"color:#cdcd00\">EM_FocalLoss()_SMOTE-0.7</strong> at: <a href='https://wandb.ai/dmitrii_fomin_uga/Internship_project/runs/6h16hx4i' target=\"_blank\">https://wandb.ai/dmitrii_fomin_uga/Internship_project/runs/6h16hx4i</a><br/>Synced 5 W&B file(s), 0 media file(s), 0 artifact file(s) and 0 other file(s)"
      ],
      "text/plain": [
       "<IPython.core.display.HTML object>"
      ]
     },
     "metadata": {},
     "output_type": "display_data"
    },
    {
     "data": {
      "text/html": [
       "Find logs at: <code>../logs/wandb\\run-20230705_101052-6h16hx4i\\logs</code>"
      ],
      "text/plain": [
       "<IPython.core.display.HTML object>"
      ]
     },
     "metadata": {},
     "output_type": "display_data"
    },
    {
     "data": {
      "text/html": [
       "Tracking run with wandb version 0.15.4"
      ],
      "text/plain": [
       "<IPython.core.display.HTML object>"
      ]
     },
     "metadata": {},
     "output_type": "display_data"
    },
    {
     "data": {
      "text/html": [
       "Run data is saved locally in <code>../logs/wandb\\run-20230705_101107-lostxygi</code>"
      ],
      "text/plain": [
       "<IPython.core.display.HTML object>"
      ]
     },
     "metadata": {},
     "output_type": "display_data"
    },
    {
     "data": {
      "text/html": [
       "Syncing run <strong><a href='https://wandb.ai/dmitrii_fomin_uga/Internship_project/runs/lostxygi' target=\"_blank\">EM_FocalLoss()_SMOTE-0.8</a></strong> to <a href='https://wandb.ai/dmitrii_fomin_uga/Internship_project' target=\"_blank\">Weights & Biases</a> (<a href='https://wandb.me/run' target=\"_blank\">docs</a>)<br/>"
      ],
      "text/plain": [
       "<IPython.core.display.HTML object>"
      ]
     },
     "metadata": {},
     "output_type": "display_data"
    },
    {
     "data": {
      "text/html": [
       " View project at <a href='https://wandb.ai/dmitrii_fomin_uga/Internship_project' target=\"_blank\">https://wandb.ai/dmitrii_fomin_uga/Internship_project</a>"
      ],
      "text/plain": [
       "<IPython.core.display.HTML object>"
      ]
     },
     "metadata": {},
     "output_type": "display_data"
    },
    {
     "data": {
      "text/html": [
       " View run at <a href='https://wandb.ai/dmitrii_fomin_uga/Internship_project/runs/lostxygi' target=\"_blank\">https://wandb.ai/dmitrii_fomin_uga/Internship_project/runs/lostxygi</a>"
      ],
      "text/plain": [
       "<IPython.core.display.HTML object>"
      ]
     },
     "metadata": {},
     "output_type": "display_data"
    },
    {
     "data": {
      "text/html": [
       "Waiting for W&B process to finish... <strong style=\"color:green\">(success).</strong>"
      ],
      "text/plain": [
       "<IPython.core.display.HTML object>"
      ]
     },
     "metadata": {},
     "output_type": "display_data"
    },
    {
     "data": {
      "text/html": [
       "<style>\n",
       "    table.wandb td:nth-child(1) { padding: 0 10px; text-align: left ; width: auto;} td:nth-child(2) {text-align: left ; width: 100%}\n",
       "    .wandb-row { display: flex; flex-direction: row; flex-wrap: wrap; justify-content: flex-start; width: 100% }\n",
       "    .wandb-col { display: flex; flex-direction: column; flex-basis: 100%; flex: 1; padding: 10px; }\n",
       "    </style>\n",
       "<div class=\"wandb-row\"><div class=\"wandb-col\"><h3>Run history:</h3><br/><table class=\"wandb\"><tr><td>epoch</td><td>▁▁▁▂▂▂▂▂▂▃▃▃▃▃▄▄▄▄▄▄▅▅▅▅▅▅▆▆▆▆▆▇▇▇▇▇▇███</td></tr><tr><td>lr</td><td>█▇▇▆▆▅▅▄▄▄▃▃▃▃▃▂▂▂▂▂▂▂▂▂▁▁▁▁▁▁▁▁▁▁▁▁▁▁▁▁</td></tr><tr><td>test_accuracy</td><td>▇█▆▇▃▄▄▃▁▆▆▅▂▄▄▄▁▃▄▄▄▄▃▄▅▃▄▄▅▅▅▅▄▄▄▄▄▅▄▄</td></tr><tr><td>test_auc_score</td><td>▄▁▃▂▇▆▇▅▁█▃▃▄▅▅▇▇▇█▅▅▆▄▇▅▅▆▅▄▇▆▆▅▅▅▅▆▅▅▅</td></tr><tr><td>test_f1_score</td><td>▇█▆█▃▄▄▃▁▆▆▅▂▄▄▄▁▃▄▄▄▄▃▄▅▃▄▄▅▅▅▅▄▄▄▄▄▄▄▄</td></tr><tr><td>test_fpr</td><td>▂▁▃▂▆▅▅▇█▃▃▄▇▅▅▅█▆▅▅▅▅▆▅▄▆▅▅▄▄▄▄▅▅▅▅▅▄▅▅</td></tr><tr><td>test_loss</td><td>▁▁▃▂▆▅▅▆█▃▃▄▇▅▅▅█▆▄▄▅▅▆▄▄▅▅▅▄▄▄▄▅▄▅▅▅▄▄▄</td></tr><tr><td>test_tpr</td><td>▁▃▆▆█▅▇▇▇█▅▅▆▆█▇▅▆▅▅▆▅▄▅▅▄▅▄▄▇▄▃▄▄▅▄▄▃▄▄</td></tr><tr><td>train_accuracy</td><td>▁▅▆▆▆▆▆▇▇▇▇▇▇▇▇▇▇▇███▇▇█████████████████</td></tr><tr><td>train_auc_score</td><td>▁▇▇▇▇▇▇▇▇██▇████████████████████████████</td></tr><tr><td>train_f1_score</td><td>▁▅▆▆▆▆▆▇▇▇▇▇▇▇▇▇▇▇███▇▇█████████████████</td></tr><tr><td>train_fpr</td><td>█▃▃▂▂▂▂▂▂▂▂▂▂▂▂▂▂▂▁▂▁▁▂▁▁▁▁▁▁▁▁▁▁▁▁▁▁▁▁▁</td></tr><tr><td>train_loss</td><td>█▃▂▂▂▂▂▂▂▂▂▂▂▂▁▁▂▁▁▁▁▁▁▁▁▁▁▁▁▁▁▁▁▁▁▁▁▁▁▁</td></tr><tr><td>train_tpr</td><td>▁▅▅▆▅▅▆▆▆▆▇▇▇▇▇▇▆▇██▇▇▇▇▇███████████████</td></tr></table><br/></div><div class=\"wandb-col\"><h3>Run summary:</h3><br/><table class=\"wandb\"><tr><td>epoch</td><td>39</td></tr><tr><td>lr</td><td>0.00015</td></tr><tr><td>test_accuracy</td><td>0.71827</td></tr><tr><td>test_auc_score</td><td>0.93582</td></tr><tr><td>test_f1_score</td><td>0.50748</td></tr><tr><td>test_fpr</td><td>0.28962</td></tr><tr><td>test_loss</td><td>0.11662</td></tr><tr><td>test_tpr</td><td>0.93945</td></tr><tr><td>train_accuracy</td><td>0.98219</td></tr><tr><td>train_auc_score</td><td>0.99508</td></tr><tr><td>train_f1_score</td><td>0.98197</td></tr><tr><td>train_fpr</td><td>0.02043</td></tr><tr><td>train_loss</td><td>0.02637</td></tr><tr><td>train_tpr</td><td>0.98575</td></tr></table><br/></div></div>"
      ],
      "text/plain": [
       "<IPython.core.display.HTML object>"
      ]
     },
     "metadata": {},
     "output_type": "display_data"
    },
    {
     "data": {
      "text/html": [
       " View run <strong style=\"color:#cdcd00\">EM_FocalLoss()_SMOTE-0.8</strong> at: <a href='https://wandb.ai/dmitrii_fomin_uga/Internship_project/runs/lostxygi' target=\"_blank\">https://wandb.ai/dmitrii_fomin_uga/Internship_project/runs/lostxygi</a><br/>Synced 5 W&B file(s), 0 media file(s), 0 artifact file(s) and 0 other file(s)"
      ],
      "text/plain": [
       "<IPython.core.display.HTML object>"
      ]
     },
     "metadata": {},
     "output_type": "display_data"
    },
    {
     "data": {
      "text/html": [
       "Find logs at: <code>../logs/wandb\\run-20230705_101107-lostxygi\\logs</code>"
      ],
      "text/plain": [
       "<IPython.core.display.HTML object>"
      ]
     },
     "metadata": {},
     "output_type": "display_data"
    },
    {
     "data": {
      "text/html": [
       "Tracking run with wandb version 0.15.4"
      ],
      "text/plain": [
       "<IPython.core.display.HTML object>"
      ]
     },
     "metadata": {},
     "output_type": "display_data"
    },
    {
     "data": {
      "text/html": [
       "Run data is saved locally in <code>../logs/wandb\\run-20230705_101127-5yq3o71t</code>"
      ],
      "text/plain": [
       "<IPython.core.display.HTML object>"
      ]
     },
     "metadata": {},
     "output_type": "display_data"
    },
    {
     "data": {
      "text/html": [
       "Syncing run <strong><a href='https://wandb.ai/dmitrii_fomin_uga/Internship_project/runs/5yq3o71t' target=\"_blank\">EM_FocalLoss()_SMOTE-0.9</a></strong> to <a href='https://wandb.ai/dmitrii_fomin_uga/Internship_project' target=\"_blank\">Weights & Biases</a> (<a href='https://wandb.me/run' target=\"_blank\">docs</a>)<br/>"
      ],
      "text/plain": [
       "<IPython.core.display.HTML object>"
      ]
     },
     "metadata": {},
     "output_type": "display_data"
    },
    {
     "data": {
      "text/html": [
       " View project at <a href='https://wandb.ai/dmitrii_fomin_uga/Internship_project' target=\"_blank\">https://wandb.ai/dmitrii_fomin_uga/Internship_project</a>"
      ],
      "text/plain": [
       "<IPython.core.display.HTML object>"
      ]
     },
     "metadata": {},
     "output_type": "display_data"
    },
    {
     "data": {
      "text/html": [
       " View run at <a href='https://wandb.ai/dmitrii_fomin_uga/Internship_project/runs/5yq3o71t' target=\"_blank\">https://wandb.ai/dmitrii_fomin_uga/Internship_project/runs/5yq3o71t</a>"
      ],
      "text/plain": [
       "<IPython.core.display.HTML object>"
      ]
     },
     "metadata": {},
     "output_type": "display_data"
    },
    {
     "data": {
      "text/html": [
       "Waiting for W&B process to finish... <strong style=\"color:green\">(success).</strong>"
      ],
      "text/plain": [
       "<IPython.core.display.HTML object>"
      ]
     },
     "metadata": {},
     "output_type": "display_data"
    },
    {
     "data": {
      "text/html": [
       "<style>\n",
       "    table.wandb td:nth-child(1) { padding: 0 10px; text-align: left ; width: auto;} td:nth-child(2) {text-align: left ; width: 100%}\n",
       "    .wandb-row { display: flex; flex-direction: row; flex-wrap: wrap; justify-content: flex-start; width: 100% }\n",
       "    .wandb-col { display: flex; flex-direction: column; flex-basis: 100%; flex: 1; padding: 10px; }\n",
       "    </style>\n",
       "<div class=\"wandb-row\"><div class=\"wandb-col\"><h3>Run history:</h3><br/><table class=\"wandb\"><tr><td>epoch</td><td>▁▁▁▂▂▂▂▂▂▃▃▃▃▃▄▄▄▄▄▄▅▅▅▅▅▅▆▆▆▆▆▇▇▇▇▇▇███</td></tr><tr><td>lr</td><td>█▇▇▆▆▅▅▄▄▄▃▃▃▃▃▂▂▂▂▂▂▂▂▂▁▁▁▁▁▁▁▁▁▁▁▁▁▁▁▁</td></tr><tr><td>test_accuracy</td><td>█▅▂▃▃▄▃▄▁▁▃▂▃▅▆▅▅▄▃▂▅▄▃▂▄▄▄▃▂▄▄▃▃▂▃▃▃▃▄▄</td></tr><tr><td>test_auc_score</td><td>▆▅▆▆█▅▃▆▁▅▆▃▆▅▄▄▃▂▂▂▃▂▂▃▃▃▂▂▂▂▂▁▂▂▁▂▁▁▂▂</td></tr><tr><td>test_f1_score</td><td>█▅▂▃▃▄▂▄▁▁▃▂▃▅▆▅▅▃▃▁▅▄▃▂▄▃▄▃▂▃▃▃▃▂▃▃▃▃▃▃</td></tr><tr><td>test_fpr</td><td>▁▄▇▆▆▅▆▅██▆▇▆▄▃▄▄▅▆▇▄▅▆▆▅▅▅▆▇▅▅▆▆▇▆▆▆▆▅▅</td></tr><tr><td>test_loss</td><td>▁▄▇▆▆▆▇▆██▆▇▆▄▄▄▄▆▇▇▄▅▆▆▅▆▅▆▇▆▅▆▆▇▆▆▆▆▆▆</td></tr><tr><td>test_tpr</td><td>▁▂▆▅▆▆▅█▆██▆▆▆▅▆▆▆▅▅▅▅▅▅▅▅▆▄▅▅▅▅▅▆▅▅▅▅▅▅</td></tr><tr><td>train_accuracy</td><td>▁▅▅▆▆▆▆▆▇▇▇▇▇▇▇▇▇▇▇▇▇█▇█████████████████</td></tr><tr><td>train_auc_score</td><td>▁▇▆▇▇▇▇▇▇▇██████████████████████████████</td></tr><tr><td>train_f1_score</td><td>▁▅▅▆▆▆▆▆▇▇▇▇▇▇▇▇▇▇▇▇▇█▇█████████████████</td></tr><tr><td>train_fpr</td><td>█▃▄▃▃▃▃▃▂▃▂▂▂▂▂▂▁▂▂▂▁▂▁▁▁▁▁▁▁▁▁▁▁▁▁▁▁▁▁▁</td></tr><tr><td>train_loss</td><td>█▃▃▂▂▂▂▂▂▂▂▂▂▂▂▁▁▁▁▁▁▁▁▁▁▁▁▁▁▁▁▁▁▁▁▁▁▁▁▁</td></tr><tr><td>train_tpr</td><td>▁▄▆▅▆▆▆▆▆▇▆▇▇▇▇▇▇▇▇▇▇█▇██▇▇█████████████</td></tr></table><br/></div><div class=\"wandb-col\"><h3>Run summary:</h3><br/><table class=\"wandb\"><tr><td>epoch</td><td>39</td></tr><tr><td>lr</td><td>0.00015</td></tr><tr><td>test_accuracy</td><td>0.6918</td></tr><tr><td>test_auc_score</td><td>0.89526</td></tr><tr><td>test_f1_score</td><td>0.49321</td></tr><tr><td>test_fpr</td><td>0.31808</td></tr><tr><td>test_loss</td><td>0.13083</td></tr><tr><td>test_tpr</td><td>0.97055</td></tr><tr><td>train_accuracy</td><td>0.98056</td></tr><tr><td>train_auc_score</td><td>0.99238</td></tr><tr><td>train_f1_score</td><td>0.98052</td></tr><tr><td>train_fpr</td><td>0.02437</td></tr><tr><td>train_loss</td><td>0.02675</td></tr><tr><td>train_tpr</td><td>0.98613</td></tr></table><br/></div></div>"
      ],
      "text/plain": [
       "<IPython.core.display.HTML object>"
      ]
     },
     "metadata": {},
     "output_type": "display_data"
    },
    {
     "data": {
      "text/html": [
       " View run <strong style=\"color:#cdcd00\">EM_FocalLoss()_SMOTE-0.9</strong> at: <a href='https://wandb.ai/dmitrii_fomin_uga/Internship_project/runs/5yq3o71t' target=\"_blank\">https://wandb.ai/dmitrii_fomin_uga/Internship_project/runs/5yq3o71t</a><br/>Synced 5 W&B file(s), 0 media file(s), 0 artifact file(s) and 0 other file(s)"
      ],
      "text/plain": [
       "<IPython.core.display.HTML object>"
      ]
     },
     "metadata": {},
     "output_type": "display_data"
    },
    {
     "data": {
      "text/html": [
       "Find logs at: <code>../logs/wandb\\run-20230705_101127-5yq3o71t\\logs</code>"
      ],
      "text/plain": [
       "<IPython.core.display.HTML object>"
      ]
     },
     "metadata": {},
     "output_type": "display_data"
    },
    {
     "data": {
      "text/html": [
       "Tracking run with wandb version 0.15.4"
      ],
      "text/plain": [
       "<IPython.core.display.HTML object>"
      ]
     },
     "metadata": {},
     "output_type": "display_data"
    },
    {
     "data": {
      "text/html": [
       "Run data is saved locally in <code>../logs/wandb\\run-20230705_101146-nlbgqypo</code>"
      ],
      "text/plain": [
       "<IPython.core.display.HTML object>"
      ]
     },
     "metadata": {},
     "output_type": "display_data"
    },
    {
     "data": {
      "text/html": [
       "Syncing run <strong><a href='https://wandb.ai/dmitrii_fomin_uga/Internship_project/runs/nlbgqypo' target=\"_blank\">EM_FocalLoss()_SMOTE-1</a></strong> to <a href='https://wandb.ai/dmitrii_fomin_uga/Internship_project' target=\"_blank\">Weights & Biases</a> (<a href='https://wandb.me/run' target=\"_blank\">docs</a>)<br/>"
      ],
      "text/plain": [
       "<IPython.core.display.HTML object>"
      ]
     },
     "metadata": {},
     "output_type": "display_data"
    },
    {
     "data": {
      "text/html": [
       " View project at <a href='https://wandb.ai/dmitrii_fomin_uga/Internship_project' target=\"_blank\">https://wandb.ai/dmitrii_fomin_uga/Internship_project</a>"
      ],
      "text/plain": [
       "<IPython.core.display.HTML object>"
      ]
     },
     "metadata": {},
     "output_type": "display_data"
    },
    {
     "data": {
      "text/html": [
       " View run at <a href='https://wandb.ai/dmitrii_fomin_uga/Internship_project/runs/nlbgqypo' target=\"_blank\">https://wandb.ai/dmitrii_fomin_uga/Internship_project/runs/nlbgqypo</a>"
      ],
      "text/plain": [
       "<IPython.core.display.HTML object>"
      ]
     },
     "metadata": {},
     "output_type": "display_data"
    },
    {
     "data": {
      "text/html": [
       "Waiting for W&B process to finish... <strong style=\"color:green\">(success).</strong>"
      ],
      "text/plain": [
       "<IPython.core.display.HTML object>"
      ]
     },
     "metadata": {},
     "output_type": "display_data"
    },
    {
     "data": {
      "text/html": [
       "<style>\n",
       "    table.wandb td:nth-child(1) { padding: 0 10px; text-align: left ; width: auto;} td:nth-child(2) {text-align: left ; width: 100%}\n",
       "    .wandb-row { display: flex; flex-direction: row; flex-wrap: wrap; justify-content: flex-start; width: 100% }\n",
       "    .wandb-col { display: flex; flex-direction: column; flex-basis: 100%; flex: 1; padding: 10px; }\n",
       "    </style>\n",
       "<div class=\"wandb-row\"><div class=\"wandb-col\"><h3>Run history:</h3><br/><table class=\"wandb\"><tr><td>epoch</td><td>▁▁▁▂▂▂▂▂▂▃▃▃▃▃▄▄▄▄▄▄▅▅▅▅▅▅▆▆▆▆▆▇▇▇▇▇▇███</td></tr><tr><td>lr</td><td>█▇▇▆▆▅▅▄▄▄▃▃▃▃▃▂▂▂▂▂▂▂▂▂▁▁▁▁▁▁▁▁▁▁▁▁▁▁▁▁</td></tr><tr><td>test_accuracy</td><td>██▆▂▁▂▃▄▃▃▃▄▂▁▃▂▄▃▃▄▂▃▂▂▃▃▂▁▂▃▁▃▄▃▃▃▃▃▃▃</td></tr><tr><td>test_auc_score</td><td>▄▁▂▃▇▇▇▇▆▅▆▇▆▆▅▆▆▆▆▇▆█▇▆█▇███▇▇███████▇█</td></tr><tr><td>test_f1_score</td><td>▇█▆▂▁▂▃▄▃▃▃▄▂▁▃▂▃▂▃▄▂▃▂▂▃▃▂▁▂▃▁▃▃▃▃▃▃▃▂▂</td></tr><tr><td>test_fpr</td><td>▁▁▃▇█▇▆▅▆▆▆▆▇█▆▇▅▆▆▅▇▆▇▇▆▆▇█▇▆█▆▅▆▆▆▆▆▆▆</td></tr><tr><td>test_loss</td><td>▁▂▃▇█▇▆▅▆▆▇▆▇█▇▇▅▆▆▅▇▆▇▇▆▅▇█▇▆█▆▆▆▆▆▆▆▆▆</td></tr><tr><td>test_tpr</td><td>▁▄▆▇▇██▇▇███▇█▇▇▆▆▇▇▇▆▇▆▇▇▇▇▇▆▇▆▇▆▆▆▆▇▆▆</td></tr><tr><td>train_accuracy</td><td>▁▅▅▅▅▆▆▇▇▇▇▇▇▇▇▇▇▇▇▇▇▇▇███▇█████████████</td></tr><tr><td>train_auc_score</td><td>▁▇▅▆▇▇▇▇█▇███▇▇█████████████████████████</td></tr><tr><td>train_f1_score</td><td>▁▅▅▅▆▆▆▇▇▇▇▇▇▇▇▇▇▇▇▇▇▇▇███▇█████████████</td></tr><tr><td>train_fpr</td><td>█▄▃▄▄▃▃▃▂▃▂▂▂▃▂▂▂▂▃▂▂▂▂▂▁▁▂▂▁▁▂▁▁▁▁▁▁▁▁▁</td></tr><tr><td>train_loss</td><td>█▃▃▃▃▂▂▂▂▂▂▂▂▂▂▂▂▁▂▁▁▁▁▁▁▁▁▁▁▁▁▁▁▁▁▁▁▁▁▁</td></tr><tr><td>train_tpr</td><td>▁▅▄▅▆▆▇▇▇▇▇▇▇▇▇▇▇██▇▇▇███▇██▇███████████</td></tr></table><br/></div><div class=\"wandb-col\"><h3>Run summary:</h3><br/><table class=\"wandb\"><tr><td>epoch</td><td>39</td></tr><tr><td>lr</td><td>0.00015</td></tr><tr><td>test_accuracy</td><td>0.66082</td></tr><tr><td>test_auc_score</td><td>0.94007</td></tr><tr><td>test_f1_score</td><td>0.47401</td></tr><tr><td>test_fpr</td><td>0.34941</td></tr><tr><td>test_loss</td><td>0.14601</td></tr><tr><td>test_tpr</td><td>0.9537</td></tr><tr><td>train_accuracy</td><td>0.97397</td></tr><tr><td>train_auc_score</td><td>0.99216</td></tr><tr><td>train_f1_score</td><td>0.97394</td></tr><tr><td>train_fpr</td><td>0.02896</td></tr><tr><td>train_loss</td><td>0.02812</td></tr><tr><td>train_tpr</td><td>0.97719</td></tr></table><br/></div></div>"
      ],
      "text/plain": [
       "<IPython.core.display.HTML object>"
      ]
     },
     "metadata": {},
     "output_type": "display_data"
    },
    {
     "data": {
      "text/html": [
       " View run <strong style=\"color:#cdcd00\">EM_FocalLoss()_SMOTE-1</strong> at: <a href='https://wandb.ai/dmitrii_fomin_uga/Internship_project/runs/nlbgqypo' target=\"_blank\">https://wandb.ai/dmitrii_fomin_uga/Internship_project/runs/nlbgqypo</a><br/>Synced 5 W&B file(s), 0 media file(s), 0 artifact file(s) and 0 other file(s)"
      ],
      "text/plain": [
       "<IPython.core.display.HTML object>"
      ]
     },
     "metadata": {},
     "output_type": "display_data"
    },
    {
     "data": {
      "text/html": [
       "Find logs at: <code>../logs/wandb\\run-20230705_101146-nlbgqypo\\logs</code>"
      ],
      "text/plain": [
       "<IPython.core.display.HTML object>"
      ]
     },
     "metadata": {},
     "output_type": "display_data"
    },
    {
     "data": {
      "text/html": [
       "Tracking run with wandb version 0.15.4"
      ],
      "text/plain": [
       "<IPython.core.display.HTML object>"
      ]
     },
     "metadata": {},
     "output_type": "display_data"
    },
    {
     "data": {
      "text/html": [
       "Run data is saved locally in <code>../logs/wandb\\run-20230705_101206-jhw3xnr9</code>"
      ],
      "text/plain": [
       "<IPython.core.display.HTML object>"
      ]
     },
     "metadata": {},
     "output_type": "display_data"
    },
    {
     "data": {
      "text/html": [
       "Syncing run <strong><a href='https://wandb.ai/dmitrii_fomin_uga/Internship_project/runs/jhw3xnr9' target=\"_blank\">EM_FocalLoss()_OSS-0.0</a></strong> to <a href='https://wandb.ai/dmitrii_fomin_uga/Internship_project' target=\"_blank\">Weights & Biases</a> (<a href='https://wandb.me/run' target=\"_blank\">docs</a>)<br/>"
      ],
      "text/plain": [
       "<IPython.core.display.HTML object>"
      ]
     },
     "metadata": {},
     "output_type": "display_data"
    },
    {
     "data": {
      "text/html": [
       " View project at <a href='https://wandb.ai/dmitrii_fomin_uga/Internship_project' target=\"_blank\">https://wandb.ai/dmitrii_fomin_uga/Internship_project</a>"
      ],
      "text/plain": [
       "<IPython.core.display.HTML object>"
      ]
     },
     "metadata": {},
     "output_type": "display_data"
    },
    {
     "data": {
      "text/html": [
       " View run at <a href='https://wandb.ai/dmitrii_fomin_uga/Internship_project/runs/jhw3xnr9' target=\"_blank\">https://wandb.ai/dmitrii_fomin_uga/Internship_project/runs/jhw3xnr9</a>"
      ],
      "text/plain": [
       "<IPython.core.display.HTML object>"
      ]
     },
     "metadata": {},
     "output_type": "display_data"
    },
    {
     "data": {
      "text/html": [
       "Waiting for W&B process to finish... <strong style=\"color:green\">(success).</strong>"
      ],
      "text/plain": [
       "<IPython.core.display.HTML object>"
      ]
     },
     "metadata": {},
     "output_type": "display_data"
    },
    {
     "data": {
      "text/html": [
       "<style>\n",
       "    table.wandb td:nth-child(1) { padding: 0 10px; text-align: left ; width: auto;} td:nth-child(2) {text-align: left ; width: 100%}\n",
       "    .wandb-row { display: flex; flex-direction: row; flex-wrap: wrap; justify-content: flex-start; width: 100% }\n",
       "    .wandb-col { display: flex; flex-direction: column; flex-basis: 100%; flex: 1; padding: 10px; }\n",
       "    </style>\n",
       "<div class=\"wandb-row\"><div class=\"wandb-col\"><h3>Run history:</h3><br/><table class=\"wandb\"><tr><td>epoch</td><td>▁▁▁▂▂▂▂▂▂▃▃▃▃▃▄▄▄▄▄▄▅▅▅▅▅▅▆▆▆▆▆▇▇▇▇▇▇███</td></tr><tr><td>lr</td><td>█▇▇▆▆▅▅▄▄▄▃▃▃▃▃▂▂▂▂▂▂▂▂▂▁▁▁▁▁▁▁▁▁▁▁▁▁▁▁▁</td></tr><tr><td>test_accuracy</td><td>▁▅▇█████████████████████████████████████</td></tr><tr><td>test_auc_score</td><td>▇▅▄▁▆▆▄▅▅▇▇▅▅▄▅▇▇▇▇▇▇▇▇▆▅▆▇▇████▇▇▇▇████</td></tr><tr><td>test_f1_score</td><td>▁▄▆▇▇▇█▇██████▇█████████████████████████</td></tr><tr><td>test_fpr</td><td>█▄▂▁▁▁▁▁▁▁▁▁▁▁▁▁▁▁▁▁▁▁▁▁▁▁▁▁▁▁▁▁▁▁▁▁▁▁▁▁</td></tr><tr><td>test_loss</td><td>█▃▂▁▁▁▁▁▁▁▁▁▁▁▁▁▁▁▁▁▁▁▁▁▁▁▁▁▁▁▁▁▁▁▁▁▁▁▁▁</td></tr><tr><td>test_tpr</td><td>█▆▃▁▃▂▂▂▂▃▂▁▂▁▁▂▂▂▁▂▁▂▂▁▂▂▁▂▂▂▂▂▂▂▂▂▂▂▂▂</td></tr><tr><td>train_accuracy</td><td>▁▇▇█████████████████████████████████████</td></tr><tr><td>train_auc_score</td><td>▁▅▆▆▇▇▆▇▆▆▇▇▇▇▆▇█▇▇█▇▇▇▇▇▇▇▇███▇███▇▇▇██</td></tr><tr><td>train_f1_score</td><td>▁▅▆▆▇▇▇▇▇▇▇▇▇▇▇██▇███▇██▇███████████████</td></tr><tr><td>train_fpr</td><td>█▂▁▁▁▁▁▁▁▁▁▁▁▁▁▁▁▁▁▁▁▁▁▁▁▁▁▁▁▁▁▁▁▁▁▁▁▁▁▁</td></tr><tr><td>train_loss</td><td>█▃▂▂▁▁▁▁▁▁▁▁▁▁▁▁▁▁▁▁▁▁▁▁▁▁▁▁▁▁▁▁▁▁▁▁▁▁▁▁</td></tr><tr><td>train_tpr</td><td>▆▆▄▁▃▄▃▅▃▄▆▅▅▅▅▆▇▆▆▆▇▆▇▇▅▆▇▇▆▇▇▇▇▇██▇▆██</td></tr></table><br/></div><div class=\"wandb-col\"><h3>Run summary:</h3><br/><table class=\"wandb\"><tr><td>epoch</td><td>39</td></tr><tr><td>lr</td><td>0.00015</td></tr><tr><td>test_accuracy</td><td>0.96726</td></tr><tr><td>test_auc_score</td><td>0.91538</td></tr><tr><td>test_f1_score</td><td>0.76866</td></tr><tr><td>test_fpr</td><td>0.01981</td></tr><tr><td>test_loss</td><td>0.03058</td></tr><tr><td>test_tpr</td><td>0.60411</td></tr><tr><td>train_accuracy</td><td>0.98399</td></tr><tr><td>train_auc_score</td><td>0.90274</td></tr><tr><td>train_f1_score</td><td>0.88412</td></tr><tr><td>train_fpr</td><td>0.00282</td></tr><tr><td>train_loss</td><td>0.02752</td></tr><tr><td>train_tpr</td><td>0.68187</td></tr></table><br/></div></div>"
      ],
      "text/plain": [
       "<IPython.core.display.HTML object>"
      ]
     },
     "metadata": {},
     "output_type": "display_data"
    },
    {
     "data": {
      "text/html": [
       " View run <strong style=\"color:#cdcd00\">EM_FocalLoss()_OSS-0.0</strong> at: <a href='https://wandb.ai/dmitrii_fomin_uga/Internship_project/runs/jhw3xnr9' target=\"_blank\">https://wandb.ai/dmitrii_fomin_uga/Internship_project/runs/jhw3xnr9</a><br/>Synced 5 W&B file(s), 0 media file(s), 0 artifact file(s) and 0 other file(s)"
      ],
      "text/plain": [
       "<IPython.core.display.HTML object>"
      ]
     },
     "metadata": {},
     "output_type": "display_data"
    },
    {
     "data": {
      "text/html": [
       "Find logs at: <code>../logs/wandb\\run-20230705_101206-jhw3xnr9\\logs</code>"
      ],
      "text/plain": [
       "<IPython.core.display.HTML object>"
      ]
     },
     "metadata": {},
     "output_type": "display_data"
    },
    {
     "data": {
      "text/html": [
       "Tracking run with wandb version 0.15.4"
      ],
      "text/plain": [
       "<IPython.core.display.HTML object>"
      ]
     },
     "metadata": {},
     "output_type": "display_data"
    },
    {
     "data": {
      "text/html": [
       "Run data is saved locally in <code>../logs/wandb\\run-20230705_101220-j6oztr70</code>"
      ],
      "text/plain": [
       "<IPython.core.display.HTML object>"
      ]
     },
     "metadata": {},
     "output_type": "display_data"
    },
    {
     "data": {
      "text/html": [
       "Syncing run <strong><a href='https://wandb.ai/dmitrii_fomin_uga/Internship_project/runs/j6oztr70' target=\"_blank\">EM_DWBLoss()_None-0.0</a></strong> to <a href='https://wandb.ai/dmitrii_fomin_uga/Internship_project' target=\"_blank\">Weights & Biases</a> (<a href='https://wandb.me/run' target=\"_blank\">docs</a>)<br/>"
      ],
      "text/plain": [
       "<IPython.core.display.HTML object>"
      ]
     },
     "metadata": {},
     "output_type": "display_data"
    },
    {
     "data": {
      "text/html": [
       " View project at <a href='https://wandb.ai/dmitrii_fomin_uga/Internship_project' target=\"_blank\">https://wandb.ai/dmitrii_fomin_uga/Internship_project</a>"
      ],
      "text/plain": [
       "<IPython.core.display.HTML object>"
      ]
     },
     "metadata": {},
     "output_type": "display_data"
    },
    {
     "data": {
      "text/html": [
       " View run at <a href='https://wandb.ai/dmitrii_fomin_uga/Internship_project/runs/j6oztr70' target=\"_blank\">https://wandb.ai/dmitrii_fomin_uga/Internship_project/runs/j6oztr70</a>"
      ],
      "text/plain": [
       "<IPython.core.display.HTML object>"
      ]
     },
     "metadata": {},
     "output_type": "display_data"
    },
    {
     "data": {
      "text/html": [
       "Waiting for W&B process to finish... <strong style=\"color:green\">(success).</strong>"
      ],
      "text/plain": [
       "<IPython.core.display.HTML object>"
      ]
     },
     "metadata": {},
     "output_type": "display_data"
    },
    {
     "data": {
      "text/html": [
       "<style>\n",
       "    table.wandb td:nth-child(1) { padding: 0 10px; text-align: left ; width: auto;} td:nth-child(2) {text-align: left ; width: 100%}\n",
       "    .wandb-row { display: flex; flex-direction: row; flex-wrap: wrap; justify-content: flex-start; width: 100% }\n",
       "    .wandb-col { display: flex; flex-direction: column; flex-basis: 100%; flex: 1; padding: 10px; }\n",
       "    </style>\n",
       "<div class=\"wandb-row\"><div class=\"wandb-col\"><h3>Run history:</h3><br/><table class=\"wandb\"><tr><td>epoch</td><td>▁▁▁▂▂▂▂▂▂▃▃▃▃▃▄▄▄▄▄▄▅▅▅▅▅▅▆▆▆▆▆▇▇▇▇▇▇███</td></tr><tr><td>lr</td><td>█▇▇▆▆▅▅▄▄▄▃▃▃▃▃▂▂▂▂▂▂▂▂▂▁▁▁▁▁▁▁▁▁▁▁▁▁▁▁▁</td></tr><tr><td>test_accuracy</td><td>▁▆▇█▇███████████████████████████████████</td></tr><tr><td>test_auc_score</td><td>▁▃▄▅▆▆▆▇▇▇▇▇▇█▇▇█▇██▇▇█▇█▇█████▇████████</td></tr><tr><td>test_f1_score</td><td>▁▅▆▆▆▇▇▇▇▇██▇███████████████████████████</td></tr><tr><td>test_fpr</td><td>█▃▂▂▂▁▁▁▁▁▁▁▁▁▁▁▁▁▁▁▁▁▁▁▁▁▁▁▁▁▁▁▁▁▁▁▁▁▁▁</td></tr><tr><td>test_loss</td><td>█▃▂▂▂▁▁▁▁▁▁▁▁▁▁▁▁▁▁▁▁▁▁▁▁▁▁▁▁▁▁▁▁▁▁▁▁▁▁▁</td></tr><tr><td>test_tpr</td><td>█▆▆▅▅▅▅▄▄▁▃▄▄▃▄▃▃▅▅▄▂▅▅▅▅▄▄▄▄▅▅▄▄▅▄▅▅▅▅▅</td></tr><tr><td>train_accuracy</td><td>▁▇▇▇▇█▇█████████████████████████████████</td></tr><tr><td>train_auc_score</td><td>▁▆▆▆▇▇▇▇▇▇▇█████████████████████████████</td></tr><tr><td>train_f1_score</td><td>▁▅▅▅▅▆▆▆▆▇▇▇▇▇▇▇▇▇▇██▇▇▇▇███████████████</td></tr><tr><td>train_fpr</td><td>█▂▂▂▂▁▁▁▁▁▁▁▁▁▁▁▁▁▁▁▁▁▁▁▁▁▁▁▁▁▁▁▁▁▁▁▁▁▁▁</td></tr><tr><td>train_loss</td><td>█▄▃▂▂▂▂▂▂▂▂▁▁▁▁▁▁▁▁▁▁▁▁▁▁▁▁▁▁▁▁▁▁▁▁▁▁▁▁▁</td></tr><tr><td>train_tpr</td><td>▃▂▁▃▃▂▃▄▅▄▅▅▅▆▆▆▆▆▇▇▇▆▇▇▇▇▇▇▇██▇▇█▇█▇▇██</td></tr></table><br/></div><div class=\"wandb-col\"><h3>Run summary:</h3><br/><table class=\"wandb\"><tr><td>epoch</td><td>39</td></tr><tr><td>lr</td><td>0.00015</td></tr><tr><td>test_accuracy</td><td>0.97937</td></tr><tr><td>test_auc_score</td><td>0.96721</td></tr><tr><td>test_f1_score</td><td>0.85233</td></tr><tr><td>test_fpr</td><td>0.01345</td></tr><tr><td>test_loss</td><td>-0.01943</td></tr><tr><td>test_tpr</td><td>0.7742</td></tr><tr><td>train_accuracy</td><td>0.99099</td></tr><tr><td>train_auc_score</td><td>0.98817</td></tr><tr><td>train_f1_score</td><td>0.93085</td></tr><tr><td>train_fpr</td><td>0.00464</td></tr><tr><td>train_loss</td><td>-0.02748</td></tr><tr><td>train_tpr</td><td>0.87166</td></tr></table><br/></div></div>"
      ],
      "text/plain": [
       "<IPython.core.display.HTML object>"
      ]
     },
     "metadata": {},
     "output_type": "display_data"
    },
    {
     "data": {
      "text/html": [
       " View run <strong style=\"color:#cdcd00\">EM_DWBLoss()_None-0.0</strong> at: <a href='https://wandb.ai/dmitrii_fomin_uga/Internship_project/runs/j6oztr70' target=\"_blank\">https://wandb.ai/dmitrii_fomin_uga/Internship_project/runs/j6oztr70</a><br/>Synced 5 W&B file(s), 0 media file(s), 0 artifact file(s) and 0 other file(s)"
      ],
      "text/plain": [
       "<IPython.core.display.HTML object>"
      ]
     },
     "metadata": {},
     "output_type": "display_data"
    },
    {
     "data": {
      "text/html": [
       "Find logs at: <code>../logs/wandb\\run-20230705_101220-j6oztr70\\logs</code>"
      ],
      "text/plain": [
       "<IPython.core.display.HTML object>"
      ]
     },
     "metadata": {},
     "output_type": "display_data"
    },
    {
     "data": {
      "text/html": [
       "Tracking run with wandb version 0.15.4"
      ],
      "text/plain": [
       "<IPython.core.display.HTML object>"
      ]
     },
     "metadata": {},
     "output_type": "display_data"
    },
    {
     "data": {
      "text/html": [
       "Run data is saved locally in <code>../logs/wandb\\run-20230705_101233-0sokzd5x</code>"
      ],
      "text/plain": [
       "<IPython.core.display.HTML object>"
      ]
     },
     "metadata": {},
     "output_type": "display_data"
    },
    {
     "data": {
      "text/html": [
       "Syncing run <strong><a href='https://wandb.ai/dmitrii_fomin_uga/Internship_project/runs/0sokzd5x' target=\"_blank\">EM_DWBLoss()_ROS-0.05</a></strong> to <a href='https://wandb.ai/dmitrii_fomin_uga/Internship_project' target=\"_blank\">Weights & Biases</a> (<a href='https://wandb.me/run' target=\"_blank\">docs</a>)<br/>"
      ],
      "text/plain": [
       "<IPython.core.display.HTML object>"
      ]
     },
     "metadata": {},
     "output_type": "display_data"
    },
    {
     "data": {
      "text/html": [
       " View project at <a href='https://wandb.ai/dmitrii_fomin_uga/Internship_project' target=\"_blank\">https://wandb.ai/dmitrii_fomin_uga/Internship_project</a>"
      ],
      "text/plain": [
       "<IPython.core.display.HTML object>"
      ]
     },
     "metadata": {},
     "output_type": "display_data"
    },
    {
     "data": {
      "text/html": [
       " View run at <a href='https://wandb.ai/dmitrii_fomin_uga/Internship_project/runs/0sokzd5x' target=\"_blank\">https://wandb.ai/dmitrii_fomin_uga/Internship_project/runs/0sokzd5x</a>"
      ],
      "text/plain": [
       "<IPython.core.display.HTML object>"
      ]
     },
     "metadata": {},
     "output_type": "display_data"
    },
    {
     "data": {
      "text/html": [
       "Waiting for W&B process to finish... <strong style=\"color:green\">(success).</strong>"
      ],
      "text/plain": [
       "<IPython.core.display.HTML object>"
      ]
     },
     "metadata": {},
     "output_type": "display_data"
    },
    {
     "data": {
      "text/html": [
       "<style>\n",
       "    table.wandb td:nth-child(1) { padding: 0 10px; text-align: left ; width: auto;} td:nth-child(2) {text-align: left ; width: 100%}\n",
       "    .wandb-row { display: flex; flex-direction: row; flex-wrap: wrap; justify-content: flex-start; width: 100% }\n",
       "    .wandb-col { display: flex; flex-direction: column; flex-basis: 100%; flex: 1; padding: 10px; }\n",
       "    </style>\n",
       "<div class=\"wandb-row\"><div class=\"wandb-col\"><h3>Run history:</h3><br/><table class=\"wandb\"><tr><td>epoch</td><td>▁▁▁▂▂▂▂▂▂▃▃▃▃▃▄▄▄▄▄▄▅▅▅▅▅▅▆▆▆▆▆▇▇▇▇▇▇███</td></tr><tr><td>lr</td><td>█▇▇▆▆▅▅▄▄▄▃▃▃▃▃▂▂▂▂▂▂▂▂▂▁▁▁▁▁▁▁▁▁▁▁▁▁▁▁▁</td></tr><tr><td>test_accuracy</td><td>▁▅▇█████████████████████████████████████</td></tr><tr><td>test_auc_score</td><td>▁▂▂▅▅▇▇▇▅▇▆▇▇▆▆▆▇▇▇██▇▇██▇▇▇▆▇▆▆▆▆▆▆▆▆▆▆</td></tr><tr><td>test_f1_score</td><td>▁▄▅▆▇▇█████▇██▇█▇▇▇█████████████████████</td></tr><tr><td>test_fpr</td><td>█▄▂▁▁▁▁▁▁▁▁▁▁▁▁▁▁▁▁▁▁▁▁▁▁▁▁▁▁▁▁▁▁▁▁▁▁▁▁▁</td></tr><tr><td>test_loss</td><td>█▄▂▂▁▁▁▁▁▁▁▁▁▁▁▁▁▁▁▁▁▁▁▁▁▁▁▁▁▁▁▁▁▁▁▁▁▁▁▁</td></tr><tr><td>test_tpr</td><td>█▇▅▄▄▄▂▂▃▁▃▂▄▂▃▄▄▄▄▄▄▃▃▄▄▃▃▃▄▄▃▄▃▃▄▃▃▄▄▃</td></tr><tr><td>train_accuracy</td><td>▁▇▇▇▇▇████████████▇█████████████████████</td></tr><tr><td>train_auc_score</td><td>▁▆▇▇▇▇▇▇████████████████████████████████</td></tr><tr><td>train_f1_score</td><td>▁▅▅▆▆▆▆▇▇▇▇▇▇▇▇▇▇▇▆▇▇▇███▇██████████████</td></tr><tr><td>train_fpr</td><td>█▂▂▂▁▁▁▁▁▁▁▁▁▁▁▁▁▁▂▁▁▁▁▁▁▁▁▁▁▁▁▁▁▁▁▁▁▁▁▁</td></tr><tr><td>train_loss</td><td>█▄▃▂▂▂▂▂▂▂▂▂▂▁▁▁▂▂▂▁▁▁▁▁▁▁▁▁▁▁▁▁▁▁▁▁▁▁▁▁</td></tr><tr><td>train_tpr</td><td>▁▂▁▂▂▃▄▄▄▅▅▄▅▆▅▅▄▅▅▆▆▆▆▆▇▆▇▆▇▇▇▇█▇▇▇██▇█</td></tr></table><br/></div><div class=\"wandb-col\"><h3>Run summary:</h3><br/><table class=\"wandb\"><tr><td>epoch</td><td>39</td></tr><tr><td>lr</td><td>0.00015</td></tr><tr><td>test_accuracy</td><td>0.97748</td></tr><tr><td>test_auc_score</td><td>0.95512</td></tr><tr><td>test_f1_score</td><td>0.84353</td></tr><tr><td>test_fpr</td><td>0.01532</td></tr><tr><td>test_loss</td><td>-0.01916</td></tr><tr><td>test_tpr</td><td>0.77307</td></tr><tr><td>train_accuracy</td><td>0.9922</td></tr><tr><td>train_auc_score</td><td>0.99185</td></tr><tr><td>train_f1_score</td><td>0.95758</td></tr><tr><td>train_fpr</td><td>0.00489</td></tr><tr><td>train_loss</td><td>-0.02806</td></tr><tr><td>train_tpr</td><td>0.93638</td></tr></table><br/></div></div>"
      ],
      "text/plain": [
       "<IPython.core.display.HTML object>"
      ]
     },
     "metadata": {},
     "output_type": "display_data"
    },
    {
     "data": {
      "text/html": [
       " View run <strong style=\"color:#cdcd00\">EM_DWBLoss()_ROS-0.05</strong> at: <a href='https://wandb.ai/dmitrii_fomin_uga/Internship_project/runs/0sokzd5x' target=\"_blank\">https://wandb.ai/dmitrii_fomin_uga/Internship_project/runs/0sokzd5x</a><br/>Synced 5 W&B file(s), 0 media file(s), 0 artifact file(s) and 0 other file(s)"
      ],
      "text/plain": [
       "<IPython.core.display.HTML object>"
      ]
     },
     "metadata": {},
     "output_type": "display_data"
    },
    {
     "data": {
      "text/html": [
       "Find logs at: <code>../logs/wandb\\run-20230705_101233-0sokzd5x\\logs</code>"
      ],
      "text/plain": [
       "<IPython.core.display.HTML object>"
      ]
     },
     "metadata": {},
     "output_type": "display_data"
    },
    {
     "data": {
      "text/html": [
       "Tracking run with wandb version 0.15.4"
      ],
      "text/plain": [
       "<IPython.core.display.HTML object>"
      ]
     },
     "metadata": {},
     "output_type": "display_data"
    },
    {
     "data": {
      "text/html": [
       "Run data is saved locally in <code>../logs/wandb\\run-20230705_101248-r6men0ti</code>"
      ],
      "text/plain": [
       "<IPython.core.display.HTML object>"
      ]
     },
     "metadata": {},
     "output_type": "display_data"
    },
    {
     "data": {
      "text/html": [
       "Syncing run <strong><a href='https://wandb.ai/dmitrii_fomin_uga/Internship_project/runs/r6men0ti' target=\"_blank\">EM_DWBLoss()_ROS-0.1</a></strong> to <a href='https://wandb.ai/dmitrii_fomin_uga/Internship_project' target=\"_blank\">Weights & Biases</a> (<a href='https://wandb.me/run' target=\"_blank\">docs</a>)<br/>"
      ],
      "text/plain": [
       "<IPython.core.display.HTML object>"
      ]
     },
     "metadata": {},
     "output_type": "display_data"
    },
    {
     "data": {
      "text/html": [
       " View project at <a href='https://wandb.ai/dmitrii_fomin_uga/Internship_project' target=\"_blank\">https://wandb.ai/dmitrii_fomin_uga/Internship_project</a>"
      ],
      "text/plain": [
       "<IPython.core.display.HTML object>"
      ]
     },
     "metadata": {},
     "output_type": "display_data"
    },
    {
     "data": {
      "text/html": [
       " View run at <a href='https://wandb.ai/dmitrii_fomin_uga/Internship_project/runs/r6men0ti' target=\"_blank\">https://wandb.ai/dmitrii_fomin_uga/Internship_project/runs/r6men0ti</a>"
      ],
      "text/plain": [
       "<IPython.core.display.HTML object>"
      ]
     },
     "metadata": {},
     "output_type": "display_data"
    },
    {
     "data": {
      "text/html": [
       "Waiting for W&B process to finish... <strong style=\"color:green\">(success).</strong>"
      ],
      "text/plain": [
       "<IPython.core.display.HTML object>"
      ]
     },
     "metadata": {},
     "output_type": "display_data"
    },
    {
     "data": {
      "text/html": [
       "<style>\n",
       "    table.wandb td:nth-child(1) { padding: 0 10px; text-align: left ; width: auto;} td:nth-child(2) {text-align: left ; width: 100%}\n",
       "    .wandb-row { display: flex; flex-direction: row; flex-wrap: wrap; justify-content: flex-start; width: 100% }\n",
       "    .wandb-col { display: flex; flex-direction: column; flex-basis: 100%; flex: 1; padding: 10px; }\n",
       "    </style>\n",
       "<div class=\"wandb-row\"><div class=\"wandb-col\"><h3>Run history:</h3><br/><table class=\"wandb\"><tr><td>epoch</td><td>▁▁▁▂▂▂▂▂▂▃▃▃▃▃▄▄▄▄▄▄▅▅▅▅▅▅▆▆▆▆▆▇▇▇▇▇▇███</td></tr><tr><td>lr</td><td>█▇▇▆▆▅▅▄▄▄▃▃▃▃▃▂▂▂▂▂▂▂▂▂▁▁▁▁▁▁▁▁▁▁▁▁▁▁▁▁</td></tr><tr><td>test_accuracy</td><td>▁▄▇▇▇▇▇▇▇▇▇▇▇███████████████████████████</td></tr><tr><td>test_auc_score</td><td>▁▆▆▇▇▇▇█▇██▇█▇███████████████▇▇█▇██▇▇▇▇█</td></tr><tr><td>test_f1_score</td><td>▁▃▅▆▅▇▆▆▆▆▆▆▇▇▇▇██▇▇█████████████▇███▇██</td></tr><tr><td>test_fpr</td><td>█▅▂▂▂▂▂▂▂▂▂▂▂▁▁▁▁▁▁▁▁▁▁▁▁▁▁▁▁▁▁▁▁▁▁▁▁▁▁▁</td></tr><tr><td>test_loss</td><td>█▅▃▂▂▂▂▂▂▂▂▂▂▁▁▁▁▁▁▁▁▁▁▁▁▁▁▁▁▁▁▁▁▁▁▁▁▁▁▁</td></tr><tr><td>test_tpr</td><td>▄█▃▄▅▅▅▅▆▇▅▅▆▁▅▄▃▃▃▂▃▆▃▃▄▅▅▄▄▄▅▄▄▄▄▄▄▅▄▅</td></tr><tr><td>train_accuracy</td><td>▁▇▇▇▇▇▇▇▇▇▇▇▇███████████████████████████</td></tr><tr><td>train_auc_score</td><td>▁▆▇▇▇▇▇█████████████████████████████████</td></tr><tr><td>train_f1_score</td><td>▁▆▆▆▆▇▇▇▆▇▇▇▇▇▇▇▇▇▇▇█▇▇█████████████████</td></tr><tr><td>train_fpr</td><td>█▂▂▂▂▂▁▂▂▂▂▁▁▁▁▁▁▁▁▁▁▁▁▁▁▁▁▁▁▁▁▁▁▁▁▁▁▁▁▁</td></tr><tr><td>train_loss</td><td>█▄▃▃▂▂▂▂▂▂▂▂▂▂▂▁▁▁▁▁▁▁▁▁▁▁▁▁▁▁▁▁▁▁▁▁▁▁▁▁</td></tr><tr><td>train_tpr</td><td>▂▁▂▂▃▅▃▅▅▅▅▆▅▆▆▆▇▇▆▇▇▇▇▇▇▇▇███▇▇█▇▇█▆███</td></tr></table><br/></div><div class=\"wandb-col\"><h3>Run summary:</h3><br/><table class=\"wandb\"><tr><td>epoch</td><td>39</td></tr><tr><td>lr</td><td>0.00015</td></tr><tr><td>test_accuracy</td><td>0.95277</td></tr><tr><td>test_auc_score</td><td>0.96374</td></tr><tr><td>test_f1_score</td><td>0.76678</td></tr><tr><td>test_fpr</td><td>0.04438</td></tr><tr><td>test_loss</td><td>-0.01321</td></tr><tr><td>test_tpr</td><td>0.87552</td></tr><tr><td>train_accuracy</td><td>0.98397</td></tr><tr><td>train_auc_score</td><td>0.98879</td></tr><tr><td>train_f1_score</td><td>0.95395</td></tr><tr><td>train_fpr</td><td>0.01418</td></tr><tr><td>train_loss</td><td>-0.02153</td></tr><tr><td>train_tpr</td><td>0.96599</td></tr></table><br/></div></div>"
      ],
      "text/plain": [
       "<IPython.core.display.HTML object>"
      ]
     },
     "metadata": {},
     "output_type": "display_data"
    },
    {
     "data": {
      "text/html": [
       " View run <strong style=\"color:#cdcd00\">EM_DWBLoss()_ROS-0.1</strong> at: <a href='https://wandb.ai/dmitrii_fomin_uga/Internship_project/runs/r6men0ti' target=\"_blank\">https://wandb.ai/dmitrii_fomin_uga/Internship_project/runs/r6men0ti</a><br/>Synced 5 W&B file(s), 0 media file(s), 0 artifact file(s) and 0 other file(s)"
      ],
      "text/plain": [
       "<IPython.core.display.HTML object>"
      ]
     },
     "metadata": {},
     "output_type": "display_data"
    },
    {
     "data": {
      "text/html": [
       "Find logs at: <code>../logs/wandb\\run-20230705_101248-r6men0ti\\logs</code>"
      ],
      "text/plain": [
       "<IPython.core.display.HTML object>"
      ]
     },
     "metadata": {},
     "output_type": "display_data"
    },
    {
     "data": {
      "text/html": [
       "Tracking run with wandb version 0.15.4"
      ],
      "text/plain": [
       "<IPython.core.display.HTML object>"
      ]
     },
     "metadata": {},
     "output_type": "display_data"
    },
    {
     "data": {
      "text/html": [
       "Run data is saved locally in <code>../logs/wandb\\run-20230705_101303-q7uqrwln</code>"
      ],
      "text/plain": [
       "<IPython.core.display.HTML object>"
      ]
     },
     "metadata": {},
     "output_type": "display_data"
    },
    {
     "data": {
      "text/html": [
       "Syncing run <strong><a href='https://wandb.ai/dmitrii_fomin_uga/Internship_project/runs/q7uqrwln' target=\"_blank\">EM_DWBLoss()_ROS-0.15</a></strong> to <a href='https://wandb.ai/dmitrii_fomin_uga/Internship_project' target=\"_blank\">Weights & Biases</a> (<a href='https://wandb.me/run' target=\"_blank\">docs</a>)<br/>"
      ],
      "text/plain": [
       "<IPython.core.display.HTML object>"
      ]
     },
     "metadata": {},
     "output_type": "display_data"
    },
    {
     "data": {
      "text/html": [
       " View project at <a href='https://wandb.ai/dmitrii_fomin_uga/Internship_project' target=\"_blank\">https://wandb.ai/dmitrii_fomin_uga/Internship_project</a>"
      ],
      "text/plain": [
       "<IPython.core.display.HTML object>"
      ]
     },
     "metadata": {},
     "output_type": "display_data"
    },
    {
     "data": {
      "text/html": [
       " View run at <a href='https://wandb.ai/dmitrii_fomin_uga/Internship_project/runs/q7uqrwln' target=\"_blank\">https://wandb.ai/dmitrii_fomin_uga/Internship_project/runs/q7uqrwln</a>"
      ],
      "text/plain": [
       "<IPython.core.display.HTML object>"
      ]
     },
     "metadata": {},
     "output_type": "display_data"
    },
    {
     "data": {
      "text/html": [
       "Waiting for W&B process to finish... <strong style=\"color:green\">(success).</strong>"
      ],
      "text/plain": [
       "<IPython.core.display.HTML object>"
      ]
     },
     "metadata": {},
     "output_type": "display_data"
    },
    {
     "data": {
      "text/html": [
       "<style>\n",
       "    table.wandb td:nth-child(1) { padding: 0 10px; text-align: left ; width: auto;} td:nth-child(2) {text-align: left ; width: 100%}\n",
       "    .wandb-row { display: flex; flex-direction: row; flex-wrap: wrap; justify-content: flex-start; width: 100% }\n",
       "    .wandb-col { display: flex; flex-direction: column; flex-basis: 100%; flex: 1; padding: 10px; }\n",
       "    </style>\n",
       "<div class=\"wandb-row\"><div class=\"wandb-col\"><h3>Run history:</h3><br/><table class=\"wandb\"><tr><td>epoch</td><td>▁▁▁▂▂▂▂▂▂▃▃▃▃▃▄▄▄▄▄▄▅▅▅▅▅▅▆▆▆▆▆▇▇▇▇▇▇███</td></tr><tr><td>lr</td><td>█▇▇▆▆▅▅▄▄▄▃▃▃▃▃▂▂▂▂▂▂▂▂▂▁▁▁▁▁▁▁▁▁▁▁▁▁▁▁▁</td></tr><tr><td>test_accuracy</td><td>▁▆▇▇▇█▇▇██▇▇▇█▇█████████████████████████</td></tr><tr><td>test_auc_score</td><td>▁▆▇▇█▇▆▇██▇██▇█▇█████████▇███████▇▇█▇█▇▇</td></tr><tr><td>test_f1_score</td><td>▁▅▆▆▇▇▆▇▇▇▇▇▆▇▇▇▇▇██▇█▇▇██▇█████████████</td></tr><tr><td>test_fpr</td><td>█▃▂▂▂▁▂▂▁▁▂▂▂▁▂▁▁▁▁▁▁▁▁▁▁▁▁▁▁▁▁▁▁▁▁▁▁▁▁▁</td></tr><tr><td>test_loss</td><td>█▄▃▂▂▁▂▂▂▁▂▂▂▂▂▁▂▁▁▁▁▁▁▁▁▁▁▁▁▁▁▁▁▁▁▁▁▁▁▁</td></tr><tr><td>test_tpr</td><td>█▂▂▁▂▂▁▂▄▂▂▂▄▃▄▃▃▁▂▁▃▂▂▁▁▁▂▂▂▂▂▁▂▂▂▂▂▁▂▂</td></tr><tr><td>train_accuracy</td><td>▁▆▆▇▇▇▇▇▇▇▇▇▇▇▇▇▇▇██████████████████████</td></tr><tr><td>train_auc_score</td><td>▁▆▇▇▇▇▇▇█████▇██████████████████████████</td></tr><tr><td>train_f1_score</td><td>▁▅▆▆▆▆▇▆▇▇▇▇▇▆▇▇▇▇██▇▇▇▇████████████████</td></tr><tr><td>train_fpr</td><td>█▂▂▂▂▂▂▂▂▂▂▂▂▂▂▂▂▂▁▁▁▁▁▁▁▁▁▁▁▁▁▁▁▁▁▁▁▁▁▁</td></tr><tr><td>train_loss</td><td>█▄▃▃▃▂▂▂▂▂▂▂▂▂▂▂▂▂▁▁▁▁▁▁▁▁▁▁▁▁▁▁▁▁▁▁▁▁▁▁</td></tr><tr><td>train_tpr</td><td>▁▃▃▅▅▅▆▆▇▇▆▇▆▇▆▇▇▇▇▇█▇██████████████████</td></tr></table><br/></div><div class=\"wandb-col\"><h3>Run summary:</h3><br/><table class=\"wandb\"><tr><td>epoch</td><td>39</td></tr><tr><td>lr</td><td>0.00015</td></tr><tr><td>test_accuracy</td><td>0.94368</td></tr><tr><td>test_auc_score</td><td>0.95804</td></tr><tr><td>test_f1_score</td><td>0.74788</td></tr><tr><td>test_fpr</td><td>0.05454</td></tr><tr><td>test_loss</td><td>-0.00814</td></tr><tr><td>test_tpr</td><td>0.89345</td></tr><tr><td>train_accuracy</td><td>0.9852</td></tr><tr><td>train_auc_score</td><td>0.99166</td></tr><tr><td>train_f1_score</td><td>0.96778</td></tr><tr><td>train_fpr</td><td>0.01244</td></tr><tr><td>train_loss</td><td>-0.01815</td></tr><tr><td>train_tpr</td><td>0.97016</td></tr></table><br/></div></div>"
      ],
      "text/plain": [
       "<IPython.core.display.HTML object>"
      ]
     },
     "metadata": {},
     "output_type": "display_data"
    },
    {
     "data": {
      "text/html": [
       " View run <strong style=\"color:#cdcd00\">EM_DWBLoss()_ROS-0.15</strong> at: <a href='https://wandb.ai/dmitrii_fomin_uga/Internship_project/runs/q7uqrwln' target=\"_blank\">https://wandb.ai/dmitrii_fomin_uga/Internship_project/runs/q7uqrwln</a><br/>Synced 5 W&B file(s), 0 media file(s), 0 artifact file(s) and 0 other file(s)"
      ],
      "text/plain": [
       "<IPython.core.display.HTML object>"
      ]
     },
     "metadata": {},
     "output_type": "display_data"
    },
    {
     "data": {
      "text/html": [
       "Find logs at: <code>../logs/wandb\\run-20230705_101303-q7uqrwln\\logs</code>"
      ],
      "text/plain": [
       "<IPython.core.display.HTML object>"
      ]
     },
     "metadata": {},
     "output_type": "display_data"
    },
    {
     "data": {
      "text/html": [
       "Tracking run with wandb version 0.15.4"
      ],
      "text/plain": [
       "<IPython.core.display.HTML object>"
      ]
     },
     "metadata": {},
     "output_type": "display_data"
    },
    {
     "data": {
      "text/html": [
       "Run data is saved locally in <code>../logs/wandb\\run-20230705_101318-k9mjc45n</code>"
      ],
      "text/plain": [
       "<IPython.core.display.HTML object>"
      ]
     },
     "metadata": {},
     "output_type": "display_data"
    },
    {
     "data": {
      "text/html": [
       "Syncing run <strong><a href='https://wandb.ai/dmitrii_fomin_uga/Internship_project/runs/k9mjc45n' target=\"_blank\">EM_DWBLoss()_ROS-0.2</a></strong> to <a href='https://wandb.ai/dmitrii_fomin_uga/Internship_project' target=\"_blank\">Weights & Biases</a> (<a href='https://wandb.me/run' target=\"_blank\">docs</a>)<br/>"
      ],
      "text/plain": [
       "<IPython.core.display.HTML object>"
      ]
     },
     "metadata": {},
     "output_type": "display_data"
    },
    {
     "data": {
      "text/html": [
       " View project at <a href='https://wandb.ai/dmitrii_fomin_uga/Internship_project' target=\"_blank\">https://wandb.ai/dmitrii_fomin_uga/Internship_project</a>"
      ],
      "text/plain": [
       "<IPython.core.display.HTML object>"
      ]
     },
     "metadata": {},
     "output_type": "display_data"
    },
    {
     "data": {
      "text/html": [
       " View run at <a href='https://wandb.ai/dmitrii_fomin_uga/Internship_project/runs/k9mjc45n' target=\"_blank\">https://wandb.ai/dmitrii_fomin_uga/Internship_project/runs/k9mjc45n</a>"
      ],
      "text/plain": [
       "<IPython.core.display.HTML object>"
      ]
     },
     "metadata": {},
     "output_type": "display_data"
    },
    {
     "data": {
      "text/html": [
       "Waiting for W&B process to finish... <strong style=\"color:green\">(success).</strong>"
      ],
      "text/plain": [
       "<IPython.core.display.HTML object>"
      ]
     },
     "metadata": {},
     "output_type": "display_data"
    },
    {
     "data": {
      "text/html": [
       "<style>\n",
       "    table.wandb td:nth-child(1) { padding: 0 10px; text-align: left ; width: auto;} td:nth-child(2) {text-align: left ; width: 100%}\n",
       "    .wandb-row { display: flex; flex-direction: row; flex-wrap: wrap; justify-content: flex-start; width: 100% }\n",
       "    .wandb-col { display: flex; flex-direction: column; flex-basis: 100%; flex: 1; padding: 10px; }\n",
       "    </style>\n",
       "<div class=\"wandb-row\"><div class=\"wandb-col\"><h3>Run history:</h3><br/><table class=\"wandb\"><tr><td>epoch</td><td>▁▁▁▂▂▂▂▂▂▃▃▃▃▃▄▄▄▄▄▄▅▅▅▅▅▅▆▆▆▆▆▇▇▇▇▇▇███</td></tr><tr><td>lr</td><td>█▇▇▆▆▅▅▄▄▄▃▃▃▃▃▂▂▂▂▂▂▂▂▂▁▁▁▁▁▁▁▁▁▁▁▁▁▁▁▁</td></tr><tr><td>test_accuracy</td><td>▁▄▅▆▇▇▇▇▆▇▇▇███▇▇█████▇█████████████████</td></tr><tr><td>test_auc_score</td><td>▁▇▇▇▇▇█▇██▇██▇█▇████▇██████▇█▇█▇███▇█▇██</td></tr><tr><td>test_f1_score</td><td>▁▃▄▅▅▆▆▆▅▆▆▆▇▇█▇▇▇▇█▇▇▇▇▇██▇████████████</td></tr><tr><td>test_fpr</td><td>█▅▄▃▂▂▂▂▃▂▂▂▁▁▁▂▂▁▁▁▁▁▂▁▁▁▁▁▁▁▁▁▁▁▁▁▁▁▁▁</td></tr><tr><td>test_loss</td><td>█▅▄▃▃▂▂▃▃▂▂▂▁▁▁▂▂▁▁▁▁▁▂▁▁▁▁▁▁▁▁▁▁▁▁▁▁▁▁▁</td></tr><tr><td>test_tpr</td><td>▂██▄▂▆▅▆▇▆▃▄▄▂▄▃▄▃▃▃▄▂▃▅▂▂▃▂▃▁▂▁▃▂▂▂▂▂▂▂</td></tr><tr><td>train_accuracy</td><td>▁▆▆▇▇▇▇▇▇▇▇▇▇▇▇▇▇▇█████▇████████████████</td></tr><tr><td>train_auc_score</td><td>▁▇▇▇▇▇▇▇▇▇██████████████████████████████</td></tr><tr><td>train_f1_score</td><td>▁▅▆▆▆▆▆▆▆▇▆▇▇▇▇▇▇▇▇▇▇▇▇▇▇███████████████</td></tr><tr><td>train_fpr</td><td>█▃▂▂▂▂▂▂▂▂▂▂▂▂▂▂▂▂▁▁▁▁▁▂▁▁▁▁▁▁▁▁▁▁▁▁▁▁▁▁</td></tr><tr><td>train_loss</td><td>█▄▃▃▃▃▂▂▂▂▂▂▂▂▂▂▂▂▁▁▁▁▂▁▁▁▁▁▁▁▁▁▁▁▁▁▁▁▁▁</td></tr><tr><td>train_tpr</td><td>▁▃▄▆▅▅▆▆▇▆▇▇▇▇▇▇█▇██▇▇██████████████████</td></tr></table><br/></div><div class=\"wandb-col\"><h3>Run summary:</h3><br/><table class=\"wandb\"><tr><td>epoch</td><td>39</td></tr><tr><td>lr</td><td>0.00015</td></tr><tr><td>test_accuracy</td><td>0.93637</td></tr><tr><td>test_auc_score</td><td>0.9617</td></tr><tr><td>test_f1_score</td><td>0.72818</td></tr><tr><td>test_fpr</td><td>0.06243</td></tr><tr><td>test_loss</td><td>-0.00365</td></tr><tr><td>test_tpr</td><td>0.901</td></tr><tr><td>train_accuracy</td><td>0.99078</td></tr><tr><td>train_auc_score</td><td>0.9972</td></tr><tr><td>train_f1_score</td><td>0.98369</td></tr><tr><td>train_fpr</td><td>0.01017</td></tr><tr><td>train_loss</td><td>-0.02043</td></tr><tr><td>train_tpr</td><td>0.99561</td></tr></table><br/></div></div>"
      ],
      "text/plain": [
       "<IPython.core.display.HTML object>"
      ]
     },
     "metadata": {},
     "output_type": "display_data"
    },
    {
     "data": {
      "text/html": [
       " View run <strong style=\"color:#cdcd00\">EM_DWBLoss()_ROS-0.2</strong> at: <a href='https://wandb.ai/dmitrii_fomin_uga/Internship_project/runs/k9mjc45n' target=\"_blank\">https://wandb.ai/dmitrii_fomin_uga/Internship_project/runs/k9mjc45n</a><br/>Synced 5 W&B file(s), 0 media file(s), 0 artifact file(s) and 0 other file(s)"
      ],
      "text/plain": [
       "<IPython.core.display.HTML object>"
      ]
     },
     "metadata": {},
     "output_type": "display_data"
    },
    {
     "data": {
      "text/html": [
       "Find logs at: <code>../logs/wandb\\run-20230705_101318-k9mjc45n\\logs</code>"
      ],
      "text/plain": [
       "<IPython.core.display.HTML object>"
      ]
     },
     "metadata": {},
     "output_type": "display_data"
    },
    {
     "data": {
      "text/html": [
       "Tracking run with wandb version 0.15.4"
      ],
      "text/plain": [
       "<IPython.core.display.HTML object>"
      ]
     },
     "metadata": {},
     "output_type": "display_data"
    },
    {
     "data": {
      "text/html": [
       "Run data is saved locally in <code>../logs/wandb\\run-20230705_101334-avkw9bu2</code>"
      ],
      "text/plain": [
       "<IPython.core.display.HTML object>"
      ]
     },
     "metadata": {},
     "output_type": "display_data"
    },
    {
     "data": {
      "text/html": [
       "Syncing run <strong><a href='https://wandb.ai/dmitrii_fomin_uga/Internship_project/runs/avkw9bu2' target=\"_blank\">EM_DWBLoss()_ROS-0.25</a></strong> to <a href='https://wandb.ai/dmitrii_fomin_uga/Internship_project' target=\"_blank\">Weights & Biases</a> (<a href='https://wandb.me/run' target=\"_blank\">docs</a>)<br/>"
      ],
      "text/plain": [
       "<IPython.core.display.HTML object>"
      ]
     },
     "metadata": {},
     "output_type": "display_data"
    },
    {
     "data": {
      "text/html": [
       " View project at <a href='https://wandb.ai/dmitrii_fomin_uga/Internship_project' target=\"_blank\">https://wandb.ai/dmitrii_fomin_uga/Internship_project</a>"
      ],
      "text/plain": [
       "<IPython.core.display.HTML object>"
      ]
     },
     "metadata": {},
     "output_type": "display_data"
    },
    {
     "data": {
      "text/html": [
       " View run at <a href='https://wandb.ai/dmitrii_fomin_uga/Internship_project/runs/avkw9bu2' target=\"_blank\">https://wandb.ai/dmitrii_fomin_uga/Internship_project/runs/avkw9bu2</a>"
      ],
      "text/plain": [
       "<IPython.core.display.HTML object>"
      ]
     },
     "metadata": {},
     "output_type": "display_data"
    },
    {
     "data": {
      "text/html": [
       "Waiting for W&B process to finish... <strong style=\"color:green\">(success).</strong>"
      ],
      "text/plain": [
       "<IPython.core.display.HTML object>"
      ]
     },
     "metadata": {},
     "output_type": "display_data"
    },
    {
     "data": {
      "text/html": [
       "<style>\n",
       "    table.wandb td:nth-child(1) { padding: 0 10px; text-align: left ; width: auto;} td:nth-child(2) {text-align: left ; width: 100%}\n",
       "    .wandb-row { display: flex; flex-direction: row; flex-wrap: wrap; justify-content: flex-start; width: 100% }\n",
       "    .wandb-col { display: flex; flex-direction: column; flex-basis: 100%; flex: 1; padding: 10px; }\n",
       "    </style>\n",
       "<div class=\"wandb-row\"><div class=\"wandb-col\"><h3>Run history:</h3><br/><table class=\"wandb\"><tr><td>epoch</td><td>▁▁▁▂▂▂▂▂▂▃▃▃▃▃▄▄▄▄▄▄▅▅▅▅▅▅▆▆▆▆▆▇▇▇▇▇▇███</td></tr><tr><td>lr</td><td>█▇▇▆▆▅▅▄▄▄▃▃▃▃▃▂▂▂▂▂▂▂▂▂▁▁▁▁▁▁▁▁▁▁▁▁▁▁▁▁</td></tr><tr><td>test_accuracy</td><td>▁▅▆▅▆▅▆▇▇▇▇▇▇██▇▇███████▇▇██████████████</td></tr><tr><td>test_auc_score</td><td>▁▅▆▄▄▅▅▆▇▆▆▇████▇▇███▇█▇▇▆▇▇██▇▇▇▇▇▆▇▇▇▇</td></tr><tr><td>test_f1_score</td><td>▁▄▅▄▅▅▅▆▆▇▆▆▇▇▇▇▇▇▇▇▇▇█▇▇▇▇▇▇▇██████████</td></tr><tr><td>test_fpr</td><td>█▄▃▄▃▄▃▂▂▂▂▂▂▂▁▂▂▁▁▁▁▁▁▁▂▂▁▁▁▁▁▁▁▁▁▁▁▁▁▁</td></tr><tr><td>test_loss</td><td>█▄▃▄▃▄▃▂▂▂▂▂▁▁▁▂▂▁▁▁▁▁▁▁▂▂▁▁▁▁▁▁▁▁▁▁▁▁▁▁</td></tr><tr><td>test_tpr</td><td>▇▅▇▆▅█▆▅▇▅▅▆▄▄▅▆▃▃▄▃▄▃▃▃▄▃▄▃▃▂▂▂▂▁▂▃▃▃▂▁</td></tr><tr><td>train_accuracy</td><td>▁▅▆▆▆▆▆▆▆▇▇▆▇▇▇▇▇▇▇▇▇██▇▇▇▇█████████████</td></tr><tr><td>train_auc_score</td><td>▁▆▇▇▇▆▇▇▇▇▇▇███▇████████████████████████</td></tr><tr><td>train_f1_score</td><td>▁▅▅▅▆▅▆▆▆▆▇▆▇▇▇▇▇▇▇▇▇▇█▇▇▇▇▇████████████</td></tr><tr><td>train_fpr</td><td>█▃▃▃▃▄▃▃▃▂▂▃▂▂▂▂▂▂▂▂▂▂▁▂▂▂▂▂▁▁▁▁▁▁▁▁▁▁▁▁</td></tr><tr><td>train_loss</td><td>█▄▄▃▃▄▃▃▃▂▂▂▂▂▂▂▂▂▂▂▂▁▁▂▂▂▂▁▁▁▁▁▁▁▁▁▁▁▁▁</td></tr><tr><td>train_tpr</td><td>▁▄▅▅▆▅▆▆▇▇▇▇▇▇▇▇▇▇█▇██▇▇▇███▇███████████</td></tr></table><br/></div><div class=\"wandb-col\"><h3>Run summary:</h3><br/><table class=\"wandb\"><tr><td>epoch</td><td>39</td></tr><tr><td>lr</td><td>0.00015</td></tr><tr><td>test_accuracy</td><td>0.91395</td></tr><tr><td>test_auc_score</td><td>0.96482</td></tr><tr><td>test_f1_score</td><td>0.68697</td></tr><tr><td>test_fpr</td><td>0.08559</td></tr><tr><td>test_loss</td><td>0.00585</td></tr><tr><td>test_tpr</td><td>0.90217</td></tr><tr><td>train_accuracy</td><td>0.98506</td></tr><tr><td>train_auc_score</td><td>0.99775</td></tr><tr><td>train_f1_score</td><td>0.97715</td></tr><tr><td>train_fpr</td><td>0.01506</td></tr><tr><td>train_loss</td><td>-0.01369</td></tr><tr><td>train_tpr</td><td>0.98575</td></tr></table><br/></div></div>"
      ],
      "text/plain": [
       "<IPython.core.display.HTML object>"
      ]
     },
     "metadata": {},
     "output_type": "display_data"
    },
    {
     "data": {
      "text/html": [
       " View run <strong style=\"color:#cdcd00\">EM_DWBLoss()_ROS-0.25</strong> at: <a href='https://wandb.ai/dmitrii_fomin_uga/Internship_project/runs/avkw9bu2' target=\"_blank\">https://wandb.ai/dmitrii_fomin_uga/Internship_project/runs/avkw9bu2</a><br/>Synced 5 W&B file(s), 0 media file(s), 0 artifact file(s) and 0 other file(s)"
      ],
      "text/plain": [
       "<IPython.core.display.HTML object>"
      ]
     },
     "metadata": {},
     "output_type": "display_data"
    },
    {
     "data": {
      "text/html": [
       "Find logs at: <code>../logs/wandb\\run-20230705_101334-avkw9bu2\\logs</code>"
      ],
      "text/plain": [
       "<IPython.core.display.HTML object>"
      ]
     },
     "metadata": {},
     "output_type": "display_data"
    },
    {
     "data": {
      "text/html": [
       "Tracking run with wandb version 0.15.4"
      ],
      "text/plain": [
       "<IPython.core.display.HTML object>"
      ]
     },
     "metadata": {},
     "output_type": "display_data"
    },
    {
     "data": {
      "text/html": [
       "Run data is saved locally in <code>../logs/wandb\\run-20230705_101350-kwacbki1</code>"
      ],
      "text/plain": [
       "<IPython.core.display.HTML object>"
      ]
     },
     "metadata": {},
     "output_type": "display_data"
    },
    {
     "data": {
      "text/html": [
       "Syncing run <strong><a href='https://wandb.ai/dmitrii_fomin_uga/Internship_project/runs/kwacbki1' target=\"_blank\">EM_DWBLoss()_ROS-0.3</a></strong> to <a href='https://wandb.ai/dmitrii_fomin_uga/Internship_project' target=\"_blank\">Weights & Biases</a> (<a href='https://wandb.me/run' target=\"_blank\">docs</a>)<br/>"
      ],
      "text/plain": [
       "<IPython.core.display.HTML object>"
      ]
     },
     "metadata": {},
     "output_type": "display_data"
    },
    {
     "data": {
      "text/html": [
       " View project at <a href='https://wandb.ai/dmitrii_fomin_uga/Internship_project' target=\"_blank\">https://wandb.ai/dmitrii_fomin_uga/Internship_project</a>"
      ],
      "text/plain": [
       "<IPython.core.display.HTML object>"
      ]
     },
     "metadata": {},
     "output_type": "display_data"
    },
    {
     "data": {
      "text/html": [
       " View run at <a href='https://wandb.ai/dmitrii_fomin_uga/Internship_project/runs/kwacbki1' target=\"_blank\">https://wandb.ai/dmitrii_fomin_uga/Internship_project/runs/kwacbki1</a>"
      ],
      "text/plain": [
       "<IPython.core.display.HTML object>"
      ]
     },
     "metadata": {},
     "output_type": "display_data"
    },
    {
     "data": {
      "text/html": [
       "Waiting for W&B process to finish... <strong style=\"color:green\">(success).</strong>"
      ],
      "text/plain": [
       "<IPython.core.display.HTML object>"
      ]
     },
     "metadata": {},
     "output_type": "display_data"
    },
    {
     "data": {
      "text/html": [
       "<style>\n",
       "    table.wandb td:nth-child(1) { padding: 0 10px; text-align: left ; width: auto;} td:nth-child(2) {text-align: left ; width: 100%}\n",
       "    .wandb-row { display: flex; flex-direction: row; flex-wrap: wrap; justify-content: flex-start; width: 100% }\n",
       "    .wandb-col { display: flex; flex-direction: column; flex-basis: 100%; flex: 1; padding: 10px; }\n",
       "    </style>\n",
       "<div class=\"wandb-row\"><div class=\"wandb-col\"><h3>Run history:</h3><br/><table class=\"wandb\"><tr><td>epoch</td><td>▁▁▁▂▂▂▂▂▂▃▃▃▃▃▄▄▄▄▄▄▅▅▅▅▅▅▆▆▆▆▆▇▇▇▇▇▇███</td></tr><tr><td>lr</td><td>█▇▇▆▆▅▅▄▄▄▃▃▃▃▃▂▂▂▂▂▂▂▂▂▁▁▁▁▁▁▁▁▁▁▁▁▁▁▁▁</td></tr><tr><td>test_accuracy</td><td>▁▄▅▆▆▆▅▅▆▇▇▇▇▇▇▇▇▇██████████████████████</td></tr><tr><td>test_auc_score</td><td>▁▅▆▆▇▆▅▇▇██▇██▇▇██████▇▇█▇█████████▇▇▇▇▇</td></tr><tr><td>test_f1_score</td><td>▁▃▄▅▅▅▄▄▅▆▇▇▇▇▇▇▆▇▇▇█▇▇▇▇▇██████████████</td></tr><tr><td>test_fpr</td><td>█▅▄▃▃▃▄▄▃▂▂▂▂▂▂▂▂▂▁▁▁▁▁▁▁▁▁▁▁▁▁▁▁▁▁▁▁▁▁▁</td></tr><tr><td>test_loss</td><td>█▆▅▄▃▃▅▅▃▂▂▂▂▂▂▂▂▂▁▁▁▁▁▁▁▁▁▁▁▁▁▁▁▁▁▁▁▁▁▁</td></tr><tr><td>test_tpr</td><td>██▇▅▆▂██▅▅▄▃▂▄▃▃▃▃▄▃▂▄▁▂▃▁▅▃▄▄▄▂▄▂▂▂▃▁▁▂</td></tr><tr><td>train_accuracy</td><td>▁▅▆▆▆▆▆▅▇▇▇▇▇▇▇▇▇▇▇▇▇▇▇▇▇▇██████████████</td></tr><tr><td>train_auc_score</td><td>▁▇▇▇▇▇▇▇▇███████████████████████████████</td></tr><tr><td>train_f1_score</td><td>▁▅▅▆▆▆▅▅▆▇▇▇▇▇▇▇▇▇▇▇▇▇▇▇▇▇██████████████</td></tr><tr><td>train_fpr</td><td>█▃▃▃▃▃▄▄▂▂▂▂▂▂▂▂▂▂▂▂▂▂▂▂▂▂▁▁▁▁▁▁▁▁▁▁▁▁▁▁</td></tr><tr><td>train_loss</td><td>█▄▃▃▃▃▃▃▂▂▂▂▂▂▂▂▂▂▂▁▁▁▁▁▁▁▁▁▁▁▁▁▁▁▁▁▁▁▁▁</td></tr><tr><td>train_tpr</td><td>▁▅▆▆▆▆▆▇▆▇▇█▇█▇███▇█████████████████████</td></tr></table><br/></div><div class=\"wandb-col\"><h3>Run summary:</h3><br/><table class=\"wandb\"><tr><td>epoch</td><td>39</td></tr><tr><td>lr</td><td>0.00015</td></tr><tr><td>test_accuracy</td><td>0.90591</td></tr><tr><td>test_auc_score</td><td>0.96206</td></tr><tr><td>test_f1_score</td><td>0.66741</td></tr><tr><td>test_fpr</td><td>0.09462</td></tr><tr><td>test_loss</td><td>0.00963</td></tr><tr><td>test_tpr</td><td>0.9289</td></tr><tr><td>train_accuracy</td><td>0.98319</td></tr><tr><td>train_auc_score</td><td>0.99661</td></tr><tr><td>train_f1_score</td><td>0.97689</td></tr><tr><td>train_fpr</td><td>0.01781</td></tr><tr><td>train_loss</td><td>-0.01021</td></tr><tr><td>train_tpr</td><td>0.98782</td></tr></table><br/></div></div>"
      ],
      "text/plain": [
       "<IPython.core.display.HTML object>"
      ]
     },
     "metadata": {},
     "output_type": "display_data"
    },
    {
     "data": {
      "text/html": [
       " View run <strong style=\"color:#cdcd00\">EM_DWBLoss()_ROS-0.3</strong> at: <a href='https://wandb.ai/dmitrii_fomin_uga/Internship_project/runs/kwacbki1' target=\"_blank\">https://wandb.ai/dmitrii_fomin_uga/Internship_project/runs/kwacbki1</a><br/>Synced 5 W&B file(s), 0 media file(s), 0 artifact file(s) and 0 other file(s)"
      ],
      "text/plain": [
       "<IPython.core.display.HTML object>"
      ]
     },
     "metadata": {},
     "output_type": "display_data"
    },
    {
     "data": {
      "text/html": [
       "Find logs at: <code>../logs/wandb\\run-20230705_101350-kwacbki1\\logs</code>"
      ],
      "text/plain": [
       "<IPython.core.display.HTML object>"
      ]
     },
     "metadata": {},
     "output_type": "display_data"
    },
    {
     "data": {
      "text/html": [
       "Tracking run with wandb version 0.15.4"
      ],
      "text/plain": [
       "<IPython.core.display.HTML object>"
      ]
     },
     "metadata": {},
     "output_type": "display_data"
    },
    {
     "data": {
      "text/html": [
       "Run data is saved locally in <code>../logs/wandb\\run-20230705_101406-w2sxtoso</code>"
      ],
      "text/plain": [
       "<IPython.core.display.HTML object>"
      ]
     },
     "metadata": {},
     "output_type": "display_data"
    },
    {
     "data": {
      "text/html": [
       "Syncing run <strong><a href='https://wandb.ai/dmitrii_fomin_uga/Internship_project/runs/w2sxtoso' target=\"_blank\">EM_DWBLoss()_ROS-0.35</a></strong> to <a href='https://wandb.ai/dmitrii_fomin_uga/Internship_project' target=\"_blank\">Weights & Biases</a> (<a href='https://wandb.me/run' target=\"_blank\">docs</a>)<br/>"
      ],
      "text/plain": [
       "<IPython.core.display.HTML object>"
      ]
     },
     "metadata": {},
     "output_type": "display_data"
    },
    {
     "data": {
      "text/html": [
       " View project at <a href='https://wandb.ai/dmitrii_fomin_uga/Internship_project' target=\"_blank\">https://wandb.ai/dmitrii_fomin_uga/Internship_project</a>"
      ],
      "text/plain": [
       "<IPython.core.display.HTML object>"
      ]
     },
     "metadata": {},
     "output_type": "display_data"
    },
    {
     "data": {
      "text/html": [
       " View run at <a href='https://wandb.ai/dmitrii_fomin_uga/Internship_project/runs/w2sxtoso' target=\"_blank\">https://wandb.ai/dmitrii_fomin_uga/Internship_project/runs/w2sxtoso</a>"
      ],
      "text/plain": [
       "<IPython.core.display.HTML object>"
      ]
     },
     "metadata": {},
     "output_type": "display_data"
    },
    {
     "data": {
      "text/html": [
       "Waiting for W&B process to finish... <strong style=\"color:green\">(success).</strong>"
      ],
      "text/plain": [
       "<IPython.core.display.HTML object>"
      ]
     },
     "metadata": {},
     "output_type": "display_data"
    },
    {
     "data": {
      "text/html": [
       "<style>\n",
       "    table.wandb td:nth-child(1) { padding: 0 10px; text-align: left ; width: auto;} td:nth-child(2) {text-align: left ; width: 100%}\n",
       "    .wandb-row { display: flex; flex-direction: row; flex-wrap: wrap; justify-content: flex-start; width: 100% }\n",
       "    .wandb-col { display: flex; flex-direction: column; flex-basis: 100%; flex: 1; padding: 10px; }\n",
       "    </style>\n",
       "<div class=\"wandb-row\"><div class=\"wandb-col\"><h3>Run history:</h3><br/><table class=\"wandb\"><tr><td>epoch</td><td>▁▁▁▂▂▂▂▂▂▃▃▃▃▃▄▄▄▄▄▄▅▅▅▅▅▅▆▆▆▆▆▇▇▇▇▇▇███</td></tr><tr><td>lr</td><td>█▇▇▆▆▅▅▄▄▄▃▃▃▃▃▂▂▂▂▂▂▂▂▂▁▁▁▁▁▁▁▁▁▁▁▁▁▁▁▁</td></tr><tr><td>test_accuracy</td><td>▁▅▆▆▆▇▇▇▇▆▇▇▇█▇██▇▇▇▇███████████████████</td></tr><tr><td>test_auc_score</td><td>▁▄▅▅▆▆▇▆▇▇▆▇███▆▇▇▇▇▇▇▇██▇▇▇▇▇▇▇▇▇▇▇▇▇▇▇</td></tr><tr><td>test_f1_score</td><td>▁▄▅▅▆▆▆▆▆▆▆▇▇▇▇▇▇▇▇▇▇▇██████████████████</td></tr><tr><td>test_fpr</td><td>█▄▃▃▃▂▂▂▃▃▂▂▂▁▂▁▁▂▂▂▂▁▁▁▁▁▁▁▁▁▁▁▁▁▁▁▁▁▁▁</td></tr><tr><td>test_loss</td><td>█▅▄▃▃▂▂▂▃▃▂▂▂▁▂▁▂▂▂▂▂▁▁▁▁▁▁▁▁▁▁▁▁▁▁▁▁▁▁▁</td></tr><tr><td>test_tpr</td><td>█▄▆▃▅▃▅▃▆▆▇▅▂▄▄▁▂▃▃▄▄▂▂▃▄▃▂▂▃▂▃▃▂▃▃▃▄▄▃▂</td></tr><tr><td>train_accuracy</td><td>▁▆▆▆▇▇▇▇▇▇▇▇▇▇▇█▇▇▇▇▇▇██████████████████</td></tr><tr><td>train_auc_score</td><td>▁▆▇▇▇▇█▇▇▇██████████████████████████████</td></tr><tr><td>train_f1_score</td><td>▁▅▆▆▆▆▇▆▇▆▇▇▇▇▇▇▇▇▇▇▇▇██████████████████</td></tr><tr><td>train_fpr</td><td>█▃▃▃▃▂▂▂▂▂▂▂▂▂▂▂▂▂▂▂▂▂▁▁▁▁▁▁▁▁▁▁▁▁▁▁▁▁▁▁</td></tr><tr><td>train_loss</td><td>█▄▃▃▃▂▂▂▂▂▂▂▂▂▂▁▂▂▂▂▂▁▁▁▁▁▁▁▁▁▁▁▁▁▁▁▁▁▁▁</td></tr><tr><td>train_tpr</td><td>▁▄▇▇▇▇▇▇▇▇▇█▇█████▇█████████████████████</td></tr></table><br/></div><div class=\"wandb-col\"><h3>Run summary:</h3><br/><table class=\"wandb\"><tr><td>epoch</td><td>39</td></tr><tr><td>lr</td><td>0.00015</td></tr><tr><td>test_accuracy</td><td>0.89352</td></tr><tr><td>test_auc_score</td><td>0.96234</td></tr><tr><td>test_f1_score</td><td>0.65904</td></tr><tr><td>test_fpr</td><td>0.10812</td></tr><tr><td>test_loss</td><td>0.01556</td></tr><tr><td>test_tpr</td><td>0.94018</td></tr><tr><td>train_accuracy</td><td>0.98784</td></tr><tr><td>train_auc_score</td><td>0.99722</td></tr><tr><td>train_f1_score</td><td>0.98439</td></tr><tr><td>train_fpr</td><td>0.01599</td></tr><tr><td>train_loss</td><td>-0.01287</td></tr><tr><td>train_tpr</td><td>0.99877</td></tr></table><br/></div></div>"
      ],
      "text/plain": [
       "<IPython.core.display.HTML object>"
      ]
     },
     "metadata": {},
     "output_type": "display_data"
    },
    {
     "data": {
      "text/html": [
       " View run <strong style=\"color:#cdcd00\">EM_DWBLoss()_ROS-0.35</strong> at: <a href='https://wandb.ai/dmitrii_fomin_uga/Internship_project/runs/w2sxtoso' target=\"_blank\">https://wandb.ai/dmitrii_fomin_uga/Internship_project/runs/w2sxtoso</a><br/>Synced 5 W&B file(s), 0 media file(s), 0 artifact file(s) and 0 other file(s)"
      ],
      "text/plain": [
       "<IPython.core.display.HTML object>"
      ]
     },
     "metadata": {},
     "output_type": "display_data"
    },
    {
     "data": {
      "text/html": [
       "Find logs at: <code>../logs/wandb\\run-20230705_101406-w2sxtoso\\logs</code>"
      ],
      "text/plain": [
       "<IPython.core.display.HTML object>"
      ]
     },
     "metadata": {},
     "output_type": "display_data"
    },
    {
     "data": {
      "text/html": [
       "Tracking run with wandb version 0.15.4"
      ],
      "text/plain": [
       "<IPython.core.display.HTML object>"
      ]
     },
     "metadata": {},
     "output_type": "display_data"
    },
    {
     "data": {
      "text/html": [
       "Run data is saved locally in <code>../logs/wandb\\run-20230705_101420-gyv4jby3</code>"
      ],
      "text/plain": [
       "<IPython.core.display.HTML object>"
      ]
     },
     "metadata": {},
     "output_type": "display_data"
    },
    {
     "data": {
      "text/html": [
       "Syncing run <strong><a href='https://wandb.ai/dmitrii_fomin_uga/Internship_project/runs/gyv4jby3' target=\"_blank\">EM_DWBLoss()_ROS-0.4</a></strong> to <a href='https://wandb.ai/dmitrii_fomin_uga/Internship_project' target=\"_blank\">Weights & Biases</a> (<a href='https://wandb.me/run' target=\"_blank\">docs</a>)<br/>"
      ],
      "text/plain": [
       "<IPython.core.display.HTML object>"
      ]
     },
     "metadata": {},
     "output_type": "display_data"
    },
    {
     "data": {
      "text/html": [
       " View project at <a href='https://wandb.ai/dmitrii_fomin_uga/Internship_project' target=\"_blank\">https://wandb.ai/dmitrii_fomin_uga/Internship_project</a>"
      ],
      "text/plain": [
       "<IPython.core.display.HTML object>"
      ]
     },
     "metadata": {},
     "output_type": "display_data"
    },
    {
     "data": {
      "text/html": [
       " View run at <a href='https://wandb.ai/dmitrii_fomin_uga/Internship_project/runs/gyv4jby3' target=\"_blank\">https://wandb.ai/dmitrii_fomin_uga/Internship_project/runs/gyv4jby3</a>"
      ],
      "text/plain": [
       "<IPython.core.display.HTML object>"
      ]
     },
     "metadata": {},
     "output_type": "display_data"
    },
    {
     "data": {
      "text/html": [
       "Waiting for W&B process to finish... <strong style=\"color:green\">(success).</strong>"
      ],
      "text/plain": [
       "<IPython.core.display.HTML object>"
      ]
     },
     "metadata": {},
     "output_type": "display_data"
    },
    {
     "data": {
      "text/html": [
       "<style>\n",
       "    table.wandb td:nth-child(1) { padding: 0 10px; text-align: left ; width: auto;} td:nth-child(2) {text-align: left ; width: 100%}\n",
       "    .wandb-row { display: flex; flex-direction: row; flex-wrap: wrap; justify-content: flex-start; width: 100% }\n",
       "    .wandb-col { display: flex; flex-direction: column; flex-basis: 100%; flex: 1; padding: 10px; }\n",
       "    </style>\n",
       "<div class=\"wandb-row\"><div class=\"wandb-col\"><h3>Run history:</h3><br/><table class=\"wandb\"><tr><td>epoch</td><td>▁▁▁▂▂▂▂▂▂▃▃▃▃▃▄▄▄▄▄▄▅▅▅▅▅▅▆▆▆▆▆▇▇▇▇▇▇███</td></tr><tr><td>lr</td><td>█▇▇▆▆▅▅▄▄▄▃▃▃▃▃▂▂▂▂▂▂▂▂▂▁▁▁▁▁▁▁▁▁▁▁▁▁▁▁▁</td></tr><tr><td>test_accuracy</td><td>▁▄▄▅▅▆▇▇▆▇▇▇▇▇▇▇▇██▇█▇██████████████████</td></tr><tr><td>test_auc_score</td><td>▁▆▅▆▇▇▆▆▇▇▇▇▇▇▇▇████▇█████▇█████████████</td></tr><tr><td>test_f1_score</td><td>▁▃▄▄▅▅▆▆▆▆▆▇▇▇▇▇▇▇▇▇▇▇▇▇████▇▇▇█████████</td></tr><tr><td>test_fpr</td><td>█▅▅▄▄▃▂▂▃▂▂▂▂▂▂▂▂▁▁▂▁▂▁▁▁▁▁▁▁▁▁▁▁▁▁▁▁▁▁▁</td></tr><tr><td>test_loss</td><td>█▆▆▆▄▄▃▃▃▃▃▂▂▂▂▂▂▂▁▂▂▂▂▂▁▁▁▁▂▁▁▁▁▁▁▁▁▁▁▁</td></tr><tr><td>test_tpr</td><td>██▇▆██▆█▇▇██▆▅▄▆▃▂▅▅▁▄▄▂▃▃▂▃▃▂▂▂▁▃▄▂▁▁▂▂</td></tr><tr><td>train_accuracy</td><td>▁▅▆▆▆▆▇▆▇▇▇▇▇▇▇▇▇█▇█▇▇██████████████████</td></tr><tr><td>train_auc_score</td><td>▁▆▇▇▇▇▇▇▇███████████████████████████████</td></tr><tr><td>train_f1_score</td><td>▁▅▅▆▆▆▇▆▆▇▇▇▇▇▇▇▇▇▇▇▇▇██████████████████</td></tr><tr><td>train_fpr</td><td>█▄▃▃▃▃▂▃▃▂▂▂▂▂▂▂▂▂▂▂▂▂▁▁▁▁▁▁▁▁▁▁▁▁▁▁▁▁▁▁</td></tr><tr><td>train_loss</td><td>█▄▄▃▃▃▃▃▂▂▂▂▂▂▂▂▂▁▂▁▂▁▁▁▁▁▁▁▁▁▁▁▁▁▁▁▁▁▁▁</td></tr><tr><td>train_tpr</td><td>▁▅▅▆▆▇▆▇▇▆▆▇▇▇▇█▇█▇█████████████████████</td></tr></table><br/></div><div class=\"wandb-col\"><h3>Run summary:</h3><br/><table class=\"wandb\"><tr><td>epoch</td><td>39</td></tr><tr><td>lr</td><td>0.00015</td></tr><tr><td>test_accuracy</td><td>0.86926</td></tr><tr><td>test_auc_score</td><td>0.96825</td></tr><tr><td>test_f1_score</td><td>0.62626</td></tr><tr><td>test_fpr</td><td>0.13297</td></tr><tr><td>test_loss</td><td>0.02558</td></tr><tr><td>test_tpr</td><td>0.93424</td></tr><tr><td>train_accuracy</td><td>0.9811</td></tr><tr><td>train_auc_score</td><td>0.99614</td></tr><tr><td>train_f1_score</td><td>0.9772</td></tr><tr><td>train_fpr</td><td>0.02309</td></tr><tr><td>train_loss</td><td>-0.00655</td></tr><tr><td>train_tpr</td><td>0.99221</td></tr></table><br/></div></div>"
      ],
      "text/plain": [
       "<IPython.core.display.HTML object>"
      ]
     },
     "metadata": {},
     "output_type": "display_data"
    },
    {
     "data": {
      "text/html": [
       " View run <strong style=\"color:#cdcd00\">EM_DWBLoss()_ROS-0.4</strong> at: <a href='https://wandb.ai/dmitrii_fomin_uga/Internship_project/runs/gyv4jby3' target=\"_blank\">https://wandb.ai/dmitrii_fomin_uga/Internship_project/runs/gyv4jby3</a><br/>Synced 5 W&B file(s), 0 media file(s), 0 artifact file(s) and 0 other file(s)"
      ],
      "text/plain": [
       "<IPython.core.display.HTML object>"
      ]
     },
     "metadata": {},
     "output_type": "display_data"
    },
    {
     "data": {
      "text/html": [
       "Find logs at: <code>../logs/wandb\\run-20230705_101420-gyv4jby3\\logs</code>"
      ],
      "text/plain": [
       "<IPython.core.display.HTML object>"
      ]
     },
     "metadata": {},
     "output_type": "display_data"
    },
    {
     "data": {
      "text/html": [
       "Tracking run with wandb version 0.15.4"
      ],
      "text/plain": [
       "<IPython.core.display.HTML object>"
      ]
     },
     "metadata": {},
     "output_type": "display_data"
    },
    {
     "data": {
      "text/html": [
       "Run data is saved locally in <code>../logs/wandb\\run-20230705_101434-92xkdd91</code>"
      ],
      "text/plain": [
       "<IPython.core.display.HTML object>"
      ]
     },
     "metadata": {},
     "output_type": "display_data"
    },
    {
     "data": {
      "text/html": [
       "Syncing run <strong><a href='https://wandb.ai/dmitrii_fomin_uga/Internship_project/runs/92xkdd91' target=\"_blank\">EM_DWBLoss()_ROS-0.45</a></strong> to <a href='https://wandb.ai/dmitrii_fomin_uga/Internship_project' target=\"_blank\">Weights & Biases</a> (<a href='https://wandb.me/run' target=\"_blank\">docs</a>)<br/>"
      ],
      "text/plain": [
       "<IPython.core.display.HTML object>"
      ]
     },
     "metadata": {},
     "output_type": "display_data"
    },
    {
     "data": {
      "text/html": [
       " View project at <a href='https://wandb.ai/dmitrii_fomin_uga/Internship_project' target=\"_blank\">https://wandb.ai/dmitrii_fomin_uga/Internship_project</a>"
      ],
      "text/plain": [
       "<IPython.core.display.HTML object>"
      ]
     },
     "metadata": {},
     "output_type": "display_data"
    },
    {
     "data": {
      "text/html": [
       " View run at <a href='https://wandb.ai/dmitrii_fomin_uga/Internship_project/runs/92xkdd91' target=\"_blank\">https://wandb.ai/dmitrii_fomin_uga/Internship_project/runs/92xkdd91</a>"
      ],
      "text/plain": [
       "<IPython.core.display.HTML object>"
      ]
     },
     "metadata": {},
     "output_type": "display_data"
    },
    {
     "data": {
      "text/html": [
       "Waiting for W&B process to finish... <strong style=\"color:green\">(success).</strong>"
      ],
      "text/plain": [
       "<IPython.core.display.HTML object>"
      ]
     },
     "metadata": {},
     "output_type": "display_data"
    },
    {
     "data": {
      "text/html": [
       "<style>\n",
       "    table.wandb td:nth-child(1) { padding: 0 10px; text-align: left ; width: auto;} td:nth-child(2) {text-align: left ; width: 100%}\n",
       "    .wandb-row { display: flex; flex-direction: row; flex-wrap: wrap; justify-content: flex-start; width: 100% }\n",
       "    .wandb-col { display: flex; flex-direction: column; flex-basis: 100%; flex: 1; padding: 10px; }\n",
       "    </style>\n",
       "<div class=\"wandb-row\"><div class=\"wandb-col\"><h3>Run history:</h3><br/><table class=\"wandb\"><tr><td>epoch</td><td>▁▁▁▂▂▂▂▂▂▃▃▃▃▃▄▄▄▄▄▄▅▅▅▅▅▅▆▆▆▆▆▇▇▇▇▇▇███</td></tr><tr><td>lr</td><td>█▇▇▆▆▅▅▄▄▄▃▃▃▃▃▂▂▂▂▂▂▂▂▂▁▁▁▁▁▁▁▁▁▁▁▁▁▁▁▁</td></tr><tr><td>test_accuracy</td><td>▁▅▅▆▆▆▆▆▆▆▇▇▇▆▆▇▇▇▇█████████████████████</td></tr><tr><td>test_auc_score</td><td>▁▅▆▇▇▆▇▇▇▇██▇████▇█▇▇▇▇▇▇▇▇▆▇▇▇▇▇▇▇▇▆▇▆▇</td></tr><tr><td>test_f1_score</td><td>▁▄▅▅▅▅▅▆▆▆▇▇▆▆▆▆▆▆▇▇▇███▇▇▇█████████████</td></tr><tr><td>test_fpr</td><td>█▄▄▃▃▃▃▃▃▃▂▂▂▃▃▂▂▂▂▁▁▁▁▁▁▁▁▁▁▁▁▁▁▁▁▁▁▁▁▁</td></tr><tr><td>test_loss</td><td>█▅▄▄▃▃▃▃▃▃▂▂▂▃▃▂▂▂▂▂▁▁▁▁▁▁▁▁▁▁▁▁▁▁▁▁▁▁▁▁</td></tr><tr><td>test_tpr</td><td>█▄▅▅▆▆▇▅▆▅▅▅▆▇▄▅▅▄▄▂▂▂▃▃▂▃▂▁▂▁▂▁▁▃▂▂▁▂▂▃</td></tr><tr><td>train_accuracy</td><td>▁▆▆▆▆▇▆▇▇▇▇▇▇▇▇▇▇▇▇███████▇█████████████</td></tr><tr><td>train_auc_score</td><td>▁▇▇▇▇▇▇▇▇████▇██████████████████████████</td></tr><tr><td>train_f1_score</td><td>▁▅▆▆▆▆▆▆▇▇▇▇▇▆▇▇▇▇▇▇████▇█▇▇████████████</td></tr><tr><td>train_fpr</td><td>█▃▃▃▃▂▃▂▂▂▂▂▂▃▂▂▂▂▂▁▁▁▁▁▁▁▂▂▁▁▁▁▁▁▁▁▁▁▁▁</td></tr><tr><td>train_loss</td><td>█▄▃▃▃▃▃▂▂▂▂▂▂▂▂▂▂▂▂▁▁▁▁▁▁▁▁▁▁▁▁▁▁▁▁▁▁▁▁▁</td></tr><tr><td>train_tpr</td><td>▁▄▅▇▇▇▇▇▇▇▇▇▇▇▇▇▇▇▇▇▇▇█▇▇▇██████████████</td></tr></table><br/></div><div class=\"wandb-col\"><h3>Run summary:</h3><br/><table class=\"wandb\"><tr><td>epoch</td><td>39</td></tr><tr><td>lr</td><td>0.00015</td></tr><tr><td>test_accuracy</td><td>0.87022</td></tr><tr><td>test_auc_score</td><td>0.95865</td></tr><tr><td>test_f1_score</td><td>0.62874</td></tr><tr><td>test_fpr</td><td>0.13233</td></tr><tr><td>test_loss</td><td>0.0266</td></tr><tr><td>test_tpr</td><td>0.94642</td></tr><tr><td>train_accuracy</td><td>0.98563</td></tr><tr><td>train_auc_score</td><td>0.9969</td></tr><tr><td>train_f1_score</td><td>0.98336</td></tr><tr><td>train_fpr</td><td>0.01965</td></tr><tr><td>train_loss</td><td>-0.00728</td></tr><tr><td>train_tpr</td><td>0.99759</td></tr></table><br/></div></div>"
      ],
      "text/plain": [
       "<IPython.core.display.HTML object>"
      ]
     },
     "metadata": {},
     "output_type": "display_data"
    },
    {
     "data": {
      "text/html": [
       " View run <strong style=\"color:#cdcd00\">EM_DWBLoss()_ROS-0.45</strong> at: <a href='https://wandb.ai/dmitrii_fomin_uga/Internship_project/runs/92xkdd91' target=\"_blank\">https://wandb.ai/dmitrii_fomin_uga/Internship_project/runs/92xkdd91</a><br/>Synced 5 W&B file(s), 0 media file(s), 0 artifact file(s) and 0 other file(s)"
      ],
      "text/plain": [
       "<IPython.core.display.HTML object>"
      ]
     },
     "metadata": {},
     "output_type": "display_data"
    },
    {
     "data": {
      "text/html": [
       "Find logs at: <code>../logs/wandb\\run-20230705_101434-92xkdd91\\logs</code>"
      ],
      "text/plain": [
       "<IPython.core.display.HTML object>"
      ]
     },
     "metadata": {},
     "output_type": "display_data"
    },
    {
     "data": {
      "text/html": [
       "Tracking run with wandb version 0.15.4"
      ],
      "text/plain": [
       "<IPython.core.display.HTML object>"
      ]
     },
     "metadata": {},
     "output_type": "display_data"
    },
    {
     "data": {
      "text/html": [
       "Run data is saved locally in <code>../logs/wandb\\run-20230705_101448-wm8x5qz1</code>"
      ],
      "text/plain": [
       "<IPython.core.display.HTML object>"
      ]
     },
     "metadata": {},
     "output_type": "display_data"
    },
    {
     "data": {
      "text/html": [
       "Syncing run <strong><a href='https://wandb.ai/dmitrii_fomin_uga/Internship_project/runs/wm8x5qz1' target=\"_blank\">EM_DWBLoss()_ROS-0.5</a></strong> to <a href='https://wandb.ai/dmitrii_fomin_uga/Internship_project' target=\"_blank\">Weights & Biases</a> (<a href='https://wandb.me/run' target=\"_blank\">docs</a>)<br/>"
      ],
      "text/plain": [
       "<IPython.core.display.HTML object>"
      ]
     },
     "metadata": {},
     "output_type": "display_data"
    },
    {
     "data": {
      "text/html": [
       " View project at <a href='https://wandb.ai/dmitrii_fomin_uga/Internship_project' target=\"_blank\">https://wandb.ai/dmitrii_fomin_uga/Internship_project</a>"
      ],
      "text/plain": [
       "<IPython.core.display.HTML object>"
      ]
     },
     "metadata": {},
     "output_type": "display_data"
    },
    {
     "data": {
      "text/html": [
       " View run at <a href='https://wandb.ai/dmitrii_fomin_uga/Internship_project/runs/wm8x5qz1' target=\"_blank\">https://wandb.ai/dmitrii_fomin_uga/Internship_project/runs/wm8x5qz1</a>"
      ],
      "text/plain": [
       "<IPython.core.display.HTML object>"
      ]
     },
     "metadata": {},
     "output_type": "display_data"
    },
    {
     "data": {
      "text/html": [
       "Waiting for W&B process to finish... <strong style=\"color:green\">(success).</strong>"
      ],
      "text/plain": [
       "<IPython.core.display.HTML object>"
      ]
     },
     "metadata": {},
     "output_type": "display_data"
    },
    {
     "data": {
      "text/html": [
       "<style>\n",
       "    table.wandb td:nth-child(1) { padding: 0 10px; text-align: left ; width: auto;} td:nth-child(2) {text-align: left ; width: 100%}\n",
       "    .wandb-row { display: flex; flex-direction: row; flex-wrap: wrap; justify-content: flex-start; width: 100% }\n",
       "    .wandb-col { display: flex; flex-direction: column; flex-basis: 100%; flex: 1; padding: 10px; }\n",
       "    </style>\n",
       "<div class=\"wandb-row\"><div class=\"wandb-col\"><h3>Run history:</h3><br/><table class=\"wandb\"><tr><td>epoch</td><td>▁▁▁▂▂▂▂▂▂▃▃▃▃▃▄▄▄▄▄▄▅▅▅▅▅▅▆▆▆▆▆▇▇▇▇▇▇███</td></tr><tr><td>lr</td><td>█▇▇▆▆▅▅▄▄▄▃▃▃▃▃▂▂▂▂▂▂▂▂▂▁▁▁▁▁▁▁▁▁▁▁▁▁▁▁▁</td></tr><tr><td>test_accuracy</td><td>▁▅▄▅▅▆▆▆▆▆▆▇▆▆▇▇▇▇▇▇▇███████████████████</td></tr><tr><td>test_auc_score</td><td>▁▁▄▄▃▆▆▅▅▅▆▆▇▇▆▇▇▇▇▆▇▇██▇██████████████▇</td></tr><tr><td>test_f1_score</td><td>▁▄▄▄▅▅▆▆▅▆▆▇▆▆▇▇▇▇▇▇▇▇▇█████████████████</td></tr><tr><td>test_fpr</td><td>█▄▅▄▄▃▃▃▃▃▃▂▃▃▂▂▂▂▂▂▂▁▁▁▁▁▁▁▁▁▁▁▁▁▁▁▁▁▁▁</td></tr><tr><td>test_loss</td><td>█▅▅▅▄▄▃▃▄▃▃▂▃▃▂▂▂▂▂▂▂▂▁▁▁▁▁▁▁▁▁▁▁▁▁▁▁▁▁▁</td></tr><tr><td>test_tpr</td><td>▆▃▇█▃▆▆▆▇▆▅▄█▅▅▂▅▅▂▃▃▃▄▄▃▃▁▃▂▂▁▂▂▂▂▂▂▂▂▂</td></tr><tr><td>train_accuracy</td><td>▁▅▅▆▆▆▇▇▆▆▇▇▇▇▇▇▇▇▇▇▇▇██████████████████</td></tr><tr><td>train_auc_score</td><td>▁▇▇▇▇▇▇▇▇▇▇█████████████████████████████</td></tr><tr><td>train_f1_score</td><td>▁▅▅▆▅▆▆▆▆▆▇▇▇▇▇▇▇▇▇▇▇▇██████████████████</td></tr><tr><td>train_fpr</td><td>█▄▃▃▃▃▂▂▃▃▂▂▂▂▂▂▂▂▂▂▂▂▁▁▁▁▁▁▁▁▁▁▁▁▁▁▁▁▁▁</td></tr><tr><td>train_loss</td><td>█▄▄▃▃▃▃▃▃▃▂▂▂▂▂▂▂▂▂▂▂▁▁▁▁▁▁▁▁▁▁▁▁▁▁▁▁▁▁▁</td></tr><tr><td>train_tpr</td><td>▁▄▅▆▆▆▇▆▆▇▇▇▇▇▇▇▇▇▇▇▇█▇█████████████████</td></tr></table><br/></div><div class=\"wandb-col\"><h3>Run summary:</h3><br/><table class=\"wandb\"><tr><td>epoch</td><td>39</td></tr><tr><td>lr</td><td>0.00015</td></tr><tr><td>test_accuracy</td><td>0.85515</td></tr><tr><td>test_auc_score</td><td>0.96078</td></tr><tr><td>test_f1_score</td><td>0.61271</td></tr><tr><td>test_fpr</td><td>0.14785</td></tr><tr><td>test_loss</td><td>0.03521</td></tr><tr><td>test_tpr</td><td>0.94074</td></tr><tr><td>train_accuracy</td><td>0.98701</td></tr><tr><td>train_auc_score</td><td>0.99604</td></tr><tr><td>train_f1_score</td><td>0.98552</td></tr><tr><td>train_fpr</td><td>0.01948</td></tr><tr><td>train_loss</td><td>-0.00686</td></tr><tr><td>train_tpr</td><td>1.0</td></tr></table><br/></div></div>"
      ],
      "text/plain": [
       "<IPython.core.display.HTML object>"
      ]
     },
     "metadata": {},
     "output_type": "display_data"
    },
    {
     "data": {
      "text/html": [
       " View run <strong style=\"color:#cdcd00\">EM_DWBLoss()_ROS-0.5</strong> at: <a href='https://wandb.ai/dmitrii_fomin_uga/Internship_project/runs/wm8x5qz1' target=\"_blank\">https://wandb.ai/dmitrii_fomin_uga/Internship_project/runs/wm8x5qz1</a><br/>Synced 5 W&B file(s), 0 media file(s), 0 artifact file(s) and 0 other file(s)"
      ],
      "text/plain": [
       "<IPython.core.display.HTML object>"
      ]
     },
     "metadata": {},
     "output_type": "display_data"
    },
    {
     "data": {
      "text/html": [
       "Find logs at: <code>../logs/wandb\\run-20230705_101448-wm8x5qz1\\logs</code>"
      ],
      "text/plain": [
       "<IPython.core.display.HTML object>"
      ]
     },
     "metadata": {},
     "output_type": "display_data"
    },
    {
     "data": {
      "text/html": [
       "Tracking run with wandb version 0.15.4"
      ],
      "text/plain": [
       "<IPython.core.display.HTML object>"
      ]
     },
     "metadata": {},
     "output_type": "display_data"
    },
    {
     "data": {
      "text/html": [
       "Run data is saved locally in <code>../logs/wandb\\run-20230705_101506-fe5s6t0i</code>"
      ],
      "text/plain": [
       "<IPython.core.display.HTML object>"
      ]
     },
     "metadata": {},
     "output_type": "display_data"
    },
    {
     "data": {
      "text/html": [
       "Syncing run <strong><a href='https://wandb.ai/dmitrii_fomin_uga/Internship_project/runs/fe5s6t0i' target=\"_blank\">EM_DWBLoss()_ROS-0.55</a></strong> to <a href='https://wandb.ai/dmitrii_fomin_uga/Internship_project' target=\"_blank\">Weights & Biases</a> (<a href='https://wandb.me/run' target=\"_blank\">docs</a>)<br/>"
      ],
      "text/plain": [
       "<IPython.core.display.HTML object>"
      ]
     },
     "metadata": {},
     "output_type": "display_data"
    },
    {
     "data": {
      "text/html": [
       " View project at <a href='https://wandb.ai/dmitrii_fomin_uga/Internship_project' target=\"_blank\">https://wandb.ai/dmitrii_fomin_uga/Internship_project</a>"
      ],
      "text/plain": [
       "<IPython.core.display.HTML object>"
      ]
     },
     "metadata": {},
     "output_type": "display_data"
    },
    {
     "data": {
      "text/html": [
       " View run at <a href='https://wandb.ai/dmitrii_fomin_uga/Internship_project/runs/fe5s6t0i' target=\"_blank\">https://wandb.ai/dmitrii_fomin_uga/Internship_project/runs/fe5s6t0i</a>"
      ],
      "text/plain": [
       "<IPython.core.display.HTML object>"
      ]
     },
     "metadata": {},
     "output_type": "display_data"
    },
    {
     "data": {
      "text/html": [
       "Waiting for W&B process to finish... <strong style=\"color:green\">(success).</strong>"
      ],
      "text/plain": [
       "<IPython.core.display.HTML object>"
      ]
     },
     "metadata": {},
     "output_type": "display_data"
    },
    {
     "data": {
      "text/html": [
       "<style>\n",
       "    table.wandb td:nth-child(1) { padding: 0 10px; text-align: left ; width: auto;} td:nth-child(2) {text-align: left ; width: 100%}\n",
       "    .wandb-row { display: flex; flex-direction: row; flex-wrap: wrap; justify-content: flex-start; width: 100% }\n",
       "    .wandb-col { display: flex; flex-direction: column; flex-basis: 100%; flex: 1; padding: 10px; }\n",
       "    </style>\n",
       "<div class=\"wandb-row\"><div class=\"wandb-col\"><h3>Run history:</h3><br/><table class=\"wandb\"><tr><td>epoch</td><td>▁▁▁▂▂▂▂▂▂▃▃▃▃▃▄▄▄▄▄▄▅▅▅▅▅▅▆▆▆▆▆▇▇▇▇▇▇███</td></tr><tr><td>lr</td><td>█▇▇▆▆▅▅▄▄▄▃▃▃▃▃▂▂▂▂▂▂▂▂▂▁▁▁▁▁▁▁▁▁▁▁▁▁▁▁▁</td></tr><tr><td>test_accuracy</td><td>▁▄▃▄▄▅▅▆▆▆▆▇▇▇▇▇▇▇▇▇██████▇▇████████████</td></tr><tr><td>test_auc_score</td><td>▁▄▅▆▄▅▆▃▅▅▆▇▇▇▃▂▅▇▇▇▇█▇█▇▇▆▆▇▇▇▇▇▆▇▇▆▆▆▇</td></tr><tr><td>test_f1_score</td><td>▁▄▃▄▄▅▅▆▆▆▆▆▇▇▇▆▇▇▇▇▇▇▇███▇▇▇███████████</td></tr><tr><td>test_fpr</td><td>█▅▆▅▅▄▄▃▃▃▃▂▂▂▂▂▂▂▂▂▁▁▁▁▁▁▂▂▁▁▁▁▁▁▁▁▁▁▁▁</td></tr><tr><td>test_loss</td><td>█▆▇▅▆▅▅▃▄▃▃▃▂▂▂▃▂▂▂▂▂▁▁▁▁▂▂▂▁▁▁▁▁▁▁▁▁▁▁▁</td></tr><tr><td>test_tpr</td><td>█▅▆▆▅▆▇▄█▆▆▇▅▅▆▃▆▆▄▆▃▅▂▅▆▄▆▄▅▄▅▃▃▃▃▃▁▄▃▃</td></tr><tr><td>train_accuracy</td><td>▁▆▅▅▆▆▆▆▆▆▆▇▇▇▇▇▇▇▇▇█████▇████▇█████████</td></tr><tr><td>train_auc_score</td><td>▁▇▇▆▇▇▇▇▇▇▇████▇▇███████████████████████</td></tr><tr><td>train_f1_score</td><td>▁▅▅▅▆▆▆▆▆▆▆▇▇▇▇▇▇▇▇▇█████▇████▇█████████</td></tr><tr><td>train_fpr</td><td>█▃▄▄▃▃▃▃▃▃▃▂▂▂▂▂▂▂▂▁▁▁▁▁▁▂▁▁▁▁▁▁▁▁▁▁▁▁▁▁</td></tr><tr><td>train_loss</td><td>█▄▄▃▃▃▃▃▃▂▂▂▂▂▂▂▂▂▁▂▁▁▁▁▁▁▁▁▁▁▂▁▁▁▁▁▁▁▁▁</td></tr><tr><td>train_tpr</td><td>▁▅▅▆▅▆▆▆▆▇▇▇▇▇▇▇▇▇█▇██████████▇█████████</td></tr></table><br/></div><div class=\"wandb-col\"><h3>Run summary:</h3><br/><table class=\"wandb\"><tr><td>epoch</td><td>39</td></tr><tr><td>lr</td><td>0.00015</td></tr><tr><td>test_accuracy</td><td>0.82256</td></tr><tr><td>test_auc_score</td><td>0.95841</td></tr><tr><td>test_f1_score</td><td>0.5829</td></tr><tr><td>test_fpr</td><td>0.18277</td></tr><tr><td>test_loss</td><td>0.04857</td></tr><tr><td>test_tpr</td><td>0.973</td></tr><tr><td>train_accuracy</td><td>0.97724</td></tr><tr><td>train_auc_score</td><td>0.9932</td></tr><tr><td>train_f1_score</td><td>0.97536</td></tr><tr><td>train_fpr</td><td>0.03481</td></tr><tr><td>train_loss</td><td>-0.00139</td></tr><tr><td>train_tpr</td><td>0.99952</td></tr></table><br/></div></div>"
      ],
      "text/plain": [
       "<IPython.core.display.HTML object>"
      ]
     },
     "metadata": {},
     "output_type": "display_data"
    },
    {
     "data": {
      "text/html": [
       " View run <strong style=\"color:#cdcd00\">EM_DWBLoss()_ROS-0.55</strong> at: <a href='https://wandb.ai/dmitrii_fomin_uga/Internship_project/runs/fe5s6t0i' target=\"_blank\">https://wandb.ai/dmitrii_fomin_uga/Internship_project/runs/fe5s6t0i</a><br/>Synced 5 W&B file(s), 0 media file(s), 0 artifact file(s) and 0 other file(s)"
      ],
      "text/plain": [
       "<IPython.core.display.HTML object>"
      ]
     },
     "metadata": {},
     "output_type": "display_data"
    },
    {
     "data": {
      "text/html": [
       "Find logs at: <code>../logs/wandb\\run-20230705_101506-fe5s6t0i\\logs</code>"
      ],
      "text/plain": [
       "<IPython.core.display.HTML object>"
      ]
     },
     "metadata": {},
     "output_type": "display_data"
    },
    {
     "data": {
      "text/html": [
       "Tracking run with wandb version 0.15.4"
      ],
      "text/plain": [
       "<IPython.core.display.HTML object>"
      ]
     },
     "metadata": {},
     "output_type": "display_data"
    },
    {
     "data": {
      "text/html": [
       "Run data is saved locally in <code>../logs/wandb\\run-20230705_101524-xi99lqby</code>"
      ],
      "text/plain": [
       "<IPython.core.display.HTML object>"
      ]
     },
     "metadata": {},
     "output_type": "display_data"
    },
    {
     "data": {
      "text/html": [
       "Syncing run <strong><a href='https://wandb.ai/dmitrii_fomin_uga/Internship_project/runs/xi99lqby' target=\"_blank\">EM_DWBLoss()_ROS-0.6</a></strong> to <a href='https://wandb.ai/dmitrii_fomin_uga/Internship_project' target=\"_blank\">Weights & Biases</a> (<a href='https://wandb.me/run' target=\"_blank\">docs</a>)<br/>"
      ],
      "text/plain": [
       "<IPython.core.display.HTML object>"
      ]
     },
     "metadata": {},
     "output_type": "display_data"
    },
    {
     "data": {
      "text/html": [
       " View project at <a href='https://wandb.ai/dmitrii_fomin_uga/Internship_project' target=\"_blank\">https://wandb.ai/dmitrii_fomin_uga/Internship_project</a>"
      ],
      "text/plain": [
       "<IPython.core.display.HTML object>"
      ]
     },
     "metadata": {},
     "output_type": "display_data"
    },
    {
     "data": {
      "text/html": [
       " View run at <a href='https://wandb.ai/dmitrii_fomin_uga/Internship_project/runs/xi99lqby' target=\"_blank\">https://wandb.ai/dmitrii_fomin_uga/Internship_project/runs/xi99lqby</a>"
      ],
      "text/plain": [
       "<IPython.core.display.HTML object>"
      ]
     },
     "metadata": {},
     "output_type": "display_data"
    },
    {
     "data": {
      "text/html": [
       "Waiting for W&B process to finish... <strong style=\"color:green\">(success).</strong>"
      ],
      "text/plain": [
       "<IPython.core.display.HTML object>"
      ]
     },
     "metadata": {},
     "output_type": "display_data"
    },
    {
     "data": {
      "text/html": [
       "<style>\n",
       "    table.wandb td:nth-child(1) { padding: 0 10px; text-align: left ; width: auto;} td:nth-child(2) {text-align: left ; width: 100%}\n",
       "    .wandb-row { display: flex; flex-direction: row; flex-wrap: wrap; justify-content: flex-start; width: 100% }\n",
       "    .wandb-col { display: flex; flex-direction: column; flex-basis: 100%; flex: 1; padding: 10px; }\n",
       "    </style>\n",
       "<div class=\"wandb-row\"><div class=\"wandb-col\"><h3>Run history:</h3><br/><table class=\"wandb\"><tr><td>epoch</td><td>▁▁▁▂▂▂▂▂▂▃▃▃▃▃▄▄▄▄▄▄▅▅▅▅▅▅▆▆▆▆▆▇▇▇▇▇▇███</td></tr><tr><td>lr</td><td>█▇▇▆▆▅▅▄▄▄▃▃▃▃▃▂▂▂▂▂▂▂▂▂▁▁▁▁▁▁▁▁▁▁▁▁▁▁▁▁</td></tr><tr><td>test_accuracy</td><td>▁▄▅▅▅▅▅▅▆▆▆▆▇▇▆▇▇▇▇▇████▇███████████████</td></tr><tr><td>test_auc_score</td><td>▁▄▅▄▃▄▆▅▆▆▆▇█▇▇█▇▇██████████▇▇████▇▇█▇▇▇</td></tr><tr><td>test_f1_score</td><td>▁▄▄▅▄▄▅▅▅▆▆▆▇▇▆▇▇▇▇▇█▇█▇▇██▇▇███████████</td></tr><tr><td>test_fpr</td><td>█▅▄▄▄▄▄▄▃▃▃▃▂▂▃▂▂▂▂▂▁▁▁▁▂▁▁▁▁▁▁▁▁▁▁▁▁▁▁▁</td></tr><tr><td>test_loss</td><td>█▅▅▄▅▅▄▅▄▃▃▃▂▂▃▂▂▂▂▂▁▁▁▂▂▁▁▂▂▁▁▁▁▁▁▁▁▁▁▁</td></tr><tr><td>test_tpr</td><td>█▆▆▇██▆▇▇▇▇▇▇▇▆▇▆▅▄▃▃▂▃▄▄▄▃▃▃▃▃▃▄▄▃▃▄▃▁▂</td></tr><tr><td>train_accuracy</td><td>▁▅▆▆▆▅▆▆▆▆▆▇▇▇▇▇▇▇▇▇████████████████████</td></tr><tr><td>train_auc_score</td><td>▁▇▇▇▇▆▇▇▇▇▇▇█▇▇█████████████████████████</td></tr><tr><td>train_f1_score</td><td>▁▅▆▆▅▅▆▆▆▆▆▇▇▇▇▇▇▇▇▇████████████████████</td></tr><tr><td>train_fpr</td><td>█▄▃▃▄▄▄▃▃▃▃▃▂▂▃▂▂▂▂▂▁▁▁▁▁▁▁▁▁▁▁▁▁▁▁▁▁▁▁▁</td></tr><tr><td>train_loss</td><td>█▄▃▃▃▃▃▃▃▂▂▂▂▂▂▂▂▂▁▁▁▁▁▁▁▁▁▁▁▁▁▁▁▁▁▁▁▁▁▁</td></tr><tr><td>train_tpr</td><td>▁▆▆▆▆▇▇▇▇▇▇██▇██████████████████████████</td></tr></table><br/></div><div class=\"wandb-col\"><h3>Run summary:</h3><br/><table class=\"wandb\"><tr><td>epoch</td><td>39</td></tr><tr><td>lr</td><td>0.00015</td></tr><tr><td>test_accuracy</td><td>0.82852</td></tr><tr><td>test_auc_score</td><td>0.95053</td></tr><tr><td>test_f1_score</td><td>0.58748</td></tr><tr><td>test_fpr</td><td>0.17575</td></tr><tr><td>test_loss</td><td>0.04662</td></tr><tr><td>test_tpr</td><td>0.94941</td></tr><tr><td>train_accuracy</td><td>0.98284</td></tr><tr><td>train_auc_score</td><td>0.99442</td></tr><tr><td>train_f1_score</td><td>0.98188</td></tr><tr><td>train_fpr</td><td>0.02705</td></tr><tr><td>train_loss</td><td>-0.00245</td></tr><tr><td>train_tpr</td><td>0.99923</td></tr></table><br/></div></div>"
      ],
      "text/plain": [
       "<IPython.core.display.HTML object>"
      ]
     },
     "metadata": {},
     "output_type": "display_data"
    },
    {
     "data": {
      "text/html": [
       " View run <strong style=\"color:#cdcd00\">EM_DWBLoss()_ROS-0.6</strong> at: <a href='https://wandb.ai/dmitrii_fomin_uga/Internship_project/runs/xi99lqby' target=\"_blank\">https://wandb.ai/dmitrii_fomin_uga/Internship_project/runs/xi99lqby</a><br/>Synced 5 W&B file(s), 0 media file(s), 0 artifact file(s) and 0 other file(s)"
      ],
      "text/plain": [
       "<IPython.core.display.HTML object>"
      ]
     },
     "metadata": {},
     "output_type": "display_data"
    },
    {
     "data": {
      "text/html": [
       "Find logs at: <code>../logs/wandb\\run-20230705_101524-xi99lqby\\logs</code>"
      ],
      "text/plain": [
       "<IPython.core.display.HTML object>"
      ]
     },
     "metadata": {},
     "output_type": "display_data"
    },
    {
     "data": {
      "text/html": [
       "Tracking run with wandb version 0.15.4"
      ],
      "text/plain": [
       "<IPython.core.display.HTML object>"
      ]
     },
     "metadata": {},
     "output_type": "display_data"
    },
    {
     "data": {
      "text/html": [
       "Run data is saved locally in <code>../logs/wandb\\run-20230705_101550-7l2j4uxd</code>"
      ],
      "text/plain": [
       "<IPython.core.display.HTML object>"
      ]
     },
     "metadata": {},
     "output_type": "display_data"
    },
    {
     "data": {
      "text/html": [
       "Syncing run <strong><a href='https://wandb.ai/dmitrii_fomin_uga/Internship_project/runs/7l2j4uxd' target=\"_blank\">EM_DWBLoss()_ROS-0.7</a></strong> to <a href='https://wandb.ai/dmitrii_fomin_uga/Internship_project' target=\"_blank\">Weights & Biases</a> (<a href='https://wandb.me/run' target=\"_blank\">docs</a>)<br/>"
      ],
      "text/plain": [
       "<IPython.core.display.HTML object>"
      ]
     },
     "metadata": {},
     "output_type": "display_data"
    },
    {
     "data": {
      "text/html": [
       " View project at <a href='https://wandb.ai/dmitrii_fomin_uga/Internship_project' target=\"_blank\">https://wandb.ai/dmitrii_fomin_uga/Internship_project</a>"
      ],
      "text/plain": [
       "<IPython.core.display.HTML object>"
      ]
     },
     "metadata": {},
     "output_type": "display_data"
    },
    {
     "data": {
      "text/html": [
       " View run at <a href='https://wandb.ai/dmitrii_fomin_uga/Internship_project/runs/7l2j4uxd' target=\"_blank\">https://wandb.ai/dmitrii_fomin_uga/Internship_project/runs/7l2j4uxd</a>"
      ],
      "text/plain": [
       "<IPython.core.display.HTML object>"
      ]
     },
     "metadata": {},
     "output_type": "display_data"
    },
    {
     "data": {
      "text/html": [
       "Waiting for W&B process to finish... <strong style=\"color:green\">(success).</strong>"
      ],
      "text/plain": [
       "<IPython.core.display.HTML object>"
      ]
     },
     "metadata": {},
     "output_type": "display_data"
    },
    {
     "data": {
      "text/html": [
       "<style>\n",
       "    table.wandb td:nth-child(1) { padding: 0 10px; text-align: left ; width: auto;} td:nth-child(2) {text-align: left ; width: 100%}\n",
       "    .wandb-row { display: flex; flex-direction: row; flex-wrap: wrap; justify-content: flex-start; width: 100% }\n",
       "    .wandb-col { display: flex; flex-direction: column; flex-basis: 100%; flex: 1; padding: 10px; }\n",
       "    </style>\n",
       "<div class=\"wandb-row\"><div class=\"wandb-col\"><h3>Run history:</h3><br/><table class=\"wandb\"><tr><td>epoch</td><td>▁▁▁▂▂▂▂▂▂▃▃▃▃▃▄▄▄▄▄▄▅▅▅▅▅▅▆▆▆▆▆▇▇▇▇▇▇███</td></tr><tr><td>lr</td><td>█▇▇▆▆▅▅▄▄▄▃▃▃▃▃▂▂▂▂▂▂▂▂▂▁▁▁▁▁▁▁▁▁▁▁▁▁▁▁▁</td></tr><tr><td>test_accuracy</td><td>▁▄▃▄▅▆▆▅▅▆▇▆▆▆▆▆▇▇█▇▇▇█▇▇▇▇█████████████</td></tr><tr><td>test_auc_score</td><td>▃▆▃▅█▇▆▁▃▆█▅▄▅▅▄▆▇▅▃▄▄▆▅▅▅▆▆▆▆▇▇▇▇▆▆▆▆▆▆</td></tr><tr><td>test_f1_score</td><td>▁▃▃▄▅▆▅▄▅▆▆▆▆▆▆▅▆▇▇▇▇▇▇▇▇▇▇█████████████</td></tr><tr><td>test_fpr</td><td>█▅▆▅▄▃▃▄▄▃▂▃▃▃▃▃▂▂▁▂▂▂▁▂▂▂▂▁▁▁▁▁▁▁▁▁▁▁▁▁</td></tr><tr><td>test_loss</td><td>█▆▆▅▄▃▄▅▄▄▂▃▃▃▃▄▃▂▁▂▂▂▁▂▂▂▂▁▁▁▁▁▁▁▁▁▁▁▁▁</td></tr><tr><td>test_tpr</td><td>█▅█▇▇█▇▇▇██▇▇▇▃█▅█▄▄▁▃▆███▅▅▅▅▅▆▂▃▃▂▂▃▃▂</td></tr><tr><td>train_accuracy</td><td>▁▅▆▆▆▇▆▆▆▇▇▆▇▇▇▇▇▇█▇▇▇▇▇▇▇██████████████</td></tr><tr><td>train_auc_score</td><td>▁▆▇▇▇▇▇▇▇▇█▇██▇▇███▇████████████████████</td></tr><tr><td>train_f1_score</td><td>▁▅▆▆▆▇▆▆▆▇▇▆▇▇▇▇▇▇█▇▇▇▇▇▇▇██████████████</td></tr><tr><td>train_fpr</td><td>█▄▃▃▃▂▂▃▃▂▂▃▂▂▂▂▂▂▂▂▂▂▂▂▂▂▂▁▁▁▁▁▁▁▁▁▁▁▁▁</td></tr><tr><td>train_loss</td><td>█▄▄▃▃▃▃▃▃▂▂▂▂▂▂▂▂▂▁▂▁▁▂▁▁▁▁▁▁▁▁▁▁▁▁▁▁▁▁▁</td></tr><tr><td>train_tpr</td><td>▁▆▅▅▆▆▆▆▆▇█▇▇▇▇▇██████▇█████████████████</td></tr></table><br/></div><div class=\"wandb-col\"><h3>Run summary:</h3><br/><table class=\"wandb\"><tr><td>epoch</td><td>39</td></tr><tr><td>lr</td><td>0.00015</td></tr><tr><td>test_accuracy</td><td>0.80011</td></tr><tr><td>test_auc_score</td><td>0.94305</td></tr><tr><td>test_f1_score</td><td>0.56594</td></tr><tr><td>test_fpr</td><td>0.2058</td></tr><tr><td>test_loss</td><td>0.06057</td></tr><tr><td>test_tpr</td><td>0.96676</td></tr><tr><td>train_accuracy</td><td>0.97795</td></tr><tr><td>train_auc_score</td><td>0.99387</td></tr><tr><td>train_f1_score</td><td>0.97735</td></tr><tr><td>train_fpr</td><td>0.03597</td></tr><tr><td>train_loss</td><td>0.00215</td></tr><tr><td>train_tpr</td><td>0.99802</td></tr></table><br/></div></div>"
      ],
      "text/plain": [
       "<IPython.core.display.HTML object>"
      ]
     },
     "metadata": {},
     "output_type": "display_data"
    },
    {
     "data": {
      "text/html": [
       " View run <strong style=\"color:#cdcd00\">EM_DWBLoss()_ROS-0.7</strong> at: <a href='https://wandb.ai/dmitrii_fomin_uga/Internship_project/runs/7l2j4uxd' target=\"_blank\">https://wandb.ai/dmitrii_fomin_uga/Internship_project/runs/7l2j4uxd</a><br/>Synced 5 W&B file(s), 0 media file(s), 0 artifact file(s) and 0 other file(s)"
      ],
      "text/plain": [
       "<IPython.core.display.HTML object>"
      ]
     },
     "metadata": {},
     "output_type": "display_data"
    },
    {
     "data": {
      "text/html": [
       "Find logs at: <code>../logs/wandb\\run-20230705_101550-7l2j4uxd\\logs</code>"
      ],
      "text/plain": [
       "<IPython.core.display.HTML object>"
      ]
     },
     "metadata": {},
     "output_type": "display_data"
    },
    {
     "data": {
      "text/html": [
       "Tracking run with wandb version 0.15.4"
      ],
      "text/plain": [
       "<IPython.core.display.HTML object>"
      ]
     },
     "metadata": {},
     "output_type": "display_data"
    },
    {
     "data": {
      "text/html": [
       "Run data is saved locally in <code>../logs/wandb\\run-20230705_101609-dkbltos0</code>"
      ],
      "text/plain": [
       "<IPython.core.display.HTML object>"
      ]
     },
     "metadata": {},
     "output_type": "display_data"
    },
    {
     "data": {
      "text/html": [
       "Syncing run <strong><a href='https://wandb.ai/dmitrii_fomin_uga/Internship_project/runs/dkbltos0' target=\"_blank\">EM_DWBLoss()_ROS-0.8</a></strong> to <a href='https://wandb.ai/dmitrii_fomin_uga/Internship_project' target=\"_blank\">Weights & Biases</a> (<a href='https://wandb.me/run' target=\"_blank\">docs</a>)<br/>"
      ],
      "text/plain": [
       "<IPython.core.display.HTML object>"
      ]
     },
     "metadata": {},
     "output_type": "display_data"
    },
    {
     "data": {
      "text/html": [
       " View project at <a href='https://wandb.ai/dmitrii_fomin_uga/Internship_project' target=\"_blank\">https://wandb.ai/dmitrii_fomin_uga/Internship_project</a>"
      ],
      "text/plain": [
       "<IPython.core.display.HTML object>"
      ]
     },
     "metadata": {},
     "output_type": "display_data"
    },
    {
     "data": {
      "text/html": [
       " View run at <a href='https://wandb.ai/dmitrii_fomin_uga/Internship_project/runs/dkbltos0' target=\"_blank\">https://wandb.ai/dmitrii_fomin_uga/Internship_project/runs/dkbltos0</a>"
      ],
      "text/plain": [
       "<IPython.core.display.HTML object>"
      ]
     },
     "metadata": {},
     "output_type": "display_data"
    },
    {
     "data": {
      "text/html": [
       "Waiting for W&B process to finish... <strong style=\"color:green\">(success).</strong>"
      ],
      "text/plain": [
       "<IPython.core.display.HTML object>"
      ]
     },
     "metadata": {},
     "output_type": "display_data"
    },
    {
     "data": {
      "text/html": [
       "<style>\n",
       "    table.wandb td:nth-child(1) { padding: 0 10px; text-align: left ; width: auto;} td:nth-child(2) {text-align: left ; width: 100%}\n",
       "    .wandb-row { display: flex; flex-direction: row; flex-wrap: wrap; justify-content: flex-start; width: 100% }\n",
       "    .wandb-col { display: flex; flex-direction: column; flex-basis: 100%; flex: 1; padding: 10px; }\n",
       "    </style>\n",
       "<div class=\"wandb-row\"><div class=\"wandb-col\"><h3>Run history:</h3><br/><table class=\"wandb\"><tr><td>epoch</td><td>▁▁▁▂▂▂▂▂▂▃▃▃▃▃▄▄▄▄▄▄▅▅▅▅▅▅▆▆▆▆▆▇▇▇▇▇▇███</td></tr><tr><td>lr</td><td>█▇▇▆▆▅▅▄▄▄▃▃▃▃▃▂▂▂▂▂▂▂▂▂▁▁▁▁▁▁▁▁▁▁▁▁▁▁▁▁</td></tr><tr><td>test_accuracy</td><td>▁▄▄▄▅▅▆▆▆▆▇▇▇▆▆▆▇▇▇▇▇██▇▇▇█▇████████████</td></tr><tr><td>test_auc_score</td><td>▁▃▂▅▆▇▆████▇▇▆▇█▇▇▇███▇▇▇▇▇▇████████████</td></tr><tr><td>test_f1_score</td><td>▁▃▄▄▅▅▅▆▆▆▇▇▆▆▅▆▇▇▇▇▇▇▇▇▇▇▇▇▇███████████</td></tr><tr><td>test_fpr</td><td>█▅▅▅▄▄▃▃▃▃▂▂▂▃▃▃▂▂▂▂▂▁▁▂▂▂▁▂▁▁▁▁▁▁▁▁▁▁▁▁</td></tr><tr><td>test_loss</td><td>█▆▆▆▅▅▄▃▄▃▂▃▃▃▄▃▃▂▂▂▂▁▂▂▂▂▂▂▂▁▁▁▁▁▁▁▁▁▁▁</td></tr><tr><td>test_tpr</td><td>█▅▄▂▆█▅▂▅▅▆▅▆▅▅▅▅▂▁▅▄▅▄▁▅▅▂▄▄▆▄▅▅▅▅▄▅▅▄▄</td></tr><tr><td>train_accuracy</td><td>▁▅▆▅▆▆▆▇▇▇▇▇▇▆▆▇▇▇▇▇▇█▇▇▇▇▇█████████████</td></tr><tr><td>train_auc_score</td><td>▁▇▇▆▇▇▇▇▇▇▇▇▇▇▇█████████████████████████</td></tr><tr><td>train_f1_score</td><td>▁▅▆▅▆▆▆▇▇▇▇▇▇▆▆▇▇▇▇▇▇█▇▇▇▇▇█████████████</td></tr><tr><td>train_fpr</td><td>█▄▃▄▃▃▃▂▃▃▂▂▂▃▃▃▂▂▂▂▂▁▂▂▂▂▂▁▁▁▁▁▁▁▁▁▁▁▁▁</td></tr><tr><td>train_loss</td><td>█▄▃▃▃▃▃▂▂▂▂▂▂▂▂▂▂▂▂▁▁▁▂▂▂▂▁▁▁▁▁▁▁▁▁▁▁▁▁▁</td></tr><tr><td>train_tpr</td><td>▁▆▅▆▆▆▇▇▇▇▇▇▇▇██████████████████████████</td></tr></table><br/></div><div class=\"wandb-col\"><h3>Run summary:</h3><br/><table class=\"wandb\"><tr><td>epoch</td><td>39</td></tr><tr><td>lr</td><td>0.00015</td></tr><tr><td>test_accuracy</td><td>0.77884</td></tr><tr><td>test_auc_score</td><td>0.96318</td></tr><tr><td>test_f1_score</td><td>0.55226</td></tr><tr><td>test_fpr</td><td>0.2286</td></tr><tr><td>test_loss</td><td>0.07103</td></tr><tr><td>test_tpr</td><td>0.98925</td></tr><tr><td>train_accuracy</td><td>0.9806</td></tr><tr><td>train_auc_score</td><td>0.99233</td></tr><tr><td>train_f1_score</td><td>0.98041</td></tr><tr><td>train_fpr</td><td>0.03433</td></tr><tr><td>train_loss</td><td>0.00389</td></tr><tr><td>train_tpr</td><td>0.99939</td></tr></table><br/></div></div>"
      ],
      "text/plain": [
       "<IPython.core.display.HTML object>"
      ]
     },
     "metadata": {},
     "output_type": "display_data"
    },
    {
     "data": {
      "text/html": [
       " View run <strong style=\"color:#cdcd00\">EM_DWBLoss()_ROS-0.8</strong> at: <a href='https://wandb.ai/dmitrii_fomin_uga/Internship_project/runs/dkbltos0' target=\"_blank\">https://wandb.ai/dmitrii_fomin_uga/Internship_project/runs/dkbltos0</a><br/>Synced 5 W&B file(s), 0 media file(s), 0 artifact file(s) and 0 other file(s)"
      ],
      "text/plain": [
       "<IPython.core.display.HTML object>"
      ]
     },
     "metadata": {},
     "output_type": "display_data"
    },
    {
     "data": {
      "text/html": [
       "Find logs at: <code>../logs/wandb\\run-20230705_101609-dkbltos0\\logs</code>"
      ],
      "text/plain": [
       "<IPython.core.display.HTML object>"
      ]
     },
     "metadata": {},
     "output_type": "display_data"
    },
    {
     "data": {
      "text/html": [
       "Tracking run with wandb version 0.15.4"
      ],
      "text/plain": [
       "<IPython.core.display.HTML object>"
      ]
     },
     "metadata": {},
     "output_type": "display_data"
    },
    {
     "data": {
      "text/html": [
       "Run data is saved locally in <code>../logs/wandb\\run-20230705_101635-ec80x1b6</code>"
      ],
      "text/plain": [
       "<IPython.core.display.HTML object>"
      ]
     },
     "metadata": {},
     "output_type": "display_data"
    },
    {
     "data": {
      "text/html": [
       "Syncing run <strong><a href='https://wandb.ai/dmitrii_fomin_uga/Internship_project/runs/ec80x1b6' target=\"_blank\">EM_DWBLoss()_ROS-0.9</a></strong> to <a href='https://wandb.ai/dmitrii_fomin_uga/Internship_project' target=\"_blank\">Weights & Biases</a> (<a href='https://wandb.me/run' target=\"_blank\">docs</a>)<br/>"
      ],
      "text/plain": [
       "<IPython.core.display.HTML object>"
      ]
     },
     "metadata": {},
     "output_type": "display_data"
    },
    {
     "data": {
      "text/html": [
       " View project at <a href='https://wandb.ai/dmitrii_fomin_uga/Internship_project' target=\"_blank\">https://wandb.ai/dmitrii_fomin_uga/Internship_project</a>"
      ],
      "text/plain": [
       "<IPython.core.display.HTML object>"
      ]
     },
     "metadata": {},
     "output_type": "display_data"
    },
    {
     "data": {
      "text/html": [
       " View run at <a href='https://wandb.ai/dmitrii_fomin_uga/Internship_project/runs/ec80x1b6' target=\"_blank\">https://wandb.ai/dmitrii_fomin_uga/Internship_project/runs/ec80x1b6</a>"
      ],
      "text/plain": [
       "<IPython.core.display.HTML object>"
      ]
     },
     "metadata": {},
     "output_type": "display_data"
    },
    {
     "data": {
      "text/html": [
       "Waiting for W&B process to finish... <strong style=\"color:green\">(success).</strong>"
      ],
      "text/plain": [
       "<IPython.core.display.HTML object>"
      ]
     },
     "metadata": {},
     "output_type": "display_data"
    },
    {
     "data": {
      "text/html": [
       "<style>\n",
       "    table.wandb td:nth-child(1) { padding: 0 10px; text-align: left ; width: auto;} td:nth-child(2) {text-align: left ; width: 100%}\n",
       "    .wandb-row { display: flex; flex-direction: row; flex-wrap: wrap; justify-content: flex-start; width: 100% }\n",
       "    .wandb-col { display: flex; flex-direction: column; flex-basis: 100%; flex: 1; padding: 10px; }\n",
       "    </style>\n",
       "<div class=\"wandb-row\"><div class=\"wandb-col\"><h3>Run history:</h3><br/><table class=\"wandb\"><tr><td>epoch</td><td>▁▁▁▂▂▂▂▂▂▃▃▃▃▃▄▄▄▄▄▄▅▅▅▅▅▅▆▆▆▆▆▇▇▇▇▇▇███</td></tr><tr><td>lr</td><td>█▇▇▆▆▅▅▄▄▄▃▃▃▃▃▂▂▂▂▂▂▂▂▂▁▁▁▁▁▁▁▁▁▁▁▁▁▁▁▁</td></tr><tr><td>test_accuracy</td><td>▁▃▂▁▃▄▄▅▅▅▅▅▆▅▇▇▇▇▆▆▆▇▇▇▇▇██████████████</td></tr><tr><td>test_auc_score</td><td>▁▅▃▃▆▇▇▆▇▇▆▇▇▇█▇▆████▇▇▇▇▇▇▇▇▇▇▇▇▇▇▇▇▇▇▇</td></tr><tr><td>test_f1_score</td><td>▁▃▂▁▃▄▄▅▅▅▄▅▆▅▇▆▆▇▆▆▆▇▇▇▇▇███▇██████████</td></tr><tr><td>test_fpr</td><td>█▆▇█▆▅▅▄▄▄▄▄▃▄▂▂▂▂▃▃▃▂▂▂▂▂▁▁▁▁▁▁▁▁▁▁▁▁▁▁</td></tr><tr><td>test_loss</td><td>▇▆▇█▆▅▅▄▃▄▄▃▃▄▂▂▂▂▃▃▂▂▂▂▂▂▁▁▁▁▁▁▁▁▁▁▁▁▁▁</td></tr><tr><td>test_tpr</td><td>▅▅▅██▂▄▂▅▅▆▅▅▄▅▅▄▅▂▅▅▅▅▅▅▆▅▃▂▃▂▁▂▂▂▂▂▂▁▂</td></tr><tr><td>train_accuracy</td><td>▁▅▅▅▆▆▆▆▇▇▆▆▇▇▇▇▇▇▇▇▇▇▇▇████████████████</td></tr><tr><td>train_auc_score</td><td>▁▆▇▅▇▇▇▇▇▇▇▇▇██▇▇▇█▇████████████████████</td></tr><tr><td>train_f1_score</td><td>▁▅▅▅▆▆▆▆▇▇▆▆▇▇▇▇▇▇▇▇▇▇▇▇████████████████</td></tr><tr><td>train_fpr</td><td>█▄▄▅▃▄▄▃▃▂▃▃▃▂▂▂▃▂▂▂▂▂▂▂▂▁▁▁▁▁▁▁▁▁▁▁▁▁▁▁</td></tr><tr><td>train_loss</td><td>█▄▄▄▃▃▃▃▂▂▃▂▂▂▂▂▂▂▂▂▂▂▂▁▁▁▁▁▁▁▁▁▁▁▁▁▁▁▁▁</td></tr><tr><td>train_tpr</td><td>▁▆▅▆▇▇▇▇▇▇▇▇▇▇▇▇██▇█▇███████████████████</td></tr></table><br/></div><div class=\"wandb-col\"><h3>Run summary:</h3><br/><table class=\"wandb\"><tr><td>epoch</td><td>39</td></tr><tr><td>lr</td><td>0.00015</td></tr><tr><td>test_accuracy</td><td>0.76106</td></tr><tr><td>test_auc_score</td><td>0.92654</td></tr><tr><td>test_f1_score</td><td>0.53866</td></tr><tr><td>test_fpr</td><td>0.2467</td></tr><tr><td>test_loss</td><td>0.0803</td></tr><tr><td>test_tpr</td><td>0.97932</td></tr><tr><td>train_accuracy</td><td>0.98045</td></tr><tr><td>train_auc_score</td><td>0.99274</td></tr><tr><td>train_f1_score</td><td>0.9804</td></tr><tr><td>train_fpr</td><td>0.03706</td></tr><tr><td>train_loss</td><td>0.00602</td></tr><tr><td>train_tpr</td><td>1.0</td></tr></table><br/></div></div>"
      ],
      "text/plain": [
       "<IPython.core.display.HTML object>"
      ]
     },
     "metadata": {},
     "output_type": "display_data"
    },
    {
     "data": {
      "text/html": [
       " View run <strong style=\"color:#cdcd00\">EM_DWBLoss()_ROS-0.9</strong> at: <a href='https://wandb.ai/dmitrii_fomin_uga/Internship_project/runs/ec80x1b6' target=\"_blank\">https://wandb.ai/dmitrii_fomin_uga/Internship_project/runs/ec80x1b6</a><br/>Synced 5 W&B file(s), 0 media file(s), 0 artifact file(s) and 0 other file(s)"
      ],
      "text/plain": [
       "<IPython.core.display.HTML object>"
      ]
     },
     "metadata": {},
     "output_type": "display_data"
    },
    {
     "data": {
      "text/html": [
       "Find logs at: <code>../logs/wandb\\run-20230705_101635-ec80x1b6\\logs</code>"
      ],
      "text/plain": [
       "<IPython.core.display.HTML object>"
      ]
     },
     "metadata": {},
     "output_type": "display_data"
    },
    {
     "data": {
      "text/html": [
       "Tracking run with wandb version 0.15.4"
      ],
      "text/plain": [
       "<IPython.core.display.HTML object>"
      ]
     },
     "metadata": {},
     "output_type": "display_data"
    },
    {
     "data": {
      "text/html": [
       "Run data is saved locally in <code>../logs/wandb\\run-20230705_101654-eumasnm9</code>"
      ],
      "text/plain": [
       "<IPython.core.display.HTML object>"
      ]
     },
     "metadata": {},
     "output_type": "display_data"
    },
    {
     "data": {
      "text/html": [
       "Syncing run <strong><a href='https://wandb.ai/dmitrii_fomin_uga/Internship_project/runs/eumasnm9' target=\"_blank\">EM_DWBLoss()_ROS-1</a></strong> to <a href='https://wandb.ai/dmitrii_fomin_uga/Internship_project' target=\"_blank\">Weights & Biases</a> (<a href='https://wandb.me/run' target=\"_blank\">docs</a>)<br/>"
      ],
      "text/plain": [
       "<IPython.core.display.HTML object>"
      ]
     },
     "metadata": {},
     "output_type": "display_data"
    },
    {
     "data": {
      "text/html": [
       " View project at <a href='https://wandb.ai/dmitrii_fomin_uga/Internship_project' target=\"_blank\">https://wandb.ai/dmitrii_fomin_uga/Internship_project</a>"
      ],
      "text/plain": [
       "<IPython.core.display.HTML object>"
      ]
     },
     "metadata": {},
     "output_type": "display_data"
    },
    {
     "data": {
      "text/html": [
       " View run at <a href='https://wandb.ai/dmitrii_fomin_uga/Internship_project/runs/eumasnm9' target=\"_blank\">https://wandb.ai/dmitrii_fomin_uga/Internship_project/runs/eumasnm9</a>"
      ],
      "text/plain": [
       "<IPython.core.display.HTML object>"
      ]
     },
     "metadata": {},
     "output_type": "display_data"
    },
    {
     "data": {
      "text/html": [
       "Waiting for W&B process to finish... <strong style=\"color:green\">(success).</strong>"
      ],
      "text/plain": [
       "<IPython.core.display.HTML object>"
      ]
     },
     "metadata": {},
     "output_type": "display_data"
    },
    {
     "data": {
      "text/html": [
       "<style>\n",
       "    table.wandb td:nth-child(1) { padding: 0 10px; text-align: left ; width: auto;} td:nth-child(2) {text-align: left ; width: 100%}\n",
       "    .wandb-row { display: flex; flex-direction: row; flex-wrap: wrap; justify-content: flex-start; width: 100% }\n",
       "    .wandb-col { display: flex; flex-direction: column; flex-basis: 100%; flex: 1; padding: 10px; }\n",
       "    </style>\n",
       "<div class=\"wandb-row\"><div class=\"wandb-col\"><h3>Run history:</h3><br/><table class=\"wandb\"><tr><td>epoch</td><td>▁▁▁▂▂▂▂▂▂▃▃▃▃▃▄▄▄▄▄▄▅▅▅▅▅▅▆▆▆▆▆▇▇▇▇▇▇███</td></tr><tr><td>lr</td><td>█▇▇▆▆▅▅▄▄▄▃▃▃▃▃▂▂▂▂▂▂▂▂▂▁▁▁▁▁▁▁▁▁▁▁▁▁▁▁▁</td></tr><tr><td>test_accuracy</td><td>▁▃▁▃▄▃▅▅▄▄▅▅▆▅▆▆▆▆▆▆▆▇▇████▇▇▇▇█████████</td></tr><tr><td>test_auc_score</td><td>▁▆▆▆▆▇▇█▅▆▆▆▆▆▇▇▇▆▇█████████▇▇▇▇▇▇▇▇████</td></tr><tr><td>test_f1_score</td><td>▁▃▁▃▄▃▅▅▄▄▅▅▆▅▆▆▆▆▆▆▆▇▇▇███▇▇▇▇█████████</td></tr><tr><td>test_fpr</td><td>█▆█▆▅▆▄▄▅▅▄▄▃▄▃▃▃▃▃▃▃▂▂▁▁▁▁▂▂▂▂▁▁▁▁▁▁▁▁▁</td></tr><tr><td>test_loss</td><td>▆▆█▆▅▆▄▄▅▅▄▄▃▃▃▃▃▃▃▃▃▂▂▂▁▁▁▂▂▂▂▁▁▁▁▁▁▁▁▁</td></tr><tr><td>test_tpr</td><td>▂▄▄▅█▅▅▅▄▆▅▄▅▅▅▄▅▅▅▅▅▅▅▄▅▄▅▄▄▃▅▄▁▅▅▅▅▂▂▁</td></tr><tr><td>train_accuracy</td><td>▁▅▅▅▅▆▇▆▅▆▆▇▇▇▇▇▇▇▇▇▇███████████████████</td></tr><tr><td>train_auc_score</td><td>▁▆▇▆▆▇▇▇▅▆▇▇▇▇▇▇█▇▇█████████████████████</td></tr><tr><td>train_f1_score</td><td>▁▅▅▅▅▆▇▆▅▆▆▇▇▇▇▇▇▇▇▇▇███████████████████</td></tr><tr><td>train_fpr</td><td>█▄▄▅▄▄▃▃▄▄▃▃▃▃▃▂▂▃▃▂▂▂▂▁▁▁▁▁▂▁▁▁▁▁▁▁▁▁▁▁</td></tr><tr><td>train_loss</td><td>█▄▃▄▃▃▂▂▃▃▂▂▂▂▂▂▂▂▂▂▁▁▁▁▁▁▁▁▁▁▁▁▁▁▁▁▁▁▁▁</td></tr><tr><td>train_tpr</td><td>▁▅▆▆▆▇▇█▇▇▇█████████████████████████████</td></tr></table><br/></div><div class=\"wandb-col\"><h3>Run summary:</h3><br/><table class=\"wandb\"><tr><td>epoch</td><td>39</td></tr><tr><td>lr</td><td>0.00015</td></tr><tr><td>test_accuracy</td><td>0.7528</td></tr><tr><td>test_auc_score</td><td>0.95174</td></tr><tr><td>test_f1_score</td><td>0.53293</td></tr><tr><td>test_fpr</td><td>0.25524</td></tr><tr><td>test_loss</td><td>0.08395</td></tr><tr><td>test_tpr</td><td>0.98038</td></tr><tr><td>train_accuracy</td><td>0.97777</td></tr><tr><td>train_auc_score</td><td>0.99038</td></tr><tr><td>train_f1_score</td><td>0.97775</td></tr><tr><td>train_fpr</td><td>0.04212</td></tr><tr><td>train_loss</td><td>0.00968</td></tr><tr><td>train_tpr</td><td>0.99786</td></tr></table><br/></div></div>"
      ],
      "text/plain": [
       "<IPython.core.display.HTML object>"
      ]
     },
     "metadata": {},
     "output_type": "display_data"
    },
    {
     "data": {
      "text/html": [
       " View run <strong style=\"color:#cdcd00\">EM_DWBLoss()_ROS-1</strong> at: <a href='https://wandb.ai/dmitrii_fomin_uga/Internship_project/runs/eumasnm9' target=\"_blank\">https://wandb.ai/dmitrii_fomin_uga/Internship_project/runs/eumasnm9</a><br/>Synced 5 W&B file(s), 0 media file(s), 0 artifact file(s) and 0 other file(s)"
      ],
      "text/plain": [
       "<IPython.core.display.HTML object>"
      ]
     },
     "metadata": {},
     "output_type": "display_data"
    },
    {
     "data": {
      "text/html": [
       "Find logs at: <code>../logs/wandb\\run-20230705_101654-eumasnm9\\logs</code>"
      ],
      "text/plain": [
       "<IPython.core.display.HTML object>"
      ]
     },
     "metadata": {},
     "output_type": "display_data"
    },
    {
     "data": {
      "text/html": [
       "Tracking run with wandb version 0.15.4"
      ],
      "text/plain": [
       "<IPython.core.display.HTML object>"
      ]
     },
     "metadata": {},
     "output_type": "display_data"
    },
    {
     "data": {
      "text/html": [
       "Run data is saved locally in <code>../logs/wandb\\run-20230705_101719-7dpnvfgo</code>"
      ],
      "text/plain": [
       "<IPython.core.display.HTML object>"
      ]
     },
     "metadata": {},
     "output_type": "display_data"
    },
    {
     "data": {
      "text/html": [
       "Syncing run <strong><a href='https://wandb.ai/dmitrii_fomin_uga/Internship_project/runs/7dpnvfgo' target=\"_blank\">EM_DWBLoss()_RUS-0.05</a></strong> to <a href='https://wandb.ai/dmitrii_fomin_uga/Internship_project' target=\"_blank\">Weights & Biases</a> (<a href='https://wandb.me/run' target=\"_blank\">docs</a>)<br/>"
      ],
      "text/plain": [
       "<IPython.core.display.HTML object>"
      ]
     },
     "metadata": {},
     "output_type": "display_data"
    },
    {
     "data": {
      "text/html": [
       " View project at <a href='https://wandb.ai/dmitrii_fomin_uga/Internship_project' target=\"_blank\">https://wandb.ai/dmitrii_fomin_uga/Internship_project</a>"
      ],
      "text/plain": [
       "<IPython.core.display.HTML object>"
      ]
     },
     "metadata": {},
     "output_type": "display_data"
    },
    {
     "data": {
      "text/html": [
       " View run at <a href='https://wandb.ai/dmitrii_fomin_uga/Internship_project/runs/7dpnvfgo' target=\"_blank\">https://wandb.ai/dmitrii_fomin_uga/Internship_project/runs/7dpnvfgo</a>"
      ],
      "text/plain": [
       "<IPython.core.display.HTML object>"
      ]
     },
     "metadata": {},
     "output_type": "display_data"
    },
    {
     "data": {
      "text/html": [
       "Waiting for W&B process to finish... <strong style=\"color:green\">(success).</strong>"
      ],
      "text/plain": [
       "<IPython.core.display.HTML object>"
      ]
     },
     "metadata": {},
     "output_type": "display_data"
    },
    {
     "data": {
      "text/html": [
       "<style>\n",
       "    table.wandb td:nth-child(1) { padding: 0 10px; text-align: left ; width: auto;} td:nth-child(2) {text-align: left ; width: 100%}\n",
       "    .wandb-row { display: flex; flex-direction: row; flex-wrap: wrap; justify-content: flex-start; width: 100% }\n",
       "    .wandb-col { display: flex; flex-direction: column; flex-basis: 100%; flex: 1; padding: 10px; }\n",
       "    </style>\n",
       "<div class=\"wandb-row\"><div class=\"wandb-col\"><h3>Run history:</h3><br/><table class=\"wandb\"><tr><td>epoch</td><td>▁▁▁▂▂▂▂▂▂▃▃▃▃▃▄▄▄▄▄▄▅▅▅▅▅▅▆▆▆▆▆▇▇▇▇▇▇███</td></tr><tr><td>lr</td><td>█▇▇▆▆▅▅▄▄▄▃▃▃▃▃▂▂▂▂▂▂▂▂▂▁▁▁▁▁▁▁▁▁▁▁▁▁▁▁▁</td></tr><tr><td>test_accuracy</td><td>▁▂▄▅▆▇▇▇▇▇██████████████████████████████</td></tr><tr><td>test_auc_score</td><td>▁▄▆▆▇▇▇▇▇▇▇▇██▇█████████████████████████</td></tr><tr><td>test_f1_score</td><td>▁▂▄▅▆▆▇▇▇▇▇▇████████████████████████████</td></tr><tr><td>test_fpr</td><td>█▇▅▄▃▂▂▂▂▂▁▁▁▁▁▁▁▁▁▁▁▁▁▁▁▁▁▁▁▁▁▁▁▁▁▁▁▁▁▁</td></tr><tr><td>test_loss</td><td>▇█▆▅▃▃▂▂▂▂▂▁▁▁▁▁▁▁▁▁▁▁▁▁▁▁▁▁▁▁▁▁▁▁▁▁▁▁▁▁</td></tr><tr><td>test_tpr</td><td>█▇▆▇▇▄▃▄▅▄▄▃▃▃▃▂▂▂▁▃▃▃▂▂▂▂▂▁▁▂▂▂▃▂▂▂▂▂▂▂</td></tr><tr><td>train_accuracy</td><td>▁▅▆▇▇▇▇▇▇▇▇██▇▇█████████████████████████</td></tr><tr><td>train_auc_score</td><td>▁▆▇▇█▇███▇████▇█████████████████████████</td></tr><tr><td>train_f1_score</td><td>▁▅▆▆▇▇▇▇▆▇▇▇▇▇▇▇▇▇▇▇██▇████████▇▇█▇█████</td></tr><tr><td>train_fpr</td><td>█▄▃▂▂▁▁▂▂▂▂▁▁▁▁▁▁▁▁▁▁▁▁▁▁▁▁▁▁▁▁▁▁▁▁▁▁▁▁▁</td></tr><tr><td>train_loss</td><td>█▅▃▃▂▂▂▂▂▂▂▂▂▂▂▁▂▁▁▁▁▁▁▁▁▁▁▁▁▁▁▁▁▁▁▁▁▁▁▁</td></tr><tr><td>train_tpr</td><td>▁▆▅▅▅▄▅▅▆▆▆▇▇▆▆▇▆▇▇▇▇█▇▇▆▇████▇█▇███▇█▇▇</td></tr></table><br/></div><div class=\"wandb-col\"><h3>Run summary:</h3><br/><table class=\"wandb\"><tr><td>epoch</td><td>39</td></tr><tr><td>lr</td><td>0.00015</td></tr><tr><td>test_accuracy</td><td>0.90874</td></tr><tr><td>test_auc_score</td><td>0.96633</td></tr><tr><td>test_f1_score</td><td>0.67217</td></tr><tr><td>test_fpr</td><td>0.09006</td></tr><tr><td>test_loss</td><td>0.00543</td></tr><tr><td>test_tpr</td><td>0.87014</td></tr><tr><td>train_accuracy</td><td>0.96382</td></tr><tr><td>train_auc_score</td><td>0.99151</td></tr><tr><td>train_f1_score</td><td>0.92957</td></tr><tr><td>train_fpr</td><td>0.02998</td></tr><tr><td>train_loss</td><td>-0.00161</td></tr><tr><td>train_tpr</td><td>0.93093</td></tr></table><br/></div></div>"
      ],
      "text/plain": [
       "<IPython.core.display.HTML object>"
      ]
     },
     "metadata": {},
     "output_type": "display_data"
    },
    {
     "data": {
      "text/html": [
       " View run <strong style=\"color:#cdcd00\">EM_DWBLoss()_RUS-0.05</strong> at: <a href='https://wandb.ai/dmitrii_fomin_uga/Internship_project/runs/7dpnvfgo' target=\"_blank\">https://wandb.ai/dmitrii_fomin_uga/Internship_project/runs/7dpnvfgo</a><br/>Synced 5 W&B file(s), 0 media file(s), 0 artifact file(s) and 0 other file(s)"
      ],
      "text/plain": [
       "<IPython.core.display.HTML object>"
      ]
     },
     "metadata": {},
     "output_type": "display_data"
    },
    {
     "data": {
      "text/html": [
       "Find logs at: <code>../logs/wandb\\run-20230705_101719-7dpnvfgo\\logs</code>"
      ],
      "text/plain": [
       "<IPython.core.display.HTML object>"
      ]
     },
     "metadata": {},
     "output_type": "display_data"
    },
    {
     "data": {
      "text/html": [
       "Tracking run with wandb version 0.15.4"
      ],
      "text/plain": [
       "<IPython.core.display.HTML object>"
      ]
     },
     "metadata": {},
     "output_type": "display_data"
    },
    {
     "data": {
      "text/html": [
       "Run data is saved locally in <code>../logs/wandb\\run-20230705_101731-vgl5oz99</code>"
      ],
      "text/plain": [
       "<IPython.core.display.HTML object>"
      ]
     },
     "metadata": {},
     "output_type": "display_data"
    },
    {
     "data": {
      "text/html": [
       "Syncing run <strong><a href='https://wandb.ai/dmitrii_fomin_uga/Internship_project/runs/vgl5oz99' target=\"_blank\">EM_DWBLoss()_RUS-0.1</a></strong> to <a href='https://wandb.ai/dmitrii_fomin_uga/Internship_project' target=\"_blank\">Weights & Biases</a> (<a href='https://wandb.me/run' target=\"_blank\">docs</a>)<br/>"
      ],
      "text/plain": [
       "<IPython.core.display.HTML object>"
      ]
     },
     "metadata": {},
     "output_type": "display_data"
    },
    {
     "data": {
      "text/html": [
       " View project at <a href='https://wandb.ai/dmitrii_fomin_uga/Internship_project' target=\"_blank\">https://wandb.ai/dmitrii_fomin_uga/Internship_project</a>"
      ],
      "text/plain": [
       "<IPython.core.display.HTML object>"
      ]
     },
     "metadata": {},
     "output_type": "display_data"
    },
    {
     "data": {
      "text/html": [
       " View run at <a href='https://wandb.ai/dmitrii_fomin_uga/Internship_project/runs/vgl5oz99' target=\"_blank\">https://wandb.ai/dmitrii_fomin_uga/Internship_project/runs/vgl5oz99</a>"
      ],
      "text/plain": [
       "<IPython.core.display.HTML object>"
      ]
     },
     "metadata": {},
     "output_type": "display_data"
    },
    {
     "data": {
      "text/html": [
       "Waiting for W&B process to finish... <strong style=\"color:green\">(success).</strong>"
      ],
      "text/plain": [
       "<IPython.core.display.HTML object>"
      ]
     },
     "metadata": {},
     "output_type": "display_data"
    },
    {
     "data": {
      "text/html": [
       "<style>\n",
       "    table.wandb td:nth-child(1) { padding: 0 10px; text-align: left ; width: auto;} td:nth-child(2) {text-align: left ; width: 100%}\n",
       "    .wandb-row { display: flex; flex-direction: row; flex-wrap: wrap; justify-content: flex-start; width: 100% }\n",
       "    .wandb-col { display: flex; flex-direction: column; flex-basis: 100%; flex: 1; padding: 10px; }\n",
       "    </style>\n",
       "<div class=\"wandb-row\"><div class=\"wandb-col\"><h3>Run history:</h3><br/><table class=\"wandb\"><tr><td>epoch</td><td>▁▁▁▂▂▂▂▂▂▃▃▃▃▃▄▄▄▄▄▄▅▅▅▅▅▅▆▆▆▆▆▇▇▇▇▇▇███</td></tr><tr><td>lr</td><td>█▇▇▆▆▅▅▄▄▄▃▃▃▃▃▂▂▂▂▂▂▂▂▂▁▁▁▁▁▁▁▁▁▁▁▁▁▁▁▁</td></tr><tr><td>test_accuracy</td><td>▁▃▆▇▇▇██████████████████████████████████</td></tr><tr><td>test_auc_score</td><td>▁▃▄▅▆▆▆▆▇▆▇▇▆▇▇▇██▇██▇████▇█▇▇█████▇▇▇██</td></tr><tr><td>test_f1_score</td><td>▁▂▅▆▆▇▇▇████████████████████████████████</td></tr><tr><td>test_fpr</td><td>█▆▃▂▂▂▁▁▁▁▁▁▁▁▁▁▁▁▁▁▁▁▁▁▁▁▁▁▁▁▁▁▁▁▁▁▁▁▁▁</td></tr><tr><td>test_loss</td><td>█▆▄▂▂▂▁▁▁▁▁▁▁▁▁▁▁▁▁▁▁▁▁▁▁▁▁▁▁▁▁▁▁▁▁▁▁▁▁▁</td></tr><tr><td>test_tpr</td><td>█▇▅▄▄▃▃▂▂▁▃▃▂▃▄▄▃▂▂▃▃▃▂▂▂▁▂▃▃▂▂▂▃▃▃▂▃▃▃▃</td></tr><tr><td>train_accuracy</td><td>▁▆▇▇▇▇▇█████████████████████████████████</td></tr><tr><td>train_auc_score</td><td>▁▆▇▇▇▇▇█████████████████████████████████</td></tr><tr><td>train_f1_score</td><td>▁▅▆▆▆▆▇▇▇▇▇▇▇▇▇▇▇▇▇▇▇███████████████████</td></tr><tr><td>train_fpr</td><td>█▂▂▁▂▂▁▁▁▁▁▁▁▁▁▁▁▁▁▁▁▁▁▁▁▁▁▁▁▁▁▁▁▁▁▁▁▁▁▁</td></tr><tr><td>train_loss</td><td>█▄▃▃▂▂▂▂▂▂▂▂▂▁▂▁▂▁▁▁▁▁▁▁▁▁▁▁▁▁▁▁▁▁▁▁▁▁▁▁</td></tr><tr><td>train_tpr</td><td>▁▄▃▃▃▄▅▄▅▅▅▅▅▆▅▆▆▆▆▆▇▇▆▇▇▇▇▇▇▇▇████▇████</td></tr></table><br/></div><div class=\"wandb-col\"><h3>Run summary:</h3><br/><table class=\"wandb\"><tr><td>epoch</td><td>39</td></tr><tr><td>lr</td><td>0.00015</td></tr><tr><td>test_accuracy</td><td>0.95472</td></tr><tr><td>test_auc_score</td><td>0.97393</td></tr><tr><td>test_f1_score</td><td>0.76404</td></tr><tr><td>test_fpr</td><td>0.04069</td></tr><tr><td>test_loss</td><td>-0.01284</td></tr><tr><td>test_tpr</td><td>0.82862</td></tr><tr><td>train_accuracy</td><td>0.98356</td></tr><tr><td>train_auc_score</td><td>0.99184</td></tr><tr><td>train_f1_score</td><td>0.94751</td></tr><tr><td>train_fpr</td><td>0.01448</td></tr><tr><td>train_loss</td><td>-0.02034</td></tr><tr><td>train_tpr</td><td>0.96319</td></tr></table><br/></div></div>"
      ],
      "text/plain": [
       "<IPython.core.display.HTML object>"
      ]
     },
     "metadata": {},
     "output_type": "display_data"
    },
    {
     "data": {
      "text/html": [
       " View run <strong style=\"color:#cdcd00\">EM_DWBLoss()_RUS-0.1</strong> at: <a href='https://wandb.ai/dmitrii_fomin_uga/Internship_project/runs/vgl5oz99' target=\"_blank\">https://wandb.ai/dmitrii_fomin_uga/Internship_project/runs/vgl5oz99</a><br/>Synced 5 W&B file(s), 0 media file(s), 0 artifact file(s) and 0 other file(s)"
      ],
      "text/plain": [
       "<IPython.core.display.HTML object>"
      ]
     },
     "metadata": {},
     "output_type": "display_data"
    },
    {
     "data": {
      "text/html": [
       "Find logs at: <code>../logs/wandb\\run-20230705_101731-vgl5oz99\\logs</code>"
      ],
      "text/plain": [
       "<IPython.core.display.HTML object>"
      ]
     },
     "metadata": {},
     "output_type": "display_data"
    },
    {
     "data": {
      "text/html": [
       "Tracking run with wandb version 0.15.4"
      ],
      "text/plain": [
       "<IPython.core.display.HTML object>"
      ]
     },
     "metadata": {},
     "output_type": "display_data"
    },
    {
     "data": {
      "text/html": [
       "Run data is saved locally in <code>../logs/wandb\\run-20230705_101743-4a9ny0ar</code>"
      ],
      "text/plain": [
       "<IPython.core.display.HTML object>"
      ]
     },
     "metadata": {},
     "output_type": "display_data"
    },
    {
     "data": {
      "text/html": [
       "Syncing run <strong><a href='https://wandb.ai/dmitrii_fomin_uga/Internship_project/runs/4a9ny0ar' target=\"_blank\">EM_DWBLoss()_RUS-0.15</a></strong> to <a href='https://wandb.ai/dmitrii_fomin_uga/Internship_project' target=\"_blank\">Weights & Biases</a> (<a href='https://wandb.me/run' target=\"_blank\">docs</a>)<br/>"
      ],
      "text/plain": [
       "<IPython.core.display.HTML object>"
      ]
     },
     "metadata": {},
     "output_type": "display_data"
    },
    {
     "data": {
      "text/html": [
       " View project at <a href='https://wandb.ai/dmitrii_fomin_uga/Internship_project' target=\"_blank\">https://wandb.ai/dmitrii_fomin_uga/Internship_project</a>"
      ],
      "text/plain": [
       "<IPython.core.display.HTML object>"
      ]
     },
     "metadata": {},
     "output_type": "display_data"
    },
    {
     "data": {
      "text/html": [
       " View run at <a href='https://wandb.ai/dmitrii_fomin_uga/Internship_project/runs/4a9ny0ar' target=\"_blank\">https://wandb.ai/dmitrii_fomin_uga/Internship_project/runs/4a9ny0ar</a>"
      ],
      "text/plain": [
       "<IPython.core.display.HTML object>"
      ]
     },
     "metadata": {},
     "output_type": "display_data"
    },
    {
     "data": {
      "text/html": [
       "Waiting for W&B process to finish... <strong style=\"color:green\">(success).</strong>"
      ],
      "text/plain": [
       "<IPython.core.display.HTML object>"
      ]
     },
     "metadata": {},
     "output_type": "display_data"
    },
    {
     "data": {
      "text/html": [
       "<style>\n",
       "    table.wandb td:nth-child(1) { padding: 0 10px; text-align: left ; width: auto;} td:nth-child(2) {text-align: left ; width: 100%}\n",
       "    .wandb-row { display: flex; flex-direction: row; flex-wrap: wrap; justify-content: flex-start; width: 100% }\n",
       "    .wandb-col { display: flex; flex-direction: column; flex-basis: 100%; flex: 1; padding: 10px; }\n",
       "    </style>\n",
       "<div class=\"wandb-row\"><div class=\"wandb-col\"><h3>Run history:</h3><br/><table class=\"wandb\"><tr><td>epoch</td><td>▁▁▁▂▂▂▂▂▂▃▃▃▃▃▄▄▄▄▄▄▅▅▅▅▅▅▆▆▆▆▆▇▇▇▇▇▇███</td></tr><tr><td>lr</td><td>█▇▇▆▆▅▅▄▄▄▃▃▃▃▃▂▂▂▂▂▂▂▂▂▁▁▁▁▁▁▁▁▁▁▁▁▁▁▁▁</td></tr><tr><td>test_accuracy</td><td>▁▅▇▇████████████████████████████████████</td></tr><tr><td>test_auc_score</td><td>▁▆▇▇▇▇██████████████████████████████████</td></tr><tr><td>test_f1_score</td><td>▁▄▆▆▇▇▇▇█▇███▇█▇▇███▇▇▇▇▇███████████████</td></tr><tr><td>test_fpr</td><td>█▄▂▂▁▁▁▁▁▁▁▁▁▁▁▁▁▁▁▁▁▁▁▁▁▁▁▁▁▁▁▁▁▁▁▁▁▁▁▁</td></tr><tr><td>test_loss</td><td>█▄▃▂▂▂▁▁▁▁▁▁▁▁▁▁▁▁▁▁▁▁▁▁▁▁▁▁▁▁▁▁▁▁▁▁▁▁▁▁</td></tr><tr><td>test_tpr</td><td>▇██▇▅▆▅▅▃▂▄▄▁▆▂▆▆▆▄▄▄▇█▅▅▆▅▅▆▅▃▂▂▃▄▄▅▅▅▅</td></tr><tr><td>train_accuracy</td><td>▁▆▇▇▇▇▇▇████████████████████████████████</td></tr><tr><td>train_auc_score</td><td>▁▆▆▇▇▇▇▇████████████████████████████████</td></tr><tr><td>train_f1_score</td><td>▁▅▆▆▆▇▇▆▇▇▇▇▇▇▇▇▇▇▇█▇▇▇▇▇█▇█████████████</td></tr><tr><td>train_fpr</td><td>█▃▂▂▁▁▁▂▁▁▁▁▁▁▁▁▁▁▁▁▁▁▁▁▁▁▁▁▁▁▁▁▁▁▁▁▁▁▁▁</td></tr><tr><td>train_loss</td><td>█▄▃▃▂▂▂▂▂▂▂▂▂▂▁▂▂▁▁▁▂▂▂▁▁▁▁▁▁▁▁▁▁▁▁▁▁▁▁▁</td></tr><tr><td>train_tpr</td><td>▁▄▃▂▂▃▅▃▄▄▄▄▅▆▇▅▆▇█▆▅▆▆▇▇▇▆▇▇▇█▇▇▇▆███▇▇</td></tr></table><br/></div><div class=\"wandb-col\"><h3>Run summary:</h3><br/><table class=\"wandb\"><tr><td>epoch</td><td>39</td></tr><tr><td>lr</td><td>0.00015</td></tr><tr><td>test_accuracy</td><td>0.9549</td></tr><tr><td>test_auc_score</td><td>0.96802</td></tr><tr><td>test_f1_score</td><td>0.76535</td></tr><tr><td>test_fpr</td><td>0.0405</td></tr><tr><td>test_loss</td><td>-0.01329</td></tr><tr><td>test_tpr</td><td>0.82863</td></tr><tr><td>train_accuracy</td><td>0.98397</td></tr><tr><td>train_auc_score</td><td>0.99219</td></tr><tr><td>train_f1_score</td><td>0.94285</td></tr><tr><td>train_fpr</td><td>0.01221</td></tr><tr><td>train_loss</td><td>-0.02074</td></tr><tr><td>train_tpr</td><td>0.93662</td></tr></table><br/></div></div>"
      ],
      "text/plain": [
       "<IPython.core.display.HTML object>"
      ]
     },
     "metadata": {},
     "output_type": "display_data"
    },
    {
     "data": {
      "text/html": [
       " View run <strong style=\"color:#cdcd00\">EM_DWBLoss()_RUS-0.15</strong> at: <a href='https://wandb.ai/dmitrii_fomin_uga/Internship_project/runs/4a9ny0ar' target=\"_blank\">https://wandb.ai/dmitrii_fomin_uga/Internship_project/runs/4a9ny0ar</a><br/>Synced 5 W&B file(s), 0 media file(s), 0 artifact file(s) and 0 other file(s)"
      ],
      "text/plain": [
       "<IPython.core.display.HTML object>"
      ]
     },
     "metadata": {},
     "output_type": "display_data"
    },
    {
     "data": {
      "text/html": [
       "Find logs at: <code>../logs/wandb\\run-20230705_101743-4a9ny0ar\\logs</code>"
      ],
      "text/plain": [
       "<IPython.core.display.HTML object>"
      ]
     },
     "metadata": {},
     "output_type": "display_data"
    },
    {
     "data": {
      "text/html": [
       "Tracking run with wandb version 0.15.4"
      ],
      "text/plain": [
       "<IPython.core.display.HTML object>"
      ]
     },
     "metadata": {},
     "output_type": "display_data"
    },
    {
     "data": {
      "text/html": [
       "Run data is saved locally in <code>../logs/wandb\\run-20230705_101754-hxayxyio</code>"
      ],
      "text/plain": [
       "<IPython.core.display.HTML object>"
      ]
     },
     "metadata": {},
     "output_type": "display_data"
    },
    {
     "data": {
      "text/html": [
       "Syncing run <strong><a href='https://wandb.ai/dmitrii_fomin_uga/Internship_project/runs/hxayxyio' target=\"_blank\">EM_DWBLoss()_RUS-0.2</a></strong> to <a href='https://wandb.ai/dmitrii_fomin_uga/Internship_project' target=\"_blank\">Weights & Biases</a> (<a href='https://wandb.me/run' target=\"_blank\">docs</a>)<br/>"
      ],
      "text/plain": [
       "<IPython.core.display.HTML object>"
      ]
     },
     "metadata": {},
     "output_type": "display_data"
    },
    {
     "data": {
      "text/html": [
       " View project at <a href='https://wandb.ai/dmitrii_fomin_uga/Internship_project' target=\"_blank\">https://wandb.ai/dmitrii_fomin_uga/Internship_project</a>"
      ],
      "text/plain": [
       "<IPython.core.display.HTML object>"
      ]
     },
     "metadata": {},
     "output_type": "display_data"
    },
    {
     "data": {
      "text/html": [
       " View run at <a href='https://wandb.ai/dmitrii_fomin_uga/Internship_project/runs/hxayxyio' target=\"_blank\">https://wandb.ai/dmitrii_fomin_uga/Internship_project/runs/hxayxyio</a>"
      ],
      "text/plain": [
       "<IPython.core.display.HTML object>"
      ]
     },
     "metadata": {},
     "output_type": "display_data"
    },
    {
     "data": {
      "text/html": [
       "Waiting for W&B process to finish... <strong style=\"color:green\">(success).</strong>"
      ],
      "text/plain": [
       "<IPython.core.display.HTML object>"
      ]
     },
     "metadata": {},
     "output_type": "display_data"
    },
    {
     "data": {
      "text/html": [
       "<style>\n",
       "    table.wandb td:nth-child(1) { padding: 0 10px; text-align: left ; width: auto;} td:nth-child(2) {text-align: left ; width: 100%}\n",
       "    .wandb-row { display: flex; flex-direction: row; flex-wrap: wrap; justify-content: flex-start; width: 100% }\n",
       "    .wandb-col { display: flex; flex-direction: column; flex-basis: 100%; flex: 1; padding: 10px; }\n",
       "    </style>\n",
       "<div class=\"wandb-row\"><div class=\"wandb-col\"><h3>Run history:</h3><br/><table class=\"wandb\"><tr><td>epoch</td><td>▁▁▁▂▂▂▂▂▂▃▃▃▃▃▄▄▄▄▄▄▅▅▅▅▅▅▆▆▆▆▆▇▇▇▇▇▇███</td></tr><tr><td>lr</td><td>█▇▇▆▆▅▅▄▄▄▃▃▃▃▃▂▂▂▂▂▂▂▂▂▁▁▁▁▁▁▁▁▁▁▁▁▁▁▁▁</td></tr><tr><td>test_accuracy</td><td>▁▄▇▇▇███████████████████████████████████</td></tr><tr><td>test_auc_score</td><td>▁▆▇▇▇███████████████▇▇▇▇▇█▇▇▇▇▇▇▇▇▇▇▇▇▇▇</td></tr><tr><td>test_f1_score</td><td>▁▄▅▆▆▇▇█▇█▇▇██▇▇████████▇█▇▇████████████</td></tr><tr><td>test_fpr</td><td>█▅▂▂▂▁▁▁▁▁▁▁▁▁▁▁▁▁▁▁▁▁▁▁▁▁▁▁▁▁▁▁▁▁▁▁▁▁▁▁</td></tr><tr><td>test_loss</td><td>█▅▃▂▂▂▁▁▁▁▁▁▁▁▁▁▁▁▁▁▁▁▁▁▁▁▁▁▁▁▁▁▁▁▁▁▁▁▁▁</td></tr><tr><td>test_tpr</td><td>█▇▆▅▄▅▂▃▂▂▄▄▃▂▃▃▃▂▄▃▄▄▁▄▅▅▅▃▃▃▃▃▄▃▃▃▃▃▃▃</td></tr><tr><td>train_accuracy</td><td>▁▇▇▇▇▇▇██▇██████████████████████████████</td></tr><tr><td>train_auc_score</td><td>▁▆▇▇▇▇▇█▇███████████████████████████████</td></tr><tr><td>train_f1_score</td><td>▁▅▆▆▆▆▆▇▇▇▇▇▇▇▇▇▇▇▇▇▇▇█▇█▇▇█████████████</td></tr><tr><td>train_fpr</td><td>█▂▂▂▁▂▂▁▁▁▁▁▁▁▁▁▁▁▁▁▁▁▁▁▁▁▁▁▁▁▁▁▁▁▁▁▁▁▁▁</td></tr><tr><td>train_loss</td><td>█▄▃▃▂▂▂▂▂▂▂▂▂▂▂▁▁▁▁▁▁▁▁▁▁▁▁▁▁▁▁▁▁▁▁▁▁▁▁▁</td></tr><tr><td>train_tpr</td><td>▁▁▂▃▃▄▄▄▄▅▅▅▆▅▅▆▇▇▆▇▇▇▇▇▇▇▇▇▇▇▇▇▇▇███▇██</td></tr></table><br/></div><div class=\"wandb-col\"><h3>Run summary:</h3><br/><table class=\"wandb\"><tr><td>epoch</td><td>39</td></tr><tr><td>lr</td><td>0.00015</td></tr><tr><td>test_accuracy</td><td>0.96484</td></tr><tr><td>test_auc_score</td><td>0.94208</td></tr><tr><td>test_f1_score</td><td>0.79835</td></tr><tr><td>test_fpr</td><td>0.0301</td></tr><tr><td>test_loss</td><td>-0.01517</td></tr><tr><td>test_tpr</td><td>0.81988</td></tr><tr><td>train_accuracy</td><td>0.98946</td></tr><tr><td>train_auc_score</td><td>0.98856</td></tr><tr><td>train_f1_score</td><td>0.96202</td></tr><tr><td>train_fpr</td><td>0.00898</td></tr><tr><td>train_loss</td><td>-0.02468</td></tr><tr><td>train_tpr</td><td>0.97102</td></tr></table><br/></div></div>"
      ],
      "text/plain": [
       "<IPython.core.display.HTML object>"
      ]
     },
     "metadata": {},
     "output_type": "display_data"
    },
    {
     "data": {
      "text/html": [
       " View run <strong style=\"color:#cdcd00\">EM_DWBLoss()_RUS-0.2</strong> at: <a href='https://wandb.ai/dmitrii_fomin_uga/Internship_project/runs/hxayxyio' target=\"_blank\">https://wandb.ai/dmitrii_fomin_uga/Internship_project/runs/hxayxyio</a><br/>Synced 5 W&B file(s), 0 media file(s), 0 artifact file(s) and 0 other file(s)"
      ],
      "text/plain": [
       "<IPython.core.display.HTML object>"
      ]
     },
     "metadata": {},
     "output_type": "display_data"
    },
    {
     "data": {
      "text/html": [
       "Find logs at: <code>../logs/wandb\\run-20230705_101754-hxayxyio\\logs</code>"
      ],
      "text/plain": [
       "<IPython.core.display.HTML object>"
      ]
     },
     "metadata": {},
     "output_type": "display_data"
    },
    {
     "data": {
      "text/html": [
       "Tracking run with wandb version 0.15.4"
      ],
      "text/plain": [
       "<IPython.core.display.HTML object>"
      ]
     },
     "metadata": {},
     "output_type": "display_data"
    },
    {
     "data": {
      "text/html": [
       "Run data is saved locally in <code>../logs/wandb\\run-20230705_101806-szzm3cym</code>"
      ],
      "text/plain": [
       "<IPython.core.display.HTML object>"
      ]
     },
     "metadata": {},
     "output_type": "display_data"
    },
    {
     "data": {
      "text/html": [
       "Syncing run <strong><a href='https://wandb.ai/dmitrii_fomin_uga/Internship_project/runs/szzm3cym' target=\"_blank\">EM_DWBLoss()_RUS-0.25</a></strong> to <a href='https://wandb.ai/dmitrii_fomin_uga/Internship_project' target=\"_blank\">Weights & Biases</a> (<a href='https://wandb.me/run' target=\"_blank\">docs</a>)<br/>"
      ],
      "text/plain": [
       "<IPython.core.display.HTML object>"
      ]
     },
     "metadata": {},
     "output_type": "display_data"
    },
    {
     "data": {
      "text/html": [
       " View project at <a href='https://wandb.ai/dmitrii_fomin_uga/Internship_project' target=\"_blank\">https://wandb.ai/dmitrii_fomin_uga/Internship_project</a>"
      ],
      "text/plain": [
       "<IPython.core.display.HTML object>"
      ]
     },
     "metadata": {},
     "output_type": "display_data"
    },
    {
     "data": {
      "text/html": [
       " View run at <a href='https://wandb.ai/dmitrii_fomin_uga/Internship_project/runs/szzm3cym' target=\"_blank\">https://wandb.ai/dmitrii_fomin_uga/Internship_project/runs/szzm3cym</a>"
      ],
      "text/plain": [
       "<IPython.core.display.HTML object>"
      ]
     },
     "metadata": {},
     "output_type": "display_data"
    },
    {
     "data": {
      "text/html": [
       "Waiting for W&B process to finish... <strong style=\"color:green\">(success).</strong>"
      ],
      "text/plain": [
       "<IPython.core.display.HTML object>"
      ]
     },
     "metadata": {},
     "output_type": "display_data"
    },
    {
     "data": {
      "text/html": [
       "<style>\n",
       "    table.wandb td:nth-child(1) { padding: 0 10px; text-align: left ; width: auto;} td:nth-child(2) {text-align: left ; width: 100%}\n",
       "    .wandb-row { display: flex; flex-direction: row; flex-wrap: wrap; justify-content: flex-start; width: 100% }\n",
       "    .wandb-col { display: flex; flex-direction: column; flex-basis: 100%; flex: 1; padding: 10px; }\n",
       "    </style>\n",
       "<div class=\"wandb-row\"><div class=\"wandb-col\"><h3>Run history:</h3><br/><table class=\"wandb\"><tr><td>epoch</td><td>▁▁▁▂▂▂▂▂▂▃▃▃▃▃▄▄▄▄▄▄▅▅▅▅▅▅▆▆▆▆▆▇▇▇▇▇▇███</td></tr><tr><td>lr</td><td>█▇▇▆▆▅▅▄▄▄▃▃▃▃▃▂▂▂▂▂▂▂▂▂▁▁▁▁▁▁▁▁▁▁▁▁▁▁▁▁</td></tr><tr><td>test_accuracy</td><td>▁▅▇▇▇███████████████████████████████████</td></tr><tr><td>test_auc_score</td><td>▁▅▅▅▅▇▇▆▇█▇█▆▇▇▇▆▇▇▇▇▇▆▇▇██▇▇▇▇▇▇▆██▇▇▇▇</td></tr><tr><td>test_f1_score</td><td>▁▄▅▆▆▇▇▇▇▇█▇▇▇██▇█▇▇████████████████████</td></tr><tr><td>test_fpr</td><td>█▄▃▂▂▁▁▁▁▁▁▁▁▁▁▁▁▁▁▁▁▁▁▁▁▁▁▁▁▁▁▁▁▁▁▁▁▁▁▁</td></tr><tr><td>test_loss</td><td>█▅▃▂▂▁▁▁▁▁▁▁▁▁▁▁▁▁▁▁▁▁▁▁▁▁▁▁▁▁▁▁▁▁▁▁▁▁▁▁</td></tr><tr><td>test_tpr</td><td>█▆▅▃▃▂▃▂▂▂▂▁▁▂▁▂▂▃▂▃▂▁▂▃▃▂▂▂▂▂▂▂▂▂▂▂▂▂▂▂</td></tr><tr><td>train_accuracy</td><td>▁▇▇▇▇▇▇▇▇███████████████████████████████</td></tr><tr><td>train_auc_score</td><td>▁▆▇▇▇▇▇▇▇▇██████████████████████████████</td></tr><tr><td>train_f1_score</td><td>▁▆▆▆▆▇▆▇▇▇▇▇▇▇▇▇▇▇▇█▇███████████████████</td></tr><tr><td>train_fpr</td><td>█▂▂▂▁▁▁▁▁▁▁▁▁▁▁▁▁▁▁▁▁▁▁▁▁▁▁▁▁▁▁▁▁▁▁▁▁▁▁▁</td></tr><tr><td>train_loss</td><td>█▄▃▂▂▂▂▂▂▂▂▂▂▂▁▁▁▁▁▁▁▁▁▁▁▁▁▁▁▁▁▁▁▁▁▁▁▁▁▁</td></tr><tr><td>train_tpr</td><td>▁▃▄▄▃▄▄▅▅▅▅▆▇▇▇▇▆▇▇▇█▇▇█████████████████</td></tr></table><br/></div><div class=\"wandb-col\"><h3>Run summary:</h3><br/><table class=\"wandb\"><tr><td>epoch</td><td>39</td></tr><tr><td>lr</td><td>0.00015</td></tr><tr><td>test_accuracy</td><td>0.96931</td></tr><tr><td>test_auc_score</td><td>0.94646</td></tr><tr><td>test_f1_score</td><td>0.80649</td></tr><tr><td>test_fpr</td><td>0.02482</td></tr><tr><td>test_loss</td><td>-0.01637</td></tr><tr><td>test_tpr</td><td>0.79559</td></tr><tr><td>train_accuracy</td><td>0.98566</td></tr><tr><td>train_auc_score</td><td>0.99141</td></tr><tr><td>train_f1_score</td><td>0.94585</td></tr><tr><td>train_fpr</td><td>0.00859</td></tr><tr><td>train_loss</td><td>-0.02108</td></tr><tr><td>train_tpr</td><td>0.91605</td></tr></table><br/></div></div>"
      ],
      "text/plain": [
       "<IPython.core.display.HTML object>"
      ]
     },
     "metadata": {},
     "output_type": "display_data"
    },
    {
     "data": {
      "text/html": [
       " View run <strong style=\"color:#cdcd00\">EM_DWBLoss()_RUS-0.25</strong> at: <a href='https://wandb.ai/dmitrii_fomin_uga/Internship_project/runs/szzm3cym' target=\"_blank\">https://wandb.ai/dmitrii_fomin_uga/Internship_project/runs/szzm3cym</a><br/>Synced 5 W&B file(s), 0 media file(s), 0 artifact file(s) and 0 other file(s)"
      ],
      "text/plain": [
       "<IPython.core.display.HTML object>"
      ]
     },
     "metadata": {},
     "output_type": "display_data"
    },
    {
     "data": {
      "text/html": [
       "Find logs at: <code>../logs/wandb\\run-20230705_101806-szzm3cym\\logs</code>"
      ],
      "text/plain": [
       "<IPython.core.display.HTML object>"
      ]
     },
     "metadata": {},
     "output_type": "display_data"
    },
    {
     "data": {
      "text/html": [
       "Tracking run with wandb version 0.15.4"
      ],
      "text/plain": [
       "<IPython.core.display.HTML object>"
      ]
     },
     "metadata": {},
     "output_type": "display_data"
    },
    {
     "data": {
      "text/html": [
       "Run data is saved locally in <code>../logs/wandb\\run-20230705_101820-8gy02bu7</code>"
      ],
      "text/plain": [
       "<IPython.core.display.HTML object>"
      ]
     },
     "metadata": {},
     "output_type": "display_data"
    },
    {
     "data": {
      "text/html": [
       "Syncing run <strong><a href='https://wandb.ai/dmitrii_fomin_uga/Internship_project/runs/8gy02bu7' target=\"_blank\">EM_DWBLoss()_RUS-0.3</a></strong> to <a href='https://wandb.ai/dmitrii_fomin_uga/Internship_project' target=\"_blank\">Weights & Biases</a> (<a href='https://wandb.me/run' target=\"_blank\">docs</a>)<br/>"
      ],
      "text/plain": [
       "<IPython.core.display.HTML object>"
      ]
     },
     "metadata": {},
     "output_type": "display_data"
    },
    {
     "data": {
      "text/html": [
       " View project at <a href='https://wandb.ai/dmitrii_fomin_uga/Internship_project' target=\"_blank\">https://wandb.ai/dmitrii_fomin_uga/Internship_project</a>"
      ],
      "text/plain": [
       "<IPython.core.display.HTML object>"
      ]
     },
     "metadata": {},
     "output_type": "display_data"
    },
    {
     "data": {
      "text/html": [
       " View run at <a href='https://wandb.ai/dmitrii_fomin_uga/Internship_project/runs/8gy02bu7' target=\"_blank\">https://wandb.ai/dmitrii_fomin_uga/Internship_project/runs/8gy02bu7</a>"
      ],
      "text/plain": [
       "<IPython.core.display.HTML object>"
      ]
     },
     "metadata": {},
     "output_type": "display_data"
    },
    {
     "data": {
      "text/html": [
       "Waiting for W&B process to finish... <strong style=\"color:green\">(success).</strong>"
      ],
      "text/plain": [
       "<IPython.core.display.HTML object>"
      ]
     },
     "metadata": {},
     "output_type": "display_data"
    },
    {
     "data": {
      "text/html": [
       "<style>\n",
       "    table.wandb td:nth-child(1) { padding: 0 10px; text-align: left ; width: auto;} td:nth-child(2) {text-align: left ; width: 100%}\n",
       "    .wandb-row { display: flex; flex-direction: row; flex-wrap: wrap; justify-content: flex-start; width: 100% }\n",
       "    .wandb-col { display: flex; flex-direction: column; flex-basis: 100%; flex: 1; padding: 10px; }\n",
       "    </style>\n",
       "<div class=\"wandb-row\"><div class=\"wandb-col\"><h3>Run history:</h3><br/><table class=\"wandb\"><tr><td>epoch</td><td>▁▁▁▂▂▂▂▂▂▃▃▃▃▃▄▄▄▄▄▄▅▅▅▅▅▅▆▆▆▆▆▇▇▇▇▇▇███</td></tr><tr><td>lr</td><td>█▇▇▆▆▅▅▄▄▄▃▃▃▃▃▂▂▂▂▂▂▂▂▂▁▁▁▁▁▁▁▁▁▁▁▁▁▁▁▁</td></tr><tr><td>test_accuracy</td><td>▁▅▆▆▇▇▇█▇▇██████████████████████████████</td></tr><tr><td>test_auc_score</td><td>▁▂▄▄▄▄▅▅▅▆▆▆▇▇▇▆▇█▇▇▇▇██████▇▇██████████</td></tr><tr><td>test_f1_score</td><td>▁▄▄▅▅▆▆▇▆▇▇▇▇██▇▇▇▇▇▇█▇▇█████▇▇▇▇▇███▇▇█</td></tr><tr><td>test_fpr</td><td>█▄▃▃▂▂▂▂▂▂▁▁▁▁▁▁▁▁▁▁▁▁▁▁▁▁▁▁▁▁▁▁▁▁▁▁▁▁▁▁</td></tr><tr><td>test_loss</td><td>█▅▄▃▂▂▂▂▂▂▁▁▁▁▁▁▁▁▁▁▁▁▁▁▁▁▁▁▁▁▁▁▁▁▁▁▁▁▁▁</td></tr><tr><td>test_tpr</td><td>█▅▆▅▄▄▃▃▂▃▃▁▁▁▁▂▅▆▅▂▃▃▄▅▂▂▂▂▂▃▄▃▄▅▃▃▃▃▃▃</td></tr><tr><td>train_accuracy</td><td>▁▇▇▇▇▇▇▇▇▇▇████▇█▇█▇████████████████████</td></tr><tr><td>train_auc_score</td><td>▁▆▆▆▇▇▇▇▇▇▇▇███████▇█▇▇█████████████████</td></tr><tr><td>train_f1_score</td><td>▁▆▅▅▆▆▆▆▆▆▆▇▇▇▇▇▇▇▇▇▇▇▇█▇████▇███▇██▇▇▇█</td></tr><tr><td>train_fpr</td><td>█▂▂▂▂▂▂▂▂▂▂▁▁▁▁▂▁▂▁▁▁▁▁▁▁▁▁▁▁▁▁▁▁▁▁▁▁▁▁▁</td></tr><tr><td>train_loss</td><td>█▄▃▃▂▂▂▂▂▂▂▂▂▂▂▂▂▂▂▂▁▂▂▁▁▁▁▁▂▁▁▁▁▁▁▁▁▁▁▁</td></tr><tr><td>train_tpr</td><td>▂▃▁▃▅▄▃▃▄▄▆▆▆▅▄▇▆▆▅▅▇▆▆█▆██▆▅▇▆▇███▆▆█▆█</td></tr></table><br/></div><div class=\"wandb-col\"><h3>Run summary:</h3><br/><table class=\"wandb\"><tr><td>epoch</td><td>39</td></tr><tr><td>lr</td><td>0.00015</td></tr><tr><td>test_accuracy</td><td>0.95607</td></tr><tr><td>test_auc_score</td><td>0.97292</td></tr><tr><td>test_f1_score</td><td>0.76932</td></tr><tr><td>test_fpr</td><td>0.0397</td></tr><tr><td>test_loss</td><td>-0.01298</td></tr><tr><td>test_tpr</td><td>0.82947</td></tr><tr><td>train_accuracy</td><td>0.97893</td></tr><tr><td>train_auc_score</td><td>0.98582</td></tr><tr><td>train_f1_score</td><td>0.92361</td></tr><tr><td>train_fpr</td><td>0.0159</td></tr><tr><td>train_loss</td><td>-0.01768</td></tr><tr><td>train_tpr</td><td>0.90959</td></tr></table><br/></div></div>"
      ],
      "text/plain": [
       "<IPython.core.display.HTML object>"
      ]
     },
     "metadata": {},
     "output_type": "display_data"
    },
    {
     "data": {
      "text/html": [
       " View run <strong style=\"color:#cdcd00\">EM_DWBLoss()_RUS-0.3</strong> at: <a href='https://wandb.ai/dmitrii_fomin_uga/Internship_project/runs/8gy02bu7' target=\"_blank\">https://wandb.ai/dmitrii_fomin_uga/Internship_project/runs/8gy02bu7</a><br/>Synced 5 W&B file(s), 0 media file(s), 0 artifact file(s) and 0 other file(s)"
      ],
      "text/plain": [
       "<IPython.core.display.HTML object>"
      ]
     },
     "metadata": {},
     "output_type": "display_data"
    },
    {
     "data": {
      "text/html": [
       "Find logs at: <code>../logs/wandb\\run-20230705_101820-8gy02bu7\\logs</code>"
      ],
      "text/plain": [
       "<IPython.core.display.HTML object>"
      ]
     },
     "metadata": {},
     "output_type": "display_data"
    },
    {
     "data": {
      "text/html": [
       "Tracking run with wandb version 0.15.4"
      ],
      "text/plain": [
       "<IPython.core.display.HTML object>"
      ]
     },
     "metadata": {},
     "output_type": "display_data"
    },
    {
     "data": {
      "text/html": [
       "Run data is saved locally in <code>../logs/wandb\\run-20230705_101836-p7i6q7lk</code>"
      ],
      "text/plain": [
       "<IPython.core.display.HTML object>"
      ]
     },
     "metadata": {},
     "output_type": "display_data"
    },
    {
     "data": {
      "text/html": [
       "Syncing run <strong><a href='https://wandb.ai/dmitrii_fomin_uga/Internship_project/runs/p7i6q7lk' target=\"_blank\">EM_DWBLoss()_RUS-0.35</a></strong> to <a href='https://wandb.ai/dmitrii_fomin_uga/Internship_project' target=\"_blank\">Weights & Biases</a> (<a href='https://wandb.me/run' target=\"_blank\">docs</a>)<br/>"
      ],
      "text/plain": [
       "<IPython.core.display.HTML object>"
      ]
     },
     "metadata": {},
     "output_type": "display_data"
    },
    {
     "data": {
      "text/html": [
       " View project at <a href='https://wandb.ai/dmitrii_fomin_uga/Internship_project' target=\"_blank\">https://wandb.ai/dmitrii_fomin_uga/Internship_project</a>"
      ],
      "text/plain": [
       "<IPython.core.display.HTML object>"
      ]
     },
     "metadata": {},
     "output_type": "display_data"
    },
    {
     "data": {
      "text/html": [
       " View run at <a href='https://wandb.ai/dmitrii_fomin_uga/Internship_project/runs/p7i6q7lk' target=\"_blank\">https://wandb.ai/dmitrii_fomin_uga/Internship_project/runs/p7i6q7lk</a>"
      ],
      "text/plain": [
       "<IPython.core.display.HTML object>"
      ]
     },
     "metadata": {},
     "output_type": "display_data"
    },
    {
     "data": {
      "text/html": [
       "Waiting for W&B process to finish... <strong style=\"color:green\">(success).</strong>"
      ],
      "text/plain": [
       "<IPython.core.display.HTML object>"
      ]
     },
     "metadata": {},
     "output_type": "display_data"
    },
    {
     "data": {
      "text/html": [
       "<style>\n",
       "    table.wandb td:nth-child(1) { padding: 0 10px; text-align: left ; width: auto;} td:nth-child(2) {text-align: left ; width: 100%}\n",
       "    .wandb-row { display: flex; flex-direction: row; flex-wrap: wrap; justify-content: flex-start; width: 100% }\n",
       "    .wandb-col { display: flex; flex-direction: column; flex-basis: 100%; flex: 1; padding: 10px; }\n",
       "    </style>\n",
       "<div class=\"wandb-row\"><div class=\"wandb-col\"><h3>Run history:</h3><br/><table class=\"wandb\"><tr><td>epoch</td><td>▁▁▁▂▂▂▂▂▂▃▃▃▃▃▄▄▄▄▄▄▅▅▅▅▅▅▆▆▆▆▆▇▇▇▇▇▇███</td></tr><tr><td>lr</td><td>█▇▇▆▆▅▅▄▄▄▃▃▃▃▃▂▂▂▂▂▂▂▂▂▁▁▁▁▁▁▁▁▁▁▁▁▁▁▁▁</td></tr><tr><td>test_accuracy</td><td>▁▄▆▇▇▇██████████████████████████████████</td></tr><tr><td>test_auc_score</td><td>▁▅▆▆▆▇▇▇█████▇▇██████████▇█████████████▇</td></tr><tr><td>test_f1_score</td><td>▁▃▅▅▆▆▇▇▇▇█▇██▇███▇▇█▇██████████████████</td></tr><tr><td>test_fpr</td><td>█▅▃▂▂▂▁▁▁▁▁▁▁▁▁▁▁▁▁▁▁▁▁▁▁▁▁▁▁▁▁▁▁▁▁▁▁▁▁▁</td></tr><tr><td>test_loss</td><td>█▅▃▃▂▂▁▁▁▁▁▁▁▁▁▁▁▁▁▁▁▁▁▁▁▁▁▁▁▁▁▁▁▁▁▁▁▁▁▁</td></tr><tr><td>test_tpr</td><td>█▆▇▆▄▄▄▁▂▃▁▃▃▄▄▄▃▃▄▅▄▃▄▃▄▂▂▃▃▃▃▂▄▄▂▃▃▄▃▂</td></tr><tr><td>train_accuracy</td><td>▁▇▇▇▇▇▇▇▇▇████▇███▇█████████████████████</td></tr><tr><td>train_auc_score</td><td>▁▆▇▇▇▇▇▇▇▇█▇█▇▇███▇█████████████████████</td></tr><tr><td>train_f1_score</td><td>▁▅▆▆▆▆▆▆▇▇▇▇▇▇▇▇▇▇▇▇▇▇▇▇▇▇██████▇███████</td></tr><tr><td>train_fpr</td><td>█▂▂▂▂▂▁▁▂▁▁▁▁▁▁▁▁▁▂▁▁▁▁▁▁▁▁▁▁▁▁▁▁▁▁▁▁▁▁▁</td></tr><tr><td>train_loss</td><td>█▄▃▂▂▂▂▂▂▂▂▂▂▂▂▂▁▂▂▁▂▁▁▁▁▁▁▁▁▁▁▁▁▁▁▁▁▁▁▁</td></tr><tr><td>train_tpr</td><td>▃▁▄▃▃▄▃▃▆▄▄▄▅▆▅▆▆▅▆▇▇▇▇▆▇▇▇▇▇███▇▇▇▆███▇</td></tr></table><br/></div><div class=\"wandb-col\"><h3>Run summary:</h3><br/><table class=\"wandb\"><tr><td>epoch</td><td>39</td></tr><tr><td>lr</td><td>0.00015</td></tr><tr><td>test_accuracy</td><td>0.96363</td></tr><tr><td>test_auc_score</td><td>0.95925</td></tr><tr><td>test_f1_score</td><td>0.78552</td></tr><tr><td>test_fpr</td><td>0.03104</td></tr><tr><td>test_loss</td><td>-0.01556</td></tr><tr><td>test_tpr</td><td>0.7959</td></tr><tr><td>train_accuracy</td><td>0.98028</td></tr><tr><td>train_auc_score</td><td>0.98802</td></tr><tr><td>train_f1_score</td><td>0.9285</td></tr><tr><td>train_fpr</td><td>0.01425</td></tr><tr><td>train_loss</td><td>-0.02024</td></tr><tr><td>train_tpr</td><td>0.90964</td></tr></table><br/></div></div>"
      ],
      "text/plain": [
       "<IPython.core.display.HTML object>"
      ]
     },
     "metadata": {},
     "output_type": "display_data"
    },
    {
     "data": {
      "text/html": [
       " View run <strong style=\"color:#cdcd00\">EM_DWBLoss()_RUS-0.35</strong> at: <a href='https://wandb.ai/dmitrii_fomin_uga/Internship_project/runs/p7i6q7lk' target=\"_blank\">https://wandb.ai/dmitrii_fomin_uga/Internship_project/runs/p7i6q7lk</a><br/>Synced 5 W&B file(s), 0 media file(s), 0 artifact file(s) and 0 other file(s)"
      ],
      "text/plain": [
       "<IPython.core.display.HTML object>"
      ]
     },
     "metadata": {},
     "output_type": "display_data"
    },
    {
     "data": {
      "text/html": [
       "Find logs at: <code>../logs/wandb\\run-20230705_101836-p7i6q7lk\\logs</code>"
      ],
      "text/plain": [
       "<IPython.core.display.HTML object>"
      ]
     },
     "metadata": {},
     "output_type": "display_data"
    },
    {
     "data": {
      "text/html": [
       "Tracking run with wandb version 0.15.4"
      ],
      "text/plain": [
       "<IPython.core.display.HTML object>"
      ]
     },
     "metadata": {},
     "output_type": "display_data"
    },
    {
     "data": {
      "text/html": [
       "Run data is saved locally in <code>../logs/wandb\\run-20230705_101852-o0oov6n5</code>"
      ],
      "text/plain": [
       "<IPython.core.display.HTML object>"
      ]
     },
     "metadata": {},
     "output_type": "display_data"
    },
    {
     "data": {
      "text/html": [
       "Syncing run <strong><a href='https://wandb.ai/dmitrii_fomin_uga/Internship_project/runs/o0oov6n5' target=\"_blank\">EM_DWBLoss()_RUS-0.4</a></strong> to <a href='https://wandb.ai/dmitrii_fomin_uga/Internship_project' target=\"_blank\">Weights & Biases</a> (<a href='https://wandb.me/run' target=\"_blank\">docs</a>)<br/>"
      ],
      "text/plain": [
       "<IPython.core.display.HTML object>"
      ]
     },
     "metadata": {},
     "output_type": "display_data"
    },
    {
     "data": {
      "text/html": [
       " View project at <a href='https://wandb.ai/dmitrii_fomin_uga/Internship_project' target=\"_blank\">https://wandb.ai/dmitrii_fomin_uga/Internship_project</a>"
      ],
      "text/plain": [
       "<IPython.core.display.HTML object>"
      ]
     },
     "metadata": {},
     "output_type": "display_data"
    },
    {
     "data": {
      "text/html": [
       " View run at <a href='https://wandb.ai/dmitrii_fomin_uga/Internship_project/runs/o0oov6n5' target=\"_blank\">https://wandb.ai/dmitrii_fomin_uga/Internship_project/runs/o0oov6n5</a>"
      ],
      "text/plain": [
       "<IPython.core.display.HTML object>"
      ]
     },
     "metadata": {},
     "output_type": "display_data"
    },
    {
     "data": {
      "text/html": [
       "Waiting for W&B process to finish... <strong style=\"color:green\">(success).</strong>"
      ],
      "text/plain": [
       "<IPython.core.display.HTML object>"
      ]
     },
     "metadata": {},
     "output_type": "display_data"
    },
    {
     "data": {
      "text/html": [
       "<style>\n",
       "    table.wandb td:nth-child(1) { padding: 0 10px; text-align: left ; width: auto;} td:nth-child(2) {text-align: left ; width: 100%}\n",
       "    .wandb-row { display: flex; flex-direction: row; flex-wrap: wrap; justify-content: flex-start; width: 100% }\n",
       "    .wandb-col { display: flex; flex-direction: column; flex-basis: 100%; flex: 1; padding: 10px; }\n",
       "    </style>\n",
       "<div class=\"wandb-row\"><div class=\"wandb-col\"><h3>Run history:</h3><br/><table class=\"wandb\"><tr><td>epoch</td><td>▁▁▁▂▂▂▂▂▂▃▃▃▃▃▄▄▄▄▄▄▅▅▅▅▅▅▆▆▆▆▆▇▇▇▇▇▇███</td></tr><tr><td>lr</td><td>█▇▇▆▆▅▅▄▄▄▃▃▃▃▃▂▂▂▂▂▂▂▂▂▁▁▁▁▁▁▁▁▁▁▁▁▁▁▁▁</td></tr><tr><td>test_accuracy</td><td>▁▆▇▇▇█▇█████████████████████████████████</td></tr><tr><td>test_auc_score</td><td>▁▁▁▃▂▅▅▆▇▇▇▇▇▇▇▇████████▇▇███▇▇▇█▇█▇▇▇▇▇</td></tr><tr><td>test_f1_score</td><td>▁▅▆▆▆▇▇▇▇███████████████████████████████</td></tr><tr><td>test_fpr</td><td>█▃▂▂▂▂▂▁▁▁▁▁▁▁▁▁▁▁▁▁▁▁▁▁▁▁▁▁▁▁▁▁▁▁▁▁▁▁▁▁</td></tr><tr><td>test_loss</td><td>█▄▂▂▂▂▂▁▁▁▁▁▁▁▁▁▁▁▁▁▁▁▁▁▁▁▁▁▁▁▁▁▁▁▁▁▁▁▁▁</td></tr><tr><td>test_tpr</td><td>█▅▃▄▂▃▃▂▃▁▂▁▃▃▁▃▂▃▃▁▂▃▂▃▄▂▂▂▂▁▂▂▂▂▂▂▂▂▂▂</td></tr><tr><td>train_accuracy</td><td>▁▇▇▇▇▇▇▇▇███████████████████████████████</td></tr><tr><td>train_auc_score</td><td>▁▆▆▆▇▇▇▇▇▇▇▇████████████████████████████</td></tr><tr><td>train_f1_score</td><td>▁▅▅▆▆▆▆▆▇▇▇▇▇▇▇▇▇▇▇█▇▇█▇▇▇▇█████████████</td></tr><tr><td>train_fpr</td><td>█▂▂▂▂▂▂▂▂▁▁▁▁▁▁▁▁▁▁▁▁▁▁▁▁▁▁▁▁▁▁▁▁▁▁▁▁▁▁▁</td></tr><tr><td>train_loss</td><td>█▄▃▃▃▃▂▂▂▂▂▂▂▂▂▂▂▂▂▁▁▁▁▂▁▁▁▁▁▁▁▁▁▁▁▁▁▁▁▁</td></tr><tr><td>train_tpr</td><td>▁▃▄▃▂▃▃▄▄▄▄▄▄▅▄▄▅▅▄▅▅▅▅▄▆▅▅▆▆▇▇▇▇▇▇▇▇██▇</td></tr></table><br/></div><div class=\"wandb-col\"><h3>Run summary:</h3><br/><table class=\"wandb\"><tr><td>epoch</td><td>39</td></tr><tr><td>lr</td><td>0.00015</td></tr><tr><td>test_accuracy</td><td>0.96496</td></tr><tr><td>test_auc_score</td><td>0.96184</td></tr><tr><td>test_f1_score</td><td>0.79675</td></tr><tr><td>test_fpr</td><td>0.02973</td></tr><tr><td>test_loss</td><td>-0.01639</td></tr><tr><td>test_tpr</td><td>0.81441</td></tr><tr><td>train_accuracy</td><td>0.98449</td></tr><tr><td>train_auc_score</td><td>0.98863</td></tr><tr><td>train_f1_score</td><td>0.94266</td></tr><tr><td>train_fpr</td><td>0.00915</td></tr><tr><td>train_loss</td><td>-0.02006</td></tr><tr><td>train_tpr</td><td>0.9101</td></tr></table><br/></div></div>"
      ],
      "text/plain": [
       "<IPython.core.display.HTML object>"
      ]
     },
     "metadata": {},
     "output_type": "display_data"
    },
    {
     "data": {
      "text/html": [
       " View run <strong style=\"color:#cdcd00\">EM_DWBLoss()_RUS-0.4</strong> at: <a href='https://wandb.ai/dmitrii_fomin_uga/Internship_project/runs/o0oov6n5' target=\"_blank\">https://wandb.ai/dmitrii_fomin_uga/Internship_project/runs/o0oov6n5</a><br/>Synced 5 W&B file(s), 0 media file(s), 0 artifact file(s) and 0 other file(s)"
      ],
      "text/plain": [
       "<IPython.core.display.HTML object>"
      ]
     },
     "metadata": {},
     "output_type": "display_data"
    },
    {
     "data": {
      "text/html": [
       "Find logs at: <code>../logs/wandb\\run-20230705_101852-o0oov6n5\\logs</code>"
      ],
      "text/plain": [
       "<IPython.core.display.HTML object>"
      ]
     },
     "metadata": {},
     "output_type": "display_data"
    },
    {
     "data": {
      "text/html": [
       "Tracking run with wandb version 0.15.4"
      ],
      "text/plain": [
       "<IPython.core.display.HTML object>"
      ]
     },
     "metadata": {},
     "output_type": "display_data"
    },
    {
     "data": {
      "text/html": [
       "Run data is saved locally in <code>../logs/wandb\\run-20230705_101906-qngoj72t</code>"
      ],
      "text/plain": [
       "<IPython.core.display.HTML object>"
      ]
     },
     "metadata": {},
     "output_type": "display_data"
    },
    {
     "data": {
      "text/html": [
       "Syncing run <strong><a href='https://wandb.ai/dmitrii_fomin_uga/Internship_project/runs/qngoj72t' target=\"_blank\">EM_DWBLoss()_RUS-0.45</a></strong> to <a href='https://wandb.ai/dmitrii_fomin_uga/Internship_project' target=\"_blank\">Weights & Biases</a> (<a href='https://wandb.me/run' target=\"_blank\">docs</a>)<br/>"
      ],
      "text/plain": [
       "<IPython.core.display.HTML object>"
      ]
     },
     "metadata": {},
     "output_type": "display_data"
    },
    {
     "data": {
      "text/html": [
       " View project at <a href='https://wandb.ai/dmitrii_fomin_uga/Internship_project' target=\"_blank\">https://wandb.ai/dmitrii_fomin_uga/Internship_project</a>"
      ],
      "text/plain": [
       "<IPython.core.display.HTML object>"
      ]
     },
     "metadata": {},
     "output_type": "display_data"
    },
    {
     "data": {
      "text/html": [
       " View run at <a href='https://wandb.ai/dmitrii_fomin_uga/Internship_project/runs/qngoj72t' target=\"_blank\">https://wandb.ai/dmitrii_fomin_uga/Internship_project/runs/qngoj72t</a>"
      ],
      "text/plain": [
       "<IPython.core.display.HTML object>"
      ]
     },
     "metadata": {},
     "output_type": "display_data"
    },
    {
     "data": {
      "text/html": [
       "Waiting for W&B process to finish... <strong style=\"color:green\">(success).</strong>"
      ],
      "text/plain": [
       "<IPython.core.display.HTML object>"
      ]
     },
     "metadata": {},
     "output_type": "display_data"
    },
    {
     "data": {
      "text/html": [
       "<style>\n",
       "    table.wandb td:nth-child(1) { padding: 0 10px; text-align: left ; width: auto;} td:nth-child(2) {text-align: left ; width: 100%}\n",
       "    .wandb-row { display: flex; flex-direction: row; flex-wrap: wrap; justify-content: flex-start; width: 100% }\n",
       "    .wandb-col { display: flex; flex-direction: column; flex-basis: 100%; flex: 1; padding: 10px; }\n",
       "    </style>\n",
       "<div class=\"wandb-row\"><div class=\"wandb-col\"><h3>Run history:</h3><br/><table class=\"wandb\"><tr><td>epoch</td><td>▁▁▁▂▂▂▂▂▂▃▃▃▃▃▄▄▄▄▄▄▅▅▅▅▅▅▆▆▆▆▆▇▇▇▇▇▇███</td></tr><tr><td>lr</td><td>█▇▇▆▆▅▅▄▄▄▃▃▃▃▃▂▂▂▂▂▂▂▂▂▁▁▁▁▁▁▁▁▁▁▁▁▁▁▁▁</td></tr><tr><td>test_accuracy</td><td>▁▄▇█████████████████████████████████████</td></tr><tr><td>test_auc_score</td><td>▁▄▆▆▇▇▅▇▇▇▇▇█▇▇█▇▇██▇▇██████████████████</td></tr><tr><td>test_f1_score</td><td>▁▄▆▇▇▇▇▇▇▇█████▇█████▇▇█████████████████</td></tr><tr><td>test_fpr</td><td>█▅▂▁▁▁▁▁▁▁▁▁▁▁▁▁▁▁▁▁▁▁▁▁▁▁▁▁▁▁▁▁▁▁▁▁▁▁▁▁</td></tr><tr><td>test_loss</td><td>█▅▂▂▁▁▁▁▁▁▁▁▁▁▁▁▁▁▁▁▁▁▁▁▁▁▁▁▁▁▁▁▁▁▁▁▁▁▁▁</td></tr><tr><td>test_tpr</td><td>█▆▆▃▃▄▂▄▄▂▁▄▄▂▄▅▄▃▄▄▂▂▃▃▃▃▃▃▄▃▃▄▄▄▄▄▄▃▄▃</td></tr><tr><td>train_accuracy</td><td>▁▇▇▇▇▇▇█████████████████████████████████</td></tr><tr><td>train_auc_score</td><td>▁▅▆▇▇▇▇▇▇▇▇█████████████████████████████</td></tr><tr><td>train_f1_score</td><td>▁▅▆▆▆▇▆▇▇▇▇▇▇▇▇▇▇▇▇▇▇▇▇▇▇███▇███████████</td></tr><tr><td>train_fpr</td><td>█▂▂▁▁▁▁▁▁▁▁▁▁▁▁▁▁▁▁▁▁▁▁▁▁▁▁▁▁▁▁▁▁▁▁▁▁▁▁▁</td></tr><tr><td>train_loss</td><td>█▄▃▃▂▂▂▂▂▂▂▂▂▂▂▂▂▁▁▂▁▂▁▁▁▁▁▁▁▁▁▁▁▁▁▁▁▁▁▁</td></tr><tr><td>train_tpr</td><td>▁▂▂▁▁▂▂▂▄▃▄▄▅▅▄▅▄▆▅▅▅▅▇▆▇▇▇▇▇█▇▇▇█████▇█</td></tr></table><br/></div><div class=\"wandb-col\"><h3>Run summary:</h3><br/><table class=\"wandb\"><tr><td>epoch</td><td>39</td></tr><tr><td>lr</td><td>0.00015</td></tr><tr><td>test_accuracy</td><td>0.96641</td></tr><tr><td>test_auc_score</td><td>0.95856</td></tr><tr><td>test_f1_score</td><td>0.80114</td></tr><tr><td>test_fpr</td><td>0.02825</td></tr><tr><td>test_loss</td><td>-0.01603</td></tr><tr><td>test_tpr</td><td>0.81327</td></tr><tr><td>train_accuracy</td><td>0.98737</td></tr><tr><td>train_auc_score</td><td>0.99016</td></tr><tr><td>train_f1_score</td><td>0.95209</td></tr><tr><td>train_fpr</td><td>0.00993</td></tr><tr><td>train_loss</td><td>-0.02277</td></tr><tr><td>train_tpr</td><td>0.95042</td></tr></table><br/></div></div>"
      ],
      "text/plain": [
       "<IPython.core.display.HTML object>"
      ]
     },
     "metadata": {},
     "output_type": "display_data"
    },
    {
     "data": {
      "text/html": [
       " View run <strong style=\"color:#cdcd00\">EM_DWBLoss()_RUS-0.45</strong> at: <a href='https://wandb.ai/dmitrii_fomin_uga/Internship_project/runs/qngoj72t' target=\"_blank\">https://wandb.ai/dmitrii_fomin_uga/Internship_project/runs/qngoj72t</a><br/>Synced 5 W&B file(s), 0 media file(s), 0 artifact file(s) and 0 other file(s)"
      ],
      "text/plain": [
       "<IPython.core.display.HTML object>"
      ]
     },
     "metadata": {},
     "output_type": "display_data"
    },
    {
     "data": {
      "text/html": [
       "Find logs at: <code>../logs/wandb\\run-20230705_101906-qngoj72t\\logs</code>"
      ],
      "text/plain": [
       "<IPython.core.display.HTML object>"
      ]
     },
     "metadata": {},
     "output_type": "display_data"
    },
    {
     "data": {
      "text/html": [
       "Tracking run with wandb version 0.15.4"
      ],
      "text/plain": [
       "<IPython.core.display.HTML object>"
      ]
     },
     "metadata": {},
     "output_type": "display_data"
    },
    {
     "data": {
      "text/html": [
       "Run data is saved locally in <code>../logs/wandb\\run-20230705_101921-7q1uwft8</code>"
      ],
      "text/plain": [
       "<IPython.core.display.HTML object>"
      ]
     },
     "metadata": {},
     "output_type": "display_data"
    },
    {
     "data": {
      "text/html": [
       "Syncing run <strong><a href='https://wandb.ai/dmitrii_fomin_uga/Internship_project/runs/7q1uwft8' target=\"_blank\">EM_DWBLoss()_RUS-0.5</a></strong> to <a href='https://wandb.ai/dmitrii_fomin_uga/Internship_project' target=\"_blank\">Weights & Biases</a> (<a href='https://wandb.me/run' target=\"_blank\">docs</a>)<br/>"
      ],
      "text/plain": [
       "<IPython.core.display.HTML object>"
      ]
     },
     "metadata": {},
     "output_type": "display_data"
    },
    {
     "data": {
      "text/html": [
       " View project at <a href='https://wandb.ai/dmitrii_fomin_uga/Internship_project' target=\"_blank\">https://wandb.ai/dmitrii_fomin_uga/Internship_project</a>"
      ],
      "text/plain": [
       "<IPython.core.display.HTML object>"
      ]
     },
     "metadata": {},
     "output_type": "display_data"
    },
    {
     "data": {
      "text/html": [
       " View run at <a href='https://wandb.ai/dmitrii_fomin_uga/Internship_project/runs/7q1uwft8' target=\"_blank\">https://wandb.ai/dmitrii_fomin_uga/Internship_project/runs/7q1uwft8</a>"
      ],
      "text/plain": [
       "<IPython.core.display.HTML object>"
      ]
     },
     "metadata": {},
     "output_type": "display_data"
    },
    {
     "data": {
      "text/html": [
       "Waiting for W&B process to finish... <strong style=\"color:green\">(success).</strong>"
      ],
      "text/plain": [
       "<IPython.core.display.HTML object>"
      ]
     },
     "metadata": {},
     "output_type": "display_data"
    },
    {
     "data": {
      "text/html": [
       "<style>\n",
       "    table.wandb td:nth-child(1) { padding: 0 10px; text-align: left ; width: auto;} td:nth-child(2) {text-align: left ; width: 100%}\n",
       "    .wandb-row { display: flex; flex-direction: row; flex-wrap: wrap; justify-content: flex-start; width: 100% }\n",
       "    .wandb-col { display: flex; flex-direction: column; flex-basis: 100%; flex: 1; padding: 10px; }\n",
       "    </style>\n",
       "<div class=\"wandb-row\"><div class=\"wandb-col\"><h3>Run history:</h3><br/><table class=\"wandb\"><tr><td>epoch</td><td>▁▁▁▂▂▂▂▂▂▃▃▃▃▃▄▄▄▄▄▄▅▅▅▅▅▅▆▆▆▆▆▇▇▇▇▇▇███</td></tr><tr><td>lr</td><td>█▇▇▆▆▅▅▄▄▄▃▃▃▃▃▂▂▂▂▂▂▂▂▂▁▁▁▁▁▁▁▁▁▁▁▁▁▁▁▁</td></tr><tr><td>test_accuracy</td><td>▁▅▇▇▇███████████████████████████████████</td></tr><tr><td>test_auc_score</td><td>▁▃▃▅▆▄▆▆▇▇▇▇▇▇▇▇▇█▇█████████████████████</td></tr><tr><td>test_f1_score</td><td>▁▄▅▆▆▆▇▇▇█▇██████▇██████████████████████</td></tr><tr><td>test_fpr</td><td>█▄▂▂▂▁▁▁▁▁▁▁▁▁▁▁▁▁▁▁▁▁▁▁▁▁▁▁▁▁▁▁▁▁▁▁▁▁▁▁</td></tr><tr><td>test_loss</td><td>█▄▂▂▂▂▁▁▁▁▁▁▁▁▁▁▁▁▁▁▁▁▁▁▁▁▁▁▁▁▁▁▁▁▁▁▁▁▁▁</td></tr><tr><td>test_tpr</td><td>█▅▄▄▃▂▃▂▃▁▂▁▁▁▃▃▃▃▂▁▃▃▃▂▃▃▃▃▃▃▃▂▂▂▃▃▄▃▃▂</td></tr><tr><td>train_accuracy</td><td>▁▇▇▇▇▇▇▇▇▇▇▇█████▇██████████████████████</td></tr><tr><td>train_auc_score</td><td>▁▆▆▇▇▇▇▇▇▇█▇████████████████████████████</td></tr><tr><td>train_f1_score</td><td>▁▅▆▆▆▆▆▇▇▇▇▇▇▇▇▇▇▇▇▇▇▇▇▇▇▇██████████████</td></tr><tr><td>train_fpr</td><td>█▂▂▂▂▂▁▁▁▁▁▁▁▁▁▁▁▁▁▁▁▁▁▁▁▁▁▁▁▁▁▁▁▁▁▁▁▁▁▁</td></tr><tr><td>train_loss</td><td>█▄▃▃▂▂▂▂▂▂▂▂▂▂▂▂▂▂▂▁▁▁▁▁▁▁▁▁▁▁▁▁▁▁▁▁▁▁▁▁</td></tr><tr><td>train_tpr</td><td>▂▁▂▄▃▃▃▄▄▅▄▆▅▅▆▅▄▆▆▆▆▇▇▇▆▇▇▇▇▇▇█▇▇▇█████</td></tr></table><br/></div><div class=\"wandb-col\"><h3>Run summary:</h3><br/><table class=\"wandb\"><tr><td>epoch</td><td>39</td></tr><tr><td>lr</td><td>0.00015</td></tr><tr><td>test_accuracy</td><td>0.96756</td></tr><tr><td>test_auc_score</td><td>0.97453</td></tr><tr><td>test_f1_score</td><td>0.80624</td></tr><tr><td>test_fpr</td><td>0.0274</td></tr><tr><td>test_loss</td><td>-0.01703</td></tr><tr><td>test_tpr</td><td>0.81657</td></tr><tr><td>train_accuracy</td><td>0.98977</td></tr><tr><td>train_auc_score</td><td>0.99342</td></tr><tr><td>train_f1_score</td><td>0.96193</td></tr><tr><td>train_fpr</td><td>0.00745</td></tr><tr><td>train_loss</td><td>-0.02417</td></tr><tr><td>train_tpr</td><td>0.95389</td></tr></table><br/></div></div>"
      ],
      "text/plain": [
       "<IPython.core.display.HTML object>"
      ]
     },
     "metadata": {},
     "output_type": "display_data"
    },
    {
     "data": {
      "text/html": [
       " View run <strong style=\"color:#cdcd00\">EM_DWBLoss()_RUS-0.5</strong> at: <a href='https://wandb.ai/dmitrii_fomin_uga/Internship_project/runs/7q1uwft8' target=\"_blank\">https://wandb.ai/dmitrii_fomin_uga/Internship_project/runs/7q1uwft8</a><br/>Synced 5 W&B file(s), 0 media file(s), 0 artifact file(s) and 0 other file(s)"
      ],
      "text/plain": [
       "<IPython.core.display.HTML object>"
      ]
     },
     "metadata": {},
     "output_type": "display_data"
    },
    {
     "data": {
      "text/html": [
       "Find logs at: <code>../logs/wandb\\run-20230705_101921-7q1uwft8\\logs</code>"
      ],
      "text/plain": [
       "<IPython.core.display.HTML object>"
      ]
     },
     "metadata": {},
     "output_type": "display_data"
    },
    {
     "data": {
      "text/html": [
       "Tracking run with wandb version 0.15.4"
      ],
      "text/plain": [
       "<IPython.core.display.HTML object>"
      ]
     },
     "metadata": {},
     "output_type": "display_data"
    },
    {
     "data": {
      "text/html": [
       "Run data is saved locally in <code>../logs/wandb\\run-20230705_101933-6p5z63bv</code>"
      ],
      "text/plain": [
       "<IPython.core.display.HTML object>"
      ]
     },
     "metadata": {},
     "output_type": "display_data"
    },
    {
     "data": {
      "text/html": [
       "Syncing run <strong><a href='https://wandb.ai/dmitrii_fomin_uga/Internship_project/runs/6p5z63bv' target=\"_blank\">EM_DWBLoss()_RUS-0.55</a></strong> to <a href='https://wandb.ai/dmitrii_fomin_uga/Internship_project' target=\"_blank\">Weights & Biases</a> (<a href='https://wandb.me/run' target=\"_blank\">docs</a>)<br/>"
      ],
      "text/plain": [
       "<IPython.core.display.HTML object>"
      ]
     },
     "metadata": {},
     "output_type": "display_data"
    },
    {
     "data": {
      "text/html": [
       " View project at <a href='https://wandb.ai/dmitrii_fomin_uga/Internship_project' target=\"_blank\">https://wandb.ai/dmitrii_fomin_uga/Internship_project</a>"
      ],
      "text/plain": [
       "<IPython.core.display.HTML object>"
      ]
     },
     "metadata": {},
     "output_type": "display_data"
    },
    {
     "data": {
      "text/html": [
       " View run at <a href='https://wandb.ai/dmitrii_fomin_uga/Internship_project/runs/6p5z63bv' target=\"_blank\">https://wandb.ai/dmitrii_fomin_uga/Internship_project/runs/6p5z63bv</a>"
      ],
      "text/plain": [
       "<IPython.core.display.HTML object>"
      ]
     },
     "metadata": {},
     "output_type": "display_data"
    },
    {
     "data": {
      "text/html": [
       "Waiting for W&B process to finish... <strong style=\"color:green\">(success).</strong>"
      ],
      "text/plain": [
       "<IPython.core.display.HTML object>"
      ]
     },
     "metadata": {},
     "output_type": "display_data"
    },
    {
     "data": {
      "text/html": [
       "<style>\n",
       "    table.wandb td:nth-child(1) { padding: 0 10px; text-align: left ; width: auto;} td:nth-child(2) {text-align: left ; width: 100%}\n",
       "    .wandb-row { display: flex; flex-direction: row; flex-wrap: wrap; justify-content: flex-start; width: 100% }\n",
       "    .wandb-col { display: flex; flex-direction: column; flex-basis: 100%; flex: 1; padding: 10px; }\n",
       "    </style>\n",
       "<div class=\"wandb-row\"><div class=\"wandb-col\"><h3>Run history:</h3><br/><table class=\"wandb\"><tr><td>epoch</td><td>▁▁▁▂▂▂▂▂▂▃▃▃▃▃▄▄▄▄▄▄▅▅▅▅▅▅▆▆▆▆▆▇▇▇▇▇▇███</td></tr><tr><td>lr</td><td>█▇▇▆▆▅▅▄▄▄▃▃▃▃▃▂▂▂▂▂▂▂▂▂▁▁▁▁▁▁▁▁▁▁▁▁▁▁▁▁</td></tr><tr><td>test_accuracy</td><td>▁▆▇▇████████████████████████████████████</td></tr><tr><td>test_auc_score</td><td>▁▂▂▆▇█▇▇█▇█▇██▆▇█▇▇█▇▇▇█▆▇▇▆▆▇▆▅▅▆▅▅▆▅▄▅</td></tr><tr><td>test_f1_score</td><td>▁▅▆▆▇▇▇▇▇▇█▇▇▇▇▇████████████████████████</td></tr><tr><td>test_fpr</td><td>█▃▂▂▁▁▁▁▁▁▁▁▁▁▁▁▁▁▁▁▁▁▁▁▁▁▁▁▁▁▁▁▁▁▁▁▁▁▁▁</td></tr><tr><td>test_loss</td><td>█▄▂▂▁▁▁▂▁▁▁▁▁▁▁▁▁▁▁▁▁▁▁▁▁▁▁▁▁▁▁▁▁▁▁▁▁▁▁▁</td></tr><tr><td>test_tpr</td><td>█▆▄▄▄▃▄▄▃▃▂▃▄▃▁▃▃▂▃▃▁▂▃▃▂▄▂▂▂▃▃▂▂▂▃▂▃▃▂▂</td></tr><tr><td>train_accuracy</td><td>▁▇▇▇▇▇▇▇▇█▇▇████████████████████████████</td></tr><tr><td>train_auc_score</td><td>▁▆▆▇▇▇▇▇▇▇▇▇▇███████████████████████████</td></tr><tr><td>train_f1_score</td><td>▁▅▆▆▆▆▆▆▇▇▇▇▇▇▇▇▇▇▇▇▇▇▇█████████████████</td></tr><tr><td>train_fpr</td><td>█▂▂▂▁▁▁▁▁▁▁▁▁▁▁▁▁▁▁▁▁▁▁▁▁▁▁▁▁▁▁▁▁▁▁▁▁▁▁▁</td></tr><tr><td>train_loss</td><td>█▄▃▃▂▂▂▂▂▂▂▂▂▂▂▂▁▁▁▁▁▁▁▁▁▁▁▁▁▁▁▁▁▁▁▁▁▁▁▁</td></tr><tr><td>train_tpr</td><td>▁▂▂▃▃▃▃▃▅▃▄▅▅▆▅▆▇▆▆▆▇▇██▇▇▇█▇▇██████████</td></tr></table><br/></div><div class=\"wandb-col\"><h3>Run summary:</h3><br/><table class=\"wandb\"><tr><td>epoch</td><td>39</td></tr><tr><td>lr</td><td>0.00015</td></tr><tr><td>test_accuracy</td><td>0.96816</td></tr><tr><td>test_auc_score</td><td>0.93874</td></tr><tr><td>test_f1_score</td><td>0.80662</td></tr><tr><td>test_fpr</td><td>0.0268</td></tr><tr><td>test_loss</td><td>-0.01657</td></tr><tr><td>test_tpr</td><td>0.81621</td></tr><tr><td>train_accuracy</td><td>0.98939</td></tr><tr><td>train_auc_score</td><td>0.99474</td></tr><tr><td>train_f1_score</td><td>0.95954</td></tr><tr><td>train_fpr</td><td>0.00862</td></tr><tr><td>train_loss</td><td>-0.02537</td></tr><tr><td>train_tpr</td><td>0.96227</td></tr></table><br/></div></div>"
      ],
      "text/plain": [
       "<IPython.core.display.HTML object>"
      ]
     },
     "metadata": {},
     "output_type": "display_data"
    },
    {
     "data": {
      "text/html": [
       " View run <strong style=\"color:#cdcd00\">EM_DWBLoss()_RUS-0.55</strong> at: <a href='https://wandb.ai/dmitrii_fomin_uga/Internship_project/runs/6p5z63bv' target=\"_blank\">https://wandb.ai/dmitrii_fomin_uga/Internship_project/runs/6p5z63bv</a><br/>Synced 5 W&B file(s), 0 media file(s), 0 artifact file(s) and 0 other file(s)"
      ],
      "text/plain": [
       "<IPython.core.display.HTML object>"
      ]
     },
     "metadata": {},
     "output_type": "display_data"
    },
    {
     "data": {
      "text/html": [
       "Find logs at: <code>../logs/wandb\\run-20230705_101933-6p5z63bv\\logs</code>"
      ],
      "text/plain": [
       "<IPython.core.display.HTML object>"
      ]
     },
     "metadata": {},
     "output_type": "display_data"
    },
    {
     "data": {
      "text/html": [
       "Tracking run with wandb version 0.15.4"
      ],
      "text/plain": [
       "<IPython.core.display.HTML object>"
      ]
     },
     "metadata": {},
     "output_type": "display_data"
    },
    {
     "data": {
      "text/html": [
       "Run data is saved locally in <code>../logs/wandb\\run-20230705_101945-hoh30zvh</code>"
      ],
      "text/plain": [
       "<IPython.core.display.HTML object>"
      ]
     },
     "metadata": {},
     "output_type": "display_data"
    },
    {
     "data": {
      "text/html": [
       "Syncing run <strong><a href='https://wandb.ai/dmitrii_fomin_uga/Internship_project/runs/hoh30zvh' target=\"_blank\">EM_DWBLoss()_RUS-0.6</a></strong> to <a href='https://wandb.ai/dmitrii_fomin_uga/Internship_project' target=\"_blank\">Weights & Biases</a> (<a href='https://wandb.me/run' target=\"_blank\">docs</a>)<br/>"
      ],
      "text/plain": [
       "<IPython.core.display.HTML object>"
      ]
     },
     "metadata": {},
     "output_type": "display_data"
    },
    {
     "data": {
      "text/html": [
       " View project at <a href='https://wandb.ai/dmitrii_fomin_uga/Internship_project' target=\"_blank\">https://wandb.ai/dmitrii_fomin_uga/Internship_project</a>"
      ],
      "text/plain": [
       "<IPython.core.display.HTML object>"
      ]
     },
     "metadata": {},
     "output_type": "display_data"
    },
    {
     "data": {
      "text/html": [
       " View run at <a href='https://wandb.ai/dmitrii_fomin_uga/Internship_project/runs/hoh30zvh' target=\"_blank\">https://wandb.ai/dmitrii_fomin_uga/Internship_project/runs/hoh30zvh</a>"
      ],
      "text/plain": [
       "<IPython.core.display.HTML object>"
      ]
     },
     "metadata": {},
     "output_type": "display_data"
    },
    {
     "data": {
      "text/html": [
       "Waiting for W&B process to finish... <strong style=\"color:green\">(success).</strong>"
      ],
      "text/plain": [
       "<IPython.core.display.HTML object>"
      ]
     },
     "metadata": {},
     "output_type": "display_data"
    },
    {
     "data": {
      "text/html": [
       "<style>\n",
       "    table.wandb td:nth-child(1) { padding: 0 10px; text-align: left ; width: auto;} td:nth-child(2) {text-align: left ; width: 100%}\n",
       "    .wandb-row { display: flex; flex-direction: row; flex-wrap: wrap; justify-content: flex-start; width: 100% }\n",
       "    .wandb-col { display: flex; flex-direction: column; flex-basis: 100%; flex: 1; padding: 10px; }\n",
       "    </style>\n",
       "<div class=\"wandb-row\"><div class=\"wandb-col\"><h3>Run history:</h3><br/><table class=\"wandb\"><tr><td>epoch</td><td>▁▁▁▂▂▂▂▂▂▃▃▃▃▃▄▄▄▄▄▄▅▅▅▅▅▅▆▆▆▆▆▇▇▇▇▇▇███</td></tr><tr><td>lr</td><td>█▇▇▆▆▅▅▄▄▄▃▃▃▃▃▂▂▂▂▂▂▂▂▂▁▁▁▁▁▁▁▁▁▁▁▁▁▁▁▁</td></tr><tr><td>test_accuracy</td><td>▁▅▇▇▇███████████████████████████████████</td></tr><tr><td>test_auc_score</td><td>▁▅▆▆▇▇▇▆▇▇▇▇██████████▇█████████████████</td></tr><tr><td>test_f1_score</td><td>▁▄▅▆▆▇▇▇▇▇▇▇███▇████████████████████████</td></tr><tr><td>test_fpr</td><td>█▄▂▂▂▁▁▁▁▁▁▁▁▁▁▁▁▁▁▁▁▁▁▁▁▁▁▁▁▁▁▁▁▁▁▁▁▁▁▁</td></tr><tr><td>test_loss</td><td>█▅▃▂▂▁▁▁▂▁▁▁▁▁▁▁▁▁▁▁▁▁▁▁▁▁▁▁▁▁▁▁▁▁▁▁▁▁▁▁</td></tr><tr><td>test_tpr</td><td>▆█▆▄▅▃▃▁▄▂▃▃▃▄▃▃▅▃▁▃▃▃▂▄▂▄▅▂▂▃▄▅▂▄▄▃▄▃▃▃</td></tr><tr><td>train_accuracy</td><td>▁▇▇▇▇▇▇▇▇▇██████████████████████████████</td></tr><tr><td>train_auc_score</td><td>▁▆▇▇▇▇▇▇▇▇▇▇██▇█████████████████████████</td></tr><tr><td>train_f1_score</td><td>▁▅▆▆▆▆▇▆▆▇▇▇▇▇▇▇▇▇▇██▇██████████████████</td></tr><tr><td>train_fpr</td><td>█▂▂▂▂▂▁▁▂▁▁▁▁▁▁▁▁▁▁▁▁▁▁▁▁▁▁▁▁▁▁▁▁▁▁▁▁▁▁▁</td></tr><tr><td>train_loss</td><td>█▄▃▂▂▂▂▂▂▂▂▂▂▂▂▁▁▁▁▁▁▁▁▁▁▁▁▁▁▁▁▁▁▁▁▁▁▁▁▁</td></tr><tr><td>train_tpr</td><td>▁▃▄▄▅▅▅▅▆▆▅▆▆▆▆▆▇▇▇▇▇▇▇▇▇▇▇██▇▇████▇████</td></tr></table><br/></div><div class=\"wandb-col\"><h3>Run summary:</h3><br/><table class=\"wandb\"><tr><td>epoch</td><td>39</td></tr><tr><td>lr</td><td>0.00015</td></tr><tr><td>test_accuracy</td><td>0.96543</td></tr><tr><td>test_auc_score</td><td>0.97198</td></tr><tr><td>test_f1_score</td><td>0.79643</td></tr><tr><td>test_fpr</td><td>0.02882</td></tr><tr><td>test_loss</td><td>-0.0154</td></tr><tr><td>test_tpr</td><td>0.80938</td></tr><tr><td>train_accuracy</td><td>0.98734</td></tr><tr><td>train_auc_score</td><td>0.99266</td></tr><tr><td>train_f1_score</td><td>0.95058</td></tr><tr><td>train_fpr</td><td>0.00882</td></tr><tr><td>train_loss</td><td>-0.02327</td></tr><tr><td>train_tpr</td><td>0.93894</td></tr></table><br/></div></div>"
      ],
      "text/plain": [
       "<IPython.core.display.HTML object>"
      ]
     },
     "metadata": {},
     "output_type": "display_data"
    },
    {
     "data": {
      "text/html": [
       " View run <strong style=\"color:#cdcd00\">EM_DWBLoss()_RUS-0.6</strong> at: <a href='https://wandb.ai/dmitrii_fomin_uga/Internship_project/runs/hoh30zvh' target=\"_blank\">https://wandb.ai/dmitrii_fomin_uga/Internship_project/runs/hoh30zvh</a><br/>Synced 5 W&B file(s), 0 media file(s), 0 artifact file(s) and 0 other file(s)"
      ],
      "text/plain": [
       "<IPython.core.display.HTML object>"
      ]
     },
     "metadata": {},
     "output_type": "display_data"
    },
    {
     "data": {
      "text/html": [
       "Find logs at: <code>../logs/wandb\\run-20230705_101945-hoh30zvh\\logs</code>"
      ],
      "text/plain": [
       "<IPython.core.display.HTML object>"
      ]
     },
     "metadata": {},
     "output_type": "display_data"
    },
    {
     "data": {
      "text/html": [
       "Tracking run with wandb version 0.15.4"
      ],
      "text/plain": [
       "<IPython.core.display.HTML object>"
      ]
     },
     "metadata": {},
     "output_type": "display_data"
    },
    {
     "data": {
      "text/html": [
       "Run data is saved locally in <code>../logs/wandb\\run-20230705_101957-49izczei</code>"
      ],
      "text/plain": [
       "<IPython.core.display.HTML object>"
      ]
     },
     "metadata": {},
     "output_type": "display_data"
    },
    {
     "data": {
      "text/html": [
       "Syncing run <strong><a href='https://wandb.ai/dmitrii_fomin_uga/Internship_project/runs/49izczei' target=\"_blank\">EM_DWBLoss()_RUS-0.7</a></strong> to <a href='https://wandb.ai/dmitrii_fomin_uga/Internship_project' target=\"_blank\">Weights & Biases</a> (<a href='https://wandb.me/run' target=\"_blank\">docs</a>)<br/>"
      ],
      "text/plain": [
       "<IPython.core.display.HTML object>"
      ]
     },
     "metadata": {},
     "output_type": "display_data"
    },
    {
     "data": {
      "text/html": [
       " View project at <a href='https://wandb.ai/dmitrii_fomin_uga/Internship_project' target=\"_blank\">https://wandb.ai/dmitrii_fomin_uga/Internship_project</a>"
      ],
      "text/plain": [
       "<IPython.core.display.HTML object>"
      ]
     },
     "metadata": {},
     "output_type": "display_data"
    },
    {
     "data": {
      "text/html": [
       " View run at <a href='https://wandb.ai/dmitrii_fomin_uga/Internship_project/runs/49izczei' target=\"_blank\">https://wandb.ai/dmitrii_fomin_uga/Internship_project/runs/49izczei</a>"
      ],
      "text/plain": [
       "<IPython.core.display.HTML object>"
      ]
     },
     "metadata": {},
     "output_type": "display_data"
    },
    {
     "data": {
      "text/html": [
       "Waiting for W&B process to finish... <strong style=\"color:green\">(success).</strong>"
      ],
      "text/plain": [
       "<IPython.core.display.HTML object>"
      ]
     },
     "metadata": {},
     "output_type": "display_data"
    },
    {
     "data": {
      "text/html": [
       "<style>\n",
       "    table.wandb td:nth-child(1) { padding: 0 10px; text-align: left ; width: auto;} td:nth-child(2) {text-align: left ; width: 100%}\n",
       "    .wandb-row { display: flex; flex-direction: row; flex-wrap: wrap; justify-content: flex-start; width: 100% }\n",
       "    .wandb-col { display: flex; flex-direction: column; flex-basis: 100%; flex: 1; padding: 10px; }\n",
       "    </style>\n",
       "<div class=\"wandb-row\"><div class=\"wandb-col\"><h3>Run history:</h3><br/><table class=\"wandb\"><tr><td>epoch</td><td>▁▁▁▂▂▂▂▂▂▃▃▃▃▃▄▄▄▄▄▄▅▅▅▅▅▅▆▆▆▆▆▇▇▇▇▇▇███</td></tr><tr><td>lr</td><td>█▇▇▆▆▅▅▄▄▄▃▃▃▃▃▂▂▂▂▂▂▂▂▂▁▁▁▁▁▁▁▁▁▁▁▁▁▁▁▁</td></tr><tr><td>test_accuracy</td><td>▁▄▇▇▇▇██████████████████████████████████</td></tr><tr><td>test_auc_score</td><td>▁▆▆▇▇▇█████▇▇███▇█████▇█████▇█▇▇█▇█▇▇▇▇▇</td></tr><tr><td>test_f1_score</td><td>▁▃▅▅▆▆▇▆▇▇▇▇█▇█▇████▇▇█▇████████████████</td></tr><tr><td>test_fpr</td><td>█▅▂▂▂▂▁▁▁▁▁▁▁▁▁▁▁▁▁▁▁▁▁▁▁▁▁▁▁▁▁▁▁▁▁▁▁▁▁▁</td></tr><tr><td>test_loss</td><td>█▅▃▂▂▂▁▁▁▁▁▁▁▁▁▁▁▁▁▁▁▁▁▁▁▁▁▁▁▁▁▁▁▁▁▁▁▁▁▁</td></tr><tr><td>test_tpr</td><td>▅█▅▅▄▄▄▃▂▄▃▃▁▄▂▆▄▂▂▂▁▄▃▃▃▃▃▂▃▃▂▃▃▄▄▃▄▃▃▃</td></tr><tr><td>train_accuracy</td><td>▁▇▇▇▇▇▇▇▇▇▇█████████████████████████████</td></tr><tr><td>train_auc_score</td><td>▁▆▇▇▇▇██████████████████████████████████</td></tr><tr><td>train_f1_score</td><td>▁▅▅▆▆▆▆▆▆▆▆▇▇▇▇▇▇▇▇▇▇▇▇█████████████████</td></tr><tr><td>train_fpr</td><td>█▂▂▂▂▂▁▁▁▁▂▁▁▁▁▁▁▁▁▁▁▁▁▁▁▁▁▁▁▁▁▁▁▁▁▁▁▁▁▁</td></tr><tr><td>train_loss</td><td>█▄▃▂▂▂▂▂▂▂▂▂▂▂▂▂▁▁▁▁▁▁▁▁▁▁▁▁▁▁▁▁▁▁▁▁▁▁▁▁</td></tr><tr><td>train_tpr</td><td>▁▄▃▄▅▄▅▅▄▅▆▆▆▇▆▇▇▇▆▇▇▇▇▇▇▇▇█▇█▇█████████</td></tr></table><br/></div><div class=\"wandb-col\"><h3>Run summary:</h3><br/><table class=\"wandb\"><tr><td>epoch</td><td>39</td></tr><tr><td>lr</td><td>0.00015</td></tr><tr><td>test_accuracy</td><td>0.96614</td></tr><tr><td>test_auc_score</td><td>0.94966</td></tr><tr><td>test_f1_score</td><td>0.80248</td></tr><tr><td>test_fpr</td><td>0.02845</td></tr><tr><td>test_loss</td><td>-0.01448</td></tr><tr><td>test_tpr</td><td>0.81509</td></tr><tr><td>train_accuracy</td><td>0.98621</td></tr><tr><td>train_auc_score</td><td>0.98831</td></tr><tr><td>train_f1_score</td><td>0.94846</td></tr><tr><td>train_fpr</td><td>0.0112</td></tr><tr><td>train_loss</td><td>-0.024</td></tr><tr><td>train_tpr</td><td>0.95205</td></tr></table><br/></div></div>"
      ],
      "text/plain": [
       "<IPython.core.display.HTML object>"
      ]
     },
     "metadata": {},
     "output_type": "display_data"
    },
    {
     "data": {
      "text/html": [
       " View run <strong style=\"color:#cdcd00\">EM_DWBLoss()_RUS-0.7</strong> at: <a href='https://wandb.ai/dmitrii_fomin_uga/Internship_project/runs/49izczei' target=\"_blank\">https://wandb.ai/dmitrii_fomin_uga/Internship_project/runs/49izczei</a><br/>Synced 5 W&B file(s), 0 media file(s), 0 artifact file(s) and 0 other file(s)"
      ],
      "text/plain": [
       "<IPython.core.display.HTML object>"
      ]
     },
     "metadata": {},
     "output_type": "display_data"
    },
    {
     "data": {
      "text/html": [
       "Find logs at: <code>../logs/wandb\\run-20230705_101957-49izczei\\logs</code>"
      ],
      "text/plain": [
       "<IPython.core.display.HTML object>"
      ]
     },
     "metadata": {},
     "output_type": "display_data"
    },
    {
     "data": {
      "text/html": [
       "Tracking run with wandb version 0.15.4"
      ],
      "text/plain": [
       "<IPython.core.display.HTML object>"
      ]
     },
     "metadata": {},
     "output_type": "display_data"
    },
    {
     "data": {
      "text/html": [
       "Run data is saved locally in <code>../logs/wandb\\run-20230705_102010-x6q29ewb</code>"
      ],
      "text/plain": [
       "<IPython.core.display.HTML object>"
      ]
     },
     "metadata": {},
     "output_type": "display_data"
    },
    {
     "data": {
      "text/html": [
       "Syncing run <strong><a href='https://wandb.ai/dmitrii_fomin_uga/Internship_project/runs/x6q29ewb' target=\"_blank\">EM_DWBLoss()_RUS-0.8</a></strong> to <a href='https://wandb.ai/dmitrii_fomin_uga/Internship_project' target=\"_blank\">Weights & Biases</a> (<a href='https://wandb.me/run' target=\"_blank\">docs</a>)<br/>"
      ],
      "text/plain": [
       "<IPython.core.display.HTML object>"
      ]
     },
     "metadata": {},
     "output_type": "display_data"
    },
    {
     "data": {
      "text/html": [
       " View project at <a href='https://wandb.ai/dmitrii_fomin_uga/Internship_project' target=\"_blank\">https://wandb.ai/dmitrii_fomin_uga/Internship_project</a>"
      ],
      "text/plain": [
       "<IPython.core.display.HTML object>"
      ]
     },
     "metadata": {},
     "output_type": "display_data"
    },
    {
     "data": {
      "text/html": [
       " View run at <a href='https://wandb.ai/dmitrii_fomin_uga/Internship_project/runs/x6q29ewb' target=\"_blank\">https://wandb.ai/dmitrii_fomin_uga/Internship_project/runs/x6q29ewb</a>"
      ],
      "text/plain": [
       "<IPython.core.display.HTML object>"
      ]
     },
     "metadata": {},
     "output_type": "display_data"
    },
    {
     "data": {
      "text/html": [
       "Waiting for W&B process to finish... <strong style=\"color:green\">(success).</strong>"
      ],
      "text/plain": [
       "<IPython.core.display.HTML object>"
      ]
     },
     "metadata": {},
     "output_type": "display_data"
    },
    {
     "data": {
      "text/html": [
       "<style>\n",
       "    table.wandb td:nth-child(1) { padding: 0 10px; text-align: left ; width: auto;} td:nth-child(2) {text-align: left ; width: 100%}\n",
       "    .wandb-row { display: flex; flex-direction: row; flex-wrap: wrap; justify-content: flex-start; width: 100% }\n",
       "    .wandb-col { display: flex; flex-direction: column; flex-basis: 100%; flex: 1; padding: 10px; }\n",
       "    </style>\n",
       "<div class=\"wandb-row\"><div class=\"wandb-col\"><h3>Run history:</h3><br/><table class=\"wandb\"><tr><td>epoch</td><td>▁▁▁▂▂▂▂▂▂▃▃▃▃▃▄▄▄▄▄▄▅▅▅▅▅▅▆▆▆▆▆▇▇▇▇▇▇███</td></tr><tr><td>lr</td><td>█▇▇▆▆▅▅▄▄▄▃▃▃▃▃▂▂▂▂▂▂▂▂▂▁▁▁▁▁▁▁▁▁▁▁▁▁▁▁▁</td></tr><tr><td>test_accuracy</td><td>▁▅▇▇▇███████████████████████████████████</td></tr><tr><td>test_auc_score</td><td>▁▆▇▇▇███▇███████████████████████████████</td></tr><tr><td>test_f1_score</td><td>▁▄▅▆▆▇▇▇▆▇▇▇████▇███████████████████████</td></tr><tr><td>test_fpr</td><td>█▄▂▂▂▁▁▁▁▁▁▁▁▁▁▁▁▁▁▁▁▁▁▁▁▁▁▁▁▁▁▁▁▁▁▁▁▁▁▁</td></tr><tr><td>test_loss</td><td>█▅▃▂▂▂▁▁▂▁▂▁▁▁▁▁▁▁▁▁▁▁▁▁▁▁▁▁▁▁▁▁▁▁▁▁▁▁▁▁</td></tr><tr><td>test_tpr</td><td>█▇▆▆▆▄▅▁▅▄▆▆▄▄▄▃▅▄▅▅▄▄▄▄▅▅▅▅▅▄▄▅▅▅▅▄▄▄▅▅</td></tr><tr><td>train_accuracy</td><td>▁▇▇▇▇▇▇▇██▇█████████████████████████████</td></tr><tr><td>train_auc_score</td><td>▁▆▇▇▇▇▇▇██▇█████████████████████████████</td></tr><tr><td>train_f1_score</td><td>▁▅▆▆▆▆▇▇▇▇▆▇▇▇▇▇▇▇▇▇▇███████████████████</td></tr><tr><td>train_fpr</td><td>█▂▂▂▂▂▁▁▁▁▁▁▁▁▁▁▁▁▁▁▁▁▁▁▁▁▁▁▁▁▁▁▁▁▁▁▁▁▁▁</td></tr><tr><td>train_loss</td><td>█▄▃▂▂▂▂▂▂▂▂▂▂▂▂▁▁▁▁▁▁▁▁▁▁▁▁▁▁▁▁▁▁▁▁▁▁▁▁▁</td></tr><tr><td>train_tpr</td><td>▁▂▃▄▄▄▄▅▅▄▄▆▆▆▅▆▆▆▆▆▆▆▆▆▇▇▇▇▇█▇█▇█▇█████</td></tr></table><br/></div><div class=\"wandb-col\"><h3>Run summary:</h3><br/><table class=\"wandb\"><tr><td>epoch</td><td>39</td></tr><tr><td>lr</td><td>0.00015</td></tr><tr><td>test_accuracy</td><td>0.96999</td></tr><tr><td>test_auc_score</td><td>0.9674</td></tr><tr><td>test_f1_score</td><td>0.82289</td></tr><tr><td>test_fpr</td><td>0.02627</td></tr><tr><td>test_loss</td><td>-0.01829</td></tr><tr><td>test_tpr</td><td>0.86297</td></tr><tr><td>train_accuracy</td><td>0.98991</td></tr><tr><td>train_auc_score</td><td>0.99347</td></tr><tr><td>train_f1_score</td><td>0.96007</td></tr><tr><td>train_fpr</td><td>0.00726</td></tr><tr><td>train_loss</td><td>-0.02518</td></tr><tr><td>train_tpr</td><td>0.95216</td></tr></table><br/></div></div>"
      ],
      "text/plain": [
       "<IPython.core.display.HTML object>"
      ]
     },
     "metadata": {},
     "output_type": "display_data"
    },
    {
     "data": {
      "text/html": [
       " View run <strong style=\"color:#cdcd00\">EM_DWBLoss()_RUS-0.8</strong> at: <a href='https://wandb.ai/dmitrii_fomin_uga/Internship_project/runs/x6q29ewb' target=\"_blank\">https://wandb.ai/dmitrii_fomin_uga/Internship_project/runs/x6q29ewb</a><br/>Synced 5 W&B file(s), 0 media file(s), 0 artifact file(s) and 0 other file(s)"
      ],
      "text/plain": [
       "<IPython.core.display.HTML object>"
      ]
     },
     "metadata": {},
     "output_type": "display_data"
    },
    {
     "data": {
      "text/html": [
       "Find logs at: <code>../logs/wandb\\run-20230705_102010-x6q29ewb\\logs</code>"
      ],
      "text/plain": [
       "<IPython.core.display.HTML object>"
      ]
     },
     "metadata": {},
     "output_type": "display_data"
    },
    {
     "data": {
      "text/html": [
       "Tracking run with wandb version 0.15.4"
      ],
      "text/plain": [
       "<IPython.core.display.HTML object>"
      ]
     },
     "metadata": {},
     "output_type": "display_data"
    },
    {
     "data": {
      "text/html": [
       "Run data is saved locally in <code>../logs/wandb\\run-20230705_102023-13brqvnc</code>"
      ],
      "text/plain": [
       "<IPython.core.display.HTML object>"
      ]
     },
     "metadata": {},
     "output_type": "display_data"
    },
    {
     "data": {
      "text/html": [
       "Syncing run <strong><a href='https://wandb.ai/dmitrii_fomin_uga/Internship_project/runs/13brqvnc' target=\"_blank\">EM_DWBLoss()_RUS-0.9</a></strong> to <a href='https://wandb.ai/dmitrii_fomin_uga/Internship_project' target=\"_blank\">Weights & Biases</a> (<a href='https://wandb.me/run' target=\"_blank\">docs</a>)<br/>"
      ],
      "text/plain": [
       "<IPython.core.display.HTML object>"
      ]
     },
     "metadata": {},
     "output_type": "display_data"
    },
    {
     "data": {
      "text/html": [
       " View project at <a href='https://wandb.ai/dmitrii_fomin_uga/Internship_project' target=\"_blank\">https://wandb.ai/dmitrii_fomin_uga/Internship_project</a>"
      ],
      "text/plain": [
       "<IPython.core.display.HTML object>"
      ]
     },
     "metadata": {},
     "output_type": "display_data"
    },
    {
     "data": {
      "text/html": [
       " View run at <a href='https://wandb.ai/dmitrii_fomin_uga/Internship_project/runs/13brqvnc' target=\"_blank\">https://wandb.ai/dmitrii_fomin_uga/Internship_project/runs/13brqvnc</a>"
      ],
      "text/plain": [
       "<IPython.core.display.HTML object>"
      ]
     },
     "metadata": {},
     "output_type": "display_data"
    },
    {
     "data": {
      "text/html": [
       "Waiting for W&B process to finish... <strong style=\"color:green\">(success).</strong>"
      ],
      "text/plain": [
       "<IPython.core.display.HTML object>"
      ]
     },
     "metadata": {},
     "output_type": "display_data"
    },
    {
     "data": {
      "text/html": [
       "<style>\n",
       "    table.wandb td:nth-child(1) { padding: 0 10px; text-align: left ; width: auto;} td:nth-child(2) {text-align: left ; width: 100%}\n",
       "    .wandb-row { display: flex; flex-direction: row; flex-wrap: wrap; justify-content: flex-start; width: 100% }\n",
       "    .wandb-col { display: flex; flex-direction: column; flex-basis: 100%; flex: 1; padding: 10px; }\n",
       "    </style>\n",
       "<div class=\"wandb-row\"><div class=\"wandb-col\"><h3>Run history:</h3><br/><table class=\"wandb\"><tr><td>epoch</td><td>▁▁▁▂▂▂▂▂▂▃▃▃▃▃▄▄▄▄▄▄▅▅▅▅▅▅▆▆▆▆▆▇▇▇▇▇▇███</td></tr><tr><td>lr</td><td>█▇▇▆▆▅▅▄▄▄▃▃▃▃▃▂▂▂▂▂▂▂▂▂▁▁▁▁▁▁▁▁▁▁▁▁▁▁▁▁</td></tr><tr><td>test_accuracy</td><td>▁▆▇▇▇███████████████████████████████████</td></tr><tr><td>test_auc_score</td><td>▁▂▃▅▆▆▄▆▆▆▇▆▇▇█▇▇███▇▆▆▇▅▇▇▇▇▇▇▇▆▇▇▇▇▇▇▇</td></tr><tr><td>test_f1_score</td><td>▁▅▆▆▆▇▇▇▇███▇▇█▇████████████████████████</td></tr><tr><td>test_fpr</td><td>█▃▂▂▂▁▁▁▁▁▁▁▁▁▁▁▁▁▁▁▁▁▁▁▁▁▁▁▁▁▁▁▁▁▁▁▁▁▁▁</td></tr><tr><td>test_loss</td><td>█▃▂▂▁▁▁▁▁▁▁▁▁▁▁▁▁▁▁▁▁▁▁▁▁▁▁▁▁▁▁▁▁▁▁▁▁▁▁▁</td></tr><tr><td>test_tpr</td><td>█▅▄▅▄▂▂▃▃▂▂▁▄▃▂▂▃▃▃▃▂▂▁▂▃▃▄▃▃▃▃▃▃▃▃▃▃▃▃▃</td></tr><tr><td>train_accuracy</td><td>▁▇▇▇▇▇▇▇▇███████████████████████████████</td></tr><tr><td>train_auc_score</td><td>▁▅▆▇▇▇▇▇▇▇▇▇████████████████████████████</td></tr><tr><td>train_f1_score</td><td>▁▅▆▆▆▆▆▆▆▇▇▇▇▇▇▇▇▇▇▇▇███████████████████</td></tr><tr><td>train_fpr</td><td>█▂▂▂▂▂▂▂▂▁▁▁▁▁▁▁▁▁▁▁▁▁▁▁▁▁▁▁▁▁▁▁▁▁▁▁▁▁▁▁</td></tr><tr><td>train_loss</td><td>█▄▃▃▂▂▂▂▂▂▂▂▂▂▂▂▂▂▁▁▁▁▁▁▁▁▁▁▁▁▁▁▁▁▁▁▁▁▁▁</td></tr><tr><td>train_tpr</td><td>▂▁▂▃▃▄▄▄▄▅▅▄▅▆▆▅▆▆▇▆▇▇▇▇▇▇▇██▇▇▇▇██▇████</td></tr></table><br/></div><div class=\"wandb-col\"><h3>Run summary:</h3><br/><table class=\"wandb\"><tr><td>epoch</td><td>39</td></tr><tr><td>lr</td><td>0.00015</td></tr><tr><td>test_accuracy</td><td>0.96804</td></tr><tr><td>test_auc_score</td><td>0.96155</td></tr><tr><td>test_f1_score</td><td>0.8076</td></tr><tr><td>test_fpr</td><td>0.02619</td></tr><tr><td>test_loss</td><td>-0.01628</td></tr><tr><td>test_tpr</td><td>0.80412</td></tr><tr><td>train_accuracy</td><td>0.98569</td></tr><tr><td>train_auc_score</td><td>0.98911</td></tr><tr><td>train_f1_score</td><td>0.94374</td></tr><tr><td>train_fpr</td><td>0.00842</td></tr><tr><td>train_loss</td><td>-0.0225</td></tr><tr><td>train_tpr</td><td>0.90781</td></tr></table><br/></div></div>"
      ],
      "text/plain": [
       "<IPython.core.display.HTML object>"
      ]
     },
     "metadata": {},
     "output_type": "display_data"
    },
    {
     "data": {
      "text/html": [
       " View run <strong style=\"color:#cdcd00\">EM_DWBLoss()_RUS-0.9</strong> at: <a href='https://wandb.ai/dmitrii_fomin_uga/Internship_project/runs/13brqvnc' target=\"_blank\">https://wandb.ai/dmitrii_fomin_uga/Internship_project/runs/13brqvnc</a><br/>Synced 5 W&B file(s), 0 media file(s), 0 artifact file(s) and 0 other file(s)"
      ],
      "text/plain": [
       "<IPython.core.display.HTML object>"
      ]
     },
     "metadata": {},
     "output_type": "display_data"
    },
    {
     "data": {
      "text/html": [
       "Find logs at: <code>../logs/wandb\\run-20230705_102023-13brqvnc\\logs</code>"
      ],
      "text/plain": [
       "<IPython.core.display.HTML object>"
      ]
     },
     "metadata": {},
     "output_type": "display_data"
    },
    {
     "data": {
      "text/html": [
       "Tracking run with wandb version 0.15.4"
      ],
      "text/plain": [
       "<IPython.core.display.HTML object>"
      ]
     },
     "metadata": {},
     "output_type": "display_data"
    },
    {
     "data": {
      "text/html": [
       "Run data is saved locally in <code>../logs/wandb\\run-20230705_102036-t23vgh2z</code>"
      ],
      "text/plain": [
       "<IPython.core.display.HTML object>"
      ]
     },
     "metadata": {},
     "output_type": "display_data"
    },
    {
     "data": {
      "text/html": [
       "Syncing run <strong><a href='https://wandb.ai/dmitrii_fomin_uga/Internship_project/runs/t23vgh2z' target=\"_blank\">EM_DWBLoss()_RUS-1</a></strong> to <a href='https://wandb.ai/dmitrii_fomin_uga/Internship_project' target=\"_blank\">Weights & Biases</a> (<a href='https://wandb.me/run' target=\"_blank\">docs</a>)<br/>"
      ],
      "text/plain": [
       "<IPython.core.display.HTML object>"
      ]
     },
     "metadata": {},
     "output_type": "display_data"
    },
    {
     "data": {
      "text/html": [
       " View project at <a href='https://wandb.ai/dmitrii_fomin_uga/Internship_project' target=\"_blank\">https://wandb.ai/dmitrii_fomin_uga/Internship_project</a>"
      ],
      "text/plain": [
       "<IPython.core.display.HTML object>"
      ]
     },
     "metadata": {},
     "output_type": "display_data"
    },
    {
     "data": {
      "text/html": [
       " View run at <a href='https://wandb.ai/dmitrii_fomin_uga/Internship_project/runs/t23vgh2z' target=\"_blank\">https://wandb.ai/dmitrii_fomin_uga/Internship_project/runs/t23vgh2z</a>"
      ],
      "text/plain": [
       "<IPython.core.display.HTML object>"
      ]
     },
     "metadata": {},
     "output_type": "display_data"
    },
    {
     "data": {
      "text/html": [
       "Waiting for W&B process to finish... <strong style=\"color:green\">(success).</strong>"
      ],
      "text/plain": [
       "<IPython.core.display.HTML object>"
      ]
     },
     "metadata": {},
     "output_type": "display_data"
    },
    {
     "data": {
      "text/html": [
       "<style>\n",
       "    table.wandb td:nth-child(1) { padding: 0 10px; text-align: left ; width: auto;} td:nth-child(2) {text-align: left ; width: 100%}\n",
       "    .wandb-row { display: flex; flex-direction: row; flex-wrap: wrap; justify-content: flex-start; width: 100% }\n",
       "    .wandb-col { display: flex; flex-direction: column; flex-basis: 100%; flex: 1; padding: 10px; }\n",
       "    </style>\n",
       "<div class=\"wandb-row\"><div class=\"wandb-col\"><h3>Run history:</h3><br/><table class=\"wandb\"><tr><td>epoch</td><td>▁▁▁▂▂▂▂▂▂▃▃▃▃▃▄▄▄▄▄▄▅▅▅▅▅▅▆▆▆▆▆▇▇▇▇▇▇███</td></tr><tr><td>lr</td><td>█▇▇▆▆▅▅▄▄▄▃▃▃▃▃▂▂▂▂▂▂▂▂▂▁▁▁▁▁▁▁▁▁▁▁▁▁▁▁▁</td></tr><tr><td>test_accuracy</td><td>▁▅▇▇▇███████████████████████████████████</td></tr><tr><td>test_auc_score</td><td>▂▁▃▆▇▇▆▇█▆▇▇▇▇█▅█▆▇▆▇█▇▇█▇▇▇▇▇▇▇███████▇</td></tr><tr><td>test_f1_score</td><td>▁▄▆▆▆▇▇▇██▆▇▇▇██▇███████████████████████</td></tr><tr><td>test_fpr</td><td>█▄▂▂▂▁▁▁▁▁▂▁▁▁▁▁▁▁▁▁▁▁▁▁▁▁▁▁▁▁▁▁▁▁▁▁▁▁▁▁</td></tr><tr><td>test_loss</td><td>█▅▂▂▂▁▁▁▁▁▂▁▁▁▁▁▁▁▁▁▁▁▁▁▁▁▁▁▁▁▁▁▁▁▁▁▁▁▁▁</td></tr><tr><td>test_tpr</td><td>█▆▄▄▄▃▂▃▃▂▄▃▄▃▃▂▄▃▃▁▃▃▂▃▃▃▄▄▄▄▅▃▃▃▃▄▄▄▃▂</td></tr><tr><td>train_accuracy</td><td>▁▆▇▇▇▇▇▇▇█▇▇████████████████████████████</td></tr><tr><td>train_auc_score</td><td>▁▆▆▇▇▇▇▇▇▇▇▇▇███████████████████████████</td></tr><tr><td>train_f1_score</td><td>▁▅▆▆▆▆▆▆▇▇▇▆▇▇▇▇▇▇▇▇████████████████████</td></tr><tr><td>train_fpr</td><td>█▂▂▂▂▂▁▁▁▁▁▂▁▁▁▁▁▁▁▁▁▁▁▁▁▁▁▁▁▁▁▁▁▁▁▁▁▁▁▁</td></tr><tr><td>train_loss</td><td>█▄▃▃▂▂▂▂▂▂▂▂▂▂▂▂▂▂▁▁▁▁▁▁▁▁▁▁▁▁▁▁▁▁▁▁▁▁▁▁</td></tr><tr><td>train_tpr</td><td>▁▂▁▂▂▃▂▃▄▃▃▃▃▄▄▃▄▄▄▄▅▅▆▆▆▇▇▆▇███▇▇▇████▇</td></tr></table><br/></div><div class=\"wandb-col\"><h3>Run summary:</h3><br/><table class=\"wandb\"><tr><td>epoch</td><td>39</td></tr><tr><td>lr</td><td>0.00015</td></tr><tr><td>test_accuracy</td><td>0.96498</td></tr><tr><td>test_auc_score</td><td>0.96606</td></tr><tr><td>test_f1_score</td><td>0.78474</td></tr><tr><td>test_fpr</td><td>0.02897</td></tr><tr><td>test_loss</td><td>-0.01667</td></tr><tr><td>test_tpr</td><td>0.77536</td></tr><tr><td>train_accuracy</td><td>0.98638</td></tr><tr><td>train_auc_score</td><td>0.99268</td></tr><tr><td>train_f1_score</td><td>0.94853</td></tr><tr><td>train_fpr</td><td>0.00932</td></tr><tr><td>train_loss</td><td>-0.02297</td></tr><tr><td>train_tpr</td><td>0.93329</td></tr></table><br/></div></div>"
      ],
      "text/plain": [
       "<IPython.core.display.HTML object>"
      ]
     },
     "metadata": {},
     "output_type": "display_data"
    },
    {
     "data": {
      "text/html": [
       " View run <strong style=\"color:#cdcd00\">EM_DWBLoss()_RUS-1</strong> at: <a href='https://wandb.ai/dmitrii_fomin_uga/Internship_project/runs/t23vgh2z' target=\"_blank\">https://wandb.ai/dmitrii_fomin_uga/Internship_project/runs/t23vgh2z</a><br/>Synced 5 W&B file(s), 0 media file(s), 0 artifact file(s) and 0 other file(s)"
      ],
      "text/plain": [
       "<IPython.core.display.HTML object>"
      ]
     },
     "metadata": {},
     "output_type": "display_data"
    },
    {
     "data": {
      "text/html": [
       "Find logs at: <code>../logs/wandb\\run-20230705_102036-t23vgh2z\\logs</code>"
      ],
      "text/plain": [
       "<IPython.core.display.HTML object>"
      ]
     },
     "metadata": {},
     "output_type": "display_data"
    },
    {
     "data": {
      "text/html": [
       "Tracking run with wandb version 0.15.4"
      ],
      "text/plain": [
       "<IPython.core.display.HTML object>"
      ]
     },
     "metadata": {},
     "output_type": "display_data"
    },
    {
     "data": {
      "text/html": [
       "Run data is saved locally in <code>../logs/wandb\\run-20230705_102049-2onnnicm</code>"
      ],
      "text/plain": [
       "<IPython.core.display.HTML object>"
      ]
     },
     "metadata": {},
     "output_type": "display_data"
    },
    {
     "data": {
      "text/html": [
       "Syncing run <strong><a href='https://wandb.ai/dmitrii_fomin_uga/Internship_project/runs/2onnnicm' target=\"_blank\">EM_DWBLoss()_SMOTE-0.05</a></strong> to <a href='https://wandb.ai/dmitrii_fomin_uga/Internship_project' target=\"_blank\">Weights & Biases</a> (<a href='https://wandb.me/run' target=\"_blank\">docs</a>)<br/>"
      ],
      "text/plain": [
       "<IPython.core.display.HTML object>"
      ]
     },
     "metadata": {},
     "output_type": "display_data"
    },
    {
     "data": {
      "text/html": [
       " View project at <a href='https://wandb.ai/dmitrii_fomin_uga/Internship_project' target=\"_blank\">https://wandb.ai/dmitrii_fomin_uga/Internship_project</a>"
      ],
      "text/plain": [
       "<IPython.core.display.HTML object>"
      ]
     },
     "metadata": {},
     "output_type": "display_data"
    },
    {
     "data": {
      "text/html": [
       " View run at <a href='https://wandb.ai/dmitrii_fomin_uga/Internship_project/runs/2onnnicm' target=\"_blank\">https://wandb.ai/dmitrii_fomin_uga/Internship_project/runs/2onnnicm</a>"
      ],
      "text/plain": [
       "<IPython.core.display.HTML object>"
      ]
     },
     "metadata": {},
     "output_type": "display_data"
    },
    {
     "data": {
      "text/html": [
       "Waiting for W&B process to finish... <strong style=\"color:green\">(success).</strong>"
      ],
      "text/plain": [
       "<IPython.core.display.HTML object>"
      ]
     },
     "metadata": {},
     "output_type": "display_data"
    },
    {
     "data": {
      "text/html": [
       "<style>\n",
       "    table.wandb td:nth-child(1) { padding: 0 10px; text-align: left ; width: auto;} td:nth-child(2) {text-align: left ; width: 100%}\n",
       "    .wandb-row { display: flex; flex-direction: row; flex-wrap: wrap; justify-content: flex-start; width: 100% }\n",
       "    .wandb-col { display: flex; flex-direction: column; flex-basis: 100%; flex: 1; padding: 10px; }\n",
       "    </style>\n",
       "<div class=\"wandb-row\"><div class=\"wandb-col\"><h3>Run history:</h3><br/><table class=\"wandb\"><tr><td>epoch</td><td>▁▁▁▂▂▂▂▂▂▃▃▃▃▃▄▄▄▄▄▄▅▅▅▅▅▅▆▆▆▆▆▇▇▇▇▇▇███</td></tr><tr><td>lr</td><td>█▇▇▆▆▅▅▄▄▄▃▃▃▃▃▂▂▂▂▂▂▂▂▂▁▁▁▁▁▁▁▁▁▁▁▁▁▁▁▁</td></tr><tr><td>test_accuracy</td><td>▁▆▇█▇▇██████████████████████████████████</td></tr><tr><td>test_auc_score</td><td>▁▄▅▅▆▇▇▇▇▇▇▇▇▇██▇████████████████▇███▇██</td></tr><tr><td>test_f1_score</td><td>▁▄▆▆▆▆▇▆▇▇▇▇▇▇▇▇▇██▇█▇██████████████████</td></tr><tr><td>test_fpr</td><td>█▃▂▁▂▂▁▁▁▁▁▁▁▁▁▁▁▁▁▁▁▁▁▁▁▁▁▁▁▁▁▁▁▁▁▁▁▁▁▁</td></tr><tr><td>test_loss</td><td>█▄▂▂▂▂▁▁▁▁▁▁▁▁▁▁▁▁▁▁▁▁▁▁▁▁▁▁▁▁▁▁▁▁▁▁▁▁▁▁</td></tr><tr><td>test_tpr</td><td>█▇▆▄▆▆▆▅▄▅▄▃▄▁▇▅▄▄▇▆▅▄▆▇▆▅▆▅▆▆▆▆▆▆▆▅▆▆▆▆</td></tr><tr><td>train_accuracy</td><td>▁▇▇▇▇▇▇█████████████████████████████████</td></tr><tr><td>train_auc_score</td><td>▁▆▇▇▇▇▇▇▇▇▇▇████████████████████████████</td></tr><tr><td>train_f1_score</td><td>▁▅▆▆▆▆▆▇▇▇▇▇▇▇▇▇▇▇▇▇▇▇██████████████████</td></tr><tr><td>train_fpr</td><td>█▂▂▁▁▂▁▁▁▁▁▁▁▁▁▁▁▁▁▁▁▁▁▁▁▁▁▁▁▁▁▁▁▁▁▁▁▁▁▁</td></tr><tr><td>train_loss</td><td>█▄▃▂▂▂▂▂▂▂▂▂▁▂▁▁▁▁▁▁▁▁▁▁▁▁▁▁▁▁▁▁▁▁▁▁▁▁▁▁</td></tr><tr><td>train_tpr</td><td>▁▁▃▁▄▅▅▄▅▅▆▅▆▅▅▇▆▆▆▇▆▇▇▇▇▇▇▇▇▇▇▇▇▇█▇█▇██</td></tr></table><br/></div><div class=\"wandb-col\"><h3>Run summary:</h3><br/><table class=\"wandb\"><tr><td>epoch</td><td>39</td></tr><tr><td>lr</td><td>0.00015</td></tr><tr><td>test_accuracy</td><td>0.9793</td></tr><tr><td>test_auc_score</td><td>0.96056</td></tr><tr><td>test_f1_score</td><td>0.85273</td></tr><tr><td>test_fpr</td><td>0.0138</td></tr><tr><td>test_loss</td><td>-0.01923</td></tr><tr><td>test_tpr</td><td>0.78155</td></tr><tr><td>train_accuracy</td><td>0.98936</td></tr><tr><td>train_auc_score</td><td>0.98774</td></tr><tr><td>train_f1_score</td><td>0.94104</td></tr><tr><td>train_fpr</td><td>0.00485</td></tr><tr><td>train_loss</td><td>-0.02529</td></tr><tr><td>train_tpr</td><td>0.87577</td></tr></table><br/></div></div>"
      ],
      "text/plain": [
       "<IPython.core.display.HTML object>"
      ]
     },
     "metadata": {},
     "output_type": "display_data"
    },
    {
     "data": {
      "text/html": [
       " View run <strong style=\"color:#cdcd00\">EM_DWBLoss()_SMOTE-0.05</strong> at: <a href='https://wandb.ai/dmitrii_fomin_uga/Internship_project/runs/2onnnicm' target=\"_blank\">https://wandb.ai/dmitrii_fomin_uga/Internship_project/runs/2onnnicm</a><br/>Synced 5 W&B file(s), 0 media file(s), 0 artifact file(s) and 0 other file(s)"
      ],
      "text/plain": [
       "<IPython.core.display.HTML object>"
      ]
     },
     "metadata": {},
     "output_type": "display_data"
    },
    {
     "data": {
      "text/html": [
       "Find logs at: <code>../logs/wandb\\run-20230705_102049-2onnnicm\\logs</code>"
      ],
      "text/plain": [
       "<IPython.core.display.HTML object>"
      ]
     },
     "metadata": {},
     "output_type": "display_data"
    },
    {
     "data": {
      "text/html": [
       "Tracking run with wandb version 0.15.4"
      ],
      "text/plain": [
       "<IPython.core.display.HTML object>"
      ]
     },
     "metadata": {},
     "output_type": "display_data"
    },
    {
     "data": {
      "text/html": [
       "Run data is saved locally in <code>../logs/wandb\\run-20230705_102101-rzi7kdv6</code>"
      ],
      "text/plain": [
       "<IPython.core.display.HTML object>"
      ]
     },
     "metadata": {},
     "output_type": "display_data"
    },
    {
     "data": {
      "text/html": [
       "Syncing run <strong><a href='https://wandb.ai/dmitrii_fomin_uga/Internship_project/runs/rzi7kdv6' target=\"_blank\">EM_DWBLoss()_SMOTE-0.1</a></strong> to <a href='https://wandb.ai/dmitrii_fomin_uga/Internship_project' target=\"_blank\">Weights & Biases</a> (<a href='https://wandb.me/run' target=\"_blank\">docs</a>)<br/>"
      ],
      "text/plain": [
       "<IPython.core.display.HTML object>"
      ]
     },
     "metadata": {},
     "output_type": "display_data"
    },
    {
     "data": {
      "text/html": [
       " View project at <a href='https://wandb.ai/dmitrii_fomin_uga/Internship_project' target=\"_blank\">https://wandb.ai/dmitrii_fomin_uga/Internship_project</a>"
      ],
      "text/plain": [
       "<IPython.core.display.HTML object>"
      ]
     },
     "metadata": {},
     "output_type": "display_data"
    },
    {
     "data": {
      "text/html": [
       " View run at <a href='https://wandb.ai/dmitrii_fomin_uga/Internship_project/runs/rzi7kdv6' target=\"_blank\">https://wandb.ai/dmitrii_fomin_uga/Internship_project/runs/rzi7kdv6</a>"
      ],
      "text/plain": [
       "<IPython.core.display.HTML object>"
      ]
     },
     "metadata": {},
     "output_type": "display_data"
    },
    {
     "data": {
      "text/html": [
       "Waiting for W&B process to finish... <strong style=\"color:green\">(success).</strong>"
      ],
      "text/plain": [
       "<IPython.core.display.HTML object>"
      ]
     },
     "metadata": {},
     "output_type": "display_data"
    },
    {
     "data": {
      "text/html": [
       "<style>\n",
       "    table.wandb td:nth-child(1) { padding: 0 10px; text-align: left ; width: auto;} td:nth-child(2) {text-align: left ; width: 100%}\n",
       "    .wandb-row { display: flex; flex-direction: row; flex-wrap: wrap; justify-content: flex-start; width: 100% }\n",
       "    .wandb-col { display: flex; flex-direction: column; flex-basis: 100%; flex: 1; padding: 10px; }\n",
       "    </style>\n",
       "<div class=\"wandb-row\"><div class=\"wandb-col\"><h3>Run history:</h3><br/><table class=\"wandb\"><tr><td>epoch</td><td>▁▁▁▂▂▂▂▂▂▃▃▃▃▃▄▄▄▄▄▄▅▅▅▅▅▅▆▆▆▆▆▇▇▇▇▇▇███</td></tr><tr><td>lr</td><td>█▇▇▆▆▅▅▄▄▄▃▃▃▃▃▂▂▂▂▂▂▂▂▂▁▁▁▁▁▁▁▁▁▁▁▁▁▁▁▁</td></tr><tr><td>test_accuracy</td><td>▁▆▇▇▇███████████████████████████████████</td></tr><tr><td>test_auc_score</td><td>▁▃▁▅▅▅▅▇▆▇▇▆▆▅▆▅██▇██▇▇██▇██▇█▇▇▇███▇▇▇▇</td></tr><tr><td>test_f1_score</td><td>▁▅▅▆▆▇▇█▇▇▇▇█▇▇▇▇▇███▇▇██▇▇▇█▇▇████▇▇▇▇▇</td></tr><tr><td>test_fpr</td><td>█▃▂▂▂▁▁▁▁▁▁▁▁▁▁▁▁▁▁▁▁▁▁▁▁▁▁▁▁▁▁▁▁▁▁▁▁▁▁▁</td></tr><tr><td>test_loss</td><td>█▃▃▂▂▁▁▁▁▁▁▁▁▁▁▁▁▁▁▁▁▁▁▁▁▁▁▁▁▁▁▁▁▁▁▁▁▁▁▁</td></tr><tr><td>test_tpr</td><td>█▆▅▅▅▁▃▂▄▃▅▄▅▃▄▄▅▅▃▄▄▃▅▅▄▅▅▄▃▄▄▃▄▃▄▄▃▄▄▅</td></tr><tr><td>train_accuracy</td><td>▁▆▇▇▇▇▇▇▇▇▇▇▇███▇███████████████████████</td></tr><tr><td>train_auc_score</td><td>▁▆▇▇▇▇▇▇▇▇██████████████████████████████</td></tr><tr><td>train_f1_score</td><td>▁▅▅▆▆▆▆▆▆▇▇▇▇▇▇▇▇█████▇█████████████████</td></tr><tr><td>train_fpr</td><td>█▂▂▂▂▂▂▂▂▂▁▂▂▁▁▁▁▁▁▁▁▁▁▁▁▁▁▁▁▁▁▁▁▁▁▁▁▁▁▁</td></tr><tr><td>train_loss</td><td>█▄▃▃▂▂▂▂▂▂▂▂▂▁▂▂▂▁▁▁▁▁▁▁▁▁▁▁▁▁▁▁▁▁▁▁▁▁▁▁</td></tr><tr><td>train_tpr</td><td>▁▃▂▃▄▄▄▄▄▄▅▇▇▇▅▆▆▇▇▇▇▇▇▇▇▇▇█▇▇██▇▇▇▆█▇██</td></tr></table><br/></div><div class=\"wandb-col\"><h3>Run summary:</h3><br/><table class=\"wandb\"><tr><td>epoch</td><td>39</td></tr><tr><td>lr</td><td>0.00015</td></tr><tr><td>test_accuracy</td><td>0.95175</td></tr><tr><td>test_auc_score</td><td>0.96619</td></tr><tr><td>test_f1_score</td><td>0.75988</td></tr><tr><td>test_fpr</td><td>0.04437</td></tr><tr><td>test_loss</td><td>-0.00998</td></tr><tr><td>test_tpr</td><td>0.8432</td></tr><tr><td>train_accuracy</td><td>0.9817</td></tr><tr><td>train_auc_score</td><td>0.9923</td></tr><tr><td>train_f1_score</td><td>0.94649</td></tr><tr><td>train_fpr</td><td>0.01369</td></tr><tr><td>train_loss</td><td>-0.01897</td></tr><tr><td>train_tpr</td><td>0.93788</td></tr></table><br/></div></div>"
      ],
      "text/plain": [
       "<IPython.core.display.HTML object>"
      ]
     },
     "metadata": {},
     "output_type": "display_data"
    },
    {
     "data": {
      "text/html": [
       " View run <strong style=\"color:#cdcd00\">EM_DWBLoss()_SMOTE-0.1</strong> at: <a href='https://wandb.ai/dmitrii_fomin_uga/Internship_project/runs/rzi7kdv6' target=\"_blank\">https://wandb.ai/dmitrii_fomin_uga/Internship_project/runs/rzi7kdv6</a><br/>Synced 5 W&B file(s), 0 media file(s), 0 artifact file(s) and 0 other file(s)"
      ],
      "text/plain": [
       "<IPython.core.display.HTML object>"
      ]
     },
     "metadata": {},
     "output_type": "display_data"
    },
    {
     "data": {
      "text/html": [
       "Find logs at: <code>../logs/wandb\\run-20230705_102101-rzi7kdv6\\logs</code>"
      ],
      "text/plain": [
       "<IPython.core.display.HTML object>"
      ]
     },
     "metadata": {},
     "output_type": "display_data"
    },
    {
     "data": {
      "text/html": [
       "Tracking run with wandb version 0.15.4"
      ],
      "text/plain": [
       "<IPython.core.display.HTML object>"
      ]
     },
     "metadata": {},
     "output_type": "display_data"
    },
    {
     "data": {
      "text/html": [
       "Run data is saved locally in <code>../logs/wandb\\run-20230705_102114-wa18ysr6</code>"
      ],
      "text/plain": [
       "<IPython.core.display.HTML object>"
      ]
     },
     "metadata": {},
     "output_type": "display_data"
    },
    {
     "data": {
      "text/html": [
       "Syncing run <strong><a href='https://wandb.ai/dmitrii_fomin_uga/Internship_project/runs/wa18ysr6' target=\"_blank\">EM_DWBLoss()_SMOTE-0.15</a></strong> to <a href='https://wandb.ai/dmitrii_fomin_uga/Internship_project' target=\"_blank\">Weights & Biases</a> (<a href='https://wandb.me/run' target=\"_blank\">docs</a>)<br/>"
      ],
      "text/plain": [
       "<IPython.core.display.HTML object>"
      ]
     },
     "metadata": {},
     "output_type": "display_data"
    },
    {
     "data": {
      "text/html": [
       " View project at <a href='https://wandb.ai/dmitrii_fomin_uga/Internship_project' target=\"_blank\">https://wandb.ai/dmitrii_fomin_uga/Internship_project</a>"
      ],
      "text/plain": [
       "<IPython.core.display.HTML object>"
      ]
     },
     "metadata": {},
     "output_type": "display_data"
    },
    {
     "data": {
      "text/html": [
       " View run at <a href='https://wandb.ai/dmitrii_fomin_uga/Internship_project/runs/wa18ysr6' target=\"_blank\">https://wandb.ai/dmitrii_fomin_uga/Internship_project/runs/wa18ysr6</a>"
      ],
      "text/plain": [
       "<IPython.core.display.HTML object>"
      ]
     },
     "metadata": {},
     "output_type": "display_data"
    },
    {
     "data": {
      "text/html": [
       "Waiting for W&B process to finish... <strong style=\"color:green\">(success).</strong>"
      ],
      "text/plain": [
       "<IPython.core.display.HTML object>"
      ]
     },
     "metadata": {},
     "output_type": "display_data"
    },
    {
     "data": {
      "text/html": [
       "<style>\n",
       "    table.wandb td:nth-child(1) { padding: 0 10px; text-align: left ; width: auto;} td:nth-child(2) {text-align: left ; width: 100%}\n",
       "    .wandb-row { display: flex; flex-direction: row; flex-wrap: wrap; justify-content: flex-start; width: 100% }\n",
       "    .wandb-col { display: flex; flex-direction: column; flex-basis: 100%; flex: 1; padding: 10px; }\n",
       "    </style>\n",
       "<div class=\"wandb-row\"><div class=\"wandb-col\"><h3>Run history:</h3><br/><table class=\"wandb\"><tr><td>epoch</td><td>▁▁▁▂▂▂▂▂▂▃▃▃▃▃▄▄▄▄▄▄▅▅▅▅▅▅▆▆▆▆▆▇▇▇▇▇▇███</td></tr><tr><td>lr</td><td>█▇▇▆▆▅▅▄▄▄▃▃▃▃▃▂▂▂▂▂▂▂▂▂▁▁▁▁▁▁▁▁▁▁▁▁▁▁▁▁</td></tr><tr><td>test_accuracy</td><td>▁▅▆▇▇▇▇█▇▇▇█████████████████████████████</td></tr><tr><td>test_auc_score</td><td>▁▅▄▅▄▅▅▆▇▇█▇▆█▆▇▆▆▆▆▆▆▆▆▅▆▆▄▇▆▅▆▅▄▄▅▄▄▄▄</td></tr><tr><td>test_f1_score</td><td>▁▄▅▆▇▆▆▇▆▇▆▇▇▇▇█▇▇▇▇▇▇███▇▇▇███▇████████</td></tr><tr><td>test_fpr</td><td>█▄▃▂▁▂▂▁▂▂▂▁▁▁▁▁▁▁▁▁▁▁▁▁▁▁▁▁▁▁▁▁▁▁▁▁▁▁▁▁</td></tr><tr><td>test_loss</td><td>█▆▃▂▂▂▂▁▂▂▂▁▁▁▁▁▁▁▁▁▁▁▁▁▁▁▁▁▁▁▁▁▁▁▁▁▁▁▁▁</td></tr><tr><td>test_tpr</td><td>█▇▆▄▁▄▃▃▅▄▄▂▃▃▄▂▄▂▄▃▄▂▃▄▃▄▄▄▄▃▂▃▃▃▄▄▄▃▃▄</td></tr><tr><td>train_accuracy</td><td>▁▆▇▇▇▇▇▇▇▇▇▇▇▇▇█████████████████████████</td></tr><tr><td>train_auc_score</td><td>▁▇▇▇▇▇██▇███████████████████████████████</td></tr><tr><td>train_f1_score</td><td>▁▅▆▆▆▆▆▆▆▇▇▇▇▇▇▇▇▇▇▇▇███████████████████</td></tr><tr><td>train_fpr</td><td>█▂▂▂▂▂▂▂▂▂▂▂▁▂▁▁▁▁▁▁▁▁▁▁▁▁▁▁▁▁▁▁▁▁▁▁▁▁▁▁</td></tr><tr><td>train_loss</td><td>█▄▃▃▃▂▂▂▂▂▂▂▂▂▂▂▂▂▂▂▁▁▁▁▁▁▁▁▁▁▁▁▁▁▁▁▁▁▁▁</td></tr><tr><td>train_tpr</td><td>▁▄▄▅▅▅▅▆▆▆▆▆▆▇▇▇▇▇▇▇▇▇█▇▇███████████████</td></tr></table><br/></div><div class=\"wandb-col\"><h3>Run summary:</h3><br/><table class=\"wandb\"><tr><td>epoch</td><td>39</td></tr><tr><td>lr</td><td>0.00015</td></tr><tr><td>test_accuracy</td><td>0.93885</td></tr><tr><td>test_auc_score</td><td>0.93643</td></tr><tr><td>test_f1_score</td><td>0.73796</td></tr><tr><td>test_fpr</td><td>0.0592</td></tr><tr><td>test_loss</td><td>-0.0054</td></tr><tr><td>test_tpr</td><td>0.88393</td></tr><tr><td>train_accuracy</td><td>0.98537</td></tr><tr><td>train_auc_score</td><td>0.99731</td></tr><tr><td>train_f1_score</td><td>0.96886</td></tr><tr><td>train_fpr</td><td>0.01507</td></tr><tr><td>train_loss</td><td>-0.02127</td></tr><tr><td>train_tpr</td><td>0.98913</td></tr></table><br/></div></div>"
      ],
      "text/plain": [
       "<IPython.core.display.HTML object>"
      ]
     },
     "metadata": {},
     "output_type": "display_data"
    },
    {
     "data": {
      "text/html": [
       " View run <strong style=\"color:#cdcd00\">EM_DWBLoss()_SMOTE-0.15</strong> at: <a href='https://wandb.ai/dmitrii_fomin_uga/Internship_project/runs/wa18ysr6' target=\"_blank\">https://wandb.ai/dmitrii_fomin_uga/Internship_project/runs/wa18ysr6</a><br/>Synced 5 W&B file(s), 0 media file(s), 0 artifact file(s) and 0 other file(s)"
      ],
      "text/plain": [
       "<IPython.core.display.HTML object>"
      ]
     },
     "metadata": {},
     "output_type": "display_data"
    },
    {
     "data": {
      "text/html": [
       "Find logs at: <code>../logs/wandb\\run-20230705_102114-wa18ysr6\\logs</code>"
      ],
      "text/plain": [
       "<IPython.core.display.HTML object>"
      ]
     },
     "metadata": {},
     "output_type": "display_data"
    },
    {
     "data": {
      "text/html": [
       "Tracking run with wandb version 0.15.4"
      ],
      "text/plain": [
       "<IPython.core.display.HTML object>"
      ]
     },
     "metadata": {},
     "output_type": "display_data"
    },
    {
     "data": {
      "text/html": [
       "Run data is saved locally in <code>../logs/wandb\\run-20230705_102127-ot12wygy</code>"
      ],
      "text/plain": [
       "<IPython.core.display.HTML object>"
      ]
     },
     "metadata": {},
     "output_type": "display_data"
    },
    {
     "data": {
      "text/html": [
       "Syncing run <strong><a href='https://wandb.ai/dmitrii_fomin_uga/Internship_project/runs/ot12wygy' target=\"_blank\">EM_DWBLoss()_SMOTE-0.2</a></strong> to <a href='https://wandb.ai/dmitrii_fomin_uga/Internship_project' target=\"_blank\">Weights & Biases</a> (<a href='https://wandb.me/run' target=\"_blank\">docs</a>)<br/>"
      ],
      "text/plain": [
       "<IPython.core.display.HTML object>"
      ]
     },
     "metadata": {},
     "output_type": "display_data"
    },
    {
     "data": {
      "text/html": [
       " View project at <a href='https://wandb.ai/dmitrii_fomin_uga/Internship_project' target=\"_blank\">https://wandb.ai/dmitrii_fomin_uga/Internship_project</a>"
      ],
      "text/plain": [
       "<IPython.core.display.HTML object>"
      ]
     },
     "metadata": {},
     "output_type": "display_data"
    },
    {
     "data": {
      "text/html": [
       " View run at <a href='https://wandb.ai/dmitrii_fomin_uga/Internship_project/runs/ot12wygy' target=\"_blank\">https://wandb.ai/dmitrii_fomin_uga/Internship_project/runs/ot12wygy</a>"
      ],
      "text/plain": [
       "<IPython.core.display.HTML object>"
      ]
     },
     "metadata": {},
     "output_type": "display_data"
    },
    {
     "data": {
      "text/html": [
       "Waiting for W&B process to finish... <strong style=\"color:green\">(success).</strong>"
      ],
      "text/plain": [
       "<IPython.core.display.HTML object>"
      ]
     },
     "metadata": {},
     "output_type": "display_data"
    },
    {
     "data": {
      "text/html": [
       "<style>\n",
       "    table.wandb td:nth-child(1) { padding: 0 10px; text-align: left ; width: auto;} td:nth-child(2) {text-align: left ; width: 100%}\n",
       "    .wandb-row { display: flex; flex-direction: row; flex-wrap: wrap; justify-content: flex-start; width: 100% }\n",
       "    .wandb-col { display: flex; flex-direction: column; flex-basis: 100%; flex: 1; padding: 10px; }\n",
       "    </style>\n",
       "<div class=\"wandb-row\"><div class=\"wandb-col\"><h3>Run history:</h3><br/><table class=\"wandb\"><tr><td>epoch</td><td>▁▁▁▂▂▂▂▂▂▃▃▃▃▃▄▄▄▄▄▄▅▅▅▅▅▅▆▆▆▆▆▇▇▇▇▇▇███</td></tr><tr><td>lr</td><td>█▇▇▆▆▅▅▄▄▄▃▃▃▃▃▂▂▂▂▂▂▂▂▂▁▁▁▁▁▁▁▁▁▁▁▁▁▁▁▁</td></tr><tr><td>test_accuracy</td><td>▁▆▇▇▇▇▇█▇█▇█████████████████████████████</td></tr><tr><td>test_auc_score</td><td>▁▄▅▆▁▅▇▆█▆▆▅▇▇█▆▆▆▆▆▆▆▆▆▆▆▆▅▅▄▆▇▆▆▆▆▆▆▆▆</td></tr><tr><td>test_f1_score</td><td>▁▅▆▇▇▆▆▇▇▇▇▇▇▇▇█▇▇█▇▇███████▇▇██████████</td></tr><tr><td>test_fpr</td><td>█▃▂▂▁▂▂▁▂▁▂▁▁▁▁▁▁▁▁▁▁▁▁▁▁▁▁▁▁▁▁▁▁▁▁▁▁▁▁▁</td></tr><tr><td>test_loss</td><td>█▄▂▂▂▂▂▁▁▁▂▁▁▁▁▁▁▁▁▁▁▁▁▁▁▁▁▁▁▁▁▁▁▁▁▁▁▁▁▁</td></tr><tr><td>test_tpr</td><td>█▇▄▆▁▅▅▃▅▄▅▃▅▄▅▃▃▄▃▄▄▄▄▃▃▃▃▃▃▃▃▃▃▃▃▃▃▃▃▃</td></tr><tr><td>train_accuracy</td><td>▁▆▆▇▇▇▇▇▇▇▇▇▇▇██████████████████████████</td></tr><tr><td>train_auc_score</td><td>▁▇▇▇▇▇▇█████████████████████████████████</td></tr><tr><td>train_f1_score</td><td>▁▅▆▆▆▆▆▆▇▇▇▇▇▇▇▇█▇▇▇▇███████████████████</td></tr><tr><td>train_fpr</td><td>█▃▂▂▂▂▂▂▂▂▂▂▂▁▁▁▁▁▁▁▁▁▁▁▁▁▁▁▁▁▁▁▁▁▁▁▁▁▁▁</td></tr><tr><td>train_loss</td><td>█▄▃▃▃▂▃▂▂▂▂▂▂▂▂▂▁▂▁▁▂▁▁▁▁▁▁▁▁▁▁▁▁▁▁▁▁▁▁▁</td></tr><tr><td>train_tpr</td><td>▁▄▅▆▅▅▅▇▆▇▆▇▇▆▇▇▇▇▇▇▇▇▇█▇█▇▇▇███████████</td></tr></table><br/></div><div class=\"wandb-col\"><h3>Run summary:</h3><br/><table class=\"wandb\"><tr><td>epoch</td><td>39</td></tr><tr><td>lr</td><td>0.00015</td></tr><tr><td>test_accuracy</td><td>0.92225</td></tr><tr><td>test_auc_score</td><td>0.95579</td></tr><tr><td>test_f1_score</td><td>0.69207</td></tr><tr><td>test_fpr</td><td>0.07496</td></tr><tr><td>test_loss</td><td>0.00395</td></tr><tr><td>test_tpr</td><td>0.84336</td></tr><tr><td>train_accuracy</td><td>0.98446</td></tr><tr><td>train_auc_score</td><td>0.99713</td></tr><tr><td>train_f1_score</td><td>0.9727</td></tr><tr><td>train_fpr</td><td>0.01671</td></tr><tr><td>train_loss</td><td>-0.01735</td></tr><tr><td>train_tpr</td><td>0.9906</td></tr></table><br/></div></div>"
      ],
      "text/plain": [
       "<IPython.core.display.HTML object>"
      ]
     },
     "metadata": {},
     "output_type": "display_data"
    },
    {
     "data": {
      "text/html": [
       " View run <strong style=\"color:#cdcd00\">EM_DWBLoss()_SMOTE-0.2</strong> at: <a href='https://wandb.ai/dmitrii_fomin_uga/Internship_project/runs/ot12wygy' target=\"_blank\">https://wandb.ai/dmitrii_fomin_uga/Internship_project/runs/ot12wygy</a><br/>Synced 5 W&B file(s), 0 media file(s), 0 artifact file(s) and 0 other file(s)"
      ],
      "text/plain": [
       "<IPython.core.display.HTML object>"
      ]
     },
     "metadata": {},
     "output_type": "display_data"
    },
    {
     "data": {
      "text/html": [
       "Find logs at: <code>../logs/wandb\\run-20230705_102127-ot12wygy\\logs</code>"
      ],
      "text/plain": [
       "<IPython.core.display.HTML object>"
      ]
     },
     "metadata": {},
     "output_type": "display_data"
    },
    {
     "data": {
      "text/html": [
       "Tracking run with wandb version 0.15.4"
      ],
      "text/plain": [
       "<IPython.core.display.HTML object>"
      ]
     },
     "metadata": {},
     "output_type": "display_data"
    },
    {
     "data": {
      "text/html": [
       "Run data is saved locally in <code>../logs/wandb\\run-20230705_102141-4o5fxbe0</code>"
      ],
      "text/plain": [
       "<IPython.core.display.HTML object>"
      ]
     },
     "metadata": {},
     "output_type": "display_data"
    },
    {
     "data": {
      "text/html": [
       "Syncing run <strong><a href='https://wandb.ai/dmitrii_fomin_uga/Internship_project/runs/4o5fxbe0' target=\"_blank\">EM_DWBLoss()_SMOTE-0.25</a></strong> to <a href='https://wandb.ai/dmitrii_fomin_uga/Internship_project' target=\"_blank\">Weights & Biases</a> (<a href='https://wandb.me/run' target=\"_blank\">docs</a>)<br/>"
      ],
      "text/plain": [
       "<IPython.core.display.HTML object>"
      ]
     },
     "metadata": {},
     "output_type": "display_data"
    },
    {
     "data": {
      "text/html": [
       " View project at <a href='https://wandb.ai/dmitrii_fomin_uga/Internship_project' target=\"_blank\">https://wandb.ai/dmitrii_fomin_uga/Internship_project</a>"
      ],
      "text/plain": [
       "<IPython.core.display.HTML object>"
      ]
     },
     "metadata": {},
     "output_type": "display_data"
    },
    {
     "data": {
      "text/html": [
       " View run at <a href='https://wandb.ai/dmitrii_fomin_uga/Internship_project/runs/4o5fxbe0' target=\"_blank\">https://wandb.ai/dmitrii_fomin_uga/Internship_project/runs/4o5fxbe0</a>"
      ],
      "text/plain": [
       "<IPython.core.display.HTML object>"
      ]
     },
     "metadata": {},
     "output_type": "display_data"
    },
    {
     "data": {
      "text/html": [
       "Waiting for W&B process to finish... <strong style=\"color:green\">(success).</strong>"
      ],
      "text/plain": [
       "<IPython.core.display.HTML object>"
      ]
     },
     "metadata": {},
     "output_type": "display_data"
    },
    {
     "data": {
      "text/html": [
       "<style>\n",
       "    table.wandb td:nth-child(1) { padding: 0 10px; text-align: left ; width: auto;} td:nth-child(2) {text-align: left ; width: 100%}\n",
       "    .wandb-row { display: flex; flex-direction: row; flex-wrap: wrap; justify-content: flex-start; width: 100% }\n",
       "    .wandb-col { display: flex; flex-direction: column; flex-basis: 100%; flex: 1; padding: 10px; }\n",
       "    </style>\n",
       "<div class=\"wandb-row\"><div class=\"wandb-col\"><h3>Run history:</h3><br/><table class=\"wandb\"><tr><td>epoch</td><td>▁▁▁▂▂▂▂▂▂▃▃▃▃▃▄▄▄▄▄▄▅▅▅▅▅▅▆▆▆▆▆▇▇▇▇▇▇███</td></tr><tr><td>lr</td><td>█▇▇▆▆▅▅▄▄▄▃▃▃▃▃▂▂▂▂▂▂▂▂▂▁▁▁▁▁▁▁▁▁▁▁▁▁▁▁▁</td></tr><tr><td>test_accuracy</td><td>▁▇▇▇▇▇▆▇▇▇▇▇▇▇▇███▇█▇█████████▇█████████</td></tr><tr><td>test_auc_score</td><td>▁▁▃▄▅▆▆▆▆▅▇▆▇▇▇▇▇▇▇▇██▇████▇██▇█████████</td></tr><tr><td>test_f1_score</td><td>▁▆▆▆▇▆▅▆▇▆▇▇▆▇▇█▇█▆█▇▇▇██▇██▇█▇▇█████▇█▇</td></tr><tr><td>test_fpr</td><td>█▂▂▂▂▂▃▂▂▂▂▂▂▂▂▁▁▁▂▁▂▁▁▁▁▁▁▁▁▁▂▁▁▁▁▁▁▁▁▁</td></tr><tr><td>test_loss</td><td>█▃▂▂▂▃▃▂▂▂▂▂▃▂▂▁▁▁▂▁▂▁▁▁▁▁▁▁▁▁▁▁▁▁▁▁▁▁▁▁</td></tr><tr><td>test_tpr</td><td>█▄▁▆▅▃▆▆▅▅▅█▇▆▅▆▅▅▆▅▅▆▅▅▅▅▆▅▅▅▆▄▅▆▄▅▆▅▅▅</td></tr><tr><td>train_accuracy</td><td>▁▆▆▇▇▇▇▇▇▇▇▇▇▇▇███▇▇████████████████████</td></tr><tr><td>train_auc_score</td><td>▁▇▇▇▇▇▇▇████████████████████████████████</td></tr><tr><td>train_f1_score</td><td>▁▆▆▆▇▇▆▇▇▇▇▇▇▇▇▇▇█▇▇▇▇▇█████████████████</td></tr><tr><td>train_fpr</td><td>█▃▃▂▂▂▂▂▂▂▂▁▂▂▂▁▁▁▂▂▁▁▁▁▁▁▁▁▁▁▁▁▁▁▁▁▁▁▁▁</td></tr><tr><td>train_loss</td><td>█▄▃▃▃▂▂▂▂▂▂▂▂▂▂▂▂▁▂▂▂▂▁▁▁▁▁▁▁▂▁▁▁▁▁▁▁▁▁▁</td></tr><tr><td>train_tpr</td><td>▁▄▅▆▅▆▆▆▆▆▇▆▇▆▇▆▇▇▇▇▇▇▇▇██▇▇▇▇██████████</td></tr></table><br/></div><div class=\"wandb-col\"><h3>Run summary:</h3><br/><table class=\"wandb\"><tr><td>epoch</td><td>39</td></tr><tr><td>lr</td><td>0.00015</td></tr><tr><td>test_accuracy</td><td>0.88572</td></tr><tr><td>test_auc_score</td><td>0.96721</td></tr><tr><td>test_f1_score</td><td>0.64361</td></tr><tr><td>test_fpr</td><td>0.11483</td></tr><tr><td>test_loss</td><td>0.01698</td></tr><tr><td>test_tpr</td><td>0.9032</td></tr><tr><td>train_accuracy</td><td>0.9746</td></tr><tr><td>train_auc_score</td><td>0.99581</td></tr><tr><td>train_f1_score</td><td>0.96031</td></tr><tr><td>train_fpr</td><td>0.02683</td></tr><tr><td>train_loss</td><td>-0.00982</td></tr><tr><td>train_tpr</td><td>0.9812</td></tr></table><br/></div></div>"
      ],
      "text/plain": [
       "<IPython.core.display.HTML object>"
      ]
     },
     "metadata": {},
     "output_type": "display_data"
    },
    {
     "data": {
      "text/html": [
       " View run <strong style=\"color:#cdcd00\">EM_DWBLoss()_SMOTE-0.25</strong> at: <a href='https://wandb.ai/dmitrii_fomin_uga/Internship_project/runs/4o5fxbe0' target=\"_blank\">https://wandb.ai/dmitrii_fomin_uga/Internship_project/runs/4o5fxbe0</a><br/>Synced 5 W&B file(s), 0 media file(s), 0 artifact file(s) and 0 other file(s)"
      ],
      "text/plain": [
       "<IPython.core.display.HTML object>"
      ]
     },
     "metadata": {},
     "output_type": "display_data"
    },
    {
     "data": {
      "text/html": [
       "Find logs at: <code>../logs/wandb\\run-20230705_102141-4o5fxbe0\\logs</code>"
      ],
      "text/plain": [
       "<IPython.core.display.HTML object>"
      ]
     },
     "metadata": {},
     "output_type": "display_data"
    },
    {
     "data": {
      "text/html": [
       "Tracking run with wandb version 0.15.4"
      ],
      "text/plain": [
       "<IPython.core.display.HTML object>"
      ]
     },
     "metadata": {},
     "output_type": "display_data"
    },
    {
     "data": {
      "text/html": [
       "Run data is saved locally in <code>../logs/wandb\\run-20230705_102155-10tsuzbl</code>"
      ],
      "text/plain": [
       "<IPython.core.display.HTML object>"
      ]
     },
     "metadata": {},
     "output_type": "display_data"
    },
    {
     "data": {
      "text/html": [
       "Syncing run <strong><a href='https://wandb.ai/dmitrii_fomin_uga/Internship_project/runs/10tsuzbl' target=\"_blank\">EM_DWBLoss()_SMOTE-0.3</a></strong> to <a href='https://wandb.ai/dmitrii_fomin_uga/Internship_project' target=\"_blank\">Weights & Biases</a> (<a href='https://wandb.me/run' target=\"_blank\">docs</a>)<br/>"
      ],
      "text/plain": [
       "<IPython.core.display.HTML object>"
      ]
     },
     "metadata": {},
     "output_type": "display_data"
    },
    {
     "data": {
      "text/html": [
       " View project at <a href='https://wandb.ai/dmitrii_fomin_uga/Internship_project' target=\"_blank\">https://wandb.ai/dmitrii_fomin_uga/Internship_project</a>"
      ],
      "text/plain": [
       "<IPython.core.display.HTML object>"
      ]
     },
     "metadata": {},
     "output_type": "display_data"
    },
    {
     "data": {
      "text/html": [
       " View run at <a href='https://wandb.ai/dmitrii_fomin_uga/Internship_project/runs/10tsuzbl' target=\"_blank\">https://wandb.ai/dmitrii_fomin_uga/Internship_project/runs/10tsuzbl</a>"
      ],
      "text/plain": [
       "<IPython.core.display.HTML object>"
      ]
     },
     "metadata": {},
     "output_type": "display_data"
    },
    {
     "data": {
      "text/html": [
       "Waiting for W&B process to finish... <strong style=\"color:green\">(success).</strong>"
      ],
      "text/plain": [
       "<IPython.core.display.HTML object>"
      ]
     },
     "metadata": {},
     "output_type": "display_data"
    },
    {
     "data": {
      "text/html": [
       "<style>\n",
       "    table.wandb td:nth-child(1) { padding: 0 10px; text-align: left ; width: auto;} td:nth-child(2) {text-align: left ; width: 100%}\n",
       "    .wandb-row { display: flex; flex-direction: row; flex-wrap: wrap; justify-content: flex-start; width: 100% }\n",
       "    .wandb-col { display: flex; flex-direction: column; flex-basis: 100%; flex: 1; padding: 10px; }\n",
       "    </style>\n",
       "<div class=\"wandb-row\"><div class=\"wandb-col\"><h3>Run history:</h3><br/><table class=\"wandb\"><tr><td>epoch</td><td>▁▁▁▂▂▂▂▂▂▃▃▃▃▃▄▄▄▄▄▄▅▅▅▅▅▅▆▆▆▆▆▇▇▇▇▇▇███</td></tr><tr><td>lr</td><td>█▇▇▆▆▅▅▄▄▄▃▃▃▃▃▂▂▂▂▂▂▂▂▂▁▁▁▁▁▁▁▁▁▁▁▁▁▁▁▁</td></tr><tr><td>test_accuracy</td><td>▁▅▇▆▆▆▇▇▆▇▇▇▇▇▇▇▇▇▇▇██▇▇████████████████</td></tr><tr><td>test_auc_score</td><td>▁▁▃▅▅▇▆▅▆█▇█▇█▇▇▇█▇█▇▇▆▇█▇█▇███▇▇█▇▇▇▇▇▇</td></tr><tr><td>test_f1_score</td><td>▁▅▇▅▆▆▇▇▆▆▆▇▆▆▇▆▇▇▇▇██▇▇██▇█████████████</td></tr><tr><td>test_fpr</td><td>█▄▂▃▃▃▂▂▃▂▂▂▂▂▂▂▂▂▂▂▁▁▂▂▁▁▁▁▁▁▁▁▁▁▁▁▁▁▁▁</td></tr><tr><td>test_loss</td><td>█▄▂▄▃▃▂▂▃▂▂▂▂▂▂▃▂▂▂▁▁▁▂▂▁▁▁▁▁▁▁▁▁▁▁▁▁▁▁▁</td></tr><tr><td>test_tpr</td><td>█▂▂▄▅▆▃▃▅▆▃▄▄▆▅▄▅▆▆▂▂▃▃▅▄▂▄▂▂▁▁▁▁▁▃▂▂▂▁▂</td></tr><tr><td>train_accuracy</td><td>▁▆▆▆▇▇▇▇▇▇▇▇▇▇▇▇▇▇▇█████████████████████</td></tr><tr><td>train_auc_score</td><td>▁▇▇▇▇▇██████████████████████████████████</td></tr><tr><td>train_f1_score</td><td>▁▅▆▆▆▆▇▇▇▇▇▇▇▇▇▇▇▇▇▇██▇▇▇███████████████</td></tr><tr><td>train_fpr</td><td>█▃▃▃▂▂▂▂▂▂▂▂▂▂▂▂▂▂▂▂▁▁▁▁▁▁▁▁▁▁▁▁▁▁▁▁▁▁▁▁</td></tr><tr><td>train_loss</td><td>█▄▃▃▃▂▂▂▂▂▂▂▂▂▂▂▂▂▂▁▁▁▁▁▁▁▁▁▁▁▁▁▁▁▁▁▁▁▁▁</td></tr><tr><td>train_tpr</td><td>▁▅▆▆▆▆▇▇▇▇▇▇▇▇▇▇▇▇▇█▇▇▇█▇███████████████</td></tr></table><br/></div><div class=\"wandb-col\"><h3>Run summary:</h3><br/><table class=\"wandb\"><tr><td>epoch</td><td>39</td></tr><tr><td>lr</td><td>0.00015</td></tr><tr><td>test_accuracy</td><td>0.88547</td></tr><tr><td>test_auc_score</td><td>0.95379</td></tr><tr><td>test_f1_score</td><td>0.6359</td></tr><tr><td>test_fpr</td><td>0.11475</td></tr><tr><td>test_loss</td><td>0.0201</td></tr><tr><td>test_tpr</td><td>0.89445</td></tr><tr><td>train_accuracy</td><td>0.98068</td></tr><tr><td>train_auc_score</td><td>0.99731</td></tr><tr><td>train_f1_score</td><td>0.97309</td></tr><tr><td>train_fpr</td><td>0.02241</td></tr><tr><td>train_loss</td><td>-0.01125</td></tr><tr><td>train_tpr</td><td>0.99135</td></tr></table><br/></div></div>"
      ],
      "text/plain": [
       "<IPython.core.display.HTML object>"
      ]
     },
     "metadata": {},
     "output_type": "display_data"
    },
    {
     "data": {
      "text/html": [
       " View run <strong style=\"color:#cdcd00\">EM_DWBLoss()_SMOTE-0.3</strong> at: <a href='https://wandb.ai/dmitrii_fomin_uga/Internship_project/runs/10tsuzbl' target=\"_blank\">https://wandb.ai/dmitrii_fomin_uga/Internship_project/runs/10tsuzbl</a><br/>Synced 5 W&B file(s), 0 media file(s), 0 artifact file(s) and 0 other file(s)"
      ],
      "text/plain": [
       "<IPython.core.display.HTML object>"
      ]
     },
     "metadata": {},
     "output_type": "display_data"
    },
    {
     "data": {
      "text/html": [
       "Find logs at: <code>../logs/wandb\\run-20230705_102155-10tsuzbl\\logs</code>"
      ],
      "text/plain": [
       "<IPython.core.display.HTML object>"
      ]
     },
     "metadata": {},
     "output_type": "display_data"
    },
    {
     "data": {
      "text/html": [
       "Tracking run with wandb version 0.15.4"
      ],
      "text/plain": [
       "<IPython.core.display.HTML object>"
      ]
     },
     "metadata": {},
     "output_type": "display_data"
    },
    {
     "data": {
      "text/html": [
       "Run data is saved locally in <code>../logs/wandb\\run-20230705_102210-0387i137</code>"
      ],
      "text/plain": [
       "<IPython.core.display.HTML object>"
      ]
     },
     "metadata": {},
     "output_type": "display_data"
    },
    {
     "data": {
      "text/html": [
       "Syncing run <strong><a href='https://wandb.ai/dmitrii_fomin_uga/Internship_project/runs/0387i137' target=\"_blank\">EM_DWBLoss()_SMOTE-0.35</a></strong> to <a href='https://wandb.ai/dmitrii_fomin_uga/Internship_project' target=\"_blank\">Weights & Biases</a> (<a href='https://wandb.me/run' target=\"_blank\">docs</a>)<br/>"
      ],
      "text/plain": [
       "<IPython.core.display.HTML object>"
      ]
     },
     "metadata": {},
     "output_type": "display_data"
    },
    {
     "data": {
      "text/html": [
       " View project at <a href='https://wandb.ai/dmitrii_fomin_uga/Internship_project' target=\"_blank\">https://wandb.ai/dmitrii_fomin_uga/Internship_project</a>"
      ],
      "text/plain": [
       "<IPython.core.display.HTML object>"
      ]
     },
     "metadata": {},
     "output_type": "display_data"
    },
    {
     "data": {
      "text/html": [
       " View run at <a href='https://wandb.ai/dmitrii_fomin_uga/Internship_project/runs/0387i137' target=\"_blank\">https://wandb.ai/dmitrii_fomin_uga/Internship_project/runs/0387i137</a>"
      ],
      "text/plain": [
       "<IPython.core.display.HTML object>"
      ]
     },
     "metadata": {},
     "output_type": "display_data"
    },
    {
     "data": {
      "text/html": [
       "Waiting for W&B process to finish... <strong style=\"color:green\">(success).</strong>"
      ],
      "text/plain": [
       "<IPython.core.display.HTML object>"
      ]
     },
     "metadata": {},
     "output_type": "display_data"
    },
    {
     "data": {
      "text/html": [
       "<style>\n",
       "    table.wandb td:nth-child(1) { padding: 0 10px; text-align: left ; width: auto;} td:nth-child(2) {text-align: left ; width: 100%}\n",
       "    .wandb-row { display: flex; flex-direction: row; flex-wrap: wrap; justify-content: flex-start; width: 100% }\n",
       "    .wandb-col { display: flex; flex-direction: column; flex-basis: 100%; flex: 1; padding: 10px; }\n",
       "    </style>\n",
       "<div class=\"wandb-row\"><div class=\"wandb-col\"><h3>Run history:</h3><br/><table class=\"wandb\"><tr><td>epoch</td><td>▁▁▁▂▂▂▂▂▂▃▃▃▃▃▄▄▄▄▄▄▅▅▅▅▅▅▆▆▆▆▆▇▇▇▇▇▇███</td></tr><tr><td>lr</td><td>█▇▇▆▆▅▅▄▄▄▃▃▃▃▃▂▂▂▂▂▂▂▂▂▁▁▁▁▁▁▁▁▁▁▁▁▁▁▁▁</td></tr><tr><td>test_accuracy</td><td>▁█▇▇▅▆▅▃▆▆▇▇▇▆▆▆▆▆▇▆▇▇▇▇▇██▇████████████</td></tr><tr><td>test_auc_score</td><td>▁▆▄▆▇▆▇▇███████▇▇█▇█▇█▇██▇██▇▇▇▇▇█▇▇█▇▇▇</td></tr><tr><td>test_f1_score</td><td>▁█▆▇▅▆▅▃▅▆▇▆▇▆▆▆▆▆▇▆▇▇▇▇▇▇█▇████████████</td></tr><tr><td>test_fpr</td><td>█▁▃▂▄▃▄▆▃▃▂▃▂▃▃▃▃▃▂▃▂▂▂▂▂▁▁▂▁▁▁▁▁▁▁▁▁▁▁▁</td></tr><tr><td>test_loss</td><td>▇▁▄▃▆▃▅█▄▄▂▃▂▃▃▄▃▃▂▃▂▂▁▂▂▁▁▂▁▁▁▁▁▁▁▁▁▁▁▁</td></tr><tr><td>test_tpr</td><td>▅▁▄▂▇▄▇█▆▆▇▆▆▇█▆▆▇▃▇▅▅▄▅▅▄▅▅▅▅▄▄▅▅▄▄▄▄▄▄</td></tr><tr><td>train_accuracy</td><td>▁▆▇▆▇▇▇▇▇▇▇▇▇▇▇▇▇█▇█████████████████████</td></tr><tr><td>train_auc_score</td><td>▁▇▇▇▇▇▇█▇███████████████████████████████</td></tr><tr><td>train_f1_score</td><td>▁▆▆▆▆▇▆▇▇▇▇▇▇▇▇▇▇▇▇▇████████████████████</td></tr><tr><td>train_fpr</td><td>█▂▂▃▂▂▂▂▂▂▂▂▂▂▁▂▂▁▂▁▁▁▁▁▁▁▁▁▁▁▁▁▁▁▁▁▁▁▁▁</td></tr><tr><td>train_loss</td><td>█▄▃▃▃▂▃▂▂▂▂▂▂▂▂▂▂▂▂▁▁▁▁▁▁▁▁▁▁▁▁▁▁▁▁▁▁▁▁▁</td></tr><tr><td>train_tpr</td><td>▁▅▅▆▅▅▆▆▇▆▇▆▇▇▆▇▇▇▇▇█████▇██████████████</td></tr></table><br/></div><div class=\"wandb-col\"><h3>Run summary:</h3><br/><table class=\"wandb\"><tr><td>epoch</td><td>39</td></tr><tr><td>lr</td><td>0.00015</td></tr><tr><td>test_accuracy</td><td>0.8577</td></tr><tr><td>test_auc_score</td><td>0.95082</td></tr><tr><td>test_f1_score</td><td>0.61185</td></tr><tr><td>test_fpr</td><td>0.14417</td></tr><tr><td>test_loss</td><td>0.03116</td></tr><tr><td>test_tpr</td><td>0.91071</td></tr><tr><td>train_accuracy</td><td>0.97541</td></tr><tr><td>train_auc_score</td><td>0.99635</td></tr><tr><td>train_f1_score</td><td>0.96867</td></tr><tr><td>train_fpr</td><td>0.0296</td></tr><tr><td>train_loss</td><td>-0.00638</td></tr><tr><td>train_tpr</td><td>0.99015</td></tr></table><br/></div></div>"
      ],
      "text/plain": [
       "<IPython.core.display.HTML object>"
      ]
     },
     "metadata": {},
     "output_type": "display_data"
    },
    {
     "data": {
      "text/html": [
       " View run <strong style=\"color:#cdcd00\">EM_DWBLoss()_SMOTE-0.35</strong> at: <a href='https://wandb.ai/dmitrii_fomin_uga/Internship_project/runs/0387i137' target=\"_blank\">https://wandb.ai/dmitrii_fomin_uga/Internship_project/runs/0387i137</a><br/>Synced 5 W&B file(s), 0 media file(s), 0 artifact file(s) and 0 other file(s)"
      ],
      "text/plain": [
       "<IPython.core.display.HTML object>"
      ]
     },
     "metadata": {},
     "output_type": "display_data"
    },
    {
     "data": {
      "text/html": [
       "Find logs at: <code>../logs/wandb\\run-20230705_102210-0387i137\\logs</code>"
      ],
      "text/plain": [
       "<IPython.core.display.HTML object>"
      ]
     },
     "metadata": {},
     "output_type": "display_data"
    },
    {
     "data": {
      "text/html": [
       "Tracking run with wandb version 0.15.4"
      ],
      "text/plain": [
       "<IPython.core.display.HTML object>"
      ]
     },
     "metadata": {},
     "output_type": "display_data"
    },
    {
     "data": {
      "text/html": [
       "Run data is saved locally in <code>../logs/wandb\\run-20230705_102223-6xhwqn48</code>"
      ],
      "text/plain": [
       "<IPython.core.display.HTML object>"
      ]
     },
     "metadata": {},
     "output_type": "display_data"
    },
    {
     "data": {
      "text/html": [
       "Syncing run <strong><a href='https://wandb.ai/dmitrii_fomin_uga/Internship_project/runs/6xhwqn48' target=\"_blank\">EM_DWBLoss()_SMOTE-0.4</a></strong> to <a href='https://wandb.ai/dmitrii_fomin_uga/Internship_project' target=\"_blank\">Weights & Biases</a> (<a href='https://wandb.me/run' target=\"_blank\">docs</a>)<br/>"
      ],
      "text/plain": [
       "<IPython.core.display.HTML object>"
      ]
     },
     "metadata": {},
     "output_type": "display_data"
    },
    {
     "data": {
      "text/html": [
       " View project at <a href='https://wandb.ai/dmitrii_fomin_uga/Internship_project' target=\"_blank\">https://wandb.ai/dmitrii_fomin_uga/Internship_project</a>"
      ],
      "text/plain": [
       "<IPython.core.display.HTML object>"
      ]
     },
     "metadata": {},
     "output_type": "display_data"
    },
    {
     "data": {
      "text/html": [
       " View run at <a href='https://wandb.ai/dmitrii_fomin_uga/Internship_project/runs/6xhwqn48' target=\"_blank\">https://wandb.ai/dmitrii_fomin_uga/Internship_project/runs/6xhwqn48</a>"
      ],
      "text/plain": [
       "<IPython.core.display.HTML object>"
      ]
     },
     "metadata": {},
     "output_type": "display_data"
    },
    {
     "data": {
      "text/html": [
       "Waiting for W&B process to finish... <strong style=\"color:green\">(success).</strong>"
      ],
      "text/plain": [
       "<IPython.core.display.HTML object>"
      ]
     },
     "metadata": {},
     "output_type": "display_data"
    },
    {
     "data": {
      "text/html": [
       "<style>\n",
       "    table.wandb td:nth-child(1) { padding: 0 10px; text-align: left ; width: auto;} td:nth-child(2) {text-align: left ; width: 100%}\n",
       "    .wandb-row { display: flex; flex-direction: row; flex-wrap: wrap; justify-content: flex-start; width: 100% }\n",
       "    .wandb-col { display: flex; flex-direction: column; flex-basis: 100%; flex: 1; padding: 10px; }\n",
       "    </style>\n",
       "<div class=\"wandb-row\"><div class=\"wandb-col\"><h3>Run history:</h3><br/><table class=\"wandb\"><tr><td>epoch</td><td>▁▁▁▂▂▂▂▂▂▃▃▃▃▃▄▄▄▄▄▄▅▅▅▅▅▅▆▆▆▆▆▇▇▇▇▇▇███</td></tr><tr><td>lr</td><td>█▇▇▆▆▅▅▄▄▄▃▃▃▃▃▂▂▂▂▂▂▂▂▂▁▁▁▁▁▁▁▁▁▁▁▁▁▁▁▁</td></tr><tr><td>test_accuracy</td><td>▁▄▅▄▆▆▆▆▆▆▇▇▇▆▇▇▇▇▇▇▇▇▇▇█▇███▇▇▇▇███████</td></tr><tr><td>test_auc_score</td><td>▂▁▁▃▄▆▇▆▆▅▆▆█▇▇▇▆█▇▇▇▇█▇██▇█▇▇▆▇▇███▇▇██</td></tr><tr><td>test_f1_score</td><td>▁▃▅▄▅▆▆▆▆▅▆▇▇▆▆▆▆▇▇▇▇▇▇▇▇▇▇██▇▇▇▇███████</td></tr><tr><td>test_fpr</td><td>█▅▄▅▃▃▃▃▃▃▂▂▂▃▂▂▂▂▂▂▂▂▂▂▁▂▁▁▁▂▂▂▂▁▁▁▁▁▁▁</td></tr><tr><td>test_loss</td><td>██▆▇▄▃▃▃▄▄▃▂▂▄▃▃▃▂▂▂▂▃▂▂▂▂▂▁▁▂▃▂▂▁▁▁▁▁▁▁</td></tr><tr><td>test_tpr</td><td>█▆▆▇▄▇▆▆▁▄▃▅▆▇▅█▅▆▅▃▅▃▄▄▃▃▁▂▃▂▅▆▆▆▄▂▂▂▂▄</td></tr><tr><td>train_accuracy</td><td>▁▆▆▆▆▆▇▇▇▇▇▇▇▇▇▇▇▇███▇████████▇▇████████</td></tr><tr><td>train_auc_score</td><td>▁▇▇▇▇▇██████████████████████████████████</td></tr><tr><td>train_f1_score</td><td>▁▅▆▆▆▆▇▇▇▇▇▇▇▇▇▇▇▇███▇████████▇▇████████</td></tr><tr><td>train_fpr</td><td>█▃▃▃▃▃▂▂▂▂▂▂▂▂▂▂▂▂▁▁▁▂▁▁▁▁▁▁▁▁▂▂▁▁▁▁▁▁▁▁</td></tr><tr><td>train_loss</td><td>█▄▃▃▃▂▂▂▂▂▂▂▂▂▂▂▂▂▁▁▁▁▁▁▁▁▁▁▁▁▁▁▁▁▁▁▁▁▁▁</td></tr><tr><td>train_tpr</td><td>▁▅▆▅▆▇▇▆▇▇▇▇▇▇▇▇▇▇▇▇▇████████▇██████████</td></tr></table><br/></div><div class=\"wandb-col\"><h3>Run summary:</h3><br/><table class=\"wandb\"><tr><td>epoch</td><td>39</td></tr><tr><td>lr</td><td>0.00015</td></tr><tr><td>test_accuracy</td><td>0.85072</td></tr><tr><td>test_auc_score</td><td>0.95008</td></tr><tr><td>test_f1_score</td><td>0.60751</td></tr><tr><td>test_fpr</td><td>0.15247</td></tr><tr><td>test_loss</td><td>0.03311</td></tr><tr><td>test_tpr</td><td>0.94349</td></tr><tr><td>train_accuracy</td><td>0.97645</td></tr><tr><td>train_auc_score</td><td>0.99618</td></tr><tr><td>train_f1_score</td><td>0.97159</td></tr><tr><td>train_fpr</td><td>0.02969</td></tr><tr><td>train_loss</td><td>-0.00527</td></tr><tr><td>train_tpr</td><td>0.99239</td></tr></table><br/></div></div>"
      ],
      "text/plain": [
       "<IPython.core.display.HTML object>"
      ]
     },
     "metadata": {},
     "output_type": "display_data"
    },
    {
     "data": {
      "text/html": [
       " View run <strong style=\"color:#cdcd00\">EM_DWBLoss()_SMOTE-0.4</strong> at: <a href='https://wandb.ai/dmitrii_fomin_uga/Internship_project/runs/6xhwqn48' target=\"_blank\">https://wandb.ai/dmitrii_fomin_uga/Internship_project/runs/6xhwqn48</a><br/>Synced 5 W&B file(s), 0 media file(s), 0 artifact file(s) and 0 other file(s)"
      ],
      "text/plain": [
       "<IPython.core.display.HTML object>"
      ]
     },
     "metadata": {},
     "output_type": "display_data"
    },
    {
     "data": {
      "text/html": [
       "Find logs at: <code>../logs/wandb\\run-20230705_102223-6xhwqn48\\logs</code>"
      ],
      "text/plain": [
       "<IPython.core.display.HTML object>"
      ]
     },
     "metadata": {},
     "output_type": "display_data"
    },
    {
     "data": {
      "text/html": [
       "Tracking run with wandb version 0.15.4"
      ],
      "text/plain": [
       "<IPython.core.display.HTML object>"
      ]
     },
     "metadata": {},
     "output_type": "display_data"
    },
    {
     "data": {
      "text/html": [
       "Run data is saved locally in <code>../logs/wandb\\run-20230705_102237-ntropd5k</code>"
      ],
      "text/plain": [
       "<IPython.core.display.HTML object>"
      ]
     },
     "metadata": {},
     "output_type": "display_data"
    },
    {
     "data": {
      "text/html": [
       "Syncing run <strong><a href='https://wandb.ai/dmitrii_fomin_uga/Internship_project/runs/ntropd5k' target=\"_blank\">EM_DWBLoss()_SMOTE-0.45</a></strong> to <a href='https://wandb.ai/dmitrii_fomin_uga/Internship_project' target=\"_blank\">Weights & Biases</a> (<a href='https://wandb.me/run' target=\"_blank\">docs</a>)<br/>"
      ],
      "text/plain": [
       "<IPython.core.display.HTML object>"
      ]
     },
     "metadata": {},
     "output_type": "display_data"
    },
    {
     "data": {
      "text/html": [
       " View project at <a href='https://wandb.ai/dmitrii_fomin_uga/Internship_project' target=\"_blank\">https://wandb.ai/dmitrii_fomin_uga/Internship_project</a>"
      ],
      "text/plain": [
       "<IPython.core.display.HTML object>"
      ]
     },
     "metadata": {},
     "output_type": "display_data"
    },
    {
     "data": {
      "text/html": [
       " View run at <a href='https://wandb.ai/dmitrii_fomin_uga/Internship_project/runs/ntropd5k' target=\"_blank\">https://wandb.ai/dmitrii_fomin_uga/Internship_project/runs/ntropd5k</a>"
      ],
      "text/plain": [
       "<IPython.core.display.HTML object>"
      ]
     },
     "metadata": {},
     "output_type": "display_data"
    },
    {
     "data": {
      "text/html": [
       "Waiting for W&B process to finish... <strong style=\"color:green\">(success).</strong>"
      ],
      "text/plain": [
       "<IPython.core.display.HTML object>"
      ]
     },
     "metadata": {},
     "output_type": "display_data"
    },
    {
     "data": {
      "text/html": [
       "<style>\n",
       "    table.wandb td:nth-child(1) { padding: 0 10px; text-align: left ; width: auto;} td:nth-child(2) {text-align: left ; width: 100%}\n",
       "    .wandb-row { display: flex; flex-direction: row; flex-wrap: wrap; justify-content: flex-start; width: 100% }\n",
       "    .wandb-col { display: flex; flex-direction: column; flex-basis: 100%; flex: 1; padding: 10px; }\n",
       "    </style>\n",
       "<div class=\"wandb-row\"><div class=\"wandb-col\"><h3>Run history:</h3><br/><table class=\"wandb\"><tr><td>epoch</td><td>▁▁▁▂▂▂▂▂▂▃▃▃▃▃▄▄▄▄▄▄▅▅▅▅▅▅▆▆▆▆▆▇▇▇▇▇▇███</td></tr><tr><td>lr</td><td>█▇▇▆▆▅▅▄▄▄▃▃▃▃▃▂▂▂▂▂▂▂▂▂▁▁▁▁▁▁▁▁▁▁▁▁▁▁▁▁</td></tr><tr><td>test_accuracy</td><td>▁▅▆▆▇▆▇▅▅▇▇▇█▇▇▇▆▆▇▇▇█▇▇█▇███▇██████████</td></tr><tr><td>test_auc_score</td><td>▁▄▄▆▆▅▄▃▇▇▆▆▇▆▇▆▅▇▇██▇▆▇▇▇▇▇▇▇█▇▇▇▇▇▇▇▇▇</td></tr><tr><td>test_f1_score</td><td>▁▅▅▆▇▆▇▅▅▆▆▇█▇▇▆▆▆▇▇▇█▇▇▇▇▇▇█▇████▇██▇██</td></tr><tr><td>test_fpr</td><td>█▄▃▃▂▃▂▄▄▃▂▂▁▂▂▂▃▃▂▂▂▁▂▂▁▂▁▁▁▂▁▁▁▁▁▁▁▁▁▁</td></tr><tr><td>test_loss</td><td>█▄▃▂▂▃▂▄▄▂▂▁▁▂▂▂▃▂▁▁▁▁▂▂▁▁▁▁▁▂▁▁▁▁▁▁▁▁▁▁</td></tr><tr><td>test_tpr</td><td>▄▄▄▆▅▄▅▇█▆▅▅▆▅▄▇▅▅▅▄▃▃▄▄▃▂▂▂▂▂▂▃▃▃▃▂▁▂▁▂</td></tr><tr><td>train_accuracy</td><td>▁▆▆▆▇▇▇▇▆▇▇▇▇▇▇▇▇▇▇▇████████████████████</td></tr><tr><td>train_auc_score</td><td>▁▇▇▇▇▇██▇███████████████████████████████</td></tr><tr><td>train_f1_score</td><td>▁▆▆▆▇▆▇▇▆▇▇▇▇▇▇▇▇▇▇▇██▇▇████████████████</td></tr><tr><td>train_fpr</td><td>█▃▃▃▂▂▂▂▃▂▂▂▂▂▂▂▂▂▂▂▁▁▁▂▁▁▁▁▁▁▁▁▁▁▁▁▁▁▁▁</td></tr><tr><td>train_loss</td><td>█▄▃▃▃▂▂▂▂▂▂▂▂▂▂▂▂▂▂▂▁▁▁▁▁▁▁▁▁▁▁▁▁▁▁▁▁▁▁▁</td></tr><tr><td>train_tpr</td><td>▁▅▅▆▆▆▇▆▇▆▇▇▇▇▇▇▇▇▇█▇▇██▇██▇████████████</td></tr></table><br/></div><div class=\"wandb-col\"><h3>Run summary:</h3><br/><table class=\"wandb\"><tr><td>epoch</td><td>39</td></tr><tr><td>lr</td><td>0.00015</td></tr><tr><td>test_accuracy</td><td>0.82941</td></tr><tr><td>test_auc_score</td><td>0.95448</td></tr><tr><td>test_f1_score</td><td>0.5858</td></tr><tr><td>test_fpr</td><td>0.17392</td></tr><tr><td>test_loss</td><td>0.0431</td></tr><tr><td>test_tpr</td><td>0.92864</td></tr><tr><td>train_accuracy</td><td>0.97866</td></tr><tr><td>train_auc_score</td><td>0.99659</td></tr><tr><td>train_f1_score</td><td>0.97542</td></tr><tr><td>train_fpr</td><td>0.02866</td></tr><tr><td>train_loss</td><td>-0.00437</td></tr><tr><td>train_tpr</td><td>0.99501</td></tr></table><br/></div></div>"
      ],
      "text/plain": [
       "<IPython.core.display.HTML object>"
      ]
     },
     "metadata": {},
     "output_type": "display_data"
    },
    {
     "data": {
      "text/html": [
       " View run <strong style=\"color:#cdcd00\">EM_DWBLoss()_SMOTE-0.45</strong> at: <a href='https://wandb.ai/dmitrii_fomin_uga/Internship_project/runs/ntropd5k' target=\"_blank\">https://wandb.ai/dmitrii_fomin_uga/Internship_project/runs/ntropd5k</a><br/>Synced 5 W&B file(s), 0 media file(s), 0 artifact file(s) and 0 other file(s)"
      ],
      "text/plain": [
       "<IPython.core.display.HTML object>"
      ]
     },
     "metadata": {},
     "output_type": "display_data"
    },
    {
     "data": {
      "text/html": [
       "Find logs at: <code>../logs/wandb\\run-20230705_102237-ntropd5k\\logs</code>"
      ],
      "text/plain": [
       "<IPython.core.display.HTML object>"
      ]
     },
     "metadata": {},
     "output_type": "display_data"
    },
    {
     "data": {
      "text/html": [
       "Tracking run with wandb version 0.15.4"
      ],
      "text/plain": [
       "<IPython.core.display.HTML object>"
      ]
     },
     "metadata": {},
     "output_type": "display_data"
    },
    {
     "data": {
      "text/html": [
       "Run data is saved locally in <code>../logs/wandb\\run-20230705_102251-59pccafr</code>"
      ],
      "text/plain": [
       "<IPython.core.display.HTML object>"
      ]
     },
     "metadata": {},
     "output_type": "display_data"
    },
    {
     "data": {
      "text/html": [
       "Syncing run <strong><a href='https://wandb.ai/dmitrii_fomin_uga/Internship_project/runs/59pccafr' target=\"_blank\">EM_DWBLoss()_SMOTE-0.5</a></strong> to <a href='https://wandb.ai/dmitrii_fomin_uga/Internship_project' target=\"_blank\">Weights & Biases</a> (<a href='https://wandb.me/run' target=\"_blank\">docs</a>)<br/>"
      ],
      "text/plain": [
       "<IPython.core.display.HTML object>"
      ]
     },
     "metadata": {},
     "output_type": "display_data"
    },
    {
     "data": {
      "text/html": [
       " View project at <a href='https://wandb.ai/dmitrii_fomin_uga/Internship_project' target=\"_blank\">https://wandb.ai/dmitrii_fomin_uga/Internship_project</a>"
      ],
      "text/plain": [
       "<IPython.core.display.HTML object>"
      ]
     },
     "metadata": {},
     "output_type": "display_data"
    },
    {
     "data": {
      "text/html": [
       " View run at <a href='https://wandb.ai/dmitrii_fomin_uga/Internship_project/runs/59pccafr' target=\"_blank\">https://wandb.ai/dmitrii_fomin_uga/Internship_project/runs/59pccafr</a>"
      ],
      "text/plain": [
       "<IPython.core.display.HTML object>"
      ]
     },
     "metadata": {},
     "output_type": "display_data"
    },
    {
     "data": {
      "text/html": [
       "Waiting for W&B process to finish... <strong style=\"color:green\">(success).</strong>"
      ],
      "text/plain": [
       "<IPython.core.display.HTML object>"
      ]
     },
     "metadata": {},
     "output_type": "display_data"
    },
    {
     "data": {
      "text/html": [
       "<style>\n",
       "    table.wandb td:nth-child(1) { padding: 0 10px; text-align: left ; width: auto;} td:nth-child(2) {text-align: left ; width: 100%}\n",
       "    .wandb-row { display: flex; flex-direction: row; flex-wrap: wrap; justify-content: flex-start; width: 100% }\n",
       "    .wandb-col { display: flex; flex-direction: column; flex-basis: 100%; flex: 1; padding: 10px; }\n",
       "    </style>\n",
       "<div class=\"wandb-row\"><div class=\"wandb-col\"><h3>Run history:</h3><br/><table class=\"wandb\"><tr><td>epoch</td><td>▁▁▁▂▂▂▂▂▂▃▃▃▃▃▄▄▄▄▄▄▅▅▅▅▅▅▆▆▆▆▆▇▇▇▇▇▇███</td></tr><tr><td>lr</td><td>█▇▇▆▆▅▅▄▄▄▃▃▃▃▃▂▂▂▂▂▂▂▂▂▁▁▁▁▁▁▁▁▁▁▁▁▁▁▁▁</td></tr><tr><td>test_accuracy</td><td>▁▄▅▆▅▆▆▆▆▇▆▆▆▇█▆▇▇▇▇▇▇▇▇▇███████▇███████</td></tr><tr><td>test_auc_score</td><td>▁▂▆▅▅▆▆▅▇▆▆▆▇█▇▇▇▇▇█▇█▇█▇▇▇▇▇▇▇▇▇▇▇▇▇▇▇▇</td></tr><tr><td>test_f1_score</td><td>▁▄▅▅▅▆▆▅▆▆▅▆▆▆▇▆▆▇▇▇▇▇▇▇▇▇▇▇██▇█▇▇██████</td></tr><tr><td>test_fpr</td><td>█▅▄▃▄▃▃▃▃▂▃▃▃▂▂▃▂▂▂▂▂▂▂▂▂▁▁▁▁▁▁▁▂▁▁▁▁▁▁▁</td></tr><tr><td>test_loss</td><td>█▆▄▄▄▃▃▃▃▂▃▃▃▂▁▃▂▂▂▂▂▂▂▂▂▁▂▁▁▁▁▁▂▁▁▁▁▁▁▁</td></tr><tr><td>test_tpr</td><td>▆▆▃▇█▆▇▄█▆▇▇▆▇▇█▇▇▃▇▂▇▄▆▂▄▄▄▃▃▄▅▃▂▃▄▁▁▁▃</td></tr><tr><td>train_accuracy</td><td>▁▅▆▆▆▇▇▆▇▇▇▇▇▇▇▇▇▇██████████████████████</td></tr><tr><td>train_auc_score</td><td>▁▇▇▇▇▇██████████████████████████████████</td></tr><tr><td>train_f1_score</td><td>▁▅▆▆▆▆▇▆▇▇▇▇▇▇▇▇▇▇██▇███████████████████</td></tr><tr><td>train_fpr</td><td>█▄▃▃▃▂▂▃▂▂▂▂▂▂▂▂▂▂▁▁▂▁▁▁▁▁▁▁▁▁▁▁▁▁▁▁▁▁▁▁</td></tr><tr><td>train_loss</td><td>█▄▃▃▃▂▂▂▂▂▂▂▂▂▂▂▂▂▁▁▁▁▁▁▁▁▁▁▁▁▁▁▁▁▁▁▁▁▁▁</td></tr><tr><td>train_tpr</td><td>▁▅▅▆▆▆▆▇▇▇▇▇▇█▇▇▇████▇██████████████████</td></tr></table><br/></div><div class=\"wandb-col\"><h3>Run summary:</h3><br/><table class=\"wandb\"><tr><td>epoch</td><td>39</td></tr><tr><td>lr</td><td>0.00015</td></tr><tr><td>test_accuracy</td><td>0.84449</td></tr><tr><td>test_auc_score</td><td>0.95845</td></tr><tr><td>test_f1_score</td><td>0.60297</td></tr><tr><td>test_fpr</td><td>0.15923</td></tr><tr><td>test_loss</td><td>0.03659</td></tr><tr><td>test_tpr</td><td>0.95</td></tr><tr><td>train_accuracy</td><td>0.98032</td></tr><tr><td>train_auc_score</td><td>0.99705</td></tr><tr><td>train_f1_score</td><td>0.97807</td></tr><tr><td>train_fpr</td><td>0.02647</td></tr><tr><td>train_loss</td><td>-0.00375</td></tr><tr><td>train_tpr</td><td>0.99457</td></tr></table><br/></div></div>"
      ],
      "text/plain": [
       "<IPython.core.display.HTML object>"
      ]
     },
     "metadata": {},
     "output_type": "display_data"
    },
    {
     "data": {
      "text/html": [
       " View run <strong style=\"color:#cdcd00\">EM_DWBLoss()_SMOTE-0.5</strong> at: <a href='https://wandb.ai/dmitrii_fomin_uga/Internship_project/runs/59pccafr' target=\"_blank\">https://wandb.ai/dmitrii_fomin_uga/Internship_project/runs/59pccafr</a><br/>Synced 5 W&B file(s), 0 media file(s), 0 artifact file(s) and 0 other file(s)"
      ],
      "text/plain": [
       "<IPython.core.display.HTML object>"
      ]
     },
     "metadata": {},
     "output_type": "display_data"
    },
    {
     "data": {
      "text/html": [
       "Find logs at: <code>../logs/wandb\\run-20230705_102251-59pccafr\\logs</code>"
      ],
      "text/plain": [
       "<IPython.core.display.HTML object>"
      ]
     },
     "metadata": {},
     "output_type": "display_data"
    },
    {
     "data": {
      "text/html": [
       "Tracking run with wandb version 0.15.4"
      ],
      "text/plain": [
       "<IPython.core.display.HTML object>"
      ]
     },
     "metadata": {},
     "output_type": "display_data"
    },
    {
     "data": {
      "text/html": [
       "Run data is saved locally in <code>../logs/wandb\\run-20230705_102306-64616czr</code>"
      ],
      "text/plain": [
       "<IPython.core.display.HTML object>"
      ]
     },
     "metadata": {},
     "output_type": "display_data"
    },
    {
     "data": {
      "text/html": [
       "Syncing run <strong><a href='https://wandb.ai/dmitrii_fomin_uga/Internship_project/runs/64616czr' target=\"_blank\">EM_DWBLoss()_SMOTE-0.55</a></strong> to <a href='https://wandb.ai/dmitrii_fomin_uga/Internship_project' target=\"_blank\">Weights & Biases</a> (<a href='https://wandb.me/run' target=\"_blank\">docs</a>)<br/>"
      ],
      "text/plain": [
       "<IPython.core.display.HTML object>"
      ]
     },
     "metadata": {},
     "output_type": "display_data"
    },
    {
     "data": {
      "text/html": [
       " View project at <a href='https://wandb.ai/dmitrii_fomin_uga/Internship_project' target=\"_blank\">https://wandb.ai/dmitrii_fomin_uga/Internship_project</a>"
      ],
      "text/plain": [
       "<IPython.core.display.HTML object>"
      ]
     },
     "metadata": {},
     "output_type": "display_data"
    },
    {
     "data": {
      "text/html": [
       " View run at <a href='https://wandb.ai/dmitrii_fomin_uga/Internship_project/runs/64616czr' target=\"_blank\">https://wandb.ai/dmitrii_fomin_uga/Internship_project/runs/64616czr</a>"
      ],
      "text/plain": [
       "<IPython.core.display.HTML object>"
      ]
     },
     "metadata": {},
     "output_type": "display_data"
    },
    {
     "data": {
      "text/html": [
       "Waiting for W&B process to finish... <strong style=\"color:green\">(success).</strong>"
      ],
      "text/plain": [
       "<IPython.core.display.HTML object>"
      ]
     },
     "metadata": {},
     "output_type": "display_data"
    },
    {
     "data": {
      "text/html": [
       "<style>\n",
       "    table.wandb td:nth-child(1) { padding: 0 10px; text-align: left ; width: auto;} td:nth-child(2) {text-align: left ; width: 100%}\n",
       "    .wandb-row { display: flex; flex-direction: row; flex-wrap: wrap; justify-content: flex-start; width: 100% }\n",
       "    .wandb-col { display: flex; flex-direction: column; flex-basis: 100%; flex: 1; padding: 10px; }\n",
       "    </style>\n",
       "<div class=\"wandb-row\"><div class=\"wandb-col\"><h3>Run history:</h3><br/><table class=\"wandb\"><tr><td>epoch</td><td>▁▁▁▂▂▂▂▂▂▃▃▃▃▃▄▄▄▄▄▄▅▅▅▅▅▅▆▆▆▆▆▇▇▇▇▇▇███</td></tr><tr><td>lr</td><td>█▇▇▆▆▅▅▄▄▄▃▃▃▃▃▂▂▂▂▂▂▂▂▂▁▁▁▁▁▁▁▁▁▁▁▁▁▁▁▁</td></tr><tr><td>test_accuracy</td><td>▁▃▅▅▅▅▆▆▆▆▆▆▃▄▅▇▇▇▆▇▇▇▇▇▇▆▇▇▇█▇▇████████</td></tr><tr><td>test_auc_score</td><td>▁▂▁▂▂▅▅▅▃▅▆▆▆▅▇█▆▆▇▆▆▆▆▆▅▆▆▅▆▆▆▅▅▅▆▆▆▆▆▆</td></tr><tr><td>test_f1_score</td><td>▁▃▄▅▅▄▆▆▅▅▆▆▃▄▅▆▇▆▆▇▇▇▇▇▆▆▇▇▇█▇▇███▇████</td></tr><tr><td>test_fpr</td><td>█▆▄▄▄▄▃▃▃▃▃▃▆▅▄▃▂▂▃▂▂▂▂▂▂▃▂▂▂▁▂▂▁▁▁▁▁▁▁▁</td></tr><tr><td>test_loss</td><td>██▅▄▄▅▂▄▄▄▃▃▆▆▄▂▂▂▃▂▂▂▂▂▃▃▂▂▂▁▂▂▁▁▁▂▁▁▁▁</td></tr><tr><td>test_tpr</td><td>▆▆▄▁▁▇█▇▆▃▅▆▅▆███▆▅▄▄▄▂▃▃▅▄▃▅▄▅▄▄▁▄▃▁▁▃▄</td></tr><tr><td>train_accuracy</td><td>▁▅▆▆▆▇▇▇▇▇▇▇▆▆▇▇▇█▇█████████████████████</td></tr><tr><td>train_auc_score</td><td>▁▇▇▇▇▇██████▇▇██████████████████████████</td></tr><tr><td>train_f1_score</td><td>▁▅▆▆▆▇▇▇▇▇▇▇▆▆▇▇▇█▇█████████████████████</td></tr><tr><td>train_fpr</td><td>█▄▃▃▃▂▂▂▂▂▂▂▃▃▂▂▂▂▂▁▂▁▁▁▁▁▁▁▁▁▁▁▁▁▁▁▁▁▁▁</td></tr><tr><td>train_loss</td><td>█▄▃▃▃▂▂▂▂▂▂▂▃▂▂▂▁▁▁▁▁▁▁▁▁▁▁▁▁▁▁▁▁▁▁▁▁▁▁▁</td></tr><tr><td>train_tpr</td><td>▁▅▆▆▆▇▇▇▆▇▆▇▇▇▇▇▇▇█▇█▇▇▇█████▇████████▇█</td></tr></table><br/></div><div class=\"wandb-col\"><h3>Run summary:</h3><br/><table class=\"wandb\"><tr><td>epoch</td><td>39</td></tr><tr><td>lr</td><td>0.00015</td></tr><tr><td>test_accuracy</td><td>0.79147</td></tr><tr><td>test_auc_score</td><td>0.95066</td></tr><tr><td>test_f1_score</td><td>0.55832</td></tr><tr><td>test_fpr</td><td>0.21488</td></tr><tr><td>test_loss</td><td>0.0612</td></tr><tr><td>test_tpr</td><td>0.97432</td></tr><tr><td>train_accuracy</td><td>0.97203</td></tr><tr><td>train_auc_score</td><td>0.99485</td></tr><tr><td>train_f1_score</td><td>0.96989</td></tr><tr><td>train_fpr</td><td>0.04023</td></tr><tr><td>train_loss</td><td>0.00173</td></tr><tr><td>train_tpr</td><td>0.99446</td></tr></table><br/></div></div>"
      ],
      "text/plain": [
       "<IPython.core.display.HTML object>"
      ]
     },
     "metadata": {},
     "output_type": "display_data"
    },
    {
     "data": {
      "text/html": [
       " View run <strong style=\"color:#cdcd00\">EM_DWBLoss()_SMOTE-0.55</strong> at: <a href='https://wandb.ai/dmitrii_fomin_uga/Internship_project/runs/64616czr' target=\"_blank\">https://wandb.ai/dmitrii_fomin_uga/Internship_project/runs/64616czr</a><br/>Synced 5 W&B file(s), 0 media file(s), 0 artifact file(s) and 0 other file(s)"
      ],
      "text/plain": [
       "<IPython.core.display.HTML object>"
      ]
     },
     "metadata": {},
     "output_type": "display_data"
    },
    {
     "data": {
      "text/html": [
       "Find logs at: <code>../logs/wandb\\run-20230705_102306-64616czr\\logs</code>"
      ],
      "text/plain": [
       "<IPython.core.display.HTML object>"
      ]
     },
     "metadata": {},
     "output_type": "display_data"
    },
    {
     "data": {
      "text/html": [
       "Tracking run with wandb version 0.15.4"
      ],
      "text/plain": [
       "<IPython.core.display.HTML object>"
      ]
     },
     "metadata": {},
     "output_type": "display_data"
    },
    {
     "data": {
      "text/html": [
       "Run data is saved locally in <code>../logs/wandb\\run-20230705_102321-tfup0q4z</code>"
      ],
      "text/plain": [
       "<IPython.core.display.HTML object>"
      ]
     },
     "metadata": {},
     "output_type": "display_data"
    },
    {
     "data": {
      "text/html": [
       "Syncing run <strong><a href='https://wandb.ai/dmitrii_fomin_uga/Internship_project/runs/tfup0q4z' target=\"_blank\">EM_DWBLoss()_SMOTE-0.6</a></strong> to <a href='https://wandb.ai/dmitrii_fomin_uga/Internship_project' target=\"_blank\">Weights & Biases</a> (<a href='https://wandb.me/run' target=\"_blank\">docs</a>)<br/>"
      ],
      "text/plain": [
       "<IPython.core.display.HTML object>"
      ]
     },
     "metadata": {},
     "output_type": "display_data"
    },
    {
     "data": {
      "text/html": [
       " View project at <a href='https://wandb.ai/dmitrii_fomin_uga/Internship_project' target=\"_blank\">https://wandb.ai/dmitrii_fomin_uga/Internship_project</a>"
      ],
      "text/plain": [
       "<IPython.core.display.HTML object>"
      ]
     },
     "metadata": {},
     "output_type": "display_data"
    },
    {
     "data": {
      "text/html": [
       " View run at <a href='https://wandb.ai/dmitrii_fomin_uga/Internship_project/runs/tfup0q4z' target=\"_blank\">https://wandb.ai/dmitrii_fomin_uga/Internship_project/runs/tfup0q4z</a>"
      ],
      "text/plain": [
       "<IPython.core.display.HTML object>"
      ]
     },
     "metadata": {},
     "output_type": "display_data"
    },
    {
     "data": {
      "text/html": [
       "Waiting for W&B process to finish... <strong style=\"color:green\">(success).</strong>"
      ],
      "text/plain": [
       "<IPython.core.display.HTML object>"
      ]
     },
     "metadata": {},
     "output_type": "display_data"
    },
    {
     "data": {
      "text/html": [
       "<style>\n",
       "    table.wandb td:nth-child(1) { padding: 0 10px; text-align: left ; width: auto;} td:nth-child(2) {text-align: left ; width: 100%}\n",
       "    .wandb-row { display: flex; flex-direction: row; flex-wrap: wrap; justify-content: flex-start; width: 100% }\n",
       "    .wandb-col { display: flex; flex-direction: column; flex-basis: 100%; flex: 1; padding: 10px; }\n",
       "    </style>\n",
       "<div class=\"wandb-row\"><div class=\"wandb-col\"><h3>Run history:</h3><br/><table class=\"wandb\"><tr><td>epoch</td><td>▁▁▁▂▂▂▂▂▂▃▃▃▃▃▄▄▄▄▄▄▅▅▅▅▅▅▆▆▆▆▆▇▇▇▇▇▇███</td></tr><tr><td>lr</td><td>█▇▇▆▆▅▅▄▄▄▃▃▃▃▃▂▂▂▂▂▂▂▂▂▁▁▁▁▁▁▁▁▁▁▁▁▁▁▁▁</td></tr><tr><td>test_accuracy</td><td>▁▆▃▅▅▅▅▄▄▆▆▇▆▇▅▇▆▇▇▆▇▇▇▇▇▇██████████████</td></tr><tr><td>test_auc_score</td><td>▁▆▅█▇▇▇▇▇█▆█▆█▇█▇▇▇▇▇▇▇██▇█▇██▇▇▇▇▇▇▇▇▇▇</td></tr><tr><td>test_f1_score</td><td>▁▆▃▅▅▅▅▄▄▆▆▇▆▆▅▇▆▇▇▆▇▇▇▇▇▇██▇██▇████████</td></tr><tr><td>test_fpr</td><td>█▃▆▄▄▄▄▅▅▃▃▂▃▃▄▂▃▂▂▃▂▂▂▂▂▂▁▁▁▁▁▁▁▁▁▁▁▁▁▁</td></tr><tr><td>test_loss</td><td>█▃▇▅▅▄▄▅▅▃▃▂▃▃▄▂▃▂▂▃▂▂▂▂▁▂▁▁▁▁▁▁▁▁▁▁▁▁▁▁</td></tr><tr><td>test_tpr</td><td>▃▇▇▃█▆▆▆█▇█▅▆▆█▆▅▃▃▇▄▅▅▇▅▃▃▂▃▂▃▂▂▂▂▂▂▁▁▂</td></tr><tr><td>train_accuracy</td><td>▁▅▆▆▆▇▇▇▇▇▇▇▇▇▇▇▇▇▇▇▇█▇█████████████████</td></tr><tr><td>train_auc_score</td><td>▁▇▇▇▇██▇████████████████████████████████</td></tr><tr><td>train_f1_score</td><td>▁▅▆▆▆▇▇▆▇▇▇▇▇▇▇▇▇▇▇▇▇█▇█████████████████</td></tr><tr><td>train_fpr</td><td>█▄▃▃▃▂▂▃▂▂▂▂▂▂▂▂▂▂▂▂▂▁▂▂▁▁▁▁▁▁▁▁▁▁▁▁▁▁▁▁</td></tr><tr><td>train_loss</td><td>█▄▃▃▃▂▂▂▂▂▂▂▂▂▂▂▂▂▂▂▁▁▁▁▁▁▁▁▁▁▁▁▁▁▁▁▁▁▁▁</td></tr><tr><td>train_tpr</td><td>▁▆▅▆▆▇▇▇▇▇▇▇▇▇▇█▇▇██████████████████████</td></tr></table><br/></div><div class=\"wandb-col\"><h3>Run summary:</h3><br/><table class=\"wandb\"><tr><td>epoch</td><td>39</td></tr><tr><td>lr</td><td>0.00015</td></tr><tr><td>test_accuracy</td><td>0.79265</td></tr><tr><td>test_auc_score</td><td>0.93007</td></tr><tr><td>test_f1_score</td><td>0.55793</td></tr><tr><td>test_fpr</td><td>0.21291</td></tr><tr><td>test_loss</td><td>0.06196</td></tr><tr><td>test_tpr</td><td>0.94941</td></tr><tr><td>train_accuracy</td><td>0.97752</td></tr><tr><td>train_auc_score</td><td>0.99336</td></tr><tr><td>train_f1_score</td><td>0.9762</td></tr><tr><td>train_fpr</td><td>0.03328</td></tr><tr><td>train_loss</td><td>0.0011</td></tr><tr><td>train_tpr</td><td>0.9959</td></tr></table><br/></div></div>"
      ],
      "text/plain": [
       "<IPython.core.display.HTML object>"
      ]
     },
     "metadata": {},
     "output_type": "display_data"
    },
    {
     "data": {
      "text/html": [
       " View run <strong style=\"color:#cdcd00\">EM_DWBLoss()_SMOTE-0.6</strong> at: <a href='https://wandb.ai/dmitrii_fomin_uga/Internship_project/runs/tfup0q4z' target=\"_blank\">https://wandb.ai/dmitrii_fomin_uga/Internship_project/runs/tfup0q4z</a><br/>Synced 5 W&B file(s), 0 media file(s), 0 artifact file(s) and 0 other file(s)"
      ],
      "text/plain": [
       "<IPython.core.display.HTML object>"
      ]
     },
     "metadata": {},
     "output_type": "display_data"
    },
    {
     "data": {
      "text/html": [
       "Find logs at: <code>../logs/wandb\\run-20230705_102321-tfup0q4z\\logs</code>"
      ],
      "text/plain": [
       "<IPython.core.display.HTML object>"
      ]
     },
     "metadata": {},
     "output_type": "display_data"
    },
    {
     "data": {
      "text/html": [
       "Tracking run with wandb version 0.15.4"
      ],
      "text/plain": [
       "<IPython.core.display.HTML object>"
      ]
     },
     "metadata": {},
     "output_type": "display_data"
    },
    {
     "data": {
      "text/html": [
       "Run data is saved locally in <code>../logs/wandb\\run-20230705_102335-3dyvq5i1</code>"
      ],
      "text/plain": [
       "<IPython.core.display.HTML object>"
      ]
     },
     "metadata": {},
     "output_type": "display_data"
    },
    {
     "data": {
      "text/html": [
       "Syncing run <strong><a href='https://wandb.ai/dmitrii_fomin_uga/Internship_project/runs/3dyvq5i1' target=\"_blank\">EM_DWBLoss()_SMOTE-0.7</a></strong> to <a href='https://wandb.ai/dmitrii_fomin_uga/Internship_project' target=\"_blank\">Weights & Biases</a> (<a href='https://wandb.me/run' target=\"_blank\">docs</a>)<br/>"
      ],
      "text/plain": [
       "<IPython.core.display.HTML object>"
      ]
     },
     "metadata": {},
     "output_type": "display_data"
    },
    {
     "data": {
      "text/html": [
       " View project at <a href='https://wandb.ai/dmitrii_fomin_uga/Internship_project' target=\"_blank\">https://wandb.ai/dmitrii_fomin_uga/Internship_project</a>"
      ],
      "text/plain": [
       "<IPython.core.display.HTML object>"
      ]
     },
     "metadata": {},
     "output_type": "display_data"
    },
    {
     "data": {
      "text/html": [
       " View run at <a href='https://wandb.ai/dmitrii_fomin_uga/Internship_project/runs/3dyvq5i1' target=\"_blank\">https://wandb.ai/dmitrii_fomin_uga/Internship_project/runs/3dyvq5i1</a>"
      ],
      "text/plain": [
       "<IPython.core.display.HTML object>"
      ]
     },
     "metadata": {},
     "output_type": "display_data"
    },
    {
     "data": {
      "text/html": [
       "Waiting for W&B process to finish... <strong style=\"color:green\">(success).</strong>"
      ],
      "text/plain": [
       "<IPython.core.display.HTML object>"
      ]
     },
     "metadata": {},
     "output_type": "display_data"
    },
    {
     "data": {
      "text/html": [
       "<style>\n",
       "    table.wandb td:nth-child(1) { padding: 0 10px; text-align: left ; width: auto;} td:nth-child(2) {text-align: left ; width: 100%}\n",
       "    .wandb-row { display: flex; flex-direction: row; flex-wrap: wrap; justify-content: flex-start; width: 100% }\n",
       "    .wandb-col { display: flex; flex-direction: column; flex-basis: 100%; flex: 1; padding: 10px; }\n",
       "    </style>\n",
       "<div class=\"wandb-row\"><div class=\"wandb-col\"><h3>Run history:</h3><br/><table class=\"wandb\"><tr><td>epoch</td><td>▁▁▁▂▂▂▂▂▂▃▃▃▃▃▄▄▄▄▄▄▅▅▅▅▅▅▆▆▆▆▆▇▇▇▇▇▇███</td></tr><tr><td>lr</td><td>█▇▇▆▆▅▅▄▄▄▃▃▃▃▃▂▂▂▂▂▂▂▂▂▁▁▁▁▁▁▁▁▁▁▁▁▁▁▁▁</td></tr><tr><td>test_accuracy</td><td>▃▆▄▁▅▅▄▂▃▄▃▃▆▄▅▅▆▆▇▆▆▇▇▆▆▇▇▇▆▇▇█████████</td></tr><tr><td>test_auc_score</td><td>▃▁▃▅▆▇▇▆▆▆▇▅▆▇█▆▇██▇▇▇▇▆▇▇▇▇▇▇▇▇▇▇▆▇▇▇▆▆</td></tr><tr><td>test_f1_score</td><td>▃▆▄▁▅▅▄▂▃▄▃▃▆▄▅▅▆▆▇▆▇▇▇▆▇█▇▇▆▇▇█████████</td></tr><tr><td>test_fpr</td><td>▆▃▅█▄▄▅▇▆▅▆▆▃▅▄▄▃▃▂▃▃▂▂▃▃▂▂▂▃▂▂▁▁▁▁▁▁▁▁▁</td></tr><tr><td>test_loss</td><td>▅▃▅█▅▄▅▇▇▅▆▆▃▅▄▄▂▃▂▃▃▂▂▃▂▂▂▂▃▂▂▁▁▁▁▁▁▁▁▁</td></tr><tr><td>test_tpr</td><td>▂▁▄▅▅▇█▇▇▇▇▇▅▇█▇▇▇▇▆▇▇▇▇▇▇▇▇▅▆▅▄▄▅▅▄▃▄▄▄</td></tr><tr><td>train_accuracy</td><td>▁▅▆▆▆▇▇▇▆▇▇▆▇▇▇▇▇▇▇▇▇██▇▇▇▇▇████████████</td></tr><tr><td>train_auc_score</td><td>▁▇▇▇▇▇█▇▇▇█▇████████████████████████████</td></tr><tr><td>train_f1_score</td><td>▁▅▆▆▆▇▇▆▆▇▇▆▇▇▇▇▇▇▇▇▇██▇▇▇▇▇████████████</td></tr><tr><td>train_fpr</td><td>█▄▃▃▃▂▂▃▃▂▂▃▂▂▂▂▂▂▂▂▂▁▁▂▂▂▂▂▁▁▁▁▁▁▁▁▁▁▁▁</td></tr><tr><td>train_loss</td><td>█▄▃▃▃▂▂▃▂▂▂▂▂▂▂▂▂▂▂▁▁▁▁▂▂▁▁▁▁▁▁▁▁▁▁▁▁▁▁▁</td></tr><tr><td>train_tpr</td><td>▁▅▇▆▇▇▇▆▇▇▇▇▇▇▇█▇█▇▇█▇▇▇█▇██████████████</td></tr></table><br/></div><div class=\"wandb-col\"><h3>Run summary:</h3><br/><table class=\"wandb\"><tr><td>epoch</td><td>39</td></tr><tr><td>lr</td><td>0.00015</td></tr><tr><td>test_accuracy</td><td>0.7672</td></tr><tr><td>test_auc_score</td><td>0.93843</td></tr><tr><td>test_f1_score</td><td>0.54059</td></tr><tr><td>test_fpr</td><td>0.23956</td></tr><tr><td>test_loss</td><td>0.07286</td></tr><tr><td>test_tpr</td><td>0.95821</td></tr><tr><td>train_accuracy</td><td>0.97622</td></tr><tr><td>train_auc_score</td><td>0.994</td></tr><tr><td>train_f1_score</td><td>0.9756</td></tr><tr><td>train_fpr</td><td>0.03718</td></tr><tr><td>train_loss</td><td>0.00407</td></tr><tr><td>train_tpr</td><td>0.99551</td></tr></table><br/></div></div>"
      ],
      "text/plain": [
       "<IPython.core.display.HTML object>"
      ]
     },
     "metadata": {},
     "output_type": "display_data"
    },
    {
     "data": {
      "text/html": [
       " View run <strong style=\"color:#cdcd00\">EM_DWBLoss()_SMOTE-0.7</strong> at: <a href='https://wandb.ai/dmitrii_fomin_uga/Internship_project/runs/3dyvq5i1' target=\"_blank\">https://wandb.ai/dmitrii_fomin_uga/Internship_project/runs/3dyvq5i1</a><br/>Synced 5 W&B file(s), 0 media file(s), 0 artifact file(s) and 0 other file(s)"
      ],
      "text/plain": [
       "<IPython.core.display.HTML object>"
      ]
     },
     "metadata": {},
     "output_type": "display_data"
    },
    {
     "data": {
      "text/html": [
       "Find logs at: <code>../logs/wandb\\run-20230705_102335-3dyvq5i1\\logs</code>"
      ],
      "text/plain": [
       "<IPython.core.display.HTML object>"
      ]
     },
     "metadata": {},
     "output_type": "display_data"
    },
    {
     "data": {
      "text/html": [
       "Tracking run with wandb version 0.15.4"
      ],
      "text/plain": [
       "<IPython.core.display.HTML object>"
      ]
     },
     "metadata": {},
     "output_type": "display_data"
    },
    {
     "data": {
      "text/html": [
       "Run data is saved locally in <code>../logs/wandb\\run-20230705_102351-vflned72</code>"
      ],
      "text/plain": [
       "<IPython.core.display.HTML object>"
      ]
     },
     "metadata": {},
     "output_type": "display_data"
    },
    {
     "data": {
      "text/html": [
       "Syncing run <strong><a href='https://wandb.ai/dmitrii_fomin_uga/Internship_project/runs/vflned72' target=\"_blank\">EM_DWBLoss()_SMOTE-0.8</a></strong> to <a href='https://wandb.ai/dmitrii_fomin_uga/Internship_project' target=\"_blank\">Weights & Biases</a> (<a href='https://wandb.me/run' target=\"_blank\">docs</a>)<br/>"
      ],
      "text/plain": [
       "<IPython.core.display.HTML object>"
      ]
     },
     "metadata": {},
     "output_type": "display_data"
    },
    {
     "data": {
      "text/html": [
       " View project at <a href='https://wandb.ai/dmitrii_fomin_uga/Internship_project' target=\"_blank\">https://wandb.ai/dmitrii_fomin_uga/Internship_project</a>"
      ],
      "text/plain": [
       "<IPython.core.display.HTML object>"
      ]
     },
     "metadata": {},
     "output_type": "display_data"
    },
    {
     "data": {
      "text/html": [
       " View run at <a href='https://wandb.ai/dmitrii_fomin_uga/Internship_project/runs/vflned72' target=\"_blank\">https://wandb.ai/dmitrii_fomin_uga/Internship_project/runs/vflned72</a>"
      ],
      "text/plain": [
       "<IPython.core.display.HTML object>"
      ]
     },
     "metadata": {},
     "output_type": "display_data"
    },
    {
     "data": {
      "text/html": [
       "Waiting for W&B process to finish... <strong style=\"color:green\">(success).</strong>"
      ],
      "text/plain": [
       "<IPython.core.display.HTML object>"
      ]
     },
     "metadata": {},
     "output_type": "display_data"
    },
    {
     "data": {
      "text/html": [
       "<style>\n",
       "    table.wandb td:nth-child(1) { padding: 0 10px; text-align: left ; width: auto;} td:nth-child(2) {text-align: left ; width: 100%}\n",
       "    .wandb-row { display: flex; flex-direction: row; flex-wrap: wrap; justify-content: flex-start; width: 100% }\n",
       "    .wandb-col { display: flex; flex-direction: column; flex-basis: 100%; flex: 1; padding: 10px; }\n",
       "    </style>\n",
       "<div class=\"wandb-row\"><div class=\"wandb-col\"><h3>Run history:</h3><br/><table class=\"wandb\"><tr><td>epoch</td><td>▁▁▁▂▂▂▂▂▂▃▃▃▃▃▄▄▄▄▄▄▅▅▅▅▅▅▆▆▆▆▆▇▇▇▇▇▇███</td></tr><tr><td>lr</td><td>█▇▇▆▆▅▅▄▄▄▃▃▃▃▃▂▂▂▂▂▂▂▂▂▁▁▁▁▁▁▁▁▁▁▁▁▁▁▁▁</td></tr><tr><td>test_accuracy</td><td>▁▄▂▃▆▅▆▄▃▃▅▄▆▄▅▄▅▆▇▇▆▇▆▇▇▆▇█▇█████▇█████</td></tr><tr><td>test_auc_score</td><td>▁▇▆▆▇█▇▇▄▂▆▇▇█▇▇▄█▇▆▅▇▃▆▃▄▄▂▂▄▃▂▂▂▁▁▂▂▁▁</td></tr><tr><td>test_f1_score</td><td>▁▄▂▃▆▆▆▄▃▃▅▄▆▅▅▄▅▆▇▇▆▇▇█▇▆▇█▇█████▇█████</td></tr><tr><td>test_fpr</td><td>█▅▇▆▃▄▃▅▆▆▄▅▃▅▄▅▄▃▂▂▃▂▃▂▂▃▂▁▂▁▁▁▁▁▂▁▁▁▁▁</td></tr><tr><td>test_loss</td><td>▇▆█▆▃▄▃▅▆▆▄▅▃▄▃▅▄▃▂▂▂▁▂▁▂▃▂▁▂▁▁▁▁▁▂▁▁▁▁▁</td></tr><tr><td>test_tpr</td><td>▅█▆███▅▆▆▆█▆▇█▆▅▆▆▆▆▄▄▄▅▆▅▄▁▂▂▂▂▁▂▃▁▂▂▂▂</td></tr><tr><td>train_accuracy</td><td>▁▆▆▆▆▇▇▇▇▇▇▇▇▇▇▇▇▇██▇███████████████████</td></tr><tr><td>train_auc_score</td><td>▁▇▇▇▇███████████████████████████████████</td></tr><tr><td>train_f1_score</td><td>▁▆▆▆▆▇▇▇▇▇▇▇▇▇▇▇▇▇██▇███████████████████</td></tr><tr><td>train_fpr</td><td>█▃▄▂▃▂▂▂▂▂▂▂▂▂▂▂▂▂▂▁▂▁▂▁▁▁▁▁▁▁▁▁▁▁▁▁▁▁▁▁</td></tr><tr><td>train_loss</td><td>█▄▃▃▃▂▂▂▂▂▂▂▂▂▂▂▂▂▁▁▁▁▁▁▁▁▁▁▁▁▁▁▁▁▁▁▁▁▁▁</td></tr><tr><td>train_tpr</td><td>▁▆▆▆▆▆▇▇▇▇▇▇▇▇▇▇████████████████████████</td></tr></table><br/></div><div class=\"wandb-col\"><h3>Run summary:</h3><br/><table class=\"wandb\"><tr><td>epoch</td><td>39</td></tr><tr><td>lr</td><td>0.00015</td></tr><tr><td>test_accuracy</td><td>0.73739</td></tr><tr><td>test_auc_score</td><td>0.92096</td></tr><tr><td>test_f1_score</td><td>0.52052</td></tr><tr><td>test_fpr</td><td>0.27015</td></tr><tr><td>test_loss</td><td>0.08984</td></tr><tr><td>test_tpr</td><td>0.9502</td></tr><tr><td>train_accuracy</td><td>0.97632</td></tr><tr><td>train_auc_score</td><td>0.99236</td></tr><tr><td>train_f1_score</td><td>0.9761</td></tr><tr><td>train_fpr</td><td>0.04047</td></tr><tr><td>train_loss</td><td>0.00622</td></tr><tr><td>train_tpr</td><td>0.99747</td></tr></table><br/></div></div>"
      ],
      "text/plain": [
       "<IPython.core.display.HTML object>"
      ]
     },
     "metadata": {},
     "output_type": "display_data"
    },
    {
     "data": {
      "text/html": [
       " View run <strong style=\"color:#cdcd00\">EM_DWBLoss()_SMOTE-0.8</strong> at: <a href='https://wandb.ai/dmitrii_fomin_uga/Internship_project/runs/vflned72' target=\"_blank\">https://wandb.ai/dmitrii_fomin_uga/Internship_project/runs/vflned72</a><br/>Synced 5 W&B file(s), 0 media file(s), 0 artifact file(s) and 0 other file(s)"
      ],
      "text/plain": [
       "<IPython.core.display.HTML object>"
      ]
     },
     "metadata": {},
     "output_type": "display_data"
    },
    {
     "data": {
      "text/html": [
       "Find logs at: <code>../logs/wandb\\run-20230705_102351-vflned72\\logs</code>"
      ],
      "text/plain": [
       "<IPython.core.display.HTML object>"
      ]
     },
     "metadata": {},
     "output_type": "display_data"
    },
    {
     "data": {
      "text/html": [
       "Tracking run with wandb version 0.15.4"
      ],
      "text/plain": [
       "<IPython.core.display.HTML object>"
      ]
     },
     "metadata": {},
     "output_type": "display_data"
    },
    {
     "data": {
      "text/html": [
       "Run data is saved locally in <code>../logs/wandb\\run-20230705_102406-pinlaxg2</code>"
      ],
      "text/plain": [
       "<IPython.core.display.HTML object>"
      ]
     },
     "metadata": {},
     "output_type": "display_data"
    },
    {
     "data": {
      "text/html": [
       "Syncing run <strong><a href='https://wandb.ai/dmitrii_fomin_uga/Internship_project/runs/pinlaxg2' target=\"_blank\">EM_DWBLoss()_SMOTE-0.9</a></strong> to <a href='https://wandb.ai/dmitrii_fomin_uga/Internship_project' target=\"_blank\">Weights & Biases</a> (<a href='https://wandb.me/run' target=\"_blank\">docs</a>)<br/>"
      ],
      "text/plain": [
       "<IPython.core.display.HTML object>"
      ]
     },
     "metadata": {},
     "output_type": "display_data"
    },
    {
     "data": {
      "text/html": [
       " View project at <a href='https://wandb.ai/dmitrii_fomin_uga/Internship_project' target=\"_blank\">https://wandb.ai/dmitrii_fomin_uga/Internship_project</a>"
      ],
      "text/plain": [
       "<IPython.core.display.HTML object>"
      ]
     },
     "metadata": {},
     "output_type": "display_data"
    },
    {
     "data": {
      "text/html": [
       " View run at <a href='https://wandb.ai/dmitrii_fomin_uga/Internship_project/runs/pinlaxg2' target=\"_blank\">https://wandb.ai/dmitrii_fomin_uga/Internship_project/runs/pinlaxg2</a>"
      ],
      "text/plain": [
       "<IPython.core.display.HTML object>"
      ]
     },
     "metadata": {},
     "output_type": "display_data"
    },
    {
     "data": {
      "text/html": [
       "Waiting for W&B process to finish... <strong style=\"color:green\">(success).</strong>"
      ],
      "text/plain": [
       "<IPython.core.display.HTML object>"
      ]
     },
     "metadata": {},
     "output_type": "display_data"
    },
    {
     "data": {
      "text/html": [
       "<style>\n",
       "    table.wandb td:nth-child(1) { padding: 0 10px; text-align: left ; width: auto;} td:nth-child(2) {text-align: left ; width: 100%}\n",
       "    .wandb-row { display: flex; flex-direction: row; flex-wrap: wrap; justify-content: flex-start; width: 100% }\n",
       "    .wandb-col { display: flex; flex-direction: column; flex-basis: 100%; flex: 1; padding: 10px; }\n",
       "    </style>\n",
       "<div class=\"wandb-row\"><div class=\"wandb-col\"><h3>Run history:</h3><br/><table class=\"wandb\"><tr><td>epoch</td><td>▁▁▁▂▂▂▂▂▂▃▃▃▃▃▄▄▄▄▄▄▅▅▅▅▅▅▆▆▆▆▆▇▇▇▇▇▇███</td></tr><tr><td>lr</td><td>█▇▇▆▆▅▅▄▄▄▃▃▃▃▃▂▂▂▂▂▂▂▂▂▁▁▁▁▁▁▁▁▁▁▁▁▁▁▁▁</td></tr><tr><td>test_accuracy</td><td>▅▄▄▁▅▃▄▅▅▅▅▄▆▅▅▆▆▆▅▇▇▆▇▆█▇▇▇▇██▇▇▇▇█████</td></tr><tr><td>test_auc_score</td><td>▆▁▁▁▆▆▆█▆▄▄▄█▆▇▄▅▄▃▆▆▇▇▇█▇▆▆▆▇▇▆▆▆▆▆▆▆▇▇</td></tr><tr><td>test_f1_score</td><td>▅▄▄▁▅▂▄▅▅▅▅▄▆▄▅▆▆▆▅▇▇▆▇▆█▇▇▇▇▇▇▇▇▇▇█▇███</td></tr><tr><td>test_fpr</td><td>▄▅▅█▄▆▅▄▄▄▄▅▃▄▄▃▃▃▄▂▂▃▂▃▁▂▂▂▂▁▁▂▂▂▂▁▁▁▁▁</td></tr><tr><td>test_loss</td><td>▂▅▅█▄▆▅▄▄▄▄▅▃▄▄▃▃▃▄▂▂▂▂▂▁▂▂▂▂▂▁▂▂▂▂▁▁▁▁▁</td></tr><tr><td>test_tpr</td><td>▂▅███▆▆█▆▄▃▅▆▇▆▄▃▆█▃▄▆▄▆▄▄▄▄▁▄▂▁▂▂▁▁▄▄▃▄</td></tr><tr><td>train_accuracy</td><td>▁▅▆▅▆▆▆▇▇▇▇▇▇▇▇▇▇▇▇▇▇▇█▇████████████████</td></tr><tr><td>train_auc_score</td><td>▁▇▇▇▇▇▇███▇█████████████████████████████</td></tr><tr><td>train_f1_score</td><td>▁▅▆▅▆▆▆▇▇▇▇▇▇▇▇▇▇▇▇▇▇▇█▇████████████████</td></tr><tr><td>train_fpr</td><td>█▄▃▄▃▃▃▃▃▂▂▃▂▂▂▂▂▂▂▂▂▂▁▂▁▁▁▂▁▁▁▁▁▁▁▁▁▁▁▁</td></tr><tr><td>train_loss</td><td>█▄▃▃▃▃▃▂▂▂▂▂▂▂▂▂▂▂▂▂▁▁▁▁▁▁▁▁▁▁▁▁▁▁▁▁▁▁▁▁</td></tr><tr><td>train_tpr</td><td>▁▆▆▇▆▇▇▇▇▇▇▇▇█▇█▇█████████▇█████████████</td></tr></table><br/></div><div class=\"wandb-col\"><h3>Run summary:</h3><br/><table class=\"wandb\"><tr><td>epoch</td><td>39</td></tr><tr><td>lr</td><td>0.00015</td></tr><tr><td>test_accuracy</td><td>0.72371</td></tr><tr><td>test_auc_score</td><td>0.91998</td></tr><tr><td>test_f1_score</td><td>0.51309</td></tr><tr><td>test_fpr</td><td>0.285</td></tr><tr><td>test_loss</td><td>0.09563</td></tr><tr><td>test_tpr</td><td>0.97055</td></tr><tr><td>train_accuracy</td><td>0.97766</td></tr><tr><td>train_auc_score</td><td>0.99345</td></tr><tr><td>train_f1_score</td><td>0.9776</td></tr><tr><td>train_fpr</td><td>0.03853</td></tr><tr><td>train_loss</td><td>0.00844</td></tr><tr><td>train_tpr</td><td>0.99615</td></tr></table><br/></div></div>"
      ],
      "text/plain": [
       "<IPython.core.display.HTML object>"
      ]
     },
     "metadata": {},
     "output_type": "display_data"
    },
    {
     "data": {
      "text/html": [
       " View run <strong style=\"color:#cdcd00\">EM_DWBLoss()_SMOTE-0.9</strong> at: <a href='https://wandb.ai/dmitrii_fomin_uga/Internship_project/runs/pinlaxg2' target=\"_blank\">https://wandb.ai/dmitrii_fomin_uga/Internship_project/runs/pinlaxg2</a><br/>Synced 5 W&B file(s), 0 media file(s), 0 artifact file(s) and 0 other file(s)"
      ],
      "text/plain": [
       "<IPython.core.display.HTML object>"
      ]
     },
     "metadata": {},
     "output_type": "display_data"
    },
    {
     "data": {
      "text/html": [
       "Find logs at: <code>../logs/wandb\\run-20230705_102406-pinlaxg2\\logs</code>"
      ],
      "text/plain": [
       "<IPython.core.display.HTML object>"
      ]
     },
     "metadata": {},
     "output_type": "display_data"
    },
    {
     "data": {
      "text/html": [
       "Tracking run with wandb version 0.15.4"
      ],
      "text/plain": [
       "<IPython.core.display.HTML object>"
      ]
     },
     "metadata": {},
     "output_type": "display_data"
    },
    {
     "data": {
      "text/html": [
       "Run data is saved locally in <code>../logs/wandb\\run-20230705_102422-itgcke1z</code>"
      ],
      "text/plain": [
       "<IPython.core.display.HTML object>"
      ]
     },
     "metadata": {},
     "output_type": "display_data"
    },
    {
     "data": {
      "text/html": [
       "Syncing run <strong><a href='https://wandb.ai/dmitrii_fomin_uga/Internship_project/runs/itgcke1z' target=\"_blank\">EM_DWBLoss()_SMOTE-1</a></strong> to <a href='https://wandb.ai/dmitrii_fomin_uga/Internship_project' target=\"_blank\">Weights & Biases</a> (<a href='https://wandb.me/run' target=\"_blank\">docs</a>)<br/>"
      ],
      "text/plain": [
       "<IPython.core.display.HTML object>"
      ]
     },
     "metadata": {},
     "output_type": "display_data"
    },
    {
     "data": {
      "text/html": [
       " View project at <a href='https://wandb.ai/dmitrii_fomin_uga/Internship_project' target=\"_blank\">https://wandb.ai/dmitrii_fomin_uga/Internship_project</a>"
      ],
      "text/plain": [
       "<IPython.core.display.HTML object>"
      ]
     },
     "metadata": {},
     "output_type": "display_data"
    },
    {
     "data": {
      "text/html": [
       " View run at <a href='https://wandb.ai/dmitrii_fomin_uga/Internship_project/runs/itgcke1z' target=\"_blank\">https://wandb.ai/dmitrii_fomin_uga/Internship_project/runs/itgcke1z</a>"
      ],
      "text/plain": [
       "<IPython.core.display.HTML object>"
      ]
     },
     "metadata": {},
     "output_type": "display_data"
    },
    {
     "data": {
      "text/html": [
       "Waiting for W&B process to finish... <strong style=\"color:green\">(success).</strong>"
      ],
      "text/plain": [
       "<IPython.core.display.HTML object>"
      ]
     },
     "metadata": {},
     "output_type": "display_data"
    },
    {
     "data": {
      "text/html": [
       "<style>\n",
       "    table.wandb td:nth-child(1) { padding: 0 10px; text-align: left ; width: auto;} td:nth-child(2) {text-align: left ; width: 100%}\n",
       "    .wandb-row { display: flex; flex-direction: row; flex-wrap: wrap; justify-content: flex-start; width: 100% }\n",
       "    .wandb-col { display: flex; flex-direction: column; flex-basis: 100%; flex: 1; padding: 10px; }\n",
       "    </style>\n",
       "<div class=\"wandb-row\"><div class=\"wandb-col\"><h3>Run history:</h3><br/><table class=\"wandb\"><tr><td>epoch</td><td>▁▁▁▂▂▂▂▂▂▃▃▃▃▃▄▄▄▄▄▄▅▅▅▅▅▅▆▆▆▆▆▇▇▇▇▇▇███</td></tr><tr><td>lr</td><td>█▇▇▆▆▅▅▄▄▄▃▃▃▃▃▂▂▂▂▂▂▂▂▂▁▁▁▁▁▁▁▁▁▁▁▁▁▁▁▁</td></tr><tr><td>test_accuracy</td><td>▆▃▂▃▃▂▁▂▆▁▅▃▅▅▅▇▃▆▆▆▆▇▆▆▆▇▆▆▇█▇▇▇█▇███▇█</td></tr><tr><td>test_auc_score</td><td>▄▃▁▂▄▄▄▄▆▂█▄▅▄▄▅▃▆▆█▇█▆▇▇██▇▇▇▆▆▆▆▆▆▆▆▆▆</td></tr><tr><td>test_f1_score</td><td>▅▃▂▂▃▂▁▂▆▁▅▃▅▅▅▇▃▆▆▆▅▇▆▆▆▇▆▆▇█▇▇▇█▇███▇█</td></tr><tr><td>test_fpr</td><td>▃▆▇▆▆▇█▇▃█▄▆▄▄▄▂▆▃▃▃▃▂▃▃▃▃▃▃▂▁▂▂▂▁▂▁▁▁▂▁</td></tr><tr><td>test_loss</td><td>▂▆▇▆▆▇█▇▃█▄▅▄▄▄▂▆▃▃▃▃▂▃▃▃▂▃▃▂▁▂▂▂▁▂▁▁▁▂▁</td></tr><tr><td>test_tpr</td><td>▃▇▇███▇█▇██▇▇▇▇▄▅▄▇██▁▅▇█▇█▅▇▆▂▇▇▄▇▇▃▄▅▂</td></tr><tr><td>train_accuracy</td><td>▁▅▆▆▆▅▅▆▆▆▇▆▇▇▇▇▆▇▇▇█▇▇▇▇██▇████████████</td></tr><tr><td>train_auc_score</td><td>▁▇▇▇▇▆▆▇▇▇█▇███▇▇███████████████████████</td></tr><tr><td>train_f1_score</td><td>▁▅▆▆▆▅▅▆▆▆▇▇▇▇▇▇▆▇▇▇█▇▇▇▇██▇████████████</td></tr><tr><td>train_fpr</td><td>█▄▃▃▃▄▄▃▃▄▂▃▂▂▂▂▃▂▂▂▂▂▂▂▂▂▁▂▁▁▁▁▁▁▁▁▁▁▁▁</td></tr><tr><td>train_loss</td><td>█▄▃▃▃▃▃▂▂▃▂▂▂▂▂▂▂▂▂▁▁▁▁▁▁▁▁▁▁▁▁▁▁▁▁▁▁▁▁▁</td></tr><tr><td>train_tpr</td><td>▁▆▆▆▆▇▇▇▇▇▇▇▇█▇▇▇█████████▇█████████████</td></tr></table><br/></div><div class=\"wandb-col\"><h3>Run summary:</h3><br/><table class=\"wandb\"><tr><td>epoch</td><td>39</td></tr><tr><td>lr</td><td>0.00015</td></tr><tr><td>test_accuracy</td><td>0.70011</td></tr><tr><td>test_auc_score</td><td>0.89159</td></tr><tr><td>test_f1_score</td><td>0.49888</td></tr><tr><td>test_fpr</td><td>0.30937</td></tr><tr><td>test_loss</td><td>0.10617</td></tr><tr><td>test_tpr</td><td>0.97225</td></tr><tr><td>train_accuracy</td><td>0.97661</td></tr><tr><td>train_auc_score</td><td>0.99248</td></tr><tr><td>train_f1_score</td><td>0.97658</td></tr><tr><td>train_fpr</td><td>0.0443</td></tr><tr><td>train_loss</td><td>0.01067</td></tr><tr><td>train_tpr</td><td>0.99758</td></tr></table><br/></div></div>"
      ],
      "text/plain": [
       "<IPython.core.display.HTML object>"
      ]
     },
     "metadata": {},
     "output_type": "display_data"
    },
    {
     "data": {
      "text/html": [
       " View run <strong style=\"color:#cdcd00\">EM_DWBLoss()_SMOTE-1</strong> at: <a href='https://wandb.ai/dmitrii_fomin_uga/Internship_project/runs/itgcke1z' target=\"_blank\">https://wandb.ai/dmitrii_fomin_uga/Internship_project/runs/itgcke1z</a><br/>Synced 5 W&B file(s), 0 media file(s), 0 artifact file(s) and 0 other file(s)"
      ],
      "text/plain": [
       "<IPython.core.display.HTML object>"
      ]
     },
     "metadata": {},
     "output_type": "display_data"
    },
    {
     "data": {
      "text/html": [
       "Find logs at: <code>../logs/wandb\\run-20230705_102422-itgcke1z\\logs</code>"
      ],
      "text/plain": [
       "<IPython.core.display.HTML object>"
      ]
     },
     "metadata": {},
     "output_type": "display_data"
    },
    {
     "data": {
      "text/html": [
       "Tracking run with wandb version 0.15.4"
      ],
      "text/plain": [
       "<IPython.core.display.HTML object>"
      ]
     },
     "metadata": {},
     "output_type": "display_data"
    },
    {
     "data": {
      "text/html": [
       "Run data is saved locally in <code>../logs/wandb\\run-20230705_102439-kqiqy9ld</code>"
      ],
      "text/plain": [
       "<IPython.core.display.HTML object>"
      ]
     },
     "metadata": {},
     "output_type": "display_data"
    },
    {
     "data": {
      "text/html": [
       "Syncing run <strong><a href='https://wandb.ai/dmitrii_fomin_uga/Internship_project/runs/kqiqy9ld' target=\"_blank\">EM_DWBLoss()_OSS-0.0</a></strong> to <a href='https://wandb.ai/dmitrii_fomin_uga/Internship_project' target=\"_blank\">Weights & Biases</a> (<a href='https://wandb.me/run' target=\"_blank\">docs</a>)<br/>"
      ],
      "text/plain": [
       "<IPython.core.display.HTML object>"
      ]
     },
     "metadata": {},
     "output_type": "display_data"
    },
    {
     "data": {
      "text/html": [
       " View project at <a href='https://wandb.ai/dmitrii_fomin_uga/Internship_project' target=\"_blank\">https://wandb.ai/dmitrii_fomin_uga/Internship_project</a>"
      ],
      "text/plain": [
       "<IPython.core.display.HTML object>"
      ]
     },
     "metadata": {},
     "output_type": "display_data"
    },
    {
     "data": {
      "text/html": [
       " View run at <a href='https://wandb.ai/dmitrii_fomin_uga/Internship_project/runs/kqiqy9ld' target=\"_blank\">https://wandb.ai/dmitrii_fomin_uga/Internship_project/runs/kqiqy9ld</a>"
      ],
      "text/plain": [
       "<IPython.core.display.HTML object>"
      ]
     },
     "metadata": {},
     "output_type": "display_data"
    },
    {
     "data": {
      "text/html": [
       "Waiting for W&B process to finish... <strong style=\"color:green\">(success).</strong>"
      ],
      "text/plain": [
       "<IPython.core.display.HTML object>"
      ]
     },
     "metadata": {},
     "output_type": "display_data"
    },
    {
     "data": {
      "text/html": [
       "<style>\n",
       "    table.wandb td:nth-child(1) { padding: 0 10px; text-align: left ; width: auto;} td:nth-child(2) {text-align: left ; width: 100%}\n",
       "    .wandb-row { display: flex; flex-direction: row; flex-wrap: wrap; justify-content: flex-start; width: 100% }\n",
       "    .wandb-col { display: flex; flex-direction: column; flex-basis: 100%; flex: 1; padding: 10px; }\n",
       "    </style>\n",
       "<div class=\"wandb-row\"><div class=\"wandb-col\"><h3>Run history:</h3><br/><table class=\"wandb\"><tr><td>epoch</td><td>▁▁▁▂▂▂▂▂▂▃▃▃▃▃▄▄▄▄▄▄▅▅▅▅▅▅▆▆▆▆▆▇▇▇▇▇▇███</td></tr><tr><td>lr</td><td>█▇▇▆▆▅▅▄▄▄▃▃▃▃▃▂▂▂▂▂▂▂▂▂▁▁▁▁▁▁▁▁▁▁▁▁▁▁▁▁</td></tr><tr><td>test_accuracy</td><td>▁▅▇▇▇███████████████████████████████████</td></tr><tr><td>test_auc_score</td><td>▁▄▄▅▆▅▇▆▆▇▆▇███▇█▇▇█████████████████▇███</td></tr><tr><td>test_f1_score</td><td>▁▄▆▆▆▆▇▇▇█▇▇▇███████████████████████████</td></tr><tr><td>test_fpr</td><td>█▄▂▂▂▁▁▁▁▁▁▁▁▁▁▁▁▁▁▁▁▁▁▁▁▁▁▁▁▁▁▁▁▁▁▁▁▁▁▁</td></tr><tr><td>test_loss</td><td>█▄▂▂▁▂▁▁▁▁▁▁▁▁▁▁▁▁▁▁▁▁▁▁▁▁▁▁▁▁▁▁▁▁▁▁▁▁▁▁</td></tr><tr><td>test_tpr</td><td>█▆▅▄▅▂▅▂▂▂▁▃▄▃▃▃▃▃▃▃▃▃▃▄▃▄▃▃▄▃▃▄▄▄▄▃▃▄▄▄</td></tr><tr><td>train_accuracy</td><td>▁▇▇▇▇▇▇█████████████████████████████████</td></tr><tr><td>train_auc_score</td><td>▁▆▇▇▇▇▇▇████████████████████████████████</td></tr><tr><td>train_f1_score</td><td>▁▅▆▆▆▆▆▆▇▇▇▇▇▇▇▇▇▇▇▇▇▇▇█████████████████</td></tr><tr><td>train_fpr</td><td>█▂▁▁▁▁▁▁▁▁▁▁▁▁▁▁▁▁▁▁▁▁▁▁▁▁▁▁▁▁▁▁▁▁▁▁▁▁▁▁</td></tr><tr><td>train_loss</td><td>█▄▂▂▂▂▂▂▂▂▂▂▂▁▁▁▁▁▁▁▁▁▁▁▁▁▁▁▁▁▁▁▁▁▁▁▁▁▁▁</td></tr><tr><td>train_tpr</td><td>▁▂▂▂▃▃▄▄▅▅▃▄▄▅▅▆▅▅▅▆▆▅▆▇▆▆▇▆▇▇▆▇▇███▇█▇█</td></tr></table><br/></div><div class=\"wandb-col\"><h3>Run summary:</h3><br/><table class=\"wandb\"><tr><td>epoch</td><td>39</td></tr><tr><td>lr</td><td>0.00015</td></tr><tr><td>test_accuracy</td><td>0.96796</td></tr><tr><td>test_auc_score</td><td>0.96176</td></tr><tr><td>test_f1_score</td><td>0.80411</td></tr><tr><td>test_fpr</td><td>0.02564</td></tr><tr><td>test_loss</td><td>-0.01404</td></tr><tr><td>test_tpr</td><td>0.79011</td></tr><tr><td>train_accuracy</td><td>0.98897</td></tr><tr><td>train_auc_score</td><td>0.98464</td></tr><tr><td>train_f1_score</td><td>0.92979</td></tr><tr><td>train_fpr</td><td>0.00596</td></tr><tr><td>train_loss</td><td>-0.02525</td></tr><tr><td>train_tpr</td><td>0.87357</td></tr></table><br/></div></div>"
      ],
      "text/plain": [
       "<IPython.core.display.HTML object>"
      ]
     },
     "metadata": {},
     "output_type": "display_data"
    },
    {
     "data": {
      "text/html": [
       " View run <strong style=\"color:#cdcd00\">EM_DWBLoss()_OSS-0.0</strong> at: <a href='https://wandb.ai/dmitrii_fomin_uga/Internship_project/runs/kqiqy9ld' target=\"_blank\">https://wandb.ai/dmitrii_fomin_uga/Internship_project/runs/kqiqy9ld</a><br/>Synced 5 W&B file(s), 0 media file(s), 0 artifact file(s) and 0 other file(s)"
      ],
      "text/plain": [
       "<IPython.core.display.HTML object>"
      ]
     },
     "metadata": {},
     "output_type": "display_data"
    },
    {
     "data": {
      "text/html": [
       "Find logs at: <code>../logs/wandb\\run-20230705_102439-kqiqy9ld\\logs</code>"
      ],
      "text/plain": [
       "<IPython.core.display.HTML object>"
      ]
     },
     "metadata": {},
     "output_type": "display_data"
    }
   ],
   "source": [
    "parameters = {\n",
    "        'sampling_methods':['None', 'ROS', 'RUS', 'SMOTE', 'OSS'],\n",
    "        'loss_functions':[nn.CrossEntropyLoss(), FocalLoss(gamma=2), DWBLoss(df['Machine failure'])],\n",
    "        'p':[0.05, 0.1, 0.15, 0.2, 0.25, 0.3, 0.35, 0.4, 0.45, 0.5, 0.55, 0.6, 0.7, 0.8, 0.9, 1]}\n",
    "\n",
    "ex = Experimenter(df, parameters)\n",
    "ex.perform_experiments()"
   ]
  }
 ],
 "metadata": {
  "kernelspec": {
   "display_name": "env1",
   "language": "python",
   "name": "python3"
  },
  "language_info": {
   "codemirror_mode": {
    "name": "ipython",
    "version": 3
   },
   "file_extension": ".py",
   "mimetype": "text/x-python",
   "name": "python",
   "nbconvert_exporter": "python",
   "pygments_lexer": "ipython3",
   "version": "3.11.3"
  },
  "orig_nbformat": 4
 },
 "nbformat": 4,
 "nbformat_minor": 2
}
