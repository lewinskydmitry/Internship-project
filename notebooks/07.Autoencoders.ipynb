{
 "cells": [
  {
   "cell_type": "code",
   "execution_count": 10,
   "metadata": {},
   "outputs": [],
   "source": [
    "import os\n",
    "import sys\n",
    "sys.path.append(os.path.abspath(os.path.join(os.path.dirname('src'), '..')))\n",
    "\n",
    "import pandas as pd\n",
    "from sklearn.model_selection import train_test_split\n",
    "import wandb\n",
    "\n",
    "import torch\n",
    "import torch.nn as nn\n",
    "from torch.utils.data import DataLoader\n",
    "import torch.optim.lr_scheduler as lr\n",
    "\n",
    "seed_value = 42\n",
    "torch.manual_seed(seed_value)\n",
    "torch.cuda.manual_seed_all(seed_value)\n",
    "generator = torch.Generator()\n",
    "generator.manual_seed(seed_value)\n",
    "torch.backends.cudnn.deterministic = True\n",
    "\n",
    "from functools import partial\n",
    "\n",
    "from src.trainer.trainer_classifier import Trainer_classifier\n",
    "from src.trainer.trainer_VAE import Trainer_VAE\n",
    "from src.trainer.model_class import Model_class\n",
    "\n",
    "from src.models.classifiers import *\n",
    "from src.models.autoencoders import *\n",
    "\n",
    "device = torch.device('cuda' if torch.cuda.is_available() else 'cpu')"
   ]
  },
  {
   "cell_type": "code",
   "execution_count": 11,
   "metadata": {},
   "outputs": [],
   "source": [
    "df = pd.read_csv('../data/df_to_enc.csv')\n",
    "df = df.drop(columns = ['Machine failure'])"
   ]
  },
  {
   "cell_type": "code",
   "execution_count": 12,
   "metadata": {},
   "outputs": [],
   "source": [
    "HIDDEN_PARAM = 512\n",
    "LATENT_REPR = 4\n",
    "BATCH_SIZE = 1024"
   ]
  },
  {
   "cell_type": "code",
   "execution_count": 13,
   "metadata": {},
   "outputs": [],
   "source": [
    "X_train, X_test = train_test_split(df, shuffle=True, random_state=42)"
   ]
  },
  {
   "cell_type": "code",
   "execution_count": 14,
   "metadata": {},
   "outputs": [],
   "source": [
    "train_dataset = EncoderDataset(X_train)\n",
    "val_dataset = EncoderDataset(X_test)"
   ]
  },
  {
   "cell_type": "code",
   "execution_count": 15,
   "metadata": {},
   "outputs": [],
   "source": [
    "train_dl = DataLoader(\n",
    "    train_dataset, \n",
    "    batch_size=BATCH_SIZE, \n",
    "    shuffle=True,\n",
    "    generator=generator\n",
    ")\n",
    "\n",
    "val_dl = DataLoader(\n",
    "    val_dataset,\n",
    "    batch_size=BATCH_SIZE, \n",
    "    shuffle=True,\n",
    "    generator=generator\n",
    ")"
   ]
  },
  {
   "cell_type": "code",
   "execution_count": 16,
   "metadata": {},
   "outputs": [],
   "source": [
    "classifier = Baseline_classifier(50, HIDDEN_PARAM)"
   ]
  },
  {
   "cell_type": "code",
   "execution_count": 17,
   "metadata": {},
   "outputs": [],
   "source": [
    "autoencoder = Autoencoder(classifier.classifier, 5)"
   ]
  },
  {
   "cell_type": "code",
   "execution_count": 20,
   "metadata": {},
   "outputs": [],
   "source": [
    "loss = Encoder_loss(nn.MSELoss())\n",
    "model_factory = partial(Model_class)\n",
    "optimizer_factory = partial(torch.optim.AdamW)\n",
    "scheduler_factory = partial(lr.ExponentialLR)\n",
    "\n",
    "model_params = dict(model=autoencoder,\n",
    "                    device=device)\n",
    "\n",
    "optimizer_params = dict(weight_decay=1e-3, lr=1e-2)\n",
    "scheduler_params = dict(gamma=0.95)\n",
    "\n",
    "learning_params = dict(batch_size=BATCH_SIZE, num_epoch=20)\n",
    "\n",
    "wandb_init_params = dict(\n",
    "    name=f'Autoenc_HidParam-{HIDDEN_PARAM}_Latent-{LATENT_REPR}',\n",
    "    project=\"Internship_project\",\n",
    "    dir = '../logs/'\n",
    ")"
   ]
  },
  {
   "cell_type": "code",
   "execution_count": 21,
   "metadata": {},
   "outputs": [
    {
     "data": {
      "text/html": [
       "Finishing last run (ID:uivuvhte) before initializing another..."
      ],
      "text/plain": [
       "<IPython.core.display.HTML object>"
      ]
     },
     "metadata": {},
     "output_type": "display_data"
    },
    {
     "data": {
      "text/html": [
       "Waiting for W&B process to finish... <strong style=\"color:green\">(success).</strong>"
      ],
      "text/plain": [
       "<IPython.core.display.HTML object>"
      ]
     },
     "metadata": {},
     "output_type": "display_data"
    },
    {
     "data": {
      "text/html": [
       " View run <strong style=\"color:#cdcd00\">Autoenc_HidParam-512_Latent-4</strong> at: <a href='https://wandb.ai/dmitrii_fomin_uga/Internship_project/runs/uivuvhte' target=\"_blank\">https://wandb.ai/dmitrii_fomin_uga/Internship_project/runs/uivuvhte</a><br/>Synced 5 W&B file(s), 0 media file(s), 0 artifact file(s) and 0 other file(s)"
      ],
      "text/plain": [
       "<IPython.core.display.HTML object>"
      ]
     },
     "metadata": {},
     "output_type": "display_data"
    },
    {
     "data": {
      "text/html": [
       "Find logs at: <code>../logs/wandb\\run-20230613_103403-uivuvhte\\logs</code>"
      ],
      "text/plain": [
       "<IPython.core.display.HTML object>"
      ]
     },
     "metadata": {},
     "output_type": "display_data"
    },
    {
     "data": {
      "text/html": [
       "Successfully finished last run (ID:uivuvhte). Initializing new run:<br/>"
      ],
      "text/plain": [
       "<IPython.core.display.HTML object>"
      ]
     },
     "metadata": {},
     "output_type": "display_data"
    },
    {
     "data": {
      "text/html": [
       "Tracking run with wandb version 0.15.4"
      ],
      "text/plain": [
       "<IPython.core.display.HTML object>"
      ]
     },
     "metadata": {},
     "output_type": "display_data"
    },
    {
     "data": {
      "text/html": [
       "Run data is saved locally in <code>../logs/wandb\\run-20230613_103905-z49h0rcn</code>"
      ],
      "text/plain": [
       "<IPython.core.display.HTML object>"
      ]
     },
     "metadata": {},
     "output_type": "display_data"
    },
    {
     "data": {
      "text/html": [
       "Syncing run <strong><a href='https://wandb.ai/dmitrii_fomin_uga/Internship_project/runs/z49h0rcn' target=\"_blank\">Autoenc_HidParam-512_Latent-4</a></strong> to <a href='https://wandb.ai/dmitrii_fomin_uga/Internship_project' target=\"_blank\">Weights & Biases</a> (<a href='https://wandb.me/run' target=\"_blank\">docs</a>)<br/>"
      ],
      "text/plain": [
       "<IPython.core.display.HTML object>"
      ]
     },
     "metadata": {},
     "output_type": "display_data"
    },
    {
     "data": {
      "text/html": [
       " View project at <a href='https://wandb.ai/dmitrii_fomin_uga/Internship_project' target=\"_blank\">https://wandb.ai/dmitrii_fomin_uga/Internship_project</a>"
      ],
      "text/plain": [
       "<IPython.core.display.HTML object>"
      ]
     },
     "metadata": {},
     "output_type": "display_data"
    },
    {
     "data": {
      "text/html": [
       " View run at <a href='https://wandb.ai/dmitrii_fomin_uga/Internship_project/runs/z49h0rcn' target=\"_blank\">https://wandb.ai/dmitrii_fomin_uga/Internship_project/runs/z49h0rcn</a>"
      ],
      "text/plain": [
       "<IPython.core.display.HTML object>"
      ]
     },
     "metadata": {},
     "output_type": "display_data"
    }
   ],
   "source": [
    "trainer = Trainer_classifier(train_dl,\n",
    "                  val_dl,\n",
    "                  loss,\n",
    "                  model_factory=model_factory,\n",
    "                  optimizer_factory=optimizer_factory,\n",
    "                  scheduler_factory=scheduler_factory,\n",
    "                  model_params=model_params,\n",
    "                  optimizer_params=optimizer_params,\n",
    "                  scheduler_params=scheduler_params,\n",
    "                  log=True,\n",
    "                  wandb_init_params=wandb_init_params,\n",
    "                  model_dir='../logs/nn_models/autoencoder/',\n",
    "                  saving_model=False\n",
    "                  )"
   ]
  },
  {
   "cell_type": "code",
   "execution_count": 22,
   "metadata": {},
   "outputs": [
    {
     "data": {
      "text/html": [
       "Waiting for W&B process to finish... <strong style=\"color:green\">(success).</strong>"
      ],
      "text/plain": [
       "<IPython.core.display.HTML object>"
      ]
     },
     "metadata": {},
     "output_type": "display_data"
    },
    {
     "data": {
      "text/html": [
       "<style>\n",
       "    table.wandb td:nth-child(1) { padding: 0 10px; text-align: left ; width: auto;} td:nth-child(2) {text-align: left ; width: 100%}\n",
       "    .wandb-row { display: flex; flex-direction: row; flex-wrap: wrap; justify-content: flex-start; width: 100% }\n",
       "    .wandb-col { display: flex; flex-direction: column; flex-basis: 100%; flex: 1; padding: 10px; }\n",
       "    </style>\n",
       "<div class=\"wandb-row\"><div class=\"wandb-col\"><h3>Run history:</h3><br/><table class=\"wandb\"><tr><td>epoch</td><td>▁▁▂▂▂▃▃▄▄▄▅▅▅▆▆▇▇▇██</td></tr><tr><td>lr</td><td>█▇▇▆▆▅▅▅▄▄▃▃▃▃▂▂▂▁▁▁</td></tr><tr><td>test_loss</td><td>▃▁▃▂▄▇▆█▇█▆▇▆▄▄▃▅▄▄▄</td></tr><tr><td>train_loss</td><td>█▃▂▂▂▂▂▁▁▁▁▁▁▁▁▁▁▁▁▁</td></tr></table><br/></div><div class=\"wandb-col\"><h3>Run summary:</h3><br/><table class=\"wandb\"><tr><td>epoch</td><td>19</td></tr><tr><td>lr</td><td>0.00358</td></tr><tr><td>test_loss</td><td>1.00819</td></tr><tr><td>train_loss</td><td>0.2012</td></tr></table><br/></div></div>"
      ],
      "text/plain": [
       "<IPython.core.display.HTML object>"
      ]
     },
     "metadata": {},
     "output_type": "display_data"
    },
    {
     "data": {
      "text/html": [
       " View run <strong style=\"color:#cdcd00\">Autoenc_HidParam-512_Latent-4</strong> at: <a href='https://wandb.ai/dmitrii_fomin_uga/Internship_project/runs/z49h0rcn' target=\"_blank\">https://wandb.ai/dmitrii_fomin_uga/Internship_project/runs/z49h0rcn</a><br/>Synced 5 W&B file(s), 0 media file(s), 0 artifact file(s) and 0 other file(s)"
      ],
      "text/plain": [
       "<IPython.core.display.HTML object>"
      ]
     },
     "metadata": {},
     "output_type": "display_data"
    },
    {
     "data": {
      "text/html": [
       "Find logs at: <code>../logs/wandb\\run-20230613_103905-z49h0rcn\\logs</code>"
      ],
      "text/plain": [
       "<IPython.core.display.HTML object>"
      ]
     },
     "metadata": {},
     "output_type": "display_data"
    }
   ],
   "source": [
    "trainer.train_model(learning_params)\n",
    "wandb.finish()"
   ]
  },
  {
   "cell_type": "code",
   "execution_count": 23,
   "metadata": {},
   "outputs": [],
   "source": [
    "vae = VAE(classifier.classifier, 5)"
   ]
  },
  {
   "cell_type": "code",
   "execution_count": 24,
   "metadata": {},
   "outputs": [],
   "source": [
    "loss = vae_loss(vae_loss_function)\n",
    "model_factory = partial(Model_class)\n",
    "optimizer_factory = partial(torch.optim.AdamW)\n",
    "scheduler_factory = partial(lr.ExponentialLR)\n",
    "\n",
    "model_params = dict(model=vae,\n",
    "                    device=device)\n",
    "\n",
    "optimizer_params = dict(weight_decay=1e-3, lr=1e-2)\n",
    "scheduler_params = dict(gamma=0.95)\n",
    "\n",
    "learning_params = dict(batch_size=BATCH_SIZE, num_epoch=20)\n",
    "\n",
    "wandb_init_params = dict(\n",
    "    name=f'VAE_HidParam-{HIDDEN_PARAM}_Latent-{LATENT_REPR}',\n",
    "    project=\"Internship_project\",\n",
    "    dir = '../logs/'\n",
    ")"
   ]
  },
  {
   "cell_type": "code",
   "execution_count": 25,
   "metadata": {},
   "outputs": [
    {
     "data": {
      "text/html": [
       "Tracking run with wandb version 0.15.4"
      ],
      "text/plain": [
       "<IPython.core.display.HTML object>"
      ]
     },
     "metadata": {},
     "output_type": "display_data"
    },
    {
     "data": {
      "text/html": [
       "Run data is saved locally in <code>../logs/wandb\\run-20230613_103927-q8wvumz9</code>"
      ],
      "text/plain": [
       "<IPython.core.display.HTML object>"
      ]
     },
     "metadata": {},
     "output_type": "display_data"
    },
    {
     "data": {
      "text/html": [
       "Syncing run <strong><a href='https://wandb.ai/dmitrii_fomin_uga/Internship_project/runs/q8wvumz9' target=\"_blank\">VAE_HidParam-512_Latent-4</a></strong> to <a href='https://wandb.ai/dmitrii_fomin_uga/Internship_project' target=\"_blank\">Weights & Biases</a> (<a href='https://wandb.me/run' target=\"_blank\">docs</a>)<br/>"
      ],
      "text/plain": [
       "<IPython.core.display.HTML object>"
      ]
     },
     "metadata": {},
     "output_type": "display_data"
    },
    {
     "data": {
      "text/html": [
       " View project at <a href='https://wandb.ai/dmitrii_fomin_uga/Internship_project' target=\"_blank\">https://wandb.ai/dmitrii_fomin_uga/Internship_project</a>"
      ],
      "text/plain": [
       "<IPython.core.display.HTML object>"
      ]
     },
     "metadata": {},
     "output_type": "display_data"
    },
    {
     "data": {
      "text/html": [
       " View run at <a href='https://wandb.ai/dmitrii_fomin_uga/Internship_project/runs/q8wvumz9' target=\"_blank\">https://wandb.ai/dmitrii_fomin_uga/Internship_project/runs/q8wvumz9</a>"
      ],
      "text/plain": [
       "<IPython.core.display.HTML object>"
      ]
     },
     "metadata": {},
     "output_type": "display_data"
    }
   ],
   "source": [
    "trainer = Trainer_VAE(train_dl,\n",
    "                  val_dl,\n",
    "                  loss,\n",
    "                  model_factory=model_factory,\n",
    "                  optimizer_factory=optimizer_factory,\n",
    "                  scheduler_factory=scheduler_factory,\n",
    "                  model_params=model_params,\n",
    "                  optimizer_params=optimizer_params,\n",
    "                  scheduler_params=scheduler_params,\n",
    "                  log=True,\n",
    "                  wandb_init_params=wandb_init_params,\n",
    "                  model_dir='../logs/nn_models/autoencoder/',\n",
    "                  saving_model=False\n",
    "                  )"
   ]
  },
  {
   "cell_type": "code",
   "execution_count": 26,
   "metadata": {},
   "outputs": [
    {
     "data": {
      "text/html": [
       "Waiting for W&B process to finish... <strong style=\"color:green\">(success).</strong>"
      ],
      "text/plain": [
       "<IPython.core.display.HTML object>"
      ]
     },
     "metadata": {},
     "output_type": "display_data"
    },
    {
     "data": {
      "text/html": [
       "<style>\n",
       "    table.wandb td:nth-child(1) { padding: 0 10px; text-align: left ; width: auto;} td:nth-child(2) {text-align: left ; width: 100%}\n",
       "    .wandb-row { display: flex; flex-direction: row; flex-wrap: wrap; justify-content: flex-start; width: 100% }\n",
       "    .wandb-col { display: flex; flex-direction: column; flex-basis: 100%; flex: 1; padding: 10px; }\n",
       "    </style>\n",
       "<div class=\"wandb-row\"><div class=\"wandb-col\"><h3>Run history:</h3><br/><table class=\"wandb\"><tr><td>epoch</td><td>▁▁▂▂▂▃▃▄▄▄▅▅▅▆▆▇▇▇██</td></tr><tr><td>lr</td><td>█▇▇▆▆▅▅▅▄▄▃▃▃▃▂▂▂▁▁▁</td></tr><tr><td>test_loss</td><td>██▄▅▂▄▂▃▂▃▂▂▃▁▂▁▃▂▂▃</td></tr><tr><td>train_loss</td><td>█▂▁▁▁▁▁▁▁▁▁▁▁▁▁▁▁▁▁▁</td></tr></table><br/></div><div class=\"wandb-col\"><h3>Run summary:</h3><br/><table class=\"wandb\"><tr><td>epoch</td><td>19</td></tr><tr><td>lr</td><td>0.00358</td></tr><tr><td>test_loss</td><td>1.05438</td></tr><tr><td>train_loss</td><td>1.01231</td></tr></table><br/></div></div>"
      ],
      "text/plain": [
       "<IPython.core.display.HTML object>"
      ]
     },
     "metadata": {},
     "output_type": "display_data"
    },
    {
     "data": {
      "text/html": [
       " View run <strong style=\"color:#cdcd00\">VAE_HidParam-512_Latent-4</strong> at: <a href='https://wandb.ai/dmitrii_fomin_uga/Internship_project/runs/q8wvumz9' target=\"_blank\">https://wandb.ai/dmitrii_fomin_uga/Internship_project/runs/q8wvumz9</a><br/>Synced 5 W&B file(s), 0 media file(s), 0 artifact file(s) and 0 other file(s)"
      ],
      "text/plain": [
       "<IPython.core.display.HTML object>"
      ]
     },
     "metadata": {},
     "output_type": "display_data"
    },
    {
     "data": {
      "text/html": [
       "Find logs at: <code>../logs/wandb\\run-20230613_103927-q8wvumz9\\logs</code>"
      ],
      "text/plain": [
       "<IPython.core.display.HTML object>"
      ]
     },
     "metadata": {},
     "output_type": "display_data"
    }
   ],
   "source": [
    "trainer.train_model(learning_params)\n",
    "wandb.finish()"
   ]
  }
 ],
 "metadata": {
  "kernelspec": {
   "display_name": "env1",
   "language": "python",
   "name": "python3"
  },
  "language_info": {
   "codemirror_mode": {
    "name": "ipython",
    "version": 3
   },
   "file_extension": ".py",
   "mimetype": "text/x-python",
   "name": "python",
   "nbconvert_exporter": "python",
   "pygments_lexer": "ipython3",
   "version": "3.11.3"
  },
  "orig_nbformat": 4
 },
 "nbformat": 4,
 "nbformat_minor": 2
}
