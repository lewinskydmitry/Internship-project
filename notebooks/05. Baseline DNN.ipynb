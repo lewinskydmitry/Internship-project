{
 "cells": [
  {
   "cell_type": "code",
   "execution_count": 57,
   "metadata": {},
   "outputs": [],
   "source": [
    "import os\n",
    "import sys\n",
    "sys.path.append(os.path.abspath(os.path.join(os.path.dirname('src'), '..')))\n",
    "\n",
    "import pandas as pd\n",
    "from sklearn.model_selection import train_test_split\n",
    "import wandb\n",
    "\n",
    "import torch\n",
    "import torch.nn as nn\n",
    "from torch.utils.data import DataLoader\n",
    "import torch.optim.lr_scheduler as lr\n",
    "\n",
    "seed_value = 42\n",
    "torch.manual_seed(seed_value)\n",
    "torch.cuda.manual_seed_all(seed_value)\n",
    "generator = torch.Generator()\n",
    "generator.manual_seed(seed_value)\n",
    "torch.backends.cudnn.deterministic = True\n",
    "\n",
    "from functools import partial\n",
    "\n",
    "from src.trainer.trainer_classifier import Trainer_classifier\n",
    "from src.trainer.model_class import Model_class\n",
    "from src.trainer.loss_class import Loss_class\n",
    "from src.models.classifiers import *\n",
    "\n",
    "from src.tools import upsampling\n",
    "\n",
    "device = torch.device('cuda' if torch.cuda.is_available() else 'cpu')"
   ]
  },
  {
   "cell_type": "code",
   "execution_count": 58,
   "metadata": {},
   "outputs": [],
   "source": [
    "BATCH_SIZE = 126\n",
    "INIT_PARAM = 512\n",
    "NUM_FEATURES = 22\n",
    "GAMMA = 0.35"
   ]
  },
  {
   "cell_type": "code",
   "execution_count": 59,
   "metadata": {},
   "outputs": [],
   "source": [
    "df = pd.read_csv('../data/data_fe.csv')\n",
    "feature_importance = pd.read_csv('../data/feature_importance/feature_imporstance_WS.csv')"
   ]
  },
  {
   "cell_type": "code",
   "execution_count": 60,
   "metadata": {},
   "outputs": [],
   "source": [
    "features = list(feature_importance.iloc[:NUM_FEATURES]['feature_names'])\n",
    "df = df[features + ['Machine failure']]\n",
    "\n",
    "df.to_csv('../data/df_to_enc.csv', index = False)"
   ]
  },
  {
   "cell_type": "code",
   "execution_count": 61,
   "metadata": {},
   "outputs": [],
   "source": [
    "X_train,X_test,y_train,y_test = train_test_split(df.drop(columns=['Machine failure']),\n",
    "                                                 df['Machine failure'],\n",
    "                                                 shuffle=True,\n",
    "                                                 stratify=df['Machine failure'], random_state=42,\n",
    "                                                 train_size=0.7)"
   ]
  },
  {
   "cell_type": "code",
   "execution_count": 62,
   "metadata": {},
   "outputs": [],
   "source": [
    "X_train, y_train = upsampling(GAMMA, X_train, y_train)"
   ]
  },
  {
   "cell_type": "code",
   "execution_count": 63,
   "metadata": {},
   "outputs": [],
   "source": [
    "df_train = pd.concat([X_train, y_train], axis=1)\n",
    "df_test = pd.concat([X_test, y_test], axis = 1)\n",
    "\n",
    "train_dataset = TableDatasetDF(df_train)\n",
    "val_dataset = TableDatasetDF(df_test)"
   ]
  },
  {
   "cell_type": "code",
   "execution_count": 64,
   "metadata": {},
   "outputs": [],
   "source": [
    "train_dl = DataLoader(\n",
    "    train_dataset,\n",
    "    batch_size=BATCH_SIZE, \n",
    "    shuffle=True,\n",
    "    generator=generator\n",
    ")\n",
    "\n",
    "val_dl = DataLoader(\n",
    "    val_dataset,\n",
    "    batch_size=BATCH_SIZE, \n",
    "    shuffle=True,\n",
    "    generator=generator\n",
    ")"
   ]
  },
  {
   "cell_type": "code",
   "execution_count": 65,
   "metadata": {},
   "outputs": [],
   "source": [
    "model = Baseline_classifier(NUM_FEATURES, INIT_PARAM)"
   ]
  },
  {
   "cell_type": "code",
   "execution_count": 66,
   "metadata": {},
   "outputs": [],
   "source": [
    "pytorch_total_params = sum(p.numel() for p in model.parameters())"
   ]
  },
  {
   "cell_type": "code",
   "execution_count": 67,
   "metadata": {},
   "outputs": [
    {
     "data": {
      "text/plain": [
       "716446"
      ]
     },
     "execution_count": 67,
     "metadata": {},
     "output_type": "execute_result"
    }
   ],
   "source": [
    "pytorch_total_params"
   ]
  },
  {
   "cell_type": "code",
   "execution_count": 68,
   "metadata": {},
   "outputs": [],
   "source": [
    "loss = Loss_class(FocalLoss(gamma=2))\n",
    "model_factory = partial(Model_class)\n",
    "optimizer_factory = partial(torch.optim.AdamW)\n",
    "scheduler_factory = partial(lr.ExponentialLR)\n",
    "\n",
    "model_params = dict(model=model,\n",
    "                    device=device)\n",
    "\n",
    "optimizer_params = dict(weight_decay=1e-3, lr=1e-2)\n",
    "scheduler_params = dict(gamma=0.90)\n",
    "\n",
    "learning_params = dict(batch_size=BATCH_SIZE, num_epoch=40)\n",
    "\n",
    "wandb_init_params = dict(\n",
    "    name=f'BL_{INIT_PARAM}_{BATCH_SIZE}_{NUM_FEATURES}_{GAMMA}',\n",
    "    project=\"Internship_project\",\n",
    "    dir = '../logs/'\n",
    ")"
   ]
  },
  {
   "cell_type": "code",
   "execution_count": 69,
   "metadata": {},
   "outputs": [
    {
     "data": {
      "text/html": [
       "wandb version 0.15.4 is available!  To upgrade, please run:\n",
       " $ pip install wandb --upgrade"
      ],
      "text/plain": [
       "<IPython.core.display.HTML object>"
      ]
     },
     "metadata": {},
     "output_type": "display_data"
    },
    {
     "data": {
      "text/html": [
       "Tracking run with wandb version 0.13.6"
      ],
      "text/plain": [
       "<IPython.core.display.HTML object>"
      ]
     },
     "metadata": {},
     "output_type": "display_data"
    },
    {
     "data": {
      "text/html": [
       "Run data is saved locally in <code>../logs/wandb/run-20230611_010408-1mf2uryy</code>"
      ],
      "text/plain": [
       "<IPython.core.display.HTML object>"
      ]
     },
     "metadata": {},
     "output_type": "display_data"
    },
    {
     "data": {
      "text/html": [
       "Syncing run <strong><a href=\"https://wandb.ai/dmitrii_fomin_uga/Internship_project/runs/1mf2uryy\" target=\"_blank\">BL_512_126_22_0.35</a></strong> to <a href=\"https://wandb.ai/dmitrii_fomin_uga/Internship_project\" target=\"_blank\">Weights & Biases</a> (<a href=\"https://wandb.me/run\" target=\"_blank\">docs</a>)<br/>"
      ],
      "text/plain": [
       "<IPython.core.display.HTML object>"
      ]
     },
     "metadata": {},
     "output_type": "display_data"
    }
   ],
   "source": [
    "trainer = Trainer_classifier(train_dl,\n",
    "                  val_dl,\n",
    "                  loss,\n",
    "                  model_factory=model_factory,\n",
    "                  optimizer_factory=optimizer_factory,\n",
    "                  scheduler_factory=scheduler_factory,\n",
    "                  model_params=model_params,\n",
    "                  optimizer_params=optimizer_params,\n",
    "                  scheduler_params=scheduler_params,\n",
    "                  log=True,\n",
    "                  wandb_init_params=wandb_init_params,\n",
    "                  model_dir='../logs/nn_models/classifier/',\n",
    "                  saving_model=False\n",
    "                  )"
   ]
  },
  {
   "cell_type": "code",
   "execution_count": 70,
   "metadata": {},
   "outputs": [
    {
     "name": "stderr",
     "output_type": "stream",
     "text": [
      "I'm studying hard now🧐, don't disturb!:   0%|          | 0/74 [00:00<?, ?it/s]"
     ]
    },
    {
     "name": "stderr",
     "output_type": "stream",
     "text": [
      "I'm studying hard now🧐, don't disturb!: 100%|██████████| 74/74 [00:01<00:00, 69.19it/s]\n",
      "Let's see how good I am...: 100%|██████████| 24/24 [00:00<00:00, 184.79it/s]\n"
     ]
    },
    {
     "name": "stdout",
     "output_type": "stream",
     "text": [
      "Epoch: 1 of 40, 0.020 min\n"
     ]
    },
    {
     "name": "stderr",
     "output_type": "stream",
     "text": [
      "I'm studying hard now🧐, don't disturb!: 100%|██████████| 74/74 [00:01<00:00, 56.99it/s]\n",
      "Let's see how good I am...: 100%|██████████| 24/24 [00:00<00:00, 185.58it/s]\n"
     ]
    },
    {
     "name": "stdout",
     "output_type": "stream",
     "text": [
      "Epoch: 2 of 40, 0.024 min\n"
     ]
    },
    {
     "name": "stderr",
     "output_type": "stream",
     "text": [
      "I'm studying hard now🧐, don't disturb!: 100%|██████████| 74/74 [00:01<00:00, 63.42it/s]\n",
      "Let's see how good I am...:   0%|          | 0/24 [00:00<?, ?it/s]/opt/miniconda3/envs/env1/lib/python3.9/site-packages/sklearn/metrics/_ranking.py:999: UndefinedMetricWarning: No positive samples in y_true, true positive value should be meaningless\n",
      "  warnings.warn(\n",
      "/Users/fomindmitry/Google Диск/Github/Internship_project/src/trainer/loss_class.py:23: RuntimeWarning: invalid value encountered in long_scalars\n",
      "  tpr = tp / (tp + fn)\n",
      "/opt/miniconda3/envs/env1/lib/python3.9/site-packages/sklearn/metrics/_ranking.py:999: UndefinedMetricWarning: No positive samples in y_true, true positive value should be meaningless\n",
      "  warnings.warn(\n",
      "/Users/fomindmitry/Google Диск/Github/Internship_project/src/trainer/loss_class.py:23: RuntimeWarning: invalid value encountered in long_scalars\n",
      "  tpr = tp / (tp + fn)\n",
      "Let's see how good I am...: 100%|██████████| 24/24 [00:00<00:00, 184.38it/s]\n"
     ]
    },
    {
     "name": "stdout",
     "output_type": "stream",
     "text": [
      "Epoch: 3 of 40, 0.022 min\n"
     ]
    },
    {
     "name": "stderr",
     "output_type": "stream",
     "text": [
      "I'm studying hard now🧐, don't disturb!: 100%|██████████| 74/74 [00:01<00:00, 63.53it/s]\n",
      "Let's see how good I am...: 100%|██████████| 24/24 [00:00<00:00, 193.73it/s]\n"
     ]
    },
    {
     "name": "stdout",
     "output_type": "stream",
     "text": [
      "Epoch: 4 of 40, 0.022 min\n"
     ]
    },
    {
     "name": "stderr",
     "output_type": "stream",
     "text": [
      "I'm studying hard now🧐, don't disturb!: 100%|██████████| 74/74 [00:01<00:00, 69.83it/s]\n",
      "Let's see how good I am...: 100%|██████████| 24/24 [00:00<00:00, 77.59it/s]\n"
     ]
    },
    {
     "name": "stdout",
     "output_type": "stream",
     "text": [
      "Epoch: 5 of 40, 0.023 min\n"
     ]
    },
    {
     "name": "stderr",
     "output_type": "stream",
     "text": [
      "I'm studying hard now🧐, don't disturb!: 100%|██████████| 74/74 [00:01<00:00, 59.61it/s]\n",
      "Let's see how good I am...: 100%|██████████| 24/24 [00:00<00:00, 164.80it/s]\n"
     ]
    },
    {
     "name": "stdout",
     "output_type": "stream",
     "text": [
      "Epoch: 6 of 40, 0.023 min\n"
     ]
    },
    {
     "name": "stderr",
     "output_type": "stream",
     "text": [
      "I'm studying hard now🧐, don't disturb!: 100%|██████████| 74/74 [00:01<00:00, 50.86it/s]\n",
      "Let's see how good I am...: 100%|██████████| 24/24 [00:00<00:00, 73.09it/s]\n"
     ]
    },
    {
     "name": "stdout",
     "output_type": "stream",
     "text": [
      "Epoch: 7 of 40, 0.030 min\n"
     ]
    },
    {
     "name": "stderr",
     "output_type": "stream",
     "text": [
      "I'm studying hard now🧐, don't disturb!: 100%|██████████| 74/74 [00:01<00:00, 57.72it/s]\n",
      "Let's see how good I am...: 100%|██████████| 24/24 [00:00<00:00, 170.14it/s]\n"
     ]
    },
    {
     "name": "stdout",
     "output_type": "stream",
     "text": [
      "Epoch: 8 of 40, 0.025 min\n"
     ]
    },
    {
     "name": "stderr",
     "output_type": "stream",
     "text": [
      "I'm studying hard now🧐, don't disturb!: 100%|██████████| 74/74 [00:01<00:00, 56.11it/s]\n",
      "Let's see how good I am...: 100%|██████████| 24/24 [00:00<00:00, 177.70it/s]\n"
     ]
    },
    {
     "name": "stdout",
     "output_type": "stream",
     "text": [
      "Epoch: 9 of 40, 0.024 min\n"
     ]
    },
    {
     "name": "stderr",
     "output_type": "stream",
     "text": [
      "I'm studying hard now🧐, don't disturb!: 100%|██████████| 74/74 [00:01<00:00, 64.04it/s]\n",
      "Let's see how good I am...: 100%|██████████| 24/24 [00:00<00:00, 185.92it/s]\n"
     ]
    },
    {
     "name": "stdout",
     "output_type": "stream",
     "text": [
      "Epoch: 10 of 40, 0.022 min\n"
     ]
    },
    {
     "name": "stderr",
     "output_type": "stream",
     "text": [
      "I'm studying hard now🧐, don't disturb!: 100%|██████████| 74/74 [00:01<00:00, 69.30it/s]\n",
      "Let's see how good I am...:  79%|███████▉  | 19/24 [00:00<00:00, 184.09it/s]/opt/miniconda3/envs/env1/lib/python3.9/site-packages/sklearn/metrics/_ranking.py:999: UndefinedMetricWarning: No positive samples in y_true, true positive value should be meaningless\n",
      "  warnings.warn(\n",
      "/Users/fomindmitry/Google Диск/Github/Internship_project/src/trainer/loss_class.py:23: RuntimeWarning: invalid value encountered in long_scalars\n",
      "  tpr = tp / (tp + fn)\n",
      "Let's see how good I am...: 100%|██████████| 24/24 [00:00<00:00, 180.81it/s]\n"
     ]
    },
    {
     "name": "stdout",
     "output_type": "stream",
     "text": [
      "Epoch: 11 of 40, 0.020 min\n"
     ]
    },
    {
     "name": "stderr",
     "output_type": "stream",
     "text": [
      "I'm studying hard now🧐, don't disturb!: 100%|██████████| 74/74 [00:01<00:00, 71.65it/s]\n",
      "Let's see how good I am...: 100%|██████████| 24/24 [00:00<00:00, 109.63it/s]\n"
     ]
    },
    {
     "name": "stdout",
     "output_type": "stream",
     "text": [
      "Epoch: 12 of 40, 0.021 min\n"
     ]
    },
    {
     "name": "stderr",
     "output_type": "stream",
     "text": [
      "I'm studying hard now🧐, don't disturb!: 100%|██████████| 74/74 [00:00<00:00, 79.85it/s]\n",
      "Let's see how good I am...: 100%|██████████| 24/24 [00:00<00:00, 193.78it/s]\n"
     ]
    },
    {
     "name": "stdout",
     "output_type": "stream",
     "text": [
      "Epoch: 13 of 40, 0.018 min\n"
     ]
    },
    {
     "name": "stderr",
     "output_type": "stream",
     "text": [
      "I'm studying hard now🧐, don't disturb!: 100%|██████████| 74/74 [00:00<00:00, 79.78it/s]\n",
      "Let's see how good I am...: 100%|██████████| 24/24 [00:00<00:00, 194.61it/s]\n"
     ]
    },
    {
     "name": "stdout",
     "output_type": "stream",
     "text": [
      "Epoch: 14 of 40, 0.018 min\n"
     ]
    },
    {
     "name": "stderr",
     "output_type": "stream",
     "text": [
      "I'm studying hard now🧐, don't disturb!: 100%|██████████| 74/74 [00:01<00:00, 68.80it/s]\n",
      "Let's see how good I am...: 100%|██████████| 24/24 [00:00<00:00, 185.28it/s]\n"
     ]
    },
    {
     "name": "stdout",
     "output_type": "stream",
     "text": [
      "Epoch: 15 of 40, 0.020 min\n"
     ]
    },
    {
     "name": "stderr",
     "output_type": "stream",
     "text": [
      "I'm studying hard now🧐, don't disturb!: 100%|██████████| 74/74 [00:01<00:00, 65.78it/s]\n",
      "Let's see how good I am...: 100%|██████████| 24/24 [00:00<00:00, 173.36it/s]\n"
     ]
    },
    {
     "name": "stdout",
     "output_type": "stream",
     "text": [
      "Epoch: 16 of 40, 0.021 min\n"
     ]
    },
    {
     "name": "stderr",
     "output_type": "stream",
     "text": [
      "I'm studying hard now🧐, don't disturb!: 100%|██████████| 74/74 [00:01<00:00, 62.75it/s]\n",
      "Let's see how good I am...: 100%|██████████| 24/24 [00:00<00:00, 173.59it/s]\n"
     ]
    },
    {
     "name": "stdout",
     "output_type": "stream",
     "text": [
      "Epoch: 17 of 40, 0.022 min\n"
     ]
    },
    {
     "name": "stderr",
     "output_type": "stream",
     "text": [
      "I'm studying hard now🧐, don't disturb!: 100%|██████████| 74/74 [00:01<00:00, 72.26it/s]\n",
      "Let's see how good I am...: 100%|██████████| 24/24 [00:00<00:00, 187.18it/s]\n"
     ]
    },
    {
     "name": "stdout",
     "output_type": "stream",
     "text": [
      "Epoch: 18 of 40, 0.019 min\n"
     ]
    },
    {
     "name": "stderr",
     "output_type": "stream",
     "text": [
      "I'm studying hard now🧐, don't disturb!: 100%|██████████| 74/74 [00:01<00:00, 69.81it/s]\n",
      "Let's see how good I am...: 100%|██████████| 24/24 [00:00<00:00, 180.27it/s]\n"
     ]
    },
    {
     "name": "stdout",
     "output_type": "stream",
     "text": [
      "Epoch: 19 of 40, 0.020 min\n"
     ]
    },
    {
     "name": "stderr",
     "output_type": "stream",
     "text": [
      "I'm studying hard now🧐, don't disturb!: 100%|██████████| 74/74 [00:01<00:00, 72.19it/s]\n",
      "Let's see how good I am...: 100%|██████████| 24/24 [00:00<00:00, 187.46it/s]\n"
     ]
    },
    {
     "name": "stdout",
     "output_type": "stream",
     "text": [
      "Epoch: 20 of 40, 0.020 min\n"
     ]
    },
    {
     "name": "stderr",
     "output_type": "stream",
     "text": [
      "I'm studying hard now🧐, don't disturb!: 100%|██████████| 74/74 [00:01<00:00, 71.07it/s]\n",
      "Let's see how good I am...: 100%|██████████| 24/24 [00:00<00:00, 191.22it/s]\n"
     ]
    },
    {
     "name": "stdout",
     "output_type": "stream",
     "text": [
      "Epoch: 21 of 40, 0.020 min\n"
     ]
    },
    {
     "name": "stderr",
     "output_type": "stream",
     "text": [
      "I'm studying hard now🧐, don't disturb!: 100%|██████████| 74/74 [00:01<00:00, 46.47it/s]\n",
      "Let's see how good I am...: 100%|██████████| 24/24 [00:00<00:00, 109.88it/s]\n"
     ]
    },
    {
     "name": "stdout",
     "output_type": "stream",
     "text": [
      "Epoch: 22 of 40, 0.030 min\n"
     ]
    },
    {
     "name": "stderr",
     "output_type": "stream",
     "text": [
      "I'm studying hard now🧐, don't disturb!: 100%|██████████| 74/74 [00:01<00:00, 51.47it/s]\n",
      "Let's see how good I am...: 100%|██████████| 24/24 [00:00<00:00, 169.54it/s]\n"
     ]
    },
    {
     "name": "stdout",
     "output_type": "stream",
     "text": [
      "Epoch: 23 of 40, 0.027 min\n"
     ]
    },
    {
     "name": "stderr",
     "output_type": "stream",
     "text": [
      "I'm studying hard now🧐, don't disturb!: 100%|██████████| 74/74 [00:01<00:00, 56.41it/s]\n",
      "Let's see how good I am...: 100%|██████████| 24/24 [00:00<00:00, 165.93it/s]\n"
     ]
    },
    {
     "name": "stdout",
     "output_type": "stream",
     "text": [
      "Epoch: 24 of 40, 0.024 min\n"
     ]
    },
    {
     "name": "stderr",
     "output_type": "stream",
     "text": [
      "I'm studying hard now🧐, don't disturb!: 100%|██████████| 74/74 [00:01<00:00, 66.10it/s]\n",
      "Let's see how good I am...:   0%|          | 0/24 [00:00<?, ?it/s]/opt/miniconda3/envs/env1/lib/python3.9/site-packages/sklearn/metrics/_ranking.py:999: UndefinedMetricWarning: No positive samples in y_true, true positive value should be meaningless\n",
      "  warnings.warn(\n",
      "/Users/fomindmitry/Google Диск/Github/Internship_project/src/trainer/loss_class.py:23: RuntimeWarning: invalid value encountered in long_scalars\n",
      "  tpr = tp / (tp + fn)\n",
      "Let's see how good I am...: 100%|██████████| 24/24 [00:00<00:00, 163.47it/s]\n"
     ]
    },
    {
     "name": "stdout",
     "output_type": "stream",
     "text": [
      "Epoch: 25 of 40, 0.021 min\n"
     ]
    },
    {
     "name": "stderr",
     "output_type": "stream",
     "text": [
      "I'm studying hard now🧐, don't disturb!: 100%|██████████| 74/74 [00:01<00:00, 65.43it/s]\n",
      "Let's see how good I am...:   0%|          | 0/24 [00:00<?, ?it/s]/opt/miniconda3/envs/env1/lib/python3.9/site-packages/sklearn/metrics/_ranking.py:999: UndefinedMetricWarning: No positive samples in y_true, true positive value should be meaningless\n",
      "  warnings.warn(\n",
      "/Users/fomindmitry/Google Диск/Github/Internship_project/src/trainer/loss_class.py:23: RuntimeWarning: invalid value encountered in long_scalars\n",
      "  tpr = tp / (tp + fn)\n",
      "/opt/miniconda3/envs/env1/lib/python3.9/site-packages/sklearn/metrics/_ranking.py:999: UndefinedMetricWarning: No positive samples in y_true, true positive value should be meaningless\n",
      "  warnings.warn(\n",
      "/Users/fomindmitry/Google Диск/Github/Internship_project/src/trainer/loss_class.py:23: RuntimeWarning: invalid value encountered in long_scalars\n",
      "  tpr = tp / (tp + fn)\n",
      "Let's see how good I am...: 100%|██████████| 24/24 [00:00<00:00, 171.50it/s]\n"
     ]
    },
    {
     "name": "stdout",
     "output_type": "stream",
     "text": [
      "Epoch: 26 of 40, 0.021 min\n"
     ]
    },
    {
     "name": "stderr",
     "output_type": "stream",
     "text": [
      "I'm studying hard now🧐, don't disturb!: 100%|██████████| 74/74 [00:01<00:00, 68.83it/s]\n",
      "Let's see how good I am...: 100%|██████████| 24/24 [00:00<00:00, 180.54it/s]\n"
     ]
    },
    {
     "name": "stdout",
     "output_type": "stream",
     "text": [
      "Epoch: 27 of 40, 0.020 min\n"
     ]
    },
    {
     "name": "stderr",
     "output_type": "stream",
     "text": [
      "I'm studying hard now🧐, don't disturb!: 100%|██████████| 74/74 [00:01<00:00, 68.57it/s]\n",
      "Let's see how good I am...:   0%|          | 0/24 [00:00<?, ?it/s]/opt/miniconda3/envs/env1/lib/python3.9/site-packages/sklearn/metrics/_ranking.py:999: UndefinedMetricWarning: No positive samples in y_true, true positive value should be meaningless\n",
      "  warnings.warn(\n",
      "/Users/fomindmitry/Google Диск/Github/Internship_project/src/trainer/loss_class.py:23: RuntimeWarning: invalid value encountered in long_scalars\n",
      "  tpr = tp / (tp + fn)\n",
      "Let's see how good I am...: 100%|██████████| 24/24 [00:00<00:00, 189.76it/s]\n"
     ]
    },
    {
     "name": "stdout",
     "output_type": "stream",
     "text": [
      "Epoch: 28 of 40, 0.020 min\n"
     ]
    },
    {
     "name": "stderr",
     "output_type": "stream",
     "text": [
      "I'm studying hard now🧐, don't disturb!: 100%|██████████| 74/74 [00:00<00:00, 77.09it/s]\n",
      "Let's see how good I am...:   0%|          | 0/24 [00:00<?, ?it/s]/opt/miniconda3/envs/env1/lib/python3.9/site-packages/sklearn/metrics/_ranking.py:999: UndefinedMetricWarning: No positive samples in y_true, true positive value should be meaningless\n",
      "  warnings.warn(\n",
      "/Users/fomindmitry/Google Диск/Github/Internship_project/src/trainer/loss_class.py:23: RuntimeWarning: invalid value encountered in long_scalars\n",
      "  tpr = tp / (tp + fn)\n",
      "Let's see how good I am...: 100%|██████████| 24/24 [00:00<00:00, 189.79it/s]\n"
     ]
    },
    {
     "name": "stdout",
     "output_type": "stream",
     "text": [
      "Epoch: 29 of 40, 0.018 min\n"
     ]
    },
    {
     "name": "stderr",
     "output_type": "stream",
     "text": [
      "I'm studying hard now🧐, don't disturb!: 100%|██████████| 74/74 [00:01<00:00, 71.01it/s]\n",
      "Let's see how good I am...: 100%|██████████| 24/24 [00:00<00:00, 120.45it/s]\n"
     ]
    },
    {
     "name": "stdout",
     "output_type": "stream",
     "text": [
      "Epoch: 30 of 40, 0.021 min\n"
     ]
    },
    {
     "name": "stderr",
     "output_type": "stream",
     "text": [
      "I'm studying hard now🧐, don't disturb!: 100%|██████████| 74/74 [00:00<00:00, 75.51it/s]\n",
      "Let's see how good I am...:   0%|          | 0/24 [00:00<?, ?it/s]/opt/miniconda3/envs/env1/lib/python3.9/site-packages/sklearn/metrics/_ranking.py:999: UndefinedMetricWarning: No positive samples in y_true, true positive value should be meaningless\n",
      "  warnings.warn(\n",
      "/Users/fomindmitry/Google Диск/Github/Internship_project/src/trainer/loss_class.py:23: RuntimeWarning: invalid value encountered in long_scalars\n",
      "  tpr = tp / (tp + fn)\n",
      "Let's see how good I am...:  79%|███████▉  | 19/24 [00:00<00:00, 188.72it/s]/opt/miniconda3/envs/env1/lib/python3.9/site-packages/sklearn/metrics/_ranking.py:999: UndefinedMetricWarning: No positive samples in y_true, true positive value should be meaningless\n",
      "  warnings.warn(\n",
      "/Users/fomindmitry/Google Диск/Github/Internship_project/src/trainer/loss_class.py:23: RuntimeWarning: invalid value encountered in long_scalars\n",
      "  tpr = tp / (tp + fn)\n",
      "Let's see how good I am...: 100%|██████████| 24/24 [00:00<00:00, 164.81it/s]\n"
     ]
    },
    {
     "name": "stdout",
     "output_type": "stream",
     "text": [
      "Epoch: 31 of 40, 0.019 min\n"
     ]
    },
    {
     "name": "stderr",
     "output_type": "stream",
     "text": [
      "I'm studying hard now🧐, don't disturb!: 100%|██████████| 74/74 [00:01<00:00, 73.43it/s]\n",
      "Let's see how good I am...: 100%|██████████| 24/24 [00:00<00:00, 177.26it/s]\n"
     ]
    },
    {
     "name": "stdout",
     "output_type": "stream",
     "text": [
      "Epoch: 32 of 40, 0.019 min\n"
     ]
    },
    {
     "name": "stderr",
     "output_type": "stream",
     "text": [
      "I'm studying hard now🧐, don't disturb!: 100%|██████████| 74/74 [00:01<00:00, 64.70it/s]\n",
      "Let's see how good I am...:  75%|███████▌  | 18/24 [00:00<00:00, 172.18it/s]/opt/miniconda3/envs/env1/lib/python3.9/site-packages/sklearn/metrics/_ranking.py:999: UndefinedMetricWarning: No positive samples in y_true, true positive value should be meaningless\n",
      "  warnings.warn(\n",
      "/Users/fomindmitry/Google Диск/Github/Internship_project/src/trainer/loss_class.py:23: RuntimeWarning: invalid value encountered in long_scalars\n",
      "  tpr = tp / (tp + fn)\n",
      "Let's see how good I am...: 100%|██████████| 24/24 [00:00<00:00, 170.66it/s]\n"
     ]
    },
    {
     "name": "stdout",
     "output_type": "stream",
     "text": [
      "Epoch: 33 of 40, 0.022 min\n"
     ]
    },
    {
     "name": "stderr",
     "output_type": "stream",
     "text": [
      "I'm studying hard now🧐, don't disturb!: 100%|██████████| 74/74 [00:01<00:00, 70.09it/s]\n",
      "Let's see how good I am...: 100%|██████████| 24/24 [00:00<00:00, 180.04it/s]\n"
     ]
    },
    {
     "name": "stdout",
     "output_type": "stream",
     "text": [
      "Epoch: 34 of 40, 0.020 min\n"
     ]
    },
    {
     "name": "stderr",
     "output_type": "stream",
     "text": [
      "I'm studying hard now🧐, don't disturb!: 100%|██████████| 74/74 [00:01<00:00, 51.07it/s]\n",
      "Let's see how good I am...: 100%|██████████| 24/24 [00:00<00:00, 167.04it/s]\n"
     ]
    },
    {
     "name": "stdout",
     "output_type": "stream",
     "text": [
      "Epoch: 35 of 40, 0.027 min\n"
     ]
    },
    {
     "name": "stderr",
     "output_type": "stream",
     "text": [
      "I'm studying hard now🧐, don't disturb!: 100%|██████████| 74/74 [00:01<00:00, 48.11it/s]\n",
      "Let's see how good I am...:  54%|█████▍    | 13/24 [00:00<00:00, 127.18it/s]/opt/miniconda3/envs/env1/lib/python3.9/site-packages/sklearn/metrics/_ranking.py:999: UndefinedMetricWarning: No positive samples in y_true, true positive value should be meaningless\n",
      "  warnings.warn(\n",
      "/Users/fomindmitry/Google Диск/Github/Internship_project/src/trainer/loss_class.py:23: RuntimeWarning: invalid value encountered in long_scalars\n",
      "  tpr = tp / (tp + fn)\n",
      "Let's see how good I am...: 100%|██████████| 24/24 [00:00<00:00, 126.94it/s]\n"
     ]
    },
    {
     "name": "stdout",
     "output_type": "stream",
     "text": [
      "Epoch: 36 of 40, 0.029 min\n"
     ]
    },
    {
     "name": "stderr",
     "output_type": "stream",
     "text": [
      "I'm studying hard now🧐, don't disturb!: 100%|██████████| 74/74 [00:01<00:00, 45.52it/s]\n",
      "Let's see how good I am...:   0%|          | 0/24 [00:00<?, ?it/s]/opt/miniconda3/envs/env1/lib/python3.9/site-packages/sklearn/metrics/_ranking.py:999: UndefinedMetricWarning: No positive samples in y_true, true positive value should be meaningless\n",
      "  warnings.warn(\n",
      "/Users/fomindmitry/Google Диск/Github/Internship_project/src/trainer/loss_class.py:23: RuntimeWarning: invalid value encountered in long_scalars\n",
      "  tpr = tp / (tp + fn)\n",
      "Let's see how good I am...: 100%|██████████| 24/24 [00:00<00:00, 150.72it/s]\n"
     ]
    },
    {
     "name": "stdout",
     "output_type": "stream",
     "text": [
      "Epoch: 37 of 40, 0.030 min\n"
     ]
    },
    {
     "name": "stderr",
     "output_type": "stream",
     "text": [
      "I'm studying hard now🧐, don't disturb!: 100%|██████████| 74/74 [00:01<00:00, 65.87it/s]\n",
      "Let's see how good I am...: 100%|██████████| 24/24 [00:00<00:00, 171.15it/s]\n"
     ]
    },
    {
     "name": "stdout",
     "output_type": "stream",
     "text": [
      "Epoch: 38 of 40, 0.021 min\n"
     ]
    },
    {
     "name": "stderr",
     "output_type": "stream",
     "text": [
      "I'm studying hard now🧐, don't disturb!: 100%|██████████| 74/74 [00:01<00:00, 63.29it/s]\n",
      "Let's see how good I am...:   0%|          | 0/24 [00:00<?, ?it/s]/opt/miniconda3/envs/env1/lib/python3.9/site-packages/sklearn/metrics/_ranking.py:999: UndefinedMetricWarning: No positive samples in y_true, true positive value should be meaningless\n",
      "  warnings.warn(\n",
      "/Users/fomindmitry/Google Диск/Github/Internship_project/src/trainer/loss_class.py:23: RuntimeWarning: invalid value encountered in long_scalars\n",
      "  tpr = tp / (tp + fn)\n",
      "Let's see how good I am...: 100%|██████████| 24/24 [00:00<00:00, 148.23it/s]\n"
     ]
    },
    {
     "name": "stdout",
     "output_type": "stream",
     "text": [
      "Epoch: 39 of 40, 0.022 min\n"
     ]
    },
    {
     "name": "stderr",
     "output_type": "stream",
     "text": [
      "I'm studying hard now🧐, don't disturb!: 100%|██████████| 74/74 [00:01<00:00, 68.00it/s]\n",
      "Let's see how good I am...: 100%|██████████| 24/24 [00:00<00:00, 173.58it/s]"
     ]
    },
    {
     "name": "stdout",
     "output_type": "stream",
     "text": [
      "Epoch: 40 of 40, 0.021 min\n"
     ]
    },
    {
     "name": "stderr",
     "output_type": "stream",
     "text": [
      "\n"
     ]
    },
    {
     "data": {
      "text/html": [
       "Waiting for W&B process to finish... <strong style=\"color:green\">(success).</strong>"
      ],
      "text/plain": [
       "<IPython.core.display.HTML object>"
      ]
     },
     "metadata": {},
     "output_type": "display_data"
    },
    {
     "data": {
      "text/html": [
       "<style>\n",
       "    table.wandb td:nth-child(1) { padding: 0 10px; text-align: left ; width: auto;} td:nth-child(2) {text-align: left ; width: 100%}\n",
       "    .wandb-row { display: flex; flex-direction: row; flex-wrap: wrap; justify-content: flex-start; width: 100% }\n",
       "    .wandb-col { display: flex; flex-direction: column; flex-basis: 100%; flex: 1; padding: 10px; }\n",
       "    </style>\n",
       "<div class=\"wandb-row\"><div class=\"wandb-col\"><h3>Run history:</h3><br/><table class=\"wandb\"><tr><td>epoch</td><td>▁▁▁▂▂▂▂▂▂▃▃▃▃▃▄▄▄▄▄▄▅▅▅▅▅▅▆▆▆▆▆▇▇▇▇▇▇███</td></tr><tr><td>lr</td><td>█▇▇▆▆▅▅▄▄▄▃▃▃▃▃▂▂▂▂▂▂▂▂▂▁▁▁▁▁▁▁▁▁▁▁▁▁▁▁▁</td></tr><tr><td>test_accuracy</td><td>▁▆▇▇▅▇▆▆▆▆▇▇▆▇▇▇▇▇▇▇█▄█▅▆▇▇▇▆▇▆█▇▇▇██▇██</td></tr><tr><td>test_auc_score</td><td>▅▇ ▄▅▁▄▆▄▅ ▅▆▆▇▆▅█▆▇▇▅▇█  ▆  █ ▅ ▄▇  ▃ █</td></tr><tr><td>test_f1_score</td><td>▁▆▆▇▅▇▅▆▅▆▇▇▆▆▇▇▇▇▇▆█▄█▅▆▆▆▆▆▇▅▇▇▆▇██▆▇█</td></tr><tr><td>test_fpr</td><td>█▃▂▂▄▂▃▃▃▃▂▂▃▂▂▂▂▂▂▂▁▅▁▄▃▂▂▃▃▂▃▁▂▂▂▁▁▂▁▁</td></tr><tr><td>test_loss</td><td>█▃▁▄▄▄▅▂▃▃▁▃▂▂▂▂▃▂▃▂▁▃▁▄▃▁▂▃▃▂▄▂▂▁▂▁▁▂▂▁</td></tr><tr><td>test_tpr</td><td>██ ▅▇▄▅█▇▁ ▇▄▇█▆▃▇▇▆▆▆▄█  ▇  ▇ ▇ ▂▆  ▁ ▄</td></tr><tr><td>train_accuracy</td><td>▁▄▃▄▄▄▅▄▅▄▅▅▅▆▆▅▆▆▅▆▆▆▅▆▇▇▇▇▇▇▇▇▇▇▇▇▇███</td></tr><tr><td>train_auc_score</td><td>▁▅▅▆▆▆▇▆▇▆▇▇▇▇▇▇▇▇▇▇█▇▇▇████████████████</td></tr><tr><td>train_f1_score</td><td>▁▄▄▄▅▅▅▄▅▅▅▆▅▆▆▅▆▆▅▆▆▆▅▆▇▇▇▇▇▇▇▇▇█▇▇▇███</td></tr><tr><td>train_fpr</td><td>▇▆▆█▅▆▅▆██▄▄▆▅▄▅▃▃▆▄▃▆▇▃▄▄▅▆▄▄▆▄▅▄▅▃▅▃▃▁</td></tr><tr><td>train_loss</td><td>█▃▃▂▂▂▂▂▂▂▂▁▂▁▁▂▁▁▂▁▁▁▂▁▁▁▁▁▁▁▁▁▁▁▁▁▁▁▁▁</td></tr><tr><td>train_tpr</td><td>▁▄▄▅▅▅▅▅▆▅▅▆▅▆▆▆▆▆▆▇▆▇▆▆▇▇██████████████</td></tr></table><br/></div><div class=\"wandb-col\"><h3>Run summary:</h3><br/><table class=\"wandb\"><tr><td>epoch</td><td>39</td></tr><tr><td>lr</td><td>0.00015</td></tr><tr><td>test_accuracy</td><td>0.85843</td></tr><tr><td>test_auc_score</td><td>0.98191</td></tr><tr><td>test_f1_score</td><td>0.61522</td></tr><tr><td>test_fpr</td><td>0.14486</td></tr><tr><td>test_loss</td><td>0.04032</td></tr><tr><td>test_tpr</td><td>0.95962</td></tr><tr><td>train_accuracy</td><td>0.9673</td></tr><tr><td>train_auc_score</td><td>0.99548</td></tr><tr><td>train_f1_score</td><td>0.95859</td></tr><tr><td>train_fpr</td><td>0.03128</td></tr><tr><td>train_loss</td><td>0.00068</td></tr><tr><td>train_tpr</td><td>0.9668</td></tr></table><br/></div></div>"
      ],
      "text/plain": [
       "<IPython.core.display.HTML object>"
      ]
     },
     "metadata": {},
     "output_type": "display_data"
    },
    {
     "data": {
      "text/html": [
       "Synced <strong style=\"color:#cdcd00\">BL_512_126_22_0.35</strong>: <a href=\"https://wandb.ai/dmitrii_fomin_uga/Internship_project/runs/1mf2uryy\" target=\"_blank\">https://wandb.ai/dmitrii_fomin_uga/Internship_project/runs/1mf2uryy</a><br/>Synced 6 W&B file(s), 0 media file(s), 0 artifact file(s) and 0 other file(s)"
      ],
      "text/plain": [
       "<IPython.core.display.HTML object>"
      ]
     },
     "metadata": {},
     "output_type": "display_data"
    },
    {
     "data": {
      "text/html": [
       "Find logs at: <code>../logs/wandb/run-20230611_010408-1mf2uryy/logs</code>"
      ],
      "text/plain": [
       "<IPython.core.display.HTML object>"
      ]
     },
     "metadata": {},
     "output_type": "display_data"
    }
   ],
   "source": [
    "trainer.train_model(learning_params)\n",
    "wandb.finish()"
   ]
  }
 ],
 "metadata": {
  "kernelspec": {
   "display_name": "env1",
   "language": "python",
   "name": "python3"
  },
  "language_info": {
   "codemirror_mode": {
    "name": "ipython",
    "version": 3
   },
   "file_extension": ".py",
   "mimetype": "text/x-python",
   "name": "python",
   "nbconvert_exporter": "python",
   "pygments_lexer": "ipython3",
   "version": "3.9.15"
  },
  "orig_nbformat": 4
 },
 "nbformat": 4,
 "nbformat_minor": 2
}
