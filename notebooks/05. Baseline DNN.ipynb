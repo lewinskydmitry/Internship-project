{
 "cells": [
  {
   "cell_type": "code",
   "execution_count": 85,
   "metadata": {},
   "outputs": [],
   "source": [
    "import os\n",
    "import sys\n",
    "sys.path.append(os.path.abspath(os.path.join(os.path.dirname('src'), '..')))\n",
    "\n",
    "import pandas as pd\n",
    "from sklearn.model_selection import train_test_split\n",
    "import wandb\n",
    "\n",
    "import torch\n",
    "import torch.nn as nn\n",
    "from torch.utils.data import DataLoader\n",
    "import torch.optim.lr_scheduler as lr\n",
    "\n",
    "seed_value = 42\n",
    "torch.manual_seed(seed_value)\n",
    "torch.cuda.manual_seed_all(seed_value)\n",
    "generator = torch.Generator()\n",
    "generator.manual_seed(seed_value)\n",
    "torch.backends.cudnn.deterministic = True\n",
    "\n",
    "from functools import partial\n",
    "\n",
    "from src.trainer.trainer_classifier import Trainer_classifier\n",
    "from src.trainer.model_class import Model_class\n",
    "from src.trainer.loss_class import Loss_class\n",
    "from src.models.classifiers import *\n",
    "\n",
    "from src.tools import upsampling\n",
    "\n",
    "device = torch.device('cuda' if torch.cuda.is_available() else 'cpu')"
   ]
  },
  {
   "cell_type": "code",
   "execution_count": 86,
   "metadata": {},
   "outputs": [],
   "source": [
    "BATCH_SIZE = 1024\n",
    "INIT_PARAM = 512\n",
    "NUM_FEATURES = 22\n",
    "GAMMA = 0.35"
   ]
  },
  {
   "cell_type": "code",
   "execution_count": 87,
   "metadata": {},
   "outputs": [],
   "source": [
    "df = pd.read_csv('../data/data_fe.csv')\n",
    "feature_importance = pd.read_csv('../data/feature_importance/feature_imporstance_WS.csv')"
   ]
  },
  {
   "cell_type": "code",
   "execution_count": 88,
   "metadata": {},
   "outputs": [],
   "source": [
    "features = list(feature_importance.iloc[:NUM_FEATURES]['feature_names'])\n",
    "df = df[features + ['Machine failure']]\n",
    "\n",
    "df.to_csv('../data/df_to_enc.csv', index = False)"
   ]
  },
  {
   "cell_type": "code",
   "execution_count": 89,
   "metadata": {},
   "outputs": [],
   "source": [
    "X_train,X_test,y_train,y_test = train_test_split(df.drop(columns=['Machine failure']),\n",
    "                                                 df['Machine failure'],\n",
    "                                                 shuffle=True,\n",
    "                                                 stratify=df['Machine failure'], random_state=42,\n",
    "                                                 train_size=0.7)"
   ]
  },
  {
   "cell_type": "code",
   "execution_count": 90,
   "metadata": {},
   "outputs": [],
   "source": [
    "X_train, y_train = upsampling(GAMMA, X_train, y_train)"
   ]
  },
  {
   "cell_type": "code",
   "execution_count": 91,
   "metadata": {},
   "outputs": [],
   "source": [
    "df_train = pd.concat([X_train, y_train], axis=1)\n",
    "df_test = pd.concat([X_test, y_test], axis = 1)\n",
    "\n",
    "train_dataset = TableDatasetDF(df_train)\n",
    "val_dataset = TableDatasetDF(df_test)"
   ]
  },
  {
   "cell_type": "code",
   "execution_count": 92,
   "metadata": {},
   "outputs": [],
   "source": [
    "train_dl = DataLoader(\n",
    "    train_dataset,\n",
    "    batch_size=BATCH_SIZE, \n",
    "    shuffle=True,\n",
    "    generator=generator\n",
    ")\n",
    "\n",
    "val_dl = DataLoader(\n",
    "    val_dataset,\n",
    "    batch_size=BATCH_SIZE, \n",
    "    shuffle=True,\n",
    "    generator=generator\n",
    ")"
   ]
  },
  {
   "cell_type": "code",
   "execution_count": 93,
   "metadata": {},
   "outputs": [],
   "source": [
    "model = Baseline_classifier(NUM_FEATURES, INIT_PARAM)"
   ]
  },
  {
   "cell_type": "code",
   "execution_count": 94,
   "metadata": {},
   "outputs": [],
   "source": [
    "pytorch_total_params = sum(p.numel() for p in model.parameters())"
   ]
  },
  {
   "cell_type": "code",
   "execution_count": 95,
   "metadata": {},
   "outputs": [
    {
     "data": {
      "text/plain": [
       "717982"
      ]
     },
     "execution_count": 95,
     "metadata": {},
     "output_type": "execute_result"
    }
   ],
   "source": [
    "pytorch_total_params"
   ]
  },
  {
   "cell_type": "code",
   "execution_count": 96,
   "metadata": {},
   "outputs": [],
   "source": [
    "loss = Loss_class(FocalLoss(gamma=2))\n",
    "model_factory = partial(Model_class)\n",
    "optimizer_factory = partial(torch.optim.AdamW)\n",
    "scheduler_factory = partial(lr.ExponentialLR)\n",
    "\n",
    "model_params = dict(model=model,\n",
    "                    device=device)\n",
    "\n",
    "optimizer_params = dict(weight_decay=1e-3, lr=1e-2)\n",
    "scheduler_params = dict(gamma=0.90)\n",
    "\n",
    "learning_params = dict(batch_size=BATCH_SIZE, num_epoch=40)\n",
    "\n",
    "wandb_init_params = dict(\n",
    "    name=f'BL_{INIT_PARAM}_{BATCH_SIZE}_{NUM_FEATURES}_{GAMMA}',\n",
    "    project=\"Internship_project\",\n",
    "    dir = '../logs/'\n",
    ")"
   ]
  },
  {
   "cell_type": "code",
   "execution_count": 97,
   "metadata": {},
   "outputs": [
    {
     "data": {
      "text/html": [
       "wandb version 0.15.4 is available!  To upgrade, please run:\n",
       " $ pip install wandb --upgrade"
      ],
      "text/plain": [
       "<IPython.core.display.HTML object>"
      ]
     },
     "metadata": {},
     "output_type": "display_data"
    },
    {
     "data": {
      "text/html": [
       "Tracking run with wandb version 0.13.6"
      ],
      "text/plain": [
       "<IPython.core.display.HTML object>"
      ]
     },
     "metadata": {},
     "output_type": "display_data"
    },
    {
     "data": {
      "text/html": [
       "Run data is saved locally in <code>../logs/wandb/run-20230611_010832-1z7n7i0k</code>"
      ],
      "text/plain": [
       "<IPython.core.display.HTML object>"
      ]
     },
     "metadata": {},
     "output_type": "display_data"
    },
    {
     "data": {
      "text/html": [
       "Syncing run <strong><a href=\"https://wandb.ai/dmitrii_fomin_uga/Internship_project/runs/1z7n7i0k\" target=\"_blank\">BL_512_1024_25_0.35</a></strong> to <a href=\"https://wandb.ai/dmitrii_fomin_uga/Internship_project\" target=\"_blank\">Weights & Biases</a> (<a href=\"https://wandb.me/run\" target=\"_blank\">docs</a>)<br/>"
      ],
      "text/plain": [
       "<IPython.core.display.HTML object>"
      ]
     },
     "metadata": {},
     "output_type": "display_data"
    }
   ],
   "source": [
    "trainer = Trainer_classifier(train_dl,\n",
    "                  val_dl,\n",
    "                  loss,\n",
    "                  model_factory=model_factory,\n",
    "                  optimizer_factory=optimizer_factory,\n",
    "                  scheduler_factory=scheduler_factory,\n",
    "                  model_params=model_params,\n",
    "                  optimizer_params=optimizer_params,\n",
    "                  scheduler_params=scheduler_params,\n",
    "                  log=True,\n",
    "                  wandb_init_params=wandb_init_params,\n",
    "                  model_dir='../logs/nn_models/classifier/',\n",
    "                  saving_model=False\n",
    "                  )"
   ]
  },
  {
   "cell_type": "code",
   "execution_count": 98,
   "metadata": {},
   "outputs": [
    {
     "name": "stderr",
     "output_type": "stream",
     "text": [
      "I'm studying hard now🧐, don't disturb!:   0%|          | 0/10 [00:00<?, ?it/s]"
     ]
    },
    {
     "name": "stderr",
     "output_type": "stream",
     "text": [
      "I'm studying hard now🧐, don't disturb!: 100%|██████████| 10/10 [00:00<00:00, 12.51it/s]\n",
      "Let's see how good I am...: 100%|██████████| 3/3 [00:00<00:00, 20.60it/s]\n"
     ]
    },
    {
     "name": "stdout",
     "output_type": "stream",
     "text": [
      "Epoch: 1 of 40, 0.016 min\n"
     ]
    },
    {
     "name": "stderr",
     "output_type": "stream",
     "text": [
      "I'm studying hard now🧐, don't disturb!: 100%|██████████| 10/10 [00:00<00:00, 19.92it/s]\n",
      "Let's see how good I am...: 100%|██████████| 3/3 [00:00<00:00, 38.54it/s]\n"
     ]
    },
    {
     "name": "stdout",
     "output_type": "stream",
     "text": [
      "Epoch: 2 of 40, 0.010 min\n"
     ]
    },
    {
     "name": "stderr",
     "output_type": "stream",
     "text": [
      "I'm studying hard now🧐, don't disturb!: 100%|██████████| 10/10 [00:00<00:00, 20.35it/s]\n",
      "Let's see how good I am...: 100%|██████████| 3/3 [00:00<00:00, 38.93it/s]\n"
     ]
    },
    {
     "name": "stdout",
     "output_type": "stream",
     "text": [
      "Epoch: 3 of 40, 0.010 min\n"
     ]
    },
    {
     "name": "stderr",
     "output_type": "stream",
     "text": [
      "I'm studying hard now🧐, don't disturb!: 100%|██████████| 10/10 [00:00<00:00, 21.79it/s]\n",
      "Let's see how good I am...: 100%|██████████| 3/3 [00:00<00:00, 42.12it/s]\n"
     ]
    },
    {
     "name": "stdout",
     "output_type": "stream",
     "text": [
      "Epoch: 4 of 40, 0.009 min\n"
     ]
    },
    {
     "name": "stderr",
     "output_type": "stream",
     "text": [
      "I'm studying hard now🧐, don't disturb!: 100%|██████████| 10/10 [00:00<00:00, 22.65it/s]\n",
      "Let's see how good I am...: 100%|██████████| 3/3 [00:00<00:00, 42.61it/s]\n"
     ]
    },
    {
     "name": "stdout",
     "output_type": "stream",
     "text": [
      "Epoch: 5 of 40, 0.009 min\n"
     ]
    },
    {
     "name": "stderr",
     "output_type": "stream",
     "text": [
      "I'm studying hard now🧐, don't disturb!: 100%|██████████| 10/10 [00:00<00:00, 18.70it/s]\n",
      "Let's see how good I am...: 100%|██████████| 3/3 [00:00<00:00, 41.52it/s]\n"
     ]
    },
    {
     "name": "stdout",
     "output_type": "stream",
     "text": [
      "Epoch: 6 of 40, 0.010 min\n"
     ]
    },
    {
     "name": "stderr",
     "output_type": "stream",
     "text": [
      "I'm studying hard now🧐, don't disturb!: 100%|██████████| 10/10 [00:00<00:00, 22.69it/s]\n",
      "Let's see how good I am...: 100%|██████████| 3/3 [00:00<00:00, 40.23it/s]\n"
     ]
    },
    {
     "name": "stdout",
     "output_type": "stream",
     "text": [
      "Epoch: 7 of 40, 0.009 min\n"
     ]
    },
    {
     "name": "stderr",
     "output_type": "stream",
     "text": [
      "I'm studying hard now🧐, don't disturb!: 100%|██████████| 10/10 [00:00<00:00, 22.19it/s]\n",
      "Let's see how good I am...: 100%|██████████| 3/3 [00:00<00:00, 42.91it/s]\n"
     ]
    },
    {
     "name": "stdout",
     "output_type": "stream",
     "text": [
      "Epoch: 8 of 40, 0.009 min\n"
     ]
    },
    {
     "name": "stderr",
     "output_type": "stream",
     "text": [
      "I'm studying hard now🧐, don't disturb!: 100%|██████████| 10/10 [00:00<00:00, 22.09it/s]\n",
      "Let's see how good I am...: 100%|██████████| 3/3 [00:00<00:00, 41.84it/s]\n"
     ]
    },
    {
     "name": "stdout",
     "output_type": "stream",
     "text": [
      "Epoch: 9 of 40, 0.009 min\n"
     ]
    },
    {
     "name": "stderr",
     "output_type": "stream",
     "text": [
      "I'm studying hard now🧐, don't disturb!: 100%|██████████| 10/10 [00:00<00:00, 21.96it/s]\n",
      "Let's see how good I am...: 100%|██████████| 3/3 [00:00<00:00, 15.32it/s]\n"
     ]
    },
    {
     "name": "stdout",
     "output_type": "stream",
     "text": [
      "Epoch: 10 of 40, 0.012 min\n"
     ]
    },
    {
     "name": "stderr",
     "output_type": "stream",
     "text": [
      "I'm studying hard now🧐, don't disturb!: 100%|██████████| 10/10 [00:00<00:00, 21.57it/s]\n",
      "Let's see how good I am...: 100%|██████████| 3/3 [00:00<00:00, 37.62it/s]\n"
     ]
    },
    {
     "name": "stdout",
     "output_type": "stream",
     "text": [
      "Epoch: 11 of 40, 0.009 min\n"
     ]
    },
    {
     "name": "stderr",
     "output_type": "stream",
     "text": [
      "I'm studying hard now🧐, don't disturb!: 100%|██████████| 10/10 [00:00<00:00, 19.53it/s]\n",
      "Let's see how good I am...: 100%|██████████| 3/3 [00:00<00:00, 36.83it/s]\n"
     ]
    },
    {
     "name": "stdout",
     "output_type": "stream",
     "text": [
      "Epoch: 12 of 40, 0.010 min\n"
     ]
    },
    {
     "name": "stderr",
     "output_type": "stream",
     "text": [
      "I'm studying hard now🧐, don't disturb!: 100%|██████████| 10/10 [00:00<00:00, 20.05it/s]\n",
      "Let's see how good I am...: 100%|██████████| 3/3 [00:00<00:00, 37.81it/s]\n"
     ]
    },
    {
     "name": "stdout",
     "output_type": "stream",
     "text": [
      "Epoch: 13 of 40, 0.010 min\n"
     ]
    },
    {
     "name": "stderr",
     "output_type": "stream",
     "text": [
      "I'm studying hard now🧐, don't disturb!: 100%|██████████| 10/10 [00:00<00:00, 16.80it/s]\n",
      "Let's see how good I am...: 100%|██████████| 3/3 [00:00<00:00, 38.14it/s]\n"
     ]
    },
    {
     "name": "stdout",
     "output_type": "stream",
     "text": [
      "Epoch: 14 of 40, 0.011 min\n"
     ]
    },
    {
     "name": "stderr",
     "output_type": "stream",
     "text": [
      "I'm studying hard now🧐, don't disturb!: 100%|██████████| 10/10 [00:00<00:00, 21.49it/s]\n",
      "Let's see how good I am...: 100%|██████████| 3/3 [00:00<00:00, 37.33it/s]\n"
     ]
    },
    {
     "name": "stdout",
     "output_type": "stream",
     "text": [
      "Epoch: 15 of 40, 0.009 min\n"
     ]
    },
    {
     "name": "stderr",
     "output_type": "stream",
     "text": [
      "I'm studying hard now🧐, don't disturb!: 100%|██████████| 10/10 [00:00<00:00, 19.81it/s]\n",
      "Let's see how good I am...: 100%|██████████| 3/3 [00:00<00:00, 37.52it/s]\n"
     ]
    },
    {
     "name": "stdout",
     "output_type": "stream",
     "text": [
      "Epoch: 16 of 40, 0.010 min\n"
     ]
    },
    {
     "name": "stderr",
     "output_type": "stream",
     "text": [
      "I'm studying hard now🧐, don't disturb!: 100%|██████████| 10/10 [00:00<00:00, 16.78it/s]\n",
      "Let's see how good I am...: 100%|██████████| 3/3 [00:00<00:00, 28.88it/s]\n"
     ]
    },
    {
     "name": "stdout",
     "output_type": "stream",
     "text": [
      "Epoch: 17 of 40, 0.013 min\n"
     ]
    },
    {
     "name": "stderr",
     "output_type": "stream",
     "text": [
      "I'm studying hard now🧐, don't disturb!: 100%|██████████| 10/10 [00:00<00:00, 18.76it/s]\n",
      "Let's see how good I am...: 100%|██████████| 3/3 [00:00<00:00, 33.95it/s]\n"
     ]
    },
    {
     "name": "stdout",
     "output_type": "stream",
     "text": [
      "Epoch: 18 of 40, 0.011 min\n"
     ]
    },
    {
     "name": "stderr",
     "output_type": "stream",
     "text": [
      "I'm studying hard now🧐, don't disturb!: 100%|██████████| 10/10 [00:00<00:00, 18.42it/s]\n",
      "Let's see how good I am...: 100%|██████████| 3/3 [00:00<00:00, 34.53it/s]\n"
     ]
    },
    {
     "name": "stdout",
     "output_type": "stream",
     "text": [
      "Epoch: 19 of 40, 0.011 min\n"
     ]
    },
    {
     "name": "stderr",
     "output_type": "stream",
     "text": [
      "I'm studying hard now🧐, don't disturb!: 100%|██████████| 10/10 [00:00<00:00, 16.13it/s]\n",
      "Let's see how good I am...: 100%|██████████| 3/3 [00:00<00:00, 33.81it/s]\n"
     ]
    },
    {
     "name": "stdout",
     "output_type": "stream",
     "text": [
      "Epoch: 20 of 40, 0.012 min\n"
     ]
    },
    {
     "name": "stderr",
     "output_type": "stream",
     "text": [
      "I'm studying hard now🧐, don't disturb!: 100%|██████████| 10/10 [00:00<00:00, 16.31it/s]\n",
      "Let's see how good I am...: 100%|██████████| 3/3 [00:00<00:00, 36.76it/s]\n"
     ]
    },
    {
     "name": "stdout",
     "output_type": "stream",
     "text": [
      "Epoch: 21 of 40, 0.012 min\n"
     ]
    },
    {
     "name": "stderr",
     "output_type": "stream",
     "text": [
      "I'm studying hard now🧐, don't disturb!: 100%|██████████| 10/10 [00:00<00:00, 19.48it/s]\n",
      "Let's see how good I am...: 100%|██████████| 3/3 [00:00<00:00, 36.65it/s]\n"
     ]
    },
    {
     "name": "stdout",
     "output_type": "stream",
     "text": [
      "Epoch: 22 of 40, 0.010 min\n"
     ]
    },
    {
     "name": "stderr",
     "output_type": "stream",
     "text": [
      "I'm studying hard now🧐, don't disturb!: 100%|██████████| 10/10 [00:00<00:00, 18.85it/s]\n",
      "Let's see how good I am...: 100%|██████████| 3/3 [00:00<00:00, 36.58it/s]\n"
     ]
    },
    {
     "name": "stdout",
     "output_type": "stream",
     "text": [
      "Epoch: 23 of 40, 0.010 min\n"
     ]
    },
    {
     "name": "stderr",
     "output_type": "stream",
     "text": [
      "I'm studying hard now🧐, don't disturb!: 100%|██████████| 10/10 [00:00<00:00, 18.63it/s]\n",
      "Let's see how good I am...: 100%|██████████| 3/3 [00:00<00:00, 18.86it/s]\n"
     ]
    },
    {
     "name": "stdout",
     "output_type": "stream",
     "text": [
      "Epoch: 24 of 40, 0.012 min\n"
     ]
    },
    {
     "name": "stderr",
     "output_type": "stream",
     "text": [
      "I'm studying hard now🧐, don't disturb!: 100%|██████████| 10/10 [00:00<00:00, 18.85it/s]\n",
      "Let's see how good I am...: 100%|██████████| 3/3 [00:00<00:00, 36.62it/s]\n"
     ]
    },
    {
     "name": "stdout",
     "output_type": "stream",
     "text": [
      "Epoch: 25 of 40, 0.010 min\n"
     ]
    },
    {
     "name": "stderr",
     "output_type": "stream",
     "text": [
      "I'm studying hard now🧐, don't disturb!: 100%|██████████| 10/10 [00:00<00:00, 16.51it/s]\n",
      "Let's see how good I am...: 100%|██████████| 3/3 [00:00<00:00, 36.35it/s]\n"
     ]
    },
    {
     "name": "stdout",
     "output_type": "stream",
     "text": [
      "Epoch: 26 of 40, 0.012 min\n"
     ]
    },
    {
     "name": "stderr",
     "output_type": "stream",
     "text": [
      "I'm studying hard now🧐, don't disturb!: 100%|██████████| 10/10 [00:00<00:00, 19.71it/s]\n",
      "Let's see how good I am...: 100%|██████████| 3/3 [00:00<00:00,  7.86it/s]\n"
     ]
    },
    {
     "name": "stdout",
     "output_type": "stream",
     "text": [
      "Epoch: 27 of 40, 0.015 min\n"
     ]
    },
    {
     "name": "stderr",
     "output_type": "stream",
     "text": [
      "I'm studying hard now🧐, don't disturb!: 100%|██████████| 10/10 [00:00<00:00, 11.52it/s]\n",
      "Let's see how good I am...: 100%|██████████| 3/3 [00:00<00:00, 32.58it/s]\n"
     ]
    },
    {
     "name": "stdout",
     "output_type": "stream",
     "text": [
      "Epoch: 28 of 40, 0.016 min\n"
     ]
    },
    {
     "name": "stderr",
     "output_type": "stream",
     "text": [
      "I'm studying hard now🧐, don't disturb!: 100%|██████████| 10/10 [00:00<00:00, 18.62it/s]\n",
      "Let's see how good I am...: 100%|██████████| 3/3 [00:00<00:00, 28.65it/s]\n"
     ]
    },
    {
     "name": "stdout",
     "output_type": "stream",
     "text": [
      "Epoch: 29 of 40, 0.011 min\n"
     ]
    },
    {
     "name": "stderr",
     "output_type": "stream",
     "text": [
      "I'm studying hard now🧐, don't disturb!: 100%|██████████| 10/10 [00:00<00:00, 16.28it/s]\n",
      "Let's see how good I am...: 100%|██████████| 3/3 [00:00<00:00, 31.68it/s]\n"
     ]
    },
    {
     "name": "stdout",
     "output_type": "stream",
     "text": [
      "Epoch: 30 of 40, 0.012 min\n"
     ]
    },
    {
     "name": "stderr",
     "output_type": "stream",
     "text": [
      "I'm studying hard now🧐, don't disturb!: 100%|██████████| 10/10 [00:00<00:00, 16.38it/s]\n",
      "Let's see how good I am...: 100%|██████████| 3/3 [00:00<00:00, 19.05it/s]\n"
     ]
    },
    {
     "name": "stdout",
     "output_type": "stream",
     "text": [
      "Epoch: 31 of 40, 0.013 min\n"
     ]
    },
    {
     "name": "stderr",
     "output_type": "stream",
     "text": [
      "I'm studying hard now🧐, don't disturb!: 100%|██████████| 10/10 [00:00<00:00, 17.83it/s]\n",
      "Let's see how good I am...: 100%|██████████| 3/3 [00:00<00:00, 29.24it/s]\n"
     ]
    },
    {
     "name": "stdout",
     "output_type": "stream",
     "text": [
      "Epoch: 32 of 40, 0.011 min\n"
     ]
    },
    {
     "name": "stderr",
     "output_type": "stream",
     "text": [
      "I'm studying hard now🧐, don't disturb!: 100%|██████████| 10/10 [00:00<00:00, 14.81it/s]\n",
      "Let's see how good I am...: 100%|██████████| 3/3 [00:00<00:00, 25.76it/s]\n"
     ]
    },
    {
     "name": "stdout",
     "output_type": "stream",
     "text": [
      "Epoch: 33 of 40, 0.013 min\n"
     ]
    },
    {
     "name": "stderr",
     "output_type": "stream",
     "text": [
      "I'm studying hard now🧐, don't disturb!: 100%|██████████| 10/10 [00:00<00:00, 10.47it/s]\n",
      "Let's see how good I am...: 100%|██████████| 3/3 [00:00<00:00, 23.88it/s]\n"
     ]
    },
    {
     "name": "stdout",
     "output_type": "stream",
     "text": [
      "Epoch: 34 of 40, 0.019 min\n"
     ]
    },
    {
     "name": "stderr",
     "output_type": "stream",
     "text": [
      "I'm studying hard now🧐, don't disturb!: 100%|██████████| 10/10 [00:00<00:00, 18.28it/s]\n",
      "Let's see how good I am...: 100%|██████████| 3/3 [00:00<00:00, 34.67it/s]\n"
     ]
    },
    {
     "name": "stdout",
     "output_type": "stream",
     "text": [
      "Epoch: 35 of 40, 0.011 min\n"
     ]
    },
    {
     "name": "stderr",
     "output_type": "stream",
     "text": [
      "I'm studying hard now🧐, don't disturb!: 100%|██████████| 10/10 [00:00<00:00, 18.01it/s]\n",
      "Let's see how good I am...: 100%|██████████| 3/3 [00:00<00:00, 36.90it/s]\n"
     ]
    },
    {
     "name": "stdout",
     "output_type": "stream",
     "text": [
      "Epoch: 36 of 40, 0.011 min\n"
     ]
    },
    {
     "name": "stderr",
     "output_type": "stream",
     "text": [
      "I'm studying hard now🧐, don't disturb!: 100%|██████████| 10/10 [00:00<00:00, 15.38it/s]\n",
      "Let's see how good I am...: 100%|██████████| 3/3 [00:00<00:00, 35.70it/s]\n"
     ]
    },
    {
     "name": "stdout",
     "output_type": "stream",
     "text": [
      "Epoch: 37 of 40, 0.012 min\n"
     ]
    },
    {
     "name": "stderr",
     "output_type": "stream",
     "text": [
      "I'm studying hard now🧐, don't disturb!: 100%|██████████| 10/10 [00:00<00:00, 16.76it/s]\n",
      "Let's see how good I am...: 100%|██████████| 3/3 [00:00<00:00, 38.03it/s]\n"
     ]
    },
    {
     "name": "stdout",
     "output_type": "stream",
     "text": [
      "Epoch: 38 of 40, 0.011 min\n"
     ]
    },
    {
     "name": "stderr",
     "output_type": "stream",
     "text": [
      "I'm studying hard now🧐, don't disturb!: 100%|██████████| 10/10 [00:00<00:00, 15.49it/s]\n",
      "Let's see how good I am...: 100%|██████████| 3/3 [00:00<00:00, 33.54it/s]\n"
     ]
    },
    {
     "name": "stdout",
     "output_type": "stream",
     "text": [
      "Epoch: 39 of 40, 0.012 min\n"
     ]
    },
    {
     "name": "stderr",
     "output_type": "stream",
     "text": [
      "I'm studying hard now🧐, don't disturb!: 100%|██████████| 10/10 [00:00<00:00, 20.01it/s]\n",
      "Let's see how good I am...: 100%|██████████| 3/3 [00:00<00:00, 37.59it/s]"
     ]
    },
    {
     "name": "stdout",
     "output_type": "stream",
     "text": [
      "Epoch: 40 of 40, 0.010 min\n"
     ]
    },
    {
     "name": "stderr",
     "output_type": "stream",
     "text": [
      "\n"
     ]
    },
    {
     "data": {
      "text/html": [
       "Waiting for W&B process to finish... <strong style=\"color:green\">(success).</strong>"
      ],
      "text/plain": [
       "<IPython.core.display.HTML object>"
      ]
     },
     "metadata": {},
     "output_type": "display_data"
    },
    {
     "data": {
      "application/vnd.jupyter.widget-view+json": {
       "model_id": "3b84da766e824a2c9c38082a1b4471e8",
       "version_major": 2,
       "version_minor": 0
      },
      "text/plain": [
       "VBox(children=(Label(value='0.001 MB of 0.001 MB uploaded (0.000 MB deduped)\\r'), FloatProgress(value=1.0, max…"
      ]
     },
     "metadata": {},
     "output_type": "display_data"
    },
    {
     "data": {
      "text/html": [
       "<style>\n",
       "    table.wandb td:nth-child(1) { padding: 0 10px; text-align: left ; width: auto;} td:nth-child(2) {text-align: left ; width: 100%}\n",
       "    .wandb-row { display: flex; flex-direction: row; flex-wrap: wrap; justify-content: flex-start; width: 100% }\n",
       "    .wandb-col { display: flex; flex-direction: column; flex-basis: 100%; flex: 1; padding: 10px; }\n",
       "    </style>\n",
       "<div class=\"wandb-row\"><div class=\"wandb-col\"><h3>Run history:</h3><br/><table class=\"wandb\"><tr><td>epoch</td><td>▁▁▁▂▂▂▂▂▂▃▃▃▃▃▄▄▄▄▄▄▅▅▅▅▅▅▆▆▆▆▆▇▇▇▇▇▇███</td></tr><tr><td>lr</td><td>█▇▇▆▆▅▅▄▄▄▃▃▃▃▃▂▂▂▂▂▂▂▂▂▁▁▁▁▁▁▁▁▁▁▁▁▁▁▁▁</td></tr><tr><td>test_accuracy</td><td>███▂▂▁▂▄▄▅▅▅▄▃▄▅▅▅▅▅▅▅▅▅▅▅▅▅▅▅▅▅▅▅▅▆▅▅▅▅</td></tr><tr><td>test_auc_score</td><td>▅▁▅▆▃▄▆▇▇███▇▇▇▇█▇██████████████████████</td></tr><tr><td>test_f1_score</td><td>▄▄▄▃▁▁▃▅▆▇▇▇▅▄▅▆▆▆▆▇▇▇▇▇▇▇█▇██▇▇████████</td></tr><tr><td>test_fpr</td><td>▁▁▁▇▇█▇▆▅▄▄▄▅▆▅▅▅▅▅▄▄▄▄▄▄▄▄▄▄▄▄▄▄▄▄▄▄▄▄▄</td></tr><tr><td>test_loss</td><td>▇█▅▃▅▇▅▃▂▁▁▁▄▅▄▃▂▂▂▂▂▁▂▂▂▂▂▂▁▁▂▂▁▁▁▁▁▁▁▁</td></tr><tr><td>test_tpr</td><td>▁▁▁█▆███████████████████████████████████</td></tr><tr><td>train_accuracy</td><td>▁▁▁▂▄▄▅▆▇▇█▇▇▆▇▇▇▇█▇▇█▇█████████████████</td></tr><tr><td>train_auc_score</td><td>▁▆▆▆▄▃▅▆▇▇█▇▇▆▇▇▇▇▇▇████████████████████</td></tr><tr><td>train_f1_score</td><td>▁▁▁▂▆▆▇▇████▇▇▇████▇████████████████████</td></tr><tr><td>train_fpr</td><td>▁▁▁▁▇█▆▄▃▃▃▃▄▄▄▃▃▃▃▃▃▃▃▃▃▃▃▃▃▃▃▃▃▃▃▃▃▃▃▂</td></tr><tr><td>train_loss</td><td>█▄▃▃▃▄▃▂▂▂▂▂▂▂▂▁▁▁▁▁▂▂▁▁▁▁▁▁▁▁▁▁▁▁▁▁▁▁▁▁</td></tr><tr><td>train_tpr</td><td>▁▁▁▂███▇████▇███████████████████████████</td></tr></table><br/></div><div class=\"wandb-col\"><h3>Run summary:</h3><br/><table class=\"wandb\"><tr><td>epoch</td><td>39</td></tr><tr><td>lr</td><td>0.00015</td></tr><tr><td>test_accuracy</td><td>0.82436</td></tr><tr><td>test_auc_score</td><td>0.91607</td></tr><tr><td>test_f1_score</td><td>0.58772</td></tr><tr><td>test_fpr</td><td>0.18115</td></tr><tr><td>test_loss</td><td>0.01278</td></tr><tr><td>test_tpr</td><td>0.98148</td></tr><tr><td>train_accuracy</td><td>0.94206</td></tr><tr><td>train_auc_score</td><td>0.96818</td></tr><tr><td>train_f1_score</td><td>0.92979</td></tr><tr><td>train_fpr</td><td>0.04994</td></tr><tr><td>train_loss</td><td>0.00874</td></tr><tr><td>train_tpr</td><td>0.9317</td></tr></table><br/></div></div>"
      ],
      "text/plain": [
       "<IPython.core.display.HTML object>"
      ]
     },
     "metadata": {},
     "output_type": "display_data"
    },
    {
     "data": {
      "text/html": [
       "Synced <strong style=\"color:#cdcd00\">BL_512_1024_25_0.35</strong>: <a href=\"https://wandb.ai/dmitrii_fomin_uga/Internship_project/runs/1z7n7i0k\" target=\"_blank\">https://wandb.ai/dmitrii_fomin_uga/Internship_project/runs/1z7n7i0k</a><br/>Synced 6 W&B file(s), 0 media file(s), 0 artifact file(s) and 0 other file(s)"
      ],
      "text/plain": [
       "<IPython.core.display.HTML object>"
      ]
     },
     "metadata": {},
     "output_type": "display_data"
    },
    {
     "data": {
      "text/html": [
       "Find logs at: <code>../logs/wandb/run-20230611_010832-1z7n7i0k/logs</code>"
      ],
      "text/plain": [
       "<IPython.core.display.HTML object>"
      ]
     },
     "metadata": {},
     "output_type": "display_data"
    }
   ],
   "source": [
    "trainer.train_model(learning_params)\n",
    "wandb.finish()"
   ]
  }
 ],
 "metadata": {
  "kernelspec": {
   "display_name": "env1",
   "language": "python",
   "name": "python3"
  },
  "language_info": {
   "codemirror_mode": {
    "name": "ipython",
    "version": 3
   },
   "file_extension": ".py",
   "mimetype": "text/x-python",
   "name": "python",
   "nbconvert_exporter": "python",
   "pygments_lexer": "ipython3",
   "version": "3.9.15"
  },
  "orig_nbformat": 4
 },
 "nbformat": 4,
 "nbformat_minor": 2
}
